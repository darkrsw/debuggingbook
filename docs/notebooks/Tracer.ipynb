{
 "cells": [
  {
   "cell_type": "markdown",
   "metadata": {
    "button": false,
    "new_sheet": false,
    "run_control": {
     "read_only": false
    },
    "slideshow": {
     "slide_type": "slide"
    }
   },
   "source": [
    "# Tracing Executions\n",
    "\n",
    "In this chapter, we show how to _observe program state during an execution_ – a prerequisite for logging and interactive debugging. Thanks to the power of Python, we can do this in a few lines of code."
   ]
  },
  {
   "cell_type": "code",
   "execution_count": 1,
   "metadata": {
    "execution": {
     "iopub.execute_input": "2021-10-13T11:28:59.249461Z",
     "iopub.status.busy": "2021-10-13T11:28:59.248760Z",
     "iopub.status.idle": "2021-10-13T11:28:59.342893Z",
     "shell.execute_reply": "2021-10-13T11:28:59.343280Z"
    },
    "slideshow": {
     "slide_type": "skip"
    }
   },
   "outputs": [
    {
     "data": {
      "text/html": [
       "\n",
       "        <iframe\n",
       "            width=\"640\"\n",
       "            height=\"360\"\n",
       "            src=\"https://www.youtube-nocookie.com/embed/UYAvCl-5NGY\"\n",
       "            frameborder=\"0\"\n",
       "            allowfullscreen\n",
       "            \n",
       "        ></iframe>\n",
       "        "
      ],
      "text/plain": [
       "<IPython.lib.display.IFrame at 0x108712400>"
      ]
     },
     "execution_count": 1,
     "metadata": {},
     "output_type": "execute_result"
    }
   ],
   "source": [
    "from bookutils import YouTubeVideo\n",
    "YouTubeVideo(\"UYAvCl-5NGY\")"
   ]
  },
  {
   "cell_type": "markdown",
   "metadata": {
    "button": false,
    "new_sheet": false,
    "run_control": {
     "read_only": false
    },
    "slideshow": {
     "slide_type": "subslide"
    }
   },
   "source": [
    "**Prerequisites**\n",
    "\n",
    "* You should have read the [Introduction to Debugging](Intro_Debugging.ipynb).\n",
    "* Knowing a bit of _Python_ is helpful for understanding the code examples in the book."
   ]
  },
  {
   "cell_type": "code",
   "execution_count": 2,
   "metadata": {
    "button": false,
    "execution": {
     "iopub.execute_input": "2021-10-13T11:28:59.347128Z",
     "iopub.status.busy": "2021-10-13T11:28:59.346601Z",
     "iopub.status.idle": "2021-10-13T11:28:59.348464Z",
     "shell.execute_reply": "2021-10-13T11:28:59.348911Z"
    },
    "new_sheet": false,
    "run_control": {
     "read_only": false
    },
    "slideshow": {
     "slide_type": "skip"
    }
   },
   "outputs": [],
   "source": [
    "import bookutils"
   ]
  },
  {
   "cell_type": "code",
   "execution_count": 3,
   "metadata": {
    "execution": {
     "iopub.execute_input": "2021-10-13T11:28:59.352253Z",
     "iopub.status.busy": "2021-10-13T11:28:59.351693Z",
     "iopub.status.idle": "2021-10-13T11:28:59.353435Z",
     "shell.execute_reply": "2021-10-13T11:28:59.353878Z"
    },
    "slideshow": {
     "slide_type": "skip"
    }
   },
   "outputs": [],
   "source": [
    "from bookutils import quiz"
   ]
  },
  {
   "cell_type": "code",
   "execution_count": 4,
   "metadata": {
    "execution": {
     "iopub.execute_input": "2021-10-13T11:28:59.356960Z",
     "iopub.status.busy": "2021-10-13T11:28:59.356438Z",
     "iopub.status.idle": "2021-10-13T11:28:59.625481Z",
     "shell.execute_reply": "2021-10-13T11:28:59.625918Z"
    },
    "slideshow": {
     "slide_type": "skip"
    }
   },
   "outputs": [],
   "source": [
    "import Intro_Debugging"
   ]
  },
  {
   "cell_type": "markdown",
   "metadata": {
    "slideshow": {
     "slide_type": "skip"
    }
   },
   "source": [
    "## Synopsis\n",
    "<!-- Automatically generated. Do not edit. -->\n",
    "\n",
    "To [use the code provided in this chapter](Importing.ipynb), write\n",
    "\n",
    "```python\n",
    ">>> from debuggingbook.Tracer import <identifier>\n",
    "```\n",
    "\n",
    "and then make use of the following features.\n",
    "\n",
    "\n",
    "This chapter provides a `Tracer` class that allows to log events during program execution. The advanced subclass `EventTracer` allows to restrict logs to specific conditions. Logs are shown only while the given `condition` holds:\n",
    "\n",
    "```python\n",
    ">>> with EventTracer(condition='line == 223 or len(out) >= 6'):\n",
    ">>>     remove_html_markup('<b>foo</b>bar')\n",
    "...\n",
    "                                         # s = '<b>foo</b>bar', function = 'remove_html_markup', line = 243, tag = False, quote = False, out = 'foobar', c = 'r'\n",
    "243     for c in s:\n",
    "                                         # line = 255\n",
    "255     return out\n",
    "remove_html_markup() returns 'foobar'\n",
    "\n",
    "```\n",
    "It also allows to restrict logs to specific events. Log entries are shown only if one of the given `events` changes its value:\n",
    "\n",
    "```python\n",
    ">>> with EventTracer(events=[\"c == '/'\"]):\n",
    ">>>     remove_html_markup('<b>foo</b>bar')\n",
    "...\n",
    "Calling remove_html_markup(s = '<b>foo</b>bar', function = 'remove_html_markup', line = 238)\n",
    "...\n",
    "                                         # line = 244, tag = False, quote = False, out = '', c = '<'\n",
    "244         assert tag or not quote\n",
    "...\n",
    "                                         # tag = True, out = 'foo', c = '/'\n",
    "244         assert tag or not quote\n",
    "...\n",
    "                                         # c = 'b'\n",
    "244         assert tag or not quote\n",
    "\n",
    "```\n",
    "`Tracer` and `EventTracer` classes allow for subclassing and further customization.\n",
    "\n",
    "![](PICS/Tracer-synopsis-1.svg)\n",
    "\n"
   ]
  },
  {
   "cell_type": "markdown",
   "metadata": {
    "button": false,
    "new_sheet": false,
    "run_control": {
     "read_only": false
    },
    "slideshow": {
     "slide_type": "slide"
    }
   },
   "source": [
    "## Tracing Python Programs\n",
    "\n",
    "How do debugging tools access the state of a program during execution? For _interpreted_ languages such as Python, this is a simple task. If a language is interpreted, it is typically fairly easy to control execution and to inspect state – since this is what the interpreter is doing already anyway. Debuggers are then implemented on top of _hooks_ that allow to interrupt execution and access program state."
   ]
  },
  {
   "cell_type": "markdown",
   "metadata": {
    "button": false,
    "new_sheet": false,
    "run_control": {
     "read_only": false
    },
    "slideshow": {
     "slide_type": "subslide"
    }
   },
   "source": [
    "Python makes such a hook available in the function `sys.settrace()`. You invoke it with a *tracing function* that will be called at every line executed, as in\n",
    "\n",
    "```python\n",
    "sys.settrace(traceit)\n",
    "```\n",
    "\n",
    "Such a tracing function is convenient, as it simply traces _everything_. In contrast to an interactive debugger, where you have to select which aspect of the execution you're interested in, you can just print out a long trace into an *execution log*, to examine it later.\n",
    "\n",
    "This tracing function takes the format"
   ]
  },
  {
   "cell_type": "code",
   "execution_count": 5,
   "metadata": {
    "execution": {
     "iopub.execute_input": "2021-10-13T11:28:59.630222Z",
     "iopub.status.busy": "2021-10-13T11:28:59.629575Z",
     "iopub.status.idle": "2021-10-13T11:28:59.631042Z",
     "shell.execute_reply": "2021-10-13T11:28:59.631844Z"
    },
    "slideshow": {
     "slide_type": "skip"
    }
   },
   "outputs": [],
   "source": [
    "from types import FrameType, TracebackType"
   ]
  },
  {
   "cell_type": "code",
   "execution_count": 6,
   "metadata": {
    "execution": {
     "iopub.execute_input": "2021-10-13T11:28:59.635260Z",
     "iopub.status.busy": "2021-10-13T11:28:59.634702Z",
     "iopub.status.idle": "2021-10-13T11:28:59.636111Z",
     "shell.execute_reply": "2021-10-13T11:28:59.636654Z"
    },
    "slideshow": {
     "slide_type": "subslide"
    }
   },
   "outputs": [],
   "source": [
    "# ignore\n",
    "from typing import Any, Optional, Callable, Dict, List, Type, TextIO, cast"
   ]
  },
  {
   "cell_type": "code",
   "execution_count": 7,
   "metadata": {
    "execution": {
     "iopub.execute_input": "2021-10-13T11:28:59.639727Z",
     "iopub.status.busy": "2021-10-13T11:28:59.639211Z",
     "iopub.status.idle": "2021-10-13T11:28:59.640816Z",
     "shell.execute_reply": "2021-10-13T11:28:59.641359Z"
    },
    "slideshow": {
     "slide_type": "fragment"
    }
   },
   "outputs": [],
   "source": [
    "def traceit(frame: FrameType, event: str, arg: Any) -> Optional[Callable]:\n",
    "    ..."
   ]
  },
  {
   "cell_type": "markdown",
   "metadata": {
    "slideshow": {
     "slide_type": "fragment"
    }
   },
   "source": [
    "Here, `event` is a string telling what has happened in the program – for instance,\n",
    "\n",
    "* `'line'` – a new line is executed\n",
    "* `'call'` – a function just has been called\n",
    "* `'return'` – a function returns"
   ]
  },
  {
   "cell_type": "markdown",
   "metadata": {
    "slideshow": {
     "slide_type": "subslide"
    }
   },
   "source": [
    "The `frame` argument holds the current execution frame – that is, the function and its local variables:\n",
    "\n",
    "* `frame.f_lineno` – the current line\n",
    "* `frame.f_locals` – the current variables (as a Python dictionary)\n",
    "* `frame.f_code` – the current code (as a Code object), with attributes such as\n",
    "    * `frame.f_code.co_name` – the name of the current function"
   ]
  },
  {
   "cell_type": "markdown",
   "metadata": {
    "slideshow": {
     "slide_type": "fragment"
    }
   },
   "source": [
    "We can thus get a *trace* of the program by simply printing out these values:"
   ]
  },
  {
   "cell_type": "code",
   "execution_count": 8,
   "metadata": {
    "execution": {
     "iopub.execute_input": "2021-10-13T11:28:59.645125Z",
     "iopub.status.busy": "2021-10-13T11:28:59.644589Z",
     "iopub.status.idle": "2021-10-13T11:28:59.646046Z",
     "shell.execute_reply": "2021-10-13T11:28:59.646431Z"
    },
    "slideshow": {
     "slide_type": "fragment"
    }
   },
   "outputs": [],
   "source": [
    "def traceit(frame: FrameType, event: str, arg: Any) -> Optional[Callable]:  # type: ignore\n",
    "    print(event, frame.f_lineno, frame.f_code.co_name, frame.f_locals)"
   ]
  },
  {
   "cell_type": "markdown",
   "metadata": {
    "slideshow": {
     "slide_type": "subslide"
    }
   },
   "source": [
    "The return value of the trace function is the function to be executed at the next event – typically, this is the function itself:"
   ]
  },
  {
   "cell_type": "code",
   "execution_count": 9,
   "metadata": {
    "execution": {
     "iopub.execute_input": "2021-10-13T11:28:59.649913Z",
     "iopub.status.busy": "2021-10-13T11:28:59.649404Z",
     "iopub.status.idle": "2021-10-13T11:28:59.651061Z",
     "shell.execute_reply": "2021-10-13T11:28:59.651426Z"
    },
    "slideshow": {
     "slide_type": "fragment"
    }
   },
   "outputs": [],
   "source": [
    "def traceit(frame: FrameType, event: str, arg: Any) -> Optional[Callable]:  # type: ignore\n",
    "    print(event, frame.f_lineno, frame.f_code.co_name, frame.f_locals)\n",
    "    return traceit"
   ]
  },
  {
   "cell_type": "markdown",
   "metadata": {
    "slideshow": {
     "slide_type": "fragment"
    }
   },
   "source": [
    "Let us try this out on the `remove_html_markup()` function introduced in the [Introduction to Debugging](Intro_Debugging.ipynb):"
   ]
  },
  {
   "cell_type": "code",
   "execution_count": 10,
   "metadata": {
    "execution": {
     "iopub.execute_input": "2021-10-13T11:28:59.654521Z",
     "iopub.status.busy": "2021-10-13T11:28:59.653962Z",
     "iopub.status.idle": "2021-10-13T11:28:59.655580Z",
     "shell.execute_reply": "2021-10-13T11:28:59.655969Z"
    },
    "slideshow": {
     "slide_type": "skip"
    }
   },
   "outputs": [],
   "source": [
    "from Intro_Debugging import remove_html_markup"
   ]
  },
  {
   "cell_type": "code",
   "execution_count": 11,
   "metadata": {
    "execution": {
     "iopub.execute_input": "2021-10-13T11:28:59.658769Z",
     "iopub.status.busy": "2021-10-13T11:28:59.658257Z",
     "iopub.status.idle": "2021-10-13T11:28:59.659999Z",
     "shell.execute_reply": "2021-10-13T11:28:59.660375Z"
    },
    "slideshow": {
     "slide_type": "skip"
    }
   },
   "outputs": [],
   "source": [
    "import inspect"
   ]
  },
  {
   "cell_type": "code",
   "execution_count": 12,
   "metadata": {
    "execution": {
     "iopub.execute_input": "2021-10-13T11:28:59.663342Z",
     "iopub.status.busy": "2021-10-13T11:28:59.662789Z",
     "iopub.status.idle": "2021-10-13T11:28:59.664298Z",
     "shell.execute_reply": "2021-10-13T11:28:59.664670Z"
    },
    "slideshow": {
     "slide_type": "skip"
    }
   },
   "outputs": [],
   "source": [
    "from bookutils import print_content"
   ]
  },
  {
   "cell_type": "code",
   "execution_count": 13,
   "metadata": {
    "execution": {
     "iopub.execute_input": "2021-10-13T11:28:59.717588Z",
     "iopub.status.busy": "2021-10-13T11:28:59.701110Z",
     "iopub.status.idle": "2021-10-13T11:28:59.886835Z",
     "shell.execute_reply": "2021-10-13T11:28:59.887231Z"
    },
    "slideshow": {
     "slide_type": "subslide"
    }
   },
   "outputs": [
    {
     "name": "stdout",
     "output_type": "stream",
     "text": [
      "238  \u001b[34mdef\u001b[39;49;00m \u001b[32mremove_html_markup\u001b[39;49;00m(s):  \u001b[37m# type: ignore\u001b[39;49;00m\n",
      "239      tag = \u001b[34mFalse\u001b[39;49;00m\n",
      "240      quote = \u001b[34mFalse\u001b[39;49;00m\n",
      "241      out = \u001b[33m\"\u001b[39;49;00m\u001b[33m\"\u001b[39;49;00m\n",
      "242  \n",
      "243      \u001b[34mfor\u001b[39;49;00m c \u001b[35min\u001b[39;49;00m s:\n",
      "244          \u001b[34massert\u001b[39;49;00m tag \u001b[35mor\u001b[39;49;00m \u001b[35mnot\u001b[39;49;00m quote\n",
      "245  \n",
      "246          \u001b[34mif\u001b[39;49;00m c == \u001b[33m'\u001b[39;49;00m\u001b[33m<\u001b[39;49;00m\u001b[33m'\u001b[39;49;00m \u001b[35mand\u001b[39;49;00m \u001b[35mnot\u001b[39;49;00m quote:\n",
      "247              tag = \u001b[34mTrue\u001b[39;49;00m\n",
      "248          \u001b[34melif\u001b[39;49;00m c == \u001b[33m'\u001b[39;49;00m\u001b[33m>\u001b[39;49;00m\u001b[33m'\u001b[39;49;00m \u001b[35mand\u001b[39;49;00m \u001b[35mnot\u001b[39;49;00m quote:\n",
      "249              tag = \u001b[34mFalse\u001b[39;49;00m\n",
      "250          \u001b[34melif\u001b[39;49;00m (c == \u001b[33m'\u001b[39;49;00m\u001b[33m\"\u001b[39;49;00m\u001b[33m'\u001b[39;49;00m \u001b[35mor\u001b[39;49;00m c == \u001b[33m\"\u001b[39;49;00m\u001b[33m'\u001b[39;49;00m\u001b[33m\"\u001b[39;49;00m) \u001b[35mand\u001b[39;49;00m tag:\n",
      "251              quote = \u001b[35mnot\u001b[39;49;00m quote\n",
      "252          \u001b[34melif\u001b[39;49;00m \u001b[35mnot\u001b[39;49;00m tag:\n",
      "253              out = out + c\n",
      "254  \n",
      "255      \u001b[34mreturn\u001b[39;49;00m out"
     ]
    }
   ],
   "source": [
    "content, start_line_number = inspect.getsourcelines(remove_html_markup)\n",
    "print_content(content=\"\".join(content).strip(), filename='.py', start_line_number=start_line_number)"
   ]
  },
  {
   "cell_type": "markdown",
   "metadata": {
    "slideshow": {
     "slide_type": "subslide"
    }
   },
   "source": [
    "We define a variant `remove_html_markup_traced()` which turns on tracing, invokes `remove_html_markup()`, and turns tracing off again."
   ]
  },
  {
   "cell_type": "code",
   "execution_count": 14,
   "metadata": {
    "execution": {
     "iopub.execute_input": "2021-10-13T11:28:59.894573Z",
     "iopub.status.busy": "2021-10-13T11:28:59.894040Z",
     "iopub.status.idle": "2021-10-13T11:28:59.895875Z",
     "shell.execute_reply": "2021-10-13T11:28:59.896301Z"
    },
    "slideshow": {
     "slide_type": "skip"
    }
   },
   "outputs": [],
   "source": [
    "import sys"
   ]
  },
  {
   "cell_type": "code",
   "execution_count": 15,
   "metadata": {
    "execution": {
     "iopub.execute_input": "2021-10-13T11:28:59.900208Z",
     "iopub.status.busy": "2021-10-13T11:28:59.899582Z",
     "iopub.status.idle": "2021-10-13T11:28:59.901196Z",
     "shell.execute_reply": "2021-10-13T11:28:59.901591Z"
    },
    "slideshow": {
     "slide_type": "fragment"
    }
   },
   "outputs": [],
   "source": [
    "def remove_html_markup_traced(s):  # type: ignore\n",
    "    sys.settrace(traceit)\n",
    "    ret = remove_html_markup(s)\n",
    "    sys.settrace(None)\n",
    "    return ret"
   ]
  },
  {
   "cell_type": "markdown",
   "metadata": {
    "slideshow": {
     "slide_type": "fragment"
    }
   },
   "source": [
    "Here is what we get when we run `remove_html_markup_traced()`:\n",
    "* We first get a `call` event (showing the call of `remove_html_markup()`)\n",
    "* We then get various `line` events (for each line of `remove_html_markup()`)\n",
    "* In the end, we get a `return` event (showing the return from `remove_html_markup()`)"
   ]
  },
  {
   "cell_type": "code",
   "execution_count": 16,
   "metadata": {
    "execution": {
     "iopub.execute_input": "2021-10-13T11:28:59.906418Z",
     "iopub.status.busy": "2021-10-13T11:28:59.905895Z",
     "iopub.status.idle": "2021-10-13T11:28:59.909066Z",
     "shell.execute_reply": "2021-10-13T11:28:59.909437Z"
    },
    "slideshow": {
     "slide_type": "subslide"
    }
   },
   "outputs": [
    {
     "name": "stdout",
     "output_type": "stream",
     "text": [
      "call 238 remove_html_markup {'s': 'xyz'}\n",
      "line 239 remove_html_markup {'s': 'xyz'}\n",
      "line 240 remove_html_markup {'s': 'xyz', 'tag': False}\n",
      "line 241 remove_html_markup {'s': 'xyz', 'tag': False, 'quote': False}\n",
      "line 243 remove_html_markup {'s': 'xyz', 'tag': False, 'quote': False, 'out': ''}\n",
      "line 244 remove_html_markup {'s': 'xyz', 'tag': False, 'quote': False, 'out': '', 'c': 'x'}\n",
      "line 246 remove_html_markup {'s': 'xyz', 'tag': False, 'quote': False, 'out': '', 'c': 'x'}\n",
      "line 248 remove_html_markup {'s': 'xyz', 'tag': False, 'quote': False, 'out': '', 'c': 'x'}\n",
      "line 250 remove_html_markup {'s': 'xyz', 'tag': False, 'quote': False, 'out': '', 'c': 'x'}\n",
      "line 252 remove_html_markup {'s': 'xyz', 'tag': False, 'quote': False, 'out': '', 'c': 'x'}\n",
      "line 253 remove_html_markup {'s': 'xyz', 'tag': False, 'quote': False, 'out': '', 'c': 'x'}\n",
      "line 243 remove_html_markup {'s': 'xyz', 'tag': False, 'quote': False, 'out': 'x', 'c': 'x'}\n",
      "line 244 remove_html_markup {'s': 'xyz', 'tag': False, 'quote': False, 'out': 'x', 'c': 'y'}\n",
      "line 246 remove_html_markup {'s': 'xyz', 'tag': False, 'quote': False, 'out': 'x', 'c': 'y'}\n",
      "line 248 remove_html_markup {'s': 'xyz', 'tag': False, 'quote': False, 'out': 'x', 'c': 'y'}\n",
      "line 250 remove_html_markup {'s': 'xyz', 'tag': False, 'quote': False, 'out': 'x', 'c': 'y'}\n",
      "line 252 remove_html_markup {'s': 'xyz', 'tag': False, 'quote': False, 'out': 'x', 'c': 'y'}\n",
      "line 253 remove_html_markup {'s': 'xyz', 'tag': False, 'quote': False, 'out': 'x', 'c': 'y'}\n",
      "line 243 remove_html_markup {'s': 'xyz', 'tag': False, 'quote': False, 'out': 'xy', 'c': 'y'}\n",
      "line 244 remove_html_markup {'s': 'xyz', 'tag': False, 'quote': False, 'out': 'xy', 'c': 'z'}\n",
      "line 246 remove_html_markup {'s': 'xyz', 'tag': False, 'quote': False, 'out': 'xy', 'c': 'z'}\n",
      "line 248 remove_html_markup {'s': 'xyz', 'tag': False, 'quote': False, 'out': 'xy', 'c': 'z'}\n",
      "line 250 remove_html_markup {'s': 'xyz', 'tag': False, 'quote': False, 'out': 'xy', 'c': 'z'}\n",
      "line 252 remove_html_markup {'s': 'xyz', 'tag': False, 'quote': False, 'out': 'xy', 'c': 'z'}\n",
      "line 253 remove_html_markup {'s': 'xyz', 'tag': False, 'quote': False, 'out': 'xy', 'c': 'z'}\n",
      "line 243 remove_html_markup {'s': 'xyz', 'tag': False, 'quote': False, 'out': 'xyz', 'c': 'z'}\n",
      "line 255 remove_html_markup {'s': 'xyz', 'tag': False, 'quote': False, 'out': 'xyz', 'c': 'z'}\n",
      "return 255 remove_html_markup {'s': 'xyz', 'tag': False, 'quote': False, 'out': 'xyz', 'c': 'z'}\n"
     ]
    },
    {
     "data": {
      "text/plain": [
       "'xyz'"
      ]
     },
     "execution_count": 16,
     "metadata": {},
     "output_type": "execute_result"
    }
   ],
   "source": [
    "remove_html_markup_traced('xyz')"
   ]
  },
  {
   "cell_type": "markdown",
   "metadata": {
    "slideshow": {
     "slide_type": "subslide"
    }
   },
   "source": [
    "During the execution, we also see all local _variables_. As `remove_html_markup()` is called at the very beginning, the parameter `s` holds the argument `\"xyz\"`. As more local variables are being assigned, these show up in our dictionary of local variables."
   ]
  },
  {
   "cell_type": "markdown",
   "metadata": {
    "slideshow": {
     "slide_type": "fragment"
    }
   },
   "source": [
    "We see how the variable `c` takes one character of the input string at a time; the `out` variable accumulates them.  and the `tag` and `quote` flags stay unchanged throughout the execution."
   ]
  },
  {
   "cell_type": "markdown",
   "metadata": {
    "slideshow": {
     "slide_type": "fragment"
    }
   },
   "source": [
    "An interesting aspect is that we can actually _access_ all these local variables as regular Python objects. We can, for instance, separately access the value of `c` by looking up `frame.f_locals['c']`:"
   ]
  },
  {
   "cell_type": "code",
   "execution_count": 17,
   "metadata": {
    "execution": {
     "iopub.execute_input": "2021-10-13T11:28:59.914026Z",
     "iopub.status.busy": "2021-10-13T11:28:59.913407Z",
     "iopub.status.idle": "2021-10-13T11:28:59.915162Z",
     "shell.execute_reply": "2021-10-13T11:28:59.915605Z"
    },
    "slideshow": {
     "slide_type": "subslide"
    }
   },
   "outputs": [],
   "source": [
    "def traceit(frame: FrameType, event: str, arg: Any) -> Optional[Callable]:  # type: ignore\n",
    "    if 'c' in frame.f_locals:\n",
    "        value_of_c = frame.f_locals['c']\n",
    "        print(f\"{frame.f_lineno:} c = {repr(value_of_c)}\")\n",
    "    else:\n",
    "        print(f\"{frame.f_lineno:} c is undefined\")\n",
    "\n",
    "    return traceit"
   ]
  },
  {
   "cell_type": "markdown",
   "metadata": {
    "slideshow": {
     "slide_type": "fragment"
    }
   },
   "source": [
    "This allows us to specifically monitor individual variables:"
   ]
  },
  {
   "cell_type": "code",
   "execution_count": 18,
   "metadata": {
    "execution": {
     "iopub.execute_input": "2021-10-13T11:28:59.919902Z",
     "iopub.status.busy": "2021-10-13T11:28:59.919316Z",
     "iopub.status.idle": "2021-10-13T11:28:59.922422Z",
     "shell.execute_reply": "2021-10-13T11:28:59.922856Z"
    },
    "slideshow": {
     "slide_type": "subslide"
    }
   },
   "outputs": [
    {
     "name": "stdout",
     "output_type": "stream",
     "text": [
      "238 c is undefined\n",
      "239 c is undefined\n",
      "240 c is undefined\n",
      "241 c is undefined\n",
      "243 c is undefined\n",
      "244 c = 'x'\n",
      "246 c = 'x'\n",
      "248 c = 'x'\n",
      "250 c = 'x'\n",
      "252 c = 'x'\n",
      "253 c = 'x'\n",
      "243 c = 'x'\n",
      "244 c = 'y'\n",
      "246 c = 'y'\n",
      "248 c = 'y'\n",
      "250 c = 'y'\n",
      "252 c = 'y'\n",
      "253 c = 'y'\n",
      "243 c = 'y'\n",
      "244 c = 'z'\n",
      "246 c = 'z'\n",
      "248 c = 'z'\n",
      "250 c = 'z'\n",
      "252 c = 'z'\n",
      "253 c = 'z'\n",
      "243 c = 'z'\n",
      "255 c = 'z'\n",
      "255 c = 'z'\n"
     ]
    },
    {
     "data": {
      "text/plain": [
       "'xyz'"
      ]
     },
     "execution_count": 18,
     "metadata": {},
     "output_type": "execute_result"
    }
   ],
   "source": [
    "remove_html_markup_traced('xyz')"
   ]
  },
  {
   "cell_type": "markdown",
   "metadata": {
    "slideshow": {
     "slide_type": "subslide"
    }
   },
   "source": [
    "This tracing capability is tremendously powerful – actually, it is one of the reasons this book uses Python all over the place. In most other languages, inspecting the program state during execution is much more complex than the handful of lines we have needed so far."
   ]
  },
  {
   "cell_type": "markdown",
   "metadata": {
    "slideshow": {
     "slide_type": "fragment"
    }
   },
   "source": [
    "To learn more about `sys.settrace()`, spend a moment to look up [its documentation in the Python reference](https://docs.python.org/3/library/sys.html)."
   ]
  },
  {
   "cell_type": "code",
   "execution_count": 19,
   "metadata": {
    "execution": {
     "iopub.execute_input": "2021-10-13T11:28:59.926025Z",
     "iopub.status.busy": "2021-10-13T11:28:59.925479Z",
     "iopub.status.idle": "2021-10-13T11:28:59.927239Z",
     "shell.execute_reply": "2021-10-13T11:28:59.927615Z"
    },
    "slideshow": {
     "slide_type": "fragment"
    }
   },
   "outputs": [],
   "source": [
    "# ignore\n",
    "import math"
   ]
  },
  {
   "cell_type": "code",
   "execution_count": 20,
   "metadata": {
    "execution": {
     "iopub.execute_input": "2021-10-13T11:28:59.936095Z",
     "iopub.status.busy": "2021-10-13T11:28:59.935550Z",
     "iopub.status.idle": "2021-10-13T11:28:59.938092Z",
     "shell.execute_reply": "2021-10-13T11:28:59.938467Z"
    },
    "slideshow": {
     "slide_type": "subslide"
    }
   },
   "outputs": [
    {
     "data": {
      "text/html": [
       "\n",
       "    \n",
       "    <script>\n",
       "    var bad_answers = new Map();\n",
       "\n",
       "    function answer(quiz_id) {\n",
       "        ans = 0;\n",
       "        for (i = 1;; i++) {\n",
       "            checkbox = document.getElementById(quiz_id + \"-\" + i.toString());\n",
       "            if (!checkbox)\n",
       "                break;\n",
       "            if (checkbox.checked)\n",
       "                ans |= (1 << i);\n",
       "        }\n",
       "        return ans;\n",
       "    }\n",
       "    function check_selection(quiz_id, correct_answer, multiple_choice, hint) {\n",
       "        given_answer = answer(quiz_id);\n",
       "        if (given_answer == correct_answer)\n",
       "        {\n",
       "            document.getElementById(quiz_id + \"-submit\").value = \"Correct!\";\n",
       "            document.getElementById(quiz_id + \"-hint\").innerHTML = \"\";\n",
       "\n",
       "            for (i = 1;; i++) {\n",
       "                checkbox = document.getElementById(quiz_id + \"-\" + i.toString());\n",
       "                label = document.getElementById(quiz_id + \"-\" + i.toString() + \"-label\")\n",
       "                if (!checkbox)\n",
       "                    break;\n",
       "    \n",
       "                if (checkbox.checked) {\n",
       "                    label.style.fontWeight = \"bold\";\n",
       "                }\n",
       "                else {\n",
       "                    label.style.textDecoration = \"line-through\";\n",
       "                }\n",
       "            }\n",
       "        }\n",
       "        else \n",
       "        {\n",
       "            document.getElementById(quiz_id + \"-submit\").value = \"Try again\";\n",
       "            \n",
       "            if (!bad_answers.has(quiz_id)) {\n",
       "                bad_answers.set(quiz_id, 1);\n",
       "            }\n",
       "            else {\n",
       "                bad_answers.set(quiz_id, bad_answers.get(quiz_id) + 1);\n",
       "            }\n",
       "\n",
       "            if (bad_answers.get(quiz_id) >= 2 && hint.length > 0) {\n",
       "                document.getElementById(quiz_id + \"-hint\").innerHTML = \n",
       "                    \"&nbsp;&nbsp;(Hint: <code>\" + hint + \"</code>)\";\n",
       "            }\n",
       "\n",
       "            if (!multiple_choice) {\n",
       "                for (i = 1;; i++) {\n",
       "                    checkbox = document.getElementById(quiz_id + \"-\" + i.toString());\n",
       "                    label = document.getElementById(quiz_id + \"-\" + i.toString() + \"-label\")\n",
       "\n",
       "                    if (!checkbox)\n",
       "                        break;\n",
       "                    if (checkbox.checked) {\n",
       "                        label.style.textDecoration = \"line-through\";\n",
       "                    }\n",
       "                }\n",
       "            }\n",
       "        }\n",
       "    }\n",
       "    function clear_selection(quiz_id) {\n",
       "        document.getElementById(quiz_id + \"-submit\").value = \"Submit\";\n",
       "        document.getElementById(quiz_id + \"-hint\").innerHTML = \"\";\n",
       "    }\n",
       "    </script>\n",
       "    \n",
       "    <div class=\"quiz\">\n",
       "    <h3 class=\"quiz_title\">Quiz</h3>\n",
       "    <p>\n",
       "    <div class=\"quiz_question\">What happens if the tracing function returns <code>None</code> while tracing function <code>f()</code>? (You can also try this out yourself.)</div>\n",
       "    </p>\n",
       "    <p>\n",
       "    <div class=\"quiz_options\" title=\"Pick a choice.\">\n",
       "    \n",
       "        <input type=\"radio\" name=\"c2b7b23c-2c18-11ec-9a7b-acde48001122\" id=\"c2b7b23c-2c18-11ec-9a7b-acde48001122-1\" onclick=\"clear_selection('c2b7b23c-2c18-11ec-9a7b-acde48001122')\">\n",
       "        <label id=\"c2b7b23c-2c18-11ec-9a7b-acde48001122-1-label\" for=\"c2b7b23c-2c18-11ec-9a7b-acde48001122-1\">Tracing stops for all functions; the tracing function is no longer called</label><br>\n",
       "    \n",
       "        <input type=\"radio\" name=\"c2b7b23c-2c18-11ec-9a7b-acde48001122\" id=\"c2b7b23c-2c18-11ec-9a7b-acde48001122-2\" onclick=\"clear_selection('c2b7b23c-2c18-11ec-9a7b-acde48001122')\">\n",
       "        <label id=\"c2b7b23c-2c18-11ec-9a7b-acde48001122-2-label\" for=\"c2b7b23c-2c18-11ec-9a7b-acde48001122-2\">Tracing stops for <code>f()</code>: the tracing function is called when <code>f()</code> returns</label><br>\n",
       "    \n",
       "        <input type=\"radio\" name=\"c2b7b23c-2c18-11ec-9a7b-acde48001122\" id=\"c2b7b23c-2c18-11ec-9a7b-acde48001122-3\" onclick=\"clear_selection('c2b7b23c-2c18-11ec-9a7b-acde48001122')\">\n",
       "        <label id=\"c2b7b23c-2c18-11ec-9a7b-acde48001122-3-label\" for=\"c2b7b23c-2c18-11ec-9a7b-acde48001122-3\">Tracing stops for <code>f()</code> the rest of the execution: the tracing function is no longer called for calls to <code>f()</code></label><br>\n",
       "    \n",
       "        <input type=\"radio\" name=\"c2b7b23c-2c18-11ec-9a7b-acde48001122\" id=\"c2b7b23c-2c18-11ec-9a7b-acde48001122-4\" onclick=\"clear_selection('c2b7b23c-2c18-11ec-9a7b-acde48001122')\">\n",
       "        <label id=\"c2b7b23c-2c18-11ec-9a7b-acde48001122-4-label\" for=\"c2b7b23c-2c18-11ec-9a7b-acde48001122-4\">Nothing changes</label><br>\n",
       "    \n",
       "    </div>\n",
       "    </p>\n",
       "    <input id=\"c2b7b23c-2c18-11ec-9a7b-acde48001122-submit\" type=\"submit\" value=\"Submit\" onclick=\"check_selection('c2b7b23c-2c18-11ec-9a7b-acde48001122', 4, 0, 'int(math.log(7.38905609893065))')\">\n",
       "    <span class=\"quiz_hint\" id=\"c2b7b23c-2c18-11ec-9a7b-acde48001122-hint\"></span>\n",
       "    </div>\n",
       "    "
      ],
      "text/plain": [
       "<IPython.core.display.HTML object>"
      ]
     },
     "execution_count": 20,
     "metadata": {},
     "output_type": "execute_result"
    }
   ],
   "source": [
    "quiz(\"What happens if the tracing function returns `None` while tracing function `f()`?\"\n",
    "     \" (You can also try this out yourself.)\",\n",
    "     [\n",
    "         'Tracing stops for all functions;'\n",
    "         ' the tracing function is no longer called',\n",
    "         'Tracing stops for `f()`: the tracing function is called when `f()` returns',\n",
    "         'Tracing stops for `f()` the rest of the execution: the tracing function'\n",
    "         ' is no longer called for calls to `f()`',\n",
    "         'Nothing changes'\n",
    "     ], \"int(math.log(7.38905609893065))\", globals())"
   ]
  },
  {
   "cell_type": "markdown",
   "metadata": {
    "slideshow": {
     "slide_type": "fragment"
    }
   },
   "source": [
    "Indeed, as listed in the documentation: if `sys.settrace()` returns `None`, then tracing stops for the current scope; tracing will resume when the current function returns. This can be helpful for momentarily disable (expensive) tracing."
   ]
  },
  {
   "cell_type": "markdown",
   "metadata": {
    "slideshow": {
     "slide_type": "slide"
    }
   },
   "source": [
    "## A Tracer Class"
   ]
  },
  {
   "cell_type": "markdown",
   "metadata": {
    "slideshow": {
     "slide_type": "fragment"
    }
   },
   "source": [
    "Let us refine our tracing function a bit. First, it would be nice if one could actually _customize_ tracing just as needed. To this end, we introduce a `Tracer` class that does all the formatting for us, and which can be _subclassed_ to allow for different output formats."
   ]
  },
  {
   "cell_type": "markdown",
   "metadata": {
    "slideshow": {
     "slide_type": "fragment"
    }
   },
   "source": [
    "The `traceit()` method in `Tracer` is the same as above, and again is set up via `sys.settrace()`. It uses a `log()` method after the Python `print()` function."
   ]
  },
  {
   "cell_type": "markdown",
   "metadata": {
    "slideshow": {
     "slide_type": "subslide"
    }
   },
   "source": [
    "The typical usage of `Tracer`, however, is as follows:\n",
    "\n",
    "```python\n",
    "with Tracer():\n",
    "    # Code to be traced\n",
    "    ...\n",
    "\n",
    "# Code no longer traced\n",
    "...\n",
    "```\n",
    "\n",
    "When the `with` statement is encountered, the `__enter__()` method is called, which starts tracing. When the `with` block ends, the `__exit__()` method is called, and tracing is turned off. We take special care that the internal `__exit__()` method is not part of the trace, and that any other tracing function that was active before is being restored."
   ]
  },
  {
   "cell_type": "markdown",
   "metadata": {
    "slideshow": {
     "slide_type": "subslide"
    }
   },
   "source": [
    "We build `Tracer` on top of a class named `StackInspector`, whose `our_frame()` and `is_internal_error()` methods us with providing better diagnostics in case of error."
   ]
  },
  {
   "cell_type": "code",
   "execution_count": 21,
   "metadata": {
    "execution": {
     "iopub.execute_input": "2021-10-13T11:28:59.942978Z",
     "iopub.status.busy": "2021-10-13T11:28:59.942264Z",
     "iopub.status.idle": "2021-10-13T11:29:00.119933Z",
     "shell.execute_reply": "2021-10-13T11:29:00.120327Z"
    },
    "slideshow": {
     "slide_type": "skip"
    }
   },
   "outputs": [],
   "source": [
    "from StackInspector import StackInspector"
   ]
  },
  {
   "cell_type": "code",
   "execution_count": 22,
   "metadata": {
    "execution": {
     "iopub.execute_input": "2021-10-13T11:29:00.128387Z",
     "iopub.status.busy": "2021-10-13T11:29:00.122814Z",
     "iopub.status.idle": "2021-10-13T11:29:00.130192Z",
     "shell.execute_reply": "2021-10-13T11:29:00.130573Z"
    },
    "slideshow": {
     "slide_type": "subslide"
    }
   },
   "outputs": [],
   "source": [
    "class Tracer(StackInspector):\n",
    "    \"\"\"A class for tracing a piece of code. Use as `with Tracer(): block()`\"\"\"\n",
    "\n",
    "    def __init__(self, *, file: TextIO = sys.stdout) -> None:\n",
    "        \"\"\"Trace a block of code, sending logs to `file` (default: stdout)\"\"\"\n",
    "        self.original_trace_function: Optional[Callable] = None\n",
    "        self.file = file\n",
    "\n",
    "    def traceit(self, frame: FrameType, event: str, arg: Any) -> None:\n",
    "        \"\"\"Tracing function. To be overridden in subclasses.\"\"\"\n",
    "        self.log(event, frame.f_lineno, frame.f_code.co_name, frame.f_locals)\n",
    "\n",
    "    def _traceit(self, frame: FrameType, event: str, arg: Any) -> Optional[Callable]:\n",
    "        \"\"\"Internal tracing function.\"\"\"\n",
    "        if self.our_frame(frame):\n",
    "            # Do not trace our own methods\n",
    "            pass\n",
    "        else:\n",
    "            self.traceit(frame, event, arg)\n",
    "        return self._traceit\n",
    "\n",
    "    def log(self, *objects: Any, \n",
    "            sep: str = ' ', end: str = '\\n', \n",
    "            flush: bool = True) -> None:\n",
    "        \"\"\"\n",
    "        Like `print()`, but always sending to `file` given at initialization,\n",
    "        and flushing by default.\n",
    "        \"\"\"\n",
    "        print(*objects, sep=sep, end=end, file=self.file, flush=flush)\n",
    "\n",
    "    def __enter__(self) -> Any:\n",
    "        \"\"\"Called at begin of `with` block. Turn tracing on.\"\"\"\n",
    "        self.original_trace_function = sys.gettrace()\n",
    "        sys.settrace(self._traceit)\n",
    "\n",
    "        # This extra line also enables tracing for the current block\n",
    "        # inspect.currentframe().f_back.f_trace = self._traceit\n",
    "        return self\n",
    "\n",
    "    def __exit__(self, exc_tp: Type, exc_value: BaseException, \n",
    "                 exc_traceback: TracebackType) -> Optional[bool]:\n",
    "        \"\"\"\n",
    "        Called at end of `with` block. Turn tracing off.\n",
    "        Return `None` if ok, not `None` if internal error.\n",
    "        \"\"\"\n",
    "        sys.settrace(self.original_trace_function)\n",
    "\n",
    "        # Note: we must return a non-True value here,\n",
    "        # such that we re-raise all exceptions\n",
    "        if self.is_internal_error(exc_tp, exc_value, exc_traceback):\n",
    "            return False  # internal error\n",
    "        else:\n",
    "            return None  # all ok"
   ]
  },
  {
   "cell_type": "markdown",
   "metadata": {
    "slideshow": {
     "slide_type": "subslide"
    }
   },
   "source": [
    "Here's how we use the `Tracer` class. You see that everything works as before, except that it is nicer to use:"
   ]
  },
  {
   "cell_type": "code",
   "execution_count": 23,
   "metadata": {
    "execution": {
     "iopub.execute_input": "2021-10-13T11:29:00.133851Z",
     "iopub.status.busy": "2021-10-13T11:29:00.133283Z",
     "iopub.status.idle": "2021-10-13T11:29:00.158204Z",
     "shell.execute_reply": "2021-10-13T11:29:00.146070Z"
    },
    "slideshow": {
     "slide_type": "subslide"
    }
   },
   "outputs": [
    {
     "name": "stdout",
     "output_type": "stream",
     "text": [
      "call 238 remove_html_markup {'s': 'abc'}\n",
      "line 239 remove_html_markup {'s': 'abc'}\n",
      "line 240 remove_html_markup {'s': 'abc', 'tag': False}\n",
      "line 241 remove_html_markup {'s': 'abc', 'tag': False, 'quote': False}\n",
      "line 243 remove_html_markup {'s': 'abc', 'tag': False, 'quote': False, 'out': ''}\n",
      "line 244 remove_html_markup {'s': 'abc', 'tag': False, 'quote': False, 'out': '', 'c': 'a'}\n",
      "line 246 remove_html_markup {'s': 'abc', 'tag': False, 'quote': False, 'out': '', 'c': 'a'}\n",
      "line 248 remove_html_markup {'s': 'abc', 'tag': False, 'quote': False, 'out': '', 'c': 'a'}\n",
      "line 250 remove_html_markup {'s': 'abc', 'tag': False, 'quote': False, 'out': '', 'c': 'a'}\n",
      "line 252 remove_html_markup {'s': 'abc', 'tag': False, 'quote': False, 'out': '', 'c': 'a'}\n",
      "line 253 remove_html_markup {'s': 'abc', 'tag': False, 'quote': False, 'out': '', 'c': 'a'}\n",
      "line 243 remove_html_markup {'s': 'abc', 'tag': False, 'quote': False, 'out': 'a', 'c': 'a'}\n",
      "line 244 remove_html_markup {'s': 'abc', 'tag': False, 'quote': False, 'out': 'a', 'c': 'b'}\n",
      "line 246 remove_html_markup {'s': 'abc', 'tag': False, 'quote': False, 'out': 'a', 'c': 'b'}\n",
      "line 248 remove_html_markup {'s': 'abc', 'tag': False, 'quote': False, 'out': 'a', 'c': 'b'}\n",
      "line 250 remove_html_markup {'s': 'abc', 'tag': False, 'quote': False, 'out': 'a', 'c': 'b'}\n",
      "line 252 remove_html_markup {'s': 'abc', 'tag': False, 'quote': False, 'out': 'a', 'c': 'b'}\n",
      "line 253 remove_html_markup {'s': 'abc', 'tag': False, 'quote': False, 'out': 'a', 'c': 'b'}\n",
      "line 243 remove_html_markup {'s': 'abc', 'tag': False, 'quote': False, 'out': 'ab', 'c': 'b'}\n",
      "line 244 remove_html_markup {'s': 'abc', 'tag': False, 'quote': False, 'out': 'ab', 'c': 'c'}\n",
      "line 246 remove_html_markup {'s': 'abc', 'tag': False, 'quote': False, 'out': 'ab', 'c': 'c'}\n",
      "line 248 remove_html_markup {'s': 'abc', 'tag': False, 'quote': False, 'out': 'ab', 'c': 'c'}\n",
      "line 250 remove_html_markup {'s': 'abc', 'tag': False, 'quote': False, 'out': 'ab', 'c': 'c'}\n",
      "line 252 remove_html_markup {'s': 'abc', 'tag': False, 'quote': False, 'out': 'ab', 'c': 'c'}\n",
      "line 253 remove_html_markup {'s': 'abc', 'tag': False, 'quote': False, 'out': 'ab', 'c': 'c'}\n",
      "line 243 remove_html_markup {'s': 'abc', 'tag': False, 'quote': False, 'out': 'abc', 'c': 'c'}\n",
      "line 255 remove_html_markup {'s': 'abc', 'tag': False, 'quote': False, 'out': 'abc', 'c': 'c'}\n",
      "return 255 remove_html_markup {'s': 'abc', 'tag': False, 'quote': False, 'out': 'abc', 'c': 'c'}\n"
     ]
    }
   ],
   "source": [
    "with Tracer():\n",
    "    remove_html_markup(\"abc\")"
   ]
  },
  {
   "cell_type": "markdown",
   "metadata": {
    "slideshow": {
     "slide_type": "slide"
    }
   },
   "source": [
    "## Accessing Source Code\n",
    "\n",
    "We can now go and _extend_ the class with additional features. It would be nice if it could actually display the source code of the function being tracked, such that we know where we are. In Python, the function `inspect.getsource()` returns the source code of a function or module. Looking up\n",
    "\n",
    "```python\n",
    "module = inspect.getmodule(frame.f_code)\n",
    "```\n",
    "\n",
    "gives us the current module, and\n",
    "\n",
    "```python\n",
    "inspect.getsource(module)\n",
    "```\n",
    "\n",
    "gives us its source code. All we then have to do is to retrieve the current line."
   ]
  },
  {
   "cell_type": "markdown",
   "metadata": {
    "slideshow": {
     "slide_type": "subslide"
    }
   },
   "source": [
    "To implement our extended `traceit()` method, we use a bit of a hack. The Python language requires us to define an entire class with all methods as a single, continuous unit; however, we would like to introduce one method after another.  To avoid this problem, we use a special hack: Whenever we want to introduce a new method to some class `C`, we use the construct\n",
    "\n",
    "```python\n",
    "class C(C):\n",
    "    def new_method(self, args):\n",
    "        pass\n",
    "```\n",
    "\n",
    "This seems to define `C` as a subclass of itself, which would make no sense – but actually, it introduces a new `C` class as a subclass of the _old_ `C` class, and then shadowing the old `C` definition.  What this gets us is a `C` class with `new_method()` as a method, which is just what we want.  (`C` objects defined earlier will retain the earlier `C` definition, though, and thus must be rebuilt.)"
   ]
  },
  {
   "cell_type": "markdown",
   "metadata": {
    "slideshow": {
     "slide_type": "subslide"
    }
   },
   "source": [
    "Using this hack, we can now redefine the `traceit()` method. Our new tracer shows the current line as it is executed."
   ]
  },
  {
   "cell_type": "code",
   "execution_count": 24,
   "metadata": {
    "execution": {
     "iopub.execute_input": "2021-10-13T11:29:00.162008Z",
     "iopub.status.busy": "2021-10-13T11:29:00.161339Z",
     "iopub.status.idle": "2021-10-13T11:29:00.163639Z",
     "shell.execute_reply": "2021-10-13T11:29:00.164206Z"
    },
    "slideshow": {
     "slide_type": "skip"
    }
   },
   "outputs": [],
   "source": [
    "import inspect"
   ]
  },
  {
   "cell_type": "code",
   "execution_count": 25,
   "metadata": {
    "execution": {
     "iopub.execute_input": "2021-10-13T11:29:00.169222Z",
     "iopub.status.busy": "2021-10-13T11:29:00.168656Z",
     "iopub.status.idle": "2021-10-13T11:29:00.170448Z",
     "shell.execute_reply": "2021-10-13T11:29:00.170822Z"
    },
    "slideshow": {
     "slide_type": "fragment"
    }
   },
   "outputs": [],
   "source": [
    "class Tracer(Tracer):\n",
    "    def traceit(self, frame: FrameType, event: str, arg: Any) -> None:\n",
    "        \"\"\"Tracing function; called at every line. To be overloaded in subclasses.\"\"\"\n",
    "\n",
    "        if event == 'line':\n",
    "            module = inspect.getmodule(frame.f_code)\n",
    "            if module is None:\n",
    "                source = inspect.getsource(frame.f_code)\n",
    "            else:\n",
    "                source = inspect.getsource(module)\n",
    "            current_line = source.split('\\n')[frame.f_lineno - 1]\n",
    "            self.log(frame.f_lineno, current_line)"
   ]
  },
  {
   "cell_type": "code",
   "execution_count": 26,
   "metadata": {
    "execution": {
     "iopub.execute_input": "2021-10-13T11:29:00.174085Z",
     "iopub.status.busy": "2021-10-13T11:29:00.173512Z",
     "iopub.status.idle": "2021-10-13T11:29:00.316705Z",
     "shell.execute_reply": "2021-10-13T11:29:00.310637Z"
    },
    "slideshow": {
     "slide_type": "subslide"
    }
   },
   "outputs": [
    {
     "name": "stdout",
     "output_type": "stream",
     "text": [
      "239     tag = False\n",
      "240     quote = False\n",
      "241     out = \"\"\n",
      "243     for c in s:\n",
      "244         assert tag or not quote\n",
      "246         if c == '<' and not quote:\n",
      "248         elif c == '>' and not quote:\n",
      "250         elif (c == '\"' or c == \"'\") and tag:\n",
      "252         elif not tag:\n",
      "253             out = out + c\n",
      "243     for c in s:\n",
      "244         assert tag or not quote\n",
      "246         if c == '<' and not quote:\n",
      "248         elif c == '>' and not quote:\n",
      "250         elif (c == '\"' or c == \"'\") and tag:\n",
      "252         elif not tag:\n",
      "253             out = out + c\n",
      "243     for c in s:\n",
      "244         assert tag or not quote\n",
      "246         if c == '<' and not quote:\n",
      "248         elif c == '>' and not quote:\n",
      "250         elif (c == '\"' or c == \"'\") and tag:\n",
      "252         elif not tag:\n",
      "253             out = out + c\n",
      "243     for c in s:\n",
      "255     return out\n"
     ]
    }
   ],
   "source": [
    "with Tracer():\n",
    "    remove_html_markup(\"abc\")"
   ]
  },
  {
   "cell_type": "markdown",
   "metadata": {
    "slideshow": {
     "slide_type": "slide"
    }
   },
   "source": [
    "## Tracing Calls and Returns\n",
    "\n",
    "Next, we'd like to report calling and returning from functions. For the `return` event, `arg` holds the value being returned."
   ]
  },
  {
   "cell_type": "code",
   "execution_count": 27,
   "metadata": {
    "execution": {
     "iopub.execute_input": "2021-10-13T11:29:00.321771Z",
     "iopub.status.busy": "2021-10-13T11:29:00.321244Z",
     "iopub.status.idle": "2021-10-13T11:29:00.322956Z",
     "shell.execute_reply": "2021-10-13T11:29:00.323350Z"
    },
    "slideshow": {
     "slide_type": "subslide"
    }
   },
   "outputs": [],
   "source": [
    "class Tracer(Tracer):\n",
    "    def traceit(self, frame: FrameType, event: str, arg: Any) -> None:\n",
    "        \"\"\"Tracing function. To be overridden in subclasses.\"\"\"\n",
    "\n",
    "        if event == 'call':\n",
    "            self.log(f\"Calling {frame.f_code.co_name}()\")\n",
    "\n",
    "        if event == 'line':\n",
    "            module = inspect.getmodule(frame.f_code)\n",
    "            if module:\n",
    "                source = inspect.getsource(module)\n",
    "            if source:\n",
    "                current_line = source.split('\\n')[frame.f_lineno - 1]\n",
    "                self.log(frame.f_lineno, current_line)\n",
    "\n",
    "        if event == 'return':\n",
    "            self.log(f\"{frame.f_code.co_name}() returns {repr(arg)}\")"
   ]
  },
  {
   "cell_type": "code",
   "execution_count": 28,
   "metadata": {
    "execution": {
     "iopub.execute_input": "2021-10-13T11:29:00.326524Z",
     "iopub.status.busy": "2021-10-13T11:29:00.325943Z",
     "iopub.status.idle": "2021-10-13T11:29:00.358358Z",
     "shell.execute_reply": "2021-10-13T11:29:00.350406Z"
    },
    "slideshow": {
     "slide_type": "subslide"
    }
   },
   "outputs": [
    {
     "name": "stdout",
     "output_type": "stream",
     "text": [
      "Calling remove_html_markup()\n",
      "239     tag = False\n",
      "240     quote = False\n",
      "241     out = \"\"\n",
      "243     for c in s:\n",
      "244         assert tag or not quote\n",
      "246         if c == '<' and not quote:\n",
      "248         elif c == '>' and not quote:\n",
      "250         elif (c == '\"' or c == \"'\") and tag:\n",
      "252         elif not tag:\n",
      "253             out = out + c\n",
      "243     for c in s:\n",
      "244         assert tag or not quote\n",
      "246         if c == '<' and not quote:\n",
      "248         elif c == '>' and not quote:\n",
      "250         elif (c == '\"' or c == \"'\") and tag:\n",
      "252         elif not tag:\n",
      "253             out = out + c\n",
      "243     for c in s:\n",
      "244         assert tag or not quote\n",
      "246         if c == '<' and not quote:\n",
      "248         elif c == '>' and not quote:\n",
      "250         elif (c == '\"' or c == \"'\") and tag:\n",
      "252         elif not tag:\n",
      "253             out = out + c\n",
      "243     for c in s:\n",
      "255     return out\n",
      "remove_html_markup() returns 'abc'\n"
     ]
    }
   ],
   "source": [
    "with Tracer():\n",
    "    remove_html_markup(\"abc\")"
   ]
  },
  {
   "cell_type": "markdown",
   "metadata": {
    "slideshow": {
     "slide_type": "slide"
    }
   },
   "source": [
    "## Tracing Variable Changes\n",
    "\n",
    "Finally, we'd again like to report variables – but only those that have changed. To this end, we save a copy of the last reported variables in the class, reporting only the changed values."
   ]
  },
  {
   "cell_type": "code",
   "execution_count": 29,
   "metadata": {
    "execution": {
     "iopub.execute_input": "2021-10-13T11:29:00.364483Z",
     "iopub.status.busy": "2021-10-13T11:29:00.363946Z",
     "iopub.status.idle": "2021-10-13T11:29:00.365663Z",
     "shell.execute_reply": "2021-10-13T11:29:00.366042Z"
    },
    "slideshow": {
     "slide_type": "subslide"
    }
   },
   "outputs": [],
   "source": [
    "class Tracer(Tracer):\n",
    "    def __init__(self, file: TextIO = sys.stdout) -> None:\n",
    "        \"\"\"\n",
    "        Create a new tracer.\n",
    "        If `file` is given, output to `file` instead of stdout.\n",
    "        \"\"\"\n",
    "\n",
    "        self.last_vars: Dict[str, Any] = {}\n",
    "        super().__init__(file=file)\n",
    "\n",
    "    def changed_vars(self, new_vars: Dict[str, Any]) -> Dict[str, Any]:\n",
    "        \"\"\"Track changed variables, based on `new_vars` observed.\"\"\"\n",
    "        changed = {}\n",
    "        for var_name, var_value in new_vars.items():\n",
    "            if (var_name not in self.last_vars or\n",
    "                    self.last_vars[var_name] != var_value):\n",
    "                changed[var_name] = var_value\n",
    "        self.last_vars = new_vars.copy()\n",
    "        return changed"
   ]
  },
  {
   "cell_type": "markdown",
   "metadata": {
    "slideshow": {
     "slide_type": "subslide"
    }
   },
   "source": [
    "Here's how this works: If variable `a` is set to 10 (and we didn't have it so far), it is marked as changed:"
   ]
  },
  {
   "cell_type": "code",
   "execution_count": 30,
   "metadata": {
    "execution": {
     "iopub.execute_input": "2021-10-13T11:29:00.369914Z",
     "iopub.status.busy": "2021-10-13T11:29:00.369224Z",
     "iopub.status.idle": "2021-10-13T11:29:00.371526Z",
     "shell.execute_reply": "2021-10-13T11:29:00.372636Z"
    },
    "slideshow": {
     "slide_type": "fragment"
    }
   },
   "outputs": [],
   "source": [
    "tracer = Tracer()"
   ]
  },
  {
   "cell_type": "code",
   "execution_count": 31,
   "metadata": {
    "execution": {
     "iopub.execute_input": "2021-10-13T11:29:00.377326Z",
     "iopub.status.busy": "2021-10-13T11:29:00.376725Z",
     "iopub.status.idle": "2021-10-13T11:29:00.379003Z",
     "shell.execute_reply": "2021-10-13T11:29:00.379472Z"
    },
    "slideshow": {
     "slide_type": "fragment"
    }
   },
   "outputs": [
    {
     "data": {
      "text/plain": [
       "{'a': 10}"
      ]
     },
     "execution_count": 31,
     "metadata": {},
     "output_type": "execute_result"
    }
   ],
   "source": [
    "tracer.changed_vars({'a': 10})"
   ]
  },
  {
   "cell_type": "markdown",
   "metadata": {
    "slideshow": {
     "slide_type": "fragment"
    }
   },
   "source": [
    "If another variable `b` is added, and only `b` is changed, then only `b` is marked as changed:"
   ]
  },
  {
   "cell_type": "code",
   "execution_count": 32,
   "metadata": {
    "execution": {
     "iopub.execute_input": "2021-10-13T11:29:00.384140Z",
     "iopub.status.busy": "2021-10-13T11:29:00.383215Z",
     "iopub.status.idle": "2021-10-13T11:29:00.386465Z",
     "shell.execute_reply": "2021-10-13T11:29:00.387073Z"
    },
    "slideshow": {
     "slide_type": "fragment"
    }
   },
   "outputs": [
    {
     "data": {
      "text/plain": [
       "{'b': 25}"
      ]
     },
     "execution_count": 32,
     "metadata": {},
     "output_type": "execute_result"
    }
   ],
   "source": [
    "tracer.changed_vars({'a': 10, 'b': 25})"
   ]
  },
  {
   "cell_type": "markdown",
   "metadata": {
    "slideshow": {
     "slide_type": "fragment"
    }
   },
   "source": [
    "If both variables keep their values, nothing changes:"
   ]
  },
  {
   "cell_type": "code",
   "execution_count": 33,
   "metadata": {
    "execution": {
     "iopub.execute_input": "2021-10-13T11:29:00.393308Z",
     "iopub.status.busy": "2021-10-13T11:29:00.392579Z",
     "iopub.status.idle": "2021-10-13T11:29:00.396067Z",
     "shell.execute_reply": "2021-10-13T11:29:00.396585Z"
    },
    "slideshow": {
     "slide_type": "fragment"
    }
   },
   "outputs": [
    {
     "data": {
      "text/plain": [
       "{}"
      ]
     },
     "execution_count": 33,
     "metadata": {},
     "output_type": "execute_result"
    }
   ],
   "source": [
    "tracer.changed_vars({'a': 10, 'b': 25})"
   ]
  },
  {
   "cell_type": "markdown",
   "metadata": {
    "slideshow": {
     "slide_type": "fragment"
    }
   },
   "source": [
    "But if new variables come along, they are listed again."
   ]
  },
  {
   "cell_type": "code",
   "execution_count": 34,
   "metadata": {
    "execution": {
     "iopub.execute_input": "2021-10-13T11:29:00.401047Z",
     "iopub.status.busy": "2021-10-13T11:29:00.400374Z",
     "iopub.status.idle": "2021-10-13T11:29:00.403456Z",
     "shell.execute_reply": "2021-10-13T11:29:00.404090Z"
    },
    "slideshow": {
     "slide_type": "subslide"
    }
   },
   "outputs": [
    {
     "data": {
      "text/plain": [
       "{'c': 10, 'd': 25}"
      ]
     },
     "execution_count": 34,
     "metadata": {},
     "output_type": "execute_result"
    }
   ],
   "source": [
    "changes = tracer.changed_vars({'c': 10, 'd': 25})\n",
    "changes"
   ]
  },
  {
   "cell_type": "markdown",
   "metadata": {
    "slideshow": {
     "slide_type": "fragment"
    }
   },
   "source": [
    "The following expression creates a comma-separated list of variables and values:"
   ]
  },
  {
   "cell_type": "code",
   "execution_count": 35,
   "metadata": {
    "execution": {
     "iopub.execute_input": "2021-10-13T11:29:00.409805Z",
     "iopub.status.busy": "2021-10-13T11:29:00.409187Z",
     "iopub.status.idle": "2021-10-13T11:29:00.411598Z",
     "shell.execute_reply": "2021-10-13T11:29:00.411975Z"
    },
    "slideshow": {
     "slide_type": "fragment"
    }
   },
   "outputs": [
    {
     "data": {
      "text/plain": [
       "'c = 10, d = 25'"
      ]
     },
     "execution_count": 35,
     "metadata": {},
     "output_type": "execute_result"
    }
   ],
   "source": [
    "\", \".join([var + \" = \" + repr(changes[var]) for var in changes])"
   ]
  },
  {
   "cell_type": "markdown",
   "metadata": {
    "slideshow": {
     "slide_type": "fragment"
    }
   },
   "source": [
    "We can now put all of this together in our tracing function, reporting any variable changes as we see them. Note how we exploit the fact that in a call, all variables have a \"new\" value; and when we return from a function, we explicitly delete the \"last\" variables."
   ]
  },
  {
   "cell_type": "code",
   "execution_count": 36,
   "metadata": {
    "execution": {
     "iopub.execute_input": "2021-10-13T11:29:00.420208Z",
     "iopub.status.busy": "2021-10-13T11:29:00.419417Z",
     "iopub.status.idle": "2021-10-13T11:29:00.421745Z",
     "shell.execute_reply": "2021-10-13T11:29:00.422154Z"
    },
    "slideshow": {
     "slide_type": "subslide"
    }
   },
   "outputs": [],
   "source": [
    "class Tracer(Tracer):\n",
    "    def print_debugger_status(self, frame: FrameType, event: str, arg: Any) -> None:\n",
    "        \"\"\"Show current source line and changed vars\"\"\"\n",
    "        changes = self.changed_vars(frame.f_locals)\n",
    "        changes_s = \", \".join([var + \" = \" + repr(changes[var])\n",
    "                               for var in changes])\n",
    "\n",
    "        if event == 'call':\n",
    "            self.log(\"Calling \" + frame.f_code.co_name + '(' + changes_s + ')')\n",
    "        elif changes:\n",
    "            self.log(' ' * 40, '#', changes_s)\n",
    "\n",
    "        if event == 'line':\n",
    "            try:\n",
    "                module = inspect.getmodule(frame.f_code)\n",
    "                if module is None:\n",
    "                    source = inspect.getsource(frame.f_code)\n",
    "                else:\n",
    "                    source = inspect.getsource(module)\n",
    "                current_line = source.split('\\n')[frame.f_lineno - 1]\n",
    "\n",
    "            except OSError as err:\n",
    "                self.log(f\"{err.__class__.__name__}: {err}\")\n",
    "                current_line = \"\"\n",
    "\n",
    "            self.log(repr(frame.f_lineno) + ' ' + current_line)\n",
    "\n",
    "        if event == 'return':\n",
    "            self.log(frame.f_code.co_name + '()' + \" returns \" + repr(arg))\n",
    "            self.last_vars = {}  # Delete 'last' variables\n",
    "\n",
    "    def traceit(self, frame: FrameType, event: str, arg: Any) -> None:\n",
    "        \"\"\"Tracing function; called at every line. To be overloaded in subclasses.\"\"\"\n",
    "        self.print_debugger_status(frame, event, arg)"
   ]
  },
  {
   "cell_type": "markdown",
   "metadata": {
    "slideshow": {
     "slide_type": "subslide"
    }
   },
   "source": [
    "Here's the resulting trace of `remove_html_markup()` for a more complex input. You can see that the tracing output allows us to see which lines are executed as well as the variables whose value changes."
   ]
  },
  {
   "cell_type": "code",
   "execution_count": 37,
   "metadata": {
    "execution": {
     "iopub.execute_input": "2021-10-13T11:29:00.425672Z",
     "iopub.status.busy": "2021-10-13T11:29:00.425133Z",
     "iopub.status.idle": "2021-10-13T11:29:00.495247Z",
     "shell.execute_reply": "2021-10-13T11:29:00.469575Z"
    },
    "slideshow": {
     "slide_type": "subslide"
    }
   },
   "outputs": [
    {
     "name": "stdout",
     "output_type": "stream",
     "text": [
      "Calling remove_html_markup(s = '<b>x</b>')\n",
      "239     tag = False\n",
      "                                         # tag = False\n",
      "240     quote = False\n",
      "                                         # quote = False\n",
      "241     out = \"\"\n",
      "                                         # out = ''\n",
      "243     for c in s:\n",
      "                                         # c = '<'\n",
      "244         assert tag or not quote\n",
      "246         if c == '<' and not quote:\n",
      "247             tag = True\n",
      "                                         # tag = True\n",
      "243     for c in s:\n",
      "                                         # c = 'b'\n",
      "244         assert tag or not quote\n",
      "246         if c == '<' and not quote:\n",
      "248         elif c == '>' and not quote:\n",
      "250         elif (c == '\"' or c == \"'\") and tag:\n",
      "252         elif not tag:\n",
      "243     for c in s:\n",
      "                                         # c = '>'\n",
      "244         assert tag or not quote\n",
      "246         if c == '<' and not quote:\n",
      "248         elif c == '>' and not quote:\n",
      "249             tag = False\n",
      "                                         # tag = False\n",
      "243     for c in s:\n",
      "                                         # c = 'x'\n",
      "244         assert tag or not quote\n",
      "246         if c == '<' and not quote:\n",
      "248         elif c == '>' and not quote:\n",
      "250         elif (c == '\"' or c == \"'\") and tag:\n",
      "252         elif not tag:\n",
      "253             out = out + c\n",
      "                                         # out = 'x'\n",
      "243     for c in s:\n",
      "                                         # c = '<'\n",
      "244         assert tag or not quote\n",
      "246         if c == '<' and not quote:\n",
      "247             tag = True\n",
      "                                         # tag = True\n",
      "243     for c in s:\n",
      "                                         # c = '/'\n",
      "244         assert tag or not quote\n",
      "246         if c == '<' and not quote:\n",
      "248         elif c == '>' and not quote:\n",
      "250         elif (c == '\"' or c == \"'\") and tag:\n",
      "252         elif not tag:\n",
      "243     for c in s:\n",
      "                                         # c = 'b'\n",
      "244         assert tag or not quote\n",
      "246         if c == '<' and not quote:\n",
      "248         elif c == '>' and not quote:\n",
      "250         elif (c == '\"' or c == \"'\") and tag:\n",
      "252         elif not tag:\n",
      "243     for c in s:\n",
      "                                         # c = '>'\n",
      "244         assert tag or not quote\n",
      "246         if c == '<' and not quote:\n",
      "248         elif c == '>' and not quote:\n",
      "249             tag = False\n",
      "                                         # tag = False\n",
      "243     for c in s:\n",
      "255     return out\n",
      "remove_html_markup() returns 'x'\n"
     ]
    }
   ],
   "source": [
    "with Tracer():\n",
    "    remove_html_markup('<b>x</b>')"
   ]
  },
  {
   "cell_type": "markdown",
   "metadata": {
    "slideshow": {
     "slide_type": "subslide"
    }
   },
   "source": [
    "As you see, even a simple function can create a long execution log. Hence, we will now explore how to focus tracing on particular _events_."
   ]
  },
  {
   "cell_type": "markdown",
   "metadata": {
    "slideshow": {
     "slide_type": "slide"
    }
   },
   "source": [
    "## Conditional Tracing\n",
    "\n",
    "A log such as the above can very quickly become very messy – notably if executions take a long time, or if data structures become very complex. If one of our local variables were a list with 1,000 entries for instance, and were changed with each line, we'd be printing out the entire list with 1,000 entries for each step. \n",
    "\n",
    "We could still load the log into, say, a text editor or a database and then search for specific values, but this is still cumbersome – and expensive. A better alternative, however, is to have our tracer only log while specific _conditions_ hold."
   ]
  },
  {
   "cell_type": "markdown",
   "metadata": {
    "slideshow": {
     "slide_type": "subslide"
    }
   },
   "source": [
    "To this end, we introduce a class `ConditionalTracer`, which gets a _conditional expression_ to be checked during executions. Only if this condition holds do we list the current status. With\n",
    "\n",
    "```python\n",
    "with ConditionalTracer(condition='c == \"z\"'):\n",
    "    remove_html_markup(...)\n",
    "```\n",
    "\n",
    "we would obtain only the lines executed while `c` gets a value of `'z'`, and with\n",
    "\n",
    "```python\n",
    "with ConditionalTracer(condition='quote'):\n",
    "    remove_html_markup(...)\n",
    "```\n",
    "\n",
    "we would obtain only the lines executed while `quote` is True. If we have multiple conditions, we can combine them into one using `and`, `or`, or `not`."
   ]
  },
  {
   "cell_type": "markdown",
   "metadata": {
    "slideshow": {
     "slide_type": "subslide"
    }
   },
   "source": [
    "Our `ConditionalTracer` class stores the condition in its `condition` attribute:"
   ]
  },
  {
   "cell_type": "code",
   "execution_count": 38,
   "metadata": {
    "execution": {
     "iopub.execute_input": "2021-10-13T11:29:00.500881Z",
     "iopub.status.busy": "2021-10-13T11:29:00.500184Z",
     "iopub.status.idle": "2021-10-13T11:29:00.503110Z",
     "shell.execute_reply": "2021-10-13T11:29:00.502360Z"
    },
    "slideshow": {
     "slide_type": "fragment"
    }
   },
   "outputs": [],
   "source": [
    "class ConditionalTracer(Tracer):\n",
    "    def __init__(self, *, condition: Optional[str] = None, file: TextIO = sys.stdout) -> None:\n",
    "        \"\"\"Constructor. Trace all events for which `condition` (a Python expr) holds.\"\"\"\n",
    "\n",
    "        if condition is None:\n",
    "            condition = 'False'\n",
    "\n",
    "        self.condition: str = condition\n",
    "        self.last_report: Optional[bool] = None\n",
    "        super().__init__(file=file)"
   ]
  },
  {
   "cell_type": "markdown",
   "metadata": {
    "slideshow": {
     "slide_type": "subslide"
    }
   },
   "source": [
    "Its `traceit()` function _evaluates_ `condition` and reports the current line only if it holds. To this end, it uses the Python `eval()` function which evaluates the condition in the context of the local variables of the program under test. If the condition gets set, we print out three dots to indicate the elapsed time."
   ]
  },
  {
   "cell_type": "code",
   "execution_count": 39,
   "metadata": {
    "execution": {
     "iopub.execute_input": "2021-10-13T11:29:00.510131Z",
     "iopub.status.busy": "2021-10-13T11:29:00.509522Z",
     "iopub.status.idle": "2021-10-13T11:29:00.511052Z",
     "shell.execute_reply": "2021-10-13T11:29:00.511441Z"
    },
    "slideshow": {
     "slide_type": "fragment"
    }
   },
   "outputs": [],
   "source": [
    "class ConditionalTracer(ConditionalTracer):\n",
    "    def eval_in_context(self, expr: str, frame: FrameType) -> Optional[bool]:\n",
    "        try:\n",
    "            cond = eval(expr, None, frame.f_locals)\n",
    "        except NameError:  # (yet) undefined variable\n",
    "            cond = None\n",
    "        return cond"
   ]
  },
  {
   "cell_type": "markdown",
   "metadata": {
    "slideshow": {
     "slide_type": "fragment"
    }
   },
   "source": [
    "The `do_report()` function returns True if the status is to be reported:"
   ]
  },
  {
   "cell_type": "code",
   "execution_count": 40,
   "metadata": {
    "execution": {
     "iopub.execute_input": "2021-10-13T11:29:00.515274Z",
     "iopub.status.busy": "2021-10-13T11:29:00.514745Z",
     "iopub.status.idle": "2021-10-13T11:29:00.516348Z",
     "shell.execute_reply": "2021-10-13T11:29:00.516968Z"
    },
    "slideshow": {
     "slide_type": "subslide"
    }
   },
   "outputs": [],
   "source": [
    "class ConditionalTracer(ConditionalTracer):\n",
    "    def do_report(self, frame: FrameType, event: str, arg: Any) -> Optional[bool]:\n",
    "        return self.eval_in_context(self.condition, frame)"
   ]
  },
  {
   "cell_type": "markdown",
   "metadata": {
    "slideshow": {
     "slide_type": "fragment"
    }
   },
   "source": [
    "We put everything together in our `traceit()` function:"
   ]
  },
  {
   "cell_type": "code",
   "execution_count": 41,
   "metadata": {
    "execution": {
     "iopub.execute_input": "2021-10-13T11:29:00.523460Z",
     "iopub.status.busy": "2021-10-13T11:29:00.522757Z",
     "iopub.status.idle": "2021-10-13T11:29:00.524229Z",
     "shell.execute_reply": "2021-10-13T11:29:00.524761Z"
    },
    "slideshow": {
     "slide_type": "fragment"
    }
   },
   "outputs": [],
   "source": [
    "class ConditionalTracer(ConditionalTracer):\n",
    "    def traceit(self, frame: FrameType, event: str, arg: Any) -> None:\n",
    "        report = self.do_report(frame, event, arg)\n",
    "        if report != self.last_report:\n",
    "            if report:\n",
    "                self.log(\"...\")\n",
    "            self.last_report = report\n",
    "\n",
    "        if report:\n",
    "            self.print_debugger_status(frame, event, arg)"
   ]
  },
  {
   "cell_type": "markdown",
   "metadata": {
    "slideshow": {
     "slide_type": "subslide"
    }
   },
   "source": [
    "Here's an example. We see that `quote` is set only while the three characters `b`, `a`, and `r` are processed (as should be)."
   ]
  },
  {
   "cell_type": "code",
   "execution_count": 42,
   "metadata": {
    "execution": {
     "iopub.execute_input": "2021-10-13T11:29:00.528539Z",
     "iopub.status.busy": "2021-10-13T11:29:00.527967Z",
     "iopub.status.idle": "2021-10-13T11:29:00.572982Z",
     "shell.execute_reply": "2021-10-13T11:29:00.562249Z"
    },
    "slideshow": {
     "slide_type": "subslide"
    }
   },
   "outputs": [
    {
     "name": "stdout",
     "output_type": "stream",
     "text": [
      "...\n",
      "                                         # s = '<b title=\"bar\">\"foo\"</b>', tag = True, quote = True, out = '', c = '\"'\n",
      "243     for c in s:\n",
      "                                         # c = 'b'\n",
      "244         assert tag or not quote\n",
      "246         if c == '<' and not quote:\n",
      "248         elif c == '>' and not quote:\n",
      "250         elif (c == '\"' or c == \"'\") and tag:\n",
      "252         elif not tag:\n",
      "243     for c in s:\n",
      "                                         # c = 'a'\n",
      "244         assert tag or not quote\n",
      "246         if c == '<' and not quote:\n",
      "248         elif c == '>' and not quote:\n",
      "250         elif (c == '\"' or c == \"'\") and tag:\n",
      "252         elif not tag:\n",
      "243     for c in s:\n",
      "                                         # c = 'r'\n",
      "244         assert tag or not quote\n",
      "246         if c == '<' and not quote:\n",
      "248         elif c == '>' and not quote:\n",
      "250         elif (c == '\"' or c == \"'\") and tag:\n",
      "252         elif not tag:\n",
      "243     for c in s:\n",
      "                                         # c = '\"'\n",
      "244         assert tag or not quote\n",
      "246         if c == '<' and not quote:\n",
      "248         elif c == '>' and not quote:\n",
      "250         elif (c == '\"' or c == \"'\") and tag:\n",
      "251             quote = not quote\n"
     ]
    }
   ],
   "source": [
    "with ConditionalTracer(condition='quote'):\n",
    "    remove_html_markup('<b title=\"bar\">\"foo\"</b>')"
   ]
  },
  {
   "cell_type": "code",
   "execution_count": 43,
   "metadata": {
    "execution": {
     "iopub.execute_input": "2021-10-13T11:29:00.579154Z",
     "iopub.status.busy": "2021-10-13T11:29:00.578617Z",
     "iopub.status.idle": "2021-10-13T11:29:00.581043Z",
     "shell.execute_reply": "2021-10-13T11:29:00.581419Z"
    },
    "slideshow": {
     "slide_type": "subslide"
    }
   },
   "outputs": [
    {
     "data": {
      "text/html": [
       "\n",
       "    \n",
       "    <script>\n",
       "    var bad_answers = new Map();\n",
       "\n",
       "    function answer(quiz_id) {\n",
       "        ans = 0;\n",
       "        for (i = 1;; i++) {\n",
       "            checkbox = document.getElementById(quiz_id + \"-\" + i.toString());\n",
       "            if (!checkbox)\n",
       "                break;\n",
       "            if (checkbox.checked)\n",
       "                ans |= (1 << i);\n",
       "        }\n",
       "        return ans;\n",
       "    }\n",
       "    function check_selection(quiz_id, correct_answer, multiple_choice, hint) {\n",
       "        given_answer = answer(quiz_id);\n",
       "        if (given_answer == correct_answer)\n",
       "        {\n",
       "            document.getElementById(quiz_id + \"-submit\").value = \"Correct!\";\n",
       "            document.getElementById(quiz_id + \"-hint\").innerHTML = \"\";\n",
       "\n",
       "            for (i = 1;; i++) {\n",
       "                checkbox = document.getElementById(quiz_id + \"-\" + i.toString());\n",
       "                label = document.getElementById(quiz_id + \"-\" + i.toString() + \"-label\")\n",
       "                if (!checkbox)\n",
       "                    break;\n",
       "    \n",
       "                if (checkbox.checked) {\n",
       "                    label.style.fontWeight = \"bold\";\n",
       "                }\n",
       "                else {\n",
       "                    label.style.textDecoration = \"line-through\";\n",
       "                }\n",
       "            }\n",
       "        }\n",
       "        else \n",
       "        {\n",
       "            document.getElementById(quiz_id + \"-submit\").value = \"Try again\";\n",
       "            \n",
       "            if (!bad_answers.has(quiz_id)) {\n",
       "                bad_answers.set(quiz_id, 1);\n",
       "            }\n",
       "            else {\n",
       "                bad_answers.set(quiz_id, bad_answers.get(quiz_id) + 1);\n",
       "            }\n",
       "\n",
       "            if (bad_answers.get(quiz_id) >= 2 && hint.length > 0) {\n",
       "                document.getElementById(quiz_id + \"-hint\").innerHTML = \n",
       "                    \"&nbsp;&nbsp;(Hint: <code>\" + hint + \"</code>)\";\n",
       "            }\n",
       "\n",
       "            if (!multiple_choice) {\n",
       "                for (i = 1;; i++) {\n",
       "                    checkbox = document.getElementById(quiz_id + \"-\" + i.toString());\n",
       "                    label = document.getElementById(quiz_id + \"-\" + i.toString() + \"-label\")\n",
       "\n",
       "                    if (!checkbox)\n",
       "                        break;\n",
       "                    if (checkbox.checked) {\n",
       "                        label.style.textDecoration = \"line-through\";\n",
       "                    }\n",
       "                }\n",
       "            }\n",
       "        }\n",
       "    }\n",
       "    function clear_selection(quiz_id) {\n",
       "        document.getElementById(quiz_id + \"-submit\").value = \"Submit\";\n",
       "        document.getElementById(quiz_id + \"-hint\").innerHTML = \"\";\n",
       "    }\n",
       "    </script>\n",
       "    \n",
       "    <div class=\"quiz\">\n",
       "    <h3 class=\"quiz_title\">Quiz</h3>\n",
       "    <p>\n",
       "    <div class=\"quiz_question\">What happens if the condition contains a syntax error?</div>\n",
       "    </p>\n",
       "    <p>\n",
       "    <div class=\"quiz_options\" title=\"Pick a choice.\">\n",
       "    \n",
       "        <input type=\"radio\" name=\"c31a2afc-2c18-11ec-9a7b-acde48001122\" id=\"c31a2afc-2c18-11ec-9a7b-acde48001122-1\" onclick=\"clear_selection('c31a2afc-2c18-11ec-9a7b-acde48001122')\">\n",
       "        <label id=\"c31a2afc-2c18-11ec-9a7b-acde48001122-1-label\" for=\"c31a2afc-2c18-11ec-9a7b-acde48001122-1\">The tracer stops, raising an exception</label><br>\n",
       "    \n",
       "        <input type=\"radio\" name=\"c31a2afc-2c18-11ec-9a7b-acde48001122\" id=\"c31a2afc-2c18-11ec-9a7b-acde48001122-2\" onclick=\"clear_selection('c31a2afc-2c18-11ec-9a7b-acde48001122')\">\n",
       "        <label id=\"c31a2afc-2c18-11ec-9a7b-acde48001122-2-label\" for=\"c31a2afc-2c18-11ec-9a7b-acde48001122-2\">The tracer continues as if the condition were <code>True</code></label><br>\n",
       "    \n",
       "        <input type=\"radio\" name=\"c31a2afc-2c18-11ec-9a7b-acde48001122\" id=\"c31a2afc-2c18-11ec-9a7b-acde48001122-3\" onclick=\"clear_selection('c31a2afc-2c18-11ec-9a7b-acde48001122')\">\n",
       "        <label id=\"c31a2afc-2c18-11ec-9a7b-acde48001122-3-label\" for=\"c31a2afc-2c18-11ec-9a7b-acde48001122-3\">The tracer continues as if the condition were <code>False</code></label><br>\n",
       "    \n",
       "    </div>\n",
       "    </p>\n",
       "    <input id=\"c31a2afc-2c18-11ec-9a7b-acde48001122-submit\" type=\"submit\" value=\"Submit\" onclick=\"check_selection('c31a2afc-2c18-11ec-9a7b-acde48001122', 2, 0, '393 % 7')\">\n",
       "    <span class=\"quiz_hint\" id=\"c31a2afc-2c18-11ec-9a7b-acde48001122-hint\"></span>\n",
       "    </div>\n",
       "    "
      ],
      "text/plain": [
       "<IPython.core.display.HTML object>"
      ]
     },
     "execution_count": 43,
     "metadata": {},
     "output_type": "execute_result"
    }
   ],
   "source": [
    "quiz(\"What happens if the condition contains a syntax error?\",\n",
    "     [\n",
    "         \"The tracer stops, raising an exception\",\n",
    "         \"The tracer continues as if the condition were `True`\",\n",
    "         \"The tracer continues as if the condition were `False`\",\n",
    "     ], '393 % 7')"
   ]
  },
  {
   "cell_type": "markdown",
   "metadata": {
    "slideshow": {
     "slide_type": "fragment"
    }
   },
   "source": [
    "Here's the answer, illustrated in two examples. For syntax errors, we indeed get an exception:"
   ]
  },
  {
   "cell_type": "code",
   "execution_count": 44,
   "metadata": {
    "execution": {
     "iopub.execute_input": "2021-10-13T11:29:00.584880Z",
     "iopub.status.busy": "2021-10-13T11:29:00.584213Z",
     "iopub.status.idle": "2021-10-13T11:29:00.586314Z",
     "shell.execute_reply": "2021-10-13T11:29:00.586913Z"
    },
    "slideshow": {
     "slide_type": "skip"
    }
   },
   "outputs": [],
   "source": [
    "from ExpectError import ExpectError"
   ]
  },
  {
   "cell_type": "code",
   "execution_count": 45,
   "metadata": {
    "execution": {
     "iopub.execute_input": "2021-10-13T11:29:00.590999Z",
     "iopub.status.busy": "2021-10-13T11:29:00.590347Z",
     "iopub.status.idle": "2021-10-13T11:29:00.592713Z",
     "shell.execute_reply": "2021-10-13T11:29:00.593091Z"
    },
    "slideshow": {
     "slide_type": "subslide"
    }
   },
   "outputs": [
    {
     "name": "stderr",
     "output_type": "stream",
     "text": [
      "Traceback (most recent call last):\n",
      "  File \"/var/folders/n2/xd9445p97rb3xh7m1dfx8_4h0006ts/T/ipykernel_55094/3292487498.py\", line 3, in <module>\n",
      "    remove_html_markup('<b title=\"bar\">\"foo\"</b>')\n",
      "  File \"/Users/zeller/Projects/debuggingbook/notebooks/Intro_Debugging.ipynb\", line 238, in remove_html_markup\n",
      "    def remove_html_markup(s):  # type: ignore\n",
      "  File \"/var/folders/n2/xd9445p97rb3xh7m1dfx8_4h0006ts/T/ipykernel_55094/3738699336.py\", line 19, in _traceit\n",
      "    self.traceit(frame, event, arg)\n",
      "  File \"/var/folders/n2/xd9445p97rb3xh7m1dfx8_4h0006ts/T/ipykernel_55094/2841885016.py\", line 3, in traceit\n",
      "    report = self.do_report(frame, event, arg)\n",
      "  File \"/var/folders/n2/xd9445p97rb3xh7m1dfx8_4h0006ts/T/ipykernel_55094/3084505080.py\", line 3, in do_report\n",
      "    return self.eval_in_context(self.condition, frame)\n",
      "  File \"/var/folders/n2/xd9445p97rb3xh7m1dfx8_4h0006ts/T/ipykernel_55094/1027065478.py\", line 4, in eval_in_context\n",
      "    cond = eval(expr, None, frame.f_locals)\n",
      "  File \"<string>\", line 1\n",
      "    2 +\n",
      "      ^\n",
      "SyntaxError: unexpected EOF while parsing (expected)\n"
     ]
    }
   ],
   "source": [
    "with ExpectError(SyntaxError):\n",
    "    with ConditionalTracer(condition='2 +'):\n",
    "        remove_html_markup('<b title=\"bar\">\"foo\"</b>')"
   ]
  },
  {
   "cell_type": "markdown",
   "metadata": {
    "slideshow": {
     "slide_type": "subslide"
    }
   },
   "source": [
    "If a variable is undefined, though, the condition evaluates to False:"
   ]
  },
  {
   "cell_type": "code",
   "execution_count": 46,
   "metadata": {
    "execution": {
     "iopub.execute_input": "2021-10-13T11:29:00.598073Z",
     "iopub.status.busy": "2021-10-13T11:29:00.597505Z",
     "iopub.status.idle": "2021-10-13T11:29:00.599153Z",
     "shell.execute_reply": "2021-10-13T11:29:00.599649Z"
    },
    "slideshow": {
     "slide_type": "fragment"
    }
   },
   "outputs": [],
   "source": [
    "with ExpectError():\n",
    "    with ConditionalTracer(condition='undefined_variable'):\n",
    "        remove_html_markup('<b title=\"bar\">\"foo\"</b>')"
   ]
  },
  {
   "cell_type": "markdown",
   "metadata": {
    "slideshow": {
     "slide_type": "fragment"
    }
   },
   "source": [
    "We can also have the log focus on _particular code locations_ only. To this end, we add the pseudo-variables `function` and `line` to our evaluation context, which can be used within our condition to refer to the current function name or line. Then, we invoke the original `eval_cond()` as above."
   ]
  },
  {
   "cell_type": "code",
   "execution_count": 47,
   "metadata": {
    "execution": {
     "iopub.execute_input": "2021-10-13T11:29:00.604904Z",
     "iopub.status.busy": "2021-10-13T11:29:00.604336Z",
     "iopub.status.idle": "2021-10-13T11:29:00.605968Z",
     "shell.execute_reply": "2021-10-13T11:29:00.606343Z"
    },
    "slideshow": {
     "slide_type": "fragment"
    }
   },
   "outputs": [],
   "source": [
    "class ConditionalTracer(ConditionalTracer):\n",
    "    def eval_in_context(self, expr: str, frame: FrameType) -> Any:\n",
    "        frame.f_locals['function'] = frame.f_code.co_name\n",
    "        frame.f_locals['line'] = frame.f_lineno\n",
    "\n",
    "        return super().eval_in_context(expr, frame)"
   ]
  },
  {
   "cell_type": "markdown",
   "metadata": {
    "slideshow": {
     "slide_type": "subslide"
    }
   },
   "source": [
    "Again, here is an example. We focus on the parts of the function where the `out` variable is being set:"
   ]
  },
  {
   "cell_type": "code",
   "execution_count": 48,
   "metadata": {
    "execution": {
     "iopub.execute_input": "2021-10-13T11:29:00.609726Z",
     "iopub.status.busy": "2021-10-13T11:29:00.609118Z",
     "iopub.status.idle": "2021-10-13T11:29:00.667529Z",
     "shell.execute_reply": "2021-10-13T11:29:00.642214Z"
    },
    "slideshow": {
     "slide_type": "subslide"
    }
   },
   "outputs": [
    {
     "name": "stdout",
     "output_type": "stream",
     "text": [
      "...\n",
      "Calling remove_html_markup(s = 'xyz', function = 'remove_html_markup', line = 238)\n",
      "                                         # line = 239\n",
      "239     tag = False\n",
      "                                         # line = 240, tag = False\n",
      "240     quote = False\n",
      "                                         # line = 241, quote = False\n",
      "241     out = \"\"\n",
      "                                         # line = 243, out = ''\n",
      "243     for c in s:\n",
      "                                         # line = 244, c = 'x'\n",
      "244         assert tag or not quote\n",
      "                                         # line = 246\n",
      "246         if c == '<' and not quote:\n",
      "                                         # line = 248\n",
      "248         elif c == '>' and not quote:\n",
      "                                         # line = 250\n",
      "250         elif (c == '\"' or c == \"'\") and tag:\n",
      "                                         # line = 252\n",
      "252         elif not tag:\n",
      "                                         # line = 253\n",
      "253             out = out + c\n",
      "                                         # line = 243, out = 'x'\n",
      "243     for c in s:\n",
      "                                         # line = 244, c = 'y'\n",
      "244         assert tag or not quote\n",
      "                                         # line = 246\n",
      "246         if c == '<' and not quote:\n",
      "                                         # line = 248\n",
      "248         elif c == '>' and not quote:\n",
      "                                         # line = 250\n",
      "250         elif (c == '\"' or c == \"'\") and tag:\n",
      "                                         # line = 252\n",
      "252         elif not tag:\n",
      "                                         # line = 253\n",
      "253             out = out + c\n",
      "                                         # line = 243, out = 'xy'\n",
      "243     for c in s:\n",
      "                                         # line = 244, c = 'z'\n",
      "244         assert tag or not quote\n",
      "                                         # line = 246\n",
      "246         if c == '<' and not quote:\n",
      "                                         # line = 248\n",
      "248         elif c == '>' and not quote:\n",
      "                                         # line = 250\n",
      "250         elif (c == '\"' or c == \"'\") and tag:\n",
      "                                         # line = 252\n",
      "252         elif not tag:\n",
      "                                         # line = 253\n",
      "253             out = out + c\n",
      "                                         # line = 243, out = 'xyz'\n",
      "243     for c in s:\n",
      "                                         # line = 255\n",
      "255     return out\n",
      "remove_html_markup() returns 'xyz'\n"
     ]
    }
   ],
   "source": [
    "with ConditionalTracer(condition=\"function == 'remove_html_markup' and line >= 237\"):\n",
    "    remove_html_markup('xyz')"
   ]
  },
  {
   "cell_type": "markdown",
   "metadata": {
    "slideshow": {
     "slide_type": "subslide"
    }
   },
   "source": [
    "Using `line` and `function` in conditions is equivalent to conventional _breakpoints_ in interactive debuggers. We will reencounter them in the next chapter."
   ]
  },
  {
   "cell_type": "code",
   "execution_count": 49,
   "metadata": {
    "execution": {
     "iopub.execute_input": "2021-10-13T11:29:00.673197Z",
     "iopub.status.busy": "2021-10-13T11:29:00.672625Z",
     "iopub.status.idle": "2021-10-13T11:29:00.675044Z",
     "shell.execute_reply": "2021-10-13T11:29:00.675447Z"
    },
    "slideshow": {
     "slide_type": "fragment"
    }
   },
   "outputs": [
    {
     "data": {
      "text/html": [
       "\n",
       "    \n",
       "    <script>\n",
       "    var bad_answers = new Map();\n",
       "\n",
       "    function answer(quiz_id) {\n",
       "        ans = 0;\n",
       "        for (i = 1;; i++) {\n",
       "            checkbox = document.getElementById(quiz_id + \"-\" + i.toString());\n",
       "            if (!checkbox)\n",
       "                break;\n",
       "            if (checkbox.checked)\n",
       "                ans |= (1 << i);\n",
       "        }\n",
       "        return ans;\n",
       "    }\n",
       "    function check_selection(quiz_id, correct_answer, multiple_choice, hint) {\n",
       "        given_answer = answer(quiz_id);\n",
       "        if (given_answer == correct_answer)\n",
       "        {\n",
       "            document.getElementById(quiz_id + \"-submit\").value = \"Correct!\";\n",
       "            document.getElementById(quiz_id + \"-hint\").innerHTML = \"\";\n",
       "\n",
       "            for (i = 1;; i++) {\n",
       "                checkbox = document.getElementById(quiz_id + \"-\" + i.toString());\n",
       "                label = document.getElementById(quiz_id + \"-\" + i.toString() + \"-label\")\n",
       "                if (!checkbox)\n",
       "                    break;\n",
       "    \n",
       "                if (checkbox.checked) {\n",
       "                    label.style.fontWeight = \"bold\";\n",
       "                }\n",
       "                else {\n",
       "                    label.style.textDecoration = \"line-through\";\n",
       "                }\n",
       "            }\n",
       "        }\n",
       "        else \n",
       "        {\n",
       "            document.getElementById(quiz_id + \"-submit\").value = \"Try again\";\n",
       "            \n",
       "            if (!bad_answers.has(quiz_id)) {\n",
       "                bad_answers.set(quiz_id, 1);\n",
       "            }\n",
       "            else {\n",
       "                bad_answers.set(quiz_id, bad_answers.get(quiz_id) + 1);\n",
       "            }\n",
       "\n",
       "            if (bad_answers.get(quiz_id) >= 2 && hint.length > 0) {\n",
       "                document.getElementById(quiz_id + \"-hint\").innerHTML = \n",
       "                    \"&nbsp;&nbsp;(Hint: <code>\" + hint + \"</code>)\";\n",
       "            }\n",
       "\n",
       "            if (!multiple_choice) {\n",
       "                for (i = 1;; i++) {\n",
       "                    checkbox = document.getElementById(quiz_id + \"-\" + i.toString());\n",
       "                    label = document.getElementById(quiz_id + \"-\" + i.toString() + \"-label\")\n",
       "\n",
       "                    if (!checkbox)\n",
       "                        break;\n",
       "                    if (checkbox.checked) {\n",
       "                        label.style.textDecoration = \"line-through\";\n",
       "                    }\n",
       "                }\n",
       "            }\n",
       "        }\n",
       "    }\n",
       "    function clear_selection(quiz_id) {\n",
       "        document.getElementById(quiz_id + \"-submit\").value = \"Submit\";\n",
       "        document.getElementById(quiz_id + \"-hint\").innerHTML = \"\";\n",
       "    }\n",
       "    </script>\n",
       "    \n",
       "    <div class=\"quiz\">\n",
       "    <h3 class=\"quiz_title\">Quiz</h3>\n",
       "    <p>\n",
       "    <div class=\"quiz_question\">If the program under test contains a variable named <code>line</code>, which <code>line</code> does the condition refer to?</div>\n",
       "    </p>\n",
       "    <p>\n",
       "    <div class=\"quiz_options\" title=\"Pick a choice.\">\n",
       "    \n",
       "        <input type=\"radio\" name=\"c3289312-2c18-11ec-9a7b-acde48001122\" id=\"c3289312-2c18-11ec-9a7b-acde48001122-1\" onclick=\"clear_selection('c3289312-2c18-11ec-9a7b-acde48001122')\">\n",
       "        <label id=\"c3289312-2c18-11ec-9a7b-acde48001122-1-label\" for=\"c3289312-2c18-11ec-9a7b-acde48001122-1\"><code>line</code> as in the debugger</label><br>\n",
       "    \n",
       "        <input type=\"radio\" name=\"c3289312-2c18-11ec-9a7b-acde48001122\" id=\"c3289312-2c18-11ec-9a7b-acde48001122-2\" onclick=\"clear_selection('c3289312-2c18-11ec-9a7b-acde48001122')\">\n",
       "        <label id=\"c3289312-2c18-11ec-9a7b-acde48001122-2-label\" for=\"c3289312-2c18-11ec-9a7b-acde48001122-2\"><code>line</code> as in the program</label><br>\n",
       "    \n",
       "    </div>\n",
       "    </p>\n",
       "    <input id=\"c3289312-2c18-11ec-9a7b-acde48001122-submit\" type=\"submit\" value=\"Submit\" onclick=\"check_selection('c3289312-2c18-11ec-9a7b-acde48001122', 2, 0, '(326 * 27 == 8888) + 1')\">\n",
       "    <span class=\"quiz_hint\" id=\"c3289312-2c18-11ec-9a7b-acde48001122-hint\"></span>\n",
       "    </div>\n",
       "    "
      ],
      "text/plain": [
       "<IPython.core.display.HTML object>"
      ]
     },
     "execution_count": 49,
     "metadata": {},
     "output_type": "execute_result"
    }
   ],
   "source": [
    "quiz(\"If the program under test contains a variable named `line`, \"\n",
    "     \"which `line` does the condition refer to?\",\n",
    "     [\n",
    "        \"`line` as in the debugger\",\n",
    "        \"`line` as in the program\"\n",
    "     ], '(326 * 27 == 8888) + 1')"
   ]
  },
  {
   "cell_type": "markdown",
   "metadata": {
    "slideshow": {
     "slide_type": "slide"
    }
   },
   "source": [
    "## Watching Events\n",
    "\n",
    "As an alternative to conditional logging, we may also be interested to exactly trace when a variable not only _has_ a particular value, but also when it _changes_ its value.\n",
    "\n",
    "To this end, we set up an `EventTracer` class that _watches_ when some event takes place. It takes a list of expressions (\"events\") and evaluates them for each line; if any event changes its value, we log the status."
   ]
  },
  {
   "cell_type": "markdown",
   "metadata": {
    "slideshow": {
     "slide_type": "subslide"
    }
   },
   "source": [
    "With\n",
    "\n",
    "```python\n",
    "with EventTracer(events=['tag', 'quote']):\n",
    "    remove_html_markup(...)\n",
    "```\n",
    "\n",
    "for instance, we would get a listing of all lines where `tag` or `quote` change their value; and with\n",
    "\n",
    "```python\n",
    "with EventTracer(events=['function']):\n",
    "    remove_html_markup(...)\n",
    "```\n",
    "\n",
    "we would obtain a listing of all lines where the current function changes."
   ]
  },
  {
   "cell_type": "markdown",
   "metadata": {
    "slideshow": {
     "slide_type": "subslide"
    }
   },
   "source": [
    "Our `EventTracer` class stores the list of events in its `events` attribute:"
   ]
  },
  {
   "cell_type": "code",
   "execution_count": 50,
   "metadata": {
    "execution": {
     "iopub.execute_input": "2021-10-13T11:29:00.679725Z",
     "iopub.status.busy": "2021-10-13T11:29:00.679203Z",
     "iopub.status.idle": "2021-10-13T11:29:00.681318Z",
     "shell.execute_reply": "2021-10-13T11:29:00.680935Z"
    },
    "slideshow": {
     "slide_type": "fragment"
    }
   },
   "outputs": [],
   "source": [
    "class EventTracer(ConditionalTracer):\n",
    "    \"\"\"Log when a given event expression changes its value\"\"\"\n",
    "\n",
    "    def __init__(self, *, condition: Optional[str] = None,\n",
    "                 events: List[str] = [], file: TextIO = sys.stdout) -> None:\n",
    "        \"\"\"Constructor. `events` is a list of expressions to watch.\"\"\"\n",
    "        self.events = events\n",
    "        self.last_event_values: Dict[str, Any] = {}\n",
    "        super().__init__(file=file, condition=condition)"
   ]
  },
  {
   "cell_type": "markdown",
   "metadata": {
    "slideshow": {
     "slide_type": "fragment"
    }
   },
   "source": [
    "Its `events_changed()` function _evaluates_ the individual events and checks if they change."
   ]
  },
  {
   "cell_type": "code",
   "execution_count": 51,
   "metadata": {
    "execution": {
     "iopub.execute_input": "2021-10-13T11:29:00.685474Z",
     "iopub.status.busy": "2021-10-13T11:29:00.684962Z",
     "iopub.status.idle": "2021-10-13T11:29:00.686603Z",
     "shell.execute_reply": "2021-10-13T11:29:00.686979Z"
    },
    "slideshow": {
     "slide_type": "subslide"
    }
   },
   "outputs": [],
   "source": [
    "class EventTracer(EventTracer):\n",
    "    def events_changed(self, events: List[str], frame: FrameType) -> bool:\n",
    "        \"\"\"Return True if any of the observed `events` has changed\"\"\"\n",
    "        change = False\n",
    "        for event in events:\n",
    "            value = self.eval_in_context(event, frame)\n",
    "\n",
    "            if (event not in self.last_event_values or\n",
    "                    value != self.last_event_values[event]):\n",
    "                self.last_event_values[event] = value\n",
    "                change = True\n",
    "\n",
    "        return change"
   ]
  },
  {
   "cell_type": "markdown",
   "metadata": {
    "slideshow": {
     "slide_type": "fragment"
    }
   },
   "source": [
    "We hook this into `do_report()`, the method that determines whether a line should be shown."
   ]
  },
  {
   "cell_type": "code",
   "execution_count": 52,
   "metadata": {
    "execution": {
     "iopub.execute_input": "2021-10-13T11:29:00.691638Z",
     "iopub.status.busy": "2021-10-13T11:29:00.690849Z",
     "iopub.status.idle": "2021-10-13T11:29:00.692524Z",
     "shell.execute_reply": "2021-10-13T11:29:00.692972Z"
    },
    "slideshow": {
     "slide_type": "subslide"
    }
   },
   "outputs": [],
   "source": [
    "class EventTracer(EventTracer):\n",
    "    def do_report(self, frame: FrameType, event: str, arg: Any) -> bool:\n",
    "        \"\"\"Return True if a line should be shown\"\"\"\n",
    "        return (self.eval_in_context(self.condition, frame) or\n",
    "                self.events_changed(self.events, frame))"
   ]
  },
  {
   "cell_type": "markdown",
   "metadata": {
    "slideshow": {
     "slide_type": "fragment"
    }
   },
   "source": [
    "This allows us to track, for instance, how `quote` and `tag` change their values over time."
   ]
  },
  {
   "cell_type": "code",
   "execution_count": 53,
   "metadata": {
    "execution": {
     "iopub.execute_input": "2021-10-13T11:29:00.696484Z",
     "iopub.status.busy": "2021-10-13T11:29:00.695737Z",
     "iopub.status.idle": "2021-10-13T11:29:00.717954Z",
     "shell.execute_reply": "2021-10-13T11:29:00.712025Z"
    },
    "slideshow": {
     "slide_type": "subslide"
    }
   },
   "outputs": [
    {
     "name": "stdout",
     "output_type": "stream",
     "text": [
      "...\n",
      "Calling remove_html_markup(s = '<b title=\"bar\">\"foo\"</b>', function = 'remove_html_markup', line = 238)\n",
      "...\n",
      "                                         # line = 240, tag = False\n",
      "240     quote = False\n",
      "                                         # line = 241, quote = False\n",
      "241     out = \"\"\n",
      "...\n",
      "                                         # line = 243, tag = True, out = '', c = '<'\n",
      "243     for c in s:\n",
      "...\n",
      "                                         # quote = True, c = '\"'\n",
      "243     for c in s:\n",
      "...\n",
      "                                         # quote = False\n",
      "243     for c in s:\n",
      "...\n",
      "                                         # tag = False, c = '>'\n",
      "243     for c in s:\n",
      "...\n",
      "                                         # tag = True, out = '\"foo\"', c = '<'\n",
      "243     for c in s:\n",
      "...\n",
      "                                         # tag = False, c = '>'\n",
      "243     for c in s:\n"
     ]
    }
   ],
   "source": [
    "with EventTracer(events=['quote', 'tag']):\n",
    "    remove_html_markup('<b title=\"bar\">\"foo\"</b>')"
   ]
  },
  {
   "cell_type": "markdown",
   "metadata": {
    "slideshow": {
     "slide_type": "subslide"
    }
   },
   "source": [
    "Continuously monitoring variable values at execution time is equivalent to the concept of *watchpoints* in interactive debuggers."
   ]
  },
  {
   "cell_type": "markdown",
   "metadata": {
    "slideshow": {
     "slide_type": "fragment"
    }
   },
   "source": [
    "With this, we have all we need for observing what happens during execution: We can explore the entire state, and we can evaluate conditions and events we are interested in. In the next chapter, we will see how to turn these capabilities into an interactive debugger, where we can query all these things interactively."
   ]
  },
  {
   "cell_type": "markdown",
   "metadata": {
    "slideshow": {
     "slide_type": "slide"
    }
   },
   "source": [
    "## Efficient Tracing\n",
    "\n",
    "While our framework is very flexible (and can still be extended further), it also is _slow_, since we have to evaluate all conditions and events for every single line of the program. Just how slow are things? We can easily measure this."
   ]
  },
  {
   "cell_type": "code",
   "execution_count": 54,
   "metadata": {
    "execution": {
     "iopub.execute_input": "2021-10-13T11:29:00.721170Z",
     "iopub.status.busy": "2021-10-13T11:29:00.720659Z",
     "iopub.status.idle": "2021-10-13T11:29:00.744753Z",
     "shell.execute_reply": "2021-10-13T11:29:00.745154Z"
    },
    "slideshow": {
     "slide_type": "skip"
    }
   },
   "outputs": [],
   "source": [
    "from Timer import Timer"
   ]
  },
  {
   "cell_type": "code",
   "execution_count": 55,
   "metadata": {
    "execution": {
     "iopub.execute_input": "2021-10-13T11:29:00.749227Z",
     "iopub.status.busy": "2021-10-13T11:29:00.748417Z",
     "iopub.status.idle": "2021-10-13T11:29:00.750391Z",
     "shell.execute_reply": "2021-10-13T11:29:00.750823Z"
    },
    "slideshow": {
     "slide_type": "fragment"
    }
   },
   "outputs": [],
   "source": [
    "runs = 1000"
   ]
  },
  {
   "cell_type": "markdown",
   "metadata": {
    "slideshow": {
     "slide_type": "fragment"
    }
   },
   "source": [
    "Here's the untraced execution time in seconds:"
   ]
  },
  {
   "cell_type": "code",
   "execution_count": 56,
   "metadata": {
    "execution": {
     "iopub.execute_input": "2021-10-13T11:29:00.758185Z",
     "iopub.status.busy": "2021-10-13T11:29:00.757518Z",
     "iopub.status.idle": "2021-10-13T11:29:00.760013Z",
     "shell.execute_reply": "2021-10-13T11:29:00.760386Z"
    },
    "slideshow": {
     "slide_type": "fragment"
    }
   },
   "outputs": [
    {
     "data": {
      "text/plain": [
       "0.0026546870000001555"
      ]
     },
     "execution_count": 56,
     "metadata": {},
     "output_type": "execute_result"
    }
   ],
   "source": [
    "with Timer() as t:\n",
    "    for i in range(runs):\n",
    "        remove_html_markup('<b title=\"bar\">\"foo\"</b>')\n",
    "untraced_execution_time = t.elapsed_time()\n",
    "untraced_execution_time"
   ]
  },
  {
   "cell_type": "markdown",
   "metadata": {
    "slideshow": {
     "slide_type": "fragment"
    }
   },
   "source": [
    "And here's the _traced_ execution time:"
   ]
  },
  {
   "cell_type": "code",
   "execution_count": 57,
   "metadata": {
    "execution": {
     "iopub.execute_input": "2021-10-13T11:29:00.811935Z",
     "iopub.status.busy": "2021-10-13T11:29:00.768925Z",
     "iopub.status.idle": "2021-10-13T11:29:01.998167Z",
     "shell.execute_reply": "2021-10-13T11:29:01.998646Z"
    },
    "slideshow": {
     "slide_type": "subslide"
    }
   },
   "outputs": [
    {
     "data": {
      "text/plain": [
       "1.231144639"
      ]
     },
     "execution_count": 57,
     "metadata": {},
     "output_type": "execute_result"
    }
   ],
   "source": [
    "with Timer() as t:\n",
    "    for i in range(runs):\n",
    "        with EventTracer():\n",
    "            remove_html_markup('<b title=\"bar\">\"foo\"</b>')\n",
    "traced_execution_time = t.elapsed_time()\n",
    "traced_execution_time"
   ]
  },
  {
   "cell_type": "markdown",
   "metadata": {
    "slideshow": {
     "slide_type": "fragment"
    }
   },
   "source": [
    "We see that the _traced_ execution time is several hundred times slower:"
   ]
  },
  {
   "cell_type": "code",
   "execution_count": 58,
   "metadata": {
    "execution": {
     "iopub.execute_input": "2021-10-13T11:29:02.005677Z",
     "iopub.status.busy": "2021-10-13T11:29:02.004057Z",
     "iopub.status.idle": "2021-10-13T11:29:02.008619Z",
     "shell.execute_reply": "2021-10-13T11:29:02.009019Z"
    },
    "slideshow": {
     "slide_type": "fragment"
    }
   },
   "outputs": [
    {
     "data": {
      "text/plain": [
       "463.7626352937005"
      ]
     },
     "execution_count": 58,
     "metadata": {},
     "output_type": "execute_result"
    }
   ],
   "source": [
    "traced_execution_time / untraced_execution_time"
   ]
  },
  {
   "cell_type": "markdown",
   "metadata": {
    "slideshow": {
     "slide_type": "fragment"
    }
   },
   "source": [
    "We can still speed up our implementation somewhat, but still will get nowhere near the untraced execution time."
   ]
  },
  {
   "cell_type": "markdown",
   "metadata": {
    "slideshow": {
     "slide_type": "subslide"
    }
   },
   "source": [
    "There is a trick, though, that allows us to execute programs at full speed while being traced. Rather than _dynamically_ checking at run time whether a condition is met, we can also _statically_ inject appropriate code into the program under test. This way, the non-traced code is executed at normal speed."
   ]
  },
  {
   "cell_type": "markdown",
   "metadata": {
    "slideshow": {
     "slide_type": "fragment"
    }
   },
   "source": [
    "There is a downside, though: This only works if the condition to be checked is limited to specific _locations_ – because it is precisely these locations where we insert our tracing code. With this limitation, though, _static_ tracing can speed up things significantly."
   ]
  },
  {
   "cell_type": "markdown",
   "metadata": {
    "slideshow": {
     "slide_type": "fragment"
    }
   },
   "source": [
    "How does static code injection work? The trick involves _rewriting_ the program code to insert special _debugging statements_ at the given locations. This way, we do not need to use the tracing function at all."
   ]
  },
  {
   "cell_type": "markdown",
   "metadata": {
    "slideshow": {
     "slide_type": "subslide"
    }
   },
   "source": [
    "The following `insert_tracer()` function demonstrates this. It takes a function as well as a list of _breakpoint_ lines where to insert tracing statements. At each given line, it injects the code"
   ]
  },
  {
   "cell_type": "code",
   "execution_count": 59,
   "metadata": {
    "execution": {
     "iopub.execute_input": "2021-10-13T11:29:02.013438Z",
     "iopub.status.busy": "2021-10-13T11:29:02.012827Z",
     "iopub.status.idle": "2021-10-13T11:29:02.014618Z",
     "shell.execute_reply": "2021-10-13T11:29:02.015062Z"
    },
    "slideshow": {
     "slide_type": "fragment"
    }
   },
   "outputs": [],
   "source": [
    "TRACER_CODE = \\\n",
    "    \"TRACER.print_debugger_status(inspect.currentframe(), 'line', None); \""
   ]
  },
  {
   "cell_type": "markdown",
   "metadata": {
    "slideshow": {
     "slide_type": "fragment"
    }
   },
   "source": [
    "into the function definition, which calls into this tracer:"
   ]
  },
  {
   "cell_type": "code",
   "execution_count": 60,
   "metadata": {
    "execution": {
     "iopub.execute_input": "2021-10-13T11:29:02.018473Z",
     "iopub.status.busy": "2021-10-13T11:29:02.017800Z",
     "iopub.status.idle": "2021-10-13T11:29:02.019902Z",
     "shell.execute_reply": "2021-10-13T11:29:02.020592Z"
    },
    "slideshow": {
     "slide_type": "fragment"
    }
   },
   "outputs": [],
   "source": [
    "TRACER = Tracer()"
   ]
  },
  {
   "cell_type": "markdown",
   "metadata": {
    "slideshow": {
     "slide_type": "fragment"
    }
   },
   "source": [
    "`insert_tracer()` then _compiles_ the resulting code into a new \"traced\" function, which it then returns."
   ]
  },
  {
   "cell_type": "code",
   "execution_count": 61,
   "metadata": {
    "execution": {
     "iopub.execute_input": "2021-10-13T11:29:02.028791Z",
     "iopub.status.busy": "2021-10-13T11:29:02.028221Z",
     "iopub.status.idle": "2021-10-13T11:29:02.029895Z",
     "shell.execute_reply": "2021-10-13T11:29:02.030282Z"
    },
    "slideshow": {
     "slide_type": "subslide"
    }
   },
   "outputs": [],
   "source": [
    "def insert_tracer(function: Callable, breakpoints: List[int] = []) -> Callable:\n",
    "    \"\"\"Return a variant of `function` with tracing code `TRACER_CODE` inserted\n",
    "       at each line given by `breakpoints`.\"\"\"\n",
    "\n",
    "    source_lines, starting_line_number = inspect.getsourcelines(function)\n",
    "\n",
    "    breakpoints.sort(reverse=True)\n",
    "    for given_line in breakpoints:\n",
    "        # Set new source line\n",
    "        relative_line = given_line - starting_line_number + 1\n",
    "        inject_line = source_lines[relative_line - 1]\n",
    "        indent = len(inject_line) - len(inject_line.lstrip())\n",
    "        source_lines[relative_line - 1] = ' ' * indent + TRACER_CODE + inject_line.lstrip()\n",
    "\n",
    "    # Rename function\n",
    "    new_function_name = function.__name__ + \"_traced\"\n",
    "    source_lines[0] = source_lines[0].replace(function.__name__, new_function_name)\n",
    "    new_def = \"\".join(source_lines)\n",
    "\n",
    "    # For debugging\n",
    "    print_content(new_def, '.py', start_line_number=starting_line_number)\n",
    "\n",
    "    # We keep original source and filename to ease debugging\n",
    "    prefix = '\\n' * starting_line_number    # Get line number right\n",
    "    new_function_code = compile(prefix + new_def, function.__code__.co_filename, 'exec')\n",
    "    exec(new_function_code)\n",
    "    new_function = eval(new_function_name)\n",
    "    return new_function"
   ]
  },
  {
   "cell_type": "markdown",
   "metadata": {
    "slideshow": {
     "slide_type": "subslide"
    }
   },
   "source": [
    "Here's an example: inserting two breakpoints in (relative) Lines 7 and 18 of `remove_html_markup()` results in the following (rewritten) definition of `remove_html_markup_traced()`:"
   ]
  },
  {
   "cell_type": "code",
   "execution_count": 62,
   "metadata": {
    "execution": {
     "iopub.execute_input": "2021-10-13T11:29:02.035561Z",
     "iopub.status.busy": "2021-10-13T11:29:02.034874Z",
     "iopub.status.idle": "2021-10-13T11:29:02.037235Z",
     "shell.execute_reply": "2021-10-13T11:29:02.037894Z"
    },
    "slideshow": {
     "slide_type": "fragment"
    }
   },
   "outputs": [],
   "source": [
    "_, remove_html_markup_starting_line_number = inspect.getsourcelines(remove_html_markup)\n",
    "breakpoints = [(remove_html_markup_starting_line_number - 1) + 7, \n",
    "               (remove_html_markup_starting_line_number - 1) + 18]"
   ]
  },
  {
   "cell_type": "code",
   "execution_count": 63,
   "metadata": {
    "execution": {
     "iopub.execute_input": "2021-10-13T11:29:02.053806Z",
     "iopub.status.busy": "2021-10-13T11:29:02.052981Z",
     "iopub.status.idle": "2021-10-13T11:29:02.056430Z",
     "shell.execute_reply": "2021-10-13T11:29:02.057256Z"
    },
    "slideshow": {
     "slide_type": "subslide"
    }
   },
   "outputs": [
    {
     "name": "stdout",
     "output_type": "stream",
     "text": [
      "238  \u001b[34mdef\u001b[39;49;00m \u001b[32mremove_html_markup_traced\u001b[39;49;00m(s):  \u001b[37m# type: ignore\u001b[39;49;00m\n",
      "239      tag = \u001b[34mFalse\u001b[39;49;00m\n",
      "240      quote = \u001b[34mFalse\u001b[39;49;00m\n",
      "241      out = \u001b[33m\"\u001b[39;49;00m\u001b[33m\"\u001b[39;49;00m\n",
      "242  \n",
      "243      \u001b[34mfor\u001b[39;49;00m c \u001b[35min\u001b[39;49;00m s:\n",
      "244          TRACER.print_debugger_status(inspect.currentframe(), \u001b[33m'\u001b[39;49;00m\u001b[33mline\u001b[39;49;00m\u001b[33m'\u001b[39;49;00m, \u001b[34mNone\u001b[39;49;00m); \u001b[34massert\u001b[39;49;00m tag \u001b[35mor\u001b[39;49;00m \u001b[35mnot\u001b[39;49;00m quote\n",
      "245  \n",
      "246          \u001b[34mif\u001b[39;49;00m c == \u001b[33m'\u001b[39;49;00m\u001b[33m<\u001b[39;49;00m\u001b[33m'\u001b[39;49;00m \u001b[35mand\u001b[39;49;00m \u001b[35mnot\u001b[39;49;00m quote:\n",
      "247              tag = \u001b[34mTrue\u001b[39;49;00m\n",
      "248          \u001b[34melif\u001b[39;49;00m c == \u001b[33m'\u001b[39;49;00m\u001b[33m>\u001b[39;49;00m\u001b[33m'\u001b[39;49;00m \u001b[35mand\u001b[39;49;00m \u001b[35mnot\u001b[39;49;00m quote:\n",
      "249              tag = \u001b[34mFalse\u001b[39;49;00m\n",
      "250          \u001b[34melif\u001b[39;49;00m (c == \u001b[33m'\u001b[39;49;00m\u001b[33m\"\u001b[39;49;00m\u001b[33m'\u001b[39;49;00m \u001b[35mor\u001b[39;49;00m c == \u001b[33m\"\u001b[39;49;00m\u001b[33m'\u001b[39;49;00m\u001b[33m\"\u001b[39;49;00m) \u001b[35mand\u001b[39;49;00m tag:\n",
      "251              quote = \u001b[35mnot\u001b[39;49;00m quote\n",
      "252          \u001b[34melif\u001b[39;49;00m \u001b[35mnot\u001b[39;49;00m tag:\n",
      "253              out = out + c\n",
      "254  \n",
      "255      TRACER.print_debugger_status(inspect.currentframe(), \u001b[33m'\u001b[39;49;00m\u001b[33mline\u001b[39;49;00m\u001b[33m'\u001b[39;49;00m, \u001b[34mNone\u001b[39;49;00m); \u001b[34mreturn\u001b[39;49;00m out"
     ]
    }
   ],
   "source": [
    "remove_html_markup_traced = insert_tracer(remove_html_markup, breakpoints)"
   ]
  },
  {
   "cell_type": "markdown",
   "metadata": {
    "slideshow": {
     "slide_type": "subslide"
    }
   },
   "source": [
    "If we execute the statically instrumented `remove_html_markup_traced()`, we obtain the same output as when using a dynamic tracer. Note that the source code listed shows the original code; the injected calls into `TRACER` do not show up."
   ]
  },
  {
   "cell_type": "code",
   "execution_count": 64,
   "metadata": {
    "execution": {
     "iopub.execute_input": "2021-10-13T11:29:02.062802Z",
     "iopub.status.busy": "2021-10-13T11:29:02.062072Z",
     "iopub.status.idle": "2021-10-13T11:29:02.117227Z",
     "shell.execute_reply": "2021-10-13T11:29:02.096466Z"
    },
    "slideshow": {
     "slide_type": "subslide"
    }
   },
   "outputs": [
    {
     "name": "stdout",
     "output_type": "stream",
     "text": [
      "                                         # s = '<b title=\"bar\">\"foo\"</b>', tag = False, quote = False, out = '', c = '<'\n",
      "245 \n",
      "                                         # tag = True, c = 'b'\n",
      "245 \n",
      "                                         # c = ' '\n",
      "245 \n",
      "                                         # c = 't'\n",
      "245 \n",
      "                                         # c = 'i'\n",
      "245 \n",
      "                                         # c = 't'\n",
      "245 \n",
      "                                         # c = 'l'\n",
      "245 \n",
      "                                         # c = 'e'\n",
      "245 \n",
      "                                         # c = '='\n",
      "245 \n",
      "                                         # c = '\"'\n",
      "245 \n",
      "                                         # quote = True, c = 'b'\n",
      "245 \n",
      "                                         # c = 'a'\n",
      "245 \n",
      "                                         # c = 'r'\n",
      "245 \n",
      "                                         # c = '\"'\n",
      "245 \n",
      "                                         # quote = False, c = '>'\n",
      "245 \n",
      "                                         # tag = False, c = '\"'\n",
      "245 \n",
      "                                         # out = '\"', c = 'f'\n",
      "245 \n",
      "                                         # out = '\"f', c = 'o'\n",
      "245 \n",
      "                                         # out = '\"fo'\n",
      "245 \n",
      "                                         # out = '\"foo', c = '\"'\n",
      "245 \n",
      "                                         # out = '\"foo\"', c = '<'\n",
      "245 \n",
      "                                         # tag = True, c = '/'\n",
      "245 \n",
      "                                         # c = 'b'\n",
      "245 \n",
      "                                         # c = '>'\n",
      "245 \n",
      "                                         # tag = False\n",
      "256 \n"
     ]
    }
   ],
   "source": [
    "with Timer() as t:\n",
    "    remove_html_markup_traced('<b title=\"bar\">\"foo\"</b>')\n",
    "static_tracer_execution_time = t.elapsed_time()"
   ]
  },
  {
   "cell_type": "markdown",
   "metadata": {
    "slideshow": {
     "slide_type": "subslide"
    }
   },
   "source": [
    "How fast is the static tracer compared with the dynamic tracer? This is the execution time of the above code:"
   ]
  },
  {
   "cell_type": "code",
   "execution_count": 65,
   "metadata": {
    "execution": {
     "iopub.execute_input": "2021-10-13T11:29:02.122385Z",
     "iopub.status.busy": "2021-10-13T11:29:02.121447Z",
     "iopub.status.idle": "2021-10-13T11:29:02.124974Z",
     "shell.execute_reply": "2021-10-13T11:29:02.124554Z"
    },
    "slideshow": {
     "slide_type": "fragment"
    }
   },
   "outputs": [
    {
     "data": {
      "text/plain": [
       "0.03070611199999984"
      ]
     },
     "execution_count": 65,
     "metadata": {},
     "output_type": "execute_result"
    }
   ],
   "source": [
    "static_tracer_execution_time"
   ]
  },
  {
   "cell_type": "markdown",
   "metadata": {
    "slideshow": {
     "slide_type": "fragment"
    }
   },
   "source": [
    "Compare this with the equivalent dynamic tracer:"
   ]
  },
  {
   "cell_type": "code",
   "execution_count": 66,
   "metadata": {
    "execution": {
     "iopub.execute_input": "2021-10-13T11:29:02.129050Z",
     "iopub.status.busy": "2021-10-13T11:29:02.128528Z",
     "iopub.status.idle": "2021-10-13T11:29:02.195777Z",
     "shell.execute_reply": "2021-10-13T11:29:02.166713Z"
    },
    "slideshow": {
     "slide_type": "subslide"
    }
   },
   "outputs": [
    {
     "name": "stdout",
     "output_type": "stream",
     "text": [
      "...\n",
      "                                         # s = '<b title=\"bar\">\"foo\"</b>', function = 'remove_html_markup', line = 244, tag = False, quote = False, out = '', c = '<'\n",
      "244         assert tag or not quote\n",
      "...\n",
      "                                         # tag = True, c = 'b'\n",
      "244         assert tag or not quote\n",
      "...\n",
      "                                         # c = ' '\n",
      "244         assert tag or not quote\n",
      "...\n",
      "                                         # c = 't'\n",
      "244         assert tag or not quote\n",
      "...\n",
      "                                         # c = 'i'\n",
      "244         assert tag or not quote\n",
      "...\n",
      "                                         # c = 't'\n",
      "244         assert tag or not quote\n",
      "...\n",
      "                                         # c = 'l'\n",
      "244         assert tag or not quote\n",
      "...\n",
      "                                         # c = 'e'\n",
      "244         assert tag or not quote\n",
      "...\n",
      "                                         # c = '='\n",
      "244         assert tag or not quote\n",
      "...\n",
      "                                         # c = '\"'\n",
      "244         assert tag or not quote\n",
      "...\n",
      "                                         # quote = True, c = 'b'\n",
      "244         assert tag or not quote\n",
      "...\n",
      "                                         # c = 'a'\n",
      "244         assert tag or not quote\n",
      "...\n",
      "                                         # c = 'r'\n",
      "244         assert tag or not quote\n",
      "...\n",
      "                                         # c = '\"'\n",
      "244         assert tag or not quote\n",
      "...\n",
      "                                         # quote = False, c = '>'\n",
      "244         assert tag or not quote\n",
      "...\n",
      "                                         # tag = False, c = '\"'\n",
      "244         assert tag or not quote\n",
      "...\n",
      "                                         # out = '\"', c = 'f'\n",
      "244         assert tag or not quote\n",
      "...\n",
      "                                         # out = '\"f', c = 'o'\n",
      "244         assert tag or not quote\n",
      "...\n",
      "                                         # out = '\"fo'\n",
      "244         assert tag or not quote\n",
      "...\n",
      "                                         # out = '\"foo', c = '\"'\n",
      "244         assert tag or not quote\n",
      "...\n",
      "                                         # out = '\"foo\"', c = '<'\n",
      "244         assert tag or not quote\n",
      "...\n",
      "                                         # tag = True, c = '/'\n",
      "244         assert tag or not quote\n",
      "...\n",
      "                                         # c = 'b'\n",
      "244         assert tag or not quote\n",
      "...\n",
      "                                         # c = '>'\n",
      "244         assert tag or not quote\n",
      "...\n",
      "                                         # line = 255, tag = False\n",
      "255     return out\n",
      "remove_html_markup() returns '\"foo\"'\n"
     ]
    },
    {
     "data": {
      "text/plain": [
       "0.034549482000000076"
      ]
     },
     "execution_count": 66,
     "metadata": {},
     "output_type": "execute_result"
    }
   ],
   "source": [
    "line7 = (remove_html_markup_starting_line_number - 1) + 7\n",
    "line18 = (remove_html_markup_starting_line_number - 1) + 18\n",
    "\n",
    "with Timer() as t:\n",
    "    with EventTracer(condition=f'line == {line7} or line == {line18}'):\n",
    "        remove_html_markup('<b title=\"bar\">\"foo\"</b>')\n",
    "\n",
    "dynamic_tracer_execution_time = t.elapsed_time()\n",
    "dynamic_tracer_execution_time"
   ]
  },
  {
   "cell_type": "code",
   "execution_count": 67,
   "metadata": {
    "execution": {
     "iopub.execute_input": "2021-10-13T11:29:02.199600Z",
     "iopub.status.busy": "2021-10-13T11:29:02.199023Z",
     "iopub.status.idle": "2021-10-13T11:29:02.201301Z",
     "shell.execute_reply": "2021-10-13T11:29:02.201673Z"
    },
    "slideshow": {
     "slide_type": "subslide"
    }
   },
   "outputs": [
    {
     "data": {
      "text/plain": [
       "1.1251662861126883"
      ]
     },
     "execution_count": 67,
     "metadata": {},
     "output_type": "execute_result"
    }
   ],
   "source": [
    "dynamic_tracer_execution_time / static_tracer_execution_time"
   ]
  },
  {
   "cell_type": "markdown",
   "metadata": {
    "slideshow": {
     "slide_type": "fragment"
    }
   },
   "source": [
    "We see that the static tracker is several times faster – an advantage that will only increase further as more non-traced code is executed. If our code looks like this:"
   ]
  },
  {
   "cell_type": "code",
   "execution_count": 68,
   "metadata": {
    "execution": {
     "iopub.execute_input": "2021-10-13T11:29:02.204866Z",
     "iopub.status.busy": "2021-10-13T11:29:02.204349Z",
     "iopub.status.idle": "2021-10-13T11:29:02.206018Z",
     "shell.execute_reply": "2021-10-13T11:29:02.206387Z"
    },
    "slideshow": {
     "slide_type": "fragment"
    }
   },
   "outputs": [],
   "source": [
    "def some_extreme_function(s: str) -> None:\n",
    "    ...  # Long-running function\n",
    "    remove_html_markup(s)"
   ]
  },
  {
   "cell_type": "markdown",
   "metadata": {
    "slideshow": {
     "slide_type": "fragment"
    }
   },
   "source": [
    "and we then execute it with"
   ]
  },
  {
   "cell_type": "code",
   "execution_count": 69,
   "metadata": {
    "execution": {
     "iopub.execute_input": "2021-10-13T11:29:02.209984Z",
     "iopub.status.busy": "2021-10-13T11:29:02.209395Z",
     "iopub.status.idle": "2021-10-13T11:29:02.214224Z",
     "shell.execute_reply": "2021-10-13T11:29:02.213778Z"
    },
    "slideshow": {
     "slide_type": "subslide"
    }
   },
   "outputs": [
    {
     "name": "stdout",
     "output_type": "stream",
     "text": [
      "...\n",
      "                                         # s = 'foo', function = 'remove_html_markup', line = 255, tag = False, quote = False, out = 'foo', c = 'o'\n",
      "255     return out\n",
      "remove_html_markup() returns 'foo'\n"
     ]
    }
   ],
   "source": [
    "with EventTracer(condition=f\"function=='remove_html_markup' and line == {line18}\"):\n",
    "    some_extreme_function(\"foo\")"
   ]
  },
  {
   "cell_type": "markdown",
   "metadata": {
    "slideshow": {
     "slide_type": "fragment"
    }
   },
   "source": [
    "we will spend quite some time."
   ]
  },
  {
   "cell_type": "code",
   "execution_count": 70,
   "metadata": {
    "execution": {
     "iopub.execute_input": "2021-10-13T11:29:02.221198Z",
     "iopub.status.busy": "2021-10-13T11:29:02.220583Z",
     "iopub.status.idle": "2021-10-13T11:29:02.223089Z",
     "shell.execute_reply": "2021-10-13T11:29:02.223532Z"
    },
    "slideshow": {
     "slide_type": "subslide"
    }
   },
   "outputs": [
    {
     "data": {
      "text/html": [
       "\n",
       "    \n",
       "    <script>\n",
       "    var bad_answers = new Map();\n",
       "\n",
       "    function answer(quiz_id) {\n",
       "        ans = 0;\n",
       "        for (i = 1;; i++) {\n",
       "            checkbox = document.getElementById(quiz_id + \"-\" + i.toString());\n",
       "            if (!checkbox)\n",
       "                break;\n",
       "            if (checkbox.checked)\n",
       "                ans |= (1 << i);\n",
       "        }\n",
       "        return ans;\n",
       "    }\n",
       "    function check_selection(quiz_id, correct_answer, multiple_choice, hint) {\n",
       "        given_answer = answer(quiz_id);\n",
       "        if (given_answer == correct_answer)\n",
       "        {\n",
       "            document.getElementById(quiz_id + \"-submit\").value = \"Correct!\";\n",
       "            document.getElementById(quiz_id + \"-hint\").innerHTML = \"\";\n",
       "\n",
       "            for (i = 1;; i++) {\n",
       "                checkbox = document.getElementById(quiz_id + \"-\" + i.toString());\n",
       "                label = document.getElementById(quiz_id + \"-\" + i.toString() + \"-label\")\n",
       "                if (!checkbox)\n",
       "                    break;\n",
       "    \n",
       "                if (checkbox.checked) {\n",
       "                    label.style.fontWeight = \"bold\";\n",
       "                }\n",
       "                else {\n",
       "                    label.style.textDecoration = \"line-through\";\n",
       "                }\n",
       "            }\n",
       "        }\n",
       "        else \n",
       "        {\n",
       "            document.getElementById(quiz_id + \"-submit\").value = \"Try again\";\n",
       "            \n",
       "            if (!bad_answers.has(quiz_id)) {\n",
       "                bad_answers.set(quiz_id, 1);\n",
       "            }\n",
       "            else {\n",
       "                bad_answers.set(quiz_id, bad_answers.get(quiz_id) + 1);\n",
       "            }\n",
       "\n",
       "            if (bad_answers.get(quiz_id) >= 2 && hint.length > 0) {\n",
       "                document.getElementById(quiz_id + \"-hint\").innerHTML = \n",
       "                    \"&nbsp;&nbsp;(Hint: <code>\" + hint + \"</code>)\";\n",
       "            }\n",
       "\n",
       "            if (!multiple_choice) {\n",
       "                for (i = 1;; i++) {\n",
       "                    checkbox = document.getElementById(quiz_id + \"-\" + i.toString());\n",
       "                    label = document.getElementById(quiz_id + \"-\" + i.toString() + \"-label\")\n",
       "\n",
       "                    if (!checkbox)\n",
       "                        break;\n",
       "                    if (checkbox.checked) {\n",
       "                        label.style.textDecoration = \"line-through\";\n",
       "                    }\n",
       "                }\n",
       "            }\n",
       "        }\n",
       "    }\n",
       "    function clear_selection(quiz_id) {\n",
       "        document.getElementById(quiz_id + \"-submit\").value = \"Submit\";\n",
       "        document.getElementById(quiz_id + \"-hint\").innerHTML = \"\";\n",
       "    }\n",
       "    </script>\n",
       "    \n",
       "    <div class=\"quiz\">\n",
       "    <h3 class=\"quiz_title\">Quiz</h3>\n",
       "    <p>\n",
       "    <div class=\"quiz_question\">In the above example, where is the <code>EventTracer.traceit()</code> function called?</div>\n",
       "    </p>\n",
       "    <p>\n",
       "    <div class=\"quiz_options\" title=\"Check all that apply.\">\n",
       "    \n",
       "        <input type=\"checkbox\" name=\"c4149f64-2c18-11ec-9a7b-acde48001122\" id=\"c4149f64-2c18-11ec-9a7b-acde48001122-1\" onclick=\"clear_selection('c4149f64-2c18-11ec-9a7b-acde48001122')\">\n",
       "        <label id=\"c4149f64-2c18-11ec-9a7b-acde48001122-1-label\" for=\"c4149f64-2c18-11ec-9a7b-acde48001122-1\">When <code>some_extreme_function()</code> returns</label><br>\n",
       "    \n",
       "        <input type=\"checkbox\" name=\"c4149f64-2c18-11ec-9a7b-acde48001122\" id=\"c4149f64-2c18-11ec-9a7b-acde48001122-2\" onclick=\"clear_selection('c4149f64-2c18-11ec-9a7b-acde48001122')\">\n",
       "        <label id=\"c4149f64-2c18-11ec-9a7b-acde48001122-2-label\" for=\"c4149f64-2c18-11ec-9a7b-acde48001122-2\">For each line of <code>some_extreme_function()</code></label><br>\n",
       "    \n",
       "        <input type=\"checkbox\" name=\"c4149f64-2c18-11ec-9a7b-acde48001122\" id=\"c4149f64-2c18-11ec-9a7b-acde48001122-3\" onclick=\"clear_selection('c4149f64-2c18-11ec-9a7b-acde48001122')\">\n",
       "        <label id=\"c4149f64-2c18-11ec-9a7b-acde48001122-3-label\" for=\"c4149f64-2c18-11ec-9a7b-acde48001122-3\">When <code>remove_html_markup()</code> returns</label><br>\n",
       "    \n",
       "        <input type=\"checkbox\" name=\"c4149f64-2c18-11ec-9a7b-acde48001122\" id=\"c4149f64-2c18-11ec-9a7b-acde48001122-4\" onclick=\"clear_selection('c4149f64-2c18-11ec-9a7b-acde48001122')\">\n",
       "        <label id=\"c4149f64-2c18-11ec-9a7b-acde48001122-4-label\" for=\"c4149f64-2c18-11ec-9a7b-acde48001122-4\">For each line of <code>remove_html_markup()</code></label><br>\n",
       "    \n",
       "    </div>\n",
       "    </p>\n",
       "    <input id=\"c4149f64-2c18-11ec-9a7b-acde48001122-submit\" type=\"submit\" value=\"Submit\" onclick=\"check_selection('c4149f64-2c18-11ec-9a7b-acde48001122', 30, 1, '[ord(c) - 100 for c in \\&#x27;efgh\\&#x27;]')\">\n",
       "    <span class=\"quiz_hint\" id=\"c4149f64-2c18-11ec-9a7b-acde48001122-hint\"></span>\n",
       "    </div>\n",
       "    "
      ],
      "text/plain": [
       "<IPython.core.display.HTML object>"
      ]
     },
     "execution_count": 70,
     "metadata": {},
     "output_type": "execute_result"
    }
   ],
   "source": [
    "quiz(\"In the above example, \"\n",
    "     \"where is the `EventTracer.traceit()` function called?\",\n",
    "     [\n",
    "         \"When `some_extreme_function()` returns\",\n",
    "         \"For each line of `some_extreme_function()`\",\n",
    "         \"When `remove_html_markup()` returns\",\n",
    "         \"For each line of `remove_html_markup()`\"\n",
    "     ], \"[ord(c) - 100 for c in 'efgh']\")"
   ]
  },
  {
   "cell_type": "markdown",
   "metadata": {
    "slideshow": {
     "slide_type": "fragment"
    }
   },
   "source": [
    "Indeed: Stepping line by line through some function can be pretty expensive, as every call, line, and return of `some_extreme_function()` and `remove_html_markup()` is tracked."
   ]
  },
  {
   "cell_type": "markdown",
   "metadata": {
    "slideshow": {
     "slide_type": "subslide"
    }
   },
   "source": [
    "On the other hand, the static tracker is limited to conditions that refer to a _specific location in the code._ If we want to check whether some variable changes, for instance, we have to perform a (nontrivial) static analysis of the code to determine possible locations for a change. If a variable is changed indirectly through references or pointers (a common risk in system-level languages like C), there is no alternative to actually watching its value after each instruction."
   ]
  },
  {
   "cell_type": "markdown",
   "metadata": {
    "slideshow": {
     "slide_type": "slide"
    }
   },
   "source": [
    "## Tracing Binary Executables\n",
    "\n",
    "Debuggers that act on binary code (say, code compiled from C) operate in a similar way as our \"static\" tracer: They take a location in the binary code and replace its instruction with a _break instruction_ that interrupts execution, returning control to the debugger. The debugger then replaces the break instruction with the original instruction before resuming execution.\n",
    "\n",
    "If the code cannot be altered (for instance, because it is in read-only memory), however, then debuggers resort to the \"dynamic\" tracing method, executing one instruction at a time and checking the program counter for its current value after each step.\n",
    "\n",
    "To provide a minimum of efficient support, some processor architectures, such as x86, provide *hardware breakpoints*. Programmers (or more precisely, debugging tools) can define a set of specific values for the program counter to watch, and if the program counter reaches one of these values, execution is interrupted to return to the debugger. Likewise, *hardware watchpoints* will check specific memory locations at run time for changes and given values. There are also hardware watchpoints that break when a specific memory location is read from. Both hardware watchpoints and hardware breakpoints allow a limited tracking of stopping conditions while still maintaining original execution speed – and the best debugging tools will use a mix of static tracing, dynamic tracing, and hardware tracing."
   ]
  },
  {
   "cell_type": "markdown",
   "metadata": {
    "slideshow": {
     "slide_type": "slide"
    }
   },
   "source": [
    "## Synopsis"
   ]
  },
  {
   "cell_type": "markdown",
   "metadata": {
    "slideshow": {
     "slide_type": "fragment"
    }
   },
   "source": [
    "This chapter provides a `Tracer` class that allows to log events during program execution. The advanced subclass `EventTracer` allows to restrict logs to specific conditions. Logs are shown only while the given `condition` holds:"
   ]
  },
  {
   "cell_type": "code",
   "execution_count": 71,
   "metadata": {
    "execution": {
     "iopub.execute_input": "2021-10-13T11:29:02.228499Z",
     "iopub.status.busy": "2021-10-13T11:29:02.227921Z",
     "iopub.status.idle": "2021-10-13T11:29:02.234546Z",
     "shell.execute_reply": "2021-10-13T11:29:02.233313Z"
    },
    "slideshow": {
     "slide_type": "fragment"
    }
   },
   "outputs": [
    {
     "name": "stdout",
     "output_type": "stream",
     "text": [
      "...\n",
      "                                         # s = '<b>foo</b>bar', function = 'remove_html_markup', line = 243, tag = False, quote = False, out = 'foobar', c = 'r'\n",
      "243     for c in s:\n",
      "                                         # line = 255\n",
      "255     return out\n",
      "remove_html_markup() returns 'foobar'\n"
     ]
    }
   ],
   "source": [
    "with EventTracer(condition='line == 223 or len(out) >= 6'):\n",
    "    remove_html_markup('<b>foo</b>bar')"
   ]
  },
  {
   "cell_type": "markdown",
   "metadata": {
    "slideshow": {
     "slide_type": "subslide"
    }
   },
   "source": [
    "It also allows to restrict logs to specific events. Log entries are shown only if one of the given `events` changes its value:"
   ]
  },
  {
   "cell_type": "code",
   "execution_count": 72,
   "metadata": {
    "execution": {
     "iopub.execute_input": "2021-10-13T11:29:02.237778Z",
     "iopub.status.busy": "2021-10-13T11:29:02.237210Z",
     "iopub.status.idle": "2021-10-13T11:29:02.249055Z",
     "shell.execute_reply": "2021-10-13T11:29:02.247022Z"
    },
    "slideshow": {
     "slide_type": "subslide"
    }
   },
   "outputs": [
    {
     "name": "stdout",
     "output_type": "stream",
     "text": [
      "...\n",
      "Calling remove_html_markup(s = '<b>foo</b>bar', function = 'remove_html_markup', line = 238)\n",
      "...\n",
      "                                         # line = 244, tag = False, quote = False, out = '', c = '<'\n",
      "244         assert tag or not quote\n",
      "...\n",
      "                                         # tag = True, out = 'foo', c = '/'\n",
      "244         assert tag or not quote\n",
      "...\n",
      "                                         # c = 'b'\n",
      "244         assert tag or not quote\n"
     ]
    }
   ],
   "source": [
    "with EventTracer(events=[\"c == '/'\"]):\n",
    "    remove_html_markup('<b>foo</b>bar')"
   ]
  },
  {
   "cell_type": "markdown",
   "metadata": {
    "slideshow": {
     "slide_type": "subslide"
    }
   },
   "source": [
    "`Tracer` and `EventTracer` classes allow for subclassing and further customization."
   ]
  },
  {
   "cell_type": "code",
   "execution_count": 73,
   "metadata": {
    "execution": {
     "iopub.execute_input": "2021-10-13T11:29:02.252374Z",
     "iopub.status.busy": "2021-10-13T11:29:02.251807Z",
     "iopub.status.idle": "2021-10-13T11:29:02.253315Z",
     "shell.execute_reply": "2021-10-13T11:29:02.253686Z"
    },
    "slideshow": {
     "slide_type": "fragment"
    }
   },
   "outputs": [],
   "source": [
    "# ignore\n",
    "from ClassDiagram import display_class_hierarchy"
   ]
  },
  {
   "cell_type": "code",
   "execution_count": 74,
   "metadata": {
    "execution": {
     "iopub.execute_input": "2021-10-13T11:29:02.265907Z",
     "iopub.status.busy": "2021-10-13T11:29:02.265361Z",
     "iopub.status.idle": "2021-10-13T11:29:03.017210Z",
     "shell.execute_reply": "2021-10-13T11:29:03.017650Z"
    },
    "slideshow": {
     "slide_type": "subslide"
    }
   },
   "outputs": [
    {
     "data": {
      "image/svg+xml": [
       "<?xml version=\"1.0\" encoding=\"UTF-8\" standalone=\"no\"?>\n",
       "<!DOCTYPE svg PUBLIC \"-//W3C//DTD SVG 1.1//EN\"\n",
       " \"http://www.w3.org/Graphics/SVG/1.1/DTD/svg11.dtd\">\n",
       "<!-- Generated by graphviz version 2.49.1 (20210923.0004)\n",
       " -->\n",
       "<!-- Pages: 1 -->\n",
       "<svg width=\"285pt\" height=\"549pt\"\n",
       " viewBox=\"0.00 0.00 284.50 549.00\" xmlns=\"http://www.w3.org/2000/svg\" xmlns:xlink=\"http://www.w3.org/1999/xlink\">\n",
       "<g id=\"graph0\" class=\"graph\" transform=\"scale(1 1) rotate(0) translate(4 545)\">\n",
       "<g id=\"a_graph0\"><a xlink:title=\"EventTracer class hierarchy\">\n",
       "<polygon fill=\"white\" stroke=\"transparent\" points=\"-4,4 -4,-545 280.5,-545 280.5,4 -4,4\"/>\n",
       "</a>\n",
       "</g>\n",
       "<!-- EventTracer -->\n",
       "<g id=\"node1\" class=\"node\">\n",
       "<title>EventTracer</title>\n",
       "<g id=\"a_node1\"><a xlink:href=\"#\" xlink:title=\"class EventTracer:&#10;Log when a given event expression changes its value\">\n",
       "<polygon fill=\"none\" stroke=\"black\" points=\"27,-0.5 27,-64.5 140,-64.5 140,-0.5 27,-0.5\"/>\n",
       "<text text-anchor=\"start\" x=\"46.5\" y=\"-50.3\" font-family=\"Raleway, Helvetica, Arial, sans-serif\" font-weight=\"bold\" font-size=\"14.00\" fill=\"#6a0dad\">EventTracer</text>\n",
       "<polyline fill=\"none\" stroke=\"black\" points=\"27,-41.5 140,-41.5 \"/>\n",
       "<g id=\"a_node1_0\"><a xlink:href=\"#\" xlink:title=\"EventTracer\">\n",
       "<g id=\"a_node1_1\"><a xlink:href=\"#\" xlink:title=\"__init__(self, *, condition: Optional[str] = None, events: List[str] = [], file: &lt;class &#39;TextIO&#39;&gt; = &lt;ipykernel.iostream.OutStream object at 0x10863d820&gt;) &#45;&gt; None:&#10;Constructor. `events` is a list of expressions to watch.\">\n",
       "<text text-anchor=\"start\" x=\"35.5\" y=\"-30\" font-family=\"'Fira Mono', 'Source Code Pro', 'Courier', monospace\" font-weight=\"bold\" font-style=\"italic\" font-size=\"10.00\">__init__()</text>\n",
       "</a>\n",
       "</g>\n",
       "<g id=\"a_node1_2\"><a xlink:href=\"#\" xlink:title=\"do_report(self, frame: frame, event: str, arg: Any) &#45;&gt; bool:&#10;Return True if a line should be shown\">\n",
       "<text text-anchor=\"start\" x=\"35.5\" y=\"-19\" font-family=\"'Fira Mono', 'Source Code Pro', 'Courier', monospace\" font-style=\"italic\" font-size=\"10.00\">do_report()</text>\n",
       "</a>\n",
       "</g>\n",
       "<g id=\"a_node1_3\"><a xlink:href=\"#\" xlink:title=\"events_changed(self, events: List[str], frame: frame) &#45;&gt; bool:&#10;Return True if any of the observed `events` has changed\">\n",
       "<text text-anchor=\"start\" x=\"35.5\" y=\"-7\" font-family=\"'Fira Mono', 'Source Code Pro', 'Courier', monospace\" font-size=\"10.00\">events_changed()</text>\n",
       "</a>\n",
       "</g>\n",
       "</a>\n",
       "</g>\n",
       "</a>\n",
       "</g>\n",
       "</g>\n",
       "<!-- ConditionalTracer -->\n",
       "<g id=\"node2\" class=\"node\">\n",
       "<title>ConditionalTracer</title>\n",
       "<g id=\"a_node2\"><a xlink:href=\"#\" xlink:title=\"class ConditionalTracer:&#10;A class for tracing a piece of code. Use as `with Tracer(): block()`\">\n",
       "<polygon fill=\"none\" stroke=\"black\" points=\"21,-101.5 21,-176.5 146,-176.5 146,-101.5 21,-101.5\"/>\n",
       "<text text-anchor=\"start\" x=\"29\" y=\"-162.3\" font-family=\"Raleway, Helvetica, Arial, sans-serif\" font-weight=\"bold\" font-size=\"14.00\" fill=\"#6a0dad\">ConditionalTracer</text>\n",
       "<polyline fill=\"none\" stroke=\"black\" points=\"21,-153.5 146,-153.5 \"/>\n",
       "<g id=\"a_node2_4\"><a xlink:href=\"#\" xlink:title=\"ConditionalTracer\">\n",
       "<g id=\"a_node2_5\"><a xlink:href=\"#\" xlink:title=\"__init__(self, *, condition: Optional[str] = None, file: &lt;class &#39;TextIO&#39;&gt; = &lt;ipykernel.iostream.OutStream object at 0x10863d820&gt;) &#45;&gt; None:&#10;Constructor. Trace all events for which `condition` (a Python expr) holds.\">\n",
       "<text text-anchor=\"start\" x=\"32.5\" y=\"-142.5\" font-family=\"'Fira Mono', 'Source Code Pro', 'Courier', monospace\" font-weight=\"bold\" font-style=\"italic\" font-size=\"10.00\">__init__()</text>\n",
       "</a>\n",
       "</g>\n",
       "<g id=\"a_node2_6\"><a xlink:href=\"#\" xlink:title=\"do_report(self, frame: frame, event: str, arg: Any) &#45;&gt; Optional[bool]\">\n",
       "<text text-anchor=\"start\" x=\"32.5\" y=\"-131.5\" font-family=\"'Fira Mono', 'Source Code Pro', 'Courier', monospace\" font-style=\"italic\" font-size=\"10.00\">do_report()</text>\n",
       "</a>\n",
       "</g>\n",
       "<g id=\"a_node2_7\"><a xlink:href=\"#\" xlink:title=\"eval_in_context(self, expr: str, frame: frame) &#45;&gt; Any\">\n",
       "<text text-anchor=\"start\" x=\"32.5\" y=\"-119.5\" font-family=\"'Fira Mono', 'Source Code Pro', 'Courier', monospace\" font-size=\"10.00\">eval_in_context()</text>\n",
       "</a>\n",
       "</g>\n",
       "<g id=\"a_node2_8\"><a xlink:href=\"#\" xlink:title=\"traceit(self, frame: frame, event: str, arg: Any) &#45;&gt; None:&#10;Tracing function; called at every line. To be overloaded in subclasses.\">\n",
       "<text text-anchor=\"start\" x=\"32.5\" y=\"-109.5\" font-family=\"'Fira Mono', 'Source Code Pro', 'Courier', monospace\" font-style=\"italic\" font-size=\"10.00\">traceit()</text>\n",
       "</a>\n",
       "</g>\n",
       "</a>\n",
       "</g>\n",
       "</a>\n",
       "</g>\n",
       "</g>\n",
       "<!-- EventTracer&#45;&gt;ConditionalTracer -->\n",
       "<g id=\"edge1\" class=\"edge\">\n",
       "<title>EventTracer&#45;&gt;ConditionalTracer</title>\n",
       "<path fill=\"none\" stroke=\"black\" d=\"M83.5,-64.57C83.5,-72.96 83.5,-82.23 83.5,-91.28\"/>\n",
       "<polygon fill=\"none\" stroke=\"black\" points=\"80,-91.34 83.5,-101.34 87,-91.34 80,-91.34\"/>\n",
       "</g>\n",
       "<!-- Tracer -->\n",
       "<g id=\"node3\" class=\"node\">\n",
       "<title>Tracer</title>\n",
       "<g id=\"a_node3\"><a xlink:href=\"#\" xlink:title=\"class Tracer:&#10;A class for tracing a piece of code. Use as `with Tracer(): block()`\">\n",
       "<polygon fill=\"none\" stroke=\"black\" points=\"6,-213.5 6,-332.5 161,-332.5 161,-213.5 6,-213.5\"/>\n",
       "<text text-anchor=\"start\" x=\"64\" y=\"-318.3\" font-family=\"Raleway, Helvetica, Arial, sans-serif\" font-weight=\"bold\" font-size=\"14.00\" fill=\"#6a0dad\">Tracer</text>\n",
       "<polyline fill=\"none\" stroke=\"black\" points=\"6,-309.5 161,-309.5 \"/>\n",
       "<g id=\"a_node3_9\"><a xlink:href=\"#\" xlink:title=\"Tracer\">\n",
       "<g id=\"a_node3_10\"><a xlink:href=\"#\" xlink:title=\"__enter__(self) &#45;&gt; Any:&#10;Called at begin of `with` block. Turn tracing on.\">\n",
       "<text text-anchor=\"start\" x=\"14.5\" y=\"-298.5\" font-family=\"'Fira Mono', 'Source Code Pro', 'Courier', monospace\" font-weight=\"bold\" font-size=\"10.00\">__enter__()</text>\n",
       "</a>\n",
       "</g>\n",
       "<g id=\"a_node3_11\"><a xlink:href=\"#\" xlink:title=\"__exit__(self, exc_tp: Type, exc_value: BaseException, exc_traceback: traceback) &#45;&gt; Optional[bool]:&#10;Called at end of `with` block. Turn tracing off.&#10;Return `None` if ok, not `None` if internal error.\">\n",
       "<text text-anchor=\"start\" x=\"14.5\" y=\"-287.5\" font-family=\"'Fira Mono', 'Source Code Pro', 'Courier', monospace\" font-weight=\"bold\" font-size=\"10.00\">__exit__()</text>\n",
       "</a>\n",
       "</g>\n",
       "<g id=\"a_node3_12\"><a xlink:href=\"#\" xlink:title=\"__init__(self, file: &lt;class &#39;TextIO&#39;&gt; = &lt;ipykernel.iostream.OutStream object at 0x10863d820&gt;) &#45;&gt; None:&#10;Create a new tracer.&#10;If `file` is given, output to `file` instead of stdout.\">\n",
       "<text text-anchor=\"start\" x=\"14.5\" y=\"-276.5\" font-family=\"'Fira Mono', 'Source Code Pro', 'Courier', monospace\" font-weight=\"bold\" font-style=\"italic\" font-size=\"10.00\">__init__()</text>\n",
       "</a>\n",
       "</g>\n",
       "<g id=\"a_node3_13\"><a xlink:href=\"#\" xlink:title=\"changed_vars(self, new_vars: Dict[str, Any]) &#45;&gt; Dict[str, Any]:&#10;Track changed variables, based on `new_vars` observed.\">\n",
       "<text text-anchor=\"start\" x=\"14.5\" y=\"-265.5\" font-family=\"'Fira Mono', 'Source Code Pro', 'Courier', monospace\" font-weight=\"bold\" font-size=\"10.00\">changed_vars()</text>\n",
       "</a>\n",
       "</g>\n",
       "<g id=\"a_node3_14\"><a xlink:href=\"#\" xlink:title=\"print_debugger_status(self, frame: frame, event: str, arg: Any) &#45;&gt; None:&#10;Show current source line and changed vars\">\n",
       "<text text-anchor=\"start\" x=\"14.5\" y=\"-254.5\" font-family=\"'Fira Mono', 'Source Code Pro', 'Courier', monospace\" font-weight=\"bold\" font-size=\"10.00\">print_debugger_status()</text>\n",
       "</a>\n",
       "</g>\n",
       "<g id=\"a_node3_15\"><a xlink:href=\"#\" xlink:title=\"_traceit(self, frame: frame, event: str, arg: Any) &#45;&gt; Optional[Callable]:&#10;Internal tracing function.\">\n",
       "<text text-anchor=\"start\" x=\"14.5\" y=\"-242.5\" font-family=\"'Fira Mono', 'Source Code Pro', 'Courier', monospace\" font-size=\"10.00\">_traceit()</text>\n",
       "</a>\n",
       "</g>\n",
       "<g id=\"a_node3_16\"><a xlink:href=\"#\" xlink:title=\"log(self, *objects: Any, sep: str = &#39; &#39;, end: str = &#39;\\n&#39;, flush: bool = True) &#45;&gt; None:&#10;Like `print()`, but always sending to `file` given at initialization,&#10;and flushing by default.\">\n",
       "<text text-anchor=\"start\" x=\"14.5\" y=\"-231.5\" font-family=\"'Fira Mono', 'Source Code Pro', 'Courier', monospace\" font-size=\"10.00\">log()</text>\n",
       "</a>\n",
       "</g>\n",
       "<g id=\"a_node3_17\"><a xlink:href=\"#\" xlink:title=\"traceit(self, frame: frame, event: str, arg: Any) &#45;&gt; None:&#10;Tracing function; called at every line. To be overloaded in subclasses.\">\n",
       "<text text-anchor=\"start\" x=\"14.5\" y=\"-221.5\" font-family=\"'Fira Mono', 'Source Code Pro', 'Courier', monospace\" font-style=\"italic\" font-size=\"10.00\">traceit()</text>\n",
       "</a>\n",
       "</g>\n",
       "</a>\n",
       "</g>\n",
       "</a>\n",
       "</g>\n",
       "</g>\n",
       "<!-- ConditionalTracer&#45;&gt;Tracer -->\n",
       "<g id=\"edge2\" class=\"edge\">\n",
       "<title>ConditionalTracer&#45;&gt;Tracer</title>\n",
       "<path fill=\"none\" stroke=\"black\" d=\"M83.5,-176.77C83.5,-185.03 83.5,-194.05 83.5,-203.15\"/>\n",
       "<polygon fill=\"none\" stroke=\"black\" points=\"80,-203.41 83.5,-213.41 87,-203.41 80,-203.41\"/>\n",
       "</g>\n",
       "<!-- StackInspector -->\n",
       "<g id=\"node4\" class=\"node\">\n",
       "<title>StackInspector</title>\n",
       "<g id=\"a_node4\"><a xlink:href=\"StackInspector.ipynb\" xlink:title=\"class StackInspector:&#10;Provide functions to inspect the stack\">\n",
       "<polygon fill=\"none\" stroke=\"black\" points=\"0,-369.5 0,-540.5 167,-540.5 167,-369.5 0,-369.5\"/>\n",
       "<text text-anchor=\"start\" x=\"37\" y=\"-526.3\" font-family=\"Raleway, Helvetica, Arial, sans-serif\" font-weight=\"bold\" font-size=\"14.00\" fill=\"#6a0dad\">StackInspector</text>\n",
       "<polyline fill=\"none\" stroke=\"black\" points=\"0,-517.5 167,-517.5 \"/>\n",
       "<g id=\"a_node4_18\"><a xlink:href=\"#\" xlink:title=\"StackInspector\">\n",
       "<g id=\"a_node4_19\"><a xlink:href=\"StackInspector.ipynb\" xlink:title=\"_generated_function_cache = {}\">\n",
       "<text text-anchor=\"start\" x=\"8.5\" y=\"-505\" font-family=\"'Fira Mono', 'Source Code Pro', 'Courier', monospace\" font-size=\"10.00\">_generated_function_cache</text>\n",
       "</a>\n",
       "</g>\n",
       "</a>\n",
       "</g>\n",
       "<polyline fill=\"none\" stroke=\"black\" points=\"0,-498.5 167,-498.5 \"/>\n",
       "<g id=\"a_node4_20\"><a xlink:href=\"#\" xlink:title=\"StackInspector\">\n",
       "<g id=\"a_node4_21\"><a xlink:href=\"StackInspector.ipynb\" xlink:title=\"caller_frame(self) &#45;&gt; frame:&#10;Return the frame of the caller.\">\n",
       "<text text-anchor=\"start\" x=\"26.5\" y=\"-486\" font-family=\"'Fira Mono', 'Source Code Pro', 'Courier', monospace\" font-size=\"10.00\">caller_frame()</text>\n",
       "</a>\n",
       "</g>\n",
       "<g id=\"a_node4_22\"><a xlink:href=\"StackInspector.ipynb\" xlink:title=\"caller_function(self) &#45;&gt; Callable:&#10;Return the calling function\">\n",
       "<text text-anchor=\"start\" x=\"26.5\" y=\"-475\" font-family=\"'Fira Mono', 'Source Code Pro', 'Courier', monospace\" font-size=\"10.00\">caller_function()</text>\n",
       "</a>\n",
       "</g>\n",
       "<g id=\"a_node4_23\"><a xlink:href=\"StackInspector.ipynb\" xlink:title=\"caller_globals(self) &#45;&gt; Dict[str, Any]:&#10;Return the globals() environment of the caller.\">\n",
       "<text text-anchor=\"start\" x=\"26.5\" y=\"-464\" font-family=\"'Fira Mono', 'Source Code Pro', 'Courier', monospace\" font-size=\"10.00\">caller_globals()</text>\n",
       "</a>\n",
       "</g>\n",
       "<g id=\"a_node4_24\"><a xlink:href=\"StackInspector.ipynb\" xlink:title=\"caller_locals(self) &#45;&gt; Dict[str, Any]:&#10;Return the locals() environment of the caller.\">\n",
       "<text text-anchor=\"start\" x=\"26.5\" y=\"-453\" font-family=\"'Fira Mono', 'Source Code Pro', 'Courier', monospace\" font-size=\"10.00\">caller_locals()</text>\n",
       "</a>\n",
       "</g>\n",
       "<g id=\"a_node4_25\"><a xlink:href=\"StackInspector.ipynb\" xlink:title=\"caller_location(self) &#45;&gt; Tuple[Callable, int]:&#10;Return the location (func, lineno) of the caller.\">\n",
       "<text text-anchor=\"start\" x=\"26.5\" y=\"-442\" font-family=\"'Fira Mono', 'Source Code Pro', 'Courier', monospace\" font-size=\"10.00\">caller_location()</text>\n",
       "</a>\n",
       "</g>\n",
       "<g id=\"a_node4_26\"><a xlink:href=\"StackInspector.ipynb\" xlink:title=\"create_function(self, frame: frame) &#45;&gt; Callable:&#10;Create function for given frame\">\n",
       "<text text-anchor=\"start\" x=\"26.5\" y=\"-431\" font-family=\"'Fira Mono', 'Source Code Pro', 'Courier', monospace\" font-size=\"10.00\">create_function()</text>\n",
       "</a>\n",
       "</g>\n",
       "<g id=\"a_node4_27\"><a xlink:href=\"StackInspector.ipynb\" xlink:title=\"is_internal_error(self, exc_tp: Type, exc_value: BaseException, exc_traceback: traceback) &#45;&gt; bool:&#10;Return True if exception was raised from `StackInspector` or a subclass.\">\n",
       "<text text-anchor=\"start\" x=\"26.5\" y=\"-420\" font-family=\"'Fira Mono', 'Source Code Pro', 'Courier', monospace\" font-size=\"10.00\">is_internal_error()</text>\n",
       "</a>\n",
       "</g>\n",
       "<g id=\"a_node4_28\"><a xlink:href=\"StackInspector.ipynb\" xlink:title=\"our_frame(self, frame: frame) &#45;&gt; bool:&#10;Return true if `frame` is in the current (inspecting) class.\">\n",
       "<text text-anchor=\"start\" x=\"26.5\" y=\"-409\" font-family=\"'Fira Mono', 'Source Code Pro', 'Courier', monospace\" font-size=\"10.00\">our_frame()</text>\n",
       "</a>\n",
       "</g>\n",
       "<g id=\"a_node4_29\"><a xlink:href=\"StackInspector.ipynb\" xlink:title=\"search_frame(self, name: str, frame: Optional[frame] = None) &#45;&gt; Tuple[Optional[frame], Optional[Callable]]:&#10;Return a pair (`frame`, `item`)&#10;in which the function `name` is defined as `item`.\">\n",
       "<text text-anchor=\"start\" x=\"26.5\" y=\"-398\" font-family=\"'Fira Mono', 'Source Code Pro', 'Courier', monospace\" font-size=\"10.00\">search_frame()</text>\n",
       "</a>\n",
       "</g>\n",
       "<g id=\"a_node4_30\"><a xlink:href=\"StackInspector.ipynb\" xlink:title=\"search_func(self, name: str, frame: Optional[frame] = None) &#45;&gt; Optional[Callable]:&#10;Search in callers for a definition of the function `name`\">\n",
       "<text text-anchor=\"start\" x=\"26.5\" y=\"-387\" font-family=\"'Fira Mono', 'Source Code Pro', 'Courier', monospace\" font-size=\"10.00\">search_func()</text>\n",
       "</a>\n",
       "</g>\n",
       "<g id=\"a_node4_31\"><a xlink:href=\"StackInspector.ipynb\" xlink:title=\"unknown(self) &#45;&gt; None\">\n",
       "<text text-anchor=\"start\" x=\"26.5\" y=\"-376\" font-family=\"'Fira Mono', 'Source Code Pro', 'Courier', monospace\" font-size=\"10.00\">unknown()</text>\n",
       "</a>\n",
       "</g>\n",
       "</a>\n",
       "</g>\n",
       "</a>\n",
       "</g>\n",
       "</g>\n",
       "<!-- Tracer&#45;&gt;StackInspector -->\n",
       "<g id=\"edge3\" class=\"edge\">\n",
       "<title>Tracer&#45;&gt;StackInspector</title>\n",
       "<path fill=\"none\" stroke=\"black\" d=\"M83.5,-332.94C83.5,-341.43 83.5,-350.34 83.5,-359.32\"/>\n",
       "<polygon fill=\"none\" stroke=\"black\" points=\"80,-359.46 83.5,-369.46 87,-359.46 80,-359.46\"/>\n",
       "</g>\n",
       "<!-- Legend -->\n",
       "<g id=\"node5\" class=\"node\">\n",
       "<title>Legend</title>\n",
       "<text text-anchor=\"start\" x=\"158.5\" y=\"-50\" font-family=\"Raleway, Helvetica, Arial, sans-serif\" font-weight=\"bold\" font-size=\"10.00\" fill=\"#6a0dad\">Legend</text>\n",
       "<text text-anchor=\"start\" x=\"158.5\" y=\"-40\" font-family=\"Raleway, Helvetica, Arial, sans-serif\" font-size=\"10.00\">• </text>\n",
       "<text text-anchor=\"start\" x=\"165.5\" y=\"-40\" font-family=\"'Fira Mono', 'Source Code Pro', 'Courier', monospace\" font-weight=\"bold\" font-size=\"8.00\">public_method()</text>\n",
       "<text text-anchor=\"start\" x=\"158.5\" y=\"-30\" font-family=\"Raleway, Helvetica, Arial, sans-serif\" font-size=\"10.00\">• </text>\n",
       "<text text-anchor=\"start\" x=\"165.5\" y=\"-30\" font-family=\"'Fira Mono', 'Source Code Pro', 'Courier', monospace\" font-size=\"8.00\">private_method()</text>\n",
       "<text text-anchor=\"start\" x=\"158.5\" y=\"-20\" font-family=\"Raleway, Helvetica, Arial, sans-serif\" font-size=\"10.00\">• </text>\n",
       "<text text-anchor=\"start\" x=\"165.5\" y=\"-20\" font-family=\"'Fira Mono', 'Source Code Pro', 'Courier', monospace\" font-style=\"italic\" font-size=\"8.00\">overloaded_method()</text>\n",
       "<text text-anchor=\"start\" x=\"158.5\" y=\"-10.8\" font-family=\"Helvetica,sans-Serif\" font-size=\"9.00\">Hover over names to see doc</text>\n",
       "</g>\n",
       "</g>\n",
       "</svg>\n"
      ],
      "text/plain": [
       "<graphviz.dot.Digraph at 0x10cd33730>"
      ]
     },
     "execution_count": 74,
     "metadata": {},
     "output_type": "execute_result"
    }
   ],
   "source": [
    "# ignore\n",
    "display_class_hierarchy(EventTracer,\n",
    "                        public_methods=[\n",
    "                            Tracer.__init__,\n",
    "                            Tracer.__enter__,\n",
    "                            Tracer.__exit__,\n",
    "                            Tracer.changed_vars,\n",
    "                            Tracer.print_debugger_status,\n",
    "                            ConditionalTracer.__init__,\n",
    "                            EventTracer.__init__,\n",
    "                        ],\n",
    "                        project='debuggingbook')"
   ]
  },
  {
   "cell_type": "markdown",
   "metadata": {
    "button": false,
    "new_sheet": true,
    "run_control": {
     "read_only": false
    },
    "slideshow": {
     "slide_type": "slide"
    }
   },
   "source": [
    "## Lessons Learned\n",
    "\n",
    "* Interpreted languages can provide _debugging hooks_ that allow to dynamically control program execution and access program state.\n",
    "* Tracing can be limited to specific conditions and events:\n",
    "    * A _breakpoint_ is a condition referring to a particular location in the code.\n",
    "    * A _watchpoint_ is an event referring to a particular state change.\n",
    "* Compiled languages allow to _instrument_ code at compile time, injecting code that allows to hand over control to a tracing or debugging tool."
   ]
  },
  {
   "cell_type": "markdown",
   "metadata": {
    "button": false,
    "new_sheet": false,
    "run_control": {
     "read_only": false
    },
    "slideshow": {
     "slide_type": "slide"
    }
   },
   "source": [
    "## Next Steps\n",
    "\n",
    "In the next chapter, we will see how to\n",
    "\n",
    "* [leverage our tracing infrastructure for interactive debugging](Debugger.ipynb)\n"
   ]
  },
  {
   "cell_type": "markdown",
   "metadata": {
    "slideshow": {
     "slide_type": "slide"
    }
   },
   "source": [
    "## Background\n",
    "\n",
    "Debugging interfaces like Python `sys.settrace()` are common in all programming languages that provide support for interactive debugging, providing support for executing programs step by step and inspecting program state along the way."
   ]
  },
  {
   "cell_type": "markdown",
   "metadata": {
    "slideshow": {
     "slide_type": "subslide"
    }
   },
   "source": [
    "### Low-Level Debugging Interfaces\n",
    "\n",
    "The first set of interfaces considered takes place at a _low level_, allowing access to _machine level_ features. On Linux and other UNIX-like systems, the [ptrace()](https://en.wikipedia.org/wiki/Ptrace) system call provides a means by which one process (the 'tracer') may observe and control the execution of another process (the 'tracee'), and examine and change the tracee's memory and registers.\n",
    "\n",
    "`ptrace()` is a low-level interface, which allows to step over individual machine instructions and to read raw memory. In order to map instructions back to original statements and translate memory contents to variable values, compilers can include *debugging information* in the produced binaries, which debuggers then read out during a debugging session."
   ]
  },
  {
   "cell_type": "markdown",
   "metadata": {
    "slideshow": {
     "slide_type": "subslide"
    }
   },
   "source": [
    "### High-Level Debugging Interfaces\n",
    "\n",
    "The second set of interfaces allows to access the program's internals using the concepts of the program – i.e. variables and code locations, as Python does. The [Java Debug Interface](https://docs.oracle.com/javase/8/docs/jdk/api/jpda/jdi/) (JDI) is a _high-level interface_ for implementing a debugger (or tracer) on top of Java. [This introduction to JDI](https://www.baeldung.com/java-debug-interface) shows how to build a debugger using this interface in a few steps.\n",
    "\n",
    "For JavaScript, Mozilla's [Debugger API](https://developer.mozilla.org/en-US/docs/Tools/Debugger-API) and Google's [chrome.debugger API](https://developer.chrome.com/docs/extensions/reference/debugger/) similarly allow to trace and inspect program execution."
   ]
  },
  {
   "cell_type": "markdown",
   "metadata": {
    "button": false,
    "new_sheet": true,
    "run_control": {
     "read_only": false
    },
    "slideshow": {
     "slide_type": "slide"
    }
   },
   "source": [
    "## Exercises\n"
   ]
  },
  {
   "cell_type": "markdown",
   "metadata": {
    "button": false,
    "new_sheet": false,
    "run_control": {
     "read_only": false
    },
    "slideshow": {
     "slide_type": "subslide"
    }
   },
   "source": [
    "### Exercise 1: Exception Handling\n",
    "\n",
    "So far, we have only seen execution of lines in individual functions. But if a function raises an exception, we also may want to catch and report this. Right now, an exception is being raised right through our tracer, interrupting the trace. "
   ]
  },
  {
   "cell_type": "code",
   "execution_count": 75,
   "metadata": {
    "execution": {
     "iopub.execute_input": "2021-10-13T11:29:03.022611Z",
     "iopub.status.busy": "2021-10-13T11:29:03.022081Z",
     "iopub.status.idle": "2021-10-13T11:29:03.023664Z",
     "shell.execute_reply": "2021-10-13T11:29:03.024102Z"
    },
    "slideshow": {
     "slide_type": "fragment"
    }
   },
   "outputs": [],
   "source": [
    "def fail() -> float:\n",
    "    return 2 / 0"
   ]
  },
  {
   "cell_type": "code",
   "execution_count": 76,
   "metadata": {
    "execution": {
     "iopub.execute_input": "2021-10-13T11:29:03.027413Z",
     "iopub.status.busy": "2021-10-13T11:29:03.026890Z",
     "iopub.status.idle": "2021-10-13T11:29:03.038212Z",
     "shell.execute_reply": "2021-10-13T11:29:03.037721Z"
    },
    "slideshow": {
     "slide_type": "subslide"
    }
   },
   "outputs": [
    {
     "name": "stdout",
     "output_type": "stream",
     "text": [
      "Calling fail()\n",
      "2     return 2 / 0\n",
      "fail() returns None\n"
     ]
    }
   ],
   "source": [
    "with Tracer():\n",
    "    try:\n",
    "        fail()\n",
    "    except Exception:\n",
    "        pass"
   ]
  },
  {
   "cell_type": "markdown",
   "metadata": {
    "button": false,
    "new_sheet": false,
    "run_control": {
     "read_only": false
    },
    "slideshow": {
     "slide_type": "subslide"
    },
    "solution2": "hidden",
    "solution2_first": true
   },
   "source": [
    "Extend the `Tracer` class (or the `EventTracer` subclasses) such that exceptions (event type `'exception'`) are properly traced, too, say as\n",
    "\n",
    "```\n",
    "fail() raises ZeroDivisionError: division by zero\n",
    "```\n",
    "\n",
    "See the Python documentation for `sys.settrace()`."
   ]
  },
  {
   "cell_type": "markdown",
   "metadata": {
    "slideshow": {
     "slide_type": "skip"
    },
    "solution2": "hidden"
   },
   "source": [
    "**Solution.** Simply extend `print_debugger_status()`:"
   ]
  },
  {
   "cell_type": "code",
   "execution_count": 77,
   "metadata": {
    "cell_style": "split",
    "execution": {
     "iopub.execute_input": "2021-10-13T11:29:03.044400Z",
     "iopub.status.busy": "2021-10-13T11:29:03.043855Z",
     "iopub.status.idle": "2021-10-13T11:29:03.045396Z",
     "shell.execute_reply": "2021-10-13T11:29:03.045998Z"
    },
    "slideshow": {
     "slide_type": "skip"
    },
    "solution2": "hidden"
   },
   "outputs": [],
   "source": [
    "class Tracer(Tracer):\n",
    "    def print_debugger_status(self, frame: FrameType, event: str, arg: Any) -> None:\n",
    "        if event == 'exception':\n",
    "            exception, value, tb = arg\n",
    "            self.log(f\"{frame.f_code.co_name}() \"\n",
    "                     f\"raises {exception.__name__}: {value}\")\n",
    "        else:\n",
    "            super().print_debugger_status(frame, event, arg)"
   ]
  },
  {
   "cell_type": "code",
   "execution_count": 78,
   "metadata": {
    "execution": {
     "iopub.execute_input": "2021-10-13T11:29:03.049909Z",
     "iopub.status.busy": "2021-10-13T11:29:03.049354Z",
     "iopub.status.idle": "2021-10-13T11:29:03.055576Z",
     "shell.execute_reply": "2021-10-13T11:29:03.055951Z"
    },
    "slideshow": {
     "slide_type": "skip"
    },
    "solution2": "hidden"
   },
   "outputs": [
    {
     "name": "stdout",
     "output_type": "stream",
     "text": [
      "Calling fail()\n",
      "2     return 2 / 0\n",
      "fail() raises ZeroDivisionError: division by zero\n",
      "fail() returns None\n"
     ]
    }
   ],
   "source": [
    "with Tracer():\n",
    "    try:\n",
    "        fail()\n",
    "    except Exception:\n",
    "        pass"
   ]
  },
  {
   "cell_type": "markdown",
   "metadata": {
    "button": false,
    "new_sheet": false,
    "run_control": {
     "read_only": false
    },
    "slideshow": {
     "slide_type": "subslide"
    }
   },
   "source": [
    "### Exercise 2: Syntax-Based Instrumentation\n",
    "\n",
    "Adding instrumentation to source code is a complicated business, notably because it is not always easy to determine where and how to instrument. If a Python line starts with \n",
    "\n",
    "```python\n",
    "if condition:\n",
    "```\n",
    "\n",
    "where should one insert code to instrument it?"
   ]
  },
  {
   "cell_type": "markdown",
   "metadata": {
    "slideshow": {
     "slide_type": "subslide"
    }
   },
   "source": [
    "A much more elegant way to instrument code is to add instrumentation _after the code has already been parsed_. Python code, like most other code, is first _parsed_ into an intermediate tree-like structure (called an *abstract syntax tree*, or *AST*). This AST can then be inspected and manipulated, before a second step compiles it into low-level instruction sequences to be executed."
   ]
  },
  {
   "cell_type": "markdown",
   "metadata": {
    "slideshow": {
     "slide_type": "fragment"
    }
   },
   "source": [
    "Let us start with an example. Here is an AST resulting from parsing a very simple piece of code:"
   ]
  },
  {
   "cell_type": "code",
   "execution_count": 79,
   "metadata": {
    "execution": {
     "iopub.execute_input": "2021-10-13T11:29:03.059279Z",
     "iopub.status.busy": "2021-10-13T11:29:03.058770Z",
     "iopub.status.idle": "2021-10-13T11:29:03.060474Z",
     "shell.execute_reply": "2021-10-13T11:29:03.060847Z"
    },
    "slideshow": {
     "slide_type": "fragment"
    }
   },
   "outputs": [],
   "source": [
    "def foo():  # type: ignore\n",
    "    ret = 2 * 2\n",
    "    return ret"
   ]
  },
  {
   "cell_type": "code",
   "execution_count": 80,
   "metadata": {
    "execution": {
     "iopub.execute_input": "2021-10-13T11:29:03.067925Z",
     "iopub.status.busy": "2021-10-13T11:29:03.063179Z",
     "iopub.status.idle": "2021-10-13T11:29:03.069552Z",
     "shell.execute_reply": "2021-10-13T11:29:03.069919Z"
    },
    "slideshow": {
     "slide_type": "subslide"
    }
   },
   "outputs": [
    {
     "name": "stdout",
     "output_type": "stream",
     "text": [
      "\u001b[34mdef\u001b[39;49;00m \u001b[32mfoo\u001b[39;49;00m():  \u001b[37m# type: ignore\u001b[39;49;00m\n",
      "    ret = \u001b[34m2\u001b[39;49;00m * \u001b[34m2\u001b[39;49;00m\n",
      "    \u001b[34mreturn\u001b[39;49;00m ret"
     ]
    }
   ],
   "source": [
    "source = inspect.getsource(foo)\n",
    "print_content(source, '.py')"
   ]
  },
  {
   "cell_type": "code",
   "execution_count": 81,
   "metadata": {
    "execution": {
     "iopub.execute_input": "2021-10-13T11:29:03.072955Z",
     "iopub.status.busy": "2021-10-13T11:29:03.072404Z",
     "iopub.status.idle": "2021-10-13T11:29:03.073857Z",
     "shell.execute_reply": "2021-10-13T11:29:03.074392Z"
    },
    "slideshow": {
     "slide_type": "skip"
    }
   },
   "outputs": [],
   "source": [
    "import ast"
   ]
  },
  {
   "cell_type": "code",
   "execution_count": 82,
   "metadata": {
    "execution": {
     "iopub.execute_input": "2021-10-13T11:29:03.077230Z",
     "iopub.status.busy": "2021-10-13T11:29:03.076723Z",
     "iopub.status.idle": "2021-10-13T11:29:03.078372Z",
     "shell.execute_reply": "2021-10-13T11:29:03.078756Z"
    },
    "slideshow": {
     "slide_type": "skip"
    }
   },
   "outputs": [],
   "source": [
    "from bookutils import show_ast"
   ]
  },
  {
   "cell_type": "code",
   "execution_count": 83,
   "metadata": {
    "execution": {
     "iopub.execute_input": "2021-10-13T11:29:03.081754Z",
     "iopub.status.busy": "2021-10-13T11:29:03.081179Z",
     "iopub.status.idle": "2021-10-13T11:29:03.082853Z",
     "shell.execute_reply": "2021-10-13T11:29:03.083291Z"
    },
    "slideshow": {
     "slide_type": "fragment"
    }
   },
   "outputs": [],
   "source": [
    "tree = ast.parse(source)"
   ]
  },
  {
   "cell_type": "code",
   "execution_count": 84,
   "metadata": {
    "execution": {
     "iopub.execute_input": "2021-10-13T11:29:03.086316Z",
     "iopub.status.busy": "2021-10-13T11:29:03.085807Z",
     "iopub.status.idle": "2021-10-13T11:29:03.735407Z",
     "shell.execute_reply": "2021-10-13T11:29:03.735857Z"
    },
    "slideshow": {
     "slide_type": "fragment"
    }
   },
   "outputs": [
    {
     "data": {
      "image/svg+xml": [
       "<svg xmlns=\"http://www.w3.org/2000/svg\" xmlns:xlink=\"http://www.w3.org/1999/xlink\" width=\"571pt\" height=\"332pt\" viewBox=\"0.00 0.00 570.50 332.00\">\n",
       "<g id=\"graph0\" class=\"graph\" transform=\"scale(1 1) rotate(0) translate(4 328)\">\n",
       "<polygon fill=\"white\" stroke=\"transparent\" points=\"-4,4 -4,-328 566.5,-328 566.5,4 -4,4\"/>\n",
       "<!-- 0 -->\n",
       "<g id=\"node1\" class=\"node\">\n",
       "<title>0</title>\n",
       "<text text-anchor=\"start\" x=\"188\" y=\"-303.3\" font-family=\"Courier,monospace\" font-weight=\"bold\" font-size=\"14.00\" fill=\"#004080\">FunctionDef</text>\n",
       "</g>\n",
       "<!-- 1 -->\n",
       "<g id=\"node2\" class=\"node\">\n",
       "<title>1</title>\n",
       "<text text-anchor=\"middle\" x=\"91.5\" y=\"-230.3\" font-family=\"Courier,monospace\" font-size=\"14.00\" fill=\"#008040\">&quot;foo&quot;</text>\n",
       "</g>\n",
       "<!-- 0&#45;&#45;1 -->\n",
       "<g id=\"edge1\" class=\"edge\">\n",
       "<title>0--1</title>\n",
       "<path fill=\"none\" stroke=\"black\" d=\"M234.5,-287C234.5,-287 176.01,-269.54 130.5,-252 127.47,-250.83 124.33,-249.56 121.2,-248.26\"/>\n",
       "</g>\n",
       "<!-- 2 -->\n",
       "<g id=\"node3\" class=\"node\">\n",
       "<title>2</title>\n",
       "<text text-anchor=\"middle\" x=\"185.5\" y=\"-230.3\" font-family=\"Courier,monospace\" font-size=\"14.00\" fill=\"#008040\">arguments</text>\n",
       "</g>\n",
       "<!-- 0&#45;&#45;2 -->\n",
       "<g id=\"edge2\" class=\"edge\">\n",
       "<title>0--2</title>\n",
       "<path fill=\"none\" stroke=\"black\" d=\"M234.5,-287C234.5,-287 215.83,-267.19 201.54,-252.03\"/>\n",
       "</g>\n",
       "<!-- 3 -->\n",
       "<g id=\"node4\" class=\"node\">\n",
       "<title>3</title>\n",
       "<text text-anchor=\"start\" x=\"258\" y=\"-231.3\" font-family=\"Courier,monospace\" font-weight=\"bold\" font-size=\"14.00\" fill=\"#004080\">Assign</text>\n",
       "</g>\n",
       "<!-- 0&#45;&#45;3 -->\n",
       "<g id=\"edge3\" class=\"edge\">\n",
       "<title>0--3</title>\n",
       "<path fill=\"none\" stroke=\"black\" d=\"M234.5,-287C234.5,-287 253.17,-267.19 267.46,-252.03\"/>\n",
       "</g>\n",
       "<!-- 13 -->\n",
       "<g id=\"node14\" class=\"node\">\n",
       "<title>13</title>\n",
       "<text text-anchor=\"start\" x=\"389\" y=\"-231.3\" font-family=\"Courier,monospace\" font-weight=\"bold\" font-size=\"14.00\" fill=\"#004080\">Return</text>\n",
       "</g>\n",
       "<!-- 0&#45;&#45;13 -->\n",
       "<g id=\"edge13\" class=\"edge\">\n",
       "<title>0--13</title>\n",
       "<path fill=\"none\" stroke=\"black\" d=\"M234.5,-287C234.5,-287 328.5,-259.84 380.64,-244.78\"/>\n",
       "</g>\n",
       "<!-- 4 -->\n",
       "<g id=\"node5\" class=\"node\">\n",
       "<title>4</title>\n",
       "<text text-anchor=\"start\" x=\"89.5\" y=\"-159.3\" font-family=\"Courier,monospace\" font-weight=\"bold\" font-size=\"14.00\" fill=\"#004080\">Name</text>\n",
       "</g>\n",
       "<!-- 3&#45;&#45;4 -->\n",
       "<g id=\"edge4\" class=\"edge\">\n",
       "<title>3--4</title>\n",
       "<path fill=\"none\" stroke=\"black\" d=\"M271.5,-215C271.5,-215 180.61,-186.36 133.75,-171.59\"/>\n",
       "</g>\n",
       "<!-- 7 -->\n",
       "<g id=\"node8\" class=\"node\">\n",
       "<title>7</title>\n",
       "<text text-anchor=\"start\" x=\"262\" y=\"-159.3\" font-family=\"Courier,monospace\" font-weight=\"bold\" font-size=\"14.00\" fill=\"#004080\">BinOp</text>\n",
       "</g>\n",
       "<!-- 3&#45;&#45;7 -->\n",
       "<g id=\"edge7\" class=\"edge\">\n",
       "<title>3--7</title>\n",
       "<path fill=\"none\" stroke=\"black\" d=\"M271.5,-215C271.5,-215 276.07,-195.19 279.57,-180.03\"/>\n",
       "</g>\n",
       "<!-- 5 -->\n",
       "<g id=\"node6\" class=\"node\">\n",
       "<title>5</title>\n",
       "<text text-anchor=\"middle\" x=\"29.5\" y=\"-86.3\" font-family=\"Courier,monospace\" font-size=\"14.00\" fill=\"#008040\">&quot;ret&quot;</text>\n",
       "</g>\n",
       "<!-- 4&#45;&#45;5 -->\n",
       "<g id=\"edge5\" class=\"edge\">\n",
       "<title>4--5</title>\n",
       "<path fill=\"none\" stroke=\"black\" d=\"M98.5,-143C98.5,-143 72.22,-123.19 52.09,-108.03\"/>\n",
       "</g>\n",
       "<!-- 6 -->\n",
       "<g id=\"node7\" class=\"node\">\n",
       "<title>6</title>\n",
       "<text text-anchor=\"middle\" x=\"106.5\" y=\"-86.3\" font-family=\"Courier,monospace\" font-size=\"14.00\" fill=\"#008040\">Store</text>\n",
       "</g>\n",
       "<!-- 4&#45;&#45;6 -->\n",
       "<g id=\"edge6\" class=\"edge\">\n",
       "<title>4--6</title>\n",
       "<path fill=\"none\" stroke=\"black\" d=\"M98.5,-143C98.5,-143 101.55,-123.19 103.88,-108.03\"/>\n",
       "</g>\n",
       "<!-- 8 -->\n",
       "<g id=\"node9\" class=\"node\">\n",
       "<title>8</title>\n",
       "<text text-anchor=\"start\" x=\"162.5\" y=\"-87.3\" font-family=\"Courier,monospace\" font-weight=\"bold\" font-size=\"14.00\" fill=\"#004080\">Constant</text>\n",
       "</g>\n",
       "<!-- 7&#45;&#45;8 -->\n",
       "<g id=\"edge8\" class=\"edge\">\n",
       "<title>7--8</title>\n",
       "<path fill=\"none\" stroke=\"black\" d=\"M283.5,-143C283.5,-143 250.36,-123.19 224.99,-108.03\"/>\n",
       "</g>\n",
       "<!-- 10 -->\n",
       "<g id=\"node11\" class=\"node\">\n",
       "<title>10</title>\n",
       "<text text-anchor=\"middle\" x=\"283.5\" y=\"-86.3\" font-family=\"Courier,monospace\" font-size=\"14.00\" fill=\"#008040\">Mult</text>\n",
       "</g>\n",
       "<!-- 7&#45;&#45;10 -->\n",
       "<g id=\"edge10\" class=\"edge\">\n",
       "<title>7--10</title>\n",
       "<path fill=\"none\" stroke=\"black\" d=\"M283.5,-143C283.5,-143 283.5,-123.19 283.5,-108.03\"/>\n",
       "</g>\n",
       "<!-- 11 -->\n",
       "<g id=\"node12\" class=\"node\">\n",
       "<title>11</title>\n",
       "<text text-anchor=\"start\" x=\"336.5\" y=\"-87.3\" font-family=\"Courier,monospace\" font-weight=\"bold\" font-size=\"14.00\" fill=\"#004080\">Constant</text>\n",
       "</g>\n",
       "<!-- 7&#45;&#45;11 -->\n",
       "<g id=\"edge11\" class=\"edge\">\n",
       "<title>7--11</title>\n",
       "<path fill=\"none\" stroke=\"black\" d=\"M283.5,-143C283.5,-143 316.64,-123.19 342.01,-108.03\"/>\n",
       "</g>\n",
       "<!-- 9 -->\n",
       "<g id=\"node10\" class=\"node\">\n",
       "<title>9</title>\n",
       "<text text-anchor=\"middle\" x=\"196.5\" y=\"-14.3\" font-family=\"Courier,monospace\" font-size=\"14.00\" fill=\"#008040\">2</text>\n",
       "</g>\n",
       "<!-- 8&#45;&#45;9 -->\n",
       "<g id=\"edge9\" class=\"edge\">\n",
       "<title>8--9</title>\n",
       "<path fill=\"none\" stroke=\"black\" d=\"M196.5,-71.7C196.5,-60.85 196.5,-46.92 196.5,-36.1\"/>\n",
       "</g>\n",
       "<!-- 12 -->\n",
       "<g id=\"node13\" class=\"node\">\n",
       "<title>12</title>\n",
       "<text text-anchor=\"middle\" x=\"370.5\" y=\"-14.3\" font-family=\"Courier,monospace\" font-size=\"14.00\" fill=\"#008040\">2</text>\n",
       "</g>\n",
       "<!-- 11&#45;&#45;12 -->\n",
       "<g id=\"edge12\" class=\"edge\">\n",
       "<title>11--12</title>\n",
       "<path fill=\"none\" stroke=\"black\" d=\"M370.5,-71.7C370.5,-60.85 370.5,-46.92 370.5,-36.1\"/>\n",
       "</g>\n",
       "<!-- 14 -->\n",
       "<g id=\"node15\" class=\"node\">\n",
       "<title>14</title>\n",
       "<text text-anchor=\"start\" x=\"443.5\" y=\"-159.3\" font-family=\"Courier,monospace\" font-weight=\"bold\" font-size=\"14.00\" fill=\"#004080\">Name</text>\n",
       "</g>\n",
       "<!-- 13&#45;&#45;14 -->\n",
       "<g id=\"edge14\" class=\"edge\">\n",
       "<title>13--14</title>\n",
       "<path fill=\"none\" stroke=\"black\" d=\"M425.87,-215.7C433,-204.85 442.15,-190.92 449.26,-180.1\"/>\n",
       "</g>\n",
       "<!-- 15 -->\n",
       "<g id=\"node16\" class=\"node\">\n",
       "<title>15</title>\n",
       "<text text-anchor=\"middle\" x=\"460.5\" y=\"-86.3\" font-family=\"Courier,monospace\" font-size=\"14.00\" fill=\"#008040\">&quot;ret&quot;</text>\n",
       "</g>\n",
       "<!-- 14&#45;&#45;15 -->\n",
       "<g id=\"edge15\" class=\"edge\">\n",
       "<title>14--15</title>\n",
       "<path fill=\"none\" stroke=\"black\" d=\"M468.5,-143C468.5,-143 465.45,-123.19 463.12,-108.03\"/>\n",
       "</g>\n",
       "<!-- 16 -->\n",
       "<g id=\"node17\" class=\"node\">\n",
       "<title>16</title>\n",
       "<text text-anchor=\"middle\" x=\"535.5\" y=\"-86.3\" font-family=\"Courier,monospace\" font-size=\"14.00\" fill=\"#008040\">Load</text>\n",
       "</g>\n",
       "<!-- 14&#45;&#45;16 -->\n",
       "<g id=\"edge16\" class=\"edge\">\n",
       "<title>14--16</title>\n",
       "<path fill=\"none\" stroke=\"black\" d=\"M468.5,-143C468.5,-143 494.02,-123.19 513.56,-108.03\"/>\n",
       "</g>\n",
       "</g>\n",
       "</svg>"
      ],
      "text/plain": [
       "<IPython.core.display.SVG object>"
      ]
     },
     "metadata": {},
     "output_type": "display_data"
    }
   ],
   "source": [
    "show_ast(tree)"
   ]
  },
  {
   "cell_type": "markdown",
   "metadata": {
    "slideshow": {
     "slide_type": "fragment"
    }
   },
   "source": [
    "You see that the function `foo()` has a `FunctionDef` node with four children: The function name (`\"foo\"`), its arguments (`arguments`; currently empty), followed by the statements that make the function body – `Assign` for the assignment, `Return` for the `return` statement."
   ]
  },
  {
   "cell_type": "markdown",
   "metadata": {
    "slideshow": {
     "slide_type": "subslide"
    }
   },
   "source": [
    "We obtain and manipulate the AST through the Python `ast` module. The [official Python `ast` reference](http://docs.python.org/3/library/ast) is complete, but a bit brief; the documentation [\"Green Tree Snakes - the missing Python AST docs\"](https://greentreesnakes.readthedocs.io/en/latest/) provides an excellent introduction."
   ]
  },
  {
   "cell_type": "markdown",
   "metadata": {
    "slideshow": {
     "slide_type": "fragment"
    }
   },
   "source": [
    "To instrument the above code, we need to insert a new statement as a child to `FunctionDef` node."
   ]
  },
  {
   "cell_type": "code",
   "execution_count": 85,
   "metadata": {
    "execution": {
     "iopub.execute_input": "2021-10-13T11:29:03.739965Z",
     "iopub.status.busy": "2021-10-13T11:29:03.739297Z",
     "iopub.status.idle": "2021-10-13T11:29:03.741441Z",
     "shell.execute_reply": "2021-10-13T11:29:03.741901Z"
    },
    "slideshow": {
     "slide_type": "skip"
    }
   },
   "outputs": [],
   "source": [
    "from ast import NodeTransformer, FunctionDef, fix_missing_locations, AST, Module"
   ]
  },
  {
   "cell_type": "markdown",
   "metadata": {
    "slideshow": {
     "slide_type": "fragment"
    }
   },
   "source": [
    "Here's the code we want to inject:"
   ]
  },
  {
   "cell_type": "code",
   "execution_count": 86,
   "metadata": {
    "execution": {
     "iopub.execute_input": "2021-10-13T11:29:03.745493Z",
     "iopub.status.busy": "2021-10-13T11:29:03.744975Z",
     "iopub.status.idle": "2021-10-13T11:29:03.746594Z",
     "shell.execute_reply": "2021-10-13T11:29:03.747009Z"
    },
    "slideshow": {
     "slide_type": "fragment"
    }
   },
   "outputs": [],
   "source": [
    "subtree_to_be_injected: AST = ast.parse(\"print('entering function')\")"
   ]
  },
  {
   "cell_type": "code",
   "execution_count": 87,
   "metadata": {
    "execution": {
     "iopub.execute_input": "2021-10-13T11:29:03.750099Z",
     "iopub.status.busy": "2021-10-13T11:29:03.749585Z",
     "iopub.status.idle": "2021-10-13T11:29:04.398349Z",
     "shell.execute_reply": "2021-10-13T11:29:04.398727Z"
    },
    "slideshow": {
     "slide_type": "fragment"
    }
   },
   "outputs": [
    {
     "data": {
      "image/svg+xml": [
       "<svg xmlns=\"http://www.w3.org/2000/svg\" xmlns:xlink=\"http://www.w3.org/1999/xlink\" width=\"350pt\" height=\"260pt\" viewBox=\"0.00 0.00 349.50 260.00\">\n",
       "<g id=\"graph0\" class=\"graph\" transform=\"scale(1 1) rotate(0) translate(4 256)\">\n",
       "<polygon fill=\"white\" stroke=\"transparent\" points=\"-4,4 -4,-256 345.5,-256 345.5,4 -4,4\"/>\n",
       "<!-- 0 -->\n",
       "<g id=\"node1\" class=\"node\">\n",
       "<title>0</title>\n",
       "<text text-anchor=\"start\" x=\"146.5\" y=\"-231.3\" font-family=\"Courier,monospace\" font-weight=\"bold\" font-size=\"14.00\" fill=\"#004080\">Expr</text>\n",
       "</g>\n",
       "<!-- 1 -->\n",
       "<g id=\"node2\" class=\"node\">\n",
       "<title>1</title>\n",
       "<text text-anchor=\"start\" x=\"146.5\" y=\"-159.3\" font-family=\"Courier,monospace\" font-weight=\"bold\" font-size=\"14.00\" fill=\"#004080\">Call</text>\n",
       "</g>\n",
       "<!-- 0&#45;&#45;1 -->\n",
       "<g id=\"edge1\" class=\"edge\">\n",
       "<title>0--1</title>\n",
       "<path fill=\"none\" stroke=\"black\" d=\"M163.5,-215.7C163.5,-204.85 163.5,-190.92 163.5,-180.1\"/>\n",
       "</g>\n",
       "<!-- 2 -->\n",
       "<g id=\"node3\" class=\"node\">\n",
       "<title>2</title>\n",
       "<text text-anchor=\"start\" x=\"103.5\" y=\"-87.3\" font-family=\"Courier,monospace\" font-weight=\"bold\" font-size=\"14.00\" fill=\"#004080\">Name</text>\n",
       "</g>\n",
       "<!-- 1&#45;&#45;2 -->\n",
       "<g id=\"edge2\" class=\"edge\">\n",
       "<title>1--2</title>\n",
       "<path fill=\"none\" stroke=\"black\" d=\"M165.5,-143C165.5,-143 148.36,-123.19 135.23,-108.03\"/>\n",
       "</g>\n",
       "<!-- 5 -->\n",
       "<g id=\"node6\" class=\"node\">\n",
       "<title>5</title>\n",
       "<text text-anchor=\"start\" x=\"196.5\" y=\"-87.3\" font-family=\"Courier,monospace\" font-weight=\"bold\" font-size=\"14.00\" fill=\"#004080\">Constant</text>\n",
       "</g>\n",
       "<!-- 1&#45;&#45;5 -->\n",
       "<g id=\"edge5\" class=\"edge\">\n",
       "<title>1--5</title>\n",
       "<path fill=\"none\" stroke=\"black\" d=\"M165.5,-143C165.5,-143 190.26,-123.19 209.22,-108.03\"/>\n",
       "</g>\n",
       "<!-- 3 -->\n",
       "<g id=\"node4\" class=\"node\">\n",
       "<title>3</title>\n",
       "<text text-anchor=\"middle\" x=\"37.5\" y=\"-14.3\" font-family=\"Courier,monospace\" font-size=\"14.00\" fill=\"#008040\">&quot;print&quot;</text>\n",
       "</g>\n",
       "<!-- 2&#45;&#45;3 -->\n",
       "<g id=\"edge3\" class=\"edge\">\n",
       "<title>2--3</title>\n",
       "<path fill=\"none\" stroke=\"black\" d=\"M112.5,-71C112.5,-71 83.93,-51.19 62.06,-36.03\"/>\n",
       "</g>\n",
       "<!-- 4 -->\n",
       "<g id=\"node5\" class=\"node\">\n",
       "<title>4</title>\n",
       "<text text-anchor=\"middle\" x=\"120.5\" y=\"-14.3\" font-family=\"Courier,monospace\" font-size=\"14.00\" fill=\"#008040\">Load</text>\n",
       "</g>\n",
       "<!-- 2&#45;&#45;4 -->\n",
       "<g id=\"edge4\" class=\"edge\">\n",
       "<title>2--4</title>\n",
       "<path fill=\"none\" stroke=\"black\" d=\"M112.5,-71C112.5,-71 115.55,-51.19 117.88,-36.03\"/>\n",
       "</g>\n",
       "<!-- 6 -->\n",
       "<g id=\"node7\" class=\"node\">\n",
       "<title>6</title>\n",
       "<text text-anchor=\"middle\" x=\"253.5\" y=\"-14.3\" font-family=\"Courier,monospace\" font-size=\"14.00\" fill=\"#008040\">&quot;entering function&quot;</text>\n",
       "</g>\n",
       "<!-- 5&#45;&#45;6 -->\n",
       "<g id=\"edge6\" class=\"edge\">\n",
       "<title>5--6</title>\n",
       "<path fill=\"none\" stroke=\"black\" d=\"M236.19,-71.7C239.75,-60.85 244.33,-46.92 247.88,-36.1\"/>\n",
       "</g>\n",
       "</g>\n",
       "</svg>"
      ],
      "text/plain": [
       "<IPython.core.display.SVG object>"
      ]
     },
     "metadata": {},
     "output_type": "display_data"
    }
   ],
   "source": [
    "show_ast(subtree_to_be_injected)"
   ]
  },
  {
   "cell_type": "markdown",
   "metadata": {
    "slideshow": {
     "slide_type": "fragment"
    }
   },
   "source": [
    "The root of an `ast.parse()` tree actually is a `Module` node; we go directly to its child, which is the `Expr` node we want to inject."
   ]
  },
  {
   "cell_type": "code",
   "execution_count": 88,
   "metadata": {
    "execution": {
     "iopub.execute_input": "2021-10-13T11:29:04.402773Z",
     "iopub.status.busy": "2021-10-13T11:29:04.402223Z",
     "iopub.status.idle": "2021-10-13T11:29:04.404059Z",
     "shell.execute_reply": "2021-10-13T11:29:04.404425Z"
    },
    "slideshow": {
     "slide_type": "fragment"
    }
   },
   "outputs": [],
   "source": [
    "subtree_to_be_injected = cast(Module, subtree_to_be_injected).body[0]"
   ]
  },
  {
   "cell_type": "markdown",
   "metadata": {
    "slideshow": {
     "slide_type": "subslide"
    }
   },
   "source": [
    "To inject the code, we use the `NodeTransformer` class as described in the Python `ast` documentation. We vist all function definitions (`FunctionDef`) and replace them with a new function definition in which the `body` gets an additional child – namely our subtree to be injected."
   ]
  },
  {
   "cell_type": "code",
   "execution_count": 89,
   "metadata": {
    "execution": {
     "iopub.execute_input": "2021-10-13T11:29:04.408344Z",
     "iopub.status.busy": "2021-10-13T11:29:04.407829Z",
     "iopub.status.idle": "2021-10-13T11:29:04.409437Z",
     "shell.execute_reply": "2021-10-13T11:29:04.409836Z"
    },
    "slideshow": {
     "slide_type": "fragment"
    }
   },
   "outputs": [],
   "source": [
    "class InjectPass(NodeTransformer):\n",
    "    def visit_FunctionDef(self, node: FunctionDef) -> AST:\n",
    "        return FunctionDef(\n",
    "            name=node.name,\n",
    "            args=node.args,\n",
    "            body=[subtree_to_be_injected] + node.body,\n",
    "            decorator_list=node.decorator_list,\n",
    "            returns=node.returns\n",
    "        )"
   ]
  },
  {
   "cell_type": "code",
   "execution_count": 90,
   "metadata": {
    "execution": {
     "iopub.execute_input": "2021-10-13T11:29:04.412923Z",
     "iopub.status.busy": "2021-10-13T11:29:04.412411Z",
     "iopub.status.idle": "2021-10-13T11:29:04.414204Z",
     "shell.execute_reply": "2021-10-13T11:29:04.414581Z"
    },
    "slideshow": {
     "slide_type": "fragment"
    }
   },
   "outputs": [],
   "source": [
    "new_tree = fix_missing_locations(InjectPass().visit(tree))"
   ]
  },
  {
   "cell_type": "markdown",
   "metadata": {
    "slideshow": {
     "slide_type": "subslide"
    }
   },
   "source": [
    "This is what our new tree looks like:"
   ]
  },
  {
   "cell_type": "code",
   "execution_count": 91,
   "metadata": {
    "execution": {
     "iopub.execute_input": "2021-10-13T11:29:04.417573Z",
     "iopub.status.busy": "2021-10-13T11:29:04.417067Z",
     "iopub.status.idle": "2021-10-13T11:29:05.060816Z",
     "shell.execute_reply": "2021-10-13T11:29:05.061308Z"
    },
    "slideshow": {
     "slide_type": "fragment"
    }
   },
   "outputs": [
    {
     "data": {
      "image/svg+xml": [
       "<svg xmlns=\"http://www.w3.org/2000/svg\" xmlns:xlink=\"http://www.w3.org/1999/xlink\" width=\"862pt\" height=\"332pt\" viewBox=\"0.00 0.00 861.50 332.00\">\n",
       "<g id=\"graph0\" class=\"graph\" transform=\"scale(1 1) rotate(0) translate(4 328)\">\n",
       "<polygon fill=\"white\" stroke=\"transparent\" points=\"-4,4 -4,-328 857.5,-328 857.5,4 -4,4\"/>\n",
       "<!-- 0 -->\n",
       "<g id=\"node1\" class=\"node\">\n",
       "<title>0</title>\n",
       "<text text-anchor=\"start\" x=\"317\" y=\"-303.3\" font-family=\"Courier,monospace\" font-weight=\"bold\" font-size=\"14.00\" fill=\"#004080\">FunctionDef</text>\n",
       "</g>\n",
       "<!-- 1 -->\n",
       "<g id=\"node2\" class=\"node\">\n",
       "<title>1</title>\n",
       "<text text-anchor=\"middle\" x=\"178.5\" y=\"-230.3\" font-family=\"Courier,monospace\" font-size=\"14.00\" fill=\"#008040\">&quot;foo&quot;</text>\n",
       "</g>\n",
       "<!-- 0&#45;&#45;1 -->\n",
       "<g id=\"edge1\" class=\"edge\">\n",
       "<title>0--1</title>\n",
       "<path fill=\"none\" stroke=\"black\" d=\"M363.5,-287C363.5,-287 280.77,-273.19 217.5,-252 214.42,-250.97 211.24,-249.79 208.1,-248.54\"/>\n",
       "</g>\n",
       "<!-- 2 -->\n",
       "<g id=\"node3\" class=\"node\">\n",
       "<title>2</title>\n",
       "<text text-anchor=\"middle\" x=\"272.5\" y=\"-230.3\" font-family=\"Courier,monospace\" font-size=\"14.00\" fill=\"#008040\">arguments</text>\n",
       "</g>\n",
       "<!-- 0&#45;&#45;2 -->\n",
       "<g id=\"edge2\" class=\"edge\">\n",
       "<title>0--2</title>\n",
       "<path fill=\"none\" stroke=\"black\" d=\"M363.5,-287C363.5,-287 328.84,-267.19 302.3,-252.03\"/>\n",
       "</g>\n",
       "<!-- 3 -->\n",
       "<g id=\"node4\" class=\"node\">\n",
       "<title>3</title>\n",
       "<text text-anchor=\"start\" x=\"346.5\" y=\"-231.3\" font-family=\"Courier,monospace\" font-weight=\"bold\" font-size=\"14.00\" fill=\"#004080\">Expr</text>\n",
       "</g>\n",
       "<!-- 0&#45;&#45;3 -->\n",
       "<g id=\"edge3\" class=\"edge\">\n",
       "<title>0--3</title>\n",
       "<path fill=\"none\" stroke=\"black\" d=\"M363.5,-287C363.5,-287 363.5,-267.19 363.5,-252.03\"/>\n",
       "</g>\n",
       "<!-- 10 -->\n",
       "<g id=\"node11\" class=\"node\">\n",
       "<title>10</title>\n",
       "<text text-anchor=\"start\" x=\"417\" y=\"-231.3\" font-family=\"Courier,monospace\" font-weight=\"bold\" font-size=\"14.00\" fill=\"#004080\">Assign</text>\n",
       "</g>\n",
       "<!-- 0&#45;&#45;10 -->\n",
       "<g id=\"edge10\" class=\"edge\">\n",
       "<title>0--10</title>\n",
       "<path fill=\"none\" stroke=\"black\" d=\"M363.5,-287C363.5,-287 393.59,-267.19 416.63,-252.03\"/>\n",
       "</g>\n",
       "<!-- 20 -->\n",
       "<g id=\"node21\" class=\"node\">\n",
       "<title>20</title>\n",
       "<text text-anchor=\"start\" x=\"614\" y=\"-231.3\" font-family=\"Courier,monospace\" font-weight=\"bold\" font-size=\"14.00\" fill=\"#004080\">Return</text>\n",
       "</g>\n",
       "<!-- 0&#45;&#45;20 -->\n",
       "<g id=\"edge20\" class=\"edge\">\n",
       "<title>0--20</title>\n",
       "<path fill=\"none\" stroke=\"black\" d=\"M363.5,-287C363.5,-287 532.38,-255.18 605.93,-241.32\"/>\n",
       "</g>\n",
       "<!-- 4 -->\n",
       "<g id=\"node5\" class=\"node\">\n",
       "<title>4</title>\n",
       "<text text-anchor=\"start\" x=\"213.5\" y=\"-159.3\" font-family=\"Courier,monospace\" font-weight=\"bold\" font-size=\"14.00\" fill=\"#004080\">Call</text>\n",
       "</g>\n",
       "<!-- 3&#45;&#45;4 -->\n",
       "<g id=\"edge4\" class=\"edge\">\n",
       "<title>3--4</title>\n",
       "<path fill=\"none\" stroke=\"black\" d=\"M336.26,-218.67C313.31,-206.59 280.64,-189.39 257.7,-177.32\"/>\n",
       "</g>\n",
       "<!-- 5 -->\n",
       "<g id=\"node6\" class=\"node\">\n",
       "<title>5</title>\n",
       "<text text-anchor=\"start\" x=\"103.5\" y=\"-87.3\" font-family=\"Courier,monospace\" font-weight=\"bold\" font-size=\"14.00\" fill=\"#004080\">Name</text>\n",
       "</g>\n",
       "<!-- 4&#45;&#45;5 -->\n",
       "<g id=\"edge5\" class=\"edge\">\n",
       "<title>4--5</title>\n",
       "<path fill=\"none\" stroke=\"black\" d=\"M220.5,-143C220.5,-143 177.18,-120.47 147.56,-105.07\"/>\n",
       "</g>\n",
       "<!-- 8 -->\n",
       "<g id=\"node9\" class=\"node\">\n",
       "<title>8</title>\n",
       "<text text-anchor=\"start\" x=\"196.5\" y=\"-87.3\" font-family=\"Courier,monospace\" font-weight=\"bold\" font-size=\"14.00\" fill=\"#004080\">Constant</text>\n",
       "</g>\n",
       "<!-- 4&#45;&#45;8 -->\n",
       "<g id=\"edge8\" class=\"edge\">\n",
       "<title>4--8</title>\n",
       "<path fill=\"none\" stroke=\"black\" d=\"M220.5,-143C220.5,-143 224.31,-123.19 227.23,-108.03\"/>\n",
       "</g>\n",
       "<!-- 6 -->\n",
       "<g id=\"node7\" class=\"node\">\n",
       "<title>6</title>\n",
       "<text text-anchor=\"middle\" x=\"37.5\" y=\"-14.3\" font-family=\"Courier,monospace\" font-size=\"14.00\" fill=\"#008040\">&quot;print&quot;</text>\n",
       "</g>\n",
       "<!-- 5&#45;&#45;6 -->\n",
       "<g id=\"edge6\" class=\"edge\">\n",
       "<title>5--6</title>\n",
       "<path fill=\"none\" stroke=\"black\" d=\"M112.5,-71C112.5,-71 83.93,-51.19 62.06,-36.03\"/>\n",
       "</g>\n",
       "<!-- 7 -->\n",
       "<g id=\"node8\" class=\"node\">\n",
       "<title>7</title>\n",
       "<text text-anchor=\"middle\" x=\"120.5\" y=\"-14.3\" font-family=\"Courier,monospace\" font-size=\"14.00\" fill=\"#008040\">Load</text>\n",
       "</g>\n",
       "<!-- 5&#45;&#45;7 -->\n",
       "<g id=\"edge7\" class=\"edge\">\n",
       "<title>5--7</title>\n",
       "<path fill=\"none\" stroke=\"black\" d=\"M112.5,-71C112.5,-71 115.55,-51.19 117.88,-36.03\"/>\n",
       "</g>\n",
       "<!-- 9 -->\n",
       "<g id=\"node10\" class=\"node\">\n",
       "<title>9</title>\n",
       "<text text-anchor=\"middle\" x=\"253.5\" y=\"-14.3\" font-family=\"Courier,monospace\" font-size=\"14.00\" fill=\"#008040\">&quot;entering function&quot;</text>\n",
       "</g>\n",
       "<!-- 8&#45;&#45;9 -->\n",
       "<g id=\"edge9\" class=\"edge\">\n",
       "<title>8--9</title>\n",
       "<path fill=\"none\" stroke=\"black\" d=\"M236.19,-71.7C239.75,-60.85 244.33,-46.92 247.88,-36.1\"/>\n",
       "</g>\n",
       "<!-- 11 -->\n",
       "<g id=\"node12\" class=\"node\">\n",
       "<title>11</title>\n",
       "<text text-anchor=\"start\" x=\"380.5\" y=\"-159.3\" font-family=\"Courier,monospace\" font-weight=\"bold\" font-size=\"14.00\" fill=\"#004080\">Name</text>\n",
       "</g>\n",
       "<!-- 10&#45;&#45;11 -->\n",
       "<g id=\"edge11\" class=\"edge\">\n",
       "<title>10--11</title>\n",
       "<path fill=\"none\" stroke=\"black\" d=\"M445.5,-215C445.5,-215 427.22,-195.19 413.22,-180.03\"/>\n",
       "</g>\n",
       "<!-- 14 -->\n",
       "<g id=\"node15\" class=\"node\">\n",
       "<title>14</title>\n",
       "<text text-anchor=\"start\" x=\"509\" y=\"-159.3\" font-family=\"Courier,monospace\" font-weight=\"bold\" font-size=\"14.00\" fill=\"#004080\">BinOp</text>\n",
       "</g>\n",
       "<!-- 10&#45;&#45;14 -->\n",
       "<g id=\"edge14\" class=\"edge\">\n",
       "<title>10--14</title>\n",
       "<path fill=\"none\" stroke=\"black\" d=\"M445.5,-215C445.5,-215 477.88,-195.19 502.67,-180.03\"/>\n",
       "</g>\n",
       "<!-- 12 -->\n",
       "<g id=\"node13\" class=\"node\">\n",
       "<title>12</title>\n",
       "<text text-anchor=\"middle\" x=\"320.5\" y=\"-86.3\" font-family=\"Courier,monospace\" font-size=\"14.00\" fill=\"#008040\">&quot;ret&quot;</text>\n",
       "</g>\n",
       "<!-- 11&#45;&#45;12 -->\n",
       "<g id=\"edge12\" class=\"edge\">\n",
       "<title>11--12</title>\n",
       "<path fill=\"none\" stroke=\"black\" d=\"M389.5,-143C389.5,-143 363.22,-123.19 343.09,-108.03\"/>\n",
       "</g>\n",
       "<!-- 13 -->\n",
       "<g id=\"node14\" class=\"node\">\n",
       "<title>13</title>\n",
       "<text text-anchor=\"middle\" x=\"397.5\" y=\"-86.3\" font-family=\"Courier,monospace\" font-size=\"14.00\" fill=\"#008040\">Store</text>\n",
       "</g>\n",
       "<!-- 11&#45;&#45;13 -->\n",
       "<g id=\"edge13\" class=\"edge\">\n",
       "<title>11--13</title>\n",
       "<path fill=\"none\" stroke=\"black\" d=\"M389.5,-143C389.5,-143 392.55,-123.19 394.88,-108.03\"/>\n",
       "</g>\n",
       "<!-- 15 -->\n",
       "<g id=\"node16\" class=\"node\">\n",
       "<title>15</title>\n",
       "<text text-anchor=\"start\" x=\"453.5\" y=\"-87.3\" font-family=\"Courier,monospace\" font-weight=\"bold\" font-size=\"14.00\" fill=\"#004080\">Constant</text>\n",
       "</g>\n",
       "<!-- 14&#45;&#45;15 -->\n",
       "<g id=\"edge15\" class=\"edge\">\n",
       "<title>14--15</title>\n",
       "<path fill=\"none\" stroke=\"black\" d=\"M537.5,-143C537.5,-143 518.45,-123.19 503.87,-108.03\"/>\n",
       "</g>\n",
       "<!-- 17 -->\n",
       "<g id=\"node18\" class=\"node\">\n",
       "<title>17</title>\n",
       "<text text-anchor=\"middle\" x=\"574.5\" y=\"-86.3\" font-family=\"Courier,monospace\" font-size=\"14.00\" fill=\"#008040\">Mult</text>\n",
       "</g>\n",
       "<!-- 14&#45;&#45;17 -->\n",
       "<g id=\"edge17\" class=\"edge\">\n",
       "<title>14--17</title>\n",
       "<path fill=\"none\" stroke=\"black\" d=\"M537.5,-143C537.5,-143 551.59,-123.19 562.38,-108.03\"/>\n",
       "</g>\n",
       "<!-- 18 -->\n",
       "<g id=\"node19\" class=\"node\">\n",
       "<title>18</title>\n",
       "<text text-anchor=\"start\" x=\"627.5\" y=\"-87.3\" font-family=\"Courier,monospace\" font-weight=\"bold\" font-size=\"14.00\" fill=\"#004080\">Constant</text>\n",
       "</g>\n",
       "<!-- 14&#45;&#45;18 -->\n",
       "<g id=\"edge18\" class=\"edge\">\n",
       "<title>14--18</title>\n",
       "<path fill=\"none\" stroke=\"black\" d=\"M537.5,-143C537.5,-143 584.73,-123.19 620.9,-108.03\"/>\n",
       "</g>\n",
       "<!-- 16 -->\n",
       "<g id=\"node17\" class=\"node\">\n",
       "<title>16</title>\n",
       "<text text-anchor=\"middle\" x=\"487.5\" y=\"-14.3\" font-family=\"Courier,monospace\" font-size=\"14.00\" fill=\"#008040\">2</text>\n",
       "</g>\n",
       "<!-- 15&#45;&#45;16 -->\n",
       "<g id=\"edge16\" class=\"edge\">\n",
       "<title>15--16</title>\n",
       "<path fill=\"none\" stroke=\"black\" d=\"M487.5,-71.7C487.5,-60.85 487.5,-46.92 487.5,-36.1\"/>\n",
       "</g>\n",
       "<!-- 19 -->\n",
       "<g id=\"node20\" class=\"node\">\n",
       "<title>19</title>\n",
       "<text text-anchor=\"middle\" x=\"661.5\" y=\"-14.3\" font-family=\"Courier,monospace\" font-size=\"14.00\" fill=\"#008040\">2</text>\n",
       "</g>\n",
       "<!-- 18&#45;&#45;19 -->\n",
       "<g id=\"edge19\" class=\"edge\">\n",
       "<title>18--19</title>\n",
       "<path fill=\"none\" stroke=\"black\" d=\"M661.5,-71.7C661.5,-60.85 661.5,-46.92 661.5,-36.1\"/>\n",
       "</g>\n",
       "<!-- 21 -->\n",
       "<g id=\"node22\" class=\"node\">\n",
       "<title>21</title>\n",
       "<text text-anchor=\"start\" x=\"734.5\" y=\"-159.3\" font-family=\"Courier,monospace\" font-weight=\"bold\" font-size=\"14.00\" fill=\"#004080\">Name</text>\n",
       "</g>\n",
       "<!-- 20&#45;&#45;21 -->\n",
       "<g id=\"edge21\" class=\"edge\">\n",
       "<title>20--21</title>\n",
       "<path fill=\"none\" stroke=\"black\" d=\"M666.9,-215.88C684.38,-204.95 706.95,-190.84 724.38,-179.95\"/>\n",
       "</g>\n",
       "<!-- 22 -->\n",
       "<g id=\"node23\" class=\"node\">\n",
       "<title>22</title>\n",
       "<text text-anchor=\"middle\" x=\"751.5\" y=\"-86.3\" font-family=\"Courier,monospace\" font-size=\"14.00\" fill=\"#008040\">&quot;ret&quot;</text>\n",
       "</g>\n",
       "<!-- 21&#45;&#45;22 -->\n",
       "<g id=\"edge22\" class=\"edge\">\n",
       "<title>21--22</title>\n",
       "<path fill=\"none\" stroke=\"black\" d=\"M759.5,-143C759.5,-143 756.45,-123.19 754.12,-108.03\"/>\n",
       "</g>\n",
       "<!-- 23 -->\n",
       "<g id=\"node24\" class=\"node\">\n",
       "<title>23</title>\n",
       "<text text-anchor=\"middle\" x=\"826.5\" y=\"-86.3\" font-family=\"Courier,monospace\" font-size=\"14.00\" fill=\"#008040\">Load</text>\n",
       "</g>\n",
       "<!-- 21&#45;&#45;23 -->\n",
       "<g id=\"edge23\" class=\"edge\">\n",
       "<title>21--23</title>\n",
       "<path fill=\"none\" stroke=\"black\" d=\"M759.5,-143C759.5,-143 785.02,-123.19 804.56,-108.03\"/>\n",
       "</g>\n",
       "</g>\n",
       "</svg>"
      ],
      "text/plain": [
       "<IPython.core.display.SVG object>"
      ]
     },
     "metadata": {},
     "output_type": "display_data"
    }
   ],
   "source": [
    "show_ast(new_tree)"
   ]
  },
  {
   "cell_type": "markdown",
   "metadata": {
    "slideshow": {
     "slide_type": "fragment"
    }
   },
   "source": [
    "This is what the tree looks like when converted back to source code:"
   ]
  },
  {
   "cell_type": "code",
   "execution_count": 92,
   "metadata": {
    "execution": {
     "iopub.execute_input": "2021-10-13T11:29:05.069993Z",
     "iopub.status.busy": "2021-10-13T11:29:05.069455Z",
     "iopub.status.idle": "2021-10-13T11:29:05.071508Z",
     "shell.execute_reply": "2021-10-13T11:29:05.071875Z"
    },
    "slideshow": {
     "slide_type": "fragment"
    }
   },
   "outputs": [
    {
     "name": "stdout",
     "output_type": "stream",
     "text": [
      "\u001b[34mdef\u001b[39;49;00m \u001b[32mfoo\u001b[39;49;00m():\n",
      "    \u001b[36mprint\u001b[39;49;00m(\u001b[33m'\u001b[39;49;00m\u001b[33mentering function\u001b[39;49;00m\u001b[33m'\u001b[39;49;00m)\n",
      "    ret = \u001b[34m2\u001b[39;49;00m * \u001b[34m2\u001b[39;49;00m\n",
      "    \u001b[34mreturn\u001b[39;49;00m ret"
     ]
    }
   ],
   "source": [
    "new_source = ast.unparse(new_tree)\n",
    "print_content(new_source, '.py')"
   ]
  },
  {
   "cell_type": "markdown",
   "metadata": {
    "slideshow": {
     "slide_type": "fragment"
    }
   },
   "source": [
    "We can now compile the new source into a function:"
   ]
  },
  {
   "cell_type": "code",
   "execution_count": 93,
   "metadata": {
    "execution": {
     "iopub.execute_input": "2021-10-13T11:29:05.075193Z",
     "iopub.status.busy": "2021-10-13T11:29:05.074626Z",
     "iopub.status.idle": "2021-10-13T11:29:05.076441Z",
     "shell.execute_reply": "2021-10-13T11:29:05.076815Z"
    },
    "slideshow": {
     "slide_type": "fragment"
    }
   },
   "outputs": [],
   "source": [
    "exec(new_source)"
   ]
  },
  {
   "cell_type": "markdown",
   "metadata": {
    "slideshow": {
     "slide_type": "fragment"
    }
   },
   "source": [
    "... and happily invoke our instrumented function."
   ]
  },
  {
   "cell_type": "code",
   "execution_count": 94,
   "metadata": {
    "execution": {
     "iopub.execute_input": "2021-10-13T11:29:05.080313Z",
     "iopub.status.busy": "2021-10-13T11:29:05.079780Z",
     "iopub.status.idle": "2021-10-13T11:29:05.082822Z",
     "shell.execute_reply": "2021-10-13T11:29:05.083187Z"
    },
    "slideshow": {
     "slide_type": "subslide"
    }
   },
   "outputs": [
    {
     "name": "stdout",
     "output_type": "stream",
     "text": [
      "entering function\n"
     ]
    },
    {
     "data": {
      "text/plain": [
       "4"
      ]
     },
     "execution_count": 94,
     "metadata": {},
     "output_type": "execute_result"
    }
   ],
   "source": [
    "foo()"
   ]
  },
  {
   "cell_type": "markdown",
   "metadata": {
    "slideshow": {
     "slide_type": "fragment"
    }
   },
   "source": [
    "Your task is to implement a function `insert_tracer_ast(function, breakpoints)` that works like `insert_tracer()`, above, except that it uses this AST-based mechanism to inject debugging code into the given function."
   ]
  }
 ],
 "metadata": {
  "ipub": {
   "bibliography": "fuzzingbook.bib",
   "toc": true
  },
  "kernelspec": {
   "display_name": "Python 3 (ipykernel)",
   "language": "python",
   "name": "python3"
  },
  "language_info": {
   "codemirror_mode": {
    "name": "ipython",
    "version": 3
   },
   "file_extension": ".py",
   "mimetype": "text/x-python",
   "name": "python",
   "nbconvert_exporter": "python",
   "pygments_lexer": "ipython3",
   "version": "3.9.7"
  },
  "toc": {
   "base_numbering": 1,
   "nav_menu": {},
   "number_sections": true,
   "sideBar": true,
   "skip_h1_title": true,
   "title_cell": "",
   "title_sidebar": "Contents",
   "toc_cell": false,
   "toc_position": {},
   "toc_section_display": true,
   "toc_window_display": true
  },
  "toc-autonumbering": false
 },
 "nbformat": 4,
 "nbformat_minor": 4
}