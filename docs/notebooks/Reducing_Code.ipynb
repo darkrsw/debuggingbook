{
 "cells": [
  {
   "cell_type": "markdown",
   "metadata": {
    "heading_collapsed": true,
    "slideshow": {
     "slide_type": "slide"
    }
   },
   "source": [
    "# Second Project"
   ]
  },
  {
   "cell_type": "markdown",
   "metadata": {
    "hidden": true,
    "slideshow": {
     "slide_type": "fragment"
    }
   },
   "source": [
    "In this project, you will implement a debugging reducer able to reduce a Python program containing a specific property down to a syntactically correct Python program that *only* contains said property.\n",
    "To do this, you will be given several Python parsers checking for specific properties as well as Python programs containing these properties.\n",
    "\n",
    "The time frame for this project is **2 weeks**, and the Deadline is **January 15th 23:59**."
   ]
  },
  {
   "cell_type": "code",
   "execution_count": 1,
   "metadata": {
    "collapsed": false,
    "execution": {
     "iopub.execute_input": "2021-10-13T12:52:07.649466Z",
     "iopub.status.busy": "2021-10-13T12:52:07.648879Z",
     "iopub.status.idle": "2021-10-13T12:52:07.729894Z",
     "shell.execute_reply": "2021-10-13T12:52:07.730236Z"
    },
    "jupyter": {
     "outputs_hidden": false
    },
    "pycharm": {
     "name": "#%%\n"
    },
    "slideshow": {
     "slide_type": "skip"
    }
   },
   "outputs": [],
   "source": [
    "import bookutils"
   ]
  },
  {
   "cell_type": "code",
   "execution_count": 2,
   "metadata": {
    "execution": {
     "iopub.execute_input": "2021-10-13T12:52:07.733913Z",
     "iopub.status.busy": "2021-10-13T12:52:07.733414Z",
     "iopub.status.idle": "2021-10-13T12:52:07.735731Z",
     "shell.execute_reply": "2021-10-13T12:52:07.736096Z"
    },
    "hidden": true,
    "pycharm": {
     "name": "#%%\n"
    },
    "slideshow": {
     "slide_type": "skip"
    }
   },
   "outputs": [],
   "source": [
    "import inspect\n",
    "import ast"
   ]
  },
  {
   "cell_type": "code",
   "execution_count": 3,
   "metadata": {
    "execution": {
     "iopub.execute_input": "2021-10-13T12:52:07.739349Z",
     "iopub.status.busy": "2021-10-13T12:52:07.738834Z",
     "iopub.status.idle": "2021-10-13T12:52:07.740632Z",
     "shell.execute_reply": "2021-10-13T12:52:07.741008Z"
    },
    "slideshow": {
     "slide_type": "skip"
    }
   },
   "outputs": [],
   "source": [
    "from bookutils import show_ast"
   ]
  },
  {
   "cell_type": "code",
   "execution_count": 4,
   "metadata": {
    "collapsed": false,
    "execution": {
     "iopub.execute_input": "2021-10-13T12:52:07.744107Z",
     "iopub.status.busy": "2021-10-13T12:52:07.743589Z",
     "iopub.status.idle": "2021-10-13T12:52:07.798445Z",
     "shell.execute_reply": "2021-10-13T12:52:07.798852Z"
    },
    "jupyter": {
     "outputs_hidden": false
    },
    "pycharm": {
     "name": "#%%\n"
    },
    "slideshow": {
     "slide_type": "skip"
    }
   },
   "outputs": [],
   "source": [
    "from ExpectError import ExpectError"
   ]
  },
  {
   "cell_type": "code",
   "execution_count": 5,
   "metadata": {
    "execution": {
     "iopub.execute_input": "2021-10-13T12:52:07.802411Z",
     "iopub.status.busy": "2021-10-13T12:52:07.801902Z",
     "iopub.status.idle": "2021-10-13T12:52:07.803847Z",
     "shell.execute_reply": "2021-10-13T12:52:07.804284Z"
    },
    "slideshow": {
     "slide_type": "fragment"
    }
   },
   "outputs": [],
   "source": [
    "# ignore\n",
    "from typing import Any, Optional, Set, cast"
   ]
  },
  {
   "cell_type": "markdown",
   "metadata": {
    "hidden": true,
    "pycharm": {
     "name": "#%% md\n"
    },
    "slideshow": {
     "slide_type": "slide"
    }
   },
   "source": [
    "## Description\n",
    "\n",
    "Imagine we want to create a new compiler for Python programs which transforms the code into a binary executable.\n",
    "To this end, at first we need to implement a parser that parses a given program into a set of individual statements which can then be converted to the bytecode."
   ]
  },
  {
   "cell_type": "markdown",
   "metadata": {
    "hidden": true,
    "pycharm": {
     "name": "#%% md\n"
    },
    "slideshow": {
     "slide_type": "subslide"
    }
   },
   "source": [
    "### Parsing Python  \n",
    "\n",
    "If we want to parse a programming language like Python, it makes sense to parse the code into an abstract syntax tree (AST) and work with the AST from this point onward.\n",
    "The reason we might want to do this, is to preserve the syntactic integrity of our program.\n",
    "Let's start with parsing a simple Python function (`foo`) into an AST using `ast.parse()` and printing it."
   ]
  },
  {
   "cell_type": "code",
   "execution_count": 6,
   "metadata": {
    "execution": {
     "iopub.execute_input": "2021-10-13T12:52:07.807578Z",
     "iopub.status.busy": "2021-10-13T12:52:07.807061Z",
     "iopub.status.idle": "2021-10-13T12:52:07.809010Z",
     "shell.execute_reply": "2021-10-13T12:52:07.809400Z"
    },
    "slideshow": {
     "slide_type": "subslide"
    }
   },
   "outputs": [],
   "source": [
    "def foo(a, b):    # type: ignore\n",
    "    \"\"\"\n",
    "    Checks whether a and b are true\n",
    "    \"\"\"\n",
    "    if a and b:\n",
    "        return 1\n",
    "    return 0"
   ]
  },
  {
   "cell_type": "markdown",
   "metadata": {
    "pycharm": {
     "name": "#%% md\n"
    },
    "slideshow": {
     "slide_type": "fragment"
    }
   },
   "source": [
    "We take a string representation of `foo()`..."
   ]
  },
  {
   "cell_type": "code",
   "execution_count": 7,
   "metadata": {
    "execution": {
     "iopub.execute_input": "2021-10-13T12:52:07.812897Z",
     "iopub.status.busy": "2021-10-13T12:52:07.812385Z",
     "iopub.status.idle": "2021-10-13T12:52:07.814054Z",
     "shell.execute_reply": "2021-10-13T12:52:07.814552Z"
    },
    "slideshow": {
     "slide_type": "fragment"
    }
   },
   "outputs": [],
   "source": [
    "source = inspect.getsource(foo)"
   ]
  },
  {
   "cell_type": "code",
   "execution_count": 8,
   "metadata": {
    "execution": {
     "iopub.execute_input": "2021-10-13T12:52:07.817664Z",
     "iopub.status.busy": "2021-10-13T12:52:07.816909Z",
     "iopub.status.idle": "2021-10-13T12:52:07.821220Z",
     "shell.execute_reply": "2021-10-13T12:52:07.821692Z"
    },
    "pycharm": {
     "name": "#%%\n"
    },
    "slideshow": {
     "slide_type": "subslide"
    }
   },
   "outputs": [
    {
     "name": "stdout",
     "output_type": "stream",
     "text": [
      "def foo(a, b):    # type: ignore\n",
      "    \"\"\"\n",
      "    Checks whether a and b are true\n",
      "    \"\"\"\n",
      "    if a and b:\n",
      "        return 1\n",
      "    return 0\n",
      "\n"
     ]
    }
   ],
   "source": [
    "print(source)"
   ]
  },
  {
   "cell_type": "markdown",
   "metadata": {
    "pycharm": {
     "name": "#%% md\n"
    },
    "slideshow": {
     "slide_type": "fragment"
    }
   },
   "source": [
    "...and convert it to the AST:"
   ]
  },
  {
   "cell_type": "code",
   "execution_count": 9,
   "metadata": {
    "collapsed": false,
    "execution": {
     "iopub.execute_input": "2021-10-13T12:52:07.825206Z",
     "iopub.status.busy": "2021-10-13T12:52:07.824672Z",
     "iopub.status.idle": "2021-10-13T12:52:08.581906Z",
     "shell.execute_reply": "2021-10-13T12:52:08.582308Z"
    },
    "jupyter": {
     "outputs_hidden": false
    },
    "pycharm": {
     "name": "#%%\n"
    },
    "slideshow": {
     "slide_type": "fragment"
    }
   },
   "outputs": [
    {
     "data": {
      "image/svg+xml": [
       "<svg xmlns=\"http://www.w3.org/2000/svg\" xmlns:xlink=\"http://www.w3.org/1999/xlink\" width=\"524pt\" height=\"332pt\" viewBox=\"0.00 0.00 524.00 332.00\">\n",
       "<g id=\"graph0\" class=\"graph\" transform=\"scale(1 1) rotate(0) translate(4 328)\">\n",
       "<polygon fill=\"white\" stroke=\"transparent\" points=\"-4,4 -4,-328 520,-328 520,4 -4,4\"/>\n",
       "<!-- 0 -->\n",
       "<g id=\"node1\" class=\"node\">\n",
       "<title>0</title>\n",
       "<text text-anchor=\"start\" x=\"163.5\" y=\"-303.3\" font-family=\"Courier,monospace\" font-weight=\"bold\" font-size=\"14.00\" fill=\"#004080\">FunctionDef</text>\n",
       "</g>\n",
       "<!-- 1 -->\n",
       "<g id=\"node2\" class=\"node\">\n",
       "<title>1</title>\n",
       "<text text-anchor=\"middle\" x=\"44\" y=\"-230.3\" font-family=\"Courier,monospace\" font-size=\"14.00\" fill=\"#008040\">&quot;foo&quot;</text>\n",
       "</g>\n",
       "<!-- 0&#45;&#45;1 -->\n",
       "<g id=\"edge1\" class=\"edge\">\n",
       "<title>0--1</title>\n",
       "<path fill=\"none\" stroke=\"black\" d=\"M208,-287C208,-287 137.35,-271.35 83,-252 79.94,-250.91 76.78,-249.69 73.64,-248.42\"/>\n",
       "</g>\n",
       "<!-- 2 -->\n",
       "<g id=\"node3\" class=\"node\">\n",
       "<title>2</title>\n",
       "<text text-anchor=\"start\" x=\"100\" y=\"-231.3\" font-family=\"Courier,monospace\" font-weight=\"bold\" font-size=\"14.00\" fill=\"#004080\">arguments</text>\n",
       "</g>\n",
       "<!-- 0&#45;&#45;2 -->\n",
       "<g id=\"edge2\" class=\"edge\">\n",
       "<title>0--2</title>\n",
       "<path fill=\"none\" stroke=\"black\" d=\"M208,-287C208,-287 181.34,-267.19 160.92,-252.03\"/>\n",
       "</g>\n",
       "<!-- 7 -->\n",
       "<g id=\"node8\" class=\"node\">\n",
       "<title>7</title>\n",
       "<text text-anchor=\"start\" x=\"234.5\" y=\"-231.3\" font-family=\"Courier,monospace\" font-weight=\"bold\" font-size=\"14.00\" fill=\"#004080\">If</text>\n",
       "</g>\n",
       "<!-- 0&#45;&#45;7 -->\n",
       "<g id=\"edge7\" class=\"edge\">\n",
       "<title>0--7</title>\n",
       "<path fill=\"none\" stroke=\"black\" d=\"M208,-287C208,-287 221.33,-267.19 231.54,-252.03\"/>\n",
       "</g>\n",
       "<!-- 19 -->\n",
       "<g id=\"node20\" class=\"node\">\n",
       "<title>19</title>\n",
       "<text text-anchor=\"start\" x=\"371.5\" y=\"-231.3\" font-family=\"Courier,monospace\" font-weight=\"bold\" font-size=\"14.00\" fill=\"#004080\">Return</text>\n",
       "</g>\n",
       "<!-- 0&#45;&#45;19 -->\n",
       "<g id=\"edge19\" class=\"edge\">\n",
       "<title>0--19</title>\n",
       "<path fill=\"none\" stroke=\"black\" d=\"M208,-287C208,-287 308.85,-259.25 363.21,-244.3\"/>\n",
       "</g>\n",
       "<!-- 3 -->\n",
       "<g id=\"node4\" class=\"node\">\n",
       "<title>3</title>\n",
       "<text text-anchor=\"start\" x=\"27\" y=\"-159.3\" font-family=\"Courier,monospace\" font-weight=\"bold\" font-size=\"14.00\" fill=\"#004080\">arg</text>\n",
       "</g>\n",
       "<!-- 2&#45;&#45;3 -->\n",
       "<g id=\"edge3\" class=\"edge\">\n",
       "<title>2--3</title>\n",
       "<path fill=\"none\" stroke=\"black\" d=\"M124,-215C124,-215 91.6,-194.94 67.04,-179.74\"/>\n",
       "</g>\n",
       "<!-- 5 -->\n",
       "<g id=\"node6\" class=\"node\">\n",
       "<title>5</title>\n",
       "<text text-anchor=\"start\" x=\"99\" y=\"-159.3\" font-family=\"Courier,monospace\" font-weight=\"bold\" font-size=\"14.00\" fill=\"#004080\">arg</text>\n",
       "</g>\n",
       "<!-- 2&#45;&#45;5 -->\n",
       "<g id=\"edge5\" class=\"edge\">\n",
       "<title>2--5</title>\n",
       "<path fill=\"none\" stroke=\"black\" d=\"M124,-215C124,-215 119.43,-195.19 115.93,-180.03\"/>\n",
       "</g>\n",
       "<!-- 4 -->\n",
       "<g id=\"node5\" class=\"node\">\n",
       "<title>4</title>\n",
       "<text text-anchor=\"middle\" x=\"27\" y=\"-86.3\" font-family=\"Courier,monospace\" font-size=\"14.00\" fill=\"#008040\">&quot;a&quot;</text>\n",
       "</g>\n",
       "<!-- 3&#45;&#45;4 -->\n",
       "<g id=\"edge4\" class=\"edge\">\n",
       "<title>3--4</title>\n",
       "<path fill=\"none\" stroke=\"black\" d=\"M36.79,-143.7C34.77,-132.85 32.18,-118.92 30.18,-108.1\"/>\n",
       "</g>\n",
       "<!-- 6 -->\n",
       "<g id=\"node7\" class=\"node\">\n",
       "<title>6</title>\n",
       "<text text-anchor=\"middle\" x=\"99\" y=\"-86.3\" font-family=\"Courier,monospace\" font-size=\"14.00\" fill=\"#008040\">&quot;b&quot;</text>\n",
       "</g>\n",
       "<!-- 5&#45;&#45;6 -->\n",
       "<g id=\"edge6\" class=\"edge\">\n",
       "<title>5--6</title>\n",
       "<path fill=\"none\" stroke=\"black\" d=\"M108.79,-143.7C106.77,-132.85 104.18,-118.92 102.18,-108.1\"/>\n",
       "</g>\n",
       "<!-- 8 -->\n",
       "<g id=\"node9\" class=\"node\">\n",
       "<title>8</title>\n",
       "<text text-anchor=\"start\" x=\"217.5\" y=\"-159.3\" font-family=\"Courier,monospace\" font-weight=\"bold\" font-size=\"14.00\" fill=\"#004080\">BoolOp</text>\n",
       "</g>\n",
       "<!-- 7&#45;&#45;8 -->\n",
       "<g id=\"edge8\" class=\"edge\">\n",
       "<title>7--8</title>\n",
       "<path fill=\"none\" stroke=\"black\" d=\"M253,-215C253,-215 249.19,-195.19 246.27,-180.03\"/>\n",
       "</g>\n",
       "<!-- 16 -->\n",
       "<g id=\"node17\" class=\"node\">\n",
       "<title>16</title>\n",
       "<text text-anchor=\"start\" x=\"335.5\" y=\"-159.3\" font-family=\"Courier,monospace\" font-weight=\"bold\" font-size=\"14.00\" fill=\"#004080\">Return</text>\n",
       "</g>\n",
       "<!-- 7&#45;&#45;16 -->\n",
       "<g id=\"edge16\" class=\"edge\">\n",
       "<title>7--16</title>\n",
       "<path fill=\"none\" stroke=\"black\" d=\"M253,-215C253,-215 295.72,-194.43 327.42,-179.17\"/>\n",
       "</g>\n",
       "<!-- 9 -->\n",
       "<g id=\"node10\" class=\"node\">\n",
       "<title>9</title>\n",
       "<text text-anchor=\"middle\" x=\"171\" y=\"-86.3\" font-family=\"Courier,monospace\" font-size=\"14.00\" fill=\"#008040\">And</text>\n",
       "</g>\n",
       "<!-- 8&#45;&#45;9 -->\n",
       "<g id=\"edge9\" class=\"edge\">\n",
       "<title>8--9</title>\n",
       "<path fill=\"none\" stroke=\"black\" d=\"M243,-143C243,-143 215.57,-123.19 194.58,-108.03\"/>\n",
       "</g>\n",
       "<!-- 10 -->\n",
       "<g id=\"node11\" class=\"node\">\n",
       "<title>10</title>\n",
       "<text text-anchor=\"start\" x=\"226\" y=\"-87.3\" font-family=\"Courier,monospace\" font-weight=\"bold\" font-size=\"14.00\" fill=\"#004080\">Name</text>\n",
       "</g>\n",
       "<!-- 8&#45;&#45;10 -->\n",
       "<g id=\"edge10\" class=\"edge\">\n",
       "<title>8--10</title>\n",
       "<path fill=\"none\" stroke=\"black\" d=\"M243,-143C243,-143 243,-123.19 243,-108.03\"/>\n",
       "</g>\n",
       "<!-- 13 -->\n",
       "<g id=\"node14\" class=\"node\">\n",
       "<title>13</title>\n",
       "<text text-anchor=\"start\" x=\"298\" y=\"-87.3\" font-family=\"Courier,monospace\" font-weight=\"bold\" font-size=\"14.00\" fill=\"#004080\">Name</text>\n",
       "</g>\n",
       "<!-- 8&#45;&#45;13 -->\n",
       "<g id=\"edge13\" class=\"edge\">\n",
       "<title>8--13</title>\n",
       "<path fill=\"none\" stroke=\"black\" d=\"M243,-143C243,-143 270.43,-123.19 291.42,-108.03\"/>\n",
       "</g>\n",
       "<!-- 11 -->\n",
       "<g id=\"node12\" class=\"node\">\n",
       "<title>11</title>\n",
       "<text text-anchor=\"middle\" x=\"171\" y=\"-14.3\" font-family=\"Courier,monospace\" font-size=\"14.00\" fill=\"#008040\">&quot;a&quot;</text>\n",
       "</g>\n",
       "<!-- 10&#45;&#45;11 -->\n",
       "<g id=\"edge11\" class=\"edge\">\n",
       "<title>10--11</title>\n",
       "<path fill=\"none\" stroke=\"black\" d=\"M235,-71C235,-71 210.62,-51.19 191.96,-36.03\"/>\n",
       "</g>\n",
       "<!-- 12 -->\n",
       "<g id=\"node13\" class=\"node\">\n",
       "<title>12</title>\n",
       "<text text-anchor=\"middle\" x=\"243\" y=\"-14.3\" font-family=\"Courier,monospace\" font-size=\"14.00\" fill=\"#008040\">Load</text>\n",
       "</g>\n",
       "<!-- 10&#45;&#45;12 -->\n",
       "<g id=\"edge12\" class=\"edge\">\n",
       "<title>10--12</title>\n",
       "<path fill=\"none\" stroke=\"black\" d=\"M235,-71C235,-71 238.05,-51.19 240.38,-36.03\"/>\n",
       "</g>\n",
       "<!-- 14 -->\n",
       "<g id=\"node15\" class=\"node\">\n",
       "<title>14</title>\n",
       "<text text-anchor=\"middle\" x=\"315\" y=\"-14.3\" font-family=\"Courier,monospace\" font-size=\"14.00\" fill=\"#008040\">&quot;b&quot;</text>\n",
       "</g>\n",
       "<!-- 13&#45;&#45;14 -->\n",
       "<g id=\"edge14\" class=\"edge\">\n",
       "<title>13--14</title>\n",
       "<path fill=\"none\" stroke=\"black\" d=\"M323,-71C323,-71 319.95,-51.19 317.62,-36.03\"/>\n",
       "</g>\n",
       "<!-- 15 -->\n",
       "<g id=\"node16\" class=\"node\">\n",
       "<title>15</title>\n",
       "<text text-anchor=\"middle\" x=\"387\" y=\"-14.3\" font-family=\"Courier,monospace\" font-size=\"14.00\" fill=\"#008040\">Load</text>\n",
       "</g>\n",
       "<!-- 13&#45;&#45;15 -->\n",
       "<g id=\"edge15\" class=\"edge\">\n",
       "<title>13--15</title>\n",
       "<path fill=\"none\" stroke=\"black\" d=\"M323,-71C323,-71 347.38,-51.19 366.04,-36.03\"/>\n",
       "</g>\n",
       "<!-- 17 -->\n",
       "<g id=\"node18\" class=\"node\">\n",
       "<title>17</title>\n",
       "<text text-anchor=\"start\" x=\"368\" y=\"-87.3\" font-family=\"Courier,monospace\" font-weight=\"bold\" font-size=\"14.00\" fill=\"#004080\">Constant</text>\n",
       "</g>\n",
       "<!-- 16&#45;&#45;17 -->\n",
       "<g id=\"edge17\" class=\"edge\">\n",
       "<title>16--17</title>\n",
       "<path fill=\"none\" stroke=\"black\" d=\"M371.13,-143.7C377.49,-132.85 385.65,-118.92 391.98,-108.1\"/>\n",
       "</g>\n",
       "<!-- 18 -->\n",
       "<g id=\"node19\" class=\"node\">\n",
       "<title>18</title>\n",
       "<text text-anchor=\"middle\" x=\"459\" y=\"-14.3\" font-family=\"Courier,monospace\" font-size=\"14.00\" fill=\"#008040\">1</text>\n",
       "</g>\n",
       "<!-- 17&#45;&#45;18 -->\n",
       "<g id=\"edge18\" class=\"edge\">\n",
       "<title>17--18</title>\n",
       "<path fill=\"none\" stroke=\"black\" d=\"M416.09,-71.7C424.93,-60.85 436.27,-46.92 445.07,-36.1\"/>\n",
       "</g>\n",
       "<!-- 20 -->\n",
       "<g id=\"node21\" class=\"node\">\n",
       "<title>20</title>\n",
       "<text text-anchor=\"start\" x=\"438\" y=\"-159.3\" font-family=\"Courier,monospace\" font-weight=\"bold\" font-size=\"14.00\" fill=\"#004080\">Constant</text>\n",
       "</g>\n",
       "<!-- 19&#45;&#45;20 -->\n",
       "<g id=\"edge20\" class=\"edge\">\n",
       "<title>19--20</title>\n",
       "<path fill=\"none\" stroke=\"black\" d=\"M415.54,-215.7C427.16,-204.85 442.09,-190.92 453.67,-180.1\"/>\n",
       "</g>\n",
       "<!-- 21 -->\n",
       "<g id=\"node22\" class=\"node\">\n",
       "<title>21</title>\n",
       "<text text-anchor=\"middle\" x=\"489\" y=\"-86.3\" font-family=\"Courier,monospace\" font-size=\"14.00\" fill=\"#008040\">0</text>\n",
       "</g>\n",
       "<!-- 20&#45;&#45;21 -->\n",
       "<g id=\"edge21\" class=\"edge\">\n",
       "<title>20--21</title>\n",
       "<path fill=\"none\" stroke=\"black\" d=\"M476.2,-143.7C478.84,-132.85 482.22,-118.92 484.85,-108.1\"/>\n",
       "</g>\n",
       "</g>\n",
       "</svg>"
      ],
      "text/plain": [
       "<IPython.core.display.SVG object>"
      ]
     },
     "metadata": {},
     "output_type": "display_data"
    }
   ],
   "source": [
    "source_ast = ast.parse(source)\n",
    "show_ast(source_ast)"
   ]
  },
  {
   "cell_type": "markdown",
   "metadata": {
    "pycharm": {
     "name": "#%% md\n"
    },
    "slideshow": {
     "slide_type": "subslide"
    }
   },
   "source": [
    "We can see how the code is structured by inspecting the AST shown above."
   ]
  },
  {
   "cell_type": "markdown",
   "metadata": {
    "slideshow": {
     "slide_type": "fragment"
    }
   },
   "source": [
    "To learn the structure of an AST, have a look at the [official Python `ast` reference](http://docs.python.org/3/library/ast) for a list of AST nodes and their attributes.\n",
    "This reference is complete, but a bit terse; the [\"Green Tree Snakes missing Python AST docs\"](https://greentreesnakes.readthedocs.io/en/latest/manipulating.html) provide a good manual on how to modify the tree."
   ]
  },
  {
   "cell_type": "markdown",
   "metadata": {
    "pycharm": {
     "name": "#%% md\n"
    },
    "slideshow": {
     "slide_type": "subslide"
    }
   },
   "source": [
    "If we want to inspect certain elements of the source code, we can now use the `ast.NodeVisitor` to visit every node in the AST.\n",
    "This can be done by extending this class and implementing *visit-methods* for each type of node in the tree we want to inspect.  \n",
    "So, let's implement a parser that first parses the source code into an AST and then visits each node one after another."
   ]
  },
  {
   "cell_type": "code",
   "execution_count": 10,
   "metadata": {
    "execution": {
     "iopub.execute_input": "2021-10-13T12:52:08.590462Z",
     "iopub.status.busy": "2021-10-13T12:52:08.589923Z",
     "iopub.status.idle": "2021-10-13T12:52:08.591864Z",
     "shell.execute_reply": "2021-10-13T12:52:08.592255Z"
    },
    "hidden": true,
    "pycharm": {
     "name": "#%%\n"
    },
    "slideshow": {
     "slide_type": "subslide"
    }
   },
   "outputs": [],
   "source": [
    "class SimpleParser(ast.NodeVisitor):\n",
    "    \"\"\"\n",
    "    A simple parser printing all nodes in order\n",
    "    \"\"\"\n",
    "\n",
    "    def parse(self, file: str) -> None:\n",
    "        \"\"\"\n",
    "        When the parse function is called, we parse the source code\n",
    "        into a tree and then start visiting all nodes.\n",
    "        \"\"\"\n",
    "        tree = ast.parse(source=file)\n",
    "        self.visit(tree)\n",
    "\n",
    "    def visit_FunctionDef(self, node: ast.FunctionDef) -> None:\n",
    "        print(node)\n",
    "        self.generic_visit(node)\n",
    "\n",
    "    def visit_arguments(self, node: ast.arguments) -> None:\n",
    "        print(node)\n",
    "        self.generic_visit(node)\n",
    "\n",
    "    def visit_If(self, node: ast.If) -> None:\n",
    "        print(node)\n",
    "        self.generic_visit(node)\n",
    "\n",
    "    def visit_Return(self, node: ast.Return) -> None:\n",
    "        print(node)\n",
    "        self.generic_visit(node)\n",
    "\n",
    "    def visit_arg(self, node: ast.arg) -> None:\n",
    "        print(node)\n",
    "        self.generic_visit(node)\n",
    "\n",
    "    def visit_Constant(self, node: ast.Constant) -> None:\n",
    "        print(node)\n",
    "        self.generic_visit(node)\n",
    "\n",
    "    def visit_Name(self, node: ast.Name) -> None:\n",
    "        print(node)\n",
    "        self.generic_visit(node)\n",
    "\n",
    "    def visit_BoolOp(self, node: ast.BoolOp) -> None:\n",
    "        print(node)\n",
    "        self.generic_visit(node)"
   ]
  },
  {
   "cell_type": "markdown",
   "metadata": {
    "pycharm": {
     "name": "#%% md\n"
    },
    "slideshow": {
     "slide_type": "subslide"
    }
   },
   "source": [
    "Using this `SimpleParser`, we can visit each node and print the node object itself."
   ]
  },
  {
   "cell_type": "code",
   "execution_count": 11,
   "metadata": {
    "execution": {
     "iopub.execute_input": "2021-10-13T12:52:08.595801Z",
     "iopub.status.busy": "2021-10-13T12:52:08.595285Z",
     "iopub.status.idle": "2021-10-13T12:52:08.597405Z",
     "shell.execute_reply": "2021-10-13T12:52:08.597779Z"
    },
    "pycharm": {
     "name": "#%%\n"
    },
    "slideshow": {
     "slide_type": "subslide"
    }
   },
   "outputs": [
    {
     "name": "stdout",
     "output_type": "stream",
     "text": [
      "<ast.FunctionDef object at 0x1056e7dc0>\n",
      "<ast.arguments object at 0x1056e7d90>\n",
      "<ast.arg object at 0x1056e7d60>\n",
      "<ast.arg object at 0x1056e7d30>\n",
      "<ast.Constant object at 0x1056e7e50>\n",
      "<ast.If object at 0x1056e7e20>\n",
      "<ast.BoolOp object at 0x1056e7eb0>\n",
      "<ast.Name object at 0x1056e7df0>\n",
      "<ast.Name object at 0x1056e7070>\n",
      "<ast.Return object at 0x1056e7c40>\n",
      "<ast.Constant object at 0x1056e7c10>\n",
      "<ast.Return object at 0x1056e7bb0>\n",
      "<ast.Constant object at 0x1056e7fd0>\n"
     ]
    }
   ],
   "source": [
    "SimpleParser().parse(source)"
   ]
  },
  {
   "cell_type": "markdown",
   "metadata": {
    "pycharm": {
     "name": "#%% md\n"
    },
    "slideshow": {
     "slide_type": "subslide"
    }
   },
   "source": [
    "Now imagine, instead of just parsing the input and printing each node, we start to process the information present in each node.\n",
    "To notify the user if anything breaks, we introduce a `ParserException` that is thrown when we encounter a parsing error."
   ]
  },
  {
   "cell_type": "code",
   "execution_count": 12,
   "metadata": {
    "execution": {
     "iopub.execute_input": "2021-10-13T12:52:08.601015Z",
     "iopub.status.busy": "2021-10-13T12:52:08.600462Z",
     "iopub.status.idle": "2021-10-13T12:52:08.602357Z",
     "shell.execute_reply": "2021-10-13T12:52:08.602727Z"
    },
    "pycharm": {
     "name": "#%%\n"
    },
    "slideshow": {
     "slide_type": "fragment"
    }
   },
   "outputs": [],
   "source": [
    "class ParserException(Exception):\n",
    "    pass"
   ]
  },
  {
   "cell_type": "markdown",
   "metadata": {
    "pycharm": {
     "name": "#%% md\n"
    },
    "slideshow": {
     "slide_type": "fragment"
    }
   },
   "source": [
    "For instance, let's consider our parser has troubles processing boolean operators.\n",
    "We simulate this behavior by extending our parser to throw an exception whenever it encounters a `BoolOp` node.\n"
   ]
  },
  {
   "cell_type": "code",
   "execution_count": 13,
   "metadata": {
    "execution": {
     "iopub.execute_input": "2021-10-13T12:52:08.606242Z",
     "iopub.status.busy": "2021-10-13T12:52:08.605729Z",
     "iopub.status.idle": "2021-10-13T12:52:08.607638Z",
     "shell.execute_reply": "2021-10-13T12:52:08.608014Z"
    },
    "pycharm": {
     "name": "#%%\n"
    },
    "slideshow": {
     "slide_type": "subslide"
    }
   },
   "outputs": [],
   "source": [
    "class SimpleParserPlus(SimpleParser):\n",
    "    \"\"\"\n",
    "    A simple parser printing all nodes in order until it reaches a BoolOp\n",
    "    \"\"\"\n",
    "\n",
    "    def visit_BoolOp(self, node: ast.BoolOp) -> None:\n",
    "        \"\"\"\n",
    "        If a BoolOp is encountered, we throw an exception\n",
    "        \"\"\"\n",
    "        raise ParserException(\"Something went wrong\")"
   ]
  },
  {
   "cell_type": "code",
   "execution_count": 14,
   "metadata": {
    "execution": {
     "iopub.execute_input": "2021-10-13T12:52:08.611174Z",
     "iopub.status.busy": "2021-10-13T12:52:08.610636Z",
     "iopub.status.idle": "2021-10-13T12:52:08.614376Z",
     "shell.execute_reply": "2021-10-13T12:52:08.614746Z"
    },
    "pycharm": {
     "name": "#%%\n"
    },
    "slideshow": {
     "slide_type": "subslide"
    }
   },
   "outputs": [
    {
     "name": "stdout",
     "output_type": "stream",
     "text": [
      "<ast.FunctionDef object at 0x1056e7c10>\n",
      "<ast.arguments object at 0x1056e7f70>\n",
      "<ast.arg object at 0x1056e7b80>\n",
      "<ast.arg object at 0x1056e7760>\n",
      "<ast.Constant object at 0x1056e78e0>\n",
      "<ast.If object at 0x1056e7340>\n"
     ]
    },
    {
     "name": "stderr",
     "output_type": "stream",
     "text": [
      "Traceback (most recent call last):\n",
      "  File \"/var/folders/n2/xd9445p97rb3xh7m1dfx8_4h0006ts/T/ipykernel_97807/257518062.py\", line 2, in <module>\n",
      "    SimpleParserPlus().parse(source)\n",
      "  File \"/var/folders/n2/xd9445p97rb3xh7m1dfx8_4h0006ts/T/ipykernel_97807/2922974276.py\", line 12, in parse\n",
      "    self.visit(tree)\n",
      "  File \"/Users/zeller/.pyenv/versions/3.9.7/lib/python3.9/ast.py\", line 407, in visit\n",
      "    return visitor(node)\n",
      "  File \"/Users/zeller/.pyenv/versions/3.9.7/lib/python3.9/ast.py\", line 415, in generic_visit\n",
      "    self.visit(item)\n",
      "  File \"/Users/zeller/.pyenv/versions/3.9.7/lib/python3.9/ast.py\", line 407, in visit\n",
      "    return visitor(node)\n",
      "  File \"/var/folders/n2/xd9445p97rb3xh7m1dfx8_4h0006ts/T/ipykernel_97807/2922974276.py\", line 16, in visit_FunctionDef\n",
      "    self.generic_visit(node)\n",
      "  File \"/Users/zeller/.pyenv/versions/3.9.7/lib/python3.9/ast.py\", line 415, in generic_visit\n",
      "    self.visit(item)\n",
      "  File \"/Users/zeller/.pyenv/versions/3.9.7/lib/python3.9/ast.py\", line 407, in visit\n",
      "    return visitor(node)\n",
      "  File \"/var/folders/n2/xd9445p97rb3xh7m1dfx8_4h0006ts/T/ipykernel_97807/2922974276.py\", line 24, in visit_If\n",
      "    self.generic_visit(node)\n",
      "  File \"/Users/zeller/.pyenv/versions/3.9.7/lib/python3.9/ast.py\", line 417, in generic_visit\n",
      "    self.visit(value)\n",
      "  File \"/Users/zeller/.pyenv/versions/3.9.7/lib/python3.9/ast.py\", line 407, in visit\n",
      "    return visitor(node)\n",
      "  File \"/var/folders/n2/xd9445p97rb3xh7m1dfx8_4h0006ts/T/ipykernel_97807/1656391407.py\", line 10, in visit_BoolOp\n",
      "    raise ParserException(\"Something went wrong\")\n",
      "ParserException: Something went wrong (expected)\n"
     ]
    }
   ],
   "source": [
    "with ExpectError():\n",
    "    SimpleParserPlus().parse(source)\n"
   ]
  },
  {
   "cell_type": "markdown",
   "metadata": {
    "slideshow": {
     "slide_type": "subslide"
    }
   },
   "source": [
    "As we can see here, as soon as we encounter a boolean operation, an exception is thrown."
   ]
  },
  {
   "cell_type": "markdown",
   "metadata": {
    "pycharm": {
     "name": "#%% md\n"
    },
    "slideshow": {
     "slide_type": "subslide"
    }
   },
   "source": [
    "### Reducing Python\n",
    "\n",
    "Let's get back to our `SimpleParserPlus` example. This parser parses Python code into an AST and then iterates over all nodes. When it reaches a boolean operation, it encounters an error and crashes.  \n",
    "Of course our example is a very small and artificial one. Furthermore, the input triggering our bug is rather small as well.\n",
    "However, in reality a similar situation might present itself to you but with a far less obvious error and a far larger input that causes it.\n",
    "In this case, instead of using the entire input, one might want to reduce the input down to only those parts actually causing the error.  \n",
    "But how do we do that?  \n",
    "We could, for instance, randomly remove some parts of the program.\n",
    "However, this would likely produce syntactically invalid Python code and hence prevent the parser from reaching the desired code location.\n",
    "So instead of just removing random parts of the code itself, we will manipulate the AST to preserve the correct syntax.\n",
    "\n",
    "How do we manipulate an AST produced by `ast.parse`? We can make use of the `ast.NodeTransformer`:"
   ]
  },
  {
   "cell_type": "code",
   "execution_count": 15,
   "metadata": {
    "execution": {
     "iopub.execute_input": "2021-10-13T12:52:08.618895Z",
     "iopub.status.busy": "2021-10-13T12:52:08.618356Z",
     "iopub.status.idle": "2021-10-13T12:52:08.620152Z",
     "shell.execute_reply": "2021-10-13T12:52:08.620541Z"
    },
    "pycharm": {
     "name": "#%%\n"
    },
    "slideshow": {
     "slide_type": "subslide"
    }
   },
   "outputs": [],
   "source": [
    "class NodeReducer(ast.NodeTransformer):\n",
    "\n",
    "    def visit_If(self, node: ast.If) -> ast.AST:\n",
    "        \"\"\"\n",
    "        Instead of the `if` node return just its condition\n",
    "        \"\"\"\n",
    "        # Apply other transformations to the children first\n",
    "        super().generic_visit(node)\n",
    "\n",
    "        # We create an expression around the node test\n",
    "        new_node = ast.Expr(node.test)\n",
    "        return new_node"
   ]
  },
  {
   "cell_type": "markdown",
   "metadata": {
    "pycharm": {
     "name": "#%% md\n"
    },
    "slideshow": {
     "slide_type": "subslide"
    }
   },
   "source": [
    "The `ast.NodeTransformer` again uses the visitor pattern to walk over all nodes.\n",
    "This time, however, we change the resulting AST. In our case, if we encounter an *if-statement* we only return the condition.   \n",
    "\n",
    "(Keep in mind, `NodeReducer` changes the ast in place, so if you want to preserve the original tree, you need to copy it with `copy.deepcopy(tree)`)"
   ]
  },
  {
   "cell_type": "code",
   "execution_count": 16,
   "metadata": {
    "execution": {
     "iopub.execute_input": "2021-10-13T12:52:08.623802Z",
     "iopub.status.busy": "2021-10-13T12:52:08.623281Z",
     "iopub.status.idle": "2021-10-13T12:52:09.258896Z",
     "shell.execute_reply": "2021-10-13T12:52:09.259454Z"
    },
    "pycharm": {
     "name": "#%%\n"
    },
    "slideshow": {
     "slide_type": "fragment"
    }
   },
   "outputs": [
    {
     "data": {
      "image/svg+xml": [
       "<svg xmlns=\"http://www.w3.org/2000/svg\" xmlns:xlink=\"http://www.w3.org/1999/xlink\" width=\"449pt\" height=\"332pt\" viewBox=\"0.00 0.00 448.50 332.00\">\n",
       "<g id=\"graph0\" class=\"graph\" transform=\"scale(1 1) rotate(0) translate(4 328)\">\n",
       "<polygon fill=\"white\" stroke=\"transparent\" points=\"-4,4 -4,-328 444.5,-328 444.5,4 -4,4\"/>\n",
       "<!-- 0 -->\n",
       "<g id=\"node1\" class=\"node\">\n",
       "<title>0</title>\n",
       "<text text-anchor=\"start\" x=\"135\" y=\"-303.3\" font-family=\"Courier,monospace\" font-weight=\"bold\" font-size=\"14.00\" fill=\"#004080\">FunctionDef</text>\n",
       "</g>\n",
       "<!-- 1 -->\n",
       "<g id=\"node2\" class=\"node\">\n",
       "<title>1</title>\n",
       "<text text-anchor=\"middle\" x=\"29.5\" y=\"-230.3\" font-family=\"Courier,monospace\" font-size=\"14.00\" fill=\"#008040\">&quot;foo&quot;</text>\n",
       "</g>\n",
       "<!-- 0&#45;&#45;1 -->\n",
       "<g id=\"edge1\" class=\"edge\">\n",
       "<title>0--1</title>\n",
       "<path fill=\"none\" stroke=\"black\" d=\"M181.5,-287C181.5,-287 117.78,-270.31 68.5,-252 65.45,-250.87 62.3,-249.62 59.17,-248.34\"/>\n",
       "</g>\n",
       "<!-- 2 -->\n",
       "<g id=\"node3\" class=\"node\">\n",
       "<title>2</title>\n",
       "<text text-anchor=\"start\" x=\"85.5\" y=\"-231.3\" font-family=\"Courier,monospace\" font-weight=\"bold\" font-size=\"14.00\" fill=\"#004080\">arguments</text>\n",
       "</g>\n",
       "<!-- 0&#45;&#45;2 -->\n",
       "<g id=\"edge2\" class=\"edge\">\n",
       "<title>0--2</title>\n",
       "<path fill=\"none\" stroke=\"black\" d=\"M181.5,-287C181.5,-287 159.41,-267.19 142.49,-252.03\"/>\n",
       "</g>\n",
       "<!-- 7 -->\n",
       "<g id=\"node8\" class=\"node\">\n",
       "<title>7</title>\n",
       "<text text-anchor=\"start\" x=\"223.5\" y=\"-231.3\" font-family=\"Courier,monospace\" font-weight=\"bold\" font-size=\"14.00\" fill=\"#004080\">Expr</text>\n",
       "</g>\n",
       "<!-- 0&#45;&#45;7 -->\n",
       "<g id=\"edge7\" class=\"edge\">\n",
       "<title>0--7</title>\n",
       "<path fill=\"none\" stroke=\"black\" d=\"M181.5,-287C181.5,-287 203.97,-267.19 221.18,-252.03\"/>\n",
       "</g>\n",
       "<!-- 16 -->\n",
       "<g id=\"node17\" class=\"node\">\n",
       "<title>16</title>\n",
       "<text text-anchor=\"start\" x=\"327\" y=\"-231.3\" font-family=\"Courier,monospace\" font-weight=\"bold\" font-size=\"14.00\" fill=\"#004080\">Return</text>\n",
       "</g>\n",
       "<!-- 0&#45;&#45;16 -->\n",
       "<g id=\"edge16\" class=\"edge\">\n",
       "<title>0--16</title>\n",
       "<path fill=\"none\" stroke=\"black\" d=\"M181.5,-287C181.5,-287 268.88,-260.43 318.72,-245.27\"/>\n",
       "</g>\n",
       "<!-- 3 -->\n",
       "<g id=\"node4\" class=\"node\">\n",
       "<title>3</title>\n",
       "<text text-anchor=\"start\" x=\"32.5\" y=\"-159.3\" font-family=\"Courier,monospace\" font-weight=\"bold\" font-size=\"14.00\" fill=\"#004080\">arg</text>\n",
       "</g>\n",
       "<!-- 2&#45;&#45;3 -->\n",
       "<g id=\"edge3\" class=\"edge\">\n",
       "<title>2--3</title>\n",
       "<path fill=\"none\" stroke=\"black\" d=\"M114.5,-215C114.5,-215 88.22,-195.19 68.09,-180.03\"/>\n",
       "</g>\n",
       "<!-- 5 -->\n",
       "<g id=\"node6\" class=\"node\">\n",
       "<title>5</title>\n",
       "<text text-anchor=\"start\" x=\"104.5\" y=\"-159.3\" font-family=\"Courier,monospace\" font-weight=\"bold\" font-size=\"14.00\" fill=\"#004080\">arg</text>\n",
       "</g>\n",
       "<!-- 2&#45;&#45;5 -->\n",
       "<g id=\"edge5\" class=\"edge\">\n",
       "<title>2--5</title>\n",
       "<path fill=\"none\" stroke=\"black\" d=\"M114.5,-215C114.5,-215 115.64,-195.19 116.52,-180.03\"/>\n",
       "</g>\n",
       "<!-- 4 -->\n",
       "<g id=\"node5\" class=\"node\">\n",
       "<title>4</title>\n",
       "<text text-anchor=\"middle\" x=\"42.5\" y=\"-86.3\" font-family=\"Courier,monospace\" font-size=\"14.00\" fill=\"#008040\">&quot;a&quot;</text>\n",
       "</g>\n",
       "<!-- 3&#45;&#45;4 -->\n",
       "<g id=\"edge4\" class=\"edge\">\n",
       "<title>3--4</title>\n",
       "<path fill=\"none\" stroke=\"black\" d=\"M44.76,-143.7C44.29,-132.85 43.7,-118.92 43.23,-108.1\"/>\n",
       "</g>\n",
       "<!-- 6 -->\n",
       "<g id=\"node7\" class=\"node\">\n",
       "<title>6</title>\n",
       "<text text-anchor=\"middle\" x=\"114.5\" y=\"-86.3\" font-family=\"Courier,monospace\" font-size=\"14.00\" fill=\"#008040\">&quot;b&quot;</text>\n",
       "</g>\n",
       "<!-- 5&#45;&#45;6 -->\n",
       "<g id=\"edge6\" class=\"edge\">\n",
       "<title>5--6</title>\n",
       "<path fill=\"none\" stroke=\"black\" d=\"M116.76,-143.7C116.29,-132.85 115.7,-118.92 115.23,-108.1\"/>\n",
       "</g>\n",
       "<!-- 8 -->\n",
       "<g id=\"node9\" class=\"node\">\n",
       "<title>8</title>\n",
       "<text text-anchor=\"start\" x=\"228\" y=\"-159.3\" font-family=\"Courier,monospace\" font-weight=\"bold\" font-size=\"14.00\" fill=\"#004080\">BoolOp</text>\n",
       "</g>\n",
       "<!-- 7&#45;&#45;8 -->\n",
       "<g id=\"edge8\" class=\"edge\">\n",
       "<title>7--8</title>\n",
       "<path fill=\"none\" stroke=\"black\" d=\"M243.71,-215.7C245.73,-204.85 248.32,-190.92 250.32,-180.1\"/>\n",
       "</g>\n",
       "<!-- 9 -->\n",
       "<g id=\"node10\" class=\"node\">\n",
       "<title>9</title>\n",
       "<text text-anchor=\"middle\" x=\"186.5\" y=\"-86.3\" font-family=\"Courier,monospace\" font-size=\"14.00\" fill=\"#008040\">And</text>\n",
       "</g>\n",
       "<!-- 8&#45;&#45;9 -->\n",
       "<g id=\"edge9\" class=\"edge\">\n",
       "<title>8--9</title>\n",
       "<path fill=\"none\" stroke=\"black\" d=\"M254.5,-143C254.5,-143 228.6,-123.19 208.77,-108.03\"/>\n",
       "</g>\n",
       "<!-- 10 -->\n",
       "<g id=\"node11\" class=\"node\">\n",
       "<title>10</title>\n",
       "<text text-anchor=\"start\" x=\"241.5\" y=\"-87.3\" font-family=\"Courier,monospace\" font-weight=\"bold\" font-size=\"14.00\" fill=\"#004080\">Name</text>\n",
       "</g>\n",
       "<!-- 8&#45;&#45;10 -->\n",
       "<g id=\"edge10\" class=\"edge\">\n",
       "<title>8--10</title>\n",
       "<path fill=\"none\" stroke=\"black\" d=\"M254.5,-143C254.5,-143 256.02,-123.19 257.19,-108.03\"/>\n",
       "</g>\n",
       "<!-- 13 -->\n",
       "<g id=\"node14\" class=\"node\">\n",
       "<title>13</title>\n",
       "<text text-anchor=\"start\" x=\"313.5\" y=\"-87.3\" font-family=\"Courier,monospace\" font-weight=\"bold\" font-size=\"14.00\" fill=\"#004080\">Name</text>\n",
       "</g>\n",
       "<!-- 8&#45;&#45;13 -->\n",
       "<g id=\"edge13\" class=\"edge\">\n",
       "<title>8--13</title>\n",
       "<path fill=\"none\" stroke=\"black\" d=\"M254.5,-143C254.5,-143 283.45,-123.19 305.61,-108.03\"/>\n",
       "</g>\n",
       "<!-- 11 -->\n",
       "<g id=\"node12\" class=\"node\">\n",
       "<title>11</title>\n",
       "<text text-anchor=\"middle\" x=\"186.5\" y=\"-14.3\" font-family=\"Courier,monospace\" font-size=\"14.00\" fill=\"#008040\">&quot;a&quot;</text>\n",
       "</g>\n",
       "<!-- 10&#45;&#45;11 -->\n",
       "<g id=\"edge11\" class=\"edge\">\n",
       "<title>10--11</title>\n",
       "<path fill=\"none\" stroke=\"black\" d=\"M250.5,-71C250.5,-71 226.12,-51.19 207.46,-36.03\"/>\n",
       "</g>\n",
       "<!-- 12 -->\n",
       "<g id=\"node13\" class=\"node\">\n",
       "<title>12</title>\n",
       "<text text-anchor=\"middle\" x=\"258.5\" y=\"-14.3\" font-family=\"Courier,monospace\" font-size=\"14.00\" fill=\"#008040\">Load</text>\n",
       "</g>\n",
       "<!-- 10&#45;&#45;12 -->\n",
       "<g id=\"edge12\" class=\"edge\">\n",
       "<title>10--12</title>\n",
       "<path fill=\"none\" stroke=\"black\" d=\"M250.5,-71C250.5,-71 253.55,-51.19 255.88,-36.03\"/>\n",
       "</g>\n",
       "<!-- 14 -->\n",
       "<g id=\"node15\" class=\"node\">\n",
       "<title>14</title>\n",
       "<text text-anchor=\"middle\" x=\"330.5\" y=\"-14.3\" font-family=\"Courier,monospace\" font-size=\"14.00\" fill=\"#008040\">&quot;b&quot;</text>\n",
       "</g>\n",
       "<!-- 13&#45;&#45;14 -->\n",
       "<g id=\"edge14\" class=\"edge\">\n",
       "<title>13--14</title>\n",
       "<path fill=\"none\" stroke=\"black\" d=\"M338.5,-71C338.5,-71 335.45,-51.19 333.12,-36.03\"/>\n",
       "</g>\n",
       "<!-- 15 -->\n",
       "<g id=\"node16\" class=\"node\">\n",
       "<title>15</title>\n",
       "<text text-anchor=\"middle\" x=\"402.5\" y=\"-14.3\" font-family=\"Courier,monospace\" font-size=\"14.00\" fill=\"#008040\">Load</text>\n",
       "</g>\n",
       "<!-- 13&#45;&#45;15 -->\n",
       "<g id=\"edge15\" class=\"edge\">\n",
       "<title>13--15</title>\n",
       "<path fill=\"none\" stroke=\"black\" d=\"M338.5,-71C338.5,-71 362.88,-51.19 381.54,-36.03\"/>\n",
       "</g>\n",
       "<!-- 17 -->\n",
       "<g id=\"node18\" class=\"node\">\n",
       "<title>17</title>\n",
       "<text text-anchor=\"start\" x=\"364.5\" y=\"-159.3\" font-family=\"Courier,monospace\" font-weight=\"bold\" font-size=\"14.00\" fill=\"#004080\">Constant</text>\n",
       "</g>\n",
       "<!-- 16&#45;&#45;17 -->\n",
       "<g id=\"edge17\" class=\"edge\">\n",
       "<title>16--17</title>\n",
       "<path fill=\"none\" stroke=\"black\" d=\"M363.87,-215.7C371,-204.85 380.15,-190.92 387.26,-180.1\"/>\n",
       "</g>\n",
       "<!-- 18 -->\n",
       "<g id=\"node19\" class=\"node\">\n",
       "<title>18</title>\n",
       "<text text-anchor=\"middle\" x=\"402.5\" y=\"-86.3\" font-family=\"Courier,monospace\" font-size=\"14.00\" fill=\"#008040\">0</text>\n",
       "</g>\n",
       "<!-- 17&#45;&#45;18 -->\n",
       "<g id=\"edge18\" class=\"edge\">\n",
       "<title>17--18</title>\n",
       "<path fill=\"none\" stroke=\"black\" d=\"M399.49,-143.7C400.11,-132.85 400.9,-118.92 401.52,-108.1\"/>\n",
       "</g>\n",
       "</g>\n",
       "</svg>"
      ],
      "text/plain": [
       "<IPython.core.display.SVG object>"
      ]
     },
     "metadata": {},
     "output_type": "display_data"
    }
   ],
   "source": [
    "NodeReducer().visit(source_ast)\n",
    "show_ast(source_ast)"
   ]
  },
  {
   "cell_type": "markdown",
   "metadata": {
    "pycharm": {
     "name": "#%% md\n"
    },
    "slideshow": {
     "slide_type": "subslide"
    }
   },
   "source": [
    "As you can see, after running the `NodeReducer` there is no longer an *if-statement*, but only its condition.\n",
    "A more sophisticated NodeReducer is presented in the [Reducing Failure-Inducing Inputs chapter](https://www.debuggingbook.org/beta/html/DeltaDebugger.html) in the debugging book."
   ]
  },
  {
   "cell_type": "markdown",
   "metadata": {
    "pycharm": {
     "name": "#%% md\n"
    },
    "slideshow": {
     "slide_type": "fragment"
    }
   },
   "source": [
    "To learn the structure of an AST, have a look at the [official Python `ast` reference](http://docs.python.org/3/library/ast) for a list of AST nodes and their attributes. This reference is complete, but a bit terse; the [\"Green Tree Snakes missing Python AST docs\"](https://greentreesnakes.readthedocs.io/en/latest/manipulating.html) provide a good manual on how to modify the tree."
   ]
  },
  {
   "cell_type": "markdown",
   "metadata": {
    "slideshow": {
     "slide_type": "subslide"
    }
   },
   "source": [
    "**Pro tip**: You can learn the expected structure of any Python fragment by invoking `ast.dump()` on any (parsed) AST."
   ]
  },
  {
   "cell_type": "code",
   "execution_count": 17,
   "metadata": {
    "execution": {
     "iopub.execute_input": "2021-10-13T12:52:09.263585Z",
     "iopub.status.busy": "2021-10-13T12:52:09.263065Z",
     "iopub.status.idle": "2021-10-13T12:52:09.264606Z",
     "shell.execute_reply": "2021-10-13T12:52:09.265123Z"
    },
    "pycharm": {
     "name": "#%%\n"
    },
    "slideshow": {
     "slide_type": "fragment"
    }
   },
   "outputs": [],
   "source": [
    "demo_ast = ast.parse('''\n",
    "if a == b:\n",
    "    c = d\n",
    "''')"
   ]
  },
  {
   "cell_type": "code",
   "execution_count": 18,
   "metadata": {
    "execution": {
     "iopub.execute_input": "2021-10-13T12:52:09.268733Z",
     "iopub.status.busy": "2021-10-13T12:52:09.268083Z",
     "iopub.status.idle": "2021-10-13T12:52:09.270527Z",
     "shell.execute_reply": "2021-10-13T12:52:09.270912Z"
    },
    "slideshow": {
     "slide_type": "subslide"
    }
   },
   "outputs": [
    {
     "name": "stdout",
     "output_type": "stream",
     "text": [
      "Module(\n",
      "    body=[\n",
      "        If(\n",
      "            test=Compare(\n",
      "                left=Name(id='a', ctx=Load()),\n",
      "                ops=[\n",
      "                    Eq()],\n",
      "                comparators=[\n",
      "                    Name(id='b', ctx=Load())]),\n",
      "            body=[\n",
      "                Assign(\n",
      "                    targets=[\n",
      "                        Name(id='c', ctx=Store())],\n",
      "                    value=Name(id='d', ctx=Load()))],\n",
      "            orelse=[])],\n",
      "    type_ignores=[])\n"
     ]
    }
   ],
   "source": [
    "print(ast.dump(demo_ast, indent=4))"
   ]
  },
  {
   "cell_type": "markdown",
   "metadata": {
    "slideshow": {
     "slide_type": "subslide"
    }
   },
   "source": [
    "The nice thing is that this not only reveals the AST structure, it also tells you how to construct it. If you take the very structure as produced by `ast.dump()` and evaluate it, you obtain the same syntax tree."
   ]
  },
  {
   "cell_type": "code",
   "execution_count": 19,
   "metadata": {
    "execution": {
     "iopub.execute_input": "2021-10-13T12:52:09.274318Z",
     "iopub.status.busy": "2021-10-13T12:52:09.273801Z",
     "iopub.status.idle": "2021-10-13T12:52:09.275694Z",
     "shell.execute_reply": "2021-10-13T12:52:09.276117Z"
    },
    "slideshow": {
     "slide_type": "skip"
    }
   },
   "outputs": [],
   "source": [
    "from ast import Module, If, Compare, Load, Eq, Assign, Name, Store"
   ]
  },
  {
   "cell_type": "code",
   "execution_count": 20,
   "metadata": {
    "execution": {
     "iopub.execute_input": "2021-10-13T12:52:09.280254Z",
     "iopub.status.busy": "2021-10-13T12:52:09.279727Z",
     "iopub.status.idle": "2021-10-13T12:52:09.281685Z",
     "shell.execute_reply": "2021-10-13T12:52:09.282070Z"
    },
    "pycharm": {
     "name": "#%%\n"
    },
    "slideshow": {
     "slide_type": "subslide"
    }
   },
   "outputs": [],
   "source": [
    "ast_from_scratch = Module(\n",
    "    body=[\n",
    "        If(\n",
    "            test=Compare(\n",
    "                left=Name(id='a', ctx=Load()),\n",
    "                ops=[\n",
    "                    Eq()],\n",
    "                comparators=[\n",
    "                    Name(id='b', ctx=Load())]),\n",
    "            body=[\n",
    "                Assign(\n",
    "                    targets=[\n",
    "                        Name(id='c', ctx=Store())],\n",
    "                    value=Name(id='d', ctx=Load()))],\n",
    "            orelse=[])],\n",
    "    type_ignores=[])"
   ]
  },
  {
   "cell_type": "markdown",
   "metadata": {
    "slideshow": {
     "slide_type": "subslide"
    }
   },
   "source": [
    "You need to invoke `ast.fix_missing_locations()` to add line numbers and other location info that would be normally added during parsing..."
   ]
  },
  {
   "cell_type": "code",
   "execution_count": 21,
   "metadata": {
    "execution": {
     "iopub.execute_input": "2021-10-13T12:52:09.285262Z",
     "iopub.status.busy": "2021-10-13T12:52:09.284726Z",
     "iopub.status.idle": "2021-10-13T12:52:09.286562Z",
     "shell.execute_reply": "2021-10-13T12:52:09.286995Z"
    },
    "slideshow": {
     "slide_type": "fragment"
    }
   },
   "outputs": [],
   "source": [
    "ast_from_scratch = ast.fix_missing_locations(ast_from_scratch)"
   ]
  },
  {
   "cell_type": "markdown",
   "metadata": {
    "slideshow": {
     "slide_type": "fragment"
    }
   },
   "source": [
    "... and with this, you're all set:"
   ]
  },
  {
   "cell_type": "code",
   "execution_count": 22,
   "metadata": {
    "execution": {
     "iopub.execute_input": "2021-10-13T12:52:09.290155Z",
     "iopub.status.busy": "2021-10-13T12:52:09.289642Z",
     "iopub.status.idle": "2021-10-13T12:52:09.291651Z",
     "shell.execute_reply": "2021-10-13T12:52:09.292016Z"
    },
    "pycharm": {
     "name": "#%%\n"
    },
    "slideshow": {
     "slide_type": "fragment"
    }
   },
   "outputs": [
    {
     "name": "stdout",
     "output_type": "stream",
     "text": [
      "if a == b:\n",
      "    c = d\n"
     ]
    }
   ],
   "source": [
    "print(ast.unparse(ast_from_scratch))"
   ]
  },
  {
   "cell_type": "markdown",
   "metadata": {
    "pycharm": {
     "name": "#%% md\n"
    },
    "slideshow": {
     "slide_type": "fragment"
    }
   },
   "source": [
    "Hence, if you do not know what kind of AST fragment to produce, just\n",
    "1. parse its text with ``ast.parse()`` \n",
    "2. study the expression produced by `ast.dump()`, and\n",
    "3. build it from the same expression, using `ast.fix_missing_locations()` and `ast.unparse()`"
   ]
  },
  {
   "cell_type": "markdown",
   "metadata": {
    "pycharm": {
     "name": "#%% md\n"
    },
    "slideshow": {
     "slide_type": "subslide"
    }
   },
   "source": [
    "### Implementing a Reducing Debugger\n",
    "\n",
    "Having seen how one can access and transform AST structures using a `NodeReducer` in Python, we can now use that knowledge to implement a `ReducingDebugger`\n",
    "capable of reducing the failure inducing Python code down to only that parts of the code that actually triggers the failure."
   ]
  },
  {
   "cell_type": "code",
   "execution_count": 23,
   "metadata": {
    "execution": {
     "iopub.execute_input": "2021-10-13T12:52:09.297327Z",
     "iopub.status.busy": "2021-10-13T12:52:09.296812Z",
     "iopub.status.idle": "2021-10-13T12:52:09.298647Z",
     "shell.execute_reply": "2021-10-13T12:52:09.299033Z"
    },
    "pycharm": {
     "name": "#%%\n"
    },
    "slideshow": {
     "slide_type": "subslide"
    }
   },
   "outputs": [],
   "source": [
    "class ReducingDebugger:\n",
    "    def __init__(self, parser: SimpleParser) -> None:\n",
    "        \"\"\"\n",
    "        We initialize the DebuggingReducer with a parser,\n",
    "        as this is needed to verify whether the failure \n",
    "        is still triggered after the code transformation\n",
    "        \"\"\"\n",
    "        self.parser = parser\n",
    "        self.node_reducer = NodeReducer()\n",
    "\n",
    "    def minimize(self, code: str) -> str:\n",
    "        \"\"\"\n",
    "        This function takes some Python code as string, reduces\n",
    "        it using the NodeReducer defined earlier and returns the \n",
    "        reduced program.\n",
    "        \"\"\"\n",
    "        # Parse the code to a tree\n",
    "        code_ast = ast.parse(source=code)\n",
    "\n",
    "        # Use the visit-method of the NodeReducer to reduce if nodes down to their condition\n",
    "        new_code_ast = self.node_reducer.visit(code_ast)\n",
    "\n",
    "        # After we've updated nodes, we need to fix the tree\n",
    "        ast.fix_missing_locations(new_code_ast)\n",
    "\n",
    "        # Generate code from the reduced tree\n",
    "        new_code = ast.unparse(new_code_ast)\n",
    "\n",
    "        # Test, whether the error is still triggered by the reduced code\n",
    "        try:\n",
    "            self.parser.parse(new_code)\n",
    "            # No exception is thrown. This means the new_code does not \n",
    "            # trigger an error anymore. Therefore, we failed in\n",
    "            # reduction and return the initial code.\n",
    "            return code\n",
    "        except ParserException:\n",
    "            # The error is still triggered. Return the reduced code\n",
    "            return new_code"
   ]
  },
  {
   "cell_type": "markdown",
   "metadata": {
    "pycharm": {
     "name": "#%% md\n"
    },
    "slideshow": {
     "slide_type": "subslide"
    }
   },
   "source": [
    "The `ReducingDebugger` implemented above takes some Python code as an input and replaces all if-statements with their conditions.\n",
    "Then, it checks whether the newly generated code still triggers the error. If not, it returns the initial code. If the exception is still triggered, it returns the reduced code.\n",
    "Let's apply it to the source code of our `foo` function:"
   ]
  },
  {
   "cell_type": "code",
   "execution_count": 24,
   "metadata": {
    "execution": {
     "iopub.execute_input": "2021-10-13T12:52:09.303040Z",
     "iopub.status.busy": "2021-10-13T12:52:09.302487Z",
     "iopub.status.idle": "2021-10-13T12:52:09.304647Z",
     "shell.execute_reply": "2021-10-13T12:52:09.305005Z"
    },
    "slideshow": {
     "slide_type": "subslide"
    }
   },
   "outputs": [
    {
     "name": "stdout",
     "output_type": "stream",
     "text": [
      "<ast.FunctionDef object at 0x1056e78e0>\n",
      "<ast.arguments object at 0x1056e7f10>\n",
      "<ast.arg object at 0x1056e71c0>\n",
      "<ast.arg object at 0x1056e7a60>\n",
      "<ast.Constant object at 0x1056e71f0>\n"
     ]
    }
   ],
   "source": [
    "reducing_debugger = ReducingDebugger(SimpleParserPlus())\n",
    "new_source = reducing_debugger.minimize(source)"
   ]
  },
  {
   "cell_type": "code",
   "execution_count": 25,
   "metadata": {
    "execution": {
     "iopub.execute_input": "2021-10-13T12:52:09.308079Z",
     "iopub.status.busy": "2021-10-13T12:52:09.307563Z",
     "iopub.status.idle": "2021-10-13T12:52:09.310062Z",
     "shell.execute_reply": "2021-10-13T12:52:09.309708Z"
    },
    "pycharm": {
     "name": "#%%\n"
    },
    "slideshow": {
     "slide_type": "subslide"
    }
   },
   "outputs": [
    {
     "name": "stdout",
     "output_type": "stream",
     "text": [
      "def foo(a, b):\n",
      "    \"\"\"\n",
      "    Checks whether a and b are true\n",
      "    \"\"\"\n",
      "    a and b\n",
      "    return 0\n"
     ]
    }
   ],
   "source": [
    "print(new_source)"
   ]
  },
  {
   "cell_type": "code",
   "execution_count": 26,
   "metadata": {
    "execution": {
     "iopub.execute_input": "2021-10-13T12:52:09.313197Z",
     "iopub.status.busy": "2021-10-13T12:52:09.312681Z",
     "iopub.status.idle": "2021-10-13T12:52:09.315565Z",
     "shell.execute_reply": "2021-10-13T12:52:09.315933Z"
    },
    "pycharm": {
     "name": "#%%\n"
    },
    "slideshow": {
     "slide_type": "subslide"
    }
   },
   "outputs": [
    {
     "name": "stdout",
     "output_type": "stream",
     "text": [
      "<ast.FunctionDef object at 0x1056e71c0>\n",
      "<ast.arguments object at 0x1056e7f10>\n",
      "<ast.arg object at 0x1056e7d30>\n",
      "<ast.arg object at 0x1056e7070>\n",
      "<ast.Constant object at 0x1056e7310>\n"
     ]
    },
    {
     "name": "stderr",
     "output_type": "stream",
     "text": [
      "Traceback (most recent call last):\n",
      "  File \"/var/folders/n2/xd9445p97rb3xh7m1dfx8_4h0006ts/T/ipykernel_97807/3561000985.py\", line 2, in <module>\n",
      "    SimpleParserPlus().parse(new_source)\n",
      "  File \"/var/folders/n2/xd9445p97rb3xh7m1dfx8_4h0006ts/T/ipykernel_97807/2922974276.py\", line 12, in parse\n",
      "    self.visit(tree)\n",
      "  File \"/Users/zeller/.pyenv/versions/3.9.7/lib/python3.9/ast.py\", line 407, in visit\n",
      "    return visitor(node)\n",
      "  File \"/Users/zeller/.pyenv/versions/3.9.7/lib/python3.9/ast.py\", line 415, in generic_visit\n",
      "    self.visit(item)\n",
      "  File \"/Users/zeller/.pyenv/versions/3.9.7/lib/python3.9/ast.py\", line 407, in visit\n",
      "    return visitor(node)\n",
      "  File \"/var/folders/n2/xd9445p97rb3xh7m1dfx8_4h0006ts/T/ipykernel_97807/2922974276.py\", line 16, in visit_FunctionDef\n",
      "    self.generic_visit(node)\n",
      "  File \"/Users/zeller/.pyenv/versions/3.9.7/lib/python3.9/ast.py\", line 415, in generic_visit\n",
      "    self.visit(item)\n",
      "  File \"/Users/zeller/.pyenv/versions/3.9.7/lib/python3.9/ast.py\", line 407, in visit\n",
      "    return visitor(node)\n",
      "  File \"/Users/zeller/.pyenv/versions/3.9.7/lib/python3.9/ast.py\", line 417, in generic_visit\n",
      "    self.visit(value)\n",
      "  File \"/Users/zeller/.pyenv/versions/3.9.7/lib/python3.9/ast.py\", line 407, in visit\n",
      "    return visitor(node)\n",
      "  File \"/var/folders/n2/xd9445p97rb3xh7m1dfx8_4h0006ts/T/ipykernel_97807/1656391407.py\", line 10, in visit_BoolOp\n",
      "    raise ParserException(\"Something went wrong\")\n",
      "ParserException: Something went wrong (expected)\n"
     ]
    }
   ],
   "source": [
    "with ExpectError():\n",
    "    SimpleParserPlus().parse(new_source)"
   ]
  },
  {
   "cell_type": "markdown",
   "metadata": {
    "pycharm": {
     "name": "#%% md\n"
    },
    "slideshow": {
     "slide_type": "subslide"
    }
   },
   "source": [
    "As we can see, our `ReducingDebugger` reduces the original function to a smaller input, while still preserving the property of the code that triggers the same error as before.\n",
    "However, this reducer is very simple: it applies only one transformation to all `if` nodes at once.\n",
    "Instead, one can consider various transformations of the same node as well as transformations of various node types and apply them one by one (or in batches) to gradually reduce the code."
   ]
  },
  {
   "cell_type": "markdown",
   "metadata": {
    "pycharm": {
     "name": "#%% md\n"
    },
    "slideshow": {
     "slide_type": "subslide"
    }
   },
   "source": [
    "Keep in mind, that the changes should be made in a way that the code is still accepted by a regular Python interpreter.\n",
    "Besides, the goal is to obtain a minimal program that still triggers the error.\n",
    "So, your debugging reducer should not simply reduce all possible nodes, but also regularly check whether the reduced code still triggers the failure."
   ]
  },
  {
   "cell_type": "markdown",
   "metadata": {
    "pycharm": {
     "name": "#%% md\n"
    },
    "slideshow": {
     "slide_type": "subslide"
    }
   },
   "source": [
    "Therefore, you are required to implement certain modifications that can be done to the AST. In general, these transformations can be one of the following:   \n",
    "\n",
    "1. Delete a node,\n",
    "2. Substitute a node with the new node (e.g., _pass_ node),\n",
    "3. Substitute a node with all of its children,\n",
    "4. Substitute a node with one of its children."
   ]
  },
  {
   "cell_type": "markdown",
   "metadata": {
    "pycharm": {
     "name": "#%% md\n"
    },
    "slideshow": {
     "slide_type": "subslide"
    }
   },
   "source": [
    "More detailed, one can consider, for instance:\n",
    "\n",
    "1. Replacing a `BoolOp` node by `True`.\n",
    "2. Replacing a `BoolOp` node by `False`.\n",
    "3. Replacing a `BoolOp` node by its left operand.\n",
    "4. Replacing a `BoolOp` node by its right operand.\n",
    "5. Replacing an `If` node by its \"then\" body.\n",
    "6. Replacing an `If` node by its condition.\n",
    "7. Replacing an `If` node by its \"else\" body.\n",
    "8. Replacing all instances of a variable by a constant.\n",
    "9. Replacing expressions by a constant.\n",
    "10. etc.\n",
    "\n",
    "Please, refer to the [official Python `ast` reference](http://docs.python.org/3/library/ast) for a full list of node types."
   ]
  },
  {
   "cell_type": "markdown",
   "metadata": {
    "hidden": true,
    "pycharm": {
     "name": "#%% md\n"
    },
    "slideshow": {
     "slide_type": "slide"
    }
   },
   "source": [
    "## Implementation\n",
    "\n",
    "To succeed in this project, you need to complete the `MyReducer` class."
   ]
  },
  {
   "cell_type": "code",
   "execution_count": 27,
   "metadata": {
    "execution": {
     "iopub.execute_input": "2021-10-13T12:52:09.320128Z",
     "iopub.status.busy": "2021-10-13T12:52:09.319488Z",
     "iopub.status.idle": "2021-10-13T12:52:09.321127Z",
     "shell.execute_reply": "2021-10-13T12:52:09.321503Z"
    },
    "hidden": true,
    "pycharm": {
     "name": "#%%\n"
    },
    "slideshow": {
     "slide_type": "fragment"
    }
   },
   "outputs": [],
   "source": [
    "class MyReducer(ReducingDebugger):\n",
    "\n",
    "    def minimize(self, code: str) -> str:\n",
    "        # TODO: implement this!\n",
    "        return code"
   ]
  },
  {
   "cell_type": "markdown",
   "metadata": {
    "hidden": true,
    "pycharm": {
     "name": "#%% md\n"
    },
    "slideshow": {
     "slide_type": "subslide"
    }
   },
   "source": [
    "To this end, you will need to extend the `NodeReducer` with additional transformations and implement a reducer strategy\n",
    "which collects all possible transformations and applies them to the AST until it is exhaustively minimized.\n",
    "Feel free to make your own implementation or extend the `DeltaDebugger` from the [Reducing Failure-Inducing Inputs chapter](https://www.debuggingbook.org/beta/html/DeltaDebugger.html) with\n",
    "the proper strategy."
   ]
  },
  {
   "cell_type": "markdown",
   "metadata": {
    "hidden": true,
    "pycharm": {
     "name": "#%% md\n"
    },
    "slideshow": {
     "slide_type": "slide"
    }
   },
   "source": [
    "## Evaluation\n",
    "\n",
    "We evaluate your project based on public as well as secret tests. In this section, we present **five** different Python parsers as well as **five** Python input programs, which should be minified.\n",
    "These parsers check for a specific property in the code and fail the execution if the property exists. The input programs and parsers in this section make up the public test cases.\n",
    "If you pass all of those tests **without hardcoding the modifications** you are guaranteed to score 15 points in this project. You can get more points for passing secret tests."
   ]
  },
  {
   "cell_type": "markdown",
   "metadata": {
    "hidden": true,
    "pycharm": {
     "name": "#%% md\n"
    },
    "slideshow": {
     "slide_type": "subslide"
    }
   },
   "source": [
    "### Parsers"
   ]
  },
  {
   "cell_type": "code",
   "execution_count": 28,
   "metadata": {
    "execution": {
     "iopub.execute_input": "2021-10-13T12:52:09.325786Z",
     "iopub.status.busy": "2021-10-13T12:52:09.325253Z",
     "iopub.status.idle": "2021-10-13T12:52:09.327073Z",
     "shell.execute_reply": "2021-10-13T12:52:09.327443Z"
    },
    "hidden": true,
    "pycharm": {
     "name": "#%%\n"
    },
    "slideshow": {
     "slide_type": "fragment"
    }
   },
   "outputs": [],
   "source": [
    "class Parser(ast.NodeVisitor):\n",
    "    \"\"\"The base class for a parser\"\"\"\n",
    "\n",
    "    def parse_tree(self, tree: ast.AST) -> None:\n",
    "        self.visit(tree)\n",
    "\n",
    "    def parse(self, source: str) -> str:\n",
    "        tree = ast.parse(source=source)\n",
    "        self.parse_tree(tree)\n",
    "        return \"The input was successfully parsed.\""
   ]
  },
  {
   "cell_type": "markdown",
   "metadata": {
    "pycharm": {
     "name": "#%% md\n"
    },
    "slideshow": {
     "slide_type": "fragment"
    }
   },
   "source": [
    "`Parser` is the base class for a parser from which all other parsers are derived. It works the same way as the `SimpleParser` introduced earlier."
   ]
  },
  {
   "cell_type": "markdown",
   "metadata": {
    "pycharm": {
     "name": "#%% md\n"
    },
    "slideshow": {
     "slide_type": "subslide"
    }
   },
   "source": [
    "Let's define a couple of parsers which model a failure during processing of a certain code feature."
   ]
  },
  {
   "cell_type": "code",
   "execution_count": 29,
   "metadata": {
    "execution": {
     "iopub.execute_input": "2021-10-13T12:52:09.330816Z",
     "iopub.status.busy": "2021-10-13T12:52:09.330305Z",
     "iopub.status.idle": "2021-10-13T12:52:09.332224Z",
     "shell.execute_reply": "2021-10-13T12:52:09.332580Z"
    },
    "hidden": true,
    "pycharm": {
     "name": "#%%\n"
    },
    "slideshow": {
     "slide_type": "fragment"
    }
   },
   "outputs": [],
   "source": [
    "class Parser1(Parser):\n",
    "    \"\"\"\n",
    "    Contains a boolean operation\n",
    "    \"\"\"\n",
    "\n",
    "    def visit_BoolOp(self, node: ast.BoolOp) -> None:\n",
    "        raise ParserException(f\"Something went wrong\")"
   ]
  },
  {
   "cell_type": "markdown",
   "metadata": {
    "slideshow": {
     "slide_type": "fragment"
    }
   },
   "source": [
    "If we feed this parser with an input program which contains a boolean operation, it fails:"
   ]
  },
  {
   "cell_type": "code",
   "execution_count": 30,
   "metadata": {
    "collapsed": false,
    "execution": {
     "iopub.execute_input": "2021-10-13T12:52:09.336119Z",
     "iopub.status.busy": "2021-10-13T12:52:09.335488Z",
     "iopub.status.idle": "2021-10-13T12:52:09.337889Z",
     "shell.execute_reply": "2021-10-13T12:52:09.338264Z"
    },
    "jupyter": {
     "outputs_hidden": false
    },
    "pycharm": {
     "name": "#%%\n"
    },
    "slideshow": {
     "slide_type": "subslide"
    }
   },
   "outputs": [
    {
     "name": "stderr",
     "output_type": "stream",
     "text": [
      "Traceback (most recent call last):\n",
      "  File \"/var/folders/n2/xd9445p97rb3xh7m1dfx8_4h0006ts/T/ipykernel_97807/2806337694.py\", line 5, in <module>\n",
      "    parser1.parse(input_program)\n",
      "  File \"/var/folders/n2/xd9445p97rb3xh7m1dfx8_4h0006ts/T/ipykernel_97807/1737200860.py\", line 9, in parse\n",
      "    self.parse_tree(tree)\n",
      "  File \"/var/folders/n2/xd9445p97rb3xh7m1dfx8_4h0006ts/T/ipykernel_97807/1737200860.py\", line 5, in parse_tree\n",
      "    self.visit(tree)\n",
      "  File \"/Users/zeller/.pyenv/versions/3.9.7/lib/python3.9/ast.py\", line 407, in visit\n",
      "    return visitor(node)\n",
      "  File \"/Users/zeller/.pyenv/versions/3.9.7/lib/python3.9/ast.py\", line 415, in generic_visit\n",
      "    self.visit(item)\n",
      "  File \"/Users/zeller/.pyenv/versions/3.9.7/lib/python3.9/ast.py\", line 407, in visit\n",
      "    return visitor(node)\n",
      "  File \"/Users/zeller/.pyenv/versions/3.9.7/lib/python3.9/ast.py\", line 417, in generic_visit\n",
      "    self.visit(value)\n",
      "  File \"/Users/zeller/.pyenv/versions/3.9.7/lib/python3.9/ast.py\", line 407, in visit\n",
      "    return visitor(node)\n",
      "  File \"/var/folders/n2/xd9445p97rb3xh7m1dfx8_4h0006ts/T/ipykernel_97807/2980862917.py\", line 7, in visit_BoolOp\n",
      "    raise ParserException(f\"Something went wrong\")\n",
      "ParserException: Something went wrong (expected)\n"
     ]
    }
   ],
   "source": [
    "parser1 = Parser1()\n",
    "input_program = '''\n",
    "a = True and False'''\n",
    "with ExpectError():\n",
    "    parser1.parse(input_program)"
   ]
  },
  {
   "cell_type": "markdown",
   "metadata": {
    "pycharm": {
     "name": "#%% md\n"
    },
    "slideshow": {
     "slide_type": "subslide"
    }
   },
   "source": [
    "In contrast to the above, an input program _without_ a boolean operation is parsed correctly."
   ]
  },
  {
   "cell_type": "code",
   "execution_count": 31,
   "metadata": {
    "collapsed": false,
    "execution": {
     "iopub.execute_input": "2021-10-13T12:52:09.342042Z",
     "iopub.status.busy": "2021-10-13T12:52:09.341526Z",
     "iopub.status.idle": "2021-10-13T12:52:09.343998Z",
     "shell.execute_reply": "2021-10-13T12:52:09.344366Z"
    },
    "jupyter": {
     "outputs_hidden": false
    },
    "pycharm": {
     "name": "#%%\n"
    },
    "slideshow": {
     "slide_type": "fragment"
    }
   },
   "outputs": [
    {
     "data": {
      "text/plain": [
       "'The input was successfully parsed.'"
      ]
     },
     "execution_count": 31,
     "metadata": {},
     "output_type": "execute_result"
    }
   ],
   "source": [
    "parser1 = Parser1()\n",
    "input_program = '''\n",
    "a = 1\n",
    "b = True\n",
    "'''\n",
    "\n",
    "parser1.parse(input_program)"
   ]
  },
  {
   "cell_type": "markdown",
   "metadata": {
    "pycharm": {
     "name": "#%% md\n"
    },
    "slideshow": {
     "slide_type": "fragment"
    }
   },
   "source": [
    "The other parsers are"
   ]
  },
  {
   "cell_type": "code",
   "execution_count": 32,
   "metadata": {
    "execution": {
     "iopub.execute_input": "2021-10-13T12:52:09.347699Z",
     "iopub.status.busy": "2021-10-13T12:52:09.347183Z",
     "iopub.status.idle": "2021-10-13T12:52:09.348959Z",
     "shell.execute_reply": "2021-10-13T12:52:09.349346Z"
    },
    "hidden": true,
    "pycharm": {
     "name": "#%%\n"
    },
    "slideshow": {
     "slide_type": "subslide"
    }
   },
   "outputs": [],
   "source": [
    "class Parser2(Parser):\n",
    "    \"\"\"\n",
    "    Fails if an input program contains `if` statement\n",
    "    \"\"\"\n",
    "    def visit_If(self, node: ast.If) -> None:\n",
    "        raise ParserException(f\"Something went wrong\")"
   ]
  },
  {
   "cell_type": "code",
   "execution_count": 33,
   "metadata": {
    "collapsed": false,
    "execution": {
     "iopub.execute_input": "2021-10-13T12:52:09.352592Z",
     "iopub.status.busy": "2021-10-13T12:52:09.352061Z",
     "iopub.status.idle": "2021-10-13T12:52:09.354198Z",
     "shell.execute_reply": "2021-10-13T12:52:09.354692Z"
    },
    "jupyter": {
     "outputs_hidden": false
    },
    "pycharm": {
     "name": "#%%\n"
    },
    "slideshow": {
     "slide_type": "subslide"
    }
   },
   "outputs": [
    {
     "name": "stderr",
     "output_type": "stream",
     "text": [
      "Traceback (most recent call last):\n",
      "  File \"/var/folders/n2/xd9445p97rb3xh7m1dfx8_4h0006ts/T/ipykernel_97807/1476831468.py\", line 9, in <module>\n",
      "    parser2.parse(input_program)\n",
      "  File \"/var/folders/n2/xd9445p97rb3xh7m1dfx8_4h0006ts/T/ipykernel_97807/1737200860.py\", line 9, in parse\n",
      "    self.parse_tree(tree)\n",
      "  File \"/var/folders/n2/xd9445p97rb3xh7m1dfx8_4h0006ts/T/ipykernel_97807/1737200860.py\", line 5, in parse_tree\n",
      "    self.visit(tree)\n",
      "  File \"/Users/zeller/.pyenv/versions/3.9.7/lib/python3.9/ast.py\", line 407, in visit\n",
      "    return visitor(node)\n",
      "  File \"/Users/zeller/.pyenv/versions/3.9.7/lib/python3.9/ast.py\", line 415, in generic_visit\n",
      "    self.visit(item)\n",
      "  File \"/Users/zeller/.pyenv/versions/3.9.7/lib/python3.9/ast.py\", line 407, in visit\n",
      "    return visitor(node)\n",
      "  File \"/var/folders/n2/xd9445p97rb3xh7m1dfx8_4h0006ts/T/ipykernel_97807/1684278366.py\", line 6, in visit_If\n",
      "    raise ParserException(f\"Something went wrong\")\n",
      "ParserException: Something went wrong (expected)\n"
     ]
    }
   ],
   "source": [
    "parser2 = Parser2()\n",
    "input_program = '''\n",
    "if a:\n",
    "    b = 1\n",
    "else:\n",
    "    b = 2\n",
    "'''\n",
    "with ExpectError():\n",
    "    parser2.parse(input_program)"
   ]
  },
  {
   "cell_type": "code",
   "execution_count": 34,
   "metadata": {
    "execution": {
     "iopub.execute_input": "2021-10-13T12:52:09.360186Z",
     "iopub.status.busy": "2021-10-13T12:52:09.359642Z",
     "iopub.status.idle": "2021-10-13T12:52:09.361521Z",
     "shell.execute_reply": "2021-10-13T12:52:09.361893Z"
    },
    "hidden": true,
    "pycharm": {
     "name": "#%%\n"
    },
    "slideshow": {
     "slide_type": "subslide"
    }
   },
   "outputs": [],
   "source": [
    "class Parser3(Parser):\n",
    "    \"\"\"\n",
    "    Fails if an input program contains a special unicode character\n",
    "    \"\"\"\n",
    "\n",
    "    def __init__(self) -> None:\n",
    "        self.assignment = False\n",
    "        self.steps = 0\n",
    "\n",
    "    def check_unicode(self, string: str) -> bool:\n",
    "        return string == u'\\u0426'\n",
    "\n",
    "    def generic_visit(self, node: ast.AST) -> None:\n",
    "        self.steps += 1\n",
    "        super().generic_visit(node)\n",
    "\n",
    "    def visit_Assign(self, node: ast.Assign) -> None:\n",
    "        self.assignment = True\n",
    "        self.steps = 0\n",
    "        self.generic_visit(node)\n",
    "\n",
    "    def visit_Constant(self, node: ast.Constant) -> None:\n",
    "        if self.assignment and self.steps == 3:\n",
    "            if isinstance(node.value, str):\n",
    "                if self.check_unicode(node.value):\n",
    "                    raise ParserException(f\"Something went wrong\")"
   ]
  },
  {
   "cell_type": "code",
   "execution_count": 35,
   "metadata": {
    "collapsed": false,
    "execution": {
     "iopub.execute_input": "2021-10-13T12:52:09.365217Z",
     "iopub.status.busy": "2021-10-13T12:52:09.364660Z",
     "iopub.status.idle": "2021-10-13T12:52:09.366914Z",
     "shell.execute_reply": "2021-10-13T12:52:09.367292Z"
    },
    "jupyter": {
     "outputs_hidden": false
    },
    "pycharm": {
     "name": "#%%\n"
    },
    "slideshow": {
     "slide_type": "subslide"
    }
   },
   "outputs": [
    {
     "name": "stderr",
     "output_type": "stream",
     "text": [
      "Traceback (most recent call last):\n",
      "  File \"/var/folders/n2/xd9445p97rb3xh7m1dfx8_4h0006ts/T/ipykernel_97807/951683174.py\", line 6, in <module>\n",
      "    parser3.parse(input_program)\n",
      "  File \"/var/folders/n2/xd9445p97rb3xh7m1dfx8_4h0006ts/T/ipykernel_97807/1737200860.py\", line 9, in parse\n",
      "    self.parse_tree(tree)\n",
      "  File \"/var/folders/n2/xd9445p97rb3xh7m1dfx8_4h0006ts/T/ipykernel_97807/1737200860.py\", line 5, in parse_tree\n",
      "    self.visit(tree)\n",
      "  File \"/Users/zeller/.pyenv/versions/3.9.7/lib/python3.9/ast.py\", line 407, in visit\n",
      "    return visitor(node)\n",
      "  File \"/var/folders/n2/xd9445p97rb3xh7m1dfx8_4h0006ts/T/ipykernel_97807/2904791116.py\", line 15, in generic_visit\n",
      "    super().generic_visit(node)\n",
      "  File \"/Users/zeller/.pyenv/versions/3.9.7/lib/python3.9/ast.py\", line 415, in generic_visit\n",
      "    self.visit(item)\n",
      "  File \"/Users/zeller/.pyenv/versions/3.9.7/lib/python3.9/ast.py\", line 407, in visit\n",
      "    return visitor(node)\n",
      "  File \"/var/folders/n2/xd9445p97rb3xh7m1dfx8_4h0006ts/T/ipykernel_97807/2904791116.py\", line 20, in visit_Assign\n",
      "    self.generic_visit(node)\n",
      "  File \"/var/folders/n2/xd9445p97rb3xh7m1dfx8_4h0006ts/T/ipykernel_97807/2904791116.py\", line 15, in generic_visit\n",
      "    super().generic_visit(node)\n",
      "  File \"/Users/zeller/.pyenv/versions/3.9.7/lib/python3.9/ast.py\", line 417, in generic_visit\n",
      "    self.visit(value)\n",
      "  File \"/Users/zeller/.pyenv/versions/3.9.7/lib/python3.9/ast.py\", line 407, in visit\n",
      "    return visitor(node)\n",
      "  File \"/var/folders/n2/xd9445p97rb3xh7m1dfx8_4h0006ts/T/ipykernel_97807/2904791116.py\", line 26, in visit_Constant\n",
      "    raise ParserException(f\"Something went wrong\")\n",
      "ParserException: Something went wrong (expected)\n"
     ]
    }
   ],
   "source": [
    "parser3 = Parser3()\n",
    "input_program = '''\n",
    "a = u'\\u0426'\n",
    "'''\n",
    "with ExpectError(ParserException):\n",
    "    parser3.parse(input_program)"
   ]
  },
  {
   "cell_type": "code",
   "execution_count": 36,
   "metadata": {
    "execution": {
     "iopub.execute_input": "2021-10-13T12:52:09.373083Z",
     "iopub.status.busy": "2021-10-13T12:52:09.372546Z",
     "iopub.status.idle": "2021-10-13T12:52:09.374336Z",
     "shell.execute_reply": "2021-10-13T12:52:09.374707Z"
    },
    "hidden": true,
    "slideshow": {
     "slide_type": "subslide"
    }
   },
   "outputs": [],
   "source": [
    "class Parser4(Parser):\n",
    "    \"\"\"\n",
    "    Fails if an input program contains a variable which is not defined\n",
    "    \"\"\"\n",
    "\n",
    "    def __init__(self) -> None:\n",
    "        self.assignment = False\n",
    "        self.steps = 0\n",
    "        self.variables: Set[str] = set()\n",
    "\n",
    "    def generic_visit(self, node: ast.AST) -> None:\n",
    "        self.steps += 1\n",
    "        super().generic_visit(node)\n",
    "\n",
    "    def visit_Name(self, node: ast.Name) -> None:\n",
    "        if self.assignment and self.steps == 1:\n",
    "            self.variables.add(node.id)\n",
    "            self.assignment = False\n",
    "            self.generic_visit(node)\n",
    "        elif node.id in self.variables:\n",
    "            self.generic_visit(node)\n",
    "        else:\n",
    "            raise ParserException(f\"Something went wrong\")\n",
    "\n",
    "    def visit_Assign(self, node: ast.Assign) -> None:\n",
    "        self.assignment = True\n",
    "        self.steps = 0\n",
    "        self.generic_visit(node)"
   ]
  },
  {
   "cell_type": "code",
   "execution_count": 37,
   "metadata": {
    "collapsed": false,
    "execution": {
     "iopub.execute_input": "2021-10-13T12:52:09.378003Z",
     "iopub.status.busy": "2021-10-13T12:52:09.377486Z",
     "iopub.status.idle": "2021-10-13T12:52:09.379636Z",
     "shell.execute_reply": "2021-10-13T12:52:09.380071Z"
    },
    "jupyter": {
     "outputs_hidden": false
    },
    "pycharm": {
     "name": "#%%\n"
    },
    "slideshow": {
     "slide_type": "subslide"
    }
   },
   "outputs": [
    {
     "name": "stderr",
     "output_type": "stream",
     "text": [
      "Traceback (most recent call last):\n",
      "  File \"/var/folders/n2/xd9445p97rb3xh7m1dfx8_4h0006ts/T/ipykernel_97807/1261297070.py\", line 7, in <module>\n",
      "    parser4.parse(input_program)\n",
      "  File \"/var/folders/n2/xd9445p97rb3xh7m1dfx8_4h0006ts/T/ipykernel_97807/1737200860.py\", line 9, in parse\n",
      "    self.parse_tree(tree)\n",
      "  File \"/var/folders/n2/xd9445p97rb3xh7m1dfx8_4h0006ts/T/ipykernel_97807/1737200860.py\", line 5, in parse_tree\n",
      "    self.visit(tree)\n",
      "  File \"/Users/zeller/.pyenv/versions/3.9.7/lib/python3.9/ast.py\", line 407, in visit\n",
      "    return visitor(node)\n",
      "  File \"/var/folders/n2/xd9445p97rb3xh7m1dfx8_4h0006ts/T/ipykernel_97807/3413124393.py\", line 13, in generic_visit\n",
      "    super().generic_visit(node)\n",
      "  File \"/Users/zeller/.pyenv/versions/3.9.7/lib/python3.9/ast.py\", line 415, in generic_visit\n",
      "    self.visit(item)\n",
      "  File \"/Users/zeller/.pyenv/versions/3.9.7/lib/python3.9/ast.py\", line 407, in visit\n",
      "    return visitor(node)\n",
      "  File \"/var/folders/n2/xd9445p97rb3xh7m1dfx8_4h0006ts/T/ipykernel_97807/3413124393.py\", line 28, in visit_Assign\n",
      "    self.generic_visit(node)\n",
      "  File \"/var/folders/n2/xd9445p97rb3xh7m1dfx8_4h0006ts/T/ipykernel_97807/3413124393.py\", line 13, in generic_visit\n",
      "    super().generic_visit(node)\n",
      "  File \"/Users/zeller/.pyenv/versions/3.9.7/lib/python3.9/ast.py\", line 417, in generic_visit\n",
      "    self.visit(value)\n",
      "  File \"/Users/zeller/.pyenv/versions/3.9.7/lib/python3.9/ast.py\", line 407, in visit\n",
      "    return visitor(node)\n",
      "  File \"/var/folders/n2/xd9445p97rb3xh7m1dfx8_4h0006ts/T/ipykernel_97807/3413124393.py\", line 23, in visit_Name\n",
      "    raise ParserException(f\"Something went wrong\")\n",
      "ParserException: Something went wrong (expected)\n"
     ]
    }
   ],
   "source": [
    "parser4 = Parser4()\n",
    "input_program = '''\n",
    "a = 1\n",
    "b = c\n",
    "'''\n",
    "with ExpectError(ParserException):\n",
    "    parser4.parse(input_program)"
   ]
  },
  {
   "cell_type": "code",
   "execution_count": 38,
   "metadata": {
    "execution": {
     "iopub.execute_input": "2021-10-13T12:52:09.383433Z",
     "iopub.status.busy": "2021-10-13T12:52:09.382806Z",
     "iopub.status.idle": "2021-10-13T12:52:09.384311Z",
     "shell.execute_reply": "2021-10-13T12:52:09.384841Z"
    },
    "hidden": true,
    "pycharm": {
     "name": "#%%\n"
    },
    "slideshow": {
     "slide_type": "subslide"
    }
   },
   "outputs": [],
   "source": [
    "class Parser5(Parser):\n",
    "    \"\"\"\n",
    "    Fails if an input program contains a list\n",
    "    \"\"\"\n",
    "\n",
    "    def visit_List(self, node: ast.List) -> None:\n",
    "        raise ParserException(f\"Something went wrong\") "
   ]
  },
  {
   "cell_type": "code",
   "execution_count": 39,
   "metadata": {
    "collapsed": false,
    "execution": {
     "iopub.execute_input": "2021-10-13T12:52:09.388240Z",
     "iopub.status.busy": "2021-10-13T12:52:09.387658Z",
     "iopub.status.idle": "2021-10-13T12:52:09.390002Z",
     "shell.execute_reply": "2021-10-13T12:52:09.390709Z"
    },
    "jupyter": {
     "outputs_hidden": false
    },
    "pycharm": {
     "name": "#%%\n"
    },
    "slideshow": {
     "slide_type": "subslide"
    }
   },
   "outputs": [
    {
     "name": "stderr",
     "output_type": "stream",
     "text": [
      "Traceback (most recent call last):\n",
      "  File \"/var/folders/n2/xd9445p97rb3xh7m1dfx8_4h0006ts/T/ipykernel_97807/3158638464.py\", line 6, in <module>\n",
      "    parser5.parse(input_program)\n",
      "  File \"/var/folders/n2/xd9445p97rb3xh7m1dfx8_4h0006ts/T/ipykernel_97807/1737200860.py\", line 9, in parse\n",
      "    self.parse_tree(tree)\n",
      "  File \"/var/folders/n2/xd9445p97rb3xh7m1dfx8_4h0006ts/T/ipykernel_97807/1737200860.py\", line 5, in parse_tree\n",
      "    self.visit(tree)\n",
      "  File \"/Users/zeller/.pyenv/versions/3.9.7/lib/python3.9/ast.py\", line 407, in visit\n",
      "    return visitor(node)\n",
      "  File \"/Users/zeller/.pyenv/versions/3.9.7/lib/python3.9/ast.py\", line 415, in generic_visit\n",
      "    self.visit(item)\n",
      "  File \"/Users/zeller/.pyenv/versions/3.9.7/lib/python3.9/ast.py\", line 407, in visit\n",
      "    return visitor(node)\n",
      "  File \"/Users/zeller/.pyenv/versions/3.9.7/lib/python3.9/ast.py\", line 417, in generic_visit\n",
      "    self.visit(value)\n",
      "  File \"/Users/zeller/.pyenv/versions/3.9.7/lib/python3.9/ast.py\", line 407, in visit\n",
      "    return visitor(node)\n",
      "  File \"/Users/zeller/.pyenv/versions/3.9.7/lib/python3.9/ast.py\", line 415, in generic_visit\n",
      "    self.visit(item)\n",
      "  File \"/Users/zeller/.pyenv/versions/3.9.7/lib/python3.9/ast.py\", line 407, in visit\n",
      "    return visitor(node)\n",
      "  File \"/Users/zeller/.pyenv/versions/3.9.7/lib/python3.9/ast.py\", line 417, in generic_visit\n",
      "    self.visit(value)\n",
      "  File \"/Users/zeller/.pyenv/versions/3.9.7/lib/python3.9/ast.py\", line 407, in visit\n",
      "    return visitor(node)\n",
      "  File \"/Users/zeller/.pyenv/versions/3.9.7/lib/python3.9/ast.py\", line 415, in generic_visit\n",
      "    self.visit(item)\n",
      "  File \"/Users/zeller/.pyenv/versions/3.9.7/lib/python3.9/ast.py\", line 407, in visit\n",
      "    return visitor(node)\n",
      "  File \"/var/folders/n2/xd9445p97rb3xh7m1dfx8_4h0006ts/T/ipykernel_97807/4175947920.py\", line 7, in visit_List\n",
      "    raise ParserException(f\"Something went wrong\")\n",
      "ParserException: Something went wrong (expected)\n"
     ]
    }
   ],
   "source": [
    "parser5 = Parser5()\n",
    "input_program = '''\n",
    "a = {x * 2 for x in map(int, ['1', '2', '3'])}\n",
    "'''\n",
    "with ExpectError(ParserException):\n",
    "    parser5.parse(input_program)"
   ]
  },
  {
   "cell_type": "markdown",
   "metadata": {
    "slideshow": {
     "slide_type": "subslide"
    }
   },
   "source": [
    "For secret tests we may use other parsers crafted in the same way."
   ]
  },
  {
   "cell_type": "markdown",
   "metadata": {
    "pycharm": {
     "name": "#%% md\n"
    },
    "slideshow": {
     "slide_type": "subslide"
    }
   },
   "source": [
    "### Input Programs"
   ]
  },
  {
   "cell_type": "markdown",
   "metadata": {
    "slideshow": {
     "slide_type": "fragment"
    }
   },
   "source": [
    "Now we present five public tests.\n",
    "Each test case implements a `get_original()` method that returns an input program which your reducer should minify.\n",
    "It also has a `parser` field which stores a parser used for a respective input program.\n",
    "Besides, `get_minimized()` method provides a reference solution."
   ]
  },
  {
   "cell_type": "code",
   "execution_count": 40,
   "metadata": {
    "collapsed": false,
    "execution": {
     "iopub.execute_input": "2021-10-13T12:52:09.394664Z",
     "iopub.status.busy": "2021-10-13T12:52:09.394146Z",
     "iopub.status.idle": "2021-10-13T12:52:09.395872Z",
     "shell.execute_reply": "2021-10-13T12:52:09.396238Z"
    },
    "jupyter": {
     "outputs_hidden": false
    },
    "pycharm": {
     "name": "#%%\n"
    },
    "slideshow": {
     "slide_type": "subslide"
    }
   },
   "outputs": [],
   "source": [
    "class Test1:\n",
    "    parser = Parser1()\n",
    "\n",
    "    def get_original(self) -> str:\n",
    "        return '''\n",
    "def original():\n",
    "    a = True\n",
    "    b = not False\n",
    "    c = 30\n",
    "    for i in range(c):\n",
    "        if i == 15:\n",
    "            if a and b:\n",
    "                return 1\n",
    "    return 0\n",
    "'''\n",
    "\n",
    "    def get_minimized(self) -> str:\n",
    "        return '''\n",
    "True and True'''"
   ]
  },
  {
   "cell_type": "code",
   "execution_count": 41,
   "metadata": {
    "collapsed": false,
    "execution": {
     "iopub.execute_input": "2021-10-13T12:52:09.399694Z",
     "iopub.status.busy": "2021-10-13T12:52:09.399180Z",
     "iopub.status.idle": "2021-10-13T12:52:09.400981Z",
     "shell.execute_reply": "2021-10-13T12:52:09.401417Z"
    },
    "jupyter": {
     "outputs_hidden": false
    },
    "pycharm": {
     "name": "#%%\n"
    },
    "slideshow": {
     "slide_type": "subslide"
    }
   },
   "outputs": [],
   "source": [
    "class Test2:\n",
    "    parser = Parser2()\n",
    "    def get_original(self) -> str:\n",
    "        return '''\n",
    "def original():\n",
    "    a = True\n",
    "    b = not False\n",
    "    c = 30\n",
    "    for i in range(c):\n",
    "        if i == 15:\n",
    "            if a and b:\n",
    "                return 1\n",
    "    return 0\n",
    "    '''\n",
    "\n",
    "    def get_minimized(self) -> str:\n",
    "        return '''\n",
    "if True:\n",
    "    return\n",
    "'''"
   ]
  },
  {
   "cell_type": "code",
   "execution_count": 42,
   "metadata": {
    "collapsed": false,
    "execution": {
     "iopub.execute_input": "2021-10-13T12:52:09.404968Z",
     "iopub.status.busy": "2021-10-13T12:52:09.404318Z",
     "iopub.status.idle": "2021-10-13T12:52:09.406029Z",
     "shell.execute_reply": "2021-10-13T12:52:09.406469Z"
    },
    "jupyter": {
     "outputs_hidden": false
    },
    "pycharm": {
     "name": "#%%\n"
    },
    "slideshow": {
     "slide_type": "subslide"
    }
   },
   "outputs": [],
   "source": [
    "class Test3:\n",
    "    parser = Parser3()\n",
    "    def get_original(self) -> str:\n",
    "        return '''\n",
    "def original():\n",
    "    a = 1\n",
    "    b = a\n",
    "    c = a - b\n",
    "    if c < a:\n",
    "        d = ''\n",
    "        while a == b:\n",
    "            d = u'\\u0426'\n",
    "            a += 1\n",
    "        return d\n",
    "    return ''\n",
    "'''\n",
    "\n",
    "    def get_minimized(self) -> str:\n",
    "        return '''\n",
    "d = u'\\u0426'\n",
    "'''"
   ]
  },
  {
   "cell_type": "code",
   "execution_count": 43,
   "metadata": {
    "collapsed": false,
    "execution": {
     "iopub.execute_input": "2021-10-13T12:52:09.409941Z",
     "iopub.status.busy": "2021-10-13T12:52:09.409426Z",
     "iopub.status.idle": "2021-10-13T12:52:09.411084Z",
     "shell.execute_reply": "2021-10-13T12:52:09.411513Z"
    },
    "jupyter": {
     "outputs_hidden": false
    },
    "pycharm": {
     "name": "#%%\n"
    },
    "slideshow": {
     "slide_type": "subslide"
    }
   },
   "outputs": [],
   "source": [
    "class Test4:\n",
    "    parser = Parser4()\n",
    "    def get_original(self) -> str:\n",
    "        return '''\n",
    "def original():\n",
    "    a = 1\n",
    "    b = a\n",
    "    c = a - b\n",
    "    if c < a:\n",
    "        while a == b:\n",
    "            a += 1\n",
    "        return d\n",
    "    return ''\n",
    "'''\n",
    "\n",
    "    def get_minimized(self) -> str:\n",
    "        return '''\n",
    "d\n",
    "'''"
   ]
  },
  {
   "cell_type": "code",
   "execution_count": 44,
   "metadata": {
    "collapsed": false,
    "execution": {
     "iopub.execute_input": "2021-10-13T12:52:09.414865Z",
     "iopub.status.busy": "2021-10-13T12:52:09.414351Z",
     "iopub.status.idle": "2021-10-13T12:52:09.416175Z",
     "shell.execute_reply": "2021-10-13T12:52:09.416570Z"
    },
    "jupyter": {
     "outputs_hidden": false
    },
    "pycharm": {
     "name": "#%%\n"
    },
    "slideshow": {
     "slide_type": "subslide"
    }
   },
   "outputs": [],
   "source": [
    "class Test5:\n",
    "    parser = Parser5()\n",
    "\n",
    "    def get_original(self) -> str:\n",
    "        return '''\n",
    "def original():\n",
    "    a = 1\n",
    "    b = 0\n",
    "    while True:\n",
    "        if a < b:\n",
    "            return [1, 2, 3]\n",
    "        else:\n",
    "            return []\n",
    "'''\n",
    "\n",
    "    def get_minimized(self) -> str:\n",
    "        return '''\n",
    "[]\n",
    "'''"
   ]
  },
  {
   "cell_type": "markdown",
   "metadata": {
    "pycharm": {
     "name": "#%% md\n"
    },
    "slideshow": {
     "slide_type": "subslide"
    }
   },
   "source": [
    "For instance, let's take the input program of `Test1`:"
   ]
  },
  {
   "cell_type": "code",
   "execution_count": 45,
   "metadata": {
    "collapsed": false,
    "execution": {
     "iopub.execute_input": "2021-10-13T12:52:09.420170Z",
     "iopub.status.busy": "2021-10-13T12:52:09.419577Z",
     "iopub.status.idle": "2021-10-13T12:52:09.421993Z",
     "shell.execute_reply": "2021-10-13T12:52:09.422392Z"
    },
    "jupyter": {
     "outputs_hidden": false
    },
    "pycharm": {
     "name": "#%%\n"
    },
    "slideshow": {
     "slide_type": "subslide"
    }
   },
   "outputs": [
    {
     "name": "stdout",
     "output_type": "stream",
     "text": [
      "\n",
      "def original():\n",
      "    a = True\n",
      "    b = not False\n",
      "    c = 30\n",
      "    for i in range(c):\n",
      "        if i == 15:\n",
      "            if a and b:\n",
      "                return 1\n",
      "    return 0\n",
      "\n"
     ]
    }
   ],
   "source": [
    "test = Test1()\n",
    "source = test.get_original()\n",
    "print(source)"
   ]
  },
  {
   "cell_type": "markdown",
   "metadata": {
    "slideshow": {
     "slide_type": "subslide"
    }
   },
   "source": [
    "And parse it with the provided parser:"
   ]
  },
  {
   "cell_type": "code",
   "execution_count": 46,
   "metadata": {
    "collapsed": false,
    "execution": {
     "iopub.execute_input": "2021-10-13T12:52:09.425972Z",
     "iopub.status.busy": "2021-10-13T12:52:09.425380Z",
     "iopub.status.idle": "2021-10-13T12:52:09.427755Z",
     "shell.execute_reply": "2021-10-13T12:52:09.428126Z"
    },
    "jupyter": {
     "outputs_hidden": false
    },
    "pycharm": {
     "name": "#%%\n"
    },
    "slideshow": {
     "slide_type": "subslide"
    }
   },
   "outputs": [
    {
     "name": "stderr",
     "output_type": "stream",
     "text": [
      "Traceback (most recent call last):\n",
      "  File \"/var/folders/n2/xd9445p97rb3xh7m1dfx8_4h0006ts/T/ipykernel_97807/1292946598.py\", line 2, in <module>\n",
      "    test.parser.parse(source)\n",
      "  File \"/var/folders/n2/xd9445p97rb3xh7m1dfx8_4h0006ts/T/ipykernel_97807/1737200860.py\", line 9, in parse\n",
      "    self.parse_tree(tree)\n",
      "  File \"/var/folders/n2/xd9445p97rb3xh7m1dfx8_4h0006ts/T/ipykernel_97807/1737200860.py\", line 5, in parse_tree\n",
      "    self.visit(tree)\n",
      "  File \"/Users/zeller/.pyenv/versions/3.9.7/lib/python3.9/ast.py\", line 407, in visit\n",
      "    return visitor(node)\n",
      "  File \"/Users/zeller/.pyenv/versions/3.9.7/lib/python3.9/ast.py\", line 415, in generic_visit\n",
      "    self.visit(item)\n",
      "  File \"/Users/zeller/.pyenv/versions/3.9.7/lib/python3.9/ast.py\", line 407, in visit\n",
      "    return visitor(node)\n",
      "  File \"/Users/zeller/.pyenv/versions/3.9.7/lib/python3.9/ast.py\", line 415, in generic_visit\n",
      "    self.visit(item)\n",
      "  File \"/Users/zeller/.pyenv/versions/3.9.7/lib/python3.9/ast.py\", line 407, in visit\n",
      "    return visitor(node)\n",
      "  File \"/Users/zeller/.pyenv/versions/3.9.7/lib/python3.9/ast.py\", line 415, in generic_visit\n",
      "    self.visit(item)\n",
      "  File \"/Users/zeller/.pyenv/versions/3.9.7/lib/python3.9/ast.py\", line 407, in visit\n",
      "    return visitor(node)\n",
      "  File \"/Users/zeller/.pyenv/versions/3.9.7/lib/python3.9/ast.py\", line 415, in generic_visit\n",
      "    self.visit(item)\n",
      "  File \"/Users/zeller/.pyenv/versions/3.9.7/lib/python3.9/ast.py\", line 407, in visit\n",
      "    return visitor(node)\n",
      "  File \"/Users/zeller/.pyenv/versions/3.9.7/lib/python3.9/ast.py\", line 417, in generic_visit\n",
      "    self.visit(value)\n",
      "  File \"/Users/zeller/.pyenv/versions/3.9.7/lib/python3.9/ast.py\", line 407, in visit\n",
      "    return visitor(node)\n",
      "  File \"/var/folders/n2/xd9445p97rb3xh7m1dfx8_4h0006ts/T/ipykernel_97807/2980862917.py\", line 7, in visit_BoolOp\n",
      "    raise ParserException(f\"Something went wrong\")\n",
      "ParserException: Something went wrong (expected)\n"
     ]
    }
   ],
   "source": [
    "with ExpectError():\n",
    "    test.parser.parse(source)"
   ]
  },
  {
   "cell_type": "markdown",
   "metadata": {
    "slideshow": {
     "slide_type": "subslide"
    }
   },
   "source": [
    "The parser failed."
   ]
  },
  {
   "cell_type": "markdown",
   "metadata": {
    "slideshow": {
     "slide_type": "subslide"
    }
   },
   "source": [
    "### Testing Infrastructure\n",
    "\n",
    "The following section introduces the testing infrastructure, which is used to assess your performance in the project. Passing all tests will be enough to complete the project successfully."
   ]
  },
  {
   "cell_type": "markdown",
   "metadata": {
    "hidden": true,
    "pycharm": {
     "name": "#%% md\n"
    },
    "slideshow": {
     "slide_type": "fragment"
    }
   },
   "source": [
    "We are not going to directly compare a minimized program with the reference solution (as two strings). Instead, we again transform the code into AST and count the number of nodes in both trees.\n",
    "If the difference between them is lower than a `THRESHOLD` (and a parser still produces an error), the test is passed.\n",
    "To count the number of nodes in the AST, we need a helper class `NodeCounter`."
   ]
  },
  {
   "cell_type": "code",
   "execution_count": 47,
   "metadata": {
    "execution": {
     "iopub.execute_input": "2021-10-13T12:52:09.432632Z",
     "iopub.status.busy": "2021-10-13T12:52:09.432116Z",
     "iopub.status.idle": "2021-10-13T12:52:09.433966Z",
     "shell.execute_reply": "2021-10-13T12:52:09.434337Z"
    },
    "hidden": true,
    "pycharm": {
     "name": "#%%\n"
    },
    "slideshow": {
     "slide_type": "subslide"
    }
   },
   "outputs": [],
   "source": [
    "class NodeCounter(ast.NodeVisitor):\n",
    "    \"\"\"\n",
    "    This node counter is used to assess\n",
    "    the amount of reductions performed by your reducer.\n",
    "    It counts the number of nodes in the AST.\n",
    "    \"\"\"\n",
    "\n",
    "    def __init__(self) -> None:\n",
    "        self.num_nodes = 0\n",
    "\n",
    "    def visit(self, node: ast.AST) -> None:\n",
    "        self.num_nodes += 1\n",
    "        self.generic_visit(node)\n",
    "\n",
    "    def count(self, source: str) -> int:\n",
    "        tree = ast.parse(source=source)\n",
    "        self.visit(tree)\n",
    "        return self.num_nodes"
   ]
  },
  {
   "cell_type": "markdown",
   "metadata": {
    "pycharm": {
     "name": "#%% md\n"
    },
    "slideshow": {
     "slide_type": "subslide"
    }
   },
   "source": [
    "The AST of the input program is as follows:"
   ]
  },
  {
   "cell_type": "code",
   "execution_count": 48,
   "metadata": {
    "collapsed": false,
    "execution": {
     "iopub.execute_input": "2021-10-13T12:52:09.437498Z",
     "iopub.status.busy": "2021-10-13T12:52:09.436979Z",
     "iopub.status.idle": "2021-10-13T12:52:10.087477Z",
     "shell.execute_reply": "2021-10-13T12:52:10.087875Z"
    },
    "jupyter": {
     "outputs_hidden": false
    },
    "pycharm": {
     "name": "#%%\n"
    },
    "slideshow": {
     "slide_type": "fragment"
    }
   },
   "outputs": [
    {
     "data": {
      "image/svg+xml": [
       "<svg xmlns=\"http://www.w3.org/2000/svg\" xmlns:xlink=\"http://www.w3.org/1999/xlink\" width=\"1629pt\" height=\"476pt\" viewBox=\"0.00 0.00 1629.00 476.00\">\n",
       "<g id=\"graph0\" class=\"graph\" transform=\"scale(1 1) rotate(0) translate(4 472)\">\n",
       "<polygon fill=\"white\" stroke=\"transparent\" points=\"-4,4 -4,-472 1625,-472 1625,4 -4,4\"/>\n",
       "<!-- 0 -->\n",
       "<g id=\"node1\" class=\"node\">\n",
       "<title>0</title>\n",
       "<text text-anchor=\"start\" x=\"400.5\" y=\"-447.3\" font-family=\"Courier,monospace\" font-weight=\"bold\" font-size=\"14.00\" fill=\"#004080\">FunctionDef</text>\n",
       "</g>\n",
       "<!-- 1 -->\n",
       "<g id=\"node2\" class=\"node\">\n",
       "<title>1</title>\n",
       "<text text-anchor=\"middle\" x=\"149\" y=\"-374.3\" font-family=\"Courier,monospace\" font-size=\"14.00\" fill=\"#008040\">&quot;original&quot;</text>\n",
       "</g>\n",
       "<!-- 0&#45;&#45;1 -->\n",
       "<g id=\"edge1\" class=\"edge\">\n",
       "<title>0--1</title>\n",
       "<path fill=\"none\" stroke=\"black\" d=\"M448,-431C448,-431 313.98,-418.46 209,-396 205.93,-395.34 202.79,-394.62 199.62,-393.85\"/>\n",
       "</g>\n",
       "<!-- 2 -->\n",
       "<g id=\"node3\" class=\"node\">\n",
       "<title>2</title>\n",
       "<text text-anchor=\"middle\" x=\"264\" y=\"-374.3\" font-family=\"Courier,monospace\" font-size=\"14.00\" fill=\"#008040\">arguments</text>\n",
       "</g>\n",
       "<!-- 0&#45;&#45;2 -->\n",
       "<g id=\"edge2\" class=\"edge\">\n",
       "<title>0--2</title>\n",
       "<path fill=\"none\" stroke=\"black\" d=\"M448,-431C448,-431 376.05,-412.55 319,-396 316.12,-395.16 313.16,-394.29 310.18,-393.4\"/>\n",
       "</g>\n",
       "<!-- 3 -->\n",
       "<g id=\"node4\" class=\"node\">\n",
       "<title>3</title>\n",
       "<text text-anchor=\"start\" x=\"336.5\" y=\"-375.3\" font-family=\"Courier,monospace\" font-weight=\"bold\" font-size=\"14.00\" fill=\"#004080\">Assign</text>\n",
       "</g>\n",
       "<!-- 0&#45;&#45;3 -->\n",
       "<g id=\"edge3\" class=\"edge\">\n",
       "<title>0--3</title>\n",
       "<path fill=\"none\" stroke=\"black\" d=\"M448,-431C448,-431 415.24,-411.19 390.16,-396.03\"/>\n",
       "</g>\n",
       "<!-- 9 -->\n",
       "<g id=\"node10\" class=\"node\">\n",
       "<title>9</title>\n",
       "<text text-anchor=\"start\" x=\"421.5\" y=\"-375.3\" font-family=\"Courier,monospace\" font-weight=\"bold\" font-size=\"14.00\" fill=\"#004080\">Assign</text>\n",
       "</g>\n",
       "<!-- 0&#45;&#45;9 -->\n",
       "<g id=\"edge9\" class=\"edge\">\n",
       "<title>0--9</title>\n",
       "<path fill=\"none\" stroke=\"black\" d=\"M448,-431C448,-431 447.62,-411.19 447.33,-396.03\"/>\n",
       "</g>\n",
       "<!-- 17 -->\n",
       "<g id=\"node18\" class=\"node\">\n",
       "<title>17</title>\n",
       "<text text-anchor=\"start\" x=\"578.5\" y=\"-375.3\" font-family=\"Courier,monospace\" font-weight=\"bold\" font-size=\"14.00\" fill=\"#004080\">Assign</text>\n",
       "</g>\n",
       "<!-- 0&#45;&#45;17 -->\n",
       "<g id=\"edge17\" class=\"edge\">\n",
       "<title>0--17</title>\n",
       "<path fill=\"none\" stroke=\"black\" d=\"M448,-431C448,-431 524.27,-405.58 570.15,-390.28\"/>\n",
       "</g>\n",
       "<!-- 23 -->\n",
       "<g id=\"node24\" class=\"node\">\n",
       "<title>23</title>\n",
       "<text text-anchor=\"start\" x=\"894\" y=\"-375.3\" font-family=\"Courier,monospace\" font-weight=\"bold\" font-size=\"14.00\" fill=\"#004080\">For</text>\n",
       "</g>\n",
       "<!-- 0&#45;&#45;23 -->\n",
       "<g id=\"edge23\" class=\"edge\">\n",
       "<title>0--23</title>\n",
       "<path fill=\"none\" stroke=\"black\" d=\"M448,-431C448,-431 780.85,-393.29 879.66,-382.1\"/>\n",
       "</g>\n",
       "<!-- 54 -->\n",
       "<g id=\"node55\" class=\"node\">\n",
       "<title>54</title>\n",
       "<text text-anchor=\"start\" x=\"1151.5\" y=\"-375.3\" font-family=\"Courier,monospace\" font-weight=\"bold\" font-size=\"14.00\" fill=\"#004080\">Return</text>\n",
       "</g>\n",
       "<!-- 0&#45;&#45;54 -->\n",
       "<g id=\"edge54\" class=\"edge\">\n",
       "<title>0--54</title>\n",
       "<path fill=\"none\" stroke=\"black\" d=\"M448,-431C448,-431 723.02,-411.77 943,-396 1014.3,-390.89 1097.82,-384.8 1143.29,-381.47\"/>\n",
       "</g>\n",
       "<!-- 4 -->\n",
       "<g id=\"node5\" class=\"node\">\n",
       "<title>4</title>\n",
       "<text text-anchor=\"start\" x=\"85\" y=\"-303.3\" font-family=\"Courier,monospace\" font-weight=\"bold\" font-size=\"14.00\" fill=\"#004080\">Name</text>\n",
       "</g>\n",
       "<!-- 3&#45;&#45;4 -->\n",
       "<g id=\"edge4\" class=\"edge\">\n",
       "<title>3--4</title>\n",
       "<path fill=\"none\" stroke=\"black\" d=\"M328,-364C328,-364 323.15,-361.38 319,-360 251.09,-337.36 231.35,-341.76 162,-324 151.2,-321.23 139.37,-317.94 129.1,-314.99\"/>\n",
       "</g>\n",
       "<!-- 7 -->\n",
       "<g id=\"node8\" class=\"node\">\n",
       "<title>7</title>\n",
       "<text text-anchor=\"start\" x=\"179\" y=\"-303.3\" font-family=\"Courier,monospace\" font-weight=\"bold\" font-size=\"14.00\" fill=\"#004080\">Constant</text>\n",
       "</g>\n",
       "<!-- 3&#45;&#45;7 -->\n",
       "<g id=\"edge7\" class=\"edge\">\n",
       "<title>3--7</title>\n",
       "<path fill=\"none\" stroke=\"black\" d=\"M328,-364C328,-364 281.38,-340.89 247.5,-324.1\"/>\n",
       "</g>\n",
       "<!-- 5 -->\n",
       "<g id=\"node6\" class=\"node\">\n",
       "<title>5</title>\n",
       "<text text-anchor=\"middle\" x=\"27\" y=\"-230.3\" font-family=\"Courier,monospace\" font-size=\"14.00\" fill=\"#008040\">&quot;a&quot;</text>\n",
       "</g>\n",
       "<!-- 4&#45;&#45;5 -->\n",
       "<g id=\"edge5\" class=\"edge\">\n",
       "<title>4--5</title>\n",
       "<path fill=\"none\" stroke=\"black\" d=\"M94,-287C94,-287 68.48,-267.19 48.94,-252.03\"/>\n",
       "</g>\n",
       "<!-- 6 -->\n",
       "<g id=\"node7\" class=\"node\">\n",
       "<title>6</title>\n",
       "<text text-anchor=\"middle\" x=\"102\" y=\"-230.3\" font-family=\"Courier,monospace\" font-size=\"14.00\" fill=\"#008040\">Store</text>\n",
       "</g>\n",
       "<!-- 4&#45;&#45;6 -->\n",
       "<g id=\"edge6\" class=\"edge\">\n",
       "<title>4--6</title>\n",
       "<path fill=\"none\" stroke=\"black\" d=\"M94,-287C94,-287 97.05,-267.19 99.38,-252.03\"/>\n",
       "</g>\n",
       "<!-- 8 -->\n",
       "<g id=\"node9\" class=\"node\">\n",
       "<title>8</title>\n",
       "<text text-anchor=\"middle\" x=\"177\" y=\"-230.3\" font-family=\"Courier,monospace\" font-size=\"14.00\" fill=\"#008040\">True</text>\n",
       "</g>\n",
       "<!-- 7&#45;&#45;8 -->\n",
       "<g id=\"edge8\" class=\"edge\">\n",
       "<title>7--8</title>\n",
       "<path fill=\"none\" stroke=\"black\" d=\"M204.1,-287.7C198.52,-276.85 191.36,-262.92 185.8,-252.1\"/>\n",
       "</g>\n",
       "<!-- 10 -->\n",
       "<g id=\"node11\" class=\"node\">\n",
       "<title>10</title>\n",
       "<text text-anchor=\"start\" x=\"307\" y=\"-303.3\" font-family=\"Courier,monospace\" font-weight=\"bold\" font-size=\"14.00\" fill=\"#004080\">Name</text>\n",
       "</g>\n",
       "<!-- 9&#45;&#45;10 -->\n",
       "<g id=\"edge10\" class=\"edge\">\n",
       "<title>9--10</title>\n",
       "<path fill=\"none\" stroke=\"black\" d=\"M437,-359C437,-359 384.5,-334.84 351.07,-319.46\"/>\n",
       "</g>\n",
       "<!-- 13 -->\n",
       "<g id=\"node14\" class=\"node\">\n",
       "<title>13</title>\n",
       "<text text-anchor=\"start\" x=\"417.5\" y=\"-303.3\" font-family=\"Courier,monospace\" font-weight=\"bold\" font-size=\"14.00\" fill=\"#004080\">UnaryOp</text>\n",
       "</g>\n",
       "<!-- 9&#45;&#45;13 -->\n",
       "<g id=\"edge13\" class=\"edge\">\n",
       "<title>9--13</title>\n",
       "<path fill=\"none\" stroke=\"black\" d=\"M437,-359C437,-359 440.81,-339.19 443.73,-324.03\"/>\n",
       "</g>\n",
       "<!-- 11 -->\n",
       "<g id=\"node12\" class=\"node\">\n",
       "<title>11</title>\n",
       "<text text-anchor=\"middle\" x=\"249\" y=\"-230.3\" font-family=\"Courier,monospace\" font-size=\"14.00\" fill=\"#008040\">&quot;b&quot;</text>\n",
       "</g>\n",
       "<!-- 10&#45;&#45;11 -->\n",
       "<g id=\"edge11\" class=\"edge\">\n",
       "<title>10--11</title>\n",
       "<path fill=\"none\" stroke=\"black\" d=\"M316,-287C316,-287 290.48,-267.19 270.94,-252.03\"/>\n",
       "</g>\n",
       "<!-- 12 -->\n",
       "<g id=\"node13\" class=\"node\">\n",
       "<title>12</title>\n",
       "<text text-anchor=\"middle\" x=\"324\" y=\"-230.3\" font-family=\"Courier,monospace\" font-size=\"14.00\" fill=\"#008040\">Store</text>\n",
       "</g>\n",
       "<!-- 10&#45;&#45;12 -->\n",
       "<g id=\"edge12\" class=\"edge\">\n",
       "<title>10--12</title>\n",
       "<path fill=\"none\" stroke=\"black\" d=\"M316,-287C316,-287 319.05,-267.19 321.38,-252.03\"/>\n",
       "</g>\n",
       "<!-- 14 -->\n",
       "<g id=\"node15\" class=\"node\">\n",
       "<title>14</title>\n",
       "<text text-anchor=\"middle\" x=\"399\" y=\"-230.3\" font-family=\"Courier,monospace\" font-size=\"14.00\" fill=\"#008040\">Not</text>\n",
       "</g>\n",
       "<!-- 13&#45;&#45;14 -->\n",
       "<g id=\"edge14\" class=\"edge\">\n",
       "<title>13--14</title>\n",
       "<path fill=\"none\" stroke=\"black\" d=\"M446,-287C446,-287 428.1,-267.19 414.39,-252.03\"/>\n",
       "</g>\n",
       "<!-- 15 -->\n",
       "<g id=\"node16\" class=\"node\">\n",
       "<title>15</title>\n",
       "<text text-anchor=\"start\" x=\"452\" y=\"-231.3\" font-family=\"Courier,monospace\" font-weight=\"bold\" font-size=\"14.00\" fill=\"#004080\">Constant</text>\n",
       "</g>\n",
       "<!-- 13&#45;&#45;15 -->\n",
       "<g id=\"edge15\" class=\"edge\">\n",
       "<title>13--15</title>\n",
       "<path fill=\"none\" stroke=\"black\" d=\"M446,-287C446,-287 461.24,-267.19 472.9,-252.03\"/>\n",
       "</g>\n",
       "<!-- 16 -->\n",
       "<g id=\"node17\" class=\"node\">\n",
       "<title>16</title>\n",
       "<text text-anchor=\"middle\" x=\"486\" y=\"-158.3\" font-family=\"Courier,monospace\" font-size=\"14.00\" fill=\"#008040\">False</text>\n",
       "</g>\n",
       "<!-- 15&#45;&#45;16 -->\n",
       "<g id=\"edge16\" class=\"edge\">\n",
       "<title>15--16</title>\n",
       "<path fill=\"none\" stroke=\"black\" d=\"M486,-215.7C486,-204.85 486,-190.92 486,-180.1\"/>\n",
       "</g>\n",
       "<!-- 18 -->\n",
       "<g id=\"node19\" class=\"node\">\n",
       "<title>18</title>\n",
       "<text text-anchor=\"start\" x=\"587\" y=\"-303.3\" font-family=\"Courier,monospace\" font-weight=\"bold\" font-size=\"14.00\" fill=\"#004080\">Name</text>\n",
       "</g>\n",
       "<!-- 17&#45;&#45;18 -->\n",
       "<g id=\"edge18\" class=\"edge\">\n",
       "<title>17--18</title>\n",
       "<path fill=\"none\" stroke=\"black\" d=\"M614,-359C614,-359 610.19,-339.19 607.27,-324.03\"/>\n",
       "</g>\n",
       "<!-- 21 -->\n",
       "<g id=\"node22\" class=\"node\">\n",
       "<title>21</title>\n",
       "<text text-anchor=\"start\" x=\"673\" y=\"-303.3\" font-family=\"Courier,monospace\" font-weight=\"bold\" font-size=\"14.00\" fill=\"#004080\">Constant</text>\n",
       "</g>\n",
       "<!-- 17&#45;&#45;21 -->\n",
       "<g id=\"edge21\" class=\"edge\">\n",
       "<title>17--21</title>\n",
       "<path fill=\"none\" stroke=\"black\" d=\"M614,-359C614,-359 649.43,-339.19 676.55,-324.03\"/>\n",
       "</g>\n",
       "<!-- 19 -->\n",
       "<g id=\"node20\" class=\"node\">\n",
       "<title>19</title>\n",
       "<text text-anchor=\"middle\" x=\"573\" y=\"-230.3\" font-family=\"Courier,monospace\" font-size=\"14.00\" fill=\"#008040\">&quot;c&quot;</text>\n",
       "</g>\n",
       "<!-- 18&#45;&#45;19 -->\n",
       "<g id=\"edge19\" class=\"edge\">\n",
       "<title>18--19</title>\n",
       "<path fill=\"none\" stroke=\"black\" d=\"M605,-287C605,-287 592.81,-267.19 583.48,-252.03\"/>\n",
       "</g>\n",
       "<!-- 20 -->\n",
       "<g id=\"node21\" class=\"node\">\n",
       "<title>20</title>\n",
       "<text text-anchor=\"middle\" x=\"648\" y=\"-230.3\" font-family=\"Courier,monospace\" font-size=\"14.00\" fill=\"#008040\">Store</text>\n",
       "</g>\n",
       "<!-- 18&#45;&#45;20 -->\n",
       "<g id=\"edge20\" class=\"edge\">\n",
       "<title>18--20</title>\n",
       "<path fill=\"none\" stroke=\"black\" d=\"M605,-287C605,-287 621.38,-267.19 633.92,-252.03\"/>\n",
       "</g>\n",
       "<!-- 22 -->\n",
       "<g id=\"node23\" class=\"node\">\n",
       "<title>22</title>\n",
       "<text text-anchor=\"middle\" x=\"723\" y=\"-230.3\" font-family=\"Courier,monospace\" font-size=\"14.00\" fill=\"#008040\">30</text>\n",
       "</g>\n",
       "<!-- 21&#45;&#45;22 -->\n",
       "<g id=\"edge22\" class=\"edge\">\n",
       "<title>21--22</title>\n",
       "<path fill=\"none\" stroke=\"black\" d=\"M710.96,-287.7C713.44,-276.85 716.62,-262.92 719.09,-252.1\"/>\n",
       "</g>\n",
       "<!-- 24 -->\n",
       "<g id=\"node25\" class=\"node\">\n",
       "<title>24</title>\n",
       "<text text-anchor=\"start\" x=\"853\" y=\"-303.3\" font-family=\"Courier,monospace\" font-weight=\"bold\" font-size=\"14.00\" fill=\"#004080\">Name</text>\n",
       "</g>\n",
       "<!-- 23&#45;&#45;24 -->\n",
       "<g id=\"edge24\" class=\"edge\">\n",
       "<title>23--24</title>\n",
       "<path fill=\"none\" stroke=\"black\" d=\"M916,-359C916,-359 898.48,-339.19 885.06,-324.03\"/>\n",
       "</g>\n",
       "<!-- 27 -->\n",
       "<g id=\"node28\" class=\"node\">\n",
       "<title>27</title>\n",
       "<text text-anchor=\"start\" x=\"928\" y=\"-303.3\" font-family=\"Courier,monospace\" font-weight=\"bold\" font-size=\"14.00\" fill=\"#004080\">Call</text>\n",
       "</g>\n",
       "<!-- 23&#45;&#45;27 -->\n",
       "<g id=\"edge27\" class=\"edge\">\n",
       "<title>23--27</title>\n",
       "<path fill=\"none\" stroke=\"black\" d=\"M916,-359C916,-359 927.05,-339.19 935.5,-324.03\"/>\n",
       "</g>\n",
       "<!-- 34 -->\n",
       "<g id=\"node35\" class=\"node\">\n",
       "<title>34</title>\n",
       "<text text-anchor=\"start\" x=\"1188.5\" y=\"-303.3\" font-family=\"Courier,monospace\" font-weight=\"bold\" font-size=\"14.00\" fill=\"#004080\">If</text>\n",
       "</g>\n",
       "<!-- 23&#45;&#45;34 -->\n",
       "<g id=\"edge34\" class=\"edge\">\n",
       "<title>23--34</title>\n",
       "<path fill=\"none\" stroke=\"black\" d=\"M916,-359C916,-359 1099.28,-325.08 1169.8,-312.03\"/>\n",
       "</g>\n",
       "<!-- 25 -->\n",
       "<g id=\"node26\" class=\"node\">\n",
       "<title>25</title>\n",
       "<text text-anchor=\"middle\" x=\"795\" y=\"-230.3\" font-family=\"Courier,monospace\" font-size=\"14.00\" fill=\"#008040\">&quot;i&quot;</text>\n",
       "</g>\n",
       "<!-- 24&#45;&#45;25 -->\n",
       "<g id=\"edge25\" class=\"edge\">\n",
       "<title>24--25</title>\n",
       "<path fill=\"none\" stroke=\"black\" d=\"M862,-287C862,-287 836.48,-267.19 816.94,-252.03\"/>\n",
       "</g>\n",
       "<!-- 26 -->\n",
       "<g id=\"node27\" class=\"node\">\n",
       "<title>26</title>\n",
       "<text text-anchor=\"middle\" x=\"870\" y=\"-230.3\" font-family=\"Courier,monospace\" font-size=\"14.00\" fill=\"#008040\">Store</text>\n",
       "</g>\n",
       "<!-- 24&#45;&#45;26 -->\n",
       "<g id=\"edge26\" class=\"edge\">\n",
       "<title>24--26</title>\n",
       "<path fill=\"none\" stroke=\"black\" d=\"M862,-287C862,-287 865.05,-267.19 867.38,-252.03\"/>\n",
       "</g>\n",
       "<!-- 28 -->\n",
       "<g id=\"node29\" class=\"node\">\n",
       "<title>28</title>\n",
       "<text text-anchor=\"start\" x=\"928\" y=\"-231.3\" font-family=\"Courier,monospace\" font-weight=\"bold\" font-size=\"14.00\" fill=\"#004080\">Name</text>\n",
       "</g>\n",
       "<!-- 27&#45;&#45;28 -->\n",
       "<g id=\"edge28\" class=\"edge\">\n",
       "<title>27--28</title>\n",
       "<path fill=\"none\" stroke=\"black\" d=\"M953,-287C953,-287 949.95,-267.19 947.62,-252.03\"/>\n",
       "</g>\n",
       "<!-- 31 -->\n",
       "<g id=\"node32\" class=\"node\">\n",
       "<title>31</title>\n",
       "<text text-anchor=\"start\" x=\"1000\" y=\"-231.3\" font-family=\"Courier,monospace\" font-weight=\"bold\" font-size=\"14.00\" fill=\"#004080\">Name</text>\n",
       "</g>\n",
       "<!-- 27&#45;&#45;31 -->\n",
       "<g id=\"edge31\" class=\"edge\">\n",
       "<title>27--31</title>\n",
       "<path fill=\"none\" stroke=\"black\" d=\"M953,-287C953,-287 977.38,-267.19 996.04,-252.03\"/>\n",
       "</g>\n",
       "<!-- 29 -->\n",
       "<g id=\"node30\" class=\"node\">\n",
       "<title>29</title>\n",
       "<text text-anchor=\"middle\" x=\"826\" y=\"-158.3\" font-family=\"Courier,monospace\" font-size=\"14.00\" fill=\"#008040\">&quot;range&quot;</text>\n",
       "</g>\n",
       "<!-- 28&#45;&#45;29 -->\n",
       "<g id=\"edge29\" class=\"edge\">\n",
       "<title>28--29</title>\n",
       "<path fill=\"none\" stroke=\"black\" d=\"M928,-215C928,-215 889.15,-195.19 859.4,-180.03\"/>\n",
       "</g>\n",
       "<!-- 30 -->\n",
       "<g id=\"node31\" class=\"node\">\n",
       "<title>30</title>\n",
       "<text text-anchor=\"middle\" x=\"909\" y=\"-158.3\" font-family=\"Courier,monospace\" font-size=\"14.00\" fill=\"#008040\">Load</text>\n",
       "</g>\n",
       "<!-- 28&#45;&#45;30 -->\n",
       "<g id=\"edge30\" class=\"edge\">\n",
       "<title>28--30</title>\n",
       "<path fill=\"none\" stroke=\"black\" d=\"M928,-215C928,-215 920.76,-195.19 915.22,-180.03\"/>\n",
       "</g>\n",
       "<!-- 32 -->\n",
       "<g id=\"node33\" class=\"node\">\n",
       "<title>32</title>\n",
       "<text text-anchor=\"middle\" x=\"981\" y=\"-158.3\" font-family=\"Courier,monospace\" font-size=\"14.00\" fill=\"#008040\">&quot;c&quot;</text>\n",
       "</g>\n",
       "<!-- 31&#45;&#45;32 -->\n",
       "<g id=\"edge32\" class=\"edge\">\n",
       "<title>31--32</title>\n",
       "<path fill=\"none\" stroke=\"black\" d=\"M1017,-215C1017,-215 1003.29,-195.19 992.79,-180.03\"/>\n",
       "</g>\n",
       "<!-- 33 -->\n",
       "<g id=\"node34\" class=\"node\">\n",
       "<title>33</title>\n",
       "<text text-anchor=\"middle\" x=\"1053\" y=\"-158.3\" font-family=\"Courier,monospace\" font-size=\"14.00\" fill=\"#008040\">Load</text>\n",
       "</g>\n",
       "<!-- 31&#45;&#45;33 -->\n",
       "<g id=\"edge33\" class=\"edge\">\n",
       "<title>31--33</title>\n",
       "<path fill=\"none\" stroke=\"black\" d=\"M1017,-215C1017,-215 1030.71,-195.19 1041.21,-180.03\"/>\n",
       "</g>\n",
       "<!-- 35 -->\n",
       "<g id=\"node36\" class=\"node\">\n",
       "<title>35</title>\n",
       "<text text-anchor=\"start\" x=\"1167.5\" y=\"-231.3\" font-family=\"Courier,monospace\" font-weight=\"bold\" font-size=\"14.00\" fill=\"#004080\">Compare</text>\n",
       "</g>\n",
       "<!-- 34&#45;&#45;35 -->\n",
       "<g id=\"edge35\" class=\"edge\">\n",
       "<title>34--35</title>\n",
       "<path fill=\"none\" stroke=\"black\" d=\"M1208,-287C1208,-287 1203.81,-267.19 1200.6,-252.03\"/>\n",
       "</g>\n",
       "<!-- 42 -->\n",
       "<g id=\"node43\" class=\"node\">\n",
       "<title>42</title>\n",
       "<text text-anchor=\"start\" x=\"1328.5\" y=\"-231.3\" font-family=\"Courier,monospace\" font-weight=\"bold\" font-size=\"14.00\" fill=\"#004080\">If</text>\n",
       "</g>\n",
       "<!-- 34&#45;&#45;42 -->\n",
       "<g id=\"edge42\" class=\"edge\">\n",
       "<title>34--42</title>\n",
       "<path fill=\"none\" stroke=\"black\" d=\"M1208,-287C1208,-287 1272.13,-261.15 1309.96,-245.9\"/>\n",
       "</g>\n",
       "<!-- 36 -->\n",
       "<g id=\"node37\" class=\"node\">\n",
       "<title>36</title>\n",
       "<text text-anchor=\"start\" x=\"1108\" y=\"-159.3\" font-family=\"Courier,monospace\" font-weight=\"bold\" font-size=\"14.00\" fill=\"#004080\">Name</text>\n",
       "</g>\n",
       "<!-- 35&#45;&#45;36 -->\n",
       "<g id=\"edge36\" class=\"edge\">\n",
       "<title>35--36</title>\n",
       "<path fill=\"none\" stroke=\"black\" d=\"M1197,-215C1197,-215 1169.57,-195.19 1148.58,-180.03\"/>\n",
       "</g>\n",
       "<!-- 39 -->\n",
       "<g id=\"node40\" class=\"node\">\n",
       "<title>39</title>\n",
       "<text text-anchor=\"middle\" x=\"1197\" y=\"-158.3\" font-family=\"Courier,monospace\" font-size=\"14.00\" fill=\"#008040\">Eq</text>\n",
       "</g>\n",
       "<!-- 35&#45;&#45;39 -->\n",
       "<g id=\"edge39\" class=\"edge\">\n",
       "<title>35--39</title>\n",
       "<path fill=\"none\" stroke=\"black\" d=\"M1197,-215C1197,-215 1197,-195.19 1197,-180.03\"/>\n",
       "</g>\n",
       "<!-- 40 -->\n",
       "<g id=\"node41\" class=\"node\">\n",
       "<title>40</title>\n",
       "<text text-anchor=\"start\" x=\"1250\" y=\"-159.3\" font-family=\"Courier,monospace\" font-weight=\"bold\" font-size=\"14.00\" fill=\"#004080\">Constant</text>\n",
       "</g>\n",
       "<!-- 35&#45;&#45;40 -->\n",
       "<g id=\"edge40\" class=\"edge\">\n",
       "<title>35--40</title>\n",
       "<path fill=\"none\" stroke=\"black\" d=\"M1197,-215C1197,-215 1230.14,-195.19 1255.51,-180.03\"/>\n",
       "</g>\n",
       "<!-- 37 -->\n",
       "<g id=\"node38\" class=\"node\">\n",
       "<title>37</title>\n",
       "<text text-anchor=\"middle\" x=\"1071\" y=\"-86.3\" font-family=\"Courier,monospace\" font-size=\"14.00\" fill=\"#008040\">&quot;i&quot;</text>\n",
       "</g>\n",
       "<!-- 36&#45;&#45;37 -->\n",
       "<g id=\"edge37\" class=\"edge\">\n",
       "<title>36--37</title>\n",
       "<path fill=\"none\" stroke=\"black\" d=\"M1121,-143C1121,-143 1101.95,-123.19 1087.37,-108.03\"/>\n",
       "</g>\n",
       "<!-- 38 -->\n",
       "<g id=\"node39\" class=\"node\">\n",
       "<title>38</title>\n",
       "<text text-anchor=\"middle\" x=\"1143\" y=\"-86.3\" font-family=\"Courier,monospace\" font-size=\"14.00\" fill=\"#008040\">Load</text>\n",
       "</g>\n",
       "<!-- 36&#45;&#45;38 -->\n",
       "<g id=\"edge38\" class=\"edge\">\n",
       "<title>36--38</title>\n",
       "<path fill=\"none\" stroke=\"black\" d=\"M1121,-143C1121,-143 1129.38,-123.19 1135.8,-108.03\"/>\n",
       "</g>\n",
       "<!-- 41 -->\n",
       "<g id=\"node42\" class=\"node\">\n",
       "<title>41</title>\n",
       "<text text-anchor=\"middle\" x=\"1234\" y=\"-86.3\" font-family=\"Courier,monospace\" font-size=\"14.00\" fill=\"#008040\">15</text>\n",
       "</g>\n",
       "<!-- 40&#45;&#45;41 -->\n",
       "<g id=\"edge41\" class=\"edge\">\n",
       "<title>40--41</title>\n",
       "<path fill=\"none\" stroke=\"black\" d=\"M1271.64,-143.7C1263.89,-132.85 1253.94,-118.92 1246.22,-108.1\"/>\n",
       "</g>\n",
       "<!-- 43 -->\n",
       "<g id=\"node44\" class=\"node\">\n",
       "<title>43</title>\n",
       "<text text-anchor=\"start\" x=\"1352.5\" y=\"-159.3\" font-family=\"Courier,monospace\" font-weight=\"bold\" font-size=\"14.00\" fill=\"#004080\">BoolOp</text>\n",
       "</g>\n",
       "<!-- 42&#45;&#45;43 -->\n",
       "<g id=\"edge43\" class=\"edge\">\n",
       "<title>42--43</title>\n",
       "<path fill=\"none\" stroke=\"black\" d=\"M1358,-215C1358,-215 1365.62,-195.19 1371.45,-180.03\"/>\n",
       "</g>\n",
       "<!-- 51 -->\n",
       "<g id=\"node52\" class=\"node\">\n",
       "<title>51</title>\n",
       "<text text-anchor=\"start\" x=\"1489.5\" y=\"-159.3\" font-family=\"Courier,monospace\" font-weight=\"bold\" font-size=\"14.00\" fill=\"#004080\">Return</text>\n",
       "</g>\n",
       "<!-- 42&#45;&#45;51 -->\n",
       "<g id=\"edge51\" class=\"edge\">\n",
       "<title>42--51</title>\n",
       "<path fill=\"none\" stroke=\"black\" d=\"M1358,-215C1358,-215 1435.19,-189.43 1481.32,-174.16\"/>\n",
       "</g>\n",
       "<!-- 44 -->\n",
       "<g id=\"node45\" class=\"node\">\n",
       "<title>44</title>\n",
       "<text text-anchor=\"middle\" x=\"1306\" y=\"-86.3\" font-family=\"Courier,monospace\" font-size=\"14.00\" fill=\"#008040\">And</text>\n",
       "</g>\n",
       "<!-- 43&#45;&#45;44 -->\n",
       "<g id=\"edge44\" class=\"edge\">\n",
       "<title>43--44</title>\n",
       "<path fill=\"none\" stroke=\"black\" d=\"M1378,-143C1378,-143 1350.57,-123.19 1329.58,-108.03\"/>\n",
       "</g>\n",
       "<!-- 45 -->\n",
       "<g id=\"node46\" class=\"node\">\n",
       "<title>45</title>\n",
       "<text text-anchor=\"start\" x=\"1361\" y=\"-87.3\" font-family=\"Courier,monospace\" font-weight=\"bold\" font-size=\"14.00\" fill=\"#004080\">Name</text>\n",
       "</g>\n",
       "<!-- 43&#45;&#45;45 -->\n",
       "<g id=\"edge45\" class=\"edge\">\n",
       "<title>43--45</title>\n",
       "<path fill=\"none\" stroke=\"black\" d=\"M1378,-143C1378,-143 1378,-123.19 1378,-108.03\"/>\n",
       "</g>\n",
       "<!-- 48 -->\n",
       "<g id=\"node49\" class=\"node\">\n",
       "<title>48</title>\n",
       "<text text-anchor=\"start\" x=\"1433\" y=\"-87.3\" font-family=\"Courier,monospace\" font-weight=\"bold\" font-size=\"14.00\" fill=\"#004080\">Name</text>\n",
       "</g>\n",
       "<!-- 43&#45;&#45;48 -->\n",
       "<g id=\"edge48\" class=\"edge\">\n",
       "<title>43--48</title>\n",
       "<path fill=\"none\" stroke=\"black\" d=\"M1378,-143C1378,-143 1405.43,-123.19 1426.42,-108.03\"/>\n",
       "</g>\n",
       "<!-- 46 -->\n",
       "<g id=\"node47\" class=\"node\">\n",
       "<title>46</title>\n",
       "<text text-anchor=\"middle\" x=\"1306\" y=\"-14.3\" font-family=\"Courier,monospace\" font-size=\"14.00\" fill=\"#008040\">&quot;a&quot;</text>\n",
       "</g>\n",
       "<!-- 45&#45;&#45;46 -->\n",
       "<g id=\"edge46\" class=\"edge\">\n",
       "<title>45--46</title>\n",
       "<path fill=\"none\" stroke=\"black\" d=\"M1370,-71C1370,-71 1345.62,-51.19 1326.96,-36.03\"/>\n",
       "</g>\n",
       "<!-- 47 -->\n",
       "<g id=\"node48\" class=\"node\">\n",
       "<title>47</title>\n",
       "<text text-anchor=\"middle\" x=\"1378\" y=\"-14.3\" font-family=\"Courier,monospace\" font-size=\"14.00\" fill=\"#008040\">Load</text>\n",
       "</g>\n",
       "<!-- 45&#45;&#45;47 -->\n",
       "<g id=\"edge47\" class=\"edge\">\n",
       "<title>45--47</title>\n",
       "<path fill=\"none\" stroke=\"black\" d=\"M1370,-71C1370,-71 1373.05,-51.19 1375.38,-36.03\"/>\n",
       "</g>\n",
       "<!-- 49 -->\n",
       "<g id=\"node50\" class=\"node\">\n",
       "<title>49</title>\n",
       "<text text-anchor=\"middle\" x=\"1450\" y=\"-14.3\" font-family=\"Courier,monospace\" font-size=\"14.00\" fill=\"#008040\">&quot;b&quot;</text>\n",
       "</g>\n",
       "<!-- 48&#45;&#45;49 -->\n",
       "<g id=\"edge49\" class=\"edge\">\n",
       "<title>48--49</title>\n",
       "<path fill=\"none\" stroke=\"black\" d=\"M1458,-71C1458,-71 1454.95,-51.19 1452.62,-36.03\"/>\n",
       "</g>\n",
       "<!-- 50 -->\n",
       "<g id=\"node51\" class=\"node\">\n",
       "<title>50</title>\n",
       "<text text-anchor=\"middle\" x=\"1522\" y=\"-14.3\" font-family=\"Courier,monospace\" font-size=\"14.00\" fill=\"#008040\">Load</text>\n",
       "</g>\n",
       "<!-- 48&#45;&#45;50 -->\n",
       "<g id=\"edge50\" class=\"edge\">\n",
       "<title>48--50</title>\n",
       "<path fill=\"none\" stroke=\"black\" d=\"M1458,-71C1458,-71 1482.38,-51.19 1501.04,-36.03\"/>\n",
       "</g>\n",
       "<!-- 52 -->\n",
       "<g id=\"node53\" class=\"node\">\n",
       "<title>52</title>\n",
       "<text text-anchor=\"start\" x=\"1532\" y=\"-87.3\" font-family=\"Courier,monospace\" font-weight=\"bold\" font-size=\"14.00\" fill=\"#004080\">Constant</text>\n",
       "</g>\n",
       "<!-- 51&#45;&#45;52 -->\n",
       "<g id=\"edge52\" class=\"edge\">\n",
       "<title>51--52</title>\n",
       "<path fill=\"none\" stroke=\"black\" d=\"M1527.61,-143.7C1535.51,-132.85 1545.66,-118.92 1553.54,-108.1\"/>\n",
       "</g>\n",
       "<!-- 53 -->\n",
       "<g id=\"node54\" class=\"node\">\n",
       "<title>53</title>\n",
       "<text text-anchor=\"middle\" x=\"1594\" y=\"-14.3\" font-family=\"Courier,monospace\" font-size=\"14.00\" fill=\"#008040\">1</text>\n",
       "</g>\n",
       "<!-- 52&#45;&#45;53 -->\n",
       "<g id=\"edge53\" class=\"edge\">\n",
       "<title>52--53</title>\n",
       "<path fill=\"none\" stroke=\"black\" d=\"M1572.92,-71.7C1577.26,-60.85 1582.83,-46.92 1587.16,-36.1\"/>\n",
       "</g>\n",
       "<!-- 55 -->\n",
       "<g id=\"node56\" class=\"node\">\n",
       "<title>55</title>\n",
       "<text text-anchor=\"start\" x=\"1333\" y=\"-303.3\" font-family=\"Courier,monospace\" font-weight=\"bold\" font-size=\"14.00\" fill=\"#004080\">Constant</text>\n",
       "</g>\n",
       "<!-- 54&#45;&#45;55 -->\n",
       "<g id=\"edge55\" class=\"edge\">\n",
       "<title>54--55</title>\n",
       "<path fill=\"none\" stroke=\"black\" d=\"M1210.53,-364.65C1242.38,-352.91 1290.4,-335.22 1324.83,-322.54\"/>\n",
       "</g>\n",
       "<!-- 56 -->\n",
       "<g id=\"node57\" class=\"node\">\n",
       "<title>56</title>\n",
       "<text text-anchor=\"middle\" x=\"1409\" y=\"-230.3\" font-family=\"Courier,monospace\" font-size=\"14.00\" fill=\"#008040\">0</text>\n",
       "</g>\n",
       "<!-- 55&#45;&#45;56 -->\n",
       "<g id=\"edge56\" class=\"edge\">\n",
       "<title>55--56</title>\n",
       "<path fill=\"none\" stroke=\"black\" d=\"M1377.38,-287.7C1383.89,-276.85 1392.25,-262.92 1398.74,-252.1\"/>\n",
       "</g>\n",
       "</g>\n",
       "</svg>"
      ],
      "text/plain": [
       "<IPython.core.display.SVG object>"
      ]
     },
     "metadata": {},
     "output_type": "display_data"
    },
    {
     "name": "stdout",
     "output_type": "stream",
     "text": [
      "The number of nodes is 42\n"
     ]
    }
   ],
   "source": [
    "show_ast(ast.parse(source))\n",
    "print(f\"The number of nodes is {NodeCounter().count(source)}\")"
   ]
  },
  {
   "cell_type": "markdown",
   "metadata": {
    "slideshow": {
     "slide_type": "fragment"
    }
   },
   "source": [
    "As you can see, the input program of `Test1` has 42 nodes."
   ]
  },
  {
   "cell_type": "markdown",
   "metadata": {
    "slideshow": {
     "slide_type": "fragment"
    }
   },
   "source": [
    "The testing framework takes a reducer and allows to execute a single test or all tests at once."
   ]
  },
  {
   "cell_type": "code",
   "execution_count": 49,
   "metadata": {
    "execution": {
     "iopub.execute_input": "2021-10-13T12:52:10.097844Z",
     "iopub.status.busy": "2021-10-13T12:52:10.097217Z",
     "iopub.status.idle": "2021-10-13T12:52:10.099379Z",
     "shell.execute_reply": "2021-10-13T12:52:10.098837Z"
    },
    "hidden": true,
    "pycharm": {
     "name": "#%%\n"
    },
    "slideshow": {
     "slide_type": "subslide"
    }
   },
   "outputs": [],
   "source": [
    "class TestingFramework:\n",
    "    THRESHOLD = 3\n",
    "    test_cases = {\n",
    "        'test1': Test1(),\n",
    "        'test2': Test2(),\n",
    "        'test3': Test3(),\n",
    "        'test4': Test4(),\n",
    "        'test5': Test5()\n",
    "    }\n",
    "\n",
    "    def __init__(self, reducer: Any) -> None:\n",
    "        self.reducer = reducer\n",
    "\n",
    "    def count_nodes(self, source: Optional[str]) -> int:\n",
    "        if source is None:\n",
    "            return 100000\n",
    "        return NodeCounter().count(source)\n",
    "\n",
    "    def run_test(self, test: Any) -> bool:\n",
    "        \"\"\"\n",
    "        run a single test\n",
    "        \"\"\"\n",
    "        print(f'Running test {test.__class__.__name__}')\n",
    "        reducer = self.reducer(test.parser)\n",
    "        reduced_code = reducer.minimize(test.get_original())\n",
    "        return (self.has_property(reduced_code, test.parser) and \n",
    "                self.is_minimized(reduced_code, test.get_minimized()))\n",
    "\n",
    "    def run_tests(self) -> None:\n",
    "        \"\"\"\n",
    "        run all public tests\n",
    "        \"\"\"\n",
    "        passed_tests = 0\n",
    "        for test in self.test_cases.values():\n",
    "            success = self.run_test(test)\n",
    "            if success:\n",
    "                passed_tests += 1\n",
    "\n",
    "        print(f\"In total {passed_tests} tests passed\")\n",
    "\n",
    "    def has_property(self, source: str, parser: Any) -> bool:\n",
    "        \"\"\"returns True if the parser fails to parse the source\"\"\"\n",
    "        try:\n",
    "            parser.parse(source)\n",
    "            print(f'HAS PROPERTY: FAIL')\n",
    "            return False\n",
    "        except ParserException:\n",
    "            print(f'HAS PROPERTY: OK')\n",
    "            return True\n",
    "        except Exception as e:\n",
    "            print(f'HAS PROPERTY: FAIL {e}')\n",
    "            return False\n",
    "\n",
    "    def is_minimized(self, reduced: str, reference: str) -> bool:\n",
    "        \"\"\"\n",
    "        Returns True if the AST of the reduced code contains \n",
    "        no more then the number of nodes in the reference + a THRESHOLD\n",
    "        \"\"\"\n",
    "        count_minimized = self.count_nodes(reduced)\n",
    "        count_reference = self.count_nodes(reference)\n",
    "        if count_minimized <= count_reference + self.THRESHOLD:\n",
    "            print(f'IS MINIMIZED: OK')\n",
    "            return True\n",
    "        else:\n",
    "            print(f'IS MINIMIZED: FAIL')\n",
    "            return False"
   ]
  },
  {
   "cell_type": "markdown",
   "metadata": {
    "pycharm": {
     "name": "#%% md\n"
    },
    "slideshow": {
     "slide_type": "subslide"
    }
   },
   "source": [
    "Let's test our `ReducingDebugger` with the following test:"
   ]
  },
  {
   "cell_type": "code",
   "execution_count": 50,
   "metadata": {
    "collapsed": false,
    "execution": {
     "iopub.execute_input": "2021-10-13T12:52:10.103399Z",
     "iopub.status.busy": "2021-10-13T12:52:10.102894Z",
     "iopub.status.idle": "2021-10-13T12:52:10.104753Z",
     "shell.execute_reply": "2021-10-13T12:52:10.105145Z"
    },
    "jupyter": {
     "outputs_hidden": false
    },
    "pycharm": {
     "name": "#%%\n"
    },
    "slideshow": {
     "slide_type": "fragment"
    }
   },
   "outputs": [],
   "source": [
    "class Test0:\n",
    "    parser = Parser1()\n",
    "\n",
    "    def get_original(self) -> str:\n",
    "        return '''\n",
    "if a and b:\n",
    "    c = 1\n",
    "else:\n",
    "    c = 2\n",
    "'''\n",
    "\n",
    "    def get_minimized(self) -> str:\n",
    "        return '''\n",
    "a and b'''"
   ]
  },
  {
   "cell_type": "code",
   "execution_count": 51,
   "metadata": {
    "collapsed": false,
    "execution": {
     "iopub.execute_input": "2021-10-13T12:52:10.108656Z",
     "iopub.status.busy": "2021-10-13T12:52:10.108112Z",
     "iopub.status.idle": "2021-10-13T12:52:10.110147Z",
     "shell.execute_reply": "2021-10-13T12:52:10.110642Z"
    },
    "jupyter": {
     "outputs_hidden": false
    },
    "pycharm": {
     "name": "#%%\n"
    },
    "slideshow": {
     "slide_type": "subslide"
    }
   },
   "outputs": [
    {
     "name": "stdout",
     "output_type": "stream",
     "text": [
      "Running test Test0\n",
      "HAS PROPERTY: OK\n",
      "IS MINIMIZED: OK\n",
      "Success!\n"
     ]
    }
   ],
   "source": [
    "tf = TestingFramework(ReducingDebugger)\n",
    "if tf.run_test(Test0()):\n",
    "    print(\"Success!\")"
   ]
  },
  {
   "cell_type": "markdown",
   "metadata": {
    "slideshow": {
     "slide_type": "fragment"
    }
   },
   "source": [
    "The input program was successfully minimized."
   ]
  },
  {
   "cell_type": "markdown",
   "metadata": {
    "pycharm": {
     "name": "#%% md\n"
    },
    "slideshow": {
     "slide_type": "fragment"
    }
   },
   "source": [
    "What if we run all public tests?"
   ]
  },
  {
   "cell_type": "code",
   "execution_count": 52,
   "metadata": {
    "execution": {
     "iopub.execute_input": "2021-10-13T12:52:10.117234Z",
     "iopub.status.busy": "2021-10-13T12:52:10.116471Z",
     "iopub.status.idle": "2021-10-13T12:52:10.119151Z",
     "shell.execute_reply": "2021-10-13T12:52:10.119621Z"
    },
    "hidden": true,
    "pycharm": {
     "name": "#%%\n"
    },
    "slideshow": {
     "slide_type": "subslide"
    }
   },
   "outputs": [
    {
     "name": "stdout",
     "output_type": "stream",
     "text": [
      "Running test Test1\n",
      "HAS PROPERTY: OK\n",
      "IS MINIMIZED: FAIL\n",
      "Running test Test2\n",
      "HAS PROPERTY: OK\n",
      "IS MINIMIZED: FAIL\n",
      "Running test Test3\n",
      "HAS PROPERTY: OK\n",
      "IS MINIMIZED: FAIL\n",
      "Running test Test4\n",
      "HAS PROPERTY: OK\n",
      "IS MINIMIZED: FAIL\n",
      "Running test Test5\n",
      "HAS PROPERTY: OK\n",
      "IS MINIMIZED: FAIL\n",
      "In total 0 tests passed\n"
     ]
    }
   ],
   "source": [
    "tf.run_tests()"
   ]
  },
  {
   "cell_type": "markdown",
   "metadata": {
    "slideshow": {
     "slide_type": "subslide"
    }
   },
   "source": [
    "Unfortunately, our parser failed to minimize all input programs from the public test suite."
   ]
  },
  {
   "cell_type": "markdown",
   "metadata": {
    "slideshow": {
     "slide_type": "slide"
    }
   },
   "source": [
    "## Grading"
   ]
  },
  {
   "cell_type": "markdown",
   "metadata": {
    "slideshow": {
     "slide_type": "fragment"
    }
   },
   "source": [
    "For this project, you can get a total of 30 Points:\n",
    "\n",
    "* 15 Points will be awarded for passing the public test (**without hardcoding the minimized solution or the sequence of transformations**) presented in this notebook.\n",
    "These 15 points mean that you successfully implemented the must-have implementation.\n",
    "* 5 Points will be awarded for passing secret tests.\n",
    "* 10 Points will be awarded for efficient implementation (see may-have implementation)."
   ]
  },
  {
   "cell_type": "markdown",
   "metadata": {
    "slideshow": {
     "slide_type": "subslide"
    }
   },
   "source": [
    "### Must-have Features\n",
    "\n",
    "Implement a reducer which minifies a given program so that its parser still produces an error.\n",
    "To this end, collect all possible transformations over the nodes of an AST tree and then apply one change at a time.\n",
    "These modifications should be repeated until no further updates can be made without triggering a parser exception.\n",
    "If your reducer passes secret test you are awarded additional 5 points.\n",
    "\n",
    "*Note: Implementing the given modifications should be sufficient to successfully complete this project.*"
   ]
  },
  {
   "cell_type": "markdown",
   "metadata": {
    "pycharm": {
     "name": "#%% md\n"
    },
    "slideshow": {
     "slide_type": "subslide"
    }
   },
   "source": [
    "### May-have Features\n",
    "\n",
    "An implementation only of the must-have features aims for correctness but can be inefficient (if transformations are applied one at a time). So, it can be optimized, for instance, with help of the Delta Debugging approach.\n",
    "\n",
    "Implement an AST Delta Debugger which efficiently prunes the nodes.\n",
    "If your reducer can beat the runtime of our reference implementation (which simply collects all possible transformations and applies them randomly one at a time) you can get up to 10 points (depending on the margin).\n",
    "\n",
    "Hint: The [Reducing Failure-Inducing Inputs chapter](https://www.debuggingbook.org/beta/html/DeltaDebugger.html) already tries to optimize the reduction of the AST with help of Delta Debugging.  \n",
    "Hint: For instance, you can find useful _Hierarchical Delta Debugging_ paper from the Background section of **Reducing Failure-Inducing Inputs** Chapter."
   ]
  }
 ],
 "metadata": {
  "ipub": {
   "bibliography": "fuzzingbook.bib"
  },
  "kernelspec": {
   "display_name": "Python 3 (ipykernel)",
   "language": "python",
   "name": "python3"
  },
  "language_info": {
   "codemirror_mode": {
    "name": "ipython",
    "version": 3
   },
   "file_extension": ".py",
   "mimetype": "text/x-python",
   "name": "python",
   "nbconvert_exporter": "python",
   "pygments_lexer": "ipython3",
   "version": "3.9.7"
  },
  "toc": {
   "base_numbering": 1,
   "nav_menu": {},
   "number_sections": true,
   "sideBar": true,
   "skip_h1_title": true,
   "title_cell": "",
   "title_sidebar": "Contents",
   "toc_cell": false,
   "toc_position": {},
   "toc_section_display": true,
   "toc_window_display": true
  },
  "toc-autonumbering": false
 },
 "nbformat": 4,
 "nbformat_minor": 4
}
