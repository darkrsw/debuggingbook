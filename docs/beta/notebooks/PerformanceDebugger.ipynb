{
 "cells": [
  {
   "cell_type": "markdown",
   "metadata": {
    "button": false,
    "new_sheet": false,
    "run_control": {
     "read_only": false
    },
    "slideshow": {
     "slide_type": "slide"
    }
   },
   "source": [
    "# Debugging Performance Issues\n",
    "\n",
    "Most chapters of this book deal with _functional_ issues – that is, issues related to the _functionality_ (or its absence) of the code in question. However, debugging can also involve _nonfunctional_ issues, however – performance, usability, reliability, and more. In this chapter, we give a short introduction on how to debug such nonfunctional issues, notably _performance_ issues."
   ]
  },
  {
   "cell_type": "code",
   "execution_count": 1,
   "metadata": {
    "execution": {
     "iopub.execute_input": "2021-10-13T11:34:34.619345Z",
     "iopub.status.busy": "2021-10-13T11:34:34.618645Z",
     "iopub.status.idle": "2021-10-13T11:34:34.707049Z",
     "shell.execute_reply": "2021-10-13T11:34:34.707483Z"
    },
    "slideshow": {
     "slide_type": "skip"
    }
   },
   "outputs": [
    {
     "data": {
      "text/html": [
       "\n",
       "        <iframe\n",
       "            width=\"640\"\n",
       "            height=\"360\"\n",
       "            src=\"https://www.youtube-nocookie.com/embed/0tMeB9G0uUI\"\n",
       "            frameborder=\"0\"\n",
       "            allowfullscreen\n",
       "            \n",
       "        ></iframe>\n",
       "        "
      ],
      "text/plain": [
       "<IPython.lib.display.IFrame at 0x1096568b0>"
      ]
     },
     "execution_count": 1,
     "metadata": {},
     "output_type": "execute_result"
    }
   ],
   "source": [
    "from bookutils import YouTubeVideo\n",
    "YouTubeVideo(\"0tMeB9G0uUI\")"
   ]
  },
  {
   "cell_type": "markdown",
   "metadata": {
    "button": false,
    "new_sheet": false,
    "run_control": {
     "read_only": false
    },
    "slideshow": {
     "slide_type": "subslide"
    }
   },
   "source": [
    "**Prerequisites**\n",
    "\n",
    "* This chapter leverages visualization capabilities from [the chapter on statistical debugging](StatisticalDebugger.ipynb)\n",
    "* We also show how to debug nonfunctional issues using [delta debugging](DeltaDebugger.ipynb)."
   ]
  },
  {
   "cell_type": "code",
   "execution_count": 2,
   "metadata": {
    "button": false,
    "execution": {
     "iopub.execute_input": "2021-10-13T11:34:34.711055Z",
     "iopub.status.busy": "2021-10-13T11:34:34.710527Z",
     "iopub.status.idle": "2021-10-13T11:34:34.712240Z",
     "shell.execute_reply": "2021-10-13T11:34:34.712615Z"
    },
    "new_sheet": false,
    "run_control": {
     "read_only": false
    },
    "slideshow": {
     "slide_type": "skip"
    }
   },
   "outputs": [],
   "source": [
    "import bookutils"
   ]
  },
  {
   "cell_type": "code",
   "execution_count": 3,
   "metadata": {
    "execution": {
     "iopub.execute_input": "2021-10-13T11:34:34.715580Z",
     "iopub.status.busy": "2021-10-13T11:34:34.715050Z",
     "iopub.status.idle": "2021-10-13T11:34:37.148103Z",
     "shell.execute_reply": "2021-10-13T11:34:37.148515Z"
    },
    "slideshow": {
     "slide_type": "skip"
    }
   },
   "outputs": [],
   "source": [
    "import StatisticalDebugger\n",
    "import DeltaDebugger"
   ]
  },
  {
   "cell_type": "markdown",
   "metadata": {
    "slideshow": {
     "slide_type": "skip"
    }
   },
   "source": [
    "## Synopsis\n",
    "<!-- Automatically generated. Do not edit. -->\n",
    "\n",
    "To [use the code provided in this chapter](Importing.ipynb), write\n",
    "\n",
    "```python\n",
    ">>> from debuggingbook.PerformanceDebugger import <identifier>\n",
    "```\n",
    "\n",
    "and then make use of the following features.\n",
    "\n",
    "\n",
    "This chapter provides a class `PerformanceDebugger` that allows to measure and visualize the time taken per line in a function.\n",
    "\n",
    "```python\n",
    ">>> with PerformanceDebugger(TimeCollector) as debugger:\n",
    ">>>     for i in range(100):\n",
    ">>>         s = remove_html_markup('<b>foo</b>')\n",
    "```\n",
    "The distribution of executed time within each function can be obtained by printing out the debugger:\n",
    "\n",
    "```python\n",
    ">>> print(debugger)\n",
    " 238   2% def remove_html_markup(s):  # type: ignore\n",
    " 239   2%     tag = False\n",
    " 240   1%     quote = False\n",
    " 241   1%     out = \"\"\n",
    " 242   0%\n",
    " 243  16%     for c in s:\n",
    " 244  15%         assert tag or not quote\n",
    " 245   0%\n",
    " 246  14%         if c == '<' and not quote:\n",
    " 247   3%             tag = True\n",
    " 248  11%         elif c == '>' and not quote:\n",
    " 249   2%             tag = False\n",
    " 250   9%         elif (c == '\"' or c == \"'\") and tag:\n",
    " 251   0%             quote = not quote\n",
    " 252   8%         elif not tag:\n",
    " 253   5%             out = out + c\n",
    " 254   0%\n",
    " 255   3%     return out\n",
    "\n",
    "\n",
    "```\n",
    "The sum of all percentages in a function should always be 100%.\n",
    "\n",
    "These percentages can also be visualized, where darker shades represent higher percentage values:\n",
    "\n",
    "```python\n",
    ">>> debugger\n",
    "```\n",
    "<pre style=\"background-color:hsl(240, 100%, 95.78026023054649%)\"\n",
    "                    title=\"Line 238:   2% 0.0006976169997869874\"> 238 def remove_html_markup(s):  # type: ignore</pre>\n",
    "<pre style=\"background-color:hsl(240, 100%, 96.78878733221079%)\"\n",
    "                    title=\"Line 239:   2% 0.000530884999875525\"> 239     tag = False</pre>\n",
    "<pre style=\"background-color:hsl(240, 100%, 97.18175916676637%)\"\n",
    "                    title=\"Line 240:   1% 0.0004659180002022367\"> 240     quote = False</pre>\n",
    "<pre style=\"background-color:hsl(240, 100%, 97.12444687044336%)\"\n",
    "                    title=\"Line 241:   1% 0.0004753929997036721\"> 241     out = &quot;&quot;</pre>\n",
    "<pre style=\"background-color:hsl(240, 100%, 100.0%)\"\n",
    "                    title=\"Line 242:   0% 0.0\"> 242 &nbsp;</pre>\n",
    "<pre style=\"background-color:hsl(240, 100%, 75.0%)\"\n",
    "                    title=\"Line 243:  16% 0.004133057000558438\"> 243     for c in s:</pre>\n",
    "<pre style=\"background-color:hsl(240, 100%, 76.80293908763792%)\"\n",
    "                    title=\"Line 244:  15% 0.003834990999848742\"> 244         assert tag or not quote</pre>\n",
    "<pre style=\"background-color:hsl(240, 100%, 100.0%)\"\n",
    "                    title=\"Line 245:   0% 0.0\"> 245 &nbsp;</pre>\n",
    "<pre style=\"background-color:hsl(240, 100%, 77.1940297483367%)\"\n",
    "                    title=\"Line 246:  14% 0.003770335000126579\"> 246         if c == &#x27;&lt;&#x27; and not quote:</pre>\n",
    "<pre style=\"background-color:hsl(240, 100%, 95.15091372097288%)\"\n",
    "                    title=\"Line 247:   3% 0.0008016619996737973\"> 247             tag = True</pre>\n",
    "<pre style=\"background-color:hsl(240, 100%, 82.48019565506868%)\"\n",
    "                    title=\"Line 248:  11% 0.002896413999849301\"> 248         elif c == &#x27;&gt;&#x27; and not quote:</pre>\n",
    "<pre style=\"background-color:hsl(240, 100%, 95.57742005297725%)\"\n",
    "                    title=\"Line 249:   2% 0.0007311510004228694\"> 249             tag = False</pre>\n",
    "<pre style=\"background-color:hsl(240, 100%, 84.88223728770139%)\"\n",
    "                    title=\"Line 250:   9% 0.0024993030004338834\"> 250         elif (c == &#x27;&quot;&#x27; or c == &quot;&#x27;&quot;) and tag:</pre>\n",
    "<pre style=\"background-color:hsl(240, 100%, 100.0%)\"\n",
    "                    title=\"Line 251:   0% 0.0\"> 251             quote = not quote</pre>\n",
    "<pre style=\"background-color:hsl(240, 100%, 86.76142139440809%)\"\n",
    "                    title=\"Line 252:   8% 0.002188631999331392\"> 252         elif not tag:</pre>\n",
    "<pre style=\"background-color:hsl(240, 100%, 91.76651205148693%)\"\n",
    "                    title=\"Line 253:   5% 0.0013611790001846202\"> 253             out = out + c</pre>\n",
    "<pre style=\"background-color:hsl(240, 100%, 100.0%)\"\n",
    "                    title=\"Line 254:   0% 0.0\"> 254 &nbsp;</pre>\n",
    "<pre style=\"background-color:hsl(240, 100%, 95.43733609251383%)\"\n",
    "                    title=\"Line 255:   3% 0.0007543100001612402\"> 255     return out</pre>\n",
    "\n",
    "\n",
    "The abstract `MetricCollector` class allows subclassing to build more collectors, such as `HitCollector`.\n",
    "\n",
    "![](PICS/PerformanceDebugger-synopsis-1.svg)\n",
    "\n"
   ]
  },
  {
   "cell_type": "markdown",
   "metadata": {
    "slideshow": {
     "slide_type": "slide"
    }
   },
   "source": [
    "## Measuring Performance\n",
    "\n",
    "The solution to debugging performance issues fits in two simple rules:\n",
    "\n",
    "1. _Measure_ performance\n",
    "2. _Break down_ how individual parts of your code contribute to performance.\n",
    "\n",
    "The first part, actually _measuring_ performance, is key here. Developers often take elaborated guesses on which aspects of their code impact performance, and think about all possible ways to optimize their code – and at the same time, making it harder to understand, harder to evolve, and harder to maintain. In most cases, such guesses are wrong. Instead, _measure_ performance of your program, _identify_ the very few parts that may need to get improved, and again _measure_ the impact of your changes."
   ]
  },
  {
   "cell_type": "markdown",
   "metadata": {
    "slideshow": {
     "slide_type": "subslide"
    }
   },
   "source": [
    "Almost all programming languages offer a way to measure performance and breaking it down to individual parts of the code – a means also known as *profiling*. Profiling works by measuring the execution time for each function (or even more fine-grained location) in your program. This can be achieved by\n",
    "\n",
    "1. _Instrumenting_ or _tracing_ code such that the current time at entry and exit of each function (or line), thus determining the time spent. In Python, this is achieved by profilers like [profile or cProfile](https://docs.python.org/3/library/profile.html)\n",
    "\n",
    "2. _Sampling_ the current function call stack at regular intervals, and thus assessing which functions are most active (= take the most time) during execution. For Python, the [scalene](https://github.com/plasma-umass/scalene) profiler works this way.\n",
    "\n",
    "Pretty much all programming languages support profiling, either through measuring, sampling, or both. As a rule of thumb, _interpreted_ languages more frequently support measuring (as it is easy to implement in an interpreter), while _compiled_ languages more frequently support sampling (because instrumentation requires recompilation). Python is lucky to support both methods."
   ]
  },
  {
   "cell_type": "markdown",
   "metadata": {
    "slideshow": {
     "slide_type": "subslide"
    }
   },
   "source": [
    "### Tracing Execution Profiles\n",
    "\n",
    "Let us illustrate profiling in a simple example. The `ChangeCounter` class (which we will encounter in the [chapter on mining version histories](ChangeCounter.ipynb) reads in a version history from a git repository. Yet, it takes more than a minute to read in the debugging book change history:"
   ]
  },
  {
   "cell_type": "code",
   "execution_count": 4,
   "metadata": {
    "execution": {
     "iopub.execute_input": "2021-10-13T11:34:37.152889Z",
     "iopub.status.busy": "2021-10-13T11:34:37.152301Z",
     "iopub.status.idle": "2021-10-13T11:34:38.359631Z",
     "shell.execute_reply": "2021-10-13T11:34:38.360029Z"
    },
    "slideshow": {
     "slide_type": "skip"
    }
   },
   "outputs": [],
   "source": [
    "from ChangeCounter import ChangeCounter, debuggingbook_change_counter  # minor dependency"
   ]
  },
  {
   "cell_type": "code",
   "execution_count": 5,
   "metadata": {
    "execution": {
     "iopub.execute_input": "2021-10-13T11:34:38.363661Z",
     "iopub.status.busy": "2021-10-13T11:34:38.363147Z",
     "iopub.status.idle": "2021-10-13T11:34:38.365124Z",
     "shell.execute_reply": "2021-10-13T11:34:38.365487Z"
    },
    "slideshow": {
     "slide_type": "skip"
    }
   },
   "outputs": [],
   "source": [
    "import Timer"
   ]
  },
  {
   "cell_type": "code",
   "execution_count": 6,
   "metadata": {
    "execution": {
     "iopub.execute_input": "2021-10-13T11:34:38.368925Z",
     "iopub.status.busy": "2021-10-13T11:34:38.368413Z",
     "iopub.status.idle": "2021-10-13T11:37:21.229896Z",
     "shell.execute_reply": "2021-10-13T11:37:21.232140Z"
    },
    "slideshow": {
     "slide_type": "fragment"
    }
   },
   "outputs": [],
   "source": [
    "with Timer.Timer() as t:\n",
    "    change_counter = debuggingbook_change_counter(ChangeCounter)"
   ]
  },
  {
   "cell_type": "code",
   "execution_count": 7,
   "metadata": {
    "execution": {
     "iopub.execute_input": "2021-10-13T11:37:21.246153Z",
     "iopub.status.busy": "2021-10-13T11:37:21.245472Z",
     "iopub.status.idle": "2021-10-13T11:37:21.251273Z",
     "shell.execute_reply": "2021-10-13T11:37:21.251666Z"
    },
    "slideshow": {
     "slide_type": "fragment"
    }
   },
   "outputs": [
    {
     "data": {
      "text/plain": [
       "162.832078241"
      ]
     },
     "execution_count": 7,
     "metadata": {},
     "output_type": "execute_result"
    }
   ],
   "source": [
    "t.elapsed_time()"
   ]
  },
  {
   "cell_type": "markdown",
   "metadata": {
    "slideshow": {
     "slide_type": "subslide"
    }
   },
   "source": [
    "The Python `profile` and `cProfile` modules offer a simple way to identify the most time-consuming functions. They are invoked using the `run()` function, whose argument is the command to be profiled. The output reports, for each function encountered:\n",
    "\n",
    "* How often it was called (`ncalls` column)\n",
    "* How much time was spent in the given function, _excluding_ time spent in calls to sub-functions (`tottime` column)\n",
    "* The fraction of `tottime` / `ncalls` (first `percall` column)\n",
    "* How much time was spent in the given function, _including_ time spent in calls to sub-functions (`cumtime` column)\n",
    "* The fraction of `cumtime` / `percall` (second `percall` column)\n",
    "\n",
    "Let us have a look at the profile we obtain:"
   ]
  },
  {
   "cell_type": "code",
   "execution_count": 8,
   "metadata": {
    "execution": {
     "iopub.execute_input": "2021-10-13T11:37:21.256401Z",
     "iopub.status.busy": "2021-10-13T11:37:21.255760Z",
     "iopub.status.idle": "2021-10-13T11:37:21.257961Z",
     "shell.execute_reply": "2021-10-13T11:37:21.258816Z"
    },
    "slideshow": {
     "slide_type": "skip"
    }
   },
   "outputs": [],
   "source": [
    "import cProfile"
   ]
  },
  {
   "cell_type": "code",
   "execution_count": 9,
   "metadata": {
    "execution": {
     "iopub.execute_input": "2021-10-13T11:37:21.263601Z",
     "iopub.status.busy": "2021-10-13T11:37:21.263063Z",
     "iopub.status.idle": "2021-10-13T11:40:08.377224Z",
     "shell.execute_reply": "2021-10-13T11:40:08.377706Z"
    },
    "slideshow": {
     "slide_type": "subslide"
    }
   },
   "outputs": [
    {
     "name": "stdout",
     "output_type": "stream",
     "text": [
      "         11961583 function calls (11875367 primitive calls) in 166.682 seconds\n",
      "\n",
      "   Ordered by: cumulative time\n",
      "\n",
      "   ncalls  tottime  percall  cumtime  percall filename:lineno(function)\n",
      "        1    0.000    0.000  166.682  166.682 {built-in method builtins.exec}\n",
      "        1    0.000    0.000  166.682  166.682 <string>:1(<module>)\n",
      "        1    0.000    0.000  166.681  166.681 ChangeCounter.ipynb:165(debuggingbook_change_counter)\n",
      "        1    0.000    0.000  166.681  166.681 ChangeCounter.ipynb:51(__init__)\n",
      "        1    1.770    1.770  166.681  166.681 ChangeCounter.ipynb:88(mine)\n",
      "      797    0.038    0.000  164.488    0.206 ChangeCounter.ipynb:99(mine_commit)\n",
      "      797    0.197    0.000  164.200    0.206 commit.py:657(modified_files)\n",
      "      797    0.037    0.000  164.003    0.206 commit.py:673(_get_modifications)\n",
      "      764    0.403    0.001   91.209    0.119 diff.py:95(diff)\n",
      "      764    9.761    0.013   78.915    0.103 diff.py:445(_index_from_patch_format)\n",
      "      797    0.097    0.000   72.626    0.091 commit.py:707(_parse_diff)\n",
      "    14722    0.564    0.000   71.031    0.005 commit.py:736(_get_decoded_sc_str)\n",
      "      764    0.117    0.000   51.624    0.068 cmd.py:71(handle_process_output)\n",
      "     7670   50.909    0.007   50.909    0.007 {method 'acquire' of '_thread.lock' objects}\n",
      "     1530    0.018    0.000   50.806    0.033 threading.py:1021(join)\n",
      "     1530    0.013    0.000   50.785    0.033 threading.py:1059(_wait_for_tstate_lock)\n",
      "   599232   49.458    0.000   49.458    0.000 {method 'decode' of 'bytes' objects}\n",
      "    47437    0.132    0.000   20.814    0.000 cmd.py:528(read)\n",
      "    94852   20.671    0.000   20.671    0.000 {method 'read' of '_io.BufferedReader' objects}\n",
      "    39976    0.035    0.000   20.667    0.001 base.py:137(read)\n",
      "     7361    0.158    0.000   16.351    0.002 diff.py:290(__init__)\n",
      "     6664    0.016    0.000   15.928    0.002 base.py:363(submodules)\n",
      "     6664    0.049    0.000   15.911    0.002 util.py:1092(list_items)\n",
      "15116/15113    0.035    0.000   15.847    0.001 {method 'extend' of 'list' objects}\n",
      "    19992    0.205    0.000   15.811    0.001 base.py:1228(iter_items)\n",
      "      779    0.337    0.000   12.172    0.016 cmd.py:1114(_call_process)\n",
      "      765    0.071    0.000   11.879    0.016 cmd.py:638(<lambda>)\n",
      "      779    0.376    0.000   11.810    0.015 cmd.py:726(execute)\n",
      "      779    0.182    0.000   11.001    0.014 subprocess.py:756(__init__)\n",
      "      779    0.227    0.000   10.774    0.014 subprocess.py:1661(_execute_child)\n",
      "      779    8.134    0.010    8.134    0.010 {built-in method _posixsubprocess.fork_exec}\n",
      "    74093    0.523    0.000    6.137    0.000 cmd.py:1235(__get_object_header)\n",
      "    34881    0.075    0.000    5.483    0.000 util.py:248(__getattr__)\n",
      "    19992    0.036    0.000    5.374    0.000 base.py:527(commit)\n",
      "    47437    0.170    0.000    4.983    0.000 db.py:46(stream)\n",
      "    19992    0.025    0.000    4.723    0.000 symbolic.py:212(_get_commit)\n",
      "    19992    0.045    0.000    4.698    0.000 symbolic.py:203(_get_object)\n",
      "    47437    0.255    0.000    4.677    0.000 cmd.py:1263(stream_object_data)\n",
      "   122011    4.665    0.000    4.666    0.000 {method 'readline' of '_io.BufferedReader' objects}\n",
      "46648/13328    0.056    0.000    4.203    0.000 tree.py:347(__getitem__)\n",
      "46648/13328    0.193    0.000    4.172    0.000 tree.py:245(join)\n",
      "    26656    0.069    0.000    3.649    0.000 tree.py:224(_set_cache_)\n",
      "    26656    0.050    0.000    3.646    0.000 symbolic.py:143(dereference_recursive)\n",
      "    53313    0.127    0.000    3.597    0.000 symbolic.py:196(_get_ref_info)\n",
      "    53313    0.328    0.000    3.469    0.000 symbolic.py:156(_get_ref_info_helper)\n",
      "    26656    0.131    0.000    2.873    0.000 base.py:75(new_from_sha)\n",
      "     6664    0.070    0.000    2.798    0.000 base.py:196(_config_parser)\n",
      "    26656    0.090    0.000    2.440    0.000 db.py:42(info)\n",
      "    26656    0.045    0.000    2.278    0.000 cmd.py:1243(get_object_header)\n",
      "    61651    2.026    0.000    2.104    0.000 {built-in method io.open}\n",
      "     6664    0.093    0.000    2.067    0.000 fun.py:191(rev_parse)\n",
      "     6664    0.062    0.000    1.965    0.000 fun.py:121(name_to_object)\n",
      "      779    1.877    0.002    1.877    0.002 {built-in method posix.read}\n",
      "    13320    0.026    0.000    1.762    0.000 base.py:129(data_stream)\n",
      "     8225    0.043    0.000    1.746    0.000 commit.py:196(_set_cache_)\n",
      "53394/46675    0.102    0.000    1.526    0.000 config.py:104(assure_data_present)\n",
      "     6664    0.037    0.000    1.166    0.000 util.py:72(__init__)\n",
      "53394/46704    0.083    0.000    1.163    0.000 config.py:543(read)\n",
      "     6690    0.063    0.000    1.133    0.000 config.py:281(__init__)\n",
      "      764    1.080    0.001    1.080    0.001 {method 'join' of 'bytes' objects}\n",
      "     6690    0.081    0.000    1.066    0.000 configparser.py:601(__init__)\n",
      "    26656    0.687    0.000    0.955    0.000 fun.py:59(tree_entries_from_data)\n",
      "     7361    0.007    0.000    0.851    0.000 commit.py:726(_get_decoded_str)\n",
      "     6690    0.205    0.000    0.829    0.000 configparser.py:1320(__init__)\n",
      "     6690    0.297    0.000    0.754    0.000 config.py:391(_read)\n",
      "     7361    0.083    0.000    0.581    0.000 commit.py:153(__init__)\n",
      "    13550    0.046    0.000    0.499    0.000 pathlib.py:1079(__new__)\n",
      "     7461    0.125    0.000    0.457    0.000 commit.py:525(_deserialize)\n",
      "    53361    0.343    0.000    0.454    0.000 {method 'read' of '_io.TextIOWrapper' objects}\n",
      "    13552    0.034    0.000    0.447    0.000 pathlib.py:702(_from_parts)\n",
      "     6690    0.434    0.000    0.434    0.000 {built-in method builtins.dir}\n",
      "    74093    0.039    0.000    0.429    0.000 cmd.py:1221(_get_persistent_cmd)\n",
      "    60054    0.426    0.000    0.426    0.000 {method '__exit__' of '_io._IOBase' objects}\n",
      "      798    0.003    0.000    0.423    0.001 repository.py:201(traverse_commits)\n",
      "    13552    0.057    0.000    0.406    0.000 pathlib.py:682(_parse_args)\n",
      "     8158    0.006    0.000    0.374    0.000 commit.py:564(committer_date)\n",
      "     8158    0.007    0.000    0.368    0.000 commit.py:209(committed_datetime)\n",
      "    13552    0.086    0.000    0.335    0.000 pathlib.py:64(parse_parts)\n",
      "    74093    0.330    0.000    0.331    0.000 {method 'flush' of '_io.BufferedWriter' objects}\n",
      "     1530    0.081    0.000    0.326    0.000 threading.py:795(__init__)\n",
      "   917078    0.323    0.000    0.323    0.000 {method 'match' of 're.Pattern' objects}\n",
      "      801    0.028    0.000    0.309    0.000 repository.py:236(_iter_commits)\n",
      "    76685    0.191    0.000    0.296    0.000 posixpath.py:71(join)\n",
      "     1530    0.013    0.000    0.295    0.000 threading.py:873(start)\n",
      "      779    0.044    0.000    0.264    0.000 os.py:711(copy)\n",
      "    74093    0.192    0.000    0.264    0.000 cmd.py:1185(_parse_object_header)\n",
      "    74093    0.150    0.000    0.257    0.000 cmd.py:1207(_prepare_ref)\n",
      "   465341    0.165    0.000    0.247    0.000 cmd.py:466(__getattr__)\n",
      "    26681    0.054    0.000    0.231    0.000 configparser.py:765(get)\n",
      "   226576    0.125    0.000    0.227    0.000 compat.py:49(safe_decode)\n",
      "     1531    0.031    0.000    0.225    0.000 threading.py:556(wait)\n",
      "   121986    0.220    0.000    0.220    0.000 {method 'split' of 'str' objects}\n",
      "    14922    0.046    0.000    0.213    0.000 util.py:268(parse_actor_and_date)\n",
      "      779    0.064    0.000    0.197    0.000 subprocess.py:1207(_close_pipe_fds)\n",
      "    26656    0.106    0.000    0.189    0.000 util.py:85(get_object_type_by_name)\n",
      "    13548    0.122    0.000    0.183    0.000 util.py:69(mode_str_to_int)\n",
      "    74222    0.183    0.000    0.183    0.000 {method 'write' of '_io.BufferedWriter' objects}\n",
      "     1530    0.020    0.000    0.176    0.000 threading.py:280(wait)\n",
      "  1019802    0.152    0.000    0.157    0.000 {built-in method builtins.isinstance}\n",
      "    54101    0.069    0.000    0.152    0.000 base.py:153(__init__)\n",
      "      789    0.119    0.000    0.149    0.000 cmd.py:463(__del__)\n",
      "   607911    0.141    0.000    0.141    0.000 {built-in method builtins.getattr}\n",
      "     6690    0.101    0.000    0.140    0.000 configparser.py:1243(__init__)\n",
      "    27453    0.044    0.000    0.135    0.000 tree.py:214(__init__)\n",
      "    89048    0.120    0.000    0.134    0.000 base.py:50(__init__)\n",
      "     1530    0.013    0.000    0.134    0.000 _weakrefset.py:86(add)\n",
      "    63903    0.059    0.000    0.130    0.000 os.py:674(__getitem__)\n",
      "      779    0.026    0.000    0.126    0.000 util.py:412(remove_password_if_present)\n",
      "   148010    0.069    0.000    0.122    0.000 os.py:804(fsencode)\n",
      "     8158    0.030    0.000    0.122    0.000 util.py:167(from_timestamp)\n",
      "    46672    0.092    0.000    0.121    0.000 util.py:163(join_path)\n",
      "     2311    0.121    0.000    0.121    0.000 {method 'add' of 'set' objects}\n",
      "      779    0.037    0.000    0.118    0.000 os.py:619(get_exec_path)\n",
      "    34947    0.063    0.000    0.115    0.000 commit.py:84(__init__)\n",
      "    13328    0.019    0.000    0.112    0.000 base.py:335(index)\n",
      "    53361    0.076    0.000    0.111    0.000 codecs.py:319(decode)\n",
      "    43311    0.107    0.000    0.107    0.000 {method 'search' of 're.Pattern' objects}\n",
      "    26681    0.052    0.000    0.099    0.000 configparser.py:1142(_unify_values)\n",
      "     1572    0.056    0.000    0.094    0.000 contextlib.py:452(callback)\n",
      "    13328    0.021    0.000    0.093    0.000 base.py:117(__init__)\n",
      "    64657    0.017    0.000    0.088    0.000 _collections_abc.py:825(__iter__)\n",
      "      798    0.000    0.000    0.086    0.000 git.py:106(get_list_commits)\n",
      "     7688    0.045    0.000    0.085    0.000 parse.py:437(urlsplit)\n",
      "     6693    0.010    0.000    0.083    0.000 config.py:489(_has_includes)\n",
      "      798    0.001    0.000    0.079    0.000 commit.py:318(_iter_from_process_or_stream)\n",
      "    53361    0.053    0.000    0.078    0.000 codecs.py:309(__init__)\n",
      "    53313    0.061    0.000    0.076    0.000 symbolic.py:43(_git_dir)\n",
      "   422633    0.075    0.000    0.075    0.000 {built-in method builtins.len}\n",
      "     1531    0.007    0.000    0.074    0.000 threading.py:521(__init__)\n",
      "     6690    0.027    0.000    0.072    0.000 config.py:492(_included_paths)\n",
      "    13328    0.015    0.000    0.071    0.000 base.py:157(_index_path)\n",
      "    26681    0.048    0.000    0.070    0.000 __init__.py:935(__getitem__)\n",
      "    64657    0.042    0.000    0.070    0.000 os.py:697(__iter__)\n",
      "    51769    0.068    0.000    0.068    0.000 {built-in method sys.intern}\n",
      "    47017    0.068    0.000    0.068    0.000 config.py:180(__setitem__)\n",
      "    14722    0.011    0.000    0.067    0.000 diff.py:432(_pick_best_path)\n",
      "   286135    0.066    0.000    0.066    0.000 {method 'encode' of 'str' objects}\n",
      "     1529    0.026    0.000    0.066    0.000 cmd.py:470(wait)\n",
      "    19993    0.031    0.000    0.066    0.000 base.py:342(head)\n",
      "      765    0.006    0.000    0.064    0.000 util.py:383(finalize_process)\n",
      "    17138    0.013    0.000    0.064    0.000 subprocess.py:1749(<genexpr>)\n",
      "   167771    0.062    0.000    0.062    0.000 {method 'endswith' of 'str' objects}\n",
      "    66736    0.051    0.000    0.061    0.000 config.py:192(__getitem__)\n",
      "    47437    0.035    0.000    0.060    0.000 base.py:128(__new__)\n",
      "    14922    0.020    0.000    0.060    0.000 util.py:665(_from_string)\n",
      "   127756    0.032    0.000    0.059    0.000 os.py:758(decode)\n",
      "     1530    0.057    0.000    0.057    0.000 {built-in method _thread.start_new_thread}\n",
      "    13352    0.014    0.000    0.057    0.000 util.py:200(join_path_native)\n",
      "   404437    0.056    0.000    0.056    0.000 {method 'append' of 'list' objects}\n",
      "   136640    0.056    0.000    0.056    0.000 {method 'startswith' of 'str' objects}\n",
      "    13328    0.024    0.000    0.056    0.000 base.py:114(__init__)\n",
      "     1537    0.008    0.000    0.056    0.000 subprocess.py:1184(wait)\n",
      "    14722    0.036    0.000    0.056    0.000 diff.py:54(decode_path)\n",
      "     7361    0.006    0.000    0.053    0.000 ChangeCounter.ipynb:109(include)\n",
      "      779    0.053    0.000    0.053    0.000 warnings.py:458(__enter__)\n",
      "    81288    0.052    0.000    0.052    0.000 typing.py:269(inner)\n",
      "      480    0.006    0.000    0.051    0.000 ChangeCounter.ipynb:118(update_stats)\n",
      "     1536    0.051    0.000    0.051    0.000 threading.py:228(__init__)\n",
      "    89048    0.051    0.000    0.051    0.000 {method 'split' of 'bytes' objects}\n",
      "    13328    0.040    0.000    0.050    0.000 symbolic.py:439(to_full_path)\n",
      "    95669    0.048    0.000    0.048    0.000 {built-in method __new__ of type object at 0x106ba83c8}\n",
      "     7361    0.026    0.000    0.048    0.000 commit.py:907(_from_change_to_modification_type)\n",
      "   129821    0.048    0.000    0.048    0.000 {built-in method binascii.a2b_hex}\n",
      "     1537    0.020    0.000    0.048    0.000 subprocess.py:1885(_wait)\n",
      "     7361    0.009    0.000    0.047    0.000 ChangeCounter.ipynb:173(filter)\n",
      "    78414    0.028    0.000    0.047    0.000 posixpath.py:41(_get_sep)\n",
      "    26657    0.031    0.000    0.044    0.000 <frozen importlib._bootstrap>:398(parent)\n",
      "     8158    0.038    0.000    0.042    0.000 {built-in method fromtimestamp}\n",
      "    63903    0.025    0.000    0.041    0.000 os.py:754(encode)\n",
      "    78716    0.040    0.000    0.040    0.000 {built-in method binascii.b2a_hex}\n",
      "    26988    0.039    0.000    0.039    0.000 config.py:183(add)\n",
      "      480    0.039    0.000    0.039    0.000 ChangeCounter.ipynb:134(update_size)\n",
      "    26657    0.027    0.000    0.039    0.000 <frozen importlib._bootstrap>:1033(_handle_fromlist)\n",
      "    26656    0.023    0.000    0.036    0.000 base.py:35(__new__)\n",
      "    18341    0.014    0.000    0.036    0.000 commit.py:227(new_path)\n",
      "    19994    0.028    0.000    0.035    0.000 head.py:38(__init__)\n",
      "    53361    0.035    0.000    0.035    0.000 {built-in method _codecs.utf_8_decode}\n",
      "    13328    0.023    0.000    0.034    0.000 configparser.py:877(has_option)\n",
      "    47437    0.033    0.000    0.033    0.000 cmd.py:517(__init__)\n",
      "       50    0.002    0.000    0.032    0.001 base.py:108(__init__)\n",
      "       24    0.000    0.000    0.031    0.001 util.py:98(wrapper)\n",
      "       24    0.000    0.000    0.031    0.001 base.py:1103(module)\n",
      "   240452    0.031    0.000    0.031    0.000 {built-in method posix.fspath}\n",
      "    73880    0.030    0.000    0.030    0.000 {method 'group' of 're.Match' objects}\n",
      "    47437    0.029    0.000    0.029    0.000 base.py:132(__init__)\n",
      "      779    0.028    0.000    0.028    0.000 cmd.py:416(__init__)\n",
      "    67525    0.023    0.000    0.028    0.000 {built-in method builtins.hasattr}\n",
      "      789    0.004    0.000    0.028    0.000 cmd.py:421(_terminate)\n",
      "     8158    0.027    0.000    0.027    0.000 util.py:147(__init__)\n",
      "    14922    0.026    0.000    0.026    0.000 util.py:110(utctz_to_altz)\n",
      "     3843    0.026    0.000    0.026    0.000 {built-in method _thread.allocate_lock}\n",
      "      779    0.017    0.000    0.025    0.000 contextlib.py:489(__exit__)\n",
      "      773    0.002    0.000    0.025    0.000 subprocess.py:1872(_try_wait)\n",
      "    53361    0.025    0.000    0.025    0.000 codecs.py:260(__init__)\n",
      "   141979    0.025    0.000    0.025    0.000 {method 'strip' of 'str' objects}\n",
      "     8158    0.019    0.000    0.023    0.000 {method 'astimezone' of 'datetime.datetime' objects}\n",
      "    72725    0.023    0.000    0.023    0.000 {method 'startswith' of 'bytes' objects}\n",
      "      793    0.023    0.000    0.023    0.000 {built-in method posix.waitpid}\n",
      "     1572    0.018    0.000    0.023    0.000 contextlib.py:470(_push_exit_callback)\n",
      "    13354    0.019    0.000    0.023    0.000 configparser.py:644(sections)\n",
      "    19287    0.015    0.000    0.023    0.000 base.py:105(__ne__)\n",
      "       23    0.000    0.000    0.022    0.001 cmd.py:1273(clear_cache)\n",
      "        2    0.000    0.000    0.022    0.011 {built-in method builtins.next}\n",
      "        2    0.000    0.000    0.022    0.011 repository.py:166(_prep_repo)\n",
      "    80397    0.022    0.000    0.022    0.000 {method 'rstrip' of 'str' objects}\n",
      "    17868    0.015    0.000    0.021    0.000 pathlib.py:742(__str__)\n",
      "    37205    0.021    0.000    0.021    0.000 {method 'groups' of 're.Match' objects}\n",
      "    13283    0.021    0.000    0.021    0.000 {method 'get' of 'dict' objects}\n",
      "    47437    0.020    0.000    0.020    0.000 cmd.py:604(__del__)\n",
      "       12    0.000    0.000    0.020    0.002 base.py:1121(module_exists)\n",
      "      797    0.014    0.000    0.018    0.000 conf.py:257(is_commit_filtered)\n",
      "     1530    0.018    0.000    0.018    0.000 threading.py:1209(_make_invoke_excepthook)\n",
      "        1    0.000    0.000    0.018    0.018 contextlib.py:123(__exit__)\n",
      "        2    0.000    0.000    0.017    0.009 git.py:73(clear)\n",
      "     7361    0.013    0.000    0.017    0.000 commit.py:526(committer)\n",
      "    13870    0.013    0.000    0.017    0.000 diff.py:403(a_path)\n",
      "    14922    0.017    0.000    0.017    0.000 util.py:646(__init__)\n",
      "    26681    0.016    0.000    0.016    0.000 __init__.py:925(__init__)\n",
      " 6894/779    0.010    0.000    0.016    0.000 cmd.py:1069(__unpack_args)\n",
      "    13328    0.013    0.000    0.016    0.000 util.py:34(sm_name)\n",
      "    26681    0.015    0.000    0.015    0.000 base.py:296(common_dir)\n",
      "     1544    0.012    0.000    0.015    0.000 threading.py:256(__enter__)\n",
      "      779    0.005    0.000    0.015    0.000 subprocess.py:1568(_get_handles)\n",
      "    34345    0.014    0.000    0.014    0.000 {method 'rpartition' of 'str' objects}\n",
      "    26656    0.014    0.000    0.014    0.000 base.py:38(__init__)\n",
      "     2351    0.014    0.000    0.014    0.000 {built-in method posix.pipe}\n",
      "     1572    0.014    0.000    0.014    0.000 contextlib.py:402(_create_cb_wrapper)\n",
      "    33464    0.013    0.000    0.013    0.000 {built-in method builtins.setattr}\n",
      "     7688    0.006    0.000    0.013    0.000 parse.py:155(password)\n",
      "     6664    0.010    0.000    0.013    0.000 util.py:970(__new__)\n",
      "   103647    0.013    0.000    0.013    0.000 typing.py:1353(cast)\n",
      "      779    0.013    0.000    0.013    0.000 warnings.py:437(__init__)\n",
      "     1528    0.013    0.000    0.013    0.000 threading.py:750(_newname)\n",
      "      779    0.012    0.000    0.012    0.000 contextlib.py:408(__init__)\n",
      "      779    0.012    0.000    0.012    0.000 {built-in method posix.access}\n",
      "    14172    0.009    0.000    0.012    0.000 diff.py:407(b_path)\n",
      "     3131    0.012    0.000    0.012    0.000 {built-in method posix.close}\n",
      "     1528    0.011    0.000    0.012    0.000 threading.py:1142(daemon)\n",
      "     5977    0.008    0.000    0.011    0.000 diff.py:426(renamed_file)\n",
      "      779    0.005    0.000    0.011    0.000 warnings.py:165(simplefilter)\n",
      "    66865    0.011    0.000    0.011    0.000 {function _OMD.__getitem__ at 0x12856b0d0}\n",
      "    13548    0.010    0.000    0.010    0.000 {method 'sub' of 're.Pattern' objects}\n",
      "    13552    0.010    0.000    0.010    0.000 pathlib.py:303(splitroot)\n",
      "    66998    0.009    0.000    0.009    0.000 config.py:387(optionxform)\n",
      "    98/50    0.001    0.000    0.009    0.000 fun.py:85(find_submodule_git_dir)\n",
      "     6581    0.004    0.000    0.009    0.000 config.py:352(__del__)\n",
      "    37656    0.009    0.000    0.009    0.000 {method 'readline' of '_io.BytesIO' objects}\n",
      "     4623    0.005    0.000    0.009    0.000 base.py:123(hexsha)\n",
      "     3060    0.007    0.000    0.008    0.000 threading.py:1338(current_thread)\n",
      "    53312    0.008    0.000    0.008    0.000 {built-in method builtins.ord}\n",
      "    40480    0.008    0.000    0.008    0.000 {method 'lower' of 'str' objects}\n",
      "    26656    0.008    0.000    0.008    0.000 base.py:52(type)\n",
      "     7688    0.006    0.000    0.007    0.000 parse.py:189(_userinfo)\n",
      "    19994    0.007    0.000    0.007    0.000 symbolic.py:65(__init__)\n",
      "     1606    0.004    0.000    0.007    0.000 posixpath.py:150(dirname)\n",
      "     7688    0.006    0.000    0.007    0.000 parse.py:114(_coerce_args)\n",
      "     6888    0.003    0.000    0.007    0.000 pathlib.py:725(_format_parsed_parts)\n",
      "      123    0.001    0.000    0.006    0.000 fun.py:44(is_git_dir)\n",
      "     6664    0.005    0.000    0.006    0.000 base.py:99(__eq__)\n",
      "    47007    0.006    0.000    0.006    0.000 {method 'replace' of 'str' objects}\n",
      "     3102    0.006    0.000    0.006    0.000 {method 'append' of 'collections.deque' objects}\n",
      "      779    0.003    0.000    0.006    0.000 warnings.py:181(_add_filter)\n",
      "      764    0.006    0.000    0.006    0.000 {method 'finditer' of 're.Pattern' objects}\n",
      "       21    0.000    0.000    0.006    0.000 base.py:240(__del__)\n",
      "       21    0.001    0.000    0.006    0.000 base.py:246(close)\n",
      "        1    0.000    0.000    0.006    0.006 base.py:560(iter_commits)\n",
      "        1    0.000    0.000    0.006    0.006 commit.py:246(iter_items)\n",
      "     7361    0.004    0.000    0.006    0.000 commit.py:591(msg)\n",
      "     4816    0.004    0.000    0.005    0.000 conf.py:45(get)\n",
      "     6690    0.004    0.000    0.005    0.000 configparser.py:1362(__iter__)\n",
      "     6582    0.004    0.000    0.005    0.000 config.py:364(release)\n",
      "    26656    0.005    0.000    0.005    0.000 base.py:60(size)\n",
      "    13552    0.005    0.000    0.005    0.000 pathlib.py:1089(_init)\n",
      "    26656    0.005    0.000    0.005    0.000 base.py:42(binsha)\n",
      "      804    0.002    0.000    0.005    0.000 abc.py:117(__instancecheck__)\n",
      "      480    0.004    0.000    0.005    0.000 ChangeCounter.ipynb:142(update_changes)\n",
      "      350    0.005    0.000    0.005    0.000 {built-in method posix.stat}\n",
      "        1    0.000    0.000    0.005    0.005 contextlib.py:114(__enter__)\n",
      "    24474    0.005    0.000    0.005    0.000 util.py:154(utcoffset)\n",
      "     8158    0.005    0.000    0.005    0.000 developer.py:24(__init__)\n",
      "     1530    0.004    0.000    0.005    0.000 threading.py:985(_stop)\n",
      "    33450    0.005    0.000    0.005    0.000 {built-in method builtins.callable}\n",
      "     1530    0.004    0.000    0.005    0.000 _weakrefset.py:39(_remove)\n",
      "     6664    0.005    0.000    0.005    0.000 util.py:973(__init__)\n",
      "    13352    0.005    0.000    0.005    0.000 util.py:194(to_native_path_linux)\n",
      "      798    0.003    0.000    0.004    0.000 __init__.py:1436(info)\n",
      "       68    0.000    0.000    0.004    0.000 parse.py:88(clear_cache)\n",
      "      797    0.002    0.000    0.004    0.000 commit.py:506(hash)\n",
      "    26681    0.004    0.000    0.004    0.000 configparser.py:363(before_get)\n",
      "        1    0.000    0.000    0.004    0.004 git.py:38(__init__)\n",
      "      248    0.000    0.000    0.004    0.000 genericpath.py:39(isdir)\n",
      "    13376    0.004    0.000    0.004    0.000 base.py:290(working_tree_dir)\n",
      "      136    0.004    0.000    0.004    0.000 {method 'clear' of 'dict' objects}\n",
      "       25    0.000    0.000    0.004    0.000 base.py:488(config_reader)\n",
      "     1572    0.001    0.000    0.004    0.000 contextlib.py:404(_exit_wrapper)\n",
      "    32632    0.004    0.000    0.004    0.000 util.py:160(dst)\n",
      "        1    0.000    0.000    0.004    0.004 git.py:82(_open_repository)\n",
      "     6664    0.004    0.000    0.004    0.000 fun.py:180(to_commit)\n",
      "     7140    0.003    0.000    0.003    0.000 {method 'join' of 'str' objects}\n",
      "      830    0.001    0.000    0.003    0.000 commit.py:600(parents)\n",
      "    13354    0.003    0.000    0.003    0.000 {method 'keys' of 'collections.OrderedDict' objects}\n",
      "     2181    0.002    0.000    0.003    0.000 __init__.py:1424(debug)\n",
      "      804    0.003    0.000    0.003    0.000 {built-in method _abc._abc_instancecheck}\n",
      "      779    0.003    0.000    0.003    0.000 {built-in method sys.exc_info}\n",
      "     2979    0.003    0.000    0.003    0.000 __init__.py:1689(isEnabledFor)\n",
      "    16359    0.003    0.000    0.003    0.000 {method 'endswith' of 'bytes' objects}\n",
      "     6690    0.002    0.000    0.003    0.000 config.py:333(_acquire_lock)\n",
      "     1530    0.002    0.000    0.003    0.000 threading.py:271(_is_owned)\n",
      "      779    0.002    0.000    0.003    0.000 _collections_abc.py:775(keys)\n",
      "     1528    0.001    0.000    0.003    0.000 base.py:115(__str__)\n",
      "      795    0.002    0.000    0.003    0.000 cmd.py:180(dashify)\n",
      "      779    0.003    0.000    0.003    0.000 cmd.py:1148(<dictcomp>)\n",
      "     1554    0.001    0.000    0.002    0.000 subprocess.py:1158(poll)\n",
      "     1530    0.001    0.000    0.002    0.000 threading.py:268(_acquire_restore)\n",
      "     7461    0.002    0.000    0.002    0.000 {method 'read' of '_io.BytesIO' objects}\n",
      "     6688    0.002    0.000    0.002    0.000 base.py:309(bare)\n",
      "      783    0.002    0.000    0.002    0.000 {method 'remove' of 'list' objects}\n",
      "       25    0.000    0.000    0.002    0.000 configparser.py:826(getboolean)\n",
      "     1529    0.002    0.000    0.002    0.000 encoding.py:1(force_bytes)\n",
      "    13553    0.002    0.000    0.002    0.000 {method 'reverse' of 'list' objects}\n",
      "      251    0.001    0.000    0.002    0.000 posixpath.py:334(normpath)\n",
      "     7361    0.002    0.000    0.002    0.000 {method 'end' of 're.Match' objects}\n",
      "       25    0.000    0.000    0.002    0.000 configparser.py:805(_get_conv)\n",
      "     1360    0.001    0.000    0.002    0.000 <string>:1(<lambda>)\n",
      "     6814    0.002    0.000    0.002    0.000 {method 'pop' of 'list' objects}\n",
      "       75    0.000    0.000    0.002    0.000 util.py:400(expand_path)\n",
      "       12    0.002    0.000    0.002    0.000 {method 'close' of '_io.BufferedWriter' objects}\n",
      "     8286    0.002    0.000    0.002    0.000 {method 'strip' of 'bytes' objects}\n",
      "       25    0.000    0.000    0.002    0.000 configparser.py:802(_get)\n",
      "      779    0.002    0.000    0.002    0.000 subprocess.py:250(_cleanup)\n",
      "     3060    0.002    0.000    0.002    0.000 threading.py:1127(daemon)\n",
      "     6690    0.002    0.000    0.002    0.000 configparser.py:1190(converters)\n",
      "      777    0.001    0.000    0.002    0.000 subprocess.py:1825(_handle_exitstatus)\n",
      "      797    0.001    0.000    0.002    0.000 commit.py:515(author)\n",
      "     1554    0.002    0.000    0.002    0.000 {method 'close' of '_io.BufferedReader' objects}\n",
      "     6690    0.002    0.000    0.002    0.000 {built-in method builtins.iter}\n",
      "     5977    0.002    0.000    0.002    0.000 diff.py:411(rename_from)\n",
      "      777    0.001    0.000    0.002    0.000 subprocess.py:1045(__del__)\n",
      "      780    0.001    0.000    0.001    0.000 {built-in method builtins.sorted}\n",
      "     1544    0.001    0.000    0.001    0.000 threading.py:259(__exit__)\n",
      "        1    0.000    0.000    0.001    0.001 _base.py:635(__exit__)\n",
      "     3060    0.001    0.000    0.001    0.000 {built-in method _thread.get_ident}\n",
      "     1530    0.001    0.000    0.001    0.000 threading.py:265(_release_save)\n",
      "        1    0.000    0.000    0.001    0.001 thread.py:210(shutdown)\n",
      "      764    0.001    0.000    0.001    0.000 base.py:90(_set_cache_)\n",
      "      779    0.001    0.000    0.001    0.000 cmd.py:1058(transform_kwargs)\n",
      "      779    0.001    0.000    0.001    0.000 warnings.py:477(__exit__)\n",
      "     6585    0.001    0.000    0.001    0.000 config.py:707(read_only)\n",
      "     1529    0.001    0.000    0.001    0.000 cmd.py:632(__getattr__)\n",
      "     1536    0.001    0.000    0.001    0.000 {method '__enter__' of '_thread.lock' objects}\n",
      "     6597    0.001    0.000    0.001    0.000 {method 'start' of 're.Match' objects}\n",
      "     5977    0.001    0.000    0.001    0.000 diff.py:415(rename_to)\n",
      "     4588    0.001    0.000    0.001    0.000 threading.py:529(is_set)\n",
      "        3    0.000    0.000    0.001    0.000 config.py:659(write)\n",
      "     1572    0.001    0.000    0.001    0.000 {method 'pop' of 'collections.deque' objects}\n",
      "     2331    0.001    0.000    0.001    0.000 subprocess.py:1837(_internal_poll)\n",
      "     7688    0.001    0.000    0.001    0.000 parse.py:103(_noop)\n",
      "     3080    0.001    0.000    0.001    0.000 {method 'release' of '_thread.lock' objects}\n",
      "     1360    0.001    0.000    0.001    0.000 {method 'find' of 'str' objects}\n",
      "      827    0.001    0.000    0.001    0.000 {method 'rfind' of 'str' objects}\n",
      "        1    0.000    0.000    0.001    0.001 repository.py:230(<dictcomp>)\n",
      "       75    0.000    0.000    0.001    0.000 posixpath.py:373(abspath)\n",
      "        4    0.000    0.000    0.001    0.000 thread.py:155(submit)\n",
      "      779    0.001    0.000    0.001    0.000 {method 'rfind' of 'bytes' objects}\n",
      "     3117    0.001    0.000    0.001    0.000 {method 'items' of 'dict' objects}\n",
      "      2/1    0.000    0.000    0.001    0.001 config.py:117(flush_changes)\n",
      "     3071    0.001    0.000    0.001    0.000 {method 'insert' of 'list' objects}\n",
      "      797    0.000    0.000    0.001    0.000 git.py:130(get_commit_from_gitpython)\n",
      "        1    0.000    0.000    0.001    0.001 base.py:511(config_writer)\n",
      "     1538    0.001    0.000    0.001    0.000 {method '__exit__' of '_thread.RLock' objects}\n",
      "       25    0.000    0.000    0.001    0.000 cmd.py:612(__init__)\n",
      "      779    0.001    0.000    0.001    0.000 cmd.py:1156(<listcomp>)\n",
      "       77    0.000    0.000    0.001    0.000 genericpath.py:27(isfile)\n",
      "     1530    0.001    0.000    0.001    0.000 {method 'discard' of 'set' objects}\n",
      "        4    0.000    0.000    0.001    0.000 thread.py:174(_adjust_thread_count)\n",
      "        2    0.000    0.000    0.001    0.000 pathlib.py:1209(resolve)\n",
      "     2321    0.001    0.000    0.001    0.000 {method '__exit__' of '_thread.lock' objects}\n",
      "       25    0.000    0.000    0.001    0.000 db.py:37(__init__)\n",
      "        4    0.000    0.000    0.001    0.000 util.py:878(_obtain_lock)\n",
      "        4    0.000    0.000    0.001    0.000 util.py:856(_obtain_lock_or_raise)\n",
      "      779    0.001    0.000    0.001    0.000 contextlib.py:486(__enter__)\n",
      "        2    0.000    0.000    0.001    0.000 pathlib.py:327(resolve)\n",
      "        5    0.001    0.000    0.001    0.000 {method 'put' of '_queue.SimpleQueue' objects}\n",
      "        1    0.001    0.001    0.001    0.001 {built-in method posix.open}\n",
      "       25    0.000    0.000    0.001    0.000 genericpath.py:16(exists)\n",
      "        2    0.000    0.000    0.001    0.000 pathlib.py:331(_resolve)\n",
      "      779    0.001    0.000    0.001    0.000 _collections_abc.py:802(__init__)\n",
      "     2337    0.001    0.000    0.001    0.000 {built-in method _warnings._filters_mutated}\n",
      "        3    0.000    0.000    0.001    0.000 config.py:615(_write)\n",
      "        8    0.000    0.000    0.001    0.000 pathlib.py:461(readlink)\n",
      "        8    0.001    0.000    0.001    0.000 {built-in method posix.readlink}\n",
      "        1    0.000    0.000    0.000    0.000 config.py:791(set_value)\n",
      "       25    0.000    0.000    0.000    0.000 loose.py:77(__init__)\n",
      "     1528    0.000    0.000    0.000    0.000 threading.py:1113(is_alive)\n",
      "       45    0.000    0.000    0.000    0.000 config.py:618(write_section)\n",
      "      793    0.000    0.000    0.000    0.000 {method 'update' of 'dict' objects}\n",
      "      779    0.000    0.000    0.000    0.000 cmd.py:1149(<dictcomp>)\n",
      "      777    0.000    0.000    0.000    0.000 {built-in method posix.WIFSTOPPED}\n",
      "     1360    0.000    0.000    0.000    0.000 parse.py:419(_checknetloc)\n",
      "      797    0.000    0.000    0.000    0.000 commit.py:480(__init__)\n",
      "        5    0.000    0.000    0.000    0.000 _base.py:201(as_completed)\n",
      "       26    0.000    0.000    0.000    0.000 base.py:464(_get_config_path)\n",
      "       48    0.000    0.000    0.000    0.000 _bootlocale.py:33(getpreferredencoding)\n",
      "       25    0.000    0.000    0.000    0.000 re.py:198(search)\n",
      "      779    0.000    0.000    0.000    0.000 {built-in method sys.audit}\n",
      "      777    0.000    0.000    0.000    0.000 {built-in method posix.waitstatus_to_exitcode}\n",
      "      123    0.000    0.000    0.000    0.000 posixpath.py:60(isabs)\n",
      "      764    0.000    0.000    0.000    0.000 util.py:257(_set_cache_)\n",
      "     1535    0.000    0.000    0.000    0.000 {method 'locked' of '_thread.lock' objects}\n",
      "        1    0.000    0.000    0.000    0.000 git.py:88(_discover_main_branch)\n",
      "      764    0.000    0.000    0.000    0.000 diff.py:86(_process_diff_args)\n",
      "       25    0.000    0.000    0.000    0.000 _collections_abc.py:767(__contains__)\n",
      "        8    0.000    0.000    0.000    0.000 subprocess.py:2072(terminate)\n",
      "       73    0.000    0.000    0.000    0.000 cmd.py:368(is_cygwin)\n",
      "       25    0.000    0.000    0.000    0.000 re.py:289(_compile)\n",
      "        1    0.000    0.000    0.000    0.000 base.py:792(active_branch)\n",
      "       48    0.000    0.000    0.000    0.000 {built-in method _locale.nl_langinfo}\n",
      "        1    0.000    0.000    0.000    0.000 symbolic.py:288(_get_reference)\n",
      "       24    0.000    0.000    0.000    0.000 base.py:197(abspath)\n",
      "      779    0.000    0.000    0.000    0.000 {method 'pop' of 'dict' objects}\n",
      "       75    0.000    0.000    0.000    0.000 posixpath.py:228(expanduser)\n",
      "      480    0.000    0.000    0.000    0.000 ChangeCounter.ipynb:152(update_elems)\n",
      "        1    0.000    0.000    0.000    0.000 thread.py:117(__init__)\n",
      "        8    0.000    0.000    0.000    0.000 subprocess.py:2040(send_signal)\n",
      "       45    0.000    0.000    0.000    0.000 config.py:216(items_all)\n",
      "       18    0.000    0.000    0.000    0.000 cmd.py:1042(transform_kwarg)\n",
      "       21    0.000    0.000    0.000    0.000 mman.py:408(collect)\n",
      "       85    0.000    0.000    0.000    0.000 config.py:786(_value_to_string)\n",
      "       45    0.000    0.000    0.000    0.000 config.py:218(<listcomp>)\n",
      "        6    0.000    0.000    0.000    0.000 _base.py:179(_yield_finished_futures)\n",
      "        2    0.000    0.000    0.000    0.000 weakref.py:370(remove)\n",
      "        4    0.000    0.000    0.000    0.000 threading.py:404(acquire)\n",
      "       21    0.000    0.000    0.000    0.000 mman.py:303(_collect_lru_region)\n",
      "       75    0.000    0.000    0.000    0.000 posixpath.py:281(expandvars)\n",
      "        1    0.000    0.000    0.000    0.000 symbolic.py:685(from_path)\n",
      "        4    0.000    0.000    0.000    0.000 _base.py:317(__init__)\n",
      "        2    0.000    0.000    0.000    0.000 util.py:883(_release_lock)\n",
      "        1    0.000    0.000    0.000    0.000 util.py:139(rmfile)\n",
      "      129    0.000    0.000    0.000    0.000 config.py:209(getall)\n",
      "       24    0.000    0.000    0.000    0.000 base.py:266(__ne__)\n",
      "        1    0.000    0.000    0.000    0.000 conf.py:77(sanity_check_filters)\n",
      "       25    0.000    0.000    0.000    0.000 configparser.py:1162(_convert_to_boolean)\n",
      "        1    0.000    0.000    0.000    0.000 {built-in method posix.remove}\n",
      "      223    0.000    0.000    0.000    0.000 {built-in method _stat.S_ISDIR}\n",
      "        1    0.000    0.000    0.000    0.000 repository.py:44(__init__)\n",
      "        3    0.000    0.000    0.000    0.000 config.py:212(items)\n",
      "        1    0.000    0.000    0.000    0.000 _base.py:157(_create_and_install_waiters)\n",
      "        1    0.000    0.000    0.000    0.000 repository.py:246(_split_in_chunks)\n",
      "        3    0.000    0.000    0.000    0.000 config.py:214(<listcomp>)\n",
      "        4    0.000    0.000    0.000    0.000 _base.py:417(result)\n",
      "        8    0.000    0.000    0.000    0.000 {built-in method posix.kill}\n",
      "       85    0.000    0.000    0.000    0.000 encoding.py:11(force_text)\n",
      "        1    0.000    0.000    0.000    0.000 conf.py:287(_check_timezones)\n",
      "       24    0.000    0.000    0.000    0.000 base.py:261(__eq__)\n",
      "       25    0.000    0.000    0.000    0.000 base.py:67(__init__)\n",
      "        1    0.000    0.000    0.000    0.000 conf.py:24(__init__)\n",
      "       73    0.000    0.000    0.000    0.000 util.py:347(is_cygwin_git)\n",
      "        1    0.000    0.000    0.000    0.000 conf.py:293(_replace_timezone)\n",
      "        1    0.000    0.000    0.000    0.000 conf.py:191(build_args)\n",
      "        2    0.000    0.000    0.000    0.000 weakref.py:428(__setitem__)\n",
      "        2    0.000    0.000    0.000    0.000 repository.py:144(_is_remote)\n",
      "       28    0.000    0.000    0.000    0.000 {method 'find' of 'bytes' objects}\n",
      "        1    0.000    0.000    0.000    0.000 threading.py:398(__init__)\n",
      "        4    0.000    0.000    0.000    0.000 threading.py:82(RLock)\n",
      "        2    0.000    0.000    0.000    0.000 threading.py:768(_maintain_shutdown_locks)\n",
      "        1    0.000    0.000    0.000    0.000 _base.py:79(__init__)\n",
      "        4    0.000    0.000    0.000    0.000 thread.py:41(__init__)\n",
      "        1    0.000    0.000    0.000    0.000 conf.py:65(_check_only_one_from_commit)\n",
      "       28    0.000    0.000    0.000    0.000 {method 'rstrip' of 'bytes' objects}\n",
      "        1    0.000    0.000    0.000    0.000 {method 'replace' of 'datetime.datetime' objects}\n",
      "       51    0.000    0.000    0.000    0.000 {built-in method _stat.S_ISREG}\n",
      "        1    0.000    0.000    0.000    0.000 _base.py:63(__init__)\n",
      "        2    0.000    0.000    0.000    0.000 pathlib.py:1566(expanduser)\n",
      "        8    0.000    0.000    0.000    0.000 {method '__enter__' of '_thread.RLock' objects}\n",
      "        1    0.000    0.000    0.000    0.000 git.py:316(__del__)\n",
      "        7    0.000    0.000    0.000    0.000 conf.py:36(set_value)\n",
      "       21    0.000    0.000    0.000    0.000 {method 'values' of 'dict' objects}\n",
      "        2    0.000    0.000    0.000    0.000 pathlib.py:1001(is_absolute)\n",
      "        1    0.000    0.000    0.000    0.000 _base.py:146(__init__)\n",
      "        1    0.000    0.000    0.000    0.000 configparser.py:891(set)\n",
      "        1    0.000    0.000    0.000    0.000 reference.py:46(__init__)\n",
      "        1    0.000    0.000    0.000    0.000 {built-in method math.ceil}\n",
      "        1    0.000    0.000    0.000    0.000 contextlib.py:261(helper)\n",
      "        1    0.000    0.000    0.000    0.000 _base.py:149(__enter__)\n",
      "        8    0.000    0.000    0.000    0.000 util.py:851(_has_lock)\n",
      "        1    0.000    0.000    0.000    0.000 contextlib.py:86(__init__)\n",
      "        2    0.000    0.000    0.000    0.000 threading.py:778(<listcomp>)\n",
      "       25    0.000    0.000    0.000    0.000 {built-in method builtins.issubclass}\n",
      "        1    0.000    0.000    0.000    0.000 reference.py:100(name)\n",
      "        1    0.000    0.000    0.000    0.000 conf.py:71(_check_only_one_to_commit)\n",
      "        2    0.000    0.000    0.000    0.000 conf.py:181(only_one_filter)\n",
      "        1    0.000    0.000    0.000    0.000 threading.py:546(clear)\n",
      "        1    0.000    0.000    0.000    0.000 util.py:844(__del__)\n",
      "        1    0.000    0.000    0.000    0.000 _base.py:153(__exit__)\n",
      "        3    0.000    0.000    0.000    0.000 config.py:699(_assure_writable)\n",
      "        4    0.000    0.000    0.000    0.000 _base.py:387(__get_result)\n",
      "        2    0.000    0.000    0.000    0.000 util.py:847(_lock_file_path)\n",
      "        5    0.000    0.000    0.000    0.000 {method 'remove' of 'set' objects}\n",
      "        1    0.000    0.000    0.000    0.000 conf.py:54(_sanity_check_repos)\n",
      "        4    0.000    0.000    0.000    0.000 {method 'lstrip' of 'str' objects}\n",
      "        4    0.000    0.000    0.000    0.000 _base.py:225(<genexpr>)\n",
      "        2    0.000    0.000    0.000    0.000 {method 'difference_update' of 'set' objects}\n",
      "        1    0.000    0.000    0.000    0.000 conf.py:165(get_ending_commit)\n",
      "        1    0.000    0.000    0.000    0.000 conf.py:142(get_starting_commit)\n",
      "        1    0.000    0.000    0.000    0.000 conf.py:114(_check_correct_filters_order)\n",
      "        3    0.000    0.000    0.000    0.000 git.py:62(repo)\n",
      "        1    0.000    0.000    0.000    0.000 pathlib.py:831(name)\n",
      "        4    0.000    0.000    0.000    0.000 {built-in method time.monotonic}\n",
      "        4    0.000    0.000    0.000    0.000 {method 'acquire' of '_thread.RLock' objects}\n",
      "        1    0.000    0.000    0.000    0.000 util.py:840(__init__)\n",
      "        2    0.000    0.000    0.000    0.000 conf.py:189(<listcomp>)\n",
      "        2    0.000    0.000    0.000    0.000 {method 'remove' of 'collections.deque' objects}\n",
      "        1    0.000    0.000    0.000    0.000 configparser.py:663(has_section)\n",
      "        4    0.000    0.000    0.000    0.000 {method 'release' of '_thread.RLock' objects}\n",
      "        1    0.000    0.000    0.000    0.000 {method 'disable' of '_lsprof.Profiler' objects}\n",
      "        1    0.000    0.000    0.000    0.000 _base.py:632(__enter__)\n",
      "        1    0.000    0.000    0.000    0.000 __init__.py:230(utcoffset)\n",
      "        1    0.000    0.000    0.000    0.000 configparser.py:366(before_set)\n",
      "\n",
      "\n"
     ]
    }
   ],
   "source": [
    "cProfile.run('debuggingbook_change_counter(ChangeCounter)', sort='cumulative')"
   ]
  },
  {
   "cell_type": "markdown",
   "metadata": {
    "slideshow": {
     "slide_type": "subslide"
    }
   },
   "source": [
    "Yes, that's an awful lot of functions, but we can quickly narrow things down. The `cumtime` column is sorted by largest values first. We see that the `debuggingbook_change_counter()` method at the top takes up all the time – but this is not surprising, since it it the method we called in the first place. This calls a method `mine()` in the `ChangeCounter` class, which does all the work."
   ]
  },
  {
   "cell_type": "markdown",
   "metadata": {
    "slideshow": {
     "slide_type": "fragment"
    }
   },
   "source": [
    "The next places are more interesting: almost all time is spent in a single method, named `modifications()`. This method determines the difference between two versions, which is an expensive operation; this is also supported by the observation that half of the time is spent in a `diff()` method."
   ]
  },
  {
   "cell_type": "markdown",
   "metadata": {
    "slideshow": {
     "slide_type": "subslide"
    }
   },
   "source": [
    "This profile thus already gets us a hint on how to improve performance: Rather than computing the diff between versions for _every_ version, we could do so _on demand_ (and possibly cache results so we don't have to compute them twice). Alas, this (slow) functionality is part of the \n",
    "underlying [PyDriller](https://pydriller.readthedocs.io/) Python package, so we cannot fix this within the `ChangeCounter` class. But we could file a bug with the developers, suggesting a patch to improve performance."
   ]
  },
  {
   "cell_type": "markdown",
   "metadata": {
    "slideshow": {
     "slide_type": "subslide"
    }
   },
   "source": [
    "### Sampling Execution Profiles\n",
    "\n",
    "Instrumenting code is _precise_, but it is also _slow_. An alternate way to measure performance is to _sample_ in regular intervals which functions are currently active – for instance, by examining the current function call stack. The more frequently a function is sampled as active, the more time is spent in that function."
   ]
  },
  {
   "cell_type": "markdown",
   "metadata": {
    "slideshow": {
     "slide_type": "subslide"
    }
   },
   "source": [
    "One profiler for Python that implements such sampling is [Scalene](https://github.com/plasma-umass/scalene) – a high-performance, high-precision CPU, GPU, and memory profiler for Python. We can invoke it on our example as follows:\n",
    "\n",
    "```sh\n",
    "$ scalene --html test.py > scalene-out.html\n",
    "```"
   ]
  },
  {
   "cell_type": "markdown",
   "metadata": {
    "slideshow": {
     "slide_type": "fragment"
    }
   },
   "source": [
    "where `test.py` is a script that again invokes\n",
    "\n",
    "```python\n",
    "debuggingbook_change_counter(ChangeCounter)\n",
    "```"
   ]
  },
  {
   "cell_type": "markdown",
   "metadata": {
    "slideshow": {
     "slide_type": "subslide"
    }
   },
   "source": [
    "The output of `scalene` is sent to a HTML file (here, `scalene-out.html`) which is organized by _lines_ – that is, for each line, we see how much it contributed to overall execution time. Opening the output `scalene-out.html` in a HTML browswer, we see these lines:"
   ]
  },
  {
   "cell_type": "markdown",
   "metadata": {
    "slideshow": {
     "slide_type": "fragment"
    }
   },
   "source": [
    "![](PICS/scalene-out.png)"
   ]
  },
  {
   "cell_type": "markdown",
   "metadata": {
    "slideshow": {
     "slide_type": "fragment"
    }
   },
   "source": [
    "As with `cProfile`, above, we identify the `mine()` method in the `ChangeCounter` class as the main performance hog – and in the `mine()` method, it is the iteration over all modifications that takes all the time. Adding the option `--profile-all` to `scalene` would extend the profile to all executed code, including the `pydriller` third-party library."
   ]
  },
  {
   "cell_type": "markdown",
   "metadata": {
    "slideshow": {
     "slide_type": "fragment"
    }
   },
   "source": [
    "Besides relying on sampling rather that tracing (which is more efficient) and breaking down execution time by line, `scalene` also provides additional information on memory usage and more. If `cProfile` is not sufficient, then `scalene` will bring profiling to the next level."
   ]
  },
  {
   "cell_type": "markdown",
   "metadata": {
    "slideshow": {
     "slide_type": "slide"
    }
   },
   "source": [
    "## Improving Performance"
   ]
  },
  {
   "cell_type": "markdown",
   "metadata": {
    "slideshow": {
     "slide_type": "fragment"
    }
   },
   "source": [
    "Identifying a culprit is not always that easy. Notably, when the first set of obvious performance hogs is fixed, it becomes more and more difficult to squeeze out additional performance – and, as stated above, such optimization may be in conflict with readability and maintainability of your code. Here are some simple ways to improve performance:"
   ]
  },
  {
   "cell_type": "markdown",
   "metadata": {
    "slideshow": {
     "slide_type": "subslide"
    }
   },
   "source": [
    "* **Efficient algorithms**. For many tasks, the simplest algorithm is not always the best performing one. Consider alternatives that may be more efficient, and _measure_ whether they pay off.\n",
    "\n",
    "* **Efficient data types**. Remember that certain operations, such as looking up whether an element is contained, may take different amounts of time depending on the data structure. In Python, a query like `x in xs` takes (mostly) constant time if `xs` is a set, but linear time if `xs` is a list; these differences become significant as the size of `xs` grows.\n",
    "\n",
    "* **Efficient modules**. In Python, most frequently used modules (or at least parts of) are implemented in C, which is way more efficient than plain Python. Rely on existing modules whenever possible. Or implement your own, _after_ having measured that this may pay off."
   ]
  },
  {
   "cell_type": "markdown",
   "metadata": {
    "slideshow": {
     "slide_type": "subslide"
    }
   },
   "source": [
    "These are all things you can already use during programming – and also set up your code such that exchanging, say, one data type by another will still be possible later. This is best achieved by hiding implementation details (such as the used data types) behind an abstract interface used by your clients."
   ]
  },
  {
   "cell_type": "markdown",
   "metadata": {
    "slideshow": {
     "slide_type": "fragment"
    }
   },
   "source": [
    "But beyond these points, remember the famous words by [Donald J. Knuth](https://en.wikipedia.org/wiki/Donald_Knuth):"
   ]
  },
  {
   "cell_type": "code",
   "execution_count": 10,
   "metadata": {
    "execution": {
     "iopub.execute_input": "2021-10-13T11:40:08.389426Z",
     "iopub.status.busy": "2021-10-13T11:40:08.388808Z",
     "iopub.status.idle": "2021-10-13T11:40:08.390652Z",
     "shell.execute_reply": "2021-10-13T11:40:08.391093Z"
    },
    "slideshow": {
     "slide_type": "skip"
    }
   },
   "outputs": [],
   "source": [
    "from bookutils import quiz"
   ]
  },
  {
   "cell_type": "code",
   "execution_count": 11,
   "metadata": {
    "execution": {
     "iopub.execute_input": "2021-10-13T11:40:08.407930Z",
     "iopub.status.busy": "2021-10-13T11:40:08.407028Z",
     "iopub.status.idle": "2021-10-13T11:40:08.412280Z",
     "shell.execute_reply": "2021-10-13T11:40:08.412693Z"
    },
    "slideshow": {
     "slide_type": "fragment"
    }
   },
   "outputs": [
    {
     "data": {
      "text/html": [
       "\n",
       "    \n",
       "    <script>\n",
       "    var bad_answers = new Map();\n",
       "\n",
       "    function answer(quiz_id) {\n",
       "        ans = 0;\n",
       "        for (i = 1;; i++) {\n",
       "            checkbox = document.getElementById(quiz_id + \"-\" + i.toString());\n",
       "            if (!checkbox)\n",
       "                break;\n",
       "            if (checkbox.checked)\n",
       "                ans |= (1 << i);\n",
       "        }\n",
       "        return ans;\n",
       "    }\n",
       "    function check_selection(quiz_id, correct_answer, multiple_choice, hint) {\n",
       "        given_answer = answer(quiz_id);\n",
       "        if (given_answer == correct_answer)\n",
       "        {\n",
       "            document.getElementById(quiz_id + \"-submit\").value = \"Correct!\";\n",
       "            document.getElementById(quiz_id + \"-hint\").innerHTML = \"\";\n",
       "\n",
       "            for (i = 1;; i++) {\n",
       "                checkbox = document.getElementById(quiz_id + \"-\" + i.toString());\n",
       "                label = document.getElementById(quiz_id + \"-\" + i.toString() + \"-label\")\n",
       "                if (!checkbox)\n",
       "                    break;\n",
       "    \n",
       "                if (checkbox.checked) {\n",
       "                    label.style.fontWeight = \"bold\";\n",
       "                }\n",
       "                else {\n",
       "                    label.style.textDecoration = \"line-through\";\n",
       "                }\n",
       "            }\n",
       "        }\n",
       "        else \n",
       "        {\n",
       "            document.getElementById(quiz_id + \"-submit\").value = \"Try again\";\n",
       "            \n",
       "            if (!bad_answers.has(quiz_id)) {\n",
       "                bad_answers.set(quiz_id, 1);\n",
       "            }\n",
       "            else {\n",
       "                bad_answers.set(quiz_id, bad_answers.get(quiz_id) + 1);\n",
       "            }\n",
       "\n",
       "            if (bad_answers.get(quiz_id) >= 2 && hint.length > 0) {\n",
       "                document.getElementById(quiz_id + \"-hint\").innerHTML = \n",
       "                    \"&nbsp;&nbsp;(Hint: <code>\" + hint + \"</code>)\";\n",
       "            }\n",
       "\n",
       "            if (!multiple_choice) {\n",
       "                for (i = 1;; i++) {\n",
       "                    checkbox = document.getElementById(quiz_id + \"-\" + i.toString());\n",
       "                    label = document.getElementById(quiz_id + \"-\" + i.toString() + \"-label\")\n",
       "\n",
       "                    if (!checkbox)\n",
       "                        break;\n",
       "                    if (checkbox.checked) {\n",
       "                        label.style.textDecoration = \"line-through\";\n",
       "                    }\n",
       "                }\n",
       "            }\n",
       "        }\n",
       "    }\n",
       "    function clear_selection(quiz_id) {\n",
       "        document.getElementById(quiz_id + \"-submit\").value = \"Submit\";\n",
       "        document.getElementById(quiz_id + \"-hint\").innerHTML = \"\";\n",
       "    }\n",
       "    </script>\n",
       "    \n",
       "    <div class=\"quiz\">\n",
       "    <h3 class=\"quiz_title\">Quiz</h3>\n",
       "    <p>\n",
       "    <div class=\"quiz_question\">Donald J. Knuth said: \"Premature optimization...\"</div>\n",
       "    </p>\n",
       "    <p>\n",
       "    <div class=\"quiz_options\" title=\"Pick a choice.\">\n",
       "    \n",
       "        <input type=\"radio\" name=\"51277358-2c1a-11ec-a9e8-acde48001122\" id=\"51277358-2c1a-11ec-a9e8-acde48001122-1\" onclick=\"clear_selection('51277358-2c1a-11ec-a9e8-acde48001122')\">\n",
       "        <label id=\"51277358-2c1a-11ec-a9e8-acde48001122-1-label\" for=\"51277358-2c1a-11ec-a9e8-acde48001122-1\">... is the root of all evil</label><br>\n",
       "    \n",
       "        <input type=\"radio\" name=\"51277358-2c1a-11ec-a9e8-acde48001122\" id=\"51277358-2c1a-11ec-a9e8-acde48001122-2\" onclick=\"clear_selection('51277358-2c1a-11ec-a9e8-acde48001122')\">\n",
       "        <label id=\"51277358-2c1a-11ec-a9e8-acde48001122-2-label\" for=\"51277358-2c1a-11ec-a9e8-acde48001122-2\">... requires lots of experience</label><br>\n",
       "    \n",
       "        <input type=\"radio\" name=\"51277358-2c1a-11ec-a9e8-acde48001122\" id=\"51277358-2c1a-11ec-a9e8-acde48001122-3\" onclick=\"clear_selection('51277358-2c1a-11ec-a9e8-acde48001122')\">\n",
       "        <label id=\"51277358-2c1a-11ec-a9e8-acde48001122-3-label\" for=\"51277358-2c1a-11ec-a9e8-acde48001122-3\">... should be left to assembly programmers</label><br>\n",
       "    \n",
       "        <input type=\"radio\" name=\"51277358-2c1a-11ec-a9e8-acde48001122\" id=\"51277358-2c1a-11ec-a9e8-acde48001122-4\" onclick=\"clear_selection('51277358-2c1a-11ec-a9e8-acde48001122')\">\n",
       "        <label id=\"51277358-2c1a-11ec-a9e8-acde48001122-4-label\" for=\"51277358-2c1a-11ec-a9e8-acde48001122-4\">... is the reason why TeX is so fast</label><br>\n",
       "    \n",
       "    </div>\n",
       "    </p>\n",
       "    <input id=\"51277358-2c1a-11ec-a9e8-acde48001122-submit\" type=\"submit\" value=\"Submit\" onclick=\"check_selection('51277358-2c1a-11ec-a9e8-acde48001122', 2, 0, 'len(&quot;METAFONT&quot;) - len(&quot;TeX&quot;) - len(&quot;CWEB&quot;)')\">\n",
       "    <span class=\"quiz_hint\" id=\"51277358-2c1a-11ec-a9e8-acde48001122-hint\"></span>\n",
       "    </div>\n",
       "    "
      ],
      "text/plain": [
       "<IPython.core.display.HTML object>"
      ]
     },
     "execution_count": 11,
     "metadata": {},
     "output_type": "execute_result"
    }
   ],
   "source": [
    "quiz('Donald J. Knuth said: \"Premature optimization...\"',\n",
    "    [\n",
    "        \"... is the root of all evil\",\n",
    "        \"... requires lots of experience\",\n",
    "        \"... should be left to assembly programmers\",\n",
    "        \"... is the reason why TeX is so fast\",\n",
    "    ], 'len(\"METAFONT\") - len(\"TeX\") - len(\"CWEB\")')"
   ]
  },
  {
   "cell_type": "markdown",
   "metadata": {
    "slideshow": {
     "slide_type": "subslide"
    }
   },
   "source": [
    "This quote should always remind us that after a good design, you should always _first_ measure and _then_ optimize."
   ]
  },
  {
   "cell_type": "markdown",
   "metadata": {
    "slideshow": {
     "slide_type": "slide"
    }
   },
   "source": [
    "## Building a Profiler\n",
    "\n",
    "Having discussed profilers from a _user_ perspective, let us now dive into how they are actually implemented. It turns out we can use most of our existing infrastructure to implement a simple tracing profiler with only a few lines of code."
   ]
  },
  {
   "cell_type": "markdown",
   "metadata": {
    "slideshow": {
     "slide_type": "fragment"
    }
   },
   "source": [
    "The program we will apply our profiler on is – surprise! – our ongoing example, `remove_html_markup()`. Our aim is to understand how much time is spent _in each line of the code_ (such that we have a new feature on top of Python `cProfile`)."
   ]
  },
  {
   "cell_type": "code",
   "execution_count": 12,
   "metadata": {
    "execution": {
     "iopub.execute_input": "2021-10-13T11:40:08.416961Z",
     "iopub.status.busy": "2021-10-13T11:40:08.416431Z",
     "iopub.status.idle": "2021-10-13T11:40:08.418563Z",
     "shell.execute_reply": "2021-10-13T11:40:08.419044Z"
    },
    "slideshow": {
     "slide_type": "skip"
    }
   },
   "outputs": [],
   "source": [
    "from Intro_Debugging import remove_html_markup"
   ]
  },
  {
   "cell_type": "code",
   "execution_count": 13,
   "metadata": {
    "execution": {
     "iopub.execute_input": "2021-10-13T11:40:08.422652Z",
     "iopub.status.busy": "2021-10-13T11:40:08.422022Z",
     "iopub.status.idle": "2021-10-13T11:40:08.424268Z",
     "shell.execute_reply": "2021-10-13T11:40:08.424728Z"
    },
    "slideshow": {
     "slide_type": "fragment"
    }
   },
   "outputs": [],
   "source": [
    "# ignore\n",
    "from typing import Any, Optional, Type, Dict, Tuple, List"
   ]
  },
  {
   "cell_type": "code",
   "execution_count": 14,
   "metadata": {
    "execution": {
     "iopub.execute_input": "2021-10-13T11:40:08.428502Z",
     "iopub.status.busy": "2021-10-13T11:40:08.427976Z",
     "iopub.status.idle": "2021-10-13T11:40:08.429990Z",
     "shell.execute_reply": "2021-10-13T11:40:08.430454Z"
    },
    "slideshow": {
     "slide_type": "fragment"
    }
   },
   "outputs": [],
   "source": [
    "# ignore\n",
    "from bookutils import print_content"
   ]
  },
  {
   "cell_type": "code",
   "execution_count": 15,
   "metadata": {
    "execution": {
     "iopub.execute_input": "2021-10-13T11:40:08.434004Z",
     "iopub.status.busy": "2021-10-13T11:40:08.433484Z",
     "iopub.status.idle": "2021-10-13T11:40:08.435772Z",
     "shell.execute_reply": "2021-10-13T11:40:08.436409Z"
    },
    "slideshow": {
     "slide_type": "subslide"
    }
   },
   "outputs": [],
   "source": [
    "# ignore\n",
    "import inspect"
   ]
  },
  {
   "cell_type": "code",
   "execution_count": 16,
   "metadata": {
    "execution": {
     "iopub.execute_input": "2021-10-13T11:40:08.493466Z",
     "iopub.status.busy": "2021-10-13T11:40:08.457588Z",
     "iopub.status.idle": "2021-10-13T11:40:08.741456Z",
     "shell.execute_reply": "2021-10-13T11:40:08.742525Z"
    },
    "slideshow": {
     "slide_type": "subslide"
    }
   },
   "outputs": [
    {
     "name": "stdout",
     "output_type": "stream",
     "text": [
      "238  \u001b[34mdef\u001b[39;49;00m \u001b[32mremove_html_markup\u001b[39;49;00m(s):  \u001b[37m# type: ignore\u001b[39;49;00m\n",
      "239      tag = \u001b[34mFalse\u001b[39;49;00m\n",
      "240      quote = \u001b[34mFalse\u001b[39;49;00m\n",
      "241      out = \u001b[33m\"\u001b[39;49;00m\u001b[33m\"\u001b[39;49;00m\n",
      "242  \n",
      "243      \u001b[34mfor\u001b[39;49;00m c \u001b[35min\u001b[39;49;00m s:\n",
      "244          \u001b[34massert\u001b[39;49;00m tag \u001b[35mor\u001b[39;49;00m \u001b[35mnot\u001b[39;49;00m quote\n",
      "245  \n",
      "246          \u001b[34mif\u001b[39;49;00m c == \u001b[33m'\u001b[39;49;00m\u001b[33m<\u001b[39;49;00m\u001b[33m'\u001b[39;49;00m \u001b[35mand\u001b[39;49;00m \u001b[35mnot\u001b[39;49;00m quote:\n",
      "247              tag = \u001b[34mTrue\u001b[39;49;00m\n",
      "248          \u001b[34melif\u001b[39;49;00m c == \u001b[33m'\u001b[39;49;00m\u001b[33m>\u001b[39;49;00m\u001b[33m'\u001b[39;49;00m \u001b[35mand\u001b[39;49;00m \u001b[35mnot\u001b[39;49;00m quote:\n",
      "249              tag = \u001b[34mFalse\u001b[39;49;00m\n",
      "250          \u001b[34melif\u001b[39;49;00m (c == \u001b[33m'\u001b[39;49;00m\u001b[33m\"\u001b[39;49;00m\u001b[33m'\u001b[39;49;00m \u001b[35mor\u001b[39;49;00m c == \u001b[33m\"\u001b[39;49;00m\u001b[33m'\u001b[39;49;00m\u001b[33m\"\u001b[39;49;00m) \u001b[35mand\u001b[39;49;00m tag:\n",
      "251              quote = \u001b[35mnot\u001b[39;49;00m quote\n",
      "252          \u001b[34melif\u001b[39;49;00m \u001b[35mnot\u001b[39;49;00m tag:\n",
      "253              out = out + c\n",
      "254  \n",
      "255      \u001b[34mreturn\u001b[39;49;00m out"
     ]
    }
   ],
   "source": [
    "print_content(inspect.getsource(remove_html_markup), '.py',\n",
    "              start_line_number=238)"
   ]
  },
  {
   "cell_type": "markdown",
   "metadata": {
    "slideshow": {
     "slide_type": "subslide"
    }
   },
   "source": [
    "We introduce a class `PerformanceTracer` that tracks, for each line in the code:\n",
    "\n",
    "* how _often_ it was executed (`hits`), and\n",
    "* _how much time_ was spent during its execution (`time`).\n",
    "\n",
    "To this end, we make use of our `Timer` class, which measures time, and the `Tracer` class from [the chapter on tracing](Tracer.ipynb), which allows us to track every line of the program as it is being executed."
   ]
  },
  {
   "cell_type": "code",
   "execution_count": 17,
   "metadata": {
    "execution": {
     "iopub.execute_input": "2021-10-13T11:40:08.749271Z",
     "iopub.status.busy": "2021-10-13T11:40:08.748351Z",
     "iopub.status.idle": "2021-10-13T11:40:08.750520Z",
     "shell.execute_reply": "2021-10-13T11:40:08.750969Z"
    },
    "slideshow": {
     "slide_type": "skip"
    }
   },
   "outputs": [],
   "source": [
    "from Tracer import Tracer"
   ]
  },
  {
   "cell_type": "markdown",
   "metadata": {
    "slideshow": {
     "slide_type": "fragment"
    }
   },
   "source": [
    "In `PerfomanceTracker`, the attributes `hits` and `time` are mappings indexed by unique locations – that is, pairs of function name and line number."
   ]
  },
  {
   "cell_type": "code",
   "execution_count": 18,
   "metadata": {
    "execution": {
     "iopub.execute_input": "2021-10-13T11:40:08.754478Z",
     "iopub.status.busy": "2021-10-13T11:40:08.753856Z",
     "iopub.status.idle": "2021-10-13T11:40:08.755761Z",
     "shell.execute_reply": "2021-10-13T11:40:08.756163Z"
    },
    "slideshow": {
     "slide_type": "fragment"
    }
   },
   "outputs": [],
   "source": [
    "Location = Tuple[str, int]"
   ]
  },
  {
   "cell_type": "code",
   "execution_count": 19,
   "metadata": {
    "execution": {
     "iopub.execute_input": "2021-10-13T11:40:08.761897Z",
     "iopub.status.busy": "2021-10-13T11:40:08.761072Z",
     "iopub.status.idle": "2021-10-13T11:40:08.762832Z",
     "shell.execute_reply": "2021-10-13T11:40:08.763280Z"
    },
    "slideshow": {
     "slide_type": "subslide"
    }
   },
   "outputs": [],
   "source": [
    "class PerformanceTracer(Tracer):\n",
    "    \"\"\"Trace time and #hits for individual program lines\"\"\"\n",
    "\n",
    "    def __init__(self) -> None:\n",
    "        \"\"\"Constructor.\"\"\"\n",
    "        super().__init__()\n",
    "        self.reset_timer()\n",
    "        self.hits: Dict[Location, int] = {}\n",
    "        self.time: Dict[Location, float] = {}\n",
    "\n",
    "    def reset_timer(self) -> None:\n",
    "        self.timer = Timer.Timer()"
   ]
  },
  {
   "cell_type": "markdown",
   "metadata": {
    "slideshow": {
     "slide_type": "subslide"
    }
   },
   "source": [
    "As common in this book, we want to use `PerformanceTracer` in a `with`-block around the function call(s) to be tracked:\n",
    "\n",
    "```python\n",
    "with PerformanceTracer() as perf_tracer:\n",
    "    function(...)\n",
    "```"
   ]
  },
  {
   "cell_type": "markdown",
   "metadata": {
    "slideshow": {
     "slide_type": "fragment"
    }
   },
   "source": [
    "When entering the `with` block (`__enter__()`), we reset all timers. Also, coming from the `__enter__()` method of the superclass `Tracer`, we enable tracing through the `traceit()` method."
   ]
  },
  {
   "cell_type": "code",
   "execution_count": 20,
   "metadata": {
    "execution": {
     "iopub.execute_input": "2021-10-13T11:40:08.766549Z",
     "iopub.status.busy": "2021-10-13T11:40:08.766023Z",
     "iopub.status.idle": "2021-10-13T11:40:08.767786Z",
     "shell.execute_reply": "2021-10-13T11:40:08.768166Z"
    },
    "slideshow": {
     "slide_type": "skip"
    }
   },
   "outputs": [],
   "source": [
    "from types import FrameType"
   ]
  },
  {
   "cell_type": "code",
   "execution_count": 21,
   "metadata": {
    "execution": {
     "iopub.execute_input": "2021-10-13T11:40:08.772515Z",
     "iopub.status.busy": "2021-10-13T11:40:08.771303Z",
     "iopub.status.idle": "2021-10-13T11:40:08.773197Z",
     "shell.execute_reply": "2021-10-13T11:40:08.773590Z"
    },
    "slideshow": {
     "slide_type": "subslide"
    }
   },
   "outputs": [],
   "source": [
    "class PerformanceTracer(PerformanceTracer):\n",
    "    def __enter__(self) -> Any:\n",
    "        \"\"\"Enter a `with` block.\"\"\"\n",
    "        super().__enter__()\n",
    "        self.reset_timer()\n",
    "        return self"
   ]
  },
  {
   "cell_type": "markdown",
   "metadata": {
    "slideshow": {
     "slide_type": "fragment"
    }
   },
   "source": [
    "The `traceit()` method extracts the current location. It increases the corresponding `hits` value by 1, and adds the elapsed time to the corresponding `time`."
   ]
  },
  {
   "cell_type": "code",
   "execution_count": 22,
   "metadata": {
    "execution": {
     "iopub.execute_input": "2021-10-13T11:40:08.779510Z",
     "iopub.status.busy": "2021-10-13T11:40:08.778871Z",
     "iopub.status.idle": "2021-10-13T11:40:08.780475Z",
     "shell.execute_reply": "2021-10-13T11:40:08.780857Z"
    },
    "slideshow": {
     "slide_type": "subslide"
    }
   },
   "outputs": [],
   "source": [
    "class PerformanceTracer(PerformanceTracer):\n",
    "    def traceit(self, frame: FrameType, event: str, arg: Any) -> None:\n",
    "        \"\"\"Tracing function; called for every line.\"\"\"\n",
    "        t = self.timer.elapsed_time()\n",
    "        location = (frame.f_code.co_name, frame.f_lineno)\n",
    "\n",
    "        self.hits.setdefault(location, 0)\n",
    "        self.time.setdefault(location, 0.0)\n",
    "        self.hits[location] += 1\n",
    "        self.time[location] += t\n",
    "\n",
    "        self.reset_timer()"
   ]
  },
  {
   "cell_type": "markdown",
   "metadata": {
    "slideshow": {
     "slide_type": "fragment"
    }
   },
   "source": [
    "This is it already. We can now determine where most time is spent in `remove_html_markup()`. We invoke it 10,000 times such that we can average over runs:"
   ]
  },
  {
   "cell_type": "code",
   "execution_count": 23,
   "metadata": {
    "execution": {
     "iopub.execute_input": "2021-10-13T11:40:08.861882Z",
     "iopub.status.busy": "2021-10-13T11:40:08.822938Z",
     "iopub.status.idle": "2021-10-13T11:40:10.714680Z",
     "shell.execute_reply": "2021-10-13T11:40:10.715631Z"
    },
    "slideshow": {
     "slide_type": "subslide"
    }
   },
   "outputs": [],
   "source": [
    "with PerformanceTracer() as perf_tracer:\n",
    "    for i in range(10000):\n",
    "        s = remove_html_markup('<b>foo</b>')"
   ]
  },
  {
   "cell_type": "markdown",
   "metadata": {
    "slideshow": {
     "slide_type": "fragment"
    }
   },
   "source": [
    "Here are the hits. For every line executed, we see how often it was executed. The most executed line is the `for` loop with 110,000 hits – once for each of the 10 characters in `<b>foo</b>`, once for the final check, and all of this 10,000 times."
   ]
  },
  {
   "cell_type": "code",
   "execution_count": 24,
   "metadata": {
    "execution": {
     "iopub.execute_input": "2021-10-13T11:40:10.726496Z",
     "iopub.status.busy": "2021-10-13T11:40:10.725568Z",
     "iopub.status.idle": "2021-10-13T11:40:10.729828Z",
     "shell.execute_reply": "2021-10-13T11:40:10.730383Z"
    },
    "slideshow": {
     "slide_type": "subslide"
    }
   },
   "outputs": [
    {
     "data": {
      "text/plain": [
       "{('__init__', 17): 1,\n",
       " ('__init__', 19): 1,\n",
       " ('clock', 8): 1,\n",
       " ('clock', 12): 2,\n",
       " ('__init__', 20): 2,\n",
       " ('remove_html_markup', 238): 10000,\n",
       " ('remove_html_markup', 239): 10000,\n",
       " ('remove_html_markup', 240): 10000,\n",
       " ('remove_html_markup', 241): 10000,\n",
       " ('remove_html_markup', 243): 110000,\n",
       " ('remove_html_markup', 244): 100000,\n",
       " ('remove_html_markup', 246): 100000,\n",
       " ('remove_html_markup', 247): 20000,\n",
       " ('remove_html_markup', 248): 80000,\n",
       " ('remove_html_markup', 250): 60000,\n",
       " ('remove_html_markup', 252): 60000,\n",
       " ('remove_html_markup', 249): 20000,\n",
       " ('remove_html_markup', 253): 30000,\n",
       " ('remove_html_markup', 255): 20000}"
      ]
     },
     "execution_count": 24,
     "metadata": {},
     "output_type": "execute_result"
    }
   ],
   "source": [
    "perf_tracer.hits"
   ]
  },
  {
   "cell_type": "markdown",
   "metadata": {
    "slideshow": {
     "slide_type": "subslide"
    }
   },
   "source": [
    "The `time` attribute collects how much time was spent in each line. Within the loop, again, the `for` statement takes the most time. The other lines show some variability, though."
   ]
  },
  {
   "cell_type": "code",
   "execution_count": 25,
   "metadata": {
    "execution": {
     "iopub.execute_input": "2021-10-13T11:40:10.736404Z",
     "iopub.status.busy": "2021-10-13T11:40:10.735691Z",
     "iopub.status.idle": "2021-10-13T11:40:10.738623Z",
     "shell.execute_reply": "2021-10-13T11:40:10.739014Z"
    },
    "slideshow": {
     "slide_type": "subslide"
    }
   },
   "outputs": [
    {
     "data": {
      "text/plain": [
       "{('__init__', 17): 0.00012462000000823537,\n",
       " ('__init__', 19): 3.2840000017131388e-06,\n",
       " ('clock', 8): 2.092999977776344e-06,\n",
       " ('clock', 12): 3.1589999593961693e-06,\n",
       " ('__init__', 20): 3.5409999554758542e-06,\n",
       " ('remove_html_markup', 238): 0.02710586799491921,\n",
       " ('remove_html_markup', 239): 0.02167672900037587,\n",
       " ('remove_html_markup', 240): 0.021707793996313285,\n",
       " ('remove_html_markup', 241): 0.019892206999998052,\n",
       " ('remove_html_markup', 243): 0.1879202810065408,\n",
       " ('remove_html_markup', 244): 0.16813579201192397,\n",
       " ('remove_html_markup', 246): 0.1654875120003112,\n",
       " ('remove_html_markup', 247): 0.03375045500672513,\n",
       " ('remove_html_markup', 248): 0.1335470119967681,\n",
       " ('remove_html_markup', 250): 0.09952835599636956,\n",
       " ('remove_html_markup', 252): 0.10354405598434369,\n",
       " ('remove_html_markup', 249): 0.03398510800565191,\n",
       " ('remove_html_markup', 253): 0.04957545500070637,\n",
       " ('remove_html_markup', 255): 0.032625724000297396}"
      ]
     },
     "execution_count": 25,
     "metadata": {},
     "output_type": "execute_result"
    }
   ],
   "source": [
    "perf_tracer.time"
   ]
  },
  {
   "cell_type": "markdown",
   "metadata": {
    "slideshow": {
     "slide_type": "subslide"
    }
   },
   "source": [
    "For a full profiler, these numbers would now be sorted and printed in a table, much like `cProfile` does. However, we will borrow some material from previous chapters and annotate our code accordingly."
   ]
  },
  {
   "cell_type": "markdown",
   "metadata": {
    "slideshow": {
     "slide_type": "slide"
    }
   },
   "source": [
    "## Visualizing Performance Metrics\n",
    "\n",
    "In the [chapter on statistical debugging](StatisticalDebugger.ipynb), we have encountered the `CoverageCollector` class, which collects line and function coverage during execution, using a `collect()` method that is invoked for every line. We will repurpose this class to collect arbitrary _metrics_ on the lines executed, notably time taken."
   ]
  },
  {
   "cell_type": "markdown",
   "metadata": {
    "slideshow": {
     "slide_type": "subslide"
    }
   },
   "source": [
    "### Collecting Time Spent"
   ]
  },
  {
   "cell_type": "code",
   "execution_count": 26,
   "metadata": {
    "execution": {
     "iopub.execute_input": "2021-10-13T11:40:10.745420Z",
     "iopub.status.busy": "2021-10-13T11:40:10.744421Z",
     "iopub.status.idle": "2021-10-13T11:40:10.746791Z",
     "shell.execute_reply": "2021-10-13T11:40:10.747296Z"
    },
    "slideshow": {
     "slide_type": "skip"
    }
   },
   "outputs": [],
   "source": [
    "from StatisticalDebugger import CoverageCollector, SpectrumDebugger"
   ]
  },
  {
   "cell_type": "markdown",
   "metadata": {
    "slideshow": {
     "slide_type": "fragment"
    }
   },
   "source": [
    "The `MetricCollector` class is an abstract superclass that provides an interface to access a particular metric."
   ]
  },
  {
   "cell_type": "code",
   "execution_count": 27,
   "metadata": {
    "execution": {
     "iopub.execute_input": "2021-10-13T11:40:10.752673Z",
     "iopub.status.busy": "2021-10-13T11:40:10.751681Z",
     "iopub.status.idle": "2021-10-13T11:40:10.754374Z",
     "shell.execute_reply": "2021-10-13T11:40:10.755001Z"
    },
    "slideshow": {
     "slide_type": "fragment"
    }
   },
   "outputs": [],
   "source": [
    "class MetricCollector(CoverageCollector):\n",
    "    \"\"\"Abstract superclass for collecting line-specific metrics\"\"\"\n",
    "\n",
    "    def metric(self, event: Any) -> Optional[float]:\n",
    "        \"\"\"Return a metric for an event, or none.\"\"\"\n",
    "        return None\n",
    "\n",
    "    def all_metrics(self, func: str) -> List[float]:\n",
    "        \"\"\"Return all metric for a function `func`.\"\"\"\n",
    "        return []"
   ]
  },
  {
   "cell_type": "markdown",
   "metadata": {
    "slideshow": {
     "slide_type": "fragment"
    }
   },
   "source": [
    "Given these metrics, we can also compute sums and maxima for a single function."
   ]
  },
  {
   "cell_type": "code",
   "execution_count": 28,
   "metadata": {
    "execution": {
     "iopub.execute_input": "2021-10-13T11:40:10.762736Z",
     "iopub.status.busy": "2021-10-13T11:40:10.761517Z",
     "iopub.status.idle": "2021-10-13T11:40:10.764544Z",
     "shell.execute_reply": "2021-10-13T11:40:10.765270Z"
    },
    "slideshow": {
     "slide_type": "subslide"
    }
   },
   "outputs": [],
   "source": [
    "class MetricCollector(MetricCollector):\n",
    "    def total(self, func: str) -> float:\n",
    "        return sum(self.all_metrics(func))\n",
    "\n",
    "    def maximum(self, func: str) -> float:\n",
    "        return max(self.all_metrics(func))"
   ]
  },
  {
   "cell_type": "markdown",
   "metadata": {
    "slideshow": {
     "slide_type": "fragment"
    }
   },
   "source": [
    "Let us instantiate this superclass into `TimeCollector` – a subclass that measures time. This is modeled after our `PerformanceTracer` class, above; notably, the `time` attribute serves the same role."
   ]
  },
  {
   "cell_type": "code",
   "execution_count": 29,
   "metadata": {
    "execution": {
     "iopub.execute_input": "2021-10-13T11:40:10.773063Z",
     "iopub.status.busy": "2021-10-13T11:40:10.772311Z",
     "iopub.status.idle": "2021-10-13T11:40:10.774580Z",
     "shell.execute_reply": "2021-10-13T11:40:10.775038Z"
    },
    "slideshow": {
     "slide_type": "subslide"
    }
   },
   "outputs": [],
   "source": [
    "class TimeCollector(MetricCollector):\n",
    "    \"\"\"Collect time executed for each line\"\"\"\n",
    "\n",
    "    def __init__(self) -> None:\n",
    "        \"\"\"Constructor\"\"\"\n",
    "        super().__init__()\n",
    "        self.reset_timer()\n",
    "        self.time: Dict[Location, float] = {}\n",
    "        self.add_items_to_ignore([Timer.Timer, Timer.clock])\n",
    "\n",
    "    def collect(self, frame: FrameType, event: str, arg: Any) -> None:\n",
    "        \"\"\"Invoked for every line executed. Accumulate time spent.\"\"\"\n",
    "        t = self.timer.elapsed_time()\n",
    "        super().collect(frame, event, arg)\n",
    "        location = (frame.f_code.co_name, frame.f_lineno)\n",
    "\n",
    "        self.time.setdefault(location, 0.0)\n",
    "        self.time[location] += t\n",
    "\n",
    "        self.reset_timer()\n",
    "\n",
    "    def reset_timer(self) -> None:\n",
    "        self.timer = Timer.Timer()\n",
    "\n",
    "    def __enter__(self) -> Any:\n",
    "        super().__enter__()\n",
    "        self.reset_timer()\n",
    "        return self"
   ]
  },
  {
   "cell_type": "markdown",
   "metadata": {
    "slideshow": {
     "slide_type": "subslide"
    }
   },
   "source": [
    "The `metric()` and `all_metrics()` methods accumulate the metric (time taken) for an individual function:"
   ]
  },
  {
   "cell_type": "code",
   "execution_count": 30,
   "metadata": {
    "execution": {
     "iopub.execute_input": "2021-10-13T11:40:10.781277Z",
     "iopub.status.busy": "2021-10-13T11:40:10.780489Z",
     "iopub.status.idle": "2021-10-13T11:40:10.782303Z",
     "shell.execute_reply": "2021-10-13T11:40:10.782752Z"
    },
    "slideshow": {
     "slide_type": "fragment"
    }
   },
   "outputs": [],
   "source": [
    "class TimeCollector(TimeCollector):\n",
    "    def metric(self, location: Any) -> Optional[float]:\n",
    "        if location in self.time:\n",
    "            return self.time[location]\n",
    "        else:\n",
    "            return None\n",
    "\n",
    "    def all_metrics(self, func: str) -> List[float]:\n",
    "        return [time\n",
    "                for (func_name, lineno), time in self.time.items()\n",
    "                if func_name == func]"
   ]
  },
  {
   "cell_type": "markdown",
   "metadata": {
    "slideshow": {
     "slide_type": "fragment"
    }
   },
   "source": [
    "Here's how to use `TimeCollector()` – again, in a `with` block:"
   ]
  },
  {
   "cell_type": "code",
   "execution_count": 31,
   "metadata": {
    "execution": {
     "iopub.execute_input": "2021-10-13T11:40:10.823287Z",
     "iopub.status.busy": "2021-10-13T11:40:10.822395Z",
     "iopub.status.idle": "2021-10-13T11:40:10.824596Z",
     "shell.execute_reply": "2021-10-13T11:40:10.824980Z"
    },
    "slideshow": {
     "slide_type": "subslide"
    }
   },
   "outputs": [],
   "source": [
    "with TimeCollector() as collector:\n",
    "    for i in range(100):\n",
    "        s = remove_html_markup('<b>foo</b>')"
   ]
  },
  {
   "cell_type": "markdown",
   "metadata": {
    "slideshow": {
     "slide_type": "fragment"
    }
   },
   "source": [
    "The `time` attribute holds the time spent in each line:"
   ]
  },
  {
   "cell_type": "code",
   "execution_count": 32,
   "metadata": {
    "execution": {
     "iopub.execute_input": "2021-10-13T11:40:10.829562Z",
     "iopub.status.busy": "2021-10-13T11:40:10.829023Z",
     "iopub.status.idle": "2021-10-13T11:40:10.832084Z",
     "shell.execute_reply": "2021-10-13T11:40:10.832475Z"
    },
    "slideshow": {
     "slide_type": "subslide"
    }
   },
   "outputs": [
    {
     "name": "stdout",
     "output_type": "stream",
     "text": [
      "('remove_html_markup', 238) 0.0005057819997205115\n",
      "('remove_html_markup', 239) 0.00037026900025693976\n",
      "('remove_html_markup', 240) 0.00038337600034310526\n",
      "('remove_html_markup', 241) 0.00033999599992284857\n",
      "('remove_html_markup', 243) 0.003393263000418756\n",
      "('remove_html_markup', 244) 0.002947407999783991\n",
      "('remove_html_markup', 246) 0.0033086429990021315\n",
      "('remove_html_markup', 247) 0.0006103690000145434\n",
      "('remove_html_markup', 248) 0.0024212870001747433\n",
      "('remove_html_markup', 250) 0.0018245680003019515\n",
      "('remove_html_markup', 252) 0.0018148539989510937\n",
      "('remove_html_markup', 249) 0.0006176820003247485\n",
      "('remove_html_markup', 253) 0.0008821940003258533\n",
      "('remove_html_markup', 255) 0.000573812000311591\n"
     ]
    }
   ],
   "source": [
    "for location, time_spent in collector.time.items():\n",
    "    print(location, time_spent)"
   ]
  },
  {
   "cell_type": "markdown",
   "metadata": {
    "slideshow": {
     "slide_type": "subslide"
    }
   },
   "source": [
    "And we can also create a total for an entire function:"
   ]
  },
  {
   "cell_type": "code",
   "execution_count": 33,
   "metadata": {
    "execution": {
     "iopub.execute_input": "2021-10-13T11:40:10.837039Z",
     "iopub.status.busy": "2021-10-13T11:40:10.836459Z",
     "iopub.status.idle": "2021-10-13T11:40:10.839040Z",
     "shell.execute_reply": "2021-10-13T11:40:10.839674Z"
    },
    "slideshow": {
     "slide_type": "fragment"
    }
   },
   "outputs": [
    {
     "data": {
      "text/plain": [
       "0.019993502999852808"
      ]
     },
     "execution_count": 33,
     "metadata": {},
     "output_type": "execute_result"
    }
   ],
   "source": [
    "collector.total('remove_html_markup')"
   ]
  },
  {
   "cell_type": "markdown",
   "metadata": {
    "slideshow": {
     "slide_type": "subslide"
    }
   },
   "source": [
    "### Visualizing Time Spent\n",
    "\n",
    "Let us now go and visualize these numbers in a simple form. The idea is to assign each line a _color_ whose saturation indicates the time spent in that line relative to the time spent in the function overall  – the higher the fraction, the darker the line. We create a `MetricDebugger` class built as a specialization of `SpectrumDebugger`, in which `suspiciousness()` and `color()` are repurposed to show these metrics."
   ]
  },
  {
   "cell_type": "code",
   "execution_count": 34,
   "metadata": {
    "execution": {
     "iopub.execute_input": "2021-10-13T11:40:10.848042Z",
     "iopub.status.busy": "2021-10-13T11:40:10.847418Z",
     "iopub.status.idle": "2021-10-13T11:40:10.848898Z",
     "shell.execute_reply": "2021-10-13T11:40:10.849272Z"
    },
    "slideshow": {
     "slide_type": "subslide"
    }
   },
   "outputs": [],
   "source": [
    "class MetricDebugger(SpectrumDebugger):\n",
    "    \"\"\"Visualize a metric\"\"\"\n",
    "\n",
    "    def metric(self, location: Location) -> float:\n",
    "        sum = 0.0\n",
    "        for outcome in self.collectors:\n",
    "            for collector in self.collectors[outcome]:\n",
    "                assert isinstance(collector, MetricCollector)\n",
    "                m = collector.metric(location)\n",
    "                if m is not None:\n",
    "                    sum += m  # type: ignore\n",
    "\n",
    "        return sum\n",
    "\n",
    "    def total(self, func_name: str) -> float:\n",
    "        total = 0.0\n",
    "        for outcome in self.collectors:\n",
    "            for collector in self.collectors[outcome]:\n",
    "                assert isinstance(collector, MetricCollector)\n",
    "                total += sum(collector.all_metrics(func_name))\n",
    "\n",
    "        return total\n",
    "\n",
    "    def maximum(self, func_name: str) -> float:\n",
    "        maximum = 0.0\n",
    "        for outcome in self.collectors:\n",
    "            for collector in self.collectors[outcome]:\n",
    "                assert isinstance(collector, MetricCollector)\n",
    "                maximum = max(maximum, \n",
    "                              max(collector.all_metrics(func_name)))\n",
    "\n",
    "        return maximum\n",
    "\n",
    "    def suspiciousness(self, location: Location) -> float:\n",
    "        func_name, _ = location\n",
    "        return self.metric(location) / self.total(func_name)\n",
    "\n",
    "    def color(self, location: Location) -> str:\n",
    "        func_name, _ = location\n",
    "        hue = 240  # blue\n",
    "        saturation = 100  # fully saturated\n",
    "        darkness = self.metric(location) / self.maximum(func_name)\n",
    "        lightness = 100 - darkness * 25\n",
    "        return f\"hsl({hue}, {saturation}%, {lightness}%)\"\n",
    "\n",
    "    def tooltip(self, location: Location) -> str:\n",
    "        return f\"{super().tooltip(location)} {self.metric(location)}\""
   ]
  },
  {
   "cell_type": "markdown",
   "metadata": {
    "slideshow": {
     "slide_type": "subslide"
    }
   },
   "source": [
    "We can now introduce `PerformanceDebugger` as a subclass of `MetricDebugger`, using an arbitrary `MetricCollector` (such as `TimeCollector`) to obtain the metric we want to visualize."
   ]
  },
  {
   "cell_type": "code",
   "execution_count": 35,
   "metadata": {
    "execution": {
     "iopub.execute_input": "2021-10-13T11:40:10.854032Z",
     "iopub.status.busy": "2021-10-13T11:40:10.853404Z",
     "iopub.status.idle": "2021-10-13T11:40:10.855114Z",
     "shell.execute_reply": "2021-10-13T11:40:10.855537Z"
    },
    "slideshow": {
     "slide_type": "fragment"
    }
   },
   "outputs": [],
   "source": [
    "class PerformanceDebugger(MetricDebugger):\n",
    "    \"\"\"Collect and visualize a metric\"\"\"\n",
    "\n",
    "    def __init__(self, collector_class: Type, log: bool = False):\n",
    "        assert issubclass(collector_class, MetricCollector)\n",
    "        super().__init__(collector_class, log=log)"
   ]
  },
  {
   "cell_type": "markdown",
   "metadata": {
    "slideshow": {
     "slide_type": "fragment"
    }
   },
   "source": [
    "With `PerformanceDebugger`, we inherit all the capabilities of `SpectrumDebugger`, such as showing the (relative) percentage of time spent in a table. We see that the `for` condition and the following `assert` take most of the time, followed by the first condition."
   ]
  },
  {
   "cell_type": "code",
   "execution_count": 36,
   "metadata": {
    "execution": {
     "iopub.execute_input": "2021-10-13T11:40:10.895675Z",
     "iopub.status.busy": "2021-10-13T11:40:10.895142Z",
     "iopub.status.idle": "2021-10-13T11:40:10.896864Z",
     "shell.execute_reply": "2021-10-13T11:40:10.897234Z"
    },
    "slideshow": {
     "slide_type": "subslide"
    }
   },
   "outputs": [],
   "source": [
    "with PerformanceDebugger(TimeCollector) as debugger:\n",
    "    for i in range(100):\n",
    "        s = remove_html_markup('<b>foo</b>')"
   ]
  },
  {
   "cell_type": "code",
   "execution_count": 37,
   "metadata": {
    "execution": {
     "iopub.execute_input": "2021-10-13T11:40:10.902203Z",
     "iopub.status.busy": "2021-10-13T11:40:10.901316Z",
     "iopub.status.idle": "2021-10-13T11:40:10.904826Z",
     "shell.execute_reply": "2021-10-13T11:40:10.905438Z"
    },
    "slideshow": {
     "slide_type": "subslide"
    }
   },
   "outputs": [
    {
     "name": "stdout",
     "output_type": "stream",
     "text": [
      " 238   2% def remove_html_markup(s):  # type: ignore\n",
      " 239   1%     tag = False\n",
      " 240   1%     quote = False\n",
      " 241   1%     out = \"\"\n",
      " 242   0%\n",
      " 243  17%     for c in s:\n",
      " 244  15%         assert tag or not quote\n",
      " 245   0%\n",
      " 246  14%         if c == '<' and not quote:\n",
      " 247   2%             tag = True\n",
      " 248  12%         elif c == '>' and not quote:\n",
      " 249   3%             tag = False\n",
      " 250   8%         elif (c == '\"' or c == \"'\") and tag:\n",
      " 251   0%             quote = not quote\n",
      " 252   9%         elif not tag:\n",
      " 253   4%             out = out + c\n",
      " 254   0%\n",
      " 255   2%     return out\n",
      "\n"
     ]
    }
   ],
   "source": [
    "print(debugger)"
   ]
  },
  {
   "cell_type": "markdown",
   "metadata": {
    "slideshow": {
     "slide_type": "subslide"
    }
   },
   "source": [
    "However, we can also visualize these percentages, using shades of blue to indicate those lines most time spent in:"
   ]
  },
  {
   "cell_type": "code",
   "execution_count": 38,
   "metadata": {
    "execution": {
     "iopub.execute_input": "2021-10-13T11:40:10.915493Z",
     "iopub.status.busy": "2021-10-13T11:40:10.914256Z",
     "iopub.status.idle": "2021-10-13T11:40:10.919201Z",
     "shell.execute_reply": "2021-10-13T11:40:10.919804Z"
    },
    "slideshow": {
     "slide_type": "subslide"
    }
   },
   "outputs": [
    {
     "data": {
      "text/html": [
       "<pre style=\"background-color:hsl(240, 100%, 96.59761803288234%)\"\n",
       "                    title=\"Line 238:   2% 0.00047184899983676587\"> 238 def remove_html_markup(s):  # type: ignore</pre>\n",
       "<pre style=\"background-color:hsl(240, 100%, 97.2532115922777%)\"\n",
       "                    title=\"Line 239:   1% 0.0003809300000625626\"> 239     tag = False</pre>\n",
       "<pre style=\"background-color:hsl(240, 100%, 97.25929025091236%)\"\n",
       "                    title=\"Line 240:   1% 0.0003800869997689915\"> 240     quote = False</pre>\n",
       "<pre style=\"background-color:hsl(240, 100%, 97.31021251699649%)\"\n",
       "                    title=\"Line 241:   1% 0.00037302500010127915\"> 241     out = &quot;&quot;</pre>\n",
       "<pre style=\"background-color:hsl(240, 100%, 100.0%)\"\n",
       "                    title=\"Line 242:   0% 0.0\"> 242 &nbsp;</pre>\n",
       "<pre style=\"background-color:hsl(240, 100%, 75.0%)\"\n",
       "                    title=\"Line 243:  17% 0.0034670489997665754\"> 243     for c in s:</pre>\n",
       "<pre style=\"background-color:hsl(240, 100%, 77.2002068592657%)\"\n",
       "                    title=\"Line 244:  15% 0.003161920000138707\"> 244         assert tag or not quote</pre>\n",
       "<pre style=\"background-color:hsl(240, 100%, 100.0%)\"\n",
       "                    title=\"Line 245:   0% 0.0\"> 245 &nbsp;</pre>\n",
       "<pre style=\"background-color:hsl(240, 100%, 78.12628981312187%)\"\n",
       "                    title=\"Line 246:  14% 0.003033489000983991\"> 246         if c == &#x27;&lt;&#x27; and not quote:</pre>\n",
       "<pre style=\"background-color:hsl(240, 100%, 95.65699821502295%)\"\n",
       "                    title=\"Line 247:   2% 0.0006022959997835642\"> 247             tag = True</pre>\n",
       "<pre style=\"background-color:hsl(240, 100%, 82.387283824652%)\"\n",
       "                    title=\"Line 248:  12% 0.002442565999956514\"> 248         elif c == &#x27;&gt;&#x27; and not quote:</pre>\n",
       "<pre style=\"background-color:hsl(240, 100%, 94.56222712380571%)\"\n",
       "                    title=\"Line 249:   3% 0.0007541210004546883\"> 249             tag = False</pre>\n",
       "<pre style=\"background-color:hsl(240, 100%, 87.25167281603156%)\"\n",
       "                    title=\"Line 250:   8% 0.0017679630004749924\"> 250         elif (c == &#x27;&quot;&#x27; or c == &quot;&#x27;&quot;) and tag:</pre>\n",
       "<pre style=\"background-color:hsl(240, 100%, 100.0%)\"\n",
       "                    title=\"Line 251:   0% 0.0\"> 251             quote = not quote</pre>\n",
       "<pre style=\"background-color:hsl(240, 100%, 86.57094982247122%)\"\n",
       "                    title=\"Line 252:   9% 0.001862366999432652\"> 252         elif not tag:</pre>\n",
       "<pre style=\"background-color:hsl(240, 100%, 92.90874602428609%)\"\n",
       "                    title=\"Line 253:   4% 0.0009834290001435875\"> 253             out = out + c</pre>\n",
       "<pre style=\"background-color:hsl(240, 100%, 100.0%)\"\n",
       "                    title=\"Line 254:   0% 0.0\"> 254 &nbsp;</pre>\n",
       "<pre style=\"background-color:hsl(240, 100%, 95.78362607426149%)\"\n",
       "                    title=\"Line 255:   2% 0.0005847350000749429\"> 255     return out</pre>\n"
      ],
      "text/markdown": [
       "| `remove_html_markup` | `s='<b>foo</b>'` | \n",
       "| ---------------------- | ---- | \n",
       "| <samp style=\"background-color: hsl(240, 100%, 96.59761803288234%)\" title=\"  2% 0.00047184899983676587\">remove_html_markup:238</samp> |    X | \n",
       "| <samp style=\"background-color: hsl(240, 100%, 97.2532115922777%)\" title=\"  1% 0.0003809300000625626\">remove_html_markup:239</samp> |    X | \n",
       "| <samp style=\"background-color: hsl(240, 100%, 97.25929025091236%)\" title=\"  1% 0.0003800869997689915\">remove_html_markup:240</samp> |    X | \n",
       "| <samp style=\"background-color: hsl(240, 100%, 97.31021251699649%)\" title=\"  1% 0.00037302500010127915\">remove_html_markup:241</samp> |    X | \n",
       "| <samp style=\"background-color: hsl(240, 100%, 75.0%)\" title=\" 17% 0.0034670489997665754\">remove_html_markup:243</samp> |    X | \n",
       "| <samp style=\"background-color: hsl(240, 100%, 77.2002068592657%)\" title=\" 15% 0.003161920000138707\">remove_html_markup:244</samp> |    X | \n",
       "| <samp style=\"background-color: hsl(240, 100%, 78.12628981312187%)\" title=\" 14% 0.003033489000983991\">remove_html_markup:246</samp> |    X | \n",
       "| <samp style=\"background-color: hsl(240, 100%, 95.65699821502295%)\" title=\"  2% 0.0006022959997835642\">remove_html_markup:247</samp> |    X | \n",
       "| <samp style=\"background-color: hsl(240, 100%, 82.387283824652%)\" title=\" 12% 0.002442565999956514\">remove_html_markup:248</samp> |    X | \n",
       "| <samp style=\"background-color: hsl(240, 100%, 94.56222712380571%)\" title=\"  3% 0.0007541210004546883\">remove_html_markup:249</samp> |    X | \n",
       "| <samp style=\"background-color: hsl(240, 100%, 87.25167281603156%)\" title=\"  8% 0.0017679630004749924\">remove_html_markup:250</samp> |    X | \n",
       "| <samp style=\"background-color: hsl(240, 100%, 86.57094982247122%)\" title=\"  9% 0.001862366999432652\">remove_html_markup:252</samp> |    X | \n",
       "| <samp style=\"background-color: hsl(240, 100%, 92.90874602428609%)\" title=\"  4% 0.0009834290001435875\">remove_html_markup:253</samp> |    X | \n",
       "| <samp style=\"background-color: hsl(240, 100%, 95.78362607426149%)\" title=\"  2% 0.0005847350000749429\">remove_html_markup:255</samp> |    X | \n"
      ],
      "text/plain": [
       " 238   2% def remove_html_markup(s):  # type: ignore\n",
       " 239   1%     tag = False\n",
       " 240   1%     quote = False\n",
       " 241   1%     out = \"\"\n",
       " 242   0%\n",
       " 243  17%     for c in s:\n",
       " 244  15%         assert tag or not quote\n",
       " 245   0%\n",
       " 246  14%         if c == '<' and not quote:\n",
       " 247   2%             tag = True\n",
       " 248  12%         elif c == '>' and not quote:\n",
       " 249   3%             tag = False\n",
       " 250   8%         elif (c == '\"' or c == \"'\") and tag:\n",
       " 251   0%             quote = not quote\n",
       " 252   9%         elif not tag:\n",
       " 253   4%             out = out + c\n",
       " 254   0%\n",
       " 255   2%     return out"
      ]
     },
     "execution_count": 38,
     "metadata": {},
     "output_type": "execute_result"
    }
   ],
   "source": [
    "debugger"
   ]
  },
  {
   "cell_type": "markdown",
   "metadata": {
    "slideshow": {
     "slide_type": "subslide"
    }
   },
   "source": [
    "### Other Metrics\n",
    "\n",
    "Our framework is flexible enough to collect (and visualize) arbitrary metrics. This `HitCollector` class, for instance, collects how often a line is being executed."
   ]
  },
  {
   "cell_type": "code",
   "execution_count": 39,
   "metadata": {
    "execution": {
     "iopub.execute_input": "2021-10-13T11:40:10.929377Z",
     "iopub.status.busy": "2021-10-13T11:40:10.927975Z",
     "iopub.status.idle": "2021-10-13T11:40:10.930285Z",
     "shell.execute_reply": "2021-10-13T11:40:10.930748Z"
    },
    "slideshow": {
     "slide_type": "subslide"
    }
   },
   "outputs": [],
   "source": [
    "class HitCollector(MetricCollector):\n",
    "    \"\"\"Collect how often a line is executed\"\"\"\n",
    "\n",
    "    def __init__(self) -> None:\n",
    "        super().__init__()\n",
    "        self.hits: Dict[Location, int] = {}\n",
    "\n",
    "    def collect(self, frame: FrameType, event: str, arg: Any) -> None:\n",
    "        super().collect(frame, event, arg)\n",
    "        location = (frame.f_code.co_name, frame.f_lineno)\n",
    "\n",
    "        self.hits.setdefault(location, 0)\n",
    "        self.hits[location] += 1\n",
    "\n",
    "    def metric(self, location: Location) -> Optional[int]:\n",
    "        if location in self.hits:\n",
    "            return self.hits[location]\n",
    "        else:\n",
    "            return None\n",
    "\n",
    "    def all_metrics(self, func: str) -> List[float]:\n",
    "        return [hits\n",
    "                for (func_name, lineno), hits in self.hits.items()\n",
    "                if func_name == func]"
   ]
  },
  {
   "cell_type": "markdown",
   "metadata": {
    "slideshow": {
     "slide_type": "subslide"
    }
   },
   "source": [
    "We can plug in this class into `PerformanceDebugger` to obtain a distribution of lines executed:"
   ]
  },
  {
   "cell_type": "code",
   "execution_count": 40,
   "metadata": {
    "execution": {
     "iopub.execute_input": "2021-10-13T11:40:10.969063Z",
     "iopub.status.busy": "2021-10-13T11:40:10.966853Z",
     "iopub.status.idle": "2021-10-13T11:40:10.970819Z",
     "shell.execute_reply": "2021-10-13T11:40:10.971327Z"
    },
    "slideshow": {
     "slide_type": "fragment"
    }
   },
   "outputs": [],
   "source": [
    "with PerformanceDebugger(HitCollector) as debugger:\n",
    "    for i in range(100):\n",
    "        s = remove_html_markup('<b>foo</b>')"
   ]
  },
  {
   "cell_type": "markdown",
   "metadata": {
    "slideshow": {
     "slide_type": "fragment"
    }
   },
   "source": [
    "In total, during this call to `remove_html_markup()`, there are 6,400 lines executed:"
   ]
  },
  {
   "cell_type": "code",
   "execution_count": 41,
   "metadata": {
    "execution": {
     "iopub.execute_input": "2021-10-13T11:40:10.975959Z",
     "iopub.status.busy": "2021-10-13T11:40:10.975091Z",
     "iopub.status.idle": "2021-10-13T11:40:10.977854Z",
     "shell.execute_reply": "2021-10-13T11:40:10.978229Z"
    },
    "slideshow": {
     "slide_type": "fragment"
    }
   },
   "outputs": [
    {
     "data": {
      "text/plain": [
       "6400.0"
      ]
     },
     "execution_count": 41,
     "metadata": {},
     "output_type": "execute_result"
    }
   ],
   "source": [
    "debugger.total('remove_html_markup')"
   ]
  },
  {
   "cell_type": "markdown",
   "metadata": {
    "slideshow": {
     "slide_type": "fragment"
    }
   },
   "source": [
    "Again, we can visualize the distribution as a table and using colors. We can see how the shade gets lighter in the lower part of the loop as individual conditions have been met."
   ]
  },
  {
   "cell_type": "code",
   "execution_count": 42,
   "metadata": {
    "execution": {
     "iopub.execute_input": "2021-10-13T11:40:10.983091Z",
     "iopub.status.busy": "2021-10-13T11:40:10.982448Z",
     "iopub.status.idle": "2021-10-13T11:40:10.984866Z",
     "shell.execute_reply": "2021-10-13T11:40:10.985269Z"
    },
    "slideshow": {
     "slide_type": "subslide"
    }
   },
   "outputs": [
    {
     "name": "stdout",
     "output_type": "stream",
     "text": [
      " 238   1% def remove_html_markup(s):  # type: ignore\n",
      " 239   1%     tag = False\n",
      " 240   1%     quote = False\n",
      " 241   1%     out = \"\"\n",
      " 242   0%\n",
      " 243  17%     for c in s:\n",
      " 244  15%         assert tag or not quote\n",
      " 245   0%\n",
      " 246  15%         if c == '<' and not quote:\n",
      " 247   3%             tag = True\n",
      " 248  12%         elif c == '>' and not quote:\n",
      " 249   3%             tag = False\n",
      " 250   9%         elif (c == '\"' or c == \"'\") and tag:\n",
      " 251   0%             quote = not quote\n",
      " 252   9%         elif not tag:\n",
      " 253   4%             out = out + c\n",
      " 254   0%\n",
      " 255   3%     return out\n",
      "\n"
     ]
    }
   ],
   "source": [
    "print(debugger)"
   ]
  },
  {
   "cell_type": "code",
   "execution_count": 43,
   "metadata": {
    "execution": {
     "iopub.execute_input": "2021-10-13T11:40:10.990624Z",
     "iopub.status.busy": "2021-10-13T11:40:10.988867Z",
     "iopub.status.idle": "2021-10-13T11:40:10.992957Z",
     "shell.execute_reply": "2021-10-13T11:40:10.993340Z"
    },
    "slideshow": {
     "slide_type": "subslide"
    }
   },
   "outputs": [
    {
     "data": {
      "text/html": [
       "<pre style=\"background-color:hsl(240, 100%, 97.72727272727273%)\"\n",
       "                    title=\"Line 238:   1% 100.0\"> 238 def remove_html_markup(s):  # type: ignore</pre>\n",
       "<pre style=\"background-color:hsl(240, 100%, 97.72727272727273%)\"\n",
       "                    title=\"Line 239:   1% 100.0\"> 239     tag = False</pre>\n",
       "<pre style=\"background-color:hsl(240, 100%, 97.72727272727273%)\"\n",
       "                    title=\"Line 240:   1% 100.0\"> 240     quote = False</pre>\n",
       "<pre style=\"background-color:hsl(240, 100%, 97.72727272727273%)\"\n",
       "                    title=\"Line 241:   1% 100.0\"> 241     out = &quot;&quot;</pre>\n",
       "<pre style=\"background-color:hsl(240, 100%, 100.0%)\"\n",
       "                    title=\"Line 242:   0% 0.0\"> 242 &nbsp;</pre>\n",
       "<pre style=\"background-color:hsl(240, 100%, 75.0%)\"\n",
       "                    title=\"Line 243:  17% 1100.0\"> 243     for c in s:</pre>\n",
       "<pre style=\"background-color:hsl(240, 100%, 77.27272727272728%)\"\n",
       "                    title=\"Line 244:  15% 1000.0\"> 244         assert tag or not quote</pre>\n",
       "<pre style=\"background-color:hsl(240, 100%, 100.0%)\"\n",
       "                    title=\"Line 245:   0% 0.0\"> 245 &nbsp;</pre>\n",
       "<pre style=\"background-color:hsl(240, 100%, 77.27272727272728%)\"\n",
       "                    title=\"Line 246:  15% 1000.0\"> 246         if c == &#x27;&lt;&#x27; and not quote:</pre>\n",
       "<pre style=\"background-color:hsl(240, 100%, 95.45454545454545%)\"\n",
       "                    title=\"Line 247:   3% 200.0\"> 247             tag = True</pre>\n",
       "<pre style=\"background-color:hsl(240, 100%, 81.81818181818181%)\"\n",
       "                    title=\"Line 248:  12% 800.0\"> 248         elif c == &#x27;&gt;&#x27; and not quote:</pre>\n",
       "<pre style=\"background-color:hsl(240, 100%, 95.45454545454545%)\"\n",
       "                    title=\"Line 249:   3% 200.0\"> 249             tag = False</pre>\n",
       "<pre style=\"background-color:hsl(240, 100%, 86.36363636363636%)\"\n",
       "                    title=\"Line 250:   9% 600.0\"> 250         elif (c == &#x27;&quot;&#x27; or c == &quot;&#x27;&quot;) and tag:</pre>\n",
       "<pre style=\"background-color:hsl(240, 100%, 100.0%)\"\n",
       "                    title=\"Line 251:   0% 0.0\"> 251             quote = not quote</pre>\n",
       "<pre style=\"background-color:hsl(240, 100%, 86.36363636363636%)\"\n",
       "                    title=\"Line 252:   9% 600.0\"> 252         elif not tag:</pre>\n",
       "<pre style=\"background-color:hsl(240, 100%, 93.18181818181819%)\"\n",
       "                    title=\"Line 253:   4% 300.0\"> 253             out = out + c</pre>\n",
       "<pre style=\"background-color:hsl(240, 100%, 100.0%)\"\n",
       "                    title=\"Line 254:   0% 0.0\"> 254 &nbsp;</pre>\n",
       "<pre style=\"background-color:hsl(240, 100%, 95.45454545454545%)\"\n",
       "                    title=\"Line 255:   3% 200.0\"> 255     return out</pre>\n"
      ],
      "text/markdown": [
       "| `remove_html_markup` | `s='<b>foo</b>'` | \n",
       "| ---------------------- | ---- | \n",
       "| <samp style=\"background-color: hsl(240, 100%, 97.72727272727273%)\" title=\"  1% 100.0\">remove_html_markup:238</samp> |    X | \n",
       "| <samp style=\"background-color: hsl(240, 100%, 97.72727272727273%)\" title=\"  1% 100.0\">remove_html_markup:239</samp> |    X | \n",
       "| <samp style=\"background-color: hsl(240, 100%, 97.72727272727273%)\" title=\"  1% 100.0\">remove_html_markup:240</samp> |    X | \n",
       "| <samp style=\"background-color: hsl(240, 100%, 97.72727272727273%)\" title=\"  1% 100.0\">remove_html_markup:241</samp> |    X | \n",
       "| <samp style=\"background-color: hsl(240, 100%, 75.0%)\" title=\" 17% 1100.0\">remove_html_markup:243</samp> |    X | \n",
       "| <samp style=\"background-color: hsl(240, 100%, 77.27272727272728%)\" title=\" 15% 1000.0\">remove_html_markup:244</samp> |    X | \n",
       "| <samp style=\"background-color: hsl(240, 100%, 77.27272727272728%)\" title=\" 15% 1000.0\">remove_html_markup:246</samp> |    X | \n",
       "| <samp style=\"background-color: hsl(240, 100%, 95.45454545454545%)\" title=\"  3% 200.0\">remove_html_markup:247</samp> |    X | \n",
       "| <samp style=\"background-color: hsl(240, 100%, 81.81818181818181%)\" title=\" 12% 800.0\">remove_html_markup:248</samp> |    X | \n",
       "| <samp style=\"background-color: hsl(240, 100%, 95.45454545454545%)\" title=\"  3% 200.0\">remove_html_markup:249</samp> |    X | \n",
       "| <samp style=\"background-color: hsl(240, 100%, 86.36363636363636%)\" title=\"  9% 600.0\">remove_html_markup:250</samp> |    X | \n",
       "| <samp style=\"background-color: hsl(240, 100%, 86.36363636363636%)\" title=\"  9% 600.0\">remove_html_markup:252</samp> |    X | \n",
       "| <samp style=\"background-color: hsl(240, 100%, 93.18181818181819%)\" title=\"  4% 300.0\">remove_html_markup:253</samp> |    X | \n",
       "| <samp style=\"background-color: hsl(240, 100%, 95.45454545454545%)\" title=\"  3% 200.0\">remove_html_markup:255</samp> |    X | \n"
      ],
      "text/plain": [
       " 238   1% def remove_html_markup(s):  # type: ignore\n",
       " 239   1%     tag = False\n",
       " 240   1%     quote = False\n",
       " 241   1%     out = \"\"\n",
       " 242   0%\n",
       " 243  17%     for c in s:\n",
       " 244  15%         assert tag or not quote\n",
       " 245   0%\n",
       " 246  15%         if c == '<' and not quote:\n",
       " 247   3%             tag = True\n",
       " 248  12%         elif c == '>' and not quote:\n",
       " 249   3%             tag = False\n",
       " 250   9%         elif (c == '\"' or c == \"'\") and tag:\n",
       " 251   0%             quote = not quote\n",
       " 252   9%         elif not tag:\n",
       " 253   4%             out = out + c\n",
       " 254   0%\n",
       " 255   3%     return out"
      ]
     },
     "execution_count": 43,
     "metadata": {},
     "output_type": "execute_result"
    }
   ],
   "source": [
    "debugger"
   ]
  },
  {
   "cell_type": "markdown",
   "metadata": {
    "slideshow": {
     "slide_type": "slide"
    }
   },
   "source": [
    "## Integrating with Delta Debugging\n",
    "\n",
    "Besides identifying causes for performance issues in the code, one may also search for causes in the _input_, using [Delta Debugging](DeltaDebugger.ipynb). This can be useful if one does not immediately want to embark into investigating the code, but maybe first determine external influences that are related to performance issues."
   ]
  },
  {
   "cell_type": "markdown",
   "metadata": {
    "slideshow": {
     "slide_type": "fragment"
    }
   },
   "source": [
    "Here is a variant of `remove_html_markup()` that introduces a (rather obvious) performance issue."
   ]
  },
  {
   "cell_type": "code",
   "execution_count": 44,
   "metadata": {
    "execution": {
     "iopub.execute_input": "2021-10-13T11:40:10.996403Z",
     "iopub.status.busy": "2021-10-13T11:40:10.995887Z",
     "iopub.status.idle": "2021-10-13T11:40:10.997538Z",
     "shell.execute_reply": "2021-10-13T11:40:10.997945Z"
    },
    "slideshow": {
     "slide_type": "skip"
    }
   },
   "outputs": [],
   "source": [
    "import time"
   ]
  },
  {
   "cell_type": "code",
   "execution_count": 45,
   "metadata": {
    "execution": {
     "iopub.execute_input": "2021-10-13T11:40:11.003618Z",
     "iopub.status.busy": "2021-10-13T11:40:11.002599Z",
     "iopub.status.idle": "2021-10-13T11:40:11.004993Z",
     "shell.execute_reply": "2021-10-13T11:40:11.005791Z"
    },
    "slideshow": {
     "slide_type": "subslide"
    }
   },
   "outputs": [],
   "source": [
    "def remove_html_markup_ampersand(s: str) -> str:\n",
    "    tag = False\n",
    "    quote = False\n",
    "    out = \"\"\n",
    "\n",
    "    for c in s:\n",
    "        assert tag or not quote\n",
    "\n",
    "        if c == '&':\n",
    "            time.sleep(0.1)  # <-- the obvious performance issue\n",
    "\n",
    "        if c == '<' and not quote:\n",
    "            tag = True\n",
    "        elif c == '>' and not quote:\n",
    "            tag = False\n",
    "        elif (c == '\"' or c == \"'\") and tag:\n",
    "            quote = not quote\n",
    "        elif not tag:\n",
    "            out = out + c\n",
    "\n",
    "    return out"
   ]
  },
  {
   "cell_type": "markdown",
   "metadata": {
    "slideshow": {
     "slide_type": "subslide"
    }
   },
   "source": [
    "We can easily trigger this issue by measuring time taken:"
   ]
  },
  {
   "cell_type": "code",
   "execution_count": 46,
   "metadata": {
    "execution": {
     "iopub.execute_input": "2021-10-13T11:40:11.012006Z",
     "iopub.status.busy": "2021-10-13T11:40:11.011139Z",
     "iopub.status.idle": "2021-10-13T11:40:11.329339Z",
     "shell.execute_reply": "2021-10-13T11:40:11.329877Z"
    },
    "slideshow": {
     "slide_type": "fragment"
    }
   },
   "outputs": [
    {
     "data": {
      "text/plain": [
       "0.31316638000004104"
      ]
     },
     "execution_count": 46,
     "metadata": {},
     "output_type": "execute_result"
    }
   ],
   "source": [
    "with Timer.Timer() as t:\n",
    "    remove_html_markup_ampersand('&&&')\n",
    "t.elapsed_time()"
   ]
  },
  {
   "cell_type": "markdown",
   "metadata": {
    "slideshow": {
     "slide_type": "fragment"
    }
   },
   "source": [
    "Let us set up a test that checks whether the performance issue is present."
   ]
  },
  {
   "cell_type": "code",
   "execution_count": 47,
   "metadata": {
    "execution": {
     "iopub.execute_input": "2021-10-13T11:40:11.334627Z",
     "iopub.status.busy": "2021-10-13T11:40:11.334015Z",
     "iopub.status.idle": "2021-10-13T11:40:11.335857Z",
     "shell.execute_reply": "2021-10-13T11:40:11.336396Z"
    },
    "slideshow": {
     "slide_type": "fragment"
    }
   },
   "outputs": [],
   "source": [
    "def remove_html_test(s: str) -> None:\n",
    "    with Timer.Timer() as t:\n",
    "        remove_html_markup_ampersand(s)\n",
    "    assert t.elapsed_time() < 0.1"
   ]
  },
  {
   "cell_type": "markdown",
   "metadata": {
    "slideshow": {
     "slide_type": "fragment"
    }
   },
   "source": [
    "We can now apply delta debugging to determine a minimum input that causes the failure:"
   ]
  },
  {
   "cell_type": "code",
   "execution_count": 48,
   "metadata": {
    "execution": {
     "iopub.execute_input": "2021-10-13T11:40:11.340091Z",
     "iopub.status.busy": "2021-10-13T11:40:11.339425Z",
     "iopub.status.idle": "2021-10-13T11:40:11.340961Z",
     "shell.execute_reply": "2021-10-13T11:40:11.341367Z"
    },
    "slideshow": {
     "slide_type": "fragment"
    }
   },
   "outputs": [],
   "source": [
    "s_fail = '<b>foo&amp;</b>'"
   ]
  },
  {
   "cell_type": "code",
   "execution_count": 49,
   "metadata": {
    "execution": {
     "iopub.execute_input": "2021-10-13T11:40:11.344824Z",
     "iopub.status.busy": "2021-10-13T11:40:11.344302Z",
     "iopub.status.idle": "2021-10-13T11:40:11.446711Z",
     "shell.execute_reply": "2021-10-13T11:40:11.447101Z"
    },
    "slideshow": {
     "slide_type": "subslide"
    }
   },
   "outputs": [],
   "source": [
    "with DeltaDebugger.DeltaDebugger() as dd:\n",
    "    remove_html_test(s_fail)"
   ]
  },
  {
   "cell_type": "code",
   "execution_count": 50,
   "metadata": {
    "execution": {
     "iopub.execute_input": "2021-10-13T11:40:11.450842Z",
     "iopub.status.busy": "2021-10-13T11:40:11.450311Z",
     "iopub.status.idle": "2021-10-13T11:40:11.972282Z",
     "shell.execute_reply": "2021-10-13T11:40:11.972667Z"
    },
    "slideshow": {
     "slide_type": "fragment"
    }
   },
   "outputs": [
    {
     "data": {
      "text/plain": [
       "{'s': '&'}"
      ]
     },
     "execution_count": 50,
     "metadata": {},
     "output_type": "execute_result"
    }
   ],
   "source": [
    "dd.min_args()"
   ]
  },
  {
   "cell_type": "markdown",
   "metadata": {
    "slideshow": {
     "slide_type": "fragment"
    }
   },
   "source": [
    "For performance issues, however, a minimal input is often not enough to highlight the failure cause. This is because short inputs tend to take less processing time than longer inputs, which increases the risks of a spurious diagnosis. A better alternative is to compute a _maximum_ input where the issue does not occur:"
   ]
  },
  {
   "cell_type": "code",
   "execution_count": 51,
   "metadata": {
    "execution": {
     "iopub.execute_input": "2021-10-13T11:40:11.977111Z",
     "iopub.status.busy": "2021-10-13T11:40:11.976279Z",
     "iopub.status.idle": "2021-10-13T11:40:12.181784Z",
     "shell.execute_reply": "2021-10-13T11:40:12.182256Z"
    },
    "slideshow": {
     "slide_type": "fragment"
    }
   },
   "outputs": [],
   "source": [
    "s_pass = dd.max_args()"
   ]
  },
  {
   "cell_type": "code",
   "execution_count": 52,
   "metadata": {
    "execution": {
     "iopub.execute_input": "2021-10-13T11:40:12.187182Z",
     "iopub.status.busy": "2021-10-13T11:40:12.186366Z",
     "iopub.status.idle": "2021-10-13T11:40:12.189870Z",
     "shell.execute_reply": "2021-10-13T11:40:12.190499Z"
    },
    "slideshow": {
     "slide_type": "fragment"
    }
   },
   "outputs": [
    {
     "data": {
      "text/plain": [
       "{'s': '<b>fooamp;</b>'}"
      ]
     },
     "execution_count": 52,
     "metadata": {},
     "output_type": "execute_result"
    }
   ],
   "source": [
    "s_pass"
   ]
  },
  {
   "cell_type": "markdown",
   "metadata": {
    "slideshow": {
     "slide_type": "fragment"
    }
   },
   "source": [
    "We see that the culprit character (the `&`) is removed. This tells us the failure-inducing difference – or, more precisely, the cause for the performance issue."
   ]
  },
  {
   "cell_type": "markdown",
   "metadata": {
    "slideshow": {
     "slide_type": "slide"
    }
   },
   "source": [
    "## Synopsis"
   ]
  },
  {
   "cell_type": "markdown",
   "metadata": {
    "slideshow": {
     "slide_type": "fragment"
    }
   },
   "source": [
    "This chapter provides a class `PerformanceDebugger` that allows to measure and visualize the time taken per line in a function."
   ]
  },
  {
   "cell_type": "code",
   "execution_count": 53,
   "metadata": {
    "execution": {
     "iopub.execute_input": "2021-10-13T11:40:12.238079Z",
     "iopub.status.busy": "2021-10-13T11:40:12.221187Z",
     "iopub.status.idle": "2021-10-13T11:40:12.239947Z",
     "shell.execute_reply": "2021-10-13T11:40:12.240365Z"
    },
    "slideshow": {
     "slide_type": "fragment"
    }
   },
   "outputs": [],
   "source": [
    "with PerformanceDebugger(TimeCollector) as debugger:\n",
    "    for i in range(100):\n",
    "        s = remove_html_markup('<b>foo</b>')"
   ]
  },
  {
   "cell_type": "markdown",
   "metadata": {
    "slideshow": {
     "slide_type": "fragment"
    }
   },
   "source": [
    "The distribution of executed time within each function can be obtained by printing out the debugger:"
   ]
  },
  {
   "cell_type": "code",
   "execution_count": 54,
   "metadata": {
    "execution": {
     "iopub.execute_input": "2021-10-13T11:40:12.245107Z",
     "iopub.status.busy": "2021-10-13T11:40:12.244521Z",
     "iopub.status.idle": "2021-10-13T11:40:12.246761Z",
     "shell.execute_reply": "2021-10-13T11:40:12.247146Z"
    },
    "slideshow": {
     "slide_type": "subslide"
    }
   },
   "outputs": [
    {
     "name": "stdout",
     "output_type": "stream",
     "text": [
      " 238   2% def remove_html_markup(s):  # type: ignore\n",
      " 239   2%     tag = False\n",
      " 240   1%     quote = False\n",
      " 241   1%     out = \"\"\n",
      " 242   0%\n",
      " 243  16%     for c in s:\n",
      " 244  15%         assert tag or not quote\n",
      " 245   0%\n",
      " 246  14%         if c == '<' and not quote:\n",
      " 247   3%             tag = True\n",
      " 248  11%         elif c == '>' and not quote:\n",
      " 249   2%             tag = False\n",
      " 250   9%         elif (c == '\"' or c == \"'\") and tag:\n",
      " 251   0%             quote = not quote\n",
      " 252   8%         elif not tag:\n",
      " 253   5%             out = out + c\n",
      " 254   0%\n",
      " 255   3%     return out\n",
      "\n"
     ]
    }
   ],
   "source": [
    "print(debugger)"
   ]
  },
  {
   "cell_type": "markdown",
   "metadata": {
    "slideshow": {
     "slide_type": "subslide"
    }
   },
   "source": [
    "The sum of all percentages in a function should always be 100%."
   ]
  },
  {
   "cell_type": "markdown",
   "metadata": {
    "slideshow": {
     "slide_type": "fragment"
    }
   },
   "source": [
    "These percentages can also be visualized, where darker shades represent higher percentage values:"
   ]
  },
  {
   "cell_type": "code",
   "execution_count": 55,
   "metadata": {
    "execution": {
     "iopub.execute_input": "2021-10-13T11:40:12.253604Z",
     "iopub.status.busy": "2021-10-13T11:40:12.251181Z",
     "iopub.status.idle": "2021-10-13T11:40:12.257622Z",
     "shell.execute_reply": "2021-10-13T11:40:12.258326Z"
    },
    "slideshow": {
     "slide_type": "subslide"
    }
   },
   "outputs": [
    {
     "data": {
      "text/html": [
       "<pre style=\"background-color:hsl(240, 100%, 95.78026023054649%)\"\n",
       "                    title=\"Line 238:   2% 0.0006976169997869874\"> 238 def remove_html_markup(s):  # type: ignore</pre>\n",
       "<pre style=\"background-color:hsl(240, 100%, 96.78878733221079%)\"\n",
       "                    title=\"Line 239:   2% 0.000530884999875525\"> 239     tag = False</pre>\n",
       "<pre style=\"background-color:hsl(240, 100%, 97.18175916676637%)\"\n",
       "                    title=\"Line 240:   1% 0.0004659180002022367\"> 240     quote = False</pre>\n",
       "<pre style=\"background-color:hsl(240, 100%, 97.12444687044336%)\"\n",
       "                    title=\"Line 241:   1% 0.0004753929997036721\"> 241     out = &quot;&quot;</pre>\n",
       "<pre style=\"background-color:hsl(240, 100%, 100.0%)\"\n",
       "                    title=\"Line 242:   0% 0.0\"> 242 &nbsp;</pre>\n",
       "<pre style=\"background-color:hsl(240, 100%, 75.0%)\"\n",
       "                    title=\"Line 243:  16% 0.004133057000558438\"> 243     for c in s:</pre>\n",
       "<pre style=\"background-color:hsl(240, 100%, 76.80293908763792%)\"\n",
       "                    title=\"Line 244:  15% 0.003834990999848742\"> 244         assert tag or not quote</pre>\n",
       "<pre style=\"background-color:hsl(240, 100%, 100.0%)\"\n",
       "                    title=\"Line 245:   0% 0.0\"> 245 &nbsp;</pre>\n",
       "<pre style=\"background-color:hsl(240, 100%, 77.1940297483367%)\"\n",
       "                    title=\"Line 246:  14% 0.003770335000126579\"> 246         if c == &#x27;&lt;&#x27; and not quote:</pre>\n",
       "<pre style=\"background-color:hsl(240, 100%, 95.15091372097288%)\"\n",
       "                    title=\"Line 247:   3% 0.0008016619996737973\"> 247             tag = True</pre>\n",
       "<pre style=\"background-color:hsl(240, 100%, 82.48019565506868%)\"\n",
       "                    title=\"Line 248:  11% 0.002896413999849301\"> 248         elif c == &#x27;&gt;&#x27; and not quote:</pre>\n",
       "<pre style=\"background-color:hsl(240, 100%, 95.57742005297725%)\"\n",
       "                    title=\"Line 249:   2% 0.0007311510004228694\"> 249             tag = False</pre>\n",
       "<pre style=\"background-color:hsl(240, 100%, 84.88223728770139%)\"\n",
       "                    title=\"Line 250:   9% 0.0024993030004338834\"> 250         elif (c == &#x27;&quot;&#x27; or c == &quot;&#x27;&quot;) and tag:</pre>\n",
       "<pre style=\"background-color:hsl(240, 100%, 100.0%)\"\n",
       "                    title=\"Line 251:   0% 0.0\"> 251             quote = not quote</pre>\n",
       "<pre style=\"background-color:hsl(240, 100%, 86.76142139440809%)\"\n",
       "                    title=\"Line 252:   8% 0.002188631999331392\"> 252         elif not tag:</pre>\n",
       "<pre style=\"background-color:hsl(240, 100%, 91.76651205148693%)\"\n",
       "                    title=\"Line 253:   5% 0.0013611790001846202\"> 253             out = out + c</pre>\n",
       "<pre style=\"background-color:hsl(240, 100%, 100.0%)\"\n",
       "                    title=\"Line 254:   0% 0.0\"> 254 &nbsp;</pre>\n",
       "<pre style=\"background-color:hsl(240, 100%, 95.43733609251383%)\"\n",
       "                    title=\"Line 255:   3% 0.0007543100001612402\"> 255     return out</pre>\n"
      ],
      "text/markdown": [
       "| `remove_html_markup` | `s='<b>foo</b>'` | \n",
       "| ---------------------- | ---- | \n",
       "| <samp style=\"background-color: hsl(240, 100%, 95.78026023054649%)\" title=\"  2% 0.0006976169997869874\">remove_html_markup:238</samp> |    X | \n",
       "| <samp style=\"background-color: hsl(240, 100%, 96.78878733221079%)\" title=\"  2% 0.000530884999875525\">remove_html_markup:239</samp> |    X | \n",
       "| <samp style=\"background-color: hsl(240, 100%, 97.18175916676637%)\" title=\"  1% 0.0004659180002022367\">remove_html_markup:240</samp> |    X | \n",
       "| <samp style=\"background-color: hsl(240, 100%, 97.12444687044336%)\" title=\"  1% 0.0004753929997036721\">remove_html_markup:241</samp> |    X | \n",
       "| <samp style=\"background-color: hsl(240, 100%, 75.0%)\" title=\" 16% 0.004133057000558438\">remove_html_markup:243</samp> |    X | \n",
       "| <samp style=\"background-color: hsl(240, 100%, 76.80293908763792%)\" title=\" 15% 0.003834990999848742\">remove_html_markup:244</samp> |    X | \n",
       "| <samp style=\"background-color: hsl(240, 100%, 77.1940297483367%)\" title=\" 14% 0.003770335000126579\">remove_html_markup:246</samp> |    X | \n",
       "| <samp style=\"background-color: hsl(240, 100%, 95.15091372097288%)\" title=\"  3% 0.0008016619996737973\">remove_html_markup:247</samp> |    X | \n",
       "| <samp style=\"background-color: hsl(240, 100%, 82.48019565506868%)\" title=\" 11% 0.002896413999849301\">remove_html_markup:248</samp> |    X | \n",
       "| <samp style=\"background-color: hsl(240, 100%, 95.57742005297725%)\" title=\"  2% 0.0007311510004228694\">remove_html_markup:249</samp> |    X | \n",
       "| <samp style=\"background-color: hsl(240, 100%, 84.88223728770139%)\" title=\"  9% 0.0024993030004338834\">remove_html_markup:250</samp> |    X | \n",
       "| <samp style=\"background-color: hsl(240, 100%, 86.76142139440809%)\" title=\"  8% 0.002188631999331392\">remove_html_markup:252</samp> |    X | \n",
       "| <samp style=\"background-color: hsl(240, 100%, 91.76651205148693%)\" title=\"  5% 0.0013611790001846202\">remove_html_markup:253</samp> |    X | \n",
       "| <samp style=\"background-color: hsl(240, 100%, 95.43733609251383%)\" title=\"  3% 0.0007543100001612402\">remove_html_markup:255</samp> |    X | \n"
      ],
      "text/plain": [
       " 238   2% def remove_html_markup(s):  # type: ignore\n",
       " 239   2%     tag = False\n",
       " 240   1%     quote = False\n",
       " 241   1%     out = \"\"\n",
       " 242   0%\n",
       " 243  16%     for c in s:\n",
       " 244  15%         assert tag or not quote\n",
       " 245   0%\n",
       " 246  14%         if c == '<' and not quote:\n",
       " 247   3%             tag = True\n",
       " 248  11%         elif c == '>' and not quote:\n",
       " 249   2%             tag = False\n",
       " 250   9%         elif (c == '\"' or c == \"'\") and tag:\n",
       " 251   0%             quote = not quote\n",
       " 252   8%         elif not tag:\n",
       " 253   5%             out = out + c\n",
       " 254   0%\n",
       " 255   3%     return out"
      ]
     },
     "execution_count": 55,
     "metadata": {},
     "output_type": "execute_result"
    }
   ],
   "source": [
    "debugger"
   ]
  },
  {
   "cell_type": "markdown",
   "metadata": {
    "slideshow": {
     "slide_type": "subslide"
    }
   },
   "source": [
    "The abstract `MetricCollector` class allows subclassing to build more collectors, such as `HitCollector`."
   ]
  },
  {
   "cell_type": "code",
   "execution_count": 56,
   "metadata": {
    "execution": {
     "iopub.execute_input": "2021-10-13T11:40:12.264532Z",
     "iopub.status.busy": "2021-10-13T11:40:12.263060Z",
     "iopub.status.idle": "2021-10-13T11:40:12.265935Z",
     "shell.execute_reply": "2021-10-13T11:40:12.266726Z"
    },
    "slideshow": {
     "slide_type": "fragment"
    }
   },
   "outputs": [],
   "source": [
    "# ignore\n",
    "from ClassDiagram import display_class_hierarchy"
   ]
  },
  {
   "cell_type": "code",
   "execution_count": 57,
   "metadata": {
    "execution": {
     "iopub.execute_input": "2021-10-13T11:40:12.305311Z",
     "iopub.status.busy": "2021-10-13T11:40:12.304382Z",
     "iopub.status.idle": "2021-10-13T11:40:13.197495Z",
     "shell.execute_reply": "2021-10-13T11:40:13.197952Z"
    },
    "slideshow": {
     "slide_type": "fragment"
    }
   },
   "outputs": [
    {
     "data": {
      "image/svg+xml": [
       "<?xml version=\"1.0\" encoding=\"UTF-8\" standalone=\"no\"?>\n",
       "<!DOCTYPE svg PUBLIC \"-//W3C//DTD SVG 1.1//EN\"\n",
       " \"http://www.w3.org/Graphics/SVG/1.1/DTD/svg11.dtd\">\n",
       "<!-- Generated by graphviz version 2.49.1 (20210923.0004)\n",
       " -->\n",
       "<!-- Pages: 1 -->\n",
       "<svg width=\"606pt\" height=\"1037pt\"\n",
       " viewBox=\"0.00 0.00 606.00 1037.00\" xmlns=\"http://www.w3.org/2000/svg\" xmlns:xlink=\"http://www.w3.org/1999/xlink\">\n",
       "<g id=\"graph0\" class=\"graph\" transform=\"scale(1 1) rotate(0) translate(4 1033)\">\n",
       "<g id=\"a_graph0\"><a xlink:title=\"PerformanceDebugger class hierarchy\">\n",
       "<polygon fill=\"white\" stroke=\"transparent\" points=\"-4,4 -4,-1033 602,-1033 602,4 -4,4\"/>\n",
       "</a>\n",
       "</g>\n",
       "<!-- PerformanceDebugger -->\n",
       "<g id=\"node1\" class=\"node\">\n",
       "<title>PerformanceDebugger</title>\n",
       "<g id=\"a_node1\"><a xlink:href=\"#\" xlink:title=\"class PerformanceDebugger:&#10;Collect and visualize a metric\">\n",
       "<polygon fill=\"none\" stroke=\"black\" points=\"0,-28 0,-70 162,-70 162,-28 0,-28\"/>\n",
       "<text text-anchor=\"start\" x=\"8\" y=\"-55.8\" font-family=\"Raleway, Helvetica, Arial, sans-serif\" font-weight=\"bold\" font-size=\"14.00\" fill=\"#6a0dad\">PerformanceDebugger</text>\n",
       "<polyline fill=\"none\" stroke=\"black\" points=\"0,-47 162,-47 \"/>\n",
       "<g id=\"a_node1_0\"><a xlink:href=\"#\" xlink:title=\"PerformanceDebugger\">\n",
       "<g id=\"a_node1_1\"><a xlink:href=\"#\" xlink:title=\"__init__(self, collector_class: Type, log: bool = False):&#10;Constructor. Use instances of `collector_class` to collect events.\">\n",
       "<text text-anchor=\"start\" x=\"51\" y=\"-35.5\" font-family=\"'Fira Mono', 'Source Code Pro', 'Courier', monospace\" font-weight=\"bold\" font-style=\"italic\" font-size=\"10.00\">__init__()</text>\n",
       "</a>\n",
       "</g>\n",
       "</a>\n",
       "</g>\n",
       "</a>\n",
       "</g>\n",
       "</g>\n",
       "<!-- MetricDebugger -->\n",
       "<g id=\"node2\" class=\"node\">\n",
       "<title>MetricDebugger</title>\n",
       "<g id=\"a_node2\"><a xlink:href=\"#\" xlink:title=\"class MetricDebugger:&#10;Visualize a metric\">\n",
       "<polygon fill=\"none\" stroke=\"black\" points=\"21,-134.5 21,-231.5 141,-231.5 141,-134.5 21,-134.5\"/>\n",
       "<text text-anchor=\"start\" x=\"29\" y=\"-217.3\" font-family=\"Raleway, Helvetica, Arial, sans-serif\" font-weight=\"bold\" font-size=\"14.00\" fill=\"#6a0dad\">MetricDebugger</text>\n",
       "<polyline fill=\"none\" stroke=\"black\" points=\"21,-208.5 141,-208.5 \"/>\n",
       "<g id=\"a_node2_2\"><a xlink:href=\"#\" xlink:title=\"MetricDebugger\">\n",
       "<g id=\"a_node2_3\"><a xlink:href=\"#\" xlink:title=\"color(self, location: Tuple[str, int]) &#45;&gt; str:&#10;Return a color for the given event, or None.&#10;To be overloaded in subclasses.\">\n",
       "<text text-anchor=\"start\" x=\"33\" y=\"-197.5\" font-family=\"'Fira Mono', 'Source Code Pro', 'Courier', monospace\" font-style=\"italic\" font-size=\"10.00\">color()</text>\n",
       "</a>\n",
       "</g>\n",
       "<g id=\"a_node2_4\"><a xlink:href=\"#\" xlink:title=\"maximum(self, func_name: str) &#45;&gt; float\">\n",
       "<text text-anchor=\"start\" x=\"33\" y=\"-185.5\" font-family=\"'Fira Mono', 'Source Code Pro', 'Courier', monospace\" font-size=\"10.00\">maximum()</text>\n",
       "</a>\n",
       "</g>\n",
       "<g id=\"a_node2_5\"><a xlink:href=\"#\" xlink:title=\"metric(self, location: Tuple[str, int]) &#45;&gt; float\">\n",
       "<text text-anchor=\"start\" x=\"33\" y=\"-174.5\" font-family=\"'Fira Mono', 'Source Code Pro', 'Courier', monospace\" font-size=\"10.00\">metric()</text>\n",
       "</a>\n",
       "</g>\n",
       "<g id=\"a_node2_6\"><a xlink:href=\"#\" xlink:title=\"suspiciousness(self, location: Tuple[str, int]) &#45;&gt; float:&#10;Return a suspiciousness value in the range [0, 1.0]&#10;for the given event, or `None` if unknown.&#10;To be overloaded in subclasses.\">\n",
       "<text text-anchor=\"start\" x=\"33\" y=\"-164.5\" font-family=\"'Fira Mono', 'Source Code Pro', 'Courier', monospace\" font-style=\"italic\" font-size=\"10.00\">suspiciousness()</text>\n",
       "</a>\n",
       "</g>\n",
       "<g id=\"a_node2_7\"><a xlink:href=\"#\" xlink:title=\"tooltip(self, location: Tuple[str, int]) &#45;&gt; str:&#10;Return a tooltip for the given event (default: percentage).&#10;To be overloaded in subclasses.\">\n",
       "<text text-anchor=\"start\" x=\"33\" y=\"-153.5\" font-family=\"'Fira Mono', 'Source Code Pro', 'Courier', monospace\" font-style=\"italic\" font-size=\"10.00\">tooltip()</text>\n",
       "</a>\n",
       "</g>\n",
       "<g id=\"a_node2_8\"><a xlink:href=\"#\" xlink:title=\"total(self, func_name: str) &#45;&gt; float\">\n",
       "<text text-anchor=\"start\" x=\"33\" y=\"-141.5\" font-family=\"'Fira Mono', 'Source Code Pro', 'Courier', monospace\" font-size=\"10.00\">total()</text>\n",
       "</a>\n",
       "</g>\n",
       "</a>\n",
       "</g>\n",
       "</a>\n",
       "</g>\n",
       "</g>\n",
       "<!-- PerformanceDebugger&#45;&gt;MetricDebugger -->\n",
       "<g id=\"edge1\" class=\"edge\">\n",
       "<title>PerformanceDebugger&#45;&gt;MetricDebugger</title>\n",
       "<path fill=\"none\" stroke=\"black\" d=\"M81,-70.05C81,-84.54 81,-104.91 81,-124.3\"/>\n",
       "<polygon fill=\"none\" stroke=\"black\" points=\"77.5,-124.32 81,-134.32 84.5,-124.32 77.5,-124.32\"/>\n",
       "</g>\n",
       "<!-- SpectrumDebugger -->\n",
       "<g id=\"node3\" class=\"node\">\n",
       "<title>SpectrumDebugger</title>\n",
       "<g id=\"a_node3\"><a xlink:href=\"StatisticalDebugger.ipynb\" xlink:title=\"class SpectrumDebugger:&#10;A class to collect events for passing and failing outcomes.\">\n",
       "<polygon fill=\"none\" stroke=\"black\" points=\"10,-268.5 10,-376.5 152,-376.5 152,-268.5 10,-268.5\"/>\n",
       "<text text-anchor=\"start\" x=\"18\" y=\"-362.3\" font-family=\"Raleway, Helvetica, Arial, sans-serif\" font-weight=\"bold\" font-size=\"14.00\" fill=\"#6a0dad\">SpectrumDebugger</text>\n",
       "<polyline fill=\"none\" stroke=\"black\" points=\"10,-353.5 152,-353.5 \"/>\n",
       "<g id=\"a_node3_9\"><a xlink:href=\"#\" xlink:title=\"SpectrumDebugger\">\n",
       "<g id=\"a_node3_10\"><a xlink:href=\"StatisticalDebugger.ipynb\" xlink:title=\"__repr__(self) &#45;&gt; str:&#10;Show code as string\">\n",
       "<text text-anchor=\"start\" x=\"33\" y=\"-342\" font-family=\"'Fira Mono', 'Source Code Pro', 'Courier', monospace\" font-style=\"italic\" font-size=\"10.00\">__repr__()</text>\n",
       "</a>\n",
       "</g>\n",
       "<g id=\"a_node3_11\"><a xlink:href=\"StatisticalDebugger.ipynb\" xlink:title=\"__str__(self) &#45;&gt; str:&#10;Show code as string\">\n",
       "<text text-anchor=\"start\" x=\"33\" y=\"-330\" font-family=\"'Fira Mono', 'Source Code Pro', 'Courier', monospace\" font-size=\"10.00\">__str__()</text>\n",
       "</a>\n",
       "</g>\n",
       "<g id=\"a_node3_12\"><a xlink:href=\"StatisticalDebugger.ipynb\" xlink:title=\"_repr_html_(self) &#45;&gt; str:&#10;When output in Jupyter, visualize as HTML\">\n",
       "<text text-anchor=\"start\" x=\"33\" y=\"-319\" font-family=\"'Fira Mono', 'Source Code Pro', 'Courier', monospace\" font-size=\"10.00\">_repr_html_()</text>\n",
       "</a>\n",
       "</g>\n",
       "<g id=\"a_node3_13\"><a xlink:href=\"StatisticalDebugger.ipynb\" xlink:title=\"code(self, functions: Optional[Set[Callable]] = None, *, color: bool = False, suspiciousness: bool = False, line_numbers: bool = True) &#45;&gt; str:&#10;Return a listing of `functions` (default: covered functions).&#10;If `color` is True, render as HTML, using suspiciousness colors.&#10;If `suspiciousness` is True, include suspiciousness values.&#10;If `line_numbers` is True (default), include line numbers.\">\n",
       "<text text-anchor=\"start\" x=\"33\" y=\"-308\" font-family=\"'Fira Mono', 'Source Code Pro', 'Courier', monospace\" font-size=\"10.00\">code()</text>\n",
       "</a>\n",
       "</g>\n",
       "<g id=\"a_node3_14\"><a xlink:href=\"StatisticalDebugger.ipynb\" xlink:title=\"percentage(self, event: Any) &#45;&gt; str:&#10;Return the suspiciousness for the given event as percentage string.\">\n",
       "<text text-anchor=\"start\" x=\"33\" y=\"-297\" font-family=\"'Fira Mono', 'Source Code Pro', 'Courier', monospace\" font-size=\"10.00\">percentage()</text>\n",
       "</a>\n",
       "</g>\n",
       "<g id=\"a_node3_15\"><a xlink:href=\"StatisticalDebugger.ipynb\" xlink:title=\"suspiciousness(self, event: Any) &#45;&gt; Optional[float]:&#10;Return a suspiciousness value in the range [0, 1.0]&#10;for the given event, or `None` if unknown.&#10;To be overloaded in subclasses.\">\n",
       "<text text-anchor=\"start\" x=\"33\" y=\"-287\" font-family=\"'Fira Mono', 'Source Code Pro', 'Courier', monospace\" font-style=\"italic\" font-size=\"10.00\">suspiciousness()</text>\n",
       "</a>\n",
       "</g>\n",
       "<g id=\"a_node3_16\"><a xlink:href=\"StatisticalDebugger.ipynb\" xlink:title=\"tooltip(self, event: Any) &#45;&gt; str:&#10;Return a tooltip for the given event (default: percentage).&#10;To be overloaded in subclasses.\">\n",
       "<text text-anchor=\"start\" x=\"33\" y=\"-276\" font-family=\"'Fira Mono', 'Source Code Pro', 'Courier', monospace\" font-style=\"italic\" font-size=\"10.00\">tooltip()</text>\n",
       "</a>\n",
       "</g>\n",
       "</a>\n",
       "</g>\n",
       "</a>\n",
       "</g>\n",
       "</g>\n",
       "<!-- MetricDebugger&#45;&gt;SpectrumDebugger -->\n",
       "<g id=\"edge2\" class=\"edge\">\n",
       "<title>MetricDebugger&#45;&gt;SpectrumDebugger</title>\n",
       "<path fill=\"none\" stroke=\"black\" d=\"M81,-231.7C81,-240.18 81,-249.12 81,-257.96\"/>\n",
       "<polygon fill=\"none\" stroke=\"black\" points=\"77.5,-258.23 81,-268.23 84.5,-258.23 77.5,-258.23\"/>\n",
       "</g>\n",
       "<!-- DifferenceDebugger -->\n",
       "<g id=\"node4\" class=\"node\">\n",
       "<title>DifferenceDebugger</title>\n",
       "<g id=\"a_node4\"><a xlink:href=\"StatisticalDebugger.ipynb\" xlink:title=\"class DifferenceDebugger:&#10;A class to collect events for passing and failing outcomes.\">\n",
       "<polygon fill=\"none\" stroke=\"black\" points=\"9,-420.5 9,-591.5 153,-591.5 153,-420.5 9,-420.5\"/>\n",
       "<text text-anchor=\"start\" x=\"17\" y=\"-577.3\" font-family=\"Raleway, Helvetica, Arial, sans-serif\" font-weight=\"bold\" font-size=\"14.00\" fill=\"#6a0dad\">DifferenceDebugger</text>\n",
       "<polyline fill=\"none\" stroke=\"black\" points=\"9,-568.5 153,-568.5 \"/>\n",
       "<g id=\"a_node4_17\"><a xlink:href=\"#\" xlink:title=\"DifferenceDebugger\">\n",
       "<g id=\"a_node4_18\"><a xlink:href=\"StatisticalDebugger.ipynb\" xlink:title=\"FAIL = &#39;FAIL&#39;\">\n",
       "<text text-anchor=\"start\" x=\"69\" y=\"-556.5\" font-family=\"'Fira Mono', 'Source Code Pro', 'Courier', monospace\" font-size=\"10.00\">FAIL</text>\n",
       "</a>\n",
       "</g>\n",
       "<g id=\"a_node4_19\"><a xlink:href=\"StatisticalDebugger.ipynb\" xlink:title=\"PASS = &#39;PASS&#39;\">\n",
       "<text text-anchor=\"start\" x=\"69\" y=\"-545.5\" font-family=\"'Fira Mono', 'Source Code Pro', 'Courier', monospace\" font-size=\"10.00\">PASS</text>\n",
       "</a>\n",
       "</g>\n",
       "</a>\n",
       "</g>\n",
       "<polyline fill=\"none\" stroke=\"black\" points=\"9,-538.5 153,-538.5 \"/>\n",
       "<g id=\"a_node4_20\"><a xlink:href=\"#\" xlink:title=\"DifferenceDebugger\">\n",
       "<g id=\"a_node4_21\"><a xlink:href=\"StatisticalDebugger.ipynb\" xlink:title=\"__enter__(self) &#45;&gt; Any:&#10;Enter a `with` block. Collect coverage and outcome;&#10;classify as FAIL if the block raises an exception,&#10;and PASS if it does not.\">\n",
       "<text text-anchor=\"start\" x=\"27\" y=\"-526.5\" font-family=\"'Fira Mono', 'Source Code Pro', 'Courier', monospace\" font-size=\"10.00\">__enter__()</text>\n",
       "</a>\n",
       "</g>\n",
       "<g id=\"a_node4_22\"><a xlink:href=\"StatisticalDebugger.ipynb\" xlink:title=\"__exit__(self, exc_tp: Type, exc_value: BaseException, exc_traceback: traceback) &#45;&gt; Optional[bool]:&#10;Exit the `with` block.\">\n",
       "<text text-anchor=\"start\" x=\"27\" y=\"-515.5\" font-family=\"'Fira Mono', 'Source Code Pro', 'Courier', monospace\" font-size=\"10.00\">__exit__()</text>\n",
       "</a>\n",
       "</g>\n",
       "<g id=\"a_node4_23\"><a xlink:href=\"StatisticalDebugger.ipynb\" xlink:title=\"all_fail_events(self) &#45;&gt; Set[Any]:&#10;Return all events observed in failing runs.\">\n",
       "<text text-anchor=\"start\" x=\"27\" y=\"-504.5\" font-family=\"'Fira Mono', 'Source Code Pro', 'Courier', monospace\" font-size=\"10.00\">all_fail_events()</text>\n",
       "</a>\n",
       "</g>\n",
       "<g id=\"a_node4_24\"><a xlink:href=\"StatisticalDebugger.ipynb\" xlink:title=\"all_pass_events(self) &#45;&gt; Set[Any]:&#10;Return all events observed in passing runs.\">\n",
       "<text text-anchor=\"start\" x=\"27\" y=\"-493.5\" font-family=\"'Fira Mono', 'Source Code Pro', 'Courier', monospace\" font-size=\"10.00\">all_pass_events()</text>\n",
       "</a>\n",
       "</g>\n",
       "<g id=\"a_node4_25\"><a xlink:href=\"StatisticalDebugger.ipynb\" xlink:title=\"collect_fail(self, *args: Any, **kwargs: Any) &#45;&gt; StatisticalDebugger.Collector:&#10;Return a collector for failing runs.\">\n",
       "<text text-anchor=\"start\" x=\"27\" y=\"-482.5\" font-family=\"'Fira Mono', 'Source Code Pro', 'Courier', monospace\" font-size=\"10.00\">collect_fail()</text>\n",
       "</a>\n",
       "</g>\n",
       "<g id=\"a_node4_26\"><a xlink:href=\"StatisticalDebugger.ipynb\" xlink:title=\"collect_pass(self, *args: Any, **kwargs: Any) &#45;&gt; StatisticalDebugger.Collector:&#10;Return a collector for passing runs.\">\n",
       "<text text-anchor=\"start\" x=\"27\" y=\"-471.5\" font-family=\"'Fira Mono', 'Source Code Pro', 'Courier', monospace\" font-size=\"10.00\">collect_pass()</text>\n",
       "</a>\n",
       "</g>\n",
       "<g id=\"a_node4_27\"><a xlink:href=\"StatisticalDebugger.ipynb\" xlink:title=\"fail_collectors(self) &#45;&gt; List[StatisticalDebugger.Collector]\">\n",
       "<text text-anchor=\"start\" x=\"27\" y=\"-460.5\" font-family=\"'Fira Mono', 'Source Code Pro', 'Courier', monospace\" font-size=\"10.00\">fail_collectors()</text>\n",
       "</a>\n",
       "</g>\n",
       "<g id=\"a_node4_28\"><a xlink:href=\"StatisticalDebugger.ipynb\" xlink:title=\"only_fail_events(self) &#45;&gt; Set[Any]:&#10;Return all events observed only in failing runs.\">\n",
       "<text text-anchor=\"start\" x=\"27\" y=\"-449.5\" font-family=\"'Fira Mono', 'Source Code Pro', 'Courier', monospace\" font-size=\"10.00\">only_fail_events()</text>\n",
       "</a>\n",
       "</g>\n",
       "<g id=\"a_node4_29\"><a xlink:href=\"StatisticalDebugger.ipynb\" xlink:title=\"only_pass_events(self) &#45;&gt; Set[Any]:&#10;Return all events observed only in passing runs.\">\n",
       "<text text-anchor=\"start\" x=\"27\" y=\"-438.5\" font-family=\"'Fira Mono', 'Source Code Pro', 'Courier', monospace\" font-size=\"10.00\">only_pass_events()</text>\n",
       "</a>\n",
       "</g>\n",
       "<g id=\"a_node4_30\"><a xlink:href=\"StatisticalDebugger.ipynb\" xlink:title=\"pass_collectors(self) &#45;&gt; List[StatisticalDebugger.Collector]\">\n",
       "<text text-anchor=\"start\" x=\"27\" y=\"-427.5\" font-family=\"'Fira Mono', 'Source Code Pro', 'Courier', monospace\" font-size=\"10.00\">pass_collectors()</text>\n",
       "</a>\n",
       "</g>\n",
       "</a>\n",
       "</g>\n",
       "</a>\n",
       "</g>\n",
       "</g>\n",
       "<!-- SpectrumDebugger&#45;&gt;DifferenceDebugger -->\n",
       "<g id=\"edge3\" class=\"edge\">\n",
       "<title>SpectrumDebugger&#45;&gt;DifferenceDebugger</title>\n",
       "<path fill=\"none\" stroke=\"black\" d=\"M81,-376.97C81,-387.49 81,-398.81 81,-410.22\"/>\n",
       "<polygon fill=\"none\" stroke=\"black\" points=\"77.5,-410.24 81,-420.24 84.5,-410.24 77.5,-410.24\"/>\n",
       "</g>\n",
       "<!-- StatisticalDebugger -->\n",
       "<g id=\"node5\" class=\"node\">\n",
       "<title>StatisticalDebugger</title>\n",
       "<g id=\"a_node5\"><a xlink:href=\"StatisticalDebugger.ipynb\" xlink:title=\"class StatisticalDebugger:&#10;A class to collect events for multiple outcomes.\">\n",
       "<polygon fill=\"none\" stroke=\"black\" points=\"11.5,-635.5 11.5,-820.5 150.5,-820.5 150.5,-635.5 11.5,-635.5\"/>\n",
       "<text text-anchor=\"start\" x=\"19.5\" y=\"-806.3\" font-family=\"Raleway, Helvetica, Arial, sans-serif\" font-weight=\"bold\" font-size=\"14.00\" fill=\"#6a0dad\">StatisticalDebugger</text>\n",
       "<polyline fill=\"none\" stroke=\"black\" points=\"11.5,-797.5 150.5,-797.5 \"/>\n",
       "<g id=\"a_node5_31\"><a xlink:href=\"#\" xlink:title=\"StatisticalDebugger\">\n",
       "<g id=\"a_node5_32\"><a xlink:href=\"StatisticalDebugger.ipynb\" xlink:title=\"__init__(self, collector_class: Type = &lt;class &#39;StatisticalDebugger.CoverageCollector&#39;&gt;, log: bool = False):&#10;Constructor. Use instances of `collector_class` to collect events.\">\n",
       "<text text-anchor=\"start\" x=\"24\" y=\"-786.5\" font-family=\"'Fira Mono', 'Source Code Pro', 'Courier', monospace\" font-style=\"italic\" font-size=\"10.00\">__init__()</text>\n",
       "</a>\n",
       "</g>\n",
       "<g id=\"a_node5_33\"><a xlink:href=\"StatisticalDebugger.ipynb\" xlink:title=\"__repr__(self) &#45;&gt; str:&#10;Return repr(self).\">\n",
       "<text text-anchor=\"start\" x=\"24\" y=\"-775.5\" font-family=\"'Fira Mono', 'Source Code Pro', 'Courier', monospace\" font-style=\"italic\" font-size=\"10.00\">__repr__()</text>\n",
       "</a>\n",
       "</g>\n",
       "<g id=\"a_node5_34\"><a xlink:href=\"StatisticalDebugger.ipynb\" xlink:title=\"_repr_markdown_(self) &#45;&gt; str\">\n",
       "<text text-anchor=\"start\" x=\"24\" y=\"-763.5\" font-family=\"'Fira Mono', 'Source Code Pro', 'Courier', monospace\" font-size=\"10.00\">_repr_markdown_()</text>\n",
       "</a>\n",
       "</g>\n",
       "<g id=\"a_node5_35\"><a xlink:href=\"StatisticalDebugger.ipynb\" xlink:title=\"add_collector(self, outcome: str, collector: StatisticalDebugger.Collector) &#45;&gt; StatisticalDebugger.Collector\">\n",
       "<text text-anchor=\"start\" x=\"24\" y=\"-752.5\" font-family=\"'Fira Mono', 'Source Code Pro', 'Courier', monospace\" font-size=\"10.00\">add_collector()</text>\n",
       "</a>\n",
       "</g>\n",
       "<g id=\"a_node5_36\"><a xlink:href=\"StatisticalDebugger.ipynb\" xlink:title=\"all_events(self, outcome: Optional[str] = None) &#45;&gt; Set[Any]:&#10;Return a set of all events observed.\">\n",
       "<text text-anchor=\"start\" x=\"24\" y=\"-741.5\" font-family=\"'Fira Mono', 'Source Code Pro', 'Courier', monospace\" font-size=\"10.00\">all_events()</text>\n",
       "</a>\n",
       "</g>\n",
       "<g id=\"a_node5_37\"><a xlink:href=\"StatisticalDebugger.ipynb\" xlink:title=\"collect(self, outcome: str, *args: Any, **kwargs: Any) &#45;&gt; StatisticalDebugger.Collector:&#10;Return a collector for the given outcome.&#10;Additional args are passed to the collector.\">\n",
       "<text text-anchor=\"start\" x=\"24\" y=\"-730.5\" font-family=\"'Fira Mono', 'Source Code Pro', 'Courier', monospace\" font-size=\"10.00\">collect()</text>\n",
       "</a>\n",
       "</g>\n",
       "<g id=\"a_node5_38\"><a xlink:href=\"StatisticalDebugger.ipynb\" xlink:title=\"color(self, event: Any) &#45;&gt; Optional[str]:&#10;Return a color for the given event, or None.&#10;To be overloaded in subclasses.\">\n",
       "<text text-anchor=\"start\" x=\"24\" y=\"-720.5\" font-family=\"'Fira Mono', 'Source Code Pro', 'Courier', monospace\" font-style=\"italic\" font-size=\"10.00\">color()</text>\n",
       "</a>\n",
       "</g>\n",
       "<g id=\"a_node5_39\"><a xlink:href=\"StatisticalDebugger.ipynb\" xlink:title=\"coverage(self) &#45;&gt; Set[Tuple[Callable, int]]:&#10;Return a set of all (functions, line_numbers) observed\">\n",
       "<text text-anchor=\"start\" x=\"24\" y=\"-708.5\" font-family=\"'Fira Mono', 'Source Code Pro', 'Courier', monospace\" font-size=\"10.00\">coverage()</text>\n",
       "</a>\n",
       "</g>\n",
       "<g id=\"a_node5_40\"><a xlink:href=\"StatisticalDebugger.ipynb\" xlink:title=\"covered_functions(self) &#45;&gt; Set[Callable]:&#10;Return a set of all functions observed.\">\n",
       "<text text-anchor=\"start\" x=\"24\" y=\"-697.5\" font-family=\"'Fira Mono', 'Source Code Pro', 'Courier', monospace\" font-size=\"10.00\">covered_functions()</text>\n",
       "</a>\n",
       "</g>\n",
       "<g id=\"a_node5_41\"><a xlink:href=\"StatisticalDebugger.ipynb\" xlink:title=\"event_str(self, event: Any) &#45;&gt; str:&#10;Format the given event. To be overloaded in subclasses.\">\n",
       "<text text-anchor=\"start\" x=\"24\" y=\"-687.5\" font-family=\"'Fira Mono', 'Source Code Pro', 'Courier', monospace\" font-style=\"italic\" font-size=\"10.00\">event_str()</text>\n",
       "</a>\n",
       "</g>\n",
       "<g id=\"a_node5_42\"><a xlink:href=\"StatisticalDebugger.ipynb\" xlink:title=\"event_table(self, **_args: Any) &#45;&gt; Any:&#10;Print out event table in Markdown format.\">\n",
       "<text text-anchor=\"start\" x=\"24\" y=\"-675.5\" font-family=\"'Fira Mono', 'Source Code Pro', 'Courier', monospace\" font-size=\"10.00\">event_table()</text>\n",
       "</a>\n",
       "</g>\n",
       "<g id=\"a_node5_43\"><a xlink:href=\"StatisticalDebugger.ipynb\" xlink:title=\"event_table_text(self, *, args: bool = False, color: bool = False) &#45;&gt; str:&#10;Print out a table of events observed.&#10;If `args` is True, use arguments as headers.&#10;If `color` is True, use colors.\">\n",
       "<text text-anchor=\"start\" x=\"24\" y=\"-664.5\" font-family=\"'Fira Mono', 'Source Code Pro', 'Courier', monospace\" font-size=\"10.00\">event_table_text()</text>\n",
       "</a>\n",
       "</g>\n",
       "<g id=\"a_node5_44\"><a xlink:href=\"StatisticalDebugger.ipynb\" xlink:title=\"function(self) &#45;&gt; Optional[Callable]:&#10;Return the entry function from the events observed,&#10;or None if ambiguous.\">\n",
       "<text text-anchor=\"start\" x=\"24\" y=\"-653.5\" font-family=\"'Fira Mono', 'Source Code Pro', 'Courier', monospace\" font-size=\"10.00\">function()</text>\n",
       "</a>\n",
       "</g>\n",
       "<g id=\"a_node5_45\"><a xlink:href=\"StatisticalDebugger.ipynb\" xlink:title=\"tooltip(self, event: Any) &#45;&gt; Optional[str]:&#10;Return a tooltip string for the given event, or None.&#10;To be overloaded in subclasses.\">\n",
       "<text text-anchor=\"start\" x=\"24\" y=\"-643.5\" font-family=\"'Fira Mono', 'Source Code Pro', 'Courier', monospace\" font-style=\"italic\" font-size=\"10.00\">tooltip()</text>\n",
       "</a>\n",
       "</g>\n",
       "</a>\n",
       "</g>\n",
       "</a>\n",
       "</g>\n",
       "</g>\n",
       "<!-- DifferenceDebugger&#45;&gt;StatisticalDebugger -->\n",
       "<g id=\"edge4\" class=\"edge\">\n",
       "<title>DifferenceDebugger&#45;&gt;StatisticalDebugger</title>\n",
       "<path fill=\"none\" stroke=\"black\" d=\"M81,-591.74C81,-602.68 81,-613.97 81,-625.14\"/>\n",
       "<polygon fill=\"none\" stroke=\"black\" points=\"77.5,-625.36 81,-635.36 84.5,-625.36 77.5,-625.36\"/>\n",
       "</g>\n",
       "<!-- TimeCollector -->\n",
       "<g id=\"node6\" class=\"node\">\n",
       "<title>TimeCollector</title>\n",
       "<g id=\"a_node6\"><a xlink:href=\"#\" xlink:title=\"class TimeCollector:&#10;Collect time executed for each line\">\n",
       "<polygon fill=\"none\" stroke=\"black\" points=\"243.5,-0.5 243.5,-97.5 348.5,-97.5 348.5,-0.5 243.5,-0.5\"/>\n",
       "<text text-anchor=\"start\" x=\"251.5\" y=\"-83.3\" font-family=\"Raleway, Helvetica, Arial, sans-serif\" font-weight=\"bold\" font-size=\"14.00\" fill=\"#6a0dad\">TimeCollector</text>\n",
       "<polyline fill=\"none\" stroke=\"black\" points=\"243.5,-74.5 348.5,-74.5 \"/>\n",
       "<g id=\"a_node6_46\"><a xlink:href=\"#\" xlink:title=\"TimeCollector\">\n",
       "<g id=\"a_node6_47\"><a xlink:href=\"#\" xlink:title=\"__enter__(self) &#45;&gt; Any:&#10;Called at begin of `with` block. Turn tracing on.\">\n",
       "<text text-anchor=\"start\" x=\"257\" y=\"-63.5\" font-family=\"'Fira Mono', 'Source Code Pro', 'Courier', monospace\" font-style=\"italic\" font-size=\"10.00\">__enter__()</text>\n",
       "</a>\n",
       "</g>\n",
       "<g id=\"a_node6_48\"><a xlink:href=\"#\" xlink:title=\"__init__(self) &#45;&gt; None:&#10;Constructor\">\n",
       "<text text-anchor=\"start\" x=\"257\" y=\"-52.5\" font-family=\"'Fira Mono', 'Source Code Pro', 'Courier', monospace\" font-style=\"italic\" font-size=\"10.00\">__init__()</text>\n",
       "</a>\n",
       "</g>\n",
       "<g id=\"a_node6_49\"><a xlink:href=\"#\" xlink:title=\"all_metrics(self, func: str) &#45;&gt; List[float]:&#10;Return all metric for a function `func`.\">\n",
       "<text text-anchor=\"start\" x=\"257\" y=\"-41.5\" font-family=\"'Fira Mono', 'Source Code Pro', 'Courier', monospace\" font-style=\"italic\" font-size=\"10.00\">all_metrics()</text>\n",
       "</a>\n",
       "</g>\n",
       "<g id=\"a_node6_50\"><a xlink:href=\"#\" xlink:title=\"collect(self, frame: frame, event: str, arg: Any) &#45;&gt; None:&#10;Invoked for every line executed. Accumulate time spent.\">\n",
       "<text text-anchor=\"start\" x=\"257\" y=\"-30.5\" font-family=\"'Fira Mono', 'Source Code Pro', 'Courier', monospace\" font-style=\"italic\" font-size=\"10.00\">collect()</text>\n",
       "</a>\n",
       "</g>\n",
       "<g id=\"a_node6_51\"><a xlink:href=\"#\" xlink:title=\"metric(self, location: Any) &#45;&gt; Optional[float]:&#10;Return a metric for an event, or none.\">\n",
       "<text text-anchor=\"start\" x=\"257\" y=\"-19.5\" font-family=\"'Fira Mono', 'Source Code Pro', 'Courier', monospace\" font-style=\"italic\" font-size=\"10.00\">metric()</text>\n",
       "</a>\n",
       "</g>\n",
       "<g id=\"a_node6_52\"><a xlink:href=\"#\" xlink:title=\"reset_timer(self) &#45;&gt; None\">\n",
       "<text text-anchor=\"start\" x=\"257\" y=\"-7.5\" font-family=\"'Fira Mono', 'Source Code Pro', 'Courier', monospace\" font-size=\"10.00\">reset_timer()</text>\n",
       "</a>\n",
       "</g>\n",
       "</a>\n",
       "</g>\n",
       "</a>\n",
       "</g>\n",
       "</g>\n",
       "<!-- MetricCollector -->\n",
       "<g id=\"node7\" class=\"node\">\n",
       "<title>MetricCollector</title>\n",
       "<g id=\"a_node7\"><a xlink:href=\"#\" xlink:title=\"class MetricCollector:&#10;Abstract superclass for collecting line&#45;specific metrics\">\n",
       "<polygon fill=\"none\" stroke=\"black\" points=\"246,-145.5 246,-220.5 358,-220.5 358,-145.5 246,-145.5\"/>\n",
       "<text text-anchor=\"start\" x=\"254\" y=\"-206.3\" font-family=\"Raleway, Helvetica, Arial, sans-serif\" font-weight=\"bold\" font-size=\"14.00\" fill=\"#6a0dad\">MetricCollector</text>\n",
       "<polyline fill=\"none\" stroke=\"black\" points=\"246,-197.5 358,-197.5 \"/>\n",
       "<g id=\"a_node7_53\"><a xlink:href=\"#\" xlink:title=\"MetricCollector\">\n",
       "<g id=\"a_node7_54\"><a xlink:href=\"#\" xlink:title=\"all_metrics(self, func: str) &#45;&gt; List[float]:&#10;Return all metric for a function `func`.\">\n",
       "<text text-anchor=\"start\" x=\"263\" y=\"-186.5\" font-family=\"'Fira Mono', 'Source Code Pro', 'Courier', monospace\" font-style=\"italic\" font-size=\"10.00\">all_metrics()</text>\n",
       "</a>\n",
       "</g>\n",
       "<g id=\"a_node7_55\"><a xlink:href=\"#\" xlink:title=\"maximum(self, func: str) &#45;&gt; float\">\n",
       "<text text-anchor=\"start\" x=\"263\" y=\"-174.5\" font-family=\"'Fira Mono', 'Source Code Pro', 'Courier', monospace\" font-size=\"10.00\">maximum()</text>\n",
       "</a>\n",
       "</g>\n",
       "<g id=\"a_node7_56\"><a xlink:href=\"#\" xlink:title=\"metric(self, event: Any) &#45;&gt; Optional[float]:&#10;Return a metric for an event, or none.\">\n",
       "<text text-anchor=\"start\" x=\"263\" y=\"-164.5\" font-family=\"'Fira Mono', 'Source Code Pro', 'Courier', monospace\" font-style=\"italic\" font-size=\"10.00\">metric()</text>\n",
       "</a>\n",
       "</g>\n",
       "<g id=\"a_node7_57\"><a xlink:href=\"#\" xlink:title=\"total(self, func: str) &#45;&gt; float\">\n",
       "<text text-anchor=\"start\" x=\"263\" y=\"-152.5\" font-family=\"'Fira Mono', 'Source Code Pro', 'Courier', monospace\" font-size=\"10.00\">total()</text>\n",
       "</a>\n",
       "</g>\n",
       "</a>\n",
       "</g>\n",
       "</a>\n",
       "</g>\n",
       "</g>\n",
       "<!-- TimeCollector&#45;&gt;MetricCollector -->\n",
       "<g id=\"edge5\" class=\"edge\">\n",
       "<title>TimeCollector&#45;&gt;MetricCollector</title>\n",
       "<path fill=\"none\" stroke=\"black\" d=\"M298.17,-97.66C298.72,-109.76 299.31,-122.77 299.86,-134.85\"/>\n",
       "<polygon fill=\"none\" stroke=\"black\" points=\"296.38,-135.36 300.33,-145.19 303.37,-135.04 296.38,-135.36\"/>\n",
       "</g>\n",
       "<!-- CoverageCollector -->\n",
       "<g id=\"node8\" class=\"node\">\n",
       "<title>CoverageCollector</title>\n",
       "<g id=\"a_node8\"><a xlink:href=\"StatisticalDebugger.ipynb\" xlink:title=\"class CoverageCollector:&#10;A class to record covered locations during execution.\">\n",
       "<polygon fill=\"none\" stroke=\"black\" points=\"235,-279.5 235,-365.5 369,-365.5 369,-279.5 235,-279.5\"/>\n",
       "<text text-anchor=\"start\" x=\"243\" y=\"-351.3\" font-family=\"Raleway, Helvetica, Arial, sans-serif\" font-weight=\"bold\" font-size=\"14.00\" fill=\"#6a0dad\">CoverageCollector</text>\n",
       "<polyline fill=\"none\" stroke=\"black\" points=\"235,-342.5 369,-342.5 \"/>\n",
       "<g id=\"a_node8_58\"><a xlink:href=\"#\" xlink:title=\"CoverageCollector\">\n",
       "<g id=\"a_node8_59\"><a xlink:href=\"StatisticalDebugger.ipynb\" xlink:title=\"__init__(self) &#45;&gt; None:&#10;Constructor.\">\n",
       "<text text-anchor=\"start\" x=\"245\" y=\"-331\" font-family=\"'Fira Mono', 'Source Code Pro', 'Courier', monospace\" font-style=\"italic\" font-size=\"10.00\">__init__()</text>\n",
       "</a>\n",
       "</g>\n",
       "<g id=\"a_node8_60\"><a xlink:href=\"StatisticalDebugger.ipynb\" xlink:title=\"collect(self, frame: frame, event: str, arg: Any) &#45;&gt; None:&#10;Save coverage for an observed event.\">\n",
       "<text text-anchor=\"start\" x=\"245\" y=\"-320\" font-family=\"'Fira Mono', 'Source Code Pro', 'Courier', monospace\" font-style=\"italic\" font-size=\"10.00\">collect()</text>\n",
       "</a>\n",
       "</g>\n",
       "<g id=\"a_node8_61\"><a xlink:href=\"StatisticalDebugger.ipynb\" xlink:title=\"coverage(self) &#45;&gt; Set[Tuple[Callable, int]]:&#10;Return a set (function, lineno) with all locations covered.\">\n",
       "<text text-anchor=\"start\" x=\"245\" y=\"-309\" font-family=\"'Fira Mono', 'Source Code Pro', 'Courier', monospace\" font-style=\"italic\" font-size=\"10.00\">coverage()</text>\n",
       "</a>\n",
       "</g>\n",
       "<g id=\"a_node8_62\"><a xlink:href=\"StatisticalDebugger.ipynb\" xlink:title=\"covered_functions(self) &#45;&gt; Set[Callable]:&#10;Return a set with all functions covered.\">\n",
       "<text text-anchor=\"start\" x=\"245\" y=\"-298\" font-family=\"'Fira Mono', 'Source Code Pro', 'Courier', monospace\" font-style=\"italic\" font-size=\"10.00\">covered_functions()</text>\n",
       "</a>\n",
       "</g>\n",
       "<g id=\"a_node8_63\"><a xlink:href=\"StatisticalDebugger.ipynb\" xlink:title=\"events(self) &#45;&gt; Set[Tuple[str, int]]:&#10;Return the set of locations covered.&#10;Each location comes as a pair (`function_name`, `lineno`).\">\n",
       "<text text-anchor=\"start\" x=\"245\" y=\"-287\" font-family=\"'Fira Mono', 'Source Code Pro', 'Courier', monospace\" font-style=\"italic\" font-size=\"10.00\">events()</text>\n",
       "</a>\n",
       "</g>\n",
       "</a>\n",
       "</g>\n",
       "</a>\n",
       "</g>\n",
       "</g>\n",
       "<!-- MetricCollector&#45;&gt;CoverageCollector -->\n",
       "<g id=\"edge6\" class=\"edge\">\n",
       "<title>MetricCollector&#45;&gt;CoverageCollector</title>\n",
       "<path fill=\"none\" stroke=\"black\" d=\"M302,-220.85C302,-235.6 302,-252.86 302,-268.88\"/>\n",
       "<polygon fill=\"none\" stroke=\"black\" points=\"298.5,-269.2 302,-279.2 305.5,-269.2 298.5,-269.2\"/>\n",
       "</g>\n",
       "<!-- Collector -->\n",
       "<g id=\"node9\" class=\"node\">\n",
       "<title>Collector</title>\n",
       "<g id=\"a_node9\"><a xlink:href=\"StatisticalDebugger.ipynb\" xlink:title=\"class Collector:&#10;A class to record events during execution.\">\n",
       "<polygon fill=\"none\" stroke=\"black\" points=\"177.5,-413.5 177.5,-598.5 320.5,-598.5 320.5,-413.5 177.5,-413.5\"/>\n",
       "<text text-anchor=\"start\" x=\"220.5\" y=\"-584.3\" font-family=\"Raleway, Helvetica, Arial, sans-serif\" font-weight=\"bold\" font-size=\"14.00\" fill=\"#6a0dad\">Collector</text>\n",
       "<polyline fill=\"none\" stroke=\"black\" points=\"177.5,-575.5 320.5,-575.5 \"/>\n",
       "<g id=\"a_node9_64\"><a xlink:href=\"#\" xlink:title=\"Collector\">\n",
       "<g id=\"a_node9_65\"><a xlink:href=\"StatisticalDebugger.ipynb\" xlink:title=\"__exit__(self, exc_tp: Type, exc_value: BaseException, exc_traceback: traceback) &#45;&gt; Optional[bool]:&#10;Exit the `with` block.\">\n",
       "<text text-anchor=\"start\" x=\"186\" y=\"-564.5\" font-family=\"'Fira Mono', 'Source Code Pro', 'Courier', monospace\" font-style=\"italic\" font-size=\"10.00\">__exit__()</text>\n",
       "</a>\n",
       "</g>\n",
       "<g id=\"a_node9_66\"><a xlink:href=\"StatisticalDebugger.ipynb\" xlink:title=\"__init__(self) &#45;&gt; None:&#10;Constructor.\">\n",
       "<text text-anchor=\"start\" x=\"186\" y=\"-553.5\" font-family=\"'Fira Mono', 'Source Code Pro', 'Courier', monospace\" font-style=\"italic\" font-size=\"10.00\">__init__()</text>\n",
       "</a>\n",
       "</g>\n",
       "<g id=\"a_node9_67\"><a xlink:href=\"StatisticalDebugger.ipynb\" xlink:title=\"__repr__(self) &#45;&gt; str:&#10;Return a string representation of the collector\">\n",
       "<text text-anchor=\"start\" x=\"186\" y=\"-541.5\" font-family=\"'Fira Mono', 'Source Code Pro', 'Courier', monospace\" font-size=\"10.00\">__repr__()</text>\n",
       "</a>\n",
       "</g>\n",
       "<g id=\"a_node9_68\"><a xlink:href=\"StatisticalDebugger.ipynb\" xlink:title=\"add_items_to_ignore(self, items_to_ignore: List[Union[Type, Callable]]) &#45;&gt; None:&#10;Define additional classes and functions to ignore during collection&#10;(typically `Debugger` classes using these collectors).\">\n",
       "<text text-anchor=\"start\" x=\"186\" y=\"-530.5\" font-family=\"'Fira Mono', 'Source Code Pro', 'Courier', monospace\" font-size=\"10.00\">add_items_to_ignore()</text>\n",
       "</a>\n",
       "</g>\n",
       "<g id=\"a_node9_69\"><a xlink:href=\"StatisticalDebugger.ipynb\" xlink:title=\"args(self) &#45;&gt; Dict[str, Any]:&#10;Return a dict of argument names and values from the first call\">\n",
       "<text text-anchor=\"start\" x=\"186\" y=\"-519.5\" font-family=\"'Fira Mono', 'Source Code Pro', 'Courier', monospace\" font-size=\"10.00\">args()</text>\n",
       "</a>\n",
       "</g>\n",
       "<g id=\"a_node9_70\"><a xlink:href=\"StatisticalDebugger.ipynb\" xlink:title=\"argstring(self) &#45;&gt; str:&#10;Return the list of arguments from the first call,&#10;as a printable string\">\n",
       "<text text-anchor=\"start\" x=\"186\" y=\"-508.5\" font-family=\"'Fira Mono', 'Source Code Pro', 'Courier', monospace\" font-size=\"10.00\">argstring()</text>\n",
       "</a>\n",
       "</g>\n",
       "<g id=\"a_node9_71\"><a xlink:href=\"StatisticalDebugger.ipynb\" xlink:title=\"collect(self, frame: frame, event: str, arg: Any) &#45;&gt; None:&#10;Collector function. To be overloaded in subclasses.\">\n",
       "<text text-anchor=\"start\" x=\"186\" y=\"-498.5\" font-family=\"'Fira Mono', 'Source Code Pro', 'Courier', monospace\" font-style=\"italic\" font-size=\"10.00\">collect()</text>\n",
       "</a>\n",
       "</g>\n",
       "<g id=\"a_node9_72\"><a xlink:href=\"StatisticalDebugger.ipynb\" xlink:title=\"coverage(self) &#45;&gt; Set[Tuple[Callable, int]]:&#10;Return a set (function, lineno) with locations covered.&#10;To be overloaded in subclasses.\">\n",
       "<text text-anchor=\"start\" x=\"186\" y=\"-487.5\" font-family=\"'Fira Mono', 'Source Code Pro', 'Courier', monospace\" font-style=\"italic\" font-size=\"10.00\">coverage()</text>\n",
       "</a>\n",
       "</g>\n",
       "<g id=\"a_node9_73\"><a xlink:href=\"StatisticalDebugger.ipynb\" xlink:title=\"covered_functions(self) &#45;&gt; Set[Callable]:&#10;Set of covered functions. To be overloaded in subclasses.\">\n",
       "<text text-anchor=\"start\" x=\"186\" y=\"-476.5\" font-family=\"'Fira Mono', 'Source Code Pro', 'Courier', monospace\" font-style=\"italic\" font-size=\"10.00\">covered_functions()</text>\n",
       "</a>\n",
       "</g>\n",
       "<g id=\"a_node9_74\"><a xlink:href=\"StatisticalDebugger.ipynb\" xlink:title=\"events(self) &#45;&gt; Set:&#10;Return a collection of events. To be overridden in subclasses.\">\n",
       "<text text-anchor=\"start\" x=\"186\" y=\"-465.5\" font-family=\"'Fira Mono', 'Source Code Pro', 'Courier', monospace\" font-style=\"italic\" font-size=\"10.00\">events()</text>\n",
       "</a>\n",
       "</g>\n",
       "<g id=\"a_node9_75\"><a xlink:href=\"StatisticalDebugger.ipynb\" xlink:title=\"exception(self) &#45;&gt; Optional[Type]:&#10;Return the exception class from the first call,&#10;or None if no exception was raised.\">\n",
       "<text text-anchor=\"start\" x=\"186\" y=\"-453.5\" font-family=\"'Fira Mono', 'Source Code Pro', 'Courier', monospace\" font-size=\"10.00\">exception()</text>\n",
       "</a>\n",
       "</g>\n",
       "<g id=\"a_node9_76\"><a xlink:href=\"StatisticalDebugger.ipynb\" xlink:title=\"function(self) &#45;&gt; Callable:&#10;Return the function from the first call, as a function object\">\n",
       "<text text-anchor=\"start\" x=\"186\" y=\"-442.5\" font-family=\"'Fira Mono', 'Source Code Pro', 'Courier', monospace\" font-size=\"10.00\">function()</text>\n",
       "</a>\n",
       "</g>\n",
       "<g id=\"a_node9_77\"><a xlink:href=\"StatisticalDebugger.ipynb\" xlink:title=\"id(self) &#45;&gt; str:&#10;Return an identifier for the collector,&#10;created from the first call\">\n",
       "<text text-anchor=\"start\" x=\"186\" y=\"-431.5\" font-family=\"'Fira Mono', 'Source Code Pro', 'Courier', monospace\" font-size=\"10.00\">id()</text>\n",
       "</a>\n",
       "</g>\n",
       "<g id=\"a_node9_78\"><a xlink:href=\"StatisticalDebugger.ipynb\" xlink:title=\"traceit(self, frame: frame, event: str, arg: Any) &#45;&gt; None:&#10;Tracing function.&#10;Saves the first function and calls collect().\">\n",
       "<text text-anchor=\"start\" x=\"186\" y=\"-421.5\" font-family=\"'Fira Mono', 'Source Code Pro', 'Courier', monospace\" font-style=\"italic\" font-size=\"10.00\">traceit()</text>\n",
       "</a>\n",
       "</g>\n",
       "</a>\n",
       "</g>\n",
       "</a>\n",
       "</g>\n",
       "</g>\n",
       "<!-- CoverageCollector&#45;&gt;Collector -->\n",
       "<g id=\"edge7\" class=\"edge\">\n",
       "<title>CoverageCollector&#45;&gt;Collector</title>\n",
       "<path fill=\"none\" stroke=\"black\" d=\"M289.71,-365.6C286.34,-377.14 282.53,-390.18 278.63,-403.53\"/>\n",
       "<polygon fill=\"none\" stroke=\"black\" points=\"275.22,-402.71 275.78,-413.29 281.94,-404.67 275.22,-402.71\"/>\n",
       "</g>\n",
       "<!-- StackInspector -->\n",
       "<g id=\"node11\" class=\"node\">\n",
       "<title>StackInspector</title>\n",
       "<g id=\"a_node11\"><a xlink:href=\"StackInspector.ipynb\" xlink:title=\"class StackInspector:&#10;Provide functions to inspect the stack\">\n",
       "<polygon fill=\"none\" stroke=\"black\" points=\"215.5,-857.5 215.5,-1028.5 382.5,-1028.5 382.5,-857.5 215.5,-857.5\"/>\n",
       "<text text-anchor=\"start\" x=\"252.5\" y=\"-1014.3\" font-family=\"Raleway, Helvetica, Arial, sans-serif\" font-weight=\"bold\" font-size=\"14.00\" fill=\"#6a0dad\">StackInspector</text>\n",
       "<polyline fill=\"none\" stroke=\"black\" points=\"215.5,-1005.5 382.5,-1005.5 \"/>\n",
       "<g id=\"a_node11_79\"><a xlink:href=\"#\" xlink:title=\"StackInspector\">\n",
       "<g id=\"a_node11_80\"><a xlink:href=\"StackInspector.ipynb\" xlink:title=\"_generated_function_cache = {(&#39;remove_html_markup&#39;, 238): &lt;function remove_html_markup at 0x12b4c2ca0&gt;}\">\n",
       "<text text-anchor=\"start\" x=\"224\" y=\"-993\" font-family=\"'Fira Mono', 'Source Code Pro', 'Courier', monospace\" font-size=\"10.00\">_generated_function_cache</text>\n",
       "</a>\n",
       "</g>\n",
       "</a>\n",
       "</g>\n",
       "<polyline fill=\"none\" stroke=\"black\" points=\"215.5,-986.5 382.5,-986.5 \"/>\n",
       "<g id=\"a_node11_81\"><a xlink:href=\"#\" xlink:title=\"StackInspector\">\n",
       "<g id=\"a_node11_82\"><a xlink:href=\"StackInspector.ipynb\" xlink:title=\"caller_frame(self) &#45;&gt; frame:&#10;Return the frame of the caller.\">\n",
       "<text text-anchor=\"start\" x=\"242\" y=\"-974\" font-family=\"'Fira Mono', 'Source Code Pro', 'Courier', monospace\" font-size=\"10.00\">caller_frame()</text>\n",
       "</a>\n",
       "</g>\n",
       "<g id=\"a_node11_83\"><a xlink:href=\"StackInspector.ipynb\" xlink:title=\"caller_function(self) &#45;&gt; Callable:&#10;Return the calling function\">\n",
       "<text text-anchor=\"start\" x=\"242\" y=\"-963\" font-family=\"'Fira Mono', 'Source Code Pro', 'Courier', monospace\" font-size=\"10.00\">caller_function()</text>\n",
       "</a>\n",
       "</g>\n",
       "<g id=\"a_node11_84\"><a xlink:href=\"StackInspector.ipynb\" xlink:title=\"caller_globals(self) &#45;&gt; Dict[str, Any]:&#10;Return the globals() environment of the caller.\">\n",
       "<text text-anchor=\"start\" x=\"242\" y=\"-952\" font-family=\"'Fira Mono', 'Source Code Pro', 'Courier', monospace\" font-size=\"10.00\">caller_globals()</text>\n",
       "</a>\n",
       "</g>\n",
       "<g id=\"a_node11_85\"><a xlink:href=\"StackInspector.ipynb\" xlink:title=\"caller_locals(self) &#45;&gt; Dict[str, Any]:&#10;Return the locals() environment of the caller.\">\n",
       "<text text-anchor=\"start\" x=\"242\" y=\"-941\" font-family=\"'Fira Mono', 'Source Code Pro', 'Courier', monospace\" font-size=\"10.00\">caller_locals()</text>\n",
       "</a>\n",
       "</g>\n",
       "<g id=\"a_node11_86\"><a xlink:href=\"StackInspector.ipynb\" xlink:title=\"caller_location(self) &#45;&gt; Tuple[Callable, int]:&#10;Return the location (func, lineno) of the caller.\">\n",
       "<text text-anchor=\"start\" x=\"242\" y=\"-930\" font-family=\"'Fira Mono', 'Source Code Pro', 'Courier', monospace\" font-size=\"10.00\">caller_location()</text>\n",
       "</a>\n",
       "</g>\n",
       "<g id=\"a_node11_87\"><a xlink:href=\"StackInspector.ipynb\" xlink:title=\"create_function(self, frame: frame) &#45;&gt; Callable:&#10;Create function for given frame\">\n",
       "<text text-anchor=\"start\" x=\"242\" y=\"-919\" font-family=\"'Fira Mono', 'Source Code Pro', 'Courier', monospace\" font-size=\"10.00\">create_function()</text>\n",
       "</a>\n",
       "</g>\n",
       "<g id=\"a_node11_88\"><a xlink:href=\"StackInspector.ipynb\" xlink:title=\"is_internal_error(self, exc_tp: Type, exc_value: BaseException, exc_traceback: traceback) &#45;&gt; bool:&#10;Return True if exception was raised from `StackInspector` or a subclass.\">\n",
       "<text text-anchor=\"start\" x=\"242\" y=\"-908\" font-family=\"'Fira Mono', 'Source Code Pro', 'Courier', monospace\" font-size=\"10.00\">is_internal_error()</text>\n",
       "</a>\n",
       "</g>\n",
       "<g id=\"a_node11_89\"><a xlink:href=\"StackInspector.ipynb\" xlink:title=\"our_frame(self, frame: frame) &#45;&gt; bool:&#10;Return true if `frame` is in the current (inspecting) class.\">\n",
       "<text text-anchor=\"start\" x=\"242\" y=\"-897\" font-family=\"'Fira Mono', 'Source Code Pro', 'Courier', monospace\" font-size=\"10.00\">our_frame()</text>\n",
       "</a>\n",
       "</g>\n",
       "<g id=\"a_node11_90\"><a xlink:href=\"StackInspector.ipynb\" xlink:title=\"search_frame(self, name: str, frame: Optional[frame] = None) &#45;&gt; Tuple[Optional[frame], Optional[Callable]]:&#10;Return a pair (`frame`, `item`)&#10;in which the function `name` is defined as `item`.\">\n",
       "<text text-anchor=\"start\" x=\"242\" y=\"-886\" font-family=\"'Fira Mono', 'Source Code Pro', 'Courier', monospace\" font-size=\"10.00\">search_frame()</text>\n",
       "</a>\n",
       "</g>\n",
       "<g id=\"a_node11_91\"><a xlink:href=\"StackInspector.ipynb\" xlink:title=\"search_func(self, name: str, frame: Optional[frame] = None) &#45;&gt; Optional[Callable]:&#10;Search in callers for a definition of the function `name`\">\n",
       "<text text-anchor=\"start\" x=\"242\" y=\"-875\" font-family=\"'Fira Mono', 'Source Code Pro', 'Courier', monospace\" font-size=\"10.00\">search_func()</text>\n",
       "</a>\n",
       "</g>\n",
       "<g id=\"a_node11_92\"><a xlink:href=\"StackInspector.ipynb\" xlink:title=\"unknown(self) &#45;&gt; None\">\n",
       "<text text-anchor=\"start\" x=\"242\" y=\"-864\" font-family=\"'Fira Mono', 'Source Code Pro', 'Courier', monospace\" font-size=\"10.00\">unknown()</text>\n",
       "</a>\n",
       "</g>\n",
       "</a>\n",
       "</g>\n",
       "</a>\n",
       "</g>\n",
       "</g>\n",
       "<!-- CoverageCollector&#45;&gt;StackInspector -->\n",
       "<g id=\"edge10\" class=\"edge\">\n",
       "<title>CoverageCollector&#45;&gt;StackInspector</title>\n",
       "<path fill=\"none\" stroke=\"black\" d=\"M317.38,-365.73C322.05,-380.48 326.57,-397.28 329,-413 356.68,-592.21 356.07,-641.27 332,-821 330.85,-829.62 329.25,-838.5 327.37,-847.35\"/>\n",
       "<polygon fill=\"none\" stroke=\"black\" points=\"323.91,-846.78 325.15,-857.31 330.74,-848.31 323.91,-846.78\"/>\n",
       "</g>\n",
       "<!-- Tracer -->\n",
       "<g id=\"node10\" class=\"node\">\n",
       "<title>Tracer</title>\n",
       "<g id=\"a_node10\"><a xlink:href=\"Tracer.ipynb\" xlink:title=\"class Tracer:&#10;A class for tracing a piece of code. Use as `with Tracer(): block()`\">\n",
       "<polygon fill=\"none\" stroke=\"black\" points=\"168.5,-668.5 168.5,-787.5 323.5,-787.5 323.5,-668.5 168.5,-668.5\"/>\n",
       "<text text-anchor=\"start\" x=\"226.5\" y=\"-773.3\" font-family=\"Raleway, Helvetica, Arial, sans-serif\" font-weight=\"bold\" font-size=\"14.00\" fill=\"#6a0dad\">Tracer</text>\n",
       "<polyline fill=\"none\" stroke=\"black\" points=\"168.5,-764.5 323.5,-764.5 \"/>\n",
       "<g id=\"a_node10_93\"><a xlink:href=\"#\" xlink:title=\"Tracer\">\n",
       "<g id=\"a_node10_94\"><a xlink:href=\"Tracer.ipynb\" xlink:title=\"__enter__(self) &#45;&gt; Any:&#10;Called at begin of `with` block. Turn tracing on.\">\n",
       "<text text-anchor=\"start\" x=\"177\" y=\"-753.5\" font-family=\"'Fira Mono', 'Source Code Pro', 'Courier', monospace\" font-style=\"italic\" font-size=\"10.00\">__enter__()</text>\n",
       "</a>\n",
       "</g>\n",
       "<g id=\"a_node10_95\"><a xlink:href=\"Tracer.ipynb\" xlink:title=\"__exit__(self, exc_tp: Type, exc_value: BaseException, exc_traceback: traceback) &#45;&gt; Optional[bool]:&#10;Called at end of `with` block. Turn tracing off.&#10;Return `None` if ok, not `None` if internal error.\">\n",
       "<text text-anchor=\"start\" x=\"177\" y=\"-742.5\" font-family=\"'Fira Mono', 'Source Code Pro', 'Courier', monospace\" font-style=\"italic\" font-size=\"10.00\">__exit__()</text>\n",
       "</a>\n",
       "</g>\n",
       "<g id=\"a_node10_96\"><a xlink:href=\"Tracer.ipynb\" xlink:title=\"__init__(self, file: &lt;class &#39;TextIO&#39;&gt; = &lt;ipykernel.iostream.OutStream object at 0x109582820&gt;) &#45;&gt; None:&#10;Create a new tracer.&#10;If `file` is given, output to `file` instead of stdout.\">\n",
       "<text text-anchor=\"start\" x=\"177\" y=\"-731.5\" font-family=\"'Fira Mono', 'Source Code Pro', 'Courier', monospace\" font-style=\"italic\" font-size=\"10.00\">__init__()</text>\n",
       "</a>\n",
       "</g>\n",
       "<g id=\"a_node10_97\"><a xlink:href=\"Tracer.ipynb\" xlink:title=\"_traceit(self, frame: frame, event: str, arg: Any) &#45;&gt; Optional[Callable]:&#10;Internal tracing function.\">\n",
       "<text text-anchor=\"start\" x=\"177\" y=\"-719.5\" font-family=\"'Fira Mono', 'Source Code Pro', 'Courier', monospace\" font-size=\"10.00\">_traceit()</text>\n",
       "</a>\n",
       "</g>\n",
       "<g id=\"a_node10_98\"><a xlink:href=\"Tracer.ipynb\" xlink:title=\"changed_vars(self, new_vars: Dict[str, Any]) &#45;&gt; Dict[str, Any]:&#10;Track changed variables, based on `new_vars` observed.\">\n",
       "<text text-anchor=\"start\" x=\"177\" y=\"-708.5\" font-family=\"'Fira Mono', 'Source Code Pro', 'Courier', monospace\" font-size=\"10.00\">changed_vars()</text>\n",
       "</a>\n",
       "</g>\n",
       "<g id=\"a_node10_99\"><a xlink:href=\"Tracer.ipynb\" xlink:title=\"log(self, *objects: Any, sep: str = &#39; &#39;, end: str = &#39;\\n&#39;, flush: bool = True) &#45;&gt; None:&#10;Like `print()`, but always sending to `file` given at initialization,&#10;and flushing by default.\">\n",
       "<text text-anchor=\"start\" x=\"177\" y=\"-697.5\" font-family=\"'Fira Mono', 'Source Code Pro', 'Courier', monospace\" font-size=\"10.00\">log()</text>\n",
       "</a>\n",
       "</g>\n",
       "<g id=\"a_node10_100\"><a xlink:href=\"Tracer.ipynb\" xlink:title=\"print_debugger_status(self, frame: frame, event: str, arg: Any) &#45;&gt; None:&#10;Show current source line and changed vars\">\n",
       "<text text-anchor=\"start\" x=\"177\" y=\"-686.5\" font-family=\"'Fira Mono', 'Source Code Pro', 'Courier', monospace\" font-size=\"10.00\">print_debugger_status()</text>\n",
       "</a>\n",
       "</g>\n",
       "<g id=\"a_node10_101\"><a xlink:href=\"Tracer.ipynb\" xlink:title=\"traceit(self, frame: frame, event: str, arg: Any) &#45;&gt; None:&#10;Tracing function; called at every line. To be overloaded in subclasses.\">\n",
       "<text text-anchor=\"start\" x=\"177\" y=\"-676.5\" font-family=\"'Fira Mono', 'Source Code Pro', 'Courier', monospace\" font-style=\"italic\" font-size=\"10.00\">traceit()</text>\n",
       "</a>\n",
       "</g>\n",
       "</a>\n",
       "</g>\n",
       "</a>\n",
       "</g>\n",
       "</g>\n",
       "<!-- Collector&#45;&gt;Tracer -->\n",
       "<g id=\"edge8\" class=\"edge\">\n",
       "<title>Collector&#45;&gt;Tracer</title>\n",
       "<path fill=\"none\" stroke=\"black\" d=\"M247.75,-598.71C247.48,-618.6 247.2,-639.32 246.94,-658.16\"/>\n",
       "<polygon fill=\"none\" stroke=\"black\" points=\"243.44,-658.36 246.8,-668.41 250.44,-658.46 243.44,-658.36\"/>\n",
       "</g>\n",
       "<!-- Tracer&#45;&gt;StackInspector -->\n",
       "<g id=\"edge9\" class=\"edge\">\n",
       "<title>Tracer&#45;&gt;StackInspector</title>\n",
       "<path fill=\"none\" stroke=\"black\" d=\"M260.62,-787.77C265.2,-806.18 270.38,-826.99 275.42,-847.23\"/>\n",
       "<polygon fill=\"none\" stroke=\"black\" points=\"272.07,-848.25 277.88,-857.11 278.86,-846.56 272.07,-848.25\"/>\n",
       "</g>\n",
       "<!-- HitCollector -->\n",
       "<g id=\"node12\" class=\"node\">\n",
       "<title>HitCollector</title>\n",
       "<g id=\"a_node12\"><a xlink:href=\"#\" xlink:title=\"class HitCollector:&#10;Collect how often a line is executed\">\n",
       "<polygon fill=\"none\" stroke=\"black\" points=\"366.5,-11.5 366.5,-86.5 461.5,-86.5 461.5,-11.5 366.5,-11.5\"/>\n",
       "<text text-anchor=\"start\" x=\"377\" y=\"-72.3\" font-family=\"Raleway, Helvetica, Arial, sans-serif\" font-weight=\"bold\" font-size=\"14.00\" fill=\"#6a0dad\">HitCollector</text>\n",
       "<polyline fill=\"none\" stroke=\"black\" points=\"366.5,-63.5 461.5,-63.5 \"/>\n",
       "<g id=\"a_node12_102\"><a xlink:href=\"#\" xlink:title=\"HitCollector\">\n",
       "<g id=\"a_node12_103\"><a xlink:href=\"#\" xlink:title=\"__init__(self) &#45;&gt; None:&#10;Constructor.\">\n",
       "<text text-anchor=\"start\" x=\"375\" y=\"-52.5\" font-family=\"'Fira Mono', 'Source Code Pro', 'Courier', monospace\" font-style=\"italic\" font-size=\"10.00\">__init__()</text>\n",
       "</a>\n",
       "</g>\n",
       "<g id=\"a_node12_104\"><a xlink:href=\"#\" xlink:title=\"all_metrics(self, func: str) &#45;&gt; List[float]:&#10;Return all metric for a function `func`.\">\n",
       "<text text-anchor=\"start\" x=\"375\" y=\"-41.5\" font-family=\"'Fira Mono', 'Source Code Pro', 'Courier', monospace\" font-style=\"italic\" font-size=\"10.00\">all_metrics()</text>\n",
       "</a>\n",
       "</g>\n",
       "<g id=\"a_node12_105\"><a xlink:href=\"#\" xlink:title=\"collect(self, frame: frame, event: str, arg: Any) &#45;&gt; None:&#10;Save coverage for an observed event.\">\n",
       "<text text-anchor=\"start\" x=\"375\" y=\"-30.5\" font-family=\"'Fira Mono', 'Source Code Pro', 'Courier', monospace\" font-style=\"italic\" font-size=\"10.00\">collect()</text>\n",
       "</a>\n",
       "</g>\n",
       "<g id=\"a_node12_106\"><a xlink:href=\"#\" xlink:title=\"metric(self, location: Tuple[str, int]) &#45;&gt; Optional[int]:&#10;Return a metric for an event, or none.\">\n",
       "<text text-anchor=\"start\" x=\"375\" y=\"-19.5\" font-family=\"'Fira Mono', 'Source Code Pro', 'Courier', monospace\" font-style=\"italic\" font-size=\"10.00\">metric()</text>\n",
       "</a>\n",
       "</g>\n",
       "</a>\n",
       "</g>\n",
       "</a>\n",
       "</g>\n",
       "</g>\n",
       "<!-- HitCollector&#45;&gt;MetricCollector -->\n",
       "<g id=\"edge11\" class=\"edge\">\n",
       "<title>HitCollector&#45;&gt;MetricCollector</title>\n",
       "<path fill=\"none\" stroke=\"black\" d=\"M382.8,-86.77C369.45,-102.5 353.75,-121.01 339.75,-137.51\"/>\n",
       "<polygon fill=\"none\" stroke=\"black\" points=\"336.83,-135.54 333.03,-145.43 342.17,-140.07 336.83,-135.54\"/>\n",
       "</g>\n",
       "<!-- Legend -->\n",
       "<g id=\"node13\" class=\"node\">\n",
       "<title>Legend</title>\n",
       "<text text-anchor=\"start\" x=\"480\" y=\"-66.5\" font-family=\"Raleway, Helvetica, Arial, sans-serif\" font-weight=\"bold\" font-size=\"10.00\" fill=\"#6a0dad\">Legend</text>\n",
       "<text text-anchor=\"start\" x=\"480\" y=\"-56.5\" font-family=\"Raleway, Helvetica, Arial, sans-serif\" font-size=\"10.00\">• </text>\n",
       "<text text-anchor=\"start\" x=\"487\" y=\"-56.5\" font-family=\"'Fira Mono', 'Source Code Pro', 'Courier', monospace\" font-weight=\"bold\" font-size=\"8.00\">public_method()</text>\n",
       "<text text-anchor=\"start\" x=\"480\" y=\"-46.5\" font-family=\"Raleway, Helvetica, Arial, sans-serif\" font-size=\"10.00\">• </text>\n",
       "<text text-anchor=\"start\" x=\"487\" y=\"-46.5\" font-family=\"'Fira Mono', 'Source Code Pro', 'Courier', monospace\" font-size=\"8.00\">private_method()</text>\n",
       "<text text-anchor=\"start\" x=\"480\" y=\"-36.5\" font-family=\"Raleway, Helvetica, Arial, sans-serif\" font-size=\"10.00\">• </text>\n",
       "<text text-anchor=\"start\" x=\"487\" y=\"-36.5\" font-family=\"'Fira Mono', 'Source Code Pro', 'Courier', monospace\" font-style=\"italic\" font-size=\"8.00\">overloaded_method()</text>\n",
       "<text text-anchor=\"start\" x=\"480\" y=\"-27.3\" font-family=\"Helvetica,sans-Serif\" font-size=\"9.00\">Hover over names to see doc</text>\n",
       "</g>\n",
       "</g>\n",
       "</svg>\n"
      ],
      "text/plain": [
       "<graphviz.dot.Digraph at 0x12c2664f0>"
      ]
     },
     "execution_count": 57,
     "metadata": {},
     "output_type": "execute_result"
    }
   ],
   "source": [
    "# ignore\n",
    "display_class_hierarchy([PerformanceDebugger, TimeCollector, HitCollector],\n",
    "                        public_methods=[\n",
    "                            PerformanceDebugger.__init__,\n",
    "                        ],\n",
    "                        project='debuggingbook')"
   ]
  },
  {
   "cell_type": "markdown",
   "metadata": {
    "button": false,
    "new_sheet": true,
    "run_control": {
     "read_only": false
    },
    "slideshow": {
     "slide_type": "slide"
    }
   },
   "source": [
    "## Lessons Learned\n",
    "\n",
    "* To measure performance,\n",
    "    * instrument the code such that the time taken per function (or line) is collected; or\n",
    "    * sample the execution that at regular intervals, the active call stack is collected.\n",
    "* To make code performant, focus on efficient algorithms, efficient data types, and sufficient abstraction such that you can replace them by alternatives.\n",
    "* Beyond efficient algorithms and data types, do _not_ optimize before measuring."
   ]
  },
  {
   "cell_type": "markdown",
   "metadata": {
    "button": false,
    "new_sheet": false,
    "run_control": {
     "read_only": false
    },
    "slideshow": {
     "slide_type": "slide"
    }
   },
   "source": [
    "## Next Steps\n",
    "\n",
    "This chapter concludes the part on abstracting failures. The next part will focus on\n",
    "\n",
    "* [repairing code automatically](Repairer.ipynb)"
   ]
  },
  {
   "cell_type": "markdown",
   "metadata": {
    "slideshow": {
     "slide_type": "slide"
    }
   },
   "source": [
    "## Background\n",
    "\n",
    "[Scalene](https://github.com/plasma-umass/scalene) is a high-performance, high-precision CPU, GPU, and memory profiler for Python. In contrast to the standard Python `cProfile` profiler, it uses _sampling_ instead of instrumentation or relying on Python's tracing facilities; and it also supports line-by-line profiling. Scalene might be the tool of choice if you want to go beyond basic profiling.\n",
    "\n",
    "The Wikipedia articles on [profiling](https://en.wikipedia.org/wiki/Profiling_(computer_programming)) and [performance analysis tools](https://en.wikipedia.org/wiki/List_of_performance_analysis_tools) provide several additional resources on profiling tools and how to apply them in practice."
   ]
  },
  {
   "cell_type": "markdown",
   "metadata": {
    "button": false,
    "new_sheet": true,
    "run_control": {
     "read_only": false
    },
    "slideshow": {
     "slide_type": "slide"
    }
   },
   "source": [
    "## Exercises"
   ]
  },
  {
   "cell_type": "markdown",
   "metadata": {
    "button": false,
    "new_sheet": false,
    "run_control": {
     "read_only": false
    },
    "slideshow": {
     "slide_type": "subslide"
    }
   },
   "source": [
    "### Exercise 1: Profiling Memory Usage\n",
    "\n",
    "The Python [`tracemalloc` module](https://docs.python.org/3/library/tracemalloc.html) allows to track memory usage during execution. Between `tracemalloc.start()` and `tracemalloc.end()`, use `tracemalloc.get_traced_memory()` to obtain how much memory is currently being consumed:"
   ]
  },
  {
   "cell_type": "code",
   "execution_count": 58,
   "metadata": {
    "execution": {
     "iopub.execute_input": "2021-10-13T11:40:13.203345Z",
     "iopub.status.busy": "2021-10-13T11:40:13.202801Z",
     "iopub.status.idle": "2021-10-13T11:40:13.207081Z",
     "shell.execute_reply": "2021-10-13T11:40:13.207561Z"
    },
    "slideshow": {
     "slide_type": "skip"
    }
   },
   "outputs": [],
   "source": [
    "import tracemalloc"
   ]
  },
  {
   "cell_type": "code",
   "execution_count": 59,
   "metadata": {
    "execution": {
     "iopub.execute_input": "2021-10-13T11:40:13.212837Z",
     "iopub.status.busy": "2021-10-13T11:40:13.212055Z",
     "iopub.status.idle": "2021-10-13T11:40:13.216340Z",
     "shell.execute_reply": "2021-10-13T11:40:13.216815Z"
    },
    "slideshow": {
     "slide_type": "fragment"
    }
   },
   "outputs": [],
   "source": [
    "tracemalloc.start()"
   ]
  },
  {
   "cell_type": "code",
   "execution_count": 60,
   "metadata": {
    "execution": {
     "iopub.execute_input": "2021-10-13T11:40:13.224026Z",
     "iopub.status.busy": "2021-10-13T11:40:13.223362Z",
     "iopub.status.idle": "2021-10-13T11:40:13.228406Z",
     "shell.execute_reply": "2021-10-13T11:40:13.227792Z"
    },
    "slideshow": {
     "slide_type": "fragment"
    }
   },
   "outputs": [
    {
     "data": {
      "text/plain": [
       "17043"
      ]
     },
     "execution_count": 60,
     "metadata": {},
     "output_type": "execute_result"
    }
   ],
   "source": [
    "current_size, peak_size = tracemalloc.get_traced_memory()\n",
    "current_size"
   ]
  },
  {
   "cell_type": "code",
   "execution_count": 61,
   "metadata": {
    "execution": {
     "iopub.execute_input": "2021-10-13T11:40:13.234453Z",
     "iopub.status.busy": "2021-10-13T11:40:13.233865Z",
     "iopub.status.idle": "2021-10-13T11:40:13.235503Z",
     "shell.execute_reply": "2021-10-13T11:40:13.235883Z"
    },
    "slideshow": {
     "slide_type": "fragment"
    }
   },
   "outputs": [],
   "source": [
    "tracemalloc.stop()"
   ]
  },
  {
   "cell_type": "markdown",
   "metadata": {
    "slideshow": {
     "slide_type": "subslide"
    }
   },
   "source": [
    "Create a subclass of `MetricCollector` named `MemoryCollector`. Have it measure the memory consumption before and after each line executed (0 if negative), and visualize the impact of individual lines on memory. Create an appropriate test program that (temporarily) consumes larger amounts of memory."
   ]
  },
  {
   "cell_type": "markdown",
   "metadata": {
    "slideshow": {
     "slide_type": "slide"
    }
   },
   "source": [
    "## Exercise 2: Statistical Performance Debugging\n",
    "\n",
    "In a similar way as we integrated a binary \"performance test\" with delta debugging, we can also integrate such a test with other techniques. Combining a performance test with [Statistical Debugging](StatisticalDebugger.ipynb), for instance, will highlight those lines whose execution correlates with low performance. But then, the performance test need not be binary, as with functional pass/fail tests – you can also _weight_ individual lines by _how much_ they impact performance. Create a variant of `StatisticalDebugger` that reflects the impact of individual lines on an arbitrary (summarized) performance metric."
   ]
  }
 ],
 "metadata": {
  "ipub": {
   "bibliography": "fuzzingbook.bib",
   "toc": true
  },
  "kernelspec": {
   "display_name": "Python 3",
   "language": "python",
   "name": "python3"
  },
  "language_info": {
   "codemirror_mode": {
    "name": "ipython",
    "version": 3
   },
   "file_extension": ".py",
   "mimetype": "text/x-python",
   "name": "python",
   "nbconvert_exporter": "python",
   "pygments_lexer": "ipython3",
   "version": "3.9.7"
  },
  "toc": {
   "base_numbering": 1,
   "nav_menu": {},
   "number_sections": true,
   "sideBar": true,
   "skip_h1_title": true,
   "title_cell": "",
   "title_sidebar": "Contents",
   "toc_cell": false,
   "toc_position": {},
   "toc_section_display": true,
   "toc_window_display": true
  },
  "toc-autonumbering": false
 },
 "nbformat": 4,
 "nbformat_minor": 4
}