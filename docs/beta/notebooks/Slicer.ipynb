{
 "cells": [
  {
   "cell_type": "markdown",
   "metadata": {
    "button": false,
    "new_sheet": false,
    "run_control": {
     "read_only": false
    },
    "slideshow": {
     "slide_type": "slide"
    }
   },
   "source": [
    "# Tracking Failure Origins\n",
    "\n",
    "The question of \"Where does this value come from?\" is fundamental for debugging. Which earlier variables could possibly have influenced the current erroneous state? And how did their values come to be?\n",
    "\n",
    "When programmers read code during debugging, they scan it for potential _origins_ of given values. This can be a tedious experience, notably, if the origins spread across multiple separate locations, possibly even in different modules. In this chapter, we thus investigate means to _determine such origins_ automatically – by collecting data and control dependencies during program execution."
   ]
  },
  {
   "cell_type": "code",
   "execution_count": 1,
   "metadata": {
    "execution": {
     "iopub.execute_input": "2023-02-11T12:18:21.992299Z",
     "iopub.status.busy": "2023-02-11T12:18:21.991351Z",
     "iopub.status.idle": "2023-02-11T12:18:22.057466Z",
     "shell.execute_reply": "2023-02-11T12:18:22.057735Z"
    },
    "slideshow": {
     "slide_type": "skip"
    }
   },
   "outputs": [
    {
     "data": {
      "text/html": [
       "\n",
       "        <iframe\n",
       "            width=\"640\"\n",
       "            height=\"360\"\n",
       "            src=\"https://www.youtube-nocookie.com/embed/sjf3cOR0lcI\"\n",
       "            frameborder=\"0\"\n",
       "            allowfullscreen\n",
       "            \n",
       "        ></iframe>\n",
       "        "
      ],
      "text/plain": [
       "<IPython.lib.display.IFrame at 0x1056ff0a0>"
      ]
     },
     "execution_count": 1,
     "metadata": {},
     "output_type": "execute_result"
    }
   ],
   "source": [
    "from bookutils import YouTubeVideo\n",
    "YouTubeVideo(\"sjf3cOR0lcI\")"
   ]
  },
  {
   "cell_type": "markdown",
   "metadata": {
    "button": false,
    "new_sheet": false,
    "run_control": {
     "read_only": false
    },
    "slideshow": {
     "slide_type": "subslide"
    }
   },
   "source": [
    "**Prerequisites**\n",
    "\n",
    "* You should have read the [Introduction to Debugging](Intro_Debugging).\n",
    "* To understand how to compute dependencies automatically (the second half of this chapter), you will need\n",
    "    * advanced knowledge of Python semantics\n",
    "    * knowledge on how to instrument and transform code\n",
    "    * knowledge on how an interpreter works"
   ]
  },
  {
   "cell_type": "code",
   "execution_count": 2,
   "metadata": {
    "button": false,
    "execution": {
     "iopub.execute_input": "2023-02-11T12:18:22.060438Z",
     "iopub.status.busy": "2023-02-11T12:18:22.060062Z",
     "iopub.status.idle": "2023-02-11T12:18:22.061270Z",
     "shell.execute_reply": "2023-02-11T12:18:22.061542Z"
    },
    "new_sheet": false,
    "run_control": {
     "read_only": false
    },
    "slideshow": {
     "slide_type": "skip"
    }
   },
   "outputs": [],
   "source": [
    "import bookutils"
   ]
  },
  {
   "cell_type": "code",
   "execution_count": 3,
   "metadata": {
    "execution": {
     "iopub.execute_input": "2023-02-11T12:18:22.063567Z",
     "iopub.status.busy": "2023-02-11T12:18:22.063207Z",
     "iopub.status.idle": "2023-02-11T12:18:22.064555Z",
     "shell.execute_reply": "2023-02-11T12:18:22.064844Z"
    },
    "slideshow": {
     "slide_type": "skip"
    }
   },
   "outputs": [],
   "source": [
    "from bookutils import quiz, next_inputs, print_content"
   ]
  },
  {
   "cell_type": "code",
   "execution_count": 4,
   "metadata": {
    "execution": {
     "iopub.execute_input": "2023-02-11T12:18:22.066798Z",
     "iopub.status.busy": "2023-02-11T12:18:22.066431Z",
     "iopub.status.idle": "2023-02-11T12:18:22.067801Z",
     "shell.execute_reply": "2023-02-11T12:18:22.068024Z"
    },
    "slideshow": {
     "slide_type": "skip"
    }
   },
   "outputs": [],
   "source": [
    "import inspect\n",
    "import warnings"
   ]
  },
  {
   "cell_type": "code",
   "execution_count": 5,
   "metadata": {
    "execution": {
     "iopub.execute_input": "2023-02-11T12:18:22.070594Z",
     "iopub.status.busy": "2023-02-11T12:18:22.070105Z",
     "iopub.status.idle": "2023-02-11T12:18:22.071401Z",
     "shell.execute_reply": "2023-02-11T12:18:22.071886Z"
    },
    "slideshow": {
     "slide_type": "fragment"
    }
   },
   "outputs": [],
   "source": [
    "# ignore\n",
    "from typing import Set, List, Tuple, Any, Callable, Dict, Optional\n",
    "from typing import Union, Type, Generator, cast"
   ]
  },
  {
   "attachments": {},
   "cell_type": "markdown",
   "metadata": {
    "slideshow": {
     "slide_type": "skip"
    }
   },
   "source": [
    "## Synopsis\n",
    "<!-- Automatically generated. Do not edit. -->\n",
    "\n",
    "To [use the code provided in this chapter](Importing.ipynb), write\n",
    "\n",
    "```python\n",
    ">>> from debuggingbook.Slicer import <identifier>\n",
    "```\n",
    "\n",
    "and then make use of the following features.\n",
    "\n",
    "\n",
    "This chapter provides a `Slicer` class to automatically determine and visualize dynamic flows and dependencies. When we say that a variable $x$ _depends_ on a variable $y$ (and that $y$ _flows_ into $x$), we distinguish two kinds of dependencies:\n",
    "\n",
    "* **Data dependency**: $x$ is assigned a value computed from $y$.\n",
    "* **Control dependency**: A statement involving $x$ is executed _only_ because a _condition_ involving $y$ was evaluated, influencing the execution path.\n",
    "\n",
    "Such dependencies are crucial for debugging, as they allow to determine the origins of individual values (and notably incorrect values). \n",
    "\n",
    "To determine dynamic dependencies in a function `func`, use\n",
    "\n",
    "```python\n",
    "with Slicer() as slicer:\n",
    "    <Some call to func()>\n",
    "```\n",
    "\n",
    "and then `slicer.graph()` or `slicer.code()` to examine dependencies.\n",
    "\n",
    "You can also explicitly specify the functions to be instrumented, as in \n",
    "\n",
    "```python\n",
    "with Slicer(func, func_1, func_2) as slicer:\n",
    "    <Some call to func()>\n",
    "```\n",
    "\n",
    "Here is an example. The `demo()` function computes some number from `x`:\n",
    "\n",
    "```python\n",
    ">>> def demo(x: int) -> int:\n",
    ">>>     z = x\n",
    ">>>     while x <= z <= 64:\n",
    ">>>         z *= 2\n",
    ">>>     return z\n",
    "```\n",
    "By using `with Slicer()`, we first instrument `demo()` and then execute it:\n",
    "\n",
    "```python\n",
    ">>> with Slicer() as slicer:\n",
    ">>>     demo(10)\n",
    "```\n",
    "After execution is complete, you can output `slicer` to visualize the dependencies and flows as graph. Data dependencies are shown as black solid edges; control dependencies are shown as grey dashed edges. The arrows indicate influence: If $y$ depends on $x$ (and thus $x$ flows into $y$), then we have an arrow $x \\rightarrow y$.\n",
    "We see how the parameter `x` flows into `z`, which is returned after some computation that is control dependent on a `<test>` involving `z`.\n",
    "\n",
    "```python\n",
    ">>> slicer\n",
    "```\n",
    "![](PICS/Slicer-synopsis-1.svg)\n",
    "\n",
    "An alternate representation is `slicer.code()`, annotating the instrumented source code with (backward) dependencies. Data dependencies are shown with `<=`, control dependencies with `<-`; locations (lines) are shown in parentheses.\n",
    "\n",
    "```python\n",
    ">>> slicer.code()\n",
    "*    1 def demo(x: int) -> int:\n",
    "*    2     z = x  # <= x (1)\n",
    "*    3     while x <= z <= 64:  # <= z (4), z (2), x (1)\n",
    "*    4         z *= 2  # <= z (4), z (2); <- <test> (3)\n",
    "*    5     return z  # <= z (4)\n",
    "\n",
    "```\n",
    "Dependencies can also be retrieved programmatically. The `dependencies()` method returns a `Dependencies` object encapsulating the dependency graph.\n",
    "\n",
    "The method `all_vars()` returns all variables in the dependency graph. Each variable is encoded as a pair (_name_, _location_) where _location_ is a pair (_codename_, _lineno_).\n",
    "\n",
    "```python\n",
    ">>> slicer.dependencies().all_vars()\n",
    "{('<demo() return value>', (<function __main__.demo(x: int) -> int>, 5)),\n",
    " ('<test>', (<function __main__.demo(x: int) -> int>, 3)),\n",
    " ('x', (<function __main__.demo(x: int) -> int>, 1)),\n",
    " ('z', (<function __main__.demo(x: int) -> int>, 2)),\n",
    " ('z', (<function __main__.demo(x: int) -> int>, 4))}\n",
    "```\n",
    "`code()` and `graph()` methods can also be applied on dependencies. The method `backward_slice(var)` returns a backward slice for the given variable (again given as a pair (_name_, _location_)). To retrieve where `z` in Line 2 came from, use:\n",
    "\n",
    "```python\n",
    ">>> _, start_demo = inspect.getsourcelines(demo)\n",
    ">>> start_demo\n",
    "1\n",
    ">>> slicer.dependencies().backward_slice(('z', (demo, start_demo + 1))).graph()  # type: ignore\n",
    "```\n",
    "![](PICS/Slicer-synopsis-2.svg)\n",
    "\n",
    "Here are the classes defined in this chapter. A `Slicer` instruments a program, using a `DependencyTracker` at run time to collect `Dependencies`.\n",
    "\n",
    "![](PICS/Slicer-synopsis-3.svg)\n",
    "\n"
   ]
  },
  {
   "cell_type": "markdown",
   "metadata": {
    "button": false,
    "new_sheet": true,
    "run_control": {
     "read_only": false
    },
    "slideshow": {
     "slide_type": "slide"
    }
   },
   "source": [
    "## Dependencies\n",
    "\n",
    "In the [Introduction to debugging](Intro_Debugging.ipynb), we have seen how faults in a program state propagate to eventually become visible as failures. This induces a debugging strategy called _tracking origins_:"
   ]
  },
  {
   "cell_type": "markdown",
   "metadata": {
    "button": false,
    "new_sheet": true,
    "run_control": {
     "read_only": false
    },
    "slideshow": {
     "slide_type": "subslide"
    }
   },
   "source": [
    "1. We start with a single faulty state _f_ – the failure.\n",
    "2. We determine _f_'s _origins_ – the parts of earlier states that could have caused the faulty state _f_.\n",
    "3. For each of these origins _e_, we determine whether they are faulty or not.\n",
    "4. For each of the faulty origins, we in turn determine _their_ origins.\n",
    "5. If we find a part of the state that is faulty, yet has only correct origins, we have found the defect."
   ]
  },
  {
   "cell_type": "markdown",
   "metadata": {
    "button": false,
    "new_sheet": true,
    "run_control": {
     "read_only": false
    },
    "slideshow": {
     "slide_type": "subslide"
    }
   },
   "source": [
    "In all generality, a \"part of the state\" can be anything that can influence the program – some configuration setting, some database content, or the state of a device. Almost always, though, it is through _individual variables_ that a part of the state manifests itself.\n",
    "\n",
    "The good news is that variables do not take arbitrary values at arbitrary times – instead, they are set and accessed at precise moments in time, as determined by the program's semantics. This allows us to determine their _origins_ by reading program code."
   ]
  },
  {
   "cell_type": "markdown",
   "metadata": {
    "button": false,
    "new_sheet": true,
    "run_control": {
     "read_only": false
    },
    "slideshow": {
     "slide_type": "fragment"
    }
   },
   "source": [
    "Let us assume you have a piece of code that reads as follows. The `middle()` function is supposed to return the \"middle\" number of three values `x`, `y`, and `z` – that is, the one number that neither is the minimum nor the maximum."
   ]
  },
  {
   "cell_type": "code",
   "execution_count": 6,
   "metadata": {
    "execution": {
     "iopub.execute_input": "2023-02-11T12:18:22.074552Z",
     "iopub.status.busy": "2023-02-11T12:18:22.074232Z",
     "iopub.status.idle": "2023-02-11T12:18:22.075368Z",
     "shell.execute_reply": "2023-02-11T12:18:22.075609Z"
    },
    "slideshow": {
     "slide_type": "subslide"
    }
   },
   "outputs": [],
   "source": [
    "def middle(x, y, z):  # type: ignore\n",
    "    if y < z:\n",
    "        if x < y:\n",
    "            return y\n",
    "        elif x < z:\n",
    "            return y\n",
    "    else:\n",
    "        if x > y:\n",
    "            return y\n",
    "        elif x > z:\n",
    "            return x\n",
    "    return z"
   ]
  },
  {
   "cell_type": "markdown",
   "metadata": {
    "slideshow": {
     "slide_type": "fragment"
    }
   },
   "source": [
    "In most cases, `middle()` runs just fine:"
   ]
  },
  {
   "cell_type": "code",
   "execution_count": 7,
   "metadata": {
    "execution": {
     "iopub.execute_input": "2023-02-11T12:18:22.077685Z",
     "iopub.status.busy": "2023-02-11T12:18:22.077367Z",
     "iopub.status.idle": "2023-02-11T12:18:22.078787Z",
     "shell.execute_reply": "2023-02-11T12:18:22.079015Z"
    },
    "slideshow": {
     "slide_type": "subslide"
    }
   },
   "outputs": [
    {
     "data": {
      "text/plain": [
       "2"
      ]
     },
     "execution_count": 7,
     "metadata": {},
     "output_type": "execute_result"
    }
   ],
   "source": [
    "m = middle(1, 2, 3)\n",
    "m"
   ]
  },
  {
   "cell_type": "markdown",
   "metadata": {
    "slideshow": {
     "slide_type": "fragment"
    }
   },
   "source": [
    "In others, however, it returns the wrong value:"
   ]
  },
  {
   "cell_type": "code",
   "execution_count": 8,
   "metadata": {
    "execution": {
     "iopub.execute_input": "2023-02-11T12:18:22.080988Z",
     "iopub.status.busy": "2023-02-11T12:18:22.080651Z",
     "iopub.status.idle": "2023-02-11T12:18:22.082116Z",
     "shell.execute_reply": "2023-02-11T12:18:22.082348Z"
    },
    "slideshow": {
     "slide_type": "fragment"
    }
   },
   "outputs": [
    {
     "data": {
      "text/plain": [
       "1"
      ]
     },
     "execution_count": 8,
     "metadata": {},
     "output_type": "execute_result"
    }
   ],
   "source": [
    "m = middle(2, 1, 3)\n",
    "m"
   ]
  },
  {
   "cell_type": "markdown",
   "metadata": {
    "slideshow": {
     "slide_type": "subslide"
    }
   },
   "source": [
    "This is a typical debugging situation: You see a value that is erroneous; and you want to find out where it came from. \n",
    "\n",
    "* In our case, we see that the erroneous value was returned from `middle()`, so we identify the five `return` statements in `middle()` that the value could have come from.\n",
    "* The value returned is the value of `y`, and neither `x`, `y`, nor `z` are altered during the execution of `middle()`. Hence, it must be one of the three `return y` statements that is the origin of `m`. But which one?\n",
    "\n",
    "For our small example, we can fire up an interactive debugger and simply step through the function; this reveals us the conditions evaluated and the `return` statement executed."
   ]
  },
  {
   "cell_type": "code",
   "execution_count": 9,
   "metadata": {
    "execution": {
     "iopub.execute_input": "2023-02-11T12:18:22.084055Z",
     "iopub.status.busy": "2023-02-11T12:18:22.083759Z",
     "iopub.status.idle": "2023-02-11T12:18:22.187608Z",
     "shell.execute_reply": "2023-02-11T12:18:22.187930Z"
    },
    "slideshow": {
     "slide_type": "skip"
    }
   },
   "outputs": [],
   "source": [
    "import Debugger  # minor dependency"
   ]
  },
  {
   "cell_type": "code",
   "execution_count": 10,
   "metadata": {
    "execution": {
     "iopub.execute_input": "2023-02-11T12:18:22.190413Z",
     "iopub.status.busy": "2023-02-11T12:18:22.189956Z",
     "iopub.status.idle": "2023-02-11T12:18:22.191779Z",
     "shell.execute_reply": "2023-02-11T12:18:22.191985Z"
    },
    "slideshow": {
     "slide_type": "subslide"
    }
   },
   "outputs": [],
   "source": [
    "# ignore\n",
    "next_inputs([\"step\", \"step\", \"step\", \"step\", \"quit\"]);"
   ]
  },
  {
   "cell_type": "code",
   "execution_count": 11,
   "metadata": {
    "execution": {
     "iopub.execute_input": "2023-02-11T12:18:22.194007Z",
     "iopub.status.busy": "2023-02-11T12:18:22.193649Z",
     "iopub.status.idle": "2023-02-11T12:18:22.259379Z",
     "shell.execute_reply": "2023-02-11T12:18:22.259576Z"
    },
    "slideshow": {
     "slide_type": "subslide"
    }
   },
   "outputs": [
    {
     "name": "stdout",
     "output_type": "stream",
     "text": [
      "Calling middle(x = 2, y = 1, z = 3)\n"
     ]
    },
    {
     "data": {
      "text/html": [
       "<samp>(debugger) <b>step</b></samp>"
      ],
      "text/plain": [
       "<IPython.core.display.HTML object>"
      ]
     },
     "metadata": {},
     "output_type": "display_data"
    },
    {
     "name": "stdout",
     "output_type": "stream",
     "text": [
      "2     if y < z:\n"
     ]
    },
    {
     "data": {
      "text/html": [
       "<samp>(debugger) <b>step</b></samp>"
      ],
      "text/plain": [
       "<IPython.core.display.HTML object>"
      ]
     },
     "metadata": {},
     "output_type": "display_data"
    },
    {
     "name": "stdout",
     "output_type": "stream",
     "text": [
      "3         if x < y:\n"
     ]
    },
    {
     "data": {
      "text/html": [
       "<samp>(debugger) <b>step</b></samp>"
      ],
      "text/plain": [
       "<IPython.core.display.HTML object>"
      ]
     },
     "metadata": {},
     "output_type": "display_data"
    },
    {
     "name": "stdout",
     "output_type": "stream",
     "text": [
      "5         elif x < z:\n"
     ]
    },
    {
     "data": {
      "text/html": [
       "<samp>(debugger) <b>step</b></samp>"
      ],
      "text/plain": [
       "<IPython.core.display.HTML object>"
      ]
     },
     "metadata": {},
     "output_type": "display_data"
    },
    {
     "name": "stdout",
     "output_type": "stream",
     "text": [
      "6             return y\n"
     ]
    },
    {
     "data": {
      "text/html": [
       "<samp>(debugger) <b>quit</b></samp>"
      ],
      "text/plain": [
       "<IPython.core.display.HTML object>"
      ]
     },
     "metadata": {},
     "output_type": "display_data"
    }
   ],
   "source": [
    "with Debugger.Debugger():\n",
    "    middle(2, 1, 3)"
   ]
  },
  {
   "cell_type": "markdown",
   "metadata": {
    "slideshow": {
     "slide_type": "subslide"
    }
   },
   "source": [
    "We now see that it was the second `return` statement that returned the incorrect value. But why was it executed after all? To this end, we can resort to the `middle()` source code and have a look at those conditions that caused the `return y` statement to be executed. Indeed, the conditions `y < z`, `x > y`, and finally `x < z` again are _origins_ of the returned value – and in turn have `x`, `y`, and `z` as origins."
   ]
  },
  {
   "cell_type": "markdown",
   "metadata": {
    "slideshow": {
     "slide_type": "subslide"
    }
   },
   "source": [
    "In our above reasoning about origins, we have encountered two kinds of origins:\n",
    "\n",
    "* earlier _data values_ (such as the value of `y` being returned) and\n",
    "* earlier _control conditions_ (such as the `if` conditions governing the `return y` statement).\n",
    "\n",
    "The later parts of the state that can be influenced by such origins are said to be _dependent_ on these origins. Speaking of variables, a variable $x$ _depends_ on the value of a variable $y$ (written as $x \\leftarrow y$) if a change in $y$ could affect the value of $x$."
   ]
  },
  {
   "cell_type": "markdown",
   "metadata": {
    "slideshow": {
     "slide_type": "subslide"
    }
   },
   "source": [
    "We distinguish two kinds of dependencies $x \\leftarrow y$, aligned with the two kinds of origins as outlined above:\n",
    "\n",
    "* **Data dependency**: $x$ is assigned a value computed from $y$. In our example, `m` is data dependent on the return value of `middle()`.\n",
    "* **Control dependency**: A statement involving $x$ is executed _only_ because a _condition_ involving $y$ was evaluated, influencing the execution path. In our example, the value returned by `return y` is control dependent on the several conditions along its path, which involve `x`, `y`, and `z`."
   ]
  },
  {
   "cell_type": "markdown",
   "metadata": {
    "slideshow": {
     "slide_type": "fragment"
    }
   },
   "source": [
    "Let us examine these dependencies in more detail."
   ]
  },
  {
   "cell_type": "markdown",
   "metadata": {
    "slideshow": {
     "slide_type": "subslide"
    }
   },
   "source": [
    "### Excursion: Visualizing Dependencies"
   ]
  },
  {
   "cell_type": "markdown",
   "metadata": {
    "slideshow": {
     "slide_type": "fragment"
    }
   },
   "source": [
    "Note: This is an excursion, diverting away from the main flow of the chapter. Unless you know what you are doing, you are encouraged to skip this part."
   ]
  },
  {
   "cell_type": "markdown",
   "metadata": {
    "slideshow": {
     "slide_type": "fragment"
    }
   },
   "source": [
    "To illustrate our examples, we introduce a `Dependencies` class that captures dependencies between variables at specific locations."
   ]
  },
  {
   "cell_type": "markdown",
   "metadata": {
    "slideshow": {
     "slide_type": "subslide"
    }
   },
   "source": [
    "#### A Class for Dependencies"
   ]
  },
  {
   "cell_type": "markdown",
   "metadata": {
    "slideshow": {
     "slide_type": "fragment"
    }
   },
   "source": [
    "`Dependencies` holds two dependency graphs. `data` holds data dependencies, `control` holds control dependencies."
   ]
  },
  {
   "cell_type": "markdown",
   "metadata": {
    "slideshow": {
     "slide_type": "subslide"
    }
   },
   "source": [
    "Each of the two is organized as a dictionary holding _nodes_ as keys and sets of nodes as values. Each node comes as a tuple\n",
    "\n",
    "```python\n",
    "(variable_name, location)\n",
    " ```\n",
    " \n",
    "where `variable_name` is a string and `location` is a pair\n",
    "\n",
    "\n",
    "```python\n",
    "(func, lineno)\n",
    " ```\n",
    " \n",
    "denoting a unique location in the code."
   ]
  },
  {
   "cell_type": "markdown",
   "metadata": {
    "slideshow": {
     "slide_type": "subslide"
    }
   },
   "source": [
    "This is also reflected in the following type definitions:"
   ]
  },
  {
   "cell_type": "code",
   "execution_count": 12,
   "metadata": {
    "execution": {
     "iopub.execute_input": "2023-02-11T12:18:22.262004Z",
     "iopub.status.busy": "2023-02-11T12:18:22.261699Z",
     "iopub.status.idle": "2023-02-11T12:18:22.263044Z",
     "shell.execute_reply": "2023-02-11T12:18:22.263221Z"
    },
    "slideshow": {
     "slide_type": "fragment"
    }
   },
   "outputs": [],
   "source": [
    "Location = Tuple[Callable, int]\n",
    "Node = Tuple[str, Location]\n",
    "Dependency = Dict[Node, Set[Node]]"
   ]
  },
  {
   "cell_type": "markdown",
   "metadata": {
    "slideshow": {
     "slide_type": "fragment"
    }
   },
   "source": [
    "In this chapter, for many purposes, we need to lookup a function's location, source code, or simply definition. The class `StackInspector` provides a number of convenience functions for this purpose."
   ]
  },
  {
   "cell_type": "code",
   "execution_count": 13,
   "metadata": {
    "execution": {
     "iopub.execute_input": "2023-02-11T12:18:22.264986Z",
     "iopub.status.busy": "2023-02-11T12:18:22.264671Z",
     "iopub.status.idle": "2023-02-11T12:18:22.266016Z",
     "shell.execute_reply": "2023-02-11T12:18:22.266203Z"
    },
    "slideshow": {
     "slide_type": "skip"
    }
   },
   "outputs": [],
   "source": [
    "from StackInspector import StackInspector"
   ]
  },
  {
   "cell_type": "markdown",
   "metadata": {
    "slideshow": {
     "slide_type": "fragment"
    }
   },
   "source": [
    "The `Dependencies` class builds on `StackInspector` to capture dependencies."
   ]
  },
  {
   "cell_type": "code",
   "execution_count": 14,
   "metadata": {
    "execution": {
     "iopub.execute_input": "2023-02-11T12:18:22.268999Z",
     "iopub.status.busy": "2023-02-11T12:18:22.268664Z",
     "iopub.status.idle": "2023-02-11T12:18:22.269951Z",
     "shell.execute_reply": "2023-02-11T12:18:22.270141Z"
    },
    "slideshow": {
     "slide_type": "subslide"
    }
   },
   "outputs": [],
   "source": [
    "class Dependencies(StackInspector):\n",
    "    \"\"\"A dependency graph\"\"\"\n",
    "\n",
    "    def __init__(self, \n",
    "                 data: Optional[Dependency] = None,\n",
    "                 control: Optional[Dependency] = None) -> None:\n",
    "        \"\"\"\n",
    "        Create a dependency graph from `data` and `control`.\n",
    "        Both `data` and `control` are dictionaries\n",
    "        holding _nodes_ as keys and sets of nodes as values.\n",
    "        Each node comes as a tuple (variable_name, location)\n",
    "        where `variable_name` is a string \n",
    "        and `location` is a pair (function, lineno)\n",
    "        where `function` is a callable and `lineno` is a line number\n",
    "        denoting a unique location in the code.\n",
    "        \"\"\"\n",
    "\n",
    "        if data is None:\n",
    "            data = {}\n",
    "        if control is None:\n",
    "            control = {}\n",
    "\n",
    "        self.data = data\n",
    "        self.control = control\n",
    "\n",
    "        for var in self.data:\n",
    "            self.control.setdefault(var, set())\n",
    "        for var in self.control:\n",
    "            self.data.setdefault(var, set())\n",
    "\n",
    "        self.validate()"
   ]
  },
  {
   "cell_type": "markdown",
   "metadata": {
    "slideshow": {
     "slide_type": "subslide"
    }
   },
   "source": [
    "The `validate()` method checks for consistency."
   ]
  },
  {
   "cell_type": "code",
   "execution_count": 15,
   "metadata": {
    "execution": {
     "iopub.execute_input": "2023-02-11T12:18:22.272563Z",
     "iopub.status.busy": "2023-02-11T12:18:22.272241Z",
     "iopub.status.idle": "2023-02-11T12:18:22.274007Z",
     "shell.execute_reply": "2023-02-11T12:18:22.273712Z"
    },
    "slideshow": {
     "slide_type": "fragment"
    }
   },
   "outputs": [],
   "source": [
    "class Dependencies(Dependencies):\n",
    "    def validate(self) -> None:\n",
    "        \"\"\"Check dependency structure.\"\"\"\n",
    "        assert isinstance(self.data, dict)\n",
    "        assert isinstance(self.control, dict)\n",
    "\n",
    "        for node in (self.data.keys()) | set(self.control.keys()):\n",
    "            var_name, location = node\n",
    "            assert isinstance(var_name, str)\n",
    "            func, lineno = location\n",
    "            assert callable(func)\n",
    "            assert isinstance(lineno, int)"
   ]
  },
  {
   "cell_type": "markdown",
   "metadata": {
    "slideshow": {
     "slide_type": "fragment"
    }
   },
   "source": [
    "The `source()` method returns the source code for a given node."
   ]
  },
  {
   "cell_type": "code",
   "execution_count": 16,
   "metadata": {
    "execution": {
     "iopub.execute_input": "2023-02-11T12:18:22.277682Z",
     "iopub.status.busy": "2023-02-11T12:18:22.277312Z",
     "iopub.status.idle": "2023-02-11T12:18:22.278719Z",
     "shell.execute_reply": "2023-02-11T12:18:22.278963Z"
    },
    "ipub": {
     "ignore": true
    },
    "slideshow": {
     "slide_type": "subslide"
    }
   },
   "outputs": [],
   "source": [
    "class Dependencies(Dependencies):\n",
    "    def _source(self, node: Node) -> str:\n",
    "        # Return source line, or ''\n",
    "        (name, location) = node\n",
    "        func, lineno = location\n",
    "        if not func:  # type: ignore\n",
    "            # No source\n",
    "            return ''\n",
    "\n",
    "        try:\n",
    "            source_lines, first_lineno = inspect.getsourcelines(func)\n",
    "        except OSError:\n",
    "            warnings.warn(f\"Couldn't find source \"\n",
    "                          f\"for {func} ({func.__name__})\")\n",
    "            return ''\n",
    "\n",
    "        try:\n",
    "            line = source_lines[lineno - first_lineno].strip()\n",
    "        except IndexError:\n",
    "            return ''\n",
    "\n",
    "        return line\n",
    "\n",
    "    def source(self, node: Node) -> str:\n",
    "        \"\"\"Return the source code for a given node.\"\"\"\n",
    "        line = self._source(node)\n",
    "        if line:\n",
    "            return line\n",
    "\n",
    "        (name, location) = node\n",
    "        func, lineno = location\n",
    "        code_name = func.__name__\n",
    "\n",
    "        if code_name.startswith('<'):\n",
    "            return code_name\n",
    "        else:\n",
    "            return f'<{code_name}()>'"
   ]
  },
  {
   "cell_type": "code",
   "execution_count": 17,
   "metadata": {
    "execution": {
     "iopub.execute_input": "2023-02-11T12:18:22.281436Z",
     "iopub.status.busy": "2023-02-11T12:18:22.281014Z",
     "iopub.status.idle": "2023-02-11T12:18:22.282582Z",
     "shell.execute_reply": "2023-02-11T12:18:22.282777Z"
    },
    "slideshow": {
     "slide_type": "subslide"
    }
   },
   "outputs": [
    {
     "data": {
      "text/plain": [
       "'def middle(x, y, z):  # type: ignore'"
      ]
     },
     "execution_count": 17,
     "metadata": {},
     "output_type": "execute_result"
    }
   ],
   "source": [
    "test_deps = Dependencies()\n",
    "test_deps.source(('z', (middle, 1)))"
   ]
  },
  {
   "cell_type": "markdown",
   "metadata": {
    "slideshow": {
     "slide_type": "subslide"
    }
   },
   "source": [
    "#### Drawing Dependencies"
   ]
  },
  {
   "cell_type": "markdown",
   "metadata": {
    "slideshow": {
     "slide_type": "fragment"
    }
   },
   "source": [
    "Both data and control form a graph between nodes, and can be visualized as such. We use the `graphviz` package for creating such visualizations."
   ]
  },
  {
   "cell_type": "code",
   "execution_count": 18,
   "metadata": {
    "execution": {
     "iopub.execute_input": "2023-02-11T12:18:22.284581Z",
     "iopub.status.busy": "2023-02-11T12:18:22.284306Z",
     "iopub.status.idle": "2023-02-11T12:18:22.285853Z",
     "shell.execute_reply": "2023-02-11T12:18:22.286086Z"
    },
    "ipub": {
     "ignore": true
    },
    "slideshow": {
     "slide_type": "skip"
    }
   },
   "outputs": [],
   "source": [
    "from graphviz import Digraph"
   ]
  },
  {
   "cell_type": "markdown",
   "metadata": {
    "slideshow": {
     "slide_type": "fragment"
    }
   },
   "source": [
    "`make_graph()` sets the basic graph attributes."
   ]
  },
  {
   "cell_type": "code",
   "execution_count": 19,
   "metadata": {
    "execution": {
     "iopub.execute_input": "2023-02-11T12:18:22.288475Z",
     "iopub.status.busy": "2023-02-11T12:18:22.288075Z",
     "iopub.status.idle": "2023-02-11T12:18:22.289408Z",
     "shell.execute_reply": "2023-02-11T12:18:22.289647Z"
    },
    "slideshow": {
     "slide_type": "skip"
    }
   },
   "outputs": [],
   "source": [
    "import html"
   ]
  },
  {
   "cell_type": "code",
   "execution_count": 20,
   "metadata": {
    "execution": {
     "iopub.execute_input": "2023-02-11T12:18:22.294349Z",
     "iopub.status.busy": "2023-02-11T12:18:22.293990Z",
     "iopub.status.idle": "2023-02-11T12:18:22.294746Z",
     "shell.execute_reply": "2023-02-11T12:18:22.294925Z"
    },
    "slideshow": {
     "slide_type": "subslide"
    }
   },
   "outputs": [],
   "source": [
    "class Dependencies(Dependencies):\n",
    "    NODE_COLOR = 'peachpuff'\n",
    "    FONT_NAME = 'Courier'  # 'Fira Mono' may produce warnings in 'dot'\n",
    "\n",
    "    def make_graph(self,\n",
    "                   name: str = \"dependencies\",\n",
    "                   comment: str = \"Dependencies\") -> Digraph:\n",
    "        return Digraph(name=name, comment=comment,\n",
    "            graph_attr={\n",
    "            },\n",
    "            node_attr={\n",
    "                'style': 'filled',\n",
    "                'shape': 'box',\n",
    "                'fillcolor': self.NODE_COLOR,\n",
    "                'fontname': self.FONT_NAME\n",
    "            },\n",
    "            edge_attr={\n",
    "                'fontname': self.FONT_NAME\n",
    "            })"
   ]
  },
  {
   "cell_type": "markdown",
   "metadata": {
    "slideshow": {
     "slide_type": "subslide"
    }
   },
   "source": [
    "`graph()` returns a graph visualization."
   ]
  },
  {
   "cell_type": "code",
   "execution_count": 21,
   "metadata": {
    "execution": {
     "iopub.execute_input": "2023-02-11T12:18:22.297613Z",
     "iopub.status.busy": "2023-02-11T12:18:22.297305Z",
     "iopub.status.idle": "2023-02-11T12:18:22.298442Z",
     "shell.execute_reply": "2023-02-11T12:18:22.298883Z"
    },
    "slideshow": {
     "slide_type": "subslide"
    }
   },
   "outputs": [],
   "source": [
    "class Dependencies(Dependencies):\n",
    "    def graph(self, *, mode: str = 'flow') -> Digraph:\n",
    "        \"\"\"\n",
    "        Draw dependencies. `mode` is either\n",
    "        * `'flow'`: arrows indicate information flow (from A to B); or\n",
    "        * `'depend'`: arrows indicate dependencies (B depends on A)\n",
    "        \"\"\"\n",
    "        self.validate()\n",
    "\n",
    "        g = self.make_graph()\n",
    "        self.draw_dependencies(g, mode)\n",
    "        self.add_hierarchy(g)\n",
    "        return g\n",
    "\n",
    "    def _repr_mimebundle_(self, include: Any = None, exclude: Any = None) -> Any:\n",
    "        \"\"\"If the object is output in Jupyter, render dependencies as a SVG graph\"\"\"\n",
    "        return self.graph()._repr_mimebundle_(include, exclude)"
   ]
  },
  {
   "cell_type": "markdown",
   "metadata": {
    "slideshow": {
     "slide_type": "subslide"
    }
   },
   "source": [
    "The main part of graph drawing takes place in two methods, `draw_dependencies()` and `add_hierarchy()`."
   ]
  },
  {
   "cell_type": "markdown",
   "metadata": {
    "slideshow": {
     "slide_type": "fragment"
    }
   },
   "source": [
    "`draw_dependencies()` processes through the graph, adding nodes and edges from the dependencies."
   ]
  },
  {
   "cell_type": "code",
   "execution_count": 22,
   "metadata": {
    "execution": {
     "iopub.execute_input": "2023-02-11T12:18:22.302277Z",
     "iopub.status.busy": "2023-02-11T12:18:22.301772Z",
     "iopub.status.idle": "2023-02-11T12:18:22.303750Z",
     "shell.execute_reply": "2023-02-11T12:18:22.303972Z"
    },
    "slideshow": {
     "slide_type": "subslide"
    }
   },
   "outputs": [],
   "source": [
    "class Dependencies(Dependencies):\n",
    "    def all_vars(self) -> Set[Node]:\n",
    "        \"\"\"Return a set of all variables (as `var_name`, `location`) in the dependencies\"\"\"\n",
    "        all_vars = set()\n",
    "        for var in self.data:\n",
    "            all_vars.add(var)\n",
    "            for source in self.data[var]:\n",
    "                all_vars.add(source)\n",
    "\n",
    "        for var in self.control:\n",
    "            all_vars.add(var)\n",
    "            for source in self.control[var]:\n",
    "                all_vars.add(source)\n",
    "\n",
    "        return all_vars"
   ]
  },
  {
   "cell_type": "code",
   "execution_count": 23,
   "metadata": {
    "execution": {
     "iopub.execute_input": "2023-02-11T12:18:22.307700Z",
     "iopub.status.busy": "2023-02-11T12:18:22.307365Z",
     "iopub.status.idle": "2023-02-11T12:18:22.308461Z",
     "shell.execute_reply": "2023-02-11T12:18:22.308764Z"
    },
    "slideshow": {
     "slide_type": "subslide"
    }
   },
   "outputs": [],
   "source": [
    "class Dependencies(Dependencies):\n",
    "    def draw_edge(self, g: Digraph, mode: str,\n",
    "                  node_from: str, node_to: str, **kwargs: Any) -> None:\n",
    "        if mode == 'flow':\n",
    "            g.edge(node_from, node_to, **kwargs)\n",
    "        elif mode == 'depend':\n",
    "            g.edge(node_from, node_to, dir=\"back\", **kwargs)\n",
    "        else:\n",
    "            raise ValueError(\"`mode` must be 'flow' or 'depend'\")\n",
    "\n",
    "    def draw_dependencies(self, g: Digraph, mode: str) -> None:\n",
    "        for var in self.all_vars():\n",
    "            g.node(self.id(var),\n",
    "                   label=self.label(var),\n",
    "                   tooltip=self.tooltip(var))\n",
    "\n",
    "            if var in self.data:\n",
    "                for source in self.data[var]:\n",
    "                    self.draw_edge(g, mode, self.id(source), self.id(var))\n",
    "\n",
    "            if var in self.control:\n",
    "                for source in self.control[var]:\n",
    "                    self.draw_edge(g, mode, self.id(source), self.id(var),\n",
    "                                   style='dashed', color='grey')"
   ]
  },
  {
   "cell_type": "markdown",
   "metadata": {
    "slideshow": {
     "slide_type": "subslide"
    }
   },
   "source": [
    "`draw_dependencies()` makes use of a few helper functions."
   ]
  },
  {
   "cell_type": "code",
   "execution_count": 24,
   "metadata": {
    "execution": {
     "iopub.execute_input": "2023-02-11T12:18:22.312526Z",
     "iopub.status.busy": "2023-02-11T12:18:22.312181Z",
     "iopub.status.idle": "2023-02-11T12:18:22.313585Z",
     "shell.execute_reply": "2023-02-11T12:18:22.313835Z"
    },
    "slideshow": {
     "slide_type": "subslide"
    }
   },
   "outputs": [],
   "source": [
    "class Dependencies(Dependencies):\n",
    "    def id(self, var: Node) -> str:\n",
    "        \"\"\"Return a unique ID for `var`.\"\"\"\n",
    "        id = \"\"\n",
    "        # Avoid non-identifier characters\n",
    "        for c in repr(var):\n",
    "            if c.isalnum() or c == '_':\n",
    "                id += c\n",
    "            if c == ':' or c == ',':\n",
    "                id += '_'\n",
    "        return id\n",
    "\n",
    "    def label(self, var: Node) -> str:\n",
    "        \"\"\"Render node `var` using HTML style.\"\"\"\n",
    "        (name, location) = var\n",
    "        source = self.source(var)\n",
    "\n",
    "        title = html.escape(name)\n",
    "        if name.startswith('<'):\n",
    "            title = f'<I>{title}</I>'\n",
    "\n",
    "        label = f'<B>{title}</B>'\n",
    "        if source:\n",
    "            label += (f'<FONT POINT-SIZE=\"9.0\"><BR/><BR/>'\n",
    "                      f'{html.escape(source)}'\n",
    "                      f'</FONT>')\n",
    "        label = f'<{label}>'\n",
    "        return label\n",
    "\n",
    "    def tooltip(self, var: Node) -> str:\n",
    "        \"\"\"Return a tooltip for node `var`.\"\"\"\n",
    "        (name, location) = var\n",
    "        func, lineno = location\n",
    "        return f\"{func.__name__}:{lineno}\""
   ]
  },
  {
   "cell_type": "markdown",
   "metadata": {
    "slideshow": {
     "slide_type": "subslide"
    }
   },
   "source": [
    "In the second part of graph drawing, `add_hierarchy()` adds invisible edges to ensure that nodes with lower line numbers are drawn above nodes with higher line numbers."
   ]
  },
  {
   "cell_type": "code",
   "execution_count": 25,
   "metadata": {
    "execution": {
     "iopub.execute_input": "2023-02-11T12:18:22.317025Z",
     "iopub.status.busy": "2023-02-11T12:18:22.316455Z",
     "iopub.status.idle": "2023-02-11T12:18:22.317781Z",
     "shell.execute_reply": "2023-02-11T12:18:22.318083Z"
    },
    "slideshow": {
     "slide_type": "subslide"
    }
   },
   "outputs": [],
   "source": [
    "class Dependencies(Dependencies):\n",
    "    def add_hierarchy(self, g: Digraph) -> Digraph:\n",
    "        \"\"\"Add invisible edges for a proper hierarchy.\"\"\"\n",
    "        functions = self.all_functions()\n",
    "        for func in functions:\n",
    "            last_var = None\n",
    "            last_lineno = 0\n",
    "            for (lineno, var) in functions[func]:\n",
    "                if last_var is not None and lineno > last_lineno:\n",
    "                    g.edge(self.id(last_var),\n",
    "                           self.id(var),\n",
    "                           style='invis')\n",
    "\n",
    "                last_var = var\n",
    "                last_lineno = lineno\n",
    "\n",
    "        return g"
   ]
  },
  {
   "cell_type": "code",
   "execution_count": 26,
   "metadata": {
    "execution": {
     "iopub.execute_input": "2023-02-11T12:18:22.322060Z",
     "iopub.status.busy": "2023-02-11T12:18:22.321734Z",
     "iopub.status.idle": "2023-02-11T12:18:22.323078Z",
     "shell.execute_reply": "2023-02-11T12:18:22.323299Z"
    },
    "slideshow": {
     "slide_type": "subslide"
    }
   },
   "outputs": [],
   "source": [
    "class Dependencies(Dependencies):\n",
    "    def all_functions(self) -> Dict[Callable, List[Tuple[int, Node]]]:\n",
    "        \"\"\"\n",
    "        Return mapping \n",
    "        {`function`: [(`lineno`, `var`), (`lineno`, `var`), ...], ...}\n",
    "        for all functions in the dependencies.\n",
    "        \"\"\"\n",
    "        functions: Dict[Callable, List[Tuple[int, Node]]] = {}\n",
    "        for var in self.all_vars():\n",
    "            (name, location) = var\n",
    "            func, lineno = location\n",
    "            if func not in functions:\n",
    "                functions[func] = []\n",
    "            functions[func].append((lineno, var))\n",
    "\n",
    "        for func in functions:\n",
    "            functions[func].sort()\n",
    "\n",
    "        return functions"
   ]
  },
  {
   "cell_type": "markdown",
   "metadata": {
    "slideshow": {
     "slide_type": "subslide"
    }
   },
   "source": [
    "Here comes the graph in all its glory:"
   ]
  },
  {
   "cell_type": "code",
   "execution_count": 27,
   "metadata": {
    "execution": {
     "iopub.execute_input": "2023-02-11T12:18:22.327576Z",
     "iopub.status.busy": "2023-02-11T12:18:22.327216Z",
     "iopub.status.idle": "2023-02-11T12:18:22.328925Z",
     "shell.execute_reply": "2023-02-11T12:18:22.329209Z"
    },
    "slideshow": {
     "slide_type": "fragment"
    }
   },
   "outputs": [],
   "source": [
    "def middle_deps() -> Dependencies:\n",
    "    return Dependencies({('z', (middle, 1)): set(), ('y', (middle, 1)): set(), ('x', (middle, 1)): set(), ('<test>', (middle, 2)): {('y', (middle, 1)), ('z', (middle, 1))}, ('<test>', (middle, 3)): {('y', (middle, 1)), ('x', (middle, 1))}, ('<test>', (middle, 5)): {('z', (middle, 1)), ('x', (middle, 1))}, ('<middle() return value>', (middle, 6)): {('y', (middle, 1))}}, {('z', (middle, 1)): set(), ('y', (middle, 1)): set(), ('x', (middle, 1)): set(), ('<test>', (middle, 2)): set(), ('<test>', (middle, 3)): {('<test>', (middle, 2))}, ('<test>', (middle, 5)): {('<test>', (middle, 3))}, ('<middle() return value>', (middle, 6)): {('<test>', (middle, 5))}})"
   ]
  },
  {
   "cell_type": "code",
   "execution_count": 28,
   "metadata": {
    "execution": {
     "iopub.execute_input": "2023-02-11T12:18:22.331532Z",
     "iopub.status.busy": "2023-02-11T12:18:22.331126Z",
     "iopub.status.idle": "2023-02-11T12:18:22.602218Z",
     "shell.execute_reply": "2023-02-11T12:18:22.602722Z"
    },
    "slideshow": {
     "slide_type": "fragment"
    }
   },
   "outputs": [
    {
     "data": {
      "image/svg+xml": [
       "<?xml version=\"1.0\" encoding=\"UTF-8\" standalone=\"no\"?>\n",
       "<!DOCTYPE svg PUBLIC \"-//W3C//DTD SVG 1.1//EN\"\n",
       " \"http://www.w3.org/Graphics/SVG/1.1/DTD/svg11.dtd\">\n",
       "<!-- Generated by graphviz version 7.0.2 (20221119.0110)\n",
       " -->\n",
       "<!-- Title: dependencies Pages: 1 -->\n",
       "<svg width=\"464pt\" height=\"352pt\"\n",
       " viewBox=\"0.00 0.00 464.16 352.00\" xmlns=\"http://www.w3.org/2000/svg\" xmlns:xlink=\"http://www.w3.org/1999/xlink\">\n",
       "<g id=\"graph0\" class=\"graph\" transform=\"scale(1 1) rotate(0) translate(4 348)\">\n",
       "<title>dependencies</title>\n",
       "<polygon fill=\"white\" stroke=\"none\" points=\"-4,4 -4,-348 460.16,-348 460.16,4 -4,4\"/>\n",
       "<!-- z_functionmiddleat0x105b94e50_1 -->\n",
       "<g id=\"node1\" class=\"node\">\n",
       "<title>z_functionmiddleat0x105b94e50_1</title>\n",
       "<g id=\"a_node1\"><a xlink:title=\"middle:1\">\n",
       "<polygon fill=\"peachpuff\" stroke=\"black\" points=\"430,-344 224,-344 224,-304 430,-304 430,-344\"/>\n",
       "<text text-anchor=\"start\" x=\"322.5\" y=\"-329.8\" font-family=\"Courier,monospace\" font-weight=\"bold\" font-size=\"14.00\">z</text>\n",
       "<text text-anchor=\"start\" x=\"232\" y=\"-310.8\" font-family=\"Courier,monospace\" font-size=\"9.00\">def middle(x, y, z): &#160;# type: ignore</text>\n",
       "</a>\n",
       "</g>\n",
       "</g>\n",
       "<!-- test_functionmiddleat0x105b94e50_2 -->\n",
       "<g id=\"node3\" class=\"node\">\n",
       "<title>test_functionmiddleat0x105b94e50_2</title>\n",
       "<g id=\"a_node3\"><a xlink:title=\"middle:2\">\n",
       "<polygon fill=\"peachpuff\" stroke=\"black\" points=\"216,-268 150,-268 150,-228 216,-228 216,-268\"/>\n",
       "<text text-anchor=\"start\" x=\"158\" y=\"-253.8\" font-family=\"Courier,monospace\" font-weight=\"bold\" font-style=\"italic\" font-size=\"14.00\">&lt;test&gt;</text>\n",
       "<text text-anchor=\"start\" x=\"159\" y=\"-234.8\" font-family=\"Courier,monospace\" font-size=\"9.00\">if y &lt; z:</text>\n",
       "</a>\n",
       "</g>\n",
       "</g>\n",
       "<!-- z_functionmiddleat0x105b94e50_1&#45;&gt;test_functionmiddleat0x105b94e50_2 -->\n",
       "<g id=\"edge1\" class=\"edge\">\n",
       "<title>z_functionmiddleat0x105b94e50_1&#45;&gt;test_functionmiddleat0x105b94e50_2</title>\n",
       "<path fill=\"none\" stroke=\"black\" d=\"M283.14,-303.56C264.55,-294.42 243.03,-283.43 224.68,-273.71\"/>\n",
       "<polygon fill=\"black\" stroke=\"black\" points=\"226.37,-270.65 215.91,-269.03 223.08,-276.82 226.37,-270.65\"/>\n",
       "</g>\n",
       "<!-- z_functionmiddleat0x105b94e50_1&#45;&gt;test_functionmiddleat0x105b94e50_2 -->\n",
       "<!-- test_functionmiddleat0x105b94e50_5 -->\n",
       "<g id=\"node6\" class=\"node\">\n",
       "<title>test_functionmiddleat0x105b94e50_5</title>\n",
       "<g id=\"a_node6\"><a xlink:title=\"middle:5\">\n",
       "<polygon fill=\"peachpuff\" stroke=\"black\" points=\"220,-116 146,-116 146,-76 220,-76 220,-116\"/>\n",
       "<text text-anchor=\"start\" x=\"158\" y=\"-101.8\" font-family=\"Courier,monospace\" font-weight=\"bold\" font-style=\"italic\" font-size=\"14.00\">&lt;test&gt;</text>\n",
       "<text text-anchor=\"start\" x=\"154\" y=\"-82.8\" font-family=\"Courier,monospace\" font-size=\"9.00\">elif x &lt; z:</text>\n",
       "</a>\n",
       "</g>\n",
       "</g>\n",
       "<!-- z_functionmiddleat0x105b94e50_1&#45;&gt;test_functionmiddleat0x105b94e50_5 -->\n",
       "<g id=\"edge7\" class=\"edge\">\n",
       "<title>z_functionmiddleat0x105b94e50_1&#45;&gt;test_functionmiddleat0x105b94e50_5</title>\n",
       "<path fill=\"none\" stroke=\"black\" d=\"M404.82,-303.64C422.23,-295.53 438.6,-284.1 449,-268 458.65,-253.07 458.39,-243.09 449,-228 401.38,-151.47 294.46,-118.34 231.64,-105.05\"/>\n",
       "<polygon fill=\"black\" stroke=\"black\" points=\"232.42,-101.64 221.93,-103.09 231.04,-108.5 232.42,-101.64\"/>\n",
       "</g>\n",
       "<!-- y_functionmiddleat0x105b94e50_1 -->\n",
       "<g id=\"node2\" class=\"node\">\n",
       "<title>y_functionmiddleat0x105b94e50_1</title>\n",
       "<g id=\"a_node2\"><a xlink:title=\"middle:1\">\n",
       "<polygon fill=\"peachpuff\" stroke=\"black\" points=\"206,-344 0,-344 0,-304 206,-304 206,-344\"/>\n",
       "<text text-anchor=\"start\" x=\"98.5\" y=\"-329.8\" font-family=\"Courier,monospace\" font-weight=\"bold\" font-size=\"14.00\">y</text>\n",
       "<text text-anchor=\"start\" x=\"8\" y=\"-310.8\" font-family=\"Courier,monospace\" font-size=\"9.00\">def middle(x, y, z): &#160;# type: ignore</text>\n",
       "</a>\n",
       "</g>\n",
       "</g>\n",
       "<!-- y_functionmiddleat0x105b94e50_1&#45;&gt;test_functionmiddleat0x105b94e50_2 -->\n",
       "<g id=\"edge2\" class=\"edge\">\n",
       "<title>y_functionmiddleat0x105b94e50_1&#45;&gt;test_functionmiddleat0x105b94e50_2</title>\n",
       "<path fill=\"none\" stroke=\"black\" d=\"M124.02,-303.56C133.11,-295.14 143.91,-285.16 153.77,-276.04\"/>\n",
       "<polygon fill=\"black\" stroke=\"black\" points=\"156.05,-278.7 161.01,-269.34 151.29,-273.56 156.05,-278.7\"/>\n",
       "</g>\n",
       "<!-- test_functionmiddleat0x105b94e50_3 -->\n",
       "<g id=\"node5\" class=\"node\">\n",
       "<title>test_functionmiddleat0x105b94e50_3</title>\n",
       "<g id=\"a_node5\"><a xlink:title=\"middle:3\">\n",
       "<polygon fill=\"peachpuff\" stroke=\"black\" points=\"216,-192 150,-192 150,-152 216,-152 216,-192\"/>\n",
       "<text text-anchor=\"start\" x=\"158\" y=\"-177.8\" font-family=\"Courier,monospace\" font-weight=\"bold\" font-style=\"italic\" font-size=\"14.00\">&lt;test&gt;</text>\n",
       "<text text-anchor=\"start\" x=\"159\" y=\"-158.8\" font-family=\"Courier,monospace\" font-size=\"9.00\">if x &lt; y:</text>\n",
       "</a>\n",
       "</g>\n",
       "</g>\n",
       "<!-- y_functionmiddleat0x105b94e50_1&#45;&gt;test_functionmiddleat0x105b94e50_3 -->\n",
       "<g id=\"edge4\" class=\"edge\">\n",
       "<title>y_functionmiddleat0x105b94e50_1&#45;&gt;test_functionmiddleat0x105b94e50_3</title>\n",
       "<path fill=\"none\" stroke=\"black\" d=\"M108.98,-303.74C115.49,-284.03 126.88,-252.87 141,-228 146.17,-218.89 152.69,-209.61 159.04,-201.32\"/>\n",
       "<polygon fill=\"black\" stroke=\"black\" points=\"161.66,-203.66 165.12,-193.65 156.17,-199.31 161.66,-203.66\"/>\n",
       "</g>\n",
       "<!-- middlereturnvalue_functionmiddleat0x105b94e50_6 -->\n",
       "<g id=\"node7\" class=\"node\">\n",
       "<title>middlereturnvalue_functionmiddleat0x105b94e50_6</title>\n",
       "<g id=\"a_node7\"><a xlink:title=\"middle:6\">\n",
       "<polygon fill=\"peachpuff\" stroke=\"black\" points=\"286,-40 80,-40 80,0 286,0 286,-40\"/>\n",
       "<text text-anchor=\"start\" x=\"88\" y=\"-25.8\" font-family=\"Courier,monospace\" font-weight=\"bold\" font-style=\"italic\" font-size=\"14.00\">&lt;middle() return value&gt;</text>\n",
       "<text text-anchor=\"start\" x=\"161.5\" y=\"-6.8\" font-family=\"Courier,monospace\" font-size=\"9.00\">return y</text>\n",
       "</a>\n",
       "</g>\n",
       "</g>\n",
       "<!-- y_functionmiddleat0x105b94e50_1&#45;&gt;middlereturnvalue_functionmiddleat0x105b94e50_6 -->\n",
       "<g id=\"edge9\" class=\"edge\">\n",
       "<title>y_functionmiddleat0x105b94e50_1&#45;&gt;middlereturnvalue_functionmiddleat0x105b94e50_6</title>\n",
       "<path fill=\"none\" stroke=\"black\" d=\"M102.13,-303.76C100.93,-260.86 102.05,-154.97 137,-76 141.33,-66.22 147.93,-56.81 154.8,-48.62\"/>\n",
       "<polygon fill=\"black\" stroke=\"black\" points=\"157.21,-51.18 161.25,-41.39 151.98,-46.52 157.21,-51.18\"/>\n",
       "</g>\n",
       "<!-- test_functionmiddleat0x105b94e50_2&#45;&gt;test_functionmiddleat0x105b94e50_3 -->\n",
       "<g id=\"edge5\" class=\"edge\">\n",
       "<title>test_functionmiddleat0x105b94e50_2&#45;&gt;test_functionmiddleat0x105b94e50_3</title>\n",
       "<path fill=\"none\" stroke=\"grey\" stroke-dasharray=\"5,2\" d=\"M176.98,-227.56C176.32,-220.25 176.11,-211.75 176.34,-203.67\"/>\n",
       "<polygon fill=\"grey\" stroke=\"grey\" points=\"179.82,-204.01 176.9,-193.82 172.84,-203.61 179.82,-204.01\"/>\n",
       "</g>\n",
       "<!-- test_functionmiddleat0x105b94e50_2&#45;&gt;test_functionmiddleat0x105b94e50_3 -->\n",
       "<!-- x_functionmiddleat0x105b94e50_1 -->\n",
       "<g id=\"node4\" class=\"node\">\n",
       "<title>x_functionmiddleat0x105b94e50_1</title>\n",
       "<g id=\"a_node4\"><a xlink:title=\"middle:1\">\n",
       "<polygon fill=\"peachpuff\" stroke=\"black\" points=\"440,-268 234,-268 234,-228 440,-228 440,-268\"/>\n",
       "<text text-anchor=\"start\" x=\"332.5\" y=\"-253.8\" font-family=\"Courier,monospace\" font-weight=\"bold\" font-size=\"14.00\">x</text>\n",
       "<text text-anchor=\"start\" x=\"242\" y=\"-234.8\" font-family=\"Courier,monospace\" font-size=\"9.00\">def middle(x, y, z): &#160;# type: ignore</text>\n",
       "</a>\n",
       "</g>\n",
       "</g>\n",
       "<!-- x_functionmiddleat0x105b94e50_1&#45;&gt;test_functionmiddleat0x105b94e50_3 -->\n",
       "<g id=\"edge3\" class=\"edge\">\n",
       "<title>x_functionmiddleat0x105b94e50_1&#45;&gt;test_functionmiddleat0x105b94e50_3</title>\n",
       "<path fill=\"none\" stroke=\"black\" d=\"M296.54,-227.56C275.09,-217.25 248.73,-204.58 226.8,-194.05\"/>\n",
       "<polygon fill=\"black\" stroke=\"black\" points=\"228.33,-190.9 217.8,-189.72 225.3,-197.21 228.33,-190.9\"/>\n",
       "</g>\n",
       "<!-- x_functionmiddleat0x105b94e50_1&#45;&gt;test_functionmiddleat0x105b94e50_5 -->\n",
       "<g id=\"edge6\" class=\"edge\">\n",
       "<title>x_functionmiddleat0x105b94e50_1&#45;&gt;test_functionmiddleat0x105b94e50_5</title>\n",
       "<path fill=\"none\" stroke=\"black\" d=\"M317.18,-227.7C290.15,-201.37 241.59,-154.07 210.89,-124.17\"/>\n",
       "<polygon fill=\"black\" stroke=\"black\" points=\"213.43,-121.75 203.83,-117.28 208.55,-126.77 213.43,-121.75\"/>\n",
       "</g>\n",
       "<!-- test_functionmiddleat0x105b94e50_3&#45;&gt;test_functionmiddleat0x105b94e50_5 -->\n",
       "<g id=\"edge8\" class=\"edge\">\n",
       "<title>test_functionmiddleat0x105b94e50_3&#45;&gt;test_functionmiddleat0x105b94e50_5</title>\n",
       "<path fill=\"none\" stroke=\"grey\" stroke-dasharray=\"5,2\" d=\"M176.98,-151.56C176.32,-144.25 176.11,-135.75 176.34,-127.67\"/>\n",
       "<polygon fill=\"grey\" stroke=\"grey\" points=\"179.82,-128.01 176.9,-117.82 172.84,-127.61 179.82,-128.01\"/>\n",
       "</g>\n",
       "<!-- test_functionmiddleat0x105b94e50_3&#45;&gt;test_functionmiddleat0x105b94e50_5 -->\n",
       "<!-- test_functionmiddleat0x105b94e50_5&#45;&gt;middlereturnvalue_functionmiddleat0x105b94e50_6 -->\n",
       "<g id=\"edge10\" class=\"edge\">\n",
       "<title>test_functionmiddleat0x105b94e50_5&#45;&gt;middlereturnvalue_functionmiddleat0x105b94e50_6</title>\n",
       "<path fill=\"none\" stroke=\"grey\" stroke-dasharray=\"5,2\" d=\"M176.98,-75.56C176.32,-68.25 176.11,-59.75 176.34,-51.67\"/>\n",
       "<polygon fill=\"grey\" stroke=\"grey\" points=\"179.82,-52.01 176.9,-41.82 172.84,-51.61 179.82,-52.01\"/>\n",
       "</g>\n",
       "<!-- test_functionmiddleat0x105b94e50_5&#45;&gt;middlereturnvalue_functionmiddleat0x105b94e50_6 -->\n",
       "</g>\n",
       "</svg>\n"
      ],
      "text/plain": [
       "<__main__.Dependencies at 0x105cdc3a0>"
      ]
     },
     "execution_count": 28,
     "metadata": {},
     "output_type": "execute_result"
    }
   ],
   "source": [
    "middle_deps()"
   ]
  },
  {
   "cell_type": "markdown",
   "metadata": {
    "slideshow": {
     "slide_type": "fragment"
    }
   },
   "source": [
    "By default, the arrow direction indicates _flows_ – an arrow _A_ → _B_ indicates that information from _A_ _flows_ into _B_ (and thus the state in _A_ _causes_ the state in _B_). By setting the extra keyword parameter `mode` to `depend` instead of `flow` (default), you can reverse these arrows; then an arrow _A_ → _B_ indicates _A_ _depends_ on _B_."
   ]
  },
  {
   "cell_type": "code",
   "execution_count": 29,
   "metadata": {
    "execution": {
     "iopub.execute_input": "2023-02-11T12:18:22.609585Z",
     "iopub.status.busy": "2023-02-11T12:18:22.609252Z",
     "iopub.status.idle": "2023-02-11T12:18:22.876859Z",
     "shell.execute_reply": "2023-02-11T12:18:22.877110Z"
    },
    "slideshow": {
     "slide_type": "fragment"
    }
   },
   "outputs": [
    {
     "data": {
      "image/svg+xml": [
       "<?xml version=\"1.0\" encoding=\"UTF-8\" standalone=\"no\"?>\n",
       "<!DOCTYPE svg PUBLIC \"-//W3C//DTD SVG 1.1//EN\"\n",
       " \"http://www.w3.org/Graphics/SVG/1.1/DTD/svg11.dtd\">\n",
       "<!-- Generated by graphviz version 7.0.2 (20221119.0110)\n",
       " -->\n",
       "<!-- Title: dependencies Pages: 1 -->\n",
       "<svg width=\"464pt\" height=\"352pt\"\n",
       " viewBox=\"0.00 0.00 464.16 352.00\" xmlns=\"http://www.w3.org/2000/svg\" xmlns:xlink=\"http://www.w3.org/1999/xlink\">\n",
       "<g id=\"graph0\" class=\"graph\" transform=\"scale(1 1) rotate(0) translate(4 348)\">\n",
       "<title>dependencies</title>\n",
       "<polygon fill=\"white\" stroke=\"none\" points=\"-4,4 -4,-348 460.16,-348 460.16,4 -4,4\"/>\n",
       "<!-- z_functionmiddleat0x105b94e50_1 -->\n",
       "<g id=\"node1\" class=\"node\">\n",
       "<title>z_functionmiddleat0x105b94e50_1</title>\n",
       "<g id=\"a_node1\"><a xlink:title=\"middle:1\">\n",
       "<polygon fill=\"peachpuff\" stroke=\"black\" points=\"430,-344 224,-344 224,-304 430,-304 430,-344\"/>\n",
       "<text text-anchor=\"start\" x=\"322.5\" y=\"-329.8\" font-family=\"Courier,monospace\" font-weight=\"bold\" font-size=\"14.00\">z</text>\n",
       "<text text-anchor=\"start\" x=\"232\" y=\"-310.8\" font-family=\"Courier,monospace\" font-size=\"9.00\">def middle(x, y, z): &#160;# type: ignore</text>\n",
       "</a>\n",
       "</g>\n",
       "</g>\n",
       "<!-- test_functionmiddleat0x105b94e50_2 -->\n",
       "<g id=\"node3\" class=\"node\">\n",
       "<title>test_functionmiddleat0x105b94e50_2</title>\n",
       "<g id=\"a_node3\"><a xlink:title=\"middle:2\">\n",
       "<polygon fill=\"peachpuff\" stroke=\"black\" points=\"216,-268 150,-268 150,-228 216,-228 216,-268\"/>\n",
       "<text text-anchor=\"start\" x=\"158\" y=\"-253.8\" font-family=\"Courier,monospace\" font-weight=\"bold\" font-style=\"italic\" font-size=\"14.00\">&lt;test&gt;</text>\n",
       "<text text-anchor=\"start\" x=\"159\" y=\"-234.8\" font-family=\"Courier,monospace\" font-size=\"9.00\">if y &lt; z:</text>\n",
       "</a>\n",
       "</g>\n",
       "</g>\n",
       "<!-- z_functionmiddleat0x105b94e50_1&#45;&gt;test_functionmiddleat0x105b94e50_2 -->\n",
       "<g id=\"edge1\" class=\"edge\">\n",
       "<title>z_functionmiddleat0x105b94e50_1&#45;&gt;test_functionmiddleat0x105b94e50_2</title>\n",
       "<path fill=\"none\" stroke=\"black\" d=\"M273.04,-298.56C253.33,-288.73 231.72,-277.56 214.57,-268.31\"/>\n",
       "<polygon fill=\"black\" stroke=\"black\" points=\"271.27,-301.59 281.79,-302.89 274.38,-295.31 271.27,-301.59\"/>\n",
       "</g>\n",
       "<!-- z_functionmiddleat0x105b94e50_1&#45;&gt;test_functionmiddleat0x105b94e50_2 -->\n",
       "<!-- test_functionmiddleat0x105b94e50_5 -->\n",
       "<g id=\"node6\" class=\"node\">\n",
       "<title>test_functionmiddleat0x105b94e50_5</title>\n",
       "<g id=\"a_node6\"><a xlink:title=\"middle:5\">\n",
       "<polygon fill=\"peachpuff\" stroke=\"black\" points=\"220,-116 146,-116 146,-76 220,-76 220,-116\"/>\n",
       "<text text-anchor=\"start\" x=\"158\" y=\"-101.8\" font-family=\"Courier,monospace\" font-weight=\"bold\" font-style=\"italic\" font-size=\"14.00\">&lt;test&gt;</text>\n",
       "<text text-anchor=\"start\" x=\"154\" y=\"-82.8\" font-family=\"Courier,monospace\" font-size=\"9.00\">elif x &lt; z:</text>\n",
       "</a>\n",
       "</g>\n",
       "</g>\n",
       "<!-- z_functionmiddleat0x105b94e50_1&#45;&gt;test_functionmiddleat0x105b94e50_5 -->\n",
       "<g id=\"edge7\" class=\"edge\">\n",
       "<title>z_functionmiddleat0x105b94e50_1&#45;&gt;test_functionmiddleat0x105b94e50_5</title>\n",
       "<path fill=\"none\" stroke=\"black\" d=\"M414.87,-298.5C428.4,-290.89 440.63,-280.96 449,-268 458.65,-253.07 458.39,-243.09 449,-228 398.42,-146.7 280.92,-114.39 220.44,-102.79\"/>\n",
       "<polygon fill=\"black\" stroke=\"black\" points=\"413.48,-295.28 406.17,-302.95 416.67,-301.51 413.48,-295.28\"/>\n",
       "</g>\n",
       "<!-- y_functionmiddleat0x105b94e50_1 -->\n",
       "<g id=\"node2\" class=\"node\">\n",
       "<title>y_functionmiddleat0x105b94e50_1</title>\n",
       "<g id=\"a_node2\"><a xlink:title=\"middle:1\">\n",
       "<polygon fill=\"peachpuff\" stroke=\"black\" points=\"206,-344 0,-344 0,-304 206,-304 206,-344\"/>\n",
       "<text text-anchor=\"start\" x=\"98.5\" y=\"-329.8\" font-family=\"Courier,monospace\" font-weight=\"bold\" font-size=\"14.00\">y</text>\n",
       "<text text-anchor=\"start\" x=\"8\" y=\"-310.8\" font-family=\"Courier,monospace\" font-size=\"9.00\">def middle(x, y, z): &#160;# type: ignore</text>\n",
       "</a>\n",
       "</g>\n",
       "</g>\n",
       "<!-- y_functionmiddleat0x105b94e50_1&#45;&gt;test_functionmiddleat0x105b94e50_2 -->\n",
       "<g id=\"edge2\" class=\"edge\">\n",
       "<title>y_functionmiddleat0x105b94e50_1&#45;&gt;test_functionmiddleat0x105b94e50_2</title>\n",
       "<path fill=\"none\" stroke=\"black\" d=\"M132.38,-295.82C142.25,-286.69 153.04,-276.71 162.12,-268.31\"/>\n",
       "<polygon fill=\"black\" stroke=\"black\" points=\"130.09,-293.17 125.13,-302.53 134.85,-298.31 130.09,-293.17\"/>\n",
       "</g>\n",
       "<!-- test_functionmiddleat0x105b94e50_3 -->\n",
       "<g id=\"node5\" class=\"node\">\n",
       "<title>test_functionmiddleat0x105b94e50_3</title>\n",
       "<g id=\"a_node5\"><a xlink:title=\"middle:3\">\n",
       "<polygon fill=\"peachpuff\" stroke=\"black\" points=\"216,-192 150,-192 150,-152 216,-152 216,-192\"/>\n",
       "<text text-anchor=\"start\" x=\"158\" y=\"-177.8\" font-family=\"Courier,monospace\" font-weight=\"bold\" font-style=\"italic\" font-size=\"14.00\">&lt;test&gt;</text>\n",
       "<text text-anchor=\"start\" x=\"159\" y=\"-158.8\" font-family=\"Courier,monospace\" font-size=\"9.00\">if x &lt; y:</text>\n",
       "</a>\n",
       "</g>\n",
       "</g>\n",
       "<!-- y_functionmiddleat0x105b94e50_1&#45;&gt;test_functionmiddleat0x105b94e50_3 -->\n",
       "<g id=\"edge4\" class=\"edge\">\n",
       "<title>y_functionmiddleat0x105b94e50_1&#45;&gt;test_functionmiddleat0x105b94e50_3</title>\n",
       "<path fill=\"none\" stroke=\"black\" d=\"M112.66,-292.92C119.39,-273.74 129.25,-248.69 141,-228 148.12,-215.46 157.79,-202.59 166.06,-192.46\"/>\n",
       "<polygon fill=\"black\" stroke=\"black\" points=\"109.38,-291.71 109.47,-302.3 116.01,-293.97 109.38,-291.71\"/>\n",
       "</g>\n",
       "<!-- middlereturnvalue_functionmiddleat0x105b94e50_6 -->\n",
       "<g id=\"node7\" class=\"node\">\n",
       "<title>middlereturnvalue_functionmiddleat0x105b94e50_6</title>\n",
       "<g id=\"a_node7\"><a xlink:title=\"middle:6\">\n",
       "<polygon fill=\"peachpuff\" stroke=\"black\" points=\"286,-40 80,-40 80,0 286,0 286,-40\"/>\n",
       "<text text-anchor=\"start\" x=\"88\" y=\"-25.8\" font-family=\"Courier,monospace\" font-weight=\"bold\" font-style=\"italic\" font-size=\"14.00\">&lt;middle() return value&gt;</text>\n",
       "<text text-anchor=\"start\" x=\"161.5\" y=\"-6.8\" font-family=\"Courier,monospace\" font-size=\"9.00\">return y</text>\n",
       "</a>\n",
       "</g>\n",
       "</g>\n",
       "<!-- y_functionmiddleat0x105b94e50_1&#45;&gt;middlereturnvalue_functionmiddleat0x105b94e50_6 -->\n",
       "<g id=\"edge9\" class=\"edge\">\n",
       "<title>y_functionmiddleat0x105b94e50_1&#45;&gt;middlereturnvalue_functionmiddleat0x105b94e50_6</title>\n",
       "<path fill=\"none\" stroke=\"black\" d=\"M101.9,-292.29C101.32,-244.07 104.85,-148.64 137,-76 142.89,-62.68 153.01,-50.05 162.26,-40.26\"/>\n",
       "<polygon fill=\"black\" stroke=\"black\" points=\"98.4,-292.31 102.1,-302.24 105.4,-292.18 98.4,-292.31\"/>\n",
       "</g>\n",
       "<!-- test_functionmiddleat0x105b94e50_2&#45;&gt;test_functionmiddleat0x105b94e50_3 -->\n",
       "<g id=\"edge5\" class=\"edge\">\n",
       "<title>test_functionmiddleat0x105b94e50_2&#45;&gt;test_functionmiddleat0x105b94e50_3</title>\n",
       "<path fill=\"none\" stroke=\"grey\" stroke-dasharray=\"5,2\" d=\"M176.33,-216.19C176.11,-208.1 176.33,-199.61 176.99,-192.31\"/>\n",
       "<polygon fill=\"grey\" stroke=\"grey\" points=\"172.83,-216.26 176.89,-226.05 179.82,-215.86 172.83,-216.26\"/>\n",
       "</g>\n",
       "<!-- test_functionmiddleat0x105b94e50_2&#45;&gt;test_functionmiddleat0x105b94e50_3 -->\n",
       "<!-- x_functionmiddleat0x105b94e50_1 -->\n",
       "<g id=\"node4\" class=\"node\">\n",
       "<title>x_functionmiddleat0x105b94e50_1</title>\n",
       "<g id=\"a_node4\"><a xlink:title=\"middle:1\">\n",
       "<polygon fill=\"peachpuff\" stroke=\"black\" points=\"440,-268 234,-268 234,-228 440,-228 440,-268\"/>\n",
       "<text text-anchor=\"start\" x=\"332.5\" y=\"-253.8\" font-family=\"Courier,monospace\" font-weight=\"bold\" font-size=\"14.00\">x</text>\n",
       "<text text-anchor=\"start\" x=\"242\" y=\"-234.8\" font-family=\"Courier,monospace\" font-size=\"9.00\">def middle(x, y, z): &#160;# type: ignore</text>\n",
       "</a>\n",
       "</g>\n",
       "</g>\n",
       "<!-- x_functionmiddleat0x105b94e50_1&#45;&gt;test_functionmiddleat0x105b94e50_3 -->\n",
       "<g id=\"edge3\" class=\"edge\">\n",
       "<title>x_functionmiddleat0x105b94e50_1&#45;&gt;test_functionmiddleat0x105b94e50_3</title>\n",
       "<path fill=\"none\" stroke=\"black\" d=\"M286.28,-222.63C263.33,-211.6 236.84,-198.87 216.44,-189.07\"/>\n",
       "<polygon fill=\"black\" stroke=\"black\" points=\"284.64,-225.73 295.17,-226.9 287.68,-219.42 284.64,-225.73\"/>\n",
       "</g>\n",
       "<!-- x_functionmiddleat0x105b94e50_1&#45;&gt;test_functionmiddleat0x105b94e50_5 -->\n",
       "<g id=\"edge6\" class=\"edge\">\n",
       "<title>x_functionmiddleat0x105b94e50_1&#45;&gt;test_functionmiddleat0x105b94e50_5</title>\n",
       "<path fill=\"none\" stroke=\"black\" d=\"M309.02,-219.75C278.29,-189.82 229.73,-142.52 202.74,-116.23\"/>\n",
       "<polygon fill=\"black\" stroke=\"black\" points=\"306.49,-222.17 316.1,-226.64 311.38,-217.16 306.49,-222.17\"/>\n",
       "</g>\n",
       "<!-- test_functionmiddleat0x105b94e50_3&#45;&gt;test_functionmiddleat0x105b94e50_5 -->\n",
       "<g id=\"edge8\" class=\"edge\">\n",
       "<title>test_functionmiddleat0x105b94e50_3&#45;&gt;test_functionmiddleat0x105b94e50_5</title>\n",
       "<path fill=\"none\" stroke=\"grey\" stroke-dasharray=\"5,2\" d=\"M176.33,-140.19C176.11,-132.1 176.33,-123.61 176.99,-116.31\"/>\n",
       "<polygon fill=\"grey\" stroke=\"grey\" points=\"172.83,-140.26 176.89,-150.05 179.82,-139.86 172.83,-140.26\"/>\n",
       "</g>\n",
       "<!-- test_functionmiddleat0x105b94e50_3&#45;&gt;test_functionmiddleat0x105b94e50_5 -->\n",
       "<!-- test_functionmiddleat0x105b94e50_5&#45;&gt;middlereturnvalue_functionmiddleat0x105b94e50_6 -->\n",
       "<g id=\"edge10\" class=\"edge\">\n",
       "<title>test_functionmiddleat0x105b94e50_5&#45;&gt;middlereturnvalue_functionmiddleat0x105b94e50_6</title>\n",
       "<path fill=\"none\" stroke=\"grey\" stroke-dasharray=\"5,2\" d=\"M176.33,-64.19C176.11,-56.1 176.33,-47.61 176.99,-40.31\"/>\n",
       "<polygon fill=\"grey\" stroke=\"grey\" points=\"172.83,-64.26 176.89,-74.05 179.82,-63.86 172.83,-64.26\"/>\n",
       "</g>\n",
       "<!-- test_functionmiddleat0x105b94e50_5&#45;&gt;middlereturnvalue_functionmiddleat0x105b94e50_6 -->\n",
       "</g>\n",
       "</svg>\n"
      ],
      "text/plain": [
       "<graphviz.graphs.Digraph at 0x105cdc490>"
      ]
     },
     "execution_count": 29,
     "metadata": {},
     "output_type": "execute_result"
    }
   ],
   "source": [
    "middle_deps().graph(mode='depend')"
   ]
  },
  {
   "cell_type": "markdown",
   "metadata": {
    "slideshow": {
     "slide_type": "subslide"
    }
   },
   "source": [
    "#### Slices\n",
    "\n",
    "The method `backward_slice(*critera, mode='cd')` returns a subset of dependencies, following dependencies backward from the given *slicing criteria* `criteria`. These criteria can be\n",
    "\n",
    "* variable names (such as `<test>`); or\n",
    "* `(function, lineno)` pairs (such as `(middle, 3)`); or\n",
    "* `(var_name, (function, lineno))` (such as `(`x`, (middle, 1))`) locations.\n",
    "\n",
    "The extra parameter `mode` controls which dependencies are to be followed:\n",
    "\n",
    "* **`d`** = data dependencies\n",
    "* **`c`** = control dependencies"
   ]
  },
  {
   "cell_type": "code",
   "execution_count": 30,
   "metadata": {
    "execution": {
     "iopub.execute_input": "2023-02-11T12:18:22.879676Z",
     "iopub.status.busy": "2023-02-11T12:18:22.879360Z",
     "iopub.status.idle": "2023-02-11T12:18:22.880590Z",
     "shell.execute_reply": "2023-02-11T12:18:22.880835Z"
    },
    "slideshow": {
     "slide_type": "subslide"
    }
   },
   "outputs": [],
   "source": [
    "Criterion = Union[str, Location, Node]"
   ]
  },
  {
   "cell_type": "code",
   "execution_count": 31,
   "metadata": {
    "execution": {
     "iopub.execute_input": "2023-02-11T12:18:22.886097Z",
     "iopub.status.busy": "2023-02-11T12:18:22.885786Z",
     "iopub.status.idle": "2023-02-11T12:18:22.887124Z",
     "shell.execute_reply": "2023-02-11T12:18:22.887393Z"
    },
    "slideshow": {
     "slide_type": "subslide"
    }
   },
   "outputs": [],
   "source": [
    "class Dependencies(Dependencies):\n",
    "    def expand_criteria(self, criteria: List[Criterion]) -> List[Node]:\n",
    "        \"\"\"Return list of vars matched by `criteria`.\"\"\"\n",
    "        all_vars = []\n",
    "        for criterion in criteria:\n",
    "            criterion_var = None\n",
    "            criterion_func = None\n",
    "            criterion_lineno = None\n",
    "\n",
    "            if isinstance(criterion, str):\n",
    "                criterion_var = criterion\n",
    "            elif len(criterion) == 2 and callable(criterion[0]):\n",
    "                criterion_func, criterion_lineno = criterion\n",
    "            elif len(criterion) == 2 and isinstance(criterion[0], str):\n",
    "                criterion_var = criterion[0]\n",
    "                criterion_func, criterion_lineno = criterion[1]\n",
    "            else:\n",
    "                raise ValueError(\"Invalid argument\")\n",
    "\n",
    "            for var in self.all_vars():\n",
    "                (var_name, location) = var\n",
    "                func, lineno = location\n",
    "\n",
    "                name_matches = (criterion_func is None or\n",
    "                                criterion_func == func or\n",
    "                                criterion_func.__name__ == func.__name__)\n",
    "\n",
    "                location_matches = (criterion_lineno is None or\n",
    "                                    criterion_lineno == lineno)\n",
    "\n",
    "                var_matches = (criterion_var is None or\n",
    "                               criterion_var == var_name)\n",
    "\n",
    "                if name_matches and location_matches and var_matches:\n",
    "                    all_vars.append(var)\n",
    "\n",
    "        return all_vars\n",
    "\n",
    "    def backward_slice(self, *criteria: Criterion, \n",
    "                       mode: str = 'cd', depth: int = -1) -> Dependencies:\n",
    "        \"\"\"\n",
    "        Create a backward slice from nodes `criteria`.\n",
    "        `mode` can contain 'c' (draw control dependencies)\n",
    "        and 'd' (draw data dependencies) (default: 'cd')\n",
    "        \"\"\"\n",
    "        data = {}\n",
    "        control = {}\n",
    "        queue = self.expand_criteria(criteria)  # type: ignore\n",
    "        seen = set()\n",
    "\n",
    "        while len(queue) > 0 and depth != 0:\n",
    "            var = queue[0]\n",
    "            queue = queue[1:]\n",
    "            seen.add(var)\n",
    "\n",
    "            if 'd' in mode:\n",
    "                # Follow data dependencies\n",
    "                data[var] = self.data[var]\n",
    "                for next_var in data[var]:\n",
    "                    if next_var not in seen:\n",
    "                        queue.append(next_var)\n",
    "            else:\n",
    "                data[var] = set()\n",
    "\n",
    "            if 'c' in mode:\n",
    "                # Follow control dependencies\n",
    "                control[var] = self.control[var]\n",
    "                for next_var in control[var]:\n",
    "                    if next_var not in seen:\n",
    "                        queue.append(next_var)\n",
    "            else:\n",
    "                control[var] = set()\n",
    "\n",
    "            depth -= 1\n",
    "\n",
    "        return Dependencies(data, control)"
   ]
  },
  {
   "cell_type": "markdown",
   "metadata": {
    "slideshow": {
     "slide_type": "subslide"
    }
   },
   "source": [
    "### End of Excursion"
   ]
  },
  {
   "cell_type": "markdown",
   "metadata": {
    "slideshow": {
     "slide_type": "subslide"
    }
   },
   "source": [
    "### Data Dependencies\n",
    "\n",
    "Here is an example of a data dependency in our `middle()` program. The value `y` returned by `middle()` comes from the value `y` as originally passed as argument. We use arrows $x \\leftarrow y$ to indicate that a variable $x$ depends on an earlier variable $y$:"
   ]
  },
  {
   "cell_type": "code",
   "execution_count": 32,
   "metadata": {
    "execution": {
     "iopub.execute_input": "2023-02-11T12:18:22.892138Z",
     "iopub.status.busy": "2023-02-11T12:18:22.891735Z",
     "iopub.status.idle": "2023-02-11T12:18:23.160366Z",
     "shell.execute_reply": "2023-02-11T12:18:23.160704Z"
    },
    "slideshow": {
     "slide_type": "fragment"
    }
   },
   "outputs": [
    {
     "data": {
      "image/svg+xml": [
       "<?xml version=\"1.0\" encoding=\"UTF-8\" standalone=\"no\"?>\n",
       "<!DOCTYPE svg PUBLIC \"-//W3C//DTD SVG 1.1//EN\"\n",
       " \"http://www.w3.org/Graphics/SVG/1.1/DTD/svg11.dtd\">\n",
       "<!-- Generated by graphviz version 7.0.2 (20221119.0110)\n",
       " -->\n",
       "<!-- Title: dependencies Pages: 1 -->\n",
       "<svg width=\"214pt\" height=\"124pt\"\n",
       " viewBox=\"0.00 0.00 214.00 124.00\" xmlns=\"http://www.w3.org/2000/svg\" xmlns:xlink=\"http://www.w3.org/1999/xlink\">\n",
       "<g id=\"graph0\" class=\"graph\" transform=\"scale(1 1) rotate(0) translate(4 120)\">\n",
       "<title>dependencies</title>\n",
       "<polygon fill=\"white\" stroke=\"none\" points=\"-4,4 -4,-120 210,-120 210,4 -4,4\"/>\n",
       "<!-- middlereturnvalue_functionmiddleat0x105b94e50_6 -->\n",
       "<g id=\"node1\" class=\"node\">\n",
       "<title>middlereturnvalue_functionmiddleat0x105b94e50_6</title>\n",
       "<g id=\"a_node1\"><a xlink:title=\"middle:6\">\n",
       "<polygon fill=\"peachpuff\" stroke=\"black\" points=\"206,-40 0,-40 0,0 206,0 206,-40\"/>\n",
       "<text text-anchor=\"start\" x=\"8\" y=\"-25.8\" font-family=\"Courier,monospace\" font-weight=\"bold\" font-style=\"italic\" font-size=\"14.00\">&lt;middle() return value&gt;</text>\n",
       "<text text-anchor=\"start\" x=\"81.5\" y=\"-6.8\" font-family=\"Courier,monospace\" font-size=\"9.00\">return y</text>\n",
       "</a>\n",
       "</g>\n",
       "</g>\n",
       "<!-- y_functionmiddleat0x105b94e50_1 -->\n",
       "<g id=\"node2\" class=\"node\">\n",
       "<title>y_functionmiddleat0x105b94e50_1</title>\n",
       "<g id=\"a_node2\"><a xlink:title=\"middle:1\">\n",
       "<polygon fill=\"peachpuff\" stroke=\"black\" points=\"206,-116 0,-116 0,-76 206,-76 206,-116\"/>\n",
       "<text text-anchor=\"start\" x=\"98.5\" y=\"-101.8\" font-family=\"Courier,monospace\" font-weight=\"bold\" font-size=\"14.00\">y</text>\n",
       "<text text-anchor=\"start\" x=\"8\" y=\"-82.8\" font-family=\"Courier,monospace\" font-size=\"9.00\">def middle(x, y, z): &#160;# type: ignore</text>\n",
       "</a>\n",
       "</g>\n",
       "</g>\n",
       "<!-- y_functionmiddleat0x105b94e50_1&#45;&gt;middlereturnvalue_functionmiddleat0x105b94e50_6 -->\n",
       "<g id=\"edge1\" class=\"edge\">\n",
       "<title>y_functionmiddleat0x105b94e50_1&#45;&gt;middlereturnvalue_functionmiddleat0x105b94e50_6</title>\n",
       "<path fill=\"none\" stroke=\"black\" d=\"M96.98,-75.56C96.32,-68.25 96.11,-59.75 96.34,-51.67\"/>\n",
       "<polygon fill=\"black\" stroke=\"black\" points=\"99.82,-52.01 96.9,-41.82 92.84,-51.61 99.82,-52.01\"/>\n",
       "</g>\n",
       "<!-- y_functionmiddleat0x105b94e50_1&#45;&gt;middlereturnvalue_functionmiddleat0x105b94e50_6 -->\n",
       "</g>\n",
       "</svg>\n"
      ],
      "text/plain": [
       "<__main__.Dependencies at 0x105bd9930>"
      ]
     },
     "execution_count": 32,
     "metadata": {},
     "output_type": "execute_result"
    }
   ],
   "source": [
    "# ignore\n",
    "middle_deps().backward_slice('<middle() return value>', mode='d')  # type: ignore"
   ]
  },
  {
   "cell_type": "markdown",
   "metadata": {
    "slideshow": {
     "slide_type": "fragment"
    }
   },
   "source": [
    "Here, we can see that the value `y` in the return statement is data dependent on the value of `y` as passed to `middle()`. An alternate interpretation of this graph is a *data flow*: The value of `y` in the upper node _flows_ into the value of `y` in the lower node."
   ]
  },
  {
   "cell_type": "markdown",
   "metadata": {
    "slideshow": {
     "slide_type": "subslide"
    }
   },
   "source": [
    "Since we consider the values of variables at specific locations in the program, such data dependencies can also be interpreted as dependencies between _statements_ – the above `return` statement thus is data dependent on the initialization of `y` in the upper node."
   ]
  },
  {
   "attachments": {},
   "cell_type": "markdown",
   "metadata": {
    "slideshow": {
     "slide_type": "subslide"
    }
   },
   "source": [
    "### Control Dependencies\n",
    "\n",
    "Here is an example of a control dependency. The execution of the above `return` statement is controlled by the earlier test `x < z`. We use gray dashed lines to indicate control dependencies:"
   ]
  },
  {
   "cell_type": "code",
   "execution_count": 33,
   "metadata": {
    "execution": {
     "iopub.execute_input": "2023-02-11T12:18:23.163830Z",
     "iopub.status.busy": "2023-02-11T12:18:23.163393Z",
     "iopub.status.idle": "2023-02-11T12:18:23.442945Z",
     "shell.execute_reply": "2023-02-11T12:18:23.443200Z"
    },
    "slideshow": {
     "slide_type": "fragment"
    }
   },
   "outputs": [
    {
     "data": {
      "image/svg+xml": [
       "<?xml version=\"1.0\" encoding=\"UTF-8\" standalone=\"no\"?>\n",
       "<!DOCTYPE svg PUBLIC \"-//W3C//DTD SVG 1.1//EN\"\n",
       " \"http://www.w3.org/Graphics/SVG/1.1/DTD/svg11.dtd\">\n",
       "<!-- Generated by graphviz version 7.0.2 (20221119.0110)\n",
       " -->\n",
       "<!-- Title: dependencies Pages: 1 -->\n",
       "<svg width=\"214pt\" height=\"124pt\"\n",
       " viewBox=\"0.00 0.00 214.00 124.00\" xmlns=\"http://www.w3.org/2000/svg\" xmlns:xlink=\"http://www.w3.org/1999/xlink\">\n",
       "<g id=\"graph0\" class=\"graph\" transform=\"scale(1 1) rotate(0) translate(4 120)\">\n",
       "<title>dependencies</title>\n",
       "<polygon fill=\"white\" stroke=\"none\" points=\"-4,4 -4,-120 210,-120 210,4 -4,4\"/>\n",
       "<!-- middlereturnvalue_functionmiddleat0x105b94e50_6 -->\n",
       "<g id=\"node1\" class=\"node\">\n",
       "<title>middlereturnvalue_functionmiddleat0x105b94e50_6</title>\n",
       "<g id=\"a_node1\"><a xlink:title=\"middle:6\">\n",
       "<polygon fill=\"peachpuff\" stroke=\"black\" points=\"206,-40 0,-40 0,0 206,0 206,-40\"/>\n",
       "<text text-anchor=\"start\" x=\"8\" y=\"-25.8\" font-family=\"Courier,monospace\" font-weight=\"bold\" font-style=\"italic\" font-size=\"14.00\">&lt;middle() return value&gt;</text>\n",
       "<text text-anchor=\"start\" x=\"81.5\" y=\"-6.8\" font-family=\"Courier,monospace\" font-size=\"9.00\">return y</text>\n",
       "</a>\n",
       "</g>\n",
       "</g>\n",
       "<!-- test_functionmiddleat0x105b94e50_5 -->\n",
       "<g id=\"node2\" class=\"node\">\n",
       "<title>test_functionmiddleat0x105b94e50_5</title>\n",
       "<g id=\"a_node2\"><a xlink:title=\"middle:5\">\n",
       "<polygon fill=\"peachpuff\" stroke=\"black\" points=\"140,-116 66,-116 66,-76 140,-76 140,-116\"/>\n",
       "<text text-anchor=\"start\" x=\"78\" y=\"-101.8\" font-family=\"Courier,monospace\" font-weight=\"bold\" font-style=\"italic\" font-size=\"14.00\">&lt;test&gt;</text>\n",
       "<text text-anchor=\"start\" x=\"74\" y=\"-82.8\" font-family=\"Courier,monospace\" font-size=\"9.00\">elif x &lt; z:</text>\n",
       "</a>\n",
       "</g>\n",
       "</g>\n",
       "<!-- test_functionmiddleat0x105b94e50_5&#45;&gt;middlereturnvalue_functionmiddleat0x105b94e50_6 -->\n",
       "<g id=\"edge1\" class=\"edge\">\n",
       "<title>test_functionmiddleat0x105b94e50_5&#45;&gt;middlereturnvalue_functionmiddleat0x105b94e50_6</title>\n",
       "<path fill=\"none\" stroke=\"grey\" stroke-dasharray=\"5,2\" d=\"M96.98,-75.56C96.32,-68.25 96.11,-59.75 96.34,-51.67\"/>\n",
       "<polygon fill=\"grey\" stroke=\"grey\" points=\"99.82,-52.01 96.9,-41.82 92.84,-51.61 99.82,-52.01\"/>\n",
       "</g>\n",
       "<!-- test_functionmiddleat0x105b94e50_5&#45;&gt;middlereturnvalue_functionmiddleat0x105b94e50_6 -->\n",
       "</g>\n",
       "</svg>\n"
      ],
      "text/plain": [
       "<__main__.Dependencies at 0x105bd9480>"
      ]
     },
     "execution_count": 33,
     "metadata": {},
     "output_type": "execute_result"
    }
   ],
   "source": [
    "# ignore\n",
    "middle_deps().backward_slice('<middle() return value>', mode='c', depth=1)  # type: ignore"
   ]
  },
  {
   "cell_type": "markdown",
   "metadata": {
    "slideshow": {
     "slide_type": "fragment"
    }
   },
   "source": [
    "This test in turn is controlled by earlier tests, so the full chain of control dependencies looks like this:"
   ]
  },
  {
   "cell_type": "code",
   "execution_count": 34,
   "metadata": {
    "execution": {
     "iopub.execute_input": "2023-02-11T12:18:23.448803Z",
     "iopub.status.busy": "2023-02-11T12:18:23.448469Z",
     "iopub.status.idle": "2023-02-11T12:18:23.724497Z",
     "shell.execute_reply": "2023-02-11T12:18:23.724770Z"
    },
    "slideshow": {
     "slide_type": "fragment"
    }
   },
   "outputs": [
    {
     "data": {
      "image/svg+xml": [
       "<?xml version=\"1.0\" encoding=\"UTF-8\" standalone=\"no\"?>\n",
       "<!DOCTYPE svg PUBLIC \"-//W3C//DTD SVG 1.1//EN\"\n",
       " \"http://www.w3.org/Graphics/SVG/1.1/DTD/svg11.dtd\">\n",
       "<!-- Generated by graphviz version 7.0.2 (20221119.0110)\n",
       " -->\n",
       "<!-- Title: dependencies Pages: 1 -->\n",
       "<svg width=\"214pt\" height=\"276pt\"\n",
       " viewBox=\"0.00 0.00 214.00 276.00\" xmlns=\"http://www.w3.org/2000/svg\" xmlns:xlink=\"http://www.w3.org/1999/xlink\">\n",
       "<g id=\"graph0\" class=\"graph\" transform=\"scale(1 1) rotate(0) translate(4 272)\">\n",
       "<title>dependencies</title>\n",
       "<polygon fill=\"white\" stroke=\"none\" points=\"-4,4 -4,-272 210,-272 210,4 -4,4\"/>\n",
       "<!-- middlereturnvalue_functionmiddleat0x105b94e50_6 -->\n",
       "<g id=\"node1\" class=\"node\">\n",
       "<title>middlereturnvalue_functionmiddleat0x105b94e50_6</title>\n",
       "<g id=\"a_node1\"><a xlink:title=\"middle:6\">\n",
       "<polygon fill=\"peachpuff\" stroke=\"black\" points=\"206,-40 0,-40 0,0 206,0 206,-40\"/>\n",
       "<text text-anchor=\"start\" x=\"8\" y=\"-25.8\" font-family=\"Courier,monospace\" font-weight=\"bold\" font-style=\"italic\" font-size=\"14.00\">&lt;middle() return value&gt;</text>\n",
       "<text text-anchor=\"start\" x=\"81.5\" y=\"-6.8\" font-family=\"Courier,monospace\" font-size=\"9.00\">return y</text>\n",
       "</a>\n",
       "</g>\n",
       "</g>\n",
       "<!-- test_functionmiddleat0x105b94e50_5 -->\n",
       "<g id=\"node2\" class=\"node\">\n",
       "<title>test_functionmiddleat0x105b94e50_5</title>\n",
       "<g id=\"a_node2\"><a xlink:title=\"middle:5\">\n",
       "<polygon fill=\"peachpuff\" stroke=\"black\" points=\"140,-116 66,-116 66,-76 140,-76 140,-116\"/>\n",
       "<text text-anchor=\"start\" x=\"78\" y=\"-101.8\" font-family=\"Courier,monospace\" font-weight=\"bold\" font-style=\"italic\" font-size=\"14.00\">&lt;test&gt;</text>\n",
       "<text text-anchor=\"start\" x=\"74\" y=\"-82.8\" font-family=\"Courier,monospace\" font-size=\"9.00\">elif x &lt; z:</text>\n",
       "</a>\n",
       "</g>\n",
       "</g>\n",
       "<!-- test_functionmiddleat0x105b94e50_5&#45;&gt;middlereturnvalue_functionmiddleat0x105b94e50_6 -->\n",
       "<g id=\"edge1\" class=\"edge\">\n",
       "<title>test_functionmiddleat0x105b94e50_5&#45;&gt;middlereturnvalue_functionmiddleat0x105b94e50_6</title>\n",
       "<path fill=\"none\" stroke=\"grey\" stroke-dasharray=\"5,2\" d=\"M96.98,-75.56C96.32,-68.25 96.11,-59.75 96.34,-51.67\"/>\n",
       "<polygon fill=\"grey\" stroke=\"grey\" points=\"99.82,-52.01 96.9,-41.82 92.84,-51.61 99.82,-52.01\"/>\n",
       "</g>\n",
       "<!-- test_functionmiddleat0x105b94e50_5&#45;&gt;middlereturnvalue_functionmiddleat0x105b94e50_6 -->\n",
       "<!-- test_functionmiddleat0x105b94e50_2 -->\n",
       "<g id=\"node3\" class=\"node\">\n",
       "<title>test_functionmiddleat0x105b94e50_2</title>\n",
       "<g id=\"a_node3\"><a xlink:title=\"middle:2\">\n",
       "<polygon fill=\"peachpuff\" stroke=\"black\" points=\"136,-268 70,-268 70,-228 136,-228 136,-268\"/>\n",
       "<text text-anchor=\"start\" x=\"78\" y=\"-253.8\" font-family=\"Courier,monospace\" font-weight=\"bold\" font-style=\"italic\" font-size=\"14.00\">&lt;test&gt;</text>\n",
       "<text text-anchor=\"start\" x=\"79\" y=\"-234.8\" font-family=\"Courier,monospace\" font-size=\"9.00\">if y &lt; z:</text>\n",
       "</a>\n",
       "</g>\n",
       "</g>\n",
       "<!-- test_functionmiddleat0x105b94e50_3 -->\n",
       "<g id=\"node4\" class=\"node\">\n",
       "<title>test_functionmiddleat0x105b94e50_3</title>\n",
       "<g id=\"a_node4\"><a xlink:title=\"middle:3\">\n",
       "<polygon fill=\"peachpuff\" stroke=\"black\" points=\"136,-192 70,-192 70,-152 136,-152 136,-192\"/>\n",
       "<text text-anchor=\"start\" x=\"78\" y=\"-177.8\" font-family=\"Courier,monospace\" font-weight=\"bold\" font-style=\"italic\" font-size=\"14.00\">&lt;test&gt;</text>\n",
       "<text text-anchor=\"start\" x=\"79\" y=\"-158.8\" font-family=\"Courier,monospace\" font-size=\"9.00\">if x &lt; y:</text>\n",
       "</a>\n",
       "</g>\n",
       "</g>\n",
       "<!-- test_functionmiddleat0x105b94e50_2&#45;&gt;test_functionmiddleat0x105b94e50_3 -->\n",
       "<g id=\"edge2\" class=\"edge\">\n",
       "<title>test_functionmiddleat0x105b94e50_2&#45;&gt;test_functionmiddleat0x105b94e50_3</title>\n",
       "<path fill=\"none\" stroke=\"grey\" stroke-dasharray=\"5,2\" d=\"M96.98,-227.56C96.32,-220.25 96.11,-211.75 96.34,-203.67\"/>\n",
       "<polygon fill=\"grey\" stroke=\"grey\" points=\"99.82,-204.01 96.9,-193.82 92.84,-203.61 99.82,-204.01\"/>\n",
       "</g>\n",
       "<!-- test_functionmiddleat0x105b94e50_2&#45;&gt;test_functionmiddleat0x105b94e50_3 -->\n",
       "<!-- test_functionmiddleat0x105b94e50_3&#45;&gt;test_functionmiddleat0x105b94e50_5 -->\n",
       "<g id=\"edge3\" class=\"edge\">\n",
       "<title>test_functionmiddleat0x105b94e50_3&#45;&gt;test_functionmiddleat0x105b94e50_5</title>\n",
       "<path fill=\"none\" stroke=\"grey\" stroke-dasharray=\"5,2\" d=\"M96.98,-151.56C96.32,-144.25 96.11,-135.75 96.34,-127.67\"/>\n",
       "<polygon fill=\"grey\" stroke=\"grey\" points=\"99.82,-128.01 96.9,-117.82 92.84,-127.61 99.82,-128.01\"/>\n",
       "</g>\n",
       "<!-- test_functionmiddleat0x105b94e50_3&#45;&gt;test_functionmiddleat0x105b94e50_5 -->\n",
       "</g>\n",
       "</svg>\n"
      ],
      "text/plain": [
       "<__main__.Dependencies at 0x105bdb3d0>"
      ]
     },
     "execution_count": 34,
     "metadata": {},
     "output_type": "execute_result"
    }
   ],
   "source": [
    "# ignore\n",
    "middle_deps().backward_slice('<middle() return value>', mode='c')  # type: ignore"
   ]
  },
  {
   "cell_type": "markdown",
   "metadata": {
    "slideshow": {
     "slide_type": "subslide"
    }
   },
   "source": [
    "### Dependency Graphs\n",
    "\n",
    "The above `<test>` values (and their statements) are in turn also dependent on earlier data, namely the `x`, `y`, and `z` values as originally passed. We can draw all data and control dependencies in a single graph, called a _program dependency graph_:"
   ]
  },
  {
   "cell_type": "code",
   "execution_count": 35,
   "metadata": {
    "execution": {
     "iopub.execute_input": "2023-02-11T12:18:23.730482Z",
     "iopub.status.busy": "2023-02-11T12:18:23.728351Z",
     "iopub.status.idle": "2023-02-11T12:18:24.010240Z",
     "shell.execute_reply": "2023-02-11T12:18:24.010485Z"
    },
    "slideshow": {
     "slide_type": "fragment"
    }
   },
   "outputs": [
    {
     "data": {
      "image/svg+xml": [
       "<?xml version=\"1.0\" encoding=\"UTF-8\" standalone=\"no\"?>\n",
       "<!DOCTYPE svg PUBLIC \"-//W3C//DTD SVG 1.1//EN\"\n",
       " \"http://www.w3.org/Graphics/SVG/1.1/DTD/svg11.dtd\">\n",
       "<!-- Generated by graphviz version 7.0.2 (20221119.0110)\n",
       " -->\n",
       "<!-- Title: dependencies Pages: 1 -->\n",
       "<svg width=\"464pt\" height=\"352pt\"\n",
       " viewBox=\"0.00 0.00 464.16 352.00\" xmlns=\"http://www.w3.org/2000/svg\" xmlns:xlink=\"http://www.w3.org/1999/xlink\">\n",
       "<g id=\"graph0\" class=\"graph\" transform=\"scale(1 1) rotate(0) translate(4 348)\">\n",
       "<title>dependencies</title>\n",
       "<polygon fill=\"white\" stroke=\"none\" points=\"-4,4 -4,-348 460.16,-348 460.16,4 -4,4\"/>\n",
       "<!-- z_functionmiddleat0x105b94e50_1 -->\n",
       "<g id=\"node1\" class=\"node\">\n",
       "<title>z_functionmiddleat0x105b94e50_1</title>\n",
       "<g id=\"a_node1\"><a xlink:title=\"middle:1\">\n",
       "<polygon fill=\"peachpuff\" stroke=\"black\" points=\"430,-344 224,-344 224,-304 430,-304 430,-344\"/>\n",
       "<text text-anchor=\"start\" x=\"322.5\" y=\"-329.8\" font-family=\"Courier,monospace\" font-weight=\"bold\" font-size=\"14.00\">z</text>\n",
       "<text text-anchor=\"start\" x=\"232\" y=\"-310.8\" font-family=\"Courier,monospace\" font-size=\"9.00\">def middle(x, y, z): &#160;# type: ignore</text>\n",
       "</a>\n",
       "</g>\n",
       "</g>\n",
       "<!-- test_functionmiddleat0x105b94e50_2 -->\n",
       "<g id=\"node3\" class=\"node\">\n",
       "<title>test_functionmiddleat0x105b94e50_2</title>\n",
       "<g id=\"a_node3\"><a xlink:title=\"middle:2\">\n",
       "<polygon fill=\"peachpuff\" stroke=\"black\" points=\"216,-268 150,-268 150,-228 216,-228 216,-268\"/>\n",
       "<text text-anchor=\"start\" x=\"158\" y=\"-253.8\" font-family=\"Courier,monospace\" font-weight=\"bold\" font-style=\"italic\" font-size=\"14.00\">&lt;test&gt;</text>\n",
       "<text text-anchor=\"start\" x=\"159\" y=\"-234.8\" font-family=\"Courier,monospace\" font-size=\"9.00\">if y &lt; z:</text>\n",
       "</a>\n",
       "</g>\n",
       "</g>\n",
       "<!-- z_functionmiddleat0x105b94e50_1&#45;&gt;test_functionmiddleat0x105b94e50_2 -->\n",
       "<g id=\"edge1\" class=\"edge\">\n",
       "<title>z_functionmiddleat0x105b94e50_1&#45;&gt;test_functionmiddleat0x105b94e50_2</title>\n",
       "<path fill=\"none\" stroke=\"black\" d=\"M283.14,-303.56C264.55,-294.42 243.03,-283.43 224.68,-273.71\"/>\n",
       "<polygon fill=\"black\" stroke=\"black\" points=\"226.37,-270.65 215.91,-269.03 223.08,-276.82 226.37,-270.65\"/>\n",
       "</g>\n",
       "<!-- z_functionmiddleat0x105b94e50_1&#45;&gt;test_functionmiddleat0x105b94e50_2 -->\n",
       "<!-- test_functionmiddleat0x105b94e50_5 -->\n",
       "<g id=\"node6\" class=\"node\">\n",
       "<title>test_functionmiddleat0x105b94e50_5</title>\n",
       "<g id=\"a_node6\"><a xlink:title=\"middle:5\">\n",
       "<polygon fill=\"peachpuff\" stroke=\"black\" points=\"220,-116 146,-116 146,-76 220,-76 220,-116\"/>\n",
       "<text text-anchor=\"start\" x=\"158\" y=\"-101.8\" font-family=\"Courier,monospace\" font-weight=\"bold\" font-style=\"italic\" font-size=\"14.00\">&lt;test&gt;</text>\n",
       "<text text-anchor=\"start\" x=\"154\" y=\"-82.8\" font-family=\"Courier,monospace\" font-size=\"9.00\">elif x &lt; z:</text>\n",
       "</a>\n",
       "</g>\n",
       "</g>\n",
       "<!-- z_functionmiddleat0x105b94e50_1&#45;&gt;test_functionmiddleat0x105b94e50_5 -->\n",
       "<g id=\"edge7\" class=\"edge\">\n",
       "<title>z_functionmiddleat0x105b94e50_1&#45;&gt;test_functionmiddleat0x105b94e50_5</title>\n",
       "<path fill=\"none\" stroke=\"black\" d=\"M404.82,-303.64C422.23,-295.53 438.6,-284.1 449,-268 458.65,-253.07 458.39,-243.09 449,-228 401.38,-151.47 294.46,-118.34 231.64,-105.05\"/>\n",
       "<polygon fill=\"black\" stroke=\"black\" points=\"232.42,-101.64 221.93,-103.09 231.04,-108.5 232.42,-101.64\"/>\n",
       "</g>\n",
       "<!-- y_functionmiddleat0x105b94e50_1 -->\n",
       "<g id=\"node2\" class=\"node\">\n",
       "<title>y_functionmiddleat0x105b94e50_1</title>\n",
       "<g id=\"a_node2\"><a xlink:title=\"middle:1\">\n",
       "<polygon fill=\"peachpuff\" stroke=\"black\" points=\"206,-344 0,-344 0,-304 206,-304 206,-344\"/>\n",
       "<text text-anchor=\"start\" x=\"98.5\" y=\"-329.8\" font-family=\"Courier,monospace\" font-weight=\"bold\" font-size=\"14.00\">y</text>\n",
       "<text text-anchor=\"start\" x=\"8\" y=\"-310.8\" font-family=\"Courier,monospace\" font-size=\"9.00\">def middle(x, y, z): &#160;# type: ignore</text>\n",
       "</a>\n",
       "</g>\n",
       "</g>\n",
       "<!-- y_functionmiddleat0x105b94e50_1&#45;&gt;test_functionmiddleat0x105b94e50_2 -->\n",
       "<g id=\"edge2\" class=\"edge\">\n",
       "<title>y_functionmiddleat0x105b94e50_1&#45;&gt;test_functionmiddleat0x105b94e50_2</title>\n",
       "<path fill=\"none\" stroke=\"black\" d=\"M124.02,-303.56C133.11,-295.14 143.91,-285.16 153.77,-276.04\"/>\n",
       "<polygon fill=\"black\" stroke=\"black\" points=\"156.05,-278.7 161.01,-269.34 151.29,-273.56 156.05,-278.7\"/>\n",
       "</g>\n",
       "<!-- test_functionmiddleat0x105b94e50_3 -->\n",
       "<g id=\"node5\" class=\"node\">\n",
       "<title>test_functionmiddleat0x105b94e50_3</title>\n",
       "<g id=\"a_node5\"><a xlink:title=\"middle:3\">\n",
       "<polygon fill=\"peachpuff\" stroke=\"black\" points=\"216,-192 150,-192 150,-152 216,-152 216,-192\"/>\n",
       "<text text-anchor=\"start\" x=\"158\" y=\"-177.8\" font-family=\"Courier,monospace\" font-weight=\"bold\" font-style=\"italic\" font-size=\"14.00\">&lt;test&gt;</text>\n",
       "<text text-anchor=\"start\" x=\"159\" y=\"-158.8\" font-family=\"Courier,monospace\" font-size=\"9.00\">if x &lt; y:</text>\n",
       "</a>\n",
       "</g>\n",
       "</g>\n",
       "<!-- y_functionmiddleat0x105b94e50_1&#45;&gt;test_functionmiddleat0x105b94e50_3 -->\n",
       "<g id=\"edge4\" class=\"edge\">\n",
       "<title>y_functionmiddleat0x105b94e50_1&#45;&gt;test_functionmiddleat0x105b94e50_3</title>\n",
       "<path fill=\"none\" stroke=\"black\" d=\"M108.98,-303.74C115.49,-284.03 126.88,-252.87 141,-228 146.17,-218.89 152.69,-209.61 159.04,-201.32\"/>\n",
       "<polygon fill=\"black\" stroke=\"black\" points=\"161.66,-203.66 165.12,-193.65 156.17,-199.31 161.66,-203.66\"/>\n",
       "</g>\n",
       "<!-- middlereturnvalue_functionmiddleat0x105b94e50_6 -->\n",
       "<g id=\"node7\" class=\"node\">\n",
       "<title>middlereturnvalue_functionmiddleat0x105b94e50_6</title>\n",
       "<g id=\"a_node7\"><a xlink:title=\"middle:6\">\n",
       "<polygon fill=\"peachpuff\" stroke=\"black\" points=\"286,-40 80,-40 80,0 286,0 286,-40\"/>\n",
       "<text text-anchor=\"start\" x=\"88\" y=\"-25.8\" font-family=\"Courier,monospace\" font-weight=\"bold\" font-style=\"italic\" font-size=\"14.00\">&lt;middle() return value&gt;</text>\n",
       "<text text-anchor=\"start\" x=\"161.5\" y=\"-6.8\" font-family=\"Courier,monospace\" font-size=\"9.00\">return y</text>\n",
       "</a>\n",
       "</g>\n",
       "</g>\n",
       "<!-- y_functionmiddleat0x105b94e50_1&#45;&gt;middlereturnvalue_functionmiddleat0x105b94e50_6 -->\n",
       "<g id=\"edge9\" class=\"edge\">\n",
       "<title>y_functionmiddleat0x105b94e50_1&#45;&gt;middlereturnvalue_functionmiddleat0x105b94e50_6</title>\n",
       "<path fill=\"none\" stroke=\"black\" d=\"M102.13,-303.76C100.93,-260.86 102.05,-154.97 137,-76 141.33,-66.22 147.93,-56.81 154.8,-48.62\"/>\n",
       "<polygon fill=\"black\" stroke=\"black\" points=\"157.21,-51.18 161.25,-41.39 151.98,-46.52 157.21,-51.18\"/>\n",
       "</g>\n",
       "<!-- test_functionmiddleat0x105b94e50_2&#45;&gt;test_functionmiddleat0x105b94e50_3 -->\n",
       "<g id=\"edge5\" class=\"edge\">\n",
       "<title>test_functionmiddleat0x105b94e50_2&#45;&gt;test_functionmiddleat0x105b94e50_3</title>\n",
       "<path fill=\"none\" stroke=\"grey\" stroke-dasharray=\"5,2\" d=\"M176.98,-227.56C176.32,-220.25 176.11,-211.75 176.34,-203.67\"/>\n",
       "<polygon fill=\"grey\" stroke=\"grey\" points=\"179.82,-204.01 176.9,-193.82 172.84,-203.61 179.82,-204.01\"/>\n",
       "</g>\n",
       "<!-- test_functionmiddleat0x105b94e50_2&#45;&gt;test_functionmiddleat0x105b94e50_3 -->\n",
       "<!-- x_functionmiddleat0x105b94e50_1 -->\n",
       "<g id=\"node4\" class=\"node\">\n",
       "<title>x_functionmiddleat0x105b94e50_1</title>\n",
       "<g id=\"a_node4\"><a xlink:title=\"middle:1\">\n",
       "<polygon fill=\"peachpuff\" stroke=\"black\" points=\"440,-268 234,-268 234,-228 440,-228 440,-268\"/>\n",
       "<text text-anchor=\"start\" x=\"332.5\" y=\"-253.8\" font-family=\"Courier,monospace\" font-weight=\"bold\" font-size=\"14.00\">x</text>\n",
       "<text text-anchor=\"start\" x=\"242\" y=\"-234.8\" font-family=\"Courier,monospace\" font-size=\"9.00\">def middle(x, y, z): &#160;# type: ignore</text>\n",
       "</a>\n",
       "</g>\n",
       "</g>\n",
       "<!-- x_functionmiddleat0x105b94e50_1&#45;&gt;test_functionmiddleat0x105b94e50_3 -->\n",
       "<g id=\"edge3\" class=\"edge\">\n",
       "<title>x_functionmiddleat0x105b94e50_1&#45;&gt;test_functionmiddleat0x105b94e50_3</title>\n",
       "<path fill=\"none\" stroke=\"black\" d=\"M296.54,-227.56C275.09,-217.25 248.73,-204.58 226.8,-194.05\"/>\n",
       "<polygon fill=\"black\" stroke=\"black\" points=\"228.33,-190.9 217.8,-189.72 225.3,-197.21 228.33,-190.9\"/>\n",
       "</g>\n",
       "<!-- x_functionmiddleat0x105b94e50_1&#45;&gt;test_functionmiddleat0x105b94e50_5 -->\n",
       "<g id=\"edge6\" class=\"edge\">\n",
       "<title>x_functionmiddleat0x105b94e50_1&#45;&gt;test_functionmiddleat0x105b94e50_5</title>\n",
       "<path fill=\"none\" stroke=\"black\" d=\"M317.18,-227.7C290.15,-201.37 241.59,-154.07 210.89,-124.17\"/>\n",
       "<polygon fill=\"black\" stroke=\"black\" points=\"213.43,-121.75 203.83,-117.28 208.55,-126.77 213.43,-121.75\"/>\n",
       "</g>\n",
       "<!-- test_functionmiddleat0x105b94e50_3&#45;&gt;test_functionmiddleat0x105b94e50_5 -->\n",
       "<g id=\"edge8\" class=\"edge\">\n",
       "<title>test_functionmiddleat0x105b94e50_3&#45;&gt;test_functionmiddleat0x105b94e50_5</title>\n",
       "<path fill=\"none\" stroke=\"grey\" stroke-dasharray=\"5,2\" d=\"M176.98,-151.56C176.32,-144.25 176.11,-135.75 176.34,-127.67\"/>\n",
       "<polygon fill=\"grey\" stroke=\"grey\" points=\"179.82,-128.01 176.9,-117.82 172.84,-127.61 179.82,-128.01\"/>\n",
       "</g>\n",
       "<!-- test_functionmiddleat0x105b94e50_3&#45;&gt;test_functionmiddleat0x105b94e50_5 -->\n",
       "<!-- test_functionmiddleat0x105b94e50_5&#45;&gt;middlereturnvalue_functionmiddleat0x105b94e50_6 -->\n",
       "<g id=\"edge10\" class=\"edge\">\n",
       "<title>test_functionmiddleat0x105b94e50_5&#45;&gt;middlereturnvalue_functionmiddleat0x105b94e50_6</title>\n",
       "<path fill=\"none\" stroke=\"grey\" stroke-dasharray=\"5,2\" d=\"M176.98,-75.56C176.32,-68.25 176.11,-59.75 176.34,-51.67\"/>\n",
       "<polygon fill=\"grey\" stroke=\"grey\" points=\"179.82,-52.01 176.9,-41.82 172.84,-51.61 179.82,-52.01\"/>\n",
       "</g>\n",
       "<!-- test_functionmiddleat0x105b94e50_5&#45;&gt;middlereturnvalue_functionmiddleat0x105b94e50_6 -->\n",
       "</g>\n",
       "</svg>\n"
      ],
      "text/plain": [
       "<__main__.Dependencies at 0x105bdabc0>"
      ]
     },
     "execution_count": 35,
     "metadata": {},
     "output_type": "execute_result"
    }
   ],
   "source": [
    "# ignore\n",
    "middle_deps()"
   ]
  },
  {
   "cell_type": "markdown",
   "metadata": {
    "slideshow": {
     "slide_type": "fragment"
    }
   },
   "source": [
    "This graph now gives us an idea on how to proceed to track the origins of the `middle()` return value at the bottom. Its value can come from any of the origins – namely the initialization of `y` at the function call, or from the `<test>` that controls it. This test in turn depends on `x` and `z` and their associated statements, which we now can check one after the other."
   ]
  },
  {
   "cell_type": "markdown",
   "metadata": {
    "slideshow": {
     "slide_type": "subslide"
    }
   },
   "source": [
    "Note that all these dependencies in the graph are _dynamic_ dependencies – that is, they refer to statements actually evaluated in the run at hand, as well as the decisions made in that very run. There also are _static_ dependency graphs coming from static analysis of the code; but for debugging, _dynamic_ dependencies specific to the failing run are more useful."
   ]
  },
  {
   "cell_type": "markdown",
   "metadata": {
    "slideshow": {
     "slide_type": "subslide"
    }
   },
   "source": [
    "### Showing Dependencies with Code\n",
    "\n",
    "While a graph gives us a representation about which possible data and control flows to track, integrating dependencies with actual program code results in a compact representation that is easy to reason about."
   ]
  },
  {
   "cell_type": "markdown",
   "metadata": {
    "slideshow": {
     "slide_type": "subslide"
    }
   },
   "source": [
    "#### Excursion: Listing Dependencies"
   ]
  },
  {
   "cell_type": "markdown",
   "metadata": {
    "slideshow": {
     "slide_type": "subslide"
    }
   },
   "source": [
    "To show dependencies as text, we introduce a method `format_var()` that shows a single node (a variable) as text. By default, a node is referenced as\n",
    "\n",
    "```python\n",
    "NAME (FUNCTION:LINENO)\n",
    "```\n",
    "\n",
    "However, within a given function, it makes no sense to re-state the function name again and again, so we have a shorthand\n",
    "\n",
    "```python\n",
    "NAME (LINENO)\n",
    "```\n",
    "\n",
    "to state a dependency to variable `NAME` in line `LINENO`."
   ]
  },
  {
   "cell_type": "code",
   "execution_count": 36,
   "metadata": {
    "execution": {
     "iopub.execute_input": "2023-02-11T12:18:24.014363Z",
     "iopub.status.busy": "2023-02-11T12:18:24.013761Z",
     "iopub.status.idle": "2023-02-11T12:18:24.015100Z",
     "shell.execute_reply": "2023-02-11T12:18:24.015492Z"
    },
    "slideshow": {
     "slide_type": "subslide"
    }
   },
   "outputs": [],
   "source": [
    "class Dependencies(Dependencies):\n",
    "    def format_var(self, var: Node, current_func: Optional[Callable] = None) -> str:\n",
    "        \"\"\"Return string for `var` in `current_func`.\"\"\"\n",
    "        name, location = var\n",
    "        func, lineno = location\n",
    "        if current_func and (func == current_func or func.__name__ == current_func.__name__):\n",
    "            return f\"{name} ({lineno})\"\n",
    "        else:\n",
    "            return f\"{name} ({func.__name__}:{lineno})\""
   ]
  },
  {
   "cell_type": "markdown",
   "metadata": {
    "slideshow": {
     "slide_type": "fragment"
    }
   },
   "source": [
    "`format_var()` is used extensively in the `__str__()` string representation of dependencies, listing all nodes and their data (`<=`) and control (`<-`) dependencies."
   ]
  },
  {
   "cell_type": "code",
   "execution_count": 37,
   "metadata": {
    "execution": {
     "iopub.execute_input": "2023-02-11T12:18:24.020173Z",
     "iopub.status.busy": "2023-02-11T12:18:24.019711Z",
     "iopub.status.idle": "2023-02-11T12:18:24.021122Z",
     "shell.execute_reply": "2023-02-11T12:18:24.021318Z"
    },
    "slideshow": {
     "slide_type": "subslide"
    }
   },
   "outputs": [],
   "source": [
    "class Dependencies(Dependencies):\n",
    "    def __str__(self) -> str:\n",
    "        \"\"\"Return string representation of dependencies\"\"\"\n",
    "        self.validate()\n",
    "\n",
    "        out = \"\"\n",
    "        for func in self.all_functions():\n",
    "            code_name = func.__name__\n",
    "\n",
    "            if out != \"\":\n",
    "                out += \"\\n\"\n",
    "            out += f\"{code_name}():\\n\"\n",
    "\n",
    "            all_vars = list(set(self.data.keys()) | set(self.control.keys()))\n",
    "            all_vars.sort(key=lambda var: var[1][1])\n",
    "\n",
    "            for var in all_vars:\n",
    "                (name, location) = var\n",
    "                var_func, var_lineno = location\n",
    "                var_code_name = var_func.__name__\n",
    "\n",
    "                if var_code_name != code_name:\n",
    "                    continue\n",
    "\n",
    "                all_deps = \"\"\n",
    "                for (source, arrow) in [(self.data, \"<=\"), (self.control, \"<-\")]:\n",
    "                    deps = \"\"\n",
    "                    for data_dep in source[var]:\n",
    "                        if deps == \"\":\n",
    "                            deps = f\" {arrow} \"\n",
    "                        else:\n",
    "                            deps += \", \"\n",
    "                        deps += self.format_var(data_dep, func)\n",
    "\n",
    "                    if deps != \"\":\n",
    "                        if all_deps != \"\":\n",
    "                            all_deps += \";\"\n",
    "                        all_deps += deps\n",
    "\n",
    "                if all_deps == \"\":\n",
    "                    continue\n",
    "\n",
    "                out += (\"    \" + \n",
    "                        self.format_var(var, func) +\n",
    "                        all_deps + \"\\n\")\n",
    "\n",
    "        return out"
   ]
  },
  {
   "cell_type": "markdown",
   "metadata": {
    "slideshow": {
     "slide_type": "subslide"
    }
   },
   "source": [
    "Here is a compact string representation of dependencies. We see how the (last) `middle() return value` has a data dependency to `y` in Line 1, and to the `<test>` in Line 5."
   ]
  },
  {
   "cell_type": "code",
   "execution_count": 38,
   "metadata": {
    "execution": {
     "iopub.execute_input": "2023-02-11T12:18:24.023532Z",
     "iopub.status.busy": "2023-02-11T12:18:24.023153Z",
     "iopub.status.idle": "2023-02-11T12:18:24.024525Z",
     "shell.execute_reply": "2023-02-11T12:18:24.024853Z"
    },
    "slideshow": {
     "slide_type": "fragment"
    }
   },
   "outputs": [
    {
     "name": "stdout",
     "output_type": "stream",
     "text": [
      "middle():\n",
      "    <test> (2) <= z (1), y (1)\n",
      "    <test> (3) <= x (1), y (1); <- <test> (2)\n",
      "    <test> (5) <= x (1), z (1); <- <test> (3)\n",
      "    <middle() return value> (6) <= y (1); <- <test> (5)\n",
      "\n"
     ]
    }
   ],
   "source": [
    "print(middle_deps())"
   ]
  },
  {
   "cell_type": "markdown",
   "metadata": {
    "slideshow": {
     "slide_type": "fragment"
    }
   },
   "source": [
    "The `__repr__()` method shows a raw form of dependencies, useful for creating dependencies from scratch."
   ]
  },
  {
   "cell_type": "code",
   "execution_count": 39,
   "metadata": {
    "execution": {
     "iopub.execute_input": "2023-02-11T12:18:24.028400Z",
     "iopub.status.busy": "2023-02-11T12:18:24.028079Z",
     "iopub.status.idle": "2023-02-11T12:18:24.029571Z",
     "shell.execute_reply": "2023-02-11T12:18:24.029773Z"
    },
    "slideshow": {
     "slide_type": "subslide"
    }
   },
   "outputs": [],
   "source": [
    "class Dependencies(Dependencies):\n",
    "    def repr_var(self, var: Node) -> str:\n",
    "        name, location = var\n",
    "        func, lineno = location\n",
    "        return f\"({repr(name)}, ({func.__name__}, {lineno}))\"\n",
    "\n",
    "    def repr_deps(self, var_set: Set[Node]) -> str:\n",
    "        if len(var_set) == 0:\n",
    "            return \"set()\"\n",
    "\n",
    "        return (\"{\" +\n",
    "                \", \".join(f\"{self.repr_var(var)}\"\n",
    "                          for var in var_set) +\n",
    "                \"}\")\n",
    "\n",
    "    def repr_dependencies(self, vars: Dependency) -> str:\n",
    "        return (\"{\\n        \" +\n",
    "                \",\\n        \".join(\n",
    "                    f\"{self.repr_var(var)}: {self.repr_deps(vars[var])}\"\n",
    "                    for var in vars) +\n",
    "                \"}\")\n",
    "\n",
    "    def __repr__(self) -> str:\n",
    "        \"\"\"Represent dependencies as a Python expression\"\"\"\n",
    "        # Useful for saving and restoring values\n",
    "        return (f\"Dependencies(\\n\" +\n",
    "                f\"    data={self.repr_dependencies(self.data)},\\n\" +\n",
    "                f\" control={self.repr_dependencies(self.control)})\")"
   ]
  },
  {
   "cell_type": "code",
   "execution_count": 40,
   "metadata": {
    "execution": {
     "iopub.execute_input": "2023-02-11T12:18:24.031755Z",
     "iopub.status.busy": "2023-02-11T12:18:24.031410Z",
     "iopub.status.idle": "2023-02-11T12:18:24.032773Z",
     "shell.execute_reply": "2023-02-11T12:18:24.033009Z"
    },
    "slideshow": {
     "slide_type": "subslide"
    }
   },
   "outputs": [
    {
     "name": "stdout",
     "output_type": "stream",
     "text": [
      "Dependencies(\n",
      "    data={\n",
      "        ('z', (middle, 1)): set(),\n",
      "        ('y', (middle, 1)): set(),\n",
      "        ('x', (middle, 1)): set(),\n",
      "        ('<test>', (middle, 2)): {('z', (middle, 1)), ('y', (middle, 1))},\n",
      "        ('<test>', (middle, 3)): {('x', (middle, 1)), ('y', (middle, 1))},\n",
      "        ('<test>', (middle, 5)): {('x', (middle, 1)), ('z', (middle, 1))},\n",
      "        ('<middle() return value>', (middle, 6)): {('y', (middle, 1))}},\n",
      " control={\n",
      "        ('z', (middle, 1)): set(),\n",
      "        ('y', (middle, 1)): set(),\n",
      "        ('x', (middle, 1)): set(),\n",
      "        ('<test>', (middle, 2)): set(),\n",
      "        ('<test>', (middle, 3)): {('<test>', (middle, 2))},\n",
      "        ('<test>', (middle, 5)): {('<test>', (middle, 3))},\n",
      "        ('<middle() return value>', (middle, 6)): {('<test>', (middle, 5))}})\n"
     ]
    }
   ],
   "source": [
    "print(repr(middle_deps()))"
   ]
  },
  {
   "cell_type": "markdown",
   "metadata": {
    "slideshow": {
     "slide_type": "subslide"
    }
   },
   "source": [
    "An even more useful representation comes when integrating these dependencies as comments into the code. The method `code(item_1, item_2, ...)` lists the given (function) items, including their dependencies; `code()` lists _all_ functions contained in the dependencies."
   ]
  },
  {
   "cell_type": "code",
   "execution_count": 41,
   "metadata": {
    "execution": {
     "iopub.execute_input": "2023-02-11T12:18:24.038658Z",
     "iopub.status.busy": "2023-02-11T12:18:24.038136Z",
     "iopub.status.idle": "2023-02-11T12:18:24.039419Z",
     "shell.execute_reply": "2023-02-11T12:18:24.039870Z"
    },
    "slideshow": {
     "slide_type": "subslide"
    }
   },
   "outputs": [],
   "source": [
    "class Dependencies(Dependencies):\n",
    "    def code(self, *items: Callable, mode: str = 'cd') -> None:\n",
    "        \"\"\"\n",
    "        List `items` on standard output, including dependencies as comments. \n",
    "        If `items` is empty, all included functions are listed.\n",
    "        `mode` can contain 'c' (draw control dependencies) and 'd' (draw data dependencies)\n",
    "        (default: 'cd').\n",
    "        \"\"\"\n",
    "\n",
    "        if len(items) == 0:\n",
    "            items = cast(Tuple[Callable], self.all_functions().keys())\n",
    "\n",
    "        for i, item in enumerate(items):\n",
    "            if i > 0:\n",
    "                print()\n",
    "            self._code(item, mode)\n",
    "\n",
    "    def _code(self, item: Callable, mode: str) -> None:\n",
    "        # The functions in dependencies may be (instrumented) copies\n",
    "        # of the original function. Find the function with the same name.\n",
    "        func = item\n",
    "        for fn in self.all_functions():\n",
    "            if fn == item or fn.__name__ == item.__name__:\n",
    "                func = fn\n",
    "                break\n",
    "\n",
    "        all_vars = self.all_vars()\n",
    "        slice_locations = set(location for (name, location) in all_vars)\n",
    "\n",
    "        source_lines, first_lineno = inspect.getsourcelines(func)\n",
    "\n",
    "        n = first_lineno\n",
    "        for line in source_lines:\n",
    "            line_location = (func, n)\n",
    "            if line_location in slice_locations:\n",
    "                prefix = \"* \"\n",
    "            else:\n",
    "                prefix = \"  \"\n",
    "\n",
    "            print(f\"{prefix}{n:4} \", end=\"\")\n",
    "\n",
    "            comment = \"\"\n",
    "            for (mode_control, source, arrow) in [\n",
    "                ('d', self.data, '<='),\n",
    "                ('c', self.control, '<-')\n",
    "            ]:\n",
    "                if mode_control not in mode:\n",
    "                    continue\n",
    "\n",
    "                deps = \"\"\n",
    "                for var in source:\n",
    "                    name, location = var\n",
    "                    if location == line_location:\n",
    "                        for dep_var in source[var]:\n",
    "                            if deps == \"\":\n",
    "                                deps = arrow + \" \"\n",
    "                            else:\n",
    "                                deps += \", \"\n",
    "                            deps += self.format_var(dep_var, item)\n",
    "\n",
    "                if deps != \"\":\n",
    "                    if comment != \"\":\n",
    "                        comment += \"; \"\n",
    "                    comment += deps\n",
    "\n",
    "            if comment != \"\":\n",
    "                line = line.rstrip() + \"  # \" + comment\n",
    "\n",
    "            print_content(line.rstrip(), '.py')\n",
    "            print()\n",
    "            n += 1"
   ]
  },
  {
   "cell_type": "markdown",
   "metadata": {
    "slideshow": {
     "slide_type": "subslide"
    }
   },
   "source": [
    "#### End of Excursion"
   ]
  },
  {
   "cell_type": "markdown",
   "metadata": {
    "slideshow": {
     "slide_type": "subslide"
    }
   },
   "source": [
    "The following listing shows such an integration. For each executed line (`*`), we see its data (`<=`) and control (`<-`) dependencies, listing the associated variables and line numbers. The comment\n",
    "\n",
    "```python\n",
    "# <= y (1); <- <test> (5)\n",
    "```\n",
    "\n",
    "for Line 6, for instance, states that the return value is data dependent on the value of `y` in Line 1, and control dependent on the test in Line 5.\n",
    "\n",
    "Again, one can easily follow these dependencies back to track where a value came from (data dependencies) and why a statement was executed (control dependency)."
   ]
  },
  {
   "cell_type": "code",
   "execution_count": 42,
   "metadata": {
    "execution": {
     "iopub.execute_input": "2023-02-11T12:18:24.066886Z",
     "iopub.status.busy": "2023-02-11T12:18:24.041438Z",
     "iopub.status.idle": "2023-02-11T12:18:24.436014Z",
     "shell.execute_reply": "2023-02-11T12:18:24.436447Z"
    },
    "slideshow": {
     "slide_type": "subslide"
    }
   },
   "outputs": [
    {
     "name": "stdout",
     "output_type": "stream",
     "text": [
      "*    1 \u001b[34mdef\u001b[39;49;00m \u001b[32mmiddle\u001b[39;49;00m(x, y, z):  \u001b[37m# type: ignore\u001b[39;49;00m\u001b[37m\u001b[39;49;00m\n",
      "*    2     \u001b[34mif\u001b[39;49;00m y < z:  \u001b[37m# <= z (1), y (1)\u001b[39;49;00m\u001b[37m\u001b[39;49;00m\n",
      "*    3         \u001b[34mif\u001b[39;49;00m x < y:  \u001b[37m# <= x (1), y (1); <- <test> (2)\u001b[39;49;00m\u001b[37m\u001b[39;49;00m\n",
      "     4             \u001b[34mreturn\u001b[39;49;00m y\u001b[37m\u001b[39;49;00m\n",
      "*    5         \u001b[34melif\u001b[39;49;00m x < z:  \u001b[37m# <= x (1), z (1); <- <test> (3)\u001b[39;49;00m\u001b[37m\u001b[39;49;00m\n",
      "*    6             \u001b[34mreturn\u001b[39;49;00m y  \u001b[37m# <= y (1); <- <test> (5)\u001b[39;49;00m\u001b[37m\u001b[39;49;00m\n",
      "     7     \u001b[34melse\u001b[39;49;00m:\u001b[37m\u001b[39;49;00m\n",
      "     8         \u001b[34mif\u001b[39;49;00m x > y:\u001b[37m\u001b[39;49;00m\n",
      "     9             \u001b[34mreturn\u001b[39;49;00m y\u001b[37m\u001b[39;49;00m\n",
      "    10         \u001b[34melif\u001b[39;49;00m x > z:\u001b[37m\u001b[39;49;00m\n",
      "    11             \u001b[34mreturn\u001b[39;49;00m x\u001b[37m\u001b[39;49;00m\n",
      "    12     \u001b[34mreturn\u001b[39;49;00m z\u001b[37m\u001b[39;49;00m\n"
     ]
    }
   ],
   "source": [
    "# ignore\n",
    "middle_deps().code()  # type: ignore"
   ]
  },
  {
   "cell_type": "markdown",
   "metadata": {
    "slideshow": {
     "slide_type": "subslide"
    }
   },
   "source": [
    "One important aspect of dependencies is that they not only point to specific sources and causes of failures – but that they also _rule out_ parts of program and state as failures.\n",
    "\n",
    "* In the above code, Lines 8 and later have no influence on the output, simply because they were not executed.\n",
    "* Furthermore, we see that we can start our investigation with Line 6, because that is the last one executed.\n",
    "* The data dependencies tell us that no statement has interfered with the value of `y` between the function call and its return.\n",
    "* Hence, the error must be in the conditions or the final `return` statement.\n",
    "\n",
    "With this in mind, recall that our original invocation was `middle(2, 1, 3)`. Why and how is the above code wrong?"
   ]
  },
  {
   "cell_type": "code",
   "execution_count": 43,
   "metadata": {
    "execution": {
     "iopub.execute_input": "2023-02-11T12:18:24.441317Z",
     "iopub.status.busy": "2023-02-11T12:18:24.440957Z",
     "iopub.status.idle": "2023-02-11T12:18:24.442568Z",
     "shell.execute_reply": "2023-02-11T12:18:24.442810Z"
    },
    "slideshow": {
     "slide_type": "subslide"
    }
   },
   "outputs": [
    {
     "data": {
      "text/html": [
       "\n",
       "    \n",
       "    <script>\n",
       "    var bad_answers = new Map();\n",
       "\n",
       "    function answer(quiz_id) {\n",
       "        ans = 0;\n",
       "        for (i = 1;; i++) {\n",
       "            checkbox = document.getElementById(quiz_id + \"-\" + i.toString());\n",
       "            if (!checkbox)\n",
       "                break;\n",
       "            if (checkbox.checked)\n",
       "                ans |= (1 << i);\n",
       "        }\n",
       "        return ans;\n",
       "    }\n",
       "    function check_selection(quiz_id, correct_answer, multiple_choice, hint) {\n",
       "        given_answer = answer(quiz_id);\n",
       "        if (given_answer == correct_answer)\n",
       "        {\n",
       "            document.getElementById(quiz_id + \"-submit\").value = \"Correct!\";\n",
       "            document.getElementById(quiz_id + \"-hint\").innerHTML = \"\";\n",
       "\n",
       "            for (i = 1;; i++) {\n",
       "                checkbox = document.getElementById(quiz_id + \"-\" + i.toString());\n",
       "                label = document.getElementById(quiz_id + \"-\" + i.toString() + \"-label\")\n",
       "                if (!checkbox)\n",
       "                    break;\n",
       "    \n",
       "                if (checkbox.checked) {\n",
       "                    label.style.fontWeight = \"bold\";\n",
       "                }\n",
       "                else {\n",
       "                    label.style.textDecoration = \"line-through\";\n",
       "                }\n",
       "            }\n",
       "        }\n",
       "        else \n",
       "        {\n",
       "            document.getElementById(quiz_id + \"-submit\").value = \"Try again\";\n",
       "            \n",
       "            if (!bad_answers.has(quiz_id)) {\n",
       "                bad_answers.set(quiz_id, 1);\n",
       "            }\n",
       "            else {\n",
       "                bad_answers.set(quiz_id, bad_answers.get(quiz_id) + 1);\n",
       "            }\n",
       "\n",
       "            if (bad_answers.get(quiz_id) >= 2 && hint.length > 0) {\n",
       "                document.getElementById(quiz_id + \"-hint\").innerHTML = \n",
       "                    \"&nbsp;&nbsp;(Hint: <code>\" + hint + \"</code>)\";\n",
       "            }\n",
       "\n",
       "            if (!multiple_choice) {\n",
       "                for (i = 1;; i++) {\n",
       "                    checkbox = document.getElementById(quiz_id + \"-\" + i.toString());\n",
       "                    label = document.getElementById(quiz_id + \"-\" + i.toString() + \"-label\")\n",
       "\n",
       "                    if (!checkbox)\n",
       "                        break;\n",
       "                    if (checkbox.checked) {\n",
       "                        label.style.textDecoration = \"line-through\";\n",
       "                    }\n",
       "                }\n",
       "            }\n",
       "        }\n",
       "    }\n",
       "    function clear_selection(quiz_id) {\n",
       "        document.getElementById(quiz_id + \"-submit\").value = \"Submit\";\n",
       "        document.getElementById(quiz_id + \"-hint\").innerHTML = \"\";\n",
       "    }\n",
       "    </script>\n",
       "    \n",
       "    <div class=\"quiz\">\n",
       "    <h3 class=\"quiz_title\">Quiz</h3>\n",
       "    <p>\n",
       "    <div class=\"quiz_question\">Which of the following <code>middle()</code> code lines should be fixed?</div>\n",
       "    </p>\n",
       "    <p>\n",
       "    <div class=\"quiz_options\" title=\"Pick a choice.\">\n",
       "    \n",
       "        <input type=\"radio\" name=\"2e7639c8-aa06-11ed-942b-6298cf1a578f\" id=\"2e7639c8-aa06-11ed-942b-6298cf1a578f-1\" onclick=\"clear_selection('2e7639c8-aa06-11ed-942b-6298cf1a578f')\">\n",
       "        <label id=\"2e7639c8-aa06-11ed-942b-6298cf1a578f-1-label\" for=\"2e7639c8-aa06-11ed-942b-6298cf1a578f-1\">Line 2: <code>if y &lt; z:</code></label><br>\n",
       "    \n",
       "        <input type=\"radio\" name=\"2e7639c8-aa06-11ed-942b-6298cf1a578f\" id=\"2e7639c8-aa06-11ed-942b-6298cf1a578f-2\" onclick=\"clear_selection('2e7639c8-aa06-11ed-942b-6298cf1a578f')\">\n",
       "        <label id=\"2e7639c8-aa06-11ed-942b-6298cf1a578f-2-label\" for=\"2e7639c8-aa06-11ed-942b-6298cf1a578f-2\">Line 3: <code>if x &lt; y:</code></label><br>\n",
       "    \n",
       "        <input type=\"radio\" name=\"2e7639c8-aa06-11ed-942b-6298cf1a578f\" id=\"2e7639c8-aa06-11ed-942b-6298cf1a578f-3\" onclick=\"clear_selection('2e7639c8-aa06-11ed-942b-6298cf1a578f')\">\n",
       "        <label id=\"2e7639c8-aa06-11ed-942b-6298cf1a578f-3-label\" for=\"2e7639c8-aa06-11ed-942b-6298cf1a578f-3\">Line 5: <code>elif x &lt; z:</code></label><br>\n",
       "    \n",
       "        <input type=\"radio\" name=\"2e7639c8-aa06-11ed-942b-6298cf1a578f\" id=\"2e7639c8-aa06-11ed-942b-6298cf1a578f-4\" onclick=\"clear_selection('2e7639c8-aa06-11ed-942b-6298cf1a578f')\">\n",
       "        <label id=\"2e7639c8-aa06-11ed-942b-6298cf1a578f-4-label\" for=\"2e7639c8-aa06-11ed-942b-6298cf1a578f-4\">Line 6: <code>return z</code></label><br>\n",
       "    \n",
       "    </div>\n",
       "    </p>\n",
       "    <input id=\"2e7639c8-aa06-11ed-942b-6298cf1a578f-submit\" type=\"submit\" value=\"Submit\" onclick=\"check_selection('2e7639c8-aa06-11ed-942b-6298cf1a578f', 16, 0, '(1 ** 0 + 1 ** 1) ** (1 ** 2 + 1 ** 3)')\">\n",
       "    <span class=\"quiz_hint\" id=\"2e7639c8-aa06-11ed-942b-6298cf1a578f-hint\"></span>\n",
       "    </div>\n",
       "    "
      ],
      "text/plain": [
       "<IPython.core.display.HTML object>"
      ]
     },
     "execution_count": 43,
     "metadata": {},
     "output_type": "execute_result"
    }
   ],
   "source": [
    "quiz(\"Which of the following `middle()` code lines should be fixed?\",\n",
    "    [\n",
    "        \"Line 2: `if y < z:`\",\n",
    "        \"Line 3: `if x < y:`\",\n",
    "        \"Line 5: `elif x < z:`\",\n",
    "        \"Line 6: `return z`\",\n",
    "    ], '(1 ** 0 + 1 ** 1) ** (1 ** 2 + 1 ** 3)')"
   ]
  },
  {
   "cell_type": "markdown",
   "metadata": {
    "slideshow": {
     "slide_type": "fragment"
    }
   },
   "source": [
    "Indeed, from the controlling conditions, we see that `y < z`, `x >= y`, and `x < z` all hold. Hence, `y <= x < z` holds, and it is `x`, not `y`, that should be returned."
   ]
  },
  {
   "cell_type": "markdown",
   "metadata": {
    "slideshow": {
     "slide_type": "slide"
    }
   },
   "source": [
    "## Slices\n",
    "\n",
    "Given a dependency graph for a particular variable, we can identify the subset of the program that could have influenced it – the so-called _slice_. In the above code listing, these code locations are highlighted with `*` characters. Only these locations are part of the slice."
   ]
  },
  {
   "attachments": {},
   "cell_type": "markdown",
   "metadata": {
    "slideshow": {
     "slide_type": "subslide"
    }
   },
   "source": [
    "Slices are central to debugging for two reasons:\n",
    "\n",
    "* First, they _rule out_ those locations of the program that could _not_ have an effect on the failure. Hence, these locations need not be investigated as it comes to searching for the defect. Nor do they need to be considered for a fix, as any change outside the program slice by construction cannot affect the failure.\n",
    "* Second, they bring together possible origins that may be scattered across the code. Many dependencies in program code are _non-local_, with references to functions, classes, and modules defined in other locations, files, or libraries. A slice brings together all those locations in a single whole."
   ]
  },
  {
   "cell_type": "markdown",
   "metadata": {
    "slideshow": {
     "slide_type": "subslide"
    }
   },
   "source": [
    "Here is an example of a slice – this time for our well-known `remove_html_markup()` function from [the introduction to debugging](Intro_Debugging.ipynb):"
   ]
  },
  {
   "cell_type": "code",
   "execution_count": 44,
   "metadata": {
    "execution": {
     "iopub.execute_input": "2023-02-11T12:18:24.444931Z",
     "iopub.status.busy": "2023-02-11T12:18:24.444589Z",
     "iopub.status.idle": "2023-02-11T12:18:24.445735Z",
     "shell.execute_reply": "2023-02-11T12:18:24.446064Z"
    },
    "slideshow": {
     "slide_type": "skip"
    }
   },
   "outputs": [],
   "source": [
    "from Intro_Debugging import remove_html_markup"
   ]
  },
  {
   "cell_type": "code",
   "execution_count": 45,
   "metadata": {
    "execution": {
     "iopub.execute_input": "2023-02-11T12:18:24.470240Z",
     "iopub.status.busy": "2023-02-11T12:18:24.447179Z",
     "iopub.status.idle": "2023-02-11T12:18:24.480729Z",
     "shell.execute_reply": "2023-02-11T12:18:24.481034Z"
    },
    "slideshow": {
     "slide_type": "subslide"
    }
   },
   "outputs": [
    {
     "name": "stdout",
     "output_type": "stream",
     "text": [
      "\u001b[34mdef\u001b[39;49;00m \u001b[32mremove_html_markup\u001b[39;49;00m(s):  \u001b[37m# type: ignore\u001b[39;49;00m\u001b[37m\u001b[39;49;00m\n",
      "    tag = \u001b[34mFalse\u001b[39;49;00m\u001b[37m\u001b[39;49;00m\n",
      "    quote = \u001b[34mFalse\u001b[39;49;00m\u001b[37m\u001b[39;49;00m\n",
      "    out = \u001b[33m\"\u001b[39;49;00m\u001b[33m\"\u001b[39;49;00m\u001b[37m\u001b[39;49;00m\n",
      "\u001b[37m\u001b[39;49;00m\n",
      "    \u001b[34mfor\u001b[39;49;00m c \u001b[35min\u001b[39;49;00m s:\u001b[37m\u001b[39;49;00m\n",
      "        \u001b[34massert\u001b[39;49;00m tag \u001b[35mor\u001b[39;49;00m \u001b[35mnot\u001b[39;49;00m quote\u001b[37m\u001b[39;49;00m\n",
      "\u001b[37m\u001b[39;49;00m\n",
      "        \u001b[34mif\u001b[39;49;00m c == \u001b[33m'\u001b[39;49;00m\u001b[33m<\u001b[39;49;00m\u001b[33m'\u001b[39;49;00m \u001b[35mand\u001b[39;49;00m \u001b[35mnot\u001b[39;49;00m quote:\u001b[37m\u001b[39;49;00m\n",
      "            tag = \u001b[34mTrue\u001b[39;49;00m\u001b[37m\u001b[39;49;00m\n",
      "        \u001b[34melif\u001b[39;49;00m c == \u001b[33m'\u001b[39;49;00m\u001b[33m>\u001b[39;49;00m\u001b[33m'\u001b[39;49;00m \u001b[35mand\u001b[39;49;00m \u001b[35mnot\u001b[39;49;00m quote:\u001b[37m\u001b[39;49;00m\n",
      "            tag = \u001b[34mFalse\u001b[39;49;00m\u001b[37m\u001b[39;49;00m\n",
      "        \u001b[34melif\u001b[39;49;00m (c == \u001b[33m'\u001b[39;49;00m\u001b[33m\"\u001b[39;49;00m\u001b[33m'\u001b[39;49;00m \u001b[35mor\u001b[39;49;00m c == \u001b[33m\"\u001b[39;49;00m\u001b[33m'\u001b[39;49;00m\u001b[33m\"\u001b[39;49;00m) \u001b[35mand\u001b[39;49;00m tag:\u001b[37m\u001b[39;49;00m\n",
      "            quote = \u001b[35mnot\u001b[39;49;00m quote\u001b[37m\u001b[39;49;00m\n",
      "        \u001b[34melif\u001b[39;49;00m \u001b[35mnot\u001b[39;49;00m tag:\u001b[37m\u001b[39;49;00m\n",
      "            out = out + c\u001b[37m\u001b[39;49;00m\n",
      "\u001b[37m\u001b[39;49;00m\n",
      "    \u001b[34mreturn\u001b[39;49;00m out\u001b[37m\u001b[39;49;00m"
     ]
    }
   ],
   "source": [
    "print_content(inspect.getsource(remove_html_markup), '.py')"
   ]
  },
  {
   "cell_type": "markdown",
   "metadata": {
    "slideshow": {
     "slide_type": "subslide"
    }
   },
   "source": [
    "When we invoke `remove_html_markup()` as follows..."
   ]
  },
  {
   "cell_type": "code",
   "execution_count": 46,
   "metadata": {
    "execution": {
     "iopub.execute_input": "2023-02-11T12:18:24.483785Z",
     "iopub.status.busy": "2023-02-11T12:18:24.483435Z",
     "iopub.status.idle": "2023-02-11T12:18:24.485009Z",
     "shell.execute_reply": "2023-02-11T12:18:24.485201Z"
    },
    "slideshow": {
     "slide_type": "fragment"
    }
   },
   "outputs": [
    {
     "data": {
      "text/plain": [
       "'bar'"
      ]
     },
     "execution_count": 46,
     "metadata": {},
     "output_type": "execute_result"
    }
   ],
   "source": [
    "remove_html_markup('<foo>bar</foo>')"
   ]
  },
  {
   "cell_type": "markdown",
   "metadata": {
    "slideshow": {
     "slide_type": "fragment"
    }
   },
   "source": [
    "... we obtain the following dependencies:"
   ]
  },
  {
   "cell_type": "code",
   "execution_count": 47,
   "metadata": {
    "execution": {
     "iopub.execute_input": "2023-02-11T12:18:24.490666Z",
     "iopub.status.busy": "2023-02-11T12:18:24.490329Z",
     "iopub.status.idle": "2023-02-11T12:18:24.491532Z",
     "shell.execute_reply": "2023-02-11T12:18:24.491806Z"
    },
    "slideshow": {
     "slide_type": "fragment"
    }
   },
   "outputs": [],
   "source": [
    "# ignore\n",
    "def remove_html_markup_deps() -> Dependencies:\n",
    "    return Dependencies({('s', (remove_html_markup, 136)): set(), ('tag', (remove_html_markup, 137)): set(), ('quote', (remove_html_markup, 138)): set(), ('out', (remove_html_markup, 139)): set(), ('c', (remove_html_markup, 141)): {('s', (remove_html_markup, 136))}, ('<test>', (remove_html_markup, 144)): {('quote', (remove_html_markup, 138)), ('c', (remove_html_markup, 141))}, ('tag', (remove_html_markup, 145)): set(), ('<test>', (remove_html_markup, 146)): {('quote', (remove_html_markup, 138)), ('c', (remove_html_markup, 141))}, ('<test>', (remove_html_markup, 148)): {('c', (remove_html_markup, 141))}, ('<test>', (remove_html_markup, 150)): {('tag', (remove_html_markup, 147)), ('tag', (remove_html_markup, 145))}, ('tag', (remove_html_markup, 147)): set(), ('out', (remove_html_markup, 151)): {('out', (remove_html_markup, 151)), ('c', (remove_html_markup, 141)), ('out', (remove_html_markup, 139))}, ('<remove_html_markup() return value>', (remove_html_markup, 153)): {('<test>', (remove_html_markup, 146)), ('out', (remove_html_markup, 151))}}, {('s', (remove_html_markup, 136)): set(), ('tag', (remove_html_markup, 137)): set(), ('quote', (remove_html_markup, 138)): set(), ('out', (remove_html_markup, 139)): set(), ('c', (remove_html_markup, 141)): set(), ('<test>', (remove_html_markup, 144)): set(), ('tag', (remove_html_markup, 145)): {('<test>', (remove_html_markup, 144))}, ('<test>', (remove_html_markup, 146)): {('<test>', (remove_html_markup, 144))}, ('<test>', (remove_html_markup, 148)): {('<test>', (remove_html_markup, 146))}, ('<test>', (remove_html_markup, 150)): {('<test>', (remove_html_markup, 148))}, ('tag', (remove_html_markup, 147)): {('<test>', (remove_html_markup, 146))}, ('out', (remove_html_markup, 151)): {('<test>', (remove_html_markup, 150))}, ('<remove_html_markup() return value>', (remove_html_markup, 153)): set()})"
   ]
  },
  {
   "cell_type": "code",
   "execution_count": 48,
   "metadata": {
    "execution": {
     "iopub.execute_input": "2023-02-11T12:18:24.502188Z",
     "iopub.status.busy": "2023-02-11T12:18:24.501867Z",
     "iopub.status.idle": "2023-02-11T12:18:24.777182Z",
     "shell.execute_reply": "2023-02-11T12:18:24.777529Z"
    },
    "slideshow": {
     "slide_type": "fragment"
    }
   },
   "outputs": [
    {
     "data": {
      "image/svg+xml": [
       "<?xml version=\"1.0\" encoding=\"UTF-8\" standalone=\"no\"?>\n",
       "<!DOCTYPE svg PUBLIC \"-//W3C//DTD SVG 1.1//EN\"\n",
       " \"http://www.w3.org/Graphics/SVG/1.1/DTD/svg11.dtd\">\n",
       "<!-- Generated by graphviz version 7.0.2 (20221119.0110)\n",
       " -->\n",
       "<!-- Title: dependencies Pages: 1 -->\n",
       "<svg width=\"395pt\" height=\"960pt\"\n",
       " viewBox=\"0.00 0.00 395.04 960.00\" xmlns=\"http://www.w3.org/2000/svg\" xmlns:xlink=\"http://www.w3.org/1999/xlink\">\n",
       "<g id=\"graph0\" class=\"graph\" transform=\"scale(1 1) rotate(0) translate(4 956)\">\n",
       "<title>dependencies</title>\n",
       "<polygon fill=\"white\" stroke=\"none\" points=\"-4,4 -4,-956 391.04,-956 391.04,4 -4,4\"/>\n",
       "<!-- test_functionremove_html_markupat0x105d39d80_144 -->\n",
       "<g id=\"node1\" class=\"node\">\n",
       "<title>test_functionremove_html_markupat0x105d39d80_144</title>\n",
       "<g id=\"a_node1\"><a xlink:title=\"remove_html_markup:144\">\n",
       "<polygon fill=\"peachpuff\" stroke=\"black\" points=\"255.04,-572 123.04,-572 123.04,-532 255.04,-532 255.04,-572\"/>\n",
       "<text text-anchor=\"start\" x=\"164.04\" y=\"-557.8\" font-family=\"Courier,monospace\" font-weight=\"bold\" font-style=\"italic\" font-size=\"14.00\">&lt;test&gt;</text>\n",
       "<text text-anchor=\"start\" x=\"131.04\" y=\"-538.8\" font-family=\"Courier,monospace\" font-size=\"9.00\">&lt;remove_html_markup()&gt;</text>\n",
       "</a>\n",
       "</g>\n",
       "</g>\n",
       "<!-- test_functionremove_html_markupat0x105d39d80_146 -->\n",
       "<g id=\"node5\" class=\"node\">\n",
       "<title>test_functionremove_html_markupat0x105d39d80_146</title>\n",
       "<g id=\"a_node5\"><a xlink:title=\"remove_html_markup:146\">\n",
       "<polygon fill=\"peachpuff\" stroke=\"black\" points=\"161.04,-420 29.04,-420 29.04,-380 161.04,-380 161.04,-420\"/>\n",
       "<text text-anchor=\"start\" x=\"70.04\" y=\"-405.8\" font-family=\"Courier,monospace\" font-weight=\"bold\" font-style=\"italic\" font-size=\"14.00\">&lt;test&gt;</text>\n",
       "<text text-anchor=\"start\" x=\"37.04\" y=\"-386.8\" font-family=\"Courier,monospace\" font-size=\"9.00\">&lt;remove_html_markup()&gt;</text>\n",
       "</a>\n",
       "</g>\n",
       "</g>\n",
       "<!-- test_functionremove_html_markupat0x105d39d80_144&#45;&gt;test_functionremove_html_markupat0x105d39d80_146 -->\n",
       "<g id=\"edge12\" class=\"edge\">\n",
       "<title>test_functionremove_html_markupat0x105d39d80_144&#45;&gt;test_functionremove_html_markupat0x105d39d80_146</title>\n",
       "<path fill=\"none\" stroke=\"grey\" stroke-dasharray=\"5,2\" d=\"M151.83,-531.6C137.95,-522.57 123.33,-510.57 114.04,-496 101.83,-476.86 97.21,-451.49 95.58,-431.78\"/>\n",
       "<polygon fill=\"grey\" stroke=\"grey\" points=\"99.07,-431.64 94.99,-421.86 92.09,-432.05 99.07,-431.64\"/>\n",
       "</g>\n",
       "<!-- tag_functionremove_html_markupat0x105d39d80_145 -->\n",
       "<g id=\"node12\" class=\"node\">\n",
       "<title>tag_functionremove_html_markupat0x105d39d80_145</title>\n",
       "<g id=\"a_node12\"><a xlink:title=\"remove_html_markup:145\">\n",
       "<polygon fill=\"peachpuff\" stroke=\"black\" points=\"255.04,-496 123.04,-496 123.04,-456 255.04,-456 255.04,-496\"/>\n",
       "<text text-anchor=\"start\" x=\"176.54\" y=\"-481.8\" font-family=\"Courier,monospace\" font-weight=\"bold\" font-size=\"14.00\">tag</text>\n",
       "<text text-anchor=\"start\" x=\"131.04\" y=\"-462.8\" font-family=\"Courier,monospace\" font-size=\"9.00\">&lt;remove_html_markup()&gt;</text>\n",
       "</a>\n",
       "</g>\n",
       "</g>\n",
       "<!-- test_functionremove_html_markupat0x105d39d80_144&#45;&gt;tag_functionremove_html_markupat0x105d39d80_145 -->\n",
       "<g id=\"edge19\" class=\"edge\">\n",
       "<title>test_functionremove_html_markupat0x105d39d80_144&#45;&gt;tag_functionremove_html_markupat0x105d39d80_145</title>\n",
       "<path fill=\"none\" stroke=\"grey\" stroke-dasharray=\"5,2\" d=\"M183.02,-531.56C182.36,-524.25 182.15,-515.75 182.38,-507.67\"/>\n",
       "<polygon fill=\"grey\" stroke=\"grey\" points=\"185.86,-508.01 182.94,-497.82 178.87,-507.61 185.86,-508.01\"/>\n",
       "</g>\n",
       "<!-- test_functionremove_html_markupat0x105d39d80_144&#45;&gt;tag_functionremove_html_markupat0x105d39d80_145 -->\n",
       "<!-- quote_functionremove_html_markupat0x105d39d80_138 -->\n",
       "<g id=\"node2\" class=\"node\">\n",
       "<title>quote_functionremove_html_markupat0x105d39d80_138</title>\n",
       "<g id=\"a_node2\"><a xlink:title=\"remove_html_markup:138\">\n",
       "<polygon fill=\"peachpuff\" stroke=\"black\" points=\"199.04,-800 67.04,-800 67.04,-760 199.04,-760 199.04,-800\"/>\n",
       "<text text-anchor=\"start\" x=\"112.04\" y=\"-785.8\" font-family=\"Courier,monospace\" font-weight=\"bold\" font-size=\"14.00\">quote</text>\n",
       "<text text-anchor=\"start\" x=\"75.04\" y=\"-766.8\" font-family=\"Courier,monospace\" font-size=\"9.00\">&lt;remove_html_markup()&gt;</text>\n",
       "</a>\n",
       "</g>\n",
       "</g>\n",
       "<!-- quote_functionremove_html_markupat0x105d39d80_138&#45;&gt;test_functionremove_html_markupat0x105d39d80_144 -->\n",
       "<g id=\"edge1\" class=\"edge\">\n",
       "<title>quote_functionremove_html_markupat0x105d39d80_138&#45;&gt;test_functionremove_html_markupat0x105d39d80_144</title>\n",
       "<path fill=\"none\" stroke=\"black\" d=\"M132.24,-759.6C131.54,-727.15 132.86,-660.3 152.04,-608 155.39,-598.86 160.57,-589.75 166,-581.66\"/>\n",
       "<polygon fill=\"black\" stroke=\"black\" points=\"168.8,-583.75 171.76,-573.58 163.1,-579.69 168.8,-583.75\"/>\n",
       "</g>\n",
       "<!-- quote_functionremove_html_markupat0x105d39d80_138&#45;&gt;test_functionremove_html_markupat0x105d39d80_146 -->\n",
       "<g id=\"edge10\" class=\"edge\">\n",
       "<title>quote_functionremove_html_markupat0x105d39d80_138&#45;&gt;test_functionremove_html_markupat0x105d39d80_146</title>\n",
       "<path fill=\"none\" stroke=\"black\" d=\"M104.57,-759.54C70.8,-733.91 19.04,-685.42 19.04,-629 19.04,-629 19.04,-629 19.04,-551 19.04,-504.37 48.62,-457.54 70.87,-428.91\"/>\n",
       "<polygon fill=\"black\" stroke=\"black\" points=\"73.32,-431.45 76.85,-421.46 67.86,-427.07 73.32,-431.45\"/>\n",
       "</g>\n",
       "<!-- out_functionremove_html_markupat0x105d39d80_139 -->\n",
       "<g id=\"node9\" class=\"node\">\n",
       "<title>out_functionremove_html_markupat0x105d39d80_139</title>\n",
       "<g id=\"a_node9\"><a xlink:title=\"remove_html_markup:139\">\n",
       "<polygon fill=\"peachpuff\" stroke=\"black\" points=\"387.04,-724 255.04,-724 255.04,-684 387.04,-684 387.04,-724\"/>\n",
       "<text text-anchor=\"start\" x=\"308.54\" y=\"-709.8\" font-family=\"Courier,monospace\" font-weight=\"bold\" font-size=\"14.00\">out</text>\n",
       "<text text-anchor=\"start\" x=\"263.04\" y=\"-690.8\" font-family=\"Courier,monospace\" font-size=\"9.00\">&lt;remove_html_markup()&gt;</text>\n",
       "</a>\n",
       "</g>\n",
       "</g>\n",
       "<!-- quote_functionremove_html_markupat0x105d39d80_138&#45;&gt;out_functionremove_html_markupat0x105d39d80_139 -->\n",
       "<!-- c_functionremove_html_markupat0x105d39d80_141 -->\n",
       "<g id=\"node3\" class=\"node\">\n",
       "<title>c_functionremove_html_markupat0x105d39d80_141</title>\n",
       "<g id=\"a_node3\"><a xlink:title=\"remove_html_markup:141\">\n",
       "<polygon fill=\"peachpuff\" stroke=\"black\" points=\"293.04,-648 161.04,-648 161.04,-608 293.04,-608 293.04,-648\"/>\n",
       "<text text-anchor=\"start\" x=\"222.54\" y=\"-633.8\" font-family=\"Courier,monospace\" font-weight=\"bold\" font-size=\"14.00\">c</text>\n",
       "<text text-anchor=\"start\" x=\"169.04\" y=\"-614.8\" font-family=\"Courier,monospace\" font-size=\"9.00\">&lt;remove_html_markup()&gt;</text>\n",
       "</a>\n",
       "</g>\n",
       "</g>\n",
       "<!-- c_functionremove_html_markupat0x105d39d80_141&#45;&gt;test_functionremove_html_markupat0x105d39d80_144 -->\n",
       "<g id=\"edge2\" class=\"edge\">\n",
       "<title>c_functionremove_html_markupat0x105d39d80_141&#45;&gt;test_functionremove_html_markupat0x105d39d80_144</title>\n",
       "<path fill=\"none\" stroke=\"black\" d=\"M211.03,-607.56C206.42,-599.91 201.62,-590.96 197.58,-582.55\"/>\n",
       "<polygon fill=\"black\" stroke=\"black\" points=\"200.89,-581.35 193.57,-573.69 194.51,-584.24 200.89,-581.35\"/>\n",
       "</g>\n",
       "<!-- c_functionremove_html_markupat0x105d39d80_141&#45;&gt;test_functionremove_html_markupat0x105d39d80_144 -->\n",
       "<!-- c_functionremove_html_markupat0x105d39d80_141&#45;&gt;test_functionremove_html_markupat0x105d39d80_146 -->\n",
       "<g id=\"edge11\" class=\"edge\">\n",
       "<title>c_functionremove_html_markupat0x105d39d80_141&#45;&gt;test_functionremove_html_markupat0x105d39d80_146</title>\n",
       "<path fill=\"none\" stroke=\"black\" d=\"M163.19,-607.53C145.03,-599.2 126.75,-587.68 114.04,-572 81.78,-532.22 84.21,-469.03 89.33,-431.62\"/>\n",
       "<polygon fill=\"black\" stroke=\"black\" points=\"92.76,-432.36 90.82,-421.94 85.84,-431.3 92.76,-432.36\"/>\n",
       "</g>\n",
       "<!-- test_functionremove_html_markupat0x105d39d80_148 -->\n",
       "<g id=\"node7\" class=\"node\">\n",
       "<title>test_functionremove_html_markupat0x105d39d80_148</title>\n",
       "<g id=\"a_node7\"><a xlink:title=\"remove_html_markup:148\">\n",
       "<polygon fill=\"peachpuff\" stroke=\"black\" points=\"255.04,-268 123.04,-268 123.04,-228 255.04,-228 255.04,-268\"/>\n",
       "<text text-anchor=\"start\" x=\"164.04\" y=\"-253.8\" font-family=\"Courier,monospace\" font-weight=\"bold\" font-style=\"italic\" font-size=\"14.00\">&lt;test&gt;</text>\n",
       "<text text-anchor=\"start\" x=\"131.04\" y=\"-234.8\" font-family=\"Courier,monospace\" font-size=\"9.00\">&lt;remove_html_markup()&gt;</text>\n",
       "</a>\n",
       "</g>\n",
       "</g>\n",
       "<!-- c_functionremove_html_markupat0x105d39d80_141&#45;&gt;test_functionremove_html_markupat0x105d39d80_148 -->\n",
       "<g id=\"edge4\" class=\"edge\">\n",
       "<title>c_functionremove_html_markupat0x105d39d80_141&#45;&gt;test_functionremove_html_markupat0x105d39d80_148</title>\n",
       "<path fill=\"none\" stroke=\"black\" d=\"M244.25,-607.61C251.91,-597.69 260.08,-584.99 264.04,-572 279.08,-522.69 272.95,-506.78 264.04,-456 252.5,-390.27 221.82,-317.92 203.47,-278.55\"/>\n",
       "<polygon fill=\"black\" stroke=\"black\" points=\"206.73,-277.26 199.29,-269.72 200.4,-280.26 206.73,-277.26\"/>\n",
       "</g>\n",
       "<!-- out_functionremove_html_markupat0x105d39d80_151 -->\n",
       "<g id=\"node8\" class=\"node\">\n",
       "<title>out_functionremove_html_markupat0x105d39d80_151</title>\n",
       "<g id=\"a_node8\"><a xlink:title=\"remove_html_markup:151\">\n",
       "<polygon fill=\"peachpuff\" stroke=\"black\" points=\"255.04,-116 123.04,-116 123.04,-76 255.04,-76 255.04,-116\"/>\n",
       "<text text-anchor=\"start\" x=\"176.54\" y=\"-101.8\" font-family=\"Courier,monospace\" font-weight=\"bold\" font-size=\"14.00\">out</text>\n",
       "<text text-anchor=\"start\" x=\"131.04\" y=\"-82.8\" font-family=\"Courier,monospace\" font-size=\"9.00\">&lt;remove_html_markup()&gt;</text>\n",
       "</a>\n",
       "</g>\n",
       "</g>\n",
       "<!-- c_functionremove_html_markupat0x105d39d80_141&#45;&gt;out_functionremove_html_markupat0x105d39d80_151 -->\n",
       "<g id=\"edge7\" class=\"edge\">\n",
       "<title>c_functionremove_html_markupat0x105d39d80_141&#45;&gt;out_functionremove_html_markupat0x105d39d80_151</title>\n",
       "<path fill=\"none\" stroke=\"black\" d=\"M250.33,-607.59C261.04,-597.77 273.28,-585.15 282.04,-572 307.34,-534.01 321.04,-522.64 321.04,-477 321.04,-477 321.04,-477 321.04,-247 321.04,-192.64 271.57,-148.62 233.2,-122.65\"/>\n",
       "<polygon fill=\"black\" stroke=\"black\" points=\"235.27,-119.82 224.99,-117.27 231.43,-125.68 235.27,-119.82\"/>\n",
       "</g>\n",
       "<!-- tag_functionremove_html_markupat0x105d39d80_147 -->\n",
       "<g id=\"node4\" class=\"node\">\n",
       "<title>tag_functionremove_html_markupat0x105d39d80_147</title>\n",
       "<g id=\"a_node4\"><a xlink:title=\"remove_html_markup:147\">\n",
       "<polygon fill=\"peachpuff\" stroke=\"black\" points=\"161.04,-344 29.04,-344 29.04,-304 161.04,-304 161.04,-344\"/>\n",
       "<text text-anchor=\"start\" x=\"82.54\" y=\"-329.8\" font-family=\"Courier,monospace\" font-weight=\"bold\" font-size=\"14.00\">tag</text>\n",
       "<text text-anchor=\"start\" x=\"37.04\" y=\"-310.8\" font-family=\"Courier,monospace\" font-size=\"9.00\">&lt;remove_html_markup()&gt;</text>\n",
       "</a>\n",
       "</g>\n",
       "</g>\n",
       "<!-- tag_functionremove_html_markupat0x105d39d80_147&#45;&gt;test_functionremove_html_markupat0x105d39d80_148 -->\n",
       "<!-- test_functionremove_html_markupat0x105d39d80_150 -->\n",
       "<g id=\"node10\" class=\"node\">\n",
       "<title>test_functionremove_html_markupat0x105d39d80_150</title>\n",
       "<g id=\"a_node10\"><a xlink:title=\"remove_html_markup:150\">\n",
       "<polygon fill=\"peachpuff\" stroke=\"black\" points=\"255.04,-192 123.04,-192 123.04,-152 255.04,-152 255.04,-192\"/>\n",
       "<text text-anchor=\"start\" x=\"164.04\" y=\"-177.8\" font-family=\"Courier,monospace\" font-weight=\"bold\" font-style=\"italic\" font-size=\"14.00\">&lt;test&gt;</text>\n",
       "<text text-anchor=\"start\" x=\"131.04\" y=\"-158.8\" font-family=\"Courier,monospace\" font-size=\"9.00\">&lt;remove_html_markup()&gt;</text>\n",
       "</a>\n",
       "</g>\n",
       "</g>\n",
       "<!-- tag_functionremove_html_markupat0x105d39d80_147&#45;&gt;test_functionremove_html_markupat0x105d39d80_150 -->\n",
       "<g id=\"edge13\" class=\"edge\">\n",
       "<title>tag_functionremove_html_markupat0x105d39d80_147&#45;&gt;test_functionremove_html_markupat0x105d39d80_150</title>\n",
       "<path fill=\"none\" stroke=\"black\" d=\"M94.9,-303.65C95.62,-283.31 99.3,-251.12 114.04,-228 121.3,-216.62 131.81,-206.81 142.68,-198.75\"/>\n",
       "<polygon fill=\"black\" stroke=\"black\" points=\"144.37,-201.84 150.59,-193.27 140.38,-196.09 144.37,-201.84\"/>\n",
       "</g>\n",
       "<!-- test_functionremove_html_markupat0x105d39d80_146&#45;&gt;tag_functionremove_html_markupat0x105d39d80_147 -->\n",
       "<g id=\"edge3\" class=\"edge\">\n",
       "<title>test_functionremove_html_markupat0x105d39d80_146&#45;&gt;tag_functionremove_html_markupat0x105d39d80_147</title>\n",
       "<path fill=\"none\" stroke=\"grey\" stroke-dasharray=\"5,2\" d=\"M89.02,-379.56C88.36,-372.25 88.15,-363.75 88.38,-355.67\"/>\n",
       "<polygon fill=\"grey\" stroke=\"grey\" points=\"91.86,-356.01 88.94,-345.82 84.87,-355.61 91.86,-356.01\"/>\n",
       "</g>\n",
       "<!-- test_functionremove_html_markupat0x105d39d80_146&#45;&gt;tag_functionremove_html_markupat0x105d39d80_147 -->\n",
       "<!-- test_functionremove_html_markupat0x105d39d80_146&#45;&gt;test_functionremove_html_markupat0x105d39d80_148 -->\n",
       "<g id=\"edge5\" class=\"edge\">\n",
       "<title>test_functionremove_html_markupat0x105d39d80_146&#45;&gt;test_functionremove_html_markupat0x105d39d80_148</title>\n",
       "<path fill=\"none\" stroke=\"grey\" stroke-dasharray=\"5,2\" d=\"M132.24,-379.6C146.12,-370.57 160.75,-358.57 170.04,-344 182.25,-324.86 186.86,-299.49 188.5,-279.78\"/>\n",
       "<polygon fill=\"grey\" stroke=\"grey\" points=\"191.99,-280.05 189.09,-269.86 185,-279.64 191.99,-280.05\"/>\n",
       "</g>\n",
       "<!-- remove_html_markupreturnvalue_functionremove_html_markupat0x105d39d80_153 -->\n",
       "<g id=\"node13\" class=\"node\">\n",
       "<title>remove_html_markupreturnvalue_functionremove_html_markupat0x105d39d80_153</title>\n",
       "<g id=\"a_node13\"><a xlink:title=\"remove_html_markup:153\">\n",
       "<polygon fill=\"peachpuff\" stroke=\"black\" points=\"341.54,-40 36.54,-40 36.54,0 341.54,0 341.54,-40\"/>\n",
       "<text text-anchor=\"start\" x=\"44.54\" y=\"-25.8\" font-family=\"Courier,monospace\" font-weight=\"bold\" font-style=\"italic\" font-size=\"14.00\">&lt;remove_html_markup() return value&gt;</text>\n",
       "<text text-anchor=\"start\" x=\"131.04\" y=\"-6.8\" font-family=\"Courier,monospace\" font-size=\"9.00\">&lt;remove_html_markup()&gt;</text>\n",
       "</a>\n",
       "</g>\n",
       "</g>\n",
       "<!-- test_functionremove_html_markupat0x105d39d80_146&#45;&gt;remove_html_markupreturnvalue_functionremove_html_markupat0x105d39d80_153 -->\n",
       "<g id=\"edge17\" class=\"edge\">\n",
       "<title>test_functionremove_html_markupat0x105d39d80_146&#45;&gt;remove_html_markupreturnvalue_functionremove_html_markupat0x105d39d80_153</title>\n",
       "<path fill=\"none\" stroke=\"black\" d=\"M57.83,-379.6C43.95,-370.57 29.33,-358.57 20.04,-344 -3.11,-307.7 1.04,-292.06 1.04,-249 1.04,-249 1.04,-249 1.04,-171 1.04,-108.56 65.18,-67.89 118.53,-44.86\"/>\n",
       "<polygon fill=\"black\" stroke=\"black\" points=\"119.75,-48.14 127.64,-41.07 117.06,-41.68 119.75,-48.14\"/>\n",
       "</g>\n",
       "<!-- s_functionremove_html_markupat0x105d39d80_136 -->\n",
       "<g id=\"node6\" class=\"node\">\n",
       "<title>s_functionremove_html_markupat0x105d39d80_136</title>\n",
       "<g id=\"a_node6\"><a xlink:title=\"remove_html_markup:136\">\n",
       "<polygon fill=\"peachpuff\" stroke=\"black\" points=\"246.04,-952 114.04,-952 114.04,-912 246.04,-912 246.04,-952\"/>\n",
       "<text text-anchor=\"start\" x=\"175.54\" y=\"-937.8\" font-family=\"Courier,monospace\" font-weight=\"bold\" font-size=\"14.00\">s</text>\n",
       "<text text-anchor=\"start\" x=\"122.04\" y=\"-918.8\" font-family=\"Courier,monospace\" font-size=\"9.00\">&lt;remove_html_markup()&gt;</text>\n",
       "</a>\n",
       "</g>\n",
       "</g>\n",
       "<!-- s_functionremove_html_markupat0x105d39d80_136&#45;&gt;c_functionremove_html_markupat0x105d39d80_141 -->\n",
       "<g id=\"edge16\" class=\"edge\">\n",
       "<title>s_functionremove_html_markupat0x105d39d80_136&#45;&gt;c_functionremove_html_markupat0x105d39d80_141</title>\n",
       "<path fill=\"none\" stroke=\"black\" d=\"M192.26,-911.66C198.09,-901.45 204.53,-888.48 208.04,-876 229.28,-800.39 229.88,-706.97 228.49,-659.62\"/>\n",
       "<polygon fill=\"black\" stroke=\"black\" points=\"231.99,-659.73 228.14,-649.86 225,-659.98 231.99,-659.73\"/>\n",
       "</g>\n",
       "<!-- tag_functionremove_html_markupat0x105d39d80_137 -->\n",
       "<g id=\"node11\" class=\"node\">\n",
       "<title>tag_functionremove_html_markupat0x105d39d80_137</title>\n",
       "<g id=\"a_node11\"><a xlink:title=\"remove_html_markup:137\">\n",
       "<polygon fill=\"peachpuff\" stroke=\"black\" points=\"199.04,-876 67.04,-876 67.04,-836 199.04,-836 199.04,-876\"/>\n",
       "<text text-anchor=\"start\" x=\"120.54\" y=\"-861.8\" font-family=\"Courier,monospace\" font-weight=\"bold\" font-size=\"14.00\">tag</text>\n",
       "<text text-anchor=\"start\" x=\"75.04\" y=\"-842.8\" font-family=\"Courier,monospace\" font-size=\"9.00\">&lt;remove_html_markup()&gt;</text>\n",
       "</a>\n",
       "</g>\n",
       "</g>\n",
       "<!-- s_functionremove_html_markupat0x105d39d80_136&#45;&gt;tag_functionremove_html_markupat0x105d39d80_137 -->\n",
       "<!-- test_functionremove_html_markupat0x105d39d80_148&#45;&gt;test_functionremove_html_markupat0x105d39d80_150 -->\n",
       "<g id=\"edge15\" class=\"edge\">\n",
       "<title>test_functionremove_html_markupat0x105d39d80_148&#45;&gt;test_functionremove_html_markupat0x105d39d80_150</title>\n",
       "<path fill=\"none\" stroke=\"grey\" stroke-dasharray=\"5,2\" d=\"M183.02,-227.56C182.36,-220.25 182.15,-211.75 182.38,-203.67\"/>\n",
       "<polygon fill=\"grey\" stroke=\"grey\" points=\"185.86,-204.01 182.94,-193.82 178.87,-203.61 185.86,-204.01\"/>\n",
       "</g>\n",
       "<!-- test_functionremove_html_markupat0x105d39d80_148&#45;&gt;test_functionremove_html_markupat0x105d39d80_150 -->\n",
       "<!-- out_functionremove_html_markupat0x105d39d80_151&#45;&gt;out_functionremove_html_markupat0x105d39d80_151 -->\n",
       "<g id=\"edge8\" class=\"edge\">\n",
       "<title>out_functionremove_html_markupat0x105d39d80_151&#45;&gt;out_functionremove_html_markupat0x105d39d80_151</title>\n",
       "<path fill=\"none\" stroke=\"black\" d=\"M255.24,-109.12C265.81,-107.2 273.04,-102.83 273.04,-96 273.04,-91.84 270.35,-88.59 265.86,-86.25\"/>\n",
       "<polygon fill=\"black\" stroke=\"black\" points=\"267.27,-83.03 256.68,-83.34 265.15,-89.7 267.27,-83.03\"/>\n",
       "</g>\n",
       "<!-- out_functionremove_html_markupat0x105d39d80_151&#45;&gt;remove_html_markupreturnvalue_functionremove_html_markupat0x105d39d80_153 -->\n",
       "<g id=\"edge18\" class=\"edge\">\n",
       "<title>out_functionremove_html_markupat0x105d39d80_151&#45;&gt;remove_html_markupreturnvalue_functionremove_html_markupat0x105d39d80_153</title>\n",
       "<path fill=\"none\" stroke=\"black\" d=\"M183.02,-75.56C182.36,-68.25 182.15,-59.75 182.38,-51.67\"/>\n",
       "<polygon fill=\"black\" stroke=\"black\" points=\"185.86,-52.01 182.94,-41.82 178.87,-51.61 185.86,-52.01\"/>\n",
       "</g>\n",
       "<!-- out_functionremove_html_markupat0x105d39d80_151&#45;&gt;remove_html_markupreturnvalue_functionremove_html_markupat0x105d39d80_153 -->\n",
       "<!-- out_functionremove_html_markupat0x105d39d80_139&#45;&gt;c_functionremove_html_markupat0x105d39d80_141 -->\n",
       "<!-- out_functionremove_html_markupat0x105d39d80_139&#45;&gt;out_functionremove_html_markupat0x105d39d80_151 -->\n",
       "<g id=\"edge6\" class=\"edge\">\n",
       "<title>out_functionremove_html_markupat0x105d39d80_139&#45;&gt;out_functionremove_html_markupat0x105d39d80_151</title>\n",
       "<path fill=\"none\" stroke=\"black\" d=\"M329.28,-683.5C340.46,-655.26 359.04,-601.09 359.04,-553 359.04,-553 359.04,-553 359.04,-247 359.04,-186.92 298.6,-145.16 249.8,-121.23\"/>\n",
       "<polygon fill=\"black\" stroke=\"black\" points=\"251.49,-118.16 240.95,-117.04 248.49,-124.48 251.49,-118.16\"/>\n",
       "</g>\n",
       "<!-- test_functionremove_html_markupat0x105d39d80_150&#45;&gt;out_functionremove_html_markupat0x105d39d80_151 -->\n",
       "<g id=\"edge9\" class=\"edge\">\n",
       "<title>test_functionremove_html_markupat0x105d39d80_150&#45;&gt;out_functionremove_html_markupat0x105d39d80_151</title>\n",
       "<path fill=\"none\" stroke=\"grey\" stroke-dasharray=\"5,2\" d=\"M183.02,-151.56C182.36,-144.25 182.15,-135.75 182.38,-127.67\"/>\n",
       "<polygon fill=\"grey\" stroke=\"grey\" points=\"185.86,-128.01 182.94,-117.82 178.87,-127.61 185.86,-128.01\"/>\n",
       "</g>\n",
       "<!-- test_functionremove_html_markupat0x105d39d80_150&#45;&gt;out_functionremove_html_markupat0x105d39d80_151 -->\n",
       "<!-- tag_functionremove_html_markupat0x105d39d80_137&#45;&gt;quote_functionremove_html_markupat0x105d39d80_138 -->\n",
       "<!-- tag_functionremove_html_markupat0x105d39d80_145&#45;&gt;test_functionremove_html_markupat0x105d39d80_146 -->\n",
       "<!-- tag_functionremove_html_markupat0x105d39d80_145&#45;&gt;test_functionremove_html_markupat0x105d39d80_150 -->\n",
       "<g id=\"edge14\" class=\"edge\">\n",
       "<title>tag_functionremove_html_markupat0x105d39d80_145&#45;&gt;test_functionremove_html_markupat0x105d39d80_150</title>\n",
       "<path fill=\"none\" stroke=\"black\" d=\"M204.53,-455.55C236.67,-412.68 304.35,-307.55 264.04,-228 258.17,-216.41 248.58,-206.68 238.19,-198.78\"/>\n",
       "<polygon fill=\"black\" stroke=\"black\" points=\"240.38,-196.03 230.17,-193.17 236.36,-201.77 240.38,-196.03\"/>\n",
       "</g>\n",
       "</g>\n",
       "</svg>\n"
      ],
      "text/plain": [
       "<graphviz.graphs.Digraph at 0x105f8b6a0>"
      ]
     },
     "execution_count": 48,
     "metadata": {},
     "output_type": "execute_result"
    }
   ],
   "source": [
    "# ignore\n",
    "remove_html_markup_deps().graph()"
   ]
  },
  {
   "cell_type": "markdown",
   "metadata": {
    "slideshow": {
     "slide_type": "subslide"
    }
   },
   "source": [
    "Again, we can read such a graph _forward_ (starting from, say, `s`) or _backward_ (starting from the return value). Starting forward, we see how the passed string `s` flows into the `for` loop, breaking `s` into individual characters `c` that are then checked on various occasions, before flowing into the `out` return value. We also see how the various `if` conditions are all influenced by `c`, `tag`, and `quote`."
   ]
  },
  {
   "cell_type": "code",
   "execution_count": 49,
   "metadata": {
    "execution": {
     "iopub.execute_input": "2023-02-11T12:18:24.782662Z",
     "iopub.status.busy": "2023-02-11T12:18:24.782093Z",
     "iopub.status.idle": "2023-02-11T12:18:24.784581Z",
     "shell.execute_reply": "2023-02-11T12:18:24.784298Z"
    },
    "slideshow": {
     "slide_type": "fragment"
    }
   },
   "outputs": [
    {
     "data": {
      "text/html": [
       "\n",
       "    \n",
       "    <script>\n",
       "    var bad_answers = new Map();\n",
       "\n",
       "    function answer(quiz_id) {\n",
       "        ans = 0;\n",
       "        for (i = 1;; i++) {\n",
       "            checkbox = document.getElementById(quiz_id + \"-\" + i.toString());\n",
       "            if (!checkbox)\n",
       "                break;\n",
       "            if (checkbox.checked)\n",
       "                ans |= (1 << i);\n",
       "        }\n",
       "        return ans;\n",
       "    }\n",
       "    function check_selection(quiz_id, correct_answer, multiple_choice, hint) {\n",
       "        given_answer = answer(quiz_id);\n",
       "        if (given_answer == correct_answer)\n",
       "        {\n",
       "            document.getElementById(quiz_id + \"-submit\").value = \"Correct!\";\n",
       "            document.getElementById(quiz_id + \"-hint\").innerHTML = \"\";\n",
       "\n",
       "            for (i = 1;; i++) {\n",
       "                checkbox = document.getElementById(quiz_id + \"-\" + i.toString());\n",
       "                label = document.getElementById(quiz_id + \"-\" + i.toString() + \"-label\")\n",
       "                if (!checkbox)\n",
       "                    break;\n",
       "    \n",
       "                if (checkbox.checked) {\n",
       "                    label.style.fontWeight = \"bold\";\n",
       "                }\n",
       "                else {\n",
       "                    label.style.textDecoration = \"line-through\";\n",
       "                }\n",
       "            }\n",
       "        }\n",
       "        else \n",
       "        {\n",
       "            document.getElementById(quiz_id + \"-submit\").value = \"Try again\";\n",
       "            \n",
       "            if (!bad_answers.has(quiz_id)) {\n",
       "                bad_answers.set(quiz_id, 1);\n",
       "            }\n",
       "            else {\n",
       "                bad_answers.set(quiz_id, bad_answers.get(quiz_id) + 1);\n",
       "            }\n",
       "\n",
       "            if (bad_answers.get(quiz_id) >= 2 && hint.length > 0) {\n",
       "                document.getElementById(quiz_id + \"-hint\").innerHTML = \n",
       "                    \"&nbsp;&nbsp;(Hint: <code>\" + hint + \"</code>)\";\n",
       "            }\n",
       "\n",
       "            if (!multiple_choice) {\n",
       "                for (i = 1;; i++) {\n",
       "                    checkbox = document.getElementById(quiz_id + \"-\" + i.toString());\n",
       "                    label = document.getElementById(quiz_id + \"-\" + i.toString() + \"-label\")\n",
       "\n",
       "                    if (!checkbox)\n",
       "                        break;\n",
       "                    if (checkbox.checked) {\n",
       "                        label.style.textDecoration = \"line-through\";\n",
       "                    }\n",
       "                }\n",
       "            }\n",
       "        }\n",
       "    }\n",
       "    function clear_selection(quiz_id) {\n",
       "        document.getElementById(quiz_id + \"-submit\").value = \"Submit\";\n",
       "        document.getElementById(quiz_id + \"-hint\").innerHTML = \"\";\n",
       "    }\n",
       "    </script>\n",
       "    \n",
       "    <div class=\"quiz\">\n",
       "    <h3 class=\"quiz_title\">Quiz</h3>\n",
       "    <p>\n",
       "    <div class=\"quiz_question\">Why does the first line <code>tag = False</code> not influence anything?</div>\n",
       "    </p>\n",
       "    <p>\n",
       "    <div class=\"quiz_options\" title=\"Pick a choice.\">\n",
       "    \n",
       "        <input type=\"radio\" name=\"2eaa4560-aa06-11ed-942b-6298cf1a578f\" id=\"2eaa4560-aa06-11ed-942b-6298cf1a578f-1\" onclick=\"clear_selection('2eaa4560-aa06-11ed-942b-6298cf1a578f')\">\n",
       "        <label id=\"2eaa4560-aa06-11ed-942b-6298cf1a578f-1-label\" for=\"2eaa4560-aa06-11ed-942b-6298cf1a578f-1\">Because the input contains only tags</label><br>\n",
       "    \n",
       "        <input type=\"radio\" name=\"2eaa4560-aa06-11ed-942b-6298cf1a578f\" id=\"2eaa4560-aa06-11ed-942b-6298cf1a578f-2\" onclick=\"clear_selection('2eaa4560-aa06-11ed-942b-6298cf1a578f')\">\n",
       "        <label id=\"2eaa4560-aa06-11ed-942b-6298cf1a578f-2-label\" for=\"2eaa4560-aa06-11ed-942b-6298cf1a578f-2\">Because <code>tag</code> is set to True with the first character</label><br>\n",
       "    \n",
       "        <input type=\"radio\" name=\"2eaa4560-aa06-11ed-942b-6298cf1a578f\" id=\"2eaa4560-aa06-11ed-942b-6298cf1a578f-3\" onclick=\"clear_selection('2eaa4560-aa06-11ed-942b-6298cf1a578f')\">\n",
       "        <label id=\"2eaa4560-aa06-11ed-942b-6298cf1a578f-3-label\" for=\"2eaa4560-aa06-11ed-942b-6298cf1a578f-3\">Because <code>tag</code> is not read by any variable</label><br>\n",
       "    \n",
       "        <input type=\"radio\" name=\"2eaa4560-aa06-11ed-942b-6298cf1a578f\" id=\"2eaa4560-aa06-11ed-942b-6298cf1a578f-4\" onclick=\"clear_selection('2eaa4560-aa06-11ed-942b-6298cf1a578f')\">\n",
       "        <label id=\"2eaa4560-aa06-11ed-942b-6298cf1a578f-4-label\" for=\"2eaa4560-aa06-11ed-942b-6298cf1a578f-4\">Because the input contains no tags</label><br>\n",
       "    \n",
       "    </div>\n",
       "    </p>\n",
       "    <input id=\"2eaa4560-aa06-11ed-942b-6298cf1a578f-submit\" type=\"submit\" value=\"Submit\" onclick=\"check_selection('2eaa4560-aa06-11ed-942b-6298cf1a578f', 4, 0, '(1 &lt;&lt; 1 + 1 &gt;&gt; 1)')\">\n",
       "    <span class=\"quiz_hint\" id=\"2eaa4560-aa06-11ed-942b-6298cf1a578f-hint\"></span>\n",
       "    </div>\n",
       "    "
      ],
      "text/plain": [
       "<IPython.core.display.HTML object>"
      ]
     },
     "execution_count": 49,
     "metadata": {},
     "output_type": "execute_result"
    }
   ],
   "source": [
    "quiz(\"Why does the first line `tag = False` not influence anything?\",\n",
    "    [\n",
    "        \"Because the input contains only tags\",\n",
    "        \"Because `tag` is set to True with the first character\",\n",
    "        \"Because `tag` is not read by any variable\",\n",
    "        \"Because the input contains no tags\",\n",
    "    ], '(1 << 1 + 1 >> 1)')"
   ]
  },
  {
   "cell_type": "markdown",
   "metadata": {
    "slideshow": {
     "slide_type": "subslide"
    }
   },
   "source": [
    "Which are the locations that set `tag` to True? To this end, we compute the slice of `tag` at `tag = True`:"
   ]
  },
  {
   "cell_type": "code",
   "execution_count": 50,
   "metadata": {
    "execution": {
     "iopub.execute_input": "2023-02-11T12:18:24.788947Z",
     "iopub.status.busy": "2023-02-11T12:18:24.788431Z",
     "iopub.status.idle": "2023-02-11T12:18:25.081529Z",
     "shell.execute_reply": "2023-02-11T12:18:25.081834Z"
    },
    "slideshow": {
     "slide_type": "subslide"
    }
   },
   "outputs": [
    {
     "data": {
      "image/svg+xml": [
       "<?xml version=\"1.0\" encoding=\"UTF-8\" standalone=\"no\"?>\n",
       "<!DOCTYPE svg PUBLIC \"-//W3C//DTD SVG 1.1//EN\"\n",
       " \"http://www.w3.org/Graphics/SVG/1.1/DTD/svg11.dtd\">\n",
       "<!-- Generated by graphviz version 7.0.2 (20221119.0110)\n",
       " -->\n",
       "<!-- Title: dependencies Pages: 1 -->\n",
       "<svg width=\"234pt\" height=\"352pt\"\n",
       " viewBox=\"0.00 0.00 234.00 352.00\" xmlns=\"http://www.w3.org/2000/svg\" xmlns:xlink=\"http://www.w3.org/1999/xlink\">\n",
       "<g id=\"graph0\" class=\"graph\" transform=\"scale(1 1) rotate(0) translate(4 348)\">\n",
       "<title>dependencies</title>\n",
       "<polygon fill=\"white\" stroke=\"none\" points=\"-4,4 -4,-348 230,-348 230,4 -4,4\"/>\n",
       "<!-- test_functionremove_html_markupat0x105d39d80_144 -->\n",
       "<g id=\"node1\" class=\"node\">\n",
       "<title>test_functionremove_html_markupat0x105d39d80_144</title>\n",
       "<g id=\"a_node1\"><a xlink:title=\"remove_html_markup:144\">\n",
       "<polygon fill=\"peachpuff\" stroke=\"black\" points=\"226,-116 94,-116 94,-76 226,-76 226,-116\"/>\n",
       "<text text-anchor=\"start\" x=\"135\" y=\"-101.8\" font-family=\"Courier,monospace\" font-weight=\"bold\" font-style=\"italic\" font-size=\"14.00\">&lt;test&gt;</text>\n",
       "<text text-anchor=\"start\" x=\"102\" y=\"-82.8\" font-family=\"Courier,monospace\" font-size=\"9.00\">&lt;remove_html_markup()&gt;</text>\n",
       "</a>\n",
       "</g>\n",
       "</g>\n",
       "<!-- tag_functionremove_html_markupat0x105d39d80_145 -->\n",
       "<g id=\"node5\" class=\"node\">\n",
       "<title>tag_functionremove_html_markupat0x105d39d80_145</title>\n",
       "<g id=\"a_node5\"><a xlink:title=\"remove_html_markup:145\">\n",
       "<polygon fill=\"peachpuff\" stroke=\"black\" points=\"226,-40 94,-40 94,0 226,0 226,-40\"/>\n",
       "<text text-anchor=\"start\" x=\"147.5\" y=\"-25.8\" font-family=\"Courier,monospace\" font-weight=\"bold\" font-size=\"14.00\">tag</text>\n",
       "<text text-anchor=\"start\" x=\"102\" y=\"-6.8\" font-family=\"Courier,monospace\" font-size=\"9.00\">&lt;remove_html_markup()&gt;</text>\n",
       "</a>\n",
       "</g>\n",
       "</g>\n",
       "<!-- test_functionremove_html_markupat0x105d39d80_144&#45;&gt;tag_functionremove_html_markupat0x105d39d80_145 -->\n",
       "<g id=\"edge4\" class=\"edge\">\n",
       "<title>test_functionremove_html_markupat0x105d39d80_144&#45;&gt;tag_functionremove_html_markupat0x105d39d80_145</title>\n",
       "<path fill=\"none\" stroke=\"grey\" stroke-dasharray=\"5,2\" d=\"M153.98,-75.56C153.32,-68.25 153.11,-59.75 153.34,-51.67\"/>\n",
       "<polygon fill=\"grey\" stroke=\"grey\" points=\"156.82,-52.01 153.9,-41.82 149.84,-51.61 156.82,-52.01\"/>\n",
       "</g>\n",
       "<!-- test_functionremove_html_markupat0x105d39d80_144&#45;&gt;tag_functionremove_html_markupat0x105d39d80_145 -->\n",
       "<!-- quote_functionremove_html_markupat0x105d39d80_138 -->\n",
       "<g id=\"node2\" class=\"node\">\n",
       "<title>quote_functionremove_html_markupat0x105d39d80_138</title>\n",
       "<g id=\"a_node2\"><a xlink:title=\"remove_html_markup:138\">\n",
       "<polygon fill=\"peachpuff\" stroke=\"black\" points=\"132,-268 0,-268 0,-228 132,-228 132,-268\"/>\n",
       "<text text-anchor=\"start\" x=\"45\" y=\"-253.8\" font-family=\"Courier,monospace\" font-weight=\"bold\" font-size=\"14.00\">quote</text>\n",
       "<text text-anchor=\"start\" x=\"8\" y=\"-234.8\" font-family=\"Courier,monospace\" font-size=\"9.00\">&lt;remove_html_markup()&gt;</text>\n",
       "</a>\n",
       "</g>\n",
       "</g>\n",
       "<!-- quote_functionremove_html_markupat0x105d39d80_138&#45;&gt;test_functionremove_html_markupat0x105d39d80_144 -->\n",
       "<g id=\"edge1\" class=\"edge\">\n",
       "<title>quote_functionremove_html_markupat0x105d39d80_138&#45;&gt;test_functionremove_html_markupat0x105d39d80_144</title>\n",
       "<path fill=\"none\" stroke=\"black\" d=\"M65.86,-227.65C66.59,-207.31 70.26,-175.12 85,-152 92.26,-140.62 102.77,-130.81 113.64,-122.75\"/>\n",
       "<polygon fill=\"black\" stroke=\"black\" points=\"115.33,-125.84 121.55,-117.27 111.34,-120.09 115.33,-125.84\"/>\n",
       "</g>\n",
       "<!-- c_functionremove_html_markupat0x105d39d80_141 -->\n",
       "<g id=\"node3\" class=\"node\">\n",
       "<title>c_functionremove_html_markupat0x105d39d80_141</title>\n",
       "<g id=\"a_node3\"><a xlink:title=\"remove_html_markup:141\">\n",
       "<polygon fill=\"peachpuff\" stroke=\"black\" points=\"226,-192 94,-192 94,-152 226,-152 226,-192\"/>\n",
       "<text text-anchor=\"start\" x=\"155.5\" y=\"-177.8\" font-family=\"Courier,monospace\" font-weight=\"bold\" font-size=\"14.00\">c</text>\n",
       "<text text-anchor=\"start\" x=\"102\" y=\"-158.8\" font-family=\"Courier,monospace\" font-size=\"9.00\">&lt;remove_html_markup()&gt;</text>\n",
       "</a>\n",
       "</g>\n",
       "</g>\n",
       "<!-- quote_functionremove_html_markupat0x105d39d80_138&#45;&gt;c_functionremove_html_markupat0x105d39d80_141 -->\n",
       "<!-- c_functionremove_html_markupat0x105d39d80_141&#45;&gt;test_functionremove_html_markupat0x105d39d80_144 -->\n",
       "<g id=\"edge2\" class=\"edge\">\n",
       "<title>c_functionremove_html_markupat0x105d39d80_141&#45;&gt;test_functionremove_html_markupat0x105d39d80_144</title>\n",
       "<path fill=\"none\" stroke=\"black\" d=\"M153.98,-151.56C153.32,-144.25 153.11,-135.75 153.34,-127.67\"/>\n",
       "<polygon fill=\"black\" stroke=\"black\" points=\"156.82,-128.01 153.9,-117.82 149.84,-127.61 156.82,-128.01\"/>\n",
       "</g>\n",
       "<!-- c_functionremove_html_markupat0x105d39d80_141&#45;&gt;test_functionremove_html_markupat0x105d39d80_144 -->\n",
       "<!-- s_functionremove_html_markupat0x105d39d80_136 -->\n",
       "<g id=\"node4\" class=\"node\">\n",
       "<title>s_functionremove_html_markupat0x105d39d80_136</title>\n",
       "<g id=\"a_node4\"><a xlink:title=\"remove_html_markup:136\">\n",
       "<polygon fill=\"peachpuff\" stroke=\"black\" points=\"179,-344 47,-344 47,-304 179,-304 179,-344\"/>\n",
       "<text text-anchor=\"start\" x=\"108.5\" y=\"-329.8\" font-family=\"Courier,monospace\" font-weight=\"bold\" font-size=\"14.00\">s</text>\n",
       "<text text-anchor=\"start\" x=\"55\" y=\"-310.8\" font-family=\"Courier,monospace\" font-size=\"9.00\">&lt;remove_html_markup()&gt;</text>\n",
       "</a>\n",
       "</g>\n",
       "</g>\n",
       "<!-- s_functionremove_html_markupat0x105d39d80_136&#45;&gt;quote_functionremove_html_markupat0x105d39d80_138 -->\n",
       "<!-- s_functionremove_html_markupat0x105d39d80_136&#45;&gt;c_functionremove_html_markupat0x105d39d80_141 -->\n",
       "<g id=\"edge3\" class=\"edge\">\n",
       "<title>s_functionremove_html_markupat0x105d39d80_136&#45;&gt;c_functionremove_html_markupat0x105d39d80_141</title>\n",
       "<path fill=\"none\" stroke=\"black\" d=\"M124.46,-303.72C130.15,-293.42 136.71,-280.35 141,-268 148.27,-247.05 153.1,-222.47 156.06,-203.57\"/>\n",
       "<polygon fill=\"black\" stroke=\"black\" points=\"159.5,-204.23 157.49,-193.83 152.58,-203.22 159.5,-204.23\"/>\n",
       "</g>\n",
       "</g>\n",
       "</svg>\n"
      ],
      "text/plain": [
       "Dependencies(\n",
       "    data={\n",
       "        ('tag', (remove_html_markup, 145)): set(),\n",
       "        ('<test>', (remove_html_markup, 144)): {('quote', (remove_html_markup, 138)), ('c', (remove_html_markup, 141))},\n",
       "        ('quote', (remove_html_markup, 138)): set(),\n",
       "        ('c', (remove_html_markup, 141)): {('s', (remove_html_markup, 136))},\n",
       "        ('s', (remove_html_markup, 136)): set()},\n",
       " control={\n",
       "        ('tag', (remove_html_markup, 145)): {('<test>', (remove_html_markup, 144))},\n",
       "        ('<test>', (remove_html_markup, 144)): set(),\n",
       "        ('quote', (remove_html_markup, 138)): set(),\n",
       "        ('c', (remove_html_markup, 141)): set(),\n",
       "        ('s', (remove_html_markup, 136)): set()})"
      ]
     },
     "execution_count": 50,
     "metadata": {},
     "output_type": "execute_result"
    }
   ],
   "source": [
    "# ignore\n",
    "tag_deps = Dependencies({('tag', (remove_html_markup, 145)): set(), ('<test>', (remove_html_markup, 144)): {('quote', (remove_html_markup, 138)), ('c', (remove_html_markup, 141))}, ('quote', (remove_html_markup, 138)): set(), ('c', (remove_html_markup, 141)): {('s', (remove_html_markup, 136))}, ('s', (remove_html_markup, 136)): set()}, {('tag', (remove_html_markup, 145)): {('<test>', (remove_html_markup, 144))}, ('<test>', (remove_html_markup, 144)): set(), ('quote', (remove_html_markup, 138)): set(), ('c', (remove_html_markup, 141)): set(), ('s', (remove_html_markup, 136)): set()})\n",
    "tag_deps"
   ]
  },
  {
   "cell_type": "markdown",
   "metadata": {
    "slideshow": {
     "slide_type": "subslide"
    }
   },
   "source": [
    "We see where the value of `tag` comes from: from the characters `c` in `s` as well as `quote`, which all cause it to be set. Again, we can combine these dependencies and the listing in a single, compact view. Note, again, that there are no other locations in the code that could possibly have affected `tag` in our run."
   ]
  },
  {
   "cell_type": "code",
   "execution_count": 51,
   "metadata": {
    "execution": {
     "iopub.execute_input": "2023-02-11T12:18:25.108777Z",
     "iopub.status.busy": "2023-02-11T12:18:25.108178Z",
     "iopub.status.idle": "2023-02-11T12:18:25.614294Z",
     "shell.execute_reply": "2023-02-11T12:18:25.617919Z"
    },
    "slideshow": {
     "slide_type": "subslide"
    }
   },
   "outputs": [
    {
     "name": "stdout",
     "output_type": "stream",
     "text": [
      "   238 \u001b[34mdef\u001b[39;49;00m \u001b[32mremove_html_markup\u001b[39;49;00m(s):  \u001b[37m# type: ignore\u001b[39;49;00m\u001b[37m\u001b[39;49;00m\n",
      "   239     tag = \u001b[34mFalse\u001b[39;49;00m\u001b[37m\u001b[39;49;00m\n",
      "   240     quote = \u001b[34mFalse\u001b[39;49;00m\u001b[37m\u001b[39;49;00m\n",
      "   241     out = \u001b[33m\"\u001b[39;49;00m\u001b[33m\"\u001b[39;49;00m\u001b[37m\u001b[39;49;00m\n",
      "   242 \u001b[37m\u001b[39;49;00m\n",
      "   243     \u001b[34mfor\u001b[39;49;00m c \u001b[35min\u001b[39;49;00m s:\u001b[37m\u001b[39;49;00m\n",
      "   244         \u001b[34massert\u001b[39;49;00m tag \u001b[35mor\u001b[39;49;00m \u001b[35mnot\u001b[39;49;00m quote\u001b[37m\u001b[39;49;00m\n",
      "   245 \u001b[37m\u001b[39;49;00m\n",
      "   246         \u001b[34mif\u001b[39;49;00m c == \u001b[33m'\u001b[39;49;00m\u001b[33m<\u001b[39;49;00m\u001b[33m'\u001b[39;49;00m \u001b[35mand\u001b[39;49;00m \u001b[35mnot\u001b[39;49;00m quote:\u001b[37m\u001b[39;49;00m\n",
      "   247             tag = \u001b[34mTrue\u001b[39;49;00m\u001b[37m\u001b[39;49;00m\n",
      "   248         \u001b[34melif\u001b[39;49;00m c == \u001b[33m'\u001b[39;49;00m\u001b[33m>\u001b[39;49;00m\u001b[33m'\u001b[39;49;00m \u001b[35mand\u001b[39;49;00m \u001b[35mnot\u001b[39;49;00m quote:\u001b[37m\u001b[39;49;00m\n",
      "   249             tag = \u001b[34mFalse\u001b[39;49;00m\u001b[37m\u001b[39;49;00m\n",
      "   250         \u001b[34melif\u001b[39;49;00m (c == \u001b[33m'\u001b[39;49;00m\u001b[33m\"\u001b[39;49;00m\u001b[33m'\u001b[39;49;00m \u001b[35mor\u001b[39;49;00m c == \u001b[33m\"\u001b[39;49;00m\u001b[33m'\u001b[39;49;00m\u001b[33m\"\u001b[39;49;00m) \u001b[35mand\u001b[39;49;00m tag:\u001b[37m\u001b[39;49;00m\n",
      "   251             quote = \u001b[35mnot\u001b[39;49;00m quote\u001b[37m\u001b[39;49;00m\n",
      "   252         \u001b[34melif\u001b[39;49;00m \u001b[35mnot\u001b[39;49;00m tag:\u001b[37m\u001b[39;49;00m\n",
      "   253             out = out + c\u001b[37m\u001b[39;49;00m\n",
      "   254 \u001b[37m\u001b[39;49;00m\n",
      "   255     \u001b[34mreturn\u001b[39;49;00m out\u001b[37m\u001b[39;49;00m\n"
     ]
    }
   ],
   "source": [
    "# ignore\n",
    "tag_deps.code()"
   ]
  },
  {
   "cell_type": "code",
   "execution_count": 52,
   "metadata": {
    "execution": {
     "iopub.execute_input": "2023-02-11T12:18:25.624515Z",
     "iopub.status.busy": "2023-02-11T12:18:25.624110Z",
     "iopub.status.idle": "2023-02-11T12:18:25.625745Z",
     "shell.execute_reply": "2023-02-11T12:18:25.626073Z"
    },
    "slideshow": {
     "slide_type": "subslide"
    }
   },
   "outputs": [
    {
     "data": {
      "text/html": [
       "\n",
       "    \n",
       "    <script>\n",
       "    var bad_answers = new Map();\n",
       "\n",
       "    function answer(quiz_id) {\n",
       "        ans = 0;\n",
       "        for (i = 1;; i++) {\n",
       "            checkbox = document.getElementById(quiz_id + \"-\" + i.toString());\n",
       "            if (!checkbox)\n",
       "                break;\n",
       "            if (checkbox.checked)\n",
       "                ans |= (1 << i);\n",
       "        }\n",
       "        return ans;\n",
       "    }\n",
       "    function check_selection(quiz_id, correct_answer, multiple_choice, hint) {\n",
       "        given_answer = answer(quiz_id);\n",
       "        if (given_answer == correct_answer)\n",
       "        {\n",
       "            document.getElementById(quiz_id + \"-submit\").value = \"Correct!\";\n",
       "            document.getElementById(quiz_id + \"-hint\").innerHTML = \"\";\n",
       "\n",
       "            for (i = 1;; i++) {\n",
       "                checkbox = document.getElementById(quiz_id + \"-\" + i.toString());\n",
       "                label = document.getElementById(quiz_id + \"-\" + i.toString() + \"-label\")\n",
       "                if (!checkbox)\n",
       "                    break;\n",
       "    \n",
       "                if (checkbox.checked) {\n",
       "                    label.style.fontWeight = \"bold\";\n",
       "                }\n",
       "                else {\n",
       "                    label.style.textDecoration = \"line-through\";\n",
       "                }\n",
       "            }\n",
       "        }\n",
       "        else \n",
       "        {\n",
       "            document.getElementById(quiz_id + \"-submit\").value = \"Try again\";\n",
       "            \n",
       "            if (!bad_answers.has(quiz_id)) {\n",
       "                bad_answers.set(quiz_id, 1);\n",
       "            }\n",
       "            else {\n",
       "                bad_answers.set(quiz_id, bad_answers.get(quiz_id) + 1);\n",
       "            }\n",
       "\n",
       "            if (bad_answers.get(quiz_id) >= 2 && hint.length > 0) {\n",
       "                document.getElementById(quiz_id + \"-hint\").innerHTML = \n",
       "                    \"&nbsp;&nbsp;(Hint: <code>\" + hint + \"</code>)\";\n",
       "            }\n",
       "\n",
       "            if (!multiple_choice) {\n",
       "                for (i = 1;; i++) {\n",
       "                    checkbox = document.getElementById(quiz_id + \"-\" + i.toString());\n",
       "                    label = document.getElementById(quiz_id + \"-\" + i.toString() + \"-label\")\n",
       "\n",
       "                    if (!checkbox)\n",
       "                        break;\n",
       "                    if (checkbox.checked) {\n",
       "                        label.style.textDecoration = \"line-through\";\n",
       "                    }\n",
       "                }\n",
       "            }\n",
       "        }\n",
       "    }\n",
       "    function clear_selection(quiz_id) {\n",
       "        document.getElementById(quiz_id + \"-submit\").value = \"Submit\";\n",
       "        document.getElementById(quiz_id + \"-hint\").innerHTML = \"\";\n",
       "    }\n",
       "    </script>\n",
       "    \n",
       "    <div class=\"quiz\">\n",
       "    <h3 class=\"quiz_title\">Quiz</h3>\n",
       "    <p>\n",
       "    <div class=\"quiz_question\">How does the slice of <code>tag = True</code> change for a different value of <code>s</code>?</div>\n",
       "    </p>\n",
       "    <p>\n",
       "    <div class=\"quiz_options\" title=\"Check all that apply.\">\n",
       "    \n",
       "        <input type=\"checkbox\" name=\"2f2abd30-aa06-11ed-942b-6298cf1a578f\" id=\"2f2abd30-aa06-11ed-942b-6298cf1a578f-1\" onclick=\"clear_selection('2f2abd30-aa06-11ed-942b-6298cf1a578f')\">\n",
       "        <label id=\"2f2abd30-aa06-11ed-942b-6298cf1a578f-1-label\" for=\"2f2abd30-aa06-11ed-942b-6298cf1a578f-1\">Not at all</label><br>\n",
       "    \n",
       "        <input type=\"checkbox\" name=\"2f2abd30-aa06-11ed-942b-6298cf1a578f\" id=\"2f2abd30-aa06-11ed-942b-6298cf1a578f-2\" onclick=\"clear_selection('2f2abd30-aa06-11ed-942b-6298cf1a578f')\">\n",
       "        <label id=\"2f2abd30-aa06-11ed-942b-6298cf1a578f-2-label\" for=\"2f2abd30-aa06-11ed-942b-6298cf1a578f-2\">If <code>s</code> contains a quote, the <code>quote</code> slice is included, too</label><br>\n",
       "    \n",
       "        <input type=\"checkbox\" name=\"2f2abd30-aa06-11ed-942b-6298cf1a578f\" id=\"2f2abd30-aa06-11ed-942b-6298cf1a578f-3\" onclick=\"clear_selection('2f2abd30-aa06-11ed-942b-6298cf1a578f')\">\n",
       "        <label id=\"2f2abd30-aa06-11ed-942b-6298cf1a578f-3-label\" for=\"2f2abd30-aa06-11ed-942b-6298cf1a578f-3\">If <code>s</code> contains no HTML tag, the slice will be empty</label><br>\n",
       "    \n",
       "    </div>\n",
       "    </p>\n",
       "    <input id=\"2f2abd30-aa06-11ed-942b-6298cf1a578f-submit\" type=\"submit\" value=\"Submit\" onclick=\"check_selection('2f2abd30-aa06-11ed-942b-6298cf1a578f', 12, 1, '[1, 2, 3][1:]')\">\n",
       "    <span class=\"quiz_hint\" id=\"2f2abd30-aa06-11ed-942b-6298cf1a578f-hint\"></span>\n",
       "    </div>\n",
       "    "
      ],
      "text/plain": [
       "<IPython.core.display.HTML object>"
      ]
     },
     "execution_count": 52,
     "metadata": {},
     "output_type": "execute_result"
    }
   ],
   "source": [
    "quiz(\"How does the slice of `tag = True` change \"\n",
    "     \"for a different value of `s`?\",\n",
    "    [\n",
    "        \"Not at all\",\n",
    "        \"If `s` contains a quote, the `quote` slice is included, too\",\n",
    "        \"If `s` contains no HTML tag, the slice will be empty\"\n",
    "    ], '[1, 2, 3][1:]')"
   ]
  },
  {
   "cell_type": "markdown",
   "metadata": {
    "slideshow": {
     "slide_type": "fragment"
    }
   },
   "source": [
    "Indeed, our dynamic slices reflect dependencies as they occurred within a single execution. As the execution changes, so do the dependencies."
   ]
  },
  {
   "cell_type": "markdown",
   "metadata": {
    "slideshow": {
     "slide_type": "slide"
    }
   },
   "source": [
    "## Tracking Techniques\n",
    "\n",
    "For the remainder of this chapter, let us investigate means to _determine such dependencies_ automatically – by _collecting_ them during program execution. The idea is that with a single Python call, we can collect the dependencies for some computation, and present them to programmers – as graphs or as code annotations, as shown above."
   ]
  },
  {
   "cell_type": "markdown",
   "metadata": {
    "slideshow": {
     "slide_type": "fragment"
    }
   },
   "source": [
    "To track dependencies, for every variable, we need to keep track of its _origins_ – where it obtained its value, and which tests controlled its assignments. There are two ways to do so:\n",
    "\n",
    "* Wrapping Data Objects\n",
    "* Wrapping Data Accesses"
   ]
  },
  {
   "cell_type": "markdown",
   "metadata": {
    "slideshow": {
     "slide_type": "subslide"
    }
   },
   "source": [
    "### Wrapping Data Objects"
   ]
  },
  {
   "cell_type": "markdown",
   "metadata": {
    "slideshow": {
     "slide_type": "subslide"
    }
   },
   "source": [
    "One way to track origins is to _wrap_ each value in a class that stores both a value and the origin of the value. If a variable `x` is initialized to zero in Line 3, for instance, we could store it as\n",
    "```\n",
    "x = (value=0, origin=<Line 3>)\n",
    "```\n",
    "and if it is copied in, say, Line 5 to another variable `y`, we could store this as\n",
    "```\n",
    "y = (value=0, origin=<Line 3, Line 5>)\n",
    "```\n",
    "Such a scheme would allow us to track origins and dependencies right within the variable."
   ]
  },
  {
   "cell_type": "markdown",
   "metadata": {
    "slideshow": {
     "slide_type": "subslide"
    }
   },
   "source": [
    "In a language like Python, it is actually possibly to subclass from basic types. Here's how we create a `MyInt` subclass of `int`:"
   ]
  },
  {
   "cell_type": "code",
   "execution_count": 53,
   "metadata": {
    "execution": {
     "iopub.execute_input": "2023-02-11T12:18:25.628781Z",
     "iopub.status.busy": "2023-02-11T12:18:25.628465Z",
     "iopub.status.idle": "2023-02-11T12:18:25.629590Z",
     "shell.execute_reply": "2023-02-11T12:18:25.629968Z"
    },
    "slideshow": {
     "slide_type": "fragment"
    }
   },
   "outputs": [],
   "source": [
    "class MyInt(int):\n",
    "    def __new__(cls: Type, value: Any, *args: Any, **kwargs: Any) -> Any:\n",
    "        return super(cls, cls).__new__(cls, value)\n",
    "\n",
    "    def __repr__(self) -> str:\n",
    "        return f\"{int(self)}\""
   ]
  },
  {
   "cell_type": "code",
   "execution_count": 54,
   "metadata": {
    "execution": {
     "iopub.execute_input": "2023-02-11T12:18:25.631859Z",
     "iopub.status.busy": "2023-02-11T12:18:25.631566Z",
     "iopub.status.idle": "2023-02-11T12:18:25.632820Z",
     "shell.execute_reply": "2023-02-11T12:18:25.633005Z"
    },
    "slideshow": {
     "slide_type": "fragment"
    }
   },
   "outputs": [],
   "source": [
    "n: MyInt = MyInt(5)"
   ]
  },
  {
   "cell_type": "markdown",
   "metadata": {
    "slideshow": {
     "slide_type": "fragment"
    }
   },
   "source": [
    "We can access `n` just like any integer:"
   ]
  },
  {
   "cell_type": "code",
   "execution_count": 55,
   "metadata": {
    "execution": {
     "iopub.execute_input": "2023-02-11T12:18:25.635024Z",
     "iopub.status.busy": "2023-02-11T12:18:25.634714Z",
     "iopub.status.idle": "2023-02-11T12:18:25.636189Z",
     "shell.execute_reply": "2023-02-11T12:18:25.636568Z"
    },
    "slideshow": {
     "slide_type": "fragment"
    }
   },
   "outputs": [
    {
     "data": {
      "text/plain": [
       "(5, 6)"
      ]
     },
     "execution_count": 55,
     "metadata": {},
     "output_type": "execute_result"
    }
   ],
   "source": [
    "n, n + 1"
   ]
  },
  {
   "cell_type": "markdown",
   "metadata": {
    "slideshow": {
     "slide_type": "fragment"
    }
   },
   "source": [
    "However, we can also add extra attributes to it:"
   ]
  },
  {
   "cell_type": "code",
   "execution_count": 56,
   "metadata": {
    "execution": {
     "iopub.execute_input": "2023-02-11T12:18:25.638936Z",
     "iopub.status.busy": "2023-02-11T12:18:25.638618Z",
     "iopub.status.idle": "2023-02-11T12:18:25.639771Z",
     "shell.execute_reply": "2023-02-11T12:18:25.640093Z"
    },
    "slideshow": {
     "slide_type": "fragment"
    }
   },
   "outputs": [],
   "source": [
    "n.origin = \"Line 5\"  # type: ignore"
   ]
  },
  {
   "cell_type": "code",
   "execution_count": 57,
   "metadata": {
    "execution": {
     "iopub.execute_input": "2023-02-11T12:18:25.642752Z",
     "iopub.status.busy": "2023-02-11T12:18:25.642274Z",
     "iopub.status.idle": "2023-02-11T12:18:25.644437Z",
     "shell.execute_reply": "2023-02-11T12:18:25.644772Z"
    },
    "slideshow": {
     "slide_type": "subslide"
    }
   },
   "outputs": [
    {
     "data": {
      "text/plain": [
       "'Line 5'"
      ]
     },
     "execution_count": 57,
     "metadata": {},
     "output_type": "execute_result"
    }
   ],
   "source": [
    "n.origin  # type: ignore"
   ]
  },
  {
   "cell_type": "markdown",
   "metadata": {
    "slideshow": {
     "slide_type": "subslide"
    }
   },
   "source": [
    "Such a \"wrapping\" scheme has the advantage of _leaving program code untouched_ – simply pass \"wrapped\" objects instead of the original values. However, it also has a number of drawbacks.\n",
    "\n",
    "* First, we must make sure that the \"wrapper\" objects are still compatible with the original values – notably by converting them back whenever needed. (What happens if an internal Python function expects an `int` and gets a `MyInt` instead?)\n",
    "* Second, we have to make sure that origins do not get lost during computations – which involves overloading operators such as `+`, `-`, `*`, and so on. (Right now, `MyInt(1) + 1` gives us an `int` object, not a `MyInt`.)\n",
    "* Third, we have to do this for _all_ data types of a language, which is pretty tedious.\n",
    "* Fourth and last, however, we want to track whenever a value is assigned to another variable. Python has no support for this, and thus our dependencies will necessarily be incomplete."
   ]
  },
  {
   "cell_type": "markdown",
   "metadata": {
    "slideshow": {
     "slide_type": "subslide"
    }
   },
   "source": [
    "### Wrapping Data Accesses"
   ]
  },
  {
   "attachments": {},
   "cell_type": "markdown",
   "metadata": {
    "slideshow": {
     "slide_type": "subslide"
    }
   },
   "source": [
    "An alternate way of tracking origins is to _instrument_ the source code such that all _data read and write operations are tracked_. That is, the original data stays unchanged, but we change the code instead.\n",
    "\n",
    "In essence, for every occurrence of a variable `x` being _read_, we replace it with\n",
    "\n",
    "```python\n",
    "_data.get('x', x)  # returns x\n",
    "```\n",
    "\n",
    "and for every occurrence of a value being _written_ to `x`, we replace the value with\n",
    "\n",
    "```python\n",
    "_data.set('x', value)  # returns value\n",
    "```\n",
    "\n",
    "and let the `_data` object track these reads and writes.\n",
    "\n",
    "Hence, an assignment such as\n",
    "\n",
    "```python\n",
    "a = b + c\n",
    "```\n",
    "\n",
    "would get rewritten to\n",
    "\n",
    "```python\n",
    "a = _data.set('a', _data.get('b', b) + _data.get('c', c))\n",
    "```\n",
    "\n",
    "and with every access to `_data`, we would track \n",
    "\n",
    "1. the current _location_ in the code, and \n",
    "2. whether the respective variable was read or written.\n",
    "\n",
    "For the above statement, we could deduce that `b` and `c` were read, and `a` was written – which makes `a` data dependent on `b` and `c`."
   ]
  },
  {
   "cell_type": "markdown",
   "metadata": {
    "slideshow": {
     "slide_type": "subslide"
    }
   },
   "source": [
    "The advantage of such instrumentation is that it works with _arbitrary objects_ (in Python, that is) – we do not care whether `a`, `b`, and `c` would be integers, floats, strings, lists or any other type for which `+` would be defined. Also, the code semantics remain entirely unchanged.\n",
    "\n",
    "The disadvantage, however, is that it takes a bit of effort to exactly separate reads and writes into individual groups, and that a number of language features have to be handled separately. This is what we do in the remainder of this chapter."
   ]
  },
  {
   "cell_type": "markdown",
   "metadata": {
    "slideshow": {
     "slide_type": "slide"
    }
   },
   "source": [
    "## A Data Tracker\n",
    "\n",
    "To implement `_data` accesses as shown above, we introduce the `DataTracker` class. As its name suggests, it keeps track of variables being read and written, and provides methods to determine the code location where this took place."
   ]
  },
  {
   "cell_type": "code",
   "execution_count": 58,
   "metadata": {
    "execution": {
     "iopub.execute_input": "2023-02-11T12:18:25.647577Z",
     "iopub.status.busy": "2023-02-11T12:18:25.647178Z",
     "iopub.status.idle": "2023-02-11T12:18:25.648781Z",
     "shell.execute_reply": "2023-02-11T12:18:25.649029Z"
    },
    "slideshow": {
     "slide_type": "fragment"
    }
   },
   "outputs": [],
   "source": [
    "class DataTracker(StackInspector):\n",
    "    \"\"\"Track data accesses during execution\"\"\"\n",
    "\n",
    "    def __init__(self, log: bool = False) -> None:\n",
    "        \"\"\"Constructor. If `log` is set, turn on logging.\"\"\"\n",
    "        self.log = log"
   ]
  },
  {
   "cell_type": "markdown",
   "metadata": {
    "slideshow": {
     "slide_type": "subslide"
    }
   },
   "source": [
    "`set()` is invoked when a variable is set, as in\n",
    "\n",
    "```python\n",
    "pi = _data.set('pi', 3.1415)\n",
    "```\n",
    "\n",
    "By default, we simply log the access using name and value. (`loads` will be used later.)"
   ]
  },
  {
   "cell_type": "code",
   "execution_count": 59,
   "metadata": {
    "execution": {
     "iopub.execute_input": "2023-02-11T12:18:25.651834Z",
     "iopub.status.busy": "2023-02-11T12:18:25.651509Z",
     "iopub.status.idle": "2023-02-11T12:18:25.652813Z",
     "shell.execute_reply": "2023-02-11T12:18:25.653077Z"
    },
    "slideshow": {
     "slide_type": "subslide"
    }
   },
   "outputs": [],
   "source": [
    "class DataTracker(DataTracker):\n",
    "    def set(self, name: str, value: Any, loads: Optional[Set[str]] = None) -> Any:\n",
    "        \"\"\"Track setting `name` to `value`.\"\"\"\n",
    "        if self.log:\n",
    "            caller_func, lineno = self.caller_location()\n",
    "            print(f\"{caller_func.__name__}:{lineno}: setting {name}\")\n",
    "\n",
    "        return value"
   ]
  },
  {
   "cell_type": "markdown",
   "metadata": {
    "slideshow": {
     "slide_type": "fragment"
    }
   },
   "source": [
    "`get()` is invoked when a variable is retrieved, as in\n",
    "\n",
    "```python\n",
    "print(_data.get('pi', pi))\n",
    "```\n",
    "By default, we simply log the access."
   ]
  },
  {
   "cell_type": "code",
   "execution_count": 60,
   "metadata": {
    "execution": {
     "iopub.execute_input": "2023-02-11T12:18:25.655806Z",
     "iopub.status.busy": "2023-02-11T12:18:25.655412Z",
     "iopub.status.idle": "2023-02-11T12:18:25.656526Z",
     "shell.execute_reply": "2023-02-11T12:18:25.656775Z"
    },
    "slideshow": {
     "slide_type": "subslide"
    }
   },
   "outputs": [],
   "source": [
    "class DataTracker(DataTracker):\n",
    "    def get(self, name: str, value: Any) -> Any:\n",
    "        \"\"\"Track getting `value` from `name`.\"\"\"\n",
    "\n",
    "        if self.log:\n",
    "            caller_func, lineno = self.caller_location()\n",
    "            print(f\"{caller_func.__name__}:{lineno}: getting {name}\")\n",
    "\n",
    "        return value"
   ]
  },
  {
   "cell_type": "markdown",
   "metadata": {
    "slideshow": {
     "slide_type": "fragment"
    }
   },
   "source": [
    "Here's an example of a logging `DataTracker`:"
   ]
  },
  {
   "cell_type": "code",
   "execution_count": 61,
   "metadata": {
    "execution": {
     "iopub.execute_input": "2023-02-11T12:18:25.658936Z",
     "iopub.status.busy": "2023-02-11T12:18:25.658625Z",
     "iopub.status.idle": "2023-02-11T12:18:25.659840Z",
     "shell.execute_reply": "2023-02-11T12:18:25.660083Z"
    },
    "slideshow": {
     "slide_type": "fragment"
    }
   },
   "outputs": [
    {
     "name": "stdout",
     "output_type": "stream",
     "text": [
      "<cell line: 2>:2: setting x\n"
     ]
    }
   ],
   "source": [
    "_test_data = DataTracker(log=True)\n",
    "x = _test_data.set('x', 1)"
   ]
  },
  {
   "cell_type": "code",
   "execution_count": 62,
   "metadata": {
    "execution": {
     "iopub.execute_input": "2023-02-11T12:18:25.662263Z",
     "iopub.status.busy": "2023-02-11T12:18:25.661862Z",
     "iopub.status.idle": "2023-02-11T12:18:25.663522Z",
     "shell.execute_reply": "2023-02-11T12:18:25.663715Z"
    },
    "slideshow": {
     "slide_type": "subslide"
    }
   },
   "outputs": [
    {
     "name": "stdout",
     "output_type": "stream",
     "text": [
      "<cell line: 1>:1: getting x\n"
     ]
    },
    {
     "data": {
      "text/plain": [
       "1"
      ]
     },
     "execution_count": 62,
     "metadata": {},
     "output_type": "execute_result"
    }
   ],
   "source": [
    "_test_data.get('x', x)"
   ]
  },
  {
   "cell_type": "markdown",
   "metadata": {
    "slideshow": {
     "slide_type": "slide"
    }
   },
   "source": [
    "## Instrumenting Source Code\n",
    "\n",
    "How do we transform source code such that read and write accesses to variables would be automatically rewritten?  To this end, we inspect the internal representation of source code, namely the _abstract syntax trees_ (ASTs). An AST represents the code as a tree, with specific node types for each syntactical element."
   ]
  },
  {
   "cell_type": "code",
   "execution_count": 63,
   "metadata": {
    "execution": {
     "iopub.execute_input": "2023-02-11T12:18:25.665591Z",
     "iopub.status.busy": "2023-02-11T12:18:25.665294Z",
     "iopub.status.idle": "2023-02-11T12:18:25.666471Z",
     "shell.execute_reply": "2023-02-11T12:18:25.666660Z"
    },
    "slideshow": {
     "slide_type": "skip"
    }
   },
   "outputs": [],
   "source": [
    "import ast"
   ]
  },
  {
   "cell_type": "code",
   "execution_count": 64,
   "metadata": {
    "execution": {
     "iopub.execute_input": "2023-02-11T12:18:25.668464Z",
     "iopub.status.busy": "2023-02-11T12:18:25.668145Z",
     "iopub.status.idle": "2023-02-11T12:18:25.669622Z",
     "shell.execute_reply": "2023-02-11T12:18:25.669816Z"
    },
    "slideshow": {
     "slide_type": "skip"
    }
   },
   "outputs": [],
   "source": [
    "from bookutils import show_ast"
   ]
  },
  {
   "cell_type": "markdown",
   "metadata": {
    "slideshow": {
     "slide_type": "fragment"
    }
   },
   "source": [
    "Here is the tree representation for our `middle()` function. It starts with a `FunctionDef` node at the top (with the name `\"middle\"` and the three arguments `x`, `y`, `z` as children), followed by a subtree for each of the `If` statements, each of which contains a branch for when their condition evaluates to `True` and a branch for when their condition evaluates to `False`."
   ]
  },
  {
   "cell_type": "code",
   "execution_count": 65,
   "metadata": {
    "execution": {
     "iopub.execute_input": "2023-02-11T12:18:25.672280Z",
     "iopub.status.busy": "2023-02-11T12:18:25.671960Z",
     "iopub.status.idle": "2023-02-11T12:18:25.974781Z",
     "shell.execute_reply": "2023-02-11T12:18:25.975052Z"
    },
    "slideshow": {
     "slide_type": "subslide"
    }
   },
   "outputs": [
    {
     "data": {
      "image/svg+xml": [
       "<svg xmlns=\"http://www.w3.org/2000/svg\" xmlns:xlink=\"http://www.w3.org/1999/xlink\" width=\"1862pt\" height=\"476pt\" viewBox=\"0.00 0.00 1862.00 476.00\">\n",
       "<g id=\"graph0\" class=\"graph\" transform=\"scale(1 1) rotate(0) translate(4 472)\">\n",
       "<polygon fill=\"white\" stroke=\"none\" points=\"-4,4 -4,-472 1858,-472 1858,4 -4,4\"/>\n",
       "<!-- 0 -->\n",
       "<g id=\"node1\" class=\"node\">\n",
       "<title>0</title>\n",
       "<text text-anchor=\"start\" x=\"197.5\" y=\"-447.3\" font-family=\"Courier,monospace\" font-weight=\"bold\" font-size=\"14.00\" fill=\"#004080\">FunctionDef</text>\n",
       "</g>\n",
       "<!-- 1 -->\n",
       "<g id=\"node2\" class=\"node\">\n",
       "<title>1</title>\n",
       "<text text-anchor=\"middle\" x=\"66\" y=\"-374.3\" font-family=\"Courier,monospace\" font-size=\"14.00\" fill=\"#008040\">&quot;middle&quot;</text>\n",
       "</g>\n",
       "<!-- 0&#45;&#45;1 -->\n",
       "<g id=\"edge1\" class=\"edge\">\n",
       "<title>0--1</title>\n",
       "<path fill=\"none\" stroke=\"black\" d=\"M247,-431C247,-431 173.67,-413.49 116,-396 113.19,-395.15 110.31,-394.24 107.4,-393.31\"/>\n",
       "</g>\n",
       "<!-- 2 -->\n",
       "<g id=\"node3\" class=\"node\">\n",
       "<title>2</title>\n",
       "<text text-anchor=\"start\" x=\"133.5\" y=\"-375.3\" font-family=\"Courier,monospace\" font-weight=\"bold\" font-size=\"14.00\" fill=\"#004080\">arguments</text>\n",
       "</g>\n",
       "<!-- 0&#45;&#45;2 -->\n",
       "<g id=\"edge2\" class=\"edge\">\n",
       "<title>0--2</title>\n",
       "<path fill=\"none\" stroke=\"black\" d=\"M247,-431C247,-431 217.68,-410.94 195.47,-395.74\"/>\n",
       "</g>\n",
       "<!-- 9 -->\n",
       "<g id=\"node10\" class=\"node\">\n",
       "<title>9</title>\n",
       "<text text-anchor=\"start\" x=\"464.5\" y=\"-375.3\" font-family=\"Courier,monospace\" font-weight=\"bold\" font-size=\"14.00\" fill=\"#004080\">If</text>\n",
       "</g>\n",
       "<!-- 0&#45;&#45;9 -->\n",
       "<g id=\"edge9\" class=\"edge\">\n",
       "<title>0--9</title>\n",
       "<path fill=\"none\" stroke=\"black\" d=\"M247,-431C247,-431 386.32,-398.94 446.19,-385.17\"/>\n",
       "</g>\n",
       "<!-- 70 -->\n",
       "<g id=\"node71\" class=\"node\">\n",
       "<title>70</title>\n",
       "<text text-anchor=\"start\" x=\"1129\" y=\"-375.3\" font-family=\"Courier,monospace\" font-weight=\"bold\" font-size=\"14.00\" fill=\"#004080\">Return</text>\n",
       "</g>\n",
       "<!-- 0&#45;&#45;70 -->\n",
       "<g id=\"edge70\" class=\"edge\">\n",
       "<title>0--70</title>\n",
       "<path fill=\"none\" stroke=\"black\" d=\"M247,-431C247,-431 958.58,-390.2 1121.18,-380.88\"/>\n",
       "</g>\n",
       "<!-- 3 -->\n",
       "<g id=\"node4\" class=\"node\">\n",
       "<title>3</title>\n",
       "<text text-anchor=\"start\" x=\"14.5\" y=\"-303.3\" font-family=\"Courier,monospace\" font-weight=\"bold\" font-size=\"14.00\" fill=\"#004080\">arg</text>\n",
       "</g>\n",
       "<!-- 2&#45;&#45;3 -->\n",
       "<g id=\"edge3\" class=\"edge\">\n",
       "<title>2--3</title>\n",
       "<path fill=\"none\" stroke=\"black\" d=\"M158,-359C158,-359 104.5,-341.4 63,-324 59.94,-322.72 56.76,-321.32 53.62,-319.89\"/>\n",
       "</g>\n",
       "<!-- 5 -->\n",
       "<g id=\"node6\" class=\"node\">\n",
       "<title>5</title>\n",
       "<text text-anchor=\"start\" x=\"86.5\" y=\"-303.3\" font-family=\"Courier,monospace\" font-weight=\"bold\" font-size=\"14.00\" fill=\"#004080\">arg</text>\n",
       "</g>\n",
       "<!-- 2&#45;&#45;5 -->\n",
       "<g id=\"edge5\" class=\"edge\">\n",
       "<title>2--5</title>\n",
       "<path fill=\"none\" stroke=\"black\" d=\"M158,-359C158,-359 135.24,-338.94 117.99,-323.74\"/>\n",
       "</g>\n",
       "<!-- 7 -->\n",
       "<g id=\"node8\" class=\"node\">\n",
       "<title>7</title>\n",
       "<text text-anchor=\"start\" x=\"158.5\" y=\"-303.3\" font-family=\"Courier,monospace\" font-weight=\"bold\" font-size=\"14.00\" fill=\"#004080\">arg</text>\n",
       "</g>\n",
       "<!-- 2&#45;&#45;7 -->\n",
       "<g id=\"edge7\" class=\"edge\">\n",
       "<title>2--7</title>\n",
       "<path fill=\"none\" stroke=\"black\" d=\"M158,-359C158,-359 163.01,-338.94 166.82,-323.74\"/>\n",
       "</g>\n",
       "<!-- 4 -->\n",
       "<g id=\"node5\" class=\"node\">\n",
       "<title>4</title>\n",
       "<text text-anchor=\"middle\" x=\"27\" y=\"-230.3\" font-family=\"Courier,monospace\" font-size=\"14.00\" fill=\"#008040\">&quot;x&quot;</text>\n",
       "</g>\n",
       "<!-- 3&#45;&#45;4 -->\n",
       "<g id=\"edge4\" class=\"edge\">\n",
       "<title>3--4</title>\n",
       "<path fill=\"none\" stroke=\"black\" d=\"M27,-288.05C27,-277.05 27,-262.76 27,-251.79\"/>\n",
       "</g>\n",
       "<!-- 6 -->\n",
       "<g id=\"node7\" class=\"node\">\n",
       "<title>6</title>\n",
       "<text text-anchor=\"middle\" x=\"99\" y=\"-230.3\" font-family=\"Courier,monospace\" font-size=\"14.00\" fill=\"#008040\">&quot;y&quot;</text>\n",
       "</g>\n",
       "<!-- 5&#45;&#45;6 -->\n",
       "<g id=\"edge6\" class=\"edge\">\n",
       "<title>5--6</title>\n",
       "<path fill=\"none\" stroke=\"black\" d=\"M99,-288.05C99,-277.05 99,-262.76 99,-251.79\"/>\n",
       "</g>\n",
       "<!-- 8 -->\n",
       "<g id=\"node9\" class=\"node\">\n",
       "<title>8</title>\n",
       "<text text-anchor=\"middle\" x=\"171\" y=\"-230.3\" font-family=\"Courier,monospace\" font-size=\"14.00\" fill=\"#008040\">&quot;z&quot;</text>\n",
       "</g>\n",
       "<!-- 7&#45;&#45;8 -->\n",
       "<g id=\"edge8\" class=\"edge\">\n",
       "<title>7--8</title>\n",
       "<path fill=\"none\" stroke=\"black\" d=\"M171,-288.05C171,-277.05 171,-262.76 171,-251.79\"/>\n",
       "</g>\n",
       "<!-- 10 -->\n",
       "<g id=\"node11\" class=\"node\">\n",
       "<title>10</title>\n",
       "<text text-anchor=\"start\" x=\"322\" y=\"-303.3\" font-family=\"Courier,monospace\" font-weight=\"bold\" font-size=\"14.00\" fill=\"#004080\">Compare</text>\n",
       "</g>\n",
       "<!-- 9&#45;&#45;10 -->\n",
       "<g id=\"edge10\" class=\"edge\">\n",
       "<title>9--10</title>\n",
       "<path fill=\"none\" stroke=\"black\" d=\"M490,-359C490,-359 429.06,-336.2 387.88,-320.8\"/>\n",
       "</g>\n",
       "<!-- 18 -->\n",
       "<g id=\"node19\" class=\"node\">\n",
       "<title>18</title>\n",
       "<text text-anchor=\"start\" x=\"594.5\" y=\"-303.3\" font-family=\"Courier,monospace\" font-weight=\"bold\" font-size=\"14.00\" fill=\"#004080\">If</text>\n",
       "</g>\n",
       "<!-- 9&#45;&#45;18 -->\n",
       "<g id=\"edge18\" class=\"edge\">\n",
       "<title>9--18</title>\n",
       "<path fill=\"none\" stroke=\"black\" d=\"M490,-359C490,-359 542.8,-334.7 576.22,-319.32\"/>\n",
       "</g>\n",
       "<!-- 44 -->\n",
       "<g id=\"node45\" class=\"node\">\n",
       "<title>44</title>\n",
       "<text text-anchor=\"start\" x=\"1314.5\" y=\"-303.3\" font-family=\"Courier,monospace\" font-weight=\"bold\" font-size=\"14.00\" fill=\"#004080\">If</text>\n",
       "</g>\n",
       "<!-- 9&#45;&#45;44 -->\n",
       "<g id=\"edge44\" class=\"edge\">\n",
       "<title>9--44</title>\n",
       "<path fill=\"none\" stroke=\"black\" d=\"M490,-359C490,-359 1153.65,-317.57 1296.23,-308.67\"/>\n",
       "</g>\n",
       "<!-- 11 -->\n",
       "<g id=\"node12\" class=\"node\">\n",
       "<title>11</title>\n",
       "<text text-anchor=\"start\" x=\"226\" y=\"-231.3\" font-family=\"Courier,monospace\" font-weight=\"bold\" font-size=\"14.00\" fill=\"#004080\">Name</text>\n",
       "</g>\n",
       "<!-- 10&#45;&#45;11 -->\n",
       "<g id=\"edge11\" class=\"edge\">\n",
       "<title>10--11</title>\n",
       "<path fill=\"none\" stroke=\"black\" d=\"M345,-287C345,-287 300.02,-264.07 269.8,-248.66\"/>\n",
       "</g>\n",
       "<!-- 14 -->\n",
       "<g id=\"node15\" class=\"node\">\n",
       "<title>14</title>\n",
       "<text text-anchor=\"middle\" x=\"315\" y=\"-230.3\" font-family=\"Courier,monospace\" font-size=\"14.00\" fill=\"#008040\">Lt</text>\n",
       "</g>\n",
       "<!-- 10&#45;&#45;14 -->\n",
       "<g id=\"edge14\" class=\"edge\">\n",
       "<title>10--14</title>\n",
       "<path fill=\"none\" stroke=\"black\" d=\"M345,-287C345,-287 333.43,-266.94 324.66,-251.74\"/>\n",
       "</g>\n",
       "<!-- 15 -->\n",
       "<g id=\"node16\" class=\"node\">\n",
       "<title>15</title>\n",
       "<text text-anchor=\"start\" x=\"370\" y=\"-231.3\" font-family=\"Courier,monospace\" font-weight=\"bold\" font-size=\"14.00\" fill=\"#004080\">Name</text>\n",
       "</g>\n",
       "<!-- 10&#45;&#45;15 -->\n",
       "<g id=\"edge15\" class=\"edge\">\n",
       "<title>10--15</title>\n",
       "<path fill=\"none\" stroke=\"black\" d=\"M345,-287C345,-287 361.2,-266.94 373.48,-251.74\"/>\n",
       "</g>\n",
       "<!-- 12 -->\n",
       "<g id=\"node13\" class=\"node\">\n",
       "<title>12</title>\n",
       "<text text-anchor=\"middle\" x=\"171\" y=\"-158.3\" font-family=\"Courier,monospace\" font-size=\"14.00\" fill=\"#008040\">&quot;y&quot;</text>\n",
       "</g>\n",
       "<!-- 11&#45;&#45;12 -->\n",
       "<g id=\"edge12\" class=\"edge\">\n",
       "<title>11--12</title>\n",
       "<path fill=\"none\" stroke=\"black\" d=\"M236,-215C236,-215 210.93,-194.94 191.92,-179.74\"/>\n",
       "</g>\n",
       "<!-- 13 -->\n",
       "<g id=\"node14\" class=\"node\">\n",
       "<title>13</title>\n",
       "<text text-anchor=\"middle\" x=\"243\" y=\"-158.3\" font-family=\"Courier,monospace\" font-size=\"14.00\" fill=\"#008040\">Load</text>\n",
       "</g>\n",
       "<!-- 11&#45;&#45;13 -->\n",
       "<g id=\"edge13\" class=\"edge\">\n",
       "<title>11--13</title>\n",
       "<path fill=\"none\" stroke=\"black\" d=\"M236,-215C236,-215 238.7,-194.94 240.75,-179.74\"/>\n",
       "</g>\n",
       "<!-- 16 -->\n",
       "<g id=\"node17\" class=\"node\">\n",
       "<title>16</title>\n",
       "<text text-anchor=\"middle\" x=\"315\" y=\"-158.3\" font-family=\"Courier,monospace\" font-size=\"14.00\" fill=\"#008040\">&quot;z&quot;</text>\n",
       "</g>\n",
       "<!-- 15&#45;&#45;16 -->\n",
       "<g id=\"edge16\" class=\"edge\">\n",
       "<title>15--16</title>\n",
       "<path fill=\"none\" stroke=\"black\" d=\"M380,-215C380,-215 354.93,-194.94 335.92,-179.74\"/>\n",
       "</g>\n",
       "<!-- 17 -->\n",
       "<g id=\"node18\" class=\"node\">\n",
       "<title>17</title>\n",
       "<text text-anchor=\"middle\" x=\"387\" y=\"-158.3\" font-family=\"Courier,monospace\" font-size=\"14.00\" fill=\"#008040\">Load</text>\n",
       "</g>\n",
       "<!-- 15&#45;&#45;17 -->\n",
       "<g id=\"edge17\" class=\"edge\">\n",
       "<title>15--17</title>\n",
       "<path fill=\"none\" stroke=\"black\" d=\"M380,-215C380,-215 382.7,-194.94 384.75,-179.74\"/>\n",
       "</g>\n",
       "<!-- 19 -->\n",
       "<g id=\"node20\" class=\"node\">\n",
       "<title>19</title>\n",
       "<text text-anchor=\"start\" x=\"516\" y=\"-231.3\" font-family=\"Courier,monospace\" font-weight=\"bold\" font-size=\"14.00\" fill=\"#004080\">Compare</text>\n",
       "</g>\n",
       "<!-- 18&#45;&#45;19 -->\n",
       "<g id=\"edge19\" class=\"edge\">\n",
       "<title>18--19</title>\n",
       "<path fill=\"none\" stroke=\"black\" d=\"M613,-287C613,-287 586.77,-266.94 566.89,-251.74\"/>\n",
       "</g>\n",
       "<!-- 27 -->\n",
       "<g id=\"node28\" class=\"node\">\n",
       "<title>27</title>\n",
       "<text text-anchor=\"start\" x=\"636\" y=\"-231.3\" font-family=\"Courier,monospace\" font-weight=\"bold\" font-size=\"14.00\" fill=\"#004080\">Return</text>\n",
       "</g>\n",
       "<!-- 18&#45;&#45;27 -->\n",
       "<g id=\"edge27\" class=\"edge\">\n",
       "<title>18--27</title>\n",
       "<path fill=\"none\" stroke=\"black\" d=\"M613,-287C613,-287 631.52,-266.94 645.55,-251.74\"/>\n",
       "</g>\n",
       "<!-- 31 -->\n",
       "<g id=\"node32\" class=\"node\">\n",
       "<title>31</title>\n",
       "<text text-anchor=\"start\" x=\"882.5\" y=\"-231.3\" font-family=\"Courier,monospace\" font-weight=\"bold\" font-size=\"14.00\" fill=\"#004080\">If</text>\n",
       "</g>\n",
       "<!-- 18&#45;&#45;31 -->\n",
       "<g id=\"edge31\" class=\"edge\">\n",
       "<title>18--31</title>\n",
       "<path fill=\"none\" stroke=\"black\" d=\"M613,-287C613,-287 794.32,-253.08 864.09,-240.03\"/>\n",
       "</g>\n",
       "<!-- 20 -->\n",
       "<g id=\"node21\" class=\"node\">\n",
       "<title>20</title>\n",
       "<text text-anchor=\"start\" x=\"442\" y=\"-159.3\" font-family=\"Courier,monospace\" font-weight=\"bold\" font-size=\"14.00\" fill=\"#004080\">Name</text>\n",
       "</g>\n",
       "<!-- 19&#45;&#45;20 -->\n",
       "<g id=\"edge20\" class=\"edge\">\n",
       "<title>19--20</title>\n",
       "<path fill=\"none\" stroke=\"black\" d=\"M543,-215C543,-215 510.19,-194.69 485.58,-179.45\"/>\n",
       "</g>\n",
       "<!-- 23 -->\n",
       "<g id=\"node24\" class=\"node\">\n",
       "<title>23</title>\n",
       "<text text-anchor=\"middle\" x=\"531\" y=\"-158.3\" font-family=\"Courier,monospace\" font-size=\"14.00\" fill=\"#008040\">Lt</text>\n",
       "</g>\n",
       "<!-- 19&#45;&#45;23 -->\n",
       "<g id=\"edge23\" class=\"edge\">\n",
       "<title>19--23</title>\n",
       "<path fill=\"none\" stroke=\"black\" d=\"M543,-215C543,-215 538.37,-194.94 534.86,-179.74\"/>\n",
       "</g>\n",
       "<!-- 24 -->\n",
       "<g id=\"node25\" class=\"node\">\n",
       "<title>24</title>\n",
       "<text text-anchor=\"start\" x=\"586\" y=\"-159.3\" font-family=\"Courier,monospace\" font-weight=\"bold\" font-size=\"14.00\" fill=\"#004080\">Name</text>\n",
       "</g>\n",
       "<!-- 19&#45;&#45;24 -->\n",
       "<g id=\"edge24\" class=\"edge\">\n",
       "<title>19--24</title>\n",
       "<path fill=\"none\" stroke=\"black\" d=\"M543,-215C543,-215 566.15,-194.94 583.69,-179.74\"/>\n",
       "</g>\n",
       "<!-- 21 -->\n",
       "<g id=\"node22\" class=\"node\">\n",
       "<title>21</title>\n",
       "<text text-anchor=\"middle\" x=\"387\" y=\"-86.3\" font-family=\"Courier,monospace\" font-size=\"14.00\" fill=\"#008040\">&quot;x&quot;</text>\n",
       "</g>\n",
       "<!-- 20&#45;&#45;21 -->\n",
       "<g id=\"edge21\" class=\"edge\">\n",
       "<title>20--21</title>\n",
       "<path fill=\"none\" stroke=\"black\" d=\"M452,-143C452,-143 426.93,-122.94 407.92,-107.74\"/>\n",
       "</g>\n",
       "<!-- 22 -->\n",
       "<g id=\"node23\" class=\"node\">\n",
       "<title>22</title>\n",
       "<text text-anchor=\"middle\" x=\"459\" y=\"-86.3\" font-family=\"Courier,monospace\" font-size=\"14.00\" fill=\"#008040\">Load</text>\n",
       "</g>\n",
       "<!-- 20&#45;&#45;22 -->\n",
       "<g id=\"edge22\" class=\"edge\">\n",
       "<title>20--22</title>\n",
       "<path fill=\"none\" stroke=\"black\" d=\"M452,-143C452,-143 454.7,-122.94 456.75,-107.74\"/>\n",
       "</g>\n",
       "<!-- 25 -->\n",
       "<g id=\"node26\" class=\"node\">\n",
       "<title>25</title>\n",
       "<text text-anchor=\"middle\" x=\"531\" y=\"-86.3\" font-family=\"Courier,monospace\" font-size=\"14.00\" fill=\"#008040\">&quot;y&quot;</text>\n",
       "</g>\n",
       "<!-- 24&#45;&#45;25 -->\n",
       "<g id=\"edge25\" class=\"edge\">\n",
       "<title>24--25</title>\n",
       "<path fill=\"none\" stroke=\"black\" d=\"M596,-143C596,-143 570.93,-122.94 551.92,-107.74\"/>\n",
       "</g>\n",
       "<!-- 26 -->\n",
       "<g id=\"node27\" class=\"node\">\n",
       "<title>26</title>\n",
       "<text text-anchor=\"middle\" x=\"603\" y=\"-86.3\" font-family=\"Courier,monospace\" font-size=\"14.00\" fill=\"#008040\">Load</text>\n",
       "</g>\n",
       "<!-- 24&#45;&#45;26 -->\n",
       "<g id=\"edge26\" class=\"edge\">\n",
       "<title>24--26</title>\n",
       "<path fill=\"none\" stroke=\"black\" d=\"M596,-143C596,-143 598.7,-122.94 600.75,-107.74\"/>\n",
       "</g>\n",
       "<!-- 28 -->\n",
       "<g id=\"node29\" class=\"node\">\n",
       "<title>28</title>\n",
       "<text text-anchor=\"start\" x=\"658\" y=\"-159.3\" font-family=\"Courier,monospace\" font-weight=\"bold\" font-size=\"14.00\" fill=\"#004080\">Name</text>\n",
       "</g>\n",
       "<!-- 27&#45;&#45;28 -->\n",
       "<g id=\"edge28\" class=\"edge\">\n",
       "<title>27--28</title>\n",
       "<path fill=\"none\" stroke=\"black\" d=\"M664.39,-216.05C666.59,-205.05 669.45,-190.76 671.64,-179.79\"/>\n",
       "</g>\n",
       "<!-- 29 -->\n",
       "<g id=\"node30\" class=\"node\">\n",
       "<title>29</title>\n",
       "<text text-anchor=\"middle\" x=\"675\" y=\"-86.3\" font-family=\"Courier,monospace\" font-size=\"14.00\" fill=\"#008040\">&quot;y&quot;</text>\n",
       "</g>\n",
       "<!-- 28&#45;&#45;29 -->\n",
       "<g id=\"edge29\" class=\"edge\">\n",
       "<title>28--29</title>\n",
       "<path fill=\"none\" stroke=\"black\" d=\"M682,-143C682,-143 679.3,-122.94 677.25,-107.74\"/>\n",
       "</g>\n",
       "<!-- 30 -->\n",
       "<g id=\"node31\" class=\"node\">\n",
       "<title>30</title>\n",
       "<text text-anchor=\"middle\" x=\"747\" y=\"-86.3\" font-family=\"Courier,monospace\" font-size=\"14.00\" fill=\"#008040\">Load</text>\n",
       "</g>\n",
       "<!-- 28&#45;&#45;30 -->\n",
       "<g id=\"edge30\" class=\"edge\">\n",
       "<title>28--30</title>\n",
       "<path fill=\"none\" stroke=\"black\" d=\"M682,-143C682,-143 707.07,-122.94 726.08,-107.74\"/>\n",
       "</g>\n",
       "<!-- 32 -->\n",
       "<g id=\"node33\" class=\"node\">\n",
       "<title>32</title>\n",
       "<text text-anchor=\"start\" x=\"862\" y=\"-159.3\" font-family=\"Courier,monospace\" font-weight=\"bold\" font-size=\"14.00\" fill=\"#004080\">Compare</text>\n",
       "</g>\n",
       "<!-- 31&#45;&#45;32 -->\n",
       "<g id=\"edge32\" class=\"edge\">\n",
       "<title>31--32</title>\n",
       "<path fill=\"none\" stroke=\"black\" d=\"M901,-215C901,-215 897.14,-194.94 894.22,-179.74\"/>\n",
       "</g>\n",
       "<!-- 40 -->\n",
       "<g id=\"node41\" class=\"node\">\n",
       "<title>40</title>\n",
       "<text text-anchor=\"start\" x=\"982\" y=\"-159.3\" font-family=\"Courier,monospace\" font-weight=\"bold\" font-size=\"14.00\" fill=\"#004080\">Return</text>\n",
       "</g>\n",
       "<!-- 31&#45;&#45;40 -->\n",
       "<g id=\"edge40\" class=\"edge\">\n",
       "<title>31--40</title>\n",
       "<path fill=\"none\" stroke=\"black\" d=\"M901,-215C901,-215 942.93,-194.43 974.04,-179.17\"/>\n",
       "</g>\n",
       "<!-- 33 -->\n",
       "<g id=\"node34\" class=\"node\">\n",
       "<title>33</title>\n",
       "<text text-anchor=\"start\" x=\"802\" y=\"-87.3\" font-family=\"Courier,monospace\" font-weight=\"bold\" font-size=\"14.00\" fill=\"#004080\">Name</text>\n",
       "</g>\n",
       "<!-- 32&#45;&#45;33 -->\n",
       "<g id=\"edge33\" class=\"edge\">\n",
       "<title>32--33</title>\n",
       "<path fill=\"none\" stroke=\"black\" d=\"M891,-143C891,-143 863.23,-122.94 842.18,-107.74\"/>\n",
       "</g>\n",
       "<!-- 36 -->\n",
       "<g id=\"node37\" class=\"node\">\n",
       "<title>36</title>\n",
       "<text text-anchor=\"middle\" x=\"891\" y=\"-86.3\" font-family=\"Courier,monospace\" font-size=\"14.00\" fill=\"#008040\">Lt</text>\n",
       "</g>\n",
       "<!-- 32&#45;&#45;36 -->\n",
       "<g id=\"edge36\" class=\"edge\">\n",
       "<title>32--36</title>\n",
       "<path fill=\"none\" stroke=\"black\" d=\"M891,-143C891,-143 891,-122.94 891,-107.74\"/>\n",
       "</g>\n",
       "<!-- 37 -->\n",
       "<g id=\"node38\" class=\"node\">\n",
       "<title>37</title>\n",
       "<text text-anchor=\"start\" x=\"946\" y=\"-87.3\" font-family=\"Courier,monospace\" font-weight=\"bold\" font-size=\"14.00\" fill=\"#004080\">Name</text>\n",
       "</g>\n",
       "<!-- 32&#45;&#45;37 -->\n",
       "<g id=\"edge37\" class=\"edge\">\n",
       "<title>32--37</title>\n",
       "<path fill=\"none\" stroke=\"black\" d=\"M891,-143C891,-143 918.77,-122.94 939.82,-107.74\"/>\n",
       "</g>\n",
       "<!-- 34 -->\n",
       "<g id=\"node35\" class=\"node\">\n",
       "<title>34</title>\n",
       "<text text-anchor=\"middle\" x=\"747\" y=\"-14.3\" font-family=\"Courier,monospace\" font-size=\"14.00\" fill=\"#008040\">&quot;x&quot;</text>\n",
       "</g>\n",
       "<!-- 33&#45;&#45;34 -->\n",
       "<g id=\"edge34\" class=\"edge\">\n",
       "<title>33--34</title>\n",
       "<path fill=\"none\" stroke=\"black\" d=\"M812,-71C812,-71 786.93,-50.94 767.92,-35.74\"/>\n",
       "</g>\n",
       "<!-- 35 -->\n",
       "<g id=\"node36\" class=\"node\">\n",
       "<title>35</title>\n",
       "<text text-anchor=\"middle\" x=\"819\" y=\"-14.3\" font-family=\"Courier,monospace\" font-size=\"14.00\" fill=\"#008040\">Load</text>\n",
       "</g>\n",
       "<!-- 33&#45;&#45;35 -->\n",
       "<g id=\"edge35\" class=\"edge\">\n",
       "<title>33--35</title>\n",
       "<path fill=\"none\" stroke=\"black\" d=\"M812,-71C812,-71 814.7,-50.94 816.75,-35.74\"/>\n",
       "</g>\n",
       "<!-- 38 -->\n",
       "<g id=\"node39\" class=\"node\">\n",
       "<title>38</title>\n",
       "<text text-anchor=\"middle\" x=\"891\" y=\"-14.3\" font-family=\"Courier,monospace\" font-size=\"14.00\" fill=\"#008040\">&quot;z&quot;</text>\n",
       "</g>\n",
       "<!-- 37&#45;&#45;38 -->\n",
       "<g id=\"edge38\" class=\"edge\">\n",
       "<title>37--38</title>\n",
       "<path fill=\"none\" stroke=\"black\" d=\"M956,-71C956,-71 930.93,-50.94 911.92,-35.74\"/>\n",
       "</g>\n",
       "<!-- 39 -->\n",
       "<g id=\"node40\" class=\"node\">\n",
       "<title>39</title>\n",
       "<text text-anchor=\"middle\" x=\"963\" y=\"-14.3\" font-family=\"Courier,monospace\" font-size=\"14.00\" fill=\"#008040\">Load</text>\n",
       "</g>\n",
       "<!-- 37&#45;&#45;39 -->\n",
       "<g id=\"edge39\" class=\"edge\">\n",
       "<title>37--39</title>\n",
       "<path fill=\"none\" stroke=\"black\" d=\"M956,-71C956,-71 958.7,-50.94 960.75,-35.74\"/>\n",
       "</g>\n",
       "<!-- 41 -->\n",
       "<g id=\"node42\" class=\"node\">\n",
       "<title>41</title>\n",
       "<text text-anchor=\"start\" x=\"1018\" y=\"-87.3\" font-family=\"Courier,monospace\" font-weight=\"bold\" font-size=\"14.00\" fill=\"#004080\">Name</text>\n",
       "</g>\n",
       "<!-- 40&#45;&#45;41 -->\n",
       "<g id=\"edge41\" class=\"edge\">\n",
       "<title>40--41</title>\n",
       "<path fill=\"none\" stroke=\"black\" d=\"M1013.78,-144.05C1018.18,-133.05 1023.89,-118.76 1028.28,-107.79\"/>\n",
       "</g>\n",
       "<!-- 42 -->\n",
       "<g id=\"node43\" class=\"node\">\n",
       "<title>42</title>\n",
       "<text text-anchor=\"middle\" x=\"1035\" y=\"-14.3\" font-family=\"Courier,monospace\" font-size=\"14.00\" fill=\"#008040\">&quot;y&quot;</text>\n",
       "</g>\n",
       "<!-- 41&#45;&#45;42 -->\n",
       "<g id=\"edge42\" class=\"edge\">\n",
       "<title>41--42</title>\n",
       "<path fill=\"none\" stroke=\"black\" d=\"M1042,-71C1042,-71 1039.3,-50.94 1037.25,-35.74\"/>\n",
       "</g>\n",
       "<!-- 43 -->\n",
       "<g id=\"node44\" class=\"node\">\n",
       "<title>43</title>\n",
       "<text text-anchor=\"middle\" x=\"1107\" y=\"-14.3\" font-family=\"Courier,monospace\" font-size=\"14.00\" fill=\"#008040\">Load</text>\n",
       "</g>\n",
       "<!-- 41&#45;&#45;43 -->\n",
       "<g id=\"edge43\" class=\"edge\">\n",
       "<title>41--43</title>\n",
       "<path fill=\"none\" stroke=\"black\" d=\"M1042,-71C1042,-71 1067.07,-50.94 1086.08,-35.74\"/>\n",
       "</g>\n",
       "<!-- 45 -->\n",
       "<g id=\"node46\" class=\"node\">\n",
       "<title>45</title>\n",
       "<text text-anchor=\"start\" x=\"1236\" y=\"-231.3\" font-family=\"Courier,monospace\" font-weight=\"bold\" font-size=\"14.00\" fill=\"#004080\">Compare</text>\n",
       "</g>\n",
       "<!-- 44&#45;&#45;45 -->\n",
       "<g id=\"edge45\" class=\"edge\">\n",
       "<title>44--45</title>\n",
       "<path fill=\"none\" stroke=\"black\" d=\"M1332,-287C1332,-287 1306.15,-266.94 1286.57,-251.74\"/>\n",
       "</g>\n",
       "<!-- 53 -->\n",
       "<g id=\"node54\" class=\"node\">\n",
       "<title>53</title>\n",
       "<text text-anchor=\"start\" x=\"1356\" y=\"-231.3\" font-family=\"Courier,monospace\" font-weight=\"bold\" font-size=\"14.00\" fill=\"#004080\">Return</text>\n",
       "</g>\n",
       "<!-- 44&#45;&#45;53 -->\n",
       "<g id=\"edge53\" class=\"edge\">\n",
       "<title>44--53</title>\n",
       "<path fill=\"none\" stroke=\"black\" d=\"M1332,-287C1332,-287 1350.9,-266.94 1365.23,-251.74\"/>\n",
       "</g>\n",
       "<!-- 57 -->\n",
       "<g id=\"node58\" class=\"node\">\n",
       "<title>57</title>\n",
       "<text text-anchor=\"start\" x=\"1533.5\" y=\"-231.3\" font-family=\"Courier,monospace\" font-weight=\"bold\" font-size=\"14.00\" fill=\"#004080\">If</text>\n",
       "</g>\n",
       "<!-- 44&#45;&#45;57 -->\n",
       "<g id=\"edge57\" class=\"edge\">\n",
       "<title>44--57</title>\n",
       "<path fill=\"none\" stroke=\"black\" d=\"M1332,-287C1332,-287 1458.9,-255.58 1515.4,-241.59\"/>\n",
       "</g>\n",
       "<!-- 46 -->\n",
       "<g id=\"node47\" class=\"node\">\n",
       "<title>46</title>\n",
       "<text text-anchor=\"start\" x=\"1162\" y=\"-159.3\" font-family=\"Courier,monospace\" font-weight=\"bold\" font-size=\"14.00\" fill=\"#004080\">Name</text>\n",
       "</g>\n",
       "<!-- 45&#45;&#45;46 -->\n",
       "<g id=\"edge46\" class=\"edge\">\n",
       "<title>45--46</title>\n",
       "<path fill=\"none\" stroke=\"black\" d=\"M1263,-215C1263,-215 1230.19,-194.69 1205.58,-179.45\"/>\n",
       "</g>\n",
       "<!-- 49 -->\n",
       "<g id=\"node50\" class=\"node\">\n",
       "<title>49</title>\n",
       "<text text-anchor=\"middle\" x=\"1251\" y=\"-158.3\" font-family=\"Courier,monospace\" font-size=\"14.00\" fill=\"#008040\">Gt</text>\n",
       "</g>\n",
       "<!-- 45&#45;&#45;49 -->\n",
       "<g id=\"edge49\" class=\"edge\">\n",
       "<title>45--49</title>\n",
       "<path fill=\"none\" stroke=\"black\" d=\"M1263,-215C1263,-215 1258.37,-194.94 1254.86,-179.74\"/>\n",
       "</g>\n",
       "<!-- 50 -->\n",
       "<g id=\"node51\" class=\"node\">\n",
       "<title>50</title>\n",
       "<text text-anchor=\"start\" x=\"1306\" y=\"-159.3\" font-family=\"Courier,monospace\" font-weight=\"bold\" font-size=\"14.00\" fill=\"#004080\">Name</text>\n",
       "</g>\n",
       "<!-- 45&#45;&#45;50 -->\n",
       "<g id=\"edge50\" class=\"edge\">\n",
       "<title>45--50</title>\n",
       "<path fill=\"none\" stroke=\"black\" d=\"M1263,-215C1263,-215 1286.15,-194.94 1303.69,-179.74\"/>\n",
       "</g>\n",
       "<!-- 47 -->\n",
       "<g id=\"node48\" class=\"node\">\n",
       "<title>47</title>\n",
       "<text text-anchor=\"middle\" x=\"1107\" y=\"-86.3\" font-family=\"Courier,monospace\" font-size=\"14.00\" fill=\"#008040\">&quot;x&quot;</text>\n",
       "</g>\n",
       "<!-- 46&#45;&#45;47 -->\n",
       "<g id=\"edge47\" class=\"edge\">\n",
       "<title>46--47</title>\n",
       "<path fill=\"none\" stroke=\"black\" d=\"M1172,-143C1172,-143 1146.93,-122.94 1127.92,-107.74\"/>\n",
       "</g>\n",
       "<!-- 48 -->\n",
       "<g id=\"node49\" class=\"node\">\n",
       "<title>48</title>\n",
       "<text text-anchor=\"middle\" x=\"1179\" y=\"-86.3\" font-family=\"Courier,monospace\" font-size=\"14.00\" fill=\"#008040\">Load</text>\n",
       "</g>\n",
       "<!-- 46&#45;&#45;48 -->\n",
       "<g id=\"edge48\" class=\"edge\">\n",
       "<title>46--48</title>\n",
       "<path fill=\"none\" stroke=\"black\" d=\"M1172,-143C1172,-143 1174.7,-122.94 1176.75,-107.74\"/>\n",
       "</g>\n",
       "<!-- 51 -->\n",
       "<g id=\"node52\" class=\"node\">\n",
       "<title>51</title>\n",
       "<text text-anchor=\"middle\" x=\"1251\" y=\"-86.3\" font-family=\"Courier,monospace\" font-size=\"14.00\" fill=\"#008040\">&quot;y&quot;</text>\n",
       "</g>\n",
       "<!-- 50&#45;&#45;51 -->\n",
       "<g id=\"edge51\" class=\"edge\">\n",
       "<title>50--51</title>\n",
       "<path fill=\"none\" stroke=\"black\" d=\"M1316,-143C1316,-143 1290.93,-122.94 1271.92,-107.74\"/>\n",
       "</g>\n",
       "<!-- 52 -->\n",
       "<g id=\"node53\" class=\"node\">\n",
       "<title>52</title>\n",
       "<text text-anchor=\"middle\" x=\"1323\" y=\"-86.3\" font-family=\"Courier,monospace\" font-size=\"14.00\" fill=\"#008040\">Load</text>\n",
       "</g>\n",
       "<!-- 50&#45;&#45;52 -->\n",
       "<g id=\"edge52\" class=\"edge\">\n",
       "<title>50--52</title>\n",
       "<path fill=\"none\" stroke=\"black\" d=\"M1316,-143C1316,-143 1318.7,-122.94 1320.75,-107.74\"/>\n",
       "</g>\n",
       "<!-- 54 -->\n",
       "<g id=\"node55\" class=\"node\">\n",
       "<title>54</title>\n",
       "<text text-anchor=\"start\" x=\"1378\" y=\"-159.3\" font-family=\"Courier,monospace\" font-weight=\"bold\" font-size=\"14.00\" fill=\"#004080\">Name</text>\n",
       "</g>\n",
       "<!-- 53&#45;&#45;54 -->\n",
       "<g id=\"edge54\" class=\"edge\">\n",
       "<title>53--54</title>\n",
       "<path fill=\"none\" stroke=\"black\" d=\"M1384.39,-216.05C1386.59,-205.05 1389.45,-190.76 1391.64,-179.79\"/>\n",
       "</g>\n",
       "<!-- 55 -->\n",
       "<g id=\"node56\" class=\"node\">\n",
       "<title>55</title>\n",
       "<text text-anchor=\"middle\" x=\"1395\" y=\"-86.3\" font-family=\"Courier,monospace\" font-size=\"14.00\" fill=\"#008040\">&quot;y&quot;</text>\n",
       "</g>\n",
       "<!-- 54&#45;&#45;55 -->\n",
       "<g id=\"edge55\" class=\"edge\">\n",
       "<title>54--55</title>\n",
       "<path fill=\"none\" stroke=\"black\" d=\"M1402,-143C1402,-143 1399.3,-122.94 1397.25,-107.74\"/>\n",
       "</g>\n",
       "<!-- 56 -->\n",
       "<g id=\"node57\" class=\"node\">\n",
       "<title>56</title>\n",
       "<text text-anchor=\"middle\" x=\"1467\" y=\"-86.3\" font-family=\"Courier,monospace\" font-size=\"14.00\" fill=\"#008040\">Load</text>\n",
       "</g>\n",
       "<!-- 54&#45;&#45;56 -->\n",
       "<g id=\"edge56\" class=\"edge\">\n",
       "<title>54--56</title>\n",
       "<path fill=\"none\" stroke=\"black\" d=\"M1402,-143C1402,-143 1427.07,-122.94 1446.08,-107.74\"/>\n",
       "</g>\n",
       "<!-- 58 -->\n",
       "<g id=\"node59\" class=\"node\">\n",
       "<title>58</title>\n",
       "<text text-anchor=\"start\" x=\"1548\" y=\"-159.3\" font-family=\"Courier,monospace\" font-weight=\"bold\" font-size=\"14.00\" fill=\"#004080\">Compare</text>\n",
       "</g>\n",
       "<!-- 57&#45;&#45;58 -->\n",
       "<g id=\"edge58\" class=\"edge\">\n",
       "<title>57--58</title>\n",
       "<path fill=\"none\" stroke=\"black\" d=\"M1561,-215C1561,-215 1567.17,-194.94 1571.85,-179.74\"/>\n",
       "</g>\n",
       "<!-- 66 -->\n",
       "<g id=\"node67\" class=\"node\">\n",
       "<title>66</title>\n",
       "<text text-anchor=\"start\" x=\"1685\" y=\"-159.3\" font-family=\"Courier,monospace\" font-weight=\"bold\" font-size=\"14.00\" fill=\"#004080\">Return</text>\n",
       "</g>\n",
       "<!-- 57&#45;&#45;66 -->\n",
       "<g id=\"edge66\" class=\"edge\">\n",
       "<title>57--66</title>\n",
       "<path fill=\"none\" stroke=\"black\" d=\"M1561,-215C1561,-215 1633.44,-189.72 1677.3,-174.41\"/>\n",
       "</g>\n",
       "<!-- 59 -->\n",
       "<g id=\"node60\" class=\"node\">\n",
       "<title>59</title>\n",
       "<text text-anchor=\"start\" x=\"1522\" y=\"-87.3\" font-family=\"Courier,monospace\" font-weight=\"bold\" font-size=\"14.00\" fill=\"#004080\">Name</text>\n",
       "</g>\n",
       "<!-- 58&#45;&#45;59 -->\n",
       "<g id=\"edge59\" class=\"edge\">\n",
       "<title>58--59</title>\n",
       "<path fill=\"none\" stroke=\"black\" d=\"M1583,-143C1583,-143 1566.03,-122.94 1553.16,-107.74\"/>\n",
       "</g>\n",
       "<!-- 62 -->\n",
       "<g id=\"node63\" class=\"node\">\n",
       "<title>62</title>\n",
       "<text text-anchor=\"middle\" x=\"1611\" y=\"-86.3\" font-family=\"Courier,monospace\" font-size=\"14.00\" fill=\"#008040\">Gt</text>\n",
       "</g>\n",
       "<!-- 58&#45;&#45;62 -->\n",
       "<g id=\"edge62\" class=\"edge\">\n",
       "<title>58--62</title>\n",
       "<path fill=\"none\" stroke=\"black\" d=\"M1583,-143C1583,-143 1593.8,-122.94 1601.99,-107.74\"/>\n",
       "</g>\n",
       "<!-- 63 -->\n",
       "<g id=\"node64\" class=\"node\">\n",
       "<title>63</title>\n",
       "<text text-anchor=\"start\" x=\"1666\" y=\"-87.3\" font-family=\"Courier,monospace\" font-weight=\"bold\" font-size=\"14.00\" fill=\"#004080\">Name</text>\n",
       "</g>\n",
       "<!-- 58&#45;&#45;63 -->\n",
       "<g id=\"edge63\" class=\"edge\">\n",
       "<title>58--63</title>\n",
       "<path fill=\"none\" stroke=\"black\" d=\"M1583,-143C1583,-143 1626.58,-120.34 1656.2,-104.94\"/>\n",
       "</g>\n",
       "<!-- 60 -->\n",
       "<g id=\"node61\" class=\"node\">\n",
       "<title>60</title>\n",
       "<text text-anchor=\"middle\" x=\"1467\" y=\"-14.3\" font-family=\"Courier,monospace\" font-size=\"14.00\" fill=\"#008040\">&quot;x&quot;</text>\n",
       "</g>\n",
       "<!-- 59&#45;&#45;60 -->\n",
       "<g id=\"edge60\" class=\"edge\">\n",
       "<title>59--60</title>\n",
       "<path fill=\"none\" stroke=\"black\" d=\"M1532,-71C1532,-71 1506.93,-50.94 1487.92,-35.74\"/>\n",
       "</g>\n",
       "<!-- 61 -->\n",
       "<g id=\"node62\" class=\"node\">\n",
       "<title>61</title>\n",
       "<text text-anchor=\"middle\" x=\"1539\" y=\"-14.3\" font-family=\"Courier,monospace\" font-size=\"14.00\" fill=\"#008040\">Load</text>\n",
       "</g>\n",
       "<!-- 59&#45;&#45;61 -->\n",
       "<g id=\"edge61\" class=\"edge\">\n",
       "<title>59--61</title>\n",
       "<path fill=\"none\" stroke=\"black\" d=\"M1532,-71C1532,-71 1534.7,-50.94 1536.75,-35.74\"/>\n",
       "</g>\n",
       "<!-- 64 -->\n",
       "<g id=\"node65\" class=\"node\">\n",
       "<title>64</title>\n",
       "<text text-anchor=\"middle\" x=\"1611\" y=\"-14.3\" font-family=\"Courier,monospace\" font-size=\"14.00\" fill=\"#008040\">&quot;z&quot;</text>\n",
       "</g>\n",
       "<!-- 63&#45;&#45;64 -->\n",
       "<g id=\"edge64\" class=\"edge\">\n",
       "<title>63--64</title>\n",
       "<path fill=\"none\" stroke=\"black\" d=\"M1676,-71C1676,-71 1650.93,-50.94 1631.92,-35.74\"/>\n",
       "</g>\n",
       "<!-- 65 -->\n",
       "<g id=\"node66\" class=\"node\">\n",
       "<title>65</title>\n",
       "<text text-anchor=\"middle\" x=\"1683\" y=\"-14.3\" font-family=\"Courier,monospace\" font-size=\"14.00\" fill=\"#008040\">Load</text>\n",
       "</g>\n",
       "<!-- 63&#45;&#45;65 -->\n",
       "<g id=\"edge65\" class=\"edge\">\n",
       "<title>63--65</title>\n",
       "<path fill=\"none\" stroke=\"black\" d=\"M1676,-71C1676,-71 1678.7,-50.94 1680.75,-35.74\"/>\n",
       "</g>\n",
       "<!-- 67 -->\n",
       "<g id=\"node68\" class=\"node\">\n",
       "<title>67</title>\n",
       "<text text-anchor=\"start\" x=\"1738\" y=\"-87.3\" font-family=\"Courier,monospace\" font-weight=\"bold\" font-size=\"14.00\" fill=\"#004080\">Name</text>\n",
       "</g>\n",
       "<!-- 66&#45;&#45;67 -->\n",
       "<g id=\"edge67\" class=\"edge\">\n",
       "<title>66--67</title>\n",
       "<path fill=\"none\" stroke=\"black\" d=\"M1720.89,-144.05C1727.97,-133.05 1737.15,-118.76 1744.21,-107.79\"/>\n",
       "</g>\n",
       "<!-- 68 -->\n",
       "<g id=\"node69\" class=\"node\">\n",
       "<title>68</title>\n",
       "<text text-anchor=\"middle\" x=\"1755\" y=\"-14.3\" font-family=\"Courier,monospace\" font-size=\"14.00\" fill=\"#008040\">&quot;x&quot;</text>\n",
       "</g>\n",
       "<!-- 67&#45;&#45;68 -->\n",
       "<g id=\"edge68\" class=\"edge\">\n",
       "<title>67--68</title>\n",
       "<path fill=\"none\" stroke=\"black\" d=\"M1762,-71C1762,-71 1759.3,-50.94 1757.25,-35.74\"/>\n",
       "</g>\n",
       "<!-- 69 -->\n",
       "<g id=\"node70\" class=\"node\">\n",
       "<title>69</title>\n",
       "<text text-anchor=\"middle\" x=\"1827\" y=\"-14.3\" font-family=\"Courier,monospace\" font-size=\"14.00\" fill=\"#008040\">Load</text>\n",
       "</g>\n",
       "<!-- 67&#45;&#45;69 -->\n",
       "<g id=\"edge69\" class=\"edge\">\n",
       "<title>67--69</title>\n",
       "<path fill=\"none\" stroke=\"black\" d=\"M1762,-71C1762,-71 1787.07,-50.94 1806.08,-35.74\"/>\n",
       "</g>\n",
       "<!-- 71 -->\n",
       "<g id=\"node72\" class=\"node\">\n",
       "<title>71</title>\n",
       "<text text-anchor=\"start\" x=\"1597\" y=\"-303.3\" font-family=\"Courier,monospace\" font-weight=\"bold\" font-size=\"14.00\" fill=\"#004080\">Name</text>\n",
       "</g>\n",
       "<!-- 70&#45;&#45;71 -->\n",
       "<g id=\"edge71\" class=\"edge\">\n",
       "<title>70--71</title>\n",
       "<path fill=\"none\" stroke=\"black\" d=\"M1186.71,-372.02C1273.33,-358.84 1507.44,-323.22 1587.06,-311.1\"/>\n",
       "</g>\n",
       "<!-- 72 -->\n",
       "<g id=\"node73\" class=\"node\">\n",
       "<title>72</title>\n",
       "<text text-anchor=\"middle\" x=\"1614\" y=\"-230.3\" font-family=\"Courier,monospace\" font-size=\"14.00\" fill=\"#008040\">&quot;z&quot;</text>\n",
       "</g>\n",
       "<!-- 71&#45;&#45;72 -->\n",
       "<g id=\"edge72\" class=\"edge\">\n",
       "<title>71--72</title>\n",
       "<path fill=\"none\" stroke=\"black\" d=\"M1621,-287C1621,-287 1618.3,-266.94 1616.25,-251.74\"/>\n",
       "</g>\n",
       "<!-- 73 -->\n",
       "<g id=\"node74\" class=\"node\">\n",
       "<title>73</title>\n",
       "<text text-anchor=\"middle\" x=\"1686\" y=\"-230.3\" font-family=\"Courier,monospace\" font-size=\"14.00\" fill=\"#008040\">Load</text>\n",
       "</g>\n",
       "<!-- 71&#45;&#45;73 -->\n",
       "<g id=\"edge73\" class=\"edge\">\n",
       "<title>71--73</title>\n",
       "<path fill=\"none\" stroke=\"black\" d=\"M1621,-287C1621,-287 1646.07,-266.94 1665.08,-251.74\"/>\n",
       "</g>\n",
       "</g>\n",
       "</svg>"
      ],
      "text/plain": [
       "<IPython.core.display.SVG object>"
      ]
     },
     "metadata": {},
     "output_type": "display_data"
    }
   ],
   "source": [
    "middle_tree = ast.parse(inspect.getsource(middle))\n",
    "show_ast(middle_tree)"
   ]
  },
  {
   "cell_type": "markdown",
   "metadata": {
    "slideshow": {
     "slide_type": "fragment"
    }
   },
   "source": [
    "At the very bottom of the tree, you can see a number of `Name` nodes, referring individual variables. These are the ones we want to transform."
   ]
  },
  {
   "cell_type": "markdown",
   "metadata": {
    "slideshow": {
     "slide_type": "subslide"
    }
   },
   "source": [
    "### Tracking Variable Accesses\n",
    "\n",
    "Our goal is to _traverse_ the tree, identify all `Name` nodes, and convert them to respective `_data` accesses.\n",
    "To this end, we manipulate the AST through the `ast` Python module `ast`. The [official Python `ast` reference](http://docs.python.org/3/library/ast) is complete, but a bit brief; the documentation [\"Green Tree Snakes - the missing Python AST docs\"](https://greentreesnakes.readthedocs.io/en/latest/) provides an excellent introduction."
   ]
  },
  {
   "cell_type": "markdown",
   "metadata": {
    "slideshow": {
     "slide_type": "fragment"
    }
   },
   "source": [
    "The Python `ast` module provides a class `NodeTransformer` that allows such transformations. By subclassing from it, we provide a method `visit_Name()` that will be invoked for all `Name` nodes – and replace it by a new subtree from `make_get_data()`:"
   ]
  },
  {
   "cell_type": "code",
   "execution_count": 66,
   "metadata": {
    "execution": {
     "iopub.execute_input": "2023-02-11T12:18:25.977613Z",
     "iopub.status.busy": "2023-02-11T12:18:25.977288Z",
     "iopub.status.idle": "2023-02-11T12:18:25.978599Z",
     "shell.execute_reply": "2023-02-11T12:18:25.978903Z"
    },
    "slideshow": {
     "slide_type": "skip"
    }
   },
   "outputs": [],
   "source": [
    "from ast import NodeTransformer, NodeVisitor, Name, AST"
   ]
  },
  {
   "cell_type": "code",
   "execution_count": 67,
   "metadata": {
    "execution": {
     "iopub.execute_input": "2023-02-11T12:18:25.980864Z",
     "iopub.status.busy": "2023-02-11T12:18:25.980557Z",
     "iopub.status.idle": "2023-02-11T12:18:25.981672Z",
     "shell.execute_reply": "2023-02-11T12:18:25.982004Z"
    },
    "slideshow": {
     "slide_type": "skip"
    }
   },
   "outputs": [],
   "source": [
    "import typing"
   ]
  },
  {
   "cell_type": "code",
   "execution_count": 68,
   "metadata": {
    "execution": {
     "iopub.execute_input": "2023-02-11T12:18:25.983807Z",
     "iopub.status.busy": "2023-02-11T12:18:25.983503Z",
     "iopub.status.idle": "2023-02-11T12:18:25.984721Z",
     "shell.execute_reply": "2023-02-11T12:18:25.985074Z"
    },
    "slideshow": {
     "slide_type": "fragment"
    }
   },
   "outputs": [],
   "source": [
    "DATA_TRACKER = '_data'"
   ]
  },
  {
   "cell_type": "code",
   "execution_count": 69,
   "metadata": {
    "execution": {
     "iopub.execute_input": "2023-02-11T12:18:25.987731Z",
     "iopub.status.busy": "2023-02-11T12:18:25.987420Z",
     "iopub.status.idle": "2023-02-11T12:18:25.988675Z",
     "shell.execute_reply": "2023-02-11T12:18:25.988911Z"
    },
    "slideshow": {
     "slide_type": "subslide"
    }
   },
   "outputs": [],
   "source": [
    "def is_internal(id: str) -> bool:\n",
    "    \"\"\"Return True if `id` is a built-in function or type\"\"\"\n",
    "    return (id in dir(__builtins__) or id in dir(typing))"
   ]
  },
  {
   "cell_type": "code",
   "execution_count": 70,
   "metadata": {
    "execution": {
     "iopub.execute_input": "2023-02-11T12:18:25.991047Z",
     "iopub.status.busy": "2023-02-11T12:18:25.990726Z",
     "iopub.status.idle": "2023-02-11T12:18:25.991906Z",
     "shell.execute_reply": "2023-02-11T12:18:25.992093Z"
    },
    "slideshow": {
     "slide_type": "fragment"
    }
   },
   "outputs": [],
   "source": [
    "assert is_internal('int')\n",
    "assert is_internal('None')\n",
    "assert is_internal('Tuple')"
   ]
  },
  {
   "cell_type": "code",
   "execution_count": 71,
   "metadata": {
    "execution": {
     "iopub.execute_input": "2023-02-11T12:18:25.994471Z",
     "iopub.status.busy": "2023-02-11T12:18:25.994155Z",
     "iopub.status.idle": "2023-02-11T12:18:25.995312Z",
     "shell.execute_reply": "2023-02-11T12:18:25.995558Z"
    },
    "slideshow": {
     "slide_type": "subslide"
    }
   },
   "outputs": [],
   "source": [
    "class TrackGetTransformer(NodeTransformer):\n",
    "    def visit_Name(self, node: Name) -> AST:\n",
    "        self.generic_visit(node)\n",
    "\n",
    "        if is_internal(node.id):\n",
    "            # Do not change built-in names and types\n",
    "            return node\n",
    "\n",
    "        if node.id == DATA_TRACKER:\n",
    "            # Do not change own accesses\n",
    "            return node\n",
    "\n",
    "        if not isinstance(node.ctx, Load):\n",
    "            # Only change loads (not stores, not deletions)\n",
    "            return node\n",
    "\n",
    "        new_node = make_get_data(node.id)\n",
    "        ast.copy_location(new_node, node)\n",
    "        return new_node"
   ]
  },
  {
   "cell_type": "markdown",
   "metadata": {
    "slideshow": {
     "slide_type": "subslide"
    }
   },
   "source": [
    "Our function `make_get_data(id, method)` returns a new subtree equivalent to the Python code `_data.method('id', id)`."
   ]
  },
  {
   "cell_type": "code",
   "execution_count": 72,
   "metadata": {
    "execution": {
     "iopub.execute_input": "2023-02-11T12:18:25.997702Z",
     "iopub.status.busy": "2023-02-11T12:18:25.997412Z",
     "iopub.status.idle": "2023-02-11T12:18:25.998497Z",
     "shell.execute_reply": "2023-02-11T12:18:25.998847Z"
    },
    "slideshow": {
     "slide_type": "skip"
    }
   },
   "outputs": [],
   "source": [
    "from ast import Module, Load, Store, \\\n",
    "    Attribute, With, withitem, keyword, Call, Expr, \\\n",
    "    Assign, AugAssign, AnnAssign, Assert"
   ]
  },
  {
   "cell_type": "code",
   "execution_count": 73,
   "metadata": {
    "execution": {
     "iopub.execute_input": "2023-02-11T12:18:26.000612Z",
     "iopub.status.busy": "2023-02-11T12:18:26.000298Z",
     "iopub.status.idle": "2023-02-11T12:18:26.001770Z",
     "shell.execute_reply": "2023-02-11T12:18:26.001568Z"
    },
    "slideshow": {
     "slide_type": "fragment"
    }
   },
   "outputs": [],
   "source": [
    "# Starting with Python 3.8, these will become Constant.\n",
    "# from ast import Num, Str, NameConstant\n",
    "# Use `ast.Num`, `ast.Str`, and `ast.NameConstant` for compatibility"
   ]
  },
  {
   "cell_type": "code",
   "execution_count": 74,
   "metadata": {
    "execution": {
     "iopub.execute_input": "2023-02-11T12:18:26.004168Z",
     "iopub.status.busy": "2023-02-11T12:18:26.003840Z",
     "iopub.status.idle": "2023-02-11T12:18:26.005492Z",
     "shell.execute_reply": "2023-02-11T12:18:26.005849Z"
    },
    "slideshow": {
     "slide_type": "fragment"
    }
   },
   "outputs": [],
   "source": [
    "def make_get_data(id: str, method: str = 'get') -> Call:\n",
    "    return Call(func=Attribute(value=Name(id=DATA_TRACKER, ctx=Load()), \n",
    "                               attr=method, ctx=Load()),\n",
    "                args=[ast.Str(s=id), Name(id=id, ctx=Load())],\n",
    "                keywords=[])"
   ]
  },
  {
   "cell_type": "markdown",
   "metadata": {
    "slideshow": {
     "slide_type": "fragment"
    }
   },
   "source": [
    "This is the tree that `make_get_data()` produces:"
   ]
  },
  {
   "cell_type": "code",
   "execution_count": 75,
   "metadata": {
    "execution": {
     "iopub.execute_input": "2023-02-11T12:18:26.008140Z",
     "iopub.status.busy": "2023-02-11T12:18:26.007810Z",
     "iopub.status.idle": "2023-02-11T12:18:26.308230Z",
     "shell.execute_reply": "2023-02-11T12:18:26.308734Z"
    },
    "slideshow": {
     "slide_type": "fragment"
    }
   },
   "outputs": [
    {
     "data": {
      "image/svg+xml": [
       "<svg xmlns=\"http://www.w3.org/2000/svg\" xmlns:xlink=\"http://www.w3.org/1999/xlink\" width=\"484pt\" height=\"260pt\" viewBox=\"0.00 0.00 484.00 260.00\">\n",
       "<g id=\"graph0\" class=\"graph\" transform=\"scale(1 1) rotate(0) translate(4 256)\">\n",
       "<polygon fill=\"white\" stroke=\"none\" points=\"-4,4 -4,-256 480,-256 480,4 -4,4\"/>\n",
       "<!-- 0 -->\n",
       "<g id=\"node1\" class=\"node\">\n",
       "<title>0</title>\n",
       "<text text-anchor=\"start\" x=\"277\" y=\"-231.3\" font-family=\"Courier,monospace\" font-weight=\"bold\" font-size=\"14.00\" fill=\"#004080\">Call</text>\n",
       "</g>\n",
       "<!-- 1 -->\n",
       "<g id=\"node2\" class=\"node\">\n",
       "<title>1</title>\n",
       "<text text-anchor=\"start\" x=\"138.5\" y=\"-159.3\" font-family=\"Courier,monospace\" font-weight=\"bold\" font-size=\"14.00\" fill=\"#004080\">Attribute</text>\n",
       "</g>\n",
       "<!-- 0&#45;&#45;1 -->\n",
       "<g id=\"edge1\" class=\"edge\">\n",
       "<title>0--1</title>\n",
       "<path fill=\"none\" stroke=\"black\" d=\"M293,-215C293,-215 248.15,-195.07 213.99,-179.88\"/>\n",
       "</g>\n",
       "<!-- 7 -->\n",
       "<g id=\"node8\" class=\"node\">\n",
       "<title>7</title>\n",
       "<text text-anchor=\"start\" x=\"260.5\" y=\"-159.3\" font-family=\"Courier,monospace\" font-weight=\"bold\" font-size=\"14.00\" fill=\"#004080\">Constant</text>\n",
       "</g>\n",
       "<!-- 0&#45;&#45;7 -->\n",
       "<g id=\"edge7\" class=\"edge\">\n",
       "<title>0--7</title>\n",
       "<path fill=\"none\" stroke=\"black\" d=\"M293,-215C293,-215 293.39,-194.94 293.68,-179.74\"/>\n",
       "</g>\n",
       "<!-- 9 -->\n",
       "<g id=\"node10\" class=\"node\">\n",
       "<title>9</title>\n",
       "<text text-anchor=\"start\" x=\"364\" y=\"-159.3\" font-family=\"Courier,monospace\" font-weight=\"bold\" font-size=\"14.00\" fill=\"#004080\">Name</text>\n",
       "</g>\n",
       "<!-- 0&#45;&#45;9 -->\n",
       "<g id=\"edge9\" class=\"edge\">\n",
       "<title>0--9</title>\n",
       "<path fill=\"none\" stroke=\"black\" d=\"M293,-215C293,-215 328.24,-194.18 354.12,-178.88\"/>\n",
       "</g>\n",
       "<!-- 2 -->\n",
       "<g id=\"node3\" class=\"node\">\n",
       "<title>2</title>\n",
       "<text text-anchor=\"start\" x=\"61\" y=\"-87.3\" font-family=\"Courier,monospace\" font-weight=\"bold\" font-size=\"14.00\" fill=\"#004080\">Name</text>\n",
       "</g>\n",
       "<!-- 1&#45;&#45;2 -->\n",
       "<g id=\"edge2\" class=\"edge\">\n",
       "<title>1--2</title>\n",
       "<path fill=\"none\" stroke=\"black\" d=\"M172,-143C172,-143 132.71,-121.27 104.94,-105.9\"/>\n",
       "</g>\n",
       "<!-- 5 -->\n",
       "<g id=\"node6\" class=\"node\">\n",
       "<title>5</title>\n",
       "<text text-anchor=\"middle\" x=\"152\" y=\"-86.3\" font-family=\"Courier,monospace\" font-size=\"14.00\" fill=\"#008040\">&quot;get&quot;</text>\n",
       "</g>\n",
       "<!-- 1&#45;&#45;5 -->\n",
       "<g id=\"edge5\" class=\"edge\">\n",
       "<title>1--5</title>\n",
       "<path fill=\"none\" stroke=\"black\" d=\"M172,-143C172,-143 164.28,-122.94 158.44,-107.74\"/>\n",
       "</g>\n",
       "<!-- 6 -->\n",
       "<g id=\"node7\" class=\"node\">\n",
       "<title>6</title>\n",
       "<text text-anchor=\"middle\" x=\"226\" y=\"-86.3\" font-family=\"Courier,monospace\" font-size=\"14.00\" fill=\"#008040\">Load</text>\n",
       "</g>\n",
       "<!-- 1&#45;&#45;6 -->\n",
       "<g id=\"edge6\" class=\"edge\">\n",
       "<title>1--6</title>\n",
       "<path fill=\"none\" stroke=\"black\" d=\"M172,-143C172,-143 192.83,-122.94 208.62,-107.74\"/>\n",
       "</g>\n",
       "<!-- 3 -->\n",
       "<g id=\"node4\" class=\"node\">\n",
       "<title>3</title>\n",
       "<text text-anchor=\"middle\" x=\"37\" y=\"-14.3\" font-family=\"Courier,monospace\" font-size=\"14.00\" fill=\"#008040\">&quot;_data&quot;</text>\n",
       "</g>\n",
       "<!-- 2&#45;&#45;3 -->\n",
       "<g id=\"edge3\" class=\"edge\">\n",
       "<title>2--3</title>\n",
       "<path fill=\"none\" stroke=\"black\" d=\"M78,-71C78,-71 62.18,-50.94 50.2,-35.74\"/>\n",
       "</g>\n",
       "<!-- 4 -->\n",
       "<g id=\"node5\" class=\"node\">\n",
       "<title>4</title>\n",
       "<text text-anchor=\"middle\" x=\"119\" y=\"-14.3\" font-family=\"Courier,monospace\" font-size=\"14.00\" fill=\"#008040\">Load</text>\n",
       "</g>\n",
       "<!-- 2&#45;&#45;4 -->\n",
       "<g id=\"edge4\" class=\"edge\">\n",
       "<title>2--4</title>\n",
       "<path fill=\"none\" stroke=\"black\" d=\"M78,-71C78,-71 93.82,-50.94 105.8,-35.74\"/>\n",
       "</g>\n",
       "<!-- 8 -->\n",
       "<g id=\"node9\" class=\"node\">\n",
       "<title>8</title>\n",
       "<text text-anchor=\"middle\" x=\"298\" y=\"-86.3\" font-family=\"Courier,monospace\" font-size=\"14.00\" fill=\"#008040\">&quot;x&quot;</text>\n",
       "</g>\n",
       "<!-- 7&#45;&#45;8 -->\n",
       "<g id=\"edge8\" class=\"edge\">\n",
       "<title>7--8</title>\n",
       "<path fill=\"none\" stroke=\"black\" d=\"M294.97,-144.05C295.6,-133.05 296.41,-118.76 297.04,-107.79\"/>\n",
       "</g>\n",
       "<!-- 10 -->\n",
       "<g id=\"node11\" class=\"node\">\n",
       "<title>10</title>\n",
       "<text text-anchor=\"middle\" x=\"377\" y=\"-86.3\" font-family=\"Courier,monospace\" font-size=\"14.00\" fill=\"#008040\">&quot;x&quot;</text>\n",
       "</g>\n",
       "<!-- 9&#45;&#45;10 -->\n",
       "<g id=\"edge10\" class=\"edge\">\n",
       "<title>9--10</title>\n",
       "<path fill=\"none\" stroke=\"black\" d=\"M388,-143C388,-143 383.76,-122.94 380.54,-107.74\"/>\n",
       "</g>\n",
       "<!-- 11 -->\n",
       "<g id=\"node12\" class=\"node\">\n",
       "<title>11</title>\n",
       "<text text-anchor=\"middle\" x=\"449\" y=\"-86.3\" font-family=\"Courier,monospace\" font-size=\"14.00\" fill=\"#008040\">Load</text>\n",
       "</g>\n",
       "<!-- 9&#45;&#45;11 -->\n",
       "<g id=\"edge11\" class=\"edge\">\n",
       "<title>9--11</title>\n",
       "<path fill=\"none\" stroke=\"black\" d=\"M388,-143C388,-143 411.53,-122.94 429.36,-107.74\"/>\n",
       "</g>\n",
       "</g>\n",
       "</svg>"
      ],
      "text/plain": [
       "<IPython.core.display.SVG object>"
      ]
     },
     "metadata": {},
     "output_type": "display_data"
    }
   ],
   "source": [
    "show_ast(Module(body=[make_get_data(\"x\")]))"
   ]
  },
  {
   "cell_type": "markdown",
   "metadata": {
    "slideshow": {
     "slide_type": "subslide"
    }
   },
   "source": [
    "How do we know that this is a correct subtree? We can carefully read the [official Python `ast` reference](http://docs.python.org/3/library/ast) and then proceed by trial and error (and apply [delta debugging](DeltaDebugger.ipynb) to determine error causes). Or – pro tip! – we can simply take a piece of Python code, parse it and use `ast.dump()` to print out how to construct the resulting AST:"
   ]
  },
  {
   "cell_type": "code",
   "execution_count": 76,
   "metadata": {
    "execution": {
     "iopub.execute_input": "2023-02-11T12:18:26.311210Z",
     "iopub.status.busy": "2023-02-11T12:18:26.310874Z",
     "iopub.status.idle": "2023-02-11T12:18:26.312317Z",
     "shell.execute_reply": "2023-02-11T12:18:26.312521Z"
    },
    "slideshow": {
     "slide_type": "fragment"
    }
   },
   "outputs": [
    {
     "name": "stdout",
     "output_type": "stream",
     "text": [
      "Module(body=[Expr(value=Call(func=Attribute(value=Name(id='_data', ctx=Load()), attr='get', ctx=Load()), args=[Constant(value='x'), Name(id='x', ctx=Load())], keywords=[]))], type_ignores=[])\n"
     ]
    }
   ],
   "source": [
    "print(ast.dump(ast.parse(\"_data.get('x', x)\")))"
   ]
  },
  {
   "cell_type": "markdown",
   "metadata": {
    "slideshow": {
     "slide_type": "fragment"
    }
   },
   "source": [
    "If you compare the above output with the code of `make_get_data()`, above, you will find out where the source of `make_get_data()` comes from."
   ]
  },
  {
   "cell_type": "markdown",
   "metadata": {
    "slideshow": {
     "slide_type": "fragment"
    }
   },
   "source": [
    "Let us put `TrackGetTransformer` to action. Its `visit()` method calls `visit_Name()`, which then in turn transforms the `Name` nodes as we want it. This happens in place."
   ]
  },
  {
   "cell_type": "code",
   "execution_count": 77,
   "metadata": {
    "execution": {
     "iopub.execute_input": "2023-02-11T12:18:26.314828Z",
     "iopub.status.busy": "2023-02-11T12:18:26.313665Z",
     "iopub.status.idle": "2023-02-11T12:18:26.316050Z",
     "shell.execute_reply": "2023-02-11T12:18:26.316327Z"
    },
    "slideshow": {
     "slide_type": "subslide"
    }
   },
   "outputs": [],
   "source": [
    "TrackGetTransformer().visit(middle_tree);"
   ]
  },
  {
   "cell_type": "markdown",
   "metadata": {
    "slideshow": {
     "slide_type": "fragment"
    }
   },
   "source": [
    "To see the effect of our transformations, we introduce a method `dump_tree()` which outputs the tree – and also compiles it to check for any inconsistencies."
   ]
  },
  {
   "cell_type": "code",
   "execution_count": 78,
   "metadata": {
    "execution": {
     "iopub.execute_input": "2023-02-11T12:18:26.318443Z",
     "iopub.status.busy": "2023-02-11T12:18:26.318157Z",
     "iopub.status.idle": "2023-02-11T12:18:26.319619Z",
     "shell.execute_reply": "2023-02-11T12:18:26.319993Z"
    },
    "slideshow": {
     "slide_type": "fragment"
    }
   },
   "outputs": [],
   "source": [
    "def dump_tree(tree: AST) -> None:\n",
    "    print_content(ast.unparse(tree), '.py')\n",
    "    ast.fix_missing_locations(tree)  # Must run this before compiling\n",
    "    _ = compile(cast(ast.Module, tree), '<dump_tree>', 'exec')"
   ]
  },
  {
   "cell_type": "markdown",
   "metadata": {
    "slideshow": {
     "slide_type": "fragment"
    }
   },
   "source": [
    "We see that our transformer has properly replaced all variable accesses:"
   ]
  },
  {
   "cell_type": "code",
   "execution_count": 79,
   "metadata": {
    "execution": {
     "iopub.execute_input": "2023-02-11T12:18:26.353690Z",
     "iopub.status.busy": "2023-02-11T12:18:26.353354Z",
     "iopub.status.idle": "2023-02-11T12:18:26.364990Z",
     "shell.execute_reply": "2023-02-11T12:18:26.365299Z"
    },
    "slideshow": {
     "slide_type": "subslide"
    }
   },
   "outputs": [
    {
     "name": "stdout",
     "output_type": "stream",
     "text": [
      "\u001b[34mdef\u001b[39;49;00m \u001b[32mmiddle\u001b[39;49;00m(x, y, z):\u001b[37m\u001b[39;49;00m\n",
      "    \u001b[34mif\u001b[39;49;00m _data.get(\u001b[33m'\u001b[39;49;00m\u001b[33my\u001b[39;49;00m\u001b[33m'\u001b[39;49;00m, y) < _data.get(\u001b[33m'\u001b[39;49;00m\u001b[33mz\u001b[39;49;00m\u001b[33m'\u001b[39;49;00m, z):\u001b[37m\u001b[39;49;00m\n",
      "        \u001b[34mif\u001b[39;49;00m _data.get(\u001b[33m'\u001b[39;49;00m\u001b[33mx\u001b[39;49;00m\u001b[33m'\u001b[39;49;00m, x) < _data.get(\u001b[33m'\u001b[39;49;00m\u001b[33my\u001b[39;49;00m\u001b[33m'\u001b[39;49;00m, y):\u001b[37m\u001b[39;49;00m\n",
      "            \u001b[34mreturn\u001b[39;49;00m _data.get(\u001b[33m'\u001b[39;49;00m\u001b[33my\u001b[39;49;00m\u001b[33m'\u001b[39;49;00m, y)\u001b[37m\u001b[39;49;00m\n",
      "        \u001b[34melif\u001b[39;49;00m _data.get(\u001b[33m'\u001b[39;49;00m\u001b[33mx\u001b[39;49;00m\u001b[33m'\u001b[39;49;00m, x) < _data.get(\u001b[33m'\u001b[39;49;00m\u001b[33mz\u001b[39;49;00m\u001b[33m'\u001b[39;49;00m, z):\u001b[37m\u001b[39;49;00m\n",
      "            \u001b[34mreturn\u001b[39;49;00m _data.get(\u001b[33m'\u001b[39;49;00m\u001b[33my\u001b[39;49;00m\u001b[33m'\u001b[39;49;00m, y)\u001b[37m\u001b[39;49;00m\n",
      "    \u001b[34melif\u001b[39;49;00m _data.get(\u001b[33m'\u001b[39;49;00m\u001b[33mx\u001b[39;49;00m\u001b[33m'\u001b[39;49;00m, x) > _data.get(\u001b[33m'\u001b[39;49;00m\u001b[33my\u001b[39;49;00m\u001b[33m'\u001b[39;49;00m, y):\u001b[37m\u001b[39;49;00m\n",
      "        \u001b[34mreturn\u001b[39;49;00m _data.get(\u001b[33m'\u001b[39;49;00m\u001b[33my\u001b[39;49;00m\u001b[33m'\u001b[39;49;00m, y)\u001b[37m\u001b[39;49;00m\n",
      "    \u001b[34melif\u001b[39;49;00m _data.get(\u001b[33m'\u001b[39;49;00m\u001b[33mx\u001b[39;49;00m\u001b[33m'\u001b[39;49;00m, x) > _data.get(\u001b[33m'\u001b[39;49;00m\u001b[33mz\u001b[39;49;00m\u001b[33m'\u001b[39;49;00m, z):\u001b[37m\u001b[39;49;00m\n",
      "        \u001b[34mreturn\u001b[39;49;00m _data.get(\u001b[33m'\u001b[39;49;00m\u001b[33mx\u001b[39;49;00m\u001b[33m'\u001b[39;49;00m, x)\u001b[37m\u001b[39;49;00m\n",
      "    \u001b[34mreturn\u001b[39;49;00m _data.get(\u001b[33m'\u001b[39;49;00m\u001b[33mz\u001b[39;49;00m\u001b[33m'\u001b[39;49;00m, z)\u001b[37m\u001b[39;49;00m"
     ]
    }
   ],
   "source": [
    "dump_tree(middle_tree)"
   ]
  },
  {
   "cell_type": "markdown",
   "metadata": {
    "slideshow": {
     "slide_type": "subslide"
    }
   },
   "source": [
    "Let us now execute this code together with the `DataTracker()` class we previously introduced. The class `DataTrackerTester()` takes a (transformed) tree and a function. Using it as\n",
    "\n",
    "```python\n",
    "with DataTrackerTester(tree, func):\n",
    "    func(...)\n",
    "```\n",
    "\n",
    "first executes the code in _tree_ (possibly instrumenting `func`) and then the `with` body. At the end, `func` is restored to its previous (non-instrumented) version."
   ]
  },
  {
   "cell_type": "code",
   "execution_count": 80,
   "metadata": {
    "execution": {
     "iopub.execute_input": "2023-02-11T12:18:26.367635Z",
     "iopub.status.busy": "2023-02-11T12:18:26.367253Z",
     "iopub.status.idle": "2023-02-11T12:18:26.368629Z",
     "shell.execute_reply": "2023-02-11T12:18:26.368954Z"
    },
    "slideshow": {
     "slide_type": "skip"
    }
   },
   "outputs": [],
   "source": [
    "from types import TracebackType"
   ]
  },
  {
   "cell_type": "code",
   "execution_count": 81,
   "metadata": {
    "execution": {
     "iopub.execute_input": "2023-02-11T12:18:26.372559Z",
     "iopub.status.busy": "2023-02-11T12:18:26.372210Z",
     "iopub.status.idle": "2023-02-11T12:18:26.373632Z",
     "shell.execute_reply": "2023-02-11T12:18:26.373956Z"
    },
    "slideshow": {
     "slide_type": "subslide"
    }
   },
   "outputs": [],
   "source": [
    "class DataTrackerTester:\n",
    "    def __init__(self, tree: AST, func: Callable, log: bool = True) -> None:\n",
    "        \"\"\"Constructor. Execute the code in `tree` while instrumenting `func`.\"\"\"\n",
    "        # We pass the source file of `func` such that we can retrieve it\n",
    "        # when accessing the location of the new compiled code\n",
    "        source = cast(str, inspect.getsourcefile(func))\n",
    "        self.code = compile(cast(ast.Module, tree), source, 'exec')\n",
    "        self.func = func\n",
    "        self.log = log\n",
    "\n",
    "    def make_data_tracker(self) -> Any:\n",
    "        return DataTracker(log=self.log)\n",
    "\n",
    "    def __enter__(self) -> Any:\n",
    "        \"\"\"Rewrite function\"\"\"\n",
    "        tracker = self.make_data_tracker()\n",
    "        globals()[DATA_TRACKER] = tracker\n",
    "        exec(self.code, globals())\n",
    "        return tracker\n",
    "\n",
    "    def __exit__(self, exc_type: Type, exc_value: BaseException,\n",
    "                 traceback: TracebackType) -> Optional[bool]:\n",
    "        \"\"\"Restore function\"\"\"\n",
    "        globals()[self.func.__name__] = self.func\n",
    "        del globals()[DATA_TRACKER]\n",
    "        return None"
   ]
  },
  {
   "cell_type": "markdown",
   "metadata": {
    "slideshow": {
     "slide_type": "subslide"
    }
   },
   "source": [
    "Here is our `middle()` function:"
   ]
  },
  {
   "cell_type": "code",
   "execution_count": 82,
   "metadata": {
    "execution": {
     "iopub.execute_input": "2023-02-11T12:18:26.398837Z",
     "iopub.status.busy": "2023-02-11T12:18:26.375685Z",
     "iopub.status.idle": "2023-02-11T12:18:26.408840Z",
     "shell.execute_reply": "2023-02-11T12:18:26.409324Z"
    },
    "slideshow": {
     "slide_type": "fragment"
    }
   },
   "outputs": [
    {
     "name": "stdout",
     "output_type": "stream",
     "text": [
      " 1  \u001b[34mdef\u001b[39;49;00m \u001b[32mmiddle\u001b[39;49;00m(x, y, z):  \u001b[37m# type: ignore\u001b[39;49;00m\u001b[37m\u001b[39;49;00m\n",
      " 2      \u001b[34mif\u001b[39;49;00m y < z:\u001b[37m\u001b[39;49;00m\n",
      " 3          \u001b[34mif\u001b[39;49;00m x < y:\u001b[37m\u001b[39;49;00m\n",
      " 4              \u001b[34mreturn\u001b[39;49;00m y\u001b[37m\u001b[39;49;00m\n",
      " 5          \u001b[34melif\u001b[39;49;00m x < z:\u001b[37m\u001b[39;49;00m\n",
      " 6              \u001b[34mreturn\u001b[39;49;00m y\u001b[37m\u001b[39;49;00m\n",
      " 7      \u001b[34melse\u001b[39;49;00m:\u001b[37m\u001b[39;49;00m\n",
      " 8          \u001b[34mif\u001b[39;49;00m x > y:\u001b[37m\u001b[39;49;00m\n",
      " 9              \u001b[34mreturn\u001b[39;49;00m y\u001b[37m\u001b[39;49;00m\n",
      "10          \u001b[34melif\u001b[39;49;00m x > z:\u001b[37m\u001b[39;49;00m\n",
      "11              \u001b[34mreturn\u001b[39;49;00m x\u001b[37m\u001b[39;49;00m\n",
      "12      \u001b[34mreturn\u001b[39;49;00m z\u001b[37m\u001b[39;49;00m"
     ]
    }
   ],
   "source": [
    "print_content(inspect.getsource(middle), '.py', start_line_number=1)"
   ]
  },
  {
   "cell_type": "markdown",
   "metadata": {
    "slideshow": {
     "slide_type": "subslide"
    }
   },
   "source": [
    "And here is our instrumented `middle_tree` executed with a `DataTracker` object. We see how the `middle()` tests access one argument after another."
   ]
  },
  {
   "cell_type": "code",
   "execution_count": 83,
   "metadata": {
    "execution": {
     "iopub.execute_input": "2023-02-11T12:18:26.411869Z",
     "iopub.status.busy": "2023-02-11T12:18:26.411460Z",
     "iopub.status.idle": "2023-02-11T12:18:26.413228Z",
     "shell.execute_reply": "2023-02-11T12:18:26.413489Z"
    },
    "slideshow": {
     "slide_type": "fragment"
    }
   },
   "outputs": [
    {
     "name": "stdout",
     "output_type": "stream",
     "text": [
      "middle:2: getting y\n",
      "middle:2: getting z\n",
      "middle:3: getting x\n",
      "middle:3: getting y\n",
      "middle:5: getting x\n",
      "middle:5: getting z\n",
      "middle:6: getting y\n"
     ]
    }
   ],
   "source": [
    "with DataTrackerTester(middle_tree, middle):\n",
    "    middle(2, 1, 3)"
   ]
  },
  {
   "cell_type": "markdown",
   "metadata": {
    "slideshow": {
     "slide_type": "fragment"
    }
   },
   "source": [
    "After `DataTrackerTester` is done, `middle` is reverted to its non-instrumented version:"
   ]
  },
  {
   "cell_type": "code",
   "execution_count": 84,
   "metadata": {
    "execution": {
     "iopub.execute_input": "2023-02-11T12:18:26.415667Z",
     "iopub.status.busy": "2023-02-11T12:18:26.415355Z",
     "iopub.status.idle": "2023-02-11T12:18:26.416661Z",
     "shell.execute_reply": "2023-02-11T12:18:26.416882Z"
    },
    "slideshow": {
     "slide_type": "subslide"
    }
   },
   "outputs": [
    {
     "data": {
      "text/plain": [
       "1"
      ]
     },
     "execution_count": 84,
     "metadata": {},
     "output_type": "execute_result"
    }
   ],
   "source": [
    "middle(2, 1, 3)"
   ]
  },
  {
   "cell_type": "markdown",
   "metadata": {
    "slideshow": {
     "slide_type": "fragment"
    }
   },
   "source": [
    "For a complete picture of what happens during executions, we implement a number of additional code transformers."
   ]
  },
  {
   "cell_type": "markdown",
   "metadata": {
    "slideshow": {
     "slide_type": "fragment"
    }
   },
   "source": [
    "For each assignment statement `x = y`, we change it to `x = _data.set('x', y)`. This allows to __track assignments__."
   ]
  },
  {
   "cell_type": "markdown",
   "metadata": {
    "slideshow": {
     "slide_type": "subslide"
    }
   },
   "source": [
    "### Excursion: Tracking Assignments and Assertions"
   ]
  },
  {
   "cell_type": "markdown",
   "metadata": {
    "slideshow": {
     "slide_type": "fragment"
    }
   },
   "source": [
    "For the remaining transformers, we follow the same steps as for `TrackGetTransformer`, except that our `visit_...()` methods focus on different nodes, and return different subtrees. Here, we focus on assignment nodes."
   ]
  },
  {
   "cell_type": "markdown",
   "metadata": {
    "slideshow": {
     "slide_type": "fragment"
    }
   },
   "source": [
    "We want to transform assignments `x = value` into `_data.set('x', value)` to track assignments to `x`."
   ]
  },
  {
   "attachments": {},
   "cell_type": "markdown",
   "metadata": {
    "slideshow": {
     "slide_type": "fragment"
    }
   },
   "source": [
    "If the left-hand side of the assignment is more complex, as in `x[y] = value`, we want to ensure the read access to `x` and `y` is also tracked. By transforming `x[y] = value` into `_data.set('x', value, loads=(x, y))`, we ensure that `x` and `y` are marked as read (as the otherwise ignored `loads` argument would be changed to `_data.get()` calls for `x` and `y`)."
   ]
  },
  {
   "cell_type": "markdown",
   "metadata": {
    "slideshow": {
     "slide_type": "fragment"
    }
   },
   "source": [
    "Using `ast.dump()`, we reveal what the corresponding syntax tree has to look like:"
   ]
  },
  {
   "cell_type": "code",
   "execution_count": 85,
   "metadata": {
    "execution": {
     "iopub.execute_input": "2023-02-11T12:18:26.419610Z",
     "iopub.status.busy": "2023-02-11T12:18:26.419082Z",
     "iopub.status.idle": "2023-02-11T12:18:26.420588Z",
     "shell.execute_reply": "2023-02-11T12:18:26.420791Z"
    },
    "slideshow": {
     "slide_type": "subslide"
    }
   },
   "outputs": [
    {
     "name": "stdout",
     "output_type": "stream",
     "text": [
      "Module(body=[Expr(value=Call(func=Attribute(value=Name(id='_data', ctx=Load()), attr='set', ctx=Load()), args=[Constant(value='x'), Name(id='value', ctx=Load())], keywords=[keyword(arg='loads', value=Tuple(elts=[Name(id='a', ctx=Load()), Name(id='b', ctx=Load())], ctx=Load()))]))], type_ignores=[])\n"
     ]
    }
   ],
   "source": [
    "print(ast.dump(ast.parse(\"_data.set('x', value, loads=(a, b))\")))"
   ]
  },
  {
   "cell_type": "markdown",
   "metadata": {
    "slideshow": {
     "slide_type": "fragment"
    }
   },
   "source": [
    "Using this structure, we can write a function `make_set_data()` which constructs such a subtree."
   ]
  },
  {
   "cell_type": "code",
   "execution_count": 86,
   "metadata": {
    "execution": {
     "iopub.execute_input": "2023-02-11T12:18:26.424640Z",
     "iopub.status.busy": "2023-02-11T12:18:26.424011Z",
     "iopub.status.idle": "2023-02-11T12:18:26.425391Z",
     "shell.execute_reply": "2023-02-11T12:18:26.425689Z"
    },
    "slideshow": {
     "slide_type": "subslide"
    }
   },
   "outputs": [],
   "source": [
    "def make_set_data(id: str, value: Any, \n",
    "                  loads: Optional[Set[str]] = None, method: str = 'set') -> Call:\n",
    "    \"\"\"\n",
    "    Construct a subtree _data.`method`('`id`', `value`). \n",
    "    If `loads` is set to [X1, X2, ...], make it\n",
    "    _data.`method`('`id`', `value`, loads=(X1, X2, ...))\n",
    "    \"\"\"\n",
    "\n",
    "    keywords=[]\n",
    "\n",
    "    if loads:\n",
    "        keywords = [\n",
    "            keyword(arg='loads',\n",
    "                    value=ast.Tuple(\n",
    "                        elts=[Name(id=load, ctx=Load()) for load in loads],\n",
    "                        ctx=Load()\n",
    "                    ))\n",
    "        ]\n",
    "\n",
    "    new_node = Call(func=Attribute(value=Name(id=DATA_TRACKER, ctx=Load()),\n",
    "                                   attr=method, ctx=Load()),\n",
    "                    args=[ast.Str(s=id), value],\n",
    "                    keywords=keywords)\n",
    "\n",
    "    ast.copy_location(new_node, value)\n",
    "\n",
    "    return new_node"
   ]
  },
  {
   "attachments": {},
   "cell_type": "markdown",
   "metadata": {
    "slideshow": {
     "slide_type": "subslide"
    }
   },
   "source": [
    "The problem is, however: How do we get the name of the variable being assigned to? The left-hand side of an assignment can be a complex expression such as `x[i]`. We use the leftmost name of the left-hand side as name to be assigned to."
   ]
  },
  {
   "cell_type": "code",
   "execution_count": 87,
   "metadata": {
    "execution": {
     "iopub.execute_input": "2023-02-11T12:18:26.428155Z",
     "iopub.status.busy": "2023-02-11T12:18:26.427839Z",
     "iopub.status.idle": "2023-02-11T12:18:26.429268Z",
     "shell.execute_reply": "2023-02-11T12:18:26.429524Z"
    },
    "slideshow": {
     "slide_type": "fragment"
    }
   },
   "outputs": [],
   "source": [
    "class LeftmostNameVisitor(NodeVisitor):\n",
    "    def __init__(self) -> None:\n",
    "        super().__init__()\n",
    "        self.leftmost_name: Optional[str] = None\n",
    "\n",
    "    def visit_Name(self, node: Name) -> None:\n",
    "        if self.leftmost_name is None:\n",
    "            self.leftmost_name = node.id\n",
    "        self.generic_visit(node)"
   ]
  },
  {
   "cell_type": "code",
   "execution_count": 88,
   "metadata": {
    "execution": {
     "iopub.execute_input": "2023-02-11T12:18:26.431779Z",
     "iopub.status.busy": "2023-02-11T12:18:26.431440Z",
     "iopub.status.idle": "2023-02-11T12:18:26.433056Z",
     "shell.execute_reply": "2023-02-11T12:18:26.433313Z"
    },
    "slideshow": {
     "slide_type": "subslide"
    }
   },
   "outputs": [],
   "source": [
    "def leftmost_name(tree: AST) -> Optional[str]:\n",
    "    visitor = LeftmostNameVisitor()\n",
    "    visitor.visit(tree)\n",
    "    return visitor.leftmost_name"
   ]
  },
  {
   "cell_type": "code",
   "execution_count": 89,
   "metadata": {
    "execution": {
     "iopub.execute_input": "2023-02-11T12:18:26.435656Z",
     "iopub.status.busy": "2023-02-11T12:18:26.435319Z",
     "iopub.status.idle": "2023-02-11T12:18:26.436756Z",
     "shell.execute_reply": "2023-02-11T12:18:26.437084Z"
    },
    "slideshow": {
     "slide_type": "fragment"
    }
   },
   "outputs": [
    {
     "data": {
      "text/plain": [
       "'a'"
      ]
     },
     "execution_count": 89,
     "metadata": {},
     "output_type": "execute_result"
    }
   ],
   "source": [
    "leftmost_name(ast.parse('a[x] = 25'))"
   ]
  },
  {
   "cell_type": "markdown",
   "metadata": {
    "slideshow": {
     "slide_type": "fragment"
    }
   },
   "source": [
    "Python also allows _tuple assignments_, as in `(a, b, c) = (1, 2, 3)`. We extract all variables being stored (that is, expressions whose `ctx` attribute is `Store()`) and extract their (leftmost) names."
   ]
  },
  {
   "cell_type": "code",
   "execution_count": 90,
   "metadata": {
    "execution": {
     "iopub.execute_input": "2023-02-11T12:18:26.440307Z",
     "iopub.status.busy": "2023-02-11T12:18:26.439905Z",
     "iopub.status.idle": "2023-02-11T12:18:26.442331Z",
     "shell.execute_reply": "2023-02-11T12:18:26.442633Z"
    },
    "slideshow": {
     "slide_type": "subslide"
    }
   },
   "outputs": [],
   "source": [
    "class StoreVisitor(NodeVisitor):\n",
    "    def __init__(self) -> None:\n",
    "        super().__init__()\n",
    "        self.names: Set[str] = set()\n",
    "\n",
    "    def visit(self, node: AST) -> None:\n",
    "        if hasattr(node, 'ctx') and isinstance(node.ctx, Store):  # type: ignore\n",
    "            name = leftmost_name(node)\n",
    "            if name:\n",
    "                self.names.add(name)\n",
    "\n",
    "        self.generic_visit(node)"
   ]
  },
  {
   "cell_type": "code",
   "execution_count": 91,
   "metadata": {
    "execution": {
     "iopub.execute_input": "2023-02-11T12:18:26.447296Z",
     "iopub.status.busy": "2023-02-11T12:18:26.446468Z",
     "iopub.status.idle": "2023-02-11T12:18:26.448885Z",
     "shell.execute_reply": "2023-02-11T12:18:26.449193Z"
    },
    "slideshow": {
     "slide_type": "subslide"
    }
   },
   "outputs": [],
   "source": [
    "def store_names(tree: AST) -> Set[str]:\n",
    "    visitor = StoreVisitor()\n",
    "    visitor.visit(tree)\n",
    "    return visitor.names"
   ]
  },
  {
   "cell_type": "code",
   "execution_count": 92,
   "metadata": {
    "execution": {
     "iopub.execute_input": "2023-02-11T12:18:26.452300Z",
     "iopub.status.busy": "2023-02-11T12:18:26.451789Z",
     "iopub.status.idle": "2023-02-11T12:18:26.453793Z",
     "shell.execute_reply": "2023-02-11T12:18:26.454121Z"
    },
    "slideshow": {
     "slide_type": "fragment"
    }
   },
   "outputs": [
    {
     "data": {
      "text/plain": [
       "{'a', 'b', 'c'}"
      ]
     },
     "execution_count": 92,
     "metadata": {},
     "output_type": "execute_result"
    }
   ],
   "source": [
    "store_names(ast.parse('a[x], b[y], c = 1, 2, 3'))"
   ]
  },
  {
   "cell_type": "markdown",
   "metadata": {
    "slideshow": {
     "slide_type": "fragment"
    }
   },
   "source": [
    "For complex assignments, we also want to access the names read in the left hand side of an expression."
   ]
  },
  {
   "cell_type": "code",
   "execution_count": 93,
   "metadata": {
    "execution": {
     "iopub.execute_input": "2023-02-11T12:18:26.457277Z",
     "iopub.status.busy": "2023-02-11T12:18:26.456914Z",
     "iopub.status.idle": "2023-02-11T12:18:26.458228Z",
     "shell.execute_reply": "2023-02-11T12:18:26.458463Z"
    },
    "slideshow": {
     "slide_type": "subslide"
    }
   },
   "outputs": [],
   "source": [
    "class LoadVisitor(NodeVisitor):\n",
    "    def __init__(self) -> None:\n",
    "        super().__init__()\n",
    "        self.names: Set[str] = set()\n",
    "\n",
    "    def visit(self, node: AST) -> None:\n",
    "        if hasattr(node, 'ctx') and isinstance(node.ctx, Load):  # type: ignore\n",
    "            name = leftmost_name(node)\n",
    "            if name is not None:\n",
    "                self.names.add(name)\n",
    "\n",
    "        self.generic_visit(node)"
   ]
  },
  {
   "cell_type": "code",
   "execution_count": 94,
   "metadata": {
    "execution": {
     "iopub.execute_input": "2023-02-11T12:18:26.460450Z",
     "iopub.status.busy": "2023-02-11T12:18:26.460156Z",
     "iopub.status.idle": "2023-02-11T12:18:26.461371Z",
     "shell.execute_reply": "2023-02-11T12:18:26.461653Z"
    },
    "slideshow": {
     "slide_type": "subslide"
    }
   },
   "outputs": [],
   "source": [
    "def load_names(tree: AST) -> Set[str]:\n",
    "    visitor = LoadVisitor()\n",
    "    visitor.visit(tree)\n",
    "    return visitor.names"
   ]
  },
  {
   "cell_type": "code",
   "execution_count": 95,
   "metadata": {
    "execution": {
     "iopub.execute_input": "2023-02-11T12:18:26.466584Z",
     "iopub.status.busy": "2023-02-11T12:18:26.465853Z",
     "iopub.status.idle": "2023-02-11T12:18:26.468317Z",
     "shell.execute_reply": "2023-02-11T12:18:26.468567Z"
    },
    "slideshow": {
     "slide_type": "fragment"
    }
   },
   "outputs": [
    {
     "data": {
      "text/plain": [
       "{'a', 'b', 'x', 'y'}"
      ]
     },
     "execution_count": 95,
     "metadata": {},
     "output_type": "execute_result"
    }
   ],
   "source": [
    "load_names(ast.parse('a[x], b[y], c = 1, 2, 3'))"
   ]
  },
  {
   "cell_type": "markdown",
   "metadata": {
    "slideshow": {
     "slide_type": "fragment"
    }
   },
   "source": [
    "With this, we can now define `TrackSetTransformer` as a transformer for regular assignments. Note that in Python, an assignment can have multiple targets, as in `a = b = c`; we assign the data dependencies of `c` to them all."
   ]
  },
  {
   "cell_type": "code",
   "execution_count": 96,
   "metadata": {
    "execution": {
     "iopub.execute_input": "2023-02-11T12:18:26.471535Z",
     "iopub.status.busy": "2023-02-11T12:18:26.471191Z",
     "iopub.status.idle": "2023-02-11T12:18:26.472868Z",
     "shell.execute_reply": "2023-02-11T12:18:26.473213Z"
    },
    "slideshow": {
     "slide_type": "subslide"
    }
   },
   "outputs": [],
   "source": [
    "class TrackSetTransformer(NodeTransformer):\n",
    "    def visit_Assign(self, node: Assign) -> Assign:\n",
    "        value = ast.unparse(node.value)\n",
    "        if value.startswith(DATA_TRACKER + '.set'):\n",
    "            return node  # Do not apply twice\n",
    "\n",
    "        for target in node.targets:\n",
    "            loads = load_names(target)\n",
    "            for store_name in store_names(target):\n",
    "                node.value = make_set_data(store_name, node.value, \n",
    "                                           loads=loads)\n",
    "                loads = set()\n",
    "\n",
    "        return node"
   ]
  },
  {
   "cell_type": "markdown",
   "metadata": {
    "slideshow": {
     "slide_type": "subslide"
    }
   },
   "source": [
    "The special form of \"augmented assign\" needs special treatment. We change statements of the form `x += y` to `x += _data.augment('x', y)`."
   ]
  },
  {
   "cell_type": "code",
   "execution_count": 97,
   "metadata": {
    "execution": {
     "iopub.execute_input": "2023-02-11T12:18:26.475830Z",
     "iopub.status.busy": "2023-02-11T12:18:26.475528Z",
     "iopub.status.idle": "2023-02-11T12:18:26.476701Z",
     "shell.execute_reply": "2023-02-11T12:18:26.476990Z"
    },
    "slideshow": {
     "slide_type": "fragment"
    }
   },
   "outputs": [],
   "source": [
    "class TrackSetTransformer(TrackSetTransformer):\n",
    "    def visit_AugAssign(self, node: AugAssign) -> AugAssign:\n",
    "        value = ast.unparse(node.value)\n",
    "        if value.startswith(DATA_TRACKER):\n",
    "            return node  # Do not apply twice\n",
    "\n",
    "        id = cast(str, leftmost_name(node.target))\n",
    "        node.value = make_set_data(id, node.value, method='augment')\n",
    "\n",
    "        return node"
   ]
  },
  {
   "cell_type": "markdown",
   "metadata": {
    "slideshow": {
     "slide_type": "fragment"
    }
   },
   "source": [
    "The corresponding `augment()` method uses a combination of `set()` and `get()` to reflect the semantics."
   ]
  },
  {
   "cell_type": "code",
   "execution_count": 98,
   "metadata": {
    "execution": {
     "iopub.execute_input": "2023-02-11T12:18:26.479211Z",
     "iopub.status.busy": "2023-02-11T12:18:26.478906Z",
     "iopub.status.idle": "2023-02-11T12:18:26.480090Z",
     "shell.execute_reply": "2023-02-11T12:18:26.480292Z"
    },
    "slideshow": {
     "slide_type": "subslide"
    }
   },
   "outputs": [],
   "source": [
    "class DataTracker(DataTracker):\n",
    "    def augment(self, name: str, value: Any) -> Any:\n",
    "        \"\"\"\n",
    "        Track augmenting `name` with `value`.\n",
    "        To be overloaded in subclasses.\n",
    "        \"\"\"\n",
    "        self.set(name, self.get(name, value))\n",
    "        return value"
   ]
  },
  {
   "cell_type": "markdown",
   "metadata": {
    "slideshow": {
     "slide_type": "fragment"
    }
   },
   "source": [
    "\"Annotated\" assignments come with a type, as in `x: int = 3`. We treat them like regular assignments."
   ]
  },
  {
   "cell_type": "code",
   "execution_count": 99,
   "metadata": {
    "execution": {
     "iopub.execute_input": "2023-02-11T12:18:26.482775Z",
     "iopub.status.busy": "2023-02-11T12:18:26.482464Z",
     "iopub.status.idle": "2023-02-11T12:18:26.483729Z",
     "shell.execute_reply": "2023-02-11T12:18:26.484004Z"
    },
    "slideshow": {
     "slide_type": "subslide"
    }
   },
   "outputs": [],
   "source": [
    "class TrackSetTransformer(TrackSetTransformer):\n",
    "    def visit_AnnAssign(self, node: AnnAssign) -> AnnAssign:\n",
    "        if node.value is None:\n",
    "            return node  # just <var>: <type> without value\n",
    "\n",
    "        value = ast.unparse(node.value)\n",
    "        if value.startswith(DATA_TRACKER + '.set'):\n",
    "            return node  # Do not apply twice\n",
    "\n",
    "        loads = load_names(node.target)\n",
    "        for store_name in store_names(node.target):\n",
    "            node.value = make_set_data(store_name, node.value, \n",
    "                                       loads=loads)\n",
    "            loads = set()\n",
    "\n",
    "        return node"
   ]
  },
  {
   "cell_type": "markdown",
   "metadata": {
    "slideshow": {
     "slide_type": "subslide"
    }
   },
   "source": [
    "Finally, we treat _assertions_ just as if they were assignments to special variables:"
   ]
  },
  {
   "cell_type": "code",
   "execution_count": 100,
   "metadata": {
    "execution": {
     "iopub.execute_input": "2023-02-11T12:18:26.486572Z",
     "iopub.status.busy": "2023-02-11T12:18:26.486214Z",
     "iopub.status.idle": "2023-02-11T12:18:26.487486Z",
     "shell.execute_reply": "2023-02-11T12:18:26.487787Z"
    },
    "slideshow": {
     "slide_type": "fragment"
    }
   },
   "outputs": [],
   "source": [
    "class TrackSetTransformer(TrackSetTransformer):\n",
    "    def visit_Assert(self, node: Assert) -> Assert:\n",
    "        value = ast.unparse(node.test)\n",
    "        if value.startswith(DATA_TRACKER + '.set'):\n",
    "            return node  # Do not apply twice\n",
    "\n",
    "        loads = load_names(node.test)\n",
    "        node.test = make_set_data(\"<assertion>\", node.test, loads=loads)\n",
    "        return node"
   ]
  },
  {
   "cell_type": "markdown",
   "metadata": {
    "slideshow": {
     "slide_type": "fragment"
    }
   },
   "source": [
    "Here's all of these transformers in action. Our original function has a number of assignments:"
   ]
  },
  {
   "cell_type": "code",
   "execution_count": 101,
   "metadata": {
    "execution": {
     "iopub.execute_input": "2023-02-11T12:18:26.490221Z",
     "iopub.status.busy": "2023-02-11T12:18:26.489910Z",
     "iopub.status.idle": "2023-02-11T12:18:26.491002Z",
     "shell.execute_reply": "2023-02-11T12:18:26.491318Z"
    },
    "slideshow": {
     "slide_type": "subslide"
    }
   },
   "outputs": [],
   "source": [
    "def assign_test(x: int) -> Tuple[int, str]:  # type: ignore\n",
    "    forty_two: int = 42\n",
    "    forty_two = forty_two = 42\n",
    "    a, b = 1, 2\n",
    "    c = d = [a, b]\n",
    "    c[d[a]].attr = 47  # type: ignore\n",
    "    a *= b + 1\n",
    "    assert a > 0\n",
    "    return forty_two, \"Forty-Two\""
   ]
  },
  {
   "cell_type": "code",
   "execution_count": 102,
   "metadata": {
    "execution": {
     "iopub.execute_input": "2023-02-11T12:18:26.493076Z",
     "iopub.status.busy": "2023-02-11T12:18:26.492713Z",
     "iopub.status.idle": "2023-02-11T12:18:26.494754Z",
     "shell.execute_reply": "2023-02-11T12:18:26.495035Z"
    },
    "slideshow": {
     "slide_type": "fragment"
    }
   },
   "outputs": [],
   "source": [
    "assign_tree = ast.parse(inspect.getsource(assign_test))"
   ]
  },
  {
   "cell_type": "code",
   "execution_count": 103,
   "metadata": {
    "execution": {
     "iopub.execute_input": "2023-02-11T12:18:26.519917Z",
     "iopub.status.busy": "2023-02-11T12:18:26.515496Z",
     "iopub.status.idle": "2023-02-11T12:18:26.531000Z",
     "shell.execute_reply": "2023-02-11T12:18:26.531261Z"
    },
    "slideshow": {
     "slide_type": "subslide"
    }
   },
   "outputs": [
    {
     "name": "stdout",
     "output_type": "stream",
     "text": [
      "\u001b[34mdef\u001b[39;49;00m \u001b[32massign_test\u001b[39;49;00m(x: \u001b[36mint\u001b[39;49;00m) -> Tuple[\u001b[36mint\u001b[39;49;00m, \u001b[36mstr\u001b[39;49;00m]:\u001b[37m\u001b[39;49;00m\n",
      "    forty_two: \u001b[36mint\u001b[39;49;00m = _data.set(\u001b[33m'\u001b[39;49;00m\u001b[33mforty_two\u001b[39;49;00m\u001b[33m'\u001b[39;49;00m, \u001b[34m42\u001b[39;49;00m)\u001b[37m\u001b[39;49;00m\n",
      "    forty_two = forty_two = _data.set(\u001b[33m'\u001b[39;49;00m\u001b[33mforty_two\u001b[39;49;00m\u001b[33m'\u001b[39;49;00m, _data.set(\u001b[33m'\u001b[39;49;00m\u001b[33mforty_two\u001b[39;49;00m\u001b[33m'\u001b[39;49;00m, \u001b[34m42\u001b[39;49;00m))\u001b[37m\u001b[39;49;00m\n",
      "    (a, b) = _data.set(\u001b[33m'\u001b[39;49;00m\u001b[33mb\u001b[39;49;00m\u001b[33m'\u001b[39;49;00m, _data.set(\u001b[33m'\u001b[39;49;00m\u001b[33ma\u001b[39;49;00m\u001b[33m'\u001b[39;49;00m, (\u001b[34m1\u001b[39;49;00m, \u001b[34m2\u001b[39;49;00m)))\u001b[37m\u001b[39;49;00m\n",
      "    c = d = _data.set(\u001b[33m'\u001b[39;49;00m\u001b[33md\u001b[39;49;00m\u001b[33m'\u001b[39;49;00m, _data.set(\u001b[33m'\u001b[39;49;00m\u001b[33mc\u001b[39;49;00m\u001b[33m'\u001b[39;49;00m, [a, b]))\u001b[37m\u001b[39;49;00m\n",
      "    c[d[a]].attr = _data.set(\u001b[33m'\u001b[39;49;00m\u001b[33mc\u001b[39;49;00m\u001b[33m'\u001b[39;49;00m, \u001b[34m47\u001b[39;49;00m, loads=(a, d, c))\u001b[37m\u001b[39;49;00m\n",
      "    a *= _data.augment(\u001b[33m'\u001b[39;49;00m\u001b[33ma\u001b[39;49;00m\u001b[33m'\u001b[39;49;00m, b + \u001b[34m1\u001b[39;49;00m)\u001b[37m\u001b[39;49;00m\n",
      "    \u001b[34massert\u001b[39;49;00m _data.set(\u001b[33m'\u001b[39;49;00m\u001b[33m<assertion>\u001b[39;49;00m\u001b[33m'\u001b[39;49;00m, a > \u001b[34m0\u001b[39;49;00m, loads=(a,))\u001b[37m\u001b[39;49;00m\n",
      "    \u001b[34mreturn\u001b[39;49;00m (forty_two, \u001b[33m'\u001b[39;49;00m\u001b[33mForty-Two\u001b[39;49;00m\u001b[33m'\u001b[39;49;00m)\u001b[37m\u001b[39;49;00m"
     ]
    }
   ],
   "source": [
    "TrackSetTransformer().visit(assign_tree)\n",
    "dump_tree(assign_tree)"
   ]
  },
  {
   "cell_type": "markdown",
   "metadata": {
    "slideshow": {
     "slide_type": "fragment"
    }
   },
   "source": [
    "If we later apply our transformer for data accesses, we can see that we track all variable reads and writes."
   ]
  },
  {
   "cell_type": "code",
   "execution_count": 104,
   "metadata": {
    "execution": {
     "iopub.execute_input": "2023-02-11T12:18:26.557628Z",
     "iopub.status.busy": "2023-02-11T12:18:26.557285Z",
     "iopub.status.idle": "2023-02-11T12:18:26.570185Z",
     "shell.execute_reply": "2023-02-11T12:18:26.570681Z"
    },
    "slideshow": {
     "slide_type": "subslide"
    }
   },
   "outputs": [
    {
     "name": "stdout",
     "output_type": "stream",
     "text": [
      "\u001b[34mdef\u001b[39;49;00m \u001b[32massign_test\u001b[39;49;00m(x: \u001b[36mint\u001b[39;49;00m) -> Tuple[\u001b[36mint\u001b[39;49;00m, \u001b[36mstr\u001b[39;49;00m]:\u001b[37m\u001b[39;49;00m\n",
      "    forty_two: \u001b[36mint\u001b[39;49;00m = _data.set(\u001b[33m'\u001b[39;49;00m\u001b[33mforty_two\u001b[39;49;00m\u001b[33m'\u001b[39;49;00m, \u001b[34m42\u001b[39;49;00m)\u001b[37m\u001b[39;49;00m\n",
      "    forty_two = forty_two = _data.set(\u001b[33m'\u001b[39;49;00m\u001b[33mforty_two\u001b[39;49;00m\u001b[33m'\u001b[39;49;00m, _data.set(\u001b[33m'\u001b[39;49;00m\u001b[33mforty_two\u001b[39;49;00m\u001b[33m'\u001b[39;49;00m, \u001b[34m42\u001b[39;49;00m))\u001b[37m\u001b[39;49;00m\n",
      "    (a, b) = _data.set(\u001b[33m'\u001b[39;49;00m\u001b[33mb\u001b[39;49;00m\u001b[33m'\u001b[39;49;00m, _data.set(\u001b[33m'\u001b[39;49;00m\u001b[33ma\u001b[39;49;00m\u001b[33m'\u001b[39;49;00m, (\u001b[34m1\u001b[39;49;00m, \u001b[34m2\u001b[39;49;00m)))\u001b[37m\u001b[39;49;00m\n",
      "    c = d = _data.set(\u001b[33m'\u001b[39;49;00m\u001b[33md\u001b[39;49;00m\u001b[33m'\u001b[39;49;00m, _data.set(\u001b[33m'\u001b[39;49;00m\u001b[33mc\u001b[39;49;00m\u001b[33m'\u001b[39;49;00m, [_data.get(\u001b[33m'\u001b[39;49;00m\u001b[33ma\u001b[39;49;00m\u001b[33m'\u001b[39;49;00m, a), _data.get(\u001b[33m'\u001b[39;49;00m\u001b[33mb\u001b[39;49;00m\u001b[33m'\u001b[39;49;00m, b)]))\u001b[37m\u001b[39;49;00m\n",
      "    _data.get(\u001b[33m'\u001b[39;49;00m\u001b[33mc\u001b[39;49;00m\u001b[33m'\u001b[39;49;00m, c)[_data.get(\u001b[33m'\u001b[39;49;00m\u001b[33md\u001b[39;49;00m\u001b[33m'\u001b[39;49;00m, d)[_data.get(\u001b[33m'\u001b[39;49;00m\u001b[33ma\u001b[39;49;00m\u001b[33m'\u001b[39;49;00m, a)]].attr = _data.set(\u001b[33m'\u001b[39;49;00m\u001b[33mc\u001b[39;49;00m\u001b[33m'\u001b[39;49;00m, \u001b[34m47\u001b[39;49;00m, loads=(_data.get(\u001b[33m'\u001b[39;49;00m\u001b[33ma\u001b[39;49;00m\u001b[33m'\u001b[39;49;00m, a), _data.get(\u001b[33m'\u001b[39;49;00m\u001b[33md\u001b[39;49;00m\u001b[33m'\u001b[39;49;00m, d), _data.get(\u001b[33m'\u001b[39;49;00m\u001b[33mc\u001b[39;49;00m\u001b[33m'\u001b[39;49;00m, c)))\u001b[37m\u001b[39;49;00m\n",
      "    a *= _data.augment(\u001b[33m'\u001b[39;49;00m\u001b[33ma\u001b[39;49;00m\u001b[33m'\u001b[39;49;00m, _data.get(\u001b[33m'\u001b[39;49;00m\u001b[33mb\u001b[39;49;00m\u001b[33m'\u001b[39;49;00m, b) + \u001b[34m1\u001b[39;49;00m)\u001b[37m\u001b[39;49;00m\n",
      "    \u001b[34massert\u001b[39;49;00m _data.set(\u001b[33m'\u001b[39;49;00m\u001b[33m<assertion>\u001b[39;49;00m\u001b[33m'\u001b[39;49;00m, _data.get(\u001b[33m'\u001b[39;49;00m\u001b[33ma\u001b[39;49;00m\u001b[33m'\u001b[39;49;00m, a) > \u001b[34m0\u001b[39;49;00m, loads=(_data.get(\u001b[33m'\u001b[39;49;00m\u001b[33ma\u001b[39;49;00m\u001b[33m'\u001b[39;49;00m, a),))\u001b[37m\u001b[39;49;00m\n",
      "    \u001b[34mreturn\u001b[39;49;00m (_data.get(\u001b[33m'\u001b[39;49;00m\u001b[33mforty_two\u001b[39;49;00m\u001b[33m'\u001b[39;49;00m, forty_two), \u001b[33m'\u001b[39;49;00m\u001b[33mForty-Two\u001b[39;49;00m\u001b[33m'\u001b[39;49;00m)\u001b[37m\u001b[39;49;00m"
     ]
    }
   ],
   "source": [
    "TrackGetTransformer().visit(assign_tree)\n",
    "dump_tree(assign_tree)"
   ]
  },
  {
   "cell_type": "markdown",
   "metadata": {
    "slideshow": {
     "slide_type": "subslide"
    }
   },
   "source": [
    "### End of Excursion"
   ]
  },
  {
   "cell_type": "markdown",
   "metadata": {
    "slideshow": {
     "slide_type": "fragment"
    }
   },
   "source": [
    "Each return statement `return x` is transformed to `return _data.set('<return_value>', x)`. This allows to __track return values__."
   ]
  },
  {
   "cell_type": "markdown",
   "metadata": {
    "slideshow": {
     "slide_type": "subslide"
    }
   },
   "source": [
    "### Excursion: Tracking Return Values"
   ]
  },
  {
   "cell_type": "markdown",
   "metadata": {
    "slideshow": {
     "slide_type": "fragment"
    }
   },
   "source": [
    "Our `TrackReturnTransformer` also makes use of `make_set_data()`."
   ]
  },
  {
   "cell_type": "code",
   "execution_count": 105,
   "metadata": {
    "execution": {
     "iopub.execute_input": "2023-02-11T12:18:26.575860Z",
     "iopub.status.busy": "2023-02-11T12:18:26.575502Z",
     "iopub.status.idle": "2023-02-11T12:18:26.576807Z",
     "shell.execute_reply": "2023-02-11T12:18:26.577017Z"
    },
    "slideshow": {
     "slide_type": "subslide"
    }
   },
   "outputs": [],
   "source": [
    "class TrackReturnTransformer(NodeTransformer):\n",
    "    def __init__(self) -> None:\n",
    "        self.function_name: Optional[str] = None\n",
    "        super().__init__()\n",
    "\n",
    "    def visit_FunctionDef(self, node: Union[ast.FunctionDef, ast.AsyncFunctionDef]) -> AST:\n",
    "        outer_name = self.function_name\n",
    "        self.function_name = node.name  # Save current name\n",
    "        self.generic_visit(node)\n",
    "        self.function_name = outer_name\n",
    "        return node\n",
    "\n",
    "    def visit_AsyncFunctionDef(self, node: ast.AsyncFunctionDef) -> AST:\n",
    "        return self.visit_FunctionDef(node)\n",
    "\n",
    "    def return_value(self, tp: str = \"return\") -> str:\n",
    "        if self.function_name is None:\n",
    "            return f\"<{tp} value>\"\n",
    "        else:\n",
    "            return f\"<{self.function_name}() {tp} value>\"\n",
    "\n",
    "    def visit_return_or_yield(self, node: Union[ast.Return, ast.Yield, ast.YieldFrom],\n",
    "                              tp: str = \"return\") -> AST:\n",
    "\n",
    "        if node.value is not None:\n",
    "            value = ast.unparse(node.value)\n",
    "            if not value.startswith(DATA_TRACKER + '.set'):\n",
    "                node.value = make_set_data(self.return_value(tp), node.value)\n",
    "\n",
    "        return node\n",
    "\n",
    "    def visit_Return(self, node: ast.Return) -> AST:\n",
    "        return self.visit_return_or_yield(node, tp=\"return\")\n",
    "\n",
    "    def visit_Yield(self, node: ast.Yield) -> AST:\n",
    "        return self.visit_return_or_yield(node, tp=\"yield\")\n",
    "\n",
    "    def visit_YieldFrom(self, node: ast.YieldFrom) -> AST:\n",
    "        return self.visit_return_or_yield(node, tp=\"yield\")"
   ]
  },
  {
   "cell_type": "markdown",
   "metadata": {
    "slideshow": {
     "slide_type": "subslide"
    }
   },
   "source": [
    "This is the effect of `TrackReturnTransformer`. We see that all return values are saved, and thus all locations of the corresponding return statements are tracked."
   ]
  },
  {
   "cell_type": "code",
   "execution_count": 106,
   "metadata": {
    "execution": {
     "iopub.execute_input": "2023-02-11T12:18:26.578585Z",
     "iopub.status.busy": "2023-02-11T12:18:26.578274Z",
     "iopub.status.idle": "2023-02-11T12:18:26.611414Z",
     "shell.execute_reply": "2023-02-11T12:18:26.611665Z"
    },
    "slideshow": {
     "slide_type": "subslide"
    }
   },
   "outputs": [
    {
     "name": "stdout",
     "output_type": "stream",
     "text": [
      "\u001b[34mdef\u001b[39;49;00m \u001b[32mmiddle\u001b[39;49;00m(x, y, z):\u001b[37m\u001b[39;49;00m\n",
      "    \u001b[34mif\u001b[39;49;00m _data.get(\u001b[33m'\u001b[39;49;00m\u001b[33my\u001b[39;49;00m\u001b[33m'\u001b[39;49;00m, y) < _data.get(\u001b[33m'\u001b[39;49;00m\u001b[33mz\u001b[39;49;00m\u001b[33m'\u001b[39;49;00m, z):\u001b[37m\u001b[39;49;00m\n",
      "        \u001b[34mif\u001b[39;49;00m _data.get(\u001b[33m'\u001b[39;49;00m\u001b[33mx\u001b[39;49;00m\u001b[33m'\u001b[39;49;00m, x) < _data.get(\u001b[33m'\u001b[39;49;00m\u001b[33my\u001b[39;49;00m\u001b[33m'\u001b[39;49;00m, y):\u001b[37m\u001b[39;49;00m\n",
      "            \u001b[34mreturn\u001b[39;49;00m _data.set(\u001b[33m'\u001b[39;49;00m\u001b[33m<middle() return value>\u001b[39;49;00m\u001b[33m'\u001b[39;49;00m, _data.get(\u001b[33m'\u001b[39;49;00m\u001b[33my\u001b[39;49;00m\u001b[33m'\u001b[39;49;00m, y))\u001b[37m\u001b[39;49;00m\n",
      "        \u001b[34melif\u001b[39;49;00m _data.get(\u001b[33m'\u001b[39;49;00m\u001b[33mx\u001b[39;49;00m\u001b[33m'\u001b[39;49;00m, x) < _data.get(\u001b[33m'\u001b[39;49;00m\u001b[33mz\u001b[39;49;00m\u001b[33m'\u001b[39;49;00m, z):\u001b[37m\u001b[39;49;00m\n",
      "            \u001b[34mreturn\u001b[39;49;00m _data.set(\u001b[33m'\u001b[39;49;00m\u001b[33m<middle() return value>\u001b[39;49;00m\u001b[33m'\u001b[39;49;00m, _data.get(\u001b[33m'\u001b[39;49;00m\u001b[33my\u001b[39;49;00m\u001b[33m'\u001b[39;49;00m, y))\u001b[37m\u001b[39;49;00m\n",
      "    \u001b[34melif\u001b[39;49;00m _data.get(\u001b[33m'\u001b[39;49;00m\u001b[33mx\u001b[39;49;00m\u001b[33m'\u001b[39;49;00m, x) > _data.get(\u001b[33m'\u001b[39;49;00m\u001b[33my\u001b[39;49;00m\u001b[33m'\u001b[39;49;00m, y):\u001b[37m\u001b[39;49;00m\n",
      "        \u001b[34mreturn\u001b[39;49;00m _data.set(\u001b[33m'\u001b[39;49;00m\u001b[33m<middle() return value>\u001b[39;49;00m\u001b[33m'\u001b[39;49;00m, _data.get(\u001b[33m'\u001b[39;49;00m\u001b[33my\u001b[39;49;00m\u001b[33m'\u001b[39;49;00m, y))\u001b[37m\u001b[39;49;00m\n",
      "    \u001b[34melif\u001b[39;49;00m _data.get(\u001b[33m'\u001b[39;49;00m\u001b[33mx\u001b[39;49;00m\u001b[33m'\u001b[39;49;00m, x) > _data.get(\u001b[33m'\u001b[39;49;00m\u001b[33mz\u001b[39;49;00m\u001b[33m'\u001b[39;49;00m, z):\u001b[37m\u001b[39;49;00m\n",
      "        \u001b[34mreturn\u001b[39;49;00m _data.set(\u001b[33m'\u001b[39;49;00m\u001b[33m<middle() return value>\u001b[39;49;00m\u001b[33m'\u001b[39;49;00m, _data.get(\u001b[33m'\u001b[39;49;00m\u001b[33mx\u001b[39;49;00m\u001b[33m'\u001b[39;49;00m, x))\u001b[37m\u001b[39;49;00m\n",
      "    \u001b[34mreturn\u001b[39;49;00m _data.set(\u001b[33m'\u001b[39;49;00m\u001b[33m<middle() return value>\u001b[39;49;00m\u001b[33m'\u001b[39;49;00m, _data.get(\u001b[33m'\u001b[39;49;00m\u001b[33mz\u001b[39;49;00m\u001b[33m'\u001b[39;49;00m, z))\u001b[37m\u001b[39;49;00m"
     ]
    }
   ],
   "source": [
    "TrackReturnTransformer().visit(middle_tree)\n",
    "dump_tree(middle_tree)"
   ]
  },
  {
   "cell_type": "code",
   "execution_count": 107,
   "metadata": {
    "execution": {
     "iopub.execute_input": "2023-02-11T12:18:26.614191Z",
     "iopub.status.busy": "2023-02-11T12:18:26.613734Z",
     "iopub.status.idle": "2023-02-11T12:18:26.615079Z",
     "shell.execute_reply": "2023-02-11T12:18:26.615328Z"
    },
    "slideshow": {
     "slide_type": "subslide"
    }
   },
   "outputs": [
    {
     "name": "stdout",
     "output_type": "stream",
     "text": [
      "middle:2: getting y\n",
      "middle:2: getting z\n",
      "middle:3: getting x\n",
      "middle:3: getting y\n",
      "middle:5: getting x\n",
      "middle:5: getting z\n",
      "middle:6: getting y\n",
      "middle:6: setting <middle() return value>\n"
     ]
    }
   ],
   "source": [
    "with DataTrackerTester(middle_tree, middle):\n",
    "    middle(2, 1, 3)"
   ]
  },
  {
   "cell_type": "markdown",
   "metadata": {
    "slideshow": {
     "slide_type": "subslide"
    }
   },
   "source": [
    "### End of Excursion"
   ]
  },
  {
   "cell_type": "markdown",
   "metadata": {
    "slideshow": {
     "slide_type": "subslide"
    }
   },
   "source": [
    "To track __control dependencies__, for every block controlled by an `if`, `while`, or `for`:\n",
    "\n",
    "1. We wrap their tests in a `_data.test()` wrapper. This allows us to assign pseudo-variables like `<test>` which hold the conditions.\n",
    "2. We wrap their controlled blocks in a `with` statement. This allows us to track the variables read right before the `with` (= the controlling variables), and to restore the current controlling variables when the block is left.\n",
    "\n",
    "A statement\n",
    "\n",
    "```python\n",
    "if cond:\n",
    "    body\n",
    "```\n",
    "\n",
    "thus becomes\n",
    "\n",
    "```python\n",
    "if _data.test(cond):\n",
    "    with _data:\n",
    "        body\n",
    "```"
   ]
  },
  {
   "cell_type": "markdown",
   "metadata": {
    "slideshow": {
     "slide_type": "subslide"
    }
   },
   "source": [
    "### Excursion: Tracking Control"
   ]
  },
  {
   "cell_type": "markdown",
   "metadata": {
    "slideshow": {
     "slide_type": "fragment"
    }
   },
   "source": [
    "To modify control statements, we traverse the tree, looking for `If` nodes:"
   ]
  },
  {
   "cell_type": "code",
   "execution_count": 108,
   "metadata": {
    "execution": {
     "iopub.execute_input": "2023-02-11T12:18:26.618261Z",
     "iopub.status.busy": "2023-02-11T12:18:26.617889Z",
     "iopub.status.idle": "2023-02-11T12:18:26.618969Z",
     "shell.execute_reply": "2023-02-11T12:18:26.619232Z"
    },
    "slideshow": {
     "slide_type": "fragment"
    }
   },
   "outputs": [],
   "source": [
    "class TrackControlTransformer(NodeTransformer):\n",
    "    def visit_If(self, node: ast.If) -> ast.If:\n",
    "        self.generic_visit(node)\n",
    "        node.test = self.make_test(node.test)\n",
    "        node.body = self.make_with(node.body)\n",
    "        node.orelse = self.make_with(node.orelse)\n",
    "        return node"
   ]
  },
  {
   "cell_type": "markdown",
   "metadata": {
    "slideshow": {
     "slide_type": "fragment"
    }
   },
   "source": [
    "The subtrees come from helper functions `make_with()` and `make_test()`. Again, all these subtrees are obtained via `ast.dump()`."
   ]
  },
  {
   "cell_type": "code",
   "execution_count": 109,
   "metadata": {
    "execution": {
     "iopub.execute_input": "2023-02-11T12:18:26.622324Z",
     "iopub.status.busy": "2023-02-11T12:18:26.622000Z",
     "iopub.status.idle": "2023-02-11T12:18:26.623160Z",
     "shell.execute_reply": "2023-02-11T12:18:26.623355Z"
    },
    "slideshow": {
     "slide_type": "subslide"
    }
   },
   "outputs": [],
   "source": [
    "class TrackControlTransformer(TrackControlTransformer):\n",
    "    def make_with(self, block: List[ast.stmt]) -> List[ast.stmt]:\n",
    "        \"\"\"Create a subtree 'with _data: `block`'\"\"\"\n",
    "        if len(block) == 0:\n",
    "            return []\n",
    "\n",
    "        block_as_text = ast.unparse(block[0])\n",
    "        if block_as_text.startswith('with ' + DATA_TRACKER):\n",
    "            return block  # Do not apply twice\n",
    "\n",
    "        new_node = With(\n",
    "            items=[\n",
    "                withitem(\n",
    "                    context_expr=Name(id=DATA_TRACKER, ctx=Load()),\n",
    "                    optional_vars=None)\n",
    "            ],\n",
    "            body=block\n",
    "        )\n",
    "        ast.copy_location(new_node, block[0])\n",
    "        return [new_node]"
   ]
  },
  {
   "cell_type": "code",
   "execution_count": 110,
   "metadata": {
    "execution": {
     "iopub.execute_input": "2023-02-11T12:18:26.625956Z",
     "iopub.status.busy": "2023-02-11T12:18:26.625640Z",
     "iopub.status.idle": "2023-02-11T12:18:26.626685Z",
     "shell.execute_reply": "2023-02-11T12:18:26.626898Z"
    },
    "slideshow": {
     "slide_type": "subslide"
    }
   },
   "outputs": [],
   "source": [
    "class TrackControlTransformer(TrackControlTransformer):\n",
    "    def make_test(self, test: ast.expr) -> ast.expr:\n",
    "        test_as_text = ast.unparse(test)\n",
    "        if test_as_text.startswith(DATA_TRACKER + '.test'):\n",
    "            return test  # Do not apply twice\n",
    "\n",
    "        new_test = Call(func=Attribute(value=Name(id=DATA_TRACKER, ctx=Load()),\n",
    "                                       attr='test',\n",
    "                                       ctx=Load()),\n",
    "                         args=[test],\n",
    "                         keywords=[])\n",
    "        ast.copy_location(new_test, test)\n",
    "        return new_test"
   ]
  },
  {
   "cell_type": "markdown",
   "metadata": {
    "slideshow": {
     "slide_type": "fragment"
    }
   },
   "source": [
    "`while` loops are handled just like `if` constructs."
   ]
  },
  {
   "cell_type": "code",
   "execution_count": 111,
   "metadata": {
    "execution": {
     "iopub.execute_input": "2023-02-11T12:18:26.629269Z",
     "iopub.status.busy": "2023-02-11T12:18:26.628911Z",
     "iopub.status.idle": "2023-02-11T12:18:26.630074Z",
     "shell.execute_reply": "2023-02-11T12:18:26.630346Z"
    },
    "slideshow": {
     "slide_type": "subslide"
    }
   },
   "outputs": [],
   "source": [
    "class TrackControlTransformer(TrackControlTransformer):\n",
    "    def visit_While(self, node: ast.While) -> ast.While:\n",
    "        self.generic_visit(node)\n",
    "        node.test = self.make_test(node.test)\n",
    "        node.body = self.make_with(node.body)\n",
    "        node.orelse = self.make_with(node.orelse)\n",
    "        return node"
   ]
  },
  {
   "cell_type": "markdown",
   "metadata": {
    "slideshow": {
     "slide_type": "fragment"
    }
   },
   "source": [
    "`for` loops gets a different treatment, as there is no condition that would control the body. Still, we ensure that setting the iterator variable is properly tracked."
   ]
  },
  {
   "cell_type": "code",
   "execution_count": 112,
   "metadata": {
    "execution": {
     "iopub.execute_input": "2023-02-11T12:18:26.633421Z",
     "iopub.status.busy": "2023-02-11T12:18:26.633097Z",
     "iopub.status.idle": "2023-02-11T12:18:26.634131Z",
     "shell.execute_reply": "2023-02-11T12:18:26.634434Z"
    },
    "slideshow": {
     "slide_type": "subslide"
    }
   },
   "outputs": [],
   "source": [
    "class TrackControlTransformer(TrackControlTransformer):\n",
    "    # regular `for` loop\n",
    "    def visit_For(self, node: Union[ast.For, ast.AsyncFor]) -> AST:\n",
    "        self.generic_visit(node)\n",
    "        id = ast.unparse(node.target).strip()\n",
    "        node.iter = make_set_data(id, node.iter)\n",
    "\n",
    "        # Uncomment if you want iterators to control their bodies\n",
    "        # node.body = self.make_with(node.body)\n",
    "        # node.orelse = self.make_with(node.orelse)\n",
    "        return node\n",
    "\n",
    "    # `for` loops in async functions\n",
    "    def visit_AsyncFor(self, node: ast.AsyncFor) -> AST:\n",
    "        return self.visit_For(node)\n",
    "\n",
    "    # `for` clause in comprehensions\n",
    "    def visit_comprehension(self, node: ast.comprehension) -> AST:\n",
    "        self.generic_visit(node)\n",
    "        id = ast.unparse(node.target).strip()\n",
    "        node.iter = make_set_data(id, node.iter)\n",
    "        return node"
   ]
  },
  {
   "cell_type": "markdown",
   "metadata": {
    "slideshow": {
     "slide_type": "subslide"
    }
   },
   "source": [
    "Here is the effect of `TrackControlTransformer`:"
   ]
  },
  {
   "cell_type": "code",
   "execution_count": 113,
   "metadata": {
    "execution": {
     "iopub.execute_input": "2023-02-11T12:18:26.659667Z",
     "iopub.status.busy": "2023-02-11T12:18:26.635493Z",
     "iopub.status.idle": "2023-02-11T12:18:26.672531Z",
     "shell.execute_reply": "2023-02-11T12:18:26.672981Z"
    },
    "slideshow": {
     "slide_type": "subslide"
    }
   },
   "outputs": [
    {
     "name": "stdout",
     "output_type": "stream",
     "text": [
      "\u001b[34mdef\u001b[39;49;00m \u001b[32mmiddle\u001b[39;49;00m(x, y, z):\u001b[37m\u001b[39;49;00m\n",
      "    \u001b[34mif\u001b[39;49;00m _data.test(_data.get(\u001b[33m'\u001b[39;49;00m\u001b[33my\u001b[39;49;00m\u001b[33m'\u001b[39;49;00m, y) < _data.get(\u001b[33m'\u001b[39;49;00m\u001b[33mz\u001b[39;49;00m\u001b[33m'\u001b[39;49;00m, z)):\u001b[37m\u001b[39;49;00m\n",
      "        \u001b[34mwith\u001b[39;49;00m _data:\u001b[37m\u001b[39;49;00m\n",
      "            \u001b[34mif\u001b[39;49;00m _data.test(_data.get(\u001b[33m'\u001b[39;49;00m\u001b[33mx\u001b[39;49;00m\u001b[33m'\u001b[39;49;00m, x) < _data.get(\u001b[33m'\u001b[39;49;00m\u001b[33my\u001b[39;49;00m\u001b[33m'\u001b[39;49;00m, y)):\u001b[37m\u001b[39;49;00m\n",
      "                \u001b[34mwith\u001b[39;49;00m _data:\u001b[37m\u001b[39;49;00m\n",
      "                    \u001b[34mreturn\u001b[39;49;00m _data.set(\u001b[33m'\u001b[39;49;00m\u001b[33m<middle() return value>\u001b[39;49;00m\u001b[33m'\u001b[39;49;00m, _data.get(\u001b[33m'\u001b[39;49;00m\u001b[33my\u001b[39;49;00m\u001b[33m'\u001b[39;49;00m, y))\u001b[37m\u001b[39;49;00m\n",
      "            \u001b[34melse\u001b[39;49;00m:\u001b[37m\u001b[39;49;00m\n",
      "                \u001b[34mwith\u001b[39;49;00m _data:\u001b[37m\u001b[39;49;00m\n",
      "                    \u001b[34mif\u001b[39;49;00m _data.test(_data.get(\u001b[33m'\u001b[39;49;00m\u001b[33mx\u001b[39;49;00m\u001b[33m'\u001b[39;49;00m, x) < _data.get(\u001b[33m'\u001b[39;49;00m\u001b[33mz\u001b[39;49;00m\u001b[33m'\u001b[39;49;00m, z)):\u001b[37m\u001b[39;49;00m\n",
      "                        \u001b[34mwith\u001b[39;49;00m _data:\u001b[37m\u001b[39;49;00m\n",
      "                            \u001b[34mreturn\u001b[39;49;00m _data.set(\u001b[33m'\u001b[39;49;00m\u001b[33m<middle() return value>\u001b[39;49;00m\u001b[33m'\u001b[39;49;00m, _data.get(\u001b[33m'\u001b[39;49;00m\u001b[33my\u001b[39;49;00m\u001b[33m'\u001b[39;49;00m, y))\u001b[37m\u001b[39;49;00m\n",
      "    \u001b[34melse\u001b[39;49;00m:\u001b[37m\u001b[39;49;00m\n",
      "        \u001b[34mwith\u001b[39;49;00m _data:\u001b[37m\u001b[39;49;00m\n",
      "            \u001b[34mif\u001b[39;49;00m _data.test(_data.get(\u001b[33m'\u001b[39;49;00m\u001b[33mx\u001b[39;49;00m\u001b[33m'\u001b[39;49;00m, x) > _data.get(\u001b[33m'\u001b[39;49;00m\u001b[33my\u001b[39;49;00m\u001b[33m'\u001b[39;49;00m, y)):\u001b[37m\u001b[39;49;00m\n",
      "                \u001b[34mwith\u001b[39;49;00m _data:\u001b[37m\u001b[39;49;00m\n",
      "                    \u001b[34mreturn\u001b[39;49;00m _data.set(\u001b[33m'\u001b[39;49;00m\u001b[33m<middle() return value>\u001b[39;49;00m\u001b[33m'\u001b[39;49;00m, _data.get(\u001b[33m'\u001b[39;49;00m\u001b[33my\u001b[39;49;00m\u001b[33m'\u001b[39;49;00m, y))\u001b[37m\u001b[39;49;00m\n",
      "            \u001b[34melse\u001b[39;49;00m:\u001b[37m\u001b[39;49;00m\n",
      "                \u001b[34mwith\u001b[39;49;00m _data:\u001b[37m\u001b[39;49;00m\n",
      "                    \u001b[34mif\u001b[39;49;00m _data.test(_data.get(\u001b[33m'\u001b[39;49;00m\u001b[33mx\u001b[39;49;00m\u001b[33m'\u001b[39;49;00m, x) > _data.get(\u001b[33m'\u001b[39;49;00m\u001b[33mz\u001b[39;49;00m\u001b[33m'\u001b[39;49;00m, z)):\u001b[37m\u001b[39;49;00m\n",
      "                        \u001b[34mwith\u001b[39;49;00m _data:\u001b[37m\u001b[39;49;00m\n",
      "                            \u001b[34mreturn\u001b[39;49;00m _data.set(\u001b[33m'\u001b[39;49;00m\u001b[33m<middle() return value>\u001b[39;49;00m\u001b[33m'\u001b[39;49;00m, _data.get(\u001b[33m'\u001b[39;49;00m\u001b[33mx\u001b[39;49;00m\u001b[33m'\u001b[39;49;00m, x))\u001b[37m\u001b[39;49;00m\n",
      "    \u001b[34mreturn\u001b[39;49;00m _data.set(\u001b[33m'\u001b[39;49;00m\u001b[33m<middle() return value>\u001b[39;49;00m\u001b[33m'\u001b[39;49;00m, _data.get(\u001b[33m'\u001b[39;49;00m\u001b[33mz\u001b[39;49;00m\u001b[33m'\u001b[39;49;00m, z))\u001b[37m\u001b[39;49;00m"
     ]
    }
   ],
   "source": [
    "TrackControlTransformer().visit(middle_tree)\n",
    "dump_tree(middle_tree)"
   ]
  },
  {
   "cell_type": "markdown",
   "metadata": {
    "slideshow": {
     "slide_type": "subslide"
    }
   },
   "source": [
    "We extend `DataTracker` to also log these events:"
   ]
  },
  {
   "cell_type": "code",
   "execution_count": 114,
   "metadata": {
    "execution": {
     "iopub.execute_input": "2023-02-11T12:18:26.676452Z",
     "iopub.status.busy": "2023-02-11T12:18:26.676131Z",
     "iopub.status.idle": "2023-02-11T12:18:26.677384Z",
     "shell.execute_reply": "2023-02-11T12:18:26.677636Z"
    },
    "slideshow": {
     "slide_type": "fragment"
    }
   },
   "outputs": [],
   "source": [
    "class DataTracker(DataTracker):\n",
    "    def test(self, cond: AST) -> AST:\n",
    "        \"\"\"Test condition `cond`. To be overloaded in subclasses.\"\"\"\n",
    "        if self.log:\n",
    "            caller_func, lineno = self.caller_location()\n",
    "            print(f\"{caller_func.__name__}:{lineno}: testing condition\")\n",
    "\n",
    "        return cond"
   ]
  },
  {
   "cell_type": "code",
   "execution_count": 115,
   "metadata": {
    "execution": {
     "iopub.execute_input": "2023-02-11T12:18:26.680390Z",
     "iopub.status.busy": "2023-02-11T12:18:26.679990Z",
     "iopub.status.idle": "2023-02-11T12:18:26.681335Z",
     "shell.execute_reply": "2023-02-11T12:18:26.681582Z"
    },
    "slideshow": {
     "slide_type": "subslide"
    }
   },
   "outputs": [],
   "source": [
    "class DataTracker(DataTracker):\n",
    "    def __enter__(self) -> Any:\n",
    "        \"\"\"Enter `with` block. To be overloaded in subclasses.\"\"\"\n",
    "        if self.log:\n",
    "            caller_func, lineno = self.caller_location()\n",
    "            print(f\"{caller_func.__name__}:{lineno}: entering block\")\n",
    "        return self\n",
    "\n",
    "    def __exit__(self, exc_type: Type, exc_value: BaseException, \n",
    "                 traceback: TracebackType) -> Optional[bool]:\n",
    "        \"\"\"Exit `with` block. To be overloaded in subclasses.\"\"\"\n",
    "        if self.log:\n",
    "            caller_func, lineno = self.caller_location()\n",
    "            print(f\"{caller_func.__name__}:{lineno}: exiting block\")\n",
    "        return None"
   ]
  },
  {
   "cell_type": "code",
   "execution_count": 116,
   "metadata": {
    "execution": {
     "iopub.execute_input": "2023-02-11T12:18:26.684291Z",
     "iopub.status.busy": "2023-02-11T12:18:26.683948Z",
     "iopub.status.idle": "2023-02-11T12:18:26.685339Z",
     "shell.execute_reply": "2023-02-11T12:18:26.685536Z"
    },
    "slideshow": {
     "slide_type": "subslide"
    }
   },
   "outputs": [
    {
     "name": "stdout",
     "output_type": "stream",
     "text": [
      "middle:2: getting y\n",
      "middle:2: getting z\n",
      "middle:2: testing condition\n",
      "middle:3: entering block\n",
      "middle:3: getting x\n",
      "middle:3: getting y\n",
      "middle:3: testing condition\n",
      "middle:5: entering block\n",
      "middle:5: getting x\n",
      "middle:5: getting z\n",
      "middle:5: testing condition\n",
      "middle:6: entering block\n",
      "middle:6: getting y\n",
      "middle:6: setting <middle() return value>\n",
      "middle:6: exiting block\n",
      "middle:5: exiting block\n",
      "middle:3: exiting block\n"
     ]
    }
   ],
   "source": [
    "with DataTrackerTester(middle_tree, middle):\n",
    "    middle(2, 1, 3)"
   ]
  },
  {
   "cell_type": "markdown",
   "metadata": {
    "slideshow": {
     "slide_type": "subslide"
    }
   },
   "source": [
    "### End of Excursion"
   ]
  },
  {
   "cell_type": "markdown",
   "metadata": {
    "slideshow": {
     "slide_type": "subslide"
    }
   },
   "source": [
    "We also want to be able to __track calls__ across multiple functions. To this end, we wrap each call\n",
    "\n",
    "```python\n",
    "func(arg1, arg2, ...)\n",
    "```\n",
    "\n",
    "into\n",
    "\n",
    "```python\n",
    "_data.ret(_data.call(func)(_data.arg(arg1), _data.arg(arg2), ...))\n",
    "```\n",
    "\n",
    "each of which simply pass through their given argument, but which allow to track the beginning of calls (`call()`), the computation of arguments (`arg()`), and the return of the call (`ret()`), respectively."
   ]
  },
  {
   "cell_type": "markdown",
   "metadata": {
    "slideshow": {
     "slide_type": "subslide"
    }
   },
   "source": [
    "### Excursion: Tracking Calls and Arguments"
   ]
  },
  {
   "cell_type": "markdown",
   "metadata": {
    "slideshow": {
     "slide_type": "fragment"
    }
   },
   "source": [
    "Our `TrackCallTransformer` visits all `Call` nodes, applying the transformations as shown above."
   ]
  },
  {
   "cell_type": "code",
   "execution_count": 117,
   "metadata": {
    "execution": {
     "iopub.execute_input": "2023-02-11T12:18:26.690146Z",
     "iopub.status.busy": "2023-02-11T12:18:26.689807Z",
     "iopub.status.idle": "2023-02-11T12:18:26.691096Z",
     "shell.execute_reply": "2023-02-11T12:18:26.691349Z"
    },
    "slideshow": {
     "slide_type": "subslide"
    }
   },
   "outputs": [],
   "source": [
    "class TrackCallTransformer(NodeTransformer):\n",
    "    def make_call(self, node: AST, func: str, \n",
    "                  pos: Optional[int] = None, kw: Optional[str] = None) -> Call:\n",
    "        \"\"\"Return _data.call(`func`)(`node`)\"\"\"\n",
    "        keywords = []\n",
    "\n",
    "        # `Num()` and `Str()` are deprecated in favor of `Constant()`\n",
    "        if pos:\n",
    "            keywords.append(keyword(arg='pos', value=ast.Num(pos)))\n",
    "        if kw:\n",
    "            keywords.append(keyword(arg='kw', value=ast.Str(kw)))\n",
    "\n",
    "        return Call(func=Attribute(value=Name(id=DATA_TRACKER,\n",
    "                                              ctx=Load()),\n",
    "                                   attr=func,\n",
    "                                   ctx=Load()),\n",
    "                     args=[node],\n",
    "                     keywords=keywords)\n",
    "\n",
    "    def visit_Call(self, node: Call) -> Call:\n",
    "        self.generic_visit(node)\n",
    "\n",
    "        call_as_text = ast.unparse(node)\n",
    "        if call_as_text.startswith(DATA_TRACKER + '.ret'):\n",
    "            return node  # Already applied\n",
    "\n",
    "        func_as_text = ast.unparse(node)\n",
    "        if func_as_text.startswith(DATA_TRACKER + '.'):\n",
    "            return node  # Own function\n",
    "\n",
    "        new_args = []\n",
    "        for n, arg in enumerate(node.args):\n",
    "            new_args.append(self.make_call(arg, 'arg', pos=n + 1))\n",
    "        node.args = cast(List[ast.expr], new_args)\n",
    "\n",
    "        for kw in node.keywords:\n",
    "            id = kw.arg if hasattr(kw, 'arg') else None\n",
    "            kw.value = self.make_call(kw.value, 'arg', kw=id)\n",
    "\n",
    "        node.func = self.make_call(node.func, 'call')\n",
    "        return self.make_call(node, 'ret')"
   ]
  },
  {
   "cell_type": "markdown",
   "metadata": {
    "slideshow": {
     "slide_type": "subslide"
    }
   },
   "source": [
    "Our example function `middle()` does not contain any calls, but here is a function that invokes `middle()` twice:"
   ]
  },
  {
   "cell_type": "code",
   "execution_count": 118,
   "metadata": {
    "execution": {
     "iopub.execute_input": "2023-02-11T12:18:26.693546Z",
     "iopub.status.busy": "2023-02-11T12:18:26.693217Z",
     "iopub.status.idle": "2023-02-11T12:18:26.694721Z",
     "shell.execute_reply": "2023-02-11T12:18:26.695005Z"
    },
    "slideshow": {
     "slide_type": "fragment"
    }
   },
   "outputs": [],
   "source": [
    "def test_call() -> int:\n",
    "    x = middle(1, 2, z=middle(1, 2, 3))\n",
    "    return x"
   ]
  },
  {
   "cell_type": "code",
   "execution_count": 119,
   "metadata": {
    "execution": {
     "iopub.execute_input": "2023-02-11T12:18:26.719164Z",
     "iopub.status.busy": "2023-02-11T12:18:26.718831Z",
     "iopub.status.idle": "2023-02-11T12:18:26.727949Z",
     "shell.execute_reply": "2023-02-11T12:18:26.728248Z"
    },
    "slideshow": {
     "slide_type": "fragment"
    }
   },
   "outputs": [
    {
     "name": "stdout",
     "output_type": "stream",
     "text": [
      "\u001b[34mdef\u001b[39;49;00m \u001b[32mtest_call\u001b[39;49;00m() -> \u001b[36mint\u001b[39;49;00m:\u001b[37m\u001b[39;49;00m\n",
      "    x = middle(\u001b[34m1\u001b[39;49;00m, \u001b[34m2\u001b[39;49;00m, z=middle(\u001b[34m1\u001b[39;49;00m, \u001b[34m2\u001b[39;49;00m, \u001b[34m3\u001b[39;49;00m))\u001b[37m\u001b[39;49;00m\n",
      "    \u001b[34mreturn\u001b[39;49;00m x\u001b[37m\u001b[39;49;00m"
     ]
    }
   ],
   "source": [
    "call_tree = ast.parse(inspect.getsource(test_call))\n",
    "dump_tree(call_tree)"
   ]
  },
  {
   "cell_type": "markdown",
   "metadata": {
    "slideshow": {
     "slide_type": "fragment"
    }
   },
   "source": [
    "If we invoke `TrackCallTransformer` on this testing function, we get the following transformed code:"
   ]
  },
  {
   "cell_type": "code",
   "execution_count": 120,
   "metadata": {
    "execution": {
     "iopub.execute_input": "2023-02-11T12:18:26.730700Z",
     "iopub.status.busy": "2023-02-11T12:18:26.729612Z",
     "iopub.status.idle": "2023-02-11T12:18:26.731947Z",
     "shell.execute_reply": "2023-02-11T12:18:26.732197Z"
    },
    "slideshow": {
     "slide_type": "fragment"
    }
   },
   "outputs": [],
   "source": [
    "TrackCallTransformer().visit(call_tree);"
   ]
  },
  {
   "cell_type": "code",
   "execution_count": 121,
   "metadata": {
    "execution": {
     "iopub.execute_input": "2023-02-11T12:18:26.760779Z",
     "iopub.status.busy": "2023-02-11T12:18:26.760234Z",
     "iopub.status.idle": "2023-02-11T12:18:26.769339Z",
     "shell.execute_reply": "2023-02-11T12:18:26.769774Z"
    },
    "slideshow": {
     "slide_type": "subslide"
    }
   },
   "outputs": [
    {
     "name": "stdout",
     "output_type": "stream",
     "text": [
      "\u001b[34mdef\u001b[39;49;00m \u001b[32mtest_call\u001b[39;49;00m() -> \u001b[36mint\u001b[39;49;00m:\u001b[37m\u001b[39;49;00m\n",
      "    x = _data.ret(_data.call(middle)(_data.arg(\u001b[34m1\u001b[39;49;00m, pos=\u001b[34m1\u001b[39;49;00m), _data.arg(\u001b[34m2\u001b[39;49;00m, pos=\u001b[34m2\u001b[39;49;00m), z=_data.arg(_data.ret(_data.call(middle)(_data.arg(\u001b[34m1\u001b[39;49;00m, pos=\u001b[34m1\u001b[39;49;00m), _data.arg(\u001b[34m2\u001b[39;49;00m, pos=\u001b[34m2\u001b[39;49;00m), _data.arg(\u001b[34m3\u001b[39;49;00m, pos=\u001b[34m3\u001b[39;49;00m))), kw=\u001b[33m'\u001b[39;49;00m\u001b[33mz\u001b[39;49;00m\u001b[33m'\u001b[39;49;00m)))\u001b[37m\u001b[39;49;00m\n",
      "    \u001b[34mreturn\u001b[39;49;00m x\u001b[37m\u001b[39;49;00m"
     ]
    }
   ],
   "source": [
    "dump_tree(call_tree)"
   ]
  },
  {
   "cell_type": "code",
   "execution_count": 122,
   "metadata": {
    "execution": {
     "iopub.execute_input": "2023-02-11T12:18:26.771981Z",
     "iopub.status.busy": "2023-02-11T12:18:26.771680Z",
     "iopub.status.idle": "2023-02-11T12:18:26.772876Z",
     "shell.execute_reply": "2023-02-11T12:18:26.773117Z"
    },
    "slideshow": {
     "slide_type": "fragment"
    }
   },
   "outputs": [],
   "source": [
    "def f() -> bool:\n",
    "    return math.isclose(1, 1.0)"
   ]
  },
  {
   "cell_type": "code",
   "execution_count": 123,
   "metadata": {
    "execution": {
     "iopub.execute_input": "2023-02-11T12:18:26.776233Z",
     "iopub.status.busy": "2023-02-11T12:18:26.775356Z",
     "iopub.status.idle": "2023-02-11T12:18:26.806229Z",
     "shell.execute_reply": "2023-02-11T12:18:26.806480Z"
    },
    "slideshow": {
     "slide_type": "fragment"
    }
   },
   "outputs": [
    {
     "name": "stdout",
     "output_type": "stream",
     "text": [
      "\u001b[34mdef\u001b[39;49;00m \u001b[32mf\u001b[39;49;00m() -> \u001b[36mbool\u001b[39;49;00m:\u001b[37m\u001b[39;49;00m\n",
      "    \u001b[34mreturn\u001b[39;49;00m math.isclose(\u001b[34m1\u001b[39;49;00m, \u001b[34m1.0\u001b[39;49;00m)\u001b[37m\u001b[39;49;00m"
     ]
    }
   ],
   "source": [
    "f_tree = ast.parse(inspect.getsource(f))\n",
    "dump_tree(f_tree)"
   ]
  },
  {
   "cell_type": "code",
   "execution_count": 124,
   "metadata": {
    "execution": {
     "iopub.execute_input": "2023-02-11T12:18:26.808727Z",
     "iopub.status.busy": "2023-02-11T12:18:26.808362Z",
     "iopub.status.idle": "2023-02-11T12:18:26.809668Z",
     "shell.execute_reply": "2023-02-11T12:18:26.809927Z"
    },
    "slideshow": {
     "slide_type": "fragment"
    }
   },
   "outputs": [],
   "source": [
    "TrackCallTransformer().visit(f_tree);"
   ]
  },
  {
   "cell_type": "code",
   "execution_count": 125,
   "metadata": {
    "execution": {
     "iopub.execute_input": "2023-02-11T12:18:26.833502Z",
     "iopub.status.busy": "2023-02-11T12:18:26.833198Z",
     "iopub.status.idle": "2023-02-11T12:18:26.841930Z",
     "shell.execute_reply": "2023-02-11T12:18:26.842179Z"
    },
    "slideshow": {
     "slide_type": "fragment"
    }
   },
   "outputs": [
    {
     "name": "stdout",
     "output_type": "stream",
     "text": [
      "\u001b[34mdef\u001b[39;49;00m \u001b[32mf\u001b[39;49;00m() -> \u001b[36mbool\u001b[39;49;00m:\u001b[37m\u001b[39;49;00m\n",
      "    \u001b[34mreturn\u001b[39;49;00m _data.ret(_data.call(math.isclose)(_data.arg(\u001b[34m1\u001b[39;49;00m, pos=\u001b[34m1\u001b[39;49;00m), _data.arg(\u001b[34m1.0\u001b[39;49;00m, pos=\u001b[34m2\u001b[39;49;00m)))\u001b[37m\u001b[39;49;00m"
     ]
    }
   ],
   "source": [
    "dump_tree(f_tree)"
   ]
  },
  {
   "cell_type": "markdown",
   "metadata": {
    "slideshow": {
     "slide_type": "subslide"
    }
   },
   "source": [
    "As before, our default `arg()`, `ret()`, and `call()` methods simply log the event and pass through the given value."
   ]
  },
  {
   "cell_type": "code",
   "execution_count": 126,
   "metadata": {
    "execution": {
     "iopub.execute_input": "2023-02-11T12:18:26.845088Z",
     "iopub.status.busy": "2023-02-11T12:18:26.844586Z",
     "iopub.status.idle": "2023-02-11T12:18:26.846064Z",
     "shell.execute_reply": "2023-02-11T12:18:26.846329Z"
    },
    "slideshow": {
     "slide_type": "subslide"
    }
   },
   "outputs": [],
   "source": [
    "class DataTracker(DataTracker):\n",
    "    def arg(self, value: Any, pos: Optional[int] = None, kw: Optional[str] = None) -> Any:\n",
    "        \"\"\"\n",
    "        Track `value` being passed as argument.\n",
    "        `pos` (if given) is the argument position (starting with 1).\n",
    "        `kw` (if given) is the argument keyword.\n",
    "        \"\"\"\n",
    "\n",
    "        if self.log:\n",
    "            caller_func, lineno = self.caller_location()\n",
    "            info = \"\"\n",
    "            if pos:\n",
    "                info += f\" #{pos}\"\n",
    "            if kw:\n",
    "                info += f\" {repr(kw)}\"\n",
    "\n",
    "            print(f\"{caller_func.__name__}:{lineno}: pushing arg{info}\")\n",
    "\n",
    "        return value"
   ]
  },
  {
   "cell_type": "code",
   "execution_count": 127,
   "metadata": {
    "execution": {
     "iopub.execute_input": "2023-02-11T12:18:26.848864Z",
     "iopub.status.busy": "2023-02-11T12:18:26.848560Z",
     "iopub.status.idle": "2023-02-11T12:18:26.849809Z",
     "shell.execute_reply": "2023-02-11T12:18:26.850034Z"
    },
    "slideshow": {
     "slide_type": "subslide"
    }
   },
   "outputs": [],
   "source": [
    "class DataTracker(DataTracker):\n",
    "    def ret(self, value: Any) -> Any:\n",
    "        \"\"\"Track `value` being used as return value.\"\"\"\n",
    "        if self.log:\n",
    "            caller_func, lineno = self.caller_location()\n",
    "            print(f\"{caller_func.__name__}:{lineno}: returned from call\")\n",
    "\n",
    "        return value"
   ]
  },
  {
   "cell_type": "code",
   "execution_count": 128,
   "metadata": {
    "execution": {
     "iopub.execute_input": "2023-02-11T12:18:26.852657Z",
     "iopub.status.busy": "2023-02-11T12:18:26.852340Z",
     "iopub.status.idle": "2023-02-11T12:18:26.853609Z",
     "shell.execute_reply": "2023-02-11T12:18:26.853871Z"
    },
    "slideshow": {
     "slide_type": "subslide"
    }
   },
   "outputs": [],
   "source": [
    "class DataTracker(DataTracker):\n",
    "    def instrument_call(self, func: Callable) -> Callable:\n",
    "        \"\"\"Instrument a call to `func`. To be implemented in subclasses.\"\"\"\n",
    "        return func\n",
    "\n",
    "    def call(self, func: Callable) -> Callable:\n",
    "        \"\"\"Track a call to `func`.\"\"\"\n",
    "        if self.log:\n",
    "            caller_func, lineno = self.caller_location()\n",
    "            print(f\"{caller_func.__name__}:{lineno}: calling {func}\")\n",
    "\n",
    "        return self.instrument_call(func)"
   ]
  },
  {
   "cell_type": "code",
   "execution_count": 129,
   "metadata": {
    "execution": {
     "iopub.execute_input": "2023-02-11T12:18:26.879679Z",
     "iopub.status.busy": "2023-02-11T12:18:26.878639Z",
     "iopub.status.idle": "2023-02-11T12:18:26.889462Z",
     "shell.execute_reply": "2023-02-11T12:18:26.889748Z"
    },
    "slideshow": {
     "slide_type": "subslide"
    }
   },
   "outputs": [
    {
     "name": "stdout",
     "output_type": "stream",
     "text": [
      "\u001b[34mdef\u001b[39;49;00m \u001b[32mtest_call\u001b[39;49;00m() -> \u001b[36mint\u001b[39;49;00m:\u001b[37m\u001b[39;49;00m\n",
      "    x = _data.ret(_data.call(middle)(_data.arg(\u001b[34m1\u001b[39;49;00m, pos=\u001b[34m1\u001b[39;49;00m), _data.arg(\u001b[34m2\u001b[39;49;00m, pos=\u001b[34m2\u001b[39;49;00m), z=_data.arg(_data.ret(_data.call(middle)(_data.arg(\u001b[34m1\u001b[39;49;00m, pos=\u001b[34m1\u001b[39;49;00m), _data.arg(\u001b[34m2\u001b[39;49;00m, pos=\u001b[34m2\u001b[39;49;00m), _data.arg(\u001b[34m3\u001b[39;49;00m, pos=\u001b[34m3\u001b[39;49;00m))), kw=\u001b[33m'\u001b[39;49;00m\u001b[33mz\u001b[39;49;00m\u001b[33m'\u001b[39;49;00m)))\u001b[37m\u001b[39;49;00m\n",
      "    \u001b[34mreturn\u001b[39;49;00m x\u001b[37m\u001b[39;49;00m"
     ]
    }
   ],
   "source": [
    "dump_tree(call_tree)"
   ]
  },
  {
   "cell_type": "code",
   "execution_count": 130,
   "metadata": {
    "execution": {
     "iopub.execute_input": "2023-02-11T12:18:26.892242Z",
     "iopub.status.busy": "2023-02-11T12:18:26.891873Z",
     "iopub.status.idle": "2023-02-11T12:18:26.893522Z",
     "shell.execute_reply": "2023-02-11T12:18:26.893849Z"
    },
    "slideshow": {
     "slide_type": "subslide"
    }
   },
   "outputs": [
    {
     "name": "stdout",
     "output_type": "stream",
     "text": [
      "test_call:2: calling <function middle at 0x105b94e50>\n",
      "test_call:2: pushing arg #1\n",
      "test_call:2: pushing arg #2\n",
      "test_call:2: calling <function middle at 0x105b94e50>\n",
      "test_call:2: pushing arg #1\n",
      "test_call:2: pushing arg #2\n",
      "test_call:2: pushing arg #3\n",
      "test_call:2: returned from call\n",
      "test_call:2: pushing arg 'z'\n",
      "test_call:2: returned from call\n"
     ]
    }
   ],
   "source": [
    "with DataTrackerTester(call_tree, test_call):\n",
    "    test_call()"
   ]
  },
  {
   "cell_type": "code",
   "execution_count": 131,
   "metadata": {
    "execution": {
     "iopub.execute_input": "2023-02-11T12:18:26.896380Z",
     "iopub.status.busy": "2023-02-11T12:18:26.896027Z",
     "iopub.status.idle": "2023-02-11T12:18:26.897615Z",
     "shell.execute_reply": "2023-02-11T12:18:26.897851Z"
    },
    "slideshow": {
     "slide_type": "fragment"
    }
   },
   "outputs": [
    {
     "data": {
      "text/plain": [
       "2"
      ]
     },
     "execution_count": 131,
     "metadata": {},
     "output_type": "execute_result"
    }
   ],
   "source": [
    "test_call()"
   ]
  },
  {
   "cell_type": "markdown",
   "metadata": {
    "slideshow": {
     "slide_type": "subslide"
    }
   },
   "source": [
    "### End of Excursion"
   ]
  },
  {
   "cell_type": "markdown",
   "metadata": {
    "slideshow": {
     "slide_type": "fragment"
    }
   },
   "source": [
    "On the receiving end, for each function argument `x`, we insert a call `_data.param('x', x, [position info])` to initialize `x`. This is useful for __tracking parameters across function calls.__"
   ]
  },
  {
   "cell_type": "markdown",
   "metadata": {
    "slideshow": {
     "slide_type": "subslide"
    }
   },
   "source": [
    "### Excursion: Tracking Parameters"
   ]
  },
  {
   "cell_type": "markdown",
   "metadata": {
    "slideshow": {
     "slide_type": "fragment"
    }
   },
   "source": [
    "Again, we use `ast.dump()` to determine the correct syntax tree:"
   ]
  },
  {
   "cell_type": "code",
   "execution_count": 132,
   "metadata": {
    "execution": {
     "iopub.execute_input": "2023-02-11T12:18:26.899894Z",
     "iopub.status.busy": "2023-02-11T12:18:26.899572Z",
     "iopub.status.idle": "2023-02-11T12:18:26.901088Z",
     "shell.execute_reply": "2023-02-11T12:18:26.901345Z"
    },
    "slideshow": {
     "slide_type": "fragment"
    }
   },
   "outputs": [
    {
     "name": "stdout",
     "output_type": "stream",
     "text": [
      "Module(body=[Expr(value=Call(func=Attribute(value=Name(id='_data', ctx=Load()), attr='param', ctx=Load()), args=[Constant(value='x'), Name(id='x', ctx=Load())], keywords=[keyword(arg='pos', value=Constant(value=1)), keyword(arg='last', value=Constant(value=True))]))], type_ignores=[])\n"
     ]
    }
   ],
   "source": [
    "print(ast.dump(ast.parse(\"_data.param('x', x, pos=1, last=True)\")))"
   ]
  },
  {
   "cell_type": "code",
   "execution_count": 133,
   "metadata": {
    "execution": {
     "iopub.execute_input": "2023-02-11T12:18:26.905501Z",
     "iopub.status.busy": "2023-02-11T12:18:26.905185Z",
     "iopub.status.idle": "2023-02-11T12:18:26.906446Z",
     "shell.execute_reply": "2023-02-11T12:18:26.906638Z"
    },
    "slideshow": {
     "slide_type": "subslide"
    }
   },
   "outputs": [],
   "source": [
    "class TrackParamsTransformer(NodeTransformer):\n",
    "    def visit_FunctionDef(self, node: ast.FunctionDef) -> ast.FunctionDef:\n",
    "        self.generic_visit(node)\n",
    "\n",
    "        named_args = []\n",
    "        for child in ast.iter_child_nodes(node.args):\n",
    "            if isinstance(child, ast.arg):\n",
    "                named_args.append(child)\n",
    "\n",
    "        create_stmts = []\n",
    "        for n, child in enumerate(named_args):\n",
    "            keywords=[keyword(arg='pos', value=ast.Num(n=n + 1))]\n",
    "            if child is node.args.vararg:\n",
    "                keywords.append(keyword(arg='vararg', value=ast.Str(s='*')))\n",
    "            if child is node.args.kwarg:\n",
    "                keywords.append(keyword(arg='vararg', value=ast.Str(s='**')))\n",
    "            if n == len(named_args) - 1:\n",
    "                keywords.append(keyword(arg='last',\n",
    "                                        value=ast.NameConstant(value=True)))\n",
    "\n",
    "            create_stmt = Expr(\n",
    "                value=Call(\n",
    "                    func=Attribute(value=Name(id=DATA_TRACKER, ctx=Load()),\n",
    "                                   attr='param', ctx=Load()),\n",
    "                    args=[ast.Str(s=child.arg),\n",
    "                          Name(id=child.arg, ctx=Load())\n",
    "                         ],\n",
    "                    keywords=keywords\n",
    "                )\n",
    "            )\n",
    "            ast.copy_location(create_stmt, node)\n",
    "            create_stmts.append(create_stmt)\n",
    "\n",
    "        node.body = cast(List[ast.stmt], create_stmts) + node.body\n",
    "        return node"
   ]
  },
  {
   "cell_type": "markdown",
   "metadata": {
    "slideshow": {
     "slide_type": "subslide"
    }
   },
   "source": [
    "This is the effect of `TrackParamsTransformer()`. You see how the first three parameters are all initialized."
   ]
  },
  {
   "cell_type": "code",
   "execution_count": 134,
   "metadata": {
    "execution": {
     "iopub.execute_input": "2023-02-11T12:18:26.930600Z",
     "iopub.status.busy": "2023-02-11T12:18:26.930270Z",
     "iopub.status.idle": "2023-02-11T12:18:26.941552Z",
     "shell.execute_reply": "2023-02-11T12:18:26.941799Z"
    },
    "slideshow": {
     "slide_type": "subslide"
    }
   },
   "outputs": [
    {
     "name": "stdout",
     "output_type": "stream",
     "text": [
      "\u001b[34mdef\u001b[39;49;00m \u001b[32mmiddle\u001b[39;49;00m(x, y, z):\u001b[37m\u001b[39;49;00m\n",
      "    _data.param(\u001b[33m'\u001b[39;49;00m\u001b[33mx\u001b[39;49;00m\u001b[33m'\u001b[39;49;00m, x, pos=\u001b[34m1\u001b[39;49;00m)\u001b[37m\u001b[39;49;00m\n",
      "    _data.param(\u001b[33m'\u001b[39;49;00m\u001b[33my\u001b[39;49;00m\u001b[33m'\u001b[39;49;00m, y, pos=\u001b[34m2\u001b[39;49;00m)\u001b[37m\u001b[39;49;00m\n",
      "    _data.param(\u001b[33m'\u001b[39;49;00m\u001b[33mz\u001b[39;49;00m\u001b[33m'\u001b[39;49;00m, z, pos=\u001b[34m3\u001b[39;49;00m, last=\u001b[34mTrue\u001b[39;49;00m)\u001b[37m\u001b[39;49;00m\n",
      "    \u001b[34mif\u001b[39;49;00m _data.test(_data.get(\u001b[33m'\u001b[39;49;00m\u001b[33my\u001b[39;49;00m\u001b[33m'\u001b[39;49;00m, y) < _data.get(\u001b[33m'\u001b[39;49;00m\u001b[33mz\u001b[39;49;00m\u001b[33m'\u001b[39;49;00m, z)):\u001b[37m\u001b[39;49;00m\n",
      "        \u001b[34mwith\u001b[39;49;00m _data:\u001b[37m\u001b[39;49;00m\n",
      "            \u001b[34mif\u001b[39;49;00m _data.test(_data.get(\u001b[33m'\u001b[39;49;00m\u001b[33mx\u001b[39;49;00m\u001b[33m'\u001b[39;49;00m, x) < _data.get(\u001b[33m'\u001b[39;49;00m\u001b[33my\u001b[39;49;00m\u001b[33m'\u001b[39;49;00m, y)):\u001b[37m\u001b[39;49;00m\n",
      "                \u001b[34mwith\u001b[39;49;00m _data:\u001b[37m\u001b[39;49;00m\n",
      "                    \u001b[34mreturn\u001b[39;49;00m _data.set(\u001b[33m'\u001b[39;49;00m\u001b[33m<middle() return value>\u001b[39;49;00m\u001b[33m'\u001b[39;49;00m, _data.get(\u001b[33m'\u001b[39;49;00m\u001b[33my\u001b[39;49;00m\u001b[33m'\u001b[39;49;00m, y))\u001b[37m\u001b[39;49;00m\n",
      "            \u001b[34melse\u001b[39;49;00m:\u001b[37m\u001b[39;49;00m\n",
      "                \u001b[34mwith\u001b[39;49;00m _data:\u001b[37m\u001b[39;49;00m\n",
      "                    \u001b[34mif\u001b[39;49;00m _data.test(_data.get(\u001b[33m'\u001b[39;49;00m\u001b[33mx\u001b[39;49;00m\u001b[33m'\u001b[39;49;00m, x) < _data.get(\u001b[33m'\u001b[39;49;00m\u001b[33mz\u001b[39;49;00m\u001b[33m'\u001b[39;49;00m, z)):\u001b[37m\u001b[39;49;00m\n",
      "                        \u001b[34mwith\u001b[39;49;00m _data:\u001b[37m\u001b[39;49;00m\n",
      "                            \u001b[34mreturn\u001b[39;49;00m _data.set(\u001b[33m'\u001b[39;49;00m\u001b[33m<middle() return value>\u001b[39;49;00m\u001b[33m'\u001b[39;49;00m, _data.get(\u001b[33m'\u001b[39;49;00m\u001b[33my\u001b[39;49;00m\u001b[33m'\u001b[39;49;00m, y))\u001b[37m\u001b[39;49;00m\n",
      "    \u001b[34melse\u001b[39;49;00m:\u001b[37m\u001b[39;49;00m\n",
      "        \u001b[34mwith\u001b[39;49;00m _data:\u001b[37m\u001b[39;49;00m\n",
      "            \u001b[34mif\u001b[39;49;00m _data.test(_data.get(\u001b[33m'\u001b[39;49;00m\u001b[33mx\u001b[39;49;00m\u001b[33m'\u001b[39;49;00m, x) > _data.get(\u001b[33m'\u001b[39;49;00m\u001b[33my\u001b[39;49;00m\u001b[33m'\u001b[39;49;00m, y)):\u001b[37m\u001b[39;49;00m\n",
      "                \u001b[34mwith\u001b[39;49;00m _data:\u001b[37m\u001b[39;49;00m\n",
      "                    \u001b[34mreturn\u001b[39;49;00m _data.set(\u001b[33m'\u001b[39;49;00m\u001b[33m<middle() return value>\u001b[39;49;00m\u001b[33m'\u001b[39;49;00m, _data.get(\u001b[33m'\u001b[39;49;00m\u001b[33my\u001b[39;49;00m\u001b[33m'\u001b[39;49;00m, y))\u001b[37m\u001b[39;49;00m\n",
      "            \u001b[34melse\u001b[39;49;00m:\u001b[37m\u001b[39;49;00m\n",
      "                \u001b[34mwith\u001b[39;49;00m _data:\u001b[37m\u001b[39;49;00m\n",
      "                    \u001b[34mif\u001b[39;49;00m _data.test(_data.get(\u001b[33m'\u001b[39;49;00m\u001b[33mx\u001b[39;49;00m\u001b[33m'\u001b[39;49;00m, x) > _data.get(\u001b[33m'\u001b[39;49;00m\u001b[33mz\u001b[39;49;00m\u001b[33m'\u001b[39;49;00m, z)):\u001b[37m\u001b[39;49;00m\n",
      "                        \u001b[34mwith\u001b[39;49;00m _data:\u001b[37m\u001b[39;49;00m\n",
      "                            \u001b[34mreturn\u001b[39;49;00m _data.set(\u001b[33m'\u001b[39;49;00m\u001b[33m<middle() return value>\u001b[39;49;00m\u001b[33m'\u001b[39;49;00m, _data.get(\u001b[33m'\u001b[39;49;00m\u001b[33mx\u001b[39;49;00m\u001b[33m'\u001b[39;49;00m, x))\u001b[37m\u001b[39;49;00m\n",
      "    \u001b[34mreturn\u001b[39;49;00m _data.set(\u001b[33m'\u001b[39;49;00m\u001b[33m<middle() return value>\u001b[39;49;00m\u001b[33m'\u001b[39;49;00m, _data.get(\u001b[33m'\u001b[39;49;00m\u001b[33mz\u001b[39;49;00m\u001b[33m'\u001b[39;49;00m, z))\u001b[37m\u001b[39;49;00m"
     ]
    }
   ],
   "source": [
    "TrackParamsTransformer().visit(middle_tree)\n",
    "dump_tree(middle_tree)"
   ]
  },
  {
   "cell_type": "markdown",
   "metadata": {
    "slideshow": {
     "slide_type": "subslide"
    }
   },
   "source": [
    "By default, the `DataTracker` `param()` method simply calls `set()` to set variables."
   ]
  },
  {
   "cell_type": "code",
   "execution_count": 135,
   "metadata": {
    "execution": {
     "iopub.execute_input": "2023-02-11T12:18:26.944877Z",
     "iopub.status.busy": "2023-02-11T12:18:26.944451Z",
     "iopub.status.idle": "2023-02-11T12:18:26.945491Z",
     "shell.execute_reply": "2023-02-11T12:18:26.945734Z"
    },
    "slideshow": {
     "slide_type": "subslide"
    }
   },
   "outputs": [],
   "source": [
    "class DataTracker(DataTracker):\n",
    "    def param(self, name: str, value: Any, \n",
    "              pos: Optional[int] = None, vararg: str = '', last: bool = False) -> Any:\n",
    "        \"\"\"\n",
    "        At the beginning of a function, track parameter `name` being set to `value`.\n",
    "        `pos` is the position of the argument (starting with 1).\n",
    "        `vararg` is \"*\" if `name` is a vararg parameter (as in *args),\n",
    "        and \"**\" is `name` is a kwargs parameter (as in *kwargs).\n",
    "        `last` is True if `name` is the last parameter.\n",
    "        \"\"\"\n",
    "        if self.log:\n",
    "            caller_func, lineno = self.caller_location()\n",
    "            info = \"\"\n",
    "            if pos is not None:\n",
    "                info += f\" #{pos}\"\n",
    "\n",
    "            print(f\"{caller_func.__name__}:{lineno}: initializing {vararg}{name}{info}\")\n",
    "\n",
    "        return self.set(name, value)"
   ]
  },
  {
   "cell_type": "code",
   "execution_count": 136,
   "metadata": {
    "execution": {
     "iopub.execute_input": "2023-02-11T12:18:26.948514Z",
     "iopub.status.busy": "2023-02-11T12:18:26.948159Z",
     "iopub.status.idle": "2023-02-11T12:18:26.949731Z",
     "shell.execute_reply": "2023-02-11T12:18:26.949933Z"
    },
    "slideshow": {
     "slide_type": "subslide"
    }
   },
   "outputs": [
    {
     "name": "stdout",
     "output_type": "stream",
     "text": [
      "middle:1: initializing x #1\n",
      "middle:1: setting x\n",
      "middle:1: initializing y #2\n",
      "middle:1: setting y\n",
      "middle:1: initializing z #3\n",
      "middle:1: setting z\n",
      "middle:2: getting y\n",
      "middle:2: getting z\n",
      "middle:2: testing condition\n",
      "middle:3: entering block\n",
      "middle:3: getting x\n",
      "middle:3: getting y\n",
      "middle:3: testing condition\n",
      "middle:5: entering block\n",
      "middle:5: getting x\n",
      "middle:5: getting z\n",
      "middle:5: testing condition\n",
      "middle:6: entering block\n",
      "middle:6: getting y\n",
      "middle:6: setting <middle() return value>\n",
      "middle:6: exiting block\n",
      "middle:5: exiting block\n",
      "middle:3: exiting block\n"
     ]
    }
   ],
   "source": [
    "with DataTrackerTester(middle_tree, middle):\n",
    "    middle(2, 1, 3)"
   ]
  },
  {
   "cell_type": "code",
   "execution_count": 137,
   "metadata": {
    "execution": {
     "iopub.execute_input": "2023-02-11T12:18:26.951986Z",
     "iopub.status.busy": "2023-02-11T12:18:26.951688Z",
     "iopub.status.idle": "2023-02-11T12:18:26.953056Z",
     "shell.execute_reply": "2023-02-11T12:18:26.953493Z"
    },
    "slideshow": {
     "slide_type": "subslide"
    }
   },
   "outputs": [],
   "source": [
    "def args_test(x, *args, **kwargs):  # type: ignore\n",
    "    print(x, *args, **kwargs)"
   ]
  },
  {
   "cell_type": "code",
   "execution_count": 138,
   "metadata": {
    "execution": {
     "iopub.execute_input": "2023-02-11T12:18:26.979992Z",
     "iopub.status.busy": "2023-02-11T12:18:26.978654Z",
     "iopub.status.idle": "2023-02-11T12:18:26.988892Z",
     "shell.execute_reply": "2023-02-11T12:18:26.989171Z"
    },
    "slideshow": {
     "slide_type": "fragment"
    }
   },
   "outputs": [
    {
     "name": "stdout",
     "output_type": "stream",
     "text": [
      "\u001b[34mdef\u001b[39;49;00m \u001b[32margs_test\u001b[39;49;00m(x, *args, **kwargs):\u001b[37m\u001b[39;49;00m\n",
      "    _data.param(\u001b[33m'\u001b[39;49;00m\u001b[33mx\u001b[39;49;00m\u001b[33m'\u001b[39;49;00m, x, pos=\u001b[34m1\u001b[39;49;00m)\u001b[37m\u001b[39;49;00m\n",
      "    _data.param(\u001b[33m'\u001b[39;49;00m\u001b[33margs\u001b[39;49;00m\u001b[33m'\u001b[39;49;00m, args, pos=\u001b[34m2\u001b[39;49;00m, vararg=\u001b[33m'\u001b[39;49;00m\u001b[33m*\u001b[39;49;00m\u001b[33m'\u001b[39;49;00m)\u001b[37m\u001b[39;49;00m\n",
      "    _data.param(\u001b[33m'\u001b[39;49;00m\u001b[33mkwargs\u001b[39;49;00m\u001b[33m'\u001b[39;49;00m, kwargs, pos=\u001b[34m3\u001b[39;49;00m, vararg=\u001b[33m'\u001b[39;49;00m\u001b[33m**\u001b[39;49;00m\u001b[33m'\u001b[39;49;00m, last=\u001b[34mTrue\u001b[39;49;00m)\u001b[37m\u001b[39;49;00m\n",
      "    \u001b[36mprint\u001b[39;49;00m(x, *args, **kwargs)\u001b[37m\u001b[39;49;00m"
     ]
    }
   ],
   "source": [
    "args_tree = ast.parse(inspect.getsource(args_test))\n",
    "TrackParamsTransformer().visit(args_tree)\n",
    "dump_tree(args_tree)"
   ]
  },
  {
   "cell_type": "code",
   "execution_count": 139,
   "metadata": {
    "execution": {
     "iopub.execute_input": "2023-02-11T12:18:26.991336Z",
     "iopub.status.busy": "2023-02-11T12:18:26.991009Z",
     "iopub.status.idle": "2023-02-11T12:18:26.992541Z",
     "shell.execute_reply": "2023-02-11T12:18:26.992825Z"
    },
    "slideshow": {
     "slide_type": "subslide"
    }
   },
   "outputs": [
    {
     "name": "stdout",
     "output_type": "stream",
     "text": [
      "args_test:1: initializing x #1\n",
      "args_test:1: setting x\n",
      "args_test:1: initializing *args #2\n",
      "args_test:1: setting args\n",
      "args_test:1: initializing **kwargs #3\n",
      "args_test:1: setting kwargs\n",
      "1 2 3\n"
     ]
    }
   ],
   "source": [
    "with DataTrackerTester(args_tree, args_test):\n",
    "    args_test(1, 2, 3)"
   ]
  },
  {
   "cell_type": "markdown",
   "metadata": {
    "slideshow": {
     "slide_type": "subslide"
    }
   },
   "source": [
    "### End of Excursion"
   ]
  },
  {
   "cell_type": "markdown",
   "metadata": {
    "slideshow": {
     "slide_type": "fragment"
    }
   },
   "source": [
    "What do we obtain after we have applied all these transformers on `middle()`? We see that the code now contains quite a load of instrumentation."
   ]
  },
  {
   "cell_type": "code",
   "execution_count": 140,
   "metadata": {
    "execution": {
     "iopub.execute_input": "2023-02-11T12:18:27.000058Z",
     "iopub.status.busy": "2023-02-11T12:18:26.999591Z",
     "iopub.status.idle": "2023-02-11T12:18:27.027789Z",
     "shell.execute_reply": "2023-02-11T12:18:27.028070Z"
    },
    "slideshow": {
     "slide_type": "subslide"
    }
   },
   "outputs": [
    {
     "name": "stdout",
     "output_type": "stream",
     "text": [
      "\u001b[34mdef\u001b[39;49;00m \u001b[32mmiddle\u001b[39;49;00m(x, y, z):\u001b[37m\u001b[39;49;00m\n",
      "    _data.param(\u001b[33m'\u001b[39;49;00m\u001b[33mx\u001b[39;49;00m\u001b[33m'\u001b[39;49;00m, x, pos=\u001b[34m1\u001b[39;49;00m)\u001b[37m\u001b[39;49;00m\n",
      "    _data.param(\u001b[33m'\u001b[39;49;00m\u001b[33my\u001b[39;49;00m\u001b[33m'\u001b[39;49;00m, y, pos=\u001b[34m2\u001b[39;49;00m)\u001b[37m\u001b[39;49;00m\n",
      "    _data.param(\u001b[33m'\u001b[39;49;00m\u001b[33mz\u001b[39;49;00m\u001b[33m'\u001b[39;49;00m, z, pos=\u001b[34m3\u001b[39;49;00m, last=\u001b[34mTrue\u001b[39;49;00m)\u001b[37m\u001b[39;49;00m\n",
      "    \u001b[34mif\u001b[39;49;00m _data.test(_data.get(\u001b[33m'\u001b[39;49;00m\u001b[33my\u001b[39;49;00m\u001b[33m'\u001b[39;49;00m, y) < _data.get(\u001b[33m'\u001b[39;49;00m\u001b[33mz\u001b[39;49;00m\u001b[33m'\u001b[39;49;00m, z)):\u001b[37m\u001b[39;49;00m\n",
      "        \u001b[34mwith\u001b[39;49;00m _data:\u001b[37m\u001b[39;49;00m\n",
      "            \u001b[34mif\u001b[39;49;00m _data.test(_data.get(\u001b[33m'\u001b[39;49;00m\u001b[33mx\u001b[39;49;00m\u001b[33m'\u001b[39;49;00m, x) < _data.get(\u001b[33m'\u001b[39;49;00m\u001b[33my\u001b[39;49;00m\u001b[33m'\u001b[39;49;00m, y)):\u001b[37m\u001b[39;49;00m\n",
      "                \u001b[34mwith\u001b[39;49;00m _data:\u001b[37m\u001b[39;49;00m\n",
      "                    \u001b[34mreturn\u001b[39;49;00m _data.set(\u001b[33m'\u001b[39;49;00m\u001b[33m<middle() return value>\u001b[39;49;00m\u001b[33m'\u001b[39;49;00m, _data.get(\u001b[33m'\u001b[39;49;00m\u001b[33my\u001b[39;49;00m\u001b[33m'\u001b[39;49;00m, y))\u001b[37m\u001b[39;49;00m\n",
      "            \u001b[34melse\u001b[39;49;00m:\u001b[37m\u001b[39;49;00m\n",
      "                \u001b[34mwith\u001b[39;49;00m _data:\u001b[37m\u001b[39;49;00m\n",
      "                    \u001b[34mif\u001b[39;49;00m _data.test(_data.get(\u001b[33m'\u001b[39;49;00m\u001b[33mx\u001b[39;49;00m\u001b[33m'\u001b[39;49;00m, x) < _data.get(\u001b[33m'\u001b[39;49;00m\u001b[33mz\u001b[39;49;00m\u001b[33m'\u001b[39;49;00m, z)):\u001b[37m\u001b[39;49;00m\n",
      "                        \u001b[34mwith\u001b[39;49;00m _data:\u001b[37m\u001b[39;49;00m\n",
      "                            \u001b[34mreturn\u001b[39;49;00m _data.set(\u001b[33m'\u001b[39;49;00m\u001b[33m<middle() return value>\u001b[39;49;00m\u001b[33m'\u001b[39;49;00m, _data.get(\u001b[33m'\u001b[39;49;00m\u001b[33my\u001b[39;49;00m\u001b[33m'\u001b[39;49;00m, y))\u001b[37m\u001b[39;49;00m\n",
      "    \u001b[34melse\u001b[39;49;00m:\u001b[37m\u001b[39;49;00m\n",
      "        \u001b[34mwith\u001b[39;49;00m _data:\u001b[37m\u001b[39;49;00m\n",
      "            \u001b[34mif\u001b[39;49;00m _data.test(_data.get(\u001b[33m'\u001b[39;49;00m\u001b[33mx\u001b[39;49;00m\u001b[33m'\u001b[39;49;00m, x) > _data.get(\u001b[33m'\u001b[39;49;00m\u001b[33my\u001b[39;49;00m\u001b[33m'\u001b[39;49;00m, y)):\u001b[37m\u001b[39;49;00m\n",
      "                \u001b[34mwith\u001b[39;49;00m _data:\u001b[37m\u001b[39;49;00m\n",
      "                    \u001b[34mreturn\u001b[39;49;00m _data.set(\u001b[33m'\u001b[39;49;00m\u001b[33m<middle() return value>\u001b[39;49;00m\u001b[33m'\u001b[39;49;00m, _data.get(\u001b[33m'\u001b[39;49;00m\u001b[33my\u001b[39;49;00m\u001b[33m'\u001b[39;49;00m, y))\u001b[37m\u001b[39;49;00m\n",
      "            \u001b[34melse\u001b[39;49;00m:\u001b[37m\u001b[39;49;00m\n",
      "                \u001b[34mwith\u001b[39;49;00m _data:\u001b[37m\u001b[39;49;00m\n",
      "                    \u001b[34mif\u001b[39;49;00m _data.test(_data.get(\u001b[33m'\u001b[39;49;00m\u001b[33mx\u001b[39;49;00m\u001b[33m'\u001b[39;49;00m, x) > _data.get(\u001b[33m'\u001b[39;49;00m\u001b[33mz\u001b[39;49;00m\u001b[33m'\u001b[39;49;00m, z)):\u001b[37m\u001b[39;49;00m\n",
      "                        \u001b[34mwith\u001b[39;49;00m _data:\u001b[37m\u001b[39;49;00m\n",
      "                            \u001b[34mreturn\u001b[39;49;00m _data.set(\u001b[33m'\u001b[39;49;00m\u001b[33m<middle() return value>\u001b[39;49;00m\u001b[33m'\u001b[39;49;00m, _data.get(\u001b[33m'\u001b[39;49;00m\u001b[33mx\u001b[39;49;00m\u001b[33m'\u001b[39;49;00m, x))\u001b[37m\u001b[39;49;00m\n",
      "    \u001b[34mreturn\u001b[39;49;00m _data.set(\u001b[33m'\u001b[39;49;00m\u001b[33m<middle() return value>\u001b[39;49;00m\u001b[33m'\u001b[39;49;00m, _data.get(\u001b[33m'\u001b[39;49;00m\u001b[33mz\u001b[39;49;00m\u001b[33m'\u001b[39;49;00m, z))\u001b[37m\u001b[39;49;00m"
     ]
    }
   ],
   "source": [
    "dump_tree(middle_tree)"
   ]
  },
  {
   "cell_type": "markdown",
   "metadata": {
    "slideshow": {
     "slide_type": "subslide"
    }
   },
   "source": [
    "And when we execute this code, we see that we can track quite a number of events, while the code semantics stay unchanged."
   ]
  },
  {
   "cell_type": "code",
   "execution_count": 141,
   "metadata": {
    "execution": {
     "iopub.execute_input": "2023-02-11T12:18:27.030707Z",
     "iopub.status.busy": "2023-02-11T12:18:27.030354Z",
     "iopub.status.idle": "2023-02-11T12:18:27.032612Z",
     "shell.execute_reply": "2023-02-11T12:18:27.032929Z"
    },
    "slideshow": {
     "slide_type": "subslide"
    }
   },
   "outputs": [
    {
     "name": "stdout",
     "output_type": "stream",
     "text": [
      "middle:1: initializing x #1\n",
      "middle:1: setting x\n",
      "middle:1: initializing y #2\n",
      "middle:1: setting y\n",
      "middle:1: initializing z #3\n",
      "middle:1: setting z\n",
      "middle:2: getting y\n",
      "middle:2: getting z\n",
      "middle:2: testing condition\n",
      "middle:3: entering block\n",
      "middle:3: getting x\n",
      "middle:3: getting y\n",
      "middle:3: testing condition\n",
      "middle:5: entering block\n",
      "middle:5: getting x\n",
      "middle:5: getting z\n",
      "middle:5: testing condition\n",
      "middle:6: entering block\n",
      "middle:6: getting y\n",
      "middle:6: setting <middle() return value>\n",
      "middle:6: exiting block\n",
      "middle:5: exiting block\n",
      "middle:3: exiting block\n"
     ]
    },
    {
     "data": {
      "text/plain": [
       "1"
      ]
     },
     "execution_count": 141,
     "metadata": {},
     "output_type": "execute_result"
    }
   ],
   "source": [
    "with DataTrackerTester(middle_tree, middle):\n",
    "    m = middle(2, 1, 3)\n",
    "m"
   ]
  },
  {
   "cell_type": "markdown",
   "metadata": {
    "slideshow": {
     "slide_type": "subslide"
    }
   },
   "source": [
    "### Excursion: Transformer Stress Test"
   ]
  },
  {
   "cell_type": "markdown",
   "metadata": {
    "slideshow": {
     "slide_type": "fragment"
    }
   },
   "source": [
    "We stress test our transformers by instrumenting, transforming, and compiling a number of modules."
   ]
  },
  {
   "cell_type": "code",
   "execution_count": 142,
   "metadata": {
    "execution": {
     "iopub.execute_input": "2023-02-11T12:18:27.035351Z",
     "iopub.status.busy": "2023-02-11T12:18:27.034995Z",
     "iopub.status.idle": "2023-02-11T12:18:27.061446Z",
     "shell.execute_reply": "2023-02-11T12:18:27.061820Z"
    },
    "slideshow": {
     "slide_type": "skip"
    }
   },
   "outputs": [],
   "source": [
    "import Assertions  # minor dependency\n",
    "import Debugger  # minor dependency"
   ]
  },
  {
   "cell_type": "code",
   "execution_count": 143,
   "metadata": {
    "execution": {
     "iopub.execute_input": "2023-02-11T12:18:27.071607Z",
     "iopub.status.busy": "2023-02-11T12:18:27.071018Z",
     "iopub.status.idle": "2023-02-11T12:18:28.097935Z",
     "shell.execute_reply": "2023-02-11T12:18:28.098187Z"
    },
    "slideshow": {
     "slide_type": "subslide"
    }
   },
   "outputs": [
    {
     "name": "stdout",
     "output_type": "stream",
     "text": [
      "'Assertions' instrumented successfully.\n",
      "'Debugger' instrumented successfully.\n",
      "'inspect' instrumented successfully.\n",
      "'ast' instrumented successfully.\n"
     ]
    }
   ],
   "source": [
    "for module in [Assertions, Debugger, inspect, ast]:\n",
    "    module_tree = ast.parse(inspect.getsource(module))\n",
    "    assert isinstance(module_tree, ast.Module)\n",
    "\n",
    "    TrackCallTransformer().visit(module_tree)\n",
    "    TrackSetTransformer().visit(module_tree)\n",
    "    TrackGetTransformer().visit(module_tree)\n",
    "    TrackControlTransformer().visit(module_tree)\n",
    "    TrackReturnTransformer().visit(module_tree)\n",
    "    TrackParamsTransformer().visit(module_tree)\n",
    "    # dump_tree(module_tree)\n",
    "    ast.fix_missing_locations(module_tree)  # Must run this before compiling\n",
    "\n",
    "    module_code = compile(module_tree, '<stress_test>', 'exec')\n",
    "    print(f\"{repr(module.__name__)} instrumented successfully.\")"
   ]
  },
  {
   "cell_type": "markdown",
   "metadata": {
    "slideshow": {
     "slide_type": "subslide"
    }
   },
   "source": [
    "### End of Excursion"
   ]
  },
  {
   "cell_type": "markdown",
   "metadata": {
    "slideshow": {
     "slide_type": "fragment"
    }
   },
   "source": [
    "Our next step will now be not only to _log_ these events, but to actually construct _dependencies_ from them."
   ]
  },
  {
   "cell_type": "markdown",
   "metadata": {
    "slideshow": {
     "slide_type": "slide"
    }
   },
   "source": [
    "## Tracking Dependencies"
   ]
  },
  {
   "cell_type": "markdown",
   "metadata": {
    "slideshow": {
     "slide_type": "fragment"
    }
   },
   "source": [
    "To construct dependencies from variable accesses, we subclass `DataTracker` into `DependencyTracker` – a class that actually keeps track of all these dependencies.  Its constructor initializes a number of variables we will discuss below."
   ]
  },
  {
   "cell_type": "code",
   "execution_count": 144,
   "metadata": {
    "execution": {
     "iopub.execute_input": "2023-02-11T12:18:28.101513Z",
     "iopub.status.busy": "2023-02-11T12:18:28.101213Z",
     "iopub.status.idle": "2023-02-11T12:18:28.102388Z",
     "shell.execute_reply": "2023-02-11T12:18:28.102793Z"
    },
    "slideshow": {
     "slide_type": "subslide"
    }
   },
   "outputs": [],
   "source": [
    "class DependencyTracker(DataTracker):\n",
    "    \"\"\"Track dependencies during execution\"\"\"\n",
    "\n",
    "    def __init__(self, *args: Any, **kwargs: Any) -> None:\n",
    "        \"\"\"Constructor. Arguments are passed to DataTracker.__init__()\"\"\"\n",
    "        super().__init__(*args, **kwargs)\n",
    "\n",
    "        self.origins: Dict[str, Location] = {}  # Where current variables were last set\n",
    "        self.data_dependencies: Dependency = {}  # As with Dependencies, above\n",
    "        self.control_dependencies: Dependency = {}\n",
    "\n",
    "        self.last_read: List[str] = []  # List of last read variables\n",
    "        self.last_checked_location = (StackInspector.unknown, 1)\n",
    "        self._ignore_location_change = False\n",
    "\n",
    "        self.data: List[List[str]] = [[]]  # Data stack\n",
    "        self.control: List[List[str]] = [[]]  # Control stack\n",
    "\n",
    "        self.frames: List[Dict[Union[int, str], Any]] = [{}]  # Argument stack\n",
    "        self.args: Dict[Union[int, str], Any] = {}  # Current args"
   ]
  },
  {
   "cell_type": "markdown",
   "metadata": {
    "slideshow": {
     "slide_type": "subslide"
    }
   },
   "source": [
    "### Data Dependencies\n",
    "\n",
    "The first job of our `DependencyTracker` is to construct dependencies between _read_ and _written_ variables."
   ]
  },
  {
   "cell_type": "markdown",
   "metadata": {
    "slideshow": {
     "slide_type": "subslide"
    }
   },
   "source": [
    "#### Reading Variables\n",
    "\n",
    "As in `DataTracker`, the key method of `DependencyTracker` again is `get()`, invoked as `_data.get('x', x)` whenever a variable `x` is read. First and foremost, it appends the name of the read variable to the list `last_read`."
   ]
  },
  {
   "cell_type": "code",
   "execution_count": 145,
   "metadata": {
    "execution": {
     "iopub.execute_input": "2023-02-11T12:18:28.105722Z",
     "iopub.status.busy": "2023-02-11T12:18:28.105223Z",
     "iopub.status.idle": "2023-02-11T12:18:28.106621Z",
     "shell.execute_reply": "2023-02-11T12:18:28.108119Z"
    },
    "slideshow": {
     "slide_type": "fragment"
    }
   },
   "outputs": [],
   "source": [
    "class DependencyTracker(DependencyTracker):\n",
    "    def get(self, name: str, value: Any) -> Any:\n",
    "        \"\"\"Track a read access for variable `name` with value `value`\"\"\"\n",
    "        self.check_location()\n",
    "        self.last_read.append(name)\n",
    "        return super().get(name, value)\n",
    "\n",
    "    def check_location(self) -> None:\n",
    "        pass  # More on that below"
   ]
  },
  {
   "cell_type": "code",
   "execution_count": 146,
   "metadata": {
    "execution": {
     "iopub.execute_input": "2023-02-11T12:18:28.116405Z",
     "iopub.status.busy": "2023-02-11T12:18:28.115720Z",
     "iopub.status.idle": "2023-02-11T12:18:28.117483Z",
     "shell.execute_reply": "2023-02-11T12:18:28.118175Z"
    },
    "slideshow": {
     "slide_type": "subslide"
    }
   },
   "outputs": [],
   "source": [
    "x = 5\n",
    "y = 3"
   ]
  },
  {
   "cell_type": "code",
   "execution_count": 147,
   "metadata": {
    "execution": {
     "iopub.execute_input": "2023-02-11T12:18:28.121717Z",
     "iopub.status.busy": "2023-02-11T12:18:28.121205Z",
     "iopub.status.idle": "2023-02-11T12:18:28.123520Z",
     "shell.execute_reply": "2023-02-11T12:18:28.123724Z"
    },
    "slideshow": {
     "slide_type": "fragment"
    }
   },
   "outputs": [
    {
     "name": "stdout",
     "output_type": "stream",
     "text": [
      "<cell line: 2>:2: getting x\n",
      "<cell line: 2>:2: getting y\n"
     ]
    },
    {
     "data": {
      "text/plain": [
       "8"
      ]
     },
     "execution_count": 147,
     "metadata": {},
     "output_type": "execute_result"
    }
   ],
   "source": [
    "_test_data = DependencyTracker(log=True)\n",
    "_test_data.get('x', x) + _test_data.get('y', y)"
   ]
  },
  {
   "cell_type": "code",
   "execution_count": 148,
   "metadata": {
    "execution": {
     "iopub.execute_input": "2023-02-11T12:18:28.125876Z",
     "iopub.status.busy": "2023-02-11T12:18:28.125497Z",
     "iopub.status.idle": "2023-02-11T12:18:28.127081Z",
     "shell.execute_reply": "2023-02-11T12:18:28.127423Z"
    },
    "slideshow": {
     "slide_type": "fragment"
    }
   },
   "outputs": [
    {
     "data": {
      "text/plain": [
       "['x', 'y']"
      ]
     },
     "execution_count": 148,
     "metadata": {},
     "output_type": "execute_result"
    }
   ],
   "source": [
    "_test_data.last_read"
   ]
  },
  {
   "cell_type": "markdown",
   "metadata": {
    "slideshow": {
     "slide_type": "subslide"
    }
   },
   "source": [
    "#### Checking Locations"
   ]
  },
  {
   "cell_type": "markdown",
   "metadata": {
    "slideshow": {
     "slide_type": "fragment"
    }
   },
   "source": [
    "However, before appending the read variable to `last_read`, `_data.get()` does one more thing. By invoking `check_location()`, it clears the `last_read` list if we have reached a new line in the execution. This avoids situations such as\n",
    "\n",
    "```python\n",
    "x\n",
    "y\n",
    "z = a + b\n",
    "```\n",
    "where `x` and `y` are, well, read, but do not affect the last line. Therefore, with every new line, the list of last read lines is cleared."
   ]
  },
  {
   "cell_type": "code",
   "execution_count": 149,
   "metadata": {
    "execution": {
     "iopub.execute_input": "2023-02-11T12:18:28.130537Z",
     "iopub.status.busy": "2023-02-11T12:18:28.130226Z",
     "iopub.status.idle": "2023-02-11T12:18:28.131629Z",
     "shell.execute_reply": "2023-02-11T12:18:28.131864Z"
    },
    "slideshow": {
     "slide_type": "subslide"
    }
   },
   "outputs": [],
   "source": [
    "class DependencyTracker(DependencyTracker):\n",
    "    def clear_read(self) -> None:\n",
    "        \"\"\"Clear set of read variables\"\"\"\n",
    "        if self.log:\n",
    "            direct_caller = inspect.currentframe().f_back.f_code.co_name  # type: ignore\n",
    "            caller_func, lineno = self.caller_location()\n",
    "            print(f\"{caller_func.__name__}:{lineno}: \"\n",
    "                  f\"clearing read variables {self.last_read} \"\n",
    "                  f\"(from {direct_caller})\")\n",
    "\n",
    "        self.last_read = []\n",
    "\n",
    "    def check_location(self) -> None:\n",
    "        \"\"\"If we are in a new location, clear set of read variables\"\"\"\n",
    "        location = self.caller_location()\n",
    "        func, lineno = location\n",
    "        last_func, last_lineno = self.last_checked_location\n",
    "\n",
    "        if self.last_checked_location != location:\n",
    "            if self._ignore_location_change:\n",
    "                self._ignore_location_change = False\n",
    "            elif func.__name__.startswith('<'):\n",
    "                # Entering list comprehension, eval(), exec(), ...\n",
    "                pass\n",
    "            elif last_func.__name__.startswith('<'):\n",
    "                # Exiting list comprehension, eval(), exec(), ...\n",
    "                pass\n",
    "            else:\n",
    "                # Standard case\n",
    "                self.clear_read()\n",
    "\n",
    "        self.last_checked_location = location"
   ]
  },
  {
   "cell_type": "markdown",
   "metadata": {
    "slideshow": {
     "slide_type": "subslide"
    }
   },
   "source": [
    "Two methods can suppress this reset of the `last_read` list: \n",
    "\n",
    "* `ignore_next_location_change()` suppresses the reset for the next line. This is useful when returning from a function, when the return value is still in the list of \"read\" variables.\n",
    "* `ignore_location_change()` suppresses the reset for the current line. This is useful if we already have returned from a function call."
   ]
  },
  {
   "cell_type": "code",
   "execution_count": 150,
   "metadata": {
    "execution": {
     "iopub.execute_input": "2023-02-11T12:18:28.133845Z",
     "iopub.status.busy": "2023-02-11T12:18:28.133546Z",
     "iopub.status.idle": "2023-02-11T12:18:28.134783Z",
     "shell.execute_reply": "2023-02-11T12:18:28.134979Z"
    },
    "slideshow": {
     "slide_type": "fragment"
    }
   },
   "outputs": [],
   "source": [
    "class DependencyTracker(DependencyTracker):\n",
    "    def ignore_next_location_change(self) -> None:\n",
    "        self._ignore_location_change = True\n",
    "\n",
    "    def ignore_location_change(self) -> None:\n",
    "        self.last_checked_location = self.caller_location()"
   ]
  },
  {
   "cell_type": "markdown",
   "metadata": {
    "slideshow": {
     "slide_type": "subslide"
    }
   },
   "source": [
    "Watch how `DependencyTracker` resets `last_read` when a new line is executed:"
   ]
  },
  {
   "cell_type": "code",
   "execution_count": 151,
   "metadata": {
    "execution": {
     "iopub.execute_input": "2023-02-11T12:18:28.136738Z",
     "iopub.status.busy": "2023-02-11T12:18:28.136417Z",
     "iopub.status.idle": "2023-02-11T12:18:28.137930Z",
     "shell.execute_reply": "2023-02-11T12:18:28.137709Z"
    },
    "slideshow": {
     "slide_type": "fragment"
    }
   },
   "outputs": [],
   "source": [
    "_test_data = DependencyTracker()"
   ]
  },
  {
   "cell_type": "code",
   "execution_count": 152,
   "metadata": {
    "execution": {
     "iopub.execute_input": "2023-02-11T12:18:28.139875Z",
     "iopub.status.busy": "2023-02-11T12:18:28.139521Z",
     "iopub.status.idle": "2023-02-11T12:18:28.141184Z",
     "shell.execute_reply": "2023-02-11T12:18:28.141349Z"
    },
    "slideshow": {
     "slide_type": "fragment"
    }
   },
   "outputs": [
    {
     "data": {
      "text/plain": [
       "8"
      ]
     },
     "execution_count": 152,
     "metadata": {},
     "output_type": "execute_result"
    }
   ],
   "source": [
    "_test_data.get('x', x) + _test_data.get('y', y)"
   ]
  },
  {
   "cell_type": "code",
   "execution_count": 153,
   "metadata": {
    "execution": {
     "iopub.execute_input": "2023-02-11T12:18:28.143236Z",
     "iopub.status.busy": "2023-02-11T12:18:28.142881Z",
     "iopub.status.idle": "2023-02-11T12:18:28.144549Z",
     "shell.execute_reply": "2023-02-11T12:18:28.144745Z"
    },
    "slideshow": {
     "slide_type": "fragment"
    }
   },
   "outputs": [
    {
     "data": {
      "text/plain": [
       "['x', 'y']"
      ]
     },
     "execution_count": 153,
     "metadata": {},
     "output_type": "execute_result"
    }
   ],
   "source": [
    "_test_data.last_read"
   ]
  },
  {
   "cell_type": "code",
   "execution_count": 154,
   "metadata": {
    "execution": {
     "iopub.execute_input": "2023-02-11T12:18:28.146728Z",
     "iopub.status.busy": "2023-02-11T12:18:28.146380Z",
     "iopub.status.idle": "2023-02-11T12:18:28.148022Z",
     "shell.execute_reply": "2023-02-11T12:18:28.148206Z"
    },
    "slideshow": {
     "slide_type": "fragment"
    }
   },
   "outputs": [
    {
     "data": {
      "text/plain": [
       "41"
      ]
     },
     "execution_count": 154,
     "metadata": {},
     "output_type": "execute_result"
    }
   ],
   "source": [
    "a = 42\n",
    "b = -1\n",
    "_test_data.get('a', a) + _test_data.get('b', b)"
   ]
  },
  {
   "cell_type": "code",
   "execution_count": 155,
   "metadata": {
    "execution": {
     "iopub.execute_input": "2023-02-11T12:18:28.150128Z",
     "iopub.status.busy": "2023-02-11T12:18:28.149753Z",
     "iopub.status.idle": "2023-02-11T12:18:28.151452Z",
     "shell.execute_reply": "2023-02-11T12:18:28.151637Z"
    },
    "slideshow": {
     "slide_type": "fragment"
    }
   },
   "outputs": [
    {
     "data": {
      "text/plain": [
       "['x', 'y', 'a', 'b']"
      ]
     },
     "execution_count": 155,
     "metadata": {},
     "output_type": "execute_result"
    }
   ],
   "source": [
    "_test_data.last_read"
   ]
  },
  {
   "attachments": {},
   "cell_type": "markdown",
   "metadata": {
    "slideshow": {
     "slide_type": "subslide"
    }
   },
   "source": [
    "#### Setting Variables\n",
    "\n",
    "The method `set()` creates dependencies. It is invoked as `_data.set('x', value)` whenever a variable `x` is set. \n",
    "\n",
    "First and foremost, it takes the list of variables read `last_read`, and for each of the variables $v$, it takes their origin $o$ (the place where they were last set) and appends the pair ($v$, $o$) to the list of data dependencies. It then does a similar thing with control dependencies (more on these below), and finally marks (in `self.origins`) the current location of $v$."
   ]
  },
  {
   "cell_type": "code",
   "execution_count": 156,
   "metadata": {
    "execution": {
     "iopub.execute_input": "2023-02-11T12:18:28.153467Z",
     "iopub.status.busy": "2023-02-11T12:18:28.153169Z",
     "iopub.status.idle": "2023-02-11T12:18:28.154509Z",
     "shell.execute_reply": "2023-02-11T12:18:28.154692Z"
    },
    "slideshow": {
     "slide_type": "skip"
    }
   },
   "outputs": [],
   "source": [
    "import itertools"
   ]
  },
  {
   "cell_type": "code",
   "execution_count": 157,
   "metadata": {
    "execution": {
     "iopub.execute_input": "2023-02-11T12:18:28.158812Z",
     "iopub.status.busy": "2023-02-11T12:18:28.158508Z",
     "iopub.status.idle": "2023-02-11T12:18:28.159681Z",
     "shell.execute_reply": "2023-02-11T12:18:28.159913Z"
    },
    "slideshow": {
     "slide_type": "subslide"
    }
   },
   "outputs": [],
   "source": [
    "class DependencyTracker(DependencyTracker):\n",
    "    TEST = '<test>'  # Name of pseudo-variables for testing conditions\n",
    "\n",
    "    def set(self, name: str, value: Any, loads: Optional[Set[str]] = None) -> Any:\n",
    "        \"\"\"Add a dependency for `name` = `value`\"\"\"\n",
    "\n",
    "        def add_dependencies(dependencies: Set[Node], \n",
    "                             vars_read: List[str], tp: str) -> None:\n",
    "            \"\"\"Add origins of `vars_read` to `dependencies`.\"\"\"\n",
    "            for var_read in vars_read:\n",
    "                if var_read in self.origins:\n",
    "                    if var_read == self.TEST and tp == \"data\":\n",
    "                        # Can't have data dependencies on conditions\n",
    "                        continue\n",
    "\n",
    "                    origin = self.origins[var_read]\n",
    "                    dependencies.add((var_read, origin))\n",
    "\n",
    "                    if self.log:\n",
    "                        origin_func, origin_lineno = origin\n",
    "                        caller_func, lineno = self.caller_location()\n",
    "                        print(f\"{caller_func.__name__}:{lineno}: \"\n",
    "                              f\"new {tp} dependency: \"\n",
    "                              f\"{name} <= {var_read} \"\n",
    "                              f\"({origin_func.__name__}:{origin_lineno})\")\n",
    "\n",
    "        self.check_location()\n",
    "        ret = super().set(name, value)\n",
    "        location = self.caller_location()\n",
    "\n",
    "        add_dependencies(self.data_dependencies.setdefault\n",
    "                         ((name, location), set()),\n",
    "                         self.last_read, tp=\"data\")\n",
    "        add_dependencies(self.control_dependencies.setdefault\n",
    "                         ((name, location), set()),\n",
    "                         cast(List[str], itertools.chain.from_iterable(self.control)),\n",
    "                         tp=\"control\")\n",
    "\n",
    "        self.origins[name] = location\n",
    "\n",
    "        # Reset read info for next line\n",
    "        self.last_read = [name]\n",
    "\n",
    "        # Next line is a new location\n",
    "        self._ignore_location_change = False\n",
    "\n",
    "        return ret\n",
    "\n",
    "    def dependencies(self) -> Dependencies:\n",
    "        \"\"\"Return dependencies\"\"\"\n",
    "        return Dependencies(self.data_dependencies,\n",
    "                            self.control_dependencies)"
   ]
  },
  {
   "cell_type": "markdown",
   "metadata": {
    "slideshow": {
     "slide_type": "subslide"
    }
   },
   "source": [
    "Let us illustrate `set()` by example. Here's a set of variables read and written:"
   ]
  },
  {
   "cell_type": "code",
   "execution_count": 158,
   "metadata": {
    "execution": {
     "iopub.execute_input": "2023-02-11T12:18:28.162103Z",
     "iopub.status.busy": "2023-02-11T12:18:28.161815Z",
     "iopub.status.idle": "2023-02-11T12:18:28.163058Z",
     "shell.execute_reply": "2023-02-11T12:18:28.163326Z"
    },
    "slideshow": {
     "slide_type": "fragment"
    }
   },
   "outputs": [],
   "source": [
    "_test_data = DependencyTracker()\n",
    "x = _test_data.set('x', 1)\n",
    "y = _test_data.set('y', _test_data.get('x', x))\n",
    "z = _test_data.set('z', _test_data.get('x', x) + _test_data.get('y', y))"
   ]
  },
  {
   "cell_type": "markdown",
   "metadata": {
    "slideshow": {
     "slide_type": "fragment"
    }
   },
   "source": [
    "The attribute `origins` saves for each variable where it was last written:"
   ]
  },
  {
   "cell_type": "code",
   "execution_count": 159,
   "metadata": {
    "execution": {
     "iopub.execute_input": "2023-02-11T12:18:28.165281Z",
     "iopub.status.busy": "2023-02-11T12:18:28.164963Z",
     "iopub.status.idle": "2023-02-11T12:18:28.166391Z",
     "shell.execute_reply": "2023-02-11T12:18:28.166704Z"
    },
    "slideshow": {
     "slide_type": "fragment"
    }
   },
   "outputs": [
    {
     "data": {
      "text/plain": [
       "{'x': (<function __main__.<cell line: 2>()>, 2),\n",
       " 'y': (<function __main__.<cell line: 3>()>, 3),\n",
       " 'z': (<function __main__.<cell line: 4>()>, 4)}"
      ]
     },
     "execution_count": 159,
     "metadata": {},
     "output_type": "execute_result"
    }
   ],
   "source": [
    "_test_data.origins"
   ]
  },
  {
   "cell_type": "markdown",
   "metadata": {
    "slideshow": {
     "slide_type": "fragment"
    }
   },
   "source": [
    "The attribute `data_dependencies` tracks for each variable the variables it was read from:"
   ]
  },
  {
   "cell_type": "code",
   "execution_count": 160,
   "metadata": {
    "execution": {
     "iopub.execute_input": "2023-02-11T12:18:28.168824Z",
     "iopub.status.busy": "2023-02-11T12:18:28.168522Z",
     "iopub.status.idle": "2023-02-11T12:18:28.170018Z",
     "shell.execute_reply": "2023-02-11T12:18:28.170243Z"
    },
    "slideshow": {
     "slide_type": "subslide"
    }
   },
   "outputs": [
    {
     "data": {
      "text/plain": [
       "{('x', (<function __main__.<cell line: 2>()>, 2)): set(),\n",
       " ('y',\n",
       "  (<function __main__.<cell line: 3>()>, 3)): {('x',\n",
       "   (<function __main__.<cell line: 2>()>, 2))},\n",
       " ('z',\n",
       "  (<function __main__.<cell line: 4>()>, 4)): {('x',\n",
       "   (<function __main__.<cell line: 2>()>, 2)), ('y',\n",
       "   (<function __main__.<cell line: 3>()>, 3))}}"
      ]
     },
     "execution_count": 160,
     "metadata": {},
     "output_type": "execute_result"
    }
   ],
   "source": [
    "_test_data.data_dependencies"
   ]
  },
  {
   "cell_type": "markdown",
   "metadata": {
    "slideshow": {
     "slide_type": "fragment"
    }
   },
   "source": [
    "Hence, the above code already gives us a small dependency graph:"
   ]
  },
  {
   "cell_type": "code",
   "execution_count": 161,
   "metadata": {
    "execution": {
     "iopub.execute_input": "2023-02-11T12:18:28.172103Z",
     "iopub.status.busy": "2023-02-11T12:18:28.171778Z",
     "iopub.status.idle": "2023-02-11T12:18:28.473787Z",
     "shell.execute_reply": "2023-02-11T12:18:28.474231Z"
    },
    "slideshow": {
     "slide_type": "fragment"
    }
   },
   "outputs": [
    {
     "data": {
      "image/svg+xml": [
       "<?xml version=\"1.0\" encoding=\"UTF-8\" standalone=\"no\"?>\n",
       "<!DOCTYPE svg PUBLIC \"-//W3C//DTD SVG 1.1//EN\"\n",
       " \"http://www.w3.org/Graphics/SVG/1.1/DTD/svg11.dtd\">\n",
       "<!-- Generated by graphviz version 7.0.2 (20221119.0110)\n",
       " -->\n",
       "<!-- Title: dependencies Pages: 1 -->\n",
       "<svg width=\"134pt\" height=\"200pt\"\n",
       " viewBox=\"0.00 0.00 134.00 200.00\" xmlns=\"http://www.w3.org/2000/svg\" xmlns:xlink=\"http://www.w3.org/1999/xlink\">\n",
       "<g id=\"graph0\" class=\"graph\" transform=\"scale(1 1) rotate(0) translate(4 196)\">\n",
       "<title>dependencies</title>\n",
       "<polygon fill=\"white\" stroke=\"none\" points=\"-4,4 -4,-196 130,-196 130,4 -4,4\"/>\n",
       "<!-- y_functioncellline_3at0x10688f130_3 -->\n",
       "<g id=\"node1\" class=\"node\">\n",
       "<title>y_functioncellline_3at0x10688f130_3</title>\n",
       "<g id=\"a_node1\"><a xlink:title=\"&lt;cell line: 3&gt;:3\">\n",
       "<polygon fill=\"peachpuff\" stroke=\"black\" points=\"90,-116 0,-116 0,-76 90,-76 90,-116\"/>\n",
       "<text text-anchor=\"start\" x=\"40.5\" y=\"-101.8\" font-family=\"Courier,monospace\" font-weight=\"bold\" font-size=\"14.00\">y</text>\n",
       "<text text-anchor=\"start\" x=\"8\" y=\"-82.8\" font-family=\"Courier,monospace\" font-size=\"9.00\">&lt;cell line: 3&gt;</text>\n",
       "</a>\n",
       "</g>\n",
       "</g>\n",
       "<!-- z_functioncellline_4at0x10688d360_4 -->\n",
       "<g id=\"node3\" class=\"node\">\n",
       "<title>z_functioncellline_4at0x10688d360_4</title>\n",
       "<g id=\"a_node3\"><a xlink:title=\"&lt;cell line: 4&gt;:4\">\n",
       "<polygon fill=\"peachpuff\" stroke=\"black\" points=\"126,-40 36,-40 36,0 126,0 126,-40\"/>\n",
       "<text text-anchor=\"start\" x=\"76.5\" y=\"-25.8\" font-family=\"Courier,monospace\" font-weight=\"bold\" font-size=\"14.00\">z</text>\n",
       "<text text-anchor=\"start\" x=\"44\" y=\"-6.8\" font-family=\"Courier,monospace\" font-size=\"9.00\">&lt;cell line: 4&gt;</text>\n",
       "</a>\n",
       "</g>\n",
       "</g>\n",
       "<!-- y_functioncellline_3at0x10688f130_3&#45;&gt;z_functioncellline_4at0x10688d360_4 -->\n",
       "<g id=\"edge2\" class=\"edge\">\n",
       "<title>y_functioncellline_3at0x10688f130_3&#45;&gt;z_functioncellline_4at0x10688d360_4</title>\n",
       "<path fill=\"none\" stroke=\"black\" d=\"M54.46,-75.56C58.18,-67.91 62.53,-58.96 66.63,-50.55\"/>\n",
       "<polygon fill=\"black\" stroke=\"black\" points=\"69.72,-52.2 70.94,-41.67 63.42,-49.14 69.72,-52.2\"/>\n",
       "</g>\n",
       "<!-- x_functioncellline_2at0x105f691b0_2 -->\n",
       "<g id=\"node2\" class=\"node\">\n",
       "<title>x_functioncellline_2at0x105f691b0_2</title>\n",
       "<g id=\"a_node2\"><a xlink:title=\"&lt;cell line: 2&gt;:2\">\n",
       "<polygon fill=\"peachpuff\" stroke=\"black\" points=\"126,-192 36,-192 36,-152 126,-152 126,-192\"/>\n",
       "<text text-anchor=\"start\" x=\"76.5\" y=\"-177.8\" font-family=\"Courier,monospace\" font-weight=\"bold\" font-size=\"14.00\">x</text>\n",
       "<text text-anchor=\"start\" x=\"44\" y=\"-158.8\" font-family=\"Courier,monospace\" font-size=\"9.00\">&lt;cell line: 2&gt;</text>\n",
       "</a>\n",
       "</g>\n",
       "</g>\n",
       "<!-- x_functioncellline_2at0x105f691b0_2&#45;&gt;y_functioncellline_3at0x10688f130_3 -->\n",
       "<g id=\"edge1\" class=\"edge\">\n",
       "<title>x_functioncellline_2at0x105f691b0_2&#45;&gt;y_functioncellline_3at0x10688f130_3</title>\n",
       "<path fill=\"none\" stroke=\"black\" d=\"M71.54,-151.56C67.82,-143.91 63.47,-134.96 59.37,-126.55\"/>\n",
       "<polygon fill=\"black\" stroke=\"black\" points=\"62.58,-125.14 55.06,-117.67 56.28,-128.2 62.58,-125.14\"/>\n",
       "</g>\n",
       "<!-- x_functioncellline_2at0x105f691b0_2&#45;&gt;z_functioncellline_4at0x10688d360_4 -->\n",
       "<g id=\"edge3\" class=\"edge\">\n",
       "<title>x_functioncellline_2at0x105f691b0_2&#45;&gt;z_functioncellline_4at0x10688d360_4</title>\n",
       "<path fill=\"none\" stroke=\"black\" d=\"M89.05,-151.52C92.89,-141.16 97.07,-128.1 99,-116 101.8,-98.44 101.8,-93.56 99,-76 97.69,-67.77 95.34,-59.1 92.76,-51.14\"/>\n",
       "<polygon fill=\"black\" stroke=\"black\" points=\"96.14,-50.2 89.54,-41.91 89.53,-52.51 96.14,-50.2\"/>\n",
       "</g>\n",
       "</g>\n",
       "</svg>\n"
      ],
      "text/plain": [
       "<graphviz.graphs.Digraph at 0x107ced180>"
      ]
     },
     "execution_count": 161,
     "metadata": {},
     "output_type": "execute_result"
    }
   ],
   "source": [
    "# ignore\n",
    "_test_data.dependencies().graph()"
   ]
  },
  {
   "cell_type": "markdown",
   "metadata": {
    "slideshow": {
     "slide_type": "subslide"
    }
   },
   "source": [
    "In the remainder of this section, we define methods to\n",
    "\n",
    "* track control dependencies (`test()`, `__enter__()`, `__exit__()`)\n",
    "* track function calls and returns (`call()`, `ret()`)\n",
    "* track function arguments (`arg()`, `param()`)\n",
    "* check the validity of our dependencies (`validate()`).\n",
    "\n",
    "Like our `get()` and `set()` methods above, these work by refining the appropriate methods defined in the `DataTracker` class, building on our `NodeTransformer` transformations."
   ]
  },
  {
   "cell_type": "markdown",
   "metadata": {
    "slideshow": {
     "slide_type": "subslide"
    }
   },
   "source": [
    "### Excursion: Control Dependencies"
   ]
  },
  {
   "cell_type": "markdown",
   "metadata": {
    "slideshow": {
     "slide_type": "fragment"
    }
   },
   "source": [
    "Let us detail control dependencies. As discussed with `DataTracker()`, we invoke `test()` methods for all control conditions, and place the controlled blocks into `with` clauses."
   ]
  },
  {
   "cell_type": "markdown",
   "metadata": {
    "slideshow": {
     "slide_type": "fragment"
    }
   },
   "source": [
    "The `test()` method simply sets a `<test>` variable; this also places it in `last_read`."
   ]
  },
  {
   "cell_type": "code",
   "execution_count": 162,
   "metadata": {
    "execution": {
     "iopub.execute_input": "2023-02-11T12:18:28.477729Z",
     "iopub.status.busy": "2023-02-11T12:18:28.477331Z",
     "iopub.status.idle": "2023-02-11T12:18:28.478845Z",
     "shell.execute_reply": "2023-02-11T12:18:28.479134Z"
    },
    "slideshow": {
     "slide_type": "fragment"
    }
   },
   "outputs": [],
   "source": [
    "class DependencyTracker(DependencyTracker):\n",
    "    def test(self, value: Any) -> Any:\n",
    "        \"\"\"Track a test for condition `value`\"\"\"\n",
    "        self.set(self.TEST, value)\n",
    "        return super().test(value)"
   ]
  },
  {
   "attachments": {},
   "cell_type": "markdown",
   "metadata": {
    "slideshow": {
     "slide_type": "fragment"
    }
   },
   "source": [
    "When entering a `with` block, the set of `last_read` variables holds the `<test>` variable read. We save it in the `control` stack, with the effect of any further variables written now being marked as controlled by `<test>`."
   ]
  },
  {
   "cell_type": "code",
   "execution_count": 163,
   "metadata": {
    "execution": {
     "iopub.execute_input": "2023-02-11T12:18:28.481551Z",
     "iopub.status.busy": "2023-02-11T12:18:28.481242Z",
     "iopub.status.idle": "2023-02-11T12:18:28.482429Z",
     "shell.execute_reply": "2023-02-11T12:18:28.482750Z"
    },
    "slideshow": {
     "slide_type": "subslide"
    }
   },
   "outputs": [],
   "source": [
    "class DependencyTracker(DependencyTracker):\n",
    "    def __enter__(self) -> Any:\n",
    "        \"\"\"Track entering an if/while/for block\"\"\"\n",
    "        self.control.append(self.last_read)\n",
    "        self.clear_read()\n",
    "        return super().__enter__()"
   ]
  },
  {
   "cell_type": "markdown",
   "metadata": {
    "slideshow": {
     "slide_type": "fragment"
    }
   },
   "source": [
    "When we exit the `with` block, we restore earlier `last_read` values, preparing for `else` blocks."
   ]
  },
  {
   "cell_type": "code",
   "execution_count": 164,
   "metadata": {
    "execution": {
     "iopub.execute_input": "2023-02-11T12:18:28.485516Z",
     "iopub.status.busy": "2023-02-11T12:18:28.485074Z",
     "iopub.status.idle": "2023-02-11T12:18:28.486230Z",
     "shell.execute_reply": "2023-02-11T12:18:28.486481Z"
    },
    "slideshow": {
     "slide_type": "subslide"
    }
   },
   "outputs": [],
   "source": [
    "class DependencyTracker(DependencyTracker):\n",
    "    def __exit__(self, exc_type: Type, exc_value: BaseException,\n",
    "                 traceback: TracebackType) -> Optional[bool]:\n",
    "        \"\"\"Track exiting an if/while/for block\"\"\"\n",
    "        self.clear_read()\n",
    "        self.last_read = self.control.pop()\n",
    "        self.ignore_next_location_change()\n",
    "        return super().__exit__(exc_type, exc_value, traceback)"
   ]
  },
  {
   "cell_type": "markdown",
   "metadata": {
    "slideshow": {
     "slide_type": "fragment"
    }
   },
   "source": [
    "Here's an example of all these parts in action:"
   ]
  },
  {
   "cell_type": "code",
   "execution_count": 165,
   "metadata": {
    "execution": {
     "iopub.execute_input": "2023-02-11T12:18:28.488934Z",
     "iopub.status.busy": "2023-02-11T12:18:28.488628Z",
     "iopub.status.idle": "2023-02-11T12:18:28.489755Z",
     "shell.execute_reply": "2023-02-11T12:18:28.490164Z"
    },
    "slideshow": {
     "slide_type": "fragment"
    }
   },
   "outputs": [],
   "source": [
    "_test_data = DependencyTracker()\n",
    "x = _test_data.set('x', 1)\n",
    "y = _test_data.set('y', _test_data.get('x', x))"
   ]
  },
  {
   "cell_type": "code",
   "execution_count": 166,
   "metadata": {
    "execution": {
     "iopub.execute_input": "2023-02-11T12:18:28.492399Z",
     "iopub.status.busy": "2023-02-11T12:18:28.492125Z",
     "iopub.status.idle": "2023-02-11T12:18:28.493284Z",
     "shell.execute_reply": "2023-02-11T12:18:28.493518Z"
    },
    "slideshow": {
     "slide_type": "subslide"
    }
   },
   "outputs": [],
   "source": [
    "if _test_data.test(_test_data.get('x', x) >= _test_data.get('y', y)):\n",
    "    with _test_data:\n",
    "        z = _test_data.set('z',\n",
    "                           _test_data.get('x', x) + _test_data.get('y', y))"
   ]
  },
  {
   "cell_type": "code",
   "execution_count": 167,
   "metadata": {
    "execution": {
     "iopub.execute_input": "2023-02-11T12:18:28.495910Z",
     "iopub.status.busy": "2023-02-11T12:18:28.495594Z",
     "iopub.status.idle": "2023-02-11T12:18:28.497036Z",
     "shell.execute_reply": "2023-02-11T12:18:28.497278Z"
    },
    "slideshow": {
     "slide_type": "fragment"
    }
   },
   "outputs": [
    {
     "data": {
      "text/plain": [
       "{('x', (<function __main__.<cell line: 2>()>, 2)): set(),\n",
       " ('y', (<function __main__.<cell line: 3>()>, 3)): set(),\n",
       " ('<test>', (<function __main__.<cell line: 1>()>, 1)): set(),\n",
       " ('z',\n",
       "  (<function __main__.<cell line: 1>()>, 3)): {('<test>',\n",
       "   (<function __main__.<cell line: 1>()>, 1))}}"
      ]
     },
     "execution_count": 167,
     "metadata": {},
     "output_type": "execute_result"
    }
   ],
   "source": [
    "_test_data.control_dependencies"
   ]
  },
  {
   "cell_type": "markdown",
   "metadata": {
    "slideshow": {
     "slide_type": "fragment"
    }
   },
   "source": [
    "The control dependency for `z` is reflected in the dependency graph:"
   ]
  },
  {
   "cell_type": "code",
   "execution_count": 168,
   "metadata": {
    "execution": {
     "iopub.execute_input": "2023-02-11T12:18:28.499295Z",
     "iopub.status.busy": "2023-02-11T12:18:28.498930Z",
     "iopub.status.idle": "2023-02-11T12:18:28.855358Z",
     "shell.execute_reply": "2023-02-11T12:18:28.855688Z"
    },
    "slideshow": {
     "slide_type": "subslide"
    }
   },
   "outputs": [
    {
     "data": {
      "image/svg+xml": [
       "<?xml version=\"1.0\" encoding=\"UTF-8\" standalone=\"no\"?>\n",
       "<!DOCTYPE svg PUBLIC \"-//W3C//DTD SVG 1.1//EN\"\n",
       " \"http://www.w3.org/Graphics/SVG/1.1/DTD/svg11.dtd\">\n",
       "<!-- Generated by graphviz version 7.0.2 (20221119.0110)\n",
       " -->\n",
       "<!-- Title: dependencies Pages: 1 -->\n",
       "<svg width=\"213pt\" height=\"276pt\"\n",
       " viewBox=\"0.00 0.00 213.00 276.00\" xmlns=\"http://www.w3.org/2000/svg\" xmlns:xlink=\"http://www.w3.org/1999/xlink\">\n",
       "<g id=\"graph0\" class=\"graph\" transform=\"scale(1 1) rotate(0) translate(4 272)\">\n",
       "<title>dependencies</title>\n",
       "<polygon fill=\"white\" stroke=\"none\" points=\"-4,4 -4,-272 209,-272 209,4 -4,4\"/>\n",
       "<!-- y_functioncellline_3at0x10688f130_3 -->\n",
       "<g id=\"node1\" class=\"node\">\n",
       "<title>y_functioncellline_3at0x10688f130_3</title>\n",
       "<g id=\"a_node1\"><a xlink:title=\"&lt;cell line: 3&gt;:3\">\n",
       "<polygon fill=\"peachpuff\" stroke=\"black\" points=\"177,-192 87,-192 87,-152 177,-152 177,-192\"/>\n",
       "<text text-anchor=\"start\" x=\"127.5\" y=\"-177.8\" font-family=\"Courier,monospace\" font-weight=\"bold\" font-size=\"14.00\">y</text>\n",
       "<text text-anchor=\"start\" x=\"95\" y=\"-158.8\" font-family=\"Courier,monospace\" font-size=\"9.00\">&lt;cell line: 3&gt;</text>\n",
       "</a>\n",
       "</g>\n",
       "</g>\n",
       "<!-- test_functioncellline_1at0x105f68040_1 -->\n",
       "<g id=\"node3\" class=\"node\">\n",
       "<title>test_functioncellline_1at0x105f68040_1</title>\n",
       "<g id=\"a_node3\"><a xlink:title=\"&lt;cell line: 1&gt;:1\">\n",
       "<polygon fill=\"peachpuff\" stroke=\"black\" points=\"132,-116 0,-116 0,-76 132,-76 132,-116\"/>\n",
       "<text text-anchor=\"start\" x=\"41\" y=\"-101.8\" font-family=\"Courier,monospace\" font-weight=\"bold\" font-style=\"italic\" font-size=\"14.00\">&lt;test&gt;</text>\n",
       "<text text-anchor=\"start\" x=\"8\" y=\"-82.8\" font-family=\"Courier,monospace\" font-size=\"9.00\">_test_data.get(&#39;x&#39;, x)</text>\n",
       "</a>\n",
       "</g>\n",
       "</g>\n",
       "<!-- y_functioncellline_3at0x10688f130_3&#45;&gt;test_functioncellline_1at0x105f68040_1 -->\n",
       "<g id=\"edge2\" class=\"edge\">\n",
       "<title>y_functioncellline_3at0x10688f130_3&#45;&gt;test_functioncellline_1at0x105f68040_1</title>\n",
       "<path fill=\"none\" stroke=\"black\" d=\"M114.66,-151.56C107.38,-143.4 98.79,-133.76 90.86,-124.87\"/>\n",
       "<polygon fill=\"black\" stroke=\"black\" points=\"93.5,-122.58 84.23,-117.44 88.28,-127.23 93.5,-122.58\"/>\n",
       "</g>\n",
       "<!-- z_functioncellline_1at0x10688d240_3 -->\n",
       "<g id=\"node4\" class=\"node\">\n",
       "<title>z_functioncellline_1at0x10688d240_3</title>\n",
       "<g id=\"a_node4\"><a xlink:title=\"&lt;cell line: 1&gt;:3\">\n",
       "<polygon fill=\"peachpuff\" stroke=\"black\" points=\"205,-40 115,-40 115,0 205,0 205,-40\"/>\n",
       "<text text-anchor=\"start\" x=\"155.5\" y=\"-25.8\" font-family=\"Courier,monospace\" font-weight=\"bold\" font-size=\"14.00\">z</text>\n",
       "<text text-anchor=\"start\" x=\"123\" y=\"-6.8\" font-family=\"Courier,monospace\" font-size=\"9.00\">&lt;cell line: 1&gt;</text>\n",
       "</a>\n",
       "</g>\n",
       "</g>\n",
       "<!-- y_functioncellline_3at0x10688f130_3&#45;&gt;z_functioncellline_1at0x10688d240_3 -->\n",
       "<g id=\"edge4\" class=\"edge\">\n",
       "<title>y_functioncellline_3at0x10688f130_3&#45;&gt;z_functioncellline_1at0x10688d240_3</title>\n",
       "<path fill=\"none\" stroke=\"black\" d=\"M135.6,-151.7C140.35,-126.27 148.75,-81.28 154.35,-51.29\"/>\n",
       "<polygon fill=\"black\" stroke=\"black\" points=\"157.74,-52.19 156.13,-41.72 150.86,-50.9 157.74,-52.19\"/>\n",
       "</g>\n",
       "<!-- x_functioncellline_2at0x105f691b0_2 -->\n",
       "<g id=\"node2\" class=\"node\">\n",
       "<title>x_functioncellline_2at0x105f691b0_2</title>\n",
       "<g id=\"a_node2\"><a xlink:title=\"&lt;cell line: 2&gt;:2\">\n",
       "<polygon fill=\"peachpuff\" stroke=\"black\" points=\"177,-268 87,-268 87,-228 177,-228 177,-268\"/>\n",
       "<text text-anchor=\"start\" x=\"127.5\" y=\"-253.8\" font-family=\"Courier,monospace\" font-weight=\"bold\" font-size=\"14.00\">x</text>\n",
       "<text text-anchor=\"start\" x=\"95\" y=\"-234.8\" font-family=\"Courier,monospace\" font-size=\"9.00\">&lt;cell line: 2&gt;</text>\n",
       "</a>\n",
       "</g>\n",
       "</g>\n",
       "<!-- x_functioncellline_2at0x105f691b0_2&#45;&gt;y_functioncellline_3at0x10688f130_3 -->\n",
       "<g id=\"edge1\" class=\"edge\">\n",
       "<title>x_functioncellline_2at0x105f691b0_2&#45;&gt;y_functioncellline_3at0x10688f130_3</title>\n",
       "<path fill=\"none\" stroke=\"black\" d=\"M132,-227.56C132,-220.25 132,-211.75 132,-203.67\"/>\n",
       "<polygon fill=\"black\" stroke=\"black\" points=\"135.5,-203.83 132,-193.83 128.5,-203.83 135.5,-203.83\"/>\n",
       "</g>\n",
       "<!-- x_functioncellline_2at0x105f691b0_2&#45;&gt;test_functioncellline_1at0x105f68040_1 -->\n",
       "<g id=\"edge3\" class=\"edge\">\n",
       "<title>x_functioncellline_2at0x105f691b0_2&#45;&gt;test_functioncellline_1at0x105f68040_1</title>\n",
       "<path fill=\"none\" stroke=\"black\" d=\"M106.72,-227.68C96.08,-218.14 84.65,-205.73 78,-192 68.33,-172.02 65.48,-147.04 64.97,-127.71\"/>\n",
       "<polygon fill=\"black\" stroke=\"black\" points=\"68.47,-127.71 64.93,-117.73 61.47,-127.74 68.47,-127.71\"/>\n",
       "</g>\n",
       "<!-- x_functioncellline_2at0x105f691b0_2&#45;&gt;z_functioncellline_1at0x10688d240_3 -->\n",
       "<g id=\"edge5\" class=\"edge\">\n",
       "<title>x_functioncellline_2at0x105f691b0_2&#45;&gt;z_functioncellline_1at0x10688d240_3</title>\n",
       "<path fill=\"none\" stroke=\"black\" d=\"M158.65,-227.54C169.28,-218.13 180.33,-205.87 186,-192 205.18,-145.1 187.78,-85.73 173.69,-50.71\"/>\n",
       "<polygon fill=\"black\" stroke=\"black\" points=\"176.97,-49.5 169.87,-41.64 170.52,-52.21 176.97,-49.5\"/>\n",
       "</g>\n",
       "<!-- test_functioncellline_1at0x105f68040_1&#45;&gt;z_functioncellline_1at0x10688d240_3 -->\n",
       "<g id=\"edge6\" class=\"edge\">\n",
       "<title>test_functioncellline_1at0x105f68040_1&#45;&gt;z_functioncellline_1at0x10688d240_3</title>\n",
       "<path fill=\"none\" stroke=\"grey\" stroke-dasharray=\"5,2\" d=\"M90.7,-75.56C101.71,-66.89 114.84,-56.55 126.7,-47.21\"/>\n",
       "<polygon fill=\"grey\" stroke=\"grey\" points=\"128.59,-50.18 134.28,-41.25 124.26,-44.68 128.59,-50.18\"/>\n",
       "</g>\n",
       "</g>\n",
       "</svg>\n"
      ],
      "text/plain": [
       "Dependencies(\n",
       "    data={\n",
       "        ('x', (<cell line: 2>, 2)): set(),\n",
       "        ('y', (<cell line: 3>, 3)): {('x', (<cell line: 2>, 2))},\n",
       "        ('<test>', (<cell line: 1>, 1)): {('y', (<cell line: 3>, 3)), ('x', (<cell line: 2>, 2))},\n",
       "        ('z', (<cell line: 1>, 3)): {('y', (<cell line: 3>, 3)), ('x', (<cell line: 2>, 2))}},\n",
       " control={\n",
       "        ('x', (<cell line: 2>, 2)): set(),\n",
       "        ('y', (<cell line: 3>, 3)): set(),\n",
       "        ('<test>', (<cell line: 1>, 1)): set(),\n",
       "        ('z', (<cell line: 1>, 3)): {('<test>', (<cell line: 1>, 1))}})"
      ]
     },
     "execution_count": 168,
     "metadata": {},
     "output_type": "execute_result"
    }
   ],
   "source": [
    "# ignore\n",
    "_test_data.dependencies()"
   ]
  },
  {
   "cell_type": "markdown",
   "metadata": {
    "slideshow": {
     "slide_type": "subslide"
    }
   },
   "source": [
    "### End of Excursion"
   ]
  },
  {
   "cell_type": "markdown",
   "metadata": {
    "slideshow": {
     "slide_type": "subslide"
    }
   },
   "source": [
    "### Excursion: Calls and Returns"
   ]
  },
  {
   "cell_type": "code",
   "execution_count": 169,
   "metadata": {
    "execution": {
     "iopub.execute_input": "2023-02-11T12:18:28.858905Z",
     "iopub.status.busy": "2023-02-11T12:18:28.858419Z",
     "iopub.status.idle": "2023-02-11T12:18:28.859813Z",
     "shell.execute_reply": "2023-02-11T12:18:28.860094Z"
    },
    "slideshow": {
     "slide_type": "skip"
    }
   },
   "outputs": [],
   "source": [
    "import copy"
   ]
  },
  {
   "cell_type": "markdown",
   "metadata": {
    "slideshow": {
     "slide_type": "fragment"
    }
   },
   "source": [
    "To handle complex expressions involving functions, we introduce a _data stack_. Every time we invoke a function `func` (`call()` is invoked), we save the list of current variables read `last_read` on the `data` stack; when we return (`ret()` is invoked), we restore `last_read`. This also ensures that only those variables read while evaluating arguments will flow into the function call."
   ]
  },
  {
   "cell_type": "code",
   "execution_count": 170,
   "metadata": {
    "execution": {
     "iopub.execute_input": "2023-02-11T12:18:28.863943Z",
     "iopub.status.busy": "2023-02-11T12:18:28.863531Z",
     "iopub.status.idle": "2023-02-11T12:18:28.864728Z",
     "shell.execute_reply": "2023-02-11T12:18:28.865062Z"
    },
    "slideshow": {
     "slide_type": "subslide"
    }
   },
   "outputs": [],
   "source": [
    "class DependencyTracker(DependencyTracker):\n",
    "    def call(self, func: Callable) -> Callable:\n",
    "        \"\"\"Track a call of function `func`\"\"\"\n",
    "        func = super().call(func)\n",
    "\n",
    "        if inspect.isgeneratorfunction(func):\n",
    "            return self.call_generator(func)\n",
    "\n",
    "        # Save context\n",
    "        if self.log:\n",
    "            caller_func, lineno = self.caller_location()\n",
    "            print(f\"{caller_func.__name__}:{lineno}: \"\n",
    "                  f\"saving read variables {self.last_read}\")\n",
    "\n",
    "        self.data.append(self.last_read)\n",
    "        self.clear_read()\n",
    "        self.ignore_next_location_change()\n",
    "\n",
    "        self.frames.append(self.args)\n",
    "        self.args = {}\n",
    "\n",
    "        return func"
   ]
  },
  {
   "cell_type": "code",
   "execution_count": 171,
   "metadata": {
    "execution": {
     "iopub.execute_input": "2023-02-11T12:18:28.868730Z",
     "iopub.status.busy": "2023-02-11T12:18:28.868382Z",
     "iopub.status.idle": "2023-02-11T12:18:28.869829Z",
     "shell.execute_reply": "2023-02-11T12:18:28.870396Z"
    },
    "slideshow": {
     "slide_type": "subslide"
    }
   },
   "outputs": [],
   "source": [
    "class DependencyTracker(DependencyTracker):\n",
    "    def ret(self, value: Any) -> Any:\n",
    "        \"\"\"Track a function return\"\"\"\n",
    "        value = super().ret(value)\n",
    "\n",
    "        if self.in_generator():\n",
    "            return self.ret_generator(value)\n",
    "\n",
    "        # Restore old context and add return value\n",
    "        ret_name = None\n",
    "        for var in self.last_read:\n",
    "            if var.startswith(\"<\"):  # \"<return value>\"\n",
    "                ret_name = var\n",
    "\n",
    "        self.last_read = self.data.pop()\n",
    "        if ret_name:\n",
    "            self.last_read.append(ret_name)\n",
    "\n",
    "        if self.args:\n",
    "            # We return from an uninstrumented function:\n",
    "            # Make return value depend on all args\n",
    "            for key, deps in self.args.items():\n",
    "                self.last_read += deps\n",
    "\n",
    "        self.ignore_location_change()\n",
    "\n",
    "        self.args = self.frames.pop()\n",
    "\n",
    "        if self.log:\n",
    "            caller_func, lineno = self.caller_location()\n",
    "            print(f\"{caller_func.__name__}:{lineno}: \"\n",
    "                  f\"restored read variables {self.last_read}\")\n",
    "\n",
    "        return value"
   ]
  },
  {
   "cell_type": "markdown",
   "metadata": {
    "slideshow": {
     "slide_type": "subslide"
    }
   },
   "source": [
    "Generator functions (those which `yield` a value) are not \"called\" in the sense that Python transfers control to them; instead, a \"call\" to a generator function creates a generator that is evaluated on demand. We mark generator function \"calls\" by saving `None` on the stacks. When the generator function returns the generator, we wrap the generator such that the arguments are being restored when it is invoked."
   ]
  },
  {
   "cell_type": "code",
   "execution_count": 172,
   "metadata": {
    "execution": {
     "iopub.execute_input": "2023-02-11T12:18:28.875201Z",
     "iopub.status.busy": "2023-02-11T12:18:28.874710Z",
     "iopub.status.idle": "2023-02-11T12:18:28.876095Z",
     "shell.execute_reply": "2023-02-11T12:18:28.876317Z"
    },
    "slideshow": {
     "slide_type": "subslide"
    }
   },
   "outputs": [],
   "source": [
    "class DependencyTracker(DependencyTracker):\n",
    "    def in_generator(self) -> bool:\n",
    "        \"\"\"True if we are calling a generator function\"\"\"\n",
    "        return len(self.data) > 0 and self.data[-1] is None\n",
    "\n",
    "    def call_generator(self, func: Callable) -> Callable:\n",
    "        \"\"\"Track a call of a generator function\"\"\"\n",
    "        # Mark the fact that we're in a generator with `None` values\n",
    "        self.data.append(None)  # type: ignore\n",
    "        self.frames.append(None)  # type: ignore\n",
    "        assert self.in_generator()\n",
    "\n",
    "        self.clear_read()\n",
    "        return func\n",
    "\n",
    "    def ret_generator(self, generator: Any) -> Any:\n",
    "        \"\"\"Track the return of a generator function\"\"\"\n",
    "        # Pop the two 'None' values pushed earlier\n",
    "        self.data.pop()\n",
    "        self.frames.pop()\n",
    "\n",
    "        if self.log:\n",
    "            caller_func, lineno = self.caller_location()\n",
    "            print(f\"{caller_func.__name__}:{lineno}: \"\n",
    "                  f\"wrapping generator {generator} (args={self.args})\")\n",
    "\n",
    "        # At this point, we already have collected the args.\n",
    "        # The returned generator depends on all of them.\n",
    "        for arg in self.args:\n",
    "            self.last_read += self.args[arg]\n",
    "\n",
    "        # Wrap the generator such that the args are restored \n",
    "        # when it is actually invoked, such that we can map them\n",
    "        # to parameters.\n",
    "        saved_args = copy.deepcopy(self.args)\n",
    "\n",
    "        def wrapper() -> Generator[Any, None, None]:\n",
    "            self.args = saved_args\n",
    "            if self.log:\n",
    "                caller_func, lineno = self.caller_location()\n",
    "                print(f\"{caller_func.__name__}:{lineno}: \"\n",
    "                  f\"calling generator (args={self.args})\")\n",
    "\n",
    "            self.ignore_next_location_change()\n",
    "            yield from generator\n",
    "\n",
    "        return wrapper()"
   ]
  },
  {
   "cell_type": "markdown",
   "metadata": {
    "slideshow": {
     "slide_type": "subslide"
    }
   },
   "source": [
    "We see an example of how function calls and returns work in conjunction with function arguments, discussed in the next section."
   ]
  },
  {
   "cell_type": "markdown",
   "metadata": {
    "slideshow": {
     "slide_type": "subslide"
    }
   },
   "source": [
    "### End of Excursion"
   ]
  },
  {
   "cell_type": "markdown",
   "metadata": {
    "slideshow": {
     "slide_type": "subslide"
    }
   },
   "source": [
    "### Excursion: Function Arguments"
   ]
  },
  {
   "cell_type": "markdown",
   "metadata": {
    "slideshow": {
     "slide_type": "fragment"
    }
   },
   "source": [
    "Finally, we handle parameters and arguments. The `args` stack holds the current stack of function arguments, holding the `last_read` variable for each argument."
   ]
  },
  {
   "cell_type": "code",
   "execution_count": 173,
   "metadata": {
    "execution": {
     "iopub.execute_input": "2023-02-11T12:18:28.879215Z",
     "iopub.status.busy": "2023-02-11T12:18:28.878898Z",
     "iopub.status.idle": "2023-02-11T12:18:28.880503Z",
     "shell.execute_reply": "2023-02-11T12:18:28.880707Z"
    },
    "slideshow": {
     "slide_type": "subslide"
    }
   },
   "outputs": [],
   "source": [
    "class DependencyTracker(DependencyTracker):\n",
    "    def arg(self, value: Any, pos: Optional[int] = None, kw: Optional[str] = None) -> Any:\n",
    "        \"\"\"\n",
    "        Track passing an argument `value`\n",
    "        (with given position `pos` 1..n or keyword `kw`)\n",
    "        \"\"\"\n",
    "        if self.log:\n",
    "            caller_func, lineno = self.caller_location()\n",
    "            print(f\"{caller_func.__name__}:{lineno}: \"\n",
    "                  f\"saving args read {self.last_read}\")\n",
    "\n",
    "        if pos:\n",
    "            self.args[pos] = self.last_read\n",
    "        if kw:\n",
    "            self.args[kw] = self.last_read\n",
    "\n",
    "        self.clear_read()\n",
    "        return super().arg(value, pos, kw)"
   ]
  },
  {
   "cell_type": "markdown",
   "metadata": {
    "slideshow": {
     "slide_type": "subslide"
    }
   },
   "source": [
    "When accessing the arguments (with `param()`), we can retrieve this set of read variables for each argument."
   ]
  },
  {
   "cell_type": "code",
   "execution_count": 174,
   "metadata": {
    "execution": {
     "iopub.execute_input": "2023-02-11T12:18:28.884209Z",
     "iopub.status.busy": "2023-02-11T12:18:28.881902Z",
     "iopub.status.idle": "2023-02-11T12:18:28.885544Z",
     "shell.execute_reply": "2023-02-11T12:18:28.885810Z"
    },
    "slideshow": {
     "slide_type": "subslide"
    }
   },
   "outputs": [],
   "source": [
    "class DependencyTracker(DependencyTracker):\n",
    "    def param(self, name: str, value: Any,\n",
    "              pos: Optional[int] = None, vararg: str = \"\", last: bool = False) -> Any:\n",
    "        \"\"\"\n",
    "        Track getting a parameter `name` with value `value`\n",
    "        (with given position `pos`).\n",
    "        vararg parameters are indicated by setting `varargs` to \n",
    "        '*' (*args) or '**' (**kwargs)\n",
    "        \"\"\"\n",
    "        self.clear_read()\n",
    "\n",
    "        if vararg == '*':\n",
    "            # We over-approximate by setting `args` to _all_ positional args\n",
    "            for index in self.args:\n",
    "                if isinstance(index, int) and pos is not None and index >= pos:\n",
    "                    self.last_read += self.args[index]\n",
    "        elif vararg == '**':\n",
    "            # We over-approximate by setting `kwargs` to _all_ passed keyword args\n",
    "            for index in self.args:\n",
    "                if isinstance(index, str):\n",
    "                    self.last_read += self.args[index]\n",
    "        elif name in self.args:\n",
    "            self.last_read = self.args[name]\n",
    "        elif pos in self.args:\n",
    "            self.last_read = self.args[pos]\n",
    "\n",
    "        if self.log:\n",
    "            caller_func, lineno = self.caller_location()\n",
    "            print(f\"{caller_func.__name__}:{lineno}: \"\n",
    "                  f\"restored params read {self.last_read}\")\n",
    "\n",
    "        self.ignore_location_change()\n",
    "        ret = super().param(name, value, pos)\n",
    "\n",
    "        if last:\n",
    "            self.clear_read()\n",
    "            self.args = {}  # Mark `args` as processed\n",
    "\n",
    "        return ret"
   ]
  },
  {
   "cell_type": "markdown",
   "metadata": {
    "slideshow": {
     "slide_type": "subslide"
    }
   },
   "source": [
    "Let us illustrate all these on a small example."
   ]
  },
  {
   "cell_type": "code",
   "execution_count": 175,
   "metadata": {
    "execution": {
     "iopub.execute_input": "2023-02-11T12:18:28.889349Z",
     "iopub.status.busy": "2023-02-11T12:18:28.888882Z",
     "iopub.status.idle": "2023-02-11T12:18:28.890551Z",
     "shell.execute_reply": "2023-02-11T12:18:28.890815Z"
    },
    "slideshow": {
     "slide_type": "subslide"
    }
   },
   "outputs": [],
   "source": [
    "def call_test() -> int:\n",
    "    c = 47\n",
    "\n",
    "    def sq(n: int) -> int:\n",
    "        return n * n\n",
    "\n",
    "    def gen(e: int) -> Generator[int, None, None]:\n",
    "        yield e * c\n",
    "\n",
    "    def just_x(x: Any, y: Any) -> Any:\n",
    "        return x\n",
    "\n",
    "    a = 42\n",
    "    b = gen(a)\n",
    "    d = list(b)[0]\n",
    "\n",
    "    xs = [1, 2, 3, 4]\n",
    "    ys = [sq(elem) for elem in xs if elem > 2]\n",
    "\n",
    "    return just_x(just_x(d, y=b), ys[0])"
   ]
  },
  {
   "cell_type": "code",
   "execution_count": 176,
   "metadata": {
    "execution": {
     "iopub.execute_input": "2023-02-11T12:18:28.893124Z",
     "iopub.status.busy": "2023-02-11T12:18:28.892790Z",
     "iopub.status.idle": "2023-02-11T12:18:28.894415Z",
     "shell.execute_reply": "2023-02-11T12:18:28.894736Z"
    },
    "slideshow": {
     "slide_type": "subslide"
    }
   },
   "outputs": [
    {
     "data": {
      "text/plain": [
       "1974"
      ]
     },
     "execution_count": 176,
     "metadata": {},
     "output_type": "execute_result"
    }
   ],
   "source": [
    "call_test()"
   ]
  },
  {
   "cell_type": "markdown",
   "metadata": {
    "slideshow": {
     "slide_type": "fragment"
    }
   },
   "source": [
    "We apply all our transformers on this code:"
   ]
  },
  {
   "cell_type": "code",
   "execution_count": 177,
   "metadata": {
    "execution": {
     "iopub.execute_input": "2023-02-11T12:18:28.924241Z",
     "iopub.status.busy": "2023-02-11T12:18:28.923907Z",
     "iopub.status.idle": "2023-02-11T12:18:28.939495Z",
     "shell.execute_reply": "2023-02-11T12:18:28.939865Z"
    },
    "slideshow": {
     "slide_type": "subslide"
    }
   },
   "outputs": [
    {
     "name": "stdout",
     "output_type": "stream",
     "text": [
      "\u001b[34mdef\u001b[39;49;00m \u001b[32mcall_test\u001b[39;49;00m() -> \u001b[36mint\u001b[39;49;00m:\u001b[37m\u001b[39;49;00m\n",
      "    c = _data.set(\u001b[33m'\u001b[39;49;00m\u001b[33mc\u001b[39;49;00m\u001b[33m'\u001b[39;49;00m, \u001b[34m47\u001b[39;49;00m)\u001b[37m\u001b[39;49;00m\n",
      "\u001b[37m\u001b[39;49;00m\n",
      "    \u001b[34mdef\u001b[39;49;00m \u001b[32msq\u001b[39;49;00m(n: \u001b[36mint\u001b[39;49;00m) -> \u001b[36mint\u001b[39;49;00m:\u001b[37m\u001b[39;49;00m\n",
      "        _data.param(\u001b[33m'\u001b[39;49;00m\u001b[33mn\u001b[39;49;00m\u001b[33m'\u001b[39;49;00m, n, pos=\u001b[34m1\u001b[39;49;00m, last=\u001b[34mTrue\u001b[39;49;00m)\u001b[37m\u001b[39;49;00m\n",
      "        \u001b[34mreturn\u001b[39;49;00m _data.set(\u001b[33m'\u001b[39;49;00m\u001b[33m<sq() return value>\u001b[39;49;00m\u001b[33m'\u001b[39;49;00m, _data.get(\u001b[33m'\u001b[39;49;00m\u001b[33mn\u001b[39;49;00m\u001b[33m'\u001b[39;49;00m, n) * _data.get(\u001b[33m'\u001b[39;49;00m\u001b[33mn\u001b[39;49;00m\u001b[33m'\u001b[39;49;00m, n))\u001b[37m\u001b[39;49;00m\n",
      "\u001b[37m\u001b[39;49;00m\n",
      "    \u001b[34mdef\u001b[39;49;00m \u001b[32mgen\u001b[39;49;00m(e: \u001b[36mint\u001b[39;49;00m) -> Generator[\u001b[36mint\u001b[39;49;00m, \u001b[34mNone\u001b[39;49;00m, \u001b[34mNone\u001b[39;49;00m]:\u001b[37m\u001b[39;49;00m\n",
      "        _data.param(\u001b[33m'\u001b[39;49;00m\u001b[33me\u001b[39;49;00m\u001b[33m'\u001b[39;49;00m, e, pos=\u001b[34m1\u001b[39;49;00m, last=\u001b[34mTrue\u001b[39;49;00m)\u001b[37m\u001b[39;49;00m\n",
      "        \u001b[34myield\u001b[39;49;00m _data.set(\u001b[33m'\u001b[39;49;00m\u001b[33m<gen() yield value>\u001b[39;49;00m\u001b[33m'\u001b[39;49;00m, _data.get(\u001b[33m'\u001b[39;49;00m\u001b[33me\u001b[39;49;00m\u001b[33m'\u001b[39;49;00m, e) * _data.get(\u001b[33m'\u001b[39;49;00m\u001b[33mc\u001b[39;49;00m\u001b[33m'\u001b[39;49;00m, c))\u001b[37m\u001b[39;49;00m\n",
      "\u001b[37m\u001b[39;49;00m\n",
      "    \u001b[34mdef\u001b[39;49;00m \u001b[32mjust_x\u001b[39;49;00m(x: Any, y: Any) -> Any:\u001b[37m\u001b[39;49;00m\n",
      "        _data.param(\u001b[33m'\u001b[39;49;00m\u001b[33mx\u001b[39;49;00m\u001b[33m'\u001b[39;49;00m, x, pos=\u001b[34m1\u001b[39;49;00m)\u001b[37m\u001b[39;49;00m\n",
      "        _data.param(\u001b[33m'\u001b[39;49;00m\u001b[33my\u001b[39;49;00m\u001b[33m'\u001b[39;49;00m, y, pos=\u001b[34m2\u001b[39;49;00m, last=\u001b[34mTrue\u001b[39;49;00m)\u001b[37m\u001b[39;49;00m\n",
      "        \u001b[34mreturn\u001b[39;49;00m _data.set(\u001b[33m'\u001b[39;49;00m\u001b[33m<just_x() return value>\u001b[39;49;00m\u001b[33m'\u001b[39;49;00m, _data.get(\u001b[33m'\u001b[39;49;00m\u001b[33mx\u001b[39;49;00m\u001b[33m'\u001b[39;49;00m, x))\u001b[37m\u001b[39;49;00m\n",
      "    a = _data.set(\u001b[33m'\u001b[39;49;00m\u001b[33ma\u001b[39;49;00m\u001b[33m'\u001b[39;49;00m, \u001b[34m42\u001b[39;49;00m)\u001b[37m\u001b[39;49;00m\n",
      "    b = _data.set(\u001b[33m'\u001b[39;49;00m\u001b[33mb\u001b[39;49;00m\u001b[33m'\u001b[39;49;00m, _data.ret(_data.call(_data.get(\u001b[33m'\u001b[39;49;00m\u001b[33mgen\u001b[39;49;00m\u001b[33m'\u001b[39;49;00m, gen))(_data.arg(_data.get(\u001b[33m'\u001b[39;49;00m\u001b[33ma\u001b[39;49;00m\u001b[33m'\u001b[39;49;00m, a), pos=\u001b[34m1\u001b[39;49;00m))))\u001b[37m\u001b[39;49;00m\n",
      "    d = _data.set(\u001b[33m'\u001b[39;49;00m\u001b[33md\u001b[39;49;00m\u001b[33m'\u001b[39;49;00m, _data.ret(_data.call(\u001b[36mlist\u001b[39;49;00m)(_data.arg(_data.get(\u001b[33m'\u001b[39;49;00m\u001b[33mb\u001b[39;49;00m\u001b[33m'\u001b[39;49;00m, b), pos=\u001b[34m1\u001b[39;49;00m)))[\u001b[34m0\u001b[39;49;00m])\u001b[37m\u001b[39;49;00m\n",
      "    xs = _data.set(\u001b[33m'\u001b[39;49;00m\u001b[33mxs\u001b[39;49;00m\u001b[33m'\u001b[39;49;00m, [\u001b[34m1\u001b[39;49;00m, \u001b[34m2\u001b[39;49;00m, \u001b[34m3\u001b[39;49;00m, \u001b[34m4\u001b[39;49;00m])\u001b[37m\u001b[39;49;00m\n",
      "    ys = _data.set(\u001b[33m'\u001b[39;49;00m\u001b[33mys\u001b[39;49;00m\u001b[33m'\u001b[39;49;00m, [_data.ret(_data.call(_data.get(\u001b[33m'\u001b[39;49;00m\u001b[33msq\u001b[39;49;00m\u001b[33m'\u001b[39;49;00m, sq))(_data.arg(_data.get(\u001b[33m'\u001b[39;49;00m\u001b[33melem\u001b[39;49;00m\u001b[33m'\u001b[39;49;00m, elem), pos=\u001b[34m1\u001b[39;49;00m))) \u001b[34mfor\u001b[39;49;00m elem \u001b[35min\u001b[39;49;00m _data.set(\u001b[33m'\u001b[39;49;00m\u001b[33melem\u001b[39;49;00m\u001b[33m'\u001b[39;49;00m, _data.get(\u001b[33m'\u001b[39;49;00m\u001b[33mxs\u001b[39;49;00m\u001b[33m'\u001b[39;49;00m, xs)) \u001b[34mif\u001b[39;49;00m _data.get(\u001b[33m'\u001b[39;49;00m\u001b[33melem\u001b[39;49;00m\u001b[33m'\u001b[39;49;00m, elem) > \u001b[34m2\u001b[39;49;00m])\u001b[37m\u001b[39;49;00m\n",
      "    \u001b[34mreturn\u001b[39;49;00m _data.set(\u001b[33m'\u001b[39;49;00m\u001b[33m<call_test() return value>\u001b[39;49;00m\u001b[33m'\u001b[39;49;00m, _data.ret(_data.call(_data.get(\u001b[33m'\u001b[39;49;00m\u001b[33mjust_x\u001b[39;49;00m\u001b[33m'\u001b[39;49;00m, just_x))(_data.arg(_data.ret(_data.call(_data.get(\u001b[33m'\u001b[39;49;00m\u001b[33mjust_x\u001b[39;49;00m\u001b[33m'\u001b[39;49;00m, just_x))(_data.arg(_data.get(\u001b[33m'\u001b[39;49;00m\u001b[33md\u001b[39;49;00m\u001b[33m'\u001b[39;49;00m, d), pos=\u001b[34m1\u001b[39;49;00m), y=_data.arg(_data.get(\u001b[33m'\u001b[39;49;00m\u001b[33mb\u001b[39;49;00m\u001b[33m'\u001b[39;49;00m, b), kw=\u001b[33m'\u001b[39;49;00m\u001b[33my\u001b[39;49;00m\u001b[33m'\u001b[39;49;00m))), pos=\u001b[34m1\u001b[39;49;00m), _data.arg(_data.get(\u001b[33m'\u001b[39;49;00m\u001b[33mys\u001b[39;49;00m\u001b[33m'\u001b[39;49;00m, ys)[\u001b[34m0\u001b[39;49;00m], pos=\u001b[34m2\u001b[39;49;00m))))\u001b[37m\u001b[39;49;00m"
     ]
    }
   ],
   "source": [
    "call_tree = ast.parse(inspect.getsource(call_test))\n",
    "TrackCallTransformer().visit(call_tree)\n",
    "TrackSetTransformer().visit(call_tree)\n",
    "TrackGetTransformer().visit(call_tree)\n",
    "TrackControlTransformer().visit(call_tree)\n",
    "TrackReturnTransformer().visit(call_tree)\n",
    "TrackParamsTransformer().visit(call_tree)\n",
    "dump_tree(call_tree)"
   ]
  },
  {
   "cell_type": "markdown",
   "metadata": {
    "slideshow": {
     "slide_type": "subslide"
    }
   },
   "source": [
    "Again, we capture the dependencies:"
   ]
  },
  {
   "cell_type": "code",
   "execution_count": 178,
   "metadata": {
    "execution": {
     "iopub.execute_input": "2023-02-11T12:18:28.943500Z",
     "iopub.status.busy": "2023-02-11T12:18:28.942882Z",
     "iopub.status.idle": "2023-02-11T12:18:28.944767Z",
     "shell.execute_reply": "2023-02-11T12:18:28.945127Z"
    },
    "slideshow": {
     "slide_type": "fragment"
    }
   },
   "outputs": [],
   "source": [
    "class DependencyTrackerTester(DataTrackerTester):\n",
    "    def make_data_tracker(self) -> DependencyTracker:\n",
    "        return DependencyTracker(log=self.log)"
   ]
  },
  {
   "cell_type": "code",
   "execution_count": 179,
   "metadata": {
    "execution": {
     "iopub.execute_input": "2023-02-11T12:18:28.949912Z",
     "iopub.status.busy": "2023-02-11T12:18:28.948982Z",
     "iopub.status.idle": "2023-02-11T12:18:28.951324Z",
     "shell.execute_reply": "2023-02-11T12:18:28.951546Z"
    },
    "slideshow": {
     "slide_type": "fragment"
    }
   },
   "outputs": [],
   "source": [
    "with DependencyTrackerTester(call_tree, call_test, log=False) as call_deps:\n",
    "    call_test()"
   ]
  },
  {
   "cell_type": "markdown",
   "metadata": {
    "slideshow": {
     "slide_type": "fragment"
    }
   },
   "source": [
    "We see how \n",
    "\n",
    "* `a` flows into the generator `b` and into the parameter `e` of `gen()`.\n",
    "* `xs` flows into `elem` which in turn flows into the parameter `n` of `sq()`. Both flow into `ys`.\n",
    "* `just_x()` returns only its `x` argument."
   ]
  },
  {
   "cell_type": "code",
   "execution_count": 180,
   "metadata": {
    "execution": {
     "iopub.execute_input": "2023-02-11T12:18:28.954543Z",
     "iopub.status.busy": "2023-02-11T12:18:28.954102Z",
     "iopub.status.idle": "2023-02-11T12:18:29.256374Z",
     "shell.execute_reply": "2023-02-11T12:18:29.256866Z"
    },
    "slideshow": {
     "slide_type": "subslide"
    }
   },
   "outputs": [
    {
     "data": {
      "image/svg+xml": [
       "<?xml version=\"1.0\" encoding=\"UTF-8\" standalone=\"no\"?>\n",
       "<!DOCTYPE svg PUBLIC \"-//W3C//DTD SVG 1.1//EN\"\n",
       " \"http://www.w3.org/Graphics/SVG/1.1/DTD/svg11.dtd\">\n",
       "<!-- Generated by graphviz version 7.0.2 (20221119.0110)\n",
       " -->\n",
       "<!-- Title: dependencies Pages: 1 -->\n",
       "<svg width=\"723pt\" height=\"656pt\"\n",
       " viewBox=\"0.00 0.00 723.00 656.00\" xmlns=\"http://www.w3.org/2000/svg\" xmlns:xlink=\"http://www.w3.org/1999/xlink\">\n",
       "<g id=\"graph0\" class=\"graph\" transform=\"scale(1 1) rotate(0) translate(4 652)\">\n",
       "<title>dependencies</title>\n",
       "<polygon fill=\"white\" stroke=\"none\" points=\"-4,4 -4,-652 719,-652 719,4 -4,4\"/>\n",
       "<!-- d_functioncall_testat0x1068fba30_15 -->\n",
       "<g id=\"node1\" class=\"node\">\n",
       "<title>d_functioncall_testat0x1068fba30_15</title>\n",
       "<g id=\"a_node1\"><a xlink:title=\"call_test:15\">\n",
       "<polygon fill=\"peachpuff\" stroke=\"black\" points=\"472.5,-344 382.5,-344 382.5,-304 472.5,-304 472.5,-344\"/>\n",
       "<text text-anchor=\"start\" x=\"423\" y=\"-329.8\" font-family=\"Courier,monospace\" font-weight=\"bold\" font-size=\"14.00\">d</text>\n",
       "<text text-anchor=\"start\" x=\"390.5\" y=\"-310.8\" font-family=\"Courier,monospace\" font-size=\"9.00\">d = list(b)[0]</text>\n",
       "</a>\n",
       "</g>\n",
       "</g>\n",
       "<!-- x_functioncall_testlocalsjust_xat0x1068fbc70_10 -->\n",
       "<g id=\"node6\" class=\"node\">\n",
       "<title>x_functioncall_testlocalsjust_xat0x1068fbc70_10</title>\n",
       "<g id=\"a_node6\"><a xlink:title=\"just_x:10\">\n",
       "<polygon fill=\"peachpuff\" stroke=\"black\" points=\"525,-268 330,-268 330,-228 525,-228 525,-268\"/>\n",
       "<text text-anchor=\"start\" x=\"423\" y=\"-253.8\" font-family=\"Courier,monospace\" font-weight=\"bold\" font-size=\"14.00\">x</text>\n",
       "<text text-anchor=\"start\" x=\"338\" y=\"-234.8\" font-family=\"Courier,monospace\" font-size=\"9.00\">def just_x(x: Any, y: Any) &#45;&gt; Any:</text>\n",
       "</a>\n",
       "</g>\n",
       "</g>\n",
       "<!-- d_functioncall_testat0x1068fba30_15&#45;&gt;x_functioncall_testlocalsjust_xat0x1068fbc70_10 -->\n",
       "<g id=\"edge5\" class=\"edge\">\n",
       "<title>d_functioncall_testat0x1068fba30_15&#45;&gt;x_functioncall_testlocalsjust_xat0x1068fbc70_10</title>\n",
       "<path fill=\"none\" stroke=\"black\" d=\"M427.5,-303.56C427.5,-296.25 427.5,-287.75 427.5,-279.67\"/>\n",
       "<polygon fill=\"black\" stroke=\"black\" points=\"431,-279.83 427.5,-269.83 424,-279.83 431,-279.83\"/>\n",
       "</g>\n",
       "<!-- xs_functioncall_testat0x1068fba30_17 -->\n",
       "<g id=\"node10\" class=\"node\">\n",
       "<title>xs_functioncall_testat0x1068fba30_17</title>\n",
       "<g id=\"a_node10\"><a xlink:title=\"call_test:17\">\n",
       "<polygon fill=\"peachpuff\" stroke=\"black\" points=\"649.5,-268 543.5,-268 543.5,-228 649.5,-228 649.5,-268\"/>\n",
       "<text text-anchor=\"start\" x=\"588\" y=\"-253.8\" font-family=\"Courier,monospace\" font-weight=\"bold\" font-size=\"14.00\">xs</text>\n",
       "<text text-anchor=\"start\" x=\"551.5\" y=\"-234.8\" font-family=\"Courier,monospace\" font-size=\"9.00\">xs = [1, 2, 3, 4]</text>\n",
       "</a>\n",
       "</g>\n",
       "</g>\n",
       "<!-- d_functioncall_testat0x1068fba30_15&#45;&gt;xs_functioncall_testat0x1068fba30_17 -->\n",
       "<!-- genyieldvalue_functioncall_testlocalsgenat0x1068fbbe0_8 -->\n",
       "<g id=\"node2\" class=\"node\">\n",
       "<title>genyieldvalue_functioncall_testlocalsgenat0x1068fbbe0_8</title>\n",
       "<g id=\"a_node2\"><a xlink:title=\"gen:8\">\n",
       "<polygon fill=\"peachpuff\" stroke=\"black\" points=\"613,-420 440,-420 440,-380 613,-380 613,-420\"/>\n",
       "<text text-anchor=\"start\" x=\"448\" y=\"-405.8\" font-family=\"Courier,monospace\" font-weight=\"bold\" font-style=\"italic\" font-size=\"14.00\">&lt;gen() yield value&gt;</text>\n",
       "<text text-anchor=\"start\" x=\"497.5\" y=\"-386.8\" font-family=\"Courier,monospace\" font-size=\"9.00\">yield e * c</text>\n",
       "</a>\n",
       "</g>\n",
       "</g>\n",
       "<!-- genyieldvalue_functioncall_testlocalsgenat0x1068fbbe0_8&#45;&gt;d_functioncall_testat0x1068fba30_15 -->\n",
       "<g id=\"edge1\" class=\"edge\">\n",
       "<title>genyieldvalue_functioncall_testlocalsgenat0x1068fbbe0_8&#45;&gt;d_functioncall_testat0x1068fba30_15</title>\n",
       "<path fill=\"none\" stroke=\"black\" d=\"M500.49,-379.56C488.78,-370.8 474.79,-360.35 462.2,-350.94\"/>\n",
       "<polygon fill=\"black\" stroke=\"black\" points=\"464.65,-348.4 454.55,-345.22 460.46,-354.01 464.65,-348.4\"/>\n",
       "</g>\n",
       "<!-- b_functioncall_testat0x1068fba30_14 -->\n",
       "<g id=\"node3\" class=\"node\">\n",
       "<title>b_functioncall_testat0x1068fba30_14</title>\n",
       "<g id=\"a_node3\"><a xlink:title=\"call_test:14\">\n",
       "<polygon fill=\"peachpuff\" stroke=\"black\" points=\"395,-420 326,-420 326,-380 395,-380 395,-420\"/>\n",
       "<text text-anchor=\"start\" x=\"356\" y=\"-405.8\" font-family=\"Courier,monospace\" font-weight=\"bold\" font-size=\"14.00\">b</text>\n",
       "<text text-anchor=\"start\" x=\"334\" y=\"-386.8\" font-family=\"Courier,monospace\" font-size=\"9.00\">b = gen(a)</text>\n",
       "</a>\n",
       "</g>\n",
       "</g>\n",
       "<!-- b_functioncall_testat0x1068fba30_14&#45;&gt;d_functioncall_testat0x1068fba30_15 -->\n",
       "<g id=\"edge2\" class=\"edge\">\n",
       "<title>b_functioncall_testat0x1068fba30_14&#45;&gt;d_functioncall_testat0x1068fba30_15</title>\n",
       "<path fill=\"none\" stroke=\"black\" d=\"M372.08,-379.56C378.88,-371.23 387.64,-361.36 396.23,-352.32\"/>\n",
       "<polygon fill=\"black\" stroke=\"black\" points=\"398.49,-355.01 402.95,-345.4 393.47,-350.13 398.49,-355.01\"/>\n",
       "</g>\n",
       "<!-- b_functioncall_testat0x1068fba30_14&#45;&gt;d_functioncall_testat0x1068fba30_15 -->\n",
       "<!-- y_functioncall_testlocalsjust_xat0x1068fbc70_10 -->\n",
       "<g id=\"node15\" class=\"node\">\n",
       "<title>y_functioncall_testlocalsjust_xat0x1068fbc70_10</title>\n",
       "<g id=\"a_node15\"><a xlink:title=\"just_x:10\">\n",
       "<polygon fill=\"peachpuff\" stroke=\"black\" points=\"312,-268 117,-268 117,-228 312,-228 312,-268\"/>\n",
       "<text text-anchor=\"start\" x=\"210\" y=\"-253.8\" font-family=\"Courier,monospace\" font-weight=\"bold\" font-size=\"14.00\">y</text>\n",
       "<text text-anchor=\"start\" x=\"125\" y=\"-234.8\" font-family=\"Courier,monospace\" font-size=\"9.00\">def just_x(x: Any, y: Any) &#45;&gt; Any:</text>\n",
       "</a>\n",
       "</g>\n",
       "</g>\n",
       "<!-- b_functioncall_testat0x1068fba30_14&#45;&gt;y_functioncall_testlocalsjust_xat0x1068fbc70_10 -->\n",
       "<g id=\"edge15\" class=\"edge\">\n",
       "<title>b_functioncall_testat0x1068fba30_14&#45;&gt;y_functioncall_testlocalsjust_xat0x1068fbc70_10</title>\n",
       "<path fill=\"none\" stroke=\"black\" d=\"M341.71,-379.7C316.09,-353.37 270.05,-306.07 240.94,-276.17\"/>\n",
       "<polygon fill=\"black\" stroke=\"black\" points=\"243.75,-274.04 234.27,-269.31 238.74,-278.92 243.75,-274.04\"/>\n",
       "</g>\n",
       "<!-- e_functioncall_testlocalsgenat0x1068fbbe0_7 -->\n",
       "<g id=\"node4\" class=\"node\">\n",
       "<title>e_functioncall_testlocalsgenat0x1068fbbe0_7</title>\n",
       "<g id=\"a_node4\"><a xlink:title=\"gen:7\">\n",
       "<polygon fill=\"peachpuff\" stroke=\"black\" points=\"655.5,-496 397.5,-496 397.5,-456 655.5,-456 655.5,-496\"/>\n",
       "<text text-anchor=\"start\" x=\"522\" y=\"-481.8\" font-family=\"Courier,monospace\" font-weight=\"bold\" font-size=\"14.00\">e</text>\n",
       "<text text-anchor=\"start\" x=\"405.5\" y=\"-462.8\" font-family=\"Courier,monospace\" font-size=\"9.00\">def gen(e: int) &#45;&gt; Generator[int, None, None]:</text>\n",
       "</a>\n",
       "</g>\n",
       "</g>\n",
       "<!-- e_functioncall_testlocalsgenat0x1068fbbe0_7&#45;&gt;genyieldvalue_functioncall_testlocalsgenat0x1068fbbe0_8 -->\n",
       "<g id=\"edge11\" class=\"edge\">\n",
       "<title>e_functioncall_testlocalsgenat0x1068fbbe0_7&#45;&gt;genyieldvalue_functioncall_testlocalsgenat0x1068fbbe0_8</title>\n",
       "<path fill=\"none\" stroke=\"black\" d=\"M520.48,-455.56C519.82,-448.25 519.61,-439.75 519.84,-431.67\"/>\n",
       "<polygon fill=\"black\" stroke=\"black\" points=\"523.32,-432.01 520.4,-421.82 516.34,-431.61 523.32,-432.01\"/>\n",
       "</g>\n",
       "<!-- e_functioncall_testlocalsgenat0x1068fbbe0_7&#45;&gt;genyieldvalue_functioncall_testlocalsgenat0x1068fbbe0_8 -->\n",
       "<!-- a_functioncall_testat0x1068fba30_13 -->\n",
       "<g id=\"node5\" class=\"node\">\n",
       "<title>a_functioncall_testat0x1068fba30_13</title>\n",
       "<g id=\"a_node5\"><a xlink:title=\"call_test:13\">\n",
       "<polygon fill=\"peachpuff\" stroke=\"black\" points=\"470.5,-572 416.5,-572 416.5,-532 470.5,-532 470.5,-572\"/>\n",
       "<text text-anchor=\"start\" x=\"439\" y=\"-557.8\" font-family=\"Courier,monospace\" font-weight=\"bold\" font-size=\"14.00\">a</text>\n",
       "<text text-anchor=\"start\" x=\"427.5\" y=\"-538.8\" font-family=\"Courier,monospace\" font-size=\"9.00\">a = 42</text>\n",
       "</a>\n",
       "</g>\n",
       "</g>\n",
       "<!-- a_functioncall_testat0x1068fba30_13&#45;&gt;b_functioncall_testat0x1068fba30_14 -->\n",
       "<g id=\"edge4\" class=\"edge\">\n",
       "<title>a_functioncall_testat0x1068fba30_13&#45;&gt;b_functioncall_testat0x1068fba30_14</title>\n",
       "<path fill=\"none\" stroke=\"black\" d=\"M416.22,-535.8C403.16,-525.68 388.67,-511.44 379.5,-496 367.72,-476.17 360.6,-451.03 357.78,-431.6\"/>\n",
       "<polygon fill=\"black\" stroke=\"black\" points=\"361.28,-431.41 356.74,-421.84 354.32,-432.15 361.28,-431.41\"/>\n",
       "</g>\n",
       "<!-- a_functioncall_testat0x1068fba30_13&#45;&gt;b_functioncall_testat0x1068fba30_14 -->\n",
       "<!-- a_functioncall_testat0x1068fba30_13&#45;&gt;e_functioncall_testlocalsgenat0x1068fbbe0_7 -->\n",
       "<g id=\"edge3\" class=\"edge\">\n",
       "<title>a_functioncall_testat0x1068fba30_13&#45;&gt;e_functioncall_testlocalsgenat0x1068fbbe0_7</title>\n",
       "<path fill=\"none\" stroke=\"black\" d=\"M465.31,-531.56C474.84,-523.06 486.17,-512.95 496.48,-503.76\"/>\n",
       "<polygon fill=\"black\" stroke=\"black\" points=\"498.57,-506.59 503.71,-497.32 493.92,-501.36 498.57,-506.59\"/>\n",
       "</g>\n",
       "<!-- just_xreturnvalue_functioncall_testlocalsjust_xat0x1068fbc70_11 -->\n",
       "<g id=\"node7\" class=\"node\">\n",
       "<title>just_xreturnvalue_functioncall_testlocalsjust_xat0x1068fbc70_11</title>\n",
       "<g id=\"a_node7\"><a xlink:title=\"just_x:11\">\n",
       "<polygon fill=\"peachpuff\" stroke=\"black\" points=\"392.5,-192 186.5,-192 186.5,-152 392.5,-152 392.5,-192\"/>\n",
       "<text text-anchor=\"start\" x=\"194.5\" y=\"-177.8\" font-family=\"Courier,monospace\" font-weight=\"bold\" font-style=\"italic\" font-size=\"14.00\">&lt;just_x() return value&gt;</text>\n",
       "<text text-anchor=\"start\" x=\"268\" y=\"-158.8\" font-family=\"Courier,monospace\" font-size=\"9.00\">return x</text>\n",
       "</a>\n",
       "</g>\n",
       "</g>\n",
       "<!-- x_functioncall_testlocalsjust_xat0x1068fbc70_10&#45;&gt;just_xreturnvalue_functioncall_testlocalsjust_xat0x1068fbc70_11 -->\n",
       "<g id=\"edge7\" class=\"edge\">\n",
       "<title>x_functioncall_testlocalsjust_xat0x1068fbc70_10&#45;&gt;just_xreturnvalue_functioncall_testlocalsjust_xat0x1068fbc70_11</title>\n",
       "<path fill=\"none\" stroke=\"black\" d=\"M385.22,-227.56C367.45,-218.47 346.93,-207.53 329.42,-197.85\"/>\n",
       "<polygon fill=\"black\" stroke=\"black\" points=\"331.26,-194.87 320.83,-193.05 327.85,-200.98 331.26,-194.87\"/>\n",
       "</g>\n",
       "<!-- just_xreturnvalue_functioncall_testlocalsjust_xat0x1068fbc70_11&#45;&gt;x_functioncall_testlocalsjust_xat0x1068fbc70_10 -->\n",
       "<g id=\"edge6\" class=\"edge\">\n",
       "<title>just_xreturnvalue_functioncall_testlocalsjust_xat0x1068fbc70_11&#45;&gt;x_functioncall_testlocalsjust_xat0x1068fbc70_10</title>\n",
       "<path fill=\"none\" stroke=\"black\" d=\"M331.78,-192.44C349.48,-201.5 369.91,-212.38 387.37,-222.04\"/>\n",
       "<polygon fill=\"black\" stroke=\"black\" points=\"385.51,-225 395.94,-226.82 388.92,-218.89 385.51,-225\"/>\n",
       "</g>\n",
       "<!-- call_testreturnvalue_functioncall_testat0x1068fba30_20 -->\n",
       "<g id=\"node12\" class=\"node\">\n",
       "<title>call_testreturnvalue_functioncall_testat0x1068fba30_20</title>\n",
       "<g id=\"a_node12\"><a xlink:title=\"call_test:20\">\n",
       "<polygon fill=\"peachpuff\" stroke=\"black\" points=\"271,-116 40,-116 40,-76 271,-76 271,-116\"/>\n",
       "<text text-anchor=\"start\" x=\"48\" y=\"-101.8\" font-family=\"Courier,monospace\" font-weight=\"bold\" font-style=\"italic\" font-size=\"14.00\">&lt;call_test() return value&gt;</text>\n",
       "<text text-anchor=\"start\" x=\"60.5\" y=\"-82.8\" font-family=\"Courier,monospace\" font-size=\"9.00\">return just_x(just_x(d, y=b), ys[0])</text>\n",
       "</a>\n",
       "</g>\n",
       "</g>\n",
       "<!-- just_xreturnvalue_functioncall_testlocalsjust_xat0x1068fbc70_11&#45;&gt;call_testreturnvalue_functioncall_testat0x1068fba30_20 -->\n",
       "<g id=\"edge9\" class=\"edge\">\n",
       "<title>just_xreturnvalue_functioncall_testlocalsjust_xat0x1068fbc70_11&#45;&gt;call_testreturnvalue_functioncall_testat0x1068fba30_20</title>\n",
       "<path fill=\"none\" stroke=\"black\" d=\"M254.29,-151.56C237.83,-142.47 218.03,-131.53 200.49,-121.85\"/>\n",
       "<polygon fill=\"black\" stroke=\"black\" points=\"202.24,-118.81 191.8,-117.04 198.86,-124.94 202.24,-118.81\"/>\n",
       "</g>\n",
       "<!-- sqreturnvalue_functioncall_testlocalssqat0x1068fbb50_5 -->\n",
       "<g id=\"node8\" class=\"node\">\n",
       "<title>sqreturnvalue_functioncall_testlocalssqat0x1068fbb50_5</title>\n",
       "<g id=\"a_node8\"><a xlink:title=\"sq:5\">\n",
       "<polygon fill=\"peachpuff\" stroke=\"black\" points=\"683,-40 510,-40 510,0 683,0 683,-40\"/>\n",
       "<text text-anchor=\"start\" x=\"518\" y=\"-25.8\" font-family=\"Courier,monospace\" font-weight=\"bold\" font-style=\"italic\" font-size=\"14.00\">&lt;sq() return value&gt;</text>\n",
       "<text text-anchor=\"start\" x=\"564.5\" y=\"-6.8\" font-family=\"Courier,monospace\" font-size=\"9.00\">return n * n</text>\n",
       "</a>\n",
       "</g>\n",
       "</g>\n",
       "<!-- n_functioncall_testlocalssqat0x1068fbb50_4 -->\n",
       "<g id=\"node9\" class=\"node\">\n",
       "<title>n_functioncall_testlocalssqat0x1068fbb50_4</title>\n",
       "<g id=\"a_node9\"><a xlink:title=\"sq:4\">\n",
       "<polygon fill=\"peachpuff\" stroke=\"black\" points=\"662.5,-116 530.5,-116 530.5,-76 662.5,-76 662.5,-116\"/>\n",
       "<text text-anchor=\"start\" x=\"592\" y=\"-101.8\" font-family=\"Courier,monospace\" font-weight=\"bold\" font-size=\"14.00\">n</text>\n",
       "<text text-anchor=\"start\" x=\"538.5\" y=\"-82.8\" font-family=\"Courier,monospace\" font-size=\"9.00\">def sq(n: int) &#45;&gt; int:</text>\n",
       "</a>\n",
       "</g>\n",
       "</g>\n",
       "<!-- n_functioncall_testlocalssqat0x1068fbb50_4&#45;&gt;sqreturnvalue_functioncall_testlocalssqat0x1068fbb50_5 -->\n",
       "<g id=\"edge8\" class=\"edge\">\n",
       "<title>n_functioncall_testlocalssqat0x1068fbb50_4&#45;&gt;sqreturnvalue_functioncall_testlocalssqat0x1068fbb50_5</title>\n",
       "<path fill=\"none\" stroke=\"black\" d=\"M590.48,-75.56C589.82,-68.25 589.61,-59.75 589.84,-51.67\"/>\n",
       "<polygon fill=\"black\" stroke=\"black\" points=\"593.32,-52.01 590.4,-41.82 586.34,-51.61 593.32,-52.01\"/>\n",
       "</g>\n",
       "<!-- n_functioncall_testlocalssqat0x1068fbb50_4&#45;&gt;sqreturnvalue_functioncall_testlocalssqat0x1068fbb50_5 -->\n",
       "<!-- elem_functioncall_testat0x1068fba30_18 -->\n",
       "<g id=\"node13\" class=\"node\">\n",
       "<title>elem_functioncall_testat0x1068fba30_18</title>\n",
       "<g id=\"a_node13\"><a xlink:title=\"call_test:18\">\n",
       "<polygon fill=\"peachpuff\" stroke=\"black\" points=\"715,-192 478,-192 478,-152 715,-152 715,-192\"/>\n",
       "<text text-anchor=\"start\" x=\"579.5\" y=\"-177.8\" font-family=\"Courier,monospace\" font-weight=\"bold\" font-size=\"14.00\">elem</text>\n",
       "<text text-anchor=\"start\" x=\"486\" y=\"-158.8\" font-family=\"Courier,monospace\" font-size=\"9.00\">ys = [sq(elem) for elem in xs if elem &gt; 2]</text>\n",
       "</a>\n",
       "</g>\n",
       "</g>\n",
       "<!-- xs_functioncall_testat0x1068fba30_17&#45;&gt;elem_functioncall_testat0x1068fba30_18 -->\n",
       "<g id=\"edge12\" class=\"edge\">\n",
       "<title>xs_functioncall_testat0x1068fba30_17&#45;&gt;elem_functioncall_testat0x1068fba30_18</title>\n",
       "<path fill=\"none\" stroke=\"black\" d=\"M590.48,-227.56C589.82,-220.25 589.61,-211.75 589.84,-203.67\"/>\n",
       "<polygon fill=\"black\" stroke=\"black\" points=\"593.32,-204.01 590.4,-193.82 586.34,-203.61 593.32,-204.01\"/>\n",
       "</g>\n",
       "<!-- xs_functioncall_testat0x1068fba30_17&#45;&gt;elem_functioncall_testat0x1068fba30_18 -->\n",
       "<!-- c_functioncall_testat0x1068fba30_2 -->\n",
       "<g id=\"node11\" class=\"node\">\n",
       "<title>c_functioncall_testat0x1068fba30_2</title>\n",
       "<g id=\"a_node11\"><a xlink:title=\"call_test:2\">\n",
       "<polygon fill=\"peachpuff\" stroke=\"black\" points=\"548.5,-648 494.5,-648 494.5,-608 548.5,-608 548.5,-648\"/>\n",
       "<text text-anchor=\"start\" x=\"517\" y=\"-633.8\" font-family=\"Courier,monospace\" font-weight=\"bold\" font-size=\"14.00\">c</text>\n",
       "<text text-anchor=\"start\" x=\"505.5\" y=\"-614.8\" font-family=\"Courier,monospace\" font-size=\"9.00\">c = 47</text>\n",
       "</a>\n",
       "</g>\n",
       "</g>\n",
       "<!-- c_functioncall_testat0x1068fba30_2&#45;&gt;genyieldvalue_functioncall_testlocalsgenat0x1068fbbe0_8 -->\n",
       "<g id=\"edge10\" class=\"edge\">\n",
       "<title>c_functioncall_testat0x1068fba30_2&#45;&gt;genyieldvalue_functioncall_testlocalsgenat0x1068fbbe0_8</title>\n",
       "<path fill=\"none\" stroke=\"black\" d=\"M548.85,-611.79C583.32,-590.87 640.9,-549.62 664.5,-496 671.66,-479.73 674.48,-470.71 664.5,-456 654.43,-441.15 639.65,-430.31 623.45,-422.4\"/>\n",
       "<polygon fill=\"black\" stroke=\"black\" points=\"625.15,-419.32 614.6,-418.45 622.31,-425.72 625.15,-419.32\"/>\n",
       "</g>\n",
       "<!-- c_functioncall_testat0x1068fba30_2&#45;&gt;a_functioncall_testat0x1068fba30_13 -->\n",
       "<!-- elem_functioncall_testat0x1068fba30_18&#45;&gt;n_functioncall_testlocalssqat0x1068fbb50_4 -->\n",
       "<g id=\"edge13\" class=\"edge\">\n",
       "<title>elem_functioncall_testat0x1068fba30_18&#45;&gt;n_functioncall_testlocalssqat0x1068fbb50_4</title>\n",
       "<path fill=\"none\" stroke=\"black\" d=\"M596.5,-151.56C596.5,-144.25 596.5,-135.75 596.5,-127.67\"/>\n",
       "<polygon fill=\"black\" stroke=\"black\" points=\"600,-127.83 596.5,-117.83 593,-127.83 600,-127.83\"/>\n",
       "</g>\n",
       "<!-- ys_functioncall_testat0x1068fba30_18 -->\n",
       "<g id=\"node14\" class=\"node\">\n",
       "<title>ys_functioncall_testat0x1068fba30_18</title>\n",
       "<g id=\"a_node14\"><a xlink:title=\"call_test:18\">\n",
       "<polygon fill=\"peachpuff\" stroke=\"black\" points=\"237,-344 0,-344 0,-304 237,-304 237,-344\"/>\n",
       "<text text-anchor=\"start\" x=\"110\" y=\"-329.8\" font-family=\"Courier,monospace\" font-weight=\"bold\" font-size=\"14.00\">ys</text>\n",
       "<text text-anchor=\"start\" x=\"8\" y=\"-310.8\" font-family=\"Courier,monospace\" font-size=\"9.00\">ys = [sq(elem) for elem in xs if elem &gt; 2]</text>\n",
       "</a>\n",
       "</g>\n",
       "</g>\n",
       "<!-- ys_functioncall_testat0x1068fba30_18&#45;&gt;call_testreturnvalue_functioncall_testat0x1068fba30_20 -->\n",
       "<!-- ys_functioncall_testat0x1068fba30_18&#45;&gt;y_functioncall_testlocalsjust_xat0x1068fbc70_10 -->\n",
       "<g id=\"edge14\" class=\"edge\">\n",
       "<title>ys_functioncall_testat0x1068fba30_18&#45;&gt;y_functioncall_testlocalsjust_xat0x1068fbc70_10</title>\n",
       "<path fill=\"none\" stroke=\"black\" d=\"M143.72,-303.56C154.97,-294.89 168.38,-284.55 180.49,-275.21\"/>\n",
       "<polygon fill=\"black\" stroke=\"black\" points=\"182.46,-278.11 188.25,-269.24 178.19,-272.57 182.46,-278.11\"/>\n",
       "</g>\n",
       "<!-- y_functioncall_testlocalsjust_xat0x1068fbc70_10&#45;&gt;just_xreturnvalue_functioncall_testlocalsjust_xat0x1068fbc70_11 -->\n",
       "</g>\n",
       "</svg>\n"
      ],
      "text/plain": [
       "Dependencies(\n",
       "    data={\n",
       "        ('c', (call_test, 2)): set(),\n",
       "        ('a', (call_test, 13)): set(),\n",
       "        ('b', (call_test, 14)): {('a', (call_test, 13))},\n",
       "        ('e', (gen, 7)): {('a', (call_test, 13))},\n",
       "        ('<gen() yield value>', (gen, 8)): {('c', (call_test, 2)), ('e', (gen, 7))},\n",
       "        ('d', (call_test, 15)): {('<gen() yield value>', (gen, 8)), ('b', (call_test, 14))},\n",
       "        ('xs', (call_test, 17)): set(),\n",
       "        ('elem', (call_test, 18)): {('xs', (call_test, 17))},\n",
       "        ('n', (sq, 4)): {('elem', (call_test, 18))},\n",
       "        ('<sq() return value>', (sq, 5)): {('n', (sq, 4))},\n",
       "        ('ys', (call_test, 18)): set(),\n",
       "        ('x', (just_x, 10)): {('d', (call_test, 15)), ('<just_x() return value>', (just_x, 11))},\n",
       "        ('y', (just_x, 10)): {('ys', (call_test, 18)), ('b', (call_test, 14))},\n",
       "        ('<just_x() return value>', (just_x, 11)): {('x', (just_x, 10))},\n",
       "        ('<call_test() return value>', (call_test, 20)): {('<just_x() return value>', (just_x, 11))}},\n",
       " control={\n",
       "        ('c', (call_test, 2)): set(),\n",
       "        ('a', (call_test, 13)): set(),\n",
       "        ('b', (call_test, 14)): set(),\n",
       "        ('e', (gen, 7)): set(),\n",
       "        ('<gen() yield value>', (gen, 8)): set(),\n",
       "        ('d', (call_test, 15)): set(),\n",
       "        ('xs', (call_test, 17)): set(),\n",
       "        ('elem', (call_test, 18)): set(),\n",
       "        ('n', (sq, 4)): set(),\n",
       "        ('<sq() return value>', (sq, 5)): set(),\n",
       "        ('ys', (call_test, 18)): set(),\n",
       "        ('x', (just_x, 10)): set(),\n",
       "        ('y', (just_x, 10)): set(),\n",
       "        ('<just_x() return value>', (just_x, 11)): set(),\n",
       "        ('<call_test() return value>', (call_test, 20)): set()})"
      ]
     },
     "execution_count": 180,
     "metadata": {},
     "output_type": "execute_result"
    }
   ],
   "source": [
    "call_deps.dependencies()"
   ]
  },
  {
   "cell_type": "markdown",
   "metadata": {
    "slideshow": {
     "slide_type": "subslide"
    }
   },
   "source": [
    "The `code()` view lists each function separately:"
   ]
  },
  {
   "cell_type": "code",
   "execution_count": 181,
   "metadata": {
    "execution": {
     "iopub.execute_input": "2023-02-11T12:18:29.284355Z",
     "iopub.status.busy": "2023-02-11T12:18:29.283926Z",
     "iopub.status.idle": "2023-02-11T12:18:30.061686Z",
     "shell.execute_reply": "2023-02-11T12:18:30.062014Z"
    },
    "slideshow": {
     "slide_type": "subslide"
    }
   },
   "outputs": [
    {
     "name": "stdout",
     "output_type": "stream",
     "text": [
      "     1 \u001b[34mdef\u001b[39;49;00m \u001b[32mcall_test\u001b[39;49;00m() -> \u001b[36mint\u001b[39;49;00m:\u001b[37m\u001b[39;49;00m\n",
      "*    2     c = \u001b[34m47\u001b[39;49;00m\u001b[37m\u001b[39;49;00m\n",
      "     3 \u001b[37m\u001b[39;49;00m\n",
      "     4     \u001b[34mdef\u001b[39;49;00m \u001b[32msq\u001b[39;49;00m(n: \u001b[36mint\u001b[39;49;00m) -> \u001b[36mint\u001b[39;49;00m:\u001b[37m\u001b[39;49;00m\n",
      "     5         \u001b[34mreturn\u001b[39;49;00m n * n\u001b[37m\u001b[39;49;00m\n",
      "     6 \u001b[37m\u001b[39;49;00m\n",
      "     7     \u001b[34mdef\u001b[39;49;00m \u001b[32mgen\u001b[39;49;00m(e: \u001b[36mint\u001b[39;49;00m) -> Generator[\u001b[36mint\u001b[39;49;00m, \u001b[34mNone\u001b[39;49;00m, \u001b[34mNone\u001b[39;49;00m]:\u001b[37m\u001b[39;49;00m\n",
      "     8         \u001b[34myield\u001b[39;49;00m e * c\u001b[37m\u001b[39;49;00m\n",
      "     9 \u001b[37m\u001b[39;49;00m\n",
      "    10     \u001b[34mdef\u001b[39;49;00m \u001b[32mjust_x\u001b[39;49;00m(x: Any, y: Any) -> Any:\u001b[37m\u001b[39;49;00m\n",
      "    11         \u001b[34mreturn\u001b[39;49;00m x\u001b[37m\u001b[39;49;00m\n",
      "    12 \u001b[37m\u001b[39;49;00m\n",
      "*   13     a = \u001b[34m42\u001b[39;49;00m\u001b[37m\u001b[39;49;00m\n",
      "*   14     b = gen(a)  \u001b[37m# <= a (13)\u001b[39;49;00m\u001b[37m\u001b[39;49;00m\n",
      "*   15     d = \u001b[36mlist\u001b[39;49;00m(b)[\u001b[34m0\u001b[39;49;00m]  \u001b[37m# <= <gen() yield value> (gen:8), b (14)\u001b[39;49;00m\u001b[37m\u001b[39;49;00m\n",
      "    16 \u001b[37m\u001b[39;49;00m\n",
      "*   17     xs = [\u001b[34m1\u001b[39;49;00m, \u001b[34m2\u001b[39;49;00m, \u001b[34m3\u001b[39;49;00m, \u001b[34m4\u001b[39;49;00m]\u001b[37m\u001b[39;49;00m\n",
      "*   18     ys = [sq(elem) \u001b[34mfor\u001b[39;49;00m elem \u001b[35min\u001b[39;49;00m xs \u001b[34mif\u001b[39;49;00m elem > \u001b[34m2\u001b[39;49;00m]  \u001b[37m# <= xs (17)\u001b[39;49;00m\u001b[37m\u001b[39;49;00m\n",
      "    19 \u001b[37m\u001b[39;49;00m\n",
      "*   20     \u001b[34mreturn\u001b[39;49;00m just_x(just_x(d, y=b), ys[\u001b[34m0\u001b[39;49;00m])  \u001b[37m# <= <just_x() return value> (just_x:11)\u001b[39;49;00m\u001b[37m\u001b[39;49;00m\n",
      "\n",
      "*    7     \u001b[34mdef\u001b[39;49;00m \u001b[32mgen\u001b[39;49;00m(e: \u001b[36mint\u001b[39;49;00m) -> Generator[\u001b[36mint\u001b[39;49;00m, \u001b[34mNone\u001b[39;49;00m, \u001b[34mNone\u001b[39;49;00m]:  \u001b[37m# <= a (call_test:13)\u001b[39;49;00m\u001b[37m\u001b[39;49;00m\n",
      "*    8         \u001b[34myield\u001b[39;49;00m e * c  \u001b[37m# <= c (call_test:2), e (7)\u001b[39;49;00m\u001b[37m\u001b[39;49;00m\n",
      "\n",
      "*   10     \u001b[34mdef\u001b[39;49;00m \u001b[32mjust_x\u001b[39;49;00m(x: Any, y: Any) -> Any:  \u001b[37m# <= d (call_test:15), <just_x() return value> (11), ys (call_test:18), b (call_test:14)\u001b[39;49;00m\u001b[37m\u001b[39;49;00m\n",
      "*   11         \u001b[34mreturn\u001b[39;49;00m x  \u001b[37m# <= x (10)\u001b[39;49;00m\u001b[37m\u001b[39;49;00m\n",
      "\n",
      "*    4     \u001b[34mdef\u001b[39;49;00m \u001b[32msq\u001b[39;49;00m(n: \u001b[36mint\u001b[39;49;00m) -> \u001b[36mint\u001b[39;49;00m:  \u001b[37m# <= elem (call_test:18)\u001b[39;49;00m\u001b[37m\u001b[39;49;00m\n",
      "*    5         \u001b[34mreturn\u001b[39;49;00m n * n  \u001b[37m# <= n (4)\u001b[39;49;00m\u001b[37m\u001b[39;49;00m\n"
     ]
    }
   ],
   "source": [
    "call_deps.dependencies().code()"
   ]
  },
  {
   "cell_type": "markdown",
   "metadata": {
    "slideshow": {
     "slide_type": "subslide"
    }
   },
   "source": [
    "### End of Excursion"
   ]
  },
  {
   "cell_type": "markdown",
   "metadata": {
    "slideshow": {
     "slide_type": "subslide"
    }
   },
   "source": [
    "### Excursion: Diagnostics"
   ]
  },
  {
   "cell_type": "markdown",
   "metadata": {
    "slideshow": {
     "slide_type": "fragment"
    }
   },
   "source": [
    "To check the dependencies we obtain, we perform some minimal checks on whether a referenced variable actually also occurs in the source code."
   ]
  },
  {
   "cell_type": "code",
   "execution_count": 182,
   "metadata": {
    "execution": {
     "iopub.execute_input": "2023-02-11T12:18:30.064151Z",
     "iopub.status.busy": "2023-02-11T12:18:30.063855Z",
     "iopub.status.idle": "2023-02-11T12:18:30.065006Z",
     "shell.execute_reply": "2023-02-11T12:18:30.065234Z"
    },
    "slideshow": {
     "slide_type": "skip"
    }
   },
   "outputs": [],
   "source": [
    "import re"
   ]
  },
  {
   "cell_type": "code",
   "execution_count": 183,
   "metadata": {
    "execution": {
     "iopub.execute_input": "2023-02-11T12:18:30.068910Z",
     "iopub.status.busy": "2023-02-11T12:18:30.068510Z",
     "iopub.status.idle": "2023-02-11T12:18:30.069948Z",
     "shell.execute_reply": "2023-02-11T12:18:30.070201Z"
    },
    "ipub": {
     "ignore": true
    },
    "slideshow": {
     "slide_type": "subslide"
    }
   },
   "outputs": [],
   "source": [
    "class Dependencies(Dependencies):\n",
    "    def validate(self) -> None:\n",
    "        \"\"\"Perform a simple syntactic validation of dependencies\"\"\"\n",
    "        super().validate()\n",
    "\n",
    "        for var in self.all_vars():\n",
    "            source = self.source(var)\n",
    "            if not source:\n",
    "                continue\n",
    "            if source.startswith('<'):\n",
    "                continue   # no source\n",
    "\n",
    "            for dep_var in self.data[var] | self.control[var]:\n",
    "                dep_name, dep_location = dep_var\n",
    "\n",
    "                if dep_name == DependencyTracker.TEST:\n",
    "                    continue  # dependency on <test>\n",
    "\n",
    "                if dep_name.endswith(' value>'):\n",
    "                    if source.find('(') < 0:\n",
    "                        warnings.warn(f\"Warning: {self.format_var(var)} \"\n",
    "                                  f\"depends on {self.format_var(dep_var)}, \"\n",
    "                                  f\"but {repr(source)} does not \"\n",
    "                                  f\"seem to have a call\")\n",
    "                    continue\n",
    "\n",
    "                if source.startswith('def'):\n",
    "                    continue   # function call\n",
    "\n",
    "                rx = re.compile(r'\\b' + dep_name + r'\\b')\n",
    "                if rx.search(source) is None:\n",
    "                    warnings.warn(f\"{self.format_var(var)} \"\n",
    "                              f\"depends on {self.format_var(dep_var)}, \"\n",
    "                              f\"but {repr(dep_name)} does not occur \"\n",
    "                              f\"in {repr(source)}\")"
   ]
  },
  {
   "cell_type": "markdown",
   "metadata": {
    "slideshow": {
     "slide_type": "subslide"
    }
   },
   "source": [
    "`validate()` is automatically called whenever dependencies are output, so if you see any of its error messages, something may be wrong."
   ]
  },
  {
   "cell_type": "markdown",
   "metadata": {
    "slideshow": {
     "slide_type": "subslide"
    }
   },
   "source": [
    "### End of Excursion"
   ]
  },
  {
   "cell_type": "markdown",
   "metadata": {
    "slideshow": {
     "slide_type": "fragment"
    }
   },
   "source": [
    "At this point, `DependencyTracker` is complete; we have all in place to track even complex dependencies in instrumented code."
   ]
  },
  {
   "cell_type": "markdown",
   "metadata": {
    "slideshow": {
     "slide_type": "slide"
    }
   },
   "source": [
    "## Slicing Code"
   ]
  },
  {
   "cell_type": "markdown",
   "metadata": {
    "slideshow": {
     "slide_type": "subslide"
    }
   },
   "source": [
    "Let us now put all these pieces together. We have a means to instrument the source code (our various `NodeTransformer` classes) and a means to track dependencies (the `DependencyTracker` class). Now comes the time to put all these things together in a single tool, which we call `Slicer`.\n",
    "\n",
    "The basic idea of `Slicer` is that you can use it as follows:\n",
    "\n",
    "```python\n",
    "with Slicer(func_1, func_2, ...) as slicer:\n",
    "    func(...)\n",
    "```\n",
    "\n",
    "which first _instruments_ the functions given in the constructor (i.e., replaces their definitions with instrumented counterparts), and then runs the code in the body, calling instrumented functions, and allowing the slicer to collect dependencies. When the body returns, the original definition of the instrumented functions is restored."
   ]
  },
  {
   "cell_type": "markdown",
   "metadata": {
    "slideshow": {
     "slide_type": "subslide"
    }
   },
   "source": [
    "### An Instrumenter Base Class"
   ]
  },
  {
   "cell_type": "markdown",
   "metadata": {
    "slideshow": {
     "slide_type": "fragment"
    }
   },
   "source": [
    "The basic functionality of instrumenting a number of functions (and restoring them at the end of the `with` block) comes in a `Instrumenter` base class. It invokes `instrument()` on all items to instrument; this is to be overloaded in subclasses."
   ]
  },
  {
   "cell_type": "code",
   "execution_count": 184,
   "metadata": {
    "execution": {
     "iopub.execute_input": "2023-02-11T12:18:30.074205Z",
     "iopub.status.busy": "2023-02-11T12:18:30.073899Z",
     "iopub.status.idle": "2023-02-11T12:18:30.075276Z",
     "shell.execute_reply": "2023-02-11T12:18:30.075475Z"
    },
    "slideshow": {
     "slide_type": "subslide"
    }
   },
   "outputs": [],
   "source": [
    "class Instrumenter(StackInspector):\n",
    "    \"\"\"Instrument functions for dynamic tracking\"\"\"\n",
    "\n",
    "    def __init__(self, *items_to_instrument: Callable,\n",
    "                 globals: Optional[Dict[str, Any]] = None,\n",
    "                 log: Union[bool, int] = False) -> None:\n",
    "        \"\"\"\n",
    "        Create an instrumenter.\n",
    "        `items_to_instrument` is a list of items to instrument.\n",
    "        `globals` is a namespace to use (default: caller's globals())\n",
    "        \"\"\"\n",
    "\n",
    "        self.log = log\n",
    "        self.items_to_instrument: List[Callable] = list(items_to_instrument)\n",
    "        self.instrumented_items: Set[Any] = set()\n",
    "\n",
    "        if globals is None:\n",
    "            globals = self.caller_globals()\n",
    "        self.globals = globals\n",
    "\n",
    "    def __enter__(self) -> Any:\n",
    "        \"\"\"Instrument sources\"\"\"\n",
    "        items = self.items_to_instrument\n",
    "        if not items:\n",
    "            items = self.default_items_to_instrument()\n",
    "\n",
    "        for item in items:\n",
    "            self.instrument(item)\n",
    "\n",
    "        return self\n",
    "\n",
    "    def default_items_to_instrument(self) -> List[Callable]:\n",
    "        return []\n",
    "\n",
    "    def instrument(self, item: Any) -> Any:\n",
    "        \"\"\"Instrument `item`. To be overloaded in subclasses.\"\"\"\n",
    "        if self.log:\n",
    "            print(\"Instrumenting\", item)\n",
    "        self.instrumented_items.add(item)\n",
    "        return item"
   ]
  },
  {
   "cell_type": "markdown",
   "metadata": {
    "slideshow": {
     "slide_type": "subslide"
    }
   },
   "source": [
    "At the end of the `with` block, we restore the given functions."
   ]
  },
  {
   "cell_type": "code",
   "execution_count": 185,
   "metadata": {
    "execution": {
     "iopub.execute_input": "2023-02-11T12:18:30.084341Z",
     "iopub.status.busy": "2023-02-11T12:18:30.081014Z",
     "iopub.status.idle": "2023-02-11T12:18:30.085637Z",
     "shell.execute_reply": "2023-02-11T12:18:30.085377Z"
    },
    "slideshow": {
     "slide_type": "fragment"
    }
   },
   "outputs": [],
   "source": [
    "class Instrumenter(Instrumenter):\n",
    "    def __exit__(self, exc_type: Type, exc_value: BaseException,\n",
    "                 traceback: TracebackType) -> Optional[bool]:\n",
    "        \"\"\"Restore sources\"\"\"\n",
    "        self.restore()\n",
    "        return None\n",
    "\n",
    "    def restore(self) -> None:\n",
    "        for item in self.instrumented_items:\n",
    "            self.globals[item.__name__] = item"
   ]
  },
  {
   "cell_type": "markdown",
   "metadata": {
    "slideshow": {
     "slide_type": "fragment"
    }
   },
   "source": [
    "By default, an `Instrumenter` simply outputs a log message:"
   ]
  },
  {
   "cell_type": "code",
   "execution_count": 186,
   "metadata": {
    "execution": {
     "iopub.execute_input": "2023-02-11T12:18:30.089971Z",
     "iopub.status.busy": "2023-02-11T12:18:30.089207Z",
     "iopub.status.idle": "2023-02-11T12:18:30.091436Z",
     "shell.execute_reply": "2023-02-11T12:18:30.091715Z"
    },
    "slideshow": {
     "slide_type": "subslide"
    }
   },
   "outputs": [
    {
     "name": "stdout",
     "output_type": "stream",
     "text": [
      "Instrumenting <function middle at 0x105b94e50>\n"
     ]
    }
   ],
   "source": [
    "with Instrumenter(middle, log=True) as ins:\n",
    "    pass"
   ]
  },
  {
   "cell_type": "markdown",
   "metadata": {
    "slideshow": {
     "slide_type": "subslide"
    }
   },
   "source": [
    "### The Slicer Class"
   ]
  },
  {
   "cell_type": "markdown",
   "metadata": {
    "slideshow": {
     "slide_type": "fragment"
    }
   },
   "source": [
    "The `Slicer` class comes as a subclass of `Instrumenter`. It sets its own dependency tracker (which can be overwritten by setting the `dependency_tracker` keyword argument)."
   ]
  },
  {
   "cell_type": "code",
   "execution_count": 187,
   "metadata": {
    "execution": {
     "iopub.execute_input": "2023-02-11T12:18:30.095140Z",
     "iopub.status.busy": "2023-02-11T12:18:30.093531Z",
     "iopub.status.idle": "2023-02-11T12:18:30.096236Z",
     "shell.execute_reply": "2023-02-11T12:18:30.096539Z"
    },
    "slideshow": {
     "slide_type": "subslide"
    }
   },
   "outputs": [],
   "source": [
    "class Slicer(Instrumenter):\n",
    "    \"\"\"Track dependencies in an execution\"\"\"\n",
    "\n",
    "    def __init__(self, *items_to_instrument: Any,\n",
    "                 dependency_tracker: Optional[DependencyTracker] = None,\n",
    "                 globals: Optional[Dict[str, Any]] = None,\n",
    "                 log: Union[bool, int] = False):\n",
    "        \"\"\"Create a slicer.\n",
    "        `items_to_instrument` are Python functions or modules with source code.\n",
    "        `dependency_tracker` is the tracker to be used (default: DependencyTracker).\n",
    "        `globals` is the namespace to be used(default: caller's `globals()`)\n",
    "        `log`=True or `log` > 0 turns on logging\n",
    "        \"\"\"\n",
    "        super().__init__(*items_to_instrument, globals=globals, log=log)\n",
    "\n",
    "        if dependency_tracker is None:\n",
    "            dependency_tracker = DependencyTracker(log=(log > 1))\n",
    "        self.dependency_tracker = dependency_tracker\n",
    "\n",
    "        self.saved_dependencies = None\n",
    "\n",
    "    def default_items_to_instrument(self) -> List[Callable]:\n",
    "        raise ValueError(\"Need one or more items to instrument\")"
   ]
  },
  {
   "cell_type": "markdown",
   "metadata": {
    "slideshow": {
     "slide_type": "subslide"
    }
   },
   "source": [
    "The `parse()` method parses a given item, returning its AST."
   ]
  },
  {
   "cell_type": "code",
   "execution_count": 188,
   "metadata": {
    "execution": {
     "iopub.execute_input": "2023-02-11T12:18:30.099039Z",
     "iopub.status.busy": "2023-02-11T12:18:30.098724Z",
     "iopub.status.idle": "2023-02-11T12:18:30.100073Z",
     "shell.execute_reply": "2023-02-11T12:18:30.100247Z"
    },
    "slideshow": {
     "slide_type": "fragment"
    }
   },
   "outputs": [],
   "source": [
    "class Slicer(Slicer):\n",
    "    def parse(self, item: Any) -> AST:\n",
    "        \"\"\"Parse `item`, returning its AST\"\"\"\n",
    "        source_lines, lineno = inspect.getsourcelines(item)\n",
    "        source = \"\".join(source_lines)\n",
    "\n",
    "        if self.log >= 2:\n",
    "            print_content(source, '.py', start_line_number=lineno)\n",
    "            print()\n",
    "            print()\n",
    "\n",
    "        tree = ast.parse(source)\n",
    "        ast.increment_lineno(tree, lineno - 1)\n",
    "        return tree"
   ]
  },
  {
   "cell_type": "markdown",
   "metadata": {
    "slideshow": {
     "slide_type": "subslide"
    }
   },
   "source": [
    "The `transform()` method applies the list of transformers defined earlier in this chapter."
   ]
  },
  {
   "cell_type": "code",
   "execution_count": 189,
   "metadata": {
    "execution": {
     "iopub.execute_input": "2023-02-11T12:18:30.103385Z",
     "iopub.status.busy": "2023-02-11T12:18:30.103062Z",
     "iopub.status.idle": "2023-02-11T12:18:30.104394Z",
     "shell.execute_reply": "2023-02-11T12:18:30.104588Z"
    },
    "slideshow": {
     "slide_type": "subslide"
    }
   },
   "outputs": [],
   "source": [
    "class Slicer(Slicer):\n",
    "    def transformers(self) -> List[NodeTransformer]:\n",
    "        \"\"\"List of transformers to apply. To be extended in subclasses.\"\"\"\n",
    "        return [\n",
    "            TrackCallTransformer(),\n",
    "            TrackSetTransformer(),\n",
    "            TrackGetTransformer(),\n",
    "            TrackControlTransformer(),\n",
    "            TrackReturnTransformer(),\n",
    "            TrackParamsTransformer()\n",
    "        ]\n",
    "\n",
    "    def transform(self, tree: AST) -> AST:\n",
    "        \"\"\"Apply transformers on `tree`. May be extended in subclasses.\"\"\"\n",
    "        # Apply transformers\n",
    "        for transformer in self.transformers():\n",
    "            if self.log >= 3:\n",
    "                print(transformer.__class__.__name__ + ':')\n",
    "\n",
    "            transformer.visit(tree)\n",
    "            ast.fix_missing_locations(tree)\n",
    "            if self.log >= 3:\n",
    "                print_content(ast.unparse(tree), '.py')\n",
    "                print()\n",
    "                print()\n",
    "\n",
    "        if 0 < self.log < 3:\n",
    "            print_content(ast.unparse(tree), '.py')\n",
    "            print()\n",
    "            print()\n",
    "\n",
    "        return tree"
   ]
  },
  {
   "cell_type": "markdown",
   "metadata": {
    "slideshow": {
     "slide_type": "subslide"
    }
   },
   "source": [
    "The `execute()` method executes the transformed tree (such that we get the new definitions). We also make the dependency tracker available for the code in the `with` block."
   ]
  },
  {
   "cell_type": "code",
   "execution_count": 190,
   "metadata": {
    "execution": {
     "iopub.execute_input": "2023-02-11T12:18:30.107113Z",
     "iopub.status.busy": "2023-02-11T12:18:30.106616Z",
     "iopub.status.idle": "2023-02-11T12:18:30.107930Z",
     "shell.execute_reply": "2023-02-11T12:18:30.108160Z"
    },
    "slideshow": {
     "slide_type": "subslide"
    }
   },
   "outputs": [],
   "source": [
    "class Slicer(Slicer):\n",
    "    def execute(self, tree: AST, item: Any) -> None:\n",
    "        \"\"\"Compile and execute `tree`. May be extended in subclasses.\"\"\"\n",
    "\n",
    "        # We pass the source file of `item` such that we can retrieve it\n",
    "        # when accessing the location of the new compiled code\n",
    "        source = cast(str, inspect.getsourcefile(item))\n",
    "        code = compile(cast(ast.Module, tree), source, 'exec')\n",
    "\n",
    "        # Enable dependency tracker\n",
    "        self.globals[DATA_TRACKER] = self.dependency_tracker\n",
    "\n",
    "        # Execute the code, resulting in a redefinition of item\n",
    "        exec(code, self.globals)"
   ]
  },
  {
   "cell_type": "markdown",
   "metadata": {
    "slideshow": {
     "slide_type": "subslide"
    }
   },
   "source": [
    "The `instrument()` method puts all these together, first parsing the item into a tree, then transforming and executing the tree."
   ]
  },
  {
   "cell_type": "code",
   "execution_count": 191,
   "metadata": {
    "execution": {
     "iopub.execute_input": "2023-02-11T12:18:30.110526Z",
     "iopub.status.busy": "2023-02-11T12:18:30.110222Z",
     "iopub.status.idle": "2023-02-11T12:18:30.111547Z",
     "shell.execute_reply": "2023-02-11T12:18:30.111837Z"
    },
    "slideshow": {
     "slide_type": "subslide"
    }
   },
   "outputs": [],
   "source": [
    "class Slicer(Slicer):\n",
    "    def instrument(self, item: Any) -> Any:\n",
    "        \"\"\"Instrument `item`, transforming its source code, and re-defining it.\"\"\"\n",
    "        if is_internal(item.__name__):\n",
    "            return item  # Do not instrument `print()` and the like\n",
    "\n",
    "        if inspect.isbuiltin(item):\n",
    "            return item  # No source code\n",
    "\n",
    "        item = super().instrument(item)\n",
    "        tree = self.parse(item)\n",
    "        tree = self.transform(tree)\n",
    "        self.execute(tree, item)\n",
    "\n",
    "        new_item = self.globals[item.__name__]\n",
    "        return new_item"
   ]
  },
  {
   "cell_type": "markdown",
   "metadata": {
    "slideshow": {
     "slide_type": "subslide"
    }
   },
   "source": [
    "When we restore the original definition (after the `with` block), we save the dependency tracker again."
   ]
  },
  {
   "cell_type": "code",
   "execution_count": 192,
   "metadata": {
    "execution": {
     "iopub.execute_input": "2023-02-11T12:18:30.114000Z",
     "iopub.status.busy": "2023-02-11T12:18:30.113698Z",
     "iopub.status.idle": "2023-02-11T12:18:30.114898Z",
     "shell.execute_reply": "2023-02-11T12:18:30.115126Z"
    },
    "slideshow": {
     "slide_type": "fragment"
    }
   },
   "outputs": [],
   "source": [
    "class Slicer(Slicer):\n",
    "    def restore(self) -> None:\n",
    "        \"\"\"Restore original code.\"\"\"\n",
    "        if DATA_TRACKER in self.globals:\n",
    "            self.saved_dependencies = self.globals[DATA_TRACKER]\n",
    "            del self.globals[DATA_TRACKER]\n",
    "\n",
    "        super().restore()"
   ]
  },
  {
   "cell_type": "markdown",
   "metadata": {
    "slideshow": {
     "slide_type": "fragment"
    }
   },
   "source": [
    "Three convenience functions allow us to see the dependencies as (well) dependencies, as code, and as graph. These simply invoke the respective functions on the saved dependencies."
   ]
  },
  {
   "cell_type": "code",
   "execution_count": 193,
   "metadata": {
    "execution": {
     "iopub.execute_input": "2023-02-11T12:18:30.118165Z",
     "iopub.status.busy": "2023-02-11T12:18:30.117820Z",
     "iopub.status.idle": "2023-02-11T12:18:30.119194Z",
     "shell.execute_reply": "2023-02-11T12:18:30.119440Z"
    },
    "slideshow": {
     "slide_type": "subslide"
    }
   },
   "outputs": [],
   "source": [
    "class Slicer(Slicer):\n",
    "    def dependencies(self) -> Dependencies:\n",
    "        \"\"\"Return collected dependencies.\"\"\"\n",
    "        if self.saved_dependencies is None:\n",
    "            return Dependencies({}, {})\n",
    "        return self.saved_dependencies.dependencies()\n",
    "\n",
    "    def code(self, *args: Any, **kwargs: Any) -> None:\n",
    "        \"\"\"Show code of instrumented items, annotated with dependencies.\"\"\"\n",
    "        first = True\n",
    "        for item in self.instrumented_items:\n",
    "            if not first:\n",
    "                print()\n",
    "            self.dependencies().code(item, *args, **kwargs)  # type: ignore\n",
    "            first = False\n",
    "\n",
    "    def graph(self, *args: Any, **kwargs: Any) -> Digraph:\n",
    "        \"\"\"Show dependency graph.\"\"\"\n",
    "        return self.dependencies().graph(*args, **kwargs)  # type: ignore\n",
    "\n",
    "    def _repr_mimebundle_(self, include: Any = None, exclude: Any = None) -> Any:\n",
    "        \"\"\"If the object is output in Jupyter, render dependencies as a SVG graph\"\"\"\n",
    "        return self.graph()._repr_mimebundle_(include, exclude)"
   ]
  },
  {
   "cell_type": "markdown",
   "metadata": {
    "slideshow": {
     "slide_type": "subslide"
    }
   },
   "source": [
    "Let us put `Slicer` into action. We track our `middle()` function:"
   ]
  },
  {
   "cell_type": "code",
   "execution_count": 194,
   "metadata": {
    "execution": {
     "iopub.execute_input": "2023-02-11T12:18:30.125519Z",
     "iopub.status.busy": "2023-02-11T12:18:30.125147Z",
     "iopub.status.idle": "2023-02-11T12:18:30.126839Z",
     "shell.execute_reply": "2023-02-11T12:18:30.127103Z"
    },
    "slideshow": {
     "slide_type": "fragment"
    }
   },
   "outputs": [
    {
     "data": {
      "text/plain": [
       "1"
      ]
     },
     "execution_count": 194,
     "metadata": {},
     "output_type": "execute_result"
    }
   ],
   "source": [
    "with Slicer(middle) as slicer:\n",
    "    m = middle(2, 1, 3)\n",
    "m"
   ]
  },
  {
   "cell_type": "markdown",
   "metadata": {
    "slideshow": {
     "slide_type": "fragment"
    }
   },
   "source": [
    "These are the dependencies in string form (used when printed):"
   ]
  },
  {
   "cell_type": "code",
   "execution_count": 195,
   "metadata": {
    "execution": {
     "iopub.execute_input": "2023-02-11T12:18:30.129923Z",
     "iopub.status.busy": "2023-02-11T12:18:30.129609Z",
     "iopub.status.idle": "2023-02-11T12:18:30.132630Z",
     "shell.execute_reply": "2023-02-11T12:18:30.132822Z"
    },
    "slideshow": {
     "slide_type": "fragment"
    }
   },
   "outputs": [
    {
     "name": "stdout",
     "output_type": "stream",
     "text": [
      "middle():\n",
      "    <test> (2) <= z (1), y (1)\n",
      "    <test> (3) <= x (1), y (1); <- <test> (2)\n",
      "    <test> (5) <= x (1), z (1); <- <test> (3)\n",
      "    <middle() return value> (6) <= y (1); <- <test> (5)\n",
      "\n"
     ]
    }
   ],
   "source": [
    "print(slicer.dependencies())"
   ]
  },
  {
   "cell_type": "markdown",
   "metadata": {
    "slideshow": {
     "slide_type": "fragment"
    }
   },
   "source": [
    "This is the code form:"
   ]
  },
  {
   "cell_type": "code",
   "execution_count": 196,
   "metadata": {
    "execution": {
     "iopub.execute_input": "2023-02-11T12:18:30.135694Z",
     "iopub.status.busy": "2023-02-11T12:18:30.134891Z",
     "iopub.status.idle": "2023-02-11T12:18:30.501433Z",
     "shell.execute_reply": "2023-02-11T12:18:30.501769Z"
    },
    "slideshow": {
     "slide_type": "subslide"
    }
   },
   "outputs": [
    {
     "name": "stdout",
     "output_type": "stream",
     "text": [
      "*    1 \u001b[34mdef\u001b[39;49;00m \u001b[32mmiddle\u001b[39;49;00m(x, y, z):  \u001b[37m# type: ignore\u001b[39;49;00m\u001b[37m\u001b[39;49;00m\n",
      "*    2     \u001b[34mif\u001b[39;49;00m y < z:  \u001b[37m# <= z (1), y (1)\u001b[39;49;00m\u001b[37m\u001b[39;49;00m\n",
      "*    3         \u001b[34mif\u001b[39;49;00m x < y:  \u001b[37m# <= x (1), y (1); <- <test> (2)\u001b[39;49;00m\u001b[37m\u001b[39;49;00m\n",
      "     4             \u001b[34mreturn\u001b[39;49;00m y\u001b[37m\u001b[39;49;00m\n",
      "*    5         \u001b[34melif\u001b[39;49;00m x < z:  \u001b[37m# <= x (1), z (1); <- <test> (3)\u001b[39;49;00m\u001b[37m\u001b[39;49;00m\n",
      "*    6             \u001b[34mreturn\u001b[39;49;00m y  \u001b[37m# <= y (1); <- <test> (5)\u001b[39;49;00m\u001b[37m\u001b[39;49;00m\n",
      "     7     \u001b[34melse\u001b[39;49;00m:\u001b[37m\u001b[39;49;00m\n",
      "     8         \u001b[34mif\u001b[39;49;00m x > y:\u001b[37m\u001b[39;49;00m\n",
      "     9             \u001b[34mreturn\u001b[39;49;00m y\u001b[37m\u001b[39;49;00m\n",
      "    10         \u001b[34melif\u001b[39;49;00m x > z:\u001b[37m\u001b[39;49;00m\n",
      "    11             \u001b[34mreturn\u001b[39;49;00m x\u001b[37m\u001b[39;49;00m\n",
      "    12     \u001b[34mreturn\u001b[39;49;00m z\u001b[37m\u001b[39;49;00m\n"
     ]
    }
   ],
   "source": [
    "slicer.code()"
   ]
  },
  {
   "cell_type": "markdown",
   "metadata": {
    "slideshow": {
     "slide_type": "fragment"
    }
   },
   "source": [
    "And this is the graph form:"
   ]
  },
  {
   "cell_type": "code",
   "execution_count": 197,
   "metadata": {
    "execution": {
     "iopub.execute_input": "2023-02-11T12:18:30.505693Z",
     "iopub.status.busy": "2023-02-11T12:18:30.505173Z",
     "iopub.status.idle": "2023-02-11T12:18:30.798899Z",
     "shell.execute_reply": "2023-02-11T12:18:30.799426Z"
    },
    "slideshow": {
     "slide_type": "subslide"
    }
   },
   "outputs": [
    {
     "data": {
      "image/svg+xml": [
       "<?xml version=\"1.0\" encoding=\"UTF-8\" standalone=\"no\"?>\n",
       "<!DOCTYPE svg PUBLIC \"-//W3C//DTD SVG 1.1//EN\"\n",
       " \"http://www.w3.org/Graphics/SVG/1.1/DTD/svg11.dtd\">\n",
       "<!-- Generated by graphviz version 7.0.2 (20221119.0110)\n",
       " -->\n",
       "<!-- Title: dependencies Pages: 1 -->\n",
       "<svg width=\"464pt\" height=\"352pt\"\n",
       " viewBox=\"0.00 0.00 464.16 352.00\" xmlns=\"http://www.w3.org/2000/svg\" xmlns:xlink=\"http://www.w3.org/1999/xlink\">\n",
       "<g id=\"graph0\" class=\"graph\" transform=\"scale(1 1) rotate(0) translate(4 348)\">\n",
       "<title>dependencies</title>\n",
       "<polygon fill=\"white\" stroke=\"none\" points=\"-4,4 -4,-348 460.16,-348 460.16,4 -4,4\"/>\n",
       "<!-- test_functionmiddleat0x106bd5240_5 -->\n",
       "<g id=\"node1\" class=\"node\">\n",
       "<title>test_functionmiddleat0x106bd5240_5</title>\n",
       "<g id=\"a_node1\"><a xlink:title=\"middle:5\">\n",
       "<polygon fill=\"peachpuff\" stroke=\"black\" points=\"220,-116 146,-116 146,-76 220,-76 220,-116\"/>\n",
       "<text text-anchor=\"start\" x=\"158\" y=\"-101.8\" font-family=\"Courier,monospace\" font-weight=\"bold\" font-style=\"italic\" font-size=\"14.00\">&lt;test&gt;</text>\n",
       "<text text-anchor=\"start\" x=\"154\" y=\"-82.8\" font-family=\"Courier,monospace\" font-size=\"9.00\">elif x &lt; z:</text>\n",
       "</a>\n",
       "</g>\n",
       "</g>\n",
       "<!-- middlereturnvalue_functionmiddleat0x106bd5240_6 -->\n",
       "<g id=\"node7\" class=\"node\">\n",
       "<title>middlereturnvalue_functionmiddleat0x106bd5240_6</title>\n",
       "<g id=\"a_node7\"><a xlink:title=\"middle:6\">\n",
       "<polygon fill=\"peachpuff\" stroke=\"black\" points=\"286,-40 80,-40 80,0 286,0 286,-40\"/>\n",
       "<text text-anchor=\"start\" x=\"88\" y=\"-25.8\" font-family=\"Courier,monospace\" font-weight=\"bold\" font-style=\"italic\" font-size=\"14.00\">&lt;middle() return value&gt;</text>\n",
       "<text text-anchor=\"start\" x=\"161.5\" y=\"-6.8\" font-family=\"Courier,monospace\" font-size=\"9.00\">return y</text>\n",
       "</a>\n",
       "</g>\n",
       "</g>\n",
       "<!-- test_functionmiddleat0x106bd5240_5&#45;&gt;middlereturnvalue_functionmiddleat0x106bd5240_6 -->\n",
       "<g id=\"edge8\" class=\"edge\">\n",
       "<title>test_functionmiddleat0x106bd5240_5&#45;&gt;middlereturnvalue_functionmiddleat0x106bd5240_6</title>\n",
       "<path fill=\"none\" stroke=\"grey\" stroke-dasharray=\"5,2\" d=\"M176.98,-75.56C176.32,-68.25 176.11,-59.75 176.34,-51.67\"/>\n",
       "<polygon fill=\"grey\" stroke=\"grey\" points=\"179.82,-52.01 176.9,-41.82 172.84,-51.61 179.82,-52.01\"/>\n",
       "</g>\n",
       "<!-- test_functionmiddleat0x106bd5240_5&#45;&gt;middlereturnvalue_functionmiddleat0x106bd5240_6 -->\n",
       "<!-- x_functionmiddleat0x106bd5240_1 -->\n",
       "<g id=\"node2\" class=\"node\">\n",
       "<title>x_functionmiddleat0x106bd5240_1</title>\n",
       "<g id=\"a_node2\"><a xlink:title=\"middle:1\">\n",
       "<polygon fill=\"peachpuff\" stroke=\"black\" points=\"440,-268 234,-268 234,-228 440,-228 440,-268\"/>\n",
       "<text text-anchor=\"start\" x=\"332.5\" y=\"-253.8\" font-family=\"Courier,monospace\" font-weight=\"bold\" font-size=\"14.00\">x</text>\n",
       "<text text-anchor=\"start\" x=\"242\" y=\"-234.8\" font-family=\"Courier,monospace\" font-size=\"9.00\">def middle(x, y, z): &#160;# type: ignore</text>\n",
       "</a>\n",
       "</g>\n",
       "</g>\n",
       "<!-- x_functionmiddleat0x106bd5240_1&#45;&gt;test_functionmiddleat0x106bd5240_5 -->\n",
       "<g id=\"edge1\" class=\"edge\">\n",
       "<title>x_functionmiddleat0x106bd5240_1&#45;&gt;test_functionmiddleat0x106bd5240_5</title>\n",
       "<path fill=\"none\" stroke=\"black\" d=\"M317.18,-227.7C290.15,-201.37 241.59,-154.07 210.89,-124.17\"/>\n",
       "<polygon fill=\"black\" stroke=\"black\" points=\"213.43,-121.75 203.83,-117.28 208.55,-126.77 213.43,-121.75\"/>\n",
       "</g>\n",
       "<!-- test_functionmiddleat0x106bd5240_3 -->\n",
       "<g id=\"node4\" class=\"node\">\n",
       "<title>test_functionmiddleat0x106bd5240_3</title>\n",
       "<g id=\"a_node4\"><a xlink:title=\"middle:3\">\n",
       "<polygon fill=\"peachpuff\" stroke=\"black\" points=\"216,-192 150,-192 150,-152 216,-152 216,-192\"/>\n",
       "<text text-anchor=\"start\" x=\"158\" y=\"-177.8\" font-family=\"Courier,monospace\" font-weight=\"bold\" font-style=\"italic\" font-size=\"14.00\">&lt;test&gt;</text>\n",
       "<text text-anchor=\"start\" x=\"159\" y=\"-158.8\" font-family=\"Courier,monospace\" font-size=\"9.00\">if x &lt; y:</text>\n",
       "</a>\n",
       "</g>\n",
       "</g>\n",
       "<!-- x_functionmiddleat0x106bd5240_1&#45;&gt;test_functionmiddleat0x106bd5240_3 -->\n",
       "<g id=\"edge4\" class=\"edge\">\n",
       "<title>x_functionmiddleat0x106bd5240_1&#45;&gt;test_functionmiddleat0x106bd5240_3</title>\n",
       "<path fill=\"none\" stroke=\"black\" d=\"M296.54,-227.56C275.09,-217.25 248.73,-204.58 226.8,-194.05\"/>\n",
       "<polygon fill=\"black\" stroke=\"black\" points=\"228.33,-190.9 217.8,-189.72 225.3,-197.21 228.33,-190.9\"/>\n",
       "</g>\n",
       "<!-- z_functionmiddleat0x106bd5240_1 -->\n",
       "<g id=\"node3\" class=\"node\">\n",
       "<title>z_functionmiddleat0x106bd5240_1</title>\n",
       "<g id=\"a_node3\"><a xlink:title=\"middle:1\">\n",
       "<polygon fill=\"peachpuff\" stroke=\"black\" points=\"430,-344 224,-344 224,-304 430,-304 430,-344\"/>\n",
       "<text text-anchor=\"start\" x=\"322.5\" y=\"-329.8\" font-family=\"Courier,monospace\" font-weight=\"bold\" font-size=\"14.00\">z</text>\n",
       "<text text-anchor=\"start\" x=\"232\" y=\"-310.8\" font-family=\"Courier,monospace\" font-size=\"9.00\">def middle(x, y, z): &#160;# type: ignore</text>\n",
       "</a>\n",
       "</g>\n",
       "</g>\n",
       "<!-- z_functionmiddleat0x106bd5240_1&#45;&gt;test_functionmiddleat0x106bd5240_5 -->\n",
       "<g id=\"edge2\" class=\"edge\">\n",
       "<title>z_functionmiddleat0x106bd5240_1&#45;&gt;test_functionmiddleat0x106bd5240_5</title>\n",
       "<path fill=\"none\" stroke=\"black\" d=\"M404.82,-303.64C422.23,-295.53 438.6,-284.1 449,-268 458.65,-253.07 458.39,-243.09 449,-228 401.38,-151.47 294.46,-118.34 231.64,-105.05\"/>\n",
       "<polygon fill=\"black\" stroke=\"black\" points=\"232.42,-101.64 221.93,-103.09 231.04,-108.5 232.42,-101.64\"/>\n",
       "</g>\n",
       "<!-- test_functionmiddleat0x106bd5240_2 -->\n",
       "<g id=\"node6\" class=\"node\">\n",
       "<title>test_functionmiddleat0x106bd5240_2</title>\n",
       "<g id=\"a_node6\"><a xlink:title=\"middle:2\">\n",
       "<polygon fill=\"peachpuff\" stroke=\"black\" points=\"216,-268 150,-268 150,-228 216,-228 216,-268\"/>\n",
       "<text text-anchor=\"start\" x=\"158\" y=\"-253.8\" font-family=\"Courier,monospace\" font-weight=\"bold\" font-style=\"italic\" font-size=\"14.00\">&lt;test&gt;</text>\n",
       "<text text-anchor=\"start\" x=\"159\" y=\"-234.8\" font-family=\"Courier,monospace\" font-size=\"9.00\">if y &lt; z:</text>\n",
       "</a>\n",
       "</g>\n",
       "</g>\n",
       "<!-- z_functionmiddleat0x106bd5240_1&#45;&gt;test_functionmiddleat0x106bd5240_2 -->\n",
       "<g id=\"edge9\" class=\"edge\">\n",
       "<title>z_functionmiddleat0x106bd5240_1&#45;&gt;test_functionmiddleat0x106bd5240_2</title>\n",
       "<path fill=\"none\" stroke=\"black\" d=\"M283.14,-303.56C264.55,-294.42 243.03,-283.43 224.68,-273.71\"/>\n",
       "<polygon fill=\"black\" stroke=\"black\" points=\"226.37,-270.65 215.91,-269.03 223.08,-276.82 226.37,-270.65\"/>\n",
       "</g>\n",
       "<!-- z_functionmiddleat0x106bd5240_1&#45;&gt;test_functionmiddleat0x106bd5240_2 -->\n",
       "<!-- test_functionmiddleat0x106bd5240_3&#45;&gt;test_functionmiddleat0x106bd5240_5 -->\n",
       "<g id=\"edge3\" class=\"edge\">\n",
       "<title>test_functionmiddleat0x106bd5240_3&#45;&gt;test_functionmiddleat0x106bd5240_5</title>\n",
       "<path fill=\"none\" stroke=\"grey\" stroke-dasharray=\"5,2\" d=\"M176.98,-151.56C176.32,-144.25 176.11,-135.75 176.34,-127.67\"/>\n",
       "<polygon fill=\"grey\" stroke=\"grey\" points=\"179.82,-128.01 176.9,-117.82 172.84,-127.61 179.82,-128.01\"/>\n",
       "</g>\n",
       "<!-- test_functionmiddleat0x106bd5240_3&#45;&gt;test_functionmiddleat0x106bd5240_5 -->\n",
       "<!-- y_functionmiddleat0x106bd5240_1 -->\n",
       "<g id=\"node5\" class=\"node\">\n",
       "<title>y_functionmiddleat0x106bd5240_1</title>\n",
       "<g id=\"a_node5\"><a xlink:title=\"middle:1\">\n",
       "<polygon fill=\"peachpuff\" stroke=\"black\" points=\"206,-344 0,-344 0,-304 206,-304 206,-344\"/>\n",
       "<text text-anchor=\"start\" x=\"98.5\" y=\"-329.8\" font-family=\"Courier,monospace\" font-weight=\"bold\" font-size=\"14.00\">y</text>\n",
       "<text text-anchor=\"start\" x=\"8\" y=\"-310.8\" font-family=\"Courier,monospace\" font-size=\"9.00\">def middle(x, y, z): &#160;# type: ignore</text>\n",
       "</a>\n",
       "</g>\n",
       "</g>\n",
       "<!-- y_functionmiddleat0x106bd5240_1&#45;&gt;test_functionmiddleat0x106bd5240_3 -->\n",
       "<g id=\"edge5\" class=\"edge\">\n",
       "<title>y_functionmiddleat0x106bd5240_1&#45;&gt;test_functionmiddleat0x106bd5240_3</title>\n",
       "<path fill=\"none\" stroke=\"black\" d=\"M108.98,-303.74C115.49,-284.03 126.88,-252.87 141,-228 146.17,-218.89 152.69,-209.61 159.04,-201.32\"/>\n",
       "<polygon fill=\"black\" stroke=\"black\" points=\"161.66,-203.66 165.12,-193.65 156.17,-199.31 161.66,-203.66\"/>\n",
       "</g>\n",
       "<!-- y_functionmiddleat0x106bd5240_1&#45;&gt;test_functionmiddleat0x106bd5240_2 -->\n",
       "<g id=\"edge10\" class=\"edge\">\n",
       "<title>y_functionmiddleat0x106bd5240_1&#45;&gt;test_functionmiddleat0x106bd5240_2</title>\n",
       "<path fill=\"none\" stroke=\"black\" d=\"M124.02,-303.56C133.11,-295.14 143.91,-285.16 153.77,-276.04\"/>\n",
       "<polygon fill=\"black\" stroke=\"black\" points=\"156.05,-278.7 161.01,-269.34 151.29,-273.56 156.05,-278.7\"/>\n",
       "</g>\n",
       "<!-- y_functionmiddleat0x106bd5240_1&#45;&gt;middlereturnvalue_functionmiddleat0x106bd5240_6 -->\n",
       "<g id=\"edge7\" class=\"edge\">\n",
       "<title>y_functionmiddleat0x106bd5240_1&#45;&gt;middlereturnvalue_functionmiddleat0x106bd5240_6</title>\n",
       "<path fill=\"none\" stroke=\"black\" d=\"M102.13,-303.76C100.93,-260.86 102.05,-154.97 137,-76 141.33,-66.22 147.93,-56.81 154.8,-48.62\"/>\n",
       "<polygon fill=\"black\" stroke=\"black\" points=\"157.21,-51.18 161.25,-41.39 151.98,-46.52 157.21,-51.18\"/>\n",
       "</g>\n",
       "<!-- test_functionmiddleat0x106bd5240_2&#45;&gt;test_functionmiddleat0x106bd5240_3 -->\n",
       "<g id=\"edge6\" class=\"edge\">\n",
       "<title>test_functionmiddleat0x106bd5240_2&#45;&gt;test_functionmiddleat0x106bd5240_3</title>\n",
       "<path fill=\"none\" stroke=\"grey\" stroke-dasharray=\"5,2\" d=\"M176.98,-227.56C176.32,-220.25 176.11,-211.75 176.34,-203.67\"/>\n",
       "<polygon fill=\"grey\" stroke=\"grey\" points=\"179.82,-204.01 176.9,-193.82 172.84,-203.61 179.82,-204.01\"/>\n",
       "</g>\n",
       "<!-- test_functionmiddleat0x106bd5240_2&#45;&gt;test_functionmiddleat0x106bd5240_3 -->\n",
       "</g>\n",
       "</svg>\n"
      ],
      "text/plain": [
       "<__main__.Slicer at 0x106900d60>"
      ]
     },
     "execution_count": 197,
     "metadata": {},
     "output_type": "execute_result"
    }
   ],
   "source": [
    "slicer"
   ]
  },
  {
   "cell_type": "markdown",
   "metadata": {
    "slideshow": {
     "slide_type": "fragment"
    }
   },
   "source": [
    "You can also access the raw `repr()` form, which allows you to reconstruct dependencies at any time. (This is how we showed off dependencies at the beginning of this chapter, before even introducing the code that computes them.)"
   ]
  },
  {
   "cell_type": "code",
   "execution_count": 198,
   "metadata": {
    "execution": {
     "iopub.execute_input": "2023-02-11T12:18:30.803838Z",
     "iopub.status.busy": "2023-02-11T12:18:30.803281Z",
     "iopub.status.idle": "2023-02-11T12:18:30.806763Z",
     "shell.execute_reply": "2023-02-11T12:18:30.807007Z"
    },
    "slideshow": {
     "slide_type": "subslide"
    }
   },
   "outputs": [
    {
     "name": "stdout",
     "output_type": "stream",
     "text": [
      "Dependencies(\n",
      "    data={\n",
      "        ('x', (middle, 1)): set(),\n",
      "        ('y', (middle, 1)): set(),\n",
      "        ('z', (middle, 1)): set(),\n",
      "        ('<test>', (middle, 2)): {('z', (middle, 1)), ('y', (middle, 1))},\n",
      "        ('<test>', (middle, 3)): {('x', (middle, 1)), ('y', (middle, 1))},\n",
      "        ('<test>', (middle, 5)): {('x', (middle, 1)), ('z', (middle, 1))},\n",
      "        ('<middle() return value>', (middle, 6)): {('y', (middle, 1))}},\n",
      " control={\n",
      "        ('x', (middle, 1)): set(),\n",
      "        ('y', (middle, 1)): set(),\n",
      "        ('z', (middle, 1)): set(),\n",
      "        ('<test>', (middle, 2)): set(),\n",
      "        ('<test>', (middle, 3)): {('<test>', (middle, 2))},\n",
      "        ('<test>', (middle, 5)): {('<test>', (middle, 3))},\n",
      "        ('<middle() return value>', (middle, 6)): {('<test>', (middle, 5))}})\n"
     ]
    }
   ],
   "source": [
    "print(repr(slicer.dependencies()))"
   ]
  },
  {
   "cell_type": "markdown",
   "metadata": {
    "slideshow": {
     "slide_type": "subslide"
    }
   },
   "source": [
    "### Diagnostics"
   ]
  },
  {
   "cell_type": "markdown",
   "metadata": {
    "slideshow": {
     "slide_type": "fragment"
    }
   },
   "source": [
    "The `Slicer` constructor accepts a `log` argument (default: False), which can be set to show various intermediate results:\n",
    "\n",
    "* `log=True` (or `log=1`): Show instrumented source code\n",
    "* `log=2`: Also log execution\n",
    "* `log=3`: Also log individual transformer steps\n",
    "* `log=4`: Also log source line numbers"
   ]
  },
  {
   "cell_type": "markdown",
   "metadata": {
    "slideshow": {
     "slide_type": "slide"
    }
   },
   "source": [
    "## More Examples"
   ]
  },
  {
   "cell_type": "markdown",
   "metadata": {
    "slideshow": {
     "slide_type": "fragment"
    }
   },
   "source": [
    "Let us demonstrate our `Slicer` class on a few more examples."
   ]
  },
  {
   "cell_type": "markdown",
   "metadata": {
    "slideshow": {
     "slide_type": "subslide"
    }
   },
   "source": [
    "### Square Root"
   ]
  },
  {
   "cell_type": "markdown",
   "metadata": {
    "slideshow": {
     "slide_type": "fragment"
    }
   },
   "source": [
    "The `square_root()` function from [the chapter on assertions](Assertions.ipynb) demonstrates a nice interplay between data and control dependencies."
   ]
  },
  {
   "cell_type": "code",
   "execution_count": 199,
   "metadata": {
    "execution": {
     "iopub.execute_input": "2023-02-11T12:18:30.810504Z",
     "iopub.status.busy": "2023-02-11T12:18:30.809835Z",
     "iopub.status.idle": "2023-02-11T12:18:30.812406Z",
     "shell.execute_reply": "2023-02-11T12:18:30.812677Z"
    },
    "slideshow": {
     "slide_type": "skip"
    }
   },
   "outputs": [],
   "source": [
    "import math"
   ]
  },
  {
   "cell_type": "code",
   "execution_count": 200,
   "metadata": {
    "execution": {
     "iopub.execute_input": "2023-02-11T12:18:30.814834Z",
     "iopub.status.busy": "2023-02-11T12:18:30.814453Z",
     "iopub.status.idle": "2023-02-11T12:18:30.816001Z",
     "shell.execute_reply": "2023-02-11T12:18:30.816316Z"
    },
    "slideshow": {
     "slide_type": "skip"
    }
   },
   "outputs": [],
   "source": [
    "from Assertions import square_root  # minor dependency"
   ]
  },
  {
   "cell_type": "markdown",
   "metadata": {
    "slideshow": {
     "slide_type": "fragment"
    }
   },
   "source": [
    "Here is the original source code:"
   ]
  },
  {
   "cell_type": "code",
   "execution_count": 201,
   "metadata": {
    "execution": {
     "iopub.execute_input": "2023-02-11T12:18:30.843150Z",
     "iopub.status.busy": "2023-02-11T12:18:30.842485Z",
     "iopub.status.idle": "2023-02-11T12:18:30.852312Z",
     "shell.execute_reply": "2023-02-11T12:18:30.852574Z"
    },
    "slideshow": {
     "slide_type": "subslide"
    }
   },
   "outputs": [
    {
     "name": "stdout",
     "output_type": "stream",
     "text": [
      "\u001b[34mdef\u001b[39;49;00m \u001b[32msquare_root\u001b[39;49;00m(x):  \u001b[37m# type: ignore\u001b[39;49;00m\u001b[37m\u001b[39;49;00m\n",
      "    \u001b[34massert\u001b[39;49;00m x >= \u001b[34m0\u001b[39;49;00m  \u001b[37m# precondition\u001b[39;49;00m\u001b[37m\u001b[39;49;00m\n",
      "\u001b[37m\u001b[39;49;00m\n",
      "    approx = \u001b[34mNone\u001b[39;49;00m\u001b[37m\u001b[39;49;00m\n",
      "    guess = x / \u001b[34m2\u001b[39;49;00m\u001b[37m\u001b[39;49;00m\n",
      "    \u001b[34mwhile\u001b[39;49;00m approx != guess:\u001b[37m\u001b[39;49;00m\n",
      "        approx = guess\u001b[37m\u001b[39;49;00m\n",
      "        guess = (approx + x / approx) / \u001b[34m2\u001b[39;49;00m\u001b[37m\u001b[39;49;00m\n",
      "\u001b[37m\u001b[39;49;00m\n",
      "    \u001b[34massert\u001b[39;49;00m math.isclose(approx * approx, x)\u001b[37m\u001b[39;49;00m\n",
      "    \u001b[34mreturn\u001b[39;49;00m approx\u001b[37m\u001b[39;49;00m"
     ]
    }
   ],
   "source": [
    "print_content(inspect.getsource(square_root), '.py')"
   ]
  },
  {
   "cell_type": "markdown",
   "metadata": {
    "slideshow": {
     "slide_type": "fragment"
    }
   },
   "source": [
    "Turning on logging shows the instrumented version:"
   ]
  },
  {
   "cell_type": "code",
   "execution_count": 202,
   "metadata": {
    "execution": {
     "iopub.execute_input": "2023-02-11T12:18:30.881348Z",
     "iopub.status.busy": "2023-02-11T12:18:30.880812Z",
     "iopub.status.idle": "2023-02-11T12:18:30.894187Z",
     "shell.execute_reply": "2023-02-11T12:18:30.894731Z"
    },
    "slideshow": {
     "slide_type": "subslide"
    }
   },
   "outputs": [
    {
     "name": "stdout",
     "output_type": "stream",
     "text": [
      "Instrumenting <function square_root at 0x10688cdc0>\n",
      "\u001b[34mdef\u001b[39;49;00m \u001b[32msquare_root\u001b[39;49;00m(x):\u001b[37m\u001b[39;49;00m\n",
      "    _data.param(\u001b[33m'\u001b[39;49;00m\u001b[33mx\u001b[39;49;00m\u001b[33m'\u001b[39;49;00m, x, pos=\u001b[34m1\u001b[39;49;00m, last=\u001b[34mTrue\u001b[39;49;00m)\u001b[37m\u001b[39;49;00m\n",
      "    \u001b[34massert\u001b[39;49;00m _data.set(\u001b[33m'\u001b[39;49;00m\u001b[33m<assertion>\u001b[39;49;00m\u001b[33m'\u001b[39;49;00m, _data.get(\u001b[33m'\u001b[39;49;00m\u001b[33mx\u001b[39;49;00m\u001b[33m'\u001b[39;49;00m, x) >= \u001b[34m0\u001b[39;49;00m, loads=(_data.get(\u001b[33m'\u001b[39;49;00m\u001b[33mx\u001b[39;49;00m\u001b[33m'\u001b[39;49;00m, x),))\u001b[37m\u001b[39;49;00m\n",
      "    approx = _data.set(\u001b[33m'\u001b[39;49;00m\u001b[33mapprox\u001b[39;49;00m\u001b[33m'\u001b[39;49;00m, \u001b[34mNone\u001b[39;49;00m)\u001b[37m\u001b[39;49;00m\n",
      "    guess = _data.set(\u001b[33m'\u001b[39;49;00m\u001b[33mguess\u001b[39;49;00m\u001b[33m'\u001b[39;49;00m, _data.get(\u001b[33m'\u001b[39;49;00m\u001b[33mx\u001b[39;49;00m\u001b[33m'\u001b[39;49;00m, x) / \u001b[34m2\u001b[39;49;00m)\u001b[37m\u001b[39;49;00m\n",
      "    \u001b[34mwhile\u001b[39;49;00m _data.test(_data.get(\u001b[33m'\u001b[39;49;00m\u001b[33mapprox\u001b[39;49;00m\u001b[33m'\u001b[39;49;00m, approx) != _data.get(\u001b[33m'\u001b[39;49;00m\u001b[33mguess\u001b[39;49;00m\u001b[33m'\u001b[39;49;00m, guess)):\u001b[37m\u001b[39;49;00m\n",
      "        \u001b[34mwith\u001b[39;49;00m _data:\u001b[37m\u001b[39;49;00m\n",
      "            approx = _data.set(\u001b[33m'\u001b[39;49;00m\u001b[33mapprox\u001b[39;49;00m\u001b[33m'\u001b[39;49;00m, _data.get(\u001b[33m'\u001b[39;49;00m\u001b[33mguess\u001b[39;49;00m\u001b[33m'\u001b[39;49;00m, guess))\u001b[37m\u001b[39;49;00m\n",
      "            guess = _data.set(\u001b[33m'\u001b[39;49;00m\u001b[33mguess\u001b[39;49;00m\u001b[33m'\u001b[39;49;00m, (_data.get(\u001b[33m'\u001b[39;49;00m\u001b[33mapprox\u001b[39;49;00m\u001b[33m'\u001b[39;49;00m, approx) + _data.get(\u001b[33m'\u001b[39;49;00m\u001b[33mx\u001b[39;49;00m\u001b[33m'\u001b[39;49;00m, x) / _data.get(\u001b[33m'\u001b[39;49;00m\u001b[33mapprox\u001b[39;49;00m\u001b[33m'\u001b[39;49;00m, approx)) / \u001b[34m2\u001b[39;49;00m)\u001b[37m\u001b[39;49;00m\n",
      "    \u001b[34massert\u001b[39;49;00m _data.set(\u001b[33m'\u001b[39;49;00m\u001b[33m<assertion>\u001b[39;49;00m\u001b[33m'\u001b[39;49;00m, _data.ret(_data.call(_data.get(\u001b[33m'\u001b[39;49;00m\u001b[33mmath\u001b[39;49;00m\u001b[33m'\u001b[39;49;00m, math).isclose)(_data.arg(_data.get(\u001b[33m'\u001b[39;49;00m\u001b[33mapprox\u001b[39;49;00m\u001b[33m'\u001b[39;49;00m, approx) * _data.get(\u001b[33m'\u001b[39;49;00m\u001b[33mapprox\u001b[39;49;00m\u001b[33m'\u001b[39;49;00m, approx), pos=\u001b[34m1\u001b[39;49;00m), _data.arg(_data.get(\u001b[33m'\u001b[39;49;00m\u001b[33mx\u001b[39;49;00m\u001b[33m'\u001b[39;49;00m, x), pos=\u001b[34m2\u001b[39;49;00m))), loads=(_data, _data.get(\u001b[33m'\u001b[39;49;00m\u001b[33mapprox\u001b[39;49;00m\u001b[33m'\u001b[39;49;00m, approx), _data.get(\u001b[33m'\u001b[39;49;00m\u001b[33mx\u001b[39;49;00m\u001b[33m'\u001b[39;49;00m, x), _data.get(\u001b[33m'\u001b[39;49;00m\u001b[33mmath\u001b[39;49;00m\u001b[33m'\u001b[39;49;00m, math)))\u001b[37m\u001b[39;49;00m\n",
      "    \u001b[34mreturn\u001b[39;49;00m _data.set(\u001b[33m'\u001b[39;49;00m\u001b[33m<square_root() return value>\u001b[39;49;00m\u001b[33m'\u001b[39;49;00m, _data.get(\u001b[33m'\u001b[39;49;00m\u001b[33mapprox\u001b[39;49;00m\u001b[33m'\u001b[39;49;00m, approx))\u001b[37m\u001b[39;49;00m\n",
      "\n"
     ]
    }
   ],
   "source": [
    "with Slicer(square_root, log=True) as root_slicer:\n",
    "    y = square_root(2.0)"
   ]
  },
  {
   "cell_type": "markdown",
   "metadata": {
    "slideshow": {
     "slide_type": "subslide"
    }
   },
   "source": [
    "The dependency graph shows how `guess` and `approx` flow into each other until they are the same."
   ]
  },
  {
   "cell_type": "code",
   "execution_count": 203,
   "metadata": {
    "execution": {
     "iopub.execute_input": "2023-02-11T12:18:30.907860Z",
     "iopub.status.busy": "2023-02-11T12:18:30.907466Z",
     "iopub.status.idle": "2023-02-11T12:18:31.227996Z",
     "shell.execute_reply": "2023-02-11T12:18:31.228276Z"
    },
    "slideshow": {
     "slide_type": "fragment"
    }
   },
   "outputs": [
    {
     "data": {
      "image/svg+xml": [
       "<?xml version=\"1.0\" encoding=\"UTF-8\" standalone=\"no\"?>\n",
       "<!DOCTYPE svg PUBLIC \"-//W3C//DTD SVG 1.1//EN\"\n",
       " \"http://www.w3.org/Graphics/SVG/1.1/DTD/svg11.dtd\">\n",
       "<!-- Generated by graphviz version 7.0.2 (20221119.0110)\n",
       " -->\n",
       "<!-- Title: dependencies Pages: 1 -->\n",
       "<svg width=\"631pt\" height=\"580pt\"\n",
       " viewBox=\"0.00 0.00 631.00 580.00\" xmlns=\"http://www.w3.org/2000/svg\" xmlns:xlink=\"http://www.w3.org/1999/xlink\">\n",
       "<g id=\"graph0\" class=\"graph\" transform=\"scale(1 1) rotate(0) translate(4 576)\">\n",
       "<title>dependencies</title>\n",
       "<polygon fill=\"white\" stroke=\"none\" points=\"-4,4 -4,-576 627,-576 627,4 -4,4\"/>\n",
       "<!-- guess_functionsquare_rootat0x106bd5900_58 -->\n",
       "<g id=\"node1\" class=\"node\">\n",
       "<title>guess_functionsquare_rootat0x106bd5900_58</title>\n",
       "<g id=\"a_node1\"><a xlink:title=\"square_root:58\">\n",
       "<polygon fill=\"peachpuff\" stroke=\"black\" points=\"589,-344 504,-344 504,-304 589,-304 589,-344\"/>\n",
       "<text text-anchor=\"start\" x=\"525.5\" y=\"-329.8\" font-family=\"Courier,monospace\" font-weight=\"bold\" font-size=\"14.00\">guess</text>\n",
       "<text text-anchor=\"start\" x=\"512\" y=\"-310.8\" font-family=\"Courier,monospace\" font-size=\"9.00\">guess = x / 2</text>\n",
       "</a>\n",
       "</g>\n",
       "</g>\n",
       "<!-- approx_functionsquare_rootat0x106bd5900_60 -->\n",
       "<g id=\"node3\" class=\"node\">\n",
       "<title>approx_functionsquare_rootat0x106bd5900_60</title>\n",
       "<g id=\"a_node3\"><a xlink:title=\"square_root:60\">\n",
       "<polygon fill=\"peachpuff\" stroke=\"black\" points=\"490.5,-268 400.5,-268 400.5,-228 490.5,-228 490.5,-268\"/>\n",
       "<text text-anchor=\"start\" x=\"420.5\" y=\"-253.8\" font-family=\"Courier,monospace\" font-weight=\"bold\" font-size=\"14.00\">approx</text>\n",
       "<text text-anchor=\"start\" x=\"408.5\" y=\"-234.8\" font-family=\"Courier,monospace\" font-size=\"9.00\">approx = guess</text>\n",
       "</a>\n",
       "</g>\n",
       "</g>\n",
       "<!-- guess_functionsquare_rootat0x106bd5900_58&#45;&gt;approx_functionsquare_rootat0x106bd5900_60 -->\n",
       "<g id=\"edge2\" class=\"edge\">\n",
       "<title>guess_functionsquare_rootat0x106bd5900_58&#45;&gt;approx_functionsquare_rootat0x106bd5900_60</title>\n",
       "<path fill=\"none\" stroke=\"black\" d=\"M519.96,-303.56C508.02,-294.8 493.74,-284.35 480.9,-274.94\"/>\n",
       "<polygon fill=\"black\" stroke=\"black\" points=\"483.22,-272.29 473.08,-269.21 479.08,-277.94 483.22,-272.29\"/>\n",
       "</g>\n",
       "<!-- test_functionsquare_rootat0x106bd5900_59 -->\n",
       "<g id=\"node5\" class=\"node\">\n",
       "<title>test_functionsquare_rootat0x106bd5900_59</title>\n",
       "<g id=\"a_node5\"><a xlink:title=\"square_root:59\">\n",
       "<polygon fill=\"peachpuff\" stroke=\"black\" points=\"579.5,-116 447.5,-116 447.5,-76 579.5,-76 579.5,-116\"/>\n",
       "<text text-anchor=\"start\" x=\"488.5\" y=\"-101.8\" font-family=\"Courier,monospace\" font-weight=\"bold\" font-style=\"italic\" font-size=\"14.00\">&lt;test&gt;</text>\n",
       "<text text-anchor=\"start\" x=\"455.5\" y=\"-82.8\" font-family=\"Courier,monospace\" font-size=\"9.00\">while approx != guess:</text>\n",
       "</a>\n",
       "</g>\n",
       "</g>\n",
       "<!-- guess_functionsquare_rootat0x106bd5900_58&#45;&gt;test_functionsquare_rootat0x106bd5900_59 -->\n",
       "<g id=\"edge13\" class=\"edge\">\n",
       "<title>guess_functionsquare_rootat0x106bd5900_58&#45;&gt;test_functionsquare_rootat0x106bd5900_59</title>\n",
       "<path fill=\"none\" stroke=\"black\" d=\"M539.71,-303.73C530.57,-264.45 517.22,-174.85 513.17,-127.55\"/>\n",
       "<polygon fill=\"black\" stroke=\"black\" points=\"516.67,-127.44 512.44,-117.73 509.69,-127.96 516.67,-127.44\"/>\n",
       "</g>\n",
       "<!-- guess_functionsquare_rootat0x106bd5900_58&#45;&gt;test_functionsquare_rootat0x106bd5900_59 -->\n",
       "<!-- x_functionsquare_rootat0x106bd5900_54 -->\n",
       "<g id=\"node2\" class=\"node\">\n",
       "<title>x_functionsquare_rootat0x106bd5900_54</title>\n",
       "<g id=\"a_node2\"><a xlink:title=\"square_root:54\">\n",
       "<polygon fill=\"peachpuff\" stroke=\"black\" points=\"525.5,-572 325.5,-572 325.5,-532 525.5,-532 525.5,-572\"/>\n",
       "<text text-anchor=\"start\" x=\"421\" y=\"-557.8\" font-family=\"Courier,monospace\" font-weight=\"bold\" font-size=\"14.00\">x</text>\n",
       "<text text-anchor=\"start\" x=\"333.5\" y=\"-538.8\" font-family=\"Courier,monospace\" font-size=\"9.00\">def square_root(x): &#160;# type: ignore</text>\n",
       "</a>\n",
       "</g>\n",
       "</g>\n",
       "<!-- x_functionsquare_rootat0x106bd5900_54&#45;&gt;guess_functionsquare_rootat0x106bd5900_58 -->\n",
       "<g id=\"edge1\" class=\"edge\">\n",
       "<title>x_functionsquare_rootat0x106bd5900_54&#45;&gt;guess_functionsquare_rootat0x106bd5900_58</title>\n",
       "<path fill=\"none\" stroke=\"black\" d=\"M427.41,-531.81C429.85,-512.17 435.07,-481.05 445.5,-456 462.29,-415.69 494.77,-377.04 518.38,-352.31\"/>\n",
       "<polygon fill=\"black\" stroke=\"black\" points=\"520.79,-354.85 525.26,-345.24 515.78,-349.96 520.79,-354.85\"/>\n",
       "</g>\n",
       "<!-- guess_functionsquare_rootat0x106bd5900_61 -->\n",
       "<g id=\"node4\" class=\"node\">\n",
       "<title>guess_functionsquare_rootat0x106bd5900_61</title>\n",
       "<g id=\"a_node4\"><a xlink:title=\"square_root:61\">\n",
       "<polygon fill=\"peachpuff\" stroke=\"black\" points=\"467.5,-192 277.5,-192 277.5,-152 467.5,-152 467.5,-192\"/>\n",
       "<text text-anchor=\"start\" x=\"351.5\" y=\"-177.8\" font-family=\"Courier,monospace\" font-weight=\"bold\" font-size=\"14.00\">guess</text>\n",
       "<text text-anchor=\"start\" x=\"285.5\" y=\"-158.8\" font-family=\"Courier,monospace\" font-size=\"9.00\">guess = (approx + x / approx) / 2</text>\n",
       "</a>\n",
       "</g>\n",
       "</g>\n",
       "<!-- x_functionsquare_rootat0x106bd5900_54&#45;&gt;guess_functionsquare_rootat0x106bd5900_61 -->\n",
       "<g id=\"edge7\" class=\"edge\">\n",
       "<title>x_functionsquare_rootat0x106bd5900_54&#45;&gt;guess_functionsquare_rootat0x106bd5900_61</title>\n",
       "<path fill=\"none\" stroke=\"black\" d=\"M414,-531.87C398.41,-504.08 372.5,-450.44 372.5,-401 372.5,-401 372.5,-401 372.5,-323 372.5,-281.8 372.5,-234.24 372.5,-203.91\"/>\n",
       "<polygon fill=\"black\" stroke=\"black\" points=\"376,-203.93 372.5,-193.93 369,-203.93 376,-203.93\"/>\n",
       "</g>\n",
       "<!-- assertion_functionsquare_rootat0x106bd5900_55 -->\n",
       "<g id=\"node6\" class=\"node\">\n",
       "<title>assertion_functionsquare_rootat0x106bd5900_55</title>\n",
       "<g id=\"a_node6\"><a xlink:title=\"square_root:55\">\n",
       "<polygon fill=\"peachpuff\" stroke=\"black\" points=\"623,-496 454,-496 454,-456 623,-456 623,-496\"/>\n",
       "<text text-anchor=\"start\" x=\"493\" y=\"-481.8\" font-family=\"Courier,monospace\" font-weight=\"bold\" font-style=\"italic\" font-size=\"14.00\">&lt;assertion&gt;</text>\n",
       "<text text-anchor=\"start\" x=\"462\" y=\"-462.8\" font-family=\"Courier,monospace\" font-size=\"9.00\">assert x &gt;= 0 &#160;# precondition</text>\n",
       "</a>\n",
       "</g>\n",
       "</g>\n",
       "<!-- x_functionsquare_rootat0x106bd5900_54&#45;&gt;assertion_functionsquare_rootat0x106bd5900_55 -->\n",
       "<g id=\"edge5\" class=\"edge\">\n",
       "<title>x_functionsquare_rootat0x106bd5900_54&#45;&gt;assertion_functionsquare_rootat0x106bd5900_55</title>\n",
       "<path fill=\"none\" stroke=\"black\" d=\"M449.17,-531.56C461.99,-522.63 478.18,-511.94 493.28,-502.39\"/>\n",
       "<polygon fill=\"black\" stroke=\"black\" points=\"495.09,-505.39 501.71,-497.12 491.38,-499.45 495.09,-505.39\"/>\n",
       "</g>\n",
       "<!-- x_functionsquare_rootat0x106bd5900_54&#45;&gt;assertion_functionsquare_rootat0x106bd5900_55 -->\n",
       "<!-- assertion_functionsquare_rootat0x106bd5900_63 -->\n",
       "<g id=\"node8\" class=\"node\">\n",
       "<title>assertion_functionsquare_rootat0x106bd5900_63</title>\n",
       "<g id=\"a_node8\"><a xlink:title=\"square_root:63\">\n",
       "<polygon fill=\"peachpuff\" stroke=\"black\" points=\"221,-116 0,-116 0,-76 221,-76 221,-116\"/>\n",
       "<text text-anchor=\"start\" x=\"65\" y=\"-101.8\" font-family=\"Courier,monospace\" font-weight=\"bold\" font-style=\"italic\" font-size=\"14.00\">&lt;assertion&gt;</text>\n",
       "<text text-anchor=\"start\" x=\"8\" y=\"-82.8\" font-family=\"Courier,monospace\" font-size=\"9.00\">assert math.isclose(approx * approx, x)</text>\n",
       "</a>\n",
       "</g>\n",
       "</g>\n",
       "<!-- x_functionsquare_rootat0x106bd5900_54&#45;&gt;assertion_functionsquare_rootat0x106bd5900_63 -->\n",
       "<g id=\"edge10\" class=\"edge\">\n",
       "<title>x_functionsquare_rootat0x106bd5900_54&#45;&gt;assertion_functionsquare_rootat0x106bd5900_63</title>\n",
       "<path fill=\"none\" stroke=\"black\" d=\"M325.11,-541.83C238.24,-527.71 126.5,-491.89 126.5,-401 126.5,-401 126.5,-401 126.5,-247 126.5,-205.38 120.34,-157.64 115.66,-127.4\"/>\n",
       "<polygon fill=\"black\" stroke=\"black\" points=\"119.16,-127.16 114.13,-117.84 112.25,-128.27 119.16,-127.16\"/>\n",
       "</g>\n",
       "<!-- approx_functionsquare_rootat0x106bd5900_60&#45;&gt;guess_functionsquare_rootat0x106bd5900_61 -->\n",
       "<g id=\"edge6\" class=\"edge\">\n",
       "<title>approx_functionsquare_rootat0x106bd5900_60&#45;&gt;guess_functionsquare_rootat0x106bd5900_61</title>\n",
       "<path fill=\"none\" stroke=\"black\" d=\"M414.27,-227.56C404.77,-219.4 394.9,-209.76 386.87,-200.87\"/>\n",
       "<polygon fill=\"black\" stroke=\"black\" points=\"389.68,-198.78 380.51,-193.46 384.37,-203.33 389.68,-198.78\"/>\n",
       "</g>\n",
       "<!-- approx_functionsquare_rootat0x106bd5900_60&#45;&gt;guess_functionsquare_rootat0x106bd5900_61 -->\n",
       "<!-- approx_functionsquare_rootat0x106bd5900_60&#45;&gt;test_functionsquare_rootat0x106bd5900_59 -->\n",
       "<g id=\"edge14\" class=\"edge\">\n",
       "<title>approx_functionsquare_rootat0x106bd5900_60&#45;&gt;test_functionsquare_rootat0x106bd5900_59</title>\n",
       "<path fill=\"none\" stroke=\"black\" d=\"M441.33,-227.5C445.47,-217.14 452.78,-204.09 458.5,-192 468.68,-170.5 478.37,-145.4 487.88,-126.4\"/>\n",
       "<polygon fill=\"black\" stroke=\"black\" points=\"490.96,-128.06 492.59,-117.6 484.78,-124.76 490.96,-128.06\"/>\n",
       "</g>\n",
       "<!-- approx_functionsquare_rootat0x106bd5900_60&#45;&gt;assertion_functionsquare_rootat0x106bd5900_63 -->\n",
       "<g id=\"edge9\" class=\"edge\">\n",
       "<title>approx_functionsquare_rootat0x106bd5900_60&#45;&gt;assertion_functionsquare_rootat0x106bd5900_63</title>\n",
       "<path fill=\"none\" stroke=\"black\" d=\"M400.28,-240.45C356.49,-232.9 289.04,-218.06 235.5,-192 199.05,-174.26 162.76,-145.06 138.75,-123.71\"/>\n",
       "<polygon fill=\"black\" stroke=\"black\" points=\"141.37,-121.36 131.6,-117.25 136.67,-126.56 141.37,-121.36\"/>\n",
       "</g>\n",
       "<!-- square_rootreturnvalue_functionsquare_rootat0x106bd5900_64 -->\n",
       "<g id=\"node9\" class=\"node\">\n",
       "<title>square_rootreturnvalue_functionsquare_rootat0x106bd5900_64</title>\n",
       "<g id=\"a_node9\"><a xlink:title=\"square_root:64\">\n",
       "<polygon fill=\"peachpuff\" stroke=\"black\" points=\"303.5,-40 55.5,-40 55.5,0 303.5,0 303.5,-40\"/>\n",
       "<text text-anchor=\"start\" x=\"63.5\" y=\"-25.8\" font-family=\"Courier,monospace\" font-weight=\"bold\" font-style=\"italic\" font-size=\"14.00\">&lt;square_root() return value&gt;</text>\n",
       "<text text-anchor=\"start\" x=\"145\" y=\"-6.8\" font-family=\"Courier,monospace\" font-size=\"9.00\">return approx</text>\n",
       "</a>\n",
       "</g>\n",
       "</g>\n",
       "<!-- approx_functionsquare_rootat0x106bd5900_60&#45;&gt;square_rootreturnvalue_functionsquare_rootat0x106bd5900_64 -->\n",
       "<g id=\"edge11\" class=\"edge\">\n",
       "<title>approx_functionsquare_rootat0x106bd5900_60&#45;&gt;square_rootreturnvalue_functionsquare_rootat0x106bd5900_64</title>\n",
       "<path fill=\"none\" stroke=\"black\" d=\"M400.02,-244.28C360.32,-239.53 303.69,-226.66 268.5,-192 229.85,-153.93 258.03,-122.75 230.5,-76 224.76,-66.26 217.05,-56.79 209.36,-48.54\"/>\n",
       "<polygon fill=\"black\" stroke=\"black\" points=\"211.99,-46.22 202.5,-41.51 206.98,-51.11 211.99,-46.22\"/>\n",
       "</g>\n",
       "<!-- guess_functionsquare_rootat0x106bd5900_61&#45;&gt;approx_functionsquare_rootat0x106bd5900_60 -->\n",
       "<g id=\"edge3\" class=\"edge\">\n",
       "<title>guess_functionsquare_rootat0x106bd5900_61&#45;&gt;approx_functionsquare_rootat0x106bd5900_60</title>\n",
       "<path fill=\"none\" stroke=\"black\" d=\"M391.55,-192.31C399.75,-200.62 409.49,-210.49 418.41,-219.54\"/>\n",
       "<polygon fill=\"black\" stroke=\"black\" points=\"415.74,-221.82 425.26,-226.48 420.73,-216.9 415.74,-221.82\"/>\n",
       "</g>\n",
       "<!-- guess_functionsquare_rootat0x106bd5900_61&#45;&gt;test_functionsquare_rootat0x106bd5900_59 -->\n",
       "<g id=\"edge12\" class=\"edge\">\n",
       "<title>guess_functionsquare_rootat0x106bd5900_61&#45;&gt;test_functionsquare_rootat0x106bd5900_59</title>\n",
       "<path fill=\"none\" stroke=\"black\" d=\"M403.52,-151.56C420.2,-142.37 441.15,-131.31 460.31,-121.56\"/>\n",
       "<polygon fill=\"black\" stroke=\"black\" points=\"461.74,-124.76 469.08,-117.12 458.58,-118.51 461.74,-124.76\"/>\n",
       "</g>\n",
       "<!-- guess_functionsquare_rootat0x106bd5900_61&#45;&gt;assertion_functionsquare_rootat0x106bd5900_63 -->\n",
       "<!-- test_functionsquare_rootat0x106bd5900_59&#45;&gt;approx_functionsquare_rootat0x106bd5900_60 -->\n",
       "<g id=\"edge4\" class=\"edge\">\n",
       "<title>test_functionsquare_rootat0x106bd5900_59&#45;&gt;approx_functionsquare_rootat0x106bd5900_60</title>\n",
       "<path fill=\"none\" stroke=\"grey\" stroke-dasharray=\"5,2\" d=\"M506.91,-116.26C500.04,-135.69 488.62,-166.41 476.5,-192 472.48,-200.5 467.67,-209.48 463.05,-217.66\"/>\n",
       "<polygon fill=\"grey\" stroke=\"grey\" points=\"460.1,-215.78 458.14,-226.19 466.16,-219.27 460.1,-215.78\"/>\n",
       "</g>\n",
       "<!-- test_functionsquare_rootat0x106bd5900_59&#45;&gt;approx_functionsquare_rootat0x106bd5900_60 -->\n",
       "<!-- test_functionsquare_rootat0x106bd5900_59&#45;&gt;guess_functionsquare_rootat0x106bd5900_61 -->\n",
       "<g id=\"edge8\" class=\"edge\">\n",
       "<title>test_functionsquare_rootat0x106bd5900_59&#45;&gt;guess_functionsquare_rootat0x106bd5900_61</title>\n",
       "<path fill=\"none\" stroke=\"grey\" stroke-dasharray=\"5,2\" d=\"M482.71,-116.31C466.01,-125.51 444.97,-136.63 425.73,-146.42\"/>\n",
       "<polygon fill=\"grey\" stroke=\"grey\" points=\"424.27,-143.24 416.92,-150.87 427.42,-149.49 424.27,-143.24\"/>\n",
       "</g>\n",
       "<!-- approx_functionsquare_rootat0x106bd5900_57 -->\n",
       "<g id=\"node7\" class=\"node\">\n",
       "<title>approx_functionsquare_rootat0x106bd5900_57</title>\n",
       "<g id=\"a_node7\"><a xlink:title=\"square_root:57\">\n",
       "<polygon fill=\"peachpuff\" stroke=\"black\" points=\"589,-420 504,-420 504,-380 589,-380 589,-420\"/>\n",
       "<text text-anchor=\"start\" x=\"521.5\" y=\"-405.8\" font-family=\"Courier,monospace\" font-weight=\"bold\" font-size=\"14.00\">approx</text>\n",
       "<text text-anchor=\"start\" x=\"512\" y=\"-386.8\" font-family=\"Courier,monospace\" font-size=\"9.00\">approx = None</text>\n",
       "</a>\n",
       "</g>\n",
       "</g>\n",
       "<!-- assertion_functionsquare_rootat0x106bd5900_55&#45;&gt;approx_functionsquare_rootat0x106bd5900_57 -->\n",
       "<!-- approx_functionsquare_rootat0x106bd5900_57&#45;&gt;guess_functionsquare_rootat0x106bd5900_58 -->\n",
       "<!-- approx_functionsquare_rootat0x106bd5900_57&#45;&gt;test_functionsquare_rootat0x106bd5900_59 -->\n",
       "<g id=\"edge15\" class=\"edge\">\n",
       "<title>approx_functionsquare_rootat0x106bd5900_57&#45;&gt;test_functionsquare_rootat0x106bd5900_59</title>\n",
       "<path fill=\"none\" stroke=\"black\" d=\"M571.91,-379.6C582.24,-370.13 593.01,-357.8 598.5,-344 605.07,-327.48 601.36,-321.55 598.5,-304 587.02,-233.67 577.77,-216.51 547.5,-152 543.4,-143.26 538.21,-134.18 533.14,-125.98\"/>\n",
       "<polygon fill=\"black\" stroke=\"black\" points=\"536.23,-124.31 527.89,-117.77 530.33,-128.08 536.23,-124.31\"/>\n",
       "</g>\n",
       "<!-- assertion_functionsquare_rootat0x106bd5900_63&#45;&gt;square_rootreturnvalue_functionsquare_rootat0x106bd5900_64 -->\n",
       "</g>\n",
       "</svg>\n"
      ],
      "text/plain": [
       "<__main__.Slicer at 0x107cee590>"
      ]
     },
     "execution_count": 203,
     "metadata": {},
     "output_type": "execute_result"
    }
   ],
   "source": [
    "root_slicer"
   ]
  },
  {
   "cell_type": "markdown",
   "metadata": {
    "slideshow": {
     "slide_type": "fragment"
    }
   },
   "source": [
    "Again, we can show the code annotated with dependencies:"
   ]
  },
  {
   "cell_type": "code",
   "execution_count": 204,
   "metadata": {
    "execution": {
     "iopub.execute_input": "2023-02-11T12:18:31.231082Z",
     "iopub.status.busy": "2023-02-11T12:18:31.230753Z",
     "iopub.status.idle": "2023-02-11T12:18:31.561609Z",
     "shell.execute_reply": "2023-02-11T12:18:31.561863Z"
    },
    "slideshow": {
     "slide_type": "subslide"
    }
   },
   "outputs": [
    {
     "name": "stdout",
     "output_type": "stream",
     "text": [
      "*   54 \u001b[34mdef\u001b[39;49;00m \u001b[32msquare_root\u001b[39;49;00m(x):  \u001b[37m# type: ignore\u001b[39;49;00m\u001b[37m\u001b[39;49;00m\n",
      "*   55     \u001b[34massert\u001b[39;49;00m x >= \u001b[34m0\u001b[39;49;00m  \u001b[37m# precondition  # <= x (54)\u001b[39;49;00m\u001b[37m\u001b[39;49;00m\n",
      "    56 \u001b[37m\u001b[39;49;00m\n",
      "*   57     approx = \u001b[34mNone\u001b[39;49;00m\u001b[37m\u001b[39;49;00m\n",
      "*   58     guess = x / \u001b[34m2\u001b[39;49;00m  \u001b[37m# <= x (54)\u001b[39;49;00m\u001b[37m\u001b[39;49;00m\n",
      "*   59     \u001b[34mwhile\u001b[39;49;00m approx != guess:  \u001b[37m# <= guess (61), guess (58), approx (60), approx (57)\u001b[39;49;00m\u001b[37m\u001b[39;49;00m\n",
      "*   60         approx = guess  \u001b[37m# <= guess (58), guess (61); <- <test> (59)\u001b[39;49;00m\u001b[37m\u001b[39;49;00m\n",
      "*   61         guess = (approx + x / approx) / \u001b[34m2\u001b[39;49;00m  \u001b[37m# <= approx (60), x (54); <- <test> (59)\u001b[39;49;00m\u001b[37m\u001b[39;49;00m\n",
      "    62 \u001b[37m\u001b[39;49;00m\n",
      "*   63     \u001b[34massert\u001b[39;49;00m math.isclose(approx * approx, x)  \u001b[37m# <= approx (60), x (54)\u001b[39;49;00m\u001b[37m\u001b[39;49;00m\n",
      "*   64     \u001b[34mreturn\u001b[39;49;00m approx  \u001b[37m# <= approx (60)\u001b[39;49;00m\u001b[37m\u001b[39;49;00m\n"
     ]
    }
   ],
   "source": [
    "root_slicer.code()"
   ]
  },
  {
   "cell_type": "markdown",
   "metadata": {
    "slideshow": {
     "slide_type": "subslide"
    }
   },
   "source": [
    "The astute reader may find that a statement `assert p` does not control the following code, although it would be equivalent to `if not p: raise Exception`. Why is that?"
   ]
  },
  {
   "cell_type": "code",
   "execution_count": 205,
   "metadata": {
    "execution": {
     "iopub.execute_input": "2023-02-11T12:18:31.567081Z",
     "iopub.status.busy": "2023-02-11T12:18:31.566689Z",
     "iopub.status.idle": "2023-02-11T12:18:31.568264Z",
     "shell.execute_reply": "2023-02-11T12:18:31.568498Z"
    },
    "slideshow": {
     "slide_type": "fragment"
    }
   },
   "outputs": [
    {
     "data": {
      "text/html": [
       "\n",
       "    \n",
       "    <script>\n",
       "    var bad_answers = new Map();\n",
       "\n",
       "    function answer(quiz_id) {\n",
       "        ans = 0;\n",
       "        for (i = 1;; i++) {\n",
       "            checkbox = document.getElementById(quiz_id + \"-\" + i.toString());\n",
       "            if (!checkbox)\n",
       "                break;\n",
       "            if (checkbox.checked)\n",
       "                ans |= (1 << i);\n",
       "        }\n",
       "        return ans;\n",
       "    }\n",
       "    function check_selection(quiz_id, correct_answer, multiple_choice, hint) {\n",
       "        given_answer = answer(quiz_id);\n",
       "        if (given_answer == correct_answer)\n",
       "        {\n",
       "            document.getElementById(quiz_id + \"-submit\").value = \"Correct!\";\n",
       "            document.getElementById(quiz_id + \"-hint\").innerHTML = \"\";\n",
       "\n",
       "            for (i = 1;; i++) {\n",
       "                checkbox = document.getElementById(quiz_id + \"-\" + i.toString());\n",
       "                label = document.getElementById(quiz_id + \"-\" + i.toString() + \"-label\")\n",
       "                if (!checkbox)\n",
       "                    break;\n",
       "    \n",
       "                if (checkbox.checked) {\n",
       "                    label.style.fontWeight = \"bold\";\n",
       "                }\n",
       "                else {\n",
       "                    label.style.textDecoration = \"line-through\";\n",
       "                }\n",
       "            }\n",
       "        }\n",
       "        else \n",
       "        {\n",
       "            document.getElementById(quiz_id + \"-submit\").value = \"Try again\";\n",
       "            \n",
       "            if (!bad_answers.has(quiz_id)) {\n",
       "                bad_answers.set(quiz_id, 1);\n",
       "            }\n",
       "            else {\n",
       "                bad_answers.set(quiz_id, bad_answers.get(quiz_id) + 1);\n",
       "            }\n",
       "\n",
       "            if (bad_answers.get(quiz_id) >= 2 && hint.length > 0) {\n",
       "                document.getElementById(quiz_id + \"-hint\").innerHTML = \n",
       "                    \"&nbsp;&nbsp;(Hint: <code>\" + hint + \"</code>)\";\n",
       "            }\n",
       "\n",
       "            if (!multiple_choice) {\n",
       "                for (i = 1;; i++) {\n",
       "                    checkbox = document.getElementById(quiz_id + \"-\" + i.toString());\n",
       "                    label = document.getElementById(quiz_id + \"-\" + i.toString() + \"-label\")\n",
       "\n",
       "                    if (!checkbox)\n",
       "                        break;\n",
       "                    if (checkbox.checked) {\n",
       "                        label.style.textDecoration = \"line-through\";\n",
       "                    }\n",
       "                }\n",
       "            }\n",
       "        }\n",
       "    }\n",
       "    function clear_selection(quiz_id) {\n",
       "        document.getElementById(quiz_id + \"-submit\").value = \"Submit\";\n",
       "        document.getElementById(quiz_id + \"-hint\").innerHTML = \"\";\n",
       "    }\n",
       "    </script>\n",
       "    \n",
       "    <div class=\"quiz\">\n",
       "    <h3 class=\"quiz_title\">Quiz</h3>\n",
       "    <p>\n",
       "    <div class=\"quiz_question\">Why don't <code>assert</code> statements induce control dependencies?</div>\n",
       "    </p>\n",
       "    <p>\n",
       "    <div class=\"quiz_options\" title=\"Pick a choice.\">\n",
       "    \n",
       "        <input type=\"radio\" name=\"32b58db8-aa06-11ed-942b-6298cf1a578f\" id=\"32b58db8-aa06-11ed-942b-6298cf1a578f-1\" onclick=\"clear_selection('32b58db8-aa06-11ed-942b-6298cf1a578f')\">\n",
       "        <label id=\"32b58db8-aa06-11ed-942b-6298cf1a578f-1-label\" for=\"32b58db8-aa06-11ed-942b-6298cf1a578f-1\">We have no special handling of <code>raise</code> statements</label><br>\n",
       "    \n",
       "        <input type=\"radio\" name=\"32b58db8-aa06-11ed-942b-6298cf1a578f\" id=\"32b58db8-aa06-11ed-942b-6298cf1a578f-2\" onclick=\"clear_selection('32b58db8-aa06-11ed-942b-6298cf1a578f')\">\n",
       "        <label id=\"32b58db8-aa06-11ed-942b-6298cf1a578f-2-label\" for=\"32b58db8-aa06-11ed-942b-6298cf1a578f-2\">We have no special handling of exceptions</label><br>\n",
       "    \n",
       "        <input type=\"radio\" name=\"32b58db8-aa06-11ed-942b-6298cf1a578f\" id=\"32b58db8-aa06-11ed-942b-6298cf1a578f-3\" onclick=\"clear_selection('32b58db8-aa06-11ed-942b-6298cf1a578f')\">\n",
       "        <label id=\"32b58db8-aa06-11ed-942b-6298cf1a578f-3-label\" for=\"32b58db8-aa06-11ed-942b-6298cf1a578f-3\">Assertions are not supposed to act as controlling mechanisms</label><br>\n",
       "    \n",
       "        <input type=\"radio\" name=\"32b58db8-aa06-11ed-942b-6298cf1a578f\" id=\"32b58db8-aa06-11ed-942b-6298cf1a578f-4\" onclick=\"clear_selection('32b58db8-aa06-11ed-942b-6298cf1a578f')\">\n",
       "        <label id=\"32b58db8-aa06-11ed-942b-6298cf1a578f-4-label\" for=\"32b58db8-aa06-11ed-942b-6298cf1a578f-4\">All of the above</label><br>\n",
       "    \n",
       "    </div>\n",
       "    </p>\n",
       "    <input id=\"32b58db8-aa06-11ed-942b-6298cf1a578f-submit\" type=\"submit\" value=\"Submit\" onclick=\"check_selection('32b58db8-aa06-11ed-942b-6298cf1a578f', 16, 0, '(1 * 1 &lt;&lt; 1 * 1 &lt;&lt; 1 * 1)')\">\n",
       "    <span class=\"quiz_hint\" id=\"32b58db8-aa06-11ed-942b-6298cf1a578f-hint\"></span>\n",
       "    </div>\n",
       "    "
      ],
      "text/plain": [
       "<IPython.core.display.HTML object>"
      ]
     },
     "execution_count": 205,
     "metadata": {},
     "output_type": "execute_result"
    }
   ],
   "source": [
    "quiz(\"Why don't `assert` statements induce control dependencies?\",\n",
    "     [\n",
    "         \"We have no special handling of `raise` statements\",\n",
    "         \"We have no special handling of exceptions\",\n",
    "         \"Assertions are not supposed to act as controlling mechanisms\",\n",
    "         \"All of the above\",\n",
    "     ], '(1 * 1 << 1 * 1 << 1 * 1)')"
   ]
  },
  {
   "cell_type": "markdown",
   "metadata": {
    "slideshow": {
     "slide_type": "subslide"
    }
   },
   "source": [
    "Indeed: we treat assertions as \"neutral\" in the sense that they do not affect the remainder of the program – if they are turned off, they have no effect; and if they are turned on, the remaining program logic should not depend on them. (Our instrumentation also has no special treatment of `raise` or even `return` statements; they should be handled by our `with` blocks, though.)"
   ]
  },
  {
   "cell_type": "code",
   "execution_count": 206,
   "metadata": {
    "execution": {
     "iopub.execute_input": "2023-02-11T12:18:31.570368Z",
     "iopub.status.busy": "2023-02-11T12:18:31.570028Z",
     "iopub.status.idle": "2023-02-11T12:18:31.571323Z",
     "shell.execute_reply": "2023-02-11T12:18:31.571567Z"
    },
    "slideshow": {
     "slide_type": "fragment"
    }
   },
   "outputs": [],
   "source": [
    "# print(repr(root_slicer))"
   ]
  },
  {
   "cell_type": "markdown",
   "metadata": {
    "slideshow": {
     "slide_type": "subslide"
    }
   },
   "source": [
    "### Removing HTML Markup"
   ]
  },
  {
   "cell_type": "markdown",
   "metadata": {
    "slideshow": {
     "slide_type": "fragment"
    }
   },
   "source": [
    "Let us come to our ongoing example, `remove_html_markup()`. This is how its instrumented code looks like:"
   ]
  },
  {
   "cell_type": "code",
   "execution_count": 207,
   "metadata": {
    "execution": {
     "iopub.execute_input": "2023-02-11T12:18:31.580688Z",
     "iopub.status.busy": "2023-02-11T12:18:31.573175Z",
     "iopub.status.idle": "2023-02-11T12:18:31.581958Z",
     "shell.execute_reply": "2023-02-11T12:18:31.582260Z"
    },
    "slideshow": {
     "slide_type": "fragment"
    }
   },
   "outputs": [],
   "source": [
    "with Slicer(remove_html_markup) as rhm_slicer:\n",
    "    s = remove_html_markup(\"<foo>bar</foo>\")"
   ]
  },
  {
   "cell_type": "markdown",
   "metadata": {
    "slideshow": {
     "slide_type": "fragment"
    }
   },
   "source": [
    "The graph is as discussed in the introduction to this chapter:"
   ]
  },
  {
   "cell_type": "code",
   "execution_count": 208,
   "metadata": {
    "execution": {
     "iopub.execute_input": "2023-02-11T12:18:31.596542Z",
     "iopub.status.busy": "2023-02-11T12:18:31.596109Z",
     "iopub.status.idle": "2023-02-11T12:18:31.878394Z",
     "shell.execute_reply": "2023-02-11T12:18:31.878648Z"
    },
    "slideshow": {
     "slide_type": "fragment"
    }
   },
   "outputs": [
    {
     "data": {
      "image/svg+xml": [
       "<?xml version=\"1.0\" encoding=\"UTF-8\" standalone=\"no\"?>\n",
       "<!DOCTYPE svg PUBLIC \"-//W3C//DTD SVG 1.1//EN\"\n",
       " \"http://www.w3.org/Graphics/SVG/1.1/DTD/svg11.dtd\">\n",
       "<!-- Generated by graphviz version 7.0.2 (20221119.0110)\n",
       " -->\n",
       "<!-- Title: dependencies Pages: 1 -->\n",
       "<svg width=\"568pt\" height=\"960pt\"\n",
       " viewBox=\"0.00 0.00 567.50 960.00\" xmlns=\"http://www.w3.org/2000/svg\" xmlns:xlink=\"http://www.w3.org/1999/xlink\">\n",
       "<g id=\"graph0\" class=\"graph\" transform=\"scale(1 1) rotate(0) translate(4 956)\">\n",
       "<title>dependencies</title>\n",
       "<polygon fill=\"white\" stroke=\"none\" points=\"-4,4 -4,-956 563.5,-956 563.5,4 -4,4\"/>\n",
       "<!-- c_functionremove_html_markupat0x106bd5990_243 -->\n",
       "<g id=\"node1\" class=\"node\">\n",
       "<title>c_functionremove_html_markupat0x106bd5990_243</title>\n",
       "<g id=\"a_node1\"><a xlink:title=\"remove_html_markup:243\">\n",
       "<polygon fill=\"peachpuff\" stroke=\"black\" points=\"400,-648 326,-648 326,-608 400,-608 400,-648\"/>\n",
       "<text text-anchor=\"start\" x=\"358.5\" y=\"-633.8\" font-family=\"Courier,monospace\" font-weight=\"bold\" font-size=\"14.00\">c</text>\n",
       "<text text-anchor=\"start\" x=\"334\" y=\"-614.8\" font-family=\"Courier,monospace\" font-size=\"9.00\">for c in s:</text>\n",
       "</a>\n",
       "</g>\n",
       "</g>\n",
       "<!-- test_functionremove_html_markupat0x106bd5990_246 -->\n",
       "<g id=\"node4\" class=\"node\">\n",
       "<title>test_functionremove_html_markupat0x106bd5990_246</title>\n",
       "<g id=\"a_node4\"><a xlink:title=\"remove_html_markup:246\">\n",
       "<polygon fill=\"peachpuff\" stroke=\"black\" points=\"231.5,-572 78.5,-572 78.5,-532 231.5,-532 231.5,-572\"/>\n",
       "<text text-anchor=\"start\" x=\"130\" y=\"-557.8\" font-family=\"Courier,monospace\" font-weight=\"bold\" font-style=\"italic\" font-size=\"14.00\">&lt;test&gt;</text>\n",
       "<text text-anchor=\"start\" x=\"86.5\" y=\"-538.8\" font-family=\"Courier,monospace\" font-size=\"9.00\">if c == &#39;&lt;&#39; and not quote:</text>\n",
       "</a>\n",
       "</g>\n",
       "</g>\n",
       "<!-- c_functionremove_html_markupat0x106bd5990_243&#45;&gt;test_functionremove_html_markupat0x106bd5990_246 -->\n",
       "<g id=\"edge5\" class=\"edge\">\n",
       "<title>c_functionremove_html_markupat0x106bd5990_243&#45;&gt;test_functionremove_html_markupat0x106bd5990_246</title>\n",
       "<path fill=\"none\" stroke=\"black\" d=\"M325.81,-613.77C296.48,-603.33 254.85,-588.52 220.03,-576.14\"/>\n",
       "<polygon fill=\"black\" stroke=\"black\" points=\"221.49,-572.94 210.89,-572.88 219.14,-579.53 221.49,-572.94\"/>\n",
       "</g>\n",
       "<!-- out_functionremove_html_markupat0x106bd5990_253 -->\n",
       "<g id=\"node6\" class=\"node\">\n",
       "<title>out_functionremove_html_markupat0x106bd5990_253</title>\n",
       "<g id=\"a_node6\"><a xlink:title=\"remove_html_markup:253\">\n",
       "<polygon fill=\"peachpuff\" stroke=\"black\" points=\"449.5,-116 364.5,-116 364.5,-76 449.5,-76 449.5,-116\"/>\n",
       "<text text-anchor=\"start\" x=\"394.5\" y=\"-101.8\" font-family=\"Courier,monospace\" font-weight=\"bold\" font-size=\"14.00\">out</text>\n",
       "<text text-anchor=\"start\" x=\"372.5\" y=\"-82.8\" font-family=\"Courier,monospace\" font-size=\"9.00\">out = out + c</text>\n",
       "</a>\n",
       "</g>\n",
       "</g>\n",
       "<!-- c_functionremove_html_markupat0x106bd5990_243&#45;&gt;out_functionremove_html_markupat0x106bd5990_253 -->\n",
       "<g id=\"edge9\" class=\"edge\">\n",
       "<title>c_functionremove_html_markupat0x106bd5990_243&#45;&gt;out_functionremove_html_markupat0x106bd5990_253</title>\n",
       "<path fill=\"none\" stroke=\"black\" d=\"M390.19,-607.54C422.77,-581.73 473,-532.87 473,-477 473,-477 473,-477 473,-247 473,-201.5 447.24,-154.31 427.91,-125.3\"/>\n",
       "<polygon fill=\"black\" stroke=\"black\" points=\"431.05,-123.69 422.5,-117.43 425.28,-127.66 431.05,-123.69\"/>\n",
       "</g>\n",
       "<!-- test_functionremove_html_markupat0x106bd5990_248 -->\n",
       "<g id=\"node9\" class=\"node\">\n",
       "<title>test_functionremove_html_markupat0x106bd5990_248</title>\n",
       "<g id=\"a_node9\"><a xlink:title=\"remove_html_markup:248\">\n",
       "<polygon fill=\"peachpuff\" stroke=\"black\" points=\"405,-420 241,-420 241,-380 405,-380 405,-420\"/>\n",
       "<text text-anchor=\"start\" x=\"298\" y=\"-405.8\" font-family=\"Courier,monospace\" font-weight=\"bold\" font-style=\"italic\" font-size=\"14.00\">&lt;test&gt;</text>\n",
       "<text text-anchor=\"start\" x=\"249\" y=\"-386.8\" font-family=\"Courier,monospace\" font-size=\"9.00\">elif c == &#39;&gt;&#39; and not quote:</text>\n",
       "</a>\n",
       "</g>\n",
       "</g>\n",
       "<!-- c_functionremove_html_markupat0x106bd5990_243&#45;&gt;test_functionremove_html_markupat0x106bd5990_248 -->\n",
       "<g id=\"edge13\" class=\"edge\">\n",
       "<title>c_functionremove_html_markupat0x106bd5990_243&#45;&gt;test_functionremove_html_markupat0x106bd5990_248</title>\n",
       "<path fill=\"none\" stroke=\"black\" d=\"M359.59,-607.73C352.64,-568.45 336.78,-478.85 328.41,-431.55\"/>\n",
       "<polygon fill=\"black\" stroke=\"black\" points=\"331.85,-430.95 326.67,-421.71 324.96,-432.17 331.85,-430.95\"/>\n",
       "</g>\n",
       "<!-- test_functionremove_html_markupat0x106bd5990_250 -->\n",
       "<g id=\"node10\" class=\"node\">\n",
       "<title>test_functionremove_html_markupat0x106bd5990_250</title>\n",
       "<g id=\"a_node10\"><a xlink:title=\"remove_html_markup:250\">\n",
       "<polygon fill=\"peachpuff\" stroke=\"black\" points=\"445,-268 239,-268 239,-228 445,-228 445,-268\"/>\n",
       "<text text-anchor=\"start\" x=\"317\" y=\"-253.8\" font-family=\"Courier,monospace\" font-weight=\"bold\" font-style=\"italic\" font-size=\"14.00\">&lt;test&gt;</text>\n",
       "<text text-anchor=\"start\" x=\"247\" y=\"-234.8\" font-family=\"Courier,monospace\" font-size=\"9.00\">elif (c == &#39;&quot;&#39; or c == &quot;&#39;&quot;) and tag:</text>\n",
       "</a>\n",
       "</g>\n",
       "</g>\n",
       "<!-- c_functionremove_html_markupat0x106bd5990_243&#45;&gt;test_functionremove_html_markupat0x106bd5990_250 -->\n",
       "<g id=\"edge7\" class=\"edge\">\n",
       "<title>c_functionremove_html_markupat0x106bd5990_243&#45;&gt;test_functionremove_html_markupat0x106bd5990_250</title>\n",
       "<path fill=\"none\" stroke=\"black\" d=\"M378.54,-607.96C399.16,-580.69 433,-528.15 433,-477 433,-477 433,-477 433,-399 433,-350.42 397.67,-304.15 371.04,-276.16\"/>\n",
       "<polygon fill=\"black\" stroke=\"black\" points=\"373.67,-273.84 364.17,-269.16 368.68,-278.75 373.67,-273.84\"/>\n",
       "</g>\n",
       "<!-- assertion_functionremove_html_markupat0x106bd5990_244 -->\n",
       "<g id=\"node14\" class=\"node\">\n",
       "<title>assertion_functionremove_html_markupat0x106bd5990_244</title>\n",
       "<g id=\"a_node14\"><a xlink:title=\"remove_html_markup:244\">\n",
       "<polygon fill=\"peachpuff\" stroke=\"black\" points=\"182.5,-268 45.5,-268 45.5,-228 182.5,-228 182.5,-268\"/>\n",
       "<text text-anchor=\"start\" x=\"68.5\" y=\"-253.8\" font-family=\"Courier,monospace\" font-weight=\"bold\" font-style=\"italic\" font-size=\"14.00\">&lt;assertion&gt;</text>\n",
       "<text text-anchor=\"start\" x=\"53.5\" y=\"-234.8\" font-family=\"Courier,monospace\" font-size=\"9.00\">assert tag or not quote</text>\n",
       "</a>\n",
       "</g>\n",
       "</g>\n",
       "<!-- c_functionremove_html_markupat0x106bd5990_243&#45;&gt;assertion_functionremove_html_markupat0x106bd5990_244 -->\n",
       "<!-- s_functionremove_html_markupat0x106bd5990_238 -->\n",
       "<g id=\"node2\" class=\"node\">\n",
       "<title>s_functionremove_html_markupat0x106bd5990_238</title>\n",
       "<g id=\"a_node2\"><a xlink:title=\"remove_html_markup:238\">\n",
       "<polygon fill=\"peachpuff\" stroke=\"black\" points=\"448.5,-952 211.5,-952 211.5,-912 448.5,-912 448.5,-952\"/>\n",
       "<text text-anchor=\"start\" x=\"325.5\" y=\"-937.8\" font-family=\"Courier,monospace\" font-weight=\"bold\" font-size=\"14.00\">s</text>\n",
       "<text text-anchor=\"start\" x=\"219.5\" y=\"-918.8\" font-family=\"Courier,monospace\" font-size=\"9.00\">def remove_html_markup(s): &#160;# type: ignore</text>\n",
       "</a>\n",
       "</g>\n",
       "</g>\n",
       "<!-- s_functionremove_html_markupat0x106bd5990_238&#45;&gt;c_functionremove_html_markupat0x106bd5990_243 -->\n",
       "<g id=\"edge1\" class=\"edge\">\n",
       "<title>s_functionremove_html_markupat0x106bd5990_238&#45;&gt;c_functionremove_html_markupat0x106bd5990_243</title>\n",
       "<path fill=\"none\" stroke=\"black\" d=\"M338.22,-911.78C353.12,-875.76 384.07,-795.3 395,-724 397.69,-706.43 399.63,-701.16 395,-684 392.59,-675.08 388.34,-666.11 383.71,-658.08\"/>\n",
       "<polygon fill=\"black\" stroke=\"black\" points=\"386.79,-656.42 378.54,-649.78 380.85,-660.12 386.79,-656.42\"/>\n",
       "</g>\n",
       "<!-- tag_functionremove_html_markupat0x106bd5990_239 -->\n",
       "<g id=\"node13\" class=\"node\">\n",
       "<title>tag_functionremove_html_markupat0x106bd5990_239</title>\n",
       "<g id=\"a_node13\"><a xlink:title=\"remove_html_markup:239\">\n",
       "<polygon fill=\"peachpuff\" stroke=\"black\" points=\"290,-876 216,-876 216,-836 290,-836 290,-876\"/>\n",
       "<text text-anchor=\"start\" x=\"240.5\" y=\"-861.8\" font-family=\"Courier,monospace\" font-weight=\"bold\" font-size=\"14.00\">tag</text>\n",
       "<text text-anchor=\"start\" x=\"224\" y=\"-842.8\" font-family=\"Courier,monospace\" font-size=\"9.00\">tag = False</text>\n",
       "</a>\n",
       "</g>\n",
       "</g>\n",
       "<!-- s_functionremove_html_markupat0x106bd5990_238&#45;&gt;tag_functionremove_html_markupat0x106bd5990_239 -->\n",
       "<!-- tag_functionremove_html_markupat0x106bd5990_247 -->\n",
       "<g id=\"node3\" class=\"node\">\n",
       "<title>tag_functionremove_html_markupat0x106bd5990_247</title>\n",
       "<g id=\"a_node3\"><a xlink:title=\"remove_html_markup:247\">\n",
       "<polygon fill=\"peachpuff\" stroke=\"black\" points=\"147.5,-496 78.5,-496 78.5,-456 147.5,-456 147.5,-496\"/>\n",
       "<text text-anchor=\"start\" x=\"100.5\" y=\"-481.8\" font-family=\"Courier,monospace\" font-weight=\"bold\" font-size=\"14.00\">tag</text>\n",
       "<text text-anchor=\"start\" x=\"86.5\" y=\"-462.8\" font-family=\"Courier,monospace\" font-size=\"9.00\">tag = True</text>\n",
       "</a>\n",
       "</g>\n",
       "</g>\n",
       "<!-- tag_functionremove_html_markupat0x106bd5990_247&#45;&gt;test_functionremove_html_markupat0x106bd5990_248 -->\n",
       "<!-- test_functionremove_html_markupat0x106bd5990_252 -->\n",
       "<g id=\"node12\" class=\"node\">\n",
       "<title>test_functionremove_html_markupat0x106bd5990_252</title>\n",
       "<g id=\"a_node12\"><a xlink:title=\"remove_html_markup:252\">\n",
       "<polygon fill=\"peachpuff\" stroke=\"black\" points=\"384.5,-192 299.5,-192 299.5,-152 384.5,-152 384.5,-192\"/>\n",
       "<text text-anchor=\"start\" x=\"317\" y=\"-177.8\" font-family=\"Courier,monospace\" font-weight=\"bold\" font-style=\"italic\" font-size=\"14.00\">&lt;test&gt;</text>\n",
       "<text text-anchor=\"start\" x=\"307.5\" y=\"-158.8\" font-family=\"Courier,monospace\" font-size=\"9.00\">elif not tag:</text>\n",
       "</a>\n",
       "</g>\n",
       "</g>\n",
       "<!-- tag_functionremove_html_markupat0x106bd5990_247&#45;&gt;test_functionremove_html_markupat0x106bd5990_252 -->\n",
       "<g id=\"edge16\" class=\"edge\">\n",
       "<title>tag_functionremove_html_markupat0x106bd5990_247&#45;&gt;test_functionremove_html_markupat0x106bd5990_252</title>\n",
       "<path fill=\"none\" stroke=\"black\" d=\"M96.12,-455.62C58.98,-410.59 -22.06,-297.43 36,-228 67.52,-190.31 208.95,-178.41 288.04,-174.68\"/>\n",
       "<polygon fill=\"black\" stroke=\"black\" points=\"287.88,-178.19 297.72,-174.26 287.58,-171.2 287.88,-178.19\"/>\n",
       "</g>\n",
       "<!-- tag_functionremove_html_markupat0x106bd5990_247&#45;&gt;assertion_functionremove_html_markupat0x106bd5990_244 -->\n",
       "<g id=\"edge20\" class=\"edge\">\n",
       "<title>tag_functionremove_html_markupat0x106bd5990_247&#45;&gt;assertion_functionremove_html_markupat0x106bd5990_244</title>\n",
       "<path fill=\"none\" stroke=\"black\" d=\"M113.09,-455.73C113.26,-416.45 113.66,-326.85 113.86,-279.55\"/>\n",
       "<polygon fill=\"black\" stroke=\"black\" points=\"117.36,-279.75 113.91,-269.73 110.36,-279.72 117.36,-279.75\"/>\n",
       "</g>\n",
       "<!-- test_functionremove_html_markupat0x106bd5990_246&#45;&gt;tag_functionremove_html_markupat0x106bd5990_247 -->\n",
       "<g id=\"edge2\" class=\"edge\">\n",
       "<title>test_functionremove_html_markupat0x106bd5990_246&#45;&gt;tag_functionremove_html_markupat0x106bd5990_247</title>\n",
       "<path fill=\"none\" stroke=\"grey\" stroke-dasharray=\"5,2\" d=\"M137.94,-531.56C132.92,-523.91 127.64,-514.96 123.14,-506.55\"/>\n",
       "<polygon fill=\"grey\" stroke=\"grey\" points=\"126.28,-505 118.63,-497.66 120.04,-508.16 126.28,-505\"/>\n",
       "</g>\n",
       "<!-- test_functionremove_html_markupat0x106bd5990_246&#45;&gt;tag_functionremove_html_markupat0x106bd5990_247 -->\n",
       "<!-- test_functionremove_html_markupat0x106bd5990_246&#45;&gt;test_functionremove_html_markupat0x106bd5990_248 -->\n",
       "<g id=\"edge15\" class=\"edge\">\n",
       "<title>test_functionremove_html_markupat0x106bd5990_246&#45;&gt;test_functionremove_html_markupat0x106bd5990_248</title>\n",
       "<path fill=\"none\" stroke=\"grey\" stroke-dasharray=\"5,2\" d=\"M176.62,-531.7C206.15,-505.33 259.24,-457.92 292.72,-428.03\"/>\n",
       "<polygon fill=\"grey\" stroke=\"grey\" points=\"294.94,-430.75 300.07,-421.47 290.28,-425.52 294.94,-430.75\"/>\n",
       "</g>\n",
       "<!-- remove_html_markupreturnvalue_functionremove_html_markupat0x106bd5990_255 -->\n",
       "<g id=\"node5\" class=\"node\">\n",
       "<title>remove_html_markupreturnvalue_functionremove_html_markupat0x106bd5990_255</title>\n",
       "<g id=\"a_node5\"><a xlink:title=\"remove_html_markup:255\">\n",
       "<polygon fill=\"peachpuff\" stroke=\"black\" points=\"559.5,-40 254.5,-40 254.5,0 559.5,0 559.5,-40\"/>\n",
       "<text text-anchor=\"start\" x=\"262.5\" y=\"-25.8\" font-family=\"Courier,monospace\" font-weight=\"bold\" font-style=\"italic\" font-size=\"14.00\">&lt;remove_html_markup() return value&gt;</text>\n",
       "<text text-anchor=\"start\" x=\"380.5\" y=\"-6.8\" font-family=\"Courier,monospace\" font-size=\"9.00\">return out</text>\n",
       "</a>\n",
       "</g>\n",
       "</g>\n",
       "<!-- out_functionremove_html_markupat0x106bd5990_253&#45;&gt;remove_html_markupreturnvalue_functionremove_html_markupat0x106bd5990_255 -->\n",
       "<g id=\"edge3\" class=\"edge\">\n",
       "<title>out_functionremove_html_markupat0x106bd5990_253&#45;&gt;remove_html_markupreturnvalue_functionremove_html_markupat0x106bd5990_255</title>\n",
       "<path fill=\"none\" stroke=\"black\" d=\"M400.98,-75.56C400.32,-68.25 400.11,-59.75 400.34,-51.67\"/>\n",
       "<polygon fill=\"black\" stroke=\"black\" points=\"403.82,-52.01 400.9,-41.82 396.84,-51.61 403.82,-52.01\"/>\n",
       "</g>\n",
       "<!-- out_functionremove_html_markupat0x106bd5990_253&#45;&gt;remove_html_markupreturnvalue_functionremove_html_markupat0x106bd5990_255 -->\n",
       "<!-- out_functionremove_html_markupat0x106bd5990_253&#45;&gt;out_functionremove_html_markupat0x106bd5990_253 -->\n",
       "<g id=\"edge10\" class=\"edge\">\n",
       "<title>out_functionremove_html_markupat0x106bd5990_253&#45;&gt;out_functionremove_html_markupat0x106bd5990_253</title>\n",
       "<path fill=\"none\" stroke=\"black\" d=\"M449.96,-109.97C460.05,-108.82 467.5,-104.16 467.5,-96 467.5,-91.28 465.01,-87.73 460.96,-85.36\"/>\n",
       "<polygon fill=\"black\" stroke=\"black\" points=\"461.99,-82.01 451.41,-82.47 459.97,-88.71 461.99,-82.01\"/>\n",
       "</g>\n",
       "<!-- quote_functionremove_html_markupat0x106bd5990_240 -->\n",
       "<g id=\"node7\" class=\"node\">\n",
       "<title>quote_functionremove_html_markupat0x106bd5990_240</title>\n",
       "<g id=\"a_node7\"><a xlink:title=\"remove_html_markup:240\">\n",
       "<polygon fill=\"peachpuff\" stroke=\"black\" points=\"295.5,-800 210.5,-800 210.5,-760 295.5,-760 295.5,-800\"/>\n",
       "<text text-anchor=\"start\" x=\"232\" y=\"-785.8\" font-family=\"Courier,monospace\" font-weight=\"bold\" font-size=\"14.00\">quote</text>\n",
       "<text text-anchor=\"start\" x=\"218.5\" y=\"-766.8\" font-family=\"Courier,monospace\" font-size=\"9.00\">quote = False</text>\n",
       "</a>\n",
       "</g>\n",
       "</g>\n",
       "<!-- quote_functionremove_html_markupat0x106bd5990_240&#45;&gt;test_functionremove_html_markupat0x106bd5990_246 -->\n",
       "<g id=\"edge6\" class=\"edge\">\n",
       "<title>quote_functionremove_html_markupat0x106bd5990_240&#45;&gt;test_functionremove_html_markupat0x106bd5990_246</title>\n",
       "<path fill=\"none\" stroke=\"black\" d=\"M244.64,-759.73C227.5,-720.2 188.26,-629.71 167.86,-582.65\"/>\n",
       "<polygon fill=\"black\" stroke=\"black\" points=\"171.13,-581.39 163.94,-573.61 164.7,-584.18 171.13,-581.39\"/>\n",
       "</g>\n",
       "<!-- quote_functionremove_html_markupat0x106bd5990_240&#45;&gt;test_functionremove_html_markupat0x106bd5990_248 -->\n",
       "<g id=\"edge14\" class=\"edge\">\n",
       "<title>quote_functionremove_html_markupat0x106bd5990_240&#45;&gt;test_functionremove_html_markupat0x106bd5990_248</title>\n",
       "<path fill=\"none\" stroke=\"black\" d=\"M262.76,-759.66C276,-731.61 298,-677.67 298,-629 298,-629 298,-629 298,-551 298,-509.05 307.63,-461.38 314.94,-431.26\"/>\n",
       "<polygon fill=\"black\" stroke=\"black\" points=\"318.3,-432.27 317.33,-421.71 311.51,-430.56 318.3,-432.27\"/>\n",
       "</g>\n",
       "<!-- out_functionremove_html_markupat0x106bd5990_241 -->\n",
       "<g id=\"node11\" class=\"node\">\n",
       "<title>out_functionremove_html_markupat0x106bd5990_241</title>\n",
       "<g id=\"a_node11\"><a xlink:title=\"remove_html_markup:241\">\n",
       "<polygon fill=\"peachpuff\" stroke=\"black\" points=\"385.5,-724 326.5,-724 326.5,-684 385.5,-684 385.5,-724\"/>\n",
       "<text text-anchor=\"start\" x=\"343.5\" y=\"-709.8\" font-family=\"Courier,monospace\" font-weight=\"bold\" font-size=\"14.00\">out</text>\n",
       "<text text-anchor=\"start\" x=\"334.5\" y=\"-690.8\" font-family=\"Courier,monospace\" font-size=\"9.00\">out = &quot;&quot;</text>\n",
       "</a>\n",
       "</g>\n",
       "</g>\n",
       "<!-- quote_functionremove_html_markupat0x106bd5990_240&#45;&gt;out_functionremove_html_markupat0x106bd5990_241 -->\n",
       "<!-- quote_functionremove_html_markupat0x106bd5990_240&#45;&gt;assertion_functionremove_html_markupat0x106bd5990_244 -->\n",
       "<g id=\"edge21\" class=\"edge\">\n",
       "<title>quote_functionremove_html_markupat0x106bd5990_240&#45;&gt;assertion_functionremove_html_markupat0x106bd5990_244</title>\n",
       "<path fill=\"none\" stroke=\"black\" d=\"M210.44,-768.19C150.92,-750.22 50,-708.1 50,-629 50,-629 50,-629 50,-551 50,-449.64 84.93,-333.22 103.18,-279.31\"/>\n",
       "<polygon fill=\"black\" stroke=\"black\" points=\"106.47,-280.51 106.41,-269.91 99.85,-278.23 106.47,-280.51\"/>\n",
       "</g>\n",
       "<!-- tag_functionremove_html_markupat0x106bd5990_249 -->\n",
       "<g id=\"node8\" class=\"node\">\n",
       "<title>tag_functionremove_html_markupat0x106bd5990_249</title>\n",
       "<g id=\"a_node8\"><a xlink:title=\"remove_html_markup:249\">\n",
       "<polygon fill=\"peachpuff\" stroke=\"black\" points=\"315,-344 241,-344 241,-304 315,-304 315,-344\"/>\n",
       "<text text-anchor=\"start\" x=\"265.5\" y=\"-329.8\" font-family=\"Courier,monospace\" font-weight=\"bold\" font-size=\"14.00\">tag</text>\n",
       "<text text-anchor=\"start\" x=\"249\" y=\"-310.8\" font-family=\"Courier,monospace\" font-size=\"9.00\">tag = False</text>\n",
       "</a>\n",
       "</g>\n",
       "</g>\n",
       "<!-- tag_functionremove_html_markupat0x106bd5990_249&#45;&gt;test_functionremove_html_markupat0x106bd5990_250 -->\n",
       "<!-- tag_functionremove_html_markupat0x106bd5990_249&#45;&gt;test_functionremove_html_markupat0x106bd5990_252 -->\n",
       "<g id=\"edge17\" class=\"edge\">\n",
       "<title>tag_functionremove_html_markupat0x106bd5990_249&#45;&gt;test_functionremove_html_markupat0x106bd5990_252</title>\n",
       "<path fill=\"none\" stroke=\"black\" d=\"M255.01,-303.74C245.32,-294.13 235.12,-281.65 230,-268 223.76,-251.35 220.6,-243.09 230,-228 242.99,-207.14 266.46,-193.97 288.57,-185.77\"/>\n",
       "<polygon fill=\"black\" stroke=\"black\" points=\"289.49,-189.15 297.83,-182.62 287.24,-182.53 289.49,-189.15\"/>\n",
       "</g>\n",
       "<!-- tag_functionremove_html_markupat0x106bd5990_249&#45;&gt;assertion_functionremove_html_markupat0x106bd5990_244 -->\n",
       "<g id=\"edge22\" class=\"edge\">\n",
       "<title>tag_functionremove_html_markupat0x106bd5990_249&#45;&gt;assertion_functionremove_html_markupat0x106bd5990_244</title>\n",
       "<path fill=\"none\" stroke=\"black\" d=\"M240.79,-306.21C219.13,-296.44 191.47,-283.96 167.52,-273.15\"/>\n",
       "<polygon fill=\"black\" stroke=\"black\" points=\"169.09,-270.02 158.54,-269.1 166.21,-276.4 169.09,-270.02\"/>\n",
       "</g>\n",
       "<!-- test_functionremove_html_markupat0x106bd5990_248&#45;&gt;tag_functionremove_html_markupat0x106bd5990_249 -->\n",
       "<g id=\"edge4\" class=\"edge\">\n",
       "<title>test_functionremove_html_markupat0x106bd5990_248&#45;&gt;tag_functionremove_html_markupat0x106bd5990_249</title>\n",
       "<path fill=\"none\" stroke=\"grey\" stroke-dasharray=\"5,2\" d=\"M305.15,-379.56C299.76,-371.82 294.05,-362.76 289.18,-354.26\"/>\n",
       "<polygon fill=\"grey\" stroke=\"grey\" points=\"292.33,-352.73 284.46,-345.64 286.19,-356.09 292.33,-352.73\"/>\n",
       "</g>\n",
       "<!-- test_functionremove_html_markupat0x106bd5990_248&#45;&gt;tag_functionremove_html_markupat0x106bd5990_249 -->\n",
       "<!-- test_functionremove_html_markupat0x106bd5990_248&#45;&gt;test_functionremove_html_markupat0x106bd5990_250 -->\n",
       "<g id=\"edge8\" class=\"edge\">\n",
       "<title>test_functionremove_html_markupat0x106bd5990_248&#45;&gt;test_functionremove_html_markupat0x106bd5990_250</title>\n",
       "<path fill=\"none\" stroke=\"grey\" stroke-dasharray=\"5,2\" d=\"M325.45,-379.7C328.67,-354.27 334.36,-309.28 338.16,-279.29\"/>\n",
       "<polygon fill=\"grey\" stroke=\"grey\" points=\"341.59,-280.09 339.37,-269.73 334.65,-279.21 341.59,-280.09\"/>\n",
       "</g>\n",
       "<!-- test_functionremove_html_markupat0x106bd5990_250&#45;&gt;test_functionremove_html_markupat0x106bd5990_252 -->\n",
       "<g id=\"edge18\" class=\"edge\">\n",
       "<title>test_functionremove_html_markupat0x106bd5990_250&#45;&gt;test_functionremove_html_markupat0x106bd5990_252</title>\n",
       "<path fill=\"none\" stroke=\"grey\" stroke-dasharray=\"5,2\" d=\"M335.98,-227.56C335.32,-220.25 335.11,-211.75 335.34,-203.67\"/>\n",
       "<polygon fill=\"grey\" stroke=\"grey\" points=\"338.82,-204.01 335.9,-193.82 331.84,-203.61 338.82,-204.01\"/>\n",
       "</g>\n",
       "<!-- test_functionremove_html_markupat0x106bd5990_250&#45;&gt;test_functionremove_html_markupat0x106bd5990_252 -->\n",
       "<!-- out_functionremove_html_markupat0x106bd5990_241&#45;&gt;c_functionremove_html_markupat0x106bd5990_243 -->\n",
       "<!-- out_functionremove_html_markupat0x106bd5990_241&#45;&gt;out_functionremove_html_markupat0x106bd5990_253 -->\n",
       "<g id=\"edge11\" class=\"edge\">\n",
       "<title>out_functionremove_html_markupat0x106bd5990_241&#45;&gt;out_functionremove_html_markupat0x106bd5990_253</title>\n",
       "<path fill=\"none\" stroke=\"black\" d=\"M385.89,-690.43C430.93,-669.25 511,-621.9 511,-553 511,-553 511,-553 511,-247 511,-196.82 471.2,-151.32 440.84,-123.91\"/>\n",
       "<polygon fill=\"black\" stroke=\"black\" points=\"443.15,-121.28 433.32,-117.34 438.54,-126.55 443.15,-121.28\"/>\n",
       "</g>\n",
       "<!-- test_functionremove_html_markupat0x106bd5990_252&#45;&gt;out_functionremove_html_markupat0x106bd5990_253 -->\n",
       "<g id=\"edge12\" class=\"edge\">\n",
       "<title>test_functionremove_html_markupat0x106bd5990_252&#45;&gt;out_functionremove_html_markupat0x106bd5990_253</title>\n",
       "<path fill=\"none\" stroke=\"grey\" stroke-dasharray=\"5,2\" d=\"M353.05,-151.56C359.56,-143.31 367.95,-133.56 376.21,-124.59\"/>\n",
       "<polygon fill=\"grey\" stroke=\"grey\" points=\"378.67,-127.09 382.99,-117.41 373.58,-122.28 378.67,-127.09\"/>\n",
       "</g>\n",
       "<!-- test_functionremove_html_markupat0x106bd5990_252&#45;&gt;out_functionremove_html_markupat0x106bd5990_253 -->\n",
       "<!-- tag_functionremove_html_markupat0x106bd5990_239&#45;&gt;quote_functionremove_html_markupat0x106bd5990_240 -->\n",
       "<!-- tag_functionremove_html_markupat0x106bd5990_239&#45;&gt;assertion_functionremove_html_markupat0x106bd5990_244 -->\n",
       "<g id=\"edge19\" class=\"edge\">\n",
       "<title>tag_functionremove_html_markupat0x106bd5990_239&#45;&gt;assertion_functionremove_html_markupat0x106bd5990_244</title>\n",
       "<path fill=\"none\" stroke=\"black\" d=\"M215.67,-850.3C145.29,-839.13 0,-804.06 0,-705 0,-705 0,-705 0,-475 0,-396.72 55.19,-317.96 88.77,-277.29\"/>\n",
       "<polygon fill=\"black\" stroke=\"black\" points=\"91.44,-279.55 95.21,-269.65 86.09,-275.04 91.44,-279.55\"/>\n",
       "</g>\n",
       "<!-- assertion_functionremove_html_markupat0x106bd5990_244&#45;&gt;test_functionremove_html_markupat0x106bd5990_246 -->\n",
       "</g>\n",
       "</svg>\n"
      ],
      "text/plain": [
       "<__main__.Slicer at 0x106bc67a0>"
      ]
     },
     "execution_count": 208,
     "metadata": {},
     "output_type": "execute_result"
    }
   ],
   "source": [
    "rhm_slicer"
   ]
  },
  {
   "cell_type": "code",
   "execution_count": 209,
   "metadata": {
    "execution": {
     "iopub.execute_input": "2023-02-11T12:18:31.880802Z",
     "iopub.status.busy": "2023-02-11T12:18:31.880506Z",
     "iopub.status.idle": "2023-02-11T12:18:31.881643Z",
     "shell.execute_reply": "2023-02-11T12:18:31.881881Z"
    },
    "slideshow": {
     "slide_type": "fragment"
    }
   },
   "outputs": [],
   "source": [
    "# print(repr(rhm_slicer.dependencies()))"
   ]
  },
  {
   "cell_type": "code",
   "execution_count": 210,
   "metadata": {
    "execution": {
     "iopub.execute_input": "2023-02-11T12:18:31.909720Z",
     "iopub.status.busy": "2023-02-11T12:18:31.909405Z",
     "iopub.status.idle": "2023-02-11T12:18:32.415275Z",
     "shell.execute_reply": "2023-02-11T12:18:32.415478Z"
    },
    "slideshow": {
     "slide_type": "subslide"
    }
   },
   "outputs": [
    {
     "name": "stdout",
     "output_type": "stream",
     "text": [
      "*  238 \u001b[34mdef\u001b[39;49;00m \u001b[32mremove_html_markup\u001b[39;49;00m(s):  \u001b[37m# type: ignore\u001b[39;49;00m\u001b[37m\u001b[39;49;00m\n",
      "*  239     tag = \u001b[34mFalse\u001b[39;49;00m\u001b[37m\u001b[39;49;00m\n",
      "*  240     quote = \u001b[34mFalse\u001b[39;49;00m\u001b[37m\u001b[39;49;00m\n",
      "*  241     out = \u001b[33m\"\u001b[39;49;00m\u001b[33m\"\u001b[39;49;00m\u001b[37m\u001b[39;49;00m\n",
      "   242 \u001b[37m\u001b[39;49;00m\n",
      "*  243     \u001b[34mfor\u001b[39;49;00m c \u001b[35min\u001b[39;49;00m s:  \u001b[37m# <= s (238)\u001b[39;49;00m\u001b[37m\u001b[39;49;00m\n",
      "*  244         \u001b[34massert\u001b[39;49;00m tag \u001b[35mor\u001b[39;49;00m \u001b[35mnot\u001b[39;49;00m quote  \u001b[37m# <= tag (239), tag (247), quote (240), tag (249)\u001b[39;49;00m\u001b[37m\u001b[39;49;00m\n",
      "   245 \u001b[37m\u001b[39;49;00m\n",
      "*  246         \u001b[34mif\u001b[39;49;00m c == \u001b[33m'\u001b[39;49;00m\u001b[33m<\u001b[39;49;00m\u001b[33m'\u001b[39;49;00m \u001b[35mand\u001b[39;49;00m \u001b[35mnot\u001b[39;49;00m quote:  \u001b[37m# <= c (243), quote (240)\u001b[39;49;00m\u001b[37m\u001b[39;49;00m\n",
      "*  247             tag = \u001b[34mTrue\u001b[39;49;00m  \u001b[37m# <- <test> (246)\u001b[39;49;00m\u001b[37m\u001b[39;49;00m\n",
      "*  248         \u001b[34melif\u001b[39;49;00m c == \u001b[33m'\u001b[39;49;00m\u001b[33m>\u001b[39;49;00m\u001b[33m'\u001b[39;49;00m \u001b[35mand\u001b[39;49;00m \u001b[35mnot\u001b[39;49;00m quote:  \u001b[37m# <= c (243), quote (240); <- <test> (246)\u001b[39;49;00m\u001b[37m\u001b[39;49;00m\n",
      "*  249             tag = \u001b[34mFalse\u001b[39;49;00m  \u001b[37m# <- <test> (248)\u001b[39;49;00m\u001b[37m\u001b[39;49;00m\n",
      "*  250         \u001b[34melif\u001b[39;49;00m (c == \u001b[33m'\u001b[39;49;00m\u001b[33m\"\u001b[39;49;00m\u001b[33m'\u001b[39;49;00m \u001b[35mor\u001b[39;49;00m c == \u001b[33m\"\u001b[39;49;00m\u001b[33m'\u001b[39;49;00m\u001b[33m\"\u001b[39;49;00m) \u001b[35mand\u001b[39;49;00m tag:  \u001b[37m# <= c (243); <- <test> (248)\u001b[39;49;00m\u001b[37m\u001b[39;49;00m\n",
      "   251             quote = \u001b[35mnot\u001b[39;49;00m quote\u001b[37m\u001b[39;49;00m\n",
      "*  252         \u001b[34melif\u001b[39;49;00m \u001b[35mnot\u001b[39;49;00m tag:  \u001b[37m# <= tag (247), tag (249); <- <test> (250)\u001b[39;49;00m\u001b[37m\u001b[39;49;00m\n",
      "*  253             out = out + c  \u001b[37m# <= c (243), out (253), out (241); <- <test> (252)\u001b[39;49;00m\u001b[37m\u001b[39;49;00m\n",
      "   254 \u001b[37m\u001b[39;49;00m\n",
      "*  255     \u001b[34mreturn\u001b[39;49;00m out  \u001b[37m# <= out (253)\u001b[39;49;00m\u001b[37m\u001b[39;49;00m\n"
     ]
    }
   ],
   "source": [
    "rhm_slicer.code()"
   ]
  },
  {
   "cell_type": "markdown",
   "metadata": {
    "slideshow": {
     "slide_type": "subslide"
    }
   },
   "source": [
    "We can also compute slices over the dependencies:"
   ]
  },
  {
   "cell_type": "code",
   "execution_count": 211,
   "metadata": {
    "execution": {
     "iopub.execute_input": "2023-02-11T12:18:32.418194Z",
     "iopub.status.busy": "2023-02-11T12:18:32.417847Z",
     "iopub.status.idle": "2023-02-11T12:18:32.419557Z",
     "shell.execute_reply": "2023-02-11T12:18:32.419730Z"
    },
    "slideshow": {
     "slide_type": "fragment"
    }
   },
   "outputs": [
    {
     "data": {
      "text/plain": [
       "238"
      ]
     },
     "execution_count": 211,
     "metadata": {},
     "output_type": "execute_result"
    }
   ],
   "source": [
    "_, start_remove_html_markup = inspect.getsourcelines(remove_html_markup)\n",
    "start_remove_html_markup"
   ]
  },
  {
   "cell_type": "code",
   "execution_count": 212,
   "metadata": {
    "execution": {
     "iopub.execute_input": "2023-02-11T12:18:32.428600Z",
     "iopub.status.busy": "2023-02-11T12:18:32.428291Z",
     "iopub.status.idle": "2023-02-11T12:18:32.716803Z",
     "shell.execute_reply": "2023-02-11T12:18:32.716998Z"
    },
    "slideshow": {
     "slide_type": "subslide"
    }
   },
   "outputs": [
    {
     "data": {
      "image/svg+xml": [
       "<?xml version=\"1.0\" encoding=\"UTF-8\" standalone=\"no\"?>\n",
       "<!DOCTYPE svg PUBLIC \"-//W3C//DTD SVG 1.1//EN\"\n",
       " \"http://www.w3.org/Graphics/SVG/1.1/DTD/svg11.dtd\">\n",
       "<!-- Generated by graphviz version 7.0.2 (20221119.0110)\n",
       " -->\n",
       "<!-- Title: dependencies Pages: 1 -->\n",
       "<svg width=\"245pt\" height=\"352pt\"\n",
       " viewBox=\"0.00 0.00 245.00 352.00\" xmlns=\"http://www.w3.org/2000/svg\" xmlns:xlink=\"http://www.w3.org/1999/xlink\">\n",
       "<g id=\"graph0\" class=\"graph\" transform=\"scale(1 1) rotate(0) translate(4 348)\">\n",
       "<title>dependencies</title>\n",
       "<polygon fill=\"white\" stroke=\"none\" points=\"-4,4 -4,-348 241,-348 241,4 -4,4\"/>\n",
       "<!-- tag_functionremove_html_markupat0x106bd5990_247 -->\n",
       "<g id=\"node1\" class=\"node\">\n",
       "<title>tag_functionremove_html_markupat0x106bd5990_247</title>\n",
       "<g id=\"a_node1\"><a xlink:title=\"remove_html_markup:247\">\n",
       "<polygon fill=\"peachpuff\" stroke=\"black\" points=\"124,-40 55,-40 55,0 124,0 124,-40\"/>\n",
       "<text text-anchor=\"start\" x=\"77\" y=\"-25.8\" font-family=\"Courier,monospace\" font-weight=\"bold\" font-size=\"14.00\">tag</text>\n",
       "<text text-anchor=\"start\" x=\"63\" y=\"-6.8\" font-family=\"Courier,monospace\" font-size=\"9.00\">tag = True</text>\n",
       "</a>\n",
       "</g>\n",
       "</g>\n",
       "<!-- test_functionremove_html_markupat0x106bd5990_246 -->\n",
       "<g id=\"node2\" class=\"node\">\n",
       "<title>test_functionremove_html_markupat0x106bd5990_246</title>\n",
       "<g id=\"a_node2\"><a xlink:title=\"remove_html_markup:246\">\n",
       "<polygon fill=\"peachpuff\" stroke=\"black\" points=\"166,-116 13,-116 13,-76 166,-76 166,-116\"/>\n",
       "<text text-anchor=\"start\" x=\"64.5\" y=\"-101.8\" font-family=\"Courier,monospace\" font-weight=\"bold\" font-style=\"italic\" font-size=\"14.00\">&lt;test&gt;</text>\n",
       "<text text-anchor=\"start\" x=\"21\" y=\"-82.8\" font-family=\"Courier,monospace\" font-size=\"9.00\">if c == &#39;&lt;&#39; and not quote:</text>\n",
       "</a>\n",
       "</g>\n",
       "</g>\n",
       "<!-- test_functionremove_html_markupat0x106bd5990_246&#45;&gt;tag_functionremove_html_markupat0x106bd5990_247 -->\n",
       "<g id=\"edge1\" class=\"edge\">\n",
       "<title>test_functionremove_html_markupat0x106bd5990_246&#45;&gt;tag_functionremove_html_markupat0x106bd5990_247</title>\n",
       "<path fill=\"none\" stroke=\"grey\" stroke-dasharray=\"5,2\" d=\"M83.48,-75.56C82.82,-68.25 82.61,-59.75 82.84,-51.67\"/>\n",
       "<polygon fill=\"grey\" stroke=\"grey\" points=\"86.32,-52.01 83.4,-41.82 79.34,-51.61 86.32,-52.01\"/>\n",
       "</g>\n",
       "<!-- test_functionremove_html_markupat0x106bd5990_246&#45;&gt;tag_functionremove_html_markupat0x106bd5990_247 -->\n",
       "<!-- c_functionremove_html_markupat0x106bd5990_243 -->\n",
       "<g id=\"node3\" class=\"node\">\n",
       "<title>c_functionremove_html_markupat0x106bd5990_243</title>\n",
       "<g id=\"a_node3\"><a xlink:title=\"remove_html_markup:243\">\n",
       "<polygon fill=\"peachpuff\" stroke=\"black\" points=\"126.5,-192 52.5,-192 52.5,-152 126.5,-152 126.5,-192\"/>\n",
       "<text text-anchor=\"start\" x=\"85\" y=\"-177.8\" font-family=\"Courier,monospace\" font-weight=\"bold\" font-size=\"14.00\">c</text>\n",
       "<text text-anchor=\"start\" x=\"60.5\" y=\"-158.8\" font-family=\"Courier,monospace\" font-size=\"9.00\">for c in s:</text>\n",
       "</a>\n",
       "</g>\n",
       "</g>\n",
       "<!-- c_functionremove_html_markupat0x106bd5990_243&#45;&gt;test_functionremove_html_markupat0x106bd5990_246 -->\n",
       "<g id=\"edge3\" class=\"edge\">\n",
       "<title>c_functionremove_html_markupat0x106bd5990_243&#45;&gt;test_functionremove_html_markupat0x106bd5990_246</title>\n",
       "<path fill=\"none\" stroke=\"black\" d=\"M83.48,-151.56C82.82,-144.25 82.61,-135.75 82.84,-127.67\"/>\n",
       "<polygon fill=\"black\" stroke=\"black\" points=\"86.32,-128.01 83.4,-117.82 79.34,-127.61 86.32,-128.01\"/>\n",
       "</g>\n",
       "<!-- c_functionremove_html_markupat0x106bd5990_243&#45;&gt;test_functionremove_html_markupat0x106bd5990_246 -->\n",
       "<!-- s_functionremove_html_markupat0x106bd5990_238 -->\n",
       "<g id=\"node4\" class=\"node\">\n",
       "<title>s_functionremove_html_markupat0x106bd5990_238</title>\n",
       "<g id=\"a_node4\"><a xlink:title=\"remove_html_markup:238\">\n",
       "<polygon fill=\"peachpuff\" stroke=\"black\" points=\"237,-344 0,-344 0,-304 237,-304 237,-344\"/>\n",
       "<text text-anchor=\"start\" x=\"114\" y=\"-329.8\" font-family=\"Courier,monospace\" font-weight=\"bold\" font-size=\"14.00\">s</text>\n",
       "<text text-anchor=\"start\" x=\"8\" y=\"-310.8\" font-family=\"Courier,monospace\" font-size=\"9.00\">def remove_html_markup(s): &#160;# type: ignore</text>\n",
       "</a>\n",
       "</g>\n",
       "</g>\n",
       "<!-- s_functionremove_html_markupat0x106bd5990_238&#45;&gt;c_functionremove_html_markupat0x106bd5990_243 -->\n",
       "<g id=\"edge2\" class=\"edge\">\n",
       "<title>s_functionremove_html_markupat0x106bd5990_238&#45;&gt;c_functionremove_html_markupat0x106bd5990_243</title>\n",
       "<path fill=\"none\" stroke=\"black\" d=\"M112.09,-303.58C108.84,-293.13 105.04,-279.96 102.5,-268 97.98,-246.76 94.69,-222.51 92.55,-203.82\"/>\n",
       "<polygon fill=\"black\" stroke=\"black\" points=\"96.04,-203.5 91.48,-193.94 89.08,-204.26 96.04,-203.5\"/>\n",
       "</g>\n",
       "<!-- quote_functionremove_html_markupat0x106bd5990_240 -->\n",
       "<g id=\"node5\" class=\"node\">\n",
       "<title>quote_functionremove_html_markupat0x106bd5990_240</title>\n",
       "<g id=\"a_node5\"><a xlink:title=\"remove_html_markup:240\">\n",
       "<polygon fill=\"peachpuff\" stroke=\"black\" points=\"197,-268 112,-268 112,-228 197,-228 197,-268\"/>\n",
       "<text text-anchor=\"start\" x=\"133.5\" y=\"-253.8\" font-family=\"Courier,monospace\" font-weight=\"bold\" font-size=\"14.00\">quote</text>\n",
       "<text text-anchor=\"start\" x=\"120\" y=\"-234.8\" font-family=\"Courier,monospace\" font-size=\"9.00\">quote = False</text>\n",
       "</a>\n",
       "</g>\n",
       "</g>\n",
       "<!-- s_functionremove_html_markupat0x106bd5990_238&#45;&gt;quote_functionremove_html_markupat0x106bd5990_240 -->\n",
       "<!-- quote_functionremove_html_markupat0x106bd5990_240&#45;&gt;test_functionremove_html_markupat0x106bd5990_246 -->\n",
       "<g id=\"edge4\" class=\"edge\">\n",
       "<title>quote_functionremove_html_markupat0x106bd5990_240&#45;&gt;test_functionremove_html_markupat0x106bd5990_246</title>\n",
       "<path fill=\"none\" stroke=\"black\" d=\"M153.43,-227.55C151.7,-207.7 147.2,-176.42 135.5,-152 130.88,-142.36 124.18,-132.99 117.31,-124.8\"/>\n",
       "<polygon fill=\"black\" stroke=\"black\" points=\"120.14,-122.72 110.89,-117.55 114.9,-127.36 120.14,-122.72\"/>\n",
       "</g>\n",
       "<!-- quote_functionremove_html_markupat0x106bd5990_240&#45;&gt;c_functionremove_html_markupat0x106bd5990_243 -->\n",
       "</g>\n",
       "</svg>\n"
      ],
      "text/plain": [
       "Dependencies(\n",
       "    data={\n",
       "        ('tag', (remove_html_markup, 247)): set(),\n",
       "        ('<test>', (remove_html_markup, 246)): {('c', (remove_html_markup, 243)), ('quote', (remove_html_markup, 240))},\n",
       "        ('c', (remove_html_markup, 243)): {('s', (remove_html_markup, 238))},\n",
       "        ('quote', (remove_html_markup, 240)): set(),\n",
       "        ('s', (remove_html_markup, 238)): set()},\n",
       " control={\n",
       "        ('tag', (remove_html_markup, 247)): {('<test>', (remove_html_markup, 246))},\n",
       "        ('<test>', (remove_html_markup, 246)): set(),\n",
       "        ('c', (remove_html_markup, 243)): set(),\n",
       "        ('quote', (remove_html_markup, 240)): set(),\n",
       "        ('s', (remove_html_markup, 238)): set()})"
      ]
     },
     "execution_count": 212,
     "metadata": {},
     "output_type": "execute_result"
    }
   ],
   "source": [
    "slicing_criterion = ('tag', (remove_html_markup,\n",
    "                             start_remove_html_markup + 9))\n",
    "tag_deps = rhm_slicer.dependencies().backward_slice(slicing_criterion)  # type: ignore\n",
    "tag_deps"
   ]
  },
  {
   "cell_type": "code",
   "execution_count": 213,
   "metadata": {
    "execution": {
     "iopub.execute_input": "2023-02-11T12:18:32.719156Z",
     "iopub.status.busy": "2023-02-11T12:18:32.718809Z",
     "iopub.status.idle": "2023-02-11T12:18:32.720242Z",
     "shell.execute_reply": "2023-02-11T12:18:32.720442Z"
    },
    "slideshow": {
     "slide_type": "subslide"
    }
   },
   "outputs": [],
   "source": [
    "# repr(tag_deps)"
   ]
  },
  {
   "cell_type": "markdown",
   "metadata": {
    "slideshow": {
     "slide_type": "subslide"
    }
   },
   "source": [
    "### Calls and Augmented Assign"
   ]
  },
  {
   "cell_type": "markdown",
   "metadata": {
    "slideshow": {
     "slide_type": "fragment"
    }
   },
   "source": [
    "Our last example covers augmented assigns and data flow across function calls. We introduce two simple functions `add_to()` and `mul_with()`:"
   ]
  },
  {
   "cell_type": "code",
   "execution_count": 214,
   "metadata": {
    "execution": {
     "iopub.execute_input": "2023-02-11T12:18:32.723165Z",
     "iopub.status.busy": "2023-02-11T12:18:32.722778Z",
     "iopub.status.idle": "2023-02-11T12:18:32.723776Z",
     "shell.execute_reply": "2023-02-11T12:18:32.724078Z"
    },
    "slideshow": {
     "slide_type": "fragment"
    }
   },
   "outputs": [],
   "source": [
    "def add_to(n, m):  # type: ignore\n",
    "    n += m\n",
    "    return n"
   ]
  },
  {
   "cell_type": "code",
   "execution_count": 215,
   "metadata": {
    "execution": {
     "iopub.execute_input": "2023-02-11T12:18:32.725949Z",
     "iopub.status.busy": "2023-02-11T12:18:32.725662Z",
     "iopub.status.idle": "2023-02-11T12:18:32.726879Z",
     "shell.execute_reply": "2023-02-11T12:18:32.727147Z"
    },
    "slideshow": {
     "slide_type": "fragment"
    }
   },
   "outputs": [],
   "source": [
    "def mul_with(x, y):  # type: ignore\n",
    "    x *= y\n",
    "    return x"
   ]
  },
  {
   "cell_type": "markdown",
   "metadata": {
    "slideshow": {
     "slide_type": "fragment"
    }
   },
   "source": [
    "And we put these two together in a single call:"
   ]
  },
  {
   "cell_type": "code",
   "execution_count": 216,
   "metadata": {
    "execution": {
     "iopub.execute_input": "2023-02-11T12:18:32.729209Z",
     "iopub.status.busy": "2023-02-11T12:18:32.728900Z",
     "iopub.status.idle": "2023-02-11T12:18:32.730175Z",
     "shell.execute_reply": "2023-02-11T12:18:32.730375Z"
    },
    "slideshow": {
     "slide_type": "fragment"
    }
   },
   "outputs": [],
   "source": [
    "def test_math() -> None:\n",
    "    return mul_with(1, add_to(2, 3))"
   ]
  },
  {
   "cell_type": "code",
   "execution_count": 217,
   "metadata": {
    "execution": {
     "iopub.execute_input": "2023-02-11T12:18:32.732351Z",
     "iopub.status.busy": "2023-02-11T12:18:32.732047Z",
     "iopub.status.idle": "2023-02-11T12:18:32.736664Z",
     "shell.execute_reply": "2023-02-11T12:18:32.736867Z"
    },
    "slideshow": {
     "slide_type": "fragment"
    }
   },
   "outputs": [],
   "source": [
    "with Slicer(add_to, mul_with, test_math) as math_slicer:\n",
    "    test_math()"
   ]
  },
  {
   "cell_type": "markdown",
   "metadata": {
    "slideshow": {
     "slide_type": "subslide"
    }
   },
   "source": [
    "The resulting dependence graph nicely captures the data flow between these calls, notably arguments and parameters:"
   ]
  },
  {
   "cell_type": "code",
   "execution_count": 218,
   "metadata": {
    "execution": {
     "iopub.execute_input": "2023-02-11T12:18:32.739344Z",
     "iopub.status.busy": "2023-02-11T12:18:32.738912Z",
     "iopub.status.idle": "2023-02-11T12:18:33.022596Z",
     "shell.execute_reply": "2023-02-11T12:18:33.023115Z"
    },
    "slideshow": {
     "slide_type": "fragment"
    }
   },
   "outputs": [
    {
     "data": {
      "image/svg+xml": [
       "<?xml version=\"1.0\" encoding=\"UTF-8\" standalone=\"no\"?>\n",
       "<!DOCTYPE svg PUBLIC \"-//W3C//DTD SVG 1.1//EN\"\n",
       " \"http://www.w3.org/Graphics/SVG/1.1/DTD/svg11.dtd\">\n",
       "<!-- Generated by graphviz version 7.0.2 (20221119.0110)\n",
       " -->\n",
       "<!-- Title: dependencies Pages: 1 -->\n",
       "<svg width=\"629pt\" height=\"504pt\"\n",
       " viewBox=\"0.00 0.00 629.00 504.00\" xmlns=\"http://www.w3.org/2000/svg\" xmlns:xlink=\"http://www.w3.org/1999/xlink\">\n",
       "<g id=\"graph0\" class=\"graph\" transform=\"scale(1 1) rotate(0) translate(4 500)\">\n",
       "<title>dependencies</title>\n",
       "<polygon fill=\"white\" stroke=\"none\" points=\"-4,4 -4,-500 625,-500 625,4 -4,4\"/>\n",
       "<!-- x_functionmul_withat0x106bd7400_1 -->\n",
       "<g id=\"node1\" class=\"node\">\n",
       "<title>x_functionmul_withat0x106bd7400_1</title>\n",
       "<g id=\"a_node1\"><a xlink:title=\"mul_with:1\">\n",
       "<polygon fill=\"peachpuff\" stroke=\"black\" points=\"200,-268 0,-268 0,-228 200,-228 200,-268\"/>\n",
       "<text text-anchor=\"start\" x=\"95.5\" y=\"-253.8\" font-family=\"Courier,monospace\" font-weight=\"bold\" font-size=\"14.00\">x</text>\n",
       "<text text-anchor=\"start\" x=\"8\" y=\"-234.8\" font-family=\"Courier,monospace\" font-size=\"9.00\">def mul_with(x, y): &#160;# type: ignore</text>\n",
       "</a>\n",
       "</g>\n",
       "</g>\n",
       "<!-- x_functionmul_withat0x106bd7400_2 -->\n",
       "<g id=\"node8\" class=\"node\">\n",
       "<title>x_functionmul_withat0x106bd7400_2</title>\n",
       "<g id=\"a_node8\"><a xlink:title=\"mul_with:2\">\n",
       "<polygon fill=\"peachpuff\" stroke=\"black\" points=\"345,-192 291,-192 291,-152 345,-152 345,-192\"/>\n",
       "<text text-anchor=\"start\" x=\"313.5\" y=\"-177.8\" font-family=\"Courier,monospace\" font-weight=\"bold\" font-size=\"14.00\">x</text>\n",
       "<text text-anchor=\"start\" x=\"302\" y=\"-158.8\" font-family=\"Courier,monospace\" font-size=\"9.00\">x *= y</text>\n",
       "</a>\n",
       "</g>\n",
       "</g>\n",
       "<!-- x_functionmul_withat0x106bd7400_1&#45;&gt;x_functionmul_withat0x106bd7400_2 -->\n",
       "<g id=\"edge3\" class=\"edge\">\n",
       "<title>x_functionmul_withat0x106bd7400_1&#45;&gt;x_functionmul_withat0x106bd7400_2</title>\n",
       "<path fill=\"none\" stroke=\"black\" d=\"M157.28,-227.56C195.93,-214.44 245.87,-197.48 279.75,-185.98\"/>\n",
       "<polygon fill=\"black\" stroke=\"black\" points=\"280.81,-189.32 289.15,-182.79 278.56,-182.69 280.81,-189.32\"/>\n",
       "</g>\n",
       "<!-- n_functionadd_toat0x106bd5ab0_1 -->\n",
       "<g id=\"node2\" class=\"node\">\n",
       "<title>n_functionadd_toat0x106bd5ab0_1</title>\n",
       "<g id=\"a_node2\"><a xlink:title=\"add_to:1\">\n",
       "<polygon fill=\"peachpuff\" stroke=\"black\" points=\"413,-496 223,-496 223,-456 413,-456 413,-496\"/>\n",
       "<text text-anchor=\"start\" x=\"313.5\" y=\"-481.8\" font-family=\"Courier,monospace\" font-weight=\"bold\" font-size=\"14.00\">n</text>\n",
       "<text text-anchor=\"start\" x=\"231\" y=\"-462.8\" font-family=\"Courier,monospace\" font-size=\"9.00\">def add_to(n, m): &#160;# type: ignore</text>\n",
       "</a>\n",
       "</g>\n",
       "</g>\n",
       "<!-- n_functionadd_toat0x106bd5ab0_2 -->\n",
       "<g id=\"node4\" class=\"node\">\n",
       "<title>n_functionadd_toat0x106bd5ab0_2</title>\n",
       "<g id=\"a_node4\"><a xlink:title=\"add_to:2\">\n",
       "<polygon fill=\"peachpuff\" stroke=\"black\" points=\"345,-420 291,-420 291,-380 345,-380 345,-420\"/>\n",
       "<text text-anchor=\"start\" x=\"313.5\" y=\"-405.8\" font-family=\"Courier,monospace\" font-weight=\"bold\" font-size=\"14.00\">n</text>\n",
       "<text text-anchor=\"start\" x=\"302\" y=\"-386.8\" font-family=\"Courier,monospace\" font-size=\"9.00\">n += m</text>\n",
       "</a>\n",
       "</g>\n",
       "</g>\n",
       "<!-- n_functionadd_toat0x106bd5ab0_1&#45;&gt;n_functionadd_toat0x106bd5ab0_2 -->\n",
       "<g id=\"edge6\" class=\"edge\">\n",
       "<title>n_functionadd_toat0x106bd5ab0_1&#45;&gt;n_functionadd_toat0x106bd5ab0_2</title>\n",
       "<path fill=\"none\" stroke=\"black\" d=\"M311.98,-455.56C311.32,-448.25 311.11,-439.75 311.34,-431.67\"/>\n",
       "<polygon fill=\"black\" stroke=\"black\" points=\"314.82,-432.01 311.9,-421.82 307.84,-431.61 314.82,-432.01\"/>\n",
       "</g>\n",
       "<!-- n_functionadd_toat0x106bd5ab0_1&#45;&gt;n_functionadd_toat0x106bd5ab0_2 -->\n",
       "<!-- add_toreturnvalue_functionadd_toat0x106bd5ab0_3 -->\n",
       "<g id=\"node3\" class=\"node\">\n",
       "<title>add_toreturnvalue_functionadd_toat0x106bd5ab0_3</title>\n",
       "<g id=\"a_node3\"><a xlink:title=\"add_to:3\">\n",
       "<polygon fill=\"peachpuff\" stroke=\"black\" points=\"421,-344 215,-344 215,-304 421,-304 421,-344\"/>\n",
       "<text text-anchor=\"start\" x=\"223\" y=\"-329.8\" font-family=\"Courier,monospace\" font-weight=\"bold\" font-style=\"italic\" font-size=\"14.00\">&lt;add_to() return value&gt;</text>\n",
       "<text text-anchor=\"start\" x=\"296.5\" y=\"-310.8\" font-family=\"Courier,monospace\" font-size=\"9.00\">return n</text>\n",
       "</a>\n",
       "</g>\n",
       "</g>\n",
       "<!-- y_functionmul_withat0x106bd7400_1 -->\n",
       "<g id=\"node9\" class=\"node\">\n",
       "<title>y_functionmul_withat0x106bd7400_1</title>\n",
       "<g id=\"a_node9\"><a xlink:title=\"mul_with:1\">\n",
       "<polygon fill=\"peachpuff\" stroke=\"black\" points=\"418,-268 218,-268 218,-228 418,-228 418,-268\"/>\n",
       "<text text-anchor=\"start\" x=\"313.5\" y=\"-253.8\" font-family=\"Courier,monospace\" font-weight=\"bold\" font-size=\"14.00\">y</text>\n",
       "<text text-anchor=\"start\" x=\"226\" y=\"-234.8\" font-family=\"Courier,monospace\" font-size=\"9.00\">def mul_with(x, y): &#160;# type: ignore</text>\n",
       "</a>\n",
       "</g>\n",
       "</g>\n",
       "<!-- add_toreturnvalue_functionadd_toat0x106bd5ab0_3&#45;&gt;y_functionmul_withat0x106bd7400_1 -->\n",
       "<g id=\"edge8\" class=\"edge\">\n",
       "<title>add_toreturnvalue_functionadd_toat0x106bd5ab0_3&#45;&gt;y_functionmul_withat0x106bd7400_1</title>\n",
       "<path fill=\"none\" stroke=\"black\" d=\"M318,-303.56C318,-296.25 318,-287.75 318,-279.67\"/>\n",
       "<polygon fill=\"black\" stroke=\"black\" points=\"321.5,-279.83 318,-269.83 314.5,-279.83 321.5,-279.83\"/>\n",
       "</g>\n",
       "<!-- n_functionadd_toat0x106bd5ab0_2&#45;&gt;add_toreturnvalue_functionadd_toat0x106bd5ab0_3 -->\n",
       "<g id=\"edge1\" class=\"edge\">\n",
       "<title>n_functionadd_toat0x106bd5ab0_2&#45;&gt;add_toreturnvalue_functionadd_toat0x106bd5ab0_3</title>\n",
       "<path fill=\"none\" stroke=\"black\" d=\"M311.98,-379.56C311.32,-372.25 311.11,-363.75 311.34,-355.67\"/>\n",
       "<polygon fill=\"black\" stroke=\"black\" points=\"314.82,-356.01 311.9,-345.82 307.84,-355.61 314.82,-356.01\"/>\n",
       "</g>\n",
       "<!-- n_functionadd_toat0x106bd5ab0_2&#45;&gt;add_toreturnvalue_functionadd_toat0x106bd5ab0_3 -->\n",
       "<!-- test_mathreturnvalue_functiontest_mathat0x106bd77f0_2 -->\n",
       "<g id=\"node5\" class=\"node\">\n",
       "<title>test_mathreturnvalue_functiontest_mathat0x106bd77f0_2</title>\n",
       "<g id=\"a_node5\"><a xlink:title=\"test_math:2\">\n",
       "<polygon fill=\"peachpuff\" stroke=\"black\" points=\"433.5,-40 202.5,-40 202.5,0 433.5,0 433.5,-40\"/>\n",
       "<text text-anchor=\"start\" x=\"210.5\" y=\"-25.8\" font-family=\"Courier,monospace\" font-weight=\"bold\" font-style=\"italic\" font-size=\"14.00\">&lt;test_math() return value&gt;</text>\n",
       "<text text-anchor=\"start\" x=\"233.5\" y=\"-6.8\" font-family=\"Courier,monospace\" font-size=\"9.00\">return mul_with(1, add_to(2, 3))</text>\n",
       "</a>\n",
       "</g>\n",
       "</g>\n",
       "<!-- mul_withreturnvalue_functionmul_withat0x106bd7400_3 -->\n",
       "<g id=\"node6\" class=\"node\">\n",
       "<title>mul_withreturnvalue_functionmul_withat0x106bd7400_3</title>\n",
       "<g id=\"a_node6\"><a xlink:title=\"mul_with:3\">\n",
       "<polygon fill=\"peachpuff\" stroke=\"black\" points=\"429.5,-116 206.5,-116 206.5,-76 429.5,-76 429.5,-116\"/>\n",
       "<text text-anchor=\"start\" x=\"214.5\" y=\"-101.8\" font-family=\"Courier,monospace\" font-weight=\"bold\" font-style=\"italic\" font-size=\"14.00\">&lt;mul_with() return value&gt;</text>\n",
       "<text text-anchor=\"start\" x=\"296.5\" y=\"-82.8\" font-family=\"Courier,monospace\" font-size=\"9.00\">return x</text>\n",
       "</a>\n",
       "</g>\n",
       "</g>\n",
       "<!-- mul_withreturnvalue_functionmul_withat0x106bd7400_3&#45;&gt;test_mathreturnvalue_functiontest_mathat0x106bd77f0_2 -->\n",
       "<g id=\"edge2\" class=\"edge\">\n",
       "<title>mul_withreturnvalue_functionmul_withat0x106bd7400_3&#45;&gt;test_mathreturnvalue_functiontest_mathat0x106bd77f0_2</title>\n",
       "<path fill=\"none\" stroke=\"black\" d=\"M318,-75.56C318,-68.25 318,-59.75 318,-51.67\"/>\n",
       "<polygon fill=\"black\" stroke=\"black\" points=\"321.5,-51.83 318,-41.83 314.5,-51.83 321.5,-51.83\"/>\n",
       "</g>\n",
       "<!-- m_functionadd_toat0x106bd5ab0_1 -->\n",
       "<g id=\"node7\" class=\"node\">\n",
       "<title>m_functionadd_toat0x106bd5ab0_1</title>\n",
       "<g id=\"a_node7\"><a xlink:title=\"add_to:1\">\n",
       "<polygon fill=\"peachpuff\" stroke=\"black\" points=\"621,-496 431,-496 431,-456 621,-456 621,-496\"/>\n",
       "<text text-anchor=\"start\" x=\"521.5\" y=\"-481.8\" font-family=\"Courier,monospace\" font-weight=\"bold\" font-size=\"14.00\">m</text>\n",
       "<text text-anchor=\"start\" x=\"439\" y=\"-462.8\" font-family=\"Courier,monospace\" font-size=\"9.00\">def add_to(n, m): &#160;# type: ignore</text>\n",
       "</a>\n",
       "</g>\n",
       "</g>\n",
       "<!-- m_functionadd_toat0x106bd5ab0_1&#45;&gt;n_functionadd_toat0x106bd5ab0_2 -->\n",
       "<g id=\"edge5\" class=\"edge\">\n",
       "<title>m_functionadd_toat0x106bd5ab0_1&#45;&gt;n_functionadd_toat0x106bd5ab0_2</title>\n",
       "<path fill=\"none\" stroke=\"black\" d=\"M471.35,-455.56C435.07,-442.65 388.35,-426.03 356.06,-414.54\"/>\n",
       "<polygon fill=\"black\" stroke=\"black\" points=\"357.3,-411.27 346.71,-411.21 354.96,-417.86 357.3,-411.27\"/>\n",
       "</g>\n",
       "<!-- x_functionmul_withat0x106bd7400_2&#45;&gt;mul_withreturnvalue_functionmul_withat0x106bd7400_3 -->\n",
       "<g id=\"edge7\" class=\"edge\">\n",
       "<title>x_functionmul_withat0x106bd7400_2&#45;&gt;mul_withreturnvalue_functionmul_withat0x106bd7400_3</title>\n",
       "<path fill=\"none\" stroke=\"black\" d=\"M311.98,-151.56C311.32,-144.25 311.11,-135.75 311.34,-127.67\"/>\n",
       "<polygon fill=\"black\" stroke=\"black\" points=\"314.82,-128.01 311.9,-117.82 307.84,-127.61 314.82,-128.01\"/>\n",
       "</g>\n",
       "<!-- x_functionmul_withat0x106bd7400_2&#45;&gt;mul_withreturnvalue_functionmul_withat0x106bd7400_3 -->\n",
       "<!-- y_functionmul_withat0x106bd7400_1&#45;&gt;x_functionmul_withat0x106bd7400_2 -->\n",
       "<g id=\"edge4\" class=\"edge\">\n",
       "<title>y_functionmul_withat0x106bd7400_1&#45;&gt;x_functionmul_withat0x106bd7400_2</title>\n",
       "<path fill=\"none\" stroke=\"black\" d=\"M311.98,-227.56C311.32,-220.25 311.11,-211.75 311.34,-203.67\"/>\n",
       "<polygon fill=\"black\" stroke=\"black\" points=\"314.82,-204.01 311.9,-193.82 307.84,-203.61 314.82,-204.01\"/>\n",
       "</g>\n",
       "<!-- y_functionmul_withat0x106bd7400_1&#45;&gt;x_functionmul_withat0x106bd7400_2 -->\n",
       "</g>\n",
       "</svg>\n"
      ],
      "text/plain": [
       "<__main__.Slicer at 0x106bc5e70>"
      ]
     },
     "execution_count": 218,
     "metadata": {},
     "output_type": "execute_result"
    }
   ],
   "source": [
    "math_slicer"
   ]
  },
  {
   "cell_type": "markdown",
   "metadata": {
    "slideshow": {
     "slide_type": "fragment"
    }
   },
   "source": [
    "These are also reflected in the code view:"
   ]
  },
  {
   "cell_type": "code",
   "execution_count": 219,
   "metadata": {
    "execution": {
     "iopub.execute_input": "2023-02-11T12:18:33.049530Z",
     "iopub.status.busy": "2023-02-11T12:18:33.049116Z",
     "iopub.status.idle": "2023-02-11T12:18:33.300873Z",
     "shell.execute_reply": "2023-02-11T12:18:33.301099Z"
    },
    "slideshow": {
     "slide_type": "subslide"
    }
   },
   "outputs": [
    {
     "name": "stdout",
     "output_type": "stream",
     "text": [
      "     1 \u001b[34mdef\u001b[39;49;00m \u001b[32mtest_math\u001b[39;49;00m() -> \u001b[34mNone\u001b[39;49;00m:\u001b[37m\u001b[39;49;00m\n",
      "*    2     \u001b[34mreturn\u001b[39;49;00m mul_with(\u001b[34m1\u001b[39;49;00m, add_to(\u001b[34m2\u001b[39;49;00m, \u001b[34m3\u001b[39;49;00m))  \u001b[37m# <= <mul_with() return value> (mul_with:3)\u001b[39;49;00m\u001b[37m\u001b[39;49;00m\n",
      "\n",
      "*    1 \u001b[34mdef\u001b[39;49;00m \u001b[32madd_to\u001b[39;49;00m(n, m):  \u001b[37m# type: ignore\u001b[39;49;00m\u001b[37m\u001b[39;49;00m\n",
      "*    2     n += m  \u001b[37m# <= m (1), n (1)\u001b[39;49;00m\u001b[37m\u001b[39;49;00m\n",
      "*    3     \u001b[34mreturn\u001b[39;49;00m n  \u001b[37m# <= n (2)\u001b[39;49;00m\u001b[37m\u001b[39;49;00m\n",
      "\n",
      "*    1 \u001b[34mdef\u001b[39;49;00m \u001b[32mmul_with\u001b[39;49;00m(x, y):  \u001b[37m# type: ignore  # <= <add_to() return value> (add_to:3)\u001b[39;49;00m\u001b[37m\u001b[39;49;00m\n",
      "*    2     x *= y  \u001b[37m# <= x (1), y (1)\u001b[39;49;00m\u001b[37m\u001b[39;49;00m\n",
      "*    3     \u001b[34mreturn\u001b[39;49;00m x  \u001b[37m# <= x (2)\u001b[39;49;00m\u001b[37m\u001b[39;49;00m\n"
     ]
    }
   ],
   "source": [
    "math_slicer.code()"
   ]
  },
  {
   "attachments": {},
   "cell_type": "markdown",
   "metadata": {
    "slideshow": {
     "slide_type": "slide"
    }
   },
   "source": [
    "## Dynamic Instrumentation\n",
    "\n",
    "When initializing `Slicer()`, one has to provide the set of functions to be instrumented. This is because the instrumentation has to take place _before_ the code in the `with` block is executed. Can we determine this list on the fly – while `Slicer()` is executed? \n",
    "\n",
    "The answer is: Yes, but the solution is a bit hackish – even more so than what we have seen above. In essence, we proceed in two steps:\n",
    "\n",
    "1. When `DynamicSlicer.__init__()` is called:\n",
    "    * Use the `inspect` module to determine the source code of the call\n",
    "    * Analyze the enclosed `with` block for function calls\n",
    "    * Instrument these functions\n",
    "2. Whenever a function is about to be called (`DataTracker.call()`)\n",
    "    * Create an instrumented version of that function\n",
    "    * Have the `call()` method return the instrumented function instead"
   ]
  },
  {
   "cell_type": "markdown",
   "metadata": {
    "slideshow": {
     "slide_type": "subslide"
    }
   },
   "source": [
    "### Excursion: Implementing Dynamic Instrumentation"
   ]
  },
  {
   "cell_type": "markdown",
   "metadata": {
    "slideshow": {
     "slide_type": "fragment"
    }
   },
   "source": [
    "We start with the aim of determining the `with` block to which our slicer is applied. The `our_with_block()` method inspects the source code of the `Slicer()` caller, and returns the one `with` block (as an AST) whose source line is currently active."
   ]
  },
  {
   "cell_type": "code",
   "execution_count": 220,
   "metadata": {
    "execution": {
     "iopub.execute_input": "2023-02-11T12:18:33.303625Z",
     "iopub.status.busy": "2023-02-11T12:18:33.303321Z",
     "iopub.status.idle": "2023-02-11T12:18:33.304600Z",
     "shell.execute_reply": "2023-02-11T12:18:33.304832Z"
    },
    "slideshow": {
     "slide_type": "fragment"
    }
   },
   "outputs": [],
   "source": [
    "class WithVisitor(NodeVisitor):\n",
    "    def __init__(self) -> None:\n",
    "        self.withs: List[ast.With] = []\n",
    "\n",
    "    def visit_With(self, node: ast.With) -> AST:\n",
    "        self.withs.append(node)\n",
    "        return self.generic_visit(node)"
   ]
  },
  {
   "cell_type": "code",
   "execution_count": 221,
   "metadata": {
    "execution": {
     "iopub.execute_input": "2023-02-11T12:18:33.307786Z",
     "iopub.status.busy": "2023-02-11T12:18:33.307469Z",
     "iopub.status.idle": "2023-02-11T12:18:33.308650Z",
     "shell.execute_reply": "2023-02-11T12:18:33.308877Z"
    },
    "slideshow": {
     "slide_type": "subslide"
    }
   },
   "outputs": [],
   "source": [
    "class Slicer(Slicer):\n",
    "    def our_with_block(self) -> ast.With:\n",
    "        \"\"\"Return the currently active `with` block.\"\"\"\n",
    "        frame = self.caller_frame()\n",
    "        source_lines, starting_lineno = inspect.getsourcelines(frame)\n",
    "        starting_lineno = max(starting_lineno, 1)\n",
    "        if len(source_lines) == 1:\n",
    "            # We only get one `with` line, rather than the full block\n",
    "            # This happens in Jupyter notebooks with iPython 8.1.0 and later.\n",
    "            # Here's a hacky workaround to get the cell contents:\n",
    "            # https://stackoverflow.com/questions/51566497/getting-the-source-of-an-object-defined-in-a-jupyter-notebook\n",
    "            source_lines = inspect.linecache.getlines(inspect.getfile(frame))  # type: ignore\n",
    "            starting_lineno = 1\n",
    "\n",
    "        source_ast = ast.parse(''.join(source_lines))\n",
    "        wv = WithVisitor()\n",
    "        wv.visit(source_ast)\n",
    "\n",
    "        for with_ast in wv.withs:\n",
    "            if starting_lineno + (with_ast.lineno - 1) == frame.f_lineno:\n",
    "                return with_ast\n",
    "\n",
    "        raise ValueError(\"Cannot find 'with' block\")"
   ]
  },
  {
   "cell_type": "markdown",
   "metadata": {
    "slideshow": {
     "slide_type": "subslide"
    }
   },
   "source": [
    "Within the `with` AST, we can identify all calls:"
   ]
  },
  {
   "cell_type": "code",
   "execution_count": 222,
   "metadata": {
    "execution": {
     "iopub.execute_input": "2023-02-11T12:18:33.311305Z",
     "iopub.status.busy": "2023-02-11T12:18:33.310986Z",
     "iopub.status.idle": "2023-02-11T12:18:33.312091Z",
     "shell.execute_reply": "2023-02-11T12:18:33.312333Z"
    },
    "slideshow": {
     "slide_type": "fragment"
    }
   },
   "outputs": [],
   "source": [
    "class CallCollector(NodeVisitor):\n",
    "    def __init__(self) -> None:\n",
    "        self.calls: Set[str] = set()\n",
    "\n",
    "    def visit_Call(self, node: ast.Call) -> AST:\n",
    "        caller_id = ast.unparse(node.func).strip()\n",
    "        self.calls.add(caller_id)\n",
    "        return self.generic_visit(node)"
   ]
  },
  {
   "cell_type": "code",
   "execution_count": 223,
   "metadata": {
    "execution": {
     "iopub.execute_input": "2023-02-11T12:18:33.314475Z",
     "iopub.status.busy": "2023-02-11T12:18:33.314168Z",
     "iopub.status.idle": "2023-02-11T12:18:33.315358Z",
     "shell.execute_reply": "2023-02-11T12:18:33.315683Z"
    },
    "slideshow": {
     "slide_type": "subslide"
    }
   },
   "outputs": [],
   "source": [
    "class Slicer(Slicer):\n",
    "    def calls_in_our_with_block(self) -> Set[str]:\n",
    "        \"\"\"Return a set of function names called in the `with` block.\"\"\"\n",
    "        block_ast = self.our_with_block()\n",
    "        cc = CallCollector()\n",
    "        for stmt in block_ast.body:\n",
    "            cc.visit(stmt)\n",
    "        return cc.calls"
   ]
  },
  {
   "cell_type": "markdown",
   "metadata": {
    "slideshow": {
     "slide_type": "fragment"
    }
   },
   "source": [
    "The method `funcs_in_our_with_block()` finally returns a list of all functions used in the `with` block. This is the list of functions we will instrument upfront."
   ]
  },
  {
   "cell_type": "code",
   "execution_count": 224,
   "metadata": {
    "execution": {
     "iopub.execute_input": "2023-02-11T12:18:33.319257Z",
     "iopub.status.busy": "2023-02-11T12:18:33.318545Z",
     "iopub.status.idle": "2023-02-11T12:18:33.320709Z",
     "shell.execute_reply": "2023-02-11T12:18:33.321118Z"
    },
    "slideshow": {
     "slide_type": "subslide"
    }
   },
   "outputs": [],
   "source": [
    "class Slicer(Slicer):\n",
    "    def funcs_in_our_with_block(self) -> List[Callable]:\n",
    "        funcs = []\n",
    "        for id in self.calls_in_our_with_block():\n",
    "            func = self.search_func(id)\n",
    "            if func:\n",
    "                funcs.append(func)\n",
    "\n",
    "        return funcs"
   ]
  },
  {
   "cell_type": "markdown",
   "metadata": {
    "slideshow": {
     "slide_type": "subslide"
    }
   },
   "source": [
    "The method `default_items_to_instrument()` is already provided for dynamic instrumentation – it is invoked whenever no list of functions to instrument is provided. So we have it return the list of functions as computed above.\n",
    "\n",
    "However, `default_items_to_instrument()` does one more thing: Using the (also provided) `instrument_call()` hook in our dependency tracker, we ensure that all (later) calls are redirected to instrumented functions! This way, if further functions are called, these will be instrumented on the fly."
   ]
  },
  {
   "cell_type": "code",
   "execution_count": 225,
   "metadata": {
    "execution": {
     "iopub.execute_input": "2023-02-11T12:18:33.323690Z",
     "iopub.status.busy": "2023-02-11T12:18:33.323296Z",
     "iopub.status.idle": "2023-02-11T12:18:33.324963Z",
     "shell.execute_reply": "2023-02-11T12:18:33.325159Z"
    },
    "slideshow": {
     "slide_type": "subslide"
    }
   },
   "outputs": [],
   "source": [
    "class Slicer(Slicer):\n",
    "    def default_items_to_instrument(self) -> List[Callable]:\n",
    "        # In _data.call(), return instrumented function\n",
    "        self.dependency_tracker.instrument_call = self.instrument  # type: ignore\n",
    "\n",
    "        # Start instrumenting the functions in our `with` block\n",
    "        return self.funcs_in_our_with_block()"
   ]
  },
  {
   "cell_type": "markdown",
   "metadata": {
    "slideshow": {
     "slide_type": "subslide"
    }
   },
   "source": [
    "### End of Excursion"
   ]
  },
  {
   "cell_type": "markdown",
   "metadata": {
    "slideshow": {
     "slide_type": "fragment"
    }
   },
   "source": [
    "Both these hacks are effective, as shown in the following example. We use the `Slicer()` constructor without arguments; it automatically identifies `fun_2()` as a function in the `with` block. As the instrumented `fun2()` is invoked, its `_data.call()` method instruments the call to `fun_1()` (and ensures the instrumented version is called)."
   ]
  },
  {
   "cell_type": "code",
   "execution_count": 226,
   "metadata": {
    "execution": {
     "iopub.execute_input": "2023-02-11T12:18:33.327094Z",
     "iopub.status.busy": "2023-02-11T12:18:33.326792Z",
     "iopub.status.idle": "2023-02-11T12:18:33.327939Z",
     "shell.execute_reply": "2023-02-11T12:18:33.328175Z"
    },
    "slideshow": {
     "slide_type": "fragment"
    }
   },
   "outputs": [],
   "source": [
    "def fun_1(x: int) -> int:\n",
    "    return x"
   ]
  },
  {
   "cell_type": "code",
   "execution_count": 227,
   "metadata": {
    "execution": {
     "iopub.execute_input": "2023-02-11T12:18:33.329958Z",
     "iopub.status.busy": "2023-02-11T12:18:33.329637Z",
     "iopub.status.idle": "2023-02-11T12:18:33.331203Z",
     "shell.execute_reply": "2023-02-11T12:18:33.331025Z"
    },
    "slideshow": {
     "slide_type": "fragment"
    }
   },
   "outputs": [],
   "source": [
    "def fun_2(x: int) -> int:\n",
    "    return fun_1(x)"
   ]
  },
  {
   "cell_type": "code",
   "execution_count": 228,
   "metadata": {
    "execution": {
     "iopub.execute_input": "2023-02-11T12:18:33.332883Z",
     "iopub.status.busy": "2023-02-11T12:18:33.332585Z",
     "iopub.status.idle": "2023-02-11T12:18:33.402027Z",
     "shell.execute_reply": "2023-02-11T12:18:33.402360Z"
    },
    "slideshow": {
     "slide_type": "subslide"
    }
   },
   "outputs": [
    {
     "name": "stdout",
     "output_type": "stream",
     "text": [
      "Instrumenting <function fun_2 at 0x105fbbf40>\n",
      "\u001b[34mdef\u001b[39;49;00m \u001b[32mfun_2\u001b[39;49;00m(x: \u001b[36mint\u001b[39;49;00m) -> \u001b[36mint\u001b[39;49;00m:\u001b[37m\u001b[39;49;00m\n",
      "    _data.param(\u001b[33m'\u001b[39;49;00m\u001b[33mx\u001b[39;49;00m\u001b[33m'\u001b[39;49;00m, x, pos=\u001b[34m1\u001b[39;49;00m, last=\u001b[34mTrue\u001b[39;49;00m)\u001b[37m\u001b[39;49;00m\n",
      "    \u001b[34mreturn\u001b[39;49;00m _data.set(\u001b[33m'\u001b[39;49;00m\u001b[33m<fun_2() return value>\u001b[39;49;00m\u001b[33m'\u001b[39;49;00m, _data.ret(_data.call(_data.get(\u001b[33m'\u001b[39;49;00m\u001b[33mfun_1\u001b[39;49;00m\u001b[33m'\u001b[39;49;00m, fun_1))(_data.arg(_data.get(\u001b[33m'\u001b[39;49;00m\u001b[33mx\u001b[39;49;00m\u001b[33m'\u001b[39;49;00m, x), pos=\u001b[34m1\u001b[39;49;00m))))\u001b[37m\u001b[39;49;00m\n",
      "\n",
      "Instrumenting <function fun_1 at 0x105fbaf80>\n",
      "\u001b[34mdef\u001b[39;49;00m \u001b[32mfun_1\u001b[39;49;00m(x: \u001b[36mint\u001b[39;49;00m) -> \u001b[36mint\u001b[39;49;00m:\u001b[37m\u001b[39;49;00m\n",
      "    _data.param(\u001b[33m'\u001b[39;49;00m\u001b[33mx\u001b[39;49;00m\u001b[33m'\u001b[39;49;00m, x, pos=\u001b[34m1\u001b[39;49;00m, last=\u001b[34mTrue\u001b[39;49;00m)\u001b[37m\u001b[39;49;00m\n",
      "    \u001b[34mreturn\u001b[39;49;00m _data.set(\u001b[33m'\u001b[39;49;00m\u001b[33m<fun_1() return value>\u001b[39;49;00m\u001b[33m'\u001b[39;49;00m, _data.get(\u001b[33m'\u001b[39;49;00m\u001b[33mx\u001b[39;49;00m\u001b[33m'\u001b[39;49;00m, x))\u001b[37m\u001b[39;49;00m\n",
      "\n"
     ]
    }
   ],
   "source": [
    "with Slicer(log=True) as slicer:\n",
    "    fun_2(10)"
   ]
  },
  {
   "cell_type": "code",
   "execution_count": 229,
   "metadata": {
    "execution": {
     "iopub.execute_input": "2023-02-11T12:18:33.404583Z",
     "iopub.status.busy": "2023-02-11T12:18:33.404227Z",
     "iopub.status.idle": "2023-02-11T12:18:33.680939Z",
     "shell.execute_reply": "2023-02-11T12:18:33.681525Z"
    },
    "slideshow": {
     "slide_type": "fragment"
    }
   },
   "outputs": [
    {
     "data": {
      "image/svg+xml": [
       "<?xml version=\"1.0\" encoding=\"UTF-8\" standalone=\"no\"?>\n",
       "<!DOCTYPE svg PUBLIC \"-//W3C//DTD SVG 1.1//EN\"\n",
       " \"http://www.w3.org/Graphics/SVG/1.1/DTD/svg11.dtd\">\n",
       "<!-- Generated by graphviz version 7.0.2 (20221119.0110)\n",
       " -->\n",
       "<!-- Title: dependencies Pages: 1 -->\n",
       "<svg width=\"270pt\" height=\"276pt\"\n",
       " viewBox=\"0.00 0.00 270.00 276.00\" xmlns=\"http://www.w3.org/2000/svg\" xmlns:xlink=\"http://www.w3.org/1999/xlink\">\n",
       "<g id=\"graph0\" class=\"graph\" transform=\"scale(1 1) rotate(0) translate(4 272)\">\n",
       "<title>dependencies</title>\n",
       "<polygon fill=\"white\" stroke=\"none\" points=\"-4,4 -4,-272 266,-272 266,4 -4,4\"/>\n",
       "<!-- x_functionfun_2at0x1068fb9a0_1 -->\n",
       "<g id=\"node1\" class=\"node\">\n",
       "<title>x_functionfun_2at0x1068fb9a0_1</title>\n",
       "<g id=\"a_node1\"><a xlink:title=\"fun_2:1\">\n",
       "<polygon fill=\"peachpuff\" stroke=\"black\" points=\"173,-268 25,-268 25,-228 173,-228 173,-268\"/>\n",
       "<text text-anchor=\"start\" x=\"94.5\" y=\"-253.8\" font-family=\"Courier,monospace\" font-weight=\"bold\" font-size=\"14.00\">x</text>\n",
       "<text text-anchor=\"start\" x=\"33\" y=\"-234.8\" font-family=\"Courier,monospace\" font-size=\"9.00\">def fun_2(x: int) &#45;&gt; int:</text>\n",
       "</a>\n",
       "</g>\n",
       "</g>\n",
       "<!-- fun_2returnvalue_functionfun_2at0x1068fb9a0_2 -->\n",
       "<g id=\"node2\" class=\"node\">\n",
       "<title>fun_2returnvalue_functionfun_2at0x1068fb9a0_2</title>\n",
       "<g id=\"a_node2\"><a xlink:title=\"fun_2:2\">\n",
       "<polygon fill=\"peachpuff\" stroke=\"black\" points=\"198,-40 0,-40 0,0 198,0 198,-40\"/>\n",
       "<text text-anchor=\"start\" x=\"8\" y=\"-25.8\" font-family=\"Courier,monospace\" font-weight=\"bold\" font-style=\"italic\" font-size=\"14.00\">&lt;fun_2() return value&gt;</text>\n",
       "<text text-anchor=\"start\" x=\"59.5\" y=\"-6.8\" font-family=\"Courier,monospace\" font-size=\"9.00\">return fun_1(x)</text>\n",
       "</a>\n",
       "</g>\n",
       "</g>\n",
       "<!-- x_functionfun_2at0x1068fb9a0_1&#45;&gt;fun_2returnvalue_functionfun_2at0x1068fb9a0_2 -->\n",
       "<!-- x_functionfun_1at0x106bd7eb0_1 -->\n",
       "<g id=\"node4\" class=\"node\">\n",
       "<title>x_functionfun_1at0x106bd7eb0_1</title>\n",
       "<g id=\"a_node4\"><a xlink:title=\"fun_1:1\">\n",
       "<polygon fill=\"peachpuff\" stroke=\"black\" points=\"237,-192 89,-192 89,-152 237,-152 237,-192\"/>\n",
       "<text text-anchor=\"start\" x=\"158.5\" y=\"-177.8\" font-family=\"Courier,monospace\" font-weight=\"bold\" font-size=\"14.00\">x</text>\n",
       "<text text-anchor=\"start\" x=\"97\" y=\"-158.8\" font-family=\"Courier,monospace\" font-size=\"9.00\">def fun_1(x: int) &#45;&gt; int:</text>\n",
       "</a>\n",
       "</g>\n",
       "</g>\n",
       "<!-- x_functionfun_2at0x1068fb9a0_1&#45;&gt;x_functionfun_1at0x106bd7eb0_1 -->\n",
       "<g id=\"edge2\" class=\"edge\">\n",
       "<title>x_functionfun_2at0x1068fb9a0_1&#45;&gt;x_functionfun_1at0x106bd7eb0_1</title>\n",
       "<path fill=\"none\" stroke=\"black\" d=\"M115.82,-227.56C122.87,-219.4 131.21,-209.76 138.9,-200.87\"/>\n",
       "<polygon fill=\"black\" stroke=\"black\" points=\"141.41,-203.31 145.31,-193.46 136.12,-198.73 141.41,-203.31\"/>\n",
       "</g>\n",
       "<!-- fun_1returnvalue_functionfun_1at0x106bd7eb0_2 -->\n",
       "<g id=\"node3\" class=\"node\">\n",
       "<title>fun_1returnvalue_functionfun_1at0x106bd7eb0_2</title>\n",
       "<g id=\"a_node3\"><a xlink:title=\"fun_1:2\">\n",
       "<polygon fill=\"peachpuff\" stroke=\"black\" points=\"262,-116 64,-116 64,-76 262,-76 262,-116\"/>\n",
       "<text text-anchor=\"start\" x=\"72\" y=\"-101.8\" font-family=\"Courier,monospace\" font-weight=\"bold\" font-style=\"italic\" font-size=\"14.00\">&lt;fun_1() return value&gt;</text>\n",
       "<text text-anchor=\"start\" x=\"141.5\" y=\"-82.8\" font-family=\"Courier,monospace\" font-size=\"9.00\">return x</text>\n",
       "</a>\n",
       "</g>\n",
       "</g>\n",
       "<!-- fun_1returnvalue_functionfun_1at0x106bd7eb0_2&#45;&gt;fun_2returnvalue_functionfun_2at0x1068fb9a0_2 -->\n",
       "<g id=\"edge1\" class=\"edge\">\n",
       "<title>fun_1returnvalue_functionfun_1at0x106bd7eb0_2&#45;&gt;fun_2returnvalue_functionfun_2at0x1068fb9a0_2</title>\n",
       "<path fill=\"none\" stroke=\"black\" d=\"M146.18,-75.56C139.13,-67.4 130.79,-57.76 123.1,-48.87\"/>\n",
       "<polygon fill=\"black\" stroke=\"black\" points=\"125.88,-46.73 116.69,-41.46 120.59,-51.31 125.88,-46.73\"/>\n",
       "</g>\n",
       "<!-- x_functionfun_1at0x106bd7eb0_1&#45;&gt;fun_1returnvalue_functionfun_1at0x106bd7eb0_2 -->\n",
       "<g id=\"edge3\" class=\"edge\">\n",
       "<title>x_functionfun_1at0x106bd7eb0_1&#45;&gt;fun_1returnvalue_functionfun_1at0x106bd7eb0_2</title>\n",
       "<path fill=\"none\" stroke=\"black\" d=\"M156.98,-151.56C156.32,-144.25 156.11,-135.75 156.34,-127.67\"/>\n",
       "<polygon fill=\"black\" stroke=\"black\" points=\"159.82,-128.01 156.9,-117.82 152.84,-127.61 159.82,-128.01\"/>\n",
       "</g>\n",
       "<!-- x_functionfun_1at0x106bd7eb0_1&#45;&gt;fun_1returnvalue_functionfun_1at0x106bd7eb0_2 -->\n",
       "</g>\n",
       "</svg>\n"
      ],
      "text/plain": [
       "<__main__.Slicer at 0x106900b80>"
      ]
     },
     "execution_count": 229,
     "metadata": {},
     "output_type": "execute_result"
    }
   ],
   "source": [
    "slicer"
   ]
  },
  {
   "cell_type": "markdown",
   "metadata": {
    "slideshow": {
     "slide_type": "slide"
    }
   },
   "source": [
    "## More Applications\n",
    "\n",
    "The main use of dynamic slices is for _debugging tools_, where they show the origins of individual values. However, beyond facilitating debugging, tracking information flows has a number of additional applications, some of which we briefly sketch here."
   ]
  },
  {
   "cell_type": "markdown",
   "metadata": {
    "slideshow": {
     "slide_type": "subslide"
    }
   },
   "source": [
    "### Verifying Information Flows\n",
    "\n",
    "Using dynamic slices, we can check all the locations where (potentially sensitive) information is used. As an example, consider the following function `password_checker()`, which requests a password from the user and returns `True` if it is the correct one:"
   ]
  },
  {
   "cell_type": "code",
   "execution_count": 230,
   "metadata": {
    "execution": {
     "iopub.execute_input": "2023-02-11T12:18:33.684811Z",
     "iopub.status.busy": "2023-02-11T12:18:33.684307Z",
     "iopub.status.idle": "2023-02-11T12:18:33.685856Z",
     "shell.execute_reply": "2023-02-11T12:18:33.686268Z"
    },
    "slideshow": {
     "slide_type": "skip"
    }
   },
   "outputs": [],
   "source": [
    "import hashlib"
   ]
  },
  {
   "cell_type": "code",
   "execution_count": 231,
   "metadata": {
    "execution": {
     "iopub.execute_input": "2023-02-11T12:18:33.688298Z",
     "iopub.status.busy": "2023-02-11T12:18:33.687986Z",
     "iopub.status.idle": "2023-02-11T12:18:33.689187Z",
     "shell.execute_reply": "2023-02-11T12:18:33.689414Z"
    },
    "slideshow": {
     "slide_type": "skip"
    }
   },
   "outputs": [],
   "source": [
    "from bookutils import input, next_inputs"
   ]
  },
  {
   "cell_type": "code",
   "execution_count": 232,
   "metadata": {
    "execution": {
     "iopub.execute_input": "2023-02-11T12:18:33.691252Z",
     "iopub.status.busy": "2023-02-11T12:18:33.690939Z",
     "iopub.status.idle": "2023-02-11T12:18:33.692320Z",
     "shell.execute_reply": "2023-02-11T12:18:33.692134Z"
    },
    "slideshow": {
     "slide_type": "fragment"
    }
   },
   "outputs": [],
   "source": [
    "SECRET_HASH_DIGEST = '59f2da35bcc39525b87932b4cc1f3d68'"
   ]
  },
  {
   "cell_type": "code",
   "execution_count": 233,
   "metadata": {
    "execution": {
     "iopub.execute_input": "2023-02-11T12:18:33.694563Z",
     "iopub.status.busy": "2023-02-11T12:18:33.693580Z",
     "iopub.status.idle": "2023-02-11T12:18:33.696323Z",
     "shell.execute_reply": "2023-02-11T12:18:33.696586Z"
    },
    "slideshow": {
     "slide_type": "subslide"
    }
   },
   "outputs": [],
   "source": [
    "def password_checker() -> bool:\n",
    "    \"\"\"Request a password. Return True if correct.\"\"\"\n",
    "    secret_password = input(\"Enter secret password: \")\n",
    "    password_digest = hashlib.md5(secret_password.encode('utf-8')).hexdigest()\n",
    "\n",
    "    if password_digest == SECRET_HASH_DIGEST:\n",
    "        return True\n",
    "    else:\n",
    "        return False"
   ]
  },
  {
   "cell_type": "markdown",
   "metadata": {
    "slideshow": {
     "slide_type": "fragment"
    }
   },
   "source": [
    "(Note that this is a very naive implementation: A true password checker would use the Python `getpass` module to read in a password without echoing it in the clear, and possibly also use a more sophisticated hash function than `md5`.)"
   ]
  },
  {
   "cell_type": "markdown",
   "metadata": {
    "slideshow": {
     "slide_type": "subslide"
    }
   },
   "source": [
    "From a security perspective, the interesting question we can ask using slicing is: _Is the entered password stored in the clear somewhere_? For this, we can simply run our slicer to see where the inputs are going:"
   ]
  },
  {
   "cell_type": "code",
   "execution_count": 234,
   "metadata": {
    "execution": {
     "iopub.execute_input": "2023-02-11T12:18:33.699054Z",
     "iopub.status.busy": "2023-02-11T12:18:33.698721Z",
     "iopub.status.idle": "2023-02-11T12:18:33.700152Z",
     "shell.execute_reply": "2023-02-11T12:18:33.700391Z"
    },
    "slideshow": {
     "slide_type": "fragment"
    }
   },
   "outputs": [
    {
     "data": {
      "text/plain": [
       "['secret123']"
      ]
     },
     "execution_count": 234,
     "metadata": {},
     "output_type": "execute_result"
    }
   ],
   "source": [
    "# ignore\n",
    "next_inputs(['secret123'])"
   ]
  },
  {
   "cell_type": "code",
   "execution_count": 235,
   "metadata": {
    "execution": {
     "iopub.execute_input": "2023-02-11T12:18:33.704751Z",
     "iopub.status.busy": "2023-02-11T12:18:33.704285Z",
     "iopub.status.idle": "2023-02-11T12:18:33.709714Z",
     "shell.execute_reply": "2023-02-11T12:18:33.710166Z"
    },
    "slideshow": {
     "slide_type": "fragment"
    }
   },
   "outputs": [
    {
     "data": {
      "text/html": [
       "<samp>Enter secret password: <b>secret123</b></samp>"
      ],
      "text/plain": [
       "<IPython.core.display.HTML object>"
      ]
     },
     "metadata": {},
     "output_type": "display_data"
    }
   ],
   "source": [
    "with Slicer() as slicer:\n",
    "    valid_pwd = password_checker()"
   ]
  },
  {
   "cell_type": "code",
   "execution_count": 236,
   "metadata": {
    "execution": {
     "iopub.execute_input": "2023-02-11T12:18:33.714264Z",
     "iopub.status.busy": "2023-02-11T12:18:33.713933Z",
     "iopub.status.idle": "2023-02-11T12:18:34.011868Z",
     "shell.execute_reply": "2023-02-11T12:18:34.012415Z"
    },
    "slideshow": {
     "slide_type": "fragment"
    }
   },
   "outputs": [
    {
     "data": {
      "image/svg+xml": [
       "<?xml version=\"1.0\" encoding=\"UTF-8\" standalone=\"no\"?>\n",
       "<!DOCTYPE svg PUBLIC \"-//W3C//DTD SVG 1.1//EN\"\n",
       " \"http://www.w3.org/Graphics/SVG/1.1/DTD/svg11.dtd\">\n",
       "<!-- Generated by graphviz version 7.0.2 (20221119.0110)\n",
       " -->\n",
       "<!-- Title: dependencies Pages: 1 -->\n",
       "<svg width=\"413pt\" height=\"276pt\"\n",
       " viewBox=\"0.00 0.00 413.00 276.00\" xmlns=\"http://www.w3.org/2000/svg\" xmlns:xlink=\"http://www.w3.org/1999/xlink\">\n",
       "<g id=\"graph0\" class=\"graph\" transform=\"scale(1 1) rotate(0) translate(4 272)\">\n",
       "<title>dependencies</title>\n",
       "<polygon fill=\"white\" stroke=\"none\" points=\"-4,4 -4,-272 409,-272 409,4 -4,4\"/>\n",
       "<!-- secret_password_functionpassword_checkerat0x106bd4a60_3 -->\n",
       "<g id=\"node1\" class=\"node\">\n",
       "<title>secret_password_functionpassword_checkerat0x106bd4a60_3</title>\n",
       "<g id=\"a_node1\"><a xlink:title=\"password_checker:3\">\n",
       "<polygon fill=\"peachpuff\" stroke=\"black\" points=\"342,-268 63,-268 63,-228 342,-228 342,-268\"/>\n",
       "<text text-anchor=\"start\" x=\"140.5\" y=\"-253.8\" font-family=\"Courier,monospace\" font-weight=\"bold\" font-size=\"14.00\">secret_password</text>\n",
       "<text text-anchor=\"start\" x=\"71\" y=\"-234.8\" font-family=\"Courier,monospace\" font-size=\"9.00\">secret_password = input(&quot;Enter secret password: &quot;)</text>\n",
       "</a>\n",
       "</g>\n",
       "</g>\n",
       "<!-- password_digest_functionpassword_checkerat0x106bd4a60_4 -->\n",
       "<g id=\"node4\" class=\"node\">\n",
       "<title>password_digest_functionpassword_checkerat0x106bd4a60_4</title>\n",
       "<g id=\"a_node4\"><a xlink:title=\"password_checker:4\">\n",
       "<polygon fill=\"peachpuff\" stroke=\"black\" points=\"405,-192 0,-192 0,-152 405,-152 405,-192\"/>\n",
       "<text text-anchor=\"start\" x=\"140.5\" y=\"-177.8\" font-family=\"Courier,monospace\" font-weight=\"bold\" font-size=\"14.00\">password_digest</text>\n",
       "<text text-anchor=\"start\" x=\"8\" y=\"-158.8\" font-family=\"Courier,monospace\" font-size=\"9.00\">password_digest = hashlib.md5(secret_password.encode(&#39;utf&#45;8&#39;)).hexdigest()</text>\n",
       "</a>\n",
       "</g>\n",
       "</g>\n",
       "<!-- secret_password_functionpassword_checkerat0x106bd4a60_3&#45;&gt;password_digest_functionpassword_checkerat0x106bd4a60_4 -->\n",
       "<g id=\"edge2\" class=\"edge\">\n",
       "<title>secret_password_functionpassword_checkerat0x106bd4a60_3&#45;&gt;password_digest_functionpassword_checkerat0x106bd4a60_4</title>\n",
       "<path fill=\"none\" stroke=\"black\" d=\"M196.48,-227.56C195.82,-220.25 195.61,-211.75 195.84,-203.67\"/>\n",
       "<polygon fill=\"black\" stroke=\"black\" points=\"199.32,-204.01 196.4,-193.82 192.34,-203.61 199.32,-204.01\"/>\n",
       "</g>\n",
       "<!-- secret_password_functionpassword_checkerat0x106bd4a60_3&#45;&gt;password_digest_functionpassword_checkerat0x106bd4a60_4 -->\n",
       "<!-- password_checkerreturnvalue_functionpassword_checkerat0x106bd4a60_9 -->\n",
       "<g id=\"node2\" class=\"node\">\n",
       "<title>password_checkerreturnvalue_functionpassword_checkerat0x106bd4a60_9</title>\n",
       "<g id=\"a_node2\"><a xlink:title=\"password_checker:9\">\n",
       "<polygon fill=\"peachpuff\" stroke=\"black\" points=\"347,-40 58,-40 58,0 347,0 347,-40\"/>\n",
       "<text text-anchor=\"start\" x=\"66\" y=\"-25.8\" font-family=\"Courier,monospace\" font-weight=\"bold\" font-style=\"italic\" font-size=\"14.00\">&lt;password_checker() return value&gt;</text>\n",
       "<text text-anchor=\"start\" x=\"170.5\" y=\"-6.8\" font-family=\"Courier,monospace\" font-size=\"9.00\">return False</text>\n",
       "</a>\n",
       "</g>\n",
       "</g>\n",
       "<!-- test_functionpassword_checkerat0x106bd4a60_6 -->\n",
       "<g id=\"node3\" class=\"node\">\n",
       "<title>test_functionpassword_checkerat0x106bd4a60_6</title>\n",
       "<g id=\"a_node3\"><a xlink:title=\"password_checker:6\">\n",
       "<polygon fill=\"peachpuff\" stroke=\"black\" points=\"318.5,-116 86.5,-116 86.5,-76 318.5,-76 318.5,-116\"/>\n",
       "<text text-anchor=\"start\" x=\"177.5\" y=\"-101.8\" font-family=\"Courier,monospace\" font-weight=\"bold\" font-style=\"italic\" font-size=\"14.00\">&lt;test&gt;</text>\n",
       "<text text-anchor=\"start\" x=\"94.5\" y=\"-82.8\" font-family=\"Courier,monospace\" font-size=\"9.00\">if password_digest == SECRET_HASH_DIGEST:</text>\n",
       "</a>\n",
       "</g>\n",
       "</g>\n",
       "<!-- test_functionpassword_checkerat0x106bd4a60_6&#45;&gt;password_checkerreturnvalue_functionpassword_checkerat0x106bd4a60_9 -->\n",
       "<g id=\"edge1\" class=\"edge\">\n",
       "<title>test_functionpassword_checkerat0x106bd4a60_6&#45;&gt;password_checkerreturnvalue_functionpassword_checkerat0x106bd4a60_9</title>\n",
       "<path fill=\"none\" stroke=\"grey\" stroke-dasharray=\"5,2\" d=\"M196.48,-75.56C195.82,-68.25 195.61,-59.75 195.84,-51.67\"/>\n",
       "<polygon fill=\"grey\" stroke=\"grey\" points=\"199.32,-52.01 196.4,-41.82 192.34,-51.61 199.32,-52.01\"/>\n",
       "</g>\n",
       "<!-- test_functionpassword_checkerat0x106bd4a60_6&#45;&gt;password_checkerreturnvalue_functionpassword_checkerat0x106bd4a60_9 -->\n",
       "<!-- password_digest_functionpassword_checkerat0x106bd4a60_4&#45;&gt;test_functionpassword_checkerat0x106bd4a60_6 -->\n",
       "<g id=\"edge3\" class=\"edge\">\n",
       "<title>password_digest_functionpassword_checkerat0x106bd4a60_4&#45;&gt;test_functionpassword_checkerat0x106bd4a60_6</title>\n",
       "<path fill=\"none\" stroke=\"black\" d=\"M196.48,-151.56C195.82,-144.25 195.61,-135.75 195.84,-127.67\"/>\n",
       "<polygon fill=\"black\" stroke=\"black\" points=\"199.32,-128.01 196.4,-117.82 192.34,-127.61 199.32,-128.01\"/>\n",
       "</g>\n",
       "<!-- password_digest_functionpassword_checkerat0x106bd4a60_4&#45;&gt;test_functionpassword_checkerat0x106bd4a60_6 -->\n",
       "</g>\n",
       "</svg>\n"
      ],
      "text/plain": [
       "<__main__.Slicer at 0x106f94e50>"
      ]
     },
     "execution_count": 236,
     "metadata": {},
     "output_type": "execute_result"
    }
   ],
   "source": [
    "slicer"
   ]
  },
  {
   "cell_type": "markdown",
   "metadata": {
    "slideshow": {
     "slide_type": "fragment"
    }
   },
   "source": [
    "We see that the password only flows into `password_digest`, where it is already encrypted. If the password were flowing into some other function or variable, we would see this in our slice."
   ]
  },
  {
   "cell_type": "markdown",
   "metadata": {
    "slideshow": {
     "slide_type": "subslide"
    }
   },
   "source": [
    "(Note that an attacker may still be able to find out which password was entered, for instance, by checking memory contents.)"
   ]
  },
  {
   "cell_type": "code",
   "execution_count": 237,
   "metadata": {
    "execution": {
     "iopub.execute_input": "2023-02-11T12:18:34.019066Z",
     "iopub.status.busy": "2023-02-11T12:18:34.018533Z",
     "iopub.status.idle": "2023-02-11T12:18:34.020804Z",
     "shell.execute_reply": "2023-02-11T12:18:34.021447Z"
    },
    "slideshow": {
     "slide_type": "subslide"
    }
   },
   "outputs": [
    {
     "data": {
      "text/html": [
       "\n",
       "    \n",
       "    <script>\n",
       "    var bad_answers = new Map();\n",
       "\n",
       "    function answer(quiz_id) {\n",
       "        ans = 0;\n",
       "        for (i = 1;; i++) {\n",
       "            checkbox = document.getElementById(quiz_id + \"-\" + i.toString());\n",
       "            if (!checkbox)\n",
       "                break;\n",
       "            if (checkbox.checked)\n",
       "                ans |= (1 << i);\n",
       "        }\n",
       "        return ans;\n",
       "    }\n",
       "    function check_selection(quiz_id, correct_answer, multiple_choice, hint) {\n",
       "        given_answer = answer(quiz_id);\n",
       "        if (given_answer == correct_answer)\n",
       "        {\n",
       "            document.getElementById(quiz_id + \"-submit\").value = \"Correct!\";\n",
       "            document.getElementById(quiz_id + \"-hint\").innerHTML = \"\";\n",
       "\n",
       "            for (i = 1;; i++) {\n",
       "                checkbox = document.getElementById(quiz_id + \"-\" + i.toString());\n",
       "                label = document.getElementById(quiz_id + \"-\" + i.toString() + \"-label\")\n",
       "                if (!checkbox)\n",
       "                    break;\n",
       "    \n",
       "                if (checkbox.checked) {\n",
       "                    label.style.fontWeight = \"bold\";\n",
       "                }\n",
       "                else {\n",
       "                    label.style.textDecoration = \"line-through\";\n",
       "                }\n",
       "            }\n",
       "        }\n",
       "        else \n",
       "        {\n",
       "            document.getElementById(quiz_id + \"-submit\").value = \"Try again\";\n",
       "            \n",
       "            if (!bad_answers.has(quiz_id)) {\n",
       "                bad_answers.set(quiz_id, 1);\n",
       "            }\n",
       "            else {\n",
       "                bad_answers.set(quiz_id, bad_answers.get(quiz_id) + 1);\n",
       "            }\n",
       "\n",
       "            if (bad_answers.get(quiz_id) >= 2 && hint.length > 0) {\n",
       "                document.getElementById(quiz_id + \"-hint\").innerHTML = \n",
       "                    \"&nbsp;&nbsp;(Hint: <code>\" + hint + \"</code>)\";\n",
       "            }\n",
       "\n",
       "            if (!multiple_choice) {\n",
       "                for (i = 1;; i++) {\n",
       "                    checkbox = document.getElementById(quiz_id + \"-\" + i.toString());\n",
       "                    label = document.getElementById(quiz_id + \"-\" + i.toString() + \"-label\")\n",
       "\n",
       "                    if (!checkbox)\n",
       "                        break;\n",
       "                    if (checkbox.checked) {\n",
       "                        label.style.textDecoration = \"line-through\";\n",
       "                    }\n",
       "                }\n",
       "            }\n",
       "        }\n",
       "    }\n",
       "    function clear_selection(quiz_id) {\n",
       "        document.getElementById(quiz_id + \"-submit\").value = \"Submit\";\n",
       "        document.getElementById(quiz_id + \"-hint\").innerHTML = \"\";\n",
       "    }\n",
       "    </script>\n",
       "    \n",
       "    <div class=\"quiz\">\n",
       "    <h3 class=\"quiz_title\">Quiz</h3>\n",
       "    <p>\n",
       "    <div class=\"quiz_question\">What is the secret password, actually?</div>\n",
       "    </p>\n",
       "    <p>\n",
       "    <div class=\"quiz_options\" title=\"Pick a choice.\">\n",
       "    \n",
       "        <input type=\"radio\" name=\"342b863e-aa06-11ed-942b-6298cf1a578f\" id=\"342b863e-aa06-11ed-942b-6298cf1a578f-1\" onclick=\"clear_selection('342b863e-aa06-11ed-942b-6298cf1a578f')\">\n",
       "        <label id=\"342b863e-aa06-11ed-942b-6298cf1a578f-1-label\" for=\"342b863e-aa06-11ed-942b-6298cf1a578f-1\"><code>'automated'</code></label><br>\n",
       "    \n",
       "        <input type=\"radio\" name=\"342b863e-aa06-11ed-942b-6298cf1a578f\" id=\"342b863e-aa06-11ed-942b-6298cf1a578f-2\" onclick=\"clear_selection('342b863e-aa06-11ed-942b-6298cf1a578f')\">\n",
       "        <label id=\"342b863e-aa06-11ed-942b-6298cf1a578f-2-label\" for=\"342b863e-aa06-11ed-942b-6298cf1a578f-2\"><code>'debugging'</code></label><br>\n",
       "    \n",
       "        <input type=\"radio\" name=\"342b863e-aa06-11ed-942b-6298cf1a578f\" id=\"342b863e-aa06-11ed-942b-6298cf1a578f-3\" onclick=\"clear_selection('342b863e-aa06-11ed-942b-6298cf1a578f')\">\n",
       "        <label id=\"342b863e-aa06-11ed-942b-6298cf1a578f-3-label\" for=\"342b863e-aa06-11ed-942b-6298cf1a578f-3\"><code>'is'</code></label><br>\n",
       "    \n",
       "        <input type=\"radio\" name=\"342b863e-aa06-11ed-942b-6298cf1a578f\" id=\"342b863e-aa06-11ed-942b-6298cf1a578f-4\" onclick=\"clear_selection('342b863e-aa06-11ed-942b-6298cf1a578f')\">\n",
       "        <label id=\"342b863e-aa06-11ed-942b-6298cf1a578f-4-label\" for=\"342b863e-aa06-11ed-942b-6298cf1a578f-4\"><code>'fun'</code></label><br>\n",
       "    \n",
       "    </div>\n",
       "    </p>\n",
       "    <input id=\"342b863e-aa06-11ed-942b-6298cf1a578f-submit\" type=\"submit\" value=\"Submit\" onclick=\"check_selection('342b863e-aa06-11ed-942b-6298cf1a578f', 4, 0, '')\">\n",
       "    <span class=\"quiz_hint\" id=\"342b863e-aa06-11ed-942b-6298cf1a578f-hint\"></span>\n",
       "    </div>\n",
       "    "
      ],
      "text/plain": [
       "<IPython.core.display.HTML object>"
      ]
     },
     "execution_count": 237,
     "metadata": {},
     "output_type": "execute_result"
    }
   ],
   "source": [
    "# ignore\n",
    "secret_answers = [\n",
    "    'automated',\n",
    "    'debugging',\n",
    "    'is',\n",
    "    'fun'\n",
    "]\n",
    "\n",
    "quiz(\"What is the secret password, actually?\", \n",
    "     [f\"`{repr(s)}`\" for s in secret_answers],\n",
    "     min([i + 1 for i, ans in enumerate(secret_answers) \n",
    "          if hashlib.md5(ans.encode('utf-8')).hexdigest() == \n",
    "              SECRET_HASH_DIGEST])\n",
    "    )"
   ]
  },
  {
   "cell_type": "markdown",
   "metadata": {
    "slideshow": {
     "slide_type": "subslide"
    }
   },
   "source": [
    "### Assessing Test Quality"
   ]
  },
  {
   "cell_type": "markdown",
   "metadata": {
    "slideshow": {
     "slide_type": "fragment"
    }
   },
   "source": [
    "Another interesting usage of dynamic slices is to _assess test quality_. With our `square_root()` function, we have seen that the included assertions well test the arguments and the result for correctness:"
   ]
  },
  {
   "cell_type": "code",
   "execution_count": 238,
   "metadata": {
    "execution": {
     "iopub.execute_input": "2023-02-11T12:18:34.024410Z",
     "iopub.status.busy": "2023-02-11T12:18:34.024067Z",
     "iopub.status.idle": "2023-02-11T12:18:34.025339Z",
     "shell.execute_reply": "2023-02-11T12:18:34.025615Z"
    },
    "slideshow": {
     "slide_type": "fragment"
    }
   },
   "outputs": [],
   "source": [
    "# ignore\n",
    "_, start_square_root = inspect.getsourcelines(square_root)"
   ]
  },
  {
   "cell_type": "code",
   "execution_count": 239,
   "metadata": {
    "execution": {
     "iopub.execute_input": "2023-02-11T12:18:34.032543Z",
     "iopub.status.busy": "2023-02-11T12:18:34.032185Z",
     "iopub.status.idle": "2023-02-11T12:18:34.059049Z",
     "shell.execute_reply": "2023-02-11T12:18:34.059315Z"
    },
    "slideshow": {
     "slide_type": "subslide"
    }
   },
   "outputs": [
    {
     "name": "stdout",
     "output_type": "stream",
     "text": [
      "54  \u001b[34mdef\u001b[39;49;00m \u001b[32msquare_root\u001b[39;49;00m(x):  \u001b[37m# type: ignore\u001b[39;49;00m\u001b[37m\u001b[39;49;00m\n",
      "55      \u001b[34massert\u001b[39;49;00m x >= \u001b[34m0\u001b[39;49;00m  \u001b[37m# precondition\u001b[39;49;00m\u001b[37m\u001b[39;49;00m\n",
      "56  \u001b[37m\u001b[39;49;00m\n",
      "57      approx = \u001b[34mNone\u001b[39;49;00m\u001b[37m\u001b[39;49;00m\n",
      "58      guess = x / \u001b[34m2\u001b[39;49;00m\u001b[37m\u001b[39;49;00m\n",
      "59      \u001b[34mwhile\u001b[39;49;00m approx != guess:\u001b[37m\u001b[39;49;00m\n",
      "60          approx = guess\u001b[37m\u001b[39;49;00m\n",
      "61          guess = (approx + x / approx) / \u001b[34m2\u001b[39;49;00m\u001b[37m\u001b[39;49;00m\n",
      "62  \u001b[37m\u001b[39;49;00m\n",
      "63      \u001b[34massert\u001b[39;49;00m math.isclose(approx * approx, x)\u001b[37m\u001b[39;49;00m\n",
      "64      \u001b[34mreturn\u001b[39;49;00m approx\u001b[37m\u001b[39;49;00m"
     ]
    }
   ],
   "source": [
    "# ignore\n",
    "print_content(inspect.getsource(square_root), '.py',\n",
    "              start_line_number=start_square_root)"
   ]
  },
  {
   "cell_type": "markdown",
   "metadata": {
    "slideshow": {
     "slide_type": "subslide"
    }
   },
   "source": [
    "However, a lazy programmer could also omit these tests – or worse yet, include tests that always pass:"
   ]
  },
  {
   "cell_type": "code",
   "execution_count": 240,
   "metadata": {
    "execution": {
     "iopub.execute_input": "2023-02-11T12:18:34.061887Z",
     "iopub.status.busy": "2023-02-11T12:18:34.061505Z",
     "iopub.status.idle": "2023-02-11T12:18:34.062765Z",
     "shell.execute_reply": "2023-02-11T12:18:34.063175Z"
    },
    "slideshow": {
     "slide_type": "fragment"
    }
   },
   "outputs": [],
   "source": [
    "def square_root_unchecked(x):  # type: ignore\n",
    "    assert True  # <-- new \"precondition\"\n",
    "\n",
    "    approx = None\n",
    "    guess = x / 2\n",
    "    while approx != guess:\n",
    "        approx = guess\n",
    "        guess = (approx + x / approx) / 2\n",
    "\n",
    "    assert True  # <-- new \"postcondition\"\n",
    "    return approx"
   ]
  },
  {
   "cell_type": "markdown",
   "metadata": {
    "slideshow": {
     "slide_type": "subslide"
    }
   },
   "source": [
    "How can one check that the tests supplied actually are effective? This is a problem of \"Who watches the watchmen\" – we need to find a way to ensure that the tests do their job."
   ]
  },
  {
   "attachments": {},
   "cell_type": "markdown",
   "metadata": {
    "slideshow": {
     "slide_type": "fragment"
    }
   },
   "source": [
    "The \"classical\" way of testing tests is so-called *mutation testing* – that is, introducing _artificial errors_ into the code to see whether the tests catch them. Mutation testing is effective: The above \"weak\" tests would not catch any change to the `square_root()` computation code, and hence quickly be determined as ineffective. However, mutation testing is also _costly_, as tests have to be ran again and again for every small code mutation."
   ]
  },
  {
   "cell_type": "markdown",
   "metadata": {
    "slideshow": {
     "slide_type": "fragment"
    }
   },
   "source": [
    "Slices offer a cost-effective alternative to determine the quality of tests. The idea is that if there are statements in the code whose result does _not_ flow into an assertion, then any errors in these statements will go unnoticed. In consequence, the larger the backward slice of an assertion, the higher its ability to catch errors."
   ]
  },
  {
   "cell_type": "markdown",
   "metadata": {
    "slideshow": {
     "slide_type": "subslide"
    }
   },
   "source": [
    "We can easily validate this assumption using the two examples, above. Here is the backward slice for the \"full\" postcondition in `square_root()`. We see that the entire computation code flows into the final postcondition:"
   ]
  },
  {
   "cell_type": "code",
   "execution_count": 241,
   "metadata": {
    "execution": {
     "iopub.execute_input": "2023-02-11T12:18:34.065706Z",
     "iopub.status.busy": "2023-02-11T12:18:34.065300Z",
     "iopub.status.idle": "2023-02-11T12:18:34.067022Z",
     "shell.execute_reply": "2023-02-11T12:18:34.067268Z"
    },
    "slideshow": {
     "slide_type": "fragment"
    }
   },
   "outputs": [
    {
     "data": {
      "text/plain": [
       "63"
      ]
     },
     "execution_count": 241,
     "metadata": {},
     "output_type": "execute_result"
    }
   ],
   "source": [
    "postcondition_lineno = start_square_root + 9\n",
    "postcondition_lineno"
   ]
  },
  {
   "cell_type": "code",
   "execution_count": 242,
   "metadata": {
    "execution": {
     "iopub.execute_input": "2023-02-11T12:18:34.084337Z",
     "iopub.status.busy": "2023-02-11T12:18:34.084001Z",
     "iopub.status.idle": "2023-02-11T12:18:34.356790Z",
     "shell.execute_reply": "2023-02-11T12:18:34.357325Z"
    },
    "slideshow": {
     "slide_type": "subslide"
    }
   },
   "outputs": [
    {
     "data": {
      "image/svg+xml": [
       "<?xml version=\"1.0\" encoding=\"UTF-8\" standalone=\"no\"?>\n",
       "<!DOCTYPE svg PUBLIC \"-//W3C//DTD SVG 1.1//EN\"\n",
       " \"http://www.w3.org/Graphics/SVG/1.1/DTD/svg11.dtd\">\n",
       "<!-- Generated by graphviz version 7.0.2 (20221119.0110)\n",
       " -->\n",
       "<!-- Title: dependencies Pages: 1 -->\n",
       "<svg width=\"270pt\" height=\"504pt\"\n",
       " viewBox=\"0.00 0.00 269.74 504.00\" xmlns=\"http://www.w3.org/2000/svg\" xmlns:xlink=\"http://www.w3.org/1999/xlink\">\n",
       "<g id=\"graph0\" class=\"graph\" transform=\"scale(1 1) rotate(0) translate(4 500)\">\n",
       "<title>dependencies</title>\n",
       "<polygon fill=\"white\" stroke=\"none\" points=\"-4,4 -4,-500 265.74,-500 265.74,4 -4,4\"/>\n",
       "<!-- test_functionsquare_rootat0x105f03c70_59 -->\n",
       "<g id=\"node1\" class=\"node\">\n",
       "<title>test_functionsquare_rootat0x105f03c70_59</title>\n",
       "<g id=\"a_node1\"><a xlink:title=\"square_root:59\">\n",
       "<polygon fill=\"peachpuff\" stroke=\"black\" points=\"145.74,-268 13.74,-268 13.74,-228 145.74,-228 145.74,-268\"/>\n",
       "<text text-anchor=\"start\" x=\"54.74\" y=\"-253.8\" font-family=\"Courier,monospace\" font-weight=\"bold\" font-style=\"italic\" font-size=\"14.00\">&lt;test&gt;</text>\n",
       "<text text-anchor=\"start\" x=\"21.74\" y=\"-234.8\" font-family=\"Courier,monospace\" font-size=\"9.00\">while approx != guess:</text>\n",
       "</a>\n",
       "</g>\n",
       "</g>\n",
       "<!-- guess_functionsquare_rootat0x105f03c70_61 -->\n",
       "<g id=\"node3\" class=\"node\">\n",
       "<title>guess_functionsquare_rootat0x105f03c70_61</title>\n",
       "<g id=\"a_node3\"><a xlink:title=\"square_root:61\">\n",
       "<polygon fill=\"peachpuff\" stroke=\"black\" points=\"226.74,-116 36.74,-116 36.74,-76 226.74,-76 226.74,-116\"/>\n",
       "<text text-anchor=\"start\" x=\"110.74\" y=\"-101.8\" font-family=\"Courier,monospace\" font-weight=\"bold\" font-size=\"14.00\">guess</text>\n",
       "<text text-anchor=\"start\" x=\"44.74\" y=\"-82.8\" font-family=\"Courier,monospace\" font-size=\"9.00\">guess = (approx + x / approx) / 2</text>\n",
       "</a>\n",
       "</g>\n",
       "</g>\n",
       "<!-- test_functionsquare_rootat0x105f03c70_59&#45;&gt;guess_functionsquare_rootat0x105f03c70_61 -->\n",
       "<g id=\"edge7\" class=\"edge\">\n",
       "<title>test_functionsquare_rootat0x105f03c70_59&#45;&gt;guess_functionsquare_rootat0x105f03c70_61</title>\n",
       "<path fill=\"none\" stroke=\"grey\" stroke-dasharray=\"5,2\" d=\"M80.89,-227.64C84.65,-217.21 90.36,-204.04 94.74,-192 102.57,-170.49 109.83,-145.66 116.26,-126.78\"/>\n",
       "<polygon fill=\"grey\" stroke=\"grey\" points=\"119.48,-128.17 119.54,-117.58 112.88,-125.82 119.48,-128.17\"/>\n",
       "</g>\n",
       "<!-- approx_functionsquare_rootat0x105f03c70_60 -->\n",
       "<g id=\"node4\" class=\"node\">\n",
       "<title>approx_functionsquare_rootat0x105f03c70_60</title>\n",
       "<g id=\"a_node4\"><a xlink:title=\"square_root:60\">\n",
       "<polygon fill=\"peachpuff\" stroke=\"black\" points=\"94.74,-192 4.74,-192 4.74,-152 94.74,-152 94.74,-192\"/>\n",
       "<text text-anchor=\"start\" x=\"24.74\" y=\"-177.8\" font-family=\"Courier,monospace\" font-weight=\"bold\" font-size=\"14.00\">approx</text>\n",
       "<text text-anchor=\"start\" x=\"12.74\" y=\"-158.8\" font-family=\"Courier,monospace\" font-size=\"9.00\">approx = guess</text>\n",
       "</a>\n",
       "</g>\n",
       "</g>\n",
       "<!-- test_functionsquare_rootat0x105f03c70_59&#45;&gt;approx_functionsquare_rootat0x105f03c70_60 -->\n",
       "<g id=\"edge10\" class=\"edge\">\n",
       "<title>test_functionsquare_rootat0x105f03c70_59&#45;&gt;approx_functionsquare_rootat0x105f03c70_60</title>\n",
       "<path fill=\"none\" stroke=\"grey\" stroke-dasharray=\"5,2\" d=\"M59.81,-227.56C55.44,-220.08 51.49,-211.36 48.66,-203.11\"/>\n",
       "<polygon fill=\"grey\" stroke=\"grey\" points=\"52.1,-202.41 45.97,-193.77 45.37,-204.35 52.1,-202.41\"/>\n",
       "</g>\n",
       "<!-- test_functionsquare_rootat0x105f03c70_59&#45;&gt;approx_functionsquare_rootat0x105f03c70_60 -->\n",
       "<!-- guess_functionsquare_rootat0x105f03c70_58 -->\n",
       "<g id=\"node2\" class=\"node\">\n",
       "<title>guess_functionsquare_rootat0x105f03c70_58</title>\n",
       "<g id=\"a_node2\"><a xlink:title=\"square_root:58\">\n",
       "<polygon fill=\"peachpuff\" stroke=\"black\" points=\"98.24,-344 13.24,-344 13.24,-304 98.24,-304 98.24,-344\"/>\n",
       "<text text-anchor=\"start\" x=\"34.74\" y=\"-329.8\" font-family=\"Courier,monospace\" font-weight=\"bold\" font-size=\"14.00\">guess</text>\n",
       "<text text-anchor=\"start\" x=\"21.24\" y=\"-310.8\" font-family=\"Courier,monospace\" font-size=\"9.00\">guess = x / 2</text>\n",
       "</a>\n",
       "</g>\n",
       "</g>\n",
       "<!-- guess_functionsquare_rootat0x105f03c70_58&#45;&gt;test_functionsquare_rootat0x105f03c70_59 -->\n",
       "<g id=\"edge1\" class=\"edge\">\n",
       "<title>guess_functionsquare_rootat0x105f03c70_58&#45;&gt;test_functionsquare_rootat0x105f03c70_59</title>\n",
       "<path fill=\"none\" stroke=\"black\" d=\"M56.02,-303.56C57.8,-295.99 60.46,-287.16 63.43,-278.83\"/>\n",
       "<polygon fill=\"black\" stroke=\"black\" points=\"66.61,-280.32 66.92,-269.73 60.07,-277.81 66.61,-280.32\"/>\n",
       "</g>\n",
       "<!-- guess_functionsquare_rootat0x105f03c70_58&#45;&gt;test_functionsquare_rootat0x105f03c70_59 -->\n",
       "<!-- guess_functionsquare_rootat0x105f03c70_58&#45;&gt;approx_functionsquare_rootat0x105f03c70_60 -->\n",
       "<g id=\"edge9\" class=\"edge\">\n",
       "<title>guess_functionsquare_rootat0x105f03c70_58&#45;&gt;approx_functionsquare_rootat0x105f03c70_60</title>\n",
       "<path fill=\"none\" stroke=\"black\" d=\"M30.81,-303.51C20.68,-294.02 10.11,-281.7 4.74,-268 -1.75,-251.45 -1.24,-244.74 4.74,-228 8.24,-218.21 14.31,-208.9 20.88,-200.82\"/>\n",
       "<polygon fill=\"black\" stroke=\"black\" points=\"23.43,-203.22 27.4,-193.4 18.17,-198.6 23.43,-203.22\"/>\n",
       "</g>\n",
       "<!-- guess_functionsquare_rootat0x105f03c70_61&#45;&gt;test_functionsquare_rootat0x105f03c70_59 -->\n",
       "<g id=\"edge2\" class=\"edge\">\n",
       "<title>guess_functionsquare_rootat0x105f03c70_61&#45;&gt;test_functionsquare_rootat0x105f03c70_59</title>\n",
       "<path fill=\"none\" stroke=\"black\" d=\"M133.65,-116.15C130.73,-135.5 122.15,-166.15 112.74,-192 109.69,-200.37 106,-209.29 102.1,-217.45\"/>\n",
       "<polygon fill=\"black\" stroke=\"black\" points=\"99.02,-215.8 97.59,-226.29 105.25,-218.98 99.02,-215.8\"/>\n",
       "</g>\n",
       "<!-- assertion_functionsquare_rootat0x105f03c70_63 -->\n",
       "<g id=\"node7\" class=\"node\">\n",
       "<title>assertion_functionsquare_rootat0x105f03c70_63</title>\n",
       "<g id=\"a_node7\"><a xlink:title=\"square_root:63\">\n",
       "<polygon fill=\"peachpuff\" stroke=\"black\" points=\"242.24,-40 21.24,-40 21.24,0 242.24,0 242.24,-40\"/>\n",
       "<text text-anchor=\"start\" x=\"86.24\" y=\"-25.8\" font-family=\"Courier,monospace\" font-weight=\"bold\" font-style=\"italic\" font-size=\"14.00\">&lt;assertion&gt;</text>\n",
       "<text text-anchor=\"start\" x=\"29.24\" y=\"-6.8\" font-family=\"Courier,monospace\" font-size=\"9.00\">assert math.isclose(approx * approx, x)</text>\n",
       "</a>\n",
       "</g>\n",
       "</g>\n",
       "<!-- guess_functionsquare_rootat0x105f03c70_61&#45;&gt;assertion_functionsquare_rootat0x105f03c70_63 -->\n",
       "<!-- approx_functionsquare_rootat0x105f03c70_60&#45;&gt;test_functionsquare_rootat0x105f03c70_59 -->\n",
       "<g id=\"edge3\" class=\"edge\">\n",
       "<title>approx_functionsquare_rootat0x105f03c70_60&#45;&gt;test_functionsquare_rootat0x105f03c70_59</title>\n",
       "<path fill=\"none\" stroke=\"black\" d=\"M57.57,-192.31C60.63,-199.86 64.21,-208.69 67.59,-217.03\"/>\n",
       "<polygon fill=\"black\" stroke=\"black\" points=\"64.29,-218.2 71.29,-226.15 70.78,-215.57 64.29,-218.2\"/>\n",
       "</g>\n",
       "<!-- approx_functionsquare_rootat0x105f03c70_60&#45;&gt;guess_functionsquare_rootat0x105f03c70_61 -->\n",
       "<g id=\"edge6\" class=\"edge\">\n",
       "<title>approx_functionsquare_rootat0x105f03c70_60&#45;&gt;guess_functionsquare_rootat0x105f03c70_61</title>\n",
       "<path fill=\"none\" stroke=\"black\" d=\"M65.26,-151.56C73.92,-143.06 84.95,-132.95 95.57,-123.76\"/>\n",
       "<polygon fill=\"black\" stroke=\"black\" points=\"97.83,-126.44 103.18,-117.29 93.29,-121.11 97.83,-126.44\"/>\n",
       "</g>\n",
       "<!-- approx_functionsquare_rootat0x105f03c70_60&#45;&gt;guess_functionsquare_rootat0x105f03c70_61 -->\n",
       "<!-- approx_functionsquare_rootat0x105f03c70_60&#45;&gt;assertion_functionsquare_rootat0x105f03c70_63 -->\n",
       "<g id=\"edge12\" class=\"edge\">\n",
       "<title>approx_functionsquare_rootat0x105f03c70_60&#45;&gt;assertion_functionsquare_rootat0x105f03c70_63</title>\n",
       "<path fill=\"none\" stroke=\"black\" d=\"M37.5,-151.86C26.31,-131.69 13.5,-99.64 27.74,-76 35.34,-63.38 46.91,-53.51 59.61,-45.84\"/>\n",
       "<polygon fill=\"black\" stroke=\"black\" points=\"61.11,-49.01 68.18,-41.12 57.73,-42.88 61.11,-49.01\"/>\n",
       "</g>\n",
       "<!-- approx_functionsquare_rootat0x105f03c70_57 -->\n",
       "<g id=\"node5\" class=\"node\">\n",
       "<title>approx_functionsquare_rootat0x105f03c70_57</title>\n",
       "<g id=\"a_node5\"><a xlink:title=\"square_root:57\">\n",
       "<polygon fill=\"peachpuff\" stroke=\"black\" points=\"169.24,-420 84.24,-420 84.24,-380 169.24,-380 169.24,-420\"/>\n",
       "<text text-anchor=\"start\" x=\"101.74\" y=\"-405.8\" font-family=\"Courier,monospace\" font-weight=\"bold\" font-size=\"14.00\">approx</text>\n",
       "<text text-anchor=\"start\" x=\"92.24\" y=\"-386.8\" font-family=\"Courier,monospace\" font-size=\"9.00\">approx = None</text>\n",
       "</a>\n",
       "</g>\n",
       "</g>\n",
       "<!-- approx_functionsquare_rootat0x105f03c70_57&#45;&gt;test_functionsquare_rootat0x105f03c70_59 -->\n",
       "<g id=\"edge4\" class=\"edge\">\n",
       "<title>approx_functionsquare_rootat0x105f03c70_57&#45;&gt;test_functionsquare_rootat0x105f03c70_59</title>\n",
       "<path fill=\"none\" stroke=\"black\" d=\"M124.12,-379.7C121.14,-360.23 115.53,-329.5 106.74,-304 103.8,-295.47 99.84,-286.55 95.87,-278.44\"/>\n",
       "<polygon fill=\"black\" stroke=\"black\" points=\"99.07,-277.01 91.4,-269.7 92.83,-280.19 99.07,-277.01\"/>\n",
       "</g>\n",
       "<!-- approx_functionsquare_rootat0x105f03c70_57&#45;&gt;guess_functionsquare_rootat0x105f03c70_58 -->\n",
       "<!-- x_functionsquare_rootat0x105f03c70_54 -->\n",
       "<g id=\"node6\" class=\"node\">\n",
       "<title>x_functionsquare_rootat0x105f03c70_54</title>\n",
       "<g id=\"a_node6\"><a xlink:title=\"square_root:54\">\n",
       "<polygon fill=\"peachpuff\" stroke=\"black\" points=\"261.74,-496 61.74,-496 61.74,-456 261.74,-456 261.74,-496\"/>\n",
       "<text text-anchor=\"start\" x=\"157.24\" y=\"-481.8\" font-family=\"Courier,monospace\" font-weight=\"bold\" font-size=\"14.00\">x</text>\n",
       "<text text-anchor=\"start\" x=\"69.74\" y=\"-462.8\" font-family=\"Courier,monospace\" font-size=\"9.00\">def square_root(x): &#160;# type: ignore</text>\n",
       "</a>\n",
       "</g>\n",
       "</g>\n",
       "<!-- x_functionsquare_rootat0x105f03c70_54&#45;&gt;guess_functionsquare_rootat0x105f03c70_58 -->\n",
       "<g id=\"edge8\" class=\"edge\">\n",
       "<title>x_functionsquare_rootat0x105f03c70_54&#45;&gt;guess_functionsquare_rootat0x105f03c70_58</title>\n",
       "<path fill=\"none\" stroke=\"black\" d=\"M116.38,-455.54C100.97,-446.8 85.07,-435.02 74.74,-420 61.74,-401.09 57.2,-375.35 55.8,-355.43\"/>\n",
       "<polygon fill=\"black\" stroke=\"black\" points=\"59.3,-355.52 55.35,-345.69 52.31,-355.84 59.3,-355.52\"/>\n",
       "</g>\n",
       "<!-- x_functionsquare_rootat0x105f03c70_54&#45;&gt;guess_functionsquare_rootat0x105f03c70_61 -->\n",
       "<g id=\"edge5\" class=\"edge\">\n",
       "<title>x_functionsquare_rootat0x105f03c70_54&#45;&gt;guess_functionsquare_rootat0x105f03c70_61</title>\n",
       "<path fill=\"none\" stroke=\"black\" d=\"M169.37,-455.93C179.94,-427.78 197.74,-373.21 197.74,-325 197.74,-325 197.74,-325 197.74,-247 197.74,-201.5 171.98,-154.31 152.65,-125.3\"/>\n",
       "<polygon fill=\"black\" stroke=\"black\" points=\"155.79,-123.69 147.25,-117.43 150.02,-127.66 155.79,-123.69\"/>\n",
       "</g>\n",
       "<!-- x_functionsquare_rootat0x105f03c70_54&#45;&gt;approx_functionsquare_rootat0x105f03c70_57 -->\n",
       "<!-- x_functionsquare_rootat0x105f03c70_54&#45;&gt;assertion_functionsquare_rootat0x105f03c70_63 -->\n",
       "<g id=\"edge11\" class=\"edge\">\n",
       "<title>x_functionsquare_rootat0x105f03c70_54&#45;&gt;assertion_functionsquare_rootat0x105f03c70_63</title>\n",
       "<path fill=\"none\" stroke=\"black\" d=\"M183.78,-455.56C211.28,-429.03 254.74,-378.62 254.74,-325 254.74,-325 254.74,-325 254.74,-171 254.74,-127.94 261.48,-110.51 235.74,-76 226.4,-63.48 213.37,-53.54 199.68,-45.74\"/>\n",
       "<polygon fill=\"black\" stroke=\"black\" points=\"201.45,-42.72 190.98,-41.15 198.19,-48.91 201.45,-42.72\"/>\n",
       "</g>\n",
       "</g>\n",
       "</svg>\n"
      ],
      "text/plain": [
       "Dependencies(\n",
       "    data={\n",
       "        ('<assertion>', (square_root, 63)): {('x', (square_root, 54)), ('approx', (square_root, 60))},\n",
       "        ('x', (square_root, 54)): set(),\n",
       "        ('approx', (square_root, 60)): {('guess', (square_root, 58))},\n",
       "        ('guess', (square_root, 58)): {('x', (square_root, 54))},\n",
       "        ('<test>', (square_root, 59)): {('guess', (square_root, 58)), ('guess', (square_root, 61)), ('approx', (square_root, 60)), ('approx', (square_root, 57))},\n",
       "        ('guess', (square_root, 61)): {('x', (square_root, 54)), ('approx', (square_root, 60))},\n",
       "        ('approx', (square_root, 57)): set()},\n",
       " control={\n",
       "        ('<assertion>', (square_root, 63)): set(),\n",
       "        ('x', (square_root, 54)): set(),\n",
       "        ('approx', (square_root, 60)): {('<test>', (square_root, 59))},\n",
       "        ('guess', (square_root, 58)): set(),\n",
       "        ('<test>', (square_root, 59)): set(),\n",
       "        ('guess', (square_root, 61)): {('<test>', (square_root, 59))},\n",
       "        ('approx', (square_root, 57)): set()})"
      ]
     },
     "execution_count": 242,
     "metadata": {},
     "output_type": "execute_result"
    }
   ],
   "source": [
    "with Slicer() as slicer:\n",
    "    y = square_root(4)\n",
    "\n",
    "slicer.dependencies().backward_slice((square_root, postcondition_lineno))"
   ]
  },
  {
   "cell_type": "markdown",
   "metadata": {
    "slideshow": {
     "slide_type": "subslide"
    }
   },
   "source": [
    "In contrast, the \"lazy\" assertion in `square_root_unchecked()` has an empty backward slice, showing that it depends on no other value at all:"
   ]
  },
  {
   "cell_type": "code",
   "execution_count": 243,
   "metadata": {
    "execution": {
     "iopub.execute_input": "2023-02-11T12:18:34.369168Z",
     "iopub.status.busy": "2023-02-11T12:18:34.359827Z",
     "iopub.status.idle": "2023-02-11T12:18:34.383949Z",
     "shell.execute_reply": "2023-02-11T12:18:34.384285Z"
    },
    "slideshow": {
     "slide_type": "fragment"
    }
   },
   "outputs": [
    {
     "data": {
      "image/svg+xml": [
       "<?xml version=\"1.0\" encoding=\"UTF-8\" standalone=\"no\"?>\n",
       "<!DOCTYPE svg PUBLIC \"-//W3C//DTD SVG 1.1//EN\"\n",
       " \"http://www.w3.org/Graphics/SVG/1.1/DTD/svg11.dtd\">\n",
       "<!-- Generated by graphviz version 7.0.2 (20221119.0110)\n",
       " -->\n",
       "<!-- Title: dependencies Pages: 1 -->\n",
       "<svg width=\"8pt\" height=\"8pt\"\n",
       " viewBox=\"0.00 0.00 8.00 8.00\" xmlns=\"http://www.w3.org/2000/svg\" xmlns:xlink=\"http://www.w3.org/1999/xlink\">\n",
       "<g id=\"graph0\" class=\"graph\" transform=\"scale(1 1) rotate(0) translate(4 4)\">\n",
       "<title>dependencies</title>\n",
       "<polygon fill=\"white\" stroke=\"none\" points=\"-4,4 -4,-4 4,-4 4,4 -4,4\"/>\n",
       "</g>\n",
       "</svg>\n"
      ],
      "text/plain": [
       "Dependencies(\n",
       "    data={\n",
       "        },\n",
       " control={\n",
       "        })"
      ]
     },
     "execution_count": 243,
     "metadata": {},
     "output_type": "execute_result"
    }
   ],
   "source": [
    "with Slicer() as slicer:\n",
    "    y = square_root_unchecked(4)\n",
    "\n",
    "slicer.dependencies().backward_slice((square_root, postcondition_lineno))"
   ]
  },
  {
   "cell_type": "markdown",
   "metadata": {
    "slideshow": {
     "slide_type": "subslide"
    }
   },
   "source": [
    "In \\cite{Schuler2011}, Schuler et al. have tried out this technique and found their \"checked coverage\" to be a sure indicator for the quality of the checks in tests. Using our dynamic slices, you may wish to try this out on Python code."
   ]
  },
  {
   "cell_type": "markdown",
   "metadata": {
    "slideshow": {
     "slide_type": "subslide"
    }
   },
   "source": [
    "### Use in Statistical Debugging"
   ]
  },
  {
   "attachments": {},
   "cell_type": "markdown",
   "metadata": {
    "slideshow": {
     "slide_type": "fragment"
    }
   },
   "source": [
    "Collecting dynamic slices over several runs allows for _correlating dependencies with other execution features_, notably _failures_: \"The program fails whenever the value of `weekday` comes from `calendar()`.\" We will revisit this idea in [the chapter on statistical debugging](StatisticalDebugger.ipynb)."
   ]
  },
  {
   "cell_type": "markdown",
   "metadata": {
    "slideshow": {
     "slide_type": "slide"
    }
   },
   "source": [
    "## Synopsis"
   ]
  },
  {
   "cell_type": "markdown",
   "metadata": {
    "slideshow": {
     "slide_type": "fragment"
    }
   },
   "source": [
    "This chapter provides a `Slicer` class to automatically determine and visualize dynamic flows and dependencies. When we say that a variable $x$ _depends_ on a variable $y$ (and that $y$ _flows_ into $x$), we distinguish two kinds of dependencies:\n",
    "\n",
    "* **Data dependency**: $x$ is assigned a value computed from $y$.\n",
    "* **Control dependency**: A statement involving $x$ is executed _only_ because a _condition_ involving $y$ was evaluated, influencing the execution path.\n",
    "\n",
    "Such dependencies are crucial for debugging, as they allow to determine the origins of individual values (and notably incorrect values). "
   ]
  },
  {
   "cell_type": "markdown",
   "metadata": {
    "slideshow": {
     "slide_type": "subslide"
    }
   },
   "source": [
    "To determine dynamic dependencies in a function `func`, use\n",
    "\n",
    "```python\n",
    "with Slicer() as slicer:\n",
    "    <Some call to func()>\n",
    "```\n",
    "\n",
    "and then `slicer.graph()` or `slicer.code()` to examine dependencies."
   ]
  },
  {
   "cell_type": "markdown",
   "metadata": {
    "slideshow": {
     "slide_type": "subslide"
    }
   },
   "source": [
    "You can also explicitly specify the functions to be instrumented, as in \n",
    "\n",
    "```python\n",
    "with Slicer(func, func_1, func_2) as slicer:\n",
    "    <Some call to func()>\n",
    "```"
   ]
  },
  {
   "cell_type": "markdown",
   "metadata": {
    "slideshow": {
     "slide_type": "fragment"
    }
   },
   "source": [
    "Here is an example. The `demo()` function computes some number from `x`:"
   ]
  },
  {
   "cell_type": "code",
   "execution_count": 244,
   "metadata": {
    "execution": {
     "iopub.execute_input": "2023-02-11T12:18:34.386888Z",
     "iopub.status.busy": "2023-02-11T12:18:34.386525Z",
     "iopub.status.idle": "2023-02-11T12:18:34.387887Z",
     "shell.execute_reply": "2023-02-11T12:18:34.388147Z"
    },
    "slideshow": {
     "slide_type": "fragment"
    }
   },
   "outputs": [],
   "source": [
    "def demo(x: int) -> int:\n",
    "    z = x\n",
    "    while x <= z <= 64:\n",
    "        z *= 2\n",
    "    return z"
   ]
  },
  {
   "cell_type": "markdown",
   "metadata": {
    "slideshow": {
     "slide_type": "subslide"
    }
   },
   "source": [
    "By using `with Slicer()`, we first instrument `demo()` and then execute it:"
   ]
  },
  {
   "cell_type": "code",
   "execution_count": 245,
   "metadata": {
    "execution": {
     "iopub.execute_input": "2023-02-11T12:18:34.394219Z",
     "iopub.status.busy": "2023-02-11T12:18:34.393819Z",
     "iopub.status.idle": "2023-02-11T12:18:34.395433Z",
     "shell.execute_reply": "2023-02-11T12:18:34.395770Z"
    },
    "slideshow": {
     "slide_type": "fragment"
    }
   },
   "outputs": [],
   "source": [
    "with Slicer() as slicer:\n",
    "    demo(10)"
   ]
  },
  {
   "cell_type": "markdown",
   "metadata": {
    "slideshow": {
     "slide_type": "fragment"
    }
   },
   "source": [
    "After execution is complete, you can output `slicer` to visualize the dependencies and flows as graph. Data dependencies are shown as black solid edges; control dependencies are shown as grey dashed edges. The arrows indicate influence: If $y$ depends on $x$ (and thus $x$ flows into $y$), then we have an arrow $x \\rightarrow y$.\n",
    "We see how the parameter `x` flows into `z`, which is returned after some computation that is control dependent on a `<test>` involving `z`."
   ]
  },
  {
   "cell_type": "code",
   "execution_count": 246,
   "metadata": {
    "execution": {
     "iopub.execute_input": "2023-02-11T12:18:34.399323Z",
     "iopub.status.busy": "2023-02-11T12:18:34.397818Z",
     "iopub.status.idle": "2023-02-11T12:18:34.716723Z",
     "shell.execute_reply": "2023-02-11T12:18:34.717042Z"
    },
    "slideshow": {
     "slide_type": "fragment"
    }
   },
   "outputs": [
    {
     "data": {
      "image/svg+xml": [
       "<?xml version=\"1.0\" encoding=\"UTF-8\" standalone=\"no\"?>\n",
       "<!DOCTYPE svg PUBLIC \"-//W3C//DTD SVG 1.1//EN\"\n",
       " \"http://www.w3.org/Graphics/SVG/1.1/DTD/svg11.dtd\">\n",
       "<!-- Generated by graphviz version 7.0.2 (20221119.0110)\n",
       " -->\n",
       "<!-- Title: dependencies Pages: 1 -->\n",
       "<svg width=\"342pt\" height=\"276pt\"\n",
       " viewBox=\"0.00 0.00 341.50 276.00\" xmlns=\"http://www.w3.org/2000/svg\" xmlns:xlink=\"http://www.w3.org/1999/xlink\">\n",
       "<g id=\"graph0\" class=\"graph\" transform=\"scale(1 1) rotate(0) translate(4 272)\">\n",
       "<title>dependencies</title>\n",
       "<polygon fill=\"white\" stroke=\"none\" points=\"-4,4 -4,-272 337.5,-272 337.5,4 -4,4\"/>\n",
       "<!-- demoreturnvalue_functiondemoat0x106bd53f0_5 -->\n",
       "<g id=\"node1\" class=\"node\">\n",
       "<title>demoreturnvalue_functiondemoat0x106bd53f0_5</title>\n",
       "<g id=\"a_node1\"><a xlink:title=\"demo:5\">\n",
       "<polygon fill=\"peachpuff\" stroke=\"black\" points=\"190,-40 0,-40 0,0 190,0 190,-40\"/>\n",
       "<text text-anchor=\"start\" x=\"8\" y=\"-25.8\" font-family=\"Courier,monospace\" font-weight=\"bold\" font-style=\"italic\" font-size=\"14.00\">&lt;demo() return value&gt;</text>\n",
       "<text text-anchor=\"start\" x=\"73.5\" y=\"-6.8\" font-family=\"Courier,monospace\" font-size=\"9.00\">return z</text>\n",
       "</a>\n",
       "</g>\n",
       "</g>\n",
       "<!-- z_functiondemoat0x106bd53f0_4 -->\n",
       "<g id=\"node2\" class=\"node\">\n",
       "<title>z_functiondemoat0x106bd53f0_4</title>\n",
       "<g id=\"a_node2\"><a xlink:title=\"demo:4\">\n",
       "<polygon fill=\"peachpuff\" stroke=\"black\" points=\"211,-116 157,-116 157,-76 211,-76 211,-116\"/>\n",
       "<text text-anchor=\"start\" x=\"179.5\" y=\"-101.8\" font-family=\"Courier,monospace\" font-weight=\"bold\" font-size=\"14.00\">z</text>\n",
       "<text text-anchor=\"start\" x=\"168\" y=\"-82.8\" font-family=\"Courier,monospace\" font-size=\"9.00\">z *= 2</text>\n",
       "</a>\n",
       "</g>\n",
       "</g>\n",
       "<!-- z_functiondemoat0x106bd53f0_4&#45;&gt;demoreturnvalue_functiondemoat0x106bd53f0_5 -->\n",
       "<g id=\"edge1\" class=\"edge\">\n",
       "<title>z_functiondemoat0x106bd53f0_4&#45;&gt;demoreturnvalue_functiondemoat0x106bd53f0_5</title>\n",
       "<path fill=\"none\" stroke=\"black\" d=\"M156.58,-77.09C145.14,-68.31 132,-57.56 120.75,-47.83\"/>\n",
       "<polygon fill=\"black\" stroke=\"black\" points=\"123.16,-45.29 113.34,-41.3 118.53,-50.54 123.16,-45.29\"/>\n",
       "</g>\n",
       "<!-- z_functiondemoat0x106bd53f0_4&#45;&gt;demoreturnvalue_functiondemoat0x106bd53f0_5 -->\n",
       "<!-- z_functiondemoat0x106bd53f0_4&#45;&gt;z_functiondemoat0x106bd53f0_4 -->\n",
       "<g id=\"edge2\" class=\"edge\">\n",
       "<title>z_functiondemoat0x106bd53f0_4&#45;&gt;z_functiondemoat0x106bd53f0_4</title>\n",
       "<path fill=\"none\" stroke=\"black\" d=\"M211.24,-110.24C221.02,-110.54 229,-105.8 229,-96 229,-90.34 226.33,-86.36 222.19,-84.07\"/>\n",
       "<polygon fill=\"black\" stroke=\"black\" points=\"223.23,-80.71 212.72,-82.08 221.78,-87.56 223.23,-80.71\"/>\n",
       "</g>\n",
       "<!-- test_functiondemoat0x106bd53f0_3 -->\n",
       "<g id=\"node5\" class=\"node\">\n",
       "<title>test_functiondemoat0x106bd53f0_3</title>\n",
       "<g id=\"a_node5\"><a xlink:title=\"demo:3\">\n",
       "<polygon fill=\"peachpuff\" stroke=\"black\" points=\"324,-40 208,-40 208,0 324,0 324,-40\"/>\n",
       "<text text-anchor=\"start\" x=\"241\" y=\"-25.8\" font-family=\"Courier,monospace\" font-weight=\"bold\" font-style=\"italic\" font-size=\"14.00\">&lt;test&gt;</text>\n",
       "<text text-anchor=\"start\" x=\"216\" y=\"-6.8\" font-family=\"Courier,monospace\" font-size=\"9.00\">while x &lt;= z &lt;= 64:</text>\n",
       "</a>\n",
       "</g>\n",
       "</g>\n",
       "<!-- z_functiondemoat0x106bd53f0_4&#45;&gt;test_functiondemoat0x106bd53f0_3 -->\n",
       "<g id=\"edge6\" class=\"edge\">\n",
       "<title>z_functiondemoat0x106bd53f0_4&#45;&gt;test_functiondemoat0x106bd53f0_3</title>\n",
       "<path fill=\"none\" stroke=\"black\" d=\"M193.5,-75.56C201.47,-66.97 212.48,-56.75 223.65,-47.49\"/>\n",
       "<polygon fill=\"black\" stroke=\"black\" points=\"225.79,-50.25 231.4,-41.26 221.41,-44.8 225.79,-50.25\"/>\n",
       "</g>\n",
       "<!-- x_functiondemoat0x106bd53f0_1 -->\n",
       "<g id=\"node3\" class=\"node\">\n",
       "<title>x_functiondemoat0x106bd53f0_1</title>\n",
       "<g id=\"a_node3\"><a xlink:title=\"demo:1\">\n",
       "<polygon fill=\"peachpuff\" stroke=\"black\" points=\"333.5,-268 190.5,-268 190.5,-228 333.5,-228 333.5,-268\"/>\n",
       "<text text-anchor=\"start\" x=\"257.5\" y=\"-253.8\" font-family=\"Courier,monospace\" font-weight=\"bold\" font-size=\"14.00\">x</text>\n",
       "<text text-anchor=\"start\" x=\"198.5\" y=\"-234.8\" font-family=\"Courier,monospace\" font-size=\"9.00\">def demo(x: int) &#45;&gt; int:</text>\n",
       "</a>\n",
       "</g>\n",
       "</g>\n",
       "<!-- z_functiondemoat0x106bd53f0_2 -->\n",
       "<g id=\"node4\" class=\"node\">\n",
       "<title>z_functiondemoat0x106bd53f0_2</title>\n",
       "<g id=\"a_node4\"><a xlink:title=\"demo:2\">\n",
       "<polygon fill=\"peachpuff\" stroke=\"black\" points=\"289,-192 235,-192 235,-152 289,-152 289,-192\"/>\n",
       "<text text-anchor=\"start\" x=\"257.5\" y=\"-177.8\" font-family=\"Courier,monospace\" font-weight=\"bold\" font-size=\"14.00\">z</text>\n",
       "<text text-anchor=\"start\" x=\"248.5\" y=\"-158.8\" font-family=\"Courier,monospace\" font-size=\"9.00\">z = x</text>\n",
       "</a>\n",
       "</g>\n",
       "</g>\n",
       "<!-- x_functiondemoat0x106bd53f0_1&#45;&gt;z_functiondemoat0x106bd53f0_2 -->\n",
       "<g id=\"edge5\" class=\"edge\">\n",
       "<title>x_functiondemoat0x106bd53f0_1&#45;&gt;z_functiondemoat0x106bd53f0_2</title>\n",
       "<path fill=\"none\" stroke=\"black\" d=\"M255.98,-227.56C255.32,-220.25 255.11,-211.75 255.34,-203.67\"/>\n",
       "<polygon fill=\"black\" stroke=\"black\" points=\"258.82,-204.01 255.9,-193.82 251.84,-203.61 258.82,-204.01\"/>\n",
       "</g>\n",
       "<!-- x_functiondemoat0x106bd53f0_1&#45;&gt;z_functiondemoat0x106bd53f0_2 -->\n",
       "<!-- x_functiondemoat0x106bd53f0_1&#45;&gt;test_functiondemoat0x106bd53f0_3 -->\n",
       "<g id=\"edge8\" class=\"edge\">\n",
       "<title>x_functiondemoat0x106bd53f0_1&#45;&gt;test_functiondemoat0x106bd53f0_3</title>\n",
       "<path fill=\"none\" stroke=\"black\" d=\"M278.75,-227.53C286.2,-217.6 294.15,-204.9 298,-192 312.48,-143.42 294.22,-85.04 279.93,-50.59\"/>\n",
       "<polygon fill=\"black\" stroke=\"black\" points=\"283.25,-49.47 276.07,-41.68 276.83,-52.25 283.25,-49.47\"/>\n",
       "</g>\n",
       "<!-- z_functiondemoat0x106bd53f0_2&#45;&gt;z_functiondemoat0x106bd53f0_4 -->\n",
       "<g id=\"edge3\" class=\"edge\">\n",
       "<title>z_functiondemoat0x106bd53f0_2&#45;&gt;z_functiondemoat0x106bd53f0_4</title>\n",
       "<path fill=\"none\" stroke=\"black\" d=\"M241.51,-151.56C232.64,-143.14 222.11,-133.16 212.5,-124.04\"/>\n",
       "<polygon fill=\"black\" stroke=\"black\" points=\"215.12,-121.7 205.45,-117.35 210.3,-126.78 215.12,-121.7\"/>\n",
       "</g>\n",
       "<!-- z_functiondemoat0x106bd53f0_2&#45;&gt;test_functiondemoat0x106bd53f0_3 -->\n",
       "<g id=\"edge7\" class=\"edge\">\n",
       "<title>z_functiondemoat0x106bd53f0_2&#45;&gt;test_functiondemoat0x106bd53f0_3</title>\n",
       "<path fill=\"none\" stroke=\"black\" d=\"M257.81,-151.7C256.08,-126.27 257,-81.28 259.65,-51.29\"/>\n",
       "<polygon fill=\"black\" stroke=\"black\" points=\"263.09,-52.04 260.64,-41.73 256.13,-51.32 263.09,-52.04\"/>\n",
       "</g>\n",
       "<!-- z_functiondemoat0x106bd53f0_2&#45;&gt;test_functiondemoat0x106bd53f0_3 -->\n",
       "<!-- test_functiondemoat0x106bd53f0_3&#45;&gt;z_functiondemoat0x106bd53f0_4 -->\n",
       "<g id=\"edge4\" class=\"edge\">\n",
       "<title>test_functiondemoat0x106bd53f0_3&#45;&gt;z_functiondemoat0x106bd53f0_4</title>\n",
       "<path fill=\"none\" stroke=\"grey\" stroke-dasharray=\"5,2\" d=\"M244.6,-40.31C235.2,-48.79 224.01,-58.9 213.81,-68.1\"/>\n",
       "<polygon fill=\"grey\" stroke=\"grey\" points=\"211.75,-65.25 206.67,-74.54 216.44,-70.44 211.75,-65.25\"/>\n",
       "</g>\n",
       "<!-- test_functiondemoat0x106bd53f0_3&#45;&gt;z_functiondemoat0x106bd53f0_4 -->\n",
       "</g>\n",
       "</svg>\n"
      ],
      "text/plain": [
       "<__main__.Slicer at 0x106900df0>"
      ]
     },
     "execution_count": 246,
     "metadata": {},
     "output_type": "execute_result"
    }
   ],
   "source": [
    "slicer"
   ]
  },
  {
   "cell_type": "markdown",
   "metadata": {
    "slideshow": {
     "slide_type": "subslide"
    }
   },
   "source": [
    "An alternate representation is `slicer.code()`, annotating the instrumented source code with (backward) dependencies. Data dependencies are shown with `<=`, control dependencies with `<-`; locations (lines) are shown in parentheses."
   ]
  },
  {
   "cell_type": "code",
   "execution_count": 247,
   "metadata": {
    "execution": {
     "iopub.execute_input": "2023-02-11T12:18:34.743997Z",
     "iopub.status.busy": "2023-02-11T12:18:34.743483Z",
     "iopub.status.idle": "2023-02-11T12:18:34.872925Z",
     "shell.execute_reply": "2023-02-11T12:18:34.873291Z"
    },
    "slideshow": {
     "slide_type": "fragment"
    }
   },
   "outputs": [
    {
     "name": "stdout",
     "output_type": "stream",
     "text": [
      "*    1 \u001b[34mdef\u001b[39;49;00m \u001b[32mdemo\u001b[39;49;00m(x: \u001b[36mint\u001b[39;49;00m) -> \u001b[36mint\u001b[39;49;00m:\u001b[37m\u001b[39;49;00m\n",
      "*    2     z = x  \u001b[37m# <= x (1)\u001b[39;49;00m\u001b[37m\u001b[39;49;00m\n",
      "*    3     \u001b[34mwhile\u001b[39;49;00m x <= z <= \u001b[34m64\u001b[39;49;00m:  \u001b[37m# <= z (4), z (2), x (1)\u001b[39;49;00m\u001b[37m\u001b[39;49;00m\n",
      "*    4         z *= \u001b[34m2\u001b[39;49;00m  \u001b[37m# <= z (4), z (2); <- <test> (3)\u001b[39;49;00m\u001b[37m\u001b[39;49;00m\n",
      "*    5     \u001b[34mreturn\u001b[39;49;00m z  \u001b[37m# <= z (4)\u001b[39;49;00m\u001b[37m\u001b[39;49;00m\n"
     ]
    }
   ],
   "source": [
    "slicer.code()"
   ]
  },
  {
   "cell_type": "markdown",
   "metadata": {
    "slideshow": {
     "slide_type": "fragment"
    }
   },
   "source": [
    "Dependencies can also be retrieved programmatically. The `dependencies()` method returns a `Dependencies` object encapsulating the dependency graph."
   ]
  },
  {
   "cell_type": "markdown",
   "metadata": {
    "slideshow": {
     "slide_type": "subslide"
    }
   },
   "source": [
    "The method `all_vars()` returns all variables in the dependency graph. Each variable is encoded as a pair (_name_, _location_) where _location_ is a pair (_codename_, _lineno_)."
   ]
  },
  {
   "cell_type": "code",
   "execution_count": 248,
   "metadata": {
    "execution": {
     "iopub.execute_input": "2023-02-11T12:18:34.876547Z",
     "iopub.status.busy": "2023-02-11T12:18:34.876237Z",
     "iopub.status.idle": "2023-02-11T12:18:34.877747Z",
     "shell.execute_reply": "2023-02-11T12:18:34.877990Z"
    },
    "slideshow": {
     "slide_type": "fragment"
    }
   },
   "outputs": [
    {
     "data": {
      "text/plain": [
       "{('<demo() return value>', (<function __main__.demo(x: int) -> int>, 5)),\n",
       " ('<test>', (<function __main__.demo(x: int) -> int>, 3)),\n",
       " ('x', (<function __main__.demo(x: int) -> int>, 1)),\n",
       " ('z', (<function __main__.demo(x: int) -> int>, 2)),\n",
       " ('z', (<function __main__.demo(x: int) -> int>, 4))}"
      ]
     },
     "execution_count": 248,
     "metadata": {},
     "output_type": "execute_result"
    }
   ],
   "source": [
    "slicer.dependencies().all_vars()"
   ]
  },
  {
   "attachments": {},
   "cell_type": "markdown",
   "metadata": {
    "slideshow": {
     "slide_type": "fragment"
    }
   },
   "source": [
    "`code()` and `graph()` methods can also be applied on dependencies. The method `backward_slice(var)` returns a backward slice for the given variable (again given as a pair (_name_, _location_)). To retrieve where `z` in Line 2 came from, use:"
   ]
  },
  {
   "cell_type": "code",
   "execution_count": 249,
   "metadata": {
    "execution": {
     "iopub.execute_input": "2023-02-11T12:18:34.880162Z",
     "iopub.status.busy": "2023-02-11T12:18:34.879791Z",
     "iopub.status.idle": "2023-02-11T12:18:34.881415Z",
     "shell.execute_reply": "2023-02-11T12:18:34.881606Z"
    },
    "slideshow": {
     "slide_type": "subslide"
    }
   },
   "outputs": [
    {
     "data": {
      "text/plain": [
       "1"
      ]
     },
     "execution_count": 249,
     "metadata": {},
     "output_type": "execute_result"
    }
   ],
   "source": [
    "_, start_demo = inspect.getsourcelines(demo)\n",
    "start_demo"
   ]
  },
  {
   "cell_type": "code",
   "execution_count": 250,
   "metadata": {
    "execution": {
     "iopub.execute_input": "2023-02-11T12:18:34.884890Z",
     "iopub.status.busy": "2023-02-11T12:18:34.884542Z",
     "iopub.status.idle": "2023-02-11T12:18:35.172865Z",
     "shell.execute_reply": "2023-02-11T12:18:35.173415Z"
    },
    "slideshow": {
     "slide_type": "fragment"
    }
   },
   "outputs": [
    {
     "data": {
      "image/svg+xml": [
       "<?xml version=\"1.0\" encoding=\"UTF-8\" standalone=\"no\"?>\n",
       "<!DOCTYPE svg PUBLIC \"-//W3C//DTD SVG 1.1//EN\"\n",
       " \"http://www.w3.org/Graphics/SVG/1.1/DTD/svg11.dtd\">\n",
       "<!-- Generated by graphviz version 7.0.2 (20221119.0110)\n",
       " -->\n",
       "<!-- Title: dependencies Pages: 1 -->\n",
       "<svg width=\"151pt\" height=\"124pt\"\n",
       " viewBox=\"0.00 0.00 151.00 124.00\" xmlns=\"http://www.w3.org/2000/svg\" xmlns:xlink=\"http://www.w3.org/1999/xlink\">\n",
       "<g id=\"graph0\" class=\"graph\" transform=\"scale(1 1) rotate(0) translate(4 120)\">\n",
       "<title>dependencies</title>\n",
       "<polygon fill=\"white\" stroke=\"none\" points=\"-4,4 -4,-120 147,-120 147,4 -4,4\"/>\n",
       "<!-- z_functiondemoat0x106bd53f0_2 -->\n",
       "<g id=\"node1\" class=\"node\">\n",
       "<title>z_functiondemoat0x106bd53f0_2</title>\n",
       "<g id=\"a_node1\"><a xlink:title=\"demo:2\">\n",
       "<polygon fill=\"peachpuff\" stroke=\"black\" points=\"98.5,-40 44.5,-40 44.5,0 98.5,0 98.5,-40\"/>\n",
       "<text text-anchor=\"start\" x=\"67\" y=\"-25.8\" font-family=\"Courier,monospace\" font-weight=\"bold\" font-size=\"14.00\">z</text>\n",
       "<text text-anchor=\"start\" x=\"58\" y=\"-6.8\" font-family=\"Courier,monospace\" font-size=\"9.00\">z = x</text>\n",
       "</a>\n",
       "</g>\n",
       "</g>\n",
       "<!-- x_functiondemoat0x106bd53f0_1 -->\n",
       "<g id=\"node2\" class=\"node\">\n",
       "<title>x_functiondemoat0x106bd53f0_1</title>\n",
       "<g id=\"a_node2\"><a xlink:title=\"demo:1\">\n",
       "<polygon fill=\"peachpuff\" stroke=\"black\" points=\"143,-116 0,-116 0,-76 143,-76 143,-116\"/>\n",
       "<text text-anchor=\"start\" x=\"67\" y=\"-101.8\" font-family=\"Courier,monospace\" font-weight=\"bold\" font-size=\"14.00\">x</text>\n",
       "<text text-anchor=\"start\" x=\"8\" y=\"-82.8\" font-family=\"Courier,monospace\" font-size=\"9.00\">def demo(x: int) &#45;&gt; int:</text>\n",
       "</a>\n",
       "</g>\n",
       "</g>\n",
       "<!-- x_functiondemoat0x106bd53f0_1&#45;&gt;z_functiondemoat0x106bd53f0_2 -->\n",
       "<g id=\"edge1\" class=\"edge\">\n",
       "<title>x_functiondemoat0x106bd53f0_1&#45;&gt;z_functiondemoat0x106bd53f0_2</title>\n",
       "<path fill=\"none\" stroke=\"black\" d=\"M65.48,-75.56C64.82,-68.25 64.61,-59.75 64.84,-51.67\"/>\n",
       "<polygon fill=\"black\" stroke=\"black\" points=\"68.32,-52.01 65.4,-41.82 61.34,-51.61 68.32,-52.01\"/>\n",
       "</g>\n",
       "<!-- x_functiondemoat0x106bd53f0_1&#45;&gt;z_functiondemoat0x106bd53f0_2 -->\n",
       "</g>\n",
       "</svg>\n"
      ],
      "text/plain": [
       "<graphviz.graphs.Digraph at 0x106f95000>"
      ]
     },
     "execution_count": 250,
     "metadata": {},
     "output_type": "execute_result"
    }
   ],
   "source": [
    "slicer.dependencies().backward_slice(('z', (demo, start_demo + 1))).graph()  # type: ignore"
   ]
  },
  {
   "cell_type": "markdown",
   "metadata": {
    "slideshow": {
     "slide_type": "fragment"
    }
   },
   "source": [
    "Here are the classes defined in this chapter. A `Slicer` instruments a program, using a `DependencyTracker` at run time to collect `Dependencies`."
   ]
  },
  {
   "cell_type": "code",
   "execution_count": 251,
   "metadata": {
    "execution": {
     "iopub.execute_input": "2023-02-11T12:18:35.176214Z",
     "iopub.status.busy": "2023-02-11T12:18:35.175897Z",
     "iopub.status.idle": "2023-02-11T12:18:35.177279Z",
     "shell.execute_reply": "2023-02-11T12:18:35.177624Z"
    },
    "slideshow": {
     "slide_type": "fragment"
    }
   },
   "outputs": [],
   "source": [
    "# ignore\n",
    "from ClassDiagram import display_class_hierarchy, class_tree"
   ]
  },
  {
   "cell_type": "code",
   "execution_count": 252,
   "metadata": {
    "execution": {
     "iopub.execute_input": "2023-02-11T12:18:35.179701Z",
     "iopub.status.busy": "2023-02-11T12:18:35.179401Z",
     "iopub.status.idle": "2023-02-11T12:18:35.180549Z",
     "shell.execute_reply": "2023-02-11T12:18:35.180933Z"
    },
    "slideshow": {
     "slide_type": "fragment"
    }
   },
   "outputs": [],
   "source": [
    "# ignore\n",
    "assert class_tree(Slicer)[0][0] == Slicer"
   ]
  },
  {
   "cell_type": "code",
   "execution_count": 253,
   "metadata": {
    "execution": {
     "iopub.execute_input": "2023-02-11T12:18:35.188763Z",
     "iopub.status.busy": "2023-02-11T12:18:35.188271Z",
     "iopub.status.idle": "2023-02-11T12:18:35.526979Z",
     "shell.execute_reply": "2023-02-11T12:18:35.527410Z"
    },
    "slideshow": {
     "slide_type": "subslide"
    }
   },
   "outputs": [
    {
     "data": {
      "image/svg+xml": [
       "<?xml version=\"1.0\" encoding=\"UTF-8\" standalone=\"no\"?>\n",
       "<!DOCTYPE svg PUBLIC \"-//W3C//DTD SVG 1.1//EN\"\n",
       " \"http://www.w3.org/Graphics/SVG/1.1/DTD/svg11.dtd\">\n",
       "<!-- Generated by graphviz version 7.0.2 (20221119.0110)\n",
       " -->\n",
       "<!-- Pages: 1 -->\n",
       "<svg width=\"547pt\" height=\"794pt\"\n",
       " viewBox=\"0.00 0.00 546.50 794.00\" xmlns=\"http://www.w3.org/2000/svg\" xmlns:xlink=\"http://www.w3.org/1999/xlink\">\n",
       "<g id=\"graph0\" class=\"graph\" transform=\"scale(1 1) rotate(0) translate(4 790)\">\n",
       "<g id=\"a_graph0\"><a xlink:title=\"Slicer class hierarchy\">\n",
       "<polygon fill=\"white\" stroke=\"none\" points=\"-4,4 -4,-790 542.5,-790 542.5,4 -4,4\"/>\n",
       "</a>\n",
       "</g>\n",
       "<!-- Slicer -->\n",
       "<g id=\"node1\" class=\"node\">\n",
       "<title>Slicer</title>\n",
       "<g id=\"a_node1\"><a xlink:href=\"#\" xlink:title=\"class Slicer:&#10;Track dependencies in an execution\">\n",
       "<polygon fill=\"none\" stroke=\"black\" points=\"0,-26.5 0,-222.5 191,-222.5 191,-26.5 0,-26.5\"/>\n",
       "<text text-anchor=\"start\" x=\"78\" y=\"-208.3\" font-family=\"Raleway, Helvetica, Arial, sans-serif\" font-weight=\"bold\" font-size=\"14.00\" fill=\"#6a0dad\">Slicer</text>\n",
       "<polyline fill=\"none\" stroke=\"black\" points=\"0,-199.5 191,-199.5\"/>\n",
       "<g id=\"a_node1_0\"><a xlink:href=\"#\" xlink:title=\"Slicer\">\n",
       "<g id=\"a_node1_1\"><a xlink:href=\"#\" xlink:title=\"__init__(self, *items_to_instrument: Any, dependency_tracker: Optional[DependencyTracker] = None, globals: Optional[Dict[str, Any]] = None, log: Union[bool, int] = False):&#10;Create a slicer.&#10;`items_to_instrument` are Python functions or modules with source code.&#10;`dependency_tracker` is the tracker to be used (default: DependencyTracker).&#10;`globals` is the namespace to be used(default: caller&#39;s `globals()`)&#10;`log`=True or `log` &gt; 0 turns on logging\">\n",
       "<text text-anchor=\"start\" x=\"8.5\" y=\"-188\" font-family=\"'Fira Mono', 'Source Code Pro', 'Courier', monospace\" font-weight=\"bold\" font-style=\"italic\" font-size=\"10.00\">__init__()</text>\n",
       "</a>\n",
       "</g>\n",
       "<g id=\"a_node1_2\"><a xlink:href=\"#\" xlink:title=\"_repr_mimebundle_(self, include: Any = None, exclude: Any = None) &#45;&gt; Any:&#10;If the object is output in Jupyter, render dependencies as a SVG graph\">\n",
       "<text text-anchor=\"start\" x=\"8.5\" y=\"-177\" font-family=\"'Fira Mono', 'Source Code Pro', 'Courier', monospace\" font-weight=\"bold\" font-size=\"10.00\">_repr_mimebundle_()</text>\n",
       "</a>\n",
       "</g>\n",
       "<g id=\"a_node1_3\"><a xlink:href=\"#\" xlink:title=\"code(self, *args: Any, **kwargs: Any) &#45;&gt; None:&#10;Show code of instrumented items, annotated with dependencies.\">\n",
       "<text text-anchor=\"start\" x=\"8.5\" y=\"-166\" font-family=\"'Fira Mono', 'Source Code Pro', 'Courier', monospace\" font-weight=\"bold\" font-size=\"10.00\">code()</text>\n",
       "</a>\n",
       "</g>\n",
       "<g id=\"a_node1_4\"><a xlink:href=\"#\" xlink:title=\"dependencies(self) &#45;&gt; Dependencies:&#10;Return collected dependencies.\">\n",
       "<text text-anchor=\"start\" x=\"8.5\" y=\"-155\" font-family=\"'Fira Mono', 'Source Code Pro', 'Courier', monospace\" font-weight=\"bold\" font-size=\"10.00\">dependencies()</text>\n",
       "</a>\n",
       "</g>\n",
       "<g id=\"a_node1_5\"><a xlink:href=\"#\" xlink:title=\"graph(self, *args: Any, **kwargs: Any) &#45;&gt; graphviz.graphs.Digraph:&#10;Show dependency graph.\">\n",
       "<text text-anchor=\"start\" x=\"8.5\" y=\"-144\" font-family=\"'Fira Mono', 'Source Code Pro', 'Courier', monospace\" font-weight=\"bold\" font-size=\"10.00\">graph()</text>\n",
       "</a>\n",
       "</g>\n",
       "<g id=\"a_node1_6\"><a xlink:href=\"#\" xlink:title=\"calls_in_our_with_block(self) &#45;&gt; Set[str]:&#10;Return a set of function names called in the `with` block.\">\n",
       "<text text-anchor=\"start\" x=\"8.5\" y=\"-132\" font-family=\"'Fira Mono', 'Source Code Pro', 'Courier', monospace\" font-size=\"10.00\">calls_in_our_with_block()</text>\n",
       "</a>\n",
       "</g>\n",
       "<g id=\"a_node1_7\"><a xlink:href=\"#\" xlink:title=\"default_items_to_instrument(self) &#45;&gt; List[Callable]\">\n",
       "<text text-anchor=\"start\" x=\"8.5\" y=\"-122\" font-family=\"'Fira Mono', 'Source Code Pro', 'Courier', monospace\" font-style=\"italic\" font-size=\"10.00\">default_items_to_instrument()</text>\n",
       "</a>\n",
       "</g>\n",
       "<g id=\"a_node1_8\"><a xlink:href=\"#\" xlink:title=\"execute(self, tree: ast.AST, item: Any) &#45;&gt; None:&#10;Compile and execute `tree`. May be extended in subclasses.\">\n",
       "<text text-anchor=\"start\" x=\"8.5\" y=\"-111\" font-family=\"'Fira Mono', 'Source Code Pro', 'Courier', monospace\" font-style=\"italic\" font-size=\"10.00\">execute()</text>\n",
       "</a>\n",
       "</g>\n",
       "<g id=\"a_node1_9\"><a xlink:href=\"#\" xlink:title=\"funcs_in_our_with_block(self) &#45;&gt; List[Callable]\">\n",
       "<text text-anchor=\"start\" x=\"8.5\" y=\"-99\" font-family=\"'Fira Mono', 'Source Code Pro', 'Courier', monospace\" font-size=\"10.00\">funcs_in_our_with_block()</text>\n",
       "</a>\n",
       "</g>\n",
       "<g id=\"a_node1_10\"><a xlink:href=\"#\" xlink:title=\"instrument(self, item: Any) &#45;&gt; Any:&#10;Instrument `item`, transforming its source code, and re&#45;defining it.\">\n",
       "<text text-anchor=\"start\" x=\"8.5\" y=\"-89\" font-family=\"'Fira Mono', 'Source Code Pro', 'Courier', monospace\" font-style=\"italic\" font-size=\"10.00\">instrument()</text>\n",
       "</a>\n",
       "</g>\n",
       "<g id=\"a_node1_11\"><a xlink:href=\"#\" xlink:title=\"our_with_block(self) &#45;&gt; ast.With:&#10;Return the currently active `with` block.\">\n",
       "<text text-anchor=\"start\" x=\"8.5\" y=\"-77\" font-family=\"'Fira Mono', 'Source Code Pro', 'Courier', monospace\" font-size=\"10.00\">our_with_block()</text>\n",
       "</a>\n",
       "</g>\n",
       "<g id=\"a_node1_12\"><a xlink:href=\"#\" xlink:title=\"parse(self, item: Any) &#45;&gt; ast.AST:&#10;Parse `item`, returning its AST\">\n",
       "<text text-anchor=\"start\" x=\"8.5\" y=\"-66\" font-family=\"'Fira Mono', 'Source Code Pro', 'Courier', monospace\" font-size=\"10.00\">parse()</text>\n",
       "</a>\n",
       "</g>\n",
       "<g id=\"a_node1_13\"><a xlink:href=\"#\" xlink:title=\"restore(self) &#45;&gt; None:&#10;Restore original code.\">\n",
       "<text text-anchor=\"start\" x=\"8.5\" y=\"-56\" font-family=\"'Fira Mono', 'Source Code Pro', 'Courier', monospace\" font-style=\"italic\" font-size=\"10.00\">restore()</text>\n",
       "</a>\n",
       "</g>\n",
       "<g id=\"a_node1_14\"><a xlink:href=\"#\" xlink:title=\"transform(self, tree: ast.AST) &#45;&gt; ast.AST:&#10;Apply transformers on `tree`. May be extended in subclasses.\">\n",
       "<text text-anchor=\"start\" x=\"8.5\" y=\"-45\" font-family=\"'Fira Mono', 'Source Code Pro', 'Courier', monospace\" font-style=\"italic\" font-size=\"10.00\">transform()</text>\n",
       "</a>\n",
       "</g>\n",
       "<g id=\"a_node1_15\"><a xlink:href=\"#\" xlink:title=\"transformers(self) &#45;&gt; List[ast.NodeTransformer]:&#10;List of transformers to apply. To be extended in subclasses.\">\n",
       "<text text-anchor=\"start\" x=\"8.5\" y=\"-34\" font-family=\"'Fira Mono', 'Source Code Pro', 'Courier', monospace\" font-style=\"italic\" font-size=\"10.00\">transformers()</text>\n",
       "</a>\n",
       "</g>\n",
       "</a>\n",
       "</g>\n",
       "</a>\n",
       "</g>\n",
       "</g>\n",
       "<!-- Instrumenter -->\n",
       "<g id=\"node2\" class=\"node\">\n",
       "<title>Instrumenter</title>\n",
       "<g id=\"a_node2\"><a xlink:href=\"#\" xlink:title=\"class Instrumenter:&#10;Instrument functions for dynamic tracking\">\n",
       "<polygon fill=\"none\" stroke=\"black\" points=\"18,-405 18,-502 209,-502 209,-405 18,-405\"/>\n",
       "<text text-anchor=\"start\" x=\"75.5\" y=\"-487.8\" font-family=\"Raleway, Helvetica, Arial, sans-serif\" font-weight=\"bold\" font-style=\"italic\" font-size=\"14.00\" fill=\"#6a0dad\">Instrumenter</text>\n",
       "<polyline fill=\"none\" stroke=\"black\" points=\"18,-479 209,-479\"/>\n",
       "<g id=\"a_node2_16\"><a xlink:href=\"#\" xlink:title=\"Instrumenter\">\n",
       "<g id=\"a_node2_17\"><a xlink:href=\"#\" xlink:title=\"__enter__(self) &#45;&gt; Any:&#10;Instrument sources\">\n",
       "<text text-anchor=\"start\" x=\"26.5\" y=\"-468\" font-family=\"'Fira Mono', 'Source Code Pro', 'Courier', monospace\" font-weight=\"bold\" font-size=\"10.00\">__enter__()</text>\n",
       "</a>\n",
       "</g>\n",
       "<g id=\"a_node2_18\"><a xlink:href=\"#\" xlink:title=\"__exit__(self, exc_type: Type, exc_value: BaseException, traceback: traceback) &#45;&gt; Optional[bool]:&#10;Restore sources\">\n",
       "<text text-anchor=\"start\" x=\"26.5\" y=\"-457\" font-family=\"'Fira Mono', 'Source Code Pro', 'Courier', monospace\" font-weight=\"bold\" font-size=\"10.00\">__exit__()</text>\n",
       "</a>\n",
       "</g>\n",
       "<g id=\"a_node2_19\"><a xlink:href=\"#\" xlink:title=\"__init__(self, *items_to_instrument: Callable, globals: Optional[Dict[str, Any]] = None, log: Union[bool, int] = False) &#45;&gt; None:&#10;Create an instrumenter.&#10;`items_to_instrument` is a list of items to instrument.&#10;`globals` is a namespace to use (default: caller&#39;s globals())\">\n",
       "<text text-anchor=\"start\" x=\"26.5\" y=\"-446\" font-family=\"'Fira Mono', 'Source Code Pro', 'Courier', monospace\" font-weight=\"bold\" font-style=\"italic\" font-size=\"10.00\">__init__()</text>\n",
       "</a>\n",
       "</g>\n",
       "<g id=\"a_node2_20\"><a xlink:href=\"#\" xlink:title=\"instrument(self, item: Any) &#45;&gt; Any:&#10;Instrument `item`. To be overloaded in subclasses.\">\n",
       "<text text-anchor=\"start\" x=\"26.5\" y=\"-435\" font-family=\"'Fira Mono', 'Source Code Pro', 'Courier', monospace\" font-weight=\"bold\" font-style=\"italic\" font-size=\"10.00\">instrument()</text>\n",
       "</a>\n",
       "</g>\n",
       "<g id=\"a_node2_21\"><a xlink:href=\"#\" xlink:title=\"default_items_to_instrument(self) &#45;&gt; List[Callable]\">\n",
       "<text text-anchor=\"start\" x=\"26.5\" y=\"-424\" font-family=\"'Fira Mono', 'Source Code Pro', 'Courier', monospace\" font-style=\"italic\" font-size=\"10.00\">default_items_to_instrument()</text>\n",
       "</a>\n",
       "</g>\n",
       "<g id=\"a_node2_22\"><a xlink:href=\"#\" xlink:title=\"restore(self) &#45;&gt; None\">\n",
       "<text text-anchor=\"start\" x=\"26.5\" y=\"-413\" font-family=\"'Fira Mono', 'Source Code Pro', 'Courier', monospace\" font-style=\"italic\" font-size=\"10.00\">restore()</text>\n",
       "</a>\n",
       "</g>\n",
       "</a>\n",
       "</g>\n",
       "</a>\n",
       "</g>\n",
       "</g>\n",
       "<!-- Slicer&#45;&gt;Instrumenter -->\n",
       "<g id=\"edge1\" class=\"edge\">\n",
       "<title>Slicer&#45;&gt;Instrumenter</title>\n",
       "<path fill=\"none\" stroke=\"black\" d=\"M100.83,-222.28C103.89,-277.96 107.64,-346.09 110.27,-393.73\"/>\n",
       "<polygon fill=\"none\" stroke=\"black\" points=\"106.76,-393.78 110.81,-403.57 113.75,-393.39 106.76,-393.78\"/>\n",
       "</g>\n",
       "<!-- StackInspector -->\n",
       "<g id=\"node3\" class=\"node\">\n",
       "<title>StackInspector</title>\n",
       "<g id=\"a_node3\"><a xlink:href=\"StackInspector.ipynb\" xlink:title=\"class StackInspector:&#10;Provide functions to inspect the stack\">\n",
       "<polygon fill=\"none\" stroke=\"black\" points=\"212,-658.5 212,-785.5 379,-785.5 379,-658.5 212,-658.5\"/>\n",
       "<text text-anchor=\"start\" x=\"250\" y=\"-771.3\" font-family=\"Raleway, Helvetica, Arial, sans-serif\" font-weight=\"bold\" font-style=\"italic\" font-size=\"14.00\" fill=\"#6a0dad\">StackInspector</text>\n",
       "<polyline fill=\"none\" stroke=\"black\" points=\"212,-762.5 379,-762.5\"/>\n",
       "<g id=\"a_node3_23\"><a xlink:href=\"#\" xlink:title=\"StackInspector\">\n",
       "<g id=\"a_node3_24\"><a xlink:href=\"StackInspector.ipynb\" xlink:title=\"_generated_function_cache = {(&#39;&lt;cell line: 2&gt;&#39;, 2): &lt;function &lt;cell line: 2&gt; at 0x105f691b0&gt;, (&#39;&lt;cell line: 1&gt;&#39;, 1): &lt;function &lt;cell line: 1&gt; at 0x105f68040&gt;, (&#39;&lt;cell line: 3&gt;&#39;, 3): &lt;function &lt;cell line: 3&gt; at 0x10688f130&gt;, (&#39;&lt;cell line: 4&gt;&#39;, 4): &lt;function &lt;cell line: 4&gt; at 0x10688d360&gt;, (&#39;&lt;cell line: 1&gt;&#39;, 4): &lt;function &lt;cell line: 1&gt; at 0x10688dea0&gt;, (&#39;&lt;cell line: 1&gt;&#39;, 3): &lt;function &lt;cell line: 1&gt; at 0x10688d240&gt;, (&#39;&lt;listcomp&gt;&#39;, 18): &lt;bound method StackInspector.unknown of &lt;__main__.DependencyTracker object at 0x106902f80&gt;&gt;}\">\n",
       "<text text-anchor=\"start\" x=\"220.5\" y=\"-750\" font-family=\"'Fira Mono', 'Source Code Pro', 'Courier', monospace\" font-size=\"10.00\">_generated_function_cache</text>\n",
       "</a>\n",
       "</g>\n",
       "</a>\n",
       "</g>\n",
       "<polyline fill=\"none\" stroke=\"black\" points=\"212,-743.5 379,-743.5\"/>\n",
       "<g id=\"a_node3_25\"><a xlink:href=\"#\" xlink:title=\"StackInspector\">\n",
       "<g id=\"a_node3_26\"><a xlink:href=\"StackInspector.ipynb\" xlink:title=\"caller_frame(self) &#45;&gt; frame:&#10;Return the frame of the caller.\">\n",
       "<text text-anchor=\"start\" x=\"244.5\" y=\"-732\" font-family=\"'Fira Mono', 'Source Code Pro', 'Courier', monospace\" font-weight=\"bold\" font-size=\"10.00\">caller_frame()</text>\n",
       "</a>\n",
       "</g>\n",
       "<g id=\"a_node3_27\"><a xlink:href=\"StackInspector.ipynb\" xlink:title=\"caller_function(self) &#45;&gt; Callable:&#10;Return the calling function\">\n",
       "<text text-anchor=\"start\" x=\"244.5\" y=\"-721\" font-family=\"'Fira Mono', 'Source Code Pro', 'Courier', monospace\" font-weight=\"bold\" font-size=\"10.00\">caller_function()</text>\n",
       "</a>\n",
       "</g>\n",
       "<g id=\"a_node3_28\"><a xlink:href=\"StackInspector.ipynb\" xlink:title=\"caller_globals(self) &#45;&gt; Dict[str, Any]:&#10;Return the globals() environment of the caller.\">\n",
       "<text text-anchor=\"start\" x=\"244.5\" y=\"-710\" font-family=\"'Fira Mono', 'Source Code Pro', 'Courier', monospace\" font-weight=\"bold\" font-size=\"10.00\">caller_globals()</text>\n",
       "</a>\n",
       "</g>\n",
       "<g id=\"a_node3_29\"><a xlink:href=\"StackInspector.ipynb\" xlink:title=\"caller_locals(self) &#45;&gt; Dict[str, Any]:&#10;Return the locals() environment of the caller.\">\n",
       "<text text-anchor=\"start\" x=\"244.5\" y=\"-699\" font-family=\"'Fira Mono', 'Source Code Pro', 'Courier', monospace\" font-weight=\"bold\" font-size=\"10.00\">caller_locals()</text>\n",
       "</a>\n",
       "</g>\n",
       "<g id=\"a_node3_30\"><a xlink:href=\"StackInspector.ipynb\" xlink:title=\"caller_location(self) &#45;&gt; Tuple[Callable, int]:&#10;Return the location (func, lineno) of the caller.\">\n",
       "<text text-anchor=\"start\" x=\"244.5\" y=\"-688\" font-family=\"'Fira Mono', 'Source Code Pro', 'Courier', monospace\" font-weight=\"bold\" font-size=\"10.00\">caller_location()</text>\n",
       "</a>\n",
       "</g>\n",
       "<g id=\"a_node3_31\"><a xlink:href=\"StackInspector.ipynb\" xlink:title=\"search_frame(self, name: str, frame: Optional[frame] = None) &#45;&gt; Tuple[Optional[frame], Optional[Callable]]:&#10;Return a pair (`frame`, `item`)&#10;in which the function `name` is defined as `item`.\">\n",
       "<text text-anchor=\"start\" x=\"244.5\" y=\"-677\" font-family=\"'Fira Mono', 'Source Code Pro', 'Courier', monospace\" font-weight=\"bold\" font-size=\"10.00\">search_frame()</text>\n",
       "</a>\n",
       "</g>\n",
       "<g id=\"a_node3_32\"><a xlink:href=\"StackInspector.ipynb\" xlink:title=\"search_func(self, name: str, frame: Optional[frame] = None) &#45;&gt; Optional[Callable]:&#10;Search in callers for a definition of the function `name`\">\n",
       "<text text-anchor=\"start\" x=\"244.5\" y=\"-666\" font-family=\"'Fira Mono', 'Source Code Pro', 'Courier', monospace\" font-weight=\"bold\" font-size=\"10.00\">search_func()</text>\n",
       "</a>\n",
       "</g>\n",
       "</a>\n",
       "</g>\n",
       "</a>\n",
       "</g>\n",
       "</g>\n",
       "<!-- Instrumenter&#45;&gt;StackInspector -->\n",
       "<g id=\"edge2\" class=\"edge\">\n",
       "<title>Instrumenter&#45;&gt;StackInspector</title>\n",
       "<path fill=\"none\" stroke=\"black\" d=\"M145.21,-501.92C167.76,-535.53 198.83,-581.64 226.5,-622 232.52,-630.78 238.88,-639.98 245.19,-649.09\"/>\n",
       "<polygon fill=\"none\" stroke=\"black\" points=\"242.3,-651.06 250.88,-657.28 248.05,-647.07 242.3,-651.06\"/>\n",
       "</g>\n",
       "<!-- DependencyTracker -->\n",
       "<g id=\"node4\" class=\"node\">\n",
       "<title>DependencyTracker</title>\n",
       "<g id=\"a_node4\"><a xlink:href=\"#\" xlink:title=\"class DependencyTracker:&#10;Track dependencies during execution\">\n",
       "<polygon fill=\"none\" stroke=\"black\" points=\"209,-0.5 209,-248.5 400,-248.5 400,-0.5 209,-0.5\"/>\n",
       "<text text-anchor=\"start\" x=\"240.5\" y=\"-234.3\" font-family=\"Raleway, Helvetica, Arial, sans-serif\" font-weight=\"bold\" font-size=\"14.00\" fill=\"#6a0dad\">DependencyTracker</text>\n",
       "<polyline fill=\"none\" stroke=\"black\" points=\"209,-225.5 400,-225.5\"/>\n",
       "<g id=\"a_node4_33\"><a xlink:href=\"#\" xlink:title=\"DependencyTracker\">\n",
       "<g id=\"a_node4_34\"><a xlink:href=\"#\" xlink:title=\"TEST = &#39;&lt;test&gt;&#39;\">\n",
       "<text text-anchor=\"start\" x=\"292.5\" y=\"-213\" font-family=\"'Fira Mono', 'Source Code Pro', 'Courier', monospace\" font-size=\"10.00\">TEST</text>\n",
       "</a>\n",
       "</g>\n",
       "</a>\n",
       "</g>\n",
       "<polyline fill=\"none\" stroke=\"black\" points=\"209,-206.5 400,-206.5\"/>\n",
       "<g id=\"a_node4_35\"><a xlink:href=\"#\" xlink:title=\"DependencyTracker\">\n",
       "<g id=\"a_node4_36\"><a xlink:href=\"#\" xlink:title=\"__enter__(self) &#45;&gt; Any:&#10;Track entering an if/while/for block\">\n",
       "<text text-anchor=\"start\" x=\"217.5\" y=\"-195.5\" font-family=\"'Fira Mono', 'Source Code Pro', 'Courier', monospace\" font-weight=\"bold\" font-style=\"italic\" font-size=\"10.00\">__enter__()</text>\n",
       "</a>\n",
       "</g>\n",
       "<g id=\"a_node4_37\"><a xlink:href=\"#\" xlink:title=\"__exit__(self, exc_type: Type, exc_value: BaseException, traceback: traceback) &#45;&gt; Optional[bool]:&#10;Track exiting an if/while/for block\">\n",
       "<text text-anchor=\"start\" x=\"217.5\" y=\"-184.5\" font-family=\"'Fira Mono', 'Source Code Pro', 'Courier', monospace\" font-weight=\"bold\" font-style=\"italic\" font-size=\"10.00\">__exit__()</text>\n",
       "</a>\n",
       "</g>\n",
       "<g id=\"a_node4_38\"><a xlink:href=\"#\" xlink:title=\"__init__(self, *args: Any, **kwargs: Any) &#45;&gt; None:&#10;Constructor. Arguments are passed to DataTracker.__init__()\">\n",
       "<text text-anchor=\"start\" x=\"217.5\" y=\"-173.5\" font-family=\"'Fira Mono', 'Source Code Pro', 'Courier', monospace\" font-weight=\"bold\" font-style=\"italic\" font-size=\"10.00\">__init__()</text>\n",
       "</a>\n",
       "</g>\n",
       "<g id=\"a_node4_39\"><a xlink:href=\"#\" xlink:title=\"arg(self, value: Any, pos: Optional[int] = None, kw: Optional[str] = None) &#45;&gt; Any:&#10;Track passing an argument `value`&#10;(with given position `pos` 1..n or keyword `kw`)\">\n",
       "<text text-anchor=\"start\" x=\"217.5\" y=\"-162.5\" font-family=\"'Fira Mono', 'Source Code Pro', 'Courier', monospace\" font-weight=\"bold\" font-style=\"italic\" font-size=\"10.00\">arg()</text>\n",
       "</a>\n",
       "</g>\n",
       "<g id=\"a_node4_40\"><a xlink:href=\"#\" xlink:title=\"call(self, func: Callable) &#45;&gt; Callable:&#10;Track a call of function `func`\">\n",
       "<text text-anchor=\"start\" x=\"217.5\" y=\"-151.5\" font-family=\"'Fira Mono', 'Source Code Pro', 'Courier', monospace\" font-weight=\"bold\" font-style=\"italic\" font-size=\"10.00\">call()</text>\n",
       "</a>\n",
       "</g>\n",
       "<g id=\"a_node4_41\"><a xlink:href=\"#\" xlink:title=\"get(self, name: str, value: Any) &#45;&gt; Any:&#10;Track a read access for variable `name` with value `value`\">\n",
       "<text text-anchor=\"start\" x=\"217.5\" y=\"-140.5\" font-family=\"'Fira Mono', 'Source Code Pro', 'Courier', monospace\" font-weight=\"bold\" font-style=\"italic\" font-size=\"10.00\">get()</text>\n",
       "</a>\n",
       "</g>\n",
       "<g id=\"a_node4_42\"><a xlink:href=\"#\" xlink:title=\"param(self, name: str, value: Any, pos: Optional[int] = None, vararg: str = &#39;&#39;, last: bool = False) &#45;&gt; Any:&#10;Track getting a parameter `name` with value `value`&#10;(with given position `pos`).&#10;vararg parameters are indicated by setting `varargs` to&#10;&#39;*&#39; (*args) or &#39;**&#39; (**kwargs)\">\n",
       "<text text-anchor=\"start\" x=\"217.5\" y=\"-129.5\" font-family=\"'Fira Mono', 'Source Code Pro', 'Courier', monospace\" font-weight=\"bold\" font-style=\"italic\" font-size=\"10.00\">param()</text>\n",
       "</a>\n",
       "</g>\n",
       "<g id=\"a_node4_43\"><a xlink:href=\"#\" xlink:title=\"ret(self, value: Any) &#45;&gt; Any:&#10;Track a function return\">\n",
       "<text text-anchor=\"start\" x=\"217.5\" y=\"-118.5\" font-family=\"'Fira Mono', 'Source Code Pro', 'Courier', monospace\" font-weight=\"bold\" font-style=\"italic\" font-size=\"10.00\">ret()</text>\n",
       "</a>\n",
       "</g>\n",
       "<g id=\"a_node4_44\"><a xlink:href=\"#\" xlink:title=\"set(self, name: str, value: Any, loads: Optional[Set[str]] = None) &#45;&gt; Any:&#10;Add a dependency for `name` = `value`\">\n",
       "<text text-anchor=\"start\" x=\"217.5\" y=\"-107.5\" font-family=\"'Fira Mono', 'Source Code Pro', 'Courier', monospace\" font-weight=\"bold\" font-style=\"italic\" font-size=\"10.00\">set()</text>\n",
       "</a>\n",
       "</g>\n",
       "<g id=\"a_node4_45\"><a xlink:href=\"#\" xlink:title=\"test(self, value: Any) &#45;&gt; Any:&#10;Track a test for condition `value`\">\n",
       "<text text-anchor=\"start\" x=\"217.5\" y=\"-96.5\" font-family=\"'Fira Mono', 'Source Code Pro', 'Courier', monospace\" font-weight=\"bold\" font-style=\"italic\" font-size=\"10.00\">test()</text>\n",
       "</a>\n",
       "</g>\n",
       "<g id=\"a_node4_46\"><a xlink:href=\"#\" xlink:title=\"call_generator(self, func: Callable) &#45;&gt; Callable:&#10;Track a call of a generator function\">\n",
       "<text text-anchor=\"start\" x=\"217.5\" y=\"-84.5\" font-family=\"'Fira Mono', 'Source Code Pro', 'Courier', monospace\" font-size=\"10.00\">call_generator()</text>\n",
       "</a>\n",
       "</g>\n",
       "<g id=\"a_node4_47\"><a xlink:href=\"#\" xlink:title=\"check_location(self) &#45;&gt; None:&#10;If we are in a new location, clear set of read variables\">\n",
       "<text text-anchor=\"start\" x=\"217.5\" y=\"-73.5\" font-family=\"'Fira Mono', 'Source Code Pro', 'Courier', monospace\" font-size=\"10.00\">check_location()</text>\n",
       "</a>\n",
       "</g>\n",
       "<g id=\"a_node4_48\"><a xlink:href=\"#\" xlink:title=\"clear_read(self) &#45;&gt; None:&#10;Clear set of read variables\">\n",
       "<text text-anchor=\"start\" x=\"217.5\" y=\"-62.5\" font-family=\"'Fira Mono', 'Source Code Pro', 'Courier', monospace\" font-size=\"10.00\">clear_read()</text>\n",
       "</a>\n",
       "</g>\n",
       "<g id=\"a_node4_49\"><a xlink:href=\"#\" xlink:title=\"dependencies(self) &#45;&gt; Dependencies:&#10;Return dependencies\">\n",
       "<text text-anchor=\"start\" x=\"217.5\" y=\"-51.5\" font-family=\"'Fira Mono', 'Source Code Pro', 'Courier', monospace\" font-size=\"10.00\">dependencies()</text>\n",
       "</a>\n",
       "</g>\n",
       "<g id=\"a_node4_50\"><a xlink:href=\"#\" xlink:title=\"ignore_location_change(self) &#45;&gt; None\">\n",
       "<text text-anchor=\"start\" x=\"217.5\" y=\"-40.5\" font-family=\"'Fira Mono', 'Source Code Pro', 'Courier', monospace\" font-size=\"10.00\">ignore_location_change()</text>\n",
       "</a>\n",
       "</g>\n",
       "<g id=\"a_node4_51\"><a xlink:href=\"#\" xlink:title=\"ignore_next_location_change(self) &#45;&gt; None\">\n",
       "<text text-anchor=\"start\" x=\"217.5\" y=\"-29.5\" font-family=\"'Fira Mono', 'Source Code Pro', 'Courier', monospace\" font-size=\"10.00\">ignore_next_location_change()</text>\n",
       "</a>\n",
       "</g>\n",
       "<g id=\"a_node4_52\"><a xlink:href=\"#\" xlink:title=\"in_generator(self) &#45;&gt; bool:&#10;True if we are calling a generator function\">\n",
       "<text text-anchor=\"start\" x=\"217.5\" y=\"-18.5\" font-family=\"'Fira Mono', 'Source Code Pro', 'Courier', monospace\" font-size=\"10.00\">in_generator()</text>\n",
       "</a>\n",
       "</g>\n",
       "<g id=\"a_node4_53\"><a xlink:href=\"#\" xlink:title=\"ret_generator(self, generator: Any) &#45;&gt; Any:&#10;Track the return of a generator function\">\n",
       "<text text-anchor=\"start\" x=\"217.5\" y=\"-7.5\" font-family=\"'Fira Mono', 'Source Code Pro', 'Courier', monospace\" font-size=\"10.00\">ret_generator()</text>\n",
       "</a>\n",
       "</g>\n",
       "</a>\n",
       "</g>\n",
       "</a>\n",
       "</g>\n",
       "</g>\n",
       "<!-- DataTracker -->\n",
       "<g id=\"node5\" class=\"node\">\n",
       "<title>DataTracker</title>\n",
       "<g id=\"a_node5\"><a xlink:href=\"#\" xlink:title=\"class DataTracker:&#10;Track data accesses during execution\">\n",
       "<polygon fill=\"none\" stroke=\"black\" points=\"236,-372 236,-535 355,-535 355,-372 236,-372\"/>\n",
       "<text text-anchor=\"start\" x=\"258.5\" y=\"-520.8\" font-family=\"Raleway, Helvetica, Arial, sans-serif\" font-weight=\"bold\" font-size=\"14.00\" fill=\"#6a0dad\">DataTracker</text>\n",
       "<polyline fill=\"none\" stroke=\"black\" points=\"236,-512 355,-512\"/>\n",
       "<g id=\"a_node5_54\"><a xlink:href=\"#\" xlink:title=\"DataTracker\">\n",
       "<g id=\"a_node5_55\"><a xlink:href=\"#\" xlink:title=\"__enter__(self) &#45;&gt; Any:&#10;Enter `with` block. To be overloaded in subclasses.\">\n",
       "<text text-anchor=\"start\" x=\"244.5\" y=\"-501\" font-family=\"'Fira Mono', 'Source Code Pro', 'Courier', monospace\" font-weight=\"bold\" font-style=\"italic\" font-size=\"10.00\">__enter__()</text>\n",
       "</a>\n",
       "</g>\n",
       "<g id=\"a_node5_56\"><a xlink:href=\"#\" xlink:title=\"__exit__(self, exc_type: Type, exc_value: BaseException, traceback: traceback) &#45;&gt; Optional[bool]:&#10;Exit `with` block. To be overloaded in subclasses.\">\n",
       "<text text-anchor=\"start\" x=\"244.5\" y=\"-490\" font-family=\"'Fira Mono', 'Source Code Pro', 'Courier', monospace\" font-weight=\"bold\" font-style=\"italic\" font-size=\"10.00\">__exit__()</text>\n",
       "</a>\n",
       "</g>\n",
       "<g id=\"a_node5_57\"><a xlink:href=\"#\" xlink:title=\"__init__(self, log: bool = False) &#45;&gt; None:&#10;Constructor. If `log` is set, turn on logging.\">\n",
       "<text text-anchor=\"start\" x=\"244.5\" y=\"-479\" font-family=\"'Fira Mono', 'Source Code Pro', 'Courier', monospace\" font-weight=\"bold\" font-style=\"italic\" font-size=\"10.00\">__init__()</text>\n",
       "</a>\n",
       "</g>\n",
       "<g id=\"a_node5_58\"><a xlink:href=\"#\" xlink:title=\"arg(self, value: Any, pos: Optional[int] = None, kw: Optional[str] = None) &#45;&gt; Any:&#10;Track `value` being passed as argument.&#10;`pos` (if given) is the argument position (starting with 1).&#10;`kw` (if given) is the argument keyword.\">\n",
       "<text text-anchor=\"start\" x=\"244.5\" y=\"-468\" font-family=\"'Fira Mono', 'Source Code Pro', 'Courier', monospace\" font-weight=\"bold\" font-style=\"italic\" font-size=\"10.00\">arg()</text>\n",
       "</a>\n",
       "</g>\n",
       "<g id=\"a_node5_59\"><a xlink:href=\"#\" xlink:title=\"augment(self, name: str, value: Any) &#45;&gt; Any:&#10;Track augmenting `name` with `value`.&#10;To be overloaded in subclasses.\">\n",
       "<text text-anchor=\"start\" x=\"244.5\" y=\"-457\" font-family=\"'Fira Mono', 'Source Code Pro', 'Courier', monospace\" font-weight=\"bold\" font-style=\"italic\" font-size=\"10.00\">augment()</text>\n",
       "</a>\n",
       "</g>\n",
       "<g id=\"a_node5_60\"><a xlink:href=\"#\" xlink:title=\"call(self, func: Callable) &#45;&gt; Callable:&#10;Track a call to `func`.\">\n",
       "<text text-anchor=\"start\" x=\"244.5\" y=\"-446\" font-family=\"'Fira Mono', 'Source Code Pro', 'Courier', monospace\" font-weight=\"bold\" font-style=\"italic\" font-size=\"10.00\">call()</text>\n",
       "</a>\n",
       "</g>\n",
       "<g id=\"a_node5_61\"><a xlink:href=\"#\" xlink:title=\"get(self, name: str, value: Any) &#45;&gt; Any:&#10;Track getting `value` from `name`.\">\n",
       "<text text-anchor=\"start\" x=\"244.5\" y=\"-435\" font-family=\"'Fira Mono', 'Source Code Pro', 'Courier', monospace\" font-weight=\"bold\" font-style=\"italic\" font-size=\"10.00\">get()</text>\n",
       "</a>\n",
       "</g>\n",
       "<g id=\"a_node5_62\"><a xlink:href=\"#\" xlink:title=\"param(self, name: str, value: Any, pos: Optional[int] = None, vararg: str = &#39;&#39;, last: bool = False) &#45;&gt; Any:&#10;At the beginning of a function, track parameter `name` being set to `value`.&#10;`pos` is the position of the argument (starting with 1).&#10;`vararg` is &quot;*&quot; if `name` is a vararg parameter (as in *args),&#10;and &quot;**&quot; is `name` is a kwargs parameter (as in *kwargs).&#10;`last` is True if `name` is the last parameter.\">\n",
       "<text text-anchor=\"start\" x=\"244.5\" y=\"-424\" font-family=\"'Fira Mono', 'Source Code Pro', 'Courier', monospace\" font-weight=\"bold\" font-style=\"italic\" font-size=\"10.00\">param()</text>\n",
       "</a>\n",
       "</g>\n",
       "<g id=\"a_node5_63\"><a xlink:href=\"#\" xlink:title=\"ret(self, value: Any) &#45;&gt; Any:&#10;Track `value` being used as return value.\">\n",
       "<text text-anchor=\"start\" x=\"244.5\" y=\"-413\" font-family=\"'Fira Mono', 'Source Code Pro', 'Courier', monospace\" font-weight=\"bold\" font-style=\"italic\" font-size=\"10.00\">ret()</text>\n",
       "</a>\n",
       "</g>\n",
       "<g id=\"a_node5_64\"><a xlink:href=\"#\" xlink:title=\"set(self, name: str, value: Any, loads: Optional[Set[str]] = None) &#45;&gt; Any:&#10;Track setting `name` to `value`.\">\n",
       "<text text-anchor=\"start\" x=\"244.5\" y=\"-402\" font-family=\"'Fira Mono', 'Source Code Pro', 'Courier', monospace\" font-weight=\"bold\" font-style=\"italic\" font-size=\"10.00\">set()</text>\n",
       "</a>\n",
       "</g>\n",
       "<g id=\"a_node5_65\"><a xlink:href=\"#\" xlink:title=\"test(self, cond: ast.AST) &#45;&gt; ast.AST:&#10;Test condition `cond`. To be overloaded in subclasses.\">\n",
       "<text text-anchor=\"start\" x=\"244.5\" y=\"-391\" font-family=\"'Fira Mono', 'Source Code Pro', 'Courier', monospace\" font-weight=\"bold\" font-style=\"italic\" font-size=\"10.00\">test()</text>\n",
       "</a>\n",
       "</g>\n",
       "<g id=\"a_node5_66\"><a xlink:href=\"#\" xlink:title=\"instrument_call(self, func: Callable) &#45;&gt; Callable:&#10;Instrument a call to `func`. To be implemented in subclasses.\">\n",
       "<text text-anchor=\"start\" x=\"244.5\" y=\"-380\" font-family=\"'Fira Mono', 'Source Code Pro', 'Courier', monospace\" font-style=\"italic\" font-size=\"10.00\">instrument_call()</text>\n",
       "</a>\n",
       "</g>\n",
       "</a>\n",
       "</g>\n",
       "</a>\n",
       "</g>\n",
       "</g>\n",
       "<!-- DependencyTracker&#45;&gt;DataTracker -->\n",
       "<g id=\"edge3\" class=\"edge\">\n",
       "<title>DependencyTracker&#45;&gt;DataTracker</title>\n",
       "<path fill=\"none\" stroke=\"black\" d=\"M301.12,-248.19C300.09,-285.64 298.98,-326.14 298.01,-361.13\"/>\n",
       "<polygon fill=\"none\" stroke=\"black\" points=\"294.53,-360.68 297.75,-370.77 301.52,-360.87 294.53,-360.68\"/>\n",
       "</g>\n",
       "<!-- DataTracker&#45;&gt;StackInspector -->\n",
       "<g id=\"edge4\" class=\"edge\">\n",
       "<title>DataTracker&#45;&gt;StackInspector</title>\n",
       "<path fill=\"none\" stroke=\"black\" d=\"M295.5,-534.82C295.5,-570.64 295.5,-612.55 295.5,-647.53\"/>\n",
       "<polygon fill=\"none\" stroke=\"black\" points=\"292,-647.11 295.5,-657.11 299,-647.11 292,-647.11\"/>\n",
       "</g>\n",
       "<!-- Dependencies -->\n",
       "<g id=\"node6\" class=\"node\">\n",
       "<title>Dependencies</title>\n",
       "<g id=\"a_node6\"><a xlink:href=\"#\" xlink:title=\"class Dependencies:&#10;A dependency graph\">\n",
       "<polygon fill=\"none\" stroke=\"black\" points=\"373,-285.5 373,-621.5 504,-621.5 504,-285.5 373,-285.5\"/>\n",
       "<text text-anchor=\"start\" x=\"391.5\" y=\"-607.3\" font-family=\"Raleway, Helvetica, Arial, sans-serif\" font-weight=\"bold\" font-size=\"14.00\" fill=\"#6a0dad\">Dependencies</text>\n",
       "<polyline fill=\"none\" stroke=\"black\" points=\"373,-598.5 504,-598.5\"/>\n",
       "<g id=\"a_node6_67\"><a xlink:href=\"#\" xlink:title=\"Dependencies\">\n",
       "<g id=\"a_node6_68\"><a xlink:href=\"#\" xlink:title=\"FONT_NAME = &#39;Courier&#39;\">\n",
       "<text text-anchor=\"start\" x=\"408.5\" y=\"-586.5\" font-family=\"'Fira Mono', 'Source Code Pro', 'Courier', monospace\" font-size=\"10.00\">FONT_NAME</text>\n",
       "</a>\n",
       "</g>\n",
       "<g id=\"a_node6_69\"><a xlink:href=\"#\" xlink:title=\"NODE_COLOR = &#39;peachpuff&#39;\">\n",
       "<text text-anchor=\"start\" x=\"408.5\" y=\"-575.5\" font-family=\"'Fira Mono', 'Source Code Pro', 'Courier', monospace\" font-size=\"10.00\">NODE_COLOR</text>\n",
       "</a>\n",
       "</g>\n",
       "</a>\n",
       "</g>\n",
       "<polyline fill=\"none\" stroke=\"black\" points=\"373,-568.5 504,-568.5\"/>\n",
       "<g id=\"a_node6_70\"><a xlink:href=\"#\" xlink:title=\"Dependencies\">\n",
       "<g id=\"a_node6_71\"><a xlink:href=\"#\" xlink:title=\"__init__(self, data: Optional[Dict[Tuple[str, Tuple[Callable, int]], Set[Tuple[str, Tuple[Callable, int]]]]] = None, control: Optional[Dict[Tuple[str, Tuple[Callable, int]], Set[Tuple[str, Tuple[Callable, int]]]]] = None) &#45;&gt; None:&#10;Create a dependency graph from `data` and `control`.&#10;Both `data` and `control` are dictionaries&#10;holding _nodes_ as keys and sets of nodes as values.&#10;Each node comes as a tuple (variable_name, location)&#10;where `variable_name` is a string&#10;and `location` is a pair (function, lineno)&#10;where `function` is a callable and `lineno` is a line number&#10;denoting a unique location in the code.\">\n",
       "<text text-anchor=\"start\" x=\"381.5\" y=\"-557\" font-family=\"'Fira Mono', 'Source Code Pro', 'Courier', monospace\" font-weight=\"bold\" font-size=\"10.00\">__init__()</text>\n",
       "</a>\n",
       "</g>\n",
       "<g id=\"a_node6_72\"><a xlink:href=\"#\" xlink:title=\"__repr__(self) &#45;&gt; str:&#10;Represent dependencies as a Python expression\">\n",
       "<text text-anchor=\"start\" x=\"381.5\" y=\"-546\" font-family=\"'Fira Mono', 'Source Code Pro', 'Courier', monospace\" font-weight=\"bold\" font-size=\"10.00\">__repr__()</text>\n",
       "</a>\n",
       "</g>\n",
       "<g id=\"a_node6_73\"><a xlink:href=\"#\" xlink:title=\"__str__(self) &#45;&gt; str:&#10;Return string representation of dependencies\">\n",
       "<text text-anchor=\"start\" x=\"381.5\" y=\"-535\" font-family=\"'Fira Mono', 'Source Code Pro', 'Courier', monospace\" font-weight=\"bold\" font-size=\"10.00\">__str__()</text>\n",
       "</a>\n",
       "</g>\n",
       "<g id=\"a_node6_74\"><a xlink:href=\"#\" xlink:title=\"_repr_mimebundle_(self, include: Any = None, exclude: Any = None) &#45;&gt; Any:&#10;If the object is output in Jupyter, render dependencies as a SVG graph\">\n",
       "<text text-anchor=\"start\" x=\"381.5\" y=\"-524\" font-family=\"'Fira Mono', 'Source Code Pro', 'Courier', monospace\" font-weight=\"bold\" font-size=\"10.00\">_repr_mimebundle_()</text>\n",
       "</a>\n",
       "</g>\n",
       "<g id=\"a_node6_75\"><a xlink:href=\"#\" xlink:title=\"all_functions(self) &#45;&gt; Dict[Callable, List[Tuple[int, Tuple[str, Tuple[Callable, int]]]]]:&#10;Return mapping&#10;{`function`: [(`lineno`, `var`), (`lineno`, `var`), ...], ...}&#10;for all functions in the dependencies.\">\n",
       "<text text-anchor=\"start\" x=\"381.5\" y=\"-513\" font-family=\"'Fira Mono', 'Source Code Pro', 'Courier', monospace\" font-weight=\"bold\" font-size=\"10.00\">all_functions()</text>\n",
       "</a>\n",
       "</g>\n",
       "<g id=\"a_node6_76\"><a xlink:href=\"#\" xlink:title=\"all_vars(self) &#45;&gt; Set[Tuple[str, Tuple[Callable, int]]]:&#10;Return a set of all variables (as `var_name`, `location`) in the dependencies\">\n",
       "<text text-anchor=\"start\" x=\"381.5\" y=\"-502\" font-family=\"'Fira Mono', 'Source Code Pro', 'Courier', monospace\" font-weight=\"bold\" font-size=\"10.00\">all_vars()</text>\n",
       "</a>\n",
       "</g>\n",
       "<g id=\"a_node6_77\"><a xlink:href=\"#\" xlink:title=\"backward_slice(self, *criteria: Union[str, Tuple[Callable, int], Tuple[str, Tuple[Callable, int]]], mode: str = &#39;cd&#39;, depth: int = &#45;1) &#45;&gt; Dependencies:&#10;Create a backward slice from nodes `criteria`.&#10;`mode` can contain &#39;c&#39; (draw control dependencies)&#10;and &#39;d&#39; (draw data dependencies) (default: &#39;cd&#39;)\">\n",
       "<text text-anchor=\"start\" x=\"381.5\" y=\"-491\" font-family=\"'Fira Mono', 'Source Code Pro', 'Courier', monospace\" font-weight=\"bold\" font-size=\"10.00\">backward_slice()</text>\n",
       "</a>\n",
       "</g>\n",
       "<g id=\"a_node6_78\"><a xlink:href=\"#\" xlink:title=\"code(self, *items: Callable, mode: str = &#39;cd&#39;) &#45;&gt; None:&#10;List `items` on standard output, including dependencies as comments.&#10;If `items` is empty, all included functions are listed.&#10;`mode` can contain &#39;c&#39; (draw control dependencies) and &#39;d&#39; (draw data dependencies)&#10;(default: &#39;cd&#39;).\">\n",
       "<text text-anchor=\"start\" x=\"381.5\" y=\"-480\" font-family=\"'Fira Mono', 'Source Code Pro', 'Courier', monospace\" font-weight=\"bold\" font-size=\"10.00\">code()</text>\n",
       "</a>\n",
       "</g>\n",
       "<g id=\"a_node6_79\"><a xlink:href=\"#\" xlink:title=\"graph(self, *, mode: str = &#39;flow&#39;) &#45;&gt; graphviz.graphs.Digraph:&#10;Draw dependencies. `mode` is either&#10;* `&#39;flow&#39;`: arrows indicate information flow (from A to B); or&#10;* `&#39;depend&#39;`: arrows indicate dependencies (B depends on A)\">\n",
       "<text text-anchor=\"start\" x=\"381.5\" y=\"-469\" font-family=\"'Fira Mono', 'Source Code Pro', 'Courier', monospace\" font-weight=\"bold\" font-size=\"10.00\">graph()</text>\n",
       "</a>\n",
       "</g>\n",
       "<g id=\"a_node6_80\"><a xlink:href=\"#\" xlink:title=\"_code(self, item: Callable, mode: str) &#45;&gt; None\">\n",
       "<text text-anchor=\"start\" x=\"381.5\" y=\"-457\" font-family=\"'Fira Mono', 'Source Code Pro', 'Courier', monospace\" font-size=\"10.00\">_code()</text>\n",
       "</a>\n",
       "</g>\n",
       "<g id=\"a_node6_81\"><a xlink:href=\"#\" xlink:title=\"_source(self, node: Tuple[str, Tuple[Callable, int]]) &#45;&gt; str\">\n",
       "<text text-anchor=\"start\" x=\"381.5\" y=\"-446\" font-family=\"'Fira Mono', 'Source Code Pro', 'Courier', monospace\" font-size=\"10.00\">_source()</text>\n",
       "</a>\n",
       "</g>\n",
       "<g id=\"a_node6_82\"><a xlink:href=\"#\" xlink:title=\"add_hierarchy(self, g: graphviz.graphs.Digraph) &#45;&gt; graphviz.graphs.Digraph:&#10;Add invisible edges for a proper hierarchy.\">\n",
       "<text text-anchor=\"start\" x=\"381.5\" y=\"-435\" font-family=\"'Fira Mono', 'Source Code Pro', 'Courier', monospace\" font-size=\"10.00\">add_hierarchy()</text>\n",
       "</a>\n",
       "</g>\n",
       "<g id=\"a_node6_83\"><a xlink:href=\"#\" xlink:title=\"draw_dependencies(self, g: graphviz.graphs.Digraph, mode: str) &#45;&gt; None\">\n",
       "<text text-anchor=\"start\" x=\"381.5\" y=\"-424\" font-family=\"'Fira Mono', 'Source Code Pro', 'Courier', monospace\" font-size=\"10.00\">draw_dependencies()</text>\n",
       "</a>\n",
       "</g>\n",
       "<g id=\"a_node6_84\"><a xlink:href=\"#\" xlink:title=\"draw_edge(self, g: graphviz.graphs.Digraph, mode: str, node_from: str, node_to: str, **kwargs: Any) &#45;&gt; None\">\n",
       "<text text-anchor=\"start\" x=\"381.5\" y=\"-413\" font-family=\"'Fira Mono', 'Source Code Pro', 'Courier', monospace\" font-size=\"10.00\">draw_edge()</text>\n",
       "</a>\n",
       "</g>\n",
       "<g id=\"a_node6_85\"><a xlink:href=\"#\" xlink:title=\"expand_criteria(self, criteria: List[Union[str, Tuple[Callable, int], Tuple[str, Tuple[Callable, int]]]]) &#45;&gt; List[Tuple[str, Tuple[Callable, int]]]:&#10;Return list of vars matched by `criteria`.\">\n",
       "<text text-anchor=\"start\" x=\"381.5\" y=\"-402\" font-family=\"'Fira Mono', 'Source Code Pro', 'Courier', monospace\" font-size=\"10.00\">expand_criteria()</text>\n",
       "</a>\n",
       "</g>\n",
       "<g id=\"a_node6_86\"><a xlink:href=\"#\" xlink:title=\"format_var(self, var: Tuple[str, Tuple[Callable, int]], current_func: Optional[Callable] = None) &#45;&gt; str:&#10;Return string for `var` in `current_func`.\">\n",
       "<text text-anchor=\"start\" x=\"381.5\" y=\"-391\" font-family=\"'Fira Mono', 'Source Code Pro', 'Courier', monospace\" font-size=\"10.00\">format_var()</text>\n",
       "</a>\n",
       "</g>\n",
       "<g id=\"a_node6_87\"><a xlink:href=\"#\" xlink:title=\"id(self, var: Tuple[str, Tuple[Callable, int]]) &#45;&gt; str:&#10;Return a unique ID for `var`.\">\n",
       "<text text-anchor=\"start\" x=\"381.5\" y=\"-380\" font-family=\"'Fira Mono', 'Source Code Pro', 'Courier', monospace\" font-size=\"10.00\">id()</text>\n",
       "</a>\n",
       "</g>\n",
       "<g id=\"a_node6_88\"><a xlink:href=\"#\" xlink:title=\"label(self, var: Tuple[str, Tuple[Callable, int]]) &#45;&gt; str:&#10;Render node `var` using HTML style.\">\n",
       "<text text-anchor=\"start\" x=\"381.5\" y=\"-369\" font-family=\"'Fira Mono', 'Source Code Pro', 'Courier', monospace\" font-size=\"10.00\">label()</text>\n",
       "</a>\n",
       "</g>\n",
       "<g id=\"a_node6_89\"><a xlink:href=\"#\" xlink:title=\"make_graph(self, name: str = &#39;dependencies&#39;, comment: str = &#39;Dependencies&#39;) &#45;&gt; graphviz.graphs.Digraph\">\n",
       "<text text-anchor=\"start\" x=\"381.5\" y=\"-358\" font-family=\"'Fira Mono', 'Source Code Pro', 'Courier', monospace\" font-size=\"10.00\">make_graph()</text>\n",
       "</a>\n",
       "</g>\n",
       "<g id=\"a_node6_90\"><a xlink:href=\"#\" xlink:title=\"repr_dependencies(self, vars: Dict[Tuple[str, Tuple[Callable, int]], Set[Tuple[str, Tuple[Callable, int]]]]) &#45;&gt; str\">\n",
       "<text text-anchor=\"start\" x=\"381.5\" y=\"-347\" font-family=\"'Fira Mono', 'Source Code Pro', 'Courier', monospace\" font-size=\"10.00\">repr_dependencies()</text>\n",
       "</a>\n",
       "</g>\n",
       "<g id=\"a_node6_91\"><a xlink:href=\"#\" xlink:title=\"repr_deps(self, var_set: Set[Tuple[str, Tuple[Callable, int]]]) &#45;&gt; str\">\n",
       "<text text-anchor=\"start\" x=\"381.5\" y=\"-336\" font-family=\"'Fira Mono', 'Source Code Pro', 'Courier', monospace\" font-size=\"10.00\">repr_deps()</text>\n",
       "</a>\n",
       "</g>\n",
       "<g id=\"a_node6_92\"><a xlink:href=\"#\" xlink:title=\"repr_var(self, var: Tuple[str, Tuple[Callable, int]]) &#45;&gt; str\">\n",
       "<text text-anchor=\"start\" x=\"381.5\" y=\"-325\" font-family=\"'Fira Mono', 'Source Code Pro', 'Courier', monospace\" font-size=\"10.00\">repr_var()</text>\n",
       "</a>\n",
       "</g>\n",
       "<g id=\"a_node6_93\"><a xlink:href=\"#\" xlink:title=\"source(self, node: Tuple[str, Tuple[Callable, int]]) &#45;&gt; str:&#10;Return the source code for a given node.\">\n",
       "<text text-anchor=\"start\" x=\"381.5\" y=\"-314\" font-family=\"'Fira Mono', 'Source Code Pro', 'Courier', monospace\" font-size=\"10.00\">source()</text>\n",
       "</a>\n",
       "</g>\n",
       "<g id=\"a_node6_94\"><a xlink:href=\"#\" xlink:title=\"tooltip(self, var: Tuple[str, Tuple[Callable, int]]) &#45;&gt; str:&#10;Return a tooltip for node `var`.\">\n",
       "<text text-anchor=\"start\" x=\"381.5\" y=\"-303\" font-family=\"'Fira Mono', 'Source Code Pro', 'Courier', monospace\" font-size=\"10.00\">tooltip()</text>\n",
       "</a>\n",
       "</g>\n",
       "<g id=\"a_node6_95\"><a xlink:href=\"#\" xlink:title=\"validate(self) &#45;&gt; None:&#10;Perform a simple syntactic validation of dependencies\">\n",
       "<text text-anchor=\"start\" x=\"381.5\" y=\"-292\" font-family=\"'Fira Mono', 'Source Code Pro', 'Courier', monospace\" font-size=\"10.00\">validate()</text>\n",
       "</a>\n",
       "</g>\n",
       "</a>\n",
       "</g>\n",
       "</a>\n",
       "</g>\n",
       "</g>\n",
       "<!-- Dependencies&#45;&gt;StackInspector -->\n",
       "<g id=\"edge5\" class=\"edge\">\n",
       "<title>Dependencies&#45;&gt;StackInspector</title>\n",
       "<path fill=\"none\" stroke=\"black\" d=\"M373.21,-604.05C370.02,-610.16 366.77,-616.17 363.5,-622 358.43,-631.04 352.76,-640.31 346.92,-649.37\"/>\n",
       "<polygon fill=\"none\" stroke=\"black\" points=\"344.17,-647.17 341.61,-657.45 350.03,-651.01 344.17,-647.17\"/>\n",
       "</g>\n",
       "<!-- Legend -->\n",
       "<g id=\"node7\" class=\"node\">\n",
       "<title>Legend</title>\n",
       "<text text-anchor=\"start\" x=\"418.5\" y=\"-142\" font-family=\"Raleway, Helvetica, Arial, sans-serif\" font-weight=\"bold\" font-size=\"10.00\" fill=\"#6a0dad\">Legend</text>\n",
       "<text text-anchor=\"start\" x=\"418.5\" y=\"-132\" font-family=\"Raleway, Helvetica, Arial, sans-serif\" font-size=\"10.00\">• </text>\n",
       "<text text-anchor=\"start\" x=\"425.5\" y=\"-132\" font-family=\"'Fira Mono', 'Source Code Pro', 'Courier', monospace\" font-weight=\"bold\" font-size=\"8.00\">public_method()</text>\n",
       "<text text-anchor=\"start\" x=\"418.5\" y=\"-122\" font-family=\"Raleway, Helvetica, Arial, sans-serif\" font-size=\"10.00\">• </text>\n",
       "<text text-anchor=\"start\" x=\"425.5\" y=\"-122\" font-family=\"'Fira Mono', 'Source Code Pro', 'Courier', monospace\" font-size=\"8.00\">private_method()</text>\n",
       "<text text-anchor=\"start\" x=\"418.5\" y=\"-112\" font-family=\"Raleway, Helvetica, Arial, sans-serif\" font-size=\"10.00\">• </text>\n",
       "<text text-anchor=\"start\" x=\"425.5\" y=\"-112\" font-family=\"'Fira Mono', 'Source Code Pro', 'Courier', monospace\" font-style=\"italic\" font-size=\"8.00\">overloaded_method()</text>\n",
       "<text text-anchor=\"start\" x=\"418.5\" y=\"-102.8\" font-family=\"Helvetica,sans-Serif\" font-size=\"9.00\">Hover over names to see doc</text>\n",
       "</g>\n",
       "</g>\n",
       "</svg>\n"
      ],
      "text/plain": [
       "<graphviz.graphs.Digraph at 0x106bc5780>"
      ]
     },
     "execution_count": 253,
     "metadata": {},
     "output_type": "execute_result"
    }
   ],
   "source": [
    "# ignore\n",
    "display_class_hierarchy([Slicer, DependencyTracker, \n",
    "                         StackInspector, Dependencies],\n",
    "                        abstract_classes=[\n",
    "                            StackInspector,\n",
    "                            Instrumenter\n",
    "                        ],\n",
    "                        public_methods=[\n",
    "                            StackInspector.caller_frame,\n",
    "                            StackInspector.caller_function,\n",
    "                            StackInspector.caller_globals,\n",
    "                            StackInspector.caller_locals,\n",
    "                            StackInspector.caller_location,\n",
    "                            StackInspector.search_frame,\n",
    "                            StackInspector.search_func,\n",
    "                            Instrumenter.__init__,\n",
    "                            Instrumenter.__enter__,\n",
    "                            Instrumenter.__exit__,\n",
    "                            Instrumenter.instrument,\n",
    "                            Slicer.__init__,\n",
    "                            Slicer.code,\n",
    "                            Slicer.dependencies,\n",
    "                            Slicer.graph,\n",
    "                            Slicer._repr_mimebundle_,\n",
    "                            DataTracker.__init__,\n",
    "                            DataTracker.__enter__,\n",
    "                            DataTracker.__exit__,\n",
    "                            DataTracker.arg,\n",
    "                            DataTracker.augment,\n",
    "                            DataTracker.call,\n",
    "                            DataTracker.get,\n",
    "                            DataTracker.param,\n",
    "                            DataTracker.ret,\n",
    "                            DataTracker.set,\n",
    "                            DataTracker.test,\n",
    "                            DataTracker.__repr__,\n",
    "                            DependencyTracker.__init__,\n",
    "                            DependencyTracker.__enter__,\n",
    "                            DependencyTracker.__exit__,\n",
    "                            DependencyTracker.arg,\n",
    "                            # DependencyTracker.augment,\n",
    "                            DependencyTracker.call,\n",
    "                            DependencyTracker.get,\n",
    "                            DependencyTracker.param,\n",
    "                            DependencyTracker.ret,\n",
    "                            DependencyTracker.set,\n",
    "                            DependencyTracker.test,\n",
    "                            DependencyTracker.__repr__,\n",
    "                            Dependencies.__init__,\n",
    "                            Dependencies.__repr__,\n",
    "                            Dependencies.__str__,\n",
    "                            Dependencies._repr_mimebundle_,\n",
    "                            Dependencies.code,\n",
    "                            Dependencies.graph,\n",
    "                            Dependencies.backward_slice,\n",
    "                            Dependencies.all_functions,\n",
    "                            Dependencies.all_vars,\n",
    "                        ],\n",
    "                        project='debuggingbook')"
   ]
  },
  {
   "cell_type": "markdown",
   "metadata": {
    "slideshow": {
     "slide_type": "slide"
    }
   },
   "source": [
    "## Things that do not Work"
   ]
  },
  {
   "attachments": {},
   "cell_type": "markdown",
   "metadata": {
    "slideshow": {
     "slide_type": "subslide"
    }
   },
   "source": [
    "Our slicer (and especially the underlying dependency tracker) is still a proof of concept. A number of Python features are not or only partially supported, and/or hardly tested:\n",
    "\n",
    "* __Exceptions__ can lead to missing or erroneous dependencies. The code assumes that for every `call()`, there is a matching `ret()`; when exceptions break this, dependencies across function calls and arguments may be missing or be assigned incorrectly.\n",
    "* __Multiple definitions on a single line__ as in `x = y; x = 1` can lead to missing or erroneous dependencies. Our implementation assumes that there is one statement per line.\n",
    "* __If-Expressions__ (`y = 1 if x else 0`) do not create control dependencies, as there are no statements to control. Neither do `if` clauses in comprehensions.\n",
    "* __Asynchronous functions__ (`async`, `await`) are not tested.\n",
    "\n",
    "In these cases, the instrumentation and the underlying dependency tracker may fail to identify control and/or data flows. The semantics of the code, however, should always stay unchanged."
   ]
  },
  {
   "cell_type": "markdown",
   "metadata": {
    "button": false,
    "new_sheet": true,
    "run_control": {
     "read_only": false
    },
    "slideshow": {
     "slide_type": "slide"
    }
   },
   "source": [
    "## Lessons Learned\n",
    "\n",
    "* To track the origin of some incorrect value, follow back its _dependencies_:\n",
    "    * _Data dependencies_ indicate where the value came from.\n",
    "    * _Control dependencies_ show why a statement was executed.\n",
    "* A _slice_ is a subset of the code that could have influenced a specific value. It can be computed by transitively following all dependencies.\n",
    "* _Instrument code_ to automatically determine and visualize dependencies."
   ]
  },
  {
   "cell_type": "markdown",
   "metadata": {
    "button": false,
    "new_sheet": false,
    "run_control": {
     "read_only": false
    },
    "slideshow": {
     "slide_type": "slide"
    }
   },
   "source": [
    "## Next Steps\n",
    "\n",
    "In the [next chapter](StatisticalDebugger.ipynb), we will explore how to make use of _multiple_ passing and failing executions."
   ]
  },
  {
   "cell_type": "markdown",
   "metadata": {
    "slideshow": {
     "slide_type": "slide"
    }
   },
   "source": [
    "## Background\n",
    "\n",
    "Slicing as computing a subset of a program by means of data and control dependencies was invented by Mark Weiser \\cite{Weiser1981}. In his seminal work \"Programmers use Slices when Debugging\", \\cite{Weiser1982}, Weiser demonstrated how such dependencies are crucial for systematic debugging:\n",
    "\n",
    "> When debugging unfamiliar programs programmers use program pieces called _slices_ which are sets of statements related by their flow of data. The statements in a slice are not necessarily textually contiguous, but may be scattered through a program."
   ]
  },
  {
   "attachments": {},
   "cell_type": "markdown",
   "metadata": {
    "slideshow": {
     "slide_type": "subslide"
    }
   },
   "source": [
    "Weiser's slices (and dependencies) were determined _statically_ from program code. Both Korel and Laski \\cite{Korel1988} as well as Agrawal and Horgan \\cite{Agrawal1990} introduced _dynamic_ program slicing, building on _dynamic_ dependencies, which would be more specific to a given (failing) run. (The `Slicer` we implement in this chapter is a dynamic slicer.) Tip \\cite{Tip1995} gives a survey on program slicing techniques. Chen et al. \\cite{Chen2014} describe and evaluate the first dynamic slicer for Python programs (which is independent of our implementation)."
   ]
  },
  {
   "cell_type": "markdown",
   "metadata": {
    "slideshow": {
     "slide_type": "fragment"
    }
   },
   "source": [
    "One exemplary application of program slices is [the Whyline](https://github.com/amyjko/whyline) by Ko and Myers \\cite{Ko2004}. The Whyline is a debugging interface for asking questions about program behavior. It allows to interactively query where a particular variable came from (a data dependency) and why or why not specific things took place (control dependencies)."
   ]
  },
  {
   "cell_type": "markdown",
   "metadata": {
    "slideshow": {
     "slide_type": "subslide"
    }
   },
   "source": [
    "In \\cite{Soremekun2021}, Soremekun et al. evaluated the performance of slicing as a fault localization mechanism and found that following dependencies was one of the most successful strategies to determine fault locations. Notably, if programmers first examine at most the top five most suspicious locations from [statistical debugging](StatisticalDebugger.ipynb), and then switch to dynamic slices, on average, they will need to examine only 15% (12 lines) of the code. "
   ]
  },
  {
   "cell_type": "markdown",
   "metadata": {
    "button": false,
    "new_sheet": true,
    "run_control": {
     "read_only": false
    },
    "slideshow": {
     "slide_type": "slide"
    }
   },
   "source": [
    "## Exercises\n"
   ]
  },
  {
   "cell_type": "markdown",
   "metadata": {
    "slideshow": {
     "slide_type": "subslide"
    }
   },
   "source": [
    "### Exercise 1: Control Slices\n",
    "\n",
    "Augment the `Slicer` class with two keyword arguments, `include` and `exclude`, each taking a list of functions to instrument or not to instrument, respectively. These can be helpful when using \"automatic\" instrumentation."
   ]
  },
  {
   "cell_type": "markdown",
   "metadata": {
    "slideshow": {
     "slide_type": "subslide"
    }
   },
   "source": [
    "### Exercise 2: Incremental Exploration\n",
    "\n",
    "This is more of a programming project than a simple exercise. Rather than showing all dependencies as a whole, as we do, build a system that allows the user to _explore_ dependencies interactively."
   ]
  },
  {
   "attachments": {},
   "cell_type": "markdown",
   "metadata": {
    "button": false,
    "new_sheet": false,
    "run_control": {
     "read_only": false
    },
    "slideshow": {
     "slide_type": "subslide"
    }
   },
   "source": [
    "### Exercise 3: Forward Slicing\n",
    "\n",
    "Extend `Dependencies` with a variant of `backward_slice()` named `forward_slice()` that, instead of computing the dependencies that go _into_ a location, computes the dependencies that go _out_ of a location."
   ]
  },
  {
   "cell_type": "markdown",
   "metadata": {
    "button": false,
    "new_sheet": false,
    "run_control": {
     "read_only": false
    },
    "slideshow": {
     "slide_type": "subslide"
    }
   },
   "source": [
    "### Exercise 4: Code with Forward Dependencies\n",
    "\n",
    "Create a variant of `Dependencies.code()` that, for each statement `s`, instead of showing a \"passive\" view (which variables and locations influenced `s`?), shows an \"active\" view (which variables and locations were influenced by `s`?). For `middle()`, for instance, the first line should show which lines are influenced by `x`, `y`, and `z`, respectively. Use `->` for control flows and `=>` for data flows."
   ]
  },
  {
   "cell_type": "markdown",
   "metadata": {
    "slideshow": {
     "slide_type": "subslide"
    }
   },
   "source": [
    "### Exercise 5: Flow Assertions\n",
    "\n",
    "In line with [Verifying Flows at Runtime](#Verifying-Flows-at-Runtime), above, implement a function `assert_flow(target, source)` that checks at runtime that the data flowing into `target` only comes from the variables named in `source`. "
   ]
  },
  {
   "cell_type": "code",
   "execution_count": 254,
   "metadata": {
    "execution": {
     "iopub.execute_input": "2023-02-11T12:18:35.530502Z",
     "iopub.status.busy": "2023-02-11T12:18:35.530137Z",
     "iopub.status.idle": "2023-02-11T12:18:35.531319Z",
     "shell.execute_reply": "2023-02-11T12:18:35.531521Z"
    },
    "slideshow": {
     "slide_type": "fragment"
    }
   },
   "outputs": [],
   "source": [
    "def assert_flow(target: Any, source: List[Any]) -> bool:\n",
    "    \"\"\"\n",
    "    Raise an `AssertionError` if the dependencies of `target`\n",
    "    are not equal to `source`.\n",
    "    \"\"\"\n",
    "    ...\n",
    "    return True"
   ]
  },
  {
   "cell_type": "markdown",
   "metadata": {
    "slideshow": {
     "slide_type": "fragment"
    }
   },
   "source": [
    "`assert_flow()` would be used in conjunction with `Slicer()` as follows:"
   ]
  },
  {
   "cell_type": "code",
   "execution_count": 255,
   "metadata": {
    "execution": {
     "iopub.execute_input": "2023-02-11T12:18:35.533787Z",
     "iopub.status.busy": "2023-02-11T12:18:35.533457Z",
     "iopub.status.idle": "2023-02-11T12:18:35.534502Z",
     "shell.execute_reply": "2023-02-11T12:18:35.534730Z"
    },
    "slideshow": {
     "slide_type": "subslide"
    }
   },
   "outputs": [],
   "source": [
    "def demo4() -> int:\n",
    "    x = 25\n",
    "    y = 26\n",
    "    assert_flow(y, [x])  # ensures that `y` depends on `x` only\n",
    "    return y"
   ]
  },
  {
   "cell_type": "code",
   "execution_count": 256,
   "metadata": {
    "execution": {
     "iopub.execute_input": "2023-02-11T12:18:35.541470Z",
     "iopub.status.busy": "2023-02-11T12:18:35.540989Z",
     "iopub.status.idle": "2023-02-11T12:18:35.542653Z",
     "shell.execute_reply": "2023-02-11T12:18:35.542963Z"
    },
    "slideshow": {
     "slide_type": "fragment"
    }
   },
   "outputs": [],
   "source": [
    "with Slicer() as slicer:\n",
    "    demo4()"
   ]
  },
  {
   "cell_type": "markdown",
   "metadata": {
    "slideshow": {
     "slide_type": "fragment"
    }
   },
   "source": [
    "To check dependencies, have `assert_flow()` check the contents of the `_data` dependency collector as set up by the slicer."
   ]
  },
  {
   "cell_type": "markdown",
   "metadata": {
    "slideshow": {
     "slide_type": "subslide"
    }
   },
   "source": [
    "### Exercise 6: Checked Coverage\n",
    "\n",
    "Implement checked coverage, as sketched in [Assessing Test Quality](#Assessing-Test-Quality) above. For every `assert` statement encountered during a run, produce the number of statements it depends upon."
   ]
  }
 ],
 "metadata": {
  "ipub": {
   "bibliography": "fuzzingbook.bib",
   "toc": true
  },
  "kernelspec": {
   "display_name": "venv",
   "language": "python",
   "name": "python3"
  },
  "language_info": {
   "codemirror_mode": {
    "name": "ipython",
    "version": 3
   },
   "file_extension": ".py",
   "mimetype": "text/x-python",
   "name": "python",
   "nbconvert_exporter": "python",
   "pygments_lexer": "ipython3",
   "version": "3.10.2"
  },
  "toc": {
   "base_numbering": 1,
   "nav_menu": {},
   "number_sections": true,
   "sideBar": true,
   "skip_h1_title": true,
   "title_cell": "",
   "title_sidebar": "Contents",
   "toc_cell": false,
   "toc_position": {},
   "toc_section_display": true,
   "toc_window_display": true
  },
  "toc-autonumbering": false,
  "vscode": {
   "interpreter": {
    "hash": "0af4f07dd039d1b4e562c7a7d0340393b1c66f50605ac6af30beb81aa23b7ef5"
   }
  }
 },
 "nbformat": 4,
 "nbformat_minor": 4
}