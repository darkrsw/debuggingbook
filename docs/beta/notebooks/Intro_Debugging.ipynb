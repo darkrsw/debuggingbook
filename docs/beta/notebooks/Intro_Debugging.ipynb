{
 "cells": [
  {
   "cell_type": "markdown",
   "metadata": {
    "button": false,
    "new_sheet": false,
    "run_control": {
     "read_only": false
    },
    "slideshow": {
     "slide_type": "slide"
    }
   },
   "source": [
    "# Introduction to Debugging\n",
    "\n",
    "In this book, we want to explore _debugging_ - the art and science of fixing bugs in computer software. In particular, we want to explore techniques that _automatically_ answer questions like: Where is the bug? When does it occur? And how can we repair it? But before we start automating the debugging process, we first need to understand what this process is.\n",
    "\n",
    "In this chapter, we introduce basic concepts of systematic software debugging and the debugging process, and at the same time get acquainted with Python and interactive notebooks."
   ]
  },
  {
   "cell_type": "code",
   "execution_count": 1,
   "metadata": {
    "execution": {
     "iopub.execute_input": "2023-02-11T10:02:54.626963Z",
     "iopub.status.busy": "2023-02-11T10:02:54.625616Z",
     "iopub.status.idle": "2023-02-11T10:02:54.690529Z",
     "shell.execute_reply": "2023-02-11T10:02:54.690910Z"
    },
    "slideshow": {
     "slide_type": "skip"
    }
   },
   "outputs": [
    {
     "data": {
      "text/html": [
       "\n",
       "        <iframe\n",
       "            width=\"640\"\n",
       "            height=\"360\"\n",
       "            src=\"https://www.youtube-nocookie.com/embed/bCHRCehDOq0\"\n",
       "            frameborder=\"0\"\n",
       "            allowfullscreen\n",
       "            \n",
       "        ></iframe>\n",
       "        "
      ],
      "text/plain": [
       "<IPython.lib.display.IFrame at 0x1115ef5e0>"
      ]
     },
     "execution_count": 1,
     "metadata": {},
     "output_type": "execute_result"
    }
   ],
   "source": [
    "from bookutils import YouTubeVideo, quiz\n",
    "YouTubeVideo(\"bCHRCehDOq0\")"
   ]
  },
  {
   "cell_type": "markdown",
   "metadata": {
    "button": false,
    "new_sheet": false,
    "run_control": {
     "read_only": false
    },
    "slideshow": {
     "slide_type": "subslide"
    }
   },
   "source": [
    "**Prerequisites**\n",
    "\n",
    "* The book is meant to be a standalone reference; however, a number of _great books on debugging_ are listed at the end,\n",
    "* Knowing a bit of _Python_ is helpful for understanding the code examples in the book."
   ]
  },
  {
   "cell_type": "markdown",
   "metadata": {
    "slideshow": {
     "slide_type": "skip"
    }
   },
   "source": [
    "## Synopsis\n",
    "<!-- Automatically generated. Do not edit. -->\n",
    "\n",
    "To [use the code provided in this chapter](Importing.ipynb), write\n",
    "\n",
    "```python\n",
    ">>> from debuggingbook.Intro_Debugging import <identifier>\n",
    "```\n",
    "\n",
    "and then make use of the following features.\n",
    "\n",
    "\n",
    "In this chapter, we introduce some basics of how failures come to be as well as a general process for debugging.\n",
    "\n"
   ]
  },
  {
   "cell_type": "markdown",
   "metadata": {
    "button": false,
    "new_sheet": true,
    "run_control": {
     "read_only": false
    },
    "slideshow": {
     "slide_type": "slide"
    }
   },
   "source": [
    "## A Simple Function"
   ]
  },
  {
   "cell_type": "code",
   "execution_count": 2,
   "metadata": {
    "execution": {
     "iopub.execute_input": "2023-02-11T10:02:54.694493Z",
     "iopub.status.busy": "2023-02-11T10:02:54.694113Z",
     "iopub.status.idle": "2023-02-11T10:02:54.695359Z",
     "shell.execute_reply": "2023-02-11T10:02:54.695615Z"
    },
    "slideshow": {
     "slide_type": "subslide"
    }
   },
   "outputs": [],
   "source": [
    "# ignore\n",
    "\n",
    "# If this is the first time you are opening a notebook, please read this.\n",
    "#\n",
    "# Interaction basics\n",
    "# ------------------\n",
    "#\n",
    "# * The notebook is composed of _code cells_ (like this one) and\n",
    "#   _text cells_ (like the one above).\n",
    "# \n",
    "# * To interact with the notebook, click into a cell (or type `Return`) \n",
    "#   and start editing. Type `Shift+Return` to execute the code, or \n",
    "#   `Esc` to leave without executing it.\n",
    "# \n",
    "# * Since code cells depend on earlier cells, you will have to execute\n",
    "#   those first - beginning from the top of the notebook.\n",
    "# \n",
    "# * You can change code (and text) at your leisure to try out alternatives.\n",
    "#   In Jupyter, use `b` to add a new cell below, and `Return` to enter it.\n",
    "#   Type `x` to delete (cut) a cell, and `z` to undo this.\n",
    "# \n",
    "# * There's a `Help` menu at the top of Jupyter Notebook. Enjoy!\n",
    "#\n",
    "#\n",
    "# `# ignore` markers\n",
    "# ------------------\n",
    "#\n",
    "# * In the notebook, there are some extra code cells starting with `# ignore`\n",
    "#   (like this one, actually). These are code blocks used to create diagrams,\n",
    "#   run tests, create or tear down special environments or more - code blocks\n",
    "#   that are not necessary for reading (but for creation).\n",
    "#\n",
    "#\n",
    "# `# type: ignore` markers\n",
    "# ------------------------\n",
    "#\n",
    "# * In the notebook, some lines come with a comment `# type: ignore`. This tells\n",
    "#   static code checkers to ignore any typing errors in that line. Most frequently,\n",
    "#   this is used to mark untyped Python code (as in our examples) such that the\n",
    "#   static code checker does not mark it as erroneous."
   ]
  },
  {
   "cell_type": "markdown",
   "metadata": {
    "button": false,
    "new_sheet": true,
    "run_control": {
     "read_only": false
    },
    "slideshow": {
     "slide_type": "subslide"
    }
   },
   "source": [
    "### Your Task: Remove HTML Markup\n",
    "\n",
    "Let us start with a simple example. You may have heard of how documents on the Web are made out of text and HTML markup. HTML markup consists of _tags_ in angle brackets that surround the text, providing additional information on how the text should be interpreted. For instance, in the HTML text\n",
    "\n",
    "```html\n",
    "This is <em>emphasized</em>.\n",
    "```\n",
    "\n",
    "the word \"emphasized\" is enclosed in the HTML tags `<em>` (start) and `</em>` (end), meaning that it should be interpreted (and rendered) in an emphasized way – typically in italics. In your environment, the HTML text gets rendered as\n",
    "\n",
    "> This is <em>emphasized</em>.\n",
    "\n",
    "There's HTML tags for pretty much everything – text markup (<strong>bold</strong> text, <s>strikethrough</s> text), text structure (titles, lists), references (links) to other documents, and many more. These HTML tags shape the Web as we know it."
   ]
  },
  {
   "cell_type": "markdown",
   "metadata": {
    "slideshow": {
     "slide_type": "subslide"
    }
   },
   "source": [
    "However, with all the HTML markup, it may become difficult to actually access the _text_ that lies within. We'd like to implement a simple function that removes _HTML markup_ and converts it into text. If our input is\n",
    "\n",
    "```html\n",
    "Here's some <strong>strong argument</strong>.\n",
    "```\n",
    "the output should be\n",
    "\n",
    "> Here's some strong argument."
   ]
  },
  {
   "cell_type": "markdown",
   "metadata": {
    "slideshow": {
     "slide_type": "fragment"
    }
   },
   "source": [
    "Here's a Python function which does exactly this. It takes a (HTML) string and returns the text without markup."
   ]
  },
  {
   "cell_type": "code",
   "execution_count": 3,
   "metadata": {
    "execution": {
     "iopub.execute_input": "2023-02-11T10:02:54.698191Z",
     "iopub.status.busy": "2023-02-11T10:02:54.697788Z",
     "iopub.status.idle": "2023-02-11T10:02:54.698886Z",
     "shell.execute_reply": "2023-02-11T10:02:54.699305Z"
    },
    "slideshow": {
     "slide_type": "subslide"
    }
   },
   "outputs": [],
   "source": [
    "def remove_html_markup(s):  # type: ignore\n",
    "    tag = False\n",
    "    out = \"\"\n",
    "\n",
    "    for c in s:\n",
    "        if c == '<':    # start of markup\n",
    "            tag = True\n",
    "        elif c == '>':  # end of markup\n",
    "            tag = False\n",
    "        elif not tag:\n",
    "            out = out + c\n",
    "\n",
    "    return out"
   ]
  },
  {
   "cell_type": "markdown",
   "metadata": {
    "slideshow": {
     "slide_type": "fragment"
    }
   },
   "source": [
    "This function works, but not always. Before we start debugging things, let us first explore its code and how it works."
   ]
  },
  {
   "attachments": {},
   "cell_type": "markdown",
   "metadata": {
    "slideshow": {
     "slide_type": "subslide"
    }
   },
   "source": [
    "### Understanding Python Programs\n",
    "\n",
    "If you're new to Python, you might first have to understand what the above code does.  We very much recommend the [Python tutorial](https://docs.python.org/3/tutorial/) to get an idea on how Python works.  The most important things for you to understand the above code are these three:\n",
    "\n",
    "1. Python structures programs through _indentation_, so the function and `for` bodies are defined by being indented.\n",
    "2. Python is _dynamically typed_, meaning that the type of variables like `c`, `tag`, or `out` is determined at run-time.\n",
    "3. Most of Python's syntactic features are inspired by other common languages, such as control structures (`while`, `if`, `for`), assignments (`=`), or comparisons (`==`, `!=`, `<`).\n",
    "\n",
    "With that, you can already understand what the above code does: `remove_html_markup()` takes a (HTML) string `s` and then iterates over the individual characters (`for c in s`). By default, these characters are added to the return string `out`. However, if `remove_html_markup()` finds a `<` character, it sets the `tag` flag, meaning that all further characters are ignored until a `>` character is found.\n",
    "\n",
    "In contrast to other languages, Python makes no difference between strings and characters – there are only strings. As in HTML, strings can be enclosed in single quotes (`'a'`) and in double quotes (`\"a\"`). This is useful if you want to specify a string that contains quotes, as in `'She said \"hello\", and then left'` or `\"The first character is a 'c'\"`"
   ]
  },
  {
   "cell_type": "markdown",
   "metadata": {
    "slideshow": {
     "slide_type": "subslide"
    }
   },
   "source": [
    "### Running a Function\n",
    "\n",
    "To find out whether `remove_html_markup()` works correctly, we can *test* it with a few values.  For the string\n",
    "\n",
    "```html\n",
    "Here's some <strong>strong argument</strong>.\n",
    "```\n",
    "\n",
    "for instance, it produces the correct value:"
   ]
  },
  {
   "cell_type": "code",
   "execution_count": 4,
   "metadata": {
    "execution": {
     "iopub.execute_input": "2023-02-11T10:02:54.701739Z",
     "iopub.status.busy": "2023-02-11T10:02:54.701327Z",
     "iopub.status.idle": "2023-02-11T10:02:54.703165Z",
     "shell.execute_reply": "2023-02-11T10:02:54.703459Z"
    },
    "slideshow": {
     "slide_type": "fragment"
    }
   },
   "outputs": [
    {
     "data": {
      "text/plain": [
       "\"Here's some strong argument.\""
      ]
     },
     "execution_count": 4,
     "metadata": {},
     "output_type": "execute_result"
    }
   ],
   "source": [
    "remove_html_markup(\"Here's some <strong>strong argument</strong>.\")"
   ]
  },
  {
   "cell_type": "markdown",
   "metadata": {
    "slideshow": {
     "slide_type": "subslide"
    }
   },
   "source": [
    "### Interacting with Notebooks\n",
    "\n",
    "If you are reading this in the interactive notebook, you can try out `remove_html_markup()` with other values as well.  Click on the above cells with the invocation of `remove_html_markup()` and change the value – say, to `remove_html_markup(\"<em>foo</em>\")`.  Press <kbd>Shift</kbd>+<kbd>Enter</kbd> (or click on the play symbol) to execute it and see the result.  If you get an error message, go to the above cell with the definition of `remove_html_markup()` and execute this first.  You can also run _all_ cells at once; see the Notebook menu for details.  (You can actually also change the text by clicking on it, and corect mistaks such as in this sentence.)"
   ]
  },
  {
   "cell_type": "markdown",
   "metadata": {
    "slideshow": {
     "slide_type": "subslide"
    }
   },
   "source": [
    "Executing a single cell does not execute other cells, so if your cell builds on a definition in another cell that you have not executed yet, you will get an error.  You can select `Run all cells above` from the menu to ensure all definitions are set."
   ]
  },
  {
   "cell_type": "markdown",
   "metadata": {
    "slideshow": {
     "slide_type": "fragment"
    }
   },
   "source": [
    "Also keep in mind that, unless overwritten, all definitions are kept across executions.  Occasionally, it thus helps to _restart the kernel_ (i.e. start the Python interpreter from scratch) to get rid of older, superfluous definitions."
   ]
  },
  {
   "cell_type": "markdown",
   "metadata": {
    "slideshow": {
     "slide_type": "subslide"
    }
   },
   "source": [
    "### Testing a Function"
   ]
  },
  {
   "cell_type": "markdown",
   "metadata": {
    "slideshow": {
     "slide_type": "fragment"
    }
   },
   "source": [
    "Since one can change not only invocations, but also definitions, we want to ensure that our function works properly now and in the future. To this end, we introduce tests through _assertions_ – a statement that fails if the given _check_ is false. The following assertion, for instance, checks that the above call to `remove_html_markup()` returns the correct value:"
   ]
  },
  {
   "cell_type": "code",
   "execution_count": 5,
   "metadata": {
    "execution": {
     "iopub.execute_input": "2023-02-11T10:02:54.706022Z",
     "iopub.status.busy": "2023-02-11T10:02:54.705592Z",
     "iopub.status.idle": "2023-02-11T10:02:54.707629Z",
     "shell.execute_reply": "2023-02-11T10:02:54.708483Z"
    },
    "slideshow": {
     "slide_type": "fragment"
    }
   },
   "outputs": [],
   "source": [
    "assert remove_html_markup(\"Here's some <strong>strong argument</strong>.\") == \\\n",
    "    \"Here's some strong argument.\""
   ]
  },
  {
   "cell_type": "markdown",
   "metadata": {
    "slideshow": {
     "slide_type": "fragment"
    }
   },
   "source": [
    "If you change the code of `remove_html_markup()` such that the above assertion fails, you will have introduced a bug."
   ]
  },
  {
   "cell_type": "markdown",
   "metadata": {
    "slideshow": {
     "slide_type": "slide"
    }
   },
   "source": [
    "## Oops! A Bug!"
   ]
  },
  {
   "cell_type": "markdown",
   "metadata": {
    "slideshow": {
     "slide_type": "subslide"
    }
   },
   "source": [
    "As nice and simple as `remove_html_markup()` is, it is buggy. Some HTML markup is not properly stripped away. Consider this HTML tag:\n",
    "\n",
    "```html\n",
    "<input type=\"text\" value=\"<your name>\">\n",
    "```\n",
    "\n",
    "This would render as an input field in a form:\n",
    "\n",
    "> <input type=\"text\" value=\"<your name>\">\n",
    "\n",
    "If we feed this string into `remove_html_markup()`, we would expect an empty string as the result. Instead, this is what we get:"
   ]
  },
  {
   "cell_type": "code",
   "execution_count": 6,
   "metadata": {
    "execution": {
     "iopub.execute_input": "2023-02-11T10:02:54.711372Z",
     "iopub.status.busy": "2023-02-11T10:02:54.710968Z",
     "iopub.status.idle": "2023-02-11T10:02:54.712626Z",
     "shell.execute_reply": "2023-02-11T10:02:54.712846Z"
    },
    "slideshow": {
     "slide_type": "subslide"
    }
   },
   "outputs": [
    {
     "data": {
      "text/plain": [
       "'\"'"
      ]
     },
     "execution_count": 6,
     "metadata": {},
     "output_type": "execute_result"
    }
   ],
   "source": [
    "remove_html_markup('<input type=\"text\" value=\"<your name>\">')"
   ]
  },
  {
   "cell_type": "markdown",
   "metadata": {
    "slideshow": {
     "slide_type": "fragment"
    }
   },
   "source": [
    "Every time we encounter a bug, this means that our earlier tests have failed. We thus need to introduce another test that documents not only how the bug came to be, but also the result we actually expected."
   ]
  },
  {
   "cell_type": "markdown",
   "metadata": {
    "slideshow": {
     "slide_type": "fragment"
    }
   },
   "source": [
    "The assertion we write now fails with an error message. (The `ExpectError` magic ensures we see the error message, but the rest of the notebook is still executed.)"
   ]
  },
  {
   "cell_type": "code",
   "execution_count": 7,
   "metadata": {
    "execution": {
     "iopub.execute_input": "2023-02-11T10:02:54.715466Z",
     "iopub.status.busy": "2023-02-11T10:02:54.715050Z",
     "iopub.status.idle": "2023-02-11T10:02:54.743421Z",
     "shell.execute_reply": "2023-02-11T10:02:54.744286Z"
    },
    "slideshow": {
     "slide_type": "skip"
    }
   },
   "outputs": [],
   "source": [
    "from ExpectError import ExpectError"
   ]
  },
  {
   "cell_type": "code",
   "execution_count": 8,
   "metadata": {
    "execution": {
     "iopub.execute_input": "2023-02-11T10:02:54.747075Z",
     "iopub.status.busy": "2023-02-11T10:02:54.746693Z",
     "iopub.status.idle": "2023-02-11T10:02:54.748515Z",
     "shell.execute_reply": "2023-02-11T10:02:54.749013Z"
    },
    "slideshow": {
     "slide_type": "fragment"
    }
   },
   "outputs": [
    {
     "name": "stderr",
     "output_type": "stream",
     "text": [
      "Traceback (most recent call last):\n",
      "  File \"/var/folders/n2/xd9445p97rb3xh7m1dfx8_4h0006ts/T/ipykernel_358/145241764.py\", line 2, in <cell line: 1>\n",
      "    assert remove_html_markup('<input type=\"text\" value=\"<your name>\">') == \"\"\n",
      "AssertionError (expected)\n"
     ]
    }
   ],
   "source": [
    "with ExpectError():\n",
    "    assert remove_html_markup('<input type=\"text\" value=\"<your name>\">') == \"\""
   ]
  },
  {
   "cell_type": "markdown",
   "metadata": {
    "slideshow": {
     "slide_type": "subslide"
    }
   },
   "source": [
    "With this, we now have our task: _Fix the failure as above._"
   ]
  },
  {
   "cell_type": "markdown",
   "metadata": {
    "slideshow": {
     "slide_type": "slide"
    }
   },
   "source": [
    "## Visualizing Code\n",
    "\n",
    "To properly understand what is going on here, it helps drawing a diagram on how `remove_html_markup()` works. Technically, `remove_html_markup()` implements a _state machine_ with two states `tag` and `¬ tag`. We change between these states depending on the characters we process. This is visualized in the following diagram:"
   ]
  },
  {
   "cell_type": "code",
   "execution_count": 9,
   "metadata": {
    "execution": {
     "iopub.execute_input": "2023-02-11T10:02:54.751665Z",
     "iopub.status.busy": "2023-02-11T10:02:54.750910Z",
     "iopub.status.idle": "2023-02-11T10:02:54.758850Z",
     "shell.execute_reply": "2023-02-11T10:02:54.759181Z"
    },
    "ipub": {
     "ignore": true
    },
    "slideshow": {
     "slide_type": "skip"
    }
   },
   "outputs": [],
   "source": [
    "from graphviz import Digraph, nohtml"
   ]
  },
  {
   "cell_type": "code",
   "execution_count": 10,
   "metadata": {
    "execution": {
     "iopub.execute_input": "2023-02-11T10:02:54.761372Z",
     "iopub.status.busy": "2023-02-11T10:02:54.760981Z",
     "iopub.status.idle": "2023-02-11T10:02:54.762514Z",
     "shell.execute_reply": "2023-02-11T10:02:54.762764Z"
    },
    "ipub": {
     "ignore": true
    },
    "slideshow": {
     "slide_type": "skip"
    }
   },
   "outputs": [],
   "source": [
    "from IPython.display import display"
   ]
  },
  {
   "cell_type": "code",
   "execution_count": 11,
   "metadata": {
    "execution": {
     "iopub.execute_input": "2023-02-11T10:02:54.765154Z",
     "iopub.status.busy": "2023-02-11T10:02:54.764649Z",
     "iopub.status.idle": "2023-02-11T10:02:54.766134Z",
     "shell.execute_reply": "2023-02-11T10:02:54.766362Z"
    },
    "ipub": {
     "ignore": true
    },
    "slideshow": {
     "slide_type": "subslide"
    }
   },
   "outputs": [],
   "source": [
    "# ignore\n",
    "PASS = \"✔\"\n",
    "FAIL = \"✘\"\n",
    "\n",
    "PASS_COLOR = 'darkgreen'  # '#006400' # darkgreen\n",
    "FAIL_COLOR = 'red4'  # '#8B0000' # darkred\n",
    "\n",
    "STEP_COLOR = 'peachpuff'\n",
    "FONT_NAME = 'Raleway'"
   ]
  },
  {
   "cell_type": "code",
   "execution_count": 12,
   "metadata": {
    "execution": {
     "iopub.execute_input": "2023-02-11T10:02:54.771867Z",
     "iopub.status.busy": "2023-02-11T10:02:54.770271Z",
     "iopub.status.idle": "2023-02-11T10:02:54.772395Z",
     "shell.execute_reply": "2023-02-11T10:02:54.772168Z"
    },
    "ipub": {
     "ignore": true
    },
    "slideshow": {
     "slide_type": "subslide"
    }
   },
   "outputs": [],
   "source": [
    "# ignore\n",
    "def graph(comment: str =\"default\") -> Digraph:\n",
    "    return Digraph(name='', comment=comment, graph_attr={'rankdir': 'LR'},\n",
    "        node_attr={'style': 'filled',\n",
    "                   'fillcolor': STEP_COLOR,\n",
    "                   'fontname': FONT_NAME},\n",
    "        edge_attr={'fontname': FONT_NAME})"
   ]
  },
  {
   "cell_type": "code",
   "execution_count": 13,
   "metadata": {
    "execution": {
     "iopub.execute_input": "2023-02-11T10:02:54.775288Z",
     "iopub.status.busy": "2023-02-11T10:02:54.774957Z",
     "iopub.status.idle": "2023-02-11T10:02:54.776273Z",
     "shell.execute_reply": "2023-02-11T10:02:54.776534Z"
    },
    "ipub": {
     "ignore": true
    },
    "slideshow": {
     "slide_type": "fragment"
    }
   },
   "outputs": [],
   "source": [
    "# ignore\n",
    "state_machine = graph()\n",
    "state_machine.node('Start', )\n",
    "state_machine.edge('Start', '¬ tag')\n",
    "state_machine.edge('¬ tag', '¬ tag', label=\" ¬ '<'\\\\nadd character\")\n",
    "state_machine.edge('¬ tag', 'tag', label=\"'<'\")\n",
    "state_machine.edge('tag', '¬ tag', label=\"'>'\")\n",
    "state_machine.edge('tag', 'tag', label=\"¬ '>'\")"
   ]
  },
  {
   "cell_type": "code",
   "execution_count": 14,
   "metadata": {
    "execution": {
     "iopub.execute_input": "2023-02-11T10:02:54.778917Z",
     "iopub.status.busy": "2023-02-11T10:02:54.778551Z",
     "iopub.status.idle": "2023-02-11T10:02:55.079963Z",
     "shell.execute_reply": "2023-02-11T10:02:55.080243Z"
    },
    "slideshow": {
     "slide_type": "subslide"
    }
   },
   "outputs": [
    {
     "data": {
      "image/svg+xml": [
       "<?xml version=\"1.0\" encoding=\"UTF-8\" standalone=\"no\"?>\n",
       "<!DOCTYPE svg PUBLIC \"-//W3C//DTD SVG 1.1//EN\"\n",
       " \"http://www.w3.org/Graphics/SVG/1.1/DTD/svg11.dtd\">\n",
       "<!-- Generated by graphviz version 7.0.2 (20221119.0110)\n",
       " -->\n",
       "<!-- Pages: 1 -->\n",
       "<svg width=\"269pt\" height=\"94pt\"\n",
       " viewBox=\"0.00 0.00 269.19 94.05\" xmlns=\"http://www.w3.org/2000/svg\" xmlns:xlink=\"http://www.w3.org/1999/xlink\">\n",
       "<g id=\"graph0\" class=\"graph\" transform=\"scale(1 1) rotate(0) translate(4 90.05)\">\n",
       "<polygon fill=\"white\" stroke=\"none\" points=\"-4,4 -4,-90.05 265.19,-90.05 265.19,4 -4,4\"/>\n",
       "<!-- Start -->\n",
       "<g id=\"node1\" class=\"node\">\n",
       "<title>Start</title>\n",
       "<ellipse fill=\"peachpuff\" stroke=\"black\" cx=\"29.9\" cy=\"-20.05\" rx=\"29.8\" ry=\"18\"/>\n",
       "<text text-anchor=\"middle\" x=\"29.9\" y=\"-16.35\" font-family=\"Raleway\" font-size=\"14.00\">Start</text>\n",
       "</g>\n",
       "<!-- ¬ tag -->\n",
       "<g id=\"node2\" class=\"node\">\n",
       "<title>¬ tag</title>\n",
       "<ellipse fill=\"peachpuff\" stroke=\"black\" cx=\"127.99\" cy=\"-20.05\" rx=\"31.4\" ry=\"18\"/>\n",
       "<text text-anchor=\"middle\" x=\"127.99\" y=\"-16.35\" font-family=\"Raleway\" font-size=\"14.00\">¬ tag</text>\n",
       "</g>\n",
       "<!-- Start&#45;&gt;¬ tag -->\n",
       "<g id=\"edge1\" class=\"edge\">\n",
       "<title>Start&#45;&gt;¬ tag</title>\n",
       "<path fill=\"none\" stroke=\"black\" d=\"M59.99,-20.05C67.89,-20.05 76.6,-20.05 85.06,-20.05\"/>\n",
       "<polygon fill=\"black\" stroke=\"black\" points=\"84.82,-23.55 94.82,-20.05 84.82,-16.55 84.82,-23.55\"/>\n",
       "</g>\n",
       "<!-- ¬ tag&#45;&gt;¬ tag -->\n",
       "<g id=\"edge2\" class=\"edge\">\n",
       "<title>¬ tag&#45;&gt;¬ tag</title>\n",
       "<path fill=\"none\" stroke=\"black\" d=\"M119.12,-37.46C117.46,-47.14 120.42,-56.05 127.99,-56.05 132.37,-56.05 135.2,-53.07 136.5,-48.69\"/>\n",
       "<polygon fill=\"black\" stroke=\"black\" points=\"139.99,-49.08 136.81,-38.97 132.99,-48.85 139.99,-49.08\"/>\n",
       "<text text-anchor=\"middle\" x=\"127.99\" y=\"-74.85\" font-family=\"Raleway\" font-size=\"14.00\"> ¬ &#39;&lt;&#39;</text>\n",
       "<text text-anchor=\"middle\" x=\"127.99\" y=\"-59.85\" font-family=\"Raleway\" font-size=\"14.00\">add character</text>\n",
       "</g>\n",
       "<!-- tag -->\n",
       "<g id=\"node3\" class=\"node\">\n",
       "<title>tag</title>\n",
       "<ellipse fill=\"peachpuff\" stroke=\"black\" cx=\"234.19\" cy=\"-20.05\" rx=\"27\" ry=\"18\"/>\n",
       "<text text-anchor=\"middle\" x=\"234.19\" y=\"-16.35\" font-family=\"Raleway\" font-size=\"14.00\">tag</text>\n",
       "</g>\n",
       "<!-- ¬ tag&#45;&gt;tag -->\n",
       "<g id=\"edge3\" class=\"edge\">\n",
       "<title>¬ tag&#45;&gt;tag</title>\n",
       "<path fill=\"none\" stroke=\"black\" d=\"M159.69,-20.05C170.95,-20.05 183.82,-20.05 195.61,-20.05\"/>\n",
       "<polygon fill=\"black\" stroke=\"black\" points=\"195.42,-23.55 205.42,-20.05 195.42,-16.55 195.42,-23.55\"/>\n",
       "<text text-anchor=\"middle\" x=\"183.19\" y=\"-23.85\" font-family=\"Raleway\" font-size=\"14.00\">&#39;&lt;&#39;</text>\n",
       "</g>\n",
       "<!-- tag&#45;&gt;¬ tag -->\n",
       "<g id=\"edge4\" class=\"edge\">\n",
       "<title>tag&#45;&gt;¬ tag</title>\n",
       "<path fill=\"none\" stroke=\"black\" d=\"M212.28,-8.95C205.15,-5.74 197.01,-2.66 189.19,-1.05 180.13,0.82 170.51,-0.6 161.67,-3.35\"/>\n",
       "<polygon fill=\"black\" stroke=\"black\" points=\"160.53,-0.05 152.42,-6.87 163.01,-6.59 160.53,-0.05\"/>\n",
       "<text text-anchor=\"middle\" x=\"183.19\" y=\"-4.85\" font-family=\"Raleway\" font-size=\"14.00\">&#39;&gt;&#39;</text>\n",
       "</g>\n",
       "<!-- tag&#45;&gt;tag -->\n",
       "<g id=\"edge5\" class=\"edge\">\n",
       "<title>tag&#45;&gt;tag</title>\n",
       "<path fill=\"none\" stroke=\"black\" d=\"M225.08,-37.46C223.38,-47.14 226.42,-56.05 234.19,-56.05 238.68,-56.05 241.59,-53.07 242.92,-48.69\"/>\n",
       "<polygon fill=\"black\" stroke=\"black\" points=\"246.41,-49.08 243.24,-38.97 239.41,-48.85 246.41,-49.08\"/>\n",
       "<text text-anchor=\"middle\" x=\"234.19\" y=\"-59.85\" font-family=\"Raleway\" font-size=\"14.00\">¬ &#39;&gt;&#39;</text>\n",
       "</g>\n",
       "</g>\n",
       "</svg>\n"
      ],
      "text/plain": [
       "<graphviz.graphs.Digraph at 0x111bbc700>"
      ]
     },
     "metadata": {},
     "output_type": "display_data"
    }
   ],
   "source": [
    "# ignore\n",
    "display(state_machine)"
   ]
  },
  {
   "cell_type": "markdown",
   "metadata": {
    "slideshow": {
     "slide_type": "fragment"
    }
   },
   "source": [
    "You see that we start in the non-tag state (`¬ tag`). Here, for every character that is not `'<'`, we add the character and stay in the same state. When we read a `'<'`, though, we end in the tag state (`tag`) and stay in that state (skipping characters) until we find a closing `'>'` character."
   ]
  },
  {
   "attachments": {},
   "cell_type": "markdown",
   "metadata": {
    "slideshow": {
     "slide_type": "slide"
    }
   },
   "source": [
    "## A First Fix\n",
    "\n",
    "We will now iteratively try to find a correct solution to our bug. On the way we will come up with different _interim solutions_ that bring us closer and closer to the perfect code. Of course, we could come up with a near-perfect solution right away, but each of these interim solutions illustrate some techniques we can use during debugging."
   ]
  },
  {
   "cell_type": "markdown",
   "metadata": {
    "slideshow": {
     "slide_type": "fragment"
    }
   },
   "source": [
    "Let us look at the above state machine, and process through our input:\n",
    "\n",
    "```html\n",
    "<input type=\"text\" value=\"<your name>\">\n",
    "```"
   ]
  },
  {
   "cell_type": "markdown",
   "metadata": {
    "slideshow": {
     "slide_type": "subslide"
    }
   },
   "source": [
    "So what you can see is: We are interpreting the `'>'` of `\"<your name>\"` as the closing of the tag. However, this is a quoted string, so the `'>'` should be interpreted as a regular character, not as markup. This is an example of _missing functionality:_ We do not handle quoted characters correctly. We haven't claimed yet to take care of all functionality, so we still need to extend our code."
   ]
  },
  {
   "cell_type": "markdown",
   "metadata": {
    "slideshow": {
     "slide_type": "fragment"
    }
   },
   "source": [
    "So we extend the whole thing.  We set up a special \"quote\" state which processes quoted inputs in tags until the end of the quoted string is reached. This is how the state machine looks like:"
   ]
  },
  {
   "cell_type": "code",
   "execution_count": 15,
   "metadata": {
    "execution": {
     "iopub.execute_input": "2023-02-11T10:02:55.083485Z",
     "iopub.status.busy": "2023-02-11T10:02:55.083166Z",
     "iopub.status.idle": "2023-02-11T10:02:55.084350Z",
     "shell.execute_reply": "2023-02-11T10:02:55.084668Z"
    },
    "ipub": {
     "ignore": true
    },
    "slideshow": {
     "slide_type": "subslide"
    }
   },
   "outputs": [],
   "source": [
    "# ignore\n",
    "state_machine = graph()\n",
    "state_machine.node('Start')\n",
    "state_machine.edge('Start', '¬ quote\\\\n¬ tag')\n",
    "state_machine.edge('¬ quote\\\\n¬ tag', '¬ quote\\\\n¬ tag',\n",
    "                   label=\"¬ '<'\\\\nadd character\")\n",
    "state_machine.edge('¬ quote\\\\n¬ tag', '¬ quote\\\\ntag', label=\"'<'\")\n",
    "state_machine.edge('¬ quote\\\\ntag', 'quote\\\\ntag', label=\"'\\\"'\")\n",
    "state_machine.edge('¬ quote\\\\ntag', '¬ quote\\\\ntag', label=\"¬ '\\\"' ∧ ¬ '>'\")\n",
    "state_machine.edge('quote\\\\ntag', 'quote\\\\ntag', label=\"¬ '\\\"'\")\n",
    "state_machine.edge('quote\\\\ntag', '¬ quote\\\\ntag', label=\"'\\\"'\")\n",
    "state_machine.edge('¬ quote\\\\ntag', '¬ quote\\\\n¬ tag', label=\"'>'\")"
   ]
  },
  {
   "cell_type": "code",
   "execution_count": 16,
   "metadata": {
    "execution": {
     "iopub.execute_input": "2023-02-11T10:02:55.089727Z",
     "iopub.status.busy": "2023-02-11T10:02:55.089298Z",
     "iopub.status.idle": "2023-02-11T10:02:55.380725Z",
     "shell.execute_reply": "2023-02-11T10:02:55.381004Z"
    },
    "slideshow": {
     "slide_type": "fragment"
    }
   },
   "outputs": [
    {
     "data": {
      "image/svg+xml": [
       "<?xml version=\"1.0\" encoding=\"UTF-8\" standalone=\"no\"?>\n",
       "<!DOCTYPE svg PUBLIC \"-//W3C//DTD SVG 1.1//EN\"\n",
       " \"http://www.w3.org/Graphics/SVG/1.1/DTD/svg11.dtd\">\n",
       "<!-- Generated by graphviz version 7.0.2 (20221119.0110)\n",
       " -->\n",
       "<!-- Pages: 1 -->\n",
       "<svg width=\"456pt\" height=\"110pt\"\n",
       " viewBox=\"0.00 0.00 455.60 109.74\" xmlns=\"http://www.w3.org/2000/svg\" xmlns:xlink=\"http://www.w3.org/1999/xlink\">\n",
       "<g id=\"graph0\" class=\"graph\" transform=\"scale(1 1) rotate(0) translate(4 105.74)\">\n",
       "<polygon fill=\"white\" stroke=\"none\" points=\"-4,4 -4,-105.74 451.6,-105.74 451.6,4 -4,4\"/>\n",
       "<!-- Start -->\n",
       "<g id=\"node1\" class=\"node\">\n",
       "<title>Start</title>\n",
       "<ellipse fill=\"peachpuff\" stroke=\"black\" cx=\"29.9\" cy=\"-26.87\" rx=\"29.8\" ry=\"18\"/>\n",
       "<text text-anchor=\"middle\" x=\"29.9\" y=\"-23.17\" font-family=\"Raleway\" font-size=\"14.00\">Start</text>\n",
       "</g>\n",
       "<!-- ¬ quote\\n¬ tag -->\n",
       "<g id=\"node2\" class=\"node\">\n",
       "<title>¬ quote\\n¬ tag</title>\n",
       "<ellipse fill=\"peachpuff\" stroke=\"black\" cx=\"142.76\" cy=\"-26.87\" rx=\"45.92\" ry=\"26.74\"/>\n",
       "<text text-anchor=\"middle\" x=\"142.76\" y=\"-30.67\" font-family=\"Raleway\" font-size=\"14.00\">¬ quote</text>\n",
       "<text text-anchor=\"middle\" x=\"142.76\" y=\"-15.67\" font-family=\"Raleway\" font-size=\"14.00\">¬ tag</text>\n",
       "</g>\n",
       "<!-- Start&#45;&gt;¬ quote\\n¬ tag -->\n",
       "<g id=\"edge1\" class=\"edge\">\n",
       "<title>Start&#45;&gt;¬ quote\\n¬ tag</title>\n",
       "<path fill=\"none\" stroke=\"black\" d=\"M60.02,-26.87C67.79,-26.87 76.44,-26.87 85.14,-26.87\"/>\n",
       "<polygon fill=\"black\" stroke=\"black\" points=\"85.01,-30.37 95.01,-26.87 85.01,-23.37 85.01,-30.37\"/>\n",
       "</g>\n",
       "<!-- ¬ quote\\n¬ tag&#45;&gt;¬ quote\\n¬ tag -->\n",
       "<g id=\"edge2\" class=\"edge\">\n",
       "<title>¬ quote\\n¬ tag&#45;&gt;¬ quote\\n¬ tag</title>\n",
       "<path fill=\"none\" stroke=\"black\" d=\"M130.72,-53.14C130.18,-63.3 134.2,-71.74 142.76,-71.74 147.84,-71.74 151.32,-68.76 153.2,-64.22\"/>\n",
       "<polygon fill=\"black\" stroke=\"black\" points=\"156.61,-65.04 154.58,-54.64 149.69,-64.04 156.61,-65.04\"/>\n",
       "<text text-anchor=\"middle\" x=\"142.76\" y=\"-90.54\" font-family=\"Raleway\" font-size=\"14.00\">¬ &#39;&lt;&#39;</text>\n",
       "<text text-anchor=\"middle\" x=\"142.76\" y=\"-75.54\" font-family=\"Raleway\" font-size=\"14.00\">add character</text>\n",
       "</g>\n",
       "<!-- ¬ quote\\ntag -->\n",
       "<g id=\"node3\" class=\"node\">\n",
       "<title>¬ quote\\ntag</title>\n",
       "<ellipse fill=\"peachpuff\" stroke=\"black\" cx=\"282.68\" cy=\"-26.87\" rx=\"45.92\" ry=\"26.74\"/>\n",
       "<text text-anchor=\"middle\" x=\"282.68\" y=\"-30.67\" font-family=\"Raleway\" font-size=\"14.00\">¬ quote</text>\n",
       "<text text-anchor=\"middle\" x=\"282.68\" y=\"-15.67\" font-family=\"Raleway\" font-size=\"14.00\">tag</text>\n",
       "</g>\n",
       "<!-- ¬ quote\\n¬ tag&#45;&gt;¬ quote\\ntag -->\n",
       "<g id=\"edge3\" class=\"edge\">\n",
       "<title>¬ quote\\n¬ tag&#45;&gt;¬ quote\\ntag</title>\n",
       "<path fill=\"none\" stroke=\"black\" d=\"M188.92,-26.87C200.47,-26.87 213.03,-26.87 225.08,-26.87\"/>\n",
       "<polygon fill=\"black\" stroke=\"black\" points=\"224.9,-30.37 234.9,-26.87 224.9,-23.37 224.9,-30.37\"/>\n",
       "<text text-anchor=\"middle\" x=\"212.72\" y=\"-30.67\" font-family=\"Raleway\" font-size=\"14.00\">&#39;&lt;&#39;</text>\n",
       "</g>\n",
       "<!-- ¬ quote\\ntag&#45;&gt;¬ quote\\n¬ tag -->\n",
       "<g id=\"edge8\" class=\"edge\">\n",
       "<title>¬ quote\\ntag&#45;&gt;¬ quote\\n¬ tag</title>\n",
       "<path fill=\"none\" stroke=\"black\" d=\"M242.79,-13.2C234.92,-10.99 226.63,-9.04 218.72,-7.87 209.94,-6.57 200.7,-7.21 191.82,-8.88\"/>\n",
       "<polygon fill=\"black\" stroke=\"black\" points=\"191.23,-5.42 182.29,-11.11 192.83,-12.23 191.23,-5.42\"/>\n",
       "<text text-anchor=\"middle\" x=\"212.72\" y=\"-11.67\" font-family=\"Raleway\" font-size=\"14.00\">&#39;&gt;&#39;</text>\n",
       "</g>\n",
       "<!-- ¬ quote\\ntag&#45;&gt;¬ quote\\ntag -->\n",
       "<g id=\"edge5\" class=\"edge\">\n",
       "<title>¬ quote\\ntag&#45;&gt;¬ quote\\ntag</title>\n",
       "<path fill=\"none\" stroke=\"black\" d=\"M270.02,-52.69C269.3,-63.05 273.52,-71.74 282.68,-71.74 288.12,-71.74 291.82,-68.68 293.77,-64.02\"/>\n",
       "<polygon fill=\"black\" stroke=\"black\" points=\"297.23,-64.58 295.14,-54.19 290.3,-63.61 297.23,-64.58\"/>\n",
       "<text text-anchor=\"middle\" x=\"282.68\" y=\"-75.54\" font-family=\"Raleway\" font-size=\"14.00\">¬ &#39;&quot;&#39; ∧ ¬ &#39;&gt;&#39;</text>\n",
       "</g>\n",
       "<!-- quote\\ntag -->\n",
       "<g id=\"node4\" class=\"node\">\n",
       "<title>quote\\ntag</title>\n",
       "<ellipse fill=\"peachpuff\" stroke=\"black\" cx=\"410.12\" cy=\"-26.87\" rx=\"37.45\" ry=\"26.74\"/>\n",
       "<text text-anchor=\"middle\" x=\"410.12\" y=\"-30.67\" font-family=\"Raleway\" font-size=\"14.00\">quote</text>\n",
       "<text text-anchor=\"middle\" x=\"410.12\" y=\"-15.67\" font-family=\"Raleway\" font-size=\"14.00\">tag</text>\n",
       "</g>\n",
       "<!-- ¬ quote\\ntag&#45;&gt;quote\\ntag -->\n",
       "<g id=\"edge4\" class=\"edge\">\n",
       "<title>¬ quote\\ntag&#45;&gt;quote\\ntag</title>\n",
       "<path fill=\"none\" stroke=\"black\" d=\"M328.97,-26.87C339.48,-26.87 350.7,-26.87 361.32,-26.87\"/>\n",
       "<polygon fill=\"black\" stroke=\"black\" points=\"361.03,-30.37 371.03,-26.87 361.03,-23.37 361.03,-30.37\"/>\n",
       "<text text-anchor=\"middle\" x=\"350.64\" y=\"-30.67\" font-family=\"Raleway\" font-size=\"14.00\">&#39;&quot;&#39;</text>\n",
       "</g>\n",
       "<!-- quote\\ntag&#45;&gt;¬ quote\\ntag -->\n",
       "<g id=\"edge7\" class=\"edge\">\n",
       "<title>quote\\ntag&#45;&gt;¬ quote\\ntag</title>\n",
       "<path fill=\"none\" stroke=\"black\" d=\"M377.04,-13.69C369.79,-11.27 362.05,-9.12 354.64,-7.87 346.95,-6.57 338.89,-6.97 331.07,-8.34\"/>\n",
       "<polygon fill=\"black\" stroke=\"black\" points=\"330.28,-4.93 321.33,-10.61 331.86,-11.75 330.28,-4.93\"/>\n",
       "<text text-anchor=\"middle\" x=\"350.64\" y=\"-11.67\" font-family=\"Raleway\" font-size=\"14.00\">&#39;&quot;&#39;</text>\n",
       "</g>\n",
       "<!-- quote\\ntag&#45;&gt;quote\\ntag -->\n",
       "<g id=\"edge6\" class=\"edge\">\n",
       "<title>quote\\ntag&#45;&gt;quote\\ntag</title>\n",
       "<path fill=\"none\" stroke=\"black\" d=\"M399.04,-52.69C398.41,-63.05 402.1,-71.74 410.12,-71.74 414.88,-71.74 418.11,-68.68 419.83,-64.02\"/>\n",
       "<polygon fill=\"black\" stroke=\"black\" points=\"423.29,-64.54 421.02,-54.19 416.34,-63.7 423.29,-64.54\"/>\n",
       "<text text-anchor=\"middle\" x=\"410.12\" y=\"-75.54\" font-family=\"Raleway\" font-size=\"14.00\">¬ &#39;&quot;&#39;</text>\n",
       "</g>\n",
       "</g>\n",
       "</svg>\n"
      ],
      "text/plain": [
       "<graphviz.graphs.Digraph at 0x111bbcf10>"
      ]
     },
     "metadata": {},
     "output_type": "display_data"
    }
   ],
   "source": [
    "# ignore\n",
    "display(state_machine)"
   ]
  },
  {
   "cell_type": "markdown",
   "metadata": {
    "slideshow": {
     "slide_type": "subslide"
    }
   },
   "source": [
    "This is a bit more complex already. Proceeding from left to right, we first have the state `¬ quote ∧ ¬ tag`, which is our \"standard\" state for text. If we encounter a `'<'`, we again switch to the \"tagged\" state `¬ quote ∧ tag`. In this state, however (and only in this state), if we encounter a quotation mark, we switch to the \"quotation\" state `quote ∧ tag`, in which we remain until we see another quotation mark indicating the end of the string – and then continue in the \"tagged\" state `¬ quote ∧ tag` until we see the end of the string."
   ]
  },
  {
   "cell_type": "markdown",
   "metadata": {
    "slideshow": {
     "slide_type": "fragment"
    }
   },
   "source": [
    "Things get even more complicated as HTML allows both single and double quotation characters. Here's a revised implementation of `remove_html_markup()` that takes the above states into account:"
   ]
  },
  {
   "cell_type": "code",
   "execution_count": 17,
   "metadata": {
    "execution": {
     "iopub.execute_input": "2023-02-11T10:02:55.384387Z",
     "iopub.status.busy": "2023-02-11T10:02:55.383937Z",
     "iopub.status.idle": "2023-02-11T10:02:55.385443Z",
     "shell.execute_reply": "2023-02-11T10:02:55.385893Z"
    },
    "slideshow": {
     "slide_type": "subslide"
    }
   },
   "outputs": [],
   "source": [
    "def remove_html_markup(s):  # type: ignore\n",
    "    tag = False\n",
    "    quote = False\n",
    "    out = \"\"\n",
    "\n",
    "    for c in s:\n",
    "        if c == '<' and not quote:\n",
    "            tag = True\n",
    "        elif c == '>' and not quote:\n",
    "            tag = False\n",
    "        elif c == '\"' or c == \"'\" and tag:\n",
    "            quote = not quote\n",
    "        elif not tag:\n",
    "            out = out + c\n",
    "\n",
    "    return out"
   ]
  },
  {
   "cell_type": "markdown",
   "metadata": {
    "slideshow": {
     "slide_type": "subslide"
    }
   },
   "source": [
    "Now, our previous input works well:"
   ]
  },
  {
   "cell_type": "code",
   "execution_count": 18,
   "metadata": {
    "execution": {
     "iopub.execute_input": "2023-02-11T10:02:55.388587Z",
     "iopub.status.busy": "2023-02-11T10:02:55.388146Z",
     "iopub.status.idle": "2023-02-11T10:02:55.389656Z",
     "shell.execute_reply": "2023-02-11T10:02:55.390005Z"
    },
    "slideshow": {
     "slide_type": "fragment"
    }
   },
   "outputs": [
    {
     "data": {
      "text/plain": [
       "''"
      ]
     },
     "execution_count": 18,
     "metadata": {},
     "output_type": "execute_result"
    }
   ],
   "source": [
    "remove_html_markup('<input type=\"text\" value=\"<your name>\">')"
   ]
  },
  {
   "cell_type": "markdown",
   "metadata": {
    "slideshow": {
     "slide_type": "fragment"
    }
   },
   "source": [
    "and our earlier tests also pass:"
   ]
  },
  {
   "cell_type": "code",
   "execution_count": 19,
   "metadata": {
    "execution": {
     "iopub.execute_input": "2023-02-11T10:02:55.392116Z",
     "iopub.status.busy": "2023-02-11T10:02:55.391805Z",
     "iopub.status.idle": "2023-02-11T10:02:55.393011Z",
     "shell.execute_reply": "2023-02-11T10:02:55.393210Z"
    },
    "slideshow": {
     "slide_type": "fragment"
    }
   },
   "outputs": [],
   "source": [
    "assert remove_html_markup(\"Here's some <strong>strong argument</strong>.\") == \\\n",
    "    \"Here's some strong argument.\""
   ]
  },
  {
   "cell_type": "code",
   "execution_count": 20,
   "metadata": {
    "execution": {
     "iopub.execute_input": "2023-02-11T10:02:55.395231Z",
     "iopub.status.busy": "2023-02-11T10:02:55.394890Z",
     "iopub.status.idle": "2023-02-11T10:02:55.396302Z",
     "shell.execute_reply": "2023-02-11T10:02:55.396566Z"
    },
    "slideshow": {
     "slide_type": "fragment"
    }
   },
   "outputs": [],
   "source": [
    "assert remove_html_markup('<input type=\"text\" value=\"<your name>\">') == \"\""
   ]
  },
  {
   "cell_type": "markdown",
   "metadata": {
    "slideshow": {
     "slide_type": "subslide"
    }
   },
   "source": [
    "However, the above code still has a bug.  In two of these inputs, HTML markup is still not properly stripped:\n",
    "\n",
    "```html\n",
    "<b>foo</b>\n",
    "<b>\"foo\"</b>\n",
    "\"<b>foo</b>\"\n",
    "<\"b\">foo</\"b\">\n",
    "```\n",
    "\n",
    "Can you guess which ones these are?"
   ]
  },
  {
   "cell_type": "markdown",
   "metadata": {
    "slideshow": {
     "slide_type": "fragment"
    }
   },
   "source": [
    "Again, a simple assertion will reveal the culprits:"
   ]
  },
  {
   "cell_type": "code",
   "execution_count": 21,
   "metadata": {
    "execution": {
     "iopub.execute_input": "2023-02-11T10:02:55.399354Z",
     "iopub.status.busy": "2023-02-11T10:02:55.398707Z",
     "iopub.status.idle": "2023-02-11T10:02:55.400235Z",
     "shell.execute_reply": "2023-02-11T10:02:55.400775Z"
    },
    "slideshow": {
     "slide_type": "subslide"
    }
   },
   "outputs": [],
   "source": [
    "with ExpectError():\n",
    "    assert remove_html_markup('<b>foo</b>') == 'foo'"
   ]
  },
  {
   "cell_type": "code",
   "execution_count": 22,
   "metadata": {
    "execution": {
     "iopub.execute_input": "2023-02-11T10:02:55.403570Z",
     "iopub.status.busy": "2023-02-11T10:02:55.403186Z",
     "iopub.status.idle": "2023-02-11T10:02:55.404864Z",
     "shell.execute_reply": "2023-02-11T10:02:55.405077Z"
    },
    "slideshow": {
     "slide_type": "fragment"
    }
   },
   "outputs": [
    {
     "name": "stderr",
     "output_type": "stream",
     "text": [
      "Traceback (most recent call last):\n",
      "  File \"/var/folders/n2/xd9445p97rb3xh7m1dfx8_4h0006ts/T/ipykernel_358/4031927246.py\", line 2, in <cell line: 1>\n",
      "    assert remove_html_markup('<b>\"foo\"</b>') == '\"foo\"'\n",
      "AssertionError (expected)\n"
     ]
    }
   ],
   "source": [
    "with ExpectError():\n",
    "    assert remove_html_markup('<b>\"foo\"</b>') == '\"foo\"'"
   ]
  },
  {
   "cell_type": "code",
   "execution_count": 23,
   "metadata": {
    "execution": {
     "iopub.execute_input": "2023-02-11T10:02:55.407528Z",
     "iopub.status.busy": "2023-02-11T10:02:55.407134Z",
     "iopub.status.idle": "2023-02-11T10:02:55.408800Z",
     "shell.execute_reply": "2023-02-11T10:02:55.409290Z"
    },
    "slideshow": {
     "slide_type": "subslide"
    }
   },
   "outputs": [
    {
     "name": "stderr",
     "output_type": "stream",
     "text": [
      "Traceback (most recent call last):\n",
      "  File \"/var/folders/n2/xd9445p97rb3xh7m1dfx8_4h0006ts/T/ipykernel_358/242211734.py\", line 2, in <cell line: 1>\n",
      "    assert remove_html_markup('\"<b>foo</b>\"') == '\"foo\"'\n",
      "AssertionError (expected)\n"
     ]
    }
   ],
   "source": [
    "with ExpectError():\n",
    "    assert remove_html_markup('\"<b>foo</b>\"') == '\"foo\"'"
   ]
  },
  {
   "cell_type": "code",
   "execution_count": 24,
   "metadata": {
    "execution": {
     "iopub.execute_input": "2023-02-11T10:02:55.412180Z",
     "iopub.status.busy": "2023-02-11T10:02:55.411610Z",
     "iopub.status.idle": "2023-02-11T10:02:55.413520Z",
     "shell.execute_reply": "2023-02-11T10:02:55.413760Z"
    },
    "slideshow": {
     "slide_type": "fragment"
    }
   },
   "outputs": [],
   "source": [
    "with ExpectError():\n",
    "    assert remove_html_markup('<\"b\">foo</\"b\">') == 'foo'"
   ]
  },
  {
   "cell_type": "markdown",
   "metadata": {
    "slideshow": {
     "slide_type": "fragment"
    }
   },
   "source": [
    "So, unfortunately, we're not done yet – our function still has errors."
   ]
  },
  {
   "cell_type": "markdown",
   "metadata": {
    "slideshow": {
     "slide_type": "slide"
    }
   },
   "source": [
    "## The Devil's Guide to Debugging\n",
    "\n",
    "Let us now discuss a couple of methods that do _not_ work well for debugging. (These \"devil's suggestions\" are adapted from the 1993 book \"Code Complete\" from Steve McConnell.)"
   ]
  },
  {
   "cell_type": "markdown",
   "metadata": {
    "slideshow": {
     "slide_type": "subslide"
    }
   },
   "source": [
    "### Printf Debugging\n",
    "\n",
    "When I was a student, I never got any formal training in debugging, so I had to figure this out for myself. What I learned was how to use _debugging output_; in Python, this would be the `print()` function. For instance, I would go and scatter `print()` calls everywhere:"
   ]
  },
  {
   "cell_type": "code",
   "execution_count": 25,
   "metadata": {
    "execution": {
     "iopub.execute_input": "2023-02-11T10:02:55.417376Z",
     "iopub.status.busy": "2023-02-11T10:02:55.415495Z",
     "iopub.status.idle": "2023-02-11T10:02:55.419054Z",
     "shell.execute_reply": "2023-02-11T10:02:55.419394Z"
    },
    "slideshow": {
     "slide_type": "subslide"
    }
   },
   "outputs": [],
   "source": [
    "def remove_html_markup_with_print(s):  # type: ignore\n",
    "    tag = False\n",
    "    quote = False\n",
    "    out = \"\"\n",
    "\n",
    "    for c in s:\n",
    "        print(\"c =\", repr(c), \"tag =\", tag, \"quote =\", quote)\n",
    "\n",
    "        if c == '<' and not quote:\n",
    "            tag = True\n",
    "        elif c == '>' and not quote:\n",
    "            tag = False\n",
    "        elif c == '\"' or c == \"'\" and tag:\n",
    "            quote = not quote\n",
    "        elif not tag:\n",
    "            out = out + c\n",
    "\n",
    "    return out"
   ]
  },
  {
   "cell_type": "markdown",
   "metadata": {
    "slideshow": {
     "slide_type": "subslide"
    }
   },
   "source": [
    "This way of inspecting executions is commonly called \"Printf debugging\", after the C `printf()` function. Then, running this would allow me to see what's going on in my code:"
   ]
  },
  {
   "cell_type": "code",
   "execution_count": 26,
   "metadata": {
    "execution": {
     "iopub.execute_input": "2023-02-11T10:02:55.422761Z",
     "iopub.status.busy": "2023-02-11T10:02:55.422322Z",
     "iopub.status.idle": "2023-02-11T10:02:55.424219Z",
     "shell.execute_reply": "2023-02-11T10:02:55.424430Z"
    },
    "slideshow": {
     "slide_type": "subslide"
    }
   },
   "outputs": [
    {
     "name": "stdout",
     "output_type": "stream",
     "text": [
      "c = '<' tag = False quote = False\n",
      "c = 'b' tag = True quote = False\n",
      "c = '>' tag = True quote = False\n",
      "c = '\"' tag = False quote = False\n",
      "c = 'f' tag = False quote = True\n",
      "c = 'o' tag = False quote = True\n",
      "c = 'o' tag = False quote = True\n",
      "c = '\"' tag = False quote = True\n",
      "c = '<' tag = False quote = False\n",
      "c = '/' tag = True quote = False\n",
      "c = 'b' tag = True quote = False\n",
      "c = '>' tag = True quote = False\n"
     ]
    },
    {
     "data": {
      "text/plain": [
       "'foo'"
      ]
     },
     "execution_count": 26,
     "metadata": {},
     "output_type": "execute_result"
    }
   ],
   "source": [
    "remove_html_markup_with_print('<b>\"foo\"</b>')"
   ]
  },
  {
   "cell_type": "markdown",
   "metadata": {
    "slideshow": {
     "slide_type": "subslide"
    }
   },
   "source": [
    "Yes, one sees what is going on – but this is horribly inefficient!  Think of a 1,000-character input – you'd have to go through 1,000 lines of logs.  It may help you, but it's a total time waster.  Plus, you have to enter these statements, remove them again... it's a maintenance nightmare."
   ]
  },
  {
   "cell_type": "markdown",
   "metadata": {
    "slideshow": {
     "slide_type": "fragment"
    }
   },
   "source": [
    "(You may even forget printf's in your code, creating a security problem: Mac OS X versions 10.7 to 10.7.3 would log the password in clear because someone had forgotten to turn off debugging output.)"
   ]
  },
  {
   "cell_type": "markdown",
   "metadata": {
    "slideshow": {
     "slide_type": "subslide"
    }
   },
   "source": [
    "### Debugging into Existence"
   ]
  },
  {
   "cell_type": "markdown",
   "metadata": {
    "slideshow": {
     "slide_type": "fragment"
    }
   },
   "source": [
    "I would also try to _debug the program into existence._  Just change things until they work.  Let me see: If I remove the conditions \"and not quote\" from the program, it would actually work again:"
   ]
  },
  {
   "cell_type": "code",
   "execution_count": 27,
   "metadata": {
    "execution": {
     "iopub.execute_input": "2023-02-11T10:02:55.427177Z",
     "iopub.status.busy": "2023-02-11T10:02:55.426805Z",
     "iopub.status.idle": "2023-02-11T10:02:55.428118Z",
     "shell.execute_reply": "2023-02-11T10:02:55.428380Z"
    },
    "slideshow": {
     "slide_type": "subslide"
    }
   },
   "outputs": [],
   "source": [
    "def remove_html_markup_without_quotes(s):  # type: ignore\n",
    "    tag = False\n",
    "    quote = False\n",
    "    out = \"\"\n",
    "\n",
    "    for c in s:\n",
    "        if c == '<':  # and not quote:\n",
    "            tag = True\n",
    "        elif c == '>':  # and not quote:\n",
    "            tag = False\n",
    "        elif c == '\"' or c == \"'\" and tag:\n",
    "            quote = not quote\n",
    "        elif not tag:\n",
    "            out = out + c\n",
    "\n",
    "    return out"
   ]
  },
  {
   "cell_type": "code",
   "execution_count": 28,
   "metadata": {
    "execution": {
     "iopub.execute_input": "2023-02-11T10:02:55.430648Z",
     "iopub.status.busy": "2023-02-11T10:02:55.430250Z",
     "iopub.status.idle": "2023-02-11T10:02:55.431619Z",
     "shell.execute_reply": "2023-02-11T10:02:55.431878Z"
    },
    "slideshow": {
     "slide_type": "subslide"
    }
   },
   "outputs": [],
   "source": [
    "assert remove_html_markup_without_quotes('<b id=\"bar\">foo</b>') == 'foo'"
   ]
  },
  {
   "cell_type": "markdown",
   "metadata": {
    "slideshow": {
     "slide_type": "fragment"
    }
   },
   "source": [
    "Cool! Unfortunately, the function still fails on the other input:"
   ]
  },
  {
   "cell_type": "code",
   "execution_count": 29,
   "metadata": {
    "execution": {
     "iopub.execute_input": "2023-02-11T10:02:55.434317Z",
     "iopub.status.busy": "2023-02-11T10:02:55.433922Z",
     "iopub.status.idle": "2023-02-11T10:02:55.435471Z",
     "shell.execute_reply": "2023-02-11T10:02:55.435723Z"
    },
    "slideshow": {
     "slide_type": "fragment"
    }
   },
   "outputs": [
    {
     "name": "stderr",
     "output_type": "stream",
     "text": [
      "Traceback (most recent call last):\n",
      "  File \"/var/folders/n2/xd9445p97rb3xh7m1dfx8_4h0006ts/T/ipykernel_358/3864559921.py\", line 2, in <cell line: 1>\n",
      "    assert remove_html_markup_without_quotes('<b>\"foo\"</b>') == '\"foo\"'\n",
      "AssertionError (expected)\n"
     ]
    }
   ],
   "source": [
    "with ExpectError():\n",
    "    assert remove_html_markup_without_quotes('<b>\"foo\"</b>') == '\"foo\"'"
   ]
  },
  {
   "cell_type": "markdown",
   "metadata": {
    "slideshow": {
     "slide_type": "fragment"
    }
   },
   "source": [
    "So, maybe we can change things again, such that both work? And maybe the other tests we had earlier won't fail? Let's just continue to change things randomly again and again and again."
   ]
  },
  {
   "cell_type": "markdown",
   "metadata": {
    "slideshow": {
     "slide_type": "subslide"
    }
   },
   "source": [
    "Oh, and of course, I would never back up earlier versions such that I would be able to keep track of what has changed and when.\n",
    "Especially keep in mind that our tests will never cover all corner cases. Randomly patching code will just lead to harder to find bugs."
   ]
  },
  {
   "cell_type": "markdown",
   "metadata": {
    "slideshow": {
     "slide_type": "subslide"
    }
   },
   "source": [
    "### Use the Most Obvious Fix"
   ]
  },
  {
   "cell_type": "markdown",
   "metadata": {
    "slideshow": {
     "slide_type": "fragment"
    }
   },
   "source": [
    "My favorite: Use the most obvious fix.  This means that you're fixing the symptom, not the problem. In our case, this would be something like:"
   ]
  },
  {
   "cell_type": "code",
   "execution_count": 30,
   "metadata": {
    "execution": {
     "iopub.execute_input": "2023-02-11T10:02:55.438317Z",
     "iopub.status.busy": "2023-02-11T10:02:55.437962Z",
     "iopub.status.idle": "2023-02-11T10:02:55.439298Z",
     "shell.execute_reply": "2023-02-11T10:02:55.439504Z"
    },
    "slideshow": {
     "slide_type": "fragment"
    }
   },
   "outputs": [],
   "source": [
    "def remove_html_markup_fixed(s):  # type: ignore\n",
    "    if s == '<b>\"foo\"</b>':\n",
    "        return '\"foo\"'\n",
    "    ..."
   ]
  },
  {
   "cell_type": "markdown",
   "metadata": {
    "slideshow": {
     "slide_type": "fragment"
    }
   },
   "source": [
    "Miracle! Our earlier failing assertion now works! Now we can do the same for the other failing test, too, and we're done.\n",
    "(Rumor has it that some programmers use this technique to get their tests to pass...)"
   ]
  },
  {
   "cell_type": "markdown",
   "metadata": {
    "slideshow": {
     "slide_type": "subslide"
    }
   },
   "source": [
    "### Things to do Instead\n",
    "\n",
    "As with any devil's guide, you get an idea of how to do things by doing the _opposite._  What this means is:\n",
    "\n",
    "1. Understand the code\n",
    "2. Fix the problem, not the symptom\n",
    "3. Proceed systematically\n",
    "\n",
    "which is what we will apply for the rest of this chapter."
   ]
  },
  {
   "cell_type": "markdown",
   "metadata": {
    "slideshow": {
     "slide_type": "slide"
    }
   },
   "source": [
    "## From Defect to Failure\n",
    "\n",
    "To understand how to systematically debug a program, we first have to understand _how failures come to be._ The typical debugging situation looks like this:\n",
    "\n",
    "* We have a program (execution), taking some input and producing some output.\n",
    "* The output is in *error* (✘), meaning an unwanted and unintended deviation from what is correct, right, or true.\n",
    "* The input, in contrast, is assumed to be correct (✔) – that is, it should be properly processed by the program in question. \n",
    "\n",
    "If the input is incorrect, we wouldn't normally be searching for the bug in our program, but in whatever produced its input. If the input is under control of a third party, though (which typically is the case for _system inputs_), your program must check its correctness and reject it if it is incorrect. Once your program accepts a system input as valid, it must be properly processed by the program in question.\n",
    "\n",
    "Hence, the (very simple) situation we're having can be shown as:"
   ]
  },
  {
   "cell_type": "code",
   "execution_count": 31,
   "metadata": {
    "execution": {
     "iopub.execute_input": "2023-02-11T10:02:55.441625Z",
     "iopub.status.busy": "2023-02-11T10:02:55.441266Z",
     "iopub.status.idle": "2023-02-11T10:02:55.442525Z",
     "shell.execute_reply": "2023-02-11T10:02:55.442817Z"
    },
    "slideshow": {
     "slide_type": "subslide"
    }
   },
   "outputs": [],
   "source": [
    "# ignore\n",
    "from typing import List, Optional"
   ]
  },
  {
   "cell_type": "code",
   "execution_count": 32,
   "metadata": {
    "execution": {
     "iopub.execute_input": "2023-02-11T10:02:55.467079Z",
     "iopub.status.busy": "2023-02-11T10:02:55.466195Z",
     "iopub.status.idle": "2023-02-11T10:02:55.469221Z",
     "shell.execute_reply": "2023-02-11T10:02:55.470285Z"
    },
    "ipub": {
     "ignore": true
    },
    "slideshow": {
     "slide_type": "subslide"
    }
   },
   "outputs": [],
   "source": [
    "# ignore\n",
    "def execution_diagram(show_steps: bool = True, variables: List[str] = [],\n",
    "                      steps: int = 3, error_step: int = 666,\n",
    "                      until: int = 666, fault_path: List[str] = []) -> Digraph:\n",
    "    dot = graph()\n",
    "\n",
    "    dot.node('input', shape='none', fillcolor='white', label=f\"Input {PASS}\",\n",
    "             fontcolor=PASS_COLOR)\n",
    "    last_outgoing_states = ['input']\n",
    "\n",
    "    for step in range(1, min(steps + 1, until)):\n",
    "\n",
    "        step_color: Optional[str]\n",
    "        if step == error_step:\n",
    "            step_label = f'Step {step} {FAIL}'\n",
    "            step_color = FAIL_COLOR\n",
    "        else:\n",
    "            step_label = f'Step {step}'\n",
    "            step_color = None\n",
    "\n",
    "        if step >= error_step:\n",
    "            state_label = f'State {step} {FAIL}'\n",
    "            state_color = FAIL_COLOR\n",
    "        else:\n",
    "            state_label = f'State {step} {PASS}'\n",
    "            state_color = PASS_COLOR\n",
    "\n",
    "        state_name = f's{step}'\n",
    "        outgoing_states = []\n",
    "        incoming_states = []\n",
    "\n",
    "        if not variables:\n",
    "            dot.node(name=state_name, shape='box',\n",
    "                     label=state_label, color=state_color,\n",
    "                     fontcolor=state_color)\n",
    "        else:\n",
    "            var_labels = []\n",
    "            for v in variables:\n",
    "                vpath = f's{step}:{v}'\n",
    "                if vpath in fault_path:\n",
    "                    var_label = f'<{v}>{v} ✘'\n",
    "                    outgoing_states.append(vpath)\n",
    "                    incoming_states.append(vpath)\n",
    "                else:\n",
    "                    var_label = f'<{v}>{v}'\n",
    "                var_labels.append(var_label)\n",
    "            record_string = \" | \".join(var_labels)\n",
    "            dot.node(name=state_name, shape='record',\n",
    "                     label=nohtml(record_string), color=state_color,\n",
    "                     fontcolor=state_color)\n",
    "\n",
    "        if not outgoing_states:\n",
    "            outgoing_states = [state_name]\n",
    "        if not incoming_states:\n",
    "            incoming_states = [state_name]\n",
    "\n",
    "        for outgoing_state in last_outgoing_states:\n",
    "            for incoming_state in incoming_states:\n",
    "                if show_steps:\n",
    "                    dot.edge(outgoing_state, incoming_state,\n",
    "                             label=step_label, fontcolor=step_color)\n",
    "                else:\n",
    "                    dot.edge(outgoing_state, incoming_state)\n",
    "\n",
    "        last_outgoing_states = outgoing_states\n",
    "\n",
    "    if until > steps + 1:\n",
    "        # Show output\n",
    "        if error_step > steps:\n",
    "            dot.node('output', shape='none', fillcolor='white',\n",
    "                     label=f\"Output {PASS}\", fontcolor=PASS_COLOR)\n",
    "        else:\n",
    "            dot.node('output', shape='none', fillcolor='white',\n",
    "                     label=f\"Output {FAIL}\", fontcolor=FAIL_COLOR)\n",
    "\n",
    "        for outgoing_state in last_outgoing_states:\n",
    "            label = \"Execution\" if steps == 0 else None\n",
    "            dot.edge(outgoing_state, 'output', label=label)\n",
    "\n",
    "    display(dot)"
   ]
  },
  {
   "cell_type": "code",
   "execution_count": 33,
   "metadata": {
    "execution": {
     "iopub.execute_input": "2023-02-11T10:02:55.473027Z",
     "iopub.status.busy": "2023-02-11T10:02:55.472563Z",
     "iopub.status.idle": "2023-02-11T10:02:55.785544Z",
     "shell.execute_reply": "2023-02-11T10:02:55.785819Z"
    },
    "slideshow": {
     "slide_type": "subslide"
    }
   },
   "outputs": [
    {
     "data": {
      "image/svg+xml": [
       "<?xml version=\"1.0\" encoding=\"UTF-8\" standalone=\"no\"?>\n",
       "<!DOCTYPE svg PUBLIC \"-//W3C//DTD SVG 1.1//EN\"\n",
       " \"http://www.w3.org/Graphics/SVG/1.1/DTD/svg11.dtd\">\n",
       "<!-- Generated by graphviz version 7.0.2 (20221119.0110)\n",
       " -->\n",
       "<!-- Pages: 1 -->\n",
       "<svg width=\"254pt\" height=\"44pt\"\n",
       " viewBox=\"0.00 0.00 254.00 44.00\" xmlns=\"http://www.w3.org/2000/svg\" xmlns:xlink=\"http://www.w3.org/1999/xlink\">\n",
       "<g id=\"graph0\" class=\"graph\" transform=\"scale(1 1) rotate(0) translate(4 40)\">\n",
       "<polygon fill=\"white\" stroke=\"none\" points=\"-4,4 -4,-40 250,-40 250,4 -4,4\"/>\n",
       "<!-- input -->\n",
       "<g id=\"node1\" class=\"node\">\n",
       "<title>input</title>\n",
       "<polygon fill=\"white\" stroke=\"none\" points=\"67,-36 0,-36 0,0 67,0 67,-36\"/>\n",
       "<text text-anchor=\"middle\" x=\"33.5\" y=\"-14.3\" font-family=\"Raleway\" font-size=\"14.00\" fill=\"darkgreen\">Input ✔</text>\n",
       "</g>\n",
       "<!-- output -->\n",
       "<g id=\"node2\" class=\"node\">\n",
       "<title>output</title>\n",
       "<polygon fill=\"white\" stroke=\"none\" points=\"246,-36 167,-36 167,0 246,0 246,-36\"/>\n",
       "<text text-anchor=\"middle\" x=\"206.5\" y=\"-14.3\" font-family=\"Raleway\" font-size=\"14.00\" fill=\"#8b0000\">Output ✘</text>\n",
       "</g>\n",
       "<!-- input&#45;&gt;output -->\n",
       "<g id=\"edge1\" class=\"edge\">\n",
       "<title>input&#45;&gt;output</title>\n",
       "<path fill=\"none\" stroke=\"black\" d=\"M66.66,-18C91.75,-18 127.03,-18 155.75,-18\"/>\n",
       "<polygon fill=\"black\" stroke=\"black\" points=\"155.69,-21.5 165.69,-18 155.69,-14.5 155.69,-21.5\"/>\n",
       "<text text-anchor=\"middle\" x=\"117\" y=\"-21.8\" font-family=\"Raleway\" font-size=\"14.00\">Execution</text>\n",
       "</g>\n",
       "</g>\n",
       "</svg>\n"
      ],
      "text/plain": [
       "<graphviz.graphs.Digraph at 0x111bbc8e0>"
      ]
     },
     "metadata": {},
     "output_type": "display_data"
    }
   ],
   "source": [
    "# ignore\n",
    "execution_diagram(show_steps=False, steps=0, error_step=0)"
   ]
  },
  {
   "cell_type": "markdown",
   "metadata": {
    "slideshow": {
     "slide_type": "fragment"
    }
   },
   "source": [
    "This situation we see above is what we call a *failure*: An externally visible _error_ in the program behavior, with the error again being an unwanted and unintended deviation from what is correct, right, or true."
   ]
  },
  {
   "cell_type": "markdown",
   "metadata": {
    "slideshow": {
     "slide_type": "fragment"
    }
   },
   "source": [
    "How does this failure come to be? The execution we see above breaks down into several program _states_, one after the other."
   ]
  },
  {
   "cell_type": "code",
   "execution_count": 34,
   "metadata": {
    "execution": {
     "iopub.execute_input": "2023-02-11T10:02:55.790727Z",
     "iopub.status.busy": "2023-02-11T10:02:55.788305Z",
     "iopub.status.idle": "2023-02-11T10:02:57.319175Z",
     "shell.execute_reply": "2023-02-11T10:02:57.319537Z"
    },
    "slideshow": {
     "slide_type": "subslide"
    }
   },
   "outputs": [
    {
     "data": {
      "image/svg+xml": [
       "<?xml version=\"1.0\" encoding=\"UTF-8\" standalone=\"no\"?>\n",
       "<!DOCTYPE svg PUBLIC \"-//W3C//DTD SVG 1.1//EN\"\n",
       " \"http://www.w3.org/Graphics/SVG/1.1/DTD/svg11.dtd\">\n",
       "<!-- Generated by graphviz version 7.0.2 (20221119.0110)\n",
       " -->\n",
       "<!-- Pages: 1 -->\n",
       "<svg width=\"75pt\" height=\"44pt\"\n",
       " viewBox=\"0.00 0.00 75.00 44.00\" xmlns=\"http://www.w3.org/2000/svg\" xmlns:xlink=\"http://www.w3.org/1999/xlink\">\n",
       "<g id=\"graph0\" class=\"graph\" transform=\"scale(1 1) rotate(0) translate(4 40)\">\n",
       "<polygon fill=\"white\" stroke=\"none\" points=\"-4,4 -4,-40 71,-40 71,4 -4,4\"/>\n",
       "<!-- input -->\n",
       "<g id=\"node1\" class=\"node\">\n",
       "<title>input</title>\n",
       "<polygon fill=\"white\" stroke=\"none\" points=\"67,-36 0,-36 0,0 67,0 67,-36\"/>\n",
       "<text text-anchor=\"middle\" x=\"33.5\" y=\"-14.3\" font-family=\"Raleway\" font-size=\"14.00\" fill=\"darkgreen\">Input ✔</text>\n",
       "</g>\n",
       "</g>\n",
       "</svg>\n"
      ],
      "text/plain": [
       "<graphviz.graphs.Digraph at 0x111bbc580>"
      ]
     },
     "metadata": {},
     "output_type": "display_data"
    },
    {
     "data": {
      "image/svg+xml": [
       "<?xml version=\"1.0\" encoding=\"UTF-8\" standalone=\"no\"?>\n",
       "<!DOCTYPE svg PUBLIC \"-//W3C//DTD SVG 1.1//EN\"\n",
       " \"http://www.w3.org/Graphics/SVG/1.1/DTD/svg11.dtd\">\n",
       "<!-- Generated by graphviz version 7.0.2 (20221119.0110)\n",
       " -->\n",
       "<!-- Pages: 1 -->\n",
       "<svg width=\"187pt\" height=\"44pt\"\n",
       " viewBox=\"0.00 0.00 187.00 44.00\" xmlns=\"http://www.w3.org/2000/svg\" xmlns:xlink=\"http://www.w3.org/1999/xlink\">\n",
       "<g id=\"graph0\" class=\"graph\" transform=\"scale(1 1) rotate(0) translate(4 40)\">\n",
       "<polygon fill=\"white\" stroke=\"none\" points=\"-4,4 -4,-40 183,-40 183,4 -4,4\"/>\n",
       "<!-- input -->\n",
       "<g id=\"node1\" class=\"node\">\n",
       "<title>input</title>\n",
       "<polygon fill=\"white\" stroke=\"none\" points=\"67,-36 0,-36 0,0 67,0 67,-36\"/>\n",
       "<text text-anchor=\"middle\" x=\"33.5\" y=\"-14.3\" font-family=\"Raleway\" font-size=\"14.00\" fill=\"darkgreen\">Input ✔</text>\n",
       "</g>\n",
       "<!-- s1 -->\n",
       "<g id=\"node2\" class=\"node\">\n",
       "<title>s1</title>\n",
       "<polygon fill=\"peachpuff\" stroke=\"darkgreen\" points=\"179,-36 103,-36 103,0 179,0 179,-36\"/>\n",
       "<text text-anchor=\"middle\" x=\"141\" y=\"-14.3\" font-family=\"Raleway\" font-size=\"14.00\" fill=\"darkgreen\">State 1 ✔</text>\n",
       "</g>\n",
       "<!-- input&#45;&gt;s1 -->\n",
       "<g id=\"edge1\" class=\"edge\">\n",
       "<title>input&#45;&gt;s1</title>\n",
       "<path fill=\"none\" stroke=\"black\" d=\"M66.73,-18C74.56,-18 83.11,-18 91.51,-18\"/>\n",
       "<polygon fill=\"black\" stroke=\"black\" points=\"91.28,-21.5 101.28,-18 91.28,-14.5 91.28,-21.5\"/>\n",
       "</g>\n",
       "</g>\n",
       "</svg>\n"
      ],
      "text/plain": [
       "<graphviz.graphs.Digraph at 0x1118fff40>"
      ]
     },
     "metadata": {},
     "output_type": "display_data"
    },
    {
     "data": {
      "image/svg+xml": [
       "<?xml version=\"1.0\" encoding=\"UTF-8\" standalone=\"no\"?>\n",
       "<!DOCTYPE svg PUBLIC \"-//W3C//DTD SVG 1.1//EN\"\n",
       " \"http://www.w3.org/Graphics/SVG/1.1/DTD/svg11.dtd\">\n",
       "<!-- Generated by graphviz version 7.0.2 (20221119.0110)\n",
       " -->\n",
       "<!-- Pages: 1 -->\n",
       "<svg width=\"300pt\" height=\"44pt\"\n",
       " viewBox=\"0.00 0.00 300.00 44.00\" xmlns=\"http://www.w3.org/2000/svg\" xmlns:xlink=\"http://www.w3.org/1999/xlink\">\n",
       "<g id=\"graph0\" class=\"graph\" transform=\"scale(1 1) rotate(0) translate(4 40)\">\n",
       "<polygon fill=\"white\" stroke=\"none\" points=\"-4,4 -4,-40 296,-40 296,4 -4,4\"/>\n",
       "<!-- input -->\n",
       "<g id=\"node1\" class=\"node\">\n",
       "<title>input</title>\n",
       "<polygon fill=\"white\" stroke=\"none\" points=\"67,-36 0,-36 0,0 67,0 67,-36\"/>\n",
       "<text text-anchor=\"middle\" x=\"33.5\" y=\"-14.3\" font-family=\"Raleway\" font-size=\"14.00\" fill=\"darkgreen\">Input ✔</text>\n",
       "</g>\n",
       "<!-- s1 -->\n",
       "<g id=\"node2\" class=\"node\">\n",
       "<title>s1</title>\n",
       "<polygon fill=\"peachpuff\" stroke=\"darkgreen\" points=\"179,-36 103,-36 103,0 179,0 179,-36\"/>\n",
       "<text text-anchor=\"middle\" x=\"141\" y=\"-14.3\" font-family=\"Raleway\" font-size=\"14.00\" fill=\"darkgreen\">State 1 ✔</text>\n",
       "</g>\n",
       "<!-- input&#45;&gt;s1 -->\n",
       "<g id=\"edge1\" class=\"edge\">\n",
       "<title>input&#45;&gt;s1</title>\n",
       "<path fill=\"none\" stroke=\"black\" d=\"M66.73,-18C74.56,-18 83.11,-18 91.51,-18\"/>\n",
       "<polygon fill=\"black\" stroke=\"black\" points=\"91.28,-21.5 101.28,-18 91.28,-14.5 91.28,-21.5\"/>\n",
       "</g>\n",
       "<!-- s2 -->\n",
       "<g id=\"node3\" class=\"node\">\n",
       "<title>s2</title>\n",
       "<polygon fill=\"peachpuff\" stroke=\"#8b0000\" points=\"292,-36 215,-36 215,0 292,0 292,-36\"/>\n",
       "<text text-anchor=\"middle\" x=\"253.5\" y=\"-14.3\" font-family=\"Raleway\" font-size=\"14.00\" fill=\"#8b0000\">State 2 ✘</text>\n",
       "</g>\n",
       "<!-- s1&#45;&gt;s2 -->\n",
       "<g id=\"edge2\" class=\"edge\">\n",
       "<title>s1&#45;&gt;s2</title>\n",
       "<path fill=\"none\" stroke=\"black\" d=\"M179.41,-18C187.16,-18 195.42,-18 203.51,-18\"/>\n",
       "<polygon fill=\"black\" stroke=\"black\" points=\"203.24,-21.5 213.24,-18 203.24,-14.5 203.24,-21.5\"/>\n",
       "</g>\n",
       "</g>\n",
       "</svg>\n"
      ],
      "text/plain": [
       "<graphviz.graphs.Digraph at 0x1118fff40>"
      ]
     },
     "metadata": {},
     "output_type": "display_data"
    },
    {
     "data": {
      "image/svg+xml": [
       "<?xml version=\"1.0\" encoding=\"UTF-8\" standalone=\"no\"?>\n",
       "<!DOCTYPE svg PUBLIC \"-//W3C//DTD SVG 1.1//EN\"\n",
       " \"http://www.w3.org/Graphics/SVG/1.1/DTD/svg11.dtd\">\n",
       "<!-- Generated by graphviz version 7.0.2 (20221119.0110)\n",
       " -->\n",
       "<!-- Pages: 1 -->\n",
       "<svg width=\"414pt\" height=\"44pt\"\n",
       " viewBox=\"0.00 0.00 414.00 44.00\" xmlns=\"http://www.w3.org/2000/svg\" xmlns:xlink=\"http://www.w3.org/1999/xlink\">\n",
       "<g id=\"graph0\" class=\"graph\" transform=\"scale(1 1) rotate(0) translate(4 40)\">\n",
       "<polygon fill=\"white\" stroke=\"none\" points=\"-4,4 -4,-40 410,-40 410,4 -4,4\"/>\n",
       "<!-- input -->\n",
       "<g id=\"node1\" class=\"node\">\n",
       "<title>input</title>\n",
       "<polygon fill=\"white\" stroke=\"none\" points=\"67,-36 0,-36 0,0 67,0 67,-36\"/>\n",
       "<text text-anchor=\"middle\" x=\"33.5\" y=\"-14.3\" font-family=\"Raleway\" font-size=\"14.00\" fill=\"darkgreen\">Input ✔</text>\n",
       "</g>\n",
       "<!-- s1 -->\n",
       "<g id=\"node2\" class=\"node\">\n",
       "<title>s1</title>\n",
       "<polygon fill=\"peachpuff\" stroke=\"darkgreen\" points=\"179,-36 103,-36 103,0 179,0 179,-36\"/>\n",
       "<text text-anchor=\"middle\" x=\"141\" y=\"-14.3\" font-family=\"Raleway\" font-size=\"14.00\" fill=\"darkgreen\">State 1 ✔</text>\n",
       "</g>\n",
       "<!-- input&#45;&gt;s1 -->\n",
       "<g id=\"edge1\" class=\"edge\">\n",
       "<title>input&#45;&gt;s1</title>\n",
       "<path fill=\"none\" stroke=\"black\" d=\"M66.73,-18C74.56,-18 83.11,-18 91.51,-18\"/>\n",
       "<polygon fill=\"black\" stroke=\"black\" points=\"91.28,-21.5 101.28,-18 91.28,-14.5 91.28,-21.5\"/>\n",
       "</g>\n",
       "<!-- s2 -->\n",
       "<g id=\"node3\" class=\"node\">\n",
       "<title>s2</title>\n",
       "<polygon fill=\"peachpuff\" stroke=\"#8b0000\" points=\"292,-36 215,-36 215,0 292,0 292,-36\"/>\n",
       "<text text-anchor=\"middle\" x=\"253.5\" y=\"-14.3\" font-family=\"Raleway\" font-size=\"14.00\" fill=\"#8b0000\">State 2 ✘</text>\n",
       "</g>\n",
       "<!-- s1&#45;&gt;s2 -->\n",
       "<g id=\"edge2\" class=\"edge\">\n",
       "<title>s1&#45;&gt;s2</title>\n",
       "<path fill=\"none\" stroke=\"black\" d=\"M179.41,-18C187.16,-18 195.42,-18 203.51,-18\"/>\n",
       "<polygon fill=\"black\" stroke=\"black\" points=\"203.24,-21.5 213.24,-18 203.24,-14.5 203.24,-21.5\"/>\n",
       "</g>\n",
       "<!-- s3 -->\n",
       "<g id=\"node4\" class=\"node\">\n",
       "<title>s3</title>\n",
       "<polygon fill=\"peachpuff\" stroke=\"#8b0000\" points=\"406,-36 328,-36 328,0 406,0 406,-36\"/>\n",
       "<text text-anchor=\"middle\" x=\"367\" y=\"-14.3\" font-family=\"Raleway\" font-size=\"14.00\" fill=\"#8b0000\">State 3 ✘</text>\n",
       "</g>\n",
       "<!-- s2&#45;&gt;s3 -->\n",
       "<g id=\"edge3\" class=\"edge\">\n",
       "<title>s2&#45;&gt;s3</title>\n",
       "<path fill=\"none\" stroke=\"black\" d=\"M292.25,-18C299.89,-18 308.04,-18 316.02,-18\"/>\n",
       "<polygon fill=\"black\" stroke=\"black\" points=\"316.02,-21.5 326.02,-18 316.02,-14.5 316.02,-21.5\"/>\n",
       "</g>\n",
       "</g>\n",
       "</svg>\n"
      ],
      "text/plain": [
       "<graphviz.graphs.Digraph at 0x1118fff40>"
      ]
     },
     "metadata": {},
     "output_type": "display_data"
    },
    {
     "data": {
      "image/svg+xml": [
       "<?xml version=\"1.0\" encoding=\"UTF-8\" standalone=\"no\"?>\n",
       "<!DOCTYPE svg PUBLIC \"-//W3C//DTD SVG 1.1//EN\"\n",
       " \"http://www.w3.org/Graphics/SVG/1.1/DTD/svg11.dtd\">\n",
       "<!-- Generated by graphviz version 7.0.2 (20221119.0110)\n",
       " -->\n",
       "<!-- Pages: 1 -->\n",
       "<svg width=\"529pt\" height=\"44pt\"\n",
       " viewBox=\"0.00 0.00 529.00 44.00\" xmlns=\"http://www.w3.org/2000/svg\" xmlns:xlink=\"http://www.w3.org/1999/xlink\">\n",
       "<g id=\"graph0\" class=\"graph\" transform=\"scale(1 1) rotate(0) translate(4 40)\">\n",
       "<polygon fill=\"white\" stroke=\"none\" points=\"-4,4 -4,-40 525,-40 525,4 -4,4\"/>\n",
       "<!-- input -->\n",
       "<g id=\"node1\" class=\"node\">\n",
       "<title>input</title>\n",
       "<polygon fill=\"white\" stroke=\"none\" points=\"67,-36 0,-36 0,0 67,0 67,-36\"/>\n",
       "<text text-anchor=\"middle\" x=\"33.5\" y=\"-14.3\" font-family=\"Raleway\" font-size=\"14.00\" fill=\"darkgreen\">Input ✔</text>\n",
       "</g>\n",
       "<!-- s1 -->\n",
       "<g id=\"node2\" class=\"node\">\n",
       "<title>s1</title>\n",
       "<polygon fill=\"peachpuff\" stroke=\"darkgreen\" points=\"179,-36 103,-36 103,0 179,0 179,-36\"/>\n",
       "<text text-anchor=\"middle\" x=\"141\" y=\"-14.3\" font-family=\"Raleway\" font-size=\"14.00\" fill=\"darkgreen\">State 1 ✔</text>\n",
       "</g>\n",
       "<!-- input&#45;&gt;s1 -->\n",
       "<g id=\"edge1\" class=\"edge\">\n",
       "<title>input&#45;&gt;s1</title>\n",
       "<path fill=\"none\" stroke=\"black\" d=\"M66.73,-18C74.56,-18 83.11,-18 91.51,-18\"/>\n",
       "<polygon fill=\"black\" stroke=\"black\" points=\"91.28,-21.5 101.28,-18 91.28,-14.5 91.28,-21.5\"/>\n",
       "</g>\n",
       "<!-- s2 -->\n",
       "<g id=\"node3\" class=\"node\">\n",
       "<title>s2</title>\n",
       "<polygon fill=\"peachpuff\" stroke=\"#8b0000\" points=\"292,-36 215,-36 215,0 292,0 292,-36\"/>\n",
       "<text text-anchor=\"middle\" x=\"253.5\" y=\"-14.3\" font-family=\"Raleway\" font-size=\"14.00\" fill=\"#8b0000\">State 2 ✘</text>\n",
       "</g>\n",
       "<!-- s1&#45;&gt;s2 -->\n",
       "<g id=\"edge2\" class=\"edge\">\n",
       "<title>s1&#45;&gt;s2</title>\n",
       "<path fill=\"none\" stroke=\"black\" d=\"M179.41,-18C187.16,-18 195.42,-18 203.51,-18\"/>\n",
       "<polygon fill=\"black\" stroke=\"black\" points=\"203.24,-21.5 213.24,-18 203.24,-14.5 203.24,-21.5\"/>\n",
       "</g>\n",
       "<!-- s3 -->\n",
       "<g id=\"node4\" class=\"node\">\n",
       "<title>s3</title>\n",
       "<polygon fill=\"peachpuff\" stroke=\"#8b0000\" points=\"406,-36 328,-36 328,0 406,0 406,-36\"/>\n",
       "<text text-anchor=\"middle\" x=\"367\" y=\"-14.3\" font-family=\"Raleway\" font-size=\"14.00\" fill=\"#8b0000\">State 3 ✘</text>\n",
       "</g>\n",
       "<!-- s2&#45;&gt;s3 -->\n",
       "<g id=\"edge3\" class=\"edge\">\n",
       "<title>s2&#45;&gt;s3</title>\n",
       "<path fill=\"none\" stroke=\"black\" d=\"M292.25,-18C299.89,-18 308.04,-18 316.02,-18\"/>\n",
       "<polygon fill=\"black\" stroke=\"black\" points=\"316.02,-21.5 326.02,-18 316.02,-14.5 316.02,-21.5\"/>\n",
       "</g>\n",
       "<!-- output -->\n",
       "<g id=\"node5\" class=\"node\">\n",
       "<title>output</title>\n",
       "<polygon fill=\"white\" stroke=\"none\" points=\"521,-36 442,-36 442,0 521,0 521,-36\"/>\n",
       "<text text-anchor=\"middle\" x=\"481.5\" y=\"-14.3\" font-family=\"Raleway\" font-size=\"14.00\" fill=\"#8b0000\">Output ✘</text>\n",
       "</g>\n",
       "<!-- s3&#45;&gt;output -->\n",
       "<g id=\"edge4\" class=\"edge\">\n",
       "<title>s3&#45;&gt;output</title>\n",
       "<path fill=\"none\" stroke=\"black\" d=\"M406.4,-18C414.28,-18 422.67,-18 430.87,-18\"/>\n",
       "<polygon fill=\"black\" stroke=\"black\" points=\"430.76,-21.5 440.76,-18 430.76,-14.5 430.76,-21.5\"/>\n",
       "</g>\n",
       "</g>\n",
       "</svg>\n"
      ],
      "text/plain": [
       "<graphviz.graphs.Digraph at 0x1118fff40>"
      ]
     },
     "metadata": {},
     "output_type": "display_data"
    }
   ],
   "source": [
    "# ignore\n",
    "for until in range(1, 6):\n",
    "    execution_diagram(show_steps=False, until=until, error_step=2)"
   ]
  },
  {
   "cell_type": "markdown",
   "metadata": {
    "slideshow": {
     "slide_type": "subslide"
    }
   },
   "source": [
    "Initially, the program state is still correct (✔). However, at some point in the execution, the state gets an _error_, also known as a *fault*. This fault – again an unwanted and unintended deviation from what is correct, right, or true – then propagates along the execution, until it becomes externally visible as a _failure_.\n",
    "(In reality, there are many, many more states than just this, but these would not fit in a diagram.)"
   ]
  },
  {
   "cell_type": "markdown",
   "metadata": {
    "slideshow": {
     "slide_type": "fragment"
    }
   },
   "source": [
    "How does a fault come to be? Each of these program states is produced by a _step_ in the program code. These steps take a state as input and produce another state as output. Technically speaking, the program inputs and outputs are also parts of the program state, so the input flows into the first step, and the output is the state produced by the last step."
   ]
  },
  {
   "cell_type": "code",
   "execution_count": 35,
   "metadata": {
    "execution": {
     "iopub.execute_input": "2023-02-11T10:02:57.325234Z",
     "iopub.status.busy": "2023-02-11T10:02:57.324775Z",
     "iopub.status.idle": "2023-02-11T10:02:58.850299Z",
     "shell.execute_reply": "2023-02-11T10:02:58.850593Z"
    },
    "slideshow": {
     "slide_type": "subslide"
    }
   },
   "outputs": [
    {
     "data": {
      "image/svg+xml": [
       "<?xml version=\"1.0\" encoding=\"UTF-8\" standalone=\"no\"?>\n",
       "<!DOCTYPE svg PUBLIC \"-//W3C//DTD SVG 1.1//EN\"\n",
       " \"http://www.w3.org/Graphics/SVG/1.1/DTD/svg11.dtd\">\n",
       "<!-- Generated by graphviz version 7.0.2 (20221119.0110)\n",
       " -->\n",
       "<!-- Pages: 1 -->\n",
       "<svg width=\"75pt\" height=\"44pt\"\n",
       " viewBox=\"0.00 0.00 75.00 44.00\" xmlns=\"http://www.w3.org/2000/svg\" xmlns:xlink=\"http://www.w3.org/1999/xlink\">\n",
       "<g id=\"graph0\" class=\"graph\" transform=\"scale(1 1) rotate(0) translate(4 40)\">\n",
       "<polygon fill=\"white\" stroke=\"none\" points=\"-4,4 -4,-40 71,-40 71,4 -4,4\"/>\n",
       "<!-- input -->\n",
       "<g id=\"node1\" class=\"node\">\n",
       "<title>input</title>\n",
       "<polygon fill=\"white\" stroke=\"none\" points=\"67,-36 0,-36 0,0 67,0 67,-36\"/>\n",
       "<text text-anchor=\"middle\" x=\"33.5\" y=\"-14.3\" font-family=\"Raleway\" font-size=\"14.00\" fill=\"darkgreen\">Input ✔</text>\n",
       "</g>\n",
       "</g>\n",
       "</svg>\n"
      ],
      "text/plain": [
       "<graphviz.graphs.Digraph at 0x111bbc1c0>"
      ]
     },
     "metadata": {},
     "output_type": "display_data"
    },
    {
     "data": {
      "image/svg+xml": [
       "<?xml version=\"1.0\" encoding=\"UTF-8\" standalone=\"no\"?>\n",
       "<!DOCTYPE svg PUBLIC \"-//W3C//DTD SVG 1.1//EN\"\n",
       " \"http://www.w3.org/Graphics/SVG/1.1/DTD/svg11.dtd\">\n",
       "<!-- Generated by graphviz version 7.0.2 (20221119.0110)\n",
       " -->\n",
       "<!-- Pages: 1 -->\n",
       "<svg width=\"225pt\" height=\"44pt\"\n",
       " viewBox=\"0.00 0.00 225.00 44.00\" xmlns=\"http://www.w3.org/2000/svg\" xmlns:xlink=\"http://www.w3.org/1999/xlink\">\n",
       "<g id=\"graph0\" class=\"graph\" transform=\"scale(1 1) rotate(0) translate(4 40)\">\n",
       "<polygon fill=\"white\" stroke=\"none\" points=\"-4,4 -4,-40 221,-40 221,4 -4,4\"/>\n",
       "<!-- input -->\n",
       "<g id=\"node1\" class=\"node\">\n",
       "<title>input</title>\n",
       "<polygon fill=\"white\" stroke=\"none\" points=\"67,-36 0,-36 0,0 67,0 67,-36\"/>\n",
       "<text text-anchor=\"middle\" x=\"33.5\" y=\"-14.3\" font-family=\"Raleway\" font-size=\"14.00\" fill=\"darkgreen\">Input ✔</text>\n",
       "</g>\n",
       "<!-- s1 -->\n",
       "<g id=\"node2\" class=\"node\">\n",
       "<title>s1</title>\n",
       "<polygon fill=\"peachpuff\" stroke=\"darkgreen\" points=\"217,-36 141,-36 141,0 217,0 217,-36\"/>\n",
       "<text text-anchor=\"middle\" x=\"179\" y=\"-14.3\" font-family=\"Raleway\" font-size=\"14.00\" fill=\"darkgreen\">State 1 ✔</text>\n",
       "</g>\n",
       "<!-- input&#45;&gt;s1 -->\n",
       "<g id=\"edge1\" class=\"edge\">\n",
       "<title>input&#45;&gt;s1</title>\n",
       "<path fill=\"none\" stroke=\"black\" d=\"M66.7,-18C85.1,-18 108.53,-18 129.14,-18\"/>\n",
       "<polygon fill=\"black\" stroke=\"black\" points=\"129.06,-21.5 139.06,-18 129.06,-14.5 129.06,-21.5\"/>\n",
       "<text text-anchor=\"middle\" x=\"104\" y=\"-21.8\" font-family=\"Raleway\" font-size=\"14.00\">Step 1</text>\n",
       "</g>\n",
       "</g>\n",
       "</svg>\n"
      ],
      "text/plain": [
       "<graphviz.graphs.Digraph at 0x1115ecdc0>"
      ]
     },
     "metadata": {},
     "output_type": "display_data"
    },
    {
     "data": {
      "image/svg+xml": [
       "<?xml version=\"1.0\" encoding=\"UTF-8\" standalone=\"no\"?>\n",
       "<!DOCTYPE svg PUBLIC \"-//W3C//DTD SVG 1.1//EN\"\n",
       " \"http://www.w3.org/Graphics/SVG/1.1/DTD/svg11.dtd\">\n",
       "<!-- Generated by graphviz version 7.0.2 (20221119.0110)\n",
       " -->\n",
       "<!-- Pages: 1 -->\n",
       "<svg width=\"396pt\" height=\"44pt\"\n",
       " viewBox=\"0.00 0.00 396.00 44.00\" xmlns=\"http://www.w3.org/2000/svg\" xmlns:xlink=\"http://www.w3.org/1999/xlink\">\n",
       "<g id=\"graph0\" class=\"graph\" transform=\"scale(1 1) rotate(0) translate(4 40)\">\n",
       "<polygon fill=\"white\" stroke=\"none\" points=\"-4,4 -4,-40 392,-40 392,4 -4,4\"/>\n",
       "<!-- input -->\n",
       "<g id=\"node1\" class=\"node\">\n",
       "<title>input</title>\n",
       "<polygon fill=\"white\" stroke=\"none\" points=\"67,-36 0,-36 0,0 67,0 67,-36\"/>\n",
       "<text text-anchor=\"middle\" x=\"33.5\" y=\"-14.3\" font-family=\"Raleway\" font-size=\"14.00\" fill=\"darkgreen\">Input ✔</text>\n",
       "</g>\n",
       "<!-- s1 -->\n",
       "<g id=\"node2\" class=\"node\">\n",
       "<title>s1</title>\n",
       "<polygon fill=\"peachpuff\" stroke=\"darkgreen\" points=\"217,-36 141,-36 141,0 217,0 217,-36\"/>\n",
       "<text text-anchor=\"middle\" x=\"179\" y=\"-14.3\" font-family=\"Raleway\" font-size=\"14.00\" fill=\"darkgreen\">State 1 ✔</text>\n",
       "</g>\n",
       "<!-- input&#45;&gt;s1 -->\n",
       "<g id=\"edge1\" class=\"edge\">\n",
       "<title>input&#45;&gt;s1</title>\n",
       "<path fill=\"none\" stroke=\"black\" d=\"M66.7,-18C85.1,-18 108.53,-18 129.14,-18\"/>\n",
       "<polygon fill=\"black\" stroke=\"black\" points=\"129.06,-21.5 139.06,-18 129.06,-14.5 129.06,-21.5\"/>\n",
       "<text text-anchor=\"middle\" x=\"104\" y=\"-21.8\" font-family=\"Raleway\" font-size=\"14.00\">Step 1</text>\n",
       "</g>\n",
       "<!-- s2 -->\n",
       "<g id=\"node3\" class=\"node\">\n",
       "<title>s2</title>\n",
       "<polygon fill=\"peachpuff\" stroke=\"#8b0000\" points=\"388,-36 311,-36 311,0 388,0 388,-36\"/>\n",
       "<text text-anchor=\"middle\" x=\"349.5\" y=\"-14.3\" font-family=\"Raleway\" font-size=\"14.00\" fill=\"#8b0000\">State 2 ✘</text>\n",
       "</g>\n",
       "<!-- s1&#45;&gt;s2 -->\n",
       "<g id=\"edge2\" class=\"edge\">\n",
       "<title>s1&#45;&gt;s2</title>\n",
       "<path fill=\"none\" stroke=\"black\" d=\"M217.4,-18C241.55,-18 273.24,-18 299.41,-18\"/>\n",
       "<polygon fill=\"black\" stroke=\"black\" points=\"299.11,-21.5 309.11,-18 299.11,-14.5 299.11,-21.5\"/>\n",
       "<text text-anchor=\"middle\" x=\"264\" y=\"-21.8\" font-family=\"Raleway\" font-size=\"14.00\" fill=\"#8b0000\">Step 2 ✘</text>\n",
       "</g>\n",
       "</g>\n",
       "</svg>\n"
      ],
      "text/plain": [
       "<graphviz.graphs.Digraph at 0x1115ecdc0>"
      ]
     },
     "metadata": {},
     "output_type": "display_data"
    },
    {
     "data": {
      "image/svg+xml": [
       "<?xml version=\"1.0\" encoding=\"UTF-8\" standalone=\"no\"?>\n",
       "<!DOCTYPE svg PUBLIC \"-//W3C//DTD SVG 1.1//EN\"\n",
       " \"http://www.w3.org/Graphics/SVG/1.1/DTD/svg11.dtd\">\n",
       "<!-- Generated by graphviz version 7.0.2 (20221119.0110)\n",
       " -->\n",
       "<!-- Pages: 1 -->\n",
       "<svg width=\"550pt\" height=\"44pt\"\n",
       " viewBox=\"0.00 0.00 550.00 44.00\" xmlns=\"http://www.w3.org/2000/svg\" xmlns:xlink=\"http://www.w3.org/1999/xlink\">\n",
       "<g id=\"graph0\" class=\"graph\" transform=\"scale(1 1) rotate(0) translate(4 40)\">\n",
       "<polygon fill=\"white\" stroke=\"none\" points=\"-4,4 -4,-40 546,-40 546,4 -4,4\"/>\n",
       "<!-- input -->\n",
       "<g id=\"node1\" class=\"node\">\n",
       "<title>input</title>\n",
       "<polygon fill=\"white\" stroke=\"none\" points=\"67,-36 0,-36 0,0 67,0 67,-36\"/>\n",
       "<text text-anchor=\"middle\" x=\"33.5\" y=\"-14.3\" font-family=\"Raleway\" font-size=\"14.00\" fill=\"darkgreen\">Input ✔</text>\n",
       "</g>\n",
       "<!-- s1 -->\n",
       "<g id=\"node2\" class=\"node\">\n",
       "<title>s1</title>\n",
       "<polygon fill=\"peachpuff\" stroke=\"darkgreen\" points=\"217,-36 141,-36 141,0 217,0 217,-36\"/>\n",
       "<text text-anchor=\"middle\" x=\"179\" y=\"-14.3\" font-family=\"Raleway\" font-size=\"14.00\" fill=\"darkgreen\">State 1 ✔</text>\n",
       "</g>\n",
       "<!-- input&#45;&gt;s1 -->\n",
       "<g id=\"edge1\" class=\"edge\">\n",
       "<title>input&#45;&gt;s1</title>\n",
       "<path fill=\"none\" stroke=\"black\" d=\"M66.7,-18C85.1,-18 108.53,-18 129.14,-18\"/>\n",
       "<polygon fill=\"black\" stroke=\"black\" points=\"129.06,-21.5 139.06,-18 129.06,-14.5 129.06,-21.5\"/>\n",
       "<text text-anchor=\"middle\" x=\"104\" y=\"-21.8\" font-family=\"Raleway\" font-size=\"14.00\">Step 1</text>\n",
       "</g>\n",
       "<!-- s2 -->\n",
       "<g id=\"node3\" class=\"node\">\n",
       "<title>s2</title>\n",
       "<polygon fill=\"peachpuff\" stroke=\"#8b0000\" points=\"388,-36 311,-36 311,0 388,0 388,-36\"/>\n",
       "<text text-anchor=\"middle\" x=\"349.5\" y=\"-14.3\" font-family=\"Raleway\" font-size=\"14.00\" fill=\"#8b0000\">State 2 ✘</text>\n",
       "</g>\n",
       "<!-- s1&#45;&gt;s2 -->\n",
       "<g id=\"edge2\" class=\"edge\">\n",
       "<title>s1&#45;&gt;s2</title>\n",
       "<path fill=\"none\" stroke=\"black\" d=\"M217.4,-18C241.55,-18 273.24,-18 299.41,-18\"/>\n",
       "<polygon fill=\"black\" stroke=\"black\" points=\"299.11,-21.5 309.11,-18 299.11,-14.5 299.11,-21.5\"/>\n",
       "<text text-anchor=\"middle\" x=\"264\" y=\"-21.8\" font-family=\"Raleway\" font-size=\"14.00\" fill=\"#8b0000\">Step 2 ✘</text>\n",
       "</g>\n",
       "<!-- s3 -->\n",
       "<g id=\"node4\" class=\"node\">\n",
       "<title>s3</title>\n",
       "<polygon fill=\"peachpuff\" stroke=\"#8b0000\" points=\"542,-36 464,-36 464,0 542,0 542,-36\"/>\n",
       "<text text-anchor=\"middle\" x=\"503\" y=\"-14.3\" font-family=\"Raleway\" font-size=\"14.00\" fill=\"#8b0000\">State 3 ✘</text>\n",
       "</g>\n",
       "<!-- s2&#45;&gt;s3 -->\n",
       "<g id=\"edge3\" class=\"edge\">\n",
       "<title>s2&#45;&gt;s3</title>\n",
       "<path fill=\"none\" stroke=\"black\" d=\"M388.34,-18C407.62,-18 431.33,-18 452.09,-18\"/>\n",
       "<polygon fill=\"black\" stroke=\"black\" points=\"452.08,-21.5 462.08,-18 452.08,-14.5 452.08,-21.5\"/>\n",
       "<text text-anchor=\"middle\" x=\"426\" y=\"-21.8\" font-family=\"Raleway\" font-size=\"14.00\">Step 3</text>\n",
       "</g>\n",
       "</g>\n",
       "</svg>\n"
      ],
      "text/plain": [
       "<graphviz.graphs.Digraph at 0x111839b10>"
      ]
     },
     "metadata": {},
     "output_type": "display_data"
    },
    {
     "data": {
      "image/svg+xml": [
       "<?xml version=\"1.0\" encoding=\"UTF-8\" standalone=\"no\"?>\n",
       "<!DOCTYPE svg PUBLIC \"-//W3C//DTD SVG 1.1//EN\"\n",
       " \"http://www.w3.org/Graphics/SVG/1.1/DTD/svg11.dtd\">\n",
       "<!-- Generated by graphviz version 7.0.2 (20221119.0110)\n",
       " -->\n",
       "<!-- Pages: 1 -->\n",
       "<svg width=\"666pt\" height=\"44pt\"\n",
       " viewBox=\"0.00 0.00 666.00 44.00\" xmlns=\"http://www.w3.org/2000/svg\" xmlns:xlink=\"http://www.w3.org/1999/xlink\">\n",
       "<g id=\"graph0\" class=\"graph\" transform=\"scale(1 1) rotate(0) translate(4 40)\">\n",
       "<polygon fill=\"white\" stroke=\"none\" points=\"-4,4 -4,-40 662,-40 662,4 -4,4\"/>\n",
       "<!-- input -->\n",
       "<g id=\"node1\" class=\"node\">\n",
       "<title>input</title>\n",
       "<polygon fill=\"white\" stroke=\"none\" points=\"67,-36 0,-36 0,0 67,0 67,-36\"/>\n",
       "<text text-anchor=\"middle\" x=\"33.5\" y=\"-14.3\" font-family=\"Raleway\" font-size=\"14.00\" fill=\"darkgreen\">Input ✔</text>\n",
       "</g>\n",
       "<!-- s1 -->\n",
       "<g id=\"node2\" class=\"node\">\n",
       "<title>s1</title>\n",
       "<polygon fill=\"peachpuff\" stroke=\"darkgreen\" points=\"217,-36 141,-36 141,0 217,0 217,-36\"/>\n",
       "<text text-anchor=\"middle\" x=\"179\" y=\"-14.3\" font-family=\"Raleway\" font-size=\"14.00\" fill=\"darkgreen\">State 1 ✔</text>\n",
       "</g>\n",
       "<!-- input&#45;&gt;s1 -->\n",
       "<g id=\"edge1\" class=\"edge\">\n",
       "<title>input&#45;&gt;s1</title>\n",
       "<path fill=\"none\" stroke=\"black\" d=\"M66.7,-18C85.1,-18 108.53,-18 129.14,-18\"/>\n",
       "<polygon fill=\"black\" stroke=\"black\" points=\"129.06,-21.5 139.06,-18 129.06,-14.5 129.06,-21.5\"/>\n",
       "<text text-anchor=\"middle\" x=\"104\" y=\"-21.8\" font-family=\"Raleway\" font-size=\"14.00\">Step 1</text>\n",
       "</g>\n",
       "<!-- s2 -->\n",
       "<g id=\"node3\" class=\"node\">\n",
       "<title>s2</title>\n",
       "<polygon fill=\"peachpuff\" stroke=\"#8b0000\" points=\"388,-36 311,-36 311,0 388,0 388,-36\"/>\n",
       "<text text-anchor=\"middle\" x=\"349.5\" y=\"-14.3\" font-family=\"Raleway\" font-size=\"14.00\" fill=\"#8b0000\">State 2 ✘</text>\n",
       "</g>\n",
       "<!-- s1&#45;&gt;s2 -->\n",
       "<g id=\"edge2\" class=\"edge\">\n",
       "<title>s1&#45;&gt;s2</title>\n",
       "<path fill=\"none\" stroke=\"black\" d=\"M217.4,-18C241.55,-18 273.24,-18 299.41,-18\"/>\n",
       "<polygon fill=\"black\" stroke=\"black\" points=\"299.11,-21.5 309.11,-18 299.11,-14.5 299.11,-21.5\"/>\n",
       "<text text-anchor=\"middle\" x=\"264\" y=\"-21.8\" font-family=\"Raleway\" font-size=\"14.00\" fill=\"#8b0000\">Step 2 ✘</text>\n",
       "</g>\n",
       "<!-- s3 -->\n",
       "<g id=\"node4\" class=\"node\">\n",
       "<title>s3</title>\n",
       "<polygon fill=\"peachpuff\" stroke=\"#8b0000\" points=\"542,-36 464,-36 464,0 542,0 542,-36\"/>\n",
       "<text text-anchor=\"middle\" x=\"503\" y=\"-14.3\" font-family=\"Raleway\" font-size=\"14.00\" fill=\"#8b0000\">State 3 ✘</text>\n",
       "</g>\n",
       "<!-- s2&#45;&gt;s3 -->\n",
       "<g id=\"edge3\" class=\"edge\">\n",
       "<title>s2&#45;&gt;s3</title>\n",
       "<path fill=\"none\" stroke=\"black\" d=\"M388.34,-18C407.62,-18 431.33,-18 452.09,-18\"/>\n",
       "<polygon fill=\"black\" stroke=\"black\" points=\"452.08,-21.5 462.08,-18 452.08,-14.5 452.08,-21.5\"/>\n",
       "<text text-anchor=\"middle\" x=\"426\" y=\"-21.8\" font-family=\"Raleway\" font-size=\"14.00\">Step 3</text>\n",
       "</g>\n",
       "<!-- output -->\n",
       "<g id=\"node5\" class=\"node\">\n",
       "<title>output</title>\n",
       "<polygon fill=\"white\" stroke=\"none\" points=\"658,-36 579,-36 579,0 658,0 658,-36\"/>\n",
       "<text text-anchor=\"middle\" x=\"618.5\" y=\"-14.3\" font-family=\"Raleway\" font-size=\"14.00\" fill=\"#8b0000\">Output ✘</text>\n",
       "</g>\n",
       "<!-- s3&#45;&gt;output -->\n",
       "<g id=\"edge4\" class=\"edge\">\n",
       "<title>s3&#45;&gt;output</title>\n",
       "<path fill=\"none\" stroke=\"black\" d=\"M542.43,-18C550.56,-18 559.26,-18 567.75,-18\"/>\n",
       "<polygon fill=\"black\" stroke=\"black\" points=\"567.6,-21.5 577.6,-18 567.6,-14.5 567.6,-21.5\"/>\n",
       "</g>\n",
       "</g>\n",
       "</svg>\n"
      ],
      "text/plain": [
       "<graphviz.graphs.Digraph at 0x1115ecdc0>"
      ]
     },
     "metadata": {},
     "output_type": "display_data"
    }
   ],
   "source": [
    "# ignore\n",
    "for until in range(1, 6):\n",
    "    execution_diagram(show_steps=True, until=until, error_step=2)"
   ]
  },
  {
   "cell_type": "markdown",
   "metadata": {
    "slideshow": {
     "slide_type": "fragment"
    }
   },
   "source": [
    "Now, in the diagram above, Step 2 gets a _correct_ state as input and produces a _faulty_ state as output. The produced fault then propagates across more steps to finally become visible as a _failure_."
   ]
  },
  {
   "cell_type": "markdown",
   "metadata": {
    "slideshow": {
     "slide_type": "subslide"
    }
   },
   "source": [
    "The goal of debugging thus is to _search_ for the step in which the state first becomes faulty. The _code_ associated with this step is again an error – an unwanted and unintended deviation from what is correct, right, or true – and is called a _defect_. This is what we have to find – and to fix."
   ]
  },
  {
   "cell_type": "markdown",
   "metadata": {
    "slideshow": {
     "slide_type": "fragment"
    }
   },
   "source": [
    "Sounds easy, right? Unfortunately, things are not that easy, and that has something to do with the program state. Let us assume our state consists of three variables, `var1` to `var3`, and that Step 2 produces a fault in `var2`. This fault then propagates to the output:"
   ]
  },
  {
   "cell_type": "code",
   "execution_count": 36,
   "metadata": {
    "execution": {
     "iopub.execute_input": "2023-02-11T10:02:58.856151Z",
     "iopub.status.busy": "2023-02-11T10:02:58.855699Z",
     "iopub.status.idle": "2023-02-11T10:03:00.403347Z",
     "shell.execute_reply": "2023-02-11T10:03:00.403955Z"
    },
    "slideshow": {
     "slide_type": "subslide"
    }
   },
   "outputs": [
    {
     "data": {
      "image/svg+xml": [
       "<?xml version=\"1.0\" encoding=\"UTF-8\" standalone=\"no\"?>\n",
       "<!DOCTYPE svg PUBLIC \"-//W3C//DTD SVG 1.1//EN\"\n",
       " \"http://www.w3.org/Graphics/SVG/1.1/DTD/svg11.dtd\">\n",
       "<!-- Generated by graphviz version 7.0.2 (20221119.0110)\n",
       " -->\n",
       "<!-- Pages: 1 -->\n",
       "<svg width=\"75pt\" height=\"44pt\"\n",
       " viewBox=\"0.00 0.00 75.00 44.00\" xmlns=\"http://www.w3.org/2000/svg\" xmlns:xlink=\"http://www.w3.org/1999/xlink\">\n",
       "<g id=\"graph0\" class=\"graph\" transform=\"scale(1 1) rotate(0) translate(4 40)\">\n",
       "<polygon fill=\"white\" stroke=\"none\" points=\"-4,4 -4,-40 71,-40 71,4 -4,4\"/>\n",
       "<!-- input -->\n",
       "<g id=\"node1\" class=\"node\">\n",
       "<title>input</title>\n",
       "<polygon fill=\"white\" stroke=\"none\" points=\"67,-36 0,-36 0,0 67,0 67,-36\"/>\n",
       "<text text-anchor=\"middle\" x=\"33.5\" y=\"-14.3\" font-family=\"Raleway\" font-size=\"14.00\" fill=\"darkgreen\">Input ✔</text>\n",
       "</g>\n",
       "</g>\n",
       "</svg>\n"
      ],
      "text/plain": [
       "<graphviz.graphs.Digraph at 0x111bbc8b0>"
      ]
     },
     "metadata": {},
     "output_type": "display_data"
    },
    {
     "data": {
      "image/svg+xml": [
       "<?xml version=\"1.0\" encoding=\"UTF-8\" standalone=\"no\"?>\n",
       "<!DOCTYPE svg PUBLIC \"-//W3C//DTD SVG 1.1//EN\"\n",
       " \"http://www.w3.org/Graphics/SVG/1.1/DTD/svg11.dtd\">\n",
       "<!-- Generated by graphviz version 7.0.2 (20221119.0110)\n",
       " -->\n",
       "<!-- Pages: 1 -->\n",
       "<svg width=\"203pt\" height=\"78pt\"\n",
       " viewBox=\"0.00 0.00 203.00 78.00\" xmlns=\"http://www.w3.org/2000/svg\" xmlns:xlink=\"http://www.w3.org/1999/xlink\">\n",
       "<g id=\"graph0\" class=\"graph\" transform=\"scale(1 1) rotate(0) translate(4 74)\">\n",
       "<polygon fill=\"white\" stroke=\"none\" points=\"-4,4 -4,-74 199,-74 199,4 -4,4\"/>\n",
       "<!-- input -->\n",
       "<g id=\"node1\" class=\"node\">\n",
       "<title>input</title>\n",
       "<polygon fill=\"white\" stroke=\"none\" points=\"67,-53 0,-53 0,-17 67,-17 67,-53\"/>\n",
       "<text text-anchor=\"middle\" x=\"33.5\" y=\"-31.3\" font-family=\"Raleway\" font-size=\"14.00\" fill=\"darkgreen\">Input ✔</text>\n",
       "</g>\n",
       "<!-- s1 -->\n",
       "<g id=\"node2\" class=\"node\">\n",
       "<title>s1</title>\n",
       "<polygon fill=\"peachpuff\" stroke=\"darkgreen\" points=\"141,-0.5 141,-69.5 195,-69.5 195,-0.5 141,-0.5\"/>\n",
       "<text text-anchor=\"middle\" x=\"168\" y=\"-54.3\" font-family=\"Raleway\" font-size=\"14.00\" fill=\"darkgreen\">var1</text>\n",
       "<polyline fill=\"none\" stroke=\"darkgreen\" points=\"141,-46.5 195,-46.5\"/>\n",
       "<text text-anchor=\"middle\" x=\"168\" y=\"-31.3\" font-family=\"Raleway\" font-size=\"14.00\" fill=\"darkgreen\">var2</text>\n",
       "<polyline fill=\"none\" stroke=\"darkgreen\" points=\"141,-23.5 195,-23.5\"/>\n",
       "<text text-anchor=\"middle\" x=\"168\" y=\"-8.3\" font-family=\"Raleway\" font-size=\"14.00\" fill=\"darkgreen\">var3</text>\n",
       "</g>\n",
       "<!-- input&#45;&gt;s1 -->\n",
       "<g id=\"edge1\" class=\"edge\">\n",
       "<title>input&#45;&gt;s1</title>\n",
       "<path fill=\"none\" stroke=\"black\" d=\"M66.91,-35C85.91,-35 109.98,-35 129.75,-35\"/>\n",
       "<polygon fill=\"black\" stroke=\"black\" points=\"129.61,-38.5 139.61,-35 129.61,-31.5 129.61,-38.5\"/>\n",
       "<text text-anchor=\"middle\" x=\"104\" y=\"-38.8\" font-family=\"Raleway\" font-size=\"14.00\">Step 1</text>\n",
       "</g>\n",
       "</g>\n",
       "</svg>\n"
      ],
      "text/plain": [
       "<graphviz.graphs.Digraph at 0x11183ba30>"
      ]
     },
     "metadata": {},
     "output_type": "display_data"
    },
    {
     "data": {
      "image/svg+xml": [
       "<?xml version=\"1.0\" encoding=\"UTF-8\" standalone=\"no\"?>\n",
       "<!DOCTYPE svg PUBLIC \"-//W3C//DTD SVG 1.1//EN\"\n",
       " \"http://www.w3.org/Graphics/SVG/1.1/DTD/svg11.dtd\">\n",
       "<!-- Generated by graphviz version 7.0.2 (20221119.0110)\n",
       " -->\n",
       "<!-- Pages: 1 -->\n",
       "<svg width=\"357pt\" height=\"78pt\"\n",
       " viewBox=\"0.00 0.00 357.00 78.00\" xmlns=\"http://www.w3.org/2000/svg\" xmlns:xlink=\"http://www.w3.org/1999/xlink\">\n",
       "<g id=\"graph0\" class=\"graph\" transform=\"scale(1 1) rotate(0) translate(4 74)\">\n",
       "<polygon fill=\"white\" stroke=\"none\" points=\"-4,4 -4,-74 353,-74 353,4 -4,4\"/>\n",
       "<!-- input -->\n",
       "<g id=\"node1\" class=\"node\">\n",
       "<title>input</title>\n",
       "<polygon fill=\"white\" stroke=\"none\" points=\"67,-53 0,-53 0,-17 67,-17 67,-53\"/>\n",
       "<text text-anchor=\"middle\" x=\"33.5\" y=\"-31.3\" font-family=\"Raleway\" font-size=\"14.00\" fill=\"darkgreen\">Input ✔</text>\n",
       "</g>\n",
       "<!-- s1 -->\n",
       "<g id=\"node2\" class=\"node\">\n",
       "<title>s1</title>\n",
       "<polygon fill=\"peachpuff\" stroke=\"darkgreen\" points=\"141,-0.5 141,-69.5 195,-69.5 195,-0.5 141,-0.5\"/>\n",
       "<text text-anchor=\"middle\" x=\"168\" y=\"-54.3\" font-family=\"Raleway\" font-size=\"14.00\" fill=\"darkgreen\">var1</text>\n",
       "<polyline fill=\"none\" stroke=\"darkgreen\" points=\"141,-46.5 195,-46.5\"/>\n",
       "<text text-anchor=\"middle\" x=\"168\" y=\"-31.3\" font-family=\"Raleway\" font-size=\"14.00\" fill=\"darkgreen\">var2</text>\n",
       "<polyline fill=\"none\" stroke=\"darkgreen\" points=\"141,-23.5 195,-23.5\"/>\n",
       "<text text-anchor=\"middle\" x=\"168\" y=\"-8.3\" font-family=\"Raleway\" font-size=\"14.00\" fill=\"darkgreen\">var3</text>\n",
       "</g>\n",
       "<!-- input&#45;&gt;s1 -->\n",
       "<g id=\"edge1\" class=\"edge\">\n",
       "<title>input&#45;&gt;s1</title>\n",
       "<path fill=\"none\" stroke=\"black\" d=\"M66.91,-35C85.91,-35 109.98,-35 129.75,-35\"/>\n",
       "<polygon fill=\"black\" stroke=\"black\" points=\"129.61,-38.5 139.61,-35 129.61,-31.5 129.61,-38.5\"/>\n",
       "<text text-anchor=\"middle\" x=\"104\" y=\"-38.8\" font-family=\"Raleway\" font-size=\"14.00\">Step 1</text>\n",
       "</g>\n",
       "<!-- s2 -->\n",
       "<g id=\"node3\" class=\"node\">\n",
       "<title>s2</title>\n",
       "<polygon fill=\"peachpuff\" stroke=\"#8b0000\" points=\"289,-0.5 289,-69.5 349,-69.5 349,-0.5 289,-0.5\"/>\n",
       "<text text-anchor=\"middle\" x=\"319\" y=\"-54.3\" font-family=\"Raleway\" font-size=\"14.00\" fill=\"#8b0000\">var1</text>\n",
       "<polyline fill=\"none\" stroke=\"#8b0000\" points=\"289,-46.5 349,-46.5\"/>\n",
       "<text text-anchor=\"middle\" x=\"319\" y=\"-31.3\" font-family=\"Raleway\" font-size=\"14.00\" fill=\"#8b0000\">var2 ✘</text>\n",
       "<polyline fill=\"none\" stroke=\"#8b0000\" points=\"289,-23.5 349,-23.5\"/>\n",
       "<text text-anchor=\"middle\" x=\"319\" y=\"-8.3\" font-family=\"Raleway\" font-size=\"14.00\" fill=\"#8b0000\">var3</text>\n",
       "</g>\n",
       "<!-- s1&#45;&gt;s2 -->\n",
       "<g id=\"edge2\" class=\"edge\">\n",
       "<title>s1&#45;&gt;s2:var2</title>\n",
       "<path fill=\"none\" stroke=\"black\" d=\"M194.75,-35C216.3,-35 248.18,-35 277.79,-35\"/>\n",
       "<polygon fill=\"black\" stroke=\"black\" points=\"277.49,-38.5 287.49,-35 277.49,-31.5 277.49,-38.5\"/>\n",
       "<text text-anchor=\"middle\" x=\"242\" y=\"-38.8\" font-family=\"Raleway\" font-size=\"14.00\" fill=\"#8b0000\">Step 2 ✘</text>\n",
       "</g>\n",
       "</g>\n",
       "</svg>\n"
      ],
      "text/plain": [
       "<graphviz.graphs.Digraph at 0x1115ef370>"
      ]
     },
     "metadata": {},
     "output_type": "display_data"
    },
    {
     "data": {
      "image/svg+xml": [
       "<?xml version=\"1.0\" encoding=\"UTF-8\" standalone=\"no\"?>\n",
       "<!DOCTYPE svg PUBLIC \"-//W3C//DTD SVG 1.1//EN\"\n",
       " \"http://www.w3.org/Graphics/SVG/1.1/DTD/svg11.dtd\">\n",
       "<!-- Generated by graphviz version 7.0.2 (20221119.0110)\n",
       " -->\n",
       "<!-- Pages: 1 -->\n",
       "<svg width=\"493pt\" height=\"78pt\"\n",
       " viewBox=\"0.00 0.00 493.00 78.00\" xmlns=\"http://www.w3.org/2000/svg\" xmlns:xlink=\"http://www.w3.org/1999/xlink\">\n",
       "<g id=\"graph0\" class=\"graph\" transform=\"scale(1 1) rotate(0) translate(4 74)\">\n",
       "<polygon fill=\"white\" stroke=\"none\" points=\"-4,4 -4,-74 489,-74 489,4 -4,4\"/>\n",
       "<!-- input -->\n",
       "<g id=\"node1\" class=\"node\">\n",
       "<title>input</title>\n",
       "<polygon fill=\"white\" stroke=\"none\" points=\"67,-53 0,-53 0,-17 67,-17 67,-53\"/>\n",
       "<text text-anchor=\"middle\" x=\"33.5\" y=\"-31.3\" font-family=\"Raleway\" font-size=\"14.00\" fill=\"darkgreen\">Input ✔</text>\n",
       "</g>\n",
       "<!-- s1 -->\n",
       "<g id=\"node2\" class=\"node\">\n",
       "<title>s1</title>\n",
       "<polygon fill=\"peachpuff\" stroke=\"darkgreen\" points=\"141,-0.5 141,-69.5 195,-69.5 195,-0.5 141,-0.5\"/>\n",
       "<text text-anchor=\"middle\" x=\"168\" y=\"-54.3\" font-family=\"Raleway\" font-size=\"14.00\" fill=\"darkgreen\">var1</text>\n",
       "<polyline fill=\"none\" stroke=\"darkgreen\" points=\"141,-46.5 195,-46.5\"/>\n",
       "<text text-anchor=\"middle\" x=\"168\" y=\"-31.3\" font-family=\"Raleway\" font-size=\"14.00\" fill=\"darkgreen\">var2</text>\n",
       "<polyline fill=\"none\" stroke=\"darkgreen\" points=\"141,-23.5 195,-23.5\"/>\n",
       "<text text-anchor=\"middle\" x=\"168\" y=\"-8.3\" font-family=\"Raleway\" font-size=\"14.00\" fill=\"darkgreen\">var3</text>\n",
       "</g>\n",
       "<!-- input&#45;&gt;s1 -->\n",
       "<g id=\"edge1\" class=\"edge\">\n",
       "<title>input&#45;&gt;s1</title>\n",
       "<path fill=\"none\" stroke=\"black\" d=\"M66.91,-35C85.91,-35 109.98,-35 129.75,-35\"/>\n",
       "<polygon fill=\"black\" stroke=\"black\" points=\"129.61,-38.5 139.61,-35 129.61,-31.5 129.61,-38.5\"/>\n",
       "<text text-anchor=\"middle\" x=\"104\" y=\"-38.8\" font-family=\"Raleway\" font-size=\"14.00\">Step 1</text>\n",
       "</g>\n",
       "<!-- s2 -->\n",
       "<g id=\"node3\" class=\"node\">\n",
       "<title>s2</title>\n",
       "<polygon fill=\"peachpuff\" stroke=\"#8b0000\" points=\"289,-0.5 289,-69.5 349,-69.5 349,-0.5 289,-0.5\"/>\n",
       "<text text-anchor=\"middle\" x=\"319\" y=\"-54.3\" font-family=\"Raleway\" font-size=\"14.00\" fill=\"#8b0000\">var1</text>\n",
       "<polyline fill=\"none\" stroke=\"#8b0000\" points=\"289,-46.5 349,-46.5\"/>\n",
       "<text text-anchor=\"middle\" x=\"319\" y=\"-31.3\" font-family=\"Raleway\" font-size=\"14.00\" fill=\"#8b0000\">var2 ✘</text>\n",
       "<polyline fill=\"none\" stroke=\"#8b0000\" points=\"289,-23.5 349,-23.5\"/>\n",
       "<text text-anchor=\"middle\" x=\"319\" y=\"-8.3\" font-family=\"Raleway\" font-size=\"14.00\" fill=\"#8b0000\">var3</text>\n",
       "</g>\n",
       "<!-- s1&#45;&gt;s2 -->\n",
       "<g id=\"edge2\" class=\"edge\">\n",
       "<title>s1&#45;&gt;s2:var2</title>\n",
       "<path fill=\"none\" stroke=\"black\" d=\"M194.75,-35C216.3,-35 248.18,-35 277.79,-35\"/>\n",
       "<polygon fill=\"black\" stroke=\"black\" points=\"277.49,-38.5 287.49,-35 277.49,-31.5 277.49,-38.5\"/>\n",
       "<text text-anchor=\"middle\" x=\"242\" y=\"-38.8\" font-family=\"Raleway\" font-size=\"14.00\" fill=\"#8b0000\">Step 2 ✘</text>\n",
       "</g>\n",
       "<!-- s3 -->\n",
       "<g id=\"node4\" class=\"node\">\n",
       "<title>s3</title>\n",
       "<polygon fill=\"peachpuff\" stroke=\"#8b0000\" points=\"425,-0.5 425,-69.5 485,-69.5 485,-0.5 425,-0.5\"/>\n",
       "<text text-anchor=\"middle\" x=\"455\" y=\"-54.3\" font-family=\"Raleway\" font-size=\"14.00\" fill=\"#8b0000\">var1</text>\n",
       "<polyline fill=\"none\" stroke=\"#8b0000\" points=\"425,-46.5 485,-46.5\"/>\n",
       "<text text-anchor=\"middle\" x=\"455\" y=\"-31.3\" font-family=\"Raleway\" font-size=\"14.00\" fill=\"#8b0000\">var2 ✘</text>\n",
       "<polyline fill=\"none\" stroke=\"#8b0000\" points=\"425,-23.5 485,-23.5\"/>\n",
       "<text text-anchor=\"middle\" x=\"455\" y=\"-8.3\" font-family=\"Raleway\" font-size=\"14.00\" fill=\"#8b0000\">var3</text>\n",
       "</g>\n",
       "<!-- s2&#45;&gt;s3 -->\n",
       "<g id=\"edge3\" class=\"edge\">\n",
       "<title>s2:var2&#45;&gt;s3:var2</title>\n",
       "<path fill=\"none\" stroke=\"black\" d=\"M349,-35C378.69,-35 388.81,-35 413.75,-35\"/>\n",
       "<polygon fill=\"black\" stroke=\"black\" points=\"413.49,-38.5 423.49,-35 413.49,-31.5 413.49,-38.5\"/>\n",
       "<text text-anchor=\"middle\" x=\"387\" y=\"-38.8\" font-family=\"Raleway\" font-size=\"14.00\">Step 3</text>\n",
       "</g>\n",
       "</g>\n",
       "</svg>\n"
      ],
      "text/plain": [
       "<graphviz.graphs.Digraph at 0x111839b40>"
      ]
     },
     "metadata": {},
     "output_type": "display_data"
    },
    {
     "data": {
      "image/svg+xml": [
       "<?xml version=\"1.0\" encoding=\"UTF-8\" standalone=\"no\"?>\n",
       "<!DOCTYPE svg PUBLIC \"-//W3C//DTD SVG 1.1//EN\"\n",
       " \"http://www.w3.org/Graphics/SVG/1.1/DTD/svg11.dtd\">\n",
       "<!-- Generated by graphviz version 7.0.2 (20221119.0110)\n",
       " -->\n",
       "<!-- Pages: 1 -->\n",
       "<svg width=\"609pt\" height=\"78pt\"\n",
       " viewBox=\"0.00 0.00 609.00 78.00\" xmlns=\"http://www.w3.org/2000/svg\" xmlns:xlink=\"http://www.w3.org/1999/xlink\">\n",
       "<g id=\"graph0\" class=\"graph\" transform=\"scale(1 1) rotate(0) translate(4 74)\">\n",
       "<polygon fill=\"white\" stroke=\"none\" points=\"-4,4 -4,-74 605,-74 605,4 -4,4\"/>\n",
       "<!-- input -->\n",
       "<g id=\"node1\" class=\"node\">\n",
       "<title>input</title>\n",
       "<polygon fill=\"white\" stroke=\"none\" points=\"67,-53 0,-53 0,-17 67,-17 67,-53\"/>\n",
       "<text text-anchor=\"middle\" x=\"33.5\" y=\"-31.3\" font-family=\"Raleway\" font-size=\"14.00\" fill=\"darkgreen\">Input ✔</text>\n",
       "</g>\n",
       "<!-- s1 -->\n",
       "<g id=\"node2\" class=\"node\">\n",
       "<title>s1</title>\n",
       "<polygon fill=\"peachpuff\" stroke=\"darkgreen\" points=\"141,-0.5 141,-69.5 195,-69.5 195,-0.5 141,-0.5\"/>\n",
       "<text text-anchor=\"middle\" x=\"168\" y=\"-54.3\" font-family=\"Raleway\" font-size=\"14.00\" fill=\"darkgreen\">var1</text>\n",
       "<polyline fill=\"none\" stroke=\"darkgreen\" points=\"141,-46.5 195,-46.5\"/>\n",
       "<text text-anchor=\"middle\" x=\"168\" y=\"-31.3\" font-family=\"Raleway\" font-size=\"14.00\" fill=\"darkgreen\">var2</text>\n",
       "<polyline fill=\"none\" stroke=\"darkgreen\" points=\"141,-23.5 195,-23.5\"/>\n",
       "<text text-anchor=\"middle\" x=\"168\" y=\"-8.3\" font-family=\"Raleway\" font-size=\"14.00\" fill=\"darkgreen\">var3</text>\n",
       "</g>\n",
       "<!-- input&#45;&gt;s1 -->\n",
       "<g id=\"edge1\" class=\"edge\">\n",
       "<title>input&#45;&gt;s1</title>\n",
       "<path fill=\"none\" stroke=\"black\" d=\"M66.91,-35C85.91,-35 109.98,-35 129.75,-35\"/>\n",
       "<polygon fill=\"black\" stroke=\"black\" points=\"129.61,-38.5 139.61,-35 129.61,-31.5 129.61,-38.5\"/>\n",
       "<text text-anchor=\"middle\" x=\"104\" y=\"-38.8\" font-family=\"Raleway\" font-size=\"14.00\">Step 1</text>\n",
       "</g>\n",
       "<!-- s2 -->\n",
       "<g id=\"node3\" class=\"node\">\n",
       "<title>s2</title>\n",
       "<polygon fill=\"peachpuff\" stroke=\"#8b0000\" points=\"289,-0.5 289,-69.5 349,-69.5 349,-0.5 289,-0.5\"/>\n",
       "<text text-anchor=\"middle\" x=\"319\" y=\"-54.3\" font-family=\"Raleway\" font-size=\"14.00\" fill=\"#8b0000\">var1</text>\n",
       "<polyline fill=\"none\" stroke=\"#8b0000\" points=\"289,-46.5 349,-46.5\"/>\n",
       "<text text-anchor=\"middle\" x=\"319\" y=\"-31.3\" font-family=\"Raleway\" font-size=\"14.00\" fill=\"#8b0000\">var2 ✘</text>\n",
       "<polyline fill=\"none\" stroke=\"#8b0000\" points=\"289,-23.5 349,-23.5\"/>\n",
       "<text text-anchor=\"middle\" x=\"319\" y=\"-8.3\" font-family=\"Raleway\" font-size=\"14.00\" fill=\"#8b0000\">var3</text>\n",
       "</g>\n",
       "<!-- s1&#45;&gt;s2 -->\n",
       "<g id=\"edge2\" class=\"edge\">\n",
       "<title>s1&#45;&gt;s2:var2</title>\n",
       "<path fill=\"none\" stroke=\"black\" d=\"M194.75,-35C216.3,-35 248.18,-35 277.79,-35\"/>\n",
       "<polygon fill=\"black\" stroke=\"black\" points=\"277.49,-38.5 287.49,-35 277.49,-31.5 277.49,-38.5\"/>\n",
       "<text text-anchor=\"middle\" x=\"242\" y=\"-38.8\" font-family=\"Raleway\" font-size=\"14.00\" fill=\"#8b0000\">Step 2 ✘</text>\n",
       "</g>\n",
       "<!-- s3 -->\n",
       "<g id=\"node4\" class=\"node\">\n",
       "<title>s3</title>\n",
       "<polygon fill=\"peachpuff\" stroke=\"#8b0000\" points=\"425,-0.5 425,-69.5 485,-69.5 485,-0.5 425,-0.5\"/>\n",
       "<text text-anchor=\"middle\" x=\"455\" y=\"-54.3\" font-family=\"Raleway\" font-size=\"14.00\" fill=\"#8b0000\">var1</text>\n",
       "<polyline fill=\"none\" stroke=\"#8b0000\" points=\"425,-46.5 485,-46.5\"/>\n",
       "<text text-anchor=\"middle\" x=\"455\" y=\"-31.3\" font-family=\"Raleway\" font-size=\"14.00\" fill=\"#8b0000\">var2 ✘</text>\n",
       "<polyline fill=\"none\" stroke=\"#8b0000\" points=\"425,-23.5 485,-23.5\"/>\n",
       "<text text-anchor=\"middle\" x=\"455\" y=\"-8.3\" font-family=\"Raleway\" font-size=\"14.00\" fill=\"#8b0000\">var3</text>\n",
       "</g>\n",
       "<!-- s2&#45;&gt;s3 -->\n",
       "<g id=\"edge3\" class=\"edge\">\n",
       "<title>s2:var2&#45;&gt;s3:var2</title>\n",
       "<path fill=\"none\" stroke=\"black\" d=\"M349,-35C378.69,-35 388.81,-35 413.75,-35\"/>\n",
       "<polygon fill=\"black\" stroke=\"black\" points=\"413.49,-38.5 423.49,-35 413.49,-31.5 413.49,-38.5\"/>\n",
       "<text text-anchor=\"middle\" x=\"387\" y=\"-38.8\" font-family=\"Raleway\" font-size=\"14.00\">Step 3</text>\n",
       "</g>\n",
       "<!-- output -->\n",
       "<g id=\"node5\" class=\"node\">\n",
       "<title>output</title>\n",
       "<polygon fill=\"white\" stroke=\"none\" points=\"601,-53 522,-53 522,-17 601,-17 601,-53\"/>\n",
       "<text text-anchor=\"middle\" x=\"561.5\" y=\"-31.3\" font-family=\"Raleway\" font-size=\"14.00\" fill=\"#8b0000\">Output ✘</text>\n",
       "</g>\n",
       "<!-- s3&#45;&gt;output -->\n",
       "<g id=\"edge4\" class=\"edge\">\n",
       "<title>s3:var2&#45;&gt;output</title>\n",
       "<path fill=\"none\" stroke=\"black\" d=\"M485,-35C493.29,-35 502.09,-35 510.65,-35\"/>\n",
       "<polygon fill=\"black\" stroke=\"black\" points=\"510.58,-38.5 520.58,-35 510.58,-31.5 510.58,-38.5\"/>\n",
       "</g>\n",
       "</g>\n",
       "</svg>\n"
      ],
      "text/plain": [
       "<graphviz.graphs.Digraph at 0x1115ef4c0>"
      ]
     },
     "metadata": {},
     "output_type": "display_data"
    }
   ],
   "source": [
    "# ignore\n",
    "for until in range(1, 6):\n",
    "    execution_diagram(show_steps=True, variables=['var1', 'var2', 'var3'],\n",
    "                      error_step=2,\n",
    "                      until=until, fault_path=['s2:var2', 's3:var2'])"
   ]
  },
  {
   "cell_type": "markdown",
   "metadata": {
    "slideshow": {
     "slide_type": "subslide"
    }
   },
   "source": [
    "The way these faults propagate is called a *cause-effect chain*:\n",
    "\n",
    "* The _defect_ in the code _causes_ a fault in the state when executed.\n",
    "* This _fault_ in the state then _propagates_ through further execution steps...\n",
    "* ... until it becomes visible as a _failure_.\n",
    "\n",
    "Even worse: in most cases the fault often expresses itself first in the control flow rather than the variable contents.\n",
    "Such a deviation from a normal execution is in general even harder to find."
   ]
  },
  {
   "cell_type": "markdown",
   "metadata": {
    "slideshow": {
     "slide_type": "subslide"
    }
   },
   "source": [
    "Since the code was originally written by a human, any defect can be related to some original _mistake_ the programmer made. This gives us a number of terms that all are more precise than the general \"error\" or the colloquial \"bug\":\n",
    "\n",
    "* A _mistake_ is a human act or decision resulting in an error.\n",
    "* A _defect_ is an error in the program code. Also called *bug*.\n",
    "* A _fault_ is an error in the program state. Also called *infection*.\n",
    "* A _failure_ is an externally visible error in the program behavior. Also called *malfunction*.\n",
    "\n",
    "The cause-effect chain of events is thus\n",
    "\n",
    "* Mistake → Defect → Fault → ... → Fault → Failure\n",
    "\n",
    "Note that not every defect also causes a failure, which is despite all testing, there can still be defects in the code looming around until the right conditions are met to trigger them. On the other hand, though, _every failure can be traced back to the defect that causes it_. Our job is to break the cause-effect chain."
   ]
  },
  {
   "attachments": {},
   "cell_type": "markdown",
   "metadata": {
    "slideshow": {
     "slide_type": "slide"
    }
   },
   "source": [
    "## From Failure to Defect\n",
    "\n",
    "To find a defect from a failure, we _trace back_ the faults along their _propagation_ – that is, we find out which faults in the earlier state have caused the later faults. We start from the very end of the execution and then gradually progress backwards in time, examining fault after fault until we find a _transition_ from a correct state to a faulty state – that is, a\n",
    "step in which a correct state comes in and a faulty state comes out. At this point, we have found the origin of the failure – and the defect that causes it."
   ]
  },
  {
   "cell_type": "markdown",
   "metadata": {
    "slideshow": {
     "slide_type": "subslide"
    }
   },
   "source": [
    "What sounds like a straight-forward strategy, unfortunately, doesn't always work this way in practice. That is because of the following problems of debugging:\n",
    "\n",
    "* First, program states are actually _large_, encompassing dozens to thousands of variables, possibly even more. If you have to search all of these manually and check them for faults, you will spend a lot of time for a single state.\n",
    "\n",
    "* Second, you do not always know _whether a state is correct or not._ While most programs have some form of specification for their inputs and outputs, these do not necessarily exist for intermediate results. If one had a specification that could check each state for correctness (possibly even automatically), debugging would be trivial. Unfortunately, it is not, and that's partly due to the lack of specifications.\n",
    "\n",
    "* Third, executions typically do not come in a handful of steps, as in the diagrams above; instead, they can easily encompass _thousands to millions of steps._ This means that you will have to examine not just one state, but several, making the problem much worse.\n",
    "\n",
    "To make your search efficient, you thus have to _focus_ your search – starting with most likely causes and gradually progressing to the less probable causes. This is what we call a _debugging strategy_. Intermediate assertions of the program state also come in handy, as they make the cause-effect chain smaller."
   ]
  },
  {
   "cell_type": "markdown",
   "metadata": {
    "slideshow": {
     "slide_type": "slide"
    }
   },
   "source": [
    "## The Scientific Method\n",
    "\n",
    "Now that we know how failures come to be, let's look into how to systematically find their causes. What we need is a _strategy_ that helps us search for how and when the failure comes to be. For this, we use a process called the *scientific method*."
   ]
  },
  {
   "cell_type": "markdown",
   "metadata": {
    "slideshow": {
     "slide_type": "fragment"
    }
   },
   "source": [
    "When we are debugging a program, we are trying to find the causes of a given effect – very much like natural scientists try to understand why things in nature are as they are and how they come to be. Over thousands of years, scientists have conducted _observations_ and _experiments_ to come to an understanding of how our world works. The process by which experimental scientists operate has been coined \"The scientific method\". This is how it works:"
   ]
  },
  {
   "cell_type": "markdown",
   "metadata": {
    "slideshow": {
     "slide_type": "subslide"
    }
   },
   "source": [
    "1. Formulate a _question_, as in \"Why does this apple fall down?\".\n",
    "2. Invent a _hypothesis_ based on knowledge obtained while formulating the question, that may explain the observed behavior. \n",
    "3. Determining the logical consequences of the hypothesis, formulate a _prediction_ that can _support_ or _refute_ the hypothesis. Ideally, the prediction would distinguish the hypothesis from likely alternatives.\n",
    "4. _Test_ the prediction (and thus the hypothesis) in an _experiment_. If the prediction holds, confidence in the hypothesis increases; otherwise, it decreases.\n",
    "5. Repeat Steps 2–4 until there are no discrepancies between hypothesis and predictions and/or observations."
   ]
  },
  {
   "cell_type": "markdown",
   "metadata": {
    "slideshow": {
     "slide_type": "subslide"
    }
   },
   "source": [
    "At this point, your hypothesis may be named a *theory* – that is, a predictive and comprehensive description of some aspect of the natural world. The gravitational theory, for instance, predicts very well how the moon revolves around the earth, and how the earth revolves around the sun.  Our debugging problems are of a slightly lesser scale – we'd like a theory of how our failure came to be – but the process is pretty much the same."
   ]
  },
  {
   "cell_type": "code",
   "execution_count": 37,
   "metadata": {
    "execution": {
     "iopub.execute_input": "2023-02-11T10:03:00.408187Z",
     "iopub.status.busy": "2023-02-11T10:03:00.407870Z",
     "iopub.status.idle": "2023-02-11T10:03:00.409147Z",
     "shell.execute_reply": "2023-02-11T10:03:00.409395Z"
    },
    "ipub": {
     "ignore": true
    },
    "slideshow": {
     "slide_type": "subslide"
    }
   },
   "outputs": [],
   "source": [
    "# ignore\n",
    "dot = graph()\n",
    "\n",
    "dot.node('Hypothesis')\n",
    "dot.node('Observation')\n",
    "dot.node('Prediction')\n",
    "dot.node('Experiment')\n",
    "\n",
    "dot.edge('Hypothesis', 'Observation',\n",
    "         label=\"<Hypothesis<BR/>is <I>supported:</I><BR/>Refine it>\",\n",
    "         dir='back')\n",
    "dot.edge('Hypothesis', 'Prediction')\n",
    "\n",
    "dot.node('Problem Report', shape='none', fillcolor='white')\n",
    "dot.edge('Problem Report', 'Hypothesis')\n",
    "\n",
    "dot.node('Code', shape='none', fillcolor='white')\n",
    "dot.edge('Code', 'Hypothesis')\n",
    "\n",
    "dot.node('Runs', shape='none', fillcolor='white')\n",
    "dot.edge('Runs', 'Hypothesis')\n",
    "\n",
    "dot.node('More Runs', shape='none', fillcolor='white')\n",
    "dot.edge('More Runs', 'Hypothesis')\n",
    "\n",
    "dot.edge('Prediction', 'Experiment')\n",
    "dot.edge('Experiment', 'Observation')\n",
    "dot.edge('Observation', 'Hypothesis',\n",
    "         label=\"<Hypothesis<BR/>is <I>rejected:</I><BR/>Seek alternative>\")"
   ]
  },
  {
   "cell_type": "code",
   "execution_count": 38,
   "metadata": {
    "execution": {
     "iopub.execute_input": "2023-02-11T10:03:00.412045Z",
     "iopub.status.busy": "2023-02-11T10:03:00.411596Z",
     "iopub.status.idle": "2023-02-11T10:03:00.722938Z",
     "shell.execute_reply": "2023-02-11T10:03:00.723202Z"
    },
    "slideshow": {
     "slide_type": "subslide"
    }
   },
   "outputs": [
    {
     "data": {
      "image/svg+xml": [
       "<?xml version=\"1.0\" encoding=\"UTF-8\" standalone=\"no\"?>\n",
       "<!DOCTYPE svg PUBLIC \"-//W3C//DTD SVG 1.1//EN\"\n",
       " \"http://www.w3.org/Graphics/SVG/1.1/DTD/svg11.dtd\">\n",
       "<!-- Generated by graphviz version 7.0.2 (20221119.0110)\n",
       " -->\n",
       "<!-- Pages: 1 -->\n",
       "<svg width=\"831pt\" height=\"206pt\"\n",
       " viewBox=\"0.00 0.00 830.56 206.00\" xmlns=\"http://www.w3.org/2000/svg\" xmlns:xlink=\"http://www.w3.org/1999/xlink\">\n",
       "<g id=\"graph0\" class=\"graph\" transform=\"scale(1 1) rotate(0) translate(4 202)\">\n",
       "<polygon fill=\"white\" stroke=\"none\" points=\"-4,4 -4,-202 826.56,-202 826.56,4 -4,4\"/>\n",
       "<!-- Hypothesis -->\n",
       "<g id=\"node1\" class=\"node\">\n",
       "<title>Hypothesis</title>\n",
       "<ellipse fill=\"peachpuff\" stroke=\"black\" cx=\"211.84\" cy=\"-99\" rx=\"57.69\" ry=\"18\"/>\n",
       "<text text-anchor=\"middle\" x=\"211.84\" y=\"-95.3\" font-family=\"Raleway\" font-size=\"14.00\">Hypothesis</text>\n",
       "</g>\n",
       "<!-- Observation -->\n",
       "<g id=\"node2\" class=\"node\">\n",
       "<title>Observation</title>\n",
       "<ellipse fill=\"peachpuff\" stroke=\"black\" cx=\"762.11\" cy=\"-99\" rx=\"60.39\" ry=\"18\"/>\n",
       "<text text-anchor=\"middle\" x=\"762.11\" y=\"-95.3\" font-family=\"Raleway\" font-size=\"14.00\">Observation</text>\n",
       "</g>\n",
       "<!-- Hypothesis&#45;&gt;Observation -->\n",
       "<g id=\"edge1\" class=\"edge\">\n",
       "<title>Hypothesis&#45;&gt;Observation</title>\n",
       "<path fill=\"none\" stroke=\"black\" d=\"M261.74,-115.87C276.05,-120.04 291.84,-123.91 306.69,-126 464.23,-148.21 507.05,-147.65 664.67,-126 683.79,-123.37 704.46,-117.95 721.74,-112.65\"/>\n",
       "<polygon fill=\"black\" stroke=\"black\" points=\"263.16,-112.64 252.57,-113.08 261.13,-119.34 263.16,-112.64\"/>\n",
       "<text text-anchor=\"start\" x=\"443.98\" y=\"-173.8\" font-family=\"Raleway\" font-size=\"14.00\">Hypothesis</text>\n",
       "<text text-anchor=\"start\" x=\"441.48\" y=\"-159.8\" font-family=\"Raleway\" font-size=\"14.00\">is </text>\n",
       "<text text-anchor=\"start\" x=\"455.48\" y=\"-159.8\" font-family=\"Raleway\" font-style=\"italic\" font-size=\"14.00\">supported:</text>\n",
       "<text text-anchor=\"start\" x=\"454.48\" y=\"-145.8\" font-family=\"Raleway\" font-size=\"14.00\">Refine it</text>\n",
       "</g>\n",
       "<!-- Prediction -->\n",
       "<g id=\"node3\" class=\"node\">\n",
       "<title>Prediction</title>\n",
       "<ellipse fill=\"peachpuff\" stroke=\"black\" cx=\"359.34\" cy=\"-99\" rx=\"52.79\" ry=\"18\"/>\n",
       "<text text-anchor=\"middle\" x=\"359.34\" y=\"-95.3\" font-family=\"Raleway\" font-size=\"14.00\">Prediction</text>\n",
       "</g>\n",
       "<!-- Hypothesis&#45;&gt;Prediction -->\n",
       "<g id=\"edge2\" class=\"edge\">\n",
       "<title>Hypothesis&#45;&gt;Prediction</title>\n",
       "<path fill=\"none\" stroke=\"black\" d=\"M269.93,-99C278.05,-99 286.43,-99 294.67,-99\"/>\n",
       "<polygon fill=\"black\" stroke=\"black\" points=\"294.64,-102.5 304.64,-99 294.64,-95.5 294.64,-102.5\"/>\n",
       "</g>\n",
       "<!-- Observation&#45;&gt;Hypothesis -->\n",
       "<g id=\"edge9\" class=\"edge\">\n",
       "<title>Observation&#45;&gt;Hypothesis</title>\n",
       "<path fill=\"none\" stroke=\"black\" d=\"M719.16,-85.96C702.34,-81.07 682.71,-75.79 664.67,-72 508.97,-39.29 462.08,-37.82 306.69,-72 292.71,-75.08 277.74,-79.06 263.96,-83.02\"/>\n",
       "<polygon fill=\"black\" stroke=\"black\" points=\"263.27,-79.57 254.66,-85.74 265.24,-86.29 263.27,-79.57\"/>\n",
       "<text text-anchor=\"start\" x=\"443.98\" y=\"-80.8\" font-family=\"Raleway\" font-size=\"14.00\">Hypothesis</text>\n",
       "<text text-anchor=\"start\" x=\"447.48\" y=\"-66.8\" font-family=\"Raleway\" font-size=\"14.00\">is </text>\n",
       "<text text-anchor=\"start\" x=\"461.48\" y=\"-66.8\" font-family=\"Raleway\" font-style=\"italic\" font-size=\"14.00\">rejected:</text>\n",
       "<text text-anchor=\"start\" x=\"429.98\" y=\"-52.8\" font-family=\"Raleway\" font-size=\"14.00\">Seek alternative</text>\n",
       "</g>\n",
       "<!-- Experiment -->\n",
       "<g id=\"node4\" class=\"node\">\n",
       "<title>Experiment</title>\n",
       "<ellipse fill=\"peachpuff\" stroke=\"black\" cx=\"606.83\" cy=\"-99\" rx=\"57.69\" ry=\"18\"/>\n",
       "<text text-anchor=\"middle\" x=\"606.83\" y=\"-95.3\" font-family=\"Raleway\" font-size=\"14.00\">Experiment</text>\n",
       "</g>\n",
       "<!-- Prediction&#45;&gt;Experiment -->\n",
       "<g id=\"edge7\" class=\"edge\">\n",
       "<title>Prediction&#45;&gt;Experiment</title>\n",
       "<path fill=\"none\" stroke=\"black\" d=\"M412.4,-99C448.78,-99 497.72,-99 537.28,-99\"/>\n",
       "<polygon fill=\"black\" stroke=\"black\" points=\"537.18,-102.5 547.18,-99 537.18,-95.5 537.18,-102.5\"/>\n",
       "</g>\n",
       "<!-- Experiment&#45;&gt;Observation -->\n",
       "<g id=\"edge8\" class=\"edge\">\n",
       "<title>Experiment&#45;&gt;Observation</title>\n",
       "<path fill=\"none\" stroke=\"black\" d=\"M664.9,-99C673.1,-99 681.61,-99 690.03,-99\"/>\n",
       "<polygon fill=\"black\" stroke=\"black\" points=\"689.91,-102.5 699.91,-99 689.91,-95.5 689.91,-102.5\"/>\n",
       "</g>\n",
       "<!-- Problem Report -->\n",
       "<g id=\"node5\" class=\"node\">\n",
       "<title>Problem Report</title>\n",
       "<polygon fill=\"white\" stroke=\"none\" points=\"117,-198 0,-198 0,-162 117,-162 117,-198\"/>\n",
       "<text text-anchor=\"middle\" x=\"58.5\" y=\"-176.3\" font-family=\"Raleway\" font-size=\"14.00\">Problem Report</text>\n",
       "</g>\n",
       "<!-- Problem Report&#45;&gt;Hypothesis -->\n",
       "<g id=\"edge3\" class=\"edge\">\n",
       "<title>Problem Report&#45;&gt;Hypothesis</title>\n",
       "<path fill=\"none\" stroke=\"black\" d=\"M98.69,-162.13C104.86,-159.17 111.13,-156.06 117,-153 136.23,-142.98 157.18,-131.02 174.4,-120.91\"/>\n",
       "<polygon fill=\"black\" stroke=\"black\" points=\"175.94,-124.07 182.77,-115.97 172.38,-118.04 175.94,-124.07\"/>\n",
       "</g>\n",
       "<!-- Code -->\n",
       "<g id=\"node6\" class=\"node\">\n",
       "<title>Code</title>\n",
       "<polygon fill=\"white\" stroke=\"none\" points=\"85.5,-144 31.5,-144 31.5,-108 85.5,-108 85.5,-144\"/>\n",
       "<text text-anchor=\"middle\" x=\"58.5\" y=\"-122.3\" font-family=\"Raleway\" font-size=\"14.00\">Code</text>\n",
       "</g>\n",
       "<!-- Code&#45;&gt;Hypothesis -->\n",
       "<g id=\"edge4\" class=\"edge\">\n",
       "<title>Code&#45;&gt;Hypothesis</title>\n",
       "<path fill=\"none\" stroke=\"black\" d=\"M85.17,-121.42C102.92,-118.25 127.31,-113.9 149.88,-109.88\"/>\n",
       "<polygon fill=\"black\" stroke=\"black\" points=\"150.41,-113.34 159.64,-108.14 149.18,-106.45 150.41,-113.34\"/>\n",
       "</g>\n",
       "<!-- Runs -->\n",
       "<g id=\"node7\" class=\"node\">\n",
       "<title>Runs</title>\n",
       "<polygon fill=\"white\" stroke=\"none\" points=\"85.5,-90 31.5,-90 31.5,-54 85.5,-54 85.5,-90\"/>\n",
       "<text text-anchor=\"middle\" x=\"58.5\" y=\"-68.3\" font-family=\"Raleway\" font-size=\"14.00\">Runs</text>\n",
       "</g>\n",
       "<!-- Runs&#45;&gt;Hypothesis -->\n",
       "<g id=\"edge5\" class=\"edge\">\n",
       "<title>Runs&#45;&gt;Hypothesis</title>\n",
       "<path fill=\"none\" stroke=\"black\" d=\"M85.17,-76.58C102.92,-79.75 127.31,-84.1 149.88,-88.12\"/>\n",
       "<polygon fill=\"black\" stroke=\"black\" points=\"149.18,-91.55 159.64,-89.86 150.41,-84.66 149.18,-91.55\"/>\n",
       "</g>\n",
       "<!-- More Runs -->\n",
       "<g id=\"node8\" class=\"node\">\n",
       "<title>More Runs</title>\n",
       "<polygon fill=\"white\" stroke=\"none\" points=\"101.5,-36 15.5,-36 15.5,0 101.5,0 101.5,-36\"/>\n",
       "<text text-anchor=\"middle\" x=\"58.5\" y=\"-14.3\" font-family=\"Raleway\" font-size=\"14.00\">More Runs</text>\n",
       "</g>\n",
       "<!-- More Runs&#45;&gt;Hypothesis -->\n",
       "<g id=\"edge6\" class=\"edge\">\n",
       "<title>More Runs&#45;&gt;Hypothesis</title>\n",
       "<path fill=\"none\" stroke=\"black\" d=\"M98.69,-35.87C104.86,-38.83 111.13,-41.94 117,-45 136.23,-55.02 157.18,-66.98 174.4,-77.09\"/>\n",
       "<polygon fill=\"black\" stroke=\"black\" points=\"172.38,-79.96 182.77,-82.03 175.94,-73.93 172.38,-79.96\"/>\n",
       "</g>\n",
       "</g>\n",
       "</svg>\n"
      ],
      "text/plain": [
       "<graphviz.graphs.Digraph at 0x111bbc490>"
      ]
     },
     "metadata": {},
     "output_type": "display_data"
    }
   ],
   "source": [
    "# ignore\n",
    "display(dot)"
   ]
  },
  {
   "cell_type": "markdown",
   "metadata": {
    "slideshow": {
     "slide_type": "fragment"
    }
   },
   "source": [
    "In debugging, we proceed the very same way – indeed, we are treating bugs as if they were natural phenomena.   This analogy may sound far-fetched, as programs are anything but natural.  Nature, by definition, is not under our control.  But bugs are _out of our control just as well._  Hence, the analogy is not that far-fetched – and we can apply the same techniques for debugging."
   ]
  },
  {
   "cell_type": "markdown",
   "metadata": {
    "slideshow": {
     "slide_type": "subslide"
    }
   },
   "source": [
    "### Finding a Hypothesis"
   ]
  },
  {
   "cell_type": "markdown",
   "metadata": {
    "slideshow": {
     "slide_type": "fragment"
    }
   },
   "source": [
    "Let us apply the scientific method to our Python program which removes HTML tags.  First of all, let us recall the problem – `remove_html_markup()` works for some inputs, but fails on others."
   ]
  },
  {
   "cell_type": "code",
   "execution_count": 39,
   "metadata": {
    "execution": {
     "iopub.execute_input": "2023-02-11T10:03:00.726195Z",
     "iopub.status.busy": "2023-02-11T10:03:00.725877Z",
     "iopub.status.idle": "2023-02-11T10:03:00.727138Z",
     "shell.execute_reply": "2023-02-11T10:03:00.727389Z"
    },
    "slideshow": {
     "slide_type": "fragment"
    }
   },
   "outputs": [
    {
     "name": "stdout",
     "output_type": "stream",
     "text": [
      "1  <b>foo</b>      foo\n",
      "2  <b>\"foo\"</b>    foo\n",
      "3  \"<b>foo</b>\"    <b>foo</b>\n",
      "4  <b id=\"bar\">foo</b> foo\n"
     ]
    }
   ],
   "source": [
    "for i, html in enumerate(['<b>foo</b>',\n",
    "                          '<b>\"foo\"</b>',\n",
    "                          '\"<b>foo</b>\"',\n",
    "                          '<b id=\"bar\">foo</b>']):\n",
    "    result = remove_html_markup(html)\n",
    "    print(\"%-2d %-15s %s\" % (i + 1, html, result))"
   ]
  },
  {
   "cell_type": "markdown",
   "metadata": {
    "slideshow": {
     "slide_type": "subslide"
    }
   },
   "source": [
    "Input #1 and #4 work as expected, the others do not. We can write these down in a table, such that we can always look back at our previous results:\n",
    "\n",
    "|Input|Expectation|Output|Outcome|\n",
    "|-----|-----------|------|-------|\n",
    "|`<b>foo</b>`|`foo`|`foo`|✔|\n",
    "|`<b>\"foo\"</b>`|`\"foo\"`|`foo`|✘|\n",
    "|`\"<b>foo</b>\"`|`\"foo\"`|`<b>foo</b>`|✘|\n",
    "|`<b id=\"bar\">foo</b>`|`foo`|`foo`|✔|\n"
   ]
  },
  {
   "cell_type": "code",
   "execution_count": 40,
   "metadata": {
    "execution": {
     "iopub.execute_input": "2023-02-11T10:03:00.733567Z",
     "iopub.status.busy": "2023-02-11T10:03:00.733148Z",
     "iopub.status.idle": "2023-02-11T10:03:00.735255Z",
     "shell.execute_reply": "2023-02-11T10:03:00.735457Z"
    },
    "slideshow": {
     "slide_type": "subslide"
    }
   },
   "outputs": [
    {
     "data": {
      "text/html": [
       "\n",
       "    \n",
       "    <script>\n",
       "    var bad_answers = new Map();\n",
       "\n",
       "    function answer(quiz_id) {\n",
       "        ans = 0;\n",
       "        for (i = 1;; i++) {\n",
       "            checkbox = document.getElementById(quiz_id + \"-\" + i.toString());\n",
       "            if (!checkbox)\n",
       "                break;\n",
       "            if (checkbox.checked)\n",
       "                ans |= (1 << i);\n",
       "        }\n",
       "        return ans;\n",
       "    }\n",
       "    function check_selection(quiz_id, correct_answer, multiple_choice, hint) {\n",
       "        given_answer = answer(quiz_id);\n",
       "        if (given_answer == correct_answer)\n",
       "        {\n",
       "            document.getElementById(quiz_id + \"-submit\").value = \"Correct!\";\n",
       "            document.getElementById(quiz_id + \"-hint\").innerHTML = \"\";\n",
       "\n",
       "            for (i = 1;; i++) {\n",
       "                checkbox = document.getElementById(quiz_id + \"-\" + i.toString());\n",
       "                label = document.getElementById(quiz_id + \"-\" + i.toString() + \"-label\")\n",
       "                if (!checkbox)\n",
       "                    break;\n",
       "    \n",
       "                if (checkbox.checked) {\n",
       "                    label.style.fontWeight = \"bold\";\n",
       "                }\n",
       "                else {\n",
       "                    label.style.textDecoration = \"line-through\";\n",
       "                }\n",
       "            }\n",
       "        }\n",
       "        else \n",
       "        {\n",
       "            document.getElementById(quiz_id + \"-submit\").value = \"Try again\";\n",
       "            \n",
       "            if (!bad_answers.has(quiz_id)) {\n",
       "                bad_answers.set(quiz_id, 1);\n",
       "            }\n",
       "            else {\n",
       "                bad_answers.set(quiz_id, bad_answers.get(quiz_id) + 1);\n",
       "            }\n",
       "\n",
       "            if (bad_answers.get(quiz_id) >= 2 && hint.length > 0) {\n",
       "                document.getElementById(quiz_id + \"-hint\").innerHTML = \n",
       "                    \"&nbsp;&nbsp;(Hint: <code>\" + hint + \"</code>)\";\n",
       "            }\n",
       "\n",
       "            if (!multiple_choice) {\n",
       "                for (i = 1;; i++) {\n",
       "                    checkbox = document.getElementById(quiz_id + \"-\" + i.toString());\n",
       "                    label = document.getElementById(quiz_id + \"-\" + i.toString() + \"-label\")\n",
       "\n",
       "                    if (!checkbox)\n",
       "                        break;\n",
       "                    if (checkbox.checked) {\n",
       "                        label.style.textDecoration = \"line-through\";\n",
       "                    }\n",
       "                }\n",
       "            }\n",
       "        }\n",
       "    }\n",
       "    function clear_selection(quiz_id) {\n",
       "        document.getElementById(quiz_id + \"-submit\").value = \"Submit\";\n",
       "        document.getElementById(quiz_id + \"-hint\").innerHTML = \"\";\n",
       "    }\n",
       "    </script>\n",
       "    \n",
       "    <div class=\"quiz\">\n",
       "    <h3 class=\"quiz_title\">Quiz</h3>\n",
       "    <p>\n",
       "    <div class=\"quiz_question\">From the difference between success and failure, we can already devise some observations about  what is wrong with the output. Which of these can we turn into general hypotheses?</div>\n",
       "    </p>\n",
       "    <p>\n",
       "    <div class=\"quiz_options\" title=\"Check all that apply.\">\n",
       "    \n",
       "        <input type=\"checkbox\" name=\"445a94a4-a9f3-11ed-b518-6298cf1a578f\" id=\"445a94a4-a9f3-11ed-b518-6298cf1a578f-1\" onclick=\"clear_selection('445a94a4-a9f3-11ed-b518-6298cf1a578f')\">\n",
       "        <label id=\"445a94a4-a9f3-11ed-b518-6298cf1a578f-1-label\" for=\"445a94a4-a9f3-11ed-b518-6298cf1a578f-1\">Double quotes (<code>\"</code>) are stripped from the tagged input.</label><br>\n",
       "    \n",
       "        <input type=\"checkbox\" name=\"445a94a4-a9f3-11ed-b518-6298cf1a578f\" id=\"445a94a4-a9f3-11ed-b518-6298cf1a578f-2\" onclick=\"clear_selection('445a94a4-a9f3-11ed-b518-6298cf1a578f')\">\n",
       "        <label id=\"445a94a4-a9f3-11ed-b518-6298cf1a578f-2-label\" for=\"445a94a4-a9f3-11ed-b518-6298cf1a578f-2\">Tags in double quotes are not stripped.</label><br>\n",
       "    \n",
       "        <input type=\"checkbox\" name=\"445a94a4-a9f3-11ed-b518-6298cf1a578f\" id=\"445a94a4-a9f3-11ed-b518-6298cf1a578f-3\" onclick=\"clear_selection('445a94a4-a9f3-11ed-b518-6298cf1a578f')\">\n",
       "        <label id=\"445a94a4-a9f3-11ed-b518-6298cf1a578f-3-label\" for=\"445a94a4-a9f3-11ed-b518-6298cf1a578f-3\">The tag <code>&lt;&gt;</code> is always stripped from the input.</label><br>\n",
       "    \n",
       "        <input type=\"checkbox\" name=\"445a94a4-a9f3-11ed-b518-6298cf1a578f\" id=\"445a94a4-a9f3-11ed-b518-6298cf1a578f-4\" onclick=\"clear_selection('445a94a4-a9f3-11ed-b518-6298cf1a578f')\">\n",
       "        <label id=\"445a94a4-a9f3-11ed-b518-6298cf1a578f-4-label\" for=\"445a94a4-a9f3-11ed-b518-6298cf1a578f-4\">Four-letter words are stripped.</label><br>\n",
       "    \n",
       "    </div>\n",
       "    </p>\n",
       "    <input id=\"445a94a4-a9f3-11ed-b518-6298cf1a578f-submit\" type=\"submit\" value=\"Submit\" onclick=\"check_selection('445a94a4-a9f3-11ed-b518-6298cf1a578f', 6, 1, '[298 % 33, 1234 % 616]')\">\n",
       "    <span class=\"quiz_hint\" id=\"445a94a4-a9f3-11ed-b518-6298cf1a578f-hint\"></span>\n",
       "    </div>\n",
       "    "
      ],
      "text/plain": [
       "<IPython.core.display.HTML object>"
      ]
     },
     "execution_count": 40,
     "metadata": {},
     "output_type": "execute_result"
    }
   ],
   "source": [
    "quiz(\"From the difference between success and failure,\"\n",
    "     \" we can already devise some observations about \"\n",
    "     \" what is wrong with the output.\"\n",
    "     \" Which of these can we turn into general hypotheses?\",\n",
    "    [\n",
    "        \"Double quotes (`\\\"`) are stripped from the tagged input.\",\n",
    "        \"Tags in double quotes are not stripped.\",\n",
    "        \"The tag `<>` is always stripped from the input.\",\n",
    "        \"Four-letter words are stripped.\"\n",
    "    ], '[298 % 33, 1234 % 616]')"
   ]
  },
  {
   "cell_type": "markdown",
   "metadata": {
    "slideshow": {
     "slide_type": "subslide"
    }
   },
   "source": [
    "### Testing a Hypothesis\n",
    "\n",
    "The hypotheses that remain are:\n",
    "\n",
    "1. Double quotes are stripped from the tagged input.\n",
    "2. Tags in double quotes are not stripped."
   ]
  },
  {
   "cell_type": "markdown",
   "metadata": {
    "slideshow": {
     "slide_type": "fragment"
    }
   },
   "source": [
    "These may be two separate issues, but chances are they are tied to each other.  Let's focus on 1., because it is simpler.  Does it hold for all inputs, even untagged ones?  Our hypothesis becomes\n",
    "\n",
    "1. Double quotes are stripped from the ~~tagged~~ input."
   ]
  },
  {
   "cell_type": "markdown",
   "metadata": {
    "slideshow": {
     "slide_type": "subslide"
    }
   },
   "source": [
    "Let's devise an experiment to validate this.  If we feed the string\n",
    "```html\n",
    "\"foo\"\n",
    "```\n",
    "(including the double quotes) into `remove_html_markup()`, we should obtain\n",
    "```html\n",
    "\"foo\"\n",
    "```\n",
    "as result – that is, the output should be the unchanged input. However, if our hypothesis 1. is correct, we should obtain\n",
    "```html\n",
    "foo\n",
    "```\n",
    "as result – that is, \"Double quotes are stripped from the input\" as predicted by the hypothesis."
   ]
  },
  {
   "cell_type": "markdown",
   "metadata": {
    "slideshow": {
     "slide_type": "subslide"
    }
   },
   "source": [
    "We can very easily test this hypothesis:"
   ]
  },
  {
   "cell_type": "code",
   "execution_count": 41,
   "metadata": {
    "execution": {
     "iopub.execute_input": "2023-02-11T10:03:00.737940Z",
     "iopub.status.busy": "2023-02-11T10:03:00.737505Z",
     "iopub.status.idle": "2023-02-11T10:03:00.739341Z",
     "shell.execute_reply": "2023-02-11T10:03:00.739783Z"
    },
    "slideshow": {
     "slide_type": "fragment"
    }
   },
   "outputs": [
    {
     "data": {
      "text/plain": [
       "'foo'"
      ]
     },
     "execution_count": 41,
     "metadata": {},
     "output_type": "execute_result"
    }
   ],
   "source": [
    "remove_html_markup('\"foo\"')"
   ]
  },
  {
   "cell_type": "markdown",
   "metadata": {
    "slideshow": {
     "slide_type": "fragment"
    }
   },
   "source": [
    "Our hypothesis is confirmed! We can add this to our list of observations."
   ]
  },
  {
   "cell_type": "markdown",
   "metadata": {
    "slideshow": {
     "slide_type": "subslide"
    }
   },
   "source": [
    "|Input|Expectation|Output|Outcome|\n",
    "|-----|-----------|------|-------|\n",
    "|`<b>foo</b>`|`foo`|`foo`|✔|\n",
    "|`<b>\"foo\"</b>`|`\"foo\"`|`foo`|✘|\n",
    "|`\"<b>foo</b>\"`|`\"foo\"`|`<b>foo</b>`|✘|\n",
    "|`<b id=\"bar\">foo</b>`|`foo`|`foo`|✔|\n",
    "|`\"foo\"`|`\"foo\"`|`foo`|✘|\n"
   ]
  },
  {
   "cell_type": "markdown",
   "metadata": {
    "slideshow": {
     "slide_type": "fragment"
    }
   },
   "source": [
    "You can try out the hypothesis with more inputs – and it remains valid. Any non-markup input that contains double quotes will have these stripped."
   ]
  },
  {
   "cell_type": "markdown",
   "metadata": {
    "slideshow": {
     "slide_type": "subslide"
    }
   },
   "source": [
    "Where does that quote-stripping come from?  This is where we need to explore the cause-effect chain.  The only place in `remove_html_markup()` where quotes are handled is this line:\n",
    "\n",
    "```python\n",
    "elif c == '\"' or c == \"'\" and tag:\n",
    "    quote = not quote\n",
    "```\n",
    "\n",
    "So, quotes should be removed only if `tag` is set. However, `tag` can be set only if the input contains a markup tag, which is not the case for a simple input like `\"foo\"`. Hence, what we observe is actually _impossible._ Yet, it happens."
   ]
  },
  {
   "cell_type": "markdown",
   "metadata": {
    "slideshow": {
     "slide_type": "subslide"
    }
   },
   "source": [
    "### Refining a Hypothesis\n",
    "\n",
    "Debugging is a game of falsifying assumptions. You assume the code works – it doesn't. You assume the `tag` flag cannot be set – yet it may be. What do we do? Again, we create a hypothesis:\n",
    "\n",
    "1. The error is due to `tag` being set."
   ]
  },
  {
   "cell_type": "markdown",
   "metadata": {
    "slideshow": {
     "slide_type": "subslide"
    }
   },
   "source": [
    "How do we know whether tag is being set?  Let me introduce one of the most powerful debugging tools ever invented, the `assert` statement.  The statement\n",
    "```python\n",
    "assert cond\n",
    "```\n",
    "evaluates the given condition `cond` and\n",
    "\n",
    "* if it holds: proceed as usual\n",
    "* if `cond` does not hold: throw an exception\n",
    "\n",
    "An `assert` statement _encodes our assumptions_ and as such, should never fail. If it does, well, then something is wrong.\n",
    "Furthermore, `assert` statements break the cause-effect chain into smaller pieces. The observable failure occurs earlier in\n",
    "the program execution and thus closer to the initial fault."
   ]
  },
  {
   "cell_type": "markdown",
   "metadata": {
    "slideshow": {
     "slide_type": "subslide"
    }
   },
   "source": [
    "Using `assert`, we can check the value of `tag` all through the loop:"
   ]
  },
  {
   "cell_type": "code",
   "execution_count": 42,
   "metadata": {
    "execution": {
     "iopub.execute_input": "2023-02-11T10:03:00.743443Z",
     "iopub.status.busy": "2023-02-11T10:03:00.743027Z",
     "iopub.status.idle": "2023-02-11T10:03:00.744414Z",
     "shell.execute_reply": "2023-02-11T10:03:00.744741Z"
    },
    "slideshow": {
     "slide_type": "subslide"
    }
   },
   "outputs": [],
   "source": [
    "def remove_html_markup_with_tag_assert(s):  # type: ignore\n",
    "    tag = False\n",
    "    quote = False\n",
    "    out = \"\"\n",
    "\n",
    "    for c in s:\n",
    "        assert not tag  # <=== Just added\n",
    "\n",
    "        if c == '<' and not quote:\n",
    "            tag = True\n",
    "        elif c == '>' and not quote:\n",
    "            tag = False\n",
    "        elif c == '\"' or c == \"'\" and tag:\n",
    "            quote = not quote\n",
    "        elif not tag:\n",
    "            out = out + c\n",
    "\n",
    "    return out"
   ]
  },
  {
   "cell_type": "markdown",
   "metadata": {
    "slideshow": {
     "slide_type": "subslide"
    }
   },
   "source": [
    "Our expectation is that this assertion would fail. So, do we actually get an exception? Try it out for yourself by uncommenting the following line:"
   ]
  },
  {
   "cell_type": "code",
   "execution_count": 43,
   "metadata": {
    "execution": {
     "iopub.execute_input": "2023-02-11T10:03:00.748374Z",
     "iopub.status.busy": "2023-02-11T10:03:00.747418Z",
     "iopub.status.idle": "2023-02-11T10:03:00.750966Z",
     "shell.execute_reply": "2023-02-11T10:03:00.751731Z"
    },
    "slideshow": {
     "slide_type": "fragment"
    }
   },
   "outputs": [],
   "source": [
    "# remove_html_markup_with_tag_assert('\"foo\"')"
   ]
  },
  {
   "cell_type": "code",
   "execution_count": 44,
   "metadata": {
    "execution": {
     "iopub.execute_input": "2023-02-11T10:03:00.756660Z",
     "iopub.status.busy": "2023-02-11T10:03:00.756060Z",
     "iopub.status.idle": "2023-02-11T10:03:00.758607Z",
     "shell.execute_reply": "2023-02-11T10:03:00.758839Z"
    },
    "slideshow": {
     "slide_type": "fragment"
    }
   },
   "outputs": [
    {
     "data": {
      "text/html": [
       "\n",
       "    \n",
       "    <script>\n",
       "    var bad_answers = new Map();\n",
       "\n",
       "    function answer(quiz_id) {\n",
       "        ans = 0;\n",
       "        for (i = 1;; i++) {\n",
       "            checkbox = document.getElementById(quiz_id + \"-\" + i.toString());\n",
       "            if (!checkbox)\n",
       "                break;\n",
       "            if (checkbox.checked)\n",
       "                ans |= (1 << i);\n",
       "        }\n",
       "        return ans;\n",
       "    }\n",
       "    function check_selection(quiz_id, correct_answer, multiple_choice, hint) {\n",
       "        given_answer = answer(quiz_id);\n",
       "        if (given_answer == correct_answer)\n",
       "        {\n",
       "            document.getElementById(quiz_id + \"-submit\").value = \"Correct!\";\n",
       "            document.getElementById(quiz_id + \"-hint\").innerHTML = \"\";\n",
       "\n",
       "            for (i = 1;; i++) {\n",
       "                checkbox = document.getElementById(quiz_id + \"-\" + i.toString());\n",
       "                label = document.getElementById(quiz_id + \"-\" + i.toString() + \"-label\")\n",
       "                if (!checkbox)\n",
       "                    break;\n",
       "    \n",
       "                if (checkbox.checked) {\n",
       "                    label.style.fontWeight = \"bold\";\n",
       "                }\n",
       "                else {\n",
       "                    label.style.textDecoration = \"line-through\";\n",
       "                }\n",
       "            }\n",
       "        }\n",
       "        else \n",
       "        {\n",
       "            document.getElementById(quiz_id + \"-submit\").value = \"Try again\";\n",
       "            \n",
       "            if (!bad_answers.has(quiz_id)) {\n",
       "                bad_answers.set(quiz_id, 1);\n",
       "            }\n",
       "            else {\n",
       "                bad_answers.set(quiz_id, bad_answers.get(quiz_id) + 1);\n",
       "            }\n",
       "\n",
       "            if (bad_answers.get(quiz_id) >= 2 && hint.length > 0) {\n",
       "                document.getElementById(quiz_id + \"-hint\").innerHTML = \n",
       "                    \"&nbsp;&nbsp;(Hint: <code>\" + hint + \"</code>)\";\n",
       "            }\n",
       "\n",
       "            if (!multiple_choice) {\n",
       "                for (i = 1;; i++) {\n",
       "                    checkbox = document.getElementById(quiz_id + \"-\" + i.toString());\n",
       "                    label = document.getElementById(quiz_id + \"-\" + i.toString() + \"-label\")\n",
       "\n",
       "                    if (!checkbox)\n",
       "                        break;\n",
       "                    if (checkbox.checked) {\n",
       "                        label.style.textDecoration = \"line-through\";\n",
       "                    }\n",
       "                }\n",
       "            }\n",
       "        }\n",
       "    }\n",
       "    function clear_selection(quiz_id) {\n",
       "        document.getElementById(quiz_id + \"-submit\").value = \"Submit\";\n",
       "        document.getElementById(quiz_id + \"-hint\").innerHTML = \"\";\n",
       "    }\n",
       "    </script>\n",
       "    \n",
       "    <div class=\"quiz\">\n",
       "    <h3 class=\"quiz_title\">Quiz</h3>\n",
       "    <p>\n",
       "    <div class=\"quiz_question\">What happens after inserting the above assertion?</div>\n",
       "    </p>\n",
       "    <p>\n",
       "    <div class=\"quiz_options\" title=\"Pick a choice.\">\n",
       "    \n",
       "        <input type=\"radio\" name=\"445e6458-a9f3-11ed-b518-6298cf1a578f\" id=\"445e6458-a9f3-11ed-b518-6298cf1a578f-1\" onclick=\"clear_selection('445e6458-a9f3-11ed-b518-6298cf1a578f')\">\n",
       "        <label id=\"445e6458-a9f3-11ed-b518-6298cf1a578f-1-label\" for=\"445e6458-a9f3-11ed-b518-6298cf1a578f-1\">The program raises an exception. (i.e., <code>tag</code> is set)</label><br>\n",
       "    \n",
       "        <input type=\"radio\" name=\"445e6458-a9f3-11ed-b518-6298cf1a578f\" id=\"445e6458-a9f3-11ed-b518-6298cf1a578f-2\" onclick=\"clear_selection('445e6458-a9f3-11ed-b518-6298cf1a578f')\">\n",
       "        <label id=\"445e6458-a9f3-11ed-b518-6298cf1a578f-2-label\" for=\"445e6458-a9f3-11ed-b518-6298cf1a578f-2\">The output is as before, i.e., <code>foo</code> without quotes. (which means that <code>tag</code> is not set)</label><br>\n",
       "    \n",
       "    </div>\n",
       "    </p>\n",
       "    <input id=\"445e6458-a9f3-11ed-b518-6298cf1a578f-submit\" type=\"submit\" value=\"Submit\" onclick=\"check_selection('445e6458-a9f3-11ed-b518-6298cf1a578f', 4, 0, '')\">\n",
       "    <span class=\"quiz_hint\" id=\"445e6458-a9f3-11ed-b518-6298cf1a578f-hint\"></span>\n",
       "    </div>\n",
       "    "
      ],
      "text/plain": [
       "<IPython.core.display.HTML object>"
      ]
     },
     "execution_count": 44,
     "metadata": {},
     "output_type": "execute_result"
    }
   ],
   "source": [
    "quiz(\"What happens after inserting the above assertion?\",\n",
    "    [\n",
    "        \"The program raises an exception. (i.e., `tag` is set)\",\n",
    "        \"The output is as before, i.e., `foo` without quotes.\"\n",
    "        \" (which means that `tag` is not set)\"\n",
    "    ], 2)"
   ]
  },
  {
   "cell_type": "markdown",
   "metadata": {
    "slideshow": {
     "slide_type": "fragment"
    }
   },
   "source": [
    "Here's the solution:"
   ]
  },
  {
   "cell_type": "code",
   "execution_count": 45,
   "metadata": {
    "execution": {
     "iopub.execute_input": "2023-02-11T10:03:00.762630Z",
     "iopub.status.busy": "2023-02-11T10:03:00.761916Z",
     "iopub.status.idle": "2023-02-11T10:03:00.764637Z",
     "shell.execute_reply": "2023-02-11T10:03:00.764845Z"
    },
    "slideshow": {
     "slide_type": "subslide"
    }
   },
   "outputs": [
    {
     "data": {
      "text/plain": [
       "'foo'"
      ]
     },
     "execution_count": 45,
     "metadata": {},
     "output_type": "execute_result"
    }
   ],
   "source": [
    "with ExpectError():\n",
    "    result = remove_html_markup_with_tag_assert('\"foo\"')\n",
    "result"
   ]
  },
  {
   "cell_type": "markdown",
   "metadata": {
    "slideshow": {
     "slide_type": "subslide"
    }
   },
   "source": [
    "### Refuting a Hypothesis\n",
    "\n",
    "We did not get an exception, hence we reject our hypothesis:\n",
    "\n",
    "1. ~~The error is due to `tag` being set.~~\n"
   ]
  },
  {
   "cell_type": "markdown",
   "metadata": {
    "slideshow": {
     "slide_type": "subslide"
    }
   },
   "source": [
    "Again, let's go back to the only place in our code where quotes are handled:\n",
    "\n",
    "```python\n",
    "elif c == '\"' or c == \"'\" and tag:\n",
    "    quote = not quote\n",
    "```\n",
    "\n",
    "Because of the assertion, we already know that `tag` is always False.  Hence, this condition should never hold either."
   ]
  },
  {
   "cell_type": "markdown",
   "metadata": {
    "slideshow": {
     "slide_type": "subslide"
    }
   },
   "source": [
    "But maybe there's something wrong with the condition such that it holds? Here's our hypothesis:\n",
    "\n",
    "1. The error is due to the quote condition evaluating to true\n"
   ]
  },
  {
   "cell_type": "markdown",
   "metadata": {
    "slideshow": {
     "slide_type": "fragment"
    }
   },
   "source": [
    "If the condition evaluates to true, then `quote` should be set.  We could now go and assert that `quote` is false; but we only care about the condition.  So we insert an assertion that assumes that setting the code setting the `quote` flag is never reached:"
   ]
  },
  {
   "cell_type": "code",
   "execution_count": 46,
   "metadata": {
    "execution": {
     "iopub.execute_input": "2023-02-11T10:03:00.767933Z",
     "iopub.status.busy": "2023-02-11T10:03:00.767588Z",
     "iopub.status.idle": "2023-02-11T10:03:00.768875Z",
     "shell.execute_reply": "2023-02-11T10:03:00.769152Z"
    },
    "slideshow": {
     "slide_type": "subslide"
    }
   },
   "outputs": [],
   "source": [
    "def remove_html_markup_with_quote_assert(s):  # type: ignore\n",
    "    tag = False\n",
    "    quote = False\n",
    "    out = \"\"\n",
    "\n",
    "    for c in s:\n",
    "        if c == '<' and not quote:\n",
    "            tag = True\n",
    "        elif c == '>' and not quote:\n",
    "            tag = False\n",
    "        elif c == '\"' or c == \"'\" and tag:\n",
    "            assert False  # <=== Just added\n",
    "            quote = not quote\n",
    "        elif not tag:\n",
    "            out = out + c\n",
    "\n",
    "    return out"
   ]
  },
  {
   "cell_type": "markdown",
   "metadata": {
    "slideshow": {
     "slide_type": "subslide"
    }
   },
   "source": [
    "Our expectation this time again is that the assertion fails. So, do we get an exception this time? Try it out for yourself by uncommenting the following line:"
   ]
  },
  {
   "cell_type": "code",
   "execution_count": 47,
   "metadata": {
    "execution": {
     "iopub.execute_input": "2023-02-11T10:03:00.771420Z",
     "iopub.status.busy": "2023-02-11T10:03:00.771043Z",
     "iopub.status.idle": "2023-02-11T10:03:00.772302Z",
     "shell.execute_reply": "2023-02-11T10:03:00.772516Z"
    },
    "slideshow": {
     "slide_type": "fragment"
    }
   },
   "outputs": [],
   "source": [
    "# remove_html_markup_with_quote_assert('\"foo\"')"
   ]
  },
  {
   "cell_type": "code",
   "execution_count": 48,
   "metadata": {
    "execution": {
     "iopub.execute_input": "2023-02-11T10:03:00.776335Z",
     "iopub.status.busy": "2023-02-11T10:03:00.775912Z",
     "iopub.status.idle": "2023-02-11T10:03:00.777468Z",
     "shell.execute_reply": "2023-02-11T10:03:00.777788Z"
    },
    "slideshow": {
     "slide_type": "fragment"
    }
   },
   "outputs": [
    {
     "data": {
      "text/html": [
       "\n",
       "    \n",
       "    <script>\n",
       "    var bad_answers = new Map();\n",
       "\n",
       "    function answer(quiz_id) {\n",
       "        ans = 0;\n",
       "        for (i = 1;; i++) {\n",
       "            checkbox = document.getElementById(quiz_id + \"-\" + i.toString());\n",
       "            if (!checkbox)\n",
       "                break;\n",
       "            if (checkbox.checked)\n",
       "                ans |= (1 << i);\n",
       "        }\n",
       "        return ans;\n",
       "    }\n",
       "    function check_selection(quiz_id, correct_answer, multiple_choice, hint) {\n",
       "        given_answer = answer(quiz_id);\n",
       "        if (given_answer == correct_answer)\n",
       "        {\n",
       "            document.getElementById(quiz_id + \"-submit\").value = \"Correct!\";\n",
       "            document.getElementById(quiz_id + \"-hint\").innerHTML = \"\";\n",
       "\n",
       "            for (i = 1;; i++) {\n",
       "                checkbox = document.getElementById(quiz_id + \"-\" + i.toString());\n",
       "                label = document.getElementById(quiz_id + \"-\" + i.toString() + \"-label\")\n",
       "                if (!checkbox)\n",
       "                    break;\n",
       "    \n",
       "                if (checkbox.checked) {\n",
       "                    label.style.fontWeight = \"bold\";\n",
       "                }\n",
       "                else {\n",
       "                    label.style.textDecoration = \"line-through\";\n",
       "                }\n",
       "            }\n",
       "        }\n",
       "        else \n",
       "        {\n",
       "            document.getElementById(quiz_id + \"-submit\").value = \"Try again\";\n",
       "            \n",
       "            if (!bad_answers.has(quiz_id)) {\n",
       "                bad_answers.set(quiz_id, 1);\n",
       "            }\n",
       "            else {\n",
       "                bad_answers.set(quiz_id, bad_answers.get(quiz_id) + 1);\n",
       "            }\n",
       "\n",
       "            if (bad_answers.get(quiz_id) >= 2 && hint.length > 0) {\n",
       "                document.getElementById(quiz_id + \"-hint\").innerHTML = \n",
       "                    \"&nbsp;&nbsp;(Hint: <code>\" + hint + \"</code>)\";\n",
       "            }\n",
       "\n",
       "            if (!multiple_choice) {\n",
       "                for (i = 1;; i++) {\n",
       "                    checkbox = document.getElementById(quiz_id + \"-\" + i.toString());\n",
       "                    label = document.getElementById(quiz_id + \"-\" + i.toString() + \"-label\")\n",
       "\n",
       "                    if (!checkbox)\n",
       "                        break;\n",
       "                    if (checkbox.checked) {\n",
       "                        label.style.textDecoration = \"line-through\";\n",
       "                    }\n",
       "                }\n",
       "            }\n",
       "        }\n",
       "    }\n",
       "    function clear_selection(quiz_id) {\n",
       "        document.getElementById(quiz_id + \"-submit\").value = \"Submit\";\n",
       "        document.getElementById(quiz_id + \"-hint\").innerHTML = \"\";\n",
       "    }\n",
       "    </script>\n",
       "    \n",
       "    <div class=\"quiz\">\n",
       "    <h3 class=\"quiz_title\">Quiz</h3>\n",
       "    <p>\n",
       "    <div class=\"quiz_question\">What happens after inserting the 'assert' tag?</div>\n",
       "    </p>\n",
       "    <p>\n",
       "    <div class=\"quiz_options\" title=\"Pick a choice.\">\n",
       "    \n",
       "        <input type=\"radio\" name=\"44617ce2-a9f3-11ed-b518-6298cf1a578f\" id=\"44617ce2-a9f3-11ed-b518-6298cf1a578f-1\" onclick=\"clear_selection('44617ce2-a9f3-11ed-b518-6298cf1a578f')\">\n",
       "        <label id=\"44617ce2-a9f3-11ed-b518-6298cf1a578f-1-label\" for=\"44617ce2-a9f3-11ed-b518-6298cf1a578f-1\">The program raises an exception (i.e., the quote condition holds)</label><br>\n",
       "    \n",
       "        <input type=\"radio\" name=\"44617ce2-a9f3-11ed-b518-6298cf1a578f\" id=\"44617ce2-a9f3-11ed-b518-6298cf1a578f-2\" onclick=\"clear_selection('44617ce2-a9f3-11ed-b518-6298cf1a578f')\">\n",
       "        <label id=\"44617ce2-a9f3-11ed-b518-6298cf1a578f-2-label\" for=\"44617ce2-a9f3-11ed-b518-6298cf1a578f-2\">The output is still foo (i.e., the quote condition does not hold)</label><br>\n",
       "    \n",
       "    </div>\n",
       "    </p>\n",
       "    <input id=\"44617ce2-a9f3-11ed-b518-6298cf1a578f-submit\" type=\"submit\" value=\"Submit\" onclick=\"check_selection('44617ce2-a9f3-11ed-b518-6298cf1a578f', 2, 0, '')\">\n",
       "    <span class=\"quiz_hint\" id=\"44617ce2-a9f3-11ed-b518-6298cf1a578f-hint\"></span>\n",
       "    </div>\n",
       "    "
      ],
      "text/plain": [
       "<IPython.core.display.HTML object>"
      ]
     },
     "execution_count": 48,
     "metadata": {},
     "output_type": "execute_result"
    }
   ],
   "source": [
    "quiz(\"What happens after inserting the 'assert' tag?\",\n",
    "    [\n",
    "        \"The program raises an exception (i.e., the quote condition holds)\",\n",
    "        \"The output is still foo (i.e., the quote condition does not hold)\"\n",
    "    ], 29 % 7)"
   ]
  },
  {
   "cell_type": "markdown",
   "metadata": {
    "slideshow": {
     "slide_type": "fragment"
    }
   },
   "source": [
    "Here's what happens now that we have the `assert` tag:"
   ]
  },
  {
   "cell_type": "code",
   "execution_count": 49,
   "metadata": {
    "execution": {
     "iopub.execute_input": "2023-02-11T10:03:00.779774Z",
     "iopub.status.busy": "2023-02-11T10:03:00.779444Z",
     "iopub.status.idle": "2023-02-11T10:03:00.780841Z",
     "shell.execute_reply": "2023-02-11T10:03:00.781081Z"
    },
    "slideshow": {
     "slide_type": "subslide"
    }
   },
   "outputs": [
    {
     "name": "stderr",
     "output_type": "stream",
     "text": [
      "Traceback (most recent call last):\n",
      "  File \"/var/folders/n2/xd9445p97rb3xh7m1dfx8_4h0006ts/T/ipykernel_358/904218512.py\", line 2, in <cell line: 1>\n",
      "    result = remove_html_markup_with_quote_assert('\"foo\"')\n",
      "  File \"/var/folders/n2/xd9445p97rb3xh7m1dfx8_4h0006ts/T/ipykernel_358/2877654332.py\", line 12, in remove_html_markup_with_quote_assert\n",
      "    assert False  # <=== Just added\n",
      "AssertionError (expected)\n"
     ]
    }
   ],
   "source": [
    "with ExpectError():\n",
    "    result = remove_html_markup_with_quote_assert('\"foo\"')"
   ]
  },
  {
   "cell_type": "markdown",
   "metadata": {
    "slideshow": {
     "slide_type": "subslide"
    }
   },
   "source": [
    "From this observation, we can deduce that our hypothesis is _confirmed_:\n",
    "\n",
    "1. The error is due to the quote condition evaluating to true (CONFIRMED)\n",
    "\n",
    "and the _condition is actually faulty._ It evaluates to True although `tag` is always False:\n",
    "```python\n",
    "elif c == '\"' or c == \"'\" and tag:\n",
    "    quote = not quote\n",
    "```\n",
    "But this condition holds for single and double quotes.  Is there a difference?"
   ]
  },
  {
   "cell_type": "markdown",
   "metadata": {
    "slideshow": {
     "slide_type": "subslide"
    }
   },
   "source": [
    "Let us see whether our observations generalize towards general quotes:\n",
    "\n",
    "1. ~~Double~~ quotes are stripped from the input.\n"
   ]
  },
  {
   "cell_type": "markdown",
   "metadata": {
    "slideshow": {
     "slide_type": "fragment"
    }
   },
   "source": [
    "We can verify these hypotheses with an additional experiment.  We go back to our original implementation (without any asserts), and then check it:"
   ]
  },
  {
   "cell_type": "code",
   "execution_count": 50,
   "metadata": {
    "execution": {
     "iopub.execute_input": "2023-02-11T10:03:00.782966Z",
     "iopub.status.busy": "2023-02-11T10:03:00.782624Z",
     "iopub.status.idle": "2023-02-11T10:03:00.784526Z",
     "shell.execute_reply": "2023-02-11T10:03:00.784867Z"
    },
    "slideshow": {
     "slide_type": "fragment"
    }
   },
   "outputs": [
    {
     "data": {
      "text/plain": [
       "\"'foo'\""
      ]
     },
     "execution_count": 50,
     "metadata": {},
     "output_type": "execute_result"
    }
   ],
   "source": [
    "remove_html_markup(\"'foo'\")"
   ]
  },
  {
   "cell_type": "markdown",
   "metadata": {
    "slideshow": {
     "slide_type": "subslide"
    }
   },
   "source": [
    "Surprise: Our hypothesis is rejected and we can add another observation to our table:\n",
    "\n",
    "|Input|Expectation|Output|Outcome|\n",
    "|-----|-----------|------|-------|\n",
    "|`'foo'`|`'foo'`|`'foo'`|✔|\n",
    "\n",
    "So, the condition\n",
    "\n",
    "* becomes True when a double quote is seen\n",
    "* becomes False (as it should) with single quotes"
   ]
  },
  {
   "cell_type": "markdown",
   "metadata": {
    "slideshow": {
     "slide_type": "subslide"
    }
   },
   "source": [
    "At this point, you should have enough material to solve the problem.  How do we have to fix the condition? Here are four alternatives:\n",
    "\n",
    "```python\n",
    "c == \"\" or c == '' and tag        # Choice 1\n",
    "c == '\"' or c == \"'\" and not tag  # Choice 2\n",
    "(c == '\"' or c == \"'\") and tag    # Choice 3\n",
    "...                               # Something else\n",
    "```"
   ]
  },
  {
   "cell_type": "code",
   "execution_count": 51,
   "metadata": {
    "execution": {
     "iopub.execute_input": "2023-02-11T10:03:00.789111Z",
     "iopub.status.busy": "2023-02-11T10:03:00.788712Z",
     "iopub.status.idle": "2023-02-11T10:03:00.790646Z",
     "shell.execute_reply": "2023-02-11T10:03:00.791283Z"
    },
    "slideshow": {
     "slide_type": "subslide"
    }
   },
   "outputs": [
    {
     "data": {
      "text/html": [
       "\n",
       "    \n",
       "    <script>\n",
       "    var bad_answers = new Map();\n",
       "\n",
       "    function answer(quiz_id) {\n",
       "        ans = 0;\n",
       "        for (i = 1;; i++) {\n",
       "            checkbox = document.getElementById(quiz_id + \"-\" + i.toString());\n",
       "            if (!checkbox)\n",
       "                break;\n",
       "            if (checkbox.checked)\n",
       "                ans |= (1 << i);\n",
       "        }\n",
       "        return ans;\n",
       "    }\n",
       "    function check_selection(quiz_id, correct_answer, multiple_choice, hint) {\n",
       "        given_answer = answer(quiz_id);\n",
       "        if (given_answer == correct_answer)\n",
       "        {\n",
       "            document.getElementById(quiz_id + \"-submit\").value = \"Correct!\";\n",
       "            document.getElementById(quiz_id + \"-hint\").innerHTML = \"\";\n",
       "\n",
       "            for (i = 1;; i++) {\n",
       "                checkbox = document.getElementById(quiz_id + \"-\" + i.toString());\n",
       "                label = document.getElementById(quiz_id + \"-\" + i.toString() + \"-label\")\n",
       "                if (!checkbox)\n",
       "                    break;\n",
       "    \n",
       "                if (checkbox.checked) {\n",
       "                    label.style.fontWeight = \"bold\";\n",
       "                }\n",
       "                else {\n",
       "                    label.style.textDecoration = \"line-through\";\n",
       "                }\n",
       "            }\n",
       "        }\n",
       "        else \n",
       "        {\n",
       "            document.getElementById(quiz_id + \"-submit\").value = \"Try again\";\n",
       "            \n",
       "            if (!bad_answers.has(quiz_id)) {\n",
       "                bad_answers.set(quiz_id, 1);\n",
       "            }\n",
       "            else {\n",
       "                bad_answers.set(quiz_id, bad_answers.get(quiz_id) + 1);\n",
       "            }\n",
       "\n",
       "            if (bad_answers.get(quiz_id) >= 2 && hint.length > 0) {\n",
       "                document.getElementById(quiz_id + \"-hint\").innerHTML = \n",
       "                    \"&nbsp;&nbsp;(Hint: <code>\" + hint + \"</code>)\";\n",
       "            }\n",
       "\n",
       "            if (!multiple_choice) {\n",
       "                for (i = 1;; i++) {\n",
       "                    checkbox = document.getElementById(quiz_id + \"-\" + i.toString());\n",
       "                    label = document.getElementById(quiz_id + \"-\" + i.toString() + \"-label\")\n",
       "\n",
       "                    if (!checkbox)\n",
       "                        break;\n",
       "                    if (checkbox.checked) {\n",
       "                        label.style.textDecoration = \"line-through\";\n",
       "                    }\n",
       "                }\n",
       "            }\n",
       "        }\n",
       "    }\n",
       "    function clear_selection(quiz_id) {\n",
       "        document.getElementById(quiz_id + \"-submit\").value = \"Submit\";\n",
       "        document.getElementById(quiz_id + \"-hint\").innerHTML = \"\";\n",
       "    }\n",
       "    </script>\n",
       "    \n",
       "    <div class=\"quiz\">\n",
       "    <h3 class=\"quiz_title\">Quiz</h3>\n",
       "    <p>\n",
       "    <div class=\"quiz_question\">How should the condition read?</div>\n",
       "    </p>\n",
       "    <p>\n",
       "    <div class=\"quiz_options\" title=\"Pick a choice.\">\n",
       "    \n",
       "        <input type=\"radio\" name=\"446363e0-a9f3-11ed-b518-6298cf1a578f\" id=\"446363e0-a9f3-11ed-b518-6298cf1a578f-1\" onclick=\"clear_selection('446363e0-a9f3-11ed-b518-6298cf1a578f')\">\n",
       "        <label id=\"446363e0-a9f3-11ed-b518-6298cf1a578f-1-label\" for=\"446363e0-a9f3-11ed-b518-6298cf1a578f-1\"><code>c == \"\" or c == '' and tag</code> (Choice 1)</label><br>\n",
       "    \n",
       "        <input type=\"radio\" name=\"446363e0-a9f3-11ed-b518-6298cf1a578f\" id=\"446363e0-a9f3-11ed-b518-6298cf1a578f-2\" onclick=\"clear_selection('446363e0-a9f3-11ed-b518-6298cf1a578f')\">\n",
       "        <label id=\"446363e0-a9f3-11ed-b518-6298cf1a578f-2-label\" for=\"446363e0-a9f3-11ed-b518-6298cf1a578f-2\"><code>c == '\"' or c == \"'\" and not tag</code> (Choice 2)</label><br>\n",
       "    \n",
       "        <input type=\"radio\" name=\"446363e0-a9f3-11ed-b518-6298cf1a578f\" id=\"446363e0-a9f3-11ed-b518-6298cf1a578f-3\" onclick=\"clear_selection('446363e0-a9f3-11ed-b518-6298cf1a578f')\">\n",
       "        <label id=\"446363e0-a9f3-11ed-b518-6298cf1a578f-3-label\" for=\"446363e0-a9f3-11ed-b518-6298cf1a578f-3\"><code>(c == '\"' or c == \"'\") and tag</code> (Choice 3)</label><br>\n",
       "    \n",
       "        <input type=\"radio\" name=\"446363e0-a9f3-11ed-b518-6298cf1a578f\" id=\"446363e0-a9f3-11ed-b518-6298cf1a578f-4\" onclick=\"clear_selection('446363e0-a9f3-11ed-b518-6298cf1a578f')\">\n",
       "        <label id=\"446363e0-a9f3-11ed-b518-6298cf1a578f-4-label\" for=\"446363e0-a9f3-11ed-b518-6298cf1a578f-4\">Something else</label><br>\n",
       "    \n",
       "    </div>\n",
       "    </p>\n",
       "    <input id=\"446363e0-a9f3-11ed-b518-6298cf1a578f-submit\" type=\"submit\" value=\"Submit\" onclick=\"check_selection('446363e0-a9f3-11ed-b518-6298cf1a578f', 8, 0, '399 % 4')\">\n",
       "    <span class=\"quiz_hint\" id=\"446363e0-a9f3-11ed-b518-6298cf1a578f-hint\"></span>\n",
       "    </div>\n",
       "    "
      ],
      "text/plain": [
       "<IPython.core.display.HTML object>"
      ]
     },
     "execution_count": 51,
     "metadata": {},
     "output_type": "execute_result"
    }
   ],
   "source": [
    "quiz(\"How should the condition read?\",\n",
    "     [\n",
    "         '''`c == \"\" or c == '' and tag` (Choice 1)''',\n",
    "         '''`c == '\"' or c == \"'\" and not tag` (Choice 2)''',\n",
    "         '''`(c == '\"' or c == \"'\") and tag` (Choice 3)''',\n",
    "         \"Something else\"\n",
    "     ],\n",
    "     '399 % 4')"
   ]
  },
  {
   "cell_type": "markdown",
   "metadata": {
    "slideshow": {
     "slide_type": "slide"
    }
   },
   "source": [
    "## Fixing the Bug"
   ]
  },
  {
   "cell_type": "markdown",
   "metadata": {
    "slideshow": {
     "slide_type": "fragment"
    }
   },
   "source": [
    "So, you have spotted the defect: In Python (and most other languages), `and` takes precedence over `or`, which is why the condition is wrong.  It should read:\n",
    "\n",
    "```python\n",
    "(c == '\"' or c == \"'\") and tag\n",
    "```\n",
    "\n",
    "(Actually, good programmers rarely depend on precedence; it is considered good style to use parentheses lavishly.)"
   ]
  },
  {
   "cell_type": "markdown",
   "metadata": {
    "slideshow": {
     "slide_type": "subslide"
    }
   },
   "source": [
    "So, our hypothesis now has become\n",
    "\n",
    "1. The error is due to the `quote` condition evaluating to True\n"
   ]
  },
  {
   "cell_type": "markdown",
   "metadata": {
    "slideshow": {
     "slide_type": "subslide"
    }
   },
   "source": [
    "Is this our final hypothesis?  We can check our earlier examples whether they should now work well:\n",
    "\n",
    "\n",
    "|Input|Expectation|Output|Outcome|\n",
    "|-----|-----------|------|-------|\n",
    "|`<b>foo</b>`|`foo`|`foo`|✔|\n",
    "|`<b>\"foo\"</b>`|`\"foo\"`|`foo`|✘|\n",
    "|`\"<b>foo</b>\"`|`\"foo\"`|`<b>foo</b>`|✘|\n",
    "|`<b id=\"bar\">foo</b>`|`foo`|`foo`|✔|\n",
    "|`\"foo\"`|`'foo'`|`foo`|✘|\n",
    "|`'foo'`|`'foo'`|`'foo'`|✔|\n",
    "\n",
    "In all of these examples, the `quote` flag should now be set outside of tags; hence, everything should work as expected."
   ]
  },
  {
   "cell_type": "markdown",
   "metadata": {
    "slideshow": {
     "slide_type": "subslide"
    }
   },
   "source": [
    "In terms of the scientific process, we now have a *theory* – a hypothesis that\n",
    "\n",
    "* is consistent with all earlier observations\n",
    "* predicts future observations (in our case: correct behavior)\n",
    "\n",
    "For debugging, our problems are usually too small for a big word like theory, so we use the word *diagnosis* instead. So is our diagnosis sufficient to fix the bug? Let us check."
   ]
  },
  {
   "cell_type": "markdown",
   "metadata": {
    "slideshow": {
     "slide_type": "subslide"
    }
   },
   "source": [
    "### Checking Diagnoses\n",
    "\n",
    "In debugging, you should start to fix your code if and only if you have a diagnosis that shows two things:\n",
    "\n",
    "1. **Causality.** Your diagnosis should explain why and how the failure came to be. Hence, it induces a _fix_ that, when applied, should make the failure disappear.\n",
    "2. **Incorrectness.** Your diagnosis should explain why and how the code is _incorrect_ (which in turn suggests how to _correct_ the code). Hence, the fix it induces not only applies to the given failure, but also to all related failures."
   ]
  },
  {
   "cell_type": "markdown",
   "metadata": {
    "slideshow": {
     "slide_type": "subslide"
    }
   },
   "source": [
    "Showing both these aspects requirements – _causality_ and _incorrectness_ – are crucial for a debugging diagnosis:\n",
    "\n",
    "* If you find that you can change some location to make the failure go away, but are not sure why this location is wrong, then your \"fix\" may apply only to the symptom rather than the source. Your diagnosis explains _causality_, but not _incorrectness_.\n",
    "* If you find that there is a defect in some code location, but do not verify whether this defect is related to the failure in question, then your \"fix\" may not address the failure. Your diagnosis addresses _incorrectness_, but not _causality_."
   ]
  },
  {
   "cell_type": "markdown",
   "metadata": {
    "slideshow": {
     "slide_type": "subslide"
    }
   },
   "source": [
    "When you do have a diagnosis that explains both causality (how the failure came to be), and incorrectness (how to correct the code accordingly), then (and only then!) is it time to actually _fix_ the code accordingly. After applying the fix, the failure should be gone, and no other failure should occur. If the failure persists, this should come as a surprise. Obviously, there is some other aspect that you haven't considered yet, so you have to go back to the drawing board and add another failing test case to the set of observations."
   ]
  },
  {
   "cell_type": "markdown",
   "metadata": {
    "slideshow": {
     "slide_type": "subslide"
    }
   },
   "source": [
    "### Fixing the Code"
   ]
  },
  {
   "cell_type": "markdown",
   "metadata": {
    "slideshow": {
     "slide_type": "fragment"
    }
   },
   "source": [
    "All these things considered, let us go and fix `remove_html_markup()`. We know how the defect _causes_ the failure (by erroneously setting `quote` outside of tags). We know that the line in question is _incorrect_ (as single and double of quotes should be treated similarly). So, our diagnosis shows both causality and incorrectness, and we can go and fix the code accordingly:"
   ]
  },
  {
   "cell_type": "code",
   "execution_count": 52,
   "metadata": {
    "execution": {
     "iopub.execute_input": "2023-02-11T10:03:00.796098Z",
     "iopub.status.busy": "2023-02-11T10:03:00.795703Z",
     "iopub.status.idle": "2023-02-11T10:03:00.797006Z",
     "shell.execute_reply": "2023-02-11T10:03:00.797205Z"
    },
    "slideshow": {
     "slide_type": "subslide"
    }
   },
   "outputs": [],
   "source": [
    "def remove_html_markup(s):  # type: ignore\n",
    "    tag = False\n",
    "    quote = False\n",
    "    out = \"\"\n",
    "\n",
    "    for c in s:\n",
    "        if c == '<' and not quote:\n",
    "            tag = True\n",
    "        elif c == '>' and not quote:\n",
    "            tag = False\n",
    "        elif (c == '\"' or c == \"'\") and tag:  # <-- FIX\n",
    "            quote = not quote\n",
    "        elif not tag:\n",
    "            out = out + c\n",
    "\n",
    "    return out"
   ]
  },
  {
   "cell_type": "markdown",
   "metadata": {
    "slideshow": {
     "slide_type": "subslide"
    }
   },
   "source": [
    "We verify that the fix was successful by running our earlier tests. Not only should the previously failing tests now pass, the previously passing tests also should not be affected. Fortunately, all tests now pass:"
   ]
  },
  {
   "cell_type": "code",
   "execution_count": 53,
   "metadata": {
    "execution": {
     "iopub.execute_input": "2023-02-11T10:03:00.799679Z",
     "iopub.status.busy": "2023-02-11T10:03:00.799125Z",
     "iopub.status.idle": "2023-02-11T10:03:00.800234Z",
     "shell.execute_reply": "2023-02-11T10:03:00.800478Z"
    },
    "slideshow": {
     "slide_type": "fragment"
    }
   },
   "outputs": [],
   "source": [
    "assert remove_html_markup(\"Here's some <strong>strong argument</strong>.\") == \\\n",
    "    \"Here's some strong argument.\"\n",
    "assert remove_html_markup(\n",
    "    '<input type=\"text\" value=\"<your name>\">') == \"\"\n",
    "assert remove_html_markup('<b>foo</b>') == 'foo'\n",
    "assert remove_html_markup('<b>\"foo\"</b>') == '\"foo\"'\n",
    "assert remove_html_markup('\"<b>foo</b>\"') == '\"foo\"'\n",
    "assert remove_html_markup('<b id=\"bar\">foo</b>') == 'foo'"
   ]
  },
  {
   "cell_type": "markdown",
   "metadata": {
    "slideshow": {
     "slide_type": "fragment"
    }
   },
   "source": [
    "So, our hypothesis _was_ a theory, and our diagnosis was correct. Success!"
   ]
  },
  {
   "cell_type": "markdown",
   "metadata": {
    "slideshow": {
     "slide_type": "subslide"
    }
   },
   "source": [
    "### Alternate Paths\n",
    "\n",
    "A defect may have more than one hypothesis, and each diagnosis can be obtained by many ways.  We could also have started with our other hypothesis\n",
    "\n",
    "2. Tags in double quotes are not stripped\n",
    "\n",
    "and by reasoning and experiments, we would have reached the same conclusion that the condition is faulty:\n",
    "\n",
    "* To strip tags, the `tag` flag must be set (but it is not).\n",
    "* To set the `tag` flag, the `quote` variable must not be set (but it is).\n",
    "* The `quote` flag is set under the given condition (which thus must be faulty).\n",
    "\n",
    "This gets us to the same diagnosis as above – and, of course, the same fix."
   ]
  },
  {
   "cell_type": "markdown",
   "metadata": {
    "slideshow": {
     "slide_type": "slide"
    }
   },
   "source": [
    "## Homework after the Fix"
   ]
  },
  {
   "cell_type": "markdown",
   "metadata": {
    "slideshow": {
     "slide_type": "fragment"
    }
   },
   "source": [
    "After having successfully validated the fix, we still have some homework to make."
   ]
  },
  {
   "cell_type": "markdown",
   "metadata": {
    "slideshow": {
     "slide_type": "subslide"
    }
   },
   "source": [
    "### Check for further Defect Occurrences"
   ]
  },
  {
   "attachments": {},
   "cell_type": "markdown",
   "metadata": {
    "slideshow": {
     "slide_type": "fragment"
    }
   },
   "source": [
    "First, we may want to check that the underlying mistake was not made elsewhere, too.\n",
    "\n",
    "For an error as with `remove_html_markup()`, it may be wise to check other parts of the code (possibly written by the same programmer) whether Boolean formulas show proper precedence. Consider setting up a static program checker or style checker to catch similar mistakes.\n",
    "Usually if you code in an IDE specifically designed for language you are coding in, you will get hints on so called _code smells_,\n",
    "parts of your code that are typically erroneous because of bad style or other typical mistakes."
   ]
  },
  {
   "cell_type": "markdown",
   "metadata": {
    "slideshow": {
     "slide_type": "subslide"
    }
   },
   "source": [
    "### Check your Tests\n",
    "\n",
    "If the defect was not found through testing, now is a good time to make sure it will be found the next time. If you use automated tests, add a test that catches the bug (as well as similar ones), such that you can prevent regressions."
   ]
  },
  {
   "cell_type": "markdown",
   "metadata": {
    "slideshow": {
     "slide_type": "subslide"
    }
   },
   "source": [
    "### Add Assertions\n",
    "\n"
   ]
  },
  {
   "cell_type": "markdown",
   "metadata": {
    "slideshow": {
     "slide_type": "fragment"
    }
   },
   "source": [
    "To be 100% sure, we could add an assertion to `remove_html_markup()` that checks the final result for correctness. Unfortunately, writing such an assertion is just as complex as writing the function itself.\n",
    "\n",
    "There is one assertion, though, which could be placed in the loop body to catch this kind of errors, and which could remain in the code. Which is it?"
   ]
  },
  {
   "cell_type": "code",
   "execution_count": 54,
   "metadata": {
    "execution": {
     "iopub.execute_input": "2023-02-11T10:03:00.805223Z",
     "iopub.status.busy": "2023-02-11T10:03:00.804432Z",
     "iopub.status.idle": "2023-02-11T10:03:00.808723Z",
     "shell.execute_reply": "2023-02-11T10:03:00.809175Z"
    },
    "slideshow": {
     "slide_type": "subslide"
    }
   },
   "outputs": [
    {
     "data": {
      "text/html": [
       "\n",
       "    \n",
       "    <script>\n",
       "    var bad_answers = new Map();\n",
       "\n",
       "    function answer(quiz_id) {\n",
       "        ans = 0;\n",
       "        for (i = 1;; i++) {\n",
       "            checkbox = document.getElementById(quiz_id + \"-\" + i.toString());\n",
       "            if (!checkbox)\n",
       "                break;\n",
       "            if (checkbox.checked)\n",
       "                ans |= (1 << i);\n",
       "        }\n",
       "        return ans;\n",
       "    }\n",
       "    function check_selection(quiz_id, correct_answer, multiple_choice, hint) {\n",
       "        given_answer = answer(quiz_id);\n",
       "        if (given_answer == correct_answer)\n",
       "        {\n",
       "            document.getElementById(quiz_id + \"-submit\").value = \"Correct!\";\n",
       "            document.getElementById(quiz_id + \"-hint\").innerHTML = \"\";\n",
       "\n",
       "            for (i = 1;; i++) {\n",
       "                checkbox = document.getElementById(quiz_id + \"-\" + i.toString());\n",
       "                label = document.getElementById(quiz_id + \"-\" + i.toString() + \"-label\")\n",
       "                if (!checkbox)\n",
       "                    break;\n",
       "    \n",
       "                if (checkbox.checked) {\n",
       "                    label.style.fontWeight = \"bold\";\n",
       "                }\n",
       "                else {\n",
       "                    label.style.textDecoration = \"line-through\";\n",
       "                }\n",
       "            }\n",
       "        }\n",
       "        else \n",
       "        {\n",
       "            document.getElementById(quiz_id + \"-submit\").value = \"Try again\";\n",
       "            \n",
       "            if (!bad_answers.has(quiz_id)) {\n",
       "                bad_answers.set(quiz_id, 1);\n",
       "            }\n",
       "            else {\n",
       "                bad_answers.set(quiz_id, bad_answers.get(quiz_id) + 1);\n",
       "            }\n",
       "\n",
       "            if (bad_answers.get(quiz_id) >= 2 && hint.length > 0) {\n",
       "                document.getElementById(quiz_id + \"-hint\").innerHTML = \n",
       "                    \"&nbsp;&nbsp;(Hint: <code>\" + hint + \"</code>)\";\n",
       "            }\n",
       "\n",
       "            if (!multiple_choice) {\n",
       "                for (i = 1;; i++) {\n",
       "                    checkbox = document.getElementById(quiz_id + \"-\" + i.toString());\n",
       "                    label = document.getElementById(quiz_id + \"-\" + i.toString() + \"-label\")\n",
       "\n",
       "                    if (!checkbox)\n",
       "                        break;\n",
       "                    if (checkbox.checked) {\n",
       "                        label.style.textDecoration = \"line-through\";\n",
       "                    }\n",
       "                }\n",
       "            }\n",
       "        }\n",
       "    }\n",
       "    function clear_selection(quiz_id) {\n",
       "        document.getElementById(quiz_id + \"-submit\").value = \"Submit\";\n",
       "        document.getElementById(quiz_id + \"-hint\").innerHTML = \"\";\n",
       "    }\n",
       "    </script>\n",
       "    \n",
       "    <div class=\"quiz\">\n",
       "    <h3 class=\"quiz_title\">Quiz</h3>\n",
       "    <p>\n",
       "    <div class=\"quiz_question\">Which assertion would have caught the problem?</div>\n",
       "    </p>\n",
       "    <p>\n",
       "    <div class=\"quiz_options\" title=\"Pick a choice.\">\n",
       "    \n",
       "        <input type=\"radio\" name=\"4465bbcc-a9f3-11ed-b518-6298cf1a578f\" id=\"4465bbcc-a9f3-11ed-b518-6298cf1a578f-1\" onclick=\"clear_selection('4465bbcc-a9f3-11ed-b518-6298cf1a578f')\">\n",
       "        <label id=\"4465bbcc-a9f3-11ed-b518-6298cf1a578f-1-label\" for=\"4465bbcc-a9f3-11ed-b518-6298cf1a578f-1\"><code>assert quote and not tag</code></label><br>\n",
       "    \n",
       "        <input type=\"radio\" name=\"4465bbcc-a9f3-11ed-b518-6298cf1a578f\" id=\"4465bbcc-a9f3-11ed-b518-6298cf1a578f-2\" onclick=\"clear_selection('4465bbcc-a9f3-11ed-b518-6298cf1a578f')\">\n",
       "        <label id=\"4465bbcc-a9f3-11ed-b518-6298cf1a578f-2-label\" for=\"4465bbcc-a9f3-11ed-b518-6298cf1a578f-2\"><code>assert quote or not tag</code></label><br>\n",
       "    \n",
       "        <input type=\"radio\" name=\"4465bbcc-a9f3-11ed-b518-6298cf1a578f\" id=\"4465bbcc-a9f3-11ed-b518-6298cf1a578f-3\" onclick=\"clear_selection('4465bbcc-a9f3-11ed-b518-6298cf1a578f')\">\n",
       "        <label id=\"4465bbcc-a9f3-11ed-b518-6298cf1a578f-3-label\" for=\"4465bbcc-a9f3-11ed-b518-6298cf1a578f-3\"><code>assert tag or not quote</code></label><br>\n",
       "    \n",
       "        <input type=\"radio\" name=\"4465bbcc-a9f3-11ed-b518-6298cf1a578f\" id=\"4465bbcc-a9f3-11ed-b518-6298cf1a578f-4\" onclick=\"clear_selection('4465bbcc-a9f3-11ed-b518-6298cf1a578f')\">\n",
       "        <label id=\"4465bbcc-a9f3-11ed-b518-6298cf1a578f-4-label\" for=\"4465bbcc-a9f3-11ed-b518-6298cf1a578f-4\"><code>assert tag and not quote</code></label><br>\n",
       "    \n",
       "    </div>\n",
       "    </p>\n",
       "    <input id=\"4465bbcc-a9f3-11ed-b518-6298cf1a578f-submit\" type=\"submit\" value=\"Submit\" onclick=\"check_selection('4465bbcc-a9f3-11ed-b518-6298cf1a578f', 8, 0, '3270 - 3267')\">\n",
       "    <span class=\"quiz_hint\" id=\"4465bbcc-a9f3-11ed-b518-6298cf1a578f-hint\"></span>\n",
       "    </div>\n",
       "    "
      ],
      "text/plain": [
       "<IPython.core.display.HTML object>"
      ]
     },
     "execution_count": 54,
     "metadata": {},
     "output_type": "execute_result"
    }
   ],
   "source": [
    "quiz(\"Which assertion would have caught the problem?\",\n",
    "     [\n",
    "        \"`assert quote and not tag`\",\n",
    "        \"`assert quote or not tag`\",\n",
    "        \"`assert tag or not quote`\",\n",
    "        \"`assert tag and not quote`\"\n",
    "     ], '3270 - 3267')"
   ]
  },
  {
   "cell_type": "markdown",
   "metadata": {
    "slideshow": {
     "slide_type": "subslide"
    }
   },
   "source": [
    "Indeed, the statement\n",
    "\n",
    "```python\n",
    "assert tag or not quote\n",
    "```\n",
    "is correct. This excludes the situation of ¬`tag` ∧ `quote` – that is, the `tag` flag is not set, but the `quote` flag is. If you remember our state machine from above, this is actually a state that should never exist:"
   ]
  },
  {
   "cell_type": "code",
   "execution_count": 55,
   "metadata": {
    "execution": {
     "iopub.execute_input": "2023-02-11T10:03:00.812437Z",
     "iopub.status.busy": "2023-02-11T10:03:00.812102Z",
     "iopub.status.idle": "2023-02-11T10:03:01.140563Z",
     "shell.execute_reply": "2023-02-11T10:03:01.140851Z"
    },
    "slideshow": {
     "slide_type": "fragment"
    }
   },
   "outputs": [
    {
     "data": {
      "image/svg+xml": [
       "<?xml version=\"1.0\" encoding=\"UTF-8\" standalone=\"no\"?>\n",
       "<!DOCTYPE svg PUBLIC \"-//W3C//DTD SVG 1.1//EN\"\n",
       " \"http://www.w3.org/Graphics/SVG/1.1/DTD/svg11.dtd\">\n",
       "<!-- Generated by graphviz version 7.0.2 (20221119.0110)\n",
       " -->\n",
       "<!-- Pages: 1 -->\n",
       "<svg width=\"456pt\" height=\"110pt\"\n",
       " viewBox=\"0.00 0.00 455.60 109.74\" xmlns=\"http://www.w3.org/2000/svg\" xmlns:xlink=\"http://www.w3.org/1999/xlink\">\n",
       "<g id=\"graph0\" class=\"graph\" transform=\"scale(1 1) rotate(0) translate(4 105.74)\">\n",
       "<polygon fill=\"white\" stroke=\"none\" points=\"-4,4 -4,-105.74 451.6,-105.74 451.6,4 -4,4\"/>\n",
       "<!-- Start -->\n",
       "<g id=\"node1\" class=\"node\">\n",
       "<title>Start</title>\n",
       "<ellipse fill=\"peachpuff\" stroke=\"black\" cx=\"29.9\" cy=\"-26.87\" rx=\"29.8\" ry=\"18\"/>\n",
       "<text text-anchor=\"middle\" x=\"29.9\" y=\"-23.17\" font-family=\"Raleway\" font-size=\"14.00\">Start</text>\n",
       "</g>\n",
       "<!-- ¬ quote\\n¬ tag -->\n",
       "<g id=\"node2\" class=\"node\">\n",
       "<title>¬ quote\\n¬ tag</title>\n",
       "<ellipse fill=\"peachpuff\" stroke=\"black\" cx=\"142.76\" cy=\"-26.87\" rx=\"45.92\" ry=\"26.74\"/>\n",
       "<text text-anchor=\"middle\" x=\"142.76\" y=\"-30.67\" font-family=\"Raleway\" font-size=\"14.00\">¬ quote</text>\n",
       "<text text-anchor=\"middle\" x=\"142.76\" y=\"-15.67\" font-family=\"Raleway\" font-size=\"14.00\">¬ tag</text>\n",
       "</g>\n",
       "<!-- Start&#45;&gt;¬ quote\\n¬ tag -->\n",
       "<g id=\"edge1\" class=\"edge\">\n",
       "<title>Start&#45;&gt;¬ quote\\n¬ tag</title>\n",
       "<path fill=\"none\" stroke=\"black\" d=\"M60.02,-26.87C67.79,-26.87 76.44,-26.87 85.14,-26.87\"/>\n",
       "<polygon fill=\"black\" stroke=\"black\" points=\"85.01,-30.37 95.01,-26.87 85.01,-23.37 85.01,-30.37\"/>\n",
       "</g>\n",
       "<!-- ¬ quote\\n¬ tag&#45;&gt;¬ quote\\n¬ tag -->\n",
       "<g id=\"edge2\" class=\"edge\">\n",
       "<title>¬ quote\\n¬ tag&#45;&gt;¬ quote\\n¬ tag</title>\n",
       "<path fill=\"none\" stroke=\"black\" d=\"M130.72,-53.14C130.18,-63.3 134.2,-71.74 142.76,-71.74 147.84,-71.74 151.32,-68.76 153.2,-64.22\"/>\n",
       "<polygon fill=\"black\" stroke=\"black\" points=\"156.61,-65.04 154.58,-54.64 149.69,-64.04 156.61,-65.04\"/>\n",
       "<text text-anchor=\"middle\" x=\"142.76\" y=\"-90.54\" font-family=\"Raleway\" font-size=\"14.00\">¬ &#39;&lt;&#39;</text>\n",
       "<text text-anchor=\"middle\" x=\"142.76\" y=\"-75.54\" font-family=\"Raleway\" font-size=\"14.00\">add character</text>\n",
       "</g>\n",
       "<!-- ¬ quote\\ntag -->\n",
       "<g id=\"node3\" class=\"node\">\n",
       "<title>¬ quote\\ntag</title>\n",
       "<ellipse fill=\"peachpuff\" stroke=\"black\" cx=\"282.68\" cy=\"-26.87\" rx=\"45.92\" ry=\"26.74\"/>\n",
       "<text text-anchor=\"middle\" x=\"282.68\" y=\"-30.67\" font-family=\"Raleway\" font-size=\"14.00\">¬ quote</text>\n",
       "<text text-anchor=\"middle\" x=\"282.68\" y=\"-15.67\" font-family=\"Raleway\" font-size=\"14.00\">tag</text>\n",
       "</g>\n",
       "<!-- ¬ quote\\n¬ tag&#45;&gt;¬ quote\\ntag -->\n",
       "<g id=\"edge3\" class=\"edge\">\n",
       "<title>¬ quote\\n¬ tag&#45;&gt;¬ quote\\ntag</title>\n",
       "<path fill=\"none\" stroke=\"black\" d=\"M188.92,-26.87C200.47,-26.87 213.03,-26.87 225.08,-26.87\"/>\n",
       "<polygon fill=\"black\" stroke=\"black\" points=\"224.9,-30.37 234.9,-26.87 224.9,-23.37 224.9,-30.37\"/>\n",
       "<text text-anchor=\"middle\" x=\"212.72\" y=\"-30.67\" font-family=\"Raleway\" font-size=\"14.00\">&#39;&lt;&#39;</text>\n",
       "</g>\n",
       "<!-- ¬ quote\\ntag&#45;&gt;¬ quote\\n¬ tag -->\n",
       "<g id=\"edge8\" class=\"edge\">\n",
       "<title>¬ quote\\ntag&#45;&gt;¬ quote\\n¬ tag</title>\n",
       "<path fill=\"none\" stroke=\"black\" d=\"M242.79,-13.2C234.92,-10.99 226.63,-9.04 218.72,-7.87 209.94,-6.57 200.7,-7.21 191.82,-8.88\"/>\n",
       "<polygon fill=\"black\" stroke=\"black\" points=\"191.23,-5.42 182.29,-11.11 192.83,-12.23 191.23,-5.42\"/>\n",
       "<text text-anchor=\"middle\" x=\"212.72\" y=\"-11.67\" font-family=\"Raleway\" font-size=\"14.00\">&#39;&gt;&#39;</text>\n",
       "</g>\n",
       "<!-- ¬ quote\\ntag&#45;&gt;¬ quote\\ntag -->\n",
       "<g id=\"edge5\" class=\"edge\">\n",
       "<title>¬ quote\\ntag&#45;&gt;¬ quote\\ntag</title>\n",
       "<path fill=\"none\" stroke=\"black\" d=\"M270.02,-52.69C269.3,-63.05 273.52,-71.74 282.68,-71.74 288.12,-71.74 291.82,-68.68 293.77,-64.02\"/>\n",
       "<polygon fill=\"black\" stroke=\"black\" points=\"297.23,-64.58 295.14,-54.19 290.3,-63.61 297.23,-64.58\"/>\n",
       "<text text-anchor=\"middle\" x=\"282.68\" y=\"-75.54\" font-family=\"Raleway\" font-size=\"14.00\">¬ &#39;&quot;&#39; ∧ ¬ &#39;&gt;&#39;</text>\n",
       "</g>\n",
       "<!-- quote\\ntag -->\n",
       "<g id=\"node4\" class=\"node\">\n",
       "<title>quote\\ntag</title>\n",
       "<ellipse fill=\"peachpuff\" stroke=\"black\" cx=\"410.12\" cy=\"-26.87\" rx=\"37.45\" ry=\"26.74\"/>\n",
       "<text text-anchor=\"middle\" x=\"410.12\" y=\"-30.67\" font-family=\"Raleway\" font-size=\"14.00\">quote</text>\n",
       "<text text-anchor=\"middle\" x=\"410.12\" y=\"-15.67\" font-family=\"Raleway\" font-size=\"14.00\">tag</text>\n",
       "</g>\n",
       "<!-- ¬ quote\\ntag&#45;&gt;quote\\ntag -->\n",
       "<g id=\"edge4\" class=\"edge\">\n",
       "<title>¬ quote\\ntag&#45;&gt;quote\\ntag</title>\n",
       "<path fill=\"none\" stroke=\"black\" d=\"M328.97,-26.87C339.48,-26.87 350.7,-26.87 361.32,-26.87\"/>\n",
       "<polygon fill=\"black\" stroke=\"black\" points=\"361.03,-30.37 371.03,-26.87 361.03,-23.37 361.03,-30.37\"/>\n",
       "<text text-anchor=\"middle\" x=\"350.64\" y=\"-30.67\" font-family=\"Raleway\" font-size=\"14.00\">&#39;&quot;&#39;</text>\n",
       "</g>\n",
       "<!-- quote\\ntag&#45;&gt;¬ quote\\ntag -->\n",
       "<g id=\"edge7\" class=\"edge\">\n",
       "<title>quote\\ntag&#45;&gt;¬ quote\\ntag</title>\n",
       "<path fill=\"none\" stroke=\"black\" d=\"M377.04,-13.69C369.79,-11.27 362.05,-9.12 354.64,-7.87 346.95,-6.57 338.89,-6.97 331.07,-8.34\"/>\n",
       "<polygon fill=\"black\" stroke=\"black\" points=\"330.28,-4.93 321.33,-10.61 331.86,-11.75 330.28,-4.93\"/>\n",
       "<text text-anchor=\"middle\" x=\"350.64\" y=\"-11.67\" font-family=\"Raleway\" font-size=\"14.00\">&#39;&quot;&#39;</text>\n",
       "</g>\n",
       "<!-- quote\\ntag&#45;&gt;quote\\ntag -->\n",
       "<g id=\"edge6\" class=\"edge\">\n",
       "<title>quote\\ntag&#45;&gt;quote\\ntag</title>\n",
       "<path fill=\"none\" stroke=\"black\" d=\"M399.04,-52.69C398.41,-63.05 402.1,-71.74 410.12,-71.74 414.88,-71.74 418.11,-68.68 419.83,-64.02\"/>\n",
       "<polygon fill=\"black\" stroke=\"black\" points=\"423.29,-64.54 421.02,-54.19 416.34,-63.7 423.29,-64.54\"/>\n",
       "<text text-anchor=\"middle\" x=\"410.12\" y=\"-75.54\" font-family=\"Raleway\" font-size=\"14.00\">¬ &#39;&quot;&#39;</text>\n",
       "</g>\n",
       "</g>\n",
       "</svg>\n"
      ],
      "text/plain": [
       "<graphviz.graphs.Digraph at 0x111bbcf10>"
      ]
     },
     "metadata": {},
     "output_type": "display_data"
    }
   ],
   "source": [
    "# ignore\n",
    "display(state_machine)"
   ]
  },
  {
   "cell_type": "markdown",
   "metadata": {
    "slideshow": {
     "slide_type": "fragment"
    }
   },
   "source": [
    "Here's our function in its \"final\" state. As software goes, software is never final – and this may also hold for our function, as there is still room for improvement. For this chapter though, we leave it be."
   ]
  },
  {
   "cell_type": "code",
   "execution_count": 56,
   "metadata": {
    "execution": {
     "iopub.execute_input": "2023-02-11T10:03:01.143895Z",
     "iopub.status.busy": "2023-02-11T10:03:01.143576Z",
     "iopub.status.idle": "2023-02-11T10:03:01.144783Z",
     "shell.execute_reply": "2023-02-11T10:03:01.144978Z"
    },
    "slideshow": {
     "slide_type": "subslide"
    }
   },
   "outputs": [],
   "source": [
    "def remove_html_markup(s):  # type: ignore\n",
    "    tag = False\n",
    "    quote = False\n",
    "    out = \"\"\n",
    "\n",
    "    for c in s:\n",
    "        assert tag or not quote\n",
    "\n",
    "        if c == '<' and not quote:\n",
    "            tag = True\n",
    "        elif c == '>' and not quote:\n",
    "            tag = False\n",
    "        elif (c == '\"' or c == \"'\") and tag:\n",
    "            quote = not quote\n",
    "        elif not tag:\n",
    "            out = out + c\n",
    "\n",
    "    return out"
   ]
  },
  {
   "cell_type": "markdown",
   "metadata": {
    "slideshow": {
     "slide_type": "subslide"
    }
   },
   "source": [
    "### Commit the Fix"
   ]
  },
  {
   "cell_type": "markdown",
   "metadata": {
    "slideshow": {
     "slide_type": "fragment"
    }
   },
   "source": [
    "It may sound obvious, but your fix is worth nothing if it doesn't go into production. Be sure to commit your change to the code repository, together with your diagnosis. If your fix has to be approved by a third party, a good diagnosis on why and what happened is immensely helpful."
   ]
  },
  {
   "cell_type": "markdown",
   "metadata": {
    "slideshow": {
     "slide_type": "subslide"
    }
   },
   "source": [
    "### Close the Bug Report\n",
    "\n",
    "If you [systematically track bugs](Tracking.ipynb), and your bug is properly tracked, now is the time to mark the issue as \"resolved\". Check for duplicates of the issue and check whether they are resolved, too. And now, you are finally done:\n",
    "\n",
    "![](https://media.giphy.com/media/nbJUuYFI6s0w0/giphy.gif)\n",
    "\n",
    "Time to relax – and look for the next bug!"
   ]
  },
  {
   "cell_type": "markdown",
   "metadata": {
    "slideshow": {
     "slide_type": "slide"
    }
   },
   "source": [
    "## Become a Better Debugger\n",
    "\n",
    "We have now systematically fixed a bug. In this book, we will explore a number of techniques to make debugging easier – coming up with automated diagnoses, explanations, even automatic repairs, including for our example above. But there are also a number of things _you_ can do to become a better debugger.\n",
    "\n",
    "\n",
    "### Follow the Process\n",
    "\n",
    "If you're an experienced programmer, you may have spotted the problem in `remove_html_markup()` immediately, and start fixing the code right away. But this is dangerous and risky.\n",
    "\n",
    "Why is this so?  Well, because you should first\n",
    "\n",
    "* try to understand the problem, and \n",
    "* have a full diagnosis before starting to fix away.\n",
    "\n",
    "You _can_ skip these steps, and jump right to your interactive debugger the very moment you see a failure, happily stepping through their program. This may even work well for simple problems, including this one. The risk, however, is that this narrows your view to just this one execution, which limits your ability to understand _all_ the circumstances of the problem. Even worse: If you start \"fixing\" the bug without exactly understanding the problem, you may end up with an incomplete solution – as illustrated in \"The Devil's Guide to Debugging\", above."
   ]
  },
  {
   "attachments": {},
   "cell_type": "markdown",
   "metadata": {
    "slideshow": {
     "slide_type": "subslide"
    }
   },
   "source": [
    "### Keep a Log\n",
    "\n",
    "A second risk of starting debugging too soon is that it lets you easily deviate from a systematic process. Remember how we wrote down every experiment in a table? How we numbered every hypothesis? This is not just for teaching. Writing these things down explicitly allow you to keep track of all your observations and hypotheses over time.\n",
    "\n",
    "|Input|Expectation|Output|Outcome|\n",
    "|-----|-----------|------|-------|\n",
    "|`<b>foo</b>`|`foo`|`foo`|✔|\n",
    "\n",
    "Every time you come up with a new hypothesis, you can immediately check it against your earlier observations, which will help you to eliminate unlikely ones from the start. This is a bit like in the classic \"Mastermind\" board game, in which you have to guess some secret combination of pins, and in which your opponent gives you hints on whether and how your guesses are correct. At any time, you can see your previous guesses (experiments) and the results (observations) you got; any new guess (hypothesis) has to be consistent with the previous observations and experiments."
   ]
  },
  {
   "cell_type": "markdown",
   "metadata": {
    "slideshow": {
     "slide_type": "subslide"
    }
   },
   "source": [
    "![Master Mind Board Grame](https://upload.wikimedia.org/wikipedia/commons/2/2d/Mastermind.jpg)"
   ]
  },
  {
   "cell_type": "markdown",
   "metadata": {
    "slideshow": {
     "slide_type": "subslide"
    }
   },
   "source": [
    "Keeping such a log also allows you to interrupt your debugging session at any time. You can be home in time, sleep over the problem, and resume the next morning with a refreshed mind. You can even hand over the log to someone else, stating your findings so far.\n",
    "\n",
    "The alternative to having a log is to _keep all in memory_. This only works for short amounts of time, as it puts a higher and higher cognitive load on your memory as you debug along. After some time, you will forget earlier observations, which leads to mistakes. Worst of all, any interruption will break your concentration and make you forget things, so you can't stop debugging until you're done.\n",
    "\n",
    "Sure, if you are a real master, you can stay glued to the screen all night. But I'd rather be home in time, thank you."
   ]
  },
  {
   "attachments": {},
   "cell_type": "markdown",
   "metadata": {
    "slideshow": {
     "slide_type": "subslide"
    }
   },
   "source": [
    "### Rubberducking\n",
    "\n",
    "A great technique to revisit your observations and to come up with new hypotheses is to _explain the problem to someone else_. In this process, the \"someone else\" is important, but even more important is that _you are explaining the problem to yourself_! As Kernighan and Pike \\cite{Kernighan1999} put it:\n",
    "\n",
    "> Sometimes it takes no more than a few sentences, followed by an embarrassed \"Never mind. I see what's wrong. Sorry to bother you.\"\n",
    "\n",
    "The reason why this works is that teaching someone else forces you to take different perspectives, and these help you to resolve the inconsistency between what you assume and what you actually observe.\n",
    "\n",
    "Since that \"someone else\" can be totally passive, you can even replace her with an inanimate object to talk to – even a rubber duck. This technique is called *rubber duck debugging* or *rubberducking* – the idea is that you explain your problem to a rubber duck first before interrupting one of your co-workers with the problem. Some programmers, when asked for advice, explicitly request that you \"explain your problem to the duck first\", knowing that this resolves a good fraction of problems."
   ]
  },
  {
   "cell_type": "markdown",
   "metadata": {
    "slideshow": {
     "slide_type": "subslide"
    }
   },
   "source": [
    "![Rubber duck debugging](https://upload.wikimedia.org/wikipedia/commons/d/d5/Rubber_duck_assisting_with_debugging.jpg)"
   ]
  },
  {
   "cell_type": "markdown",
   "metadata": {
    "slideshow": {
     "slide_type": "slide"
    }
   },
   "source": [
    "## The Cost of Debugging\n",
    "\n",
    "And it's not only that debugging takes time – the worst thing is that it is a search process, which can take anything between a few minutes and several hours, sometimes even days and weeks.  But even if you never know how much time a bug will take, it's a bit of blessing to use a process which gradually gets you towards its cause."
   ]
  },
  {
   "cell_type": "markdown",
   "metadata": {
    "slideshow": {
     "slide_type": "slide"
    }
   },
   "source": [
    "## Debugging Aftermath\n",
    "\n",
    "The fix of a bug may lead to a code construct, a more complex condition or another solution which may look strange on first sight.\n",
    "Often the initial code was easier to understand but did not catch all cases. After fixing a bug it may be beneficial to\n",
    "write down why the code now looks like this and what caused the more complex construct. A comment right at the fixed location\n",
    "will help future programmers to not be confused or even re-introduce the bug while refactoring for better readability.\n",
    "And of course, helpful comments at complex code locations should even exist before something went wrong with the code -- but\n",
    "thats a chapter in another book.\n",
    "\n",
    "## History of Debugging\n",
    "\n",
    "Engineers and programmers have long used the term \"bug\" for faults in their systems – as if it were something that crept into an otherwise flawless program to cause the effects that none could explain. And from a psychological standpoint, it is far easier to blame some \"bug\" rather than taking responsibility ourselves. In the end, though, we have to face the fact: We made the bugs, and they are ours to fix.\n",
    "\n",
    "Having said that, there has been one recorded instance where a real bug has crept into a system. That was on September 9, 1947, when a moth got stuck in the relay of a Harvard Mark II machine.  This event was logged, and the log book is now on display at the Smithsonian Natural Museum of American History, as \"First actual case of bug being found.\""
   ]
  },
  {
   "cell_type": "markdown",
   "metadata": {
    "slideshow": {
     "slide_type": "subslide"
    }
   },
   "source": [
    "![First actual case of bug being found](https://upload.wikimedia.org/wikipedia/commons/f/ff/First_Computer_Bug%2C_1945.jpg)"
   ]
  },
  {
   "cell_type": "markdown",
   "metadata": {
    "slideshow": {
     "slide_type": "fragment"
    }
   },
   "source": [
    "The actual term \"bug\", however, is much older. What do you think is its origin?"
   ]
  },
  {
   "cell_type": "code",
   "execution_count": 57,
   "metadata": {
    "execution": {
     "iopub.execute_input": "2023-02-11T10:03:01.147202Z",
     "iopub.status.busy": "2023-02-11T10:03:01.146850Z",
     "iopub.status.idle": "2023-02-11T10:03:01.148485Z",
     "shell.execute_reply": "2023-02-11T10:03:01.148731Z"
    },
    "ipub": {
     "ignore": true
    },
    "slideshow": {
     "slide_type": "fragment"
    }
   },
   "outputs": [],
   "source": [
    "# ignore\n",
    "import hashlib"
   ]
  },
  {
   "cell_type": "code",
   "execution_count": 58,
   "metadata": {
    "execution": {
     "iopub.execute_input": "2023-02-11T10:03:01.150715Z",
     "iopub.status.busy": "2023-02-11T10:03:01.150403Z",
     "iopub.status.idle": "2023-02-11T10:03:01.152570Z",
     "shell.execute_reply": "2023-02-11T10:03:01.153535Z"
    },
    "ipub": {
     "ignore": true
    },
    "slideshow": {
     "slide_type": "fragment"
    }
   },
   "outputs": [],
   "source": [
    "# ignore\n",
    "bughash = hashlib.md5(b\"debug\").hexdigest()"
   ]
  },
  {
   "cell_type": "code",
   "execution_count": 59,
   "metadata": {
    "execution": {
     "iopub.execute_input": "2023-02-11T10:03:01.159885Z",
     "iopub.status.busy": "2023-02-11T10:03:01.159168Z",
     "iopub.status.idle": "2023-02-11T10:03:01.160959Z",
     "shell.execute_reply": "2023-02-11T10:03:01.161163Z"
    },
    "slideshow": {
     "slide_type": "subslide"
    }
   },
   "outputs": [
    {
     "data": {
      "text/html": [
       "\n",
       "    \n",
       "    <script>\n",
       "    var bad_answers = new Map();\n",
       "\n",
       "    function answer(quiz_id) {\n",
       "        ans = 0;\n",
       "        for (i = 1;; i++) {\n",
       "            checkbox = document.getElementById(quiz_id + \"-\" + i.toString());\n",
       "            if (!checkbox)\n",
       "                break;\n",
       "            if (checkbox.checked)\n",
       "                ans |= (1 << i);\n",
       "        }\n",
       "        return ans;\n",
       "    }\n",
       "    function check_selection(quiz_id, correct_answer, multiple_choice, hint) {\n",
       "        given_answer = answer(quiz_id);\n",
       "        if (given_answer == correct_answer)\n",
       "        {\n",
       "            document.getElementById(quiz_id + \"-submit\").value = \"Correct!\";\n",
       "            document.getElementById(quiz_id + \"-hint\").innerHTML = \"\";\n",
       "\n",
       "            for (i = 1;; i++) {\n",
       "                checkbox = document.getElementById(quiz_id + \"-\" + i.toString());\n",
       "                label = document.getElementById(quiz_id + \"-\" + i.toString() + \"-label\")\n",
       "                if (!checkbox)\n",
       "                    break;\n",
       "    \n",
       "                if (checkbox.checked) {\n",
       "                    label.style.fontWeight = \"bold\";\n",
       "                }\n",
       "                else {\n",
       "                    label.style.textDecoration = \"line-through\";\n",
       "                }\n",
       "            }\n",
       "        }\n",
       "        else \n",
       "        {\n",
       "            document.getElementById(quiz_id + \"-submit\").value = \"Try again\";\n",
       "            \n",
       "            if (!bad_answers.has(quiz_id)) {\n",
       "                bad_answers.set(quiz_id, 1);\n",
       "            }\n",
       "            else {\n",
       "                bad_answers.set(quiz_id, bad_answers.get(quiz_id) + 1);\n",
       "            }\n",
       "\n",
       "            if (bad_answers.get(quiz_id) >= 2 && hint.length > 0) {\n",
       "                document.getElementById(quiz_id + \"-hint\").innerHTML = \n",
       "                    \"&nbsp;&nbsp;(Hint: <code>\" + hint + \"</code>)\";\n",
       "            }\n",
       "\n",
       "            if (!multiple_choice) {\n",
       "                for (i = 1;; i++) {\n",
       "                    checkbox = document.getElementById(quiz_id + \"-\" + i.toString());\n",
       "                    label = document.getElementById(quiz_id + \"-\" + i.toString() + \"-label\")\n",
       "\n",
       "                    if (!checkbox)\n",
       "                        break;\n",
       "                    if (checkbox.checked) {\n",
       "                        label.style.textDecoration = \"line-through\";\n",
       "                    }\n",
       "                }\n",
       "            }\n",
       "        }\n",
       "    }\n",
       "    function clear_selection(quiz_id) {\n",
       "        document.getElementById(quiz_id + \"-submit\").value = \"Submit\";\n",
       "        document.getElementById(quiz_id + \"-hint\").innerHTML = \"\";\n",
       "    }\n",
       "    </script>\n",
       "    \n",
       "    <div class=\"quiz\">\n",
       "    <h3 class=\"quiz_title\">Quiz</h3>\n",
       "    <p>\n",
       "    <div class=\"quiz_question\">Where has the name \"bug\" been used to denote disruptive events?</div>\n",
       "    </p>\n",
       "    <p>\n",
       "    <div class=\"quiz_options\" title=\"Check all that apply.\">\n",
       "    \n",
       "        <input type=\"checkbox\" name=\"449bbcfe-a9f3-11ed-b518-6298cf1a578f\" id=\"449bbcfe-a9f3-11ed-b518-6298cf1a578f-1\" onclick=\"clear_selection('449bbcfe-a9f3-11ed-b518-6298cf1a578f')\">\n",
       "        <label id=\"449bbcfe-a9f3-11ed-b518-6298cf1a578f-1-label\" for=\"449bbcfe-a9f3-11ed-b518-6298cf1a578f-1\">In the early days of Morse telegraphy, referring to a special key that would send a string of dots</label><br>\n",
       "    \n",
       "        <input type=\"checkbox\" name=\"449bbcfe-a9f3-11ed-b518-6298cf1a578f\" id=\"449bbcfe-a9f3-11ed-b518-6298cf1a578f-2\" onclick=\"clear_selection('449bbcfe-a9f3-11ed-b518-6298cf1a578f')\">\n",
       "        <label id=\"449bbcfe-a9f3-11ed-b518-6298cf1a578f-2-label\" for=\"449bbcfe-a9f3-11ed-b518-6298cf1a578f-2\">Among radio technicians to describe a device that converts electromagnetic field variations into acoustic signals</label><br>\n",
       "    \n",
       "        <input type=\"checkbox\" name=\"449bbcfe-a9f3-11ed-b518-6298cf1a578f\" id=\"449bbcfe-a9f3-11ed-b518-6298cf1a578f-3\" onclick=\"clear_selection('449bbcfe-a9f3-11ed-b518-6298cf1a578f')\">\n",
       "        <label id=\"449bbcfe-a9f3-11ed-b518-6298cf1a578f-3-label\" for=\"449bbcfe-a9f3-11ed-b518-6298cf1a578f-3\">In Shakespeare's \"Henry VI\", referring to a walking spectre</label><br>\n",
       "    \n",
       "        <input type=\"checkbox\" name=\"449bbcfe-a9f3-11ed-b518-6298cf1a578f\" id=\"449bbcfe-a9f3-11ed-b518-6298cf1a578f-4\" onclick=\"clear_selection('449bbcfe-a9f3-11ed-b518-6298cf1a578f')\">\n",
       "        <label id=\"449bbcfe-a9f3-11ed-b518-6298cf1a578f-4-label\" for=\"449bbcfe-a9f3-11ed-b518-6298cf1a578f-4\">In Middle English, where the word \"bugge\" is the basis for terms like \"bugbear\" and \"bugaboo\"</label><br>\n",
       "    \n",
       "    </div>\n",
       "    </p>\n",
       "    <input id=\"449bbcfe-a9f3-11ed-b518-6298cf1a578f-submit\" type=\"submit\" value=\"Submit\" onclick=\"check_selection('449bbcfe-a9f3-11ed-b518-6298cf1a578f', 30, 1, '')\">\n",
       "    <span class=\"quiz_hint\" id=\"449bbcfe-a9f3-11ed-b518-6298cf1a578f-hint\"></span>\n",
       "    </div>\n",
       "    "
      ],
      "text/plain": [
       "<IPython.core.display.HTML object>"
      ]
     },
     "execution_count": 59,
     "metadata": {},
     "output_type": "execute_result"
    }
   ],
   "source": [
    "quiz('Where has the name \"bug\" been used to denote disruptive events?',\n",
    "     [\n",
    "        'In the early days of Morse telegraphy, referring to a special key '\n",
    "          'that would send a string of dots',\n",
    "        'Among radio technicians to describe a device that '\n",
    "          'converts electromagnetic field variations into acoustic signals',\n",
    "        \"In Shakespeare's \" '\"Henry VI\", referring to a walking spectre',\n",
    "        'In Middle English, where the word \"bugge\" is the basis for terms '\n",
    "          'like \"bugbear\" and \"bugaboo\"'\n",
    "     ], [bughash.index(i) for i in \"d42f\"])"
   ]
  },
  {
   "cell_type": "markdown",
   "metadata": {
    "slideshow": {
     "slide_type": "subslide"
    }
   },
   "source": [
    "Need help on this quiz? To learn more about the term \"bug\" and its origin, have a look at [the etymology of the word \"bug\"](http://www.catb.org/~esr/jargon/html/B/bug.html) in [The Jargon File](http://www.catb.org/~esr/jargon/). Also check out the [Wikipedia entry on debugging](https://en.wikipedia.org/wiki/Debugging)!"
   ]
  },
  {
   "cell_type": "markdown",
   "metadata": {
    "slideshow": {
     "slide_type": "slide"
    }
   },
   "source": [
    "## Synopsis"
   ]
  },
  {
   "cell_type": "markdown",
   "metadata": {
    "slideshow": {
     "slide_type": "fragment"
    }
   },
   "source": [
    "In this chapter, we introduce some basics of how failures come to be as well as a general process for debugging."
   ]
  },
  {
   "cell_type": "markdown",
   "metadata": {
    "button": false,
    "new_sheet": true,
    "run_control": {
     "read_only": false
    },
    "slideshow": {
     "slide_type": "slide"
    }
   },
   "source": [
    "## Lessons Learned\n",
    "\n",
    "1. An _error_ is a deviation from what is correct, right, or true. Specifically,\n",
    "    * A _mistake_ is a human act or decision resulting in an error.\n",
    "    * A _defect_ is an error in the program code. Also called *bug*.\n",
    "    * A _fault_ is an error in the program state. Also called *infection*.\n",
    "    * A _failure_ is an externally visible error in the program behavior. Also called *malfunction*.\n",
    "2. In a failing program execution, a mistake by the programmer results in a defect in the code, which creates a fault in the state, which propagates until it results in a failure. Tracing back fault propagation allows to identify the defect that causes the failure.\n",
    "3. In debugging, the _scientific method_ allows to systematically identify failure causes by gradually refining and refuting hypotheses based on experiments and observations.\n",
    "4. Before fixing the defect, have a complete _diagnosis_ that \n",
    "    * shows _causality_ (how the defect causes the failure)\n",
    "    * shows _incorrectness_ (how the defect is wrong)\n",
    "5. You can become a better debugger by\n",
    "    * Following a systematic process like the scientific method\n",
    "    * Keeping a log of your observations and hypotheses\n",
    "    * Making your observations and conclusions explicit by telling them somebody (or something)."
   ]
  },
  {
   "cell_type": "markdown",
   "metadata": {
    "button": false,
    "new_sheet": false,
    "run_control": {
     "read_only": false
    },
    "slideshow": {
     "slide_type": "slide"
    }
   },
   "source": [
    "## Next Steps\n",
    "\n",
    "In the next chapters, we will learn how to\n",
    "\n",
    "* [trace and observe executions](Tracer.ipynb)\n",
    "* [build your own interactive debugger](Debugger.ipynb)\n",
    "* [locate defects automatically by correlating failures and code coverage](StatisticalDebugger.ipynb)\n",
    "* [identify and simplify failure-inducing inputs](DeltaDebugger.ipynb)\n",
    "\n",
    "Enjoy!"
   ]
  },
  {
   "cell_type": "markdown",
   "metadata": {
    "slideshow": {
     "slide_type": "slide"
    }
   },
   "source": [
    "## Background\n",
    "\n",
    "There are several good books on debugging, but these three are especially recommended:\n",
    "\n",
    "* _Debugging_ by Agans \\cite{agans2006-debugging} takes a pragmatic approach to debugging, highlighting systematic approaches that help for all kinds of application-specific problems;\n",
    "* _Why Programs Fail_ by Zeller \\cite{zeller2009-why-programs-fail} takes a more academic approach, creating theories of how failures come to be and systematic debugging processes;\n",
    "* _Effective Debugging_ by Spinellis \\cite{spinellis2016-effective-debugging} aims for a middle ground between the two, creating general recipes and recommendations that easily instantiate towards specific problems.\n",
    "\n",
    "All these books focus on _manual_ debugging and the debugging process, just like this chapter; for _automated_ debugging, simply read on :-)"
   ]
  },
  {
   "cell_type": "markdown",
   "metadata": {
    "button": false,
    "new_sheet": true,
    "run_control": {
     "read_only": false
    },
    "slideshow": {
     "slide_type": "slide"
    }
   },
   "source": [
    "## Exercises"
   ]
  },
  {
   "cell_type": "markdown",
   "metadata": {
    "button": false,
    "new_sheet": true,
    "run_control": {
     "read_only": false
    },
    "slideshow": {
     "slide_type": "subslide"
    }
   },
   "source": [
    "### Exercise 1: Get Acquainted with Notebooks and Python\n",
    "\n",
    "Your first exercise in this book is to get acquainted with notebooks and Python, such that you can run the code examples in the book – and try out your own. Here are a few tasks to get you started."
   ]
  },
  {
   "cell_type": "markdown",
   "metadata": {
    "button": false,
    "new_sheet": true,
    "run_control": {
     "read_only": false
    },
    "slideshow": {
     "slide_type": "subslide"
    }
   },
   "source": [
    "#### Beginner Level: Run Notebooks in Your Browser\n",
    "\n",
    "The easiest way to get access to the code is to run them in your browser.\n",
    "\n",
    "1. From the [Web Page](__CHAPTER_HTML__), check out the menu at the top. Select `Resources` $\\rightarrow$ `Edit as Notebook`.\n",
    "2. After a short waiting time, this will open a Jupyter Notebook right within your browser, containing the current chapter as a notebook.\n",
    "3. You can again scroll through the material, but you click on any code example to edit and run its code (by entering <kbd>Shift</kbd> + <kbd>Return</kbd>). You can edit the examples as you please.\n",
    "4. Note that code examples typically depend on earlier code, so be sure to run the preceding code first.\n",
    "5. Any changes you make will not be saved (unless you save your notebook to disk).\n",
    "\n",
    "For help on Jupyter Notebooks, from the [Web Page](__CHAPTER_HTML__), check out the `Help` menu."
   ]
  },
  {
   "cell_type": "markdown",
   "metadata": {
    "button": false,
    "new_sheet": true,
    "run_control": {
     "read_only": false
    },
    "slideshow": {
     "slide_type": "subslide"
    }
   },
   "source": [
    "#### Advanced Level: Run Python Code on Your Machine\n",
    "\n",
    "This is useful if you want to make greater changes, but do not want to work with Jupyter.\n",
    "\n",
    "1. From the [Web Page](__CHAPTER_HTML__), check out the menu at the top. Select `Resources` $\\rightarrow$ `Download Code`. \n",
    "2. This will download the Python code of the chapter as a single Python .py file, which you can save to your computer.\n",
    "3. You can then open the file, edit it, and run it in your favorite Python environment to re-run the examples.\n",
    "4. Most importantly, you can [import it](Importing.ipynb) into your own code and reuse functions, classes, and other resources.\n",
    "\n",
    "For help on Python, from the [Web Page](__CHAPTER_HTML__), check out the `Help` menu."
   ]
  },
  {
   "attachments": {},
   "cell_type": "markdown",
   "metadata": {
    "button": false,
    "new_sheet": true,
    "run_control": {
     "read_only": false
    },
    "slideshow": {
     "slide_type": "subslide"
    }
   },
   "source": [
    "#### Pro Level: Run Notebooks on Your Machine\n",
    "\n",
    "This is useful if you want to work with Jupyter on your machine. This will allow you to also run more complex examples, such as those with graphical output.\n",
    "\n",
    "\n",
    "1. From the [Web Page](__CHAPTER_HTML__), check out the menu at the top. Select `Resources` $\\rightarrow$ `All Notebooks`.\n",
    "2. This will download all Jupyter Notebooks as a collection of .ipynb files, which you can save to your computer.\n",
    "3. You can then open the notebooks in Jupyter Notebook or Jupyter Lab, edit them, and run them. To navigate across notebooks, open the notebook [`00_Table_of_Contents.ipynb`](00_Table_of_Contents.ipynb).\n",
    "4. You can also download individual notebooks using Select `Resources` $\\rightarrow$ `Download Notebook`. Running these, however, will require that you have the other notebooks downloaded already.\n",
    "\n",
    "For help on Jupyter Notebooks, from the [Web Page](__CHAPTER_HTML__), check out the `Help` menu."
   ]
  },
  {
   "attachments": {},
   "cell_type": "markdown",
   "metadata": {
    "button": false,
    "new_sheet": true,
    "run_control": {
     "read_only": false
    },
    "slideshow": {
     "slide_type": "subslide"
    }
   },
   "source": [
    "#### Boss Level: Contribute!\n",
    "\n",
    "This is useful if you want to contribute to the book with patches or other material. It also gives you access to the very latest version of the book.\n",
    "\n",
    "1. From the [Web Page](__CHAPTER_HTML__), check out the menu at the top. Select `Resources` $\\rightarrow$ `GitHub Repo`.\n",
    "2. This will get you to the GitHub repository which contains all sources of the book, including the latest notebooks.\n",
    "3. You can then _clone_ this repository to your disk, such that you get the latest and greatest.\n",
    "4. You can report issues and suggest pull requests on the GitHub page.\n",
    "5. Updating the repository with `git pull` will get you updated.\n",
    "\n",
    "If you want to contribute code or text, check out the [Guide for Authors](Guide_for_Authors.ipynb)."
   ]
  },
  {
   "cell_type": "markdown",
   "metadata": {
    "button": false,
    "new_sheet": false,
    "run_control": {
     "read_only": false
    },
    "slideshow": {
     "slide_type": "subslide"
    },
    "solution2": "hidden",
    "solution2_first": true
   },
   "source": [
    "### Exercise 2: More Bugs!\n",
    "\n",
    "You may have noticed that our `remove_html_markup()` function is still not working perfectly under all circumstances.  The error has something to do with different quotes occurring in the input."
   ]
  },
  {
   "cell_type": "markdown",
   "metadata": {
    "button": false,
    "new_sheet": false,
    "run_control": {
     "read_only": false
    },
    "slideshow": {
     "slide_type": "subslide"
    }
   },
   "source": [
    "#### Part 1: Find the Problem\n",
    "\n",
    "What does the problem look like? Set up a test case that demonstrates the problem."
   ]
  },
  {
   "cell_type": "code",
   "execution_count": 60,
   "metadata": {
    "cell_style": "center",
    "execution": {
     "iopub.execute_input": "2023-02-11T10:03:01.164179Z",
     "iopub.status.busy": "2023-02-11T10:03:01.163517Z",
     "iopub.status.idle": "2023-02-11T10:03:01.165829Z",
     "shell.execute_reply": "2023-02-11T10:03:01.166413Z"
    },
    "slideshow": {
     "slide_type": "fragment"
    }
   },
   "outputs": [],
   "source": [
    "assert(...)"
   ]
  },
  {
   "cell_type": "markdown",
   "metadata": {
    "slideshow": {
     "slide_type": "fragment"
    },
    "solution2": "hidden",
    "solution2_first": true
   },
   "source": [
    "Set up additional test cases as useful."
   ]
  },
  {
   "cell_type": "markdown",
   "metadata": {
    "button": false,
    "new_sheet": false,
    "run_control": {
     "read_only": false
    },
    "slideshow": {
     "slide_type": "skip"
    },
    "solution2": "hidden"
   },
   "source": [
    "**Solution.** The remaining problem stems from the fact that in `remove_html_markup()`, we do not differentiate between single and double quotes. Hence, if we have a _quote within a quoted text_, the function may get confused. Notably, a string that begins with a double quote may be interpreted as ending when a single quote is seen, and vice versa. Here's an example of such a string:\n",
    "\n",
    "```html\n",
    "<b title=\"<Shakespeare's play>\">foo</b>\n",
    "```"
   ]
  },
  {
   "cell_type": "markdown",
   "metadata": {
    "slideshow": {
     "slide_type": "skip"
    },
    "solution2": "hidden"
   },
   "source": [
    "When we remove the HTML markup, the `>` in the string is interpreted as _unquoted_. Hence, it is interpreted as ending the tag, such that the rest of the tag is not removed."
   ]
  },
  {
   "cell_type": "code",
   "execution_count": 61,
   "metadata": {
    "execution": {
     "iopub.execute_input": "2023-02-11T10:03:01.170912Z",
     "iopub.status.busy": "2023-02-11T10:03:01.170439Z",
     "iopub.status.idle": "2023-02-11T10:03:01.172361Z",
     "shell.execute_reply": "2023-02-11T10:03:01.172588Z"
    },
    "slideshow": {
     "slide_type": "skip"
    },
    "solution2": "hidden"
   },
   "outputs": [
    {
     "data": {
      "text/plain": [
       "'<b title=\"<Shakespeare\\'s play>\">foo</b>'"
      ]
     },
     "execution_count": 61,
     "metadata": {},
     "output_type": "execute_result"
    }
   ],
   "source": [
    "s = '<b title=\"<Shakespeare' + \"'s play>\" + '\">foo</b>'\n",
    "s"
   ]
  },
  {
   "cell_type": "code",
   "execution_count": 62,
   "metadata": {
    "execution": {
     "iopub.execute_input": "2023-02-11T10:03:01.174819Z",
     "iopub.status.busy": "2023-02-11T10:03:01.174476Z",
     "iopub.status.idle": "2023-02-11T10:03:01.176079Z",
     "shell.execute_reply": "2023-02-11T10:03:01.176340Z"
    },
    "slideshow": {
     "slide_type": "skip"
    },
    "solution2": "hidden"
   },
   "outputs": [
    {
     "data": {
      "text/plain": [
       "'\"foo'"
      ]
     },
     "execution_count": 62,
     "metadata": {},
     "output_type": "execute_result"
    }
   ],
   "source": [
    "remove_html_markup(s)"
   ]
  },
  {
   "cell_type": "code",
   "execution_count": 63,
   "metadata": {
    "cell_style": "split",
    "execution": {
     "iopub.execute_input": "2023-02-11T10:03:01.178464Z",
     "iopub.status.busy": "2023-02-11T10:03:01.177990Z",
     "iopub.status.idle": "2023-02-11T10:03:01.179756Z",
     "shell.execute_reply": "2023-02-11T10:03:01.180136Z"
    },
    "slideshow": {
     "slide_type": "skip"
    },
    "solution2": "hidden"
   },
   "outputs": [
    {
     "name": "stderr",
     "output_type": "stream",
     "text": [
      "Traceback (most recent call last):\n",
      "  File \"/var/folders/n2/xd9445p97rb3xh7m1dfx8_4h0006ts/T/ipykernel_358/2099129847.py\", line 2, in <cell line: 1>\n",
      "    assert(remove_html_markup(s) == \"foo\")\n",
      "AssertionError (expected)\n"
     ]
    }
   ],
   "source": [
    "with ExpectError():\n",
    "    assert(remove_html_markup(s) == \"foo\")"
   ]
  },
  {
   "cell_type": "markdown",
   "metadata": {
    "slideshow": {
     "slide_type": "subslide"
    },
    "solution2": "hidden",
    "solution2_first": true
   },
   "source": [
    "#### Part 2: Identify Extent and Cause\n",
    "\n",
    "Using the scientific method, identify the extent and cause of the problem. Write down your hypotheses and log your observations, as in\n",
    "\n",
    "|Input|Expectation|Output|Outcome|\n",
    "|-----|-----------|------|-------|\n",
    "|(input)|(expectation)|(output)|(outcome)|\n"
   ]
  },
  {
   "cell_type": "markdown",
   "metadata": {
    "slideshow": {
     "slide_type": "skip"
    },
    "solution2": "hidden"
   },
   "source": [
    "**Solution.** The first step is obviously\n",
    "\n",
    "|Input|Expectation|Output|Outcome|\n",
    "|-----|-----------|------|-------|\n",
    "|<b title=\"<Shakespeare's play>\">foo</b>|foo|\"foo|✘|\n"
   ]
  },
  {
   "cell_type": "markdown",
   "metadata": {
    "slideshow": {
     "slide_type": "subslide"
    },
    "solution2": "hidden",
    "solution2_first": true
   },
   "source": [
    "#### Part 3: Fix the Problem\n",
    "\n",
    "Design a fix for the problem. Show that it satisfies the earlier tests and does not violate any existing test."
   ]
  },
  {
   "cell_type": "markdown",
   "metadata": {
    "slideshow": {
     "slide_type": "skip"
    },
    "solution2": "hidden"
   },
   "source": [
    "**Solution**. Here's an improved implementation that actually tracks the opening and closing quote by storing the quoting character in the `quote` variable. (If `quote` is `''`, we are not in a string.)"
   ]
  },
  {
   "cell_type": "code",
   "execution_count": 64,
   "metadata": {
    "execution": {
     "iopub.execute_input": "2023-02-11T10:03:01.183083Z",
     "iopub.status.busy": "2023-02-11T10:03:01.182757Z",
     "iopub.status.idle": "2023-02-11T10:03:01.184007Z",
     "shell.execute_reply": "2023-02-11T10:03:01.184390Z"
    },
    "slideshow": {
     "slide_type": "skip"
    },
    "solution2": "hidden"
   },
   "outputs": [],
   "source": [
    "def remove_html_markup_with_proper_quotes(s):  # type: ignore\n",
    "    tag = False\n",
    "    quote = ''\n",
    "    out = \"\"\n",
    "\n",
    "    for c in s:\n",
    "        assert tag or quote == ''\n",
    "\n",
    "        if c == '<' and quote == '':\n",
    "            tag = True\n",
    "        elif c == '>' and quote == '':\n",
    "            tag = False\n",
    "        elif (c == '\"' or c == \"'\") and tag and quote == '':\n",
    "            # beginning of string\n",
    "            quote = c\n",
    "        elif c == quote:\n",
    "            # end of string\n",
    "            quote = ''\n",
    "        elif not tag:\n",
    "            out = out + c\n",
    "\n",
    "    return out"
   ]
  },
  {
   "cell_type": "markdown",
   "metadata": {
    "slideshow": {
     "slide_type": "skip"
    },
    "solution2": "hidden"
   },
   "source": [
    "Python enthusiasts may note that we could also write `not quote` instead of `quote == ''`, leaving most of the original code untouched. We stick to classic Boolean comparisons here."
   ]
  },
  {
   "cell_type": "markdown",
   "metadata": {
    "slideshow": {
     "slide_type": "skip"
    },
    "solution2": "hidden"
   },
   "source": [
    "The function now satisfies the earlier failing test:"
   ]
  },
  {
   "cell_type": "code",
   "execution_count": 65,
   "metadata": {
    "cell_style": "split",
    "execution": {
     "iopub.execute_input": "2023-02-11T10:03:01.187126Z",
     "iopub.status.busy": "2023-02-11T10:03:01.186621Z",
     "iopub.status.idle": "2023-02-11T10:03:01.187834Z",
     "shell.execute_reply": "2023-02-11T10:03:01.188171Z"
    },
    "slideshow": {
     "slide_type": "skip"
    },
    "solution2": "hidden"
   },
   "outputs": [],
   "source": [
    "assert(remove_html_markup_with_proper_quotes(s) == \"foo\")"
   ]
  },
  {
   "cell_type": "markdown",
   "metadata": {
    "slideshow": {
     "slide_type": "skip"
    },
    "solution2": "hidden"
   },
   "source": [
    "as well as all our earlier tests:"
   ]
  },
  {
   "cell_type": "code",
   "execution_count": 66,
   "metadata": {
    "execution": {
     "iopub.execute_input": "2023-02-11T10:03:01.191276Z",
     "iopub.status.busy": "2023-02-11T10:03:01.190767Z",
     "iopub.status.idle": "2023-02-11T10:03:01.192436Z",
     "shell.execute_reply": "2023-02-11T10:03:01.192695Z"
    },
    "slideshow": {
     "slide_type": "skip"
    },
    "solution2": "hidden"
   },
   "outputs": [],
   "source": [
    "assert remove_html_markup_with_proper_quotes(\n",
    "    \"Here's some <strong>strong argument</strong>.\") == \\\n",
    "    \"Here's some strong argument.\"\n",
    "assert remove_html_markup_with_proper_quotes(\n",
    "    '<input type=\"text\" value=\"<your name>\">') == \"\"\n",
    "assert remove_html_markup_with_proper_quotes('<b>foo</b>') == 'foo'\n",
    "assert remove_html_markup_with_proper_quotes('<b>\"foo\"</b>') == '\"foo\"'\n",
    "assert remove_html_markup_with_proper_quotes('\"<b>foo</b>\"') == '\"foo\"'\n",
    "assert remove_html_markup_with_proper_quotes('<b id=\"bar\">foo</b>') == 'foo'"
   ]
  }
 ],
 "metadata": {
  "ipub": {
   "bibliography": "fuzzingbook.bib",
   "toc": true
  },
  "kernelspec": {
   "display_name": "Python 3 (ipykernel)",
   "language": "python",
   "name": "python3"
  },
  "language_info": {
   "codemirror_mode": {
    "name": "ipython",
    "version": 3
   },
   "file_extension": ".py",
   "mimetype": "text/x-python",
   "name": "python",
   "nbconvert_exporter": "python",
   "pygments_lexer": "ipython3",
   "version": "3.10.2"
  },
  "toc": {
   "base_numbering": 1,
   "nav_menu": {},
   "number_sections": true,
   "sideBar": true,
   "skip_h1_title": true,
   "title_cell": "",
   "title_sidebar": "Contents",
   "toc_cell": false,
   "toc_position": {},
   "toc_section_display": true,
   "toc_window_display": true
  },
  "toc-autonumbering": false
 },
 "nbformat": 4,
 "nbformat_minor": 4
}
