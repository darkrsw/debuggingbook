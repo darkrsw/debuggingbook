{
 "cells": [
  {
   "cell_type": "markdown",
   "metadata": {
    "button": false,
    "new_sheet": false,
    "run_control": {
     "read_only": false
    },
    "slideshow": {
     "slide_type": "slide"
    }
   },
   "source": [
    "# Reducing Failure-Inducing Inputs\n",
    "\n",
    "A standard problem in debugging is this: Your program fails after processing some large input. Only a _part_ of this input, however, is responsible for the failure. _Reducing_ the input to a failure-inducing minimum not only eases debugging – it also helps in understanding why and when the program fails. In this chapter, we present techniques that _automatically reduce and simplify failure-inducing inputs to a minimum_, notably the popular _Delta Debugging_ technique."
   ]
  },
  {
   "cell_type": "code",
   "execution_count": 1,
   "metadata": {
    "execution": {
     "iopub.execute_input": "2023-02-11T10:04:18.515686Z",
     "iopub.status.busy": "2023-02-11T10:04:18.510299Z",
     "iopub.status.idle": "2023-02-11T10:04:18.567451Z",
     "shell.execute_reply": "2023-02-11T10:04:18.567663Z"
    },
    "slideshow": {
     "slide_type": "skip"
    }
   },
   "outputs": [
    {
     "data": {
      "text/html": [
       "\n",
       "        <iframe\n",
       "            width=\"640\"\n",
       "            height=\"360\"\n",
       "            src=\"https://www.youtube-nocookie.com/embed/6fmJ5l257bM\"\n",
       "            frameborder=\"0\"\n",
       "            allowfullscreen\n",
       "            \n",
       "        ></iframe>\n",
       "        "
      ],
      "text/plain": [
       "<IPython.lib.display.IFrame at 0x1080af460>"
      ]
     },
     "execution_count": 1,
     "metadata": {},
     "output_type": "execute_result"
    }
   ],
   "source": [
    "from bookutils import YouTubeVideo\n",
    "YouTubeVideo(\"6fmJ5l257bM\")"
   ]
  },
  {
   "cell_type": "markdown",
   "metadata": {
    "button": false,
    "new_sheet": false,
    "run_control": {
     "read_only": false
    },
    "slideshow": {
     "slide_type": "subslide"
    }
   },
   "source": [
    "**Prerequisites**\n",
    "\n",
    "* Using the \"delta debugging\" technique for reduction has no specific prerequisites.\n",
    "* To understand the `DeltaDebugger` implementation, reading [the chapter on tracing](Tracer.ipynb) is recommended."
   ]
  },
  {
   "attachments": {},
   "cell_type": "markdown",
   "metadata": {
    "button": false,
    "new_sheet": false,
    "run_control": {
     "read_only": false
    },
    "slideshow": {
     "slide_type": "fragment"
    }
   },
   "source": [
    "This chapter is adapted from [a similar chapter in \"The Fuzzing Book\"](https://www.fuzzingbook.org/html/Reducer.html). The material has been adapted to be independent of the `fuzzingbook` infrastructure, to build on general delta debugging (`dd`), and to provide a simpler invocation interface."
   ]
  },
  {
   "cell_type": "markdown",
   "metadata": {
    "slideshow": {
     "slide_type": "skip"
    }
   },
   "source": [
    "## Synopsis\n",
    "<!-- Automatically generated. Do not edit. -->\n",
    "\n",
    "To [use the code provided in this chapter](Importing.ipynb), write\n",
    "\n",
    "```python\n",
    ">>> from debuggingbook.DeltaDebugger import <identifier>\n",
    "```\n",
    "\n",
    "and then make use of the following features.\n",
    "\n",
    "\n",
    "A _reducer_ takes a failure-inducing input and reduces it to the minimum that still reproduces the failure.  This chapter provides a `DeltaDebugger` class that implements such a reducer.\n",
    "\n",
    "Here is a simple example: An arithmetic expression causes an error in the Python interpreter:\n",
    "\n",
    "```python\n",
    ">>> def myeval(inp: str) -> Any:\n",
    ">>>     return eval(inp)\n",
    ">>> with ExpectError(ZeroDivisionError):\n",
    ">>>     myeval('1 + 2 * 3 / 0')\n",
    "Traceback (most recent call last):\n",
    "  File \"/var/folders/n2/xd9445p97rb3xh7m1dfx8_4h0006ts/T/ipykernel_1782/4002351332.py\", line 2, in <cell line: 1>\n",
    "    myeval('1 + 2 * 3 / 0')\n",
    "  File \"/var/folders/n2/xd9445p97rb3xh7m1dfx8_4h0006ts/T/ipykernel_1782/2200911420.py\", line 2, in myeval\n",
    "    return eval(inp)\n",
    "  File \"<string>\", line 1, in <module>\n",
    "ZeroDivisionError: division by zero (expected)\n",
    "\n",
    "```\n",
    "Can we reduce this input to a minimum? _Delta Debugging_ is a simple and robust reduction algorithm. We provide a `DeltaDebugger` class that is used in conjunction with a (failing) function call:\n",
    "\n",
    "```python\n",
    "with DeltaDebugger() as dd:\n",
    "    fun(args...)\n",
    "dd\n",
    "```\n",
    "\n",
    "The class automatically determines minimal arguments that cause the function to fail with the same exception as the original. Printing out the class object reveals the minimized call.\n",
    "\n",
    "```python\n",
    ">>> with DeltaDebugger() as dd:\n",
    ">>>     myeval('1 + 2 * 3 / 0')\n",
    ">>> dd\n",
    "myeval(inp='3/0')\n",
    "```\n",
    "The input is reduced to the minimum: We get the essence of the division by zero.\n",
    "\n",
    "There also is an interface to access the reduced input(s) programmatically. The method `min_args()` returns a dictionary in which all function arguments are minimized:\n",
    "\n",
    "```python\n",
    ">>> dd.min_args()\n",
    "{'inp': '3/0'}\n",
    "```\n",
    "In contrast, `max_args()` returns a dictionary in which all function arguments are maximized, but still pass:\n",
    "\n",
    "```python\n",
    ">>> dd.max_args()\n",
    "{'inp': '1 + 2 * 3  '}\n",
    "```\n",
    "The method `min_arg_diff()` returns a triple of \n",
    "* passing input,\n",
    "* failing input, and\n",
    "* their minimal failure-inducing difference:\n",
    "\n",
    "```python\n",
    ">>> dd.min_arg_diff()\n",
    "({'inp': ' 3 '}, {'inp': ' 3 /0'}, {'inp': '/0'})\n",
    "```\n",
    "And you can also access the function itself, as well as its original arguments.\n",
    "\n",
    "```python\n",
    ">>> dd.function().__name__, dd.args()\n",
    "('myeval', {'inp': '1 + 2 * 3 / 0'})\n",
    "```\n",
    "`DeltaDebugger` processes (i.e., minimizes or maximizes) all arguments that support a `len()` operation and that can be indexed – notably _strings_ and _lists_. If a function has multiple arguments, all arguments that can be processed will be processed.\n",
    "\n",
    "This chapter also provides a number of superclasses to `DeltaDebugger`, notably `CallCollector`, which obtains the first function call for `DeltaDebugger`. `CallReducer` classes allow for implementing alternate call reduction strategies.\n",
    "\n",
    "![](PICS/DeltaDebugger-synopsis-1.svg)\n",
    "\n"
   ]
  },
  {
   "cell_type": "markdown",
   "metadata": {
    "button": false,
    "new_sheet": true,
    "run_control": {
     "read_only": false
    },
    "slideshow": {
     "slide_type": "slide"
    }
   },
   "source": [
    "## Why Reducing?\n",
    "\n",
    "A common problem in debugging is that given an input, only a _small part of that input may be responsible for the failure_. A central part of debugging is to _identify_ these parts – and to simplify (or _reduce_) the input to a minimal form that reproduces the failure – but does and contains as little else as possible."
   ]
  },
  {
   "cell_type": "markdown",
   "metadata": {
    "button": false,
    "new_sheet": true,
    "run_control": {
     "read_only": false
    },
    "slideshow": {
     "slide_type": "fragment"
    }
   },
   "source": [
    "Here's an example of such a situation.  We have a `mystery()` method that – given its code – can occasionally fail.  But under which circumstances does this actually happen?  We have deliberately obscured the exact condition in order to make this non-obvious."
   ]
  },
  {
   "cell_type": "code",
   "execution_count": 2,
   "metadata": {
    "button": false,
    "execution": {
     "iopub.execute_input": "2023-02-11T10:04:18.571185Z",
     "iopub.status.busy": "2023-02-11T10:04:18.570484Z",
     "iopub.status.idle": "2023-02-11T10:04:18.573086Z",
     "shell.execute_reply": "2023-02-11T10:04:18.573451Z"
    },
    "new_sheet": false,
    "run_control": {
     "read_only": false
    },
    "slideshow": {
     "slide_type": "skip"
    }
   },
   "outputs": [],
   "source": [
    "import bookutils"
   ]
  },
  {
   "cell_type": "code",
   "execution_count": 3,
   "metadata": {
    "execution": {
     "iopub.execute_input": "2023-02-11T10:04:18.575873Z",
     "iopub.status.busy": "2023-02-11T10:04:18.575513Z",
     "iopub.status.idle": "2023-02-11T10:04:18.677456Z",
     "shell.execute_reply": "2023-02-11T10:04:18.677785Z"
    },
    "slideshow": {
     "slide_type": "skip"
    }
   },
   "outputs": [],
   "source": [
    "import Tracer"
   ]
  },
  {
   "cell_type": "code",
   "execution_count": 4,
   "metadata": {
    "execution": {
     "iopub.execute_input": "2023-02-11T10:04:18.680100Z",
     "iopub.status.busy": "2023-02-11T10:04:18.679777Z",
     "iopub.status.idle": "2023-02-11T10:04:18.681684Z",
     "shell.execute_reply": "2023-02-11T10:04:18.682299Z"
    },
    "slideshow": {
     "slide_type": "skip"
    }
   },
   "outputs": [],
   "source": [
    "from bookutils import quiz"
   ]
  },
  {
   "cell_type": "code",
   "execution_count": 5,
   "metadata": {
    "execution": {
     "iopub.execute_input": "2023-02-11T10:04:18.690958Z",
     "iopub.status.busy": "2023-02-11T10:04:18.690651Z",
     "iopub.status.idle": "2023-02-11T10:04:18.691777Z",
     "shell.execute_reply": "2023-02-11T10:04:18.692080Z"
    },
    "slideshow": {
     "slide_type": "subslide"
    }
   },
   "outputs": [],
   "source": [
    "def mystery(inp: str) -> None:\n",
    "    x = inp.find(chr(0o17 + 0o31))\n",
    "    y = inp.find(chr(0o27 + 0o22))\n",
    "    if x >= 0 and y >= 0 and x < y:\n",
    "        raise ValueError(\"Invalid input\")\n",
    "    else:\n",
    "        pass"
   ]
  },
  {
   "attachments": {},
   "cell_type": "markdown",
   "metadata": {
    "slideshow": {
     "slide_type": "fragment"
    }
   },
   "source": [
    "To find an input that causes the function to fail, let us _fuzz_ it – that is, feed it with random inputs – until we find a failing input. There are [entire books about fuzzing](https://fuzzingbook.org); but here, a very simple `fuzz()` function for this purpose will already suffice."
   ]
  },
  {
   "cell_type": "markdown",
   "metadata": {
    "slideshow": {
     "slide_type": "fragment"
    }
   },
   "source": [
    "To build a fuzzer, we need random inputs – and thus a source for randomness. The function `random.randrange(a, b)` returns a random number in the range (a, b)."
   ]
  },
  {
   "cell_type": "code",
   "execution_count": 6,
   "metadata": {
    "execution": {
     "iopub.execute_input": "2023-02-11T10:04:18.693928Z",
     "iopub.status.busy": "2023-02-11T10:04:18.693630Z",
     "iopub.status.idle": "2023-02-11T10:04:18.694818Z",
     "shell.execute_reply": "2023-02-11T10:04:18.695136Z"
    },
    "slideshow": {
     "slide_type": "skip"
    }
   },
   "outputs": [],
   "source": [
    "import random"
   ]
  },
  {
   "cell_type": "code",
   "execution_count": 7,
   "metadata": {
    "execution": {
     "iopub.execute_input": "2023-02-11T10:04:18.697068Z",
     "iopub.status.busy": "2023-02-11T10:04:18.696701Z",
     "iopub.status.idle": "2023-02-11T10:04:18.698794Z",
     "shell.execute_reply": "2023-02-11T10:04:18.699019Z"
    },
    "slideshow": {
     "slide_type": "subslide"
    }
   },
   "outputs": [
    {
     "data": {
      "text/plain": [
       "107"
      ]
     },
     "execution_count": 7,
     "metadata": {},
     "output_type": "execute_result"
    }
   ],
   "source": [
    "random.randrange(32, 128)"
   ]
  },
  {
   "cell_type": "markdown",
   "metadata": {
    "slideshow": {
     "slide_type": "fragment"
    }
   },
   "source": [
    "We can use `random.randrange()` to compose random (printable) characters:"
   ]
  },
  {
   "cell_type": "code",
   "execution_count": 8,
   "metadata": {
    "execution": {
     "iopub.execute_input": "2023-02-11T10:04:18.703195Z",
     "iopub.status.busy": "2023-02-11T10:04:18.702402Z",
     "iopub.status.idle": "2023-02-11T10:04:18.703962Z",
     "shell.execute_reply": "2023-02-11T10:04:18.704580Z"
    },
    "slideshow": {
     "slide_type": "fragment"
    }
   },
   "outputs": [],
   "source": [
    "def fuzz() -> str:\n",
    "    length = random.randrange(10, 70)\n",
    "    fuzz = \"\"\n",
    "    for i in range(length):\n",
    "        fuzz += chr(random.randrange(32, 127))\n",
    "    return fuzz"
   ]
  },
  {
   "cell_type": "markdown",
   "metadata": {
    "slideshow": {
     "slide_type": "fragment"
    }
   },
   "source": [
    "Here are some random strings produced by our `fuzz()` function:"
   ]
  },
  {
   "cell_type": "code",
   "execution_count": 9,
   "metadata": {
    "execution": {
     "iopub.execute_input": "2023-02-11T10:04:18.711311Z",
     "iopub.status.busy": "2023-02-11T10:04:18.710477Z",
     "iopub.status.idle": "2023-02-11T10:04:18.713709Z",
     "shell.execute_reply": "2023-02-11T10:04:18.713941Z"
    },
    "slideshow": {
     "slide_type": "subslide"
    }
   },
   "outputs": [
    {
     "name": "stdout",
     "output_type": "stream",
     "text": [
      "'N&+slk%hyp5'\n",
      "\"'@[3(rW*M5W]tMFPU4\\\\P@tz%[X?uo\\\\1?b4T;1bDeYtHx #UJ5\"\n",
      "'w}pMmPodJM,_%%BC~dYN6*g|Y*Ou9I<P94}7,99ivb(9`=%jJj*Y*d~OLXk!;J'\n",
      "\"!iOU8]hqg00?u(c);>:\\\\=V<ZV1=*g#UJA'No5QZ)~--[})Sdv#m*L\"\n",
      "'0iHh[-MzS.U.X}fG7aA:G<bEI\\'Ofn[\",Mx{@jfto}i3D?7%V7XdtO6BjYEa#Il)~]'\n",
      "\"E`h7h)ChX0G*m,|sosJ.mu/\\\\c'EpaPi0(n{\"\n"
     ]
    }
   ],
   "source": [
    "for i in range(6):\n",
    "    print(repr(fuzz()))"
   ]
  },
  {
   "cell_type": "markdown",
   "metadata": {
    "slideshow": {
     "slide_type": "fragment"
    }
   },
   "source": [
    "Let us now use `fuzz()` to find an input where `mistery()` fails:"
   ]
  },
  {
   "cell_type": "code",
   "execution_count": 10,
   "metadata": {
    "execution": {
     "iopub.execute_input": "2023-02-11T10:04:18.716616Z",
     "iopub.status.busy": "2023-02-11T10:04:18.716033Z",
     "iopub.status.idle": "2023-02-11T10:04:18.718333Z",
     "shell.execute_reply": "2023-02-11T10:04:18.718666Z"
    },
    "slideshow": {
     "slide_type": "subslide"
    }
   },
   "outputs": [],
   "source": [
    "while True:\n",
    "    fuzz_input = fuzz()\n",
    "    try:\n",
    "        mystery(fuzz_input)\n",
    "    except ValueError:\n",
    "        break"
   ]
  },
  {
   "cell_type": "markdown",
   "metadata": {
    "slideshow": {
     "slide_type": "fragment"
    }
   },
   "source": [
    "This is an input that causes `mystery()` to fail:"
   ]
  },
  {
   "cell_type": "code",
   "execution_count": 11,
   "metadata": {
    "execution": {
     "iopub.execute_input": "2023-02-11T10:04:18.721339Z",
     "iopub.status.busy": "2023-02-11T10:04:18.721008Z",
     "iopub.status.idle": "2023-02-11T10:04:18.722761Z",
     "shell.execute_reply": "2023-02-11T10:04:18.722968Z"
    },
    "slideshow": {
     "slide_type": "fragment"
    }
   },
   "outputs": [
    {
     "data": {
      "text/plain": [
       "'V\"/+!aF-(V4EOz*+s/Q,7)2@0_'"
      ]
     },
     "execution_count": 11,
     "metadata": {},
     "output_type": "execute_result"
    }
   ],
   "source": [
    "failing_input = fuzz_input\n",
    "failing_input"
   ]
  },
  {
   "cell_type": "code",
   "execution_count": 12,
   "metadata": {
    "execution": {
     "iopub.execute_input": "2023-02-11T10:04:18.725117Z",
     "iopub.status.busy": "2023-02-11T10:04:18.724759Z",
     "iopub.status.idle": "2023-02-11T10:04:18.726408Z",
     "shell.execute_reply": "2023-02-11T10:04:18.726612Z"
    },
    "slideshow": {
     "slide_type": "fragment"
    }
   },
   "outputs": [
    {
     "data": {
      "text/plain": [
       "26"
      ]
     },
     "execution_count": 12,
     "metadata": {},
     "output_type": "execute_result"
    }
   ],
   "source": [
    "len(failing_input)"
   ]
  },
  {
   "cell_type": "code",
   "execution_count": 13,
   "metadata": {
    "execution": {
     "iopub.execute_input": "2023-02-11T10:04:18.728517Z",
     "iopub.status.busy": "2023-02-11T10:04:18.728221Z",
     "iopub.status.idle": "2023-02-11T10:04:18.729583Z",
     "shell.execute_reply": "2023-02-11T10:04:18.729833Z"
    },
    "slideshow": {
     "slide_type": "skip"
    }
   },
   "outputs": [],
   "source": [
    "from ExpectError import ExpectError"
   ]
  },
  {
   "cell_type": "code",
   "execution_count": 14,
   "metadata": {
    "execution": {
     "iopub.execute_input": "2023-02-11T10:04:18.731872Z",
     "iopub.status.busy": "2023-02-11T10:04:18.731538Z",
     "iopub.status.idle": "2023-02-11T10:04:18.733143Z",
     "shell.execute_reply": "2023-02-11T10:04:18.737658Z"
    },
    "slideshow": {
     "slide_type": "subslide"
    }
   },
   "outputs": [
    {
     "name": "stderr",
     "output_type": "stream",
     "text": [
      "Traceback (most recent call last):\n",
      "  File \"/var/folders/n2/xd9445p97rb3xh7m1dfx8_4h0006ts/T/ipykernel_1782/3137704634.py\", line 2, in <cell line: 1>\n",
      "    mystery(failing_input)\n",
      "  File \"/var/folders/n2/xd9445p97rb3xh7m1dfx8_4h0006ts/T/ipykernel_1782/4141878445.py\", line 5, in mystery\n",
      "    raise ValueError(\"Invalid input\")\n",
      "ValueError: Invalid input (expected)\n"
     ]
    }
   ],
   "source": [
    "with ExpectError(ValueError):\n",
    "    mystery(failing_input)"
   ]
  },
  {
   "cell_type": "markdown",
   "metadata": {
    "slideshow": {
     "slide_type": "fragment"
    }
   },
   "source": [
    "Something in this input causes `mystery()` to fail.  But what is it?"
   ]
  },
  {
   "cell_type": "markdown",
   "metadata": {
    "button": false,
    "new_sheet": true,
    "run_control": {
     "read_only": false
    },
    "slideshow": {
     "slide_type": "slide"
    }
   },
   "source": [
    "## Manual Input Reduction\n",
    "\n",
    "One important step in the debugging process is _reduction_ – that is, to identify those circumstances of a failure that are relevant for the failure to occur, and to _omit_ (if possible) those parts that are not.  As Kernighan and Pike \\cite{Kernighan1999} put it:\n",
    "\n",
    "> For every circumstance of the problem, check whether it is relevant for the problem to occur.  If it is not, remove it from the problem report or the test case in question."
   ]
  },
  {
   "cell_type": "markdown",
   "metadata": {
    "slideshow": {
     "slide_type": "subslide"
    }
   },
   "source": [
    "Specifically for inputs, they suggest a _divide and conquer_ process:\n",
    "\n",
    "> Proceed by binary search.  Throw away half the input and see if the output is still wrong; if not, go back to the previous state and discard the other half of the input.\n",
    "\n",
    "This is something we can easily try out, using our last generated input:"
   ]
  },
  {
   "cell_type": "code",
   "execution_count": 15,
   "metadata": {
    "execution": {
     "iopub.execute_input": "2023-02-11T10:04:18.740106Z",
     "iopub.status.busy": "2023-02-11T10:04:18.739765Z",
     "iopub.status.idle": "2023-02-11T10:04:18.741500Z",
     "shell.execute_reply": "2023-02-11T10:04:18.741728Z"
    },
    "slideshow": {
     "slide_type": "fragment"
    }
   },
   "outputs": [
    {
     "data": {
      "text/plain": [
       "'V\"/+!aF-(V4EOz*+s/Q,7)2@0_'"
      ]
     },
     "execution_count": 15,
     "metadata": {},
     "output_type": "execute_result"
    }
   ],
   "source": [
    "failing_input"
   ]
  },
  {
   "cell_type": "markdown",
   "metadata": {
    "slideshow": {
     "slide_type": "fragment"
    }
   },
   "source": [
    "For instance, we can see whether the error still occurs if we only feed in the first half:"
   ]
  },
  {
   "cell_type": "code",
   "execution_count": 16,
   "metadata": {
    "execution": {
     "iopub.execute_input": "2023-02-11T10:04:18.744196Z",
     "iopub.status.busy": "2023-02-11T10:04:18.743848Z",
     "iopub.status.idle": "2023-02-11T10:04:18.745310Z",
     "shell.execute_reply": "2023-02-11T10:04:18.745503Z"
    },
    "slideshow": {
     "slide_type": "subslide"
    }
   },
   "outputs": [
    {
     "data": {
      "text/plain": [
       "'V\"/+!aF-(V4EO'"
      ]
     },
     "execution_count": 16,
     "metadata": {},
     "output_type": "execute_result"
    }
   ],
   "source": [
    "half_length = len(failing_input) // 2   # // is integer division\n",
    "first_half = failing_input[:half_length]\n",
    "first_half"
   ]
  },
  {
   "cell_type": "code",
   "execution_count": 17,
   "metadata": {
    "execution": {
     "iopub.execute_input": "2023-02-11T10:04:18.747650Z",
     "iopub.status.busy": "2023-02-11T10:04:18.747341Z",
     "iopub.status.idle": "2023-02-11T10:04:18.748650Z",
     "shell.execute_reply": "2023-02-11T10:04:18.748915Z"
    },
    "slideshow": {
     "slide_type": "fragment"
    }
   },
   "outputs": [],
   "source": [
    "with ExpectError(ValueError):\n",
    "    mystery(first_half)"
   ]
  },
  {
   "cell_type": "markdown",
   "metadata": {
    "slideshow": {
     "slide_type": "fragment"
    }
   },
   "source": [
    "Nope – the first half alone does not suffice.  Maybe the second half?"
   ]
  },
  {
   "cell_type": "code",
   "execution_count": 18,
   "metadata": {
    "execution": {
     "iopub.execute_input": "2023-02-11T10:04:18.751441Z",
     "iopub.status.busy": "2023-02-11T10:04:18.750921Z",
     "iopub.status.idle": "2023-02-11T10:04:18.752937Z",
     "shell.execute_reply": "2023-02-11T10:04:18.753178Z"
    },
    "slideshow": {
     "slide_type": "fragment"
    }
   },
   "outputs": [
    {
     "data": {
      "text/plain": [
       "'z*+s/Q,7)2@0_'"
      ]
     },
     "execution_count": 18,
     "metadata": {},
     "output_type": "execute_result"
    }
   ],
   "source": [
    "second_half = failing_input[half_length:]\n",
    "assert first_half + second_half == failing_input\n",
    "second_half"
   ]
  },
  {
   "cell_type": "code",
   "execution_count": 19,
   "metadata": {
    "execution": {
     "iopub.execute_input": "2023-02-11T10:04:18.755793Z",
     "iopub.status.busy": "2023-02-11T10:04:18.755413Z",
     "iopub.status.idle": "2023-02-11T10:04:18.761984Z",
     "shell.execute_reply": "2023-02-11T10:04:18.762187Z"
    },
    "slideshow": {
     "slide_type": "fragment"
    }
   },
   "outputs": [],
   "source": [
    "with ExpectError(ValueError):\n",
    "    mystery(second_half)"
   ]
  },
  {
   "cell_type": "markdown",
   "metadata": {
    "slideshow": {
     "slide_type": "subslide"
    }
   },
   "source": [
    "This did not go so well either.  We may still proceed by cutting away _smaller chunks_ – say, one character after another.  If our test is deterministic and easily repeated, it is clear that this process eventually will yield a reduced input.  But still, it is a rather inefficient process, especially for long inputs.  What we need is a _strategy_ that effectively minimizes a failure-inducing input – a strategy that can be automated."
   ]
  },
  {
   "cell_type": "markdown",
   "metadata": {
    "slideshow": {
     "slide_type": "slide"
    }
   },
   "source": [
    "## Delta Debugging"
   ]
  },
  {
   "cell_type": "markdown",
   "metadata": {
    "slideshow": {
     "slide_type": "fragment"
    }
   },
   "source": [
    "One strategy to effectively reduce failure-inducing inputs is _delta debugging_ \\cite{Zeller2002}.  Delta Debugging implements the \"binary search\" strategy, as listed above, but with a twist: If neither half fails (also as above), it keeps on cutting away smaller and smaller chunks from the input, until it eliminates individual characters.  Thus, after cutting away the first half, we cut away\n",
    "the first quarter, the second quarter, and so on."
   ]
  },
  {
   "cell_type": "markdown",
   "metadata": {
    "slideshow": {
     "slide_type": "fragment"
    }
   },
   "source": [
    "Let us illustrate this on our example, and see what happens if we cut away the first quarter."
   ]
  },
  {
   "cell_type": "code",
   "execution_count": 20,
   "metadata": {
    "execution": {
     "iopub.execute_input": "2023-02-11T10:04:18.764777Z",
     "iopub.status.busy": "2023-02-11T10:04:18.764281Z",
     "iopub.status.idle": "2023-02-11T10:04:18.766492Z",
     "shell.execute_reply": "2023-02-11T10:04:18.766752Z"
    },
    "slideshow": {
     "slide_type": "fragment"
    }
   },
   "outputs": [
    {
     "data": {
      "text/plain": [
       "'F-(V4EOz*+s/Q,7)2@0_'"
      ]
     },
     "execution_count": 20,
     "metadata": {},
     "output_type": "execute_result"
    }
   ],
   "source": [
    "quarter_length = len(failing_input) // 4\n",
    "input_without_first_quarter = failing_input[quarter_length:]\n",
    "input_without_first_quarter"
   ]
  },
  {
   "cell_type": "code",
   "execution_count": 21,
   "metadata": {
    "execution": {
     "iopub.execute_input": "2023-02-11T10:04:18.769273Z",
     "iopub.status.busy": "2023-02-11T10:04:18.768796Z",
     "iopub.status.idle": "2023-02-11T10:04:18.770750Z",
     "shell.execute_reply": "2023-02-11T10:04:18.771033Z"
    },
    "slideshow": {
     "slide_type": "subslide"
    }
   },
   "outputs": [
    {
     "name": "stderr",
     "output_type": "stream",
     "text": [
      "Traceback (most recent call last):\n",
      "  File \"/var/folders/n2/xd9445p97rb3xh7m1dfx8_4h0006ts/T/ipykernel_1782/2963114098.py\", line 2, in <cell line: 1>\n",
      "    mystery(input_without_first_quarter)\n",
      "  File \"/var/folders/n2/xd9445p97rb3xh7m1dfx8_4h0006ts/T/ipykernel_1782/4141878445.py\", line 5, in mystery\n",
      "    raise ValueError(\"Invalid input\")\n",
      "ValueError: Invalid input (expected)\n"
     ]
    }
   ],
   "source": [
    "with ExpectError(ValueError):\n",
    "    mystery(input_without_first_quarter)"
   ]
  },
  {
   "cell_type": "markdown",
   "metadata": {
    "slideshow": {
     "slide_type": "fragment"
    }
   },
   "source": [
    "Ah! This has failed, and reduced our failing input by 25%.  Let's remove another quarter."
   ]
  },
  {
   "cell_type": "code",
   "execution_count": 22,
   "metadata": {
    "execution": {
     "iopub.execute_input": "2023-02-11T10:04:18.773841Z",
     "iopub.status.busy": "2023-02-11T10:04:18.772921Z",
     "iopub.status.idle": "2023-02-11T10:04:18.775616Z",
     "shell.execute_reply": "2023-02-11T10:04:18.776110Z"
    },
    "slideshow": {
     "slide_type": "fragment"
    }
   },
   "outputs": [
    {
     "data": {
      "text/plain": [
       "'Oz*+s/Q,7)2@0_'"
      ]
     },
     "execution_count": 22,
     "metadata": {},
     "output_type": "execute_result"
    }
   ],
   "source": [
    "input_without_first_and_second_quarter = failing_input[quarter_length * 2:]\n",
    "input_without_first_and_second_quarter"
   ]
  },
  {
   "cell_type": "code",
   "execution_count": 23,
   "metadata": {
    "execution": {
     "iopub.execute_input": "2023-02-11T10:04:18.778874Z",
     "iopub.status.busy": "2023-02-11T10:04:18.778567Z",
     "iopub.status.idle": "2023-02-11T10:04:18.779972Z",
     "shell.execute_reply": "2023-02-11T10:04:18.780426Z"
    },
    "slideshow": {
     "slide_type": "subslide"
    }
   },
   "outputs": [],
   "source": [
    "with ExpectError(ValueError):\n",
    "    mystery(input_without_first_and_second_quarter)"
   ]
  },
  {
   "cell_type": "markdown",
   "metadata": {
    "slideshow": {
     "slide_type": "fragment"
    }
   },
   "source": [
    "This is not too surprising, as we had that one before:"
   ]
  },
  {
   "cell_type": "code",
   "execution_count": 24,
   "metadata": {
    "execution": {
     "iopub.execute_input": "2023-02-11T10:04:18.789005Z",
     "iopub.status.busy": "2023-02-11T10:04:18.786387Z",
     "iopub.status.idle": "2023-02-11T10:04:18.790120Z",
     "shell.execute_reply": "2023-02-11T10:04:18.790328Z"
    },
    "slideshow": {
     "slide_type": "fragment"
    }
   },
   "outputs": [
    {
     "data": {
      "text/plain": [
       "'z*+s/Q,7)2@0_'"
      ]
     },
     "execution_count": 24,
     "metadata": {},
     "output_type": "execute_result"
    }
   ],
   "source": [
    "second_half"
   ]
  },
  {
   "cell_type": "code",
   "execution_count": 25,
   "metadata": {
    "execution": {
     "iopub.execute_input": "2023-02-11T10:04:18.792769Z",
     "iopub.status.busy": "2023-02-11T10:04:18.792375Z",
     "iopub.status.idle": "2023-02-11T10:04:18.794273Z",
     "shell.execute_reply": "2023-02-11T10:04:18.794488Z"
    },
    "slideshow": {
     "slide_type": "fragment"
    }
   },
   "outputs": [
    {
     "data": {
      "text/plain": [
       "'Oz*+s/Q,7)2@0_'"
      ]
     },
     "execution_count": 25,
     "metadata": {},
     "output_type": "execute_result"
    }
   ],
   "source": [
    "input_without_first_and_second_quarter"
   ]
  },
  {
   "cell_type": "markdown",
   "metadata": {
    "slideshow": {
     "slide_type": "fragment"
    }
   },
   "source": [
    "How about removing the third quarter, then?"
   ]
  },
  {
   "cell_type": "code",
   "execution_count": 26,
   "metadata": {
    "execution": {
     "iopub.execute_input": "2023-02-11T10:04:18.796836Z",
     "iopub.status.busy": "2023-02-11T10:04:18.796053Z",
     "iopub.status.idle": "2023-02-11T10:04:18.799921Z",
     "shell.execute_reply": "2023-02-11T10:04:18.800298Z"
    },
    "slideshow": {
     "slide_type": "fragment"
    }
   },
   "outputs": [
    {
     "data": {
      "text/plain": [
       "'F-(V4EQ,7)2@0_'"
      ]
     },
     "execution_count": 26,
     "metadata": {},
     "output_type": "execute_result"
    }
   ],
   "source": [
    "input_without_first_and_third_quarter = failing_input[quarter_length:\n",
    "                                                      quarter_length * 2] + failing_input[quarter_length * 3:]\n",
    "input_without_first_and_third_quarter"
   ]
  },
  {
   "cell_type": "code",
   "execution_count": 27,
   "metadata": {
    "execution": {
     "iopub.execute_input": "2023-02-11T10:04:18.804018Z",
     "iopub.status.busy": "2023-02-11T10:04:18.803338Z",
     "iopub.status.idle": "2023-02-11T10:04:18.807897Z",
     "shell.execute_reply": "2023-02-11T10:04:18.808884Z"
    },
    "slideshow": {
     "slide_type": "subslide"
    }
   },
   "outputs": [
    {
     "name": "stderr",
     "output_type": "stream",
     "text": [
      "Traceback (most recent call last):\n",
      "  File \"/var/folders/n2/xd9445p97rb3xh7m1dfx8_4h0006ts/T/ipykernel_1782/4218135276.py\", line 2, in <cell line: 1>\n",
      "    mystery(input_without_first_and_third_quarter)\n",
      "  File \"/var/folders/n2/xd9445p97rb3xh7m1dfx8_4h0006ts/T/ipykernel_1782/4141878445.py\", line 5, in mystery\n",
      "    raise ValueError(\"Invalid input\")\n",
      "ValueError: Invalid input (expected)\n"
     ]
    }
   ],
   "source": [
    "with ExpectError(ValueError):\n",
    "    mystery(input_without_first_and_third_quarter)"
   ]
  },
  {
   "cell_type": "markdown",
   "metadata": {
    "slideshow": {
     "slide_type": "fragment"
    }
   },
   "source": [
    "Yes!  This has succeeded.  Our input is now 50% smaller."
   ]
  },
  {
   "cell_type": "markdown",
   "metadata": {
    "slideshow": {
     "slide_type": "fragment"
    }
   },
   "source": [
    "We have now tried to remove pieces that make up $\\frac{1}{2}$ and $\\frac{1}{4}$ of the original failing string.  In the next iteration, we would go and remove even smaller pieces – $\\frac{1}{8}$, $\\frac{1}{16}$ and so on.  We continue until we are down to $\\frac{1}{26}$ – that is, individual characters."
   ]
  },
  {
   "cell_type": "markdown",
   "metadata": {
    "slideshow": {
     "slide_type": "subslide"
    }
   },
   "source": [
    "However, this is something we happily let a computer do for us – and this is what the _Delta Debugging_ algorithm does.  Delta Debugging implements the strategy sketched above: It first removes larger chunks of size $\\frac{1}{2}$; if this does not fail, then we proceed to chunks of size $\\frac{1}{4}$, then $\\frac{1}{8}$ and so on."
   ]
  },
  {
   "cell_type": "markdown",
   "metadata": {
    "slideshow": {
     "slide_type": "fragment"
    }
   },
   "source": [
    "Our `ddmin()` implementation uses the exact same Python code as Zeller in \\cite{Zeller2002}; the only difference is that it has been adapted to work on Python 3.  The variable `n` (initially 2) indicates the granularity – in each step, chunks of size $\\frac{1}{n}$ are cut away.  If none of the test fails (`some_complement_is_failing` is False), then `n` is doubled – until it reaches the length of the input."
   ]
  },
  {
   "cell_type": "code",
   "execution_count": 28,
   "metadata": {
    "execution": {
     "iopub.execute_input": "2023-02-11T10:04:18.814042Z",
     "iopub.status.busy": "2023-02-11T10:04:18.813629Z",
     "iopub.status.idle": "2023-02-11T10:04:18.814776Z",
     "shell.execute_reply": "2023-02-11T10:04:18.814989Z"
    },
    "slideshow": {
     "slide_type": "fragment"
    }
   },
   "outputs": [],
   "source": [
    "PASS = 'PASS'\n",
    "FAIL = 'FAIL'\n",
    "UNRESOLVED = 'UNRESOLVED'"
   ]
  },
  {
   "cell_type": "code",
   "execution_count": 29,
   "metadata": {
    "execution": {
     "iopub.execute_input": "2023-02-11T10:04:18.818213Z",
     "iopub.status.busy": "2023-02-11T10:04:18.817590Z",
     "iopub.status.idle": "2023-02-11T10:04:18.819575Z",
     "shell.execute_reply": "2023-02-11T10:04:18.819831Z"
    },
    "slideshow": {
     "slide_type": "subslide"
    }
   },
   "outputs": [],
   "source": [
    "# ignore\n",
    "from typing import Sequence, Any, Callable, Optional, Type, Tuple\n",
    "from typing import Dict, Union, Set, List, FrozenSet, cast"
   ]
  },
  {
   "cell_type": "code",
   "execution_count": 30,
   "metadata": {
    "execution": {
     "iopub.execute_input": "2023-02-11T10:04:18.822915Z",
     "iopub.status.busy": "2023-02-11T10:04:18.822596Z",
     "iopub.status.idle": "2023-02-11T10:04:18.823757Z",
     "shell.execute_reply": "2023-02-11T10:04:18.824009Z"
    },
    "slideshow": {
     "slide_type": "subslide"
    }
   },
   "outputs": [],
   "source": [
    "def ddmin(test: Callable, inp: Sequence, *test_args: Any) -> Sequence:\n",
    "    \"\"\"Reduce the input inp, using the outcome of test(fun, inp).\"\"\"\n",
    "    assert test(inp, *test_args) != PASS\n",
    "\n",
    "    n = 2     # Initial granularity\n",
    "    while len(inp) >= 2:\n",
    "        start = 0\n",
    "        subset_length = int(len(inp) / n)\n",
    "        some_complement_is_failing = False\n",
    "\n",
    "        while start < len(inp):\n",
    "            complement = (inp[:int(start)] + inp[int(start + subset_length):])  # type: ignore\n",
    "\n",
    "            if test(complement, *test_args) == FAIL:\n",
    "                inp = complement\n",
    "                n = max(n - 1, 2)\n",
    "                some_complement_is_failing = True\n",
    "                break\n",
    "\n",
    "            start += subset_length\n",
    "\n",
    "        if not some_complement_is_failing:\n",
    "            if n == len(inp):\n",
    "                break\n",
    "            n = min(n * 2, len(inp))\n",
    "\n",
    "    return inp"
   ]
  },
  {
   "cell_type": "markdown",
   "metadata": {
    "slideshow": {
     "slide_type": "subslide"
    }
   },
   "source": [
    "To see how `ddmin()` works, let us run it on our failing input. We need to define a `test` function that returns PASS or FAIL, depending on the test outcome. This `generic_test()` assumes that the function fails if it raises an exception (such as an `AssertException`), and passes otherwise. The optional argument `expected_exc` specifies the name of exception to be checked for; this ensures we reduce only for the kind of error raised in the original failure."
   ]
  },
  {
   "cell_type": "code",
   "execution_count": 31,
   "metadata": {
    "execution": {
     "iopub.execute_input": "2023-02-11T10:04:18.826537Z",
     "iopub.status.busy": "2023-02-11T10:04:18.826246Z",
     "iopub.status.idle": "2023-02-11T10:04:18.827435Z",
     "shell.execute_reply": "2023-02-11T10:04:18.827625Z"
    },
    "slideshow": {
     "slide_type": "subslide"
    }
   },
   "outputs": [],
   "source": [
    "def generic_test(inp: Sequence, fun: Callable,\n",
    "                 expected_exc: Optional[Type] = None) -> str:\n",
    "    result = None\n",
    "    detail = \"\"\n",
    "    try:\n",
    "        result = fun(inp)\n",
    "        outcome = PASS\n",
    "    except Exception as exc:\n",
    "        detail = f\" ({type(exc).__name__}: {str(exc)})\"\n",
    "        if expected_exc is None:\n",
    "            outcome = FAIL\n",
    "        elif type(exc) == type(expected_exc) and str(exc) == str(expected_exc):\n",
    "            outcome = FAIL\n",
    "        else:\n",
    "            outcome = UNRESOLVED\n",
    "\n",
    "    print(f\"{fun.__name__}({repr(inp)}): {outcome}{detail}\")\n",
    "    return outcome"
   ]
  },
  {
   "cell_type": "markdown",
   "metadata": {
    "slideshow": {
     "slide_type": "subslide"
    }
   },
   "source": [
    "We can now invoke `ddmin()` in our setting. With each step, we see how the remaining input gets smaller and smaller, until only two characters remain:"
   ]
  },
  {
   "cell_type": "code",
   "execution_count": 32,
   "metadata": {
    "execution": {
     "iopub.execute_input": "2023-02-11T10:04:18.833377Z",
     "iopub.status.busy": "2023-02-11T10:04:18.833024Z",
     "iopub.status.idle": "2023-02-11T10:04:18.834751Z",
     "shell.execute_reply": "2023-02-11T10:04:18.834974Z"
    },
    "slideshow": {
     "slide_type": "subslide"
    }
   },
   "outputs": [
    {
     "name": "stdout",
     "output_type": "stream",
     "text": [
      "mystery('V\"/+!aF-(V4EOz*+s/Q,7)2@0_'): FAIL (ValueError: Invalid input)\n",
      "mystery('z*+s/Q,7)2@0_'): PASS\n",
      "mystery('V\"/+!aF-(V4EO'): PASS\n",
      "mystery('F-(V4EOz*+s/Q,7)2@0_'): FAIL (ValueError: Invalid input)\n",
      "mystery('Oz*+s/Q,7)2@0_'): PASS\n",
      "mystery('F-(V4EQ,7)2@0_'): FAIL (ValueError: Invalid input)\n",
      "mystery(',7)2@0_'): PASS\n",
      "mystery('F-(V4EQ'): PASS\n",
      "mystery('V4EQ,7)2@0_'): PASS\n",
      "mystery('F-(Q,7)2@0_'): FAIL (ValueError: Invalid input)\n",
      "mystery('Q,7)2@0_'): PASS\n",
      "mystery('F-()2@0_'): FAIL (ValueError: Invalid input)\n",
      "mystery('2@0_'): PASS\n",
      "mystery('F-()'): FAIL (ValueError: Invalid input)\n",
      "mystery('()'): FAIL (ValueError: Invalid input)\n",
      "mystery(')'): PASS\n",
      "mystery('('): PASS\n"
     ]
    },
    {
     "data": {
      "text/plain": [
       "'()'"
      ]
     },
     "execution_count": 32,
     "metadata": {},
     "output_type": "execute_result"
    }
   ],
   "source": [
    "ddmin(generic_test, failing_input, mystery, ValueError('Invalid input'))"
   ]
  },
  {
   "cell_type": "markdown",
   "metadata": {
    "slideshow": {
     "slide_type": "subslide"
    }
   },
   "source": [
    "Now we know why `mystery()` fails – it suffices that the input contains two matching parentheses.  Delta Debugging determines this in 25 steps.  Its result is _1-minimal_, meaning that every character contained is required to produce the error; removing any (as seen in the last two tests, above) no longer causes the test to fail.  This property is guaranteed by the delta debugging algorithm, which in its last stage always tries to delete characters one by one."
   ]
  },
  {
   "cell_type": "markdown",
   "metadata": {
    "button": false,
    "new_sheet": true,
    "run_control": {
     "read_only": false
    },
    "slideshow": {
     "slide_type": "subslide"
    }
   },
   "source": [
    "A reduced test case such as the one above has many advantages:\n",
    "\n",
    "* A reduced test case __reduces the _cognitive load_ of the programmer__.  The test case is shorter and focused, and thus does not burden the programmer with irrelevant details.  A reduced input typically leads to shorter executions and smaller program states, both of which reduce the search space as it comes to understanding the bug.  In our case, we have eliminated lots of irrelevant input – only the two characters the reduced input contains are relevant.\n",
    "\n",
    "* A reduced test case __is easier to communicate__.  All one needs here is the summary: `mystery() fails on \"()\"`, which is much better than `mystery() fails on a 4100-character input (attached)`.\n",
    "\n",
    "* A reduced test case helps in __identifying duplicates__.  If similar bugs have been reported already, and all of them have been reduced to the same cause (namely that the input contains matching parentheses), then it becomes obvious that all these bugs are different symptoms of the same underlying cause – and would all be resolved at once with one code fix."
   ]
  },
  {
   "attachments": {},
   "cell_type": "markdown",
   "metadata": {
    "slideshow": {
     "slide_type": "subslide"
    }
   },
   "source": [
    "How effective is delta debugging?  In the best case (when the left half or the right half fails), the number of tests is logarithmic proportional to the length $n$ of an input (i.e., $O(\\log_2 n)$); this is the same complexity as binary search.  In the worst case, though, delta debugging can require a number of tests proportional to $n^2$ (i.e., $O(n^2)$) – this happens in the case when we are down to character granularity, and we have to repeatedly tried to delete all characters, only to find that deleting the last character results in a failure \\cite{Zeller2002}.  (This is a pretty pathological situation, though.)"
   ]
  },
  {
   "cell_type": "markdown",
   "metadata": {
    "slideshow": {
     "slide_type": "fragment"
    }
   },
   "source": [
    "In general, delta debugging is a robust algorithm that is easy to implement, easy to deploy, and easy to use – provided that the underlying test case is deterministic and runs quickly enough to warrant a number of experiments. In general, any debugging task should start with simplifying the test case as much as possible – and this is where delta debugging can help."
   ]
  },
  {
   "cell_type": "markdown",
   "metadata": {
    "slideshow": {
     "slide_type": "slide"
    }
   },
   "source": [
    "## A Simple DeltaDebugger Interface\n",
    "\n",
    "As defined above, using `ddmin()` still requires the developer to set up a special testing function – and writing or using even a generic tester (like `generic_test()`) takes some effort.  We want to simplify the setup such that only two lines of Python is required.\n",
    "\n",
    "Our aim is to have a `DeltaDebugger` class that we can use in conjunction with a failing (i.e., exception raising) function call:\n",
    "\n",
    "```python\n",
    "with DeltaDebugger() as dd:\n",
    "    mystery(failing_input)\n",
    "dd\n",
    "```\n",
    "Here, at the end of the `with` statement, printing out `dd` shows us the minimal input that causes the failure."
   ]
  },
  {
   "cell_type": "markdown",
   "metadata": {
    "slideshow": {
     "slide_type": "subslide"
    }
   },
   "source": [
    "### Excursion: Implementing DeltaDebugger"
   ]
  },
  {
   "attachments": {},
   "cell_type": "markdown",
   "metadata": {
    "slideshow": {
     "slide_type": "subslide"
    }
   },
   "source": [
    "Our interface consist of six building blocks:\n",
    "\n",
    "1. We collect the name and args of the first call in the `with` body, as well as the exception it raises.\n",
    "2. We set up an infrastructure such that we can repeat calls with different arguments.\n",
    "3. We make sure that multiple tests with the same arguments can return outcomes from a cache.\n",
    "4. We create a `DeltaDebugger` class that implements the general Delta Debugging algorithm – an algorithm than can minimize failing inputs as well as maximize passing inputs.\n",
    "5. We provide an infrastructure that applies Delta Debugging on multiple arguments.\n",
    "6. Finally, custom methods like `min_args()` allow invoking delta debugging on arguments."
   ]
  },
  {
   "cell_type": "markdown",
   "metadata": {
    "slideshow": {
     "slide_type": "subslide"
    }
   },
   "source": [
    "#### Collecting a Call\n",
    "\n",
    "We start by creating an infrastructure that collects a call. The `CallCollector` class saves the first call observed in `_function`, `_args`, and `_exception` attributes, respectively; it then turns tracing off."
   ]
  },
  {
   "cell_type": "code",
   "execution_count": 33,
   "metadata": {
    "execution": {
     "iopub.execute_input": "2023-02-11T10:04:18.837605Z",
     "iopub.status.busy": "2023-02-11T10:04:18.837248Z",
     "iopub.status.idle": "2023-02-11T10:04:18.838504Z",
     "shell.execute_reply": "2023-02-11T10:04:18.838766Z"
    },
    "slideshow": {
     "slide_type": "skip"
    }
   },
   "outputs": [],
   "source": [
    "import sys"
   ]
  },
  {
   "cell_type": "code",
   "execution_count": 34,
   "metadata": {
    "execution": {
     "iopub.execute_input": "2023-02-11T10:04:18.840945Z",
     "iopub.status.busy": "2023-02-11T10:04:18.840619Z",
     "iopub.status.idle": "2023-02-11T10:04:18.841931Z",
     "shell.execute_reply": "2023-02-11T10:04:18.842188Z"
    },
    "slideshow": {
     "slide_type": "skip"
    }
   },
   "outputs": [],
   "source": [
    "from types import FunctionType, FrameType, TracebackType"
   ]
  },
  {
   "cell_type": "code",
   "execution_count": 35,
   "metadata": {
    "execution": {
     "iopub.execute_input": "2023-02-11T10:04:18.844255Z",
     "iopub.status.busy": "2023-02-11T10:04:18.843921Z",
     "iopub.status.idle": "2023-02-11T10:04:18.845223Z",
     "shell.execute_reply": "2023-02-11T10:04:18.845480Z"
    },
    "slideshow": {
     "slide_type": "skip"
    }
   },
   "outputs": [],
   "source": [
    "from StackInspector import StackInspector"
   ]
  },
  {
   "cell_type": "code",
   "execution_count": 36,
   "metadata": {
    "execution": {
     "iopub.execute_input": "2023-02-11T10:04:18.847766Z",
     "iopub.status.busy": "2023-02-11T10:04:18.847403Z",
     "iopub.status.idle": "2023-02-11T10:04:18.848799Z",
     "shell.execute_reply": "2023-02-11T10:04:18.849057Z"
    },
    "slideshow": {
     "slide_type": "fragment"
    }
   },
   "outputs": [],
   "source": [
    "class NoCallError(ValueError):\n",
    "    pass"
   ]
  },
  {
   "cell_type": "code",
   "execution_count": 37,
   "metadata": {
    "execution": {
     "iopub.execute_input": "2023-02-11T10:04:18.856797Z",
     "iopub.status.busy": "2023-02-11T10:04:18.856451Z",
     "iopub.status.idle": "2023-02-11T10:04:18.858065Z",
     "shell.execute_reply": "2023-02-11T10:04:18.858285Z"
    },
    "slideshow": {
     "slide_type": "subslide"
    }
   },
   "outputs": [],
   "source": [
    "class CallCollector(StackInspector):\n",
    "    \"\"\"\n",
    "    Collect an exception-raising function call f().\n",
    "    Use as `with CallCollector(): f()`\n",
    "    \"\"\"\n",
    "\n",
    "    def __init__(self) -> None:\n",
    "        \"\"\"Initialize collector\"\"\"\n",
    "        self.init()\n",
    "\n",
    "    def init(self) -> None:\n",
    "        \"\"\"Reset for new collection.\"\"\"\n",
    "        self._function: Optional[Callable] = None\n",
    "        self._args: Dict[str, Any] = {}\n",
    "        self._exception: Optional[BaseException] = None\n",
    "        self.original_trace_function: Optional[Callable] = None\n",
    "\n",
    "    def traceit(self, frame: FrameType, event: str, arg: Any) -> None:\n",
    "        \"\"\"Tracing function. Collect first call, then turn tracing off.\"\"\"\n",
    "        if event == 'call':\n",
    "            name = frame.f_code.co_name\n",
    "            if name.startswith('__'):\n",
    "                # Internal function\n",
    "                return\n",
    "            if self._function is not None:\n",
    "                # Already set\n",
    "                return\n",
    "\n",
    "            func = self.search_func(name, frame)\n",
    "            if func:\n",
    "                self._function = func\n",
    "            else:\n",
    "                # Create new function from given code\n",
    "                self._function = self.create_function(frame)\n",
    "\n",
    "            self._args = {}  # Create a local copy of args\n",
    "            for var in frame.f_locals:\n",
    "                if var in frame.f_code.co_freevars:\n",
    "                    continue  # Local var, not an argument\n",
    "                self._args[var] = frame.f_locals[var]\n",
    "\n",
    "            # Turn tracing off\n",
    "            sys.settrace(self.original_trace_function)\n",
    "\n",
    "    def after_collection(self) -> None:\n",
    "        \"\"\"Called after collection. To be defined in subclasses.\"\"\"\n",
    "        pass\n",
    "\n",
    "    def args(self) -> Dict[str, Any]:\n",
    "        \"\"\"Return the dictionary of collected arguments.\"\"\"\n",
    "        return self._args\n",
    "\n",
    "    def function(self) -> Callable:\n",
    "        \"\"\"Return the function called.\"\"\"\n",
    "        if self._function is None:\n",
    "            raise NoCallError(\"No function call collected\")\n",
    "        return self._function\n",
    "\n",
    "    def exception(self) -> Optional[BaseException]:\n",
    "        \"\"\"Return the exception produced, or `None` if none.\"\"\"\n",
    "        return self._exception\n",
    "\n",
    "    def format_call(self, args: Optional[Dict[str, Any]] = None) -> str:  # type: ignore\n",
    "        ...\n",
    "\n",
    "    def format_exception(self, exc: Optional[BaseException] = None) -> str:  # type: ignore\n",
    "        ...\n",
    "\n",
    "    def call(self, new_args: Optional[Dict[str, Any]] = None) -> Any:  # type: ignore\n",
    "        ..."
   ]
  },
  {
   "cell_type": "markdown",
   "metadata": {
    "slideshow": {
     "slide_type": "subslide"
    }
   },
   "source": [
    "A `CallCollector` is used like a `Tracer` from the [chapter on tracing](Tracer.ipynb), using a `with` block to collect a single function call."
   ]
  },
  {
   "cell_type": "code",
   "execution_count": 38,
   "metadata": {
    "execution": {
     "iopub.execute_input": "2023-02-11T10:04:18.861709Z",
     "iopub.status.busy": "2023-02-11T10:04:18.861271Z",
     "iopub.status.idle": "2023-02-11T10:04:18.862747Z",
     "shell.execute_reply": "2023-02-11T10:04:18.863110Z"
    },
    "slideshow": {
     "slide_type": "subslide"
    }
   },
   "outputs": [],
   "source": [
    "class CallCollector(CallCollector):\n",
    "    def __enter__(self) -> Any:\n",
    "        \"\"\"Called at begin of `with` block. Turn tracing on.\"\"\"\n",
    "        self.init()\n",
    "        self.original_trace_function = sys.gettrace()\n",
    "        sys.settrace(self.traceit)\n",
    "        return self\n",
    "\n",
    "    def __exit__(self, exc_tp: Type, exc_value: BaseException,\n",
    "                 exc_traceback: TracebackType) -> Optional[bool]:\n",
    "        \"\"\"Called at end of `with` block. Turn tracing off.\"\"\"\n",
    "        sys.settrace(self.original_trace_function)\n",
    "\n",
    "        if not self._function:\n",
    "            if exc_tp:\n",
    "                return False  # re-raise exception\n",
    "            else:\n",
    "                raise NoCallError(\"No call collected\")\n",
    "\n",
    "        if self.is_internal_error(exc_tp, exc_value, exc_traceback):\n",
    "            return False  # Re-raise exception\n",
    "\n",
    "        self._exception = exc_value\n",
    "        self.after_collection()\n",
    "        return True  # Ignore exception"
   ]
  },
  {
   "cell_type": "markdown",
   "metadata": {
    "slideshow": {
     "slide_type": "subslide"
    }
   },
   "source": [
    "Here are the attributes as collected by `CallCollector` for our `mystery()` function. Note that the `mystery()` exception is \"swallowed\" by the `CallCollector`."
   ]
  },
  {
   "cell_type": "code",
   "execution_count": 39,
   "metadata": {
    "execution": {
     "iopub.execute_input": "2023-02-11T10:04:18.865517Z",
     "iopub.status.busy": "2023-02-11T10:04:18.865132Z",
     "iopub.status.idle": "2023-02-11T10:04:18.867699Z",
     "shell.execute_reply": "2023-02-11T10:04:18.867971Z"
    },
    "slideshow": {
     "slide_type": "fragment"
    }
   },
   "outputs": [],
   "source": [
    "with CallCollector() as call_collector:\n",
    "    mystery(failing_input)"
   ]
  },
  {
   "cell_type": "code",
   "execution_count": 40,
   "metadata": {
    "execution": {
     "iopub.execute_input": "2023-02-11T10:04:18.871185Z",
     "iopub.status.busy": "2023-02-11T10:04:18.870883Z",
     "iopub.status.idle": "2023-02-11T10:04:18.872306Z",
     "shell.execute_reply": "2023-02-11T10:04:18.872628Z"
    },
    "slideshow": {
     "slide_type": "fragment"
    }
   },
   "outputs": [
    {
     "data": {
      "text/plain": [
       "<function __main__.mystery(inp: str) -> None>"
      ]
     },
     "execution_count": 40,
     "metadata": {},
     "output_type": "execute_result"
    }
   ],
   "source": [
    "call_collector.function()"
   ]
  },
  {
   "cell_type": "code",
   "execution_count": 41,
   "metadata": {
    "execution": {
     "iopub.execute_input": "2023-02-11T10:04:18.874697Z",
     "iopub.status.busy": "2023-02-11T10:04:18.874374Z",
     "iopub.status.idle": "2023-02-11T10:04:18.876170Z",
     "shell.execute_reply": "2023-02-11T10:04:18.876470Z"
    },
    "slideshow": {
     "slide_type": "fragment"
    }
   },
   "outputs": [
    {
     "data": {
      "text/plain": [
       "{'inp': 'V\"/+!aF-(V4EOz*+s/Q,7)2@0_'}"
      ]
     },
     "execution_count": 41,
     "metadata": {},
     "output_type": "execute_result"
    }
   ],
   "source": [
    "call_collector.args()"
   ]
  },
  {
   "cell_type": "code",
   "execution_count": 42,
   "metadata": {
    "execution": {
     "iopub.execute_input": "2023-02-11T10:04:18.879627Z",
     "iopub.status.busy": "2023-02-11T10:04:18.879004Z",
     "iopub.status.idle": "2023-02-11T10:04:18.884070Z",
     "shell.execute_reply": "2023-02-11T10:04:18.884340Z"
    },
    "slideshow": {
     "slide_type": "fragment"
    }
   },
   "outputs": [
    {
     "data": {
      "text/plain": [
       "ValueError('Invalid input')"
      ]
     },
     "execution_count": 42,
     "metadata": {},
     "output_type": "execute_result"
    }
   ],
   "source": [
    "call_collector.exception()"
   ]
  },
  {
   "cell_type": "markdown",
   "metadata": {
    "slideshow": {
     "slide_type": "fragment"
    }
   },
   "source": [
    "If an error occurs _before_ the first function call takes place, the exception is simply re-raised."
   ]
  },
  {
   "cell_type": "code",
   "execution_count": 43,
   "metadata": {
    "execution": {
     "iopub.execute_input": "2023-02-11T10:04:18.887017Z",
     "iopub.status.busy": "2023-02-11T10:04:18.886650Z",
     "iopub.status.idle": "2023-02-11T10:04:18.888033Z",
     "shell.execute_reply": "2023-02-11T10:04:18.888258Z"
    },
    "slideshow": {
     "slide_type": "subslide"
    }
   },
   "outputs": [
    {
     "name": "stderr",
     "output_type": "stream",
     "text": [
      "Traceback (most recent call last):\n",
      "  File \"/var/folders/n2/xd9445p97rb3xh7m1dfx8_4h0006ts/T/ipykernel_1782/700237621.py\", line 3, in <cell line: 1>\n",
      "    some_error()  # type: ignore\n",
      "NameError: name 'some_error' is not defined (expected)\n"
     ]
    }
   ],
   "source": [
    "with ExpectError(NameError):\n",
    "    with CallCollector() as c:\n",
    "        some_error()  # type: ignore"
   ]
  },
  {
   "cell_type": "markdown",
   "metadata": {
    "slideshow": {
     "slide_type": "subslide"
    }
   },
   "source": [
    "#### Repeating a Call\n",
    "\n",
    "Our second step is an infrastructure such that we can call the function collected earlier with alternate arguments. We can call the function directly via the collected `_function` attribute:"
   ]
  },
  {
   "cell_type": "code",
   "execution_count": 44,
   "metadata": {
    "execution": {
     "iopub.execute_input": "2023-02-11T10:04:18.890270Z",
     "iopub.status.busy": "2023-02-11T10:04:18.889886Z",
     "iopub.status.idle": "2023-02-11T10:04:18.891048Z",
     "shell.execute_reply": "2023-02-11T10:04:18.891273Z"
    },
    "slideshow": {
     "slide_type": "fragment"
    }
   },
   "outputs": [],
   "source": [
    "call_collector.function()(\"foo\")"
   ]
  },
  {
   "cell_type": "code",
   "execution_count": 45,
   "metadata": {
    "execution": {
     "iopub.execute_input": "2023-02-11T10:04:18.893126Z",
     "iopub.status.busy": "2023-02-11T10:04:18.892768Z",
     "iopub.status.idle": "2023-02-11T10:04:18.894541Z",
     "shell.execute_reply": "2023-02-11T10:04:18.895015Z"
    },
    "slideshow": {
     "slide_type": "subslide"
    }
   },
   "outputs": [
    {
     "name": "stderr",
     "output_type": "stream",
     "text": [
      "Traceback (most recent call last):\n",
      "  File \"/var/folders/n2/xd9445p97rb3xh7m1dfx8_4h0006ts/T/ipykernel_1782/3898025015.py\", line 2, in <cell line: 1>\n",
      "    call_collector.function()(failing_input)\n",
      "  File \"/var/folders/n2/xd9445p97rb3xh7m1dfx8_4h0006ts/T/ipykernel_1782/4141878445.py\", line 5, in mystery\n",
      "    raise ValueError(\"Invalid input\")\n",
      "ValueError: Invalid input (expected)\n"
     ]
    }
   ],
   "source": [
    "with ExpectError(ValueError):\n",
    "    call_collector.function()(failing_input)"
   ]
  },
  {
   "cell_type": "markdown",
   "metadata": {
    "slideshow": {
     "slide_type": "fragment"
    }
   },
   "source": [
    "We can also provide the arguments collected during the call:"
   ]
  },
  {
   "cell_type": "code",
   "execution_count": 46,
   "metadata": {
    "execution": {
     "iopub.execute_input": "2023-02-11T10:04:18.897651Z",
     "iopub.status.busy": "2023-02-11T10:04:18.897180Z",
     "iopub.status.idle": "2023-02-11T10:04:18.898774Z",
     "shell.execute_reply": "2023-02-11T10:04:18.899135Z"
    },
    "slideshow": {
     "slide_type": "subslide"
    }
   },
   "outputs": [
    {
     "name": "stderr",
     "output_type": "stream",
     "text": [
      "Traceback (most recent call last):\n",
      "  File \"/var/folders/n2/xd9445p97rb3xh7m1dfx8_4h0006ts/T/ipykernel_1782/1915817655.py\", line 2, in <cell line: 1>\n",
      "    call_collector.function()(**call_collector.args())\n",
      "  File \"/var/folders/n2/xd9445p97rb3xh7m1dfx8_4h0006ts/T/ipykernel_1782/4141878445.py\", line 5, in mystery\n",
      "    raise ValueError(\"Invalid input\")\n",
      "ValueError: Invalid input (expected)\n"
     ]
    }
   ],
   "source": [
    "with ExpectError(ValueError):\n",
    "    call_collector.function()(**call_collector.args())"
   ]
  },
  {
   "attachments": {},
   "cell_type": "markdown",
   "metadata": {
    "slideshow": {
     "slide_type": "fragment"
    }
   },
   "source": [
    "Our `call()` method calls the collected function using this construct. It also allows changing_ individual arguments by providing a `new_args` dictionary of variable names to new values."
   ]
  },
  {
   "cell_type": "code",
   "execution_count": 47,
   "metadata": {
    "execution": {
     "iopub.execute_input": "2023-02-11T10:04:18.902500Z",
     "iopub.status.busy": "2023-02-11T10:04:18.902030Z",
     "iopub.status.idle": "2023-02-11T10:04:18.904439Z",
     "shell.execute_reply": "2023-02-11T10:04:18.905244Z"
    },
    "slideshow": {
     "slide_type": "subslide"
    }
   },
   "outputs": [],
   "source": [
    "class CallCollector(CallCollector):\n",
    "    def call(self, new_args: Optional[Dict[str, Any]] = None) -> Any:\n",
    "        \"\"\"\n",
    "        Call collected function. If `new_args` is given,\n",
    "        override arguments from its {var: value} entries.\n",
    "        \"\"\"\n",
    "\n",
    "        if new_args is None:\n",
    "            new_args = {}\n",
    "\n",
    "        args = {}  # Create local copy\n",
    "        for var in self.args():\n",
    "            args[var] = self.args()[var]\n",
    "        for var in new_args:\n",
    "            args[var] = new_args[var]\n",
    "\n",
    "        return self.function()(**args)"
   ]
  },
  {
   "cell_type": "markdown",
   "metadata": {
    "slideshow": {
     "slide_type": "subslide"
    }
   },
   "source": [
    "Using simply `call()` without arguments reproduces the failure:"
   ]
  },
  {
   "cell_type": "code",
   "execution_count": 48,
   "metadata": {
    "execution": {
     "iopub.execute_input": "2023-02-11T10:04:18.910746Z",
     "iopub.status.busy": "2023-02-11T10:04:18.910041Z",
     "iopub.status.idle": "2023-02-11T10:04:18.911650Z",
     "shell.execute_reply": "2023-02-11T10:04:18.911980Z"
    },
    "slideshow": {
     "slide_type": "fragment"
    }
   },
   "outputs": [
    {
     "name": "stderr",
     "output_type": "stream",
     "text": [
      "Traceback (most recent call last):\n",
      "  File \"/var/folders/n2/xd9445p97rb3xh7m1dfx8_4h0006ts/T/ipykernel_1782/460230734.py\", line 4, in <cell line: 3>\n",
      "    call_collector.call()\n",
      "  File \"/var/folders/n2/xd9445p97rb3xh7m1dfx8_4h0006ts/T/ipykernel_1782/3952656613.py\", line 17, in call\n",
      "    return self.function()(**args)\n",
      "  File \"/var/folders/n2/xd9445p97rb3xh7m1dfx8_4h0006ts/T/ipykernel_1782/4141878445.py\", line 5, in mystery\n",
      "    raise ValueError(\"Invalid input\")\n",
      "ValueError: Invalid input (expected)\n"
     ]
    }
   ],
   "source": [
    "with CallCollector() as call_collector:\n",
    "    mystery(failing_input)\n",
    "with ExpectError(ValueError):\n",
    "    call_collector.call()"
   ]
  },
  {
   "cell_type": "markdown",
   "metadata": {
    "slideshow": {
     "slide_type": "fragment"
    }
   },
   "source": [
    "We can also supply alternate arguments (and get alternate outcomes):"
   ]
  },
  {
   "cell_type": "code",
   "execution_count": 49,
   "metadata": {
    "execution": {
     "iopub.execute_input": "2023-02-11T10:04:18.919148Z",
     "iopub.status.busy": "2023-02-11T10:04:18.918407Z",
     "iopub.status.idle": "2023-02-11T10:04:18.921198Z",
     "shell.execute_reply": "2023-02-11T10:04:18.921632Z"
    },
    "slideshow": {
     "slide_type": "subslide"
    }
   },
   "outputs": [],
   "source": [
    "call_collector.call({'inp': 'foo'})"
   ]
  },
  {
   "cell_type": "markdown",
   "metadata": {
    "slideshow": {
     "slide_type": "fragment"
    }
   },
   "source": [
    "We close with two helper functions that come handy for logging and error messages:"
   ]
  },
  {
   "cell_type": "code",
   "execution_count": 50,
   "metadata": {
    "execution": {
     "iopub.execute_input": "2023-02-11T10:04:18.925157Z",
     "iopub.status.busy": "2023-02-11T10:04:18.924773Z",
     "iopub.status.idle": "2023-02-11T10:04:18.926160Z",
     "shell.execute_reply": "2023-02-11T10:04:18.926391Z"
    },
    "slideshow": {
     "slide_type": "subslide"
    }
   },
   "outputs": [],
   "source": [
    "class CallCollector(CallCollector):\n",
    "    def format_call(self, args: Optional[Dict[str, Any]] = None) -> str:\n",
    "        \"\"\"Return a string representing a call of the function with given args.\"\"\"\n",
    "        if args is None:\n",
    "            args = self.args()\n",
    "        return self.function().__name__ + \"(\" + \\\n",
    "            \", \".join(f\"{arg}={repr(args[arg])}\" for arg in args) + \")\"\n",
    "\n",
    "    def format_exception(self, exc: Optional[BaseException] = None) -> str:\n",
    "        \"\"\"Return a string representing the given exception.\"\"\"\n",
    "        if exc is None:\n",
    "            exc = self.exception()\n",
    "        s = type(exc).__name__\n",
    "        if str(exc):\n",
    "            s += \": \" + str(exc)\n",
    "        return s"
   ]
  },
  {
   "cell_type": "code",
   "execution_count": 51,
   "metadata": {
    "execution": {
     "iopub.execute_input": "2023-02-11T10:04:18.928152Z",
     "iopub.status.busy": "2023-02-11T10:04:18.927851Z",
     "iopub.status.idle": "2023-02-11T10:04:18.929396Z",
     "shell.execute_reply": "2023-02-11T10:04:18.929622Z"
    },
    "slideshow": {
     "slide_type": "subslide"
    }
   },
   "outputs": [],
   "source": [
    "with CallCollector() as call_collector:\n",
    "    mystery(failing_input)"
   ]
  },
  {
   "cell_type": "code",
   "execution_count": 52,
   "metadata": {
    "execution": {
     "iopub.execute_input": "2023-02-11T10:04:18.933123Z",
     "iopub.status.busy": "2023-02-11T10:04:18.931639Z",
     "iopub.status.idle": "2023-02-11T10:04:18.934399Z",
     "shell.execute_reply": "2023-02-11T10:04:18.934153Z"
    },
    "slideshow": {
     "slide_type": "fragment"
    }
   },
   "outputs": [
    {
     "data": {
      "text/plain": [
       "'mystery(inp=\\'V\"/+!aF-(V4EOz*+s/Q,7)2@0_\\')'"
      ]
     },
     "execution_count": 52,
     "metadata": {},
     "output_type": "execute_result"
    }
   ],
   "source": [
    "call_collector.format_call()"
   ]
  },
  {
   "cell_type": "code",
   "execution_count": 53,
   "metadata": {
    "execution": {
     "iopub.execute_input": "2023-02-11T10:04:18.937076Z",
     "iopub.status.busy": "2023-02-11T10:04:18.936548Z",
     "iopub.status.idle": "2023-02-11T10:04:18.938233Z",
     "shell.execute_reply": "2023-02-11T10:04:18.938569Z"
    },
    "slideshow": {
     "slide_type": "fragment"
    }
   },
   "outputs": [
    {
     "data": {
      "text/plain": [
       "'ValueError: Invalid input'"
      ]
     },
     "execution_count": 53,
     "metadata": {},
     "output_type": "execute_result"
    }
   ],
   "source": [
    "call_collector.format_exception()"
   ]
  },
  {
   "cell_type": "markdown",
   "metadata": {
    "slideshow": {
     "slide_type": "subslide"
    }
   },
   "source": [
    "#### Testing, Logging, and Caching\n",
    "\n",
    "Our next to last step is an infrastructure that implements delta debugging for the collected call."
   ]
  },
  {
   "cell_type": "markdown",
   "metadata": {
    "slideshow": {
     "slide_type": "fragment"
    }
   },
   "source": [
    "We first introduce a `CallReducer` class as an abstract superclass for all kinds of reducers.\n",
    "Its `run()` method tests the function and returns PASS, FAIL, or UNRESOLVED. As with `generic_test()`, above, we check for exception type and exact error message."
   ]
  },
  {
   "cell_type": "code",
   "execution_count": 54,
   "metadata": {
    "execution": {
     "iopub.execute_input": "2023-02-11T10:04:18.942465Z",
     "iopub.status.busy": "2023-02-11T10:04:18.942117Z",
     "iopub.status.idle": "2023-02-11T10:04:18.947260Z",
     "shell.execute_reply": "2023-02-11T10:04:18.947675Z"
    },
    "slideshow": {
     "slide_type": "subslide"
    }
   },
   "outputs": [],
   "source": [
    "class CallReducer(CallCollector):\n",
    "    def __init__(self, *, log: Union[bool, int] = False) -> None:\n",
    "        \"\"\"Initialize. If `log` is True, enable logging.\"\"\"\n",
    "        super().__init__()\n",
    "        self.log = log\n",
    "        self.reset()\n",
    "\n",
    "    def reset(self) -> None:\n",
    "        \"\"\"Reset the number of tests.\"\"\"\n",
    "        self.tests = 0\n",
    "\n",
    "    def run(self, args: Dict[str, Any]) -> str:\n",
    "        \"\"\"\n",
    "        Run collected function with `args`. Return\n",
    "        * PASS if no exception occurred\n",
    "        * FAIL if the collected exception occurred\n",
    "        * UNRESOLVED if some other exception occurred.\n",
    "        Not to be used directly; can be overloaded in subclasses.\n",
    "        \"\"\"\n",
    "        try:\n",
    "            result = self.call(args)\n",
    "        except Exception as exc:\n",
    "            self.last_exception = exc\n",
    "            if (type(exc) == type(self.exception()) and\n",
    "                    str(exc) == str(self.exception())):\n",
    "                return FAIL\n",
    "            else:\n",
    "                return UNRESOLVED  # Some other failure\n",
    "\n",
    "        self.last_result = result\n",
    "        return PASS"
   ]
  },
  {
   "cell_type": "markdown",
   "metadata": {
    "slideshow": {
     "slide_type": "subslide"
    }
   },
   "source": [
    "The `test()` method runs a single test (with logging, if wanted); the `reduce_arg()` method will eventually reduce an input to the minimum."
   ]
  },
  {
   "cell_type": "code",
   "execution_count": 55,
   "metadata": {
    "execution": {
     "iopub.execute_input": "2023-02-11T10:04:18.951166Z",
     "iopub.status.busy": "2023-02-11T10:04:18.950811Z",
     "iopub.status.idle": "2023-02-11T10:04:18.952094Z",
     "shell.execute_reply": "2023-02-11T10:04:18.952295Z"
    },
    "slideshow": {
     "slide_type": "subslide"
    }
   },
   "outputs": [],
   "source": [
    "class CallReducer(CallReducer):\n",
    "    def test(self, args: Dict[str, Any]) -> str:\n",
    "        \"\"\"Like run(), but also log detail and keep statistics.\"\"\"\n",
    "        outcome = self.run(args)\n",
    "        if outcome == PASS:\n",
    "            detail = \"\"\n",
    "        else:\n",
    "            detail = f\" ({self.format_exception(self.last_exception)})\"\n",
    "\n",
    "        self.tests += 1\n",
    "        if self.log:\n",
    "            print(f\"Test #{self.tests} {self.format_call(args)}: {outcome}{detail}\")\n",
    "\n",
    "        return outcome\n",
    "\n",
    "    def reduce_arg(self, var_to_be_reduced: str, args: Dict[str, Any]) -> Sequence:\n",
    "        \"\"\"\n",
    "        Determine and return a minimal value for var_to_be_reduced.\n",
    "        To be overloaded in subclasses.\n",
    "        \"\"\"\n",
    "        return args[var_to_be_reduced]"
   ]
  },
  {
   "cell_type": "markdown",
   "metadata": {
    "slideshow": {
     "slide_type": "subslide"
    }
   },
   "source": [
    "Here's some logging output from the `test()` function:"
   ]
  },
  {
   "cell_type": "code",
   "execution_count": 56,
   "metadata": {
    "execution": {
     "iopub.execute_input": "2023-02-11T10:04:18.955528Z",
     "iopub.status.busy": "2023-02-11T10:04:18.955007Z",
     "iopub.status.idle": "2023-02-11T10:04:18.957126Z",
     "shell.execute_reply": "2023-02-11T10:04:18.957366Z"
    },
    "slideshow": {
     "slide_type": "fragment"
    }
   },
   "outputs": [
    {
     "name": "stdout",
     "output_type": "stream",
     "text": [
      "Test #1 mystery(inp='V\"/+!aF-(V4EOz*+s/Q,7)2@0_'): FAIL (ValueError: Invalid input)\n",
      "Test #2 mystery(inp='123'): PASS\n",
      "Test #3 mystery(inp='123'): PASS\n"
     ]
    },
    {
     "data": {
      "text/plain": [
       "'PASS'"
      ]
     },
     "execution_count": 56,
     "metadata": {},
     "output_type": "execute_result"
    }
   ],
   "source": [
    "with CallReducer(log=True) as reducer:\n",
    "    mystery(failing_input)\n",
    "\n",
    "reducer.test({'inp': failing_input})\n",
    "reducer.test({'inp': '123'})\n",
    "reducer.test({'inp': '123'})"
   ]
  },
  {
   "cell_type": "markdown",
   "metadata": {
    "slideshow": {
     "slide_type": "fragment"
    }
   },
   "source": [
    "The `CachingCallReducer` variant saves test results, such that we don't have to run the same tests again and again:"
   ]
  },
  {
   "cell_type": "code",
   "execution_count": 57,
   "metadata": {
    "execution": {
     "iopub.execute_input": "2023-02-11T10:04:18.960928Z",
     "iopub.status.busy": "2023-02-11T10:04:18.960487Z",
     "iopub.status.idle": "2023-02-11T10:04:18.962352Z",
     "shell.execute_reply": "2023-02-11T10:04:18.962628Z"
    },
    "slideshow": {
     "slide_type": "subslide"
    }
   },
   "outputs": [],
   "source": [
    "class CachingCallReducer(CallReducer):\n",
    "    \"\"\"Like CallReducer, but cache test outcomes.\"\"\"\n",
    "\n",
    "    def init(self) -> None:\n",
    "        super().init()\n",
    "        self._cache: Dict[FrozenSet, str] = {}\n",
    "\n",
    "    def test(self, args: Dict[str, Any]) -> str:\n",
    "        # Create a hashable index\n",
    "        try:\n",
    "            index = frozenset((k, v) for k, v in args.items())\n",
    "        except TypeError:\n",
    "            index = frozenset()\n",
    "\n",
    "        if not index:\n",
    "            # Non-hashable value – do not use cache\n",
    "            return super().test(args)\n",
    "\n",
    "        if index in self._cache:\n",
    "            return self._cache[index]\n",
    "\n",
    "        outcome = super().test(args)\n",
    "        self._cache[index] = outcome\n",
    "\n",
    "        return outcome"
   ]
  },
  {
   "cell_type": "markdown",
   "metadata": {
    "slideshow": {
     "slide_type": "subslide"
    }
   },
   "source": [
    "If we now repeat a test with the same argument, its outcome can be found in the cache:"
   ]
  },
  {
   "cell_type": "code",
   "execution_count": 58,
   "metadata": {
    "execution": {
     "iopub.execute_input": "2023-02-11T10:04:18.965721Z",
     "iopub.status.busy": "2023-02-11T10:04:18.965335Z",
     "iopub.status.idle": "2023-02-11T10:04:18.968044Z",
     "shell.execute_reply": "2023-02-11T10:04:18.968578Z"
    },
    "slideshow": {
     "slide_type": "fragment"
    }
   },
   "outputs": [
    {
     "name": "stdout",
     "output_type": "stream",
     "text": [
      "Test #1 mystery(inp='V\"/+!aF-(V4EOz*+s/Q,7)2@0_'): FAIL (ValueError: Invalid input)\n",
      "Test #2 mystery(inp='123'): PASS\n"
     ]
    },
    {
     "data": {
      "text/plain": [
       "'PASS'"
      ]
     },
     "execution_count": 58,
     "metadata": {},
     "output_type": "execute_result"
    }
   ],
   "source": [
    "with CachingCallReducer(log=True) as reducer:\n",
    "    mystery(failing_input)\n",
    "\n",
    "reducer.test({'inp': failing_input})\n",
    "reducer.test({'inp': '123'})\n",
    "reducer.test({'inp': '123'})"
   ]
  },
  {
   "cell_type": "markdown",
   "metadata": {
    "slideshow": {
     "slide_type": "subslide"
    }
   },
   "source": [
    "#### General Delta Debugging\n",
    "\n",
    "The `DeltaDebugger` class finally implements Delta Debugging on arguments. Our implementation uses the _general_ `dd` delta debugging algorithm from \\cite{Zeller2002}. In contrast to `ddmin`, it returns a _pair_ of a maximized passing input and a minimized failing input. The algorithm can be customized, however, to leave the passing input fixed and _only_ to minimize the failing input (as with `ddmin`), or vice versa."
   ]
  },
  {
   "cell_type": "markdown",
   "metadata": {
    "slideshow": {
     "slide_type": "fragment"
    }
   },
   "source": [
    "Internally, `dd` does not directly work on a list of elements; instead, it works on sets of _indices_ into such a list. The function `to_set()` converts a collection into such a set."
   ]
  },
  {
   "cell_type": "code",
   "execution_count": 59,
   "metadata": {
    "execution": {
     "iopub.execute_input": "2023-02-11T10:04:18.973828Z",
     "iopub.status.busy": "2023-02-11T10:04:18.972733Z",
     "iopub.status.idle": "2023-02-11T10:04:18.976577Z",
     "shell.execute_reply": "2023-02-11T10:04:18.976148Z"
    },
    "slideshow": {
     "slide_type": "fragment"
    }
   },
   "outputs": [],
   "source": [
    "def to_set(inp: Sequence) -> Set:\n",
    "    \"\"\"Convert inp into a set of indices\"\"\"\n",
    "    return set(range(len(inp)))"
   ]
  },
  {
   "cell_type": "code",
   "execution_count": 60,
   "metadata": {
    "execution": {
     "iopub.execute_input": "2023-02-11T10:04:18.979357Z",
     "iopub.status.busy": "2023-02-11T10:04:18.978809Z",
     "iopub.status.idle": "2023-02-11T10:04:18.981538Z",
     "shell.execute_reply": "2023-02-11T10:04:18.981844Z"
    },
    "slideshow": {
     "slide_type": "subslide"
    }
   },
   "outputs": [
    {
     "data": {
      "text/plain": [
       "{0, 1, 2, 3}"
      ]
     },
     "execution_count": 60,
     "metadata": {},
     "output_type": "execute_result"
    }
   ],
   "source": [
    "to_set(\"abcd\")"
   ]
  },
  {
   "cell_type": "markdown",
   "metadata": {
    "slideshow": {
     "slide_type": "fragment"
    }
   },
   "source": [
    "The function `from_set()` converts a set of indices back into the original collection. For this, it uses a function `empty()` that returns an empty collection that has the same type as the given input `inp`."
   ]
  },
  {
   "cell_type": "code",
   "execution_count": 61,
   "metadata": {
    "execution": {
     "iopub.execute_input": "2023-02-11T10:04:18.984703Z",
     "iopub.status.busy": "2023-02-11T10:04:18.984147Z",
     "iopub.status.idle": "2023-02-11T10:04:18.985845Z",
     "shell.execute_reply": "2023-02-11T10:04:18.986196Z"
    },
    "slideshow": {
     "slide_type": "fragment"
    }
   },
   "outputs": [],
   "source": [
    "def empty(inp: Any) -> Any:\n",
    "    \"\"\"Return an \"empty\" element of the same type as inp\"\"\"\n",
    "    return type(inp)()"
   ]
  },
  {
   "cell_type": "code",
   "execution_count": 62,
   "metadata": {
    "execution": {
     "iopub.execute_input": "2023-02-11T10:04:18.990173Z",
     "iopub.status.busy": "2023-02-11T10:04:18.989324Z",
     "iopub.status.idle": "2023-02-11T10:04:18.991939Z",
     "shell.execute_reply": "2023-02-11T10:04:18.992246Z"
    },
    "slideshow": {
     "slide_type": "fragment"
    }
   },
   "outputs": [
    {
     "data": {
      "text/plain": [
       "('', [], set())"
      ]
     },
     "execution_count": 62,
     "metadata": {},
     "output_type": "execute_result"
    }
   ],
   "source": [
    "empty(\"abc\"), empty([1, 2, 3]), empty({0, -1, -2})"
   ]
  },
  {
   "cell_type": "markdown",
   "metadata": {
    "slideshow": {
     "slide_type": "fragment"
    }
   },
   "source": [
    "The function `add_to()` tries out various ways to add an element to a given collection."
   ]
  },
  {
   "cell_type": "code",
   "execution_count": 63,
   "metadata": {
    "execution": {
     "iopub.execute_input": "2023-02-11T10:04:18.995135Z",
     "iopub.status.busy": "2023-02-11T10:04:18.994789Z",
     "iopub.status.idle": "2023-02-11T10:04:18.996154Z",
     "shell.execute_reply": "2023-02-11T10:04:18.996397Z"
    },
    "slideshow": {
     "slide_type": "subslide"
    }
   },
   "outputs": [],
   "source": [
    "def add_to(collection: Any, elem: Any) -> Any:\n",
    "    \"\"\"Add element to collection; return new collection.\"\"\"\n",
    "    if isinstance(collection, str):\n",
    "        return collection + elem  # Strings\n",
    "\n",
    "    try:  # Lists and other collections\n",
    "        return collection + type(collection)([elem])\n",
    "    except TypeError:\n",
    "        pass\n",
    "\n",
    "    try:  # Sets\n",
    "        return collection | type(collection)([elem])\n",
    "    except TypeError:\n",
    "        pass\n",
    "\n",
    "    raise ValueError(\"Cannot add element to collection\")"
   ]
  },
  {
   "cell_type": "code",
   "execution_count": 64,
   "metadata": {
    "execution": {
     "iopub.execute_input": "2023-02-11T10:04:19.000554Z",
     "iopub.status.busy": "2023-02-11T10:04:18.999988Z",
     "iopub.status.idle": "2023-02-11T10:04:19.001842Z",
     "shell.execute_reply": "2023-02-11T10:04:19.002046Z"
    },
    "slideshow": {
     "slide_type": "subslide"
    }
   },
   "outputs": [
    {
     "data": {
      "text/plain": [
       "('abcd', [1, 2, 3, 4], {1, 2, 3, 4})"
      ]
     },
     "execution_count": 64,
     "metadata": {},
     "output_type": "execute_result"
    }
   ],
   "source": [
    "add_to(\"abc\", \"d\"), add_to([1, 2, 3], 4), add_to(set([1, 2, 3]), 4)"
   ]
  },
  {
   "cell_type": "markdown",
   "metadata": {
    "slideshow": {
     "slide_type": "fragment"
    }
   },
   "source": [
    "Using `empty()` and `add_to()`, we can now implement `from_set()`:"
   ]
  },
  {
   "cell_type": "code",
   "execution_count": 65,
   "metadata": {
    "execution": {
     "iopub.execute_input": "2023-02-11T10:04:19.004729Z",
     "iopub.status.busy": "2023-02-11T10:04:19.004300Z",
     "iopub.status.idle": "2023-02-11T10:04:19.005824Z",
     "shell.execute_reply": "2023-02-11T10:04:19.006049Z"
    },
    "slideshow": {
     "slide_type": "fragment"
    }
   },
   "outputs": [],
   "source": [
    "def from_set(the_set: Any, inp: Sequence) -> Any:\n",
    "    \"\"\"Convert a set of indices into `inp` back into a collection.\"\"\"\n",
    "    ret = empty(inp)\n",
    "    for i, c in enumerate(inp):\n",
    "        if i in the_set:\n",
    "            ret = add_to(ret, c)\n",
    "\n",
    "    return ret"
   ]
  },
  {
   "cell_type": "code",
   "execution_count": 66,
   "metadata": {
    "execution": {
     "iopub.execute_input": "2023-02-11T10:04:19.016256Z",
     "iopub.status.busy": "2023-02-11T10:04:19.015741Z",
     "iopub.status.idle": "2023-02-11T10:04:19.017646Z",
     "shell.execute_reply": "2023-02-11T10:04:19.017869Z"
    },
    "slideshow": {
     "slide_type": "fragment"
    }
   },
   "outputs": [
    {
     "data": {
      "text/plain": [
       "'bc'"
      ]
     },
     "execution_count": 66,
     "metadata": {},
     "output_type": "execute_result"
    }
   ],
   "source": [
    "from_set({1, 2}, \"abcd\")"
   ]
  },
  {
   "cell_type": "markdown",
   "metadata": {
    "slideshow": {
     "slide_type": "subslide"
    }
   },
   "source": [
    "To split a set of elements into `n` subsets of equal size, we use this helper function, based on [this discussion in StackOverflow](https://stackoverflow.com/questions/2130016/splitting-a-list-into-n-parts-of-approximately-equal-length/37414115#37414115)."
   ]
  },
  {
   "cell_type": "code",
   "execution_count": 67,
   "metadata": {
    "execution": {
     "iopub.execute_input": "2023-02-11T10:04:19.022737Z",
     "iopub.status.busy": "2023-02-11T10:04:19.021882Z",
     "iopub.status.idle": "2023-02-11T10:04:19.024672Z",
     "shell.execute_reply": "2023-02-11T10:04:19.025246Z"
    },
    "slideshow": {
     "slide_type": "subslide"
    }
   },
   "outputs": [],
   "source": [
    "def split(elems: Any, n: int) -> List:\n",
    "    assert 1 <= n <= len(elems)\n",
    "\n",
    "    k, m = divmod(len(elems), n)\n",
    "    try:\n",
    "        subsets = list(elems[i * k + min(i, m):(i + 1) * k + min(i + 1, m)]\n",
    "                       for i in range(n))\n",
    "    except TypeError:\n",
    "        # Convert to list and back\n",
    "        subsets = list(type(elems)(\n",
    "                    list(elems)[i * k + min(i, m):(i + 1) * k + min(i + 1, m)])\n",
    "                       for i in range(n))\n",
    "\n",
    "    assert len(subsets) == n\n",
    "    assert sum(len(subset) for subset in subsets) == len(elems)\n",
    "    assert all(len(subset) > 0 for subset in subsets)\n",
    "\n",
    "    return subsets"
   ]
  },
  {
   "cell_type": "code",
   "execution_count": 68,
   "metadata": {
    "execution": {
     "iopub.execute_input": "2023-02-11T10:04:19.028387Z",
     "iopub.status.busy": "2023-02-11T10:04:19.028031Z",
     "iopub.status.idle": "2023-02-11T10:04:19.037992Z",
     "shell.execute_reply": "2023-02-11T10:04:19.038215Z"
    },
    "slideshow": {
     "slide_type": "subslide"
    }
   },
   "outputs": [
    {
     "name": "stdout",
     "output_type": "stream",
     "text": [
      "[[1, 2, 3, 4, 5, 6, 7]]\n",
      "[[1, 2, 3, 4], [5, 6, 7]]\n",
      "[[1, 2, 3], [4, 5], [6, 7]]\n",
      "[[1, 2], [3, 4], [5, 6], [7]]\n",
      "[[1, 2], [3, 4], [5], [6], [7]]\n",
      "[[1, 2], [3], [4], [5], [6], [7]]\n",
      "[[1], [2], [3], [4], [5], [6], [7]]\n"
     ]
    }
   ],
   "source": [
    "for n in range(1, 8):\n",
    "    print(split([1, 2, 3, 4, 5, 6, 7], n))"
   ]
  },
  {
   "cell_type": "code",
   "execution_count": 69,
   "metadata": {
    "execution": {
     "iopub.execute_input": "2023-02-11T10:04:19.041522Z",
     "iopub.status.busy": "2023-02-11T10:04:19.041117Z",
     "iopub.status.idle": "2023-02-11T10:04:19.042429Z",
     "shell.execute_reply": "2023-02-11T10:04:19.042625Z"
    },
    "slideshow": {
     "slide_type": "fragment"
    }
   },
   "outputs": [
    {
     "data": {
      "text/plain": [
       "['ab', 'c', 'd']"
      ]
     },
     "execution_count": 69,
     "metadata": {},
     "output_type": "execute_result"
    }
   ],
   "source": [
    "split(\"abcd\", 3)"
   ]
  },
  {
   "cell_type": "code",
   "execution_count": 70,
   "metadata": {
    "execution": {
     "iopub.execute_input": "2023-02-11T10:04:19.045280Z",
     "iopub.status.busy": "2023-02-11T10:04:19.044894Z",
     "iopub.status.idle": "2023-02-11T10:04:19.046454Z",
     "shell.execute_reply": "2023-02-11T10:04:19.046773Z"
    },
    "slideshow": {
     "slide_type": "fragment"
    }
   },
   "outputs": [
    {
     "data": {
      "text/plain": [
       "[{1, 2, 3}, {4, 5}, {6, 7}]"
      ]
     },
     "execution_count": 70,
     "metadata": {},
     "output_type": "execute_result"
    }
   ],
   "source": [
    "split({1, 2, 3, 4, 5, 6, 7}, 3)"
   ]
  },
  {
   "cell_type": "markdown",
   "metadata": {
    "slideshow": {
     "slide_type": "subslide"
    }
   },
   "source": [
    "With these, we can now implement general delta debugging. Our implementation follows \\cite{Zeller2002} with the following optimizations:\n",
    "\n",
    "1. We can control whether only to minimize or to maximize (\"mode\")\n",
    "2. The operations \"Reduce to subset\" and \"Increase to subset\" are only taken while the number of subsets is still 2.\n",
    "3. If \"Reduce to subset\" and \"Increase to subset\" are successful, the offset is set to `i` (not `0`) to distribute reduction operations more evenly across the input. (Thanks to Olaf Chitil and Joanna Sharrad to point out this issue!)"
   ]
  },
  {
   "cell_type": "code",
   "execution_count": 71,
   "metadata": {
    "execution": {
     "iopub.execute_input": "2023-02-11T10:04:19.048922Z",
     "iopub.status.busy": "2023-02-11T10:04:19.048601Z",
     "iopub.status.idle": "2023-02-11T10:04:19.049899Z",
     "shell.execute_reply": "2023-02-11T10:04:19.050107Z"
    },
    "slideshow": {
     "slide_type": "fragment"
    }
   },
   "outputs": [],
   "source": [
    "class NotFailingError(ValueError):\n",
    "    pass"
   ]
  },
  {
   "cell_type": "code",
   "execution_count": 72,
   "metadata": {
    "execution": {
     "iopub.execute_input": "2023-02-11T10:04:19.057582Z",
     "iopub.status.busy": "2023-02-11T10:04:19.057085Z",
     "iopub.status.idle": "2023-02-11T10:04:19.058506Z",
     "shell.execute_reply": "2023-02-11T10:04:19.058723Z"
    },
    "slideshow": {
     "slide_type": "subslide"
    }
   },
   "outputs": [],
   "source": [
    "class NotPassingError(ValueError):\n",
    "    pass"
   ]
  },
  {
   "cell_type": "code",
   "execution_count": 73,
   "metadata": {
    "execution": {
     "iopub.execute_input": "2023-02-11T10:04:19.067269Z",
     "iopub.status.busy": "2023-02-11T10:04:19.066885Z",
     "iopub.status.idle": "2023-02-11T10:04:19.068435Z",
     "shell.execute_reply": "2023-02-11T10:04:19.068649Z"
    },
    "slideshow": {
     "slide_type": "subslide"
    }
   },
   "outputs": [],
   "source": [
    "class DeltaDebugger(CachingCallReducer):\n",
    "    def dd(self, var_to_be_reduced: str, fail_args: Dict[str, Any], \n",
    "           *, mode: str = '-') -> Tuple[Sequence, Sequence, Sequence]:\n",
    "        \"\"\"General Delta Debugging.\n",
    "        `var_to_be_reduced` - the name of the variable to reduce.\n",
    "        `fail_args` - a dict of (failure-inducing) function arguments, \n",
    "            with `fail_args[var_to_be_reduced]` - the input to apply dd on.\n",
    "        `mode`- how the algorithm should operate:\n",
    "            '-' (default): minimize input (`ddmin`),\n",
    "            '+': maximizing input (`ddmax`),\n",
    "            '+-': minimizing pass/fail difference (`dd`)\n",
    "        Returns a triple (`pass`, `fail`, `diff`) with\n",
    "        * maximized passing input (`pass`), \n",
    "        * minimized failing input (`fail`), and\n",
    "        * their difference `diff`\n",
    "          (elems that are in `fail`, but not in `pass`).\n",
    "        \"\"\"\n",
    "        def test(c: Set) -> str:\n",
    "            # Set up args\n",
    "            test_args = {}\n",
    "            for var in fail_args:\n",
    "                test_args[var] = fail_args[var]\n",
    "            test_args[var_to_be_reduced] = from_set(c, fail_inp)\n",
    "            return self.test(test_args)\n",
    "\n",
    "        def ret(c_pass: Set, c_fail: Set) -> \\\n",
    "            Tuple[Sequence, Sequence, Sequence]:\n",
    "            return (from_set(c_pass, fail_inp),\n",
    "                    from_set(c_fail, fail_inp),\n",
    "                    from_set(c_fail - c_pass, fail_inp))\n",
    "\n",
    "        n = 2  # Initial granularity\n",
    "\n",
    "        fail_inp = fail_args[var_to_be_reduced]\n",
    "\n",
    "        c_pass = to_set([])\n",
    "        c_fail = to_set(fail_inp)\n",
    "        offset = 0\n",
    "\n",
    "        minimize_fail = '-' in mode\n",
    "        maximize_pass = '+' in mode\n",
    "\n",
    "        # Validate inputs\n",
    "        if test(c_pass) == FAIL:\n",
    "            if maximize_pass:\n",
    "                s_pass = repr(from_set(c_pass, fail_inp))\n",
    "                raise NotPassingError(\n",
    "                    f\"Input {s_pass} expected to pass, but fails\")\n",
    "            else:\n",
    "                return ret(c_pass, c_pass)\n",
    "\n",
    "        if test(c_fail) == PASS:\n",
    "            if minimize_fail:\n",
    "                s_fail = repr(from_set(c_fail, fail_inp))\n",
    "                raise NotFailingError(\n",
    "                    f\"Input {s_fail} expected to fail, but passes\")\n",
    "            else:\n",
    "                return ret(c_fail, c_fail)\n",
    "\n",
    "        # Main loop\n",
    "        while True:\n",
    "            if self.log > 1:\n",
    "                print(\"Passing input:\", repr(from_set(c_pass, fail_inp)))\n",
    "                print(\"Failing input:\", repr(from_set(c_fail, fail_inp)))\n",
    "                print(\"Granularity:  \", n)\n",
    "\n",
    "            delta = c_fail - c_pass\n",
    "            if len(delta) < n:\n",
    "                return ret(c_pass, c_fail)\n",
    "\n",
    "            deltas = split(delta, n)\n",
    "\n",
    "            reduction_found = False\n",
    "            j = 0\n",
    "\n",
    "            while j < n:\n",
    "                i = (j + offset) % n\n",
    "                next_c_pass = c_pass | deltas[i]\n",
    "                next_c_fail = c_fail - deltas[i]\n",
    "\n",
    "                if minimize_fail and n == 2 and test(next_c_pass) == FAIL:\n",
    "                    if self.log > 1:\n",
    "                        print(\"Reduce to subset\")\n",
    "                    c_fail = next_c_pass\n",
    "                    offset = i  # was offset = 0 in original dd()\n",
    "                    reduction_found = True\n",
    "                    break\n",
    "\n",
    "                elif maximize_pass and n == 2 and test(next_c_fail) == PASS:\n",
    "                    if self.log > 1:\n",
    "                        print(\"Increase to subset\")\n",
    "                    c_pass = next_c_fail\n",
    "                    offset = i  # was offset = 0 in original dd()\n",
    "                    reduction_found = True\n",
    "                    break\n",
    "\n",
    "                elif minimize_fail and test(next_c_fail) == FAIL:\n",
    "                    if self.log > 1:\n",
    "                        print(\"Reduce to complement\")\n",
    "                    c_fail = next_c_fail\n",
    "                    n = max(n - 1, 2)\n",
    "                    offset = i\n",
    "                    reduction_found = True\n",
    "                    break\n",
    "\n",
    "                elif maximize_pass and test(next_c_pass) == PASS:\n",
    "                    if self.log > 1:\n",
    "                        print(\"Increase to complement\")\n",
    "                    c_pass = next_c_pass\n",
    "                    n = max(n - 1, 2)\n",
    "                    offset = i\n",
    "                    reduction_found = True\n",
    "                    break\n",
    "\n",
    "                else:\n",
    "                    j += 1  # choose next subset\n",
    "\n",
    "            if not reduction_found:\n",
    "                if self.log > 1:\n",
    "                    print(\"No reduction found\")\n",
    "\n",
    "                if n >= len(delta):\n",
    "                    return ret(c_pass, c_fail)\n",
    "\n",
    "                if self.log > 1:\n",
    "                    print(\"Increase granularity\")\n",
    "\n",
    "                n = min(n * 2, len(delta))"
   ]
  },
  {
   "cell_type": "markdown",
   "metadata": {
    "slideshow": {
     "slide_type": "subslide"
    }
   },
   "source": [
    "By default, `dd()` minimizes inputs – just like `ddmin()`."
   ]
  },
  {
   "cell_type": "code",
   "execution_count": 74,
   "metadata": {
    "execution": {
     "iopub.execute_input": "2023-02-11T10:04:19.071229Z",
     "iopub.status.busy": "2023-02-11T10:04:19.070749Z",
     "iopub.status.idle": "2023-02-11T10:04:19.099069Z",
     "shell.execute_reply": "2023-02-11T10:04:19.098132Z"
    },
    "slideshow": {
     "slide_type": "fragment"
    }
   },
   "outputs": [],
   "source": [
    "with DeltaDebugger() as dd:\n",
    "    mystery(failing_input)"
   ]
  },
  {
   "cell_type": "markdown",
   "metadata": {
    "slideshow": {
     "slide_type": "fragment"
    }
   },
   "source": [
    "Its output is a triple of maximized passing input (if wanted), minimized failing input, and difference. Here is this triple for `mystery()`, just as with `ddmin()`:"
   ]
  },
  {
   "cell_type": "code",
   "execution_count": 75,
   "metadata": {
    "execution": {
     "iopub.execute_input": "2023-02-11T10:04:19.102645Z",
     "iopub.status.busy": "2023-02-11T10:04:19.102225Z",
     "iopub.status.idle": "2023-02-11T10:04:19.103691Z",
     "shell.execute_reply": "2023-02-11T10:04:19.103917Z"
    },
    "slideshow": {
     "slide_type": "fragment"
    }
   },
   "outputs": [],
   "source": [
    "mystery_pass, mystery_fail, mystery_diff = dd.dd('inp', {'inp': failing_input})"
   ]
  },
  {
   "cell_type": "markdown",
   "metadata": {
    "slideshow": {
     "slide_type": "fragment"
    }
   },
   "source": [
    "The first element (`mystery_pass`) is the maximal passing input:"
   ]
  },
  {
   "cell_type": "code",
   "execution_count": 76,
   "metadata": {
    "execution": {
     "iopub.execute_input": "2023-02-11T10:04:19.106567Z",
     "iopub.status.busy": "2023-02-11T10:04:19.106175Z",
     "iopub.status.idle": "2023-02-11T10:04:19.107944Z",
     "shell.execute_reply": "2023-02-11T10:04:19.108177Z"
    },
    "slideshow": {
     "slide_type": "fragment"
    }
   },
   "outputs": [
    {
     "data": {
      "text/plain": [
       "''"
      ]
     },
     "execution_count": 76,
     "metadata": {},
     "output_type": "execute_result"
    }
   ],
   "source": [
    "mystery_pass"
   ]
  },
  {
   "cell_type": "markdown",
   "metadata": {
    "slideshow": {
     "slide_type": "fragment"
    }
   },
   "source": [
    "The second element (`mystery_fail`) is the minimal failing input:"
   ]
  },
  {
   "cell_type": "code",
   "execution_count": 77,
   "metadata": {
    "execution": {
     "iopub.execute_input": "2023-02-11T10:04:19.110876Z",
     "iopub.status.busy": "2023-02-11T10:04:19.110408Z",
     "iopub.status.idle": "2023-02-11T10:04:19.113438Z",
     "shell.execute_reply": "2023-02-11T10:04:19.113734Z"
    },
    "slideshow": {
     "slide_type": "fragment"
    }
   },
   "outputs": [
    {
     "data": {
      "text/plain": [
       "'()'"
      ]
     },
     "execution_count": 77,
     "metadata": {},
     "output_type": "execute_result"
    }
   ],
   "source": [
    "mystery_fail"
   ]
  },
  {
   "cell_type": "markdown",
   "metadata": {
    "slideshow": {
     "slide_type": "fragment"
    }
   },
   "source": [
    "And the third element (`mystery_diff`) is the difference between the two:"
   ]
  },
  {
   "cell_type": "code",
   "execution_count": 78,
   "metadata": {
    "execution": {
     "iopub.execute_input": "2023-02-11T10:04:19.122374Z",
     "iopub.status.busy": "2023-02-11T10:04:19.121733Z",
     "iopub.status.idle": "2023-02-11T10:04:19.124544Z",
     "shell.execute_reply": "2023-02-11T10:04:19.124822Z"
    },
    "slideshow": {
     "slide_type": "subslide"
    }
   },
   "outputs": [
    {
     "data": {
      "text/plain": [
       "'()'"
      ]
     },
     "execution_count": 78,
     "metadata": {},
     "output_type": "execute_result"
    }
   ],
   "source": [
    "mystery_diff"
   ]
  },
  {
   "cell_type": "markdown",
   "metadata": {
    "slideshow": {
     "slide_type": "fragment"
    }
   },
   "source": [
    "(Note that we will introduce more comfortable APIs later.)"
   ]
  },
  {
   "cell_type": "markdown",
   "metadata": {
    "slideshow": {
     "slide_type": "fragment"
    }
   },
   "source": [
    "We can follow the operation of `dd()` by increasing the logging level. We see how with every test, the difference between the passing and the failing input gets smaller and smaller."
   ]
  },
  {
   "cell_type": "code",
   "execution_count": 79,
   "metadata": {
    "execution": {
     "iopub.execute_input": "2023-02-11T10:04:19.127374Z",
     "iopub.status.busy": "2023-02-11T10:04:19.127070Z",
     "iopub.status.idle": "2023-02-11T10:04:19.128398Z",
     "shell.execute_reply": "2023-02-11T10:04:19.128595Z"
    },
    "slideshow": {
     "slide_type": "fragment"
    }
   },
   "outputs": [],
   "source": [
    "with DeltaDebugger(log=2) as dd:\n",
    "    mystery(failing_input)"
   ]
  },
  {
   "cell_type": "code",
   "execution_count": 80,
   "metadata": {
    "execution": {
     "iopub.execute_input": "2023-02-11T10:04:19.131226Z",
     "iopub.status.busy": "2023-02-11T10:04:19.130684Z",
     "iopub.status.idle": "2023-02-11T10:04:19.139051Z",
     "shell.execute_reply": "2023-02-11T10:04:19.139598Z"
    },
    "slideshow": {
     "slide_type": "subslide"
    }
   },
   "outputs": [
    {
     "name": "stdout",
     "output_type": "stream",
     "text": [
      "Test #1 mystery(inp=''): PASS\n",
      "Test #2 mystery(inp='V\"/+!aF-(V4EOz*+s/Q,7)2@0_'): FAIL (ValueError: Invalid input)\n",
      "Passing input: ''\n",
      "Failing input: 'V\"/+!aF-(V4EOz*+s/Q,7)2@0_'\n",
      "Granularity:   2\n",
      "Test #3 mystery(inp='V\"/+!aF-(V4EO'): PASS\n",
      "Test #4 mystery(inp='z*+s/Q,7)2@0_'): PASS\n",
      "No reduction found\n",
      "Increase granularity\n",
      "Passing input: ''\n",
      "Failing input: 'V\"/+!aF-(V4EOz*+s/Q,7)2@0_'\n",
      "Granularity:   4\n",
      "Test #5 mystery(inp='-(V4EOz*+s/Q,7)2@0_'): FAIL (ValueError: Invalid input)\n",
      "Reduce to complement\n",
      "Passing input: ''\n",
      "Failing input: '-(V4EOz*+s/Q,7)2@0_'\n",
      "Granularity:   3\n",
      "Test #6 mystery(inp='*+s/Q,7)2@0_'): PASS\n",
      "Test #7 mystery(inp='-(V4EOz7)2@0_'): FAIL (ValueError: Invalid input)\n",
      "Reduce to complement\n",
      "Passing input: ''\n",
      "Failing input: '-(V4EOz7)2@0_'\n",
      "Granularity:   2\n",
      "Test #8 mystery(inp='7)2@0_'): PASS\n",
      "Test #9 mystery(inp='-(V4EOz'): PASS\n",
      "No reduction found\n",
      "Increase granularity\n",
      "Passing input: ''\n",
      "Failing input: '-(V4EOz7)2@0_'\n",
      "Granularity:   4\n",
      "Test #10 mystery(inp='-(V47)2@0_'): FAIL (ValueError: Invalid input)\n",
      "Reduce to complement\n",
      "Passing input: ''\n",
      "Failing input: '-(V47)2@0_'\n",
      "Granularity:   3\n",
      "Test #11 mystery(inp='-(V4@0_'): PASS\n",
      "Test #12 mystery(inp='-(V47)2'): FAIL (ValueError: Invalid input)\n",
      "Reduce to complement\n",
      "Passing input: ''\n",
      "Failing input: '-(V47)2'\n",
      "Granularity:   2\n",
      "Test #13 mystery(inp='-7)2'): PASS\n",
      "Test #14 mystery(inp='(V4'): PASS\n",
      "No reduction found\n",
      "Increase granularity\n",
      "Passing input: ''\n",
      "Failing input: '-(V47)2'\n",
      "Granularity:   4\n",
      "Test #15 mystery(inp='-47)2'): PASS\n",
      "Test #16 mystery(inp='-(V7)2'): FAIL (ValueError: Invalid input)\n",
      "Reduce to complement\n",
      "Passing input: ''\n",
      "Failing input: '-(V7)2'\n",
      "Granularity:   3\n",
      "Test #17 mystery(inp='-(V2'): PASS\n",
      "Test #18 mystery(inp='(V7)'): FAIL (ValueError: Invalid input)\n",
      "Reduce to complement\n",
      "Passing input: ''\n",
      "Failing input: '(V7)'\n",
      "Granularity:   2\n",
      "Test #19 mystery(inp='7)'): PASS\n",
      "Test #20 mystery(inp='(V'): PASS\n",
      "No reduction found\n",
      "Increase granularity\n",
      "Passing input: ''\n",
      "Failing input: '(V7)'\n",
      "Granularity:   4\n",
      "Test #21 mystery(inp='(7)'): FAIL (ValueError: Invalid input)\n",
      "Reduce to complement\n",
      "Passing input: ''\n",
      "Failing input: '(7)'\n",
      "Granularity:   3\n",
      "Test #22 mystery(inp='()'): FAIL (ValueError: Invalid input)\n",
      "Reduce to complement\n",
      "Passing input: ''\n",
      "Failing input: '()'\n",
      "Granularity:   2\n",
      "Test #23 mystery(inp=')'): PASS\n",
      "Test #24 mystery(inp='('): PASS\n",
      "No reduction found\n"
     ]
    },
    {
     "data": {
      "text/plain": [
       "('', '()', '()')"
      ]
     },
     "execution_count": 80,
     "metadata": {},
     "output_type": "execute_result"
    }
   ],
   "source": [
    "dd.dd('inp', {'inp': failing_input})"
   ]
  },
  {
   "cell_type": "markdown",
   "metadata": {
    "slideshow": {
     "slide_type": "subslide"
    }
   },
   "source": [
    "#### Processing Multiple Arguments\n",
    "\n",
    "What happens if a function has multiple arguments? First, we check if they are _reducible_ – that is, they provide a `len()` length function and a way to access indexed elements. This holds for all strings and all lists, as well as other ordered collections."
   ]
  },
  {
   "cell_type": "code",
   "execution_count": 81,
   "metadata": {
    "execution": {
     "iopub.execute_input": "2023-02-11T10:04:19.143655Z",
     "iopub.status.busy": "2023-02-11T10:04:19.143162Z",
     "iopub.status.idle": "2023-02-11T10:04:19.144798Z",
     "shell.execute_reply": "2023-02-11T10:04:19.145059Z"
    },
    "slideshow": {
     "slide_type": "subslide"
    }
   },
   "outputs": [],
   "source": [
    "def is_reducible(value: Any) -> bool:\n",
    "    # Return True if `value` supports len() and indexing.\n",
    "    try:\n",
    "        _ = len(value)\n",
    "    except TypeError:\n",
    "        return False\n",
    "\n",
    "    try:\n",
    "        _ = value[0]\n",
    "    except TypeError:\n",
    "        return False\n",
    "    except IndexError:\n",
    "        return False\n",
    "\n",
    "    return True"
   ]
  },
  {
   "cell_type": "markdown",
   "metadata": {
    "slideshow": {
     "slide_type": "subslide"
    }
   },
   "source": [
    "Our method `process_args()` processes recorded call arguments, one after the one, until all are minimized or maximized. Processing them individually (rather than, say, all at once) allows to maintain a stable _context_ during reduction."
   ]
  },
  {
   "cell_type": "markdown",
   "metadata": {
    "slideshow": {
     "slide_type": "fragment"
    }
   },
   "source": [
    "This method also does all the housekeeping, checking arguments and results, and raising errors if need be."
   ]
  },
  {
   "cell_type": "code",
   "execution_count": 82,
   "metadata": {
    "execution": {
     "iopub.execute_input": "2023-02-11T10:04:19.147824Z",
     "iopub.status.busy": "2023-02-11T10:04:19.147319Z",
     "iopub.status.idle": "2023-02-11T10:04:19.149035Z",
     "shell.execute_reply": "2023-02-11T10:04:19.149315Z"
    },
    "slideshow": {
     "slide_type": "fragment"
    }
   },
   "outputs": [],
   "source": [
    "class FailureNotReproducedError(ValueError):\n",
    "    pass"
   ]
  },
  {
   "cell_type": "code",
   "execution_count": 83,
   "metadata": {
    "execution": {
     "iopub.execute_input": "2023-02-11T10:04:19.153073Z",
     "iopub.status.busy": "2023-02-11T10:04:19.152591Z",
     "iopub.status.idle": "2023-02-11T10:04:19.155564Z",
     "shell.execute_reply": "2023-02-11T10:04:19.155972Z"
    },
    "slideshow": {
     "slide_type": "subslide"
    }
   },
   "outputs": [],
   "source": [
    "class DeltaDebugger(DeltaDebugger):\n",
    "    def check_reproducibility(self) -> None:\n",
    "        # Check whether running the function again fails\n",
    "        assert self._function, \\\n",
    "            \"No call collected. Use `with dd: func()` first.\"\n",
    "        assert self._args, \\\n",
    "            \"No arguments collected. Use `with dd: func(args)` first.\"\n",
    "\n",
    "        self.reset()\n",
    "        outcome = self.test(self.args())\n",
    "        if outcome == UNRESOLVED:\n",
    "            raise FailureNotReproducedError(\n",
    "                \"When called again, \" +\n",
    "                self.format_call(self.args()) + \n",
    "                \" raised \" +\n",
    "                self.format_exception(self.last_exception) +\n",
    "                \" instead of \" +\n",
    "                self.format_exception(self.exception()))\n",
    "\n",
    "        if outcome == PASS:\n",
    "            raise NotFailingError(\"When called again, \" +\n",
    "                                  self.format_call(self.args()) + \n",
    "                                  \" did not fail\")\n",
    "        assert outcome == FAIL"
   ]
  },
  {
   "cell_type": "code",
   "execution_count": 84,
   "metadata": {
    "execution": {
     "iopub.execute_input": "2023-02-11T10:04:19.167161Z",
     "iopub.status.busy": "2023-02-11T10:04:19.166698Z",
     "iopub.status.idle": "2023-02-11T10:04:19.168090Z",
     "shell.execute_reply": "2023-02-11T10:04:19.168438Z"
    },
    "slideshow": {
     "slide_type": "subslide"
    }
   },
   "outputs": [],
   "source": [
    "class DeltaDebugger(DeltaDebugger):\n",
    "    def process_args(self, strategy: Callable, **strategy_args: Any) -> \\\n",
    "        Tuple[Dict[str, Any], Dict[str, Any], Dict[str, Any]]:\n",
    "        \"\"\"\n",
    "        Reduce all reducible arguments, using `strategy`(var, `strategy_args`).\n",
    "        Can be overloaded in subclasses.\n",
    "        \"\"\"\n",
    "\n",
    "        pass_args = {}  # Local copy\n",
    "        fail_args = {}  # Local copy\n",
    "        diff_args = {}\n",
    "        for var in self.args():\n",
    "            fail_args[var] = self.args()[var]\n",
    "            diff_args[var] = self.args()[var]\n",
    "            pass_args[var] = self.args()[var]\n",
    "\n",
    "            if is_reducible(pass_args[var]):\n",
    "                pass_args[var] = empty(pass_args[var])\n",
    "\n",
    "        vars_to_be_processed = set(fail_args.keys())\n",
    "\n",
    "        pass_processed = 0\n",
    "        fail_processed = 0\n",
    "\n",
    "        self.check_reproducibility()\n",
    "\n",
    "        # We take turns in processing variables until all are processed\n",
    "        while len(vars_to_be_processed) > 0:\n",
    "            for var in vars_to_be_processed:\n",
    "                if not is_reducible(fail_args[var]):\n",
    "                    vars_to_be_processed.remove(var)\n",
    "                    break\n",
    "\n",
    "                if self.log:\n",
    "                    print(f\"Processing {var}...\")\n",
    "\n",
    "                maximized_pass_value, minimized_fail_value, diff = \\\n",
    "                    strategy(var, fail_args, **strategy_args)\n",
    "\n",
    "                if (maximized_pass_value is not None and \n",
    "                    len(maximized_pass_value) > len(pass_args[var])):\n",
    "                    pass_args[var] = maximized_pass_value\n",
    "                    # FIXME: diff_args may not be correct for multiple args\n",
    "                    diff_args[var] = diff\n",
    "                    if self.log:\n",
    "                        print(f\"Maximized {var} to\",\n",
    "                              repr(maximized_pass_value))\n",
    "                    vars_to_be_processed = set(fail_args.keys())\n",
    "                    pass_processed += 1\n",
    "\n",
    "                if (minimized_fail_value is not None and \n",
    "                    len(minimized_fail_value) < len(fail_args[var])):\n",
    "                    fail_args[var] = minimized_fail_value\n",
    "                    diff_args[var] = diff\n",
    "                    if self.log:\n",
    "                        print(f\"Minimized {var} to\",\n",
    "                              repr(minimized_fail_value))\n",
    "                    vars_to_be_processed = set(fail_args.keys())\n",
    "                    fail_processed += 1\n",
    "\n",
    "                vars_to_be_processed.remove(var)\n",
    "                break\n",
    "\n",
    "        assert pass_processed == 0 or self.test(pass_args) == PASS, \\\n",
    "            f\"{self.format_call(pass_args)} does not pass\"\n",
    "        assert fail_processed == 0 or self.test(fail_args) == FAIL, \\\n",
    "            f\"{self.format_call(fail_args)} does not fail\"\n",
    "\n",
    "        if self.log and pass_processed > 0:\n",
    "            print(\"Maximized passing call to\",\n",
    "                  self.format_call(pass_args))\n",
    "        if self.log and fail_processed > 0:\n",
    "            print(\"Minimized failing call to\",\n",
    "                  self.format_call(fail_args))\n",
    "\n",
    "        return pass_args, fail_args, diff_args"
   ]
  },
  {
   "cell_type": "markdown",
   "metadata": {
    "slideshow": {
     "slide_type": "subslide"
    }
   },
   "source": [
    "For more housekeeping, we define the `after_collection()` method that will be invoked at the end of the `with` block. It checks for a number of additional preconditions."
   ]
  },
  {
   "cell_type": "code",
   "execution_count": 85,
   "metadata": {
    "execution": {
     "iopub.execute_input": "2023-02-11T10:04:19.171339Z",
     "iopub.status.busy": "2023-02-11T10:04:19.170992Z",
     "iopub.status.idle": "2023-02-11T10:04:19.172559Z",
     "shell.execute_reply": "2023-02-11T10:04:19.172888Z"
    },
    "slideshow": {
     "slide_type": "fragment"
    }
   },
   "outputs": [],
   "source": [
    "class DeltaDebugger(DeltaDebugger):\n",
    "    def after_collection(self) -> None:\n",
    "        # Some post-collection checks\n",
    "        if self._function is None:\n",
    "            raise NoCallError(\"No function call observed\")\n",
    "        if self.exception() is None:\n",
    "            raise NotFailingError(\n",
    "                f\"{self.format_call()} did not raise an exception\")\n",
    "\n",
    "        if self.log:\n",
    "            print(f\"Observed {self.format_call()}\" +\n",
    "                  f\" raising {self.format_exception(self.exception())}\")"
   ]
  },
  {
   "cell_type": "markdown",
   "metadata": {
    "slideshow": {
     "slide_type": "subslide"
    }
   },
   "source": [
    "#### Public API\n",
    "\n",
    "We finish the implementation with public methods that allow users to run delta debugging and obtain the diagnostics."
   ]
  },
  {
   "cell_type": "code",
   "execution_count": 86,
   "metadata": {
    "execution": {
     "iopub.execute_input": "2023-02-11T10:04:19.182116Z",
     "iopub.status.busy": "2023-02-11T10:04:19.181730Z",
     "iopub.status.idle": "2023-02-11T10:04:19.183073Z",
     "shell.execute_reply": "2023-02-11T10:04:19.183563Z"
    },
    "slideshow": {
     "slide_type": "fragment"
    }
   },
   "outputs": [],
   "source": [
    "class DeltaDebugger(DeltaDebugger):\n",
    "    def min_args(self) -> Dict[str, Any]:\n",
    "        \"\"\"Return 1-minimal arguments.\"\"\"\n",
    "        pass_args, fail_args, diff = self.process_args(self.dd, mode='-')\n",
    "        return fail_args"
   ]
  },
  {
   "cell_type": "code",
   "execution_count": 87,
   "metadata": {
    "execution": {
     "iopub.execute_input": "2023-02-11T10:04:19.186401Z",
     "iopub.status.busy": "2023-02-11T10:04:19.185985Z",
     "iopub.status.idle": "2023-02-11T10:04:19.188394Z",
     "shell.execute_reply": "2023-02-11T10:04:19.188786Z"
    },
    "slideshow": {
     "slide_type": "fragment"
    }
   },
   "outputs": [],
   "source": [
    "class DeltaDebugger(DeltaDebugger):\n",
    "    def max_args(self) -> Dict[str, Any]:\n",
    "        \"\"\"Return 1-maximal arguments.\"\"\"\n",
    "        pass_args, fail_args, diff = self.process_args(self.dd, mode='+')\n",
    "        return pass_args"
   ]
  },
  {
   "cell_type": "code",
   "execution_count": 88,
   "metadata": {
    "execution": {
     "iopub.execute_input": "2023-02-11T10:04:19.191555Z",
     "iopub.status.busy": "2023-02-11T10:04:19.191243Z",
     "iopub.status.idle": "2023-02-11T10:04:19.196923Z",
     "shell.execute_reply": "2023-02-11T10:04:19.197254Z"
    },
    "slideshow": {
     "slide_type": "subslide"
    }
   },
   "outputs": [],
   "source": [
    "class DeltaDebugger(DeltaDebugger):\n",
    "    def min_arg_diff(self) -> Tuple[Dict[str, Any], Dict[str, Any], Dict[str, Any]]:\n",
    "        \"\"\"Return 1-minimal difference between arguments.\"\"\"\n",
    "        return self.process_args(self.dd, mode='+-')"
   ]
  },
  {
   "cell_type": "markdown",
   "metadata": {
    "slideshow": {
     "slide_type": "fragment"
    }
   },
   "source": [
    "The `__repr__()` method returns a string representation of the minimized call."
   ]
  },
  {
   "cell_type": "code",
   "execution_count": 89,
   "metadata": {
    "execution": {
     "iopub.execute_input": "2023-02-11T10:04:19.200844Z",
     "iopub.status.busy": "2023-02-11T10:04:19.199579Z",
     "iopub.status.idle": "2023-02-11T10:04:19.203965Z",
     "shell.execute_reply": "2023-02-11T10:04:19.203684Z"
    },
    "slideshow": {
     "slide_type": "fragment"
    }
   },
   "outputs": [],
   "source": [
    "class DeltaDebugger(DeltaDebugger):\n",
    "    def __repr__(self) -> str:\n",
    "        \"\"\"Return a string representation of the minimized call.\"\"\"\n",
    "        return self.format_call(self.min_args())"
   ]
  },
  {
   "cell_type": "markdown",
   "metadata": {
    "slideshow": {
     "slide_type": "subslide"
    }
   },
   "source": [
    "### End of Excursion"
   ]
  },
  {
   "cell_type": "markdown",
   "metadata": {
    "slideshow": {
     "slide_type": "fragment"
    }
   },
   "source": [
    "To see how the `DeltaDebugger` works, let us run it on our failing input. The expected usage is as introduced earlier – we wrap the failing function in a `with` block, and then print out the debugger to see the reduced arguments. We see that `DeltaDebugger` easily reduces the arguments to the minimal failure-inducing input:"
   ]
  },
  {
   "cell_type": "code",
   "execution_count": 90,
   "metadata": {
    "execution": {
     "iopub.execute_input": "2023-02-11T10:04:19.206815Z",
     "iopub.status.busy": "2023-02-11T10:04:19.205359Z",
     "iopub.status.idle": "2023-02-11T10:04:19.208339Z",
     "shell.execute_reply": "2023-02-11T10:04:19.208600Z"
    },
    "slideshow": {
     "slide_type": "fragment"
    }
   },
   "outputs": [
    {
     "data": {
      "text/plain": [
       "mystery(inp='()')"
      ]
     },
     "execution_count": 90,
     "metadata": {},
     "output_type": "execute_result"
    }
   ],
   "source": [
    "with DeltaDebugger() as dd:\n",
    "    mystery(failing_input)\n",
    "dd"
   ]
  },
  {
   "cell_type": "markdown",
   "metadata": {
    "slideshow": {
     "slide_type": "fragment"
    }
   },
   "source": [
    "We can turn on logging for `DeltaDebugger` to see how it proceeds. With each step, we see how the remaining input gets smaller and smaller, until only two characters remain:"
   ]
  },
  {
   "cell_type": "code",
   "execution_count": 91,
   "metadata": {
    "execution": {
     "iopub.execute_input": "2023-02-11T10:04:19.211733Z",
     "iopub.status.busy": "2023-02-11T10:04:19.210691Z",
     "iopub.status.idle": "2023-02-11T10:04:19.218289Z",
     "shell.execute_reply": "2023-02-11T10:04:19.218842Z"
    },
    "slideshow": {
     "slide_type": "subslide"
    }
   },
   "outputs": [
    {
     "name": "stdout",
     "output_type": "stream",
     "text": [
      "Observed mystery(inp='V\"/+!aF-(V4EOz*+s/Q,7)2@0_') raising ValueError: Invalid input\n",
      "Test #1 mystery(inp='V\"/+!aF-(V4EOz*+s/Q,7)2@0_'): FAIL (ValueError: Invalid input)\n",
      "Processing inp...\n",
      "Test #2 mystery(inp=''): PASS\n",
      "Test #3 mystery(inp='V\"/+!aF-(V4EO'): PASS\n",
      "Test #4 mystery(inp='z*+s/Q,7)2@0_'): PASS\n",
      "Test #5 mystery(inp='-(V4EOz*+s/Q,7)2@0_'): FAIL (ValueError: Invalid input)\n",
      "Test #6 mystery(inp='*+s/Q,7)2@0_'): PASS\n",
      "Test #7 mystery(inp='-(V4EOz7)2@0_'): FAIL (ValueError: Invalid input)\n",
      "Test #8 mystery(inp='7)2@0_'): PASS\n",
      "Test #9 mystery(inp='-(V4EOz'): PASS\n",
      "Test #10 mystery(inp='-(V47)2@0_'): FAIL (ValueError: Invalid input)\n",
      "Test #11 mystery(inp='-(V4@0_'): PASS\n",
      "Test #12 mystery(inp='-(V47)2'): FAIL (ValueError: Invalid input)\n",
      "Test #13 mystery(inp='-7)2'): PASS\n",
      "Test #14 mystery(inp='(V4'): PASS\n",
      "Test #15 mystery(inp='-47)2'): PASS\n",
      "Test #16 mystery(inp='-(V7)2'): FAIL (ValueError: Invalid input)\n",
      "Test #17 mystery(inp='-(V2'): PASS\n",
      "Test #18 mystery(inp='(V7)'): FAIL (ValueError: Invalid input)\n",
      "Test #19 mystery(inp='7)'): PASS\n",
      "Test #20 mystery(inp='(V'): PASS\n",
      "Test #21 mystery(inp='(7)'): FAIL (ValueError: Invalid input)\n",
      "Test #22 mystery(inp='()'): FAIL (ValueError: Invalid input)\n",
      "Test #23 mystery(inp=')'): PASS\n",
      "Test #24 mystery(inp='('): PASS\n",
      "Minimized inp to '()'\n",
      "Minimized failing call to mystery(inp='()')\n"
     ]
    },
    {
     "data": {
      "text/plain": [
       "mystery(inp='()')"
      ]
     },
     "execution_count": 91,
     "metadata": {},
     "output_type": "execute_result"
    }
   ],
   "source": [
    "with DeltaDebugger(log=True) as dd:\n",
    "    mystery(failing_input)\n",
    "dd"
   ]
  },
  {
   "cell_type": "markdown",
   "metadata": {
    "slideshow": {
     "slide_type": "subslide"
    }
   },
   "source": [
    "It is also possible to access the debugger programmatically:"
   ]
  },
  {
   "cell_type": "code",
   "execution_count": 92,
   "metadata": {
    "execution": {
     "iopub.execute_input": "2023-02-11T10:04:19.224394Z",
     "iopub.status.busy": "2023-02-11T10:04:19.223614Z",
     "iopub.status.idle": "2023-02-11T10:04:19.227256Z",
     "shell.execute_reply": "2023-02-11T10:04:19.226897Z"
    },
    "slideshow": {
     "slide_type": "fragment"
    }
   },
   "outputs": [],
   "source": [
    "with DeltaDebugger() as dd:\n",
    "    mystery(failing_input)"
   ]
  },
  {
   "cell_type": "code",
   "execution_count": 93,
   "metadata": {
    "execution": {
     "iopub.execute_input": "2023-02-11T10:04:19.229625Z",
     "iopub.status.busy": "2023-02-11T10:04:19.229308Z",
     "iopub.status.idle": "2023-02-11T10:04:19.230908Z",
     "shell.execute_reply": "2023-02-11T10:04:19.231165Z"
    },
    "slideshow": {
     "slide_type": "fragment"
    }
   },
   "outputs": [
    {
     "data": {
      "text/plain": [
       "{'inp': 'V\"/+!aF-(V4EOz*+s/Q,7)2@0_'}"
      ]
     },
     "execution_count": 93,
     "metadata": {},
     "output_type": "execute_result"
    }
   ],
   "source": [
    "dd.args()"
   ]
  },
  {
   "cell_type": "code",
   "execution_count": 94,
   "metadata": {
    "execution": {
     "iopub.execute_input": "2023-02-11T10:04:19.233445Z",
     "iopub.status.busy": "2023-02-11T10:04:19.232397Z",
     "iopub.status.idle": "2023-02-11T10:04:19.237073Z",
     "shell.execute_reply": "2023-02-11T10:04:19.237937Z"
    },
    "slideshow": {
     "slide_type": "fragment"
    }
   },
   "outputs": [
    {
     "data": {
      "text/plain": [
       "{'inp': '()'}"
      ]
     },
     "execution_count": 94,
     "metadata": {},
     "output_type": "execute_result"
    }
   ],
   "source": [
    "dd.min_args()"
   ]
  },
  {
   "cell_type": "code",
   "execution_count": 95,
   "metadata": {
    "execution": {
     "iopub.execute_input": "2023-02-11T10:04:19.243461Z",
     "iopub.status.busy": "2023-02-11T10:04:19.243095Z",
     "iopub.status.idle": "2023-02-11T10:04:19.244952Z",
     "shell.execute_reply": "2023-02-11T10:04:19.245277Z"
    },
    "slideshow": {
     "slide_type": "subslide"
    }
   },
   "outputs": [
    {
     "data": {
      "text/html": [
       "\n",
       "    \n",
       "    <script>\n",
       "    var bad_answers = new Map();\n",
       "\n",
       "    function answer(quiz_id) {\n",
       "        ans = 0;\n",
       "        for (i = 1;; i++) {\n",
       "            checkbox = document.getElementById(quiz_id + \"-\" + i.toString());\n",
       "            if (!checkbox)\n",
       "                break;\n",
       "            if (checkbox.checked)\n",
       "                ans |= (1 << i);\n",
       "        }\n",
       "        return ans;\n",
       "    }\n",
       "    function check_selection(quiz_id, correct_answer, multiple_choice, hint) {\n",
       "        given_answer = answer(quiz_id);\n",
       "        if (given_answer == correct_answer)\n",
       "        {\n",
       "            document.getElementById(quiz_id + \"-submit\").value = \"Correct!\";\n",
       "            document.getElementById(quiz_id + \"-hint\").innerHTML = \"\";\n",
       "\n",
       "            for (i = 1;; i++) {\n",
       "                checkbox = document.getElementById(quiz_id + \"-\" + i.toString());\n",
       "                label = document.getElementById(quiz_id + \"-\" + i.toString() + \"-label\")\n",
       "                if (!checkbox)\n",
       "                    break;\n",
       "    \n",
       "                if (checkbox.checked) {\n",
       "                    label.style.fontWeight = \"bold\";\n",
       "                }\n",
       "                else {\n",
       "                    label.style.textDecoration = \"line-through\";\n",
       "                }\n",
       "            }\n",
       "        }\n",
       "        else \n",
       "        {\n",
       "            document.getElementById(quiz_id + \"-submit\").value = \"Try again\";\n",
       "            \n",
       "            if (!bad_answers.has(quiz_id)) {\n",
       "                bad_answers.set(quiz_id, 1);\n",
       "            }\n",
       "            else {\n",
       "                bad_answers.set(quiz_id, bad_answers.get(quiz_id) + 1);\n",
       "            }\n",
       "\n",
       "            if (bad_answers.get(quiz_id) >= 2 && hint.length > 0) {\n",
       "                document.getElementById(quiz_id + \"-hint\").innerHTML = \n",
       "                    \"&nbsp;&nbsp;(Hint: <code>\" + hint + \"</code>)\";\n",
       "            }\n",
       "\n",
       "            if (!multiple_choice) {\n",
       "                for (i = 1;; i++) {\n",
       "                    checkbox = document.getElementById(quiz_id + \"-\" + i.toString());\n",
       "                    label = document.getElementById(quiz_id + \"-\" + i.toString() + \"-label\")\n",
       "\n",
       "                    if (!checkbox)\n",
       "                        break;\n",
       "                    if (checkbox.checked) {\n",
       "                        label.style.textDecoration = \"line-through\";\n",
       "                    }\n",
       "                }\n",
       "            }\n",
       "        }\n",
       "    }\n",
       "    function clear_selection(quiz_id) {\n",
       "        document.getElementById(quiz_id + \"-submit\").value = \"Submit\";\n",
       "        document.getElementById(quiz_id + \"-hint\").innerHTML = \"\";\n",
       "    }\n",
       "    </script>\n",
       "    \n",
       "    <div class=\"quiz\">\n",
       "    <h3 class=\"quiz_title\">Quiz</h3>\n",
       "    <p>\n",
       "    <div class=\"quiz_question\">What happens if the function under test does not raise an exception?</div>\n",
       "    </p>\n",
       "    <p>\n",
       "    <div class=\"quiz_options\" title=\"Pick a choice.\">\n",
       "    \n",
       "        <input type=\"radio\" name=\"73266a06-a9f3-11ed-8f46-6298cf1a578f\" id=\"73266a06-a9f3-11ed-8f46-6298cf1a578f-1\" onclick=\"clear_selection('73266a06-a9f3-11ed-8f46-6298cf1a578f')\">\n",
       "        <label id=\"73266a06-a9f3-11ed-8f46-6298cf1a578f-1-label\" for=\"73266a06-a9f3-11ed-8f46-6298cf1a578f-1\">Delta debugging searches for the minimal input that produces the same result</label><br>\n",
       "    \n",
       "        <input type=\"radio\" name=\"73266a06-a9f3-11ed-8f46-6298cf1a578f\" id=\"73266a06-a9f3-11ed-8f46-6298cf1a578f-2\" onclick=\"clear_selection('73266a06-a9f3-11ed-8f46-6298cf1a578f')\">\n",
       "        <label id=\"73266a06-a9f3-11ed-8f46-6298cf1a578f-2-label\" for=\"73266a06-a9f3-11ed-8f46-6298cf1a578f-2\">Delta debugging starts a fuzzer to find an exception</label><br>\n",
       "    \n",
       "        <input type=\"radio\" name=\"73266a06-a9f3-11ed-8f46-6298cf1a578f\" id=\"73266a06-a9f3-11ed-8f46-6298cf1a578f-3\" onclick=\"clear_selection('73266a06-a9f3-11ed-8f46-6298cf1a578f')\">\n",
       "        <label id=\"73266a06-a9f3-11ed-8f46-6298cf1a578f-3-label\" for=\"73266a06-a9f3-11ed-8f46-6298cf1a578f-3\">Delta debugging raises an exception</label><br>\n",
       "    \n",
       "        <input type=\"radio\" name=\"73266a06-a9f3-11ed-8f46-6298cf1a578f\" id=\"73266a06-a9f3-11ed-8f46-6298cf1a578f-4\" onclick=\"clear_selection('73266a06-a9f3-11ed-8f46-6298cf1a578f')\">\n",
       "        <label id=\"73266a06-a9f3-11ed-8f46-6298cf1a578f-4-label\" for=\"73266a06-a9f3-11ed-8f46-6298cf1a578f-4\">Delta debugging runs forever in a loop</label><br>\n",
       "    \n",
       "    </div>\n",
       "    </p>\n",
       "    <input id=\"73266a06-a9f3-11ed-8f46-6298cf1a578f-submit\" type=\"submit\" value=\"Submit\" onclick=\"check_selection('73266a06-a9f3-11ed-8f46-6298cf1a578f', 8, 0, '0 ** 0 + 1 ** 0 + 0 ** 1 + 1 ** 1')\">\n",
       "    <span class=\"quiz_hint\" id=\"73266a06-a9f3-11ed-8f46-6298cf1a578f-hint\"></span>\n",
       "    </div>\n",
       "    "
      ],
      "text/plain": [
       "<IPython.core.display.HTML object>"
      ]
     },
     "execution_count": 95,
     "metadata": {},
     "output_type": "execute_result"
    }
   ],
   "source": [
    "quiz(\"What happens if the function under test does not raise an exception?\",\n",
    "    [\n",
    "        \"Delta debugging searches for the minimal input\"\n",
    "        \" that produces the same result\",\n",
    "        \"Delta debugging starts a fuzzer to find an exception\",\n",
    "        \"Delta debugging raises an exception\",\n",
    "        \"Delta debugging runs forever in a loop\",\n",
    "    ], '0 ** 0 + 1 ** 0 + 0 ** 1 + 1 ** 1')"
   ]
  },
  {
   "cell_type": "markdown",
   "metadata": {
    "slideshow": {
     "slide_type": "fragment"
    }
   },
   "source": [
    "Indeed, `DeltaDebugger` checks if an exception occurs. If not, you obtain a `NotFailingError`."
   ]
  },
  {
   "cell_type": "code",
   "execution_count": 96,
   "metadata": {
    "execution": {
     "iopub.execute_input": "2023-02-11T10:04:19.247690Z",
     "iopub.status.busy": "2023-02-11T10:04:19.247318Z",
     "iopub.status.idle": "2023-02-11T10:04:19.248864Z",
     "shell.execute_reply": "2023-02-11T10:04:19.249076Z"
    },
    "slideshow": {
     "slide_type": "subslide"
    }
   },
   "outputs": [
    {
     "name": "stderr",
     "output_type": "stream",
     "text": [
      "Traceback (most recent call last):\n",
      "  File \"/var/folders/n2/xd9445p97rb3xh7m1dfx8_4h0006ts/T/ipykernel_1782/3784387889.py\", line 2, in <cell line: 1>\n",
      "    with DeltaDebugger() as dd:\n",
      "  File \"/var/folders/n2/xd9445p97rb3xh7m1dfx8_4h0006ts/T/ipykernel_1782/4114738534.py\", line 24, in __exit__\n",
      "    self.after_collection()\n",
      "  File \"/var/folders/n2/xd9445p97rb3xh7m1dfx8_4h0006ts/T/ipykernel_1782/1934034330.py\", line 7, in after_collection\n",
      "    raise NotFailingError(\n",
      "NotFailingError: mystery(inp='An input that does not fail') did not raise an exception (expected)\n"
     ]
    }
   ],
   "source": [
    "with ExpectError(NotFailingError):\n",
    "    with DeltaDebugger() as dd:\n",
    "        mystery(\"An input that does not fail\")"
   ]
  },
  {
   "cell_type": "markdown",
   "metadata": {
    "slideshow": {
     "slide_type": "fragment"
    }
   },
   "source": [
    "Delta Debugging also assumes that the function under test is _deterministic_. If it occasionally fails and occasionally passes, you will get random results."
   ]
  },
  {
   "cell_type": "markdown",
   "metadata": {
    "slideshow": {
     "slide_type": "slide"
    }
   },
   "source": [
    "## Usage Examples\n",
    "\n",
    "Let us apply `DeltaDebugger` on a number of examples. "
   ]
  },
  {
   "cell_type": "markdown",
   "metadata": {
    "slideshow": {
     "slide_type": "subslide"
    }
   },
   "source": [
    "### Reducing remove_html_markup()\n",
    "\n",
    "For our ongoing `remove_html_markup()` example, we can reduce the failure-inducing input to a minimum, too:"
   ]
  },
  {
   "cell_type": "code",
   "execution_count": 97,
   "metadata": {
    "execution": {
     "iopub.execute_input": "2023-02-11T10:04:19.276853Z",
     "iopub.status.busy": "2023-02-11T10:04:19.254461Z",
     "iopub.status.idle": "2023-02-11T10:04:19.283887Z",
     "shell.execute_reply": "2023-02-11T10:04:19.284085Z"
    },
    "slideshow": {
     "slide_type": "skip"
    }
   },
   "outputs": [],
   "source": [
    "from Assertions import remove_html_markup  # minor dependency"
   ]
  },
  {
   "cell_type": "code",
   "execution_count": 98,
   "metadata": {
    "execution": {
     "iopub.execute_input": "2023-02-11T10:04:19.287044Z",
     "iopub.status.busy": "2023-02-11T10:04:19.286470Z",
     "iopub.status.idle": "2023-02-11T10:04:19.289741Z",
     "shell.execute_reply": "2023-02-11T10:04:19.290411Z"
    },
    "slideshow": {
     "slide_type": "subslide"
    }
   },
   "outputs": [
    {
     "name": "stdout",
     "output_type": "stream",
     "text": [
      "Observed remove_html_markup(s='\"x > y\"') raising AssertionError\n",
      "Test #1 remove_html_markup(s='\"x > y\"'): FAIL (AssertionError)\n",
      "Processing s...\n",
      "Test #2 remove_html_markup(s=''): PASS\n",
      "Test #3 remove_html_markup(s='\"x >'): FAIL (AssertionError)\n",
      "Test #4 remove_html_markup(s='\"x'): PASS\n",
      "Test #5 remove_html_markup(s=' >'): PASS\n",
      "Test #6 remove_html_markup(s='x >'): PASS\n",
      "Test #7 remove_html_markup(s='\" >'): FAIL (AssertionError)\n",
      "Test #8 remove_html_markup(s='\">'): FAIL (AssertionError)\n",
      "Test #9 remove_html_markup(s='>'): PASS\n",
      "Test #10 remove_html_markup(s='\"'): PASS\n",
      "Minimized s to '\">'\n",
      "Minimized failing call to remove_html_markup(s='\">')\n"
     ]
    },
    {
     "data": {
      "text/plain": [
       "{'s': '\">'}"
      ]
     },
     "execution_count": 98,
     "metadata": {},
     "output_type": "execute_result"
    }
   ],
   "source": [
    "with DeltaDebugger(log=True) as dd:\n",
    "    remove_html_markup('\"x > y\"')\n",
    "dd.min_args()"
   ]
  },
  {
   "cell_type": "markdown",
   "metadata": {
    "slideshow": {
     "slide_type": "subslide"
    }
   },
   "source": [
    "### Reducing Multiple Arguments\n",
    "\n",
    "If a function has multiple reducible variables, they get reduced in turns. This `string_error()` function fails whenever `s1` is a substring of `s2`:"
   ]
  },
  {
   "cell_type": "code",
   "execution_count": 99,
   "metadata": {
    "execution": {
     "iopub.execute_input": "2023-02-11T10:04:19.296084Z",
     "iopub.status.busy": "2023-02-11T10:04:19.292342Z",
     "iopub.status.idle": "2023-02-11T10:04:19.297176Z",
     "shell.execute_reply": "2023-02-11T10:04:19.297497Z"
    },
    "slideshow": {
     "slide_type": "fragment"
    }
   },
   "outputs": [],
   "source": [
    "def string_error(s1: str, s2: str) -> None:\n",
    "    assert s1 not in s2, \"no substrings\""
   ]
  },
  {
   "cell_type": "markdown",
   "metadata": {
    "slideshow": {
     "slide_type": "fragment"
    }
   },
   "source": [
    "Running `DeltaDebugger` on `string_error` shows how first `s1` is reduced, then `s2`, then `s1` again."
   ]
  },
  {
   "cell_type": "code",
   "execution_count": 100,
   "metadata": {
    "execution": {
     "iopub.execute_input": "2023-02-11T10:04:19.300400Z",
     "iopub.status.busy": "2023-02-11T10:04:19.299129Z",
     "iopub.status.idle": "2023-02-11T10:04:19.302012Z",
     "shell.execute_reply": "2023-02-11T10:04:19.302266Z"
    },
    "slideshow": {
     "slide_type": "subslide"
    }
   },
   "outputs": [
    {
     "name": "stdout",
     "output_type": "stream",
     "text": [
      "Observed string_error(s1='foo', s2='foobar') raising AssertionError: no substrings\n",
      "Test #1 string_error(s1='foo', s2='foobar'): FAIL (AssertionError: no substrings)\n",
      "Processing s1...\n",
      "Test #2 string_error(s1='', s2='foobar'): FAIL (AssertionError: no substrings)\n",
      "Minimized s1 to ''\n",
      "Processing s2...\n",
      "Test #3 string_error(s1='', s2=''): FAIL (AssertionError: no substrings)\n",
      "Minimized s2 to ''\n",
      "Minimized failing call to string_error(s1='', s2='')\n"
     ]
    },
    {
     "data": {
      "text/plain": [
       "{'s1': '', 's2': ''}"
      ]
     },
     "execution_count": 100,
     "metadata": {},
     "output_type": "execute_result"
    }
   ],
   "source": [
    "with DeltaDebugger(log=True) as dd:\n",
    "    string_error(\"foo\", \"foobar\")\n",
    "\n",
    "string_error_args = dd.min_args()\n",
    "string_error_args"
   ]
  },
  {
   "cell_type": "markdown",
   "metadata": {
    "slideshow": {
     "slide_type": "subslide"
    }
   },
   "source": [
    "We see that the failure also occurs if both strings are empty:"
   ]
  },
  {
   "cell_type": "code",
   "execution_count": 101,
   "metadata": {
    "execution": {
     "iopub.execute_input": "2023-02-11T10:04:19.304268Z",
     "iopub.status.busy": "2023-02-11T10:04:19.303895Z",
     "iopub.status.idle": "2023-02-11T10:04:19.305275Z",
     "shell.execute_reply": "2023-02-11T10:04:19.305465Z"
    },
    "slideshow": {
     "slide_type": "fragment"
    }
   },
   "outputs": [
    {
     "name": "stderr",
     "output_type": "stream",
     "text": [
      "Traceback (most recent call last):\n",
      "  File \"/var/folders/n2/xd9445p97rb3xh7m1dfx8_4h0006ts/T/ipykernel_1782/3257360882.py\", line 2, in <cell line: 1>\n",
      "    string_error(string_error_args['s1'], string_error_args['s2'])\n",
      "  File \"/var/folders/n2/xd9445p97rb3xh7m1dfx8_4h0006ts/T/ipykernel_1782/773514021.py\", line 2, in string_error\n",
      "    assert s1 not in s2, \"no substrings\"\n",
      "AssertionError: no substrings (expected)\n"
     ]
    }
   ],
   "source": [
    "with ExpectError(AssertionError):\n",
    "    string_error(string_error_args['s1'], string_error_args['s2'])"
   ]
  },
  {
   "attachments": {},
   "cell_type": "markdown",
   "metadata": {
    "slideshow": {
     "slide_type": "subslide"
    }
   },
   "source": [
    "### Invoking an Interactive Debugger\n",
    "\n",
    "The results from delta debugging can be immediately used to invoke an [interactive debugger](Debugger.ipynb) on the minimized input. To this end, we need to turn the dictionary returned by `min_args()` into arguments of the (failing) function call."
   ]
  },
  {
   "cell_type": "markdown",
   "metadata": {
    "slideshow": {
     "slide_type": "subslide"
    }
   },
   "source": [
    "Python provides a simple way to turn dictionaries into function calls. The construct\n",
    "\n",
    "```python\n",
    "fun(**args)\n",
    "```\n",
    "\n",
    "invokes the function `fun`, with all parameters assigned from the respective values in the dictionary. "
   ]
  },
  {
   "cell_type": "markdown",
   "metadata": {
    "slideshow": {
     "slide_type": "fragment"
    }
   },
   "source": [
    "With this, we can immediately invoke a `Debugger` on the failing run with minimized arguments:"
   ]
  },
  {
   "cell_type": "code",
   "execution_count": 102,
   "metadata": {
    "execution": {
     "iopub.execute_input": "2023-02-11T10:04:19.307702Z",
     "iopub.status.busy": "2023-02-11T10:04:19.307405Z",
     "iopub.status.idle": "2023-02-11T10:04:19.322477Z",
     "shell.execute_reply": "2023-02-11T10:04:19.322794Z"
    },
    "slideshow": {
     "slide_type": "skip"
    }
   },
   "outputs": [],
   "source": [
    "from Debugger import Debugger  # minor dependency"
   ]
  },
  {
   "cell_type": "code",
   "execution_count": 103,
   "metadata": {
    "execution": {
     "iopub.execute_input": "2023-02-11T10:04:19.325280Z",
     "iopub.status.busy": "2023-02-11T10:04:19.324770Z",
     "iopub.status.idle": "2023-02-11T10:04:19.326406Z",
     "shell.execute_reply": "2023-02-11T10:04:19.326807Z"
    },
    "slideshow": {
     "slide_type": "fragment"
    }
   },
   "outputs": [],
   "source": [
    "# ignore\n",
    "from bookutils import next_inputs"
   ]
  },
  {
   "cell_type": "code",
   "execution_count": 104,
   "metadata": {
    "execution": {
     "iopub.execute_input": "2023-02-11T10:04:19.329029Z",
     "iopub.status.busy": "2023-02-11T10:04:19.328570Z",
     "iopub.status.idle": "2023-02-11T10:04:19.330362Z",
     "shell.execute_reply": "2023-02-11T10:04:19.330577Z"
    },
    "slideshow": {
     "slide_type": "subslide"
    }
   },
   "outputs": [
    {
     "data": {
      "text/plain": [
       "['print', 'quit']"
      ]
     },
     "execution_count": 104,
     "metadata": {},
     "output_type": "execute_result"
    }
   ],
   "source": [
    "# ignore\n",
    "next_inputs(['print', 'quit'])"
   ]
  },
  {
   "cell_type": "code",
   "execution_count": 105,
   "metadata": {
    "execution": {
     "iopub.execute_input": "2023-02-11T10:04:19.335065Z",
     "iopub.status.busy": "2023-02-11T10:04:19.334432Z",
     "iopub.status.idle": "2023-02-11T10:04:19.338245Z",
     "shell.execute_reply": "2023-02-11T10:04:19.338495Z"
    },
    "slideshow": {
     "slide_type": "subslide"
    }
   },
   "outputs": [
    {
     "name": "stdout",
     "output_type": "stream",
     "text": [
      "Calling string_error(s1 = '', s2 = '')\n"
     ]
    },
    {
     "data": {
      "text/html": [
       "<samp>(debugger) <b>print</b></samp>"
      ],
      "text/plain": [
       "<IPython.core.display.HTML object>"
      ]
     },
     "metadata": {},
     "output_type": "display_data"
    },
    {
     "name": "stdout",
     "output_type": "stream",
     "text": [
      "s1 = ''\n",
      "s2 = ''\n"
     ]
    },
    {
     "data": {
      "text/html": [
       "<samp>(debugger) <b>quit</b></samp>"
      ],
      "text/plain": [
       "<IPython.core.display.HTML object>"
      ]
     },
     "metadata": {},
     "output_type": "display_data"
    },
    {
     "name": "stderr",
     "output_type": "stream",
     "text": [
      "Traceback (most recent call last):\n",
      "  File \"/var/folders/n2/xd9445p97rb3xh7m1dfx8_4h0006ts/T/ipykernel_1782/2680174709.py\", line 3, in <cell line: 1>\n",
      "    string_error(**string_error_args)\n",
      "  File \"/var/folders/n2/xd9445p97rb3xh7m1dfx8_4h0006ts/T/ipykernel_1782/773514021.py\", line 2, in string_error\n",
      "    assert s1 not in s2, \"no substrings\"\n",
      "AssertionError: no substrings (expected)\n"
     ]
    }
   ],
   "source": [
    "with ExpectError(AssertionError):\n",
    "    with Debugger():\n",
    "        string_error(**string_error_args)"
   ]
  },
  {
   "cell_type": "markdown",
   "metadata": {
    "slideshow": {
     "slide_type": "subslide"
    }
   },
   "source": [
    "### Reducing other Collections\n",
    "\n",
    "Our `DeltaDebugger` is not limited to strings. It can reduce any argument `x` for which a `len(x)` operation and an indexing operation `x[i]` is defined – notably lists. Here is how to apply `DeltaDebugger` on a list:"
   ]
  },
  {
   "cell_type": "code",
   "execution_count": 106,
   "metadata": {
    "execution": {
     "iopub.execute_input": "2023-02-11T10:04:19.343215Z",
     "iopub.status.busy": "2023-02-11T10:04:19.342490Z",
     "iopub.status.idle": "2023-02-11T10:04:19.344742Z",
     "shell.execute_reply": "2023-02-11T10:04:19.345082Z"
    },
    "slideshow": {
     "slide_type": "fragment"
    }
   },
   "outputs": [],
   "source": [
    "def list_error(l1: List, l2: List, maxlen: int) -> None:\n",
    "    assert len(l1) < len(l2) < maxlen, \"invalid string length\""
   ]
  },
  {
   "cell_type": "code",
   "execution_count": 107,
   "metadata": {
    "execution": {
     "iopub.execute_input": "2023-02-11T10:04:19.348160Z",
     "iopub.status.busy": "2023-02-11T10:04:19.347512Z",
     "iopub.status.idle": "2023-02-11T10:04:19.351959Z",
     "shell.execute_reply": "2023-02-11T10:04:19.352171Z"
    },
    "slideshow": {
     "slide_type": "fragment"
    }
   },
   "outputs": [
    {
     "data": {
      "text/plain": [
       "list_error(l1=[], l2=[], maxlen=5)"
      ]
     },
     "execution_count": 107,
     "metadata": {},
     "output_type": "execute_result"
    }
   ],
   "source": [
    "with DeltaDebugger() as dd:\n",
    "    list_error(l1=[1, 2, 3, 4, 5, 6, 7, 8, 9, 10], l2=[1, 2, 3], maxlen=5)\n",
    "dd"
   ]
  },
  {
   "cell_type": "markdown",
   "metadata": {
    "slideshow": {
     "slide_type": "slide"
    }
   },
   "source": [
    "## Debugging Inputs\n",
    "\n",
    "Sometimes, it may be useful to not _minimize_ the input, but rather _maximize_ it – that is, to find the _maximum_ input that does _not_ fail. For instance, you may have an input of which you want to _preserve_ as much as possible – to repair it, or to establish a _context_ that is as close as possible to the real input."
   ]
  },
  {
   "cell_type": "markdown",
   "metadata": {
    "slideshow": {
     "slide_type": "fragment"
    }
   },
   "source": [
    "This is possible by using the `max_arg()` method. It implements the `ddmax` variant of the general Delta Debugging algorithm \\cite{Kirschner2020}. With each step, it tries to add more and more characters to the passing input until it is _1-maximal_ – that is, any additional character that would be added from the failing input also would cause the function to fail."
   ]
  },
  {
   "cell_type": "code",
   "execution_count": 108,
   "metadata": {
    "execution": {
     "iopub.execute_input": "2023-02-11T10:04:19.355497Z",
     "iopub.status.busy": "2023-02-11T10:04:19.355023Z",
     "iopub.status.idle": "2023-02-11T10:04:19.359028Z",
     "shell.execute_reply": "2023-02-11T10:04:19.359215Z"
    },
    "slideshow": {
     "slide_type": "subslide"
    }
   },
   "outputs": [
    {
     "name": "stdout",
     "output_type": "stream",
     "text": [
      "Observed mystery(inp='V\"/+!aF-(V4EOz*+s/Q,7)2@0_') raising ValueError: Invalid input\n",
      "Test #1 mystery(inp='V\"/+!aF-(V4EOz*+s/Q,7)2@0_'): FAIL (ValueError: Invalid input)\n",
      "Processing inp...\n",
      "Test #2 mystery(inp=''): PASS\n",
      "Test #3 mystery(inp='z*+s/Q,7)2@0_'): PASS\n",
      "Test #4 mystery(inp='-(V4EOz*+s/Q,7)2@0_'): FAIL (ValueError: Invalid input)\n",
      "Test #5 mystery(inp='V\"/+!aFz*+s/Q,7)2@0_'): PASS\n",
      "Test #6 mystery(inp='V\"/+!aF4EOz*+s/Q,7)2@0_'): PASS\n",
      "Test #7 mystery(inp='V\"/+!aF-4EOz*+s/Q,7)2@0_'): PASS\n",
      "Test #8 mystery(inp='V\"/+!aF-V4EOz*+s/Q,7)2@0_'): PASS\n",
      "Maximized inp to 'V\"/+!aF-V4EOz*+s/Q,7)2@0_'\n",
      "Maximized passing call to mystery(inp='V\"/+!aF-V4EOz*+s/Q,7)2@0_')\n"
     ]
    },
    {
     "data": {
      "text/plain": [
       "'V\"/+!aF-V4EOz*+s/Q,7)2@0_'"
      ]
     },
     "execution_count": 108,
     "metadata": {},
     "output_type": "execute_result"
    }
   ],
   "source": [
    "with DeltaDebugger(log=True) as dd:\n",
    "    mystery(failing_input)\n",
    "max_passing_input = dd.max_args()['inp']\n",
    "max_passing_input"
   ]
  },
  {
   "cell_type": "markdown",
   "metadata": {
    "slideshow": {
     "slide_type": "subslide"
    }
   },
   "source": [
    "Note that this is precisely the failure-inducing input _except_ for the first parenthesis. Adding this single character would cause the input to cause a failure."
   ]
  },
  {
   "cell_type": "markdown",
   "metadata": {
    "slideshow": {
     "slide_type": "slide"
    }
   },
   "source": [
    "## Failure-Inducing Differences"
   ]
  },
  {
   "cell_type": "markdown",
   "metadata": {
    "slideshow": {
     "slide_type": "fragment"
    }
   },
   "source": [
    "If one wants to look for _differences_ that distinguish passing from failing runs, Delta Debugging also has a direct method for this – by both maximizing the passing input and minimizing the failing input until they meet somewhere in the middle. The remaining difference is what makes the difference between passing and failing."
   ]
  },
  {
   "cell_type": "markdown",
   "metadata": {
    "slideshow": {
     "slide_type": "fragment"
    }
   },
   "source": [
    "To compute the failure-inducing differences for `mystery()`, use the `min_arg_diff()` method:"
   ]
  },
  {
   "cell_type": "code",
   "execution_count": 109,
   "metadata": {
    "execution": {
     "iopub.execute_input": "2023-02-11T10:04:19.362559Z",
     "iopub.status.busy": "2023-02-11T10:04:19.360673Z",
     "iopub.status.idle": "2023-02-11T10:04:19.366589Z",
     "shell.execute_reply": "2023-02-11T10:04:19.366226Z"
    },
    "slideshow": {
     "slide_type": "subslide"
    }
   },
   "outputs": [
    {
     "name": "stdout",
     "output_type": "stream",
     "text": [
      "Observed mystery(inp='V\"/+!aF-(V4EOz*+s/Q,7)2@0_') raising ValueError: Invalid input\n",
      "Test #1 mystery(inp='V\"/+!aF-(V4EOz*+s/Q,7)2@0_'): FAIL (ValueError: Invalid input)\n",
      "Processing inp...\n",
      "Test #2 mystery(inp=''): PASS\n",
      "Test #3 mystery(inp='V\"/+!aF-(V4EO'): PASS\n",
      "Test #4 mystery(inp='z*+s/Q,7)2@0_'): PASS\n",
      "Test #5 mystery(inp='V\"/+!aFz*+s/Q,7)2@0_'): PASS\n",
      "Test #6 mystery(inp='-(V4EOz*+s/Q,7)2@0_'): FAIL (ValueError: Invalid input)\n",
      "Test #7 mystery(inp='-(Vz*+s/Q,7)2@0_'): FAIL (ValueError: Invalid input)\n",
      "Test #8 mystery(inp='(Vz*+s/Q,7)2@0_'): FAIL (ValueError: Invalid input)\n",
      "Test #9 mystery(inp='(z*+s/Q,7)2@0_'): FAIL (ValueError: Invalid input)\n",
      "Maximized inp to 'z*+s/Q,7)2@0_'\n",
      "Minimized inp to '(z*+s/Q,7)2@0_'\n",
      "Maximized passing call to mystery(inp='z*+s/Q,7)2@0_')\n",
      "Minimized failing call to mystery(inp='(z*+s/Q,7)2@0_')\n"
     ]
    },
    {
     "data": {
      "text/plain": [
       "('z*+s/Q,7)2@0_', '(z*+s/Q,7)2@0_', '(')"
      ]
     },
     "execution_count": 109,
     "metadata": {},
     "output_type": "execute_result"
    }
   ],
   "source": [
    "with DeltaDebugger(log=True) as dd:\n",
    "    mystery(failing_input)\n",
    "max_passing_args, min_failing_args, diff = dd.min_arg_diff()\n",
    "max_passing_args['inp'], min_failing_args['inp'], diff['inp']"
   ]
  },
  {
   "cell_type": "markdown",
   "metadata": {
    "slideshow": {
     "slide_type": "subslide"
    }
   },
   "source": [
    "Minimizing failure-inducing differences is especially efficient on large inputs, since the number of differences between a passing and a failing input is much smaller than the inputs themselves. Here is the failure-inducing difference as determined by Delta Debugging:"
   ]
  },
  {
   "cell_type": "code",
   "execution_count": 110,
   "metadata": {
    "execution": {
     "iopub.execute_input": "2023-02-11T10:04:19.368831Z",
     "iopub.status.busy": "2023-02-11T10:04:19.367972Z",
     "iopub.status.idle": "2023-02-11T10:04:19.370407Z",
     "shell.execute_reply": "2023-02-11T10:04:19.370614Z"
    },
    "slideshow": {
     "slide_type": "fragment"
    }
   },
   "outputs": [
    {
     "data": {
      "text/plain": [
       "'('"
      ]
     },
     "execution_count": 110,
     "metadata": {},
     "output_type": "execute_result"
    }
   ],
   "source": [
    "diff['inp']"
   ]
  },
  {
   "cell_type": "markdown",
   "metadata": {
    "slideshow": {
     "slide_type": "slide"
    }
   },
   "source": [
    "## Reducing Program Code\n",
    "\n",
    "One particularly fun application of reducers is on _program code_. Technically speaking, program code is just another input to a computation; and we can actually automatically determine which minimum of program code is required to produce a failure, using Delta Debugging. Such minimization of code is typically used as it comes to debugging programs that accept code as their input, such as _compilers_ and _interpreters_. However, it can also pinpoint failure causes in the (input) code itself."
   ]
  },
  {
   "cell_type": "markdown",
   "metadata": {
    "slideshow": {
     "slide_type": "fragment"
    }
   },
   "source": [
    "As an example, let us apply Delta Debugging on the code from [the chapter on assertions](Assertions.html). You do not need to have read the chapter; the important part is that this chapter provides an implementation of `remove_html_markup()` that we want to use."
   ]
  },
  {
   "cell_type": "code",
   "execution_count": 111,
   "metadata": {
    "execution": {
     "iopub.execute_input": "2023-02-11T10:04:19.374884Z",
     "iopub.status.busy": "2023-02-11T10:04:19.374526Z",
     "iopub.status.idle": "2023-02-11T10:04:19.375809Z",
     "shell.execute_reply": "2023-02-11T10:04:19.376055Z"
    },
    "slideshow": {
     "slide_type": "subslide"
    }
   },
   "outputs": [],
   "source": [
    "# ignore\n",
    "try:\n",
    "    del remove_html_markup\n",
    "except NameError:\n",
    "    pass"
   ]
  },
  {
   "cell_type": "code",
   "execution_count": 112,
   "metadata": {
    "execution": {
     "iopub.execute_input": "2023-02-11T10:04:19.378079Z",
     "iopub.status.busy": "2023-02-11T10:04:19.377758Z",
     "iopub.status.idle": "2023-02-11T10:04:19.379418Z",
     "shell.execute_reply": "2023-02-11T10:04:19.383135Z"
    },
    "slideshow": {
     "slide_type": "skip"
    }
   },
   "outputs": [],
   "source": [
    "import Assertions  # minor dependency"
   ]
  },
  {
   "cell_type": "markdown",
   "metadata": {
    "slideshow": {
     "slide_type": "fragment"
    }
   },
   "source": [
    "Here is the source code of all the chapter; this is several hundred lines long."
   ]
  },
  {
   "cell_type": "code",
   "execution_count": 113,
   "metadata": {
    "execution": {
     "iopub.execute_input": "2023-02-11T10:04:19.385832Z",
     "iopub.status.busy": "2023-02-11T10:04:19.385507Z",
     "iopub.status.idle": "2023-02-11T10:04:19.386785Z",
     "shell.execute_reply": "2023-02-11T10:04:19.386991Z"
    },
    "slideshow": {
     "slide_type": "skip"
    }
   },
   "outputs": [],
   "source": [
    "import inspect"
   ]
  },
  {
   "cell_type": "code",
   "execution_count": 114,
   "metadata": {
    "execution": {
     "iopub.execute_input": "2023-02-11T10:04:19.391607Z",
     "iopub.status.busy": "2023-02-11T10:04:19.390884Z",
     "iopub.status.idle": "2023-02-11T10:04:19.394243Z",
     "shell.execute_reply": "2023-02-11T10:04:19.395345Z"
    },
    "slideshow": {
     "slide_type": "subslide"
    }
   },
   "outputs": [
    {
     "data": {
      "text/plain": [
       "['from bookutils import YouTubeVideo\\n',\n",
       " 'YouTubeVideo(\"9mI9sbKFkwU\")\\n',\n",
       " '\\n',\n",
       " 'import bookutils\\n',\n",
       " '\\n',\n",
       " 'from bookutils import quiz\\n',\n",
       " '\\n',\n",
       " 'import Tracer\\n',\n",
       " '\\n',\n",
       " 'from ExpectError import ExpectError\\n']"
      ]
     },
     "execution_count": 114,
     "metadata": {},
     "output_type": "execute_result"
    }
   ],
   "source": [
    "assertions_source_lines, _ = inspect.getsourcelines(Assertions)\n",
    "# print_content(\"\".join(assertions_source_lines), \".py\")\n",
    "assertions_source_lines[:10]"
   ]
  },
  {
   "cell_type": "code",
   "execution_count": 115,
   "metadata": {
    "execution": {
     "iopub.execute_input": "2023-02-11T10:04:19.400693Z",
     "iopub.status.busy": "2023-02-11T10:04:19.400118Z",
     "iopub.status.idle": "2023-02-11T10:04:19.402053Z",
     "shell.execute_reply": "2023-02-11T10:04:19.403264Z"
    },
    "slideshow": {
     "slide_type": "fragment"
    }
   },
   "outputs": [
    {
     "data": {
      "text/plain": [
       "552"
      ]
     },
     "execution_count": 115,
     "metadata": {},
     "output_type": "execute_result"
    }
   ],
   "source": [
    "len(assertions_source_lines)"
   ]
  },
  {
   "cell_type": "markdown",
   "metadata": {
    "slideshow": {
     "slide_type": "subslide"
    }
   },
   "source": [
    "We can take this code and execute it. Nothing particular should happen here, as our imports only import definitions of functions, classes, and global variables."
   ]
  },
  {
   "cell_type": "code",
   "execution_count": 116,
   "metadata": {
    "execution": {
     "iopub.execute_input": "2023-02-11T10:04:19.409641Z",
     "iopub.status.busy": "2023-02-11T10:04:19.408457Z",
     "iopub.status.idle": "2023-02-11T10:04:19.413582Z",
     "shell.execute_reply": "2023-02-11T10:04:19.412580Z"
    },
    "slideshow": {
     "slide_type": "fragment"
    }
   },
   "outputs": [],
   "source": [
    "def compile_and_run(lines: List[str]) -> None:\n",
    "    # To execute 'Assertions' in place, we need to define __name__ and __package__\n",
    "    exec(\"\".join(lines), {'__name__': '<string>',\n",
    "                          '__package__': 'debuggingbook',\n",
    "                          'Any': Any,\n",
    "                         'Type': Type,\n",
    "                         'TracebackType': TracebackType,\n",
    "                         'Optional': Optional},\n",
    "         {})"
   ]
  },
  {
   "cell_type": "code",
   "execution_count": 117,
   "metadata": {
    "execution": {
     "iopub.execute_input": "2023-02-11T10:04:19.436321Z",
     "iopub.status.busy": "2023-02-11T10:04:19.434439Z",
     "iopub.status.idle": "2023-02-11T10:04:19.441138Z",
     "shell.execute_reply": "2023-02-11T10:04:19.441667Z"
    },
    "slideshow": {
     "slide_type": "fragment"
    }
   },
   "outputs": [],
   "source": [
    "compile_and_run(assertions_source_lines)"
   ]
  },
  {
   "cell_type": "code",
   "execution_count": 118,
   "metadata": {
    "execution": {
     "iopub.execute_input": "2023-02-11T10:04:19.448206Z",
     "iopub.status.busy": "2023-02-11T10:04:19.446705Z",
     "iopub.status.idle": "2023-02-11T10:04:19.452386Z",
     "shell.execute_reply": "2023-02-11T10:04:19.451217Z"
    },
    "slideshow": {
     "slide_type": "skip"
    }
   },
   "outputs": [],
   "source": [
    "from Assertions import remove_html_markup  # minor dependency"
   ]
  },
  {
   "cell_type": "markdown",
   "metadata": {
    "slideshow": {
     "slide_type": "subslide"
    }
   },
   "source": [
    "Let us add some code to it – a \"My Test\" assertion that tests that `remove_html_markup()`, applied on a string with double quotes, should keep these in place:"
   ]
  },
  {
   "cell_type": "code",
   "execution_count": 119,
   "metadata": {
    "execution": {
     "iopub.execute_input": "2023-02-11T10:04:19.462461Z",
     "iopub.status.busy": "2023-02-11T10:04:19.459879Z",
     "iopub.status.idle": "2023-02-11T10:04:19.466913Z",
     "shell.execute_reply": "2023-02-11T10:04:19.467145Z"
    },
    "slideshow": {
     "slide_type": "fragment"
    }
   },
   "outputs": [],
   "source": [
    "def compile_and_test_html_markup_simple(lines: List[str]) -> None:\n",
    "    compile_and_run(lines + \n",
    "        [\n",
    "            '''''',\n",
    "            '''assert remove_html_markup('\"foo\"') == '\"foo\"', \"My Test\"\\n'''\n",
    "        ])"
   ]
  },
  {
   "cell_type": "markdown",
   "metadata": {
    "slideshow": {
     "slide_type": "fragment"
    }
   },
   "source": [
    "This assertion fails. (As always, `remove_html_markup()` is buggy.)"
   ]
  },
  {
   "cell_type": "code",
   "execution_count": 120,
   "metadata": {
    "execution": {
     "iopub.execute_input": "2023-02-11T10:04:19.472096Z",
     "iopub.status.busy": "2023-02-11T10:04:19.471721Z",
     "iopub.status.idle": "2023-02-11T10:04:19.473002Z",
     "shell.execute_reply": "2023-02-11T10:04:19.473192Z"
    },
    "slideshow": {
     "slide_type": "subslide"
    }
   },
   "outputs": [
    {
     "name": "stderr",
     "output_type": "stream",
     "text": [
      "Traceback (most recent call last):\n",
      "  File \"/var/folders/n2/xd9445p97rb3xh7m1dfx8_4h0006ts/T/ipykernel_1782/2334363057.py\", line 2, in <cell line: 1>\n",
      "    compile_and_test_html_markup_simple(assertions_source_lines)\n",
      "  File \"/var/folders/n2/xd9445p97rb3xh7m1dfx8_4h0006ts/T/ipykernel_1782/1838190689.py\", line 2, in compile_and_test_html_markup_simple\n",
      "    compile_and_run(lines +\n",
      "  File \"/var/folders/n2/xd9445p97rb3xh7m1dfx8_4h0006ts/T/ipykernel_1782/2075409738.py\", line 3, in compile_and_run\n",
      "    exec(\"\".join(lines), {'__name__': '<string>',\n",
      "  File \"<string>\", line 553, in <module>\n",
      "AssertionError: My Test (expected)\n"
     ]
    }
   ],
   "source": [
    "with ExpectError(AssertionError):\n",
    "    compile_and_test_html_markup_simple(assertions_source_lines)"
   ]
  },
  {
   "cell_type": "markdown",
   "metadata": {
    "slideshow": {
     "slide_type": "subslide"
    }
   },
   "source": [
    "The question we want to address in this section is: Given this assertion, can we automatically determine which part of the `Assertions` code lines in `assertions_source_lines` is relevant for producing the failure?"
   ]
  },
  {
   "cell_type": "markdown",
   "metadata": {
    "slideshow": {
     "slide_type": "subslide"
    }
   },
   "source": [
    "### Reducing Code Lines\n",
    "\n",
    "Since our `Assertions` source code comes as a list of lines, we can apply our `DeltaDebugger` on it. The result will be the list of source lines that is necessary to make the assertion fail."
   ]
  },
  {
   "cell_type": "code",
   "execution_count": 121,
   "metadata": {
    "execution": {
     "iopub.execute_input": "2023-02-11T10:04:19.477410Z",
     "iopub.status.busy": "2023-02-11T10:04:19.477036Z",
     "iopub.status.idle": "2023-02-11T10:04:19.478736Z",
     "shell.execute_reply": "2023-02-11T10:04:19.478978Z"
    },
    "slideshow": {
     "slide_type": "fragment"
    }
   },
   "outputs": [
    {
     "data": {
      "text/html": [
       "\n",
       "    \n",
       "    <script>\n",
       "    var bad_answers = new Map();\n",
       "\n",
       "    function answer(quiz_id) {\n",
       "        ans = 0;\n",
       "        for (i = 1;; i++) {\n",
       "            checkbox = document.getElementById(quiz_id + \"-\" + i.toString());\n",
       "            if (!checkbox)\n",
       "                break;\n",
       "            if (checkbox.checked)\n",
       "                ans |= (1 << i);\n",
       "        }\n",
       "        return ans;\n",
       "    }\n",
       "    function check_selection(quiz_id, correct_answer, multiple_choice, hint) {\n",
       "        given_answer = answer(quiz_id);\n",
       "        if (given_answer == correct_answer)\n",
       "        {\n",
       "            document.getElementById(quiz_id + \"-submit\").value = \"Correct!\";\n",
       "            document.getElementById(quiz_id + \"-hint\").innerHTML = \"\";\n",
       "\n",
       "            for (i = 1;; i++) {\n",
       "                checkbox = document.getElementById(quiz_id + \"-\" + i.toString());\n",
       "                label = document.getElementById(quiz_id + \"-\" + i.toString() + \"-label\")\n",
       "                if (!checkbox)\n",
       "                    break;\n",
       "    \n",
       "                if (checkbox.checked) {\n",
       "                    label.style.fontWeight = \"bold\";\n",
       "                }\n",
       "                else {\n",
       "                    label.style.textDecoration = \"line-through\";\n",
       "                }\n",
       "            }\n",
       "        }\n",
       "        else \n",
       "        {\n",
       "            document.getElementById(quiz_id + \"-submit\").value = \"Try again\";\n",
       "            \n",
       "            if (!bad_answers.has(quiz_id)) {\n",
       "                bad_answers.set(quiz_id, 1);\n",
       "            }\n",
       "            else {\n",
       "                bad_answers.set(quiz_id, bad_answers.get(quiz_id) + 1);\n",
       "            }\n",
       "\n",
       "            if (bad_answers.get(quiz_id) >= 2 && hint.length > 0) {\n",
       "                document.getElementById(quiz_id + \"-hint\").innerHTML = \n",
       "                    \"&nbsp;&nbsp;(Hint: <code>\" + hint + \"</code>)\";\n",
       "            }\n",
       "\n",
       "            if (!multiple_choice) {\n",
       "                for (i = 1;; i++) {\n",
       "                    checkbox = document.getElementById(quiz_id + \"-\" + i.toString());\n",
       "                    label = document.getElementById(quiz_id + \"-\" + i.toString() + \"-label\")\n",
       "\n",
       "                    if (!checkbox)\n",
       "                        break;\n",
       "                    if (checkbox.checked) {\n",
       "                        label.style.textDecoration = \"line-through\";\n",
       "                    }\n",
       "                }\n",
       "            }\n",
       "        }\n",
       "    }\n",
       "    function clear_selection(quiz_id) {\n",
       "        document.getElementById(quiz_id + \"-submit\").value = \"Submit\";\n",
       "        document.getElementById(quiz_id + \"-hint\").innerHTML = \"\";\n",
       "    }\n",
       "    </script>\n",
       "    \n",
       "    <div class=\"quiz\">\n",
       "    <h3 class=\"quiz_title\">Quiz</h3>\n",
       "    <p>\n",
       "    <div class=\"quiz_question\">What will the reduced set of lines contain?</div>\n",
       "    </p>\n",
       "    <p>\n",
       "    <div class=\"quiz_options\" title=\"Pick a choice.\">\n",
       "    \n",
       "        <input type=\"radio\" name=\"734a40e8-a9f3-11ed-8f46-6298cf1a578f\" id=\"734a40e8-a9f3-11ed-8f46-6298cf1a578f-1\" onclick=\"clear_selection('734a40e8-a9f3-11ed-8f46-6298cf1a578f')\">\n",
       "        <label id=\"734a40e8-a9f3-11ed-8f46-6298cf1a578f-1-label\" for=\"734a40e8-a9f3-11ed-8f46-6298cf1a578f-1\">All of the source code in the assertions chapter.</label><br>\n",
       "    \n",
       "        <input type=\"radio\" name=\"734a40e8-a9f3-11ed-8f46-6298cf1a578f\" id=\"734a40e8-a9f3-11ed-8f46-6298cf1a578f-2\" onclick=\"clear_selection('734a40e8-a9f3-11ed-8f46-6298cf1a578f')\">\n",
       "        <label id=\"734a40e8-a9f3-11ed-8f46-6298cf1a578f-2-label\" for=\"734a40e8-a9f3-11ed-8f46-6298cf1a578f-2\">Only the source code of <code>remove_html_markup()</code></label><br>\n",
       "    \n",
       "        <input type=\"radio\" name=\"734a40e8-a9f3-11ed-8f46-6298cf1a578f\" id=\"734a40e8-a9f3-11ed-8f46-6298cf1a578f-3\" onclick=\"clear_selection('734a40e8-a9f3-11ed-8f46-6298cf1a578f')\">\n",
       "        <label id=\"734a40e8-a9f3-11ed-8f46-6298cf1a578f-3-label\" for=\"734a40e8-a9f3-11ed-8f46-6298cf1a578f-3\">Only a subset of <code>remove_html_markup()</code></label><br>\n",
       "    \n",
       "        <input type=\"radio\" name=\"734a40e8-a9f3-11ed-8f46-6298cf1a578f\" id=\"734a40e8-a9f3-11ed-8f46-6298cf1a578f-4\" onclick=\"clear_selection('734a40e8-a9f3-11ed-8f46-6298cf1a578f')\">\n",
       "        <label id=\"734a40e8-a9f3-11ed-8f46-6298cf1a578f-4-label\" for=\"734a40e8-a9f3-11ed-8f46-6298cf1a578f-4\">No lines at all.</label><br>\n",
       "    \n",
       "    </div>\n",
       "    </p>\n",
       "    <input id=\"734a40e8-a9f3-11ed-8f46-6298cf1a578f-submit\" type=\"submit\" value=\"Submit\" onclick=\"check_selection('734a40e8-a9f3-11ed-8f46-6298cf1a578f', 8, 0, '[x for x in range((1 + 1) ** (1 + 1)) if x % (1 + 1) == 1][1]')\">\n",
       "    <span class=\"quiz_hint\" id=\"734a40e8-a9f3-11ed-8f46-6298cf1a578f-hint\"></span>\n",
       "    </div>\n",
       "    "
      ],
      "text/plain": [
       "<IPython.core.display.HTML object>"
      ]
     },
     "execution_count": 121,
     "metadata": {},
     "output_type": "execute_result"
    }
   ],
   "source": [
    "quiz(\"What will the reduced set of lines contain?\",\n",
    "     [\n",
    "         \"All of the source code in the assertions chapter.\",\n",
    "         \"Only the source code of `remove_html_markup()`\",\n",
    "         \"Only a subset of `remove_html_markup()`\",\n",
    "         \"No lines at all.\"\n",
    "     ], '[x for x in range((1 + 1) ** (1 + 1)) if x % (1 + 1) == 1][1]')"
   ]
  },
  {
   "cell_type": "markdown",
   "metadata": {
    "slideshow": {
     "slide_type": "fragment"
    }
   },
   "source": [
    "Let us see what the `DeltaDebugger` produces."
   ]
  },
  {
   "cell_type": "code",
   "execution_count": 122,
   "metadata": {
    "execution": {
     "iopub.execute_input": "2023-02-11T10:04:19.484501Z",
     "iopub.status.busy": "2023-02-11T10:04:19.484011Z",
     "iopub.status.idle": "2023-02-11T10:04:19.485490Z",
     "shell.execute_reply": "2023-02-11T10:04:19.485761Z"
    },
    "slideshow": {
     "slide_type": "subslide"
    }
   },
   "outputs": [],
   "source": [
    "with DeltaDebugger(log=False) as dd:\n",
    "    compile_and_test_html_markup_simple(assertions_source_lines)"
   ]
  },
  {
   "cell_type": "markdown",
   "metadata": {
    "slideshow": {
     "slide_type": "fragment"
    }
   },
   "source": [
    "We get exactly _two_ lines of code:"
   ]
  },
  {
   "cell_type": "code",
   "execution_count": 123,
   "metadata": {
    "execution": {
     "iopub.execute_input": "2023-02-11T10:04:19.499607Z",
     "iopub.status.busy": "2023-02-11T10:04:19.494641Z",
     "iopub.status.idle": "2023-02-11T10:04:19.503224Z",
     "shell.execute_reply": "2023-02-11T10:04:19.503464Z"
    },
    "slideshow": {
     "slide_type": "fragment"
    }
   },
   "outputs": [
    {
     "data": {
      "text/plain": [
       "2"
      ]
     },
     "execution_count": 123,
     "metadata": {},
     "output_type": "execute_result"
    }
   ],
   "source": [
    "reduced_lines = dd.min_args()['lines']\n",
    "len(reduced_lines)"
   ]
  },
  {
   "cell_type": "markdown",
   "metadata": {
    "slideshow": {
     "slide_type": "fragment"
    }
   },
   "source": [
    "And these are:"
   ]
  },
  {
   "cell_type": "code",
   "execution_count": 124,
   "metadata": {
    "execution": {
     "iopub.execute_input": "2023-02-11T10:04:19.506161Z",
     "iopub.status.busy": "2023-02-11T10:04:19.505816Z",
     "iopub.status.idle": "2023-02-11T10:04:19.507184Z",
     "shell.execute_reply": "2023-02-11T10:04:19.507402Z"
    },
    "slideshow": {
     "slide_type": "skip"
    }
   },
   "outputs": [],
   "source": [
    "from bookutils import print_content"
   ]
  },
  {
   "cell_type": "code",
   "execution_count": 125,
   "metadata": {
    "execution": {
     "iopub.execute_input": "2023-02-11T10:04:19.515580Z",
     "iopub.status.busy": "2023-02-11T10:04:19.515242Z",
     "iopub.status.idle": "2023-02-11T10:04:19.578816Z",
     "shell.execute_reply": "2023-02-11T10:04:19.579097Z"
    },
    "slideshow": {
     "slide_type": "fragment"
    }
   },
   "outputs": [
    {
     "name": "stdout",
     "output_type": "stream",
     "text": [
      "\u001b[34mdef\u001b[39;49;00m \u001b[32mremove_html_markup\u001b[39;49;00m(s):  \u001b[37m# type: ignore\u001b[39;49;00m\u001b[37m\u001b[39;49;00m\n",
      "    tag = \u001b[34mFalse\u001b[39;49;00m\u001b[37m\u001b[39;49;00m"
     ]
    }
   ],
   "source": [
    "print_content(\"\".join(reduced_lines), \".py\")"
   ]
  },
  {
   "cell_type": "markdown",
   "metadata": {
    "slideshow": {
     "slide_type": "fragment"
    }
   },
   "source": [
    "On these lines, our test actually still fails:"
   ]
  },
  {
   "cell_type": "code",
   "execution_count": 126,
   "metadata": {
    "execution": {
     "iopub.execute_input": "2023-02-11T10:04:19.581844Z",
     "iopub.status.busy": "2023-02-11T10:04:19.581473Z",
     "iopub.status.idle": "2023-02-11T10:04:19.582752Z",
     "shell.execute_reply": "2023-02-11T10:04:19.582955Z"
    },
    "slideshow": {
     "slide_type": "subslide"
    }
   },
   "outputs": [
    {
     "name": "stderr",
     "output_type": "stream",
     "text": [
      "Traceback (most recent call last):\n",
      "  File \"/var/folders/n2/xd9445p97rb3xh7m1dfx8_4h0006ts/T/ipykernel_1782/2457905094.py\", line 2, in <cell line: 1>\n",
      "    compile_and_test_html_markup_simple(reduced_lines)\n",
      "  File \"/var/folders/n2/xd9445p97rb3xh7m1dfx8_4h0006ts/T/ipykernel_1782/1838190689.py\", line 2, in compile_and_test_html_markup_simple\n",
      "    compile_and_run(lines +\n",
      "  File \"/var/folders/n2/xd9445p97rb3xh7m1dfx8_4h0006ts/T/ipykernel_1782/2075409738.py\", line 3, in compile_and_run\n",
      "    exec(\"\".join(lines), {'__name__': '<string>',\n",
      "  File \"<string>\", line 3, in <module>\n",
      "AssertionError: My Test (expected)\n"
     ]
    }
   ],
   "source": [
    "with ExpectError(AssertionError):\n",
    "    compile_and_test_html_markup_simple(reduced_lines)"
   ]
  },
  {
   "cell_type": "markdown",
   "metadata": {
    "slideshow": {
     "slide_type": "subslide"
    }
   },
   "source": [
    "This failure may come as a surprise – `remove_html_markup()` is reduced to a function which does not even return a value. However, this is how it causes our \"My Test\" assertion to fail: In Python, a function without an explicit `return` statement returns `None`. This value is definitely not the string the \"My Test\" assertion expects, so it fails."
   ]
  },
  {
   "cell_type": "markdown",
   "metadata": {
    "slideshow": {
     "slide_type": "fragment"
    }
   },
   "source": [
    "At the same time, we also have a function `test_square_root()` which is equally devoid of any meaning – its code line does not even stem from its original implementation. Note, however, how the set of four lines is actually 1-minimal – removing any further line would result in a syntax error."
   ]
  },
  {
   "cell_type": "markdown",
   "metadata": {
    "slideshow": {
     "slide_type": "fragment"
    }
   },
   "source": [
    "To ensure we do not remove code that actually would be necessary for normal behavior, let us add another check – one that checks for the _normal_ functionality of `remove_html_markup()`. If this one fails (say, after the code has been tampered with too much), it raises an exception – but a _different_ one from the original failure:"
   ]
  },
  {
   "cell_type": "code",
   "execution_count": 127,
   "metadata": {
    "execution": {
     "iopub.execute_input": "2023-02-11T10:04:19.586196Z",
     "iopub.status.busy": "2023-02-11T10:04:19.585491Z",
     "iopub.status.idle": "2023-02-11T10:04:19.587766Z",
     "shell.execute_reply": "2023-02-11T10:04:19.588083Z"
    },
    "slideshow": {
     "slide_type": "subslide"
    }
   },
   "outputs": [],
   "source": [
    "def compile_and_test_html_markup(lines: List[str]) -> None:\n",
    "    compile_and_run(lines +\n",
    "        [\n",
    "            '',\n",
    "            '''if remove_html_markup('<foo>bar</foo>') != 'bar':\\n''',\n",
    "            '''    raise RuntimeError(\"Missing functionality\")\\n''',\n",
    "            '''assert remove_html_markup('\"foo\"') == '\"foo\"', \"My Test\"\\n'''\n",
    "        ])"
   ]
  },
  {
   "cell_type": "markdown",
   "metadata": {
    "slideshow": {
     "slide_type": "fragment"
    }
   },
   "source": [
    "On our \"reduced\" code, we now obtain a different exception."
   ]
  },
  {
   "cell_type": "code",
   "execution_count": 128,
   "metadata": {
    "execution": {
     "iopub.execute_input": "2023-02-11T10:04:19.591354Z",
     "iopub.status.busy": "2023-02-11T10:04:19.590990Z",
     "iopub.status.idle": "2023-02-11T10:04:19.592417Z",
     "shell.execute_reply": "2023-02-11T10:04:19.592617Z"
    },
    "slideshow": {
     "slide_type": "subslide"
    }
   },
   "outputs": [
    {
     "name": "stderr",
     "output_type": "stream",
     "text": [
      "Traceback (most recent call last):\n",
      "  File \"/var/folders/n2/xd9445p97rb3xh7m1dfx8_4h0006ts/T/ipykernel_1782/810405118.py\", line 2, in <cell line: 1>\n",
      "    compile_and_test_html_markup(reduced_lines)\n",
      "  File \"/var/folders/n2/xd9445p97rb3xh7m1dfx8_4h0006ts/T/ipykernel_1782/4067432722.py\", line 2, in compile_and_test_html_markup\n",
      "    compile_and_run(lines +\n",
      "  File \"/var/folders/n2/xd9445p97rb3xh7m1dfx8_4h0006ts/T/ipykernel_1782/2075409738.py\", line 3, in compile_and_run\n",
      "    exec(\"\".join(lines), {'__name__': '<string>',\n",
      "  File \"<string>\", line 4, in <module>\n",
      "RuntimeError: Missing functionality (expected)\n"
     ]
    }
   ],
   "source": [
    "with ExpectError():\n",
    "    compile_and_test_html_markup(reduced_lines)"
   ]
  },
  {
   "cell_type": "markdown",
   "metadata": {
    "slideshow": {
     "slide_type": "subslide"
    }
   },
   "source": [
    "Such an outcome that is different from the original failure causes our `DeltaDebugger` not treating this as a failure, but rather as a `UNRESOLVED` outcome, indicating that the test cannot determine whether it passed or failed. The `ddmin` algorithm treats such unresolved outcomes as if they were passing; hence, the algorithm treats its minimization attempt as unsuccessful."
   ]
  },
  {
   "cell_type": "markdown",
   "metadata": {
    "slideshow": {
     "slide_type": "fragment"
    }
   },
   "source": [
    "How does this change things? When we reduce the `Assertions` source code with the extended assertions, we now get a different result:"
   ]
  },
  {
   "cell_type": "code",
   "execution_count": 129,
   "metadata": {
    "execution": {
     "iopub.execute_input": "2023-02-11T10:04:19.607420Z",
     "iopub.status.busy": "2023-02-11T10:04:19.606701Z",
     "iopub.status.idle": "2023-02-11T10:04:19.622658Z",
     "shell.execute_reply": "2023-02-11T10:04:19.622868Z"
    },
    "slideshow": {
     "slide_type": "fragment"
    }
   },
   "outputs": [],
   "source": [
    "with DeltaDebugger(log=False) as dd:\n",
    "    compile_and_test_html_markup(assertions_source_lines)\n",
    "reduced_assertions_source_lines = dd.min_args()['lines']"
   ]
  },
  {
   "cell_type": "markdown",
   "metadata": {
    "slideshow": {
     "slide_type": "subslide"
    }
   },
   "source": [
    "Our result actually is the source code of `remove_html_markup()` – and _only_ the source code. This is a success, as Delta Debugging has eliminated all the other parts of the `Assertions` source code; these neither contribute to the correct functioning of `remove_html_markup()`, nor to the failure at hand."
   ]
  },
  {
   "cell_type": "code",
   "execution_count": 130,
   "metadata": {
    "execution": {
     "iopub.execute_input": "2023-02-11T10:04:19.651764Z",
     "iopub.status.busy": "2023-02-11T10:04:19.651424Z",
     "iopub.status.idle": "2023-02-11T10:04:19.662908Z",
     "shell.execute_reply": "2023-02-11T10:04:19.663653Z"
    },
    "slideshow": {
     "slide_type": "subslide"
    }
   },
   "outputs": [
    {
     "name": "stdout",
     "output_type": "stream",
     "text": [
      "\u001b[34mdef\u001b[39;49;00m \u001b[32mremove_html_markup\u001b[39;49;00m(s):  \u001b[37m# type: ignore\u001b[39;49;00m\u001b[37m\u001b[39;49;00m\n",
      "    tag = \u001b[34mFalse\u001b[39;49;00m\u001b[37m\u001b[39;49;00m\n",
      "    quote = \u001b[34mFalse\u001b[39;49;00m\u001b[37m\u001b[39;49;00m\n",
      "    out = \u001b[33m\"\u001b[39;49;00m\u001b[33m\"\u001b[39;49;00m\u001b[37m\u001b[39;49;00m\n",
      "    \u001b[34mfor\u001b[39;49;00m c \u001b[35min\u001b[39;49;00m s:\u001b[37m\u001b[39;49;00m\n",
      "        \u001b[34mif\u001b[39;49;00m c == \u001b[33m'\u001b[39;49;00m\u001b[33m<\u001b[39;49;00m\u001b[33m'\u001b[39;49;00m \u001b[35mand\u001b[39;49;00m \u001b[35mnot\u001b[39;49;00m quote:\u001b[37m\u001b[39;49;00m\n",
      "            tag = \u001b[34mTrue\u001b[39;49;00m\u001b[37m\u001b[39;49;00m\n",
      "        \u001b[34melif\u001b[39;49;00m c == \u001b[33m'\u001b[39;49;00m\u001b[33m>\u001b[39;49;00m\u001b[33m'\u001b[39;49;00m \u001b[35mand\u001b[39;49;00m \u001b[35mnot\u001b[39;49;00m quote:\u001b[37m\u001b[39;49;00m\n",
      "            tag = \u001b[34mFalse\u001b[39;49;00m\u001b[37m\u001b[39;49;00m\n",
      "        \u001b[34melif\u001b[39;49;00m c == \u001b[33m'\u001b[39;49;00m\u001b[33m\"\u001b[39;49;00m\u001b[33m'\u001b[39;49;00m \u001b[35mor\u001b[39;49;00m c == \u001b[33m\"\u001b[39;49;00m\u001b[33m'\u001b[39;49;00m\u001b[33m\"\u001b[39;49;00m \u001b[35mand\u001b[39;49;00m tag:\u001b[37m\u001b[39;49;00m\n",
      "            quote = \u001b[35mnot\u001b[39;49;00m quote\u001b[37m\u001b[39;49;00m\n",
      "        \u001b[34melif\u001b[39;49;00m \u001b[35mnot\u001b[39;49;00m tag:\u001b[37m\u001b[39;49;00m\n",
      "            out = out + c\u001b[37m\u001b[39;49;00m\n",
      "    \u001b[34mreturn\u001b[39;49;00m out\u001b[37m\u001b[39;49;00m"
     ]
    }
   ],
   "source": [
    "print_content(''.join(reduced_assertions_source_lines), '.py')"
   ]
  },
  {
   "cell_type": "markdown",
   "metadata": {
    "slideshow": {
     "slide_type": "subslide"
    }
   },
   "source": [
    "All in all, we have reduced the number of relevant lines in `Assertions` to about 3% of the original source code."
   ]
  },
  {
   "cell_type": "code",
   "execution_count": 131,
   "metadata": {
    "execution": {
     "iopub.execute_input": "2023-02-11T10:04:19.667455Z",
     "iopub.status.busy": "2023-02-11T10:04:19.667102Z",
     "iopub.status.idle": "2023-02-11T10:04:19.668703Z",
     "shell.execute_reply": "2023-02-11T10:04:19.668919Z"
    },
    "slideshow": {
     "slide_type": "fragment"
    }
   },
   "outputs": [
    {
     "data": {
      "text/plain": [
       "0.025362318840579712"
      ]
     },
     "execution_count": 131,
     "metadata": {},
     "output_type": "execute_result"
    }
   ],
   "source": [
    "len(reduced_assertions_source_lines) / len(assertions_source_lines)"
   ]
  },
  {
   "cell_type": "markdown",
   "metadata": {
    "slideshow": {
     "slide_type": "fragment"
    }
   },
   "source": [
    "The astute reader may notice that `remove_html_markup()`, as shown above, is slightly different from the original version in the [chapter on assertions](Assertions.ipynb). Here's the original version for comparison:"
   ]
  },
  {
   "cell_type": "code",
   "execution_count": 132,
   "metadata": {
    "execution": {
     "iopub.execute_input": "2023-02-11T10:04:19.694542Z",
     "iopub.status.busy": "2023-02-11T10:04:19.670781Z",
     "iopub.status.idle": "2023-02-11T10:04:19.705629Z",
     "shell.execute_reply": "2023-02-11T10:04:19.705940Z"
    },
    "slideshow": {
     "slide_type": "subslide"
    }
   },
   "outputs": [
    {
     "name": "stdout",
     "output_type": "stream",
     "text": [
      "\u001b[34mdef\u001b[39;49;00m \u001b[32mremove_html_markup\u001b[39;49;00m(s):  \u001b[37m# type: ignore\u001b[39;49;00m\u001b[37m\u001b[39;49;00m\n",
      "    tag = \u001b[34mFalse\u001b[39;49;00m\u001b[37m\u001b[39;49;00m\n",
      "    quote = \u001b[34mFalse\u001b[39;49;00m\u001b[37m\u001b[39;49;00m\n",
      "    out = \u001b[33m\"\u001b[39;49;00m\u001b[33m\"\u001b[39;49;00m\u001b[37m\u001b[39;49;00m\n",
      "\u001b[37m\u001b[39;49;00m\n",
      "    \u001b[34mfor\u001b[39;49;00m c \u001b[35min\u001b[39;49;00m s:\u001b[37m\u001b[39;49;00m\n",
      "        \u001b[34mif\u001b[39;49;00m c == \u001b[33m'\u001b[39;49;00m\u001b[33m<\u001b[39;49;00m\u001b[33m'\u001b[39;49;00m \u001b[35mand\u001b[39;49;00m \u001b[35mnot\u001b[39;49;00m quote:\u001b[37m\u001b[39;49;00m\n",
      "            tag = \u001b[34mTrue\u001b[39;49;00m\u001b[37m\u001b[39;49;00m\n",
      "        \u001b[34melif\u001b[39;49;00m c == \u001b[33m'\u001b[39;49;00m\u001b[33m>\u001b[39;49;00m\u001b[33m'\u001b[39;49;00m \u001b[35mand\u001b[39;49;00m \u001b[35mnot\u001b[39;49;00m quote:\u001b[37m\u001b[39;49;00m\n",
      "            tag = \u001b[34mFalse\u001b[39;49;00m\u001b[37m\u001b[39;49;00m\n",
      "        \u001b[34melif\u001b[39;49;00m c == \u001b[33m'\u001b[39;49;00m\u001b[33m\"\u001b[39;49;00m\u001b[33m'\u001b[39;49;00m \u001b[35mor\u001b[39;49;00m c == \u001b[33m\"\u001b[39;49;00m\u001b[33m'\u001b[39;49;00m\u001b[33m\"\u001b[39;49;00m \u001b[35mand\u001b[39;49;00m tag:\u001b[37m\u001b[39;49;00m\n",
      "            quote = \u001b[35mnot\u001b[39;49;00m quote\u001b[37m\u001b[39;49;00m\n",
      "        \u001b[34melif\u001b[39;49;00m \u001b[35mnot\u001b[39;49;00m tag:\u001b[37m\u001b[39;49;00m\n",
      "            out = out + c\u001b[37m\u001b[39;49;00m\n",
      "\u001b[37m\u001b[39;49;00m\n",
      "    \u001b[37m# postcondition\u001b[39;49;00m\u001b[37m\u001b[39;49;00m\n",
      "    \u001b[34massert\u001b[39;49;00m \u001b[33m'\u001b[39;49;00m\u001b[33m<\u001b[39;49;00m\u001b[33m'\u001b[39;49;00m \u001b[35mnot\u001b[39;49;00m \u001b[35min\u001b[39;49;00m out \u001b[35mand\u001b[39;49;00m \u001b[33m'\u001b[39;49;00m\u001b[33m>\u001b[39;49;00m\u001b[33m'\u001b[39;49;00m \u001b[35mnot\u001b[39;49;00m \u001b[35min\u001b[39;49;00m out\u001b[37m\u001b[39;49;00m\n",
      "\u001b[37m\u001b[39;49;00m\n",
      "    \u001b[34mreturn\u001b[39;49;00m out\u001b[37m\u001b[39;49;00m"
     ]
    }
   ],
   "source": [
    "remove_html_markup_source_lines, _ = inspect.getsourcelines(Assertions.remove_html_markup)\n",
    "print_content(''.join(remove_html_markup_source_lines), '.py')"
   ]
  },
  {
   "cell_type": "code",
   "execution_count": 133,
   "metadata": {
    "execution": {
     "iopub.execute_input": "2023-02-11T10:04:19.712943Z",
     "iopub.status.busy": "2023-02-11T10:04:19.712102Z",
     "iopub.status.idle": "2023-02-11T10:04:19.718783Z",
     "shell.execute_reply": "2023-02-11T10:04:19.719011Z"
    },
    "slideshow": {
     "slide_type": "subslide"
    }
   },
   "outputs": [
    {
     "data": {
      "text/html": [
       "\n",
       "    \n",
       "    <script>\n",
       "    var bad_answers = new Map();\n",
       "\n",
       "    function answer(quiz_id) {\n",
       "        ans = 0;\n",
       "        for (i = 1;; i++) {\n",
       "            checkbox = document.getElementById(quiz_id + \"-\" + i.toString());\n",
       "            if (!checkbox)\n",
       "                break;\n",
       "            if (checkbox.checked)\n",
       "                ans |= (1 << i);\n",
       "        }\n",
       "        return ans;\n",
       "    }\n",
       "    function check_selection(quiz_id, correct_answer, multiple_choice, hint) {\n",
       "        given_answer = answer(quiz_id);\n",
       "        if (given_answer == correct_answer)\n",
       "        {\n",
       "            document.getElementById(quiz_id + \"-submit\").value = \"Correct!\";\n",
       "            document.getElementById(quiz_id + \"-hint\").innerHTML = \"\";\n",
       "\n",
       "            for (i = 1;; i++) {\n",
       "                checkbox = document.getElementById(quiz_id + \"-\" + i.toString());\n",
       "                label = document.getElementById(quiz_id + \"-\" + i.toString() + \"-label\")\n",
       "                if (!checkbox)\n",
       "                    break;\n",
       "    \n",
       "                if (checkbox.checked) {\n",
       "                    label.style.fontWeight = \"bold\";\n",
       "                }\n",
       "                else {\n",
       "                    label.style.textDecoration = \"line-through\";\n",
       "                }\n",
       "            }\n",
       "        }\n",
       "        else \n",
       "        {\n",
       "            document.getElementById(quiz_id + \"-submit\").value = \"Try again\";\n",
       "            \n",
       "            if (!bad_answers.has(quiz_id)) {\n",
       "                bad_answers.set(quiz_id, 1);\n",
       "            }\n",
       "            else {\n",
       "                bad_answers.set(quiz_id, bad_answers.get(quiz_id) + 1);\n",
       "            }\n",
       "\n",
       "            if (bad_answers.get(quiz_id) >= 2 && hint.length > 0) {\n",
       "                document.getElementById(quiz_id + \"-hint\").innerHTML = \n",
       "                    \"&nbsp;&nbsp;(Hint: <code>\" + hint + \"</code>)\";\n",
       "            }\n",
       "\n",
       "            if (!multiple_choice) {\n",
       "                for (i = 1;; i++) {\n",
       "                    checkbox = document.getElementById(quiz_id + \"-\" + i.toString());\n",
       "                    label = document.getElementById(quiz_id + \"-\" + i.toString() + \"-label\")\n",
       "\n",
       "                    if (!checkbox)\n",
       "                        break;\n",
       "                    if (checkbox.checked) {\n",
       "                        label.style.textDecoration = \"line-through\";\n",
       "                    }\n",
       "                }\n",
       "            }\n",
       "        }\n",
       "    }\n",
       "    function clear_selection(quiz_id) {\n",
       "        document.getElementById(quiz_id + \"-submit\").value = \"Submit\";\n",
       "        document.getElementById(quiz_id + \"-hint\").innerHTML = \"\";\n",
       "    }\n",
       "    </script>\n",
       "    \n",
       "    <div class=\"quiz\">\n",
       "    <h3 class=\"quiz_title\">Quiz</h3>\n",
       "    <p>\n",
       "    <div class=\"quiz_question\">In the reduced version, what has changed?</div>\n",
       "    </p>\n",
       "    <p>\n",
       "    <div class=\"quiz_options\" title=\"Check all that apply.\">\n",
       "    \n",
       "        <input type=\"checkbox\" name=\"736dfe20-a9f3-11ed-8f46-6298cf1a578f\" id=\"736dfe20-a9f3-11ed-8f46-6298cf1a578f-1\" onclick=\"clear_selection('736dfe20-a9f3-11ed-8f46-6298cf1a578f')\">\n",
       "        <label id=\"736dfe20-a9f3-11ed-8f46-6298cf1a578f-1-label\" for=\"736dfe20-a9f3-11ed-8f46-6298cf1a578f-1\">Comments are deleted</label><br>\n",
       "    \n",
       "        <input type=\"checkbox\" name=\"736dfe20-a9f3-11ed-8f46-6298cf1a578f\" id=\"736dfe20-a9f3-11ed-8f46-6298cf1a578f-2\" onclick=\"clear_selection('736dfe20-a9f3-11ed-8f46-6298cf1a578f')\">\n",
       "        <label id=\"736dfe20-a9f3-11ed-8f46-6298cf1a578f-2-label\" for=\"736dfe20-a9f3-11ed-8f46-6298cf1a578f-2\">Blank lines are deleted</label><br>\n",
       "    \n",
       "        <input type=\"checkbox\" name=\"736dfe20-a9f3-11ed-8f46-6298cf1a578f\" id=\"736dfe20-a9f3-11ed-8f46-6298cf1a578f-3\" onclick=\"clear_selection('736dfe20-a9f3-11ed-8f46-6298cf1a578f')\">\n",
       "        <label id=\"736dfe20-a9f3-11ed-8f46-6298cf1a578f-3-label\" for=\"736dfe20-a9f3-11ed-8f46-6298cf1a578f-3\">Initializations are deleted</label><br>\n",
       "    \n",
       "        <input type=\"checkbox\" name=\"736dfe20-a9f3-11ed-8f46-6298cf1a578f\" id=\"736dfe20-a9f3-11ed-8f46-6298cf1a578f-4\" onclick=\"clear_selection('736dfe20-a9f3-11ed-8f46-6298cf1a578f')\">\n",
       "        <label id=\"736dfe20-a9f3-11ed-8f46-6298cf1a578f-4-label\" for=\"736dfe20-a9f3-11ed-8f46-6298cf1a578f-4\">The assertion is deleted</label><br>\n",
       "    \n",
       "    </div>\n",
       "    </p>\n",
       "    <input id=\"736dfe20-a9f3-11ed-8f46-6298cf1a578f-submit\" type=\"submit\" value=\"Submit\" onclick=\"check_selection('736dfe20-a9f3-11ed-8f46-6298cf1a578f', 22, 1, '[(1 ** 0 - -1 ** 0) ** n for n in range(0, 3)]')\">\n",
       "    <span class=\"quiz_hint\" id=\"736dfe20-a9f3-11ed-8f46-6298cf1a578f-hint\"></span>\n",
       "    </div>\n",
       "    "
      ],
      "text/plain": [
       "<IPython.core.display.HTML object>"
      ]
     },
     "execution_count": 133,
     "metadata": {},
     "output_type": "execute_result"
    }
   ],
   "source": [
    "quiz(\"In the reduced version, what has changed?\",\n",
    "    [\n",
    "        \"Comments are deleted\",\n",
    "        \"Blank lines are deleted\",\n",
    "        \"Initializations are deleted\",\n",
    "        \"The assertion is deleted\",\n",
    "    ], '[(1 ** 0 - -1 ** 0) ** n for n in range(0, 3)]')"
   ]
  },
  {
   "cell_type": "markdown",
   "metadata": {
    "slideshow": {
     "slide_type": "fragment"
    }
   },
   "source": [
    "Indeed, Delta Debugging has determined all these as being irrelevant for reproducing the failure – and consequently, has deleted them."
   ]
  },
  {
   "cell_type": "markdown",
   "metadata": {
    "slideshow": {
     "slide_type": "subslide"
    }
   },
   "source": [
    "### Reducing Code Characters"
   ]
  },
  {
   "cell_type": "markdown",
   "metadata": {
    "slideshow": {
     "slide_type": "fragment"
    }
   },
   "source": [
    "We can reduce the code further by removing individual _characters_ rather than lines. To this end, we convert our (already reduced) `remove_html_markup()` code into a list of characters."
   ]
  },
  {
   "cell_type": "code",
   "execution_count": 134,
   "metadata": {
    "execution": {
     "iopub.execute_input": "2023-02-11T10:04:19.721979Z",
     "iopub.status.busy": "2023-02-11T10:04:19.721502Z",
     "iopub.status.idle": "2023-02-11T10:04:19.723062Z",
     "shell.execute_reply": "2023-02-11T10:04:19.723346Z"
    },
    "slideshow": {
     "slide_type": "fragment"
    }
   },
   "outputs": [
    {
     "name": "stdout",
     "output_type": "stream",
     "text": [
      "['d', 'e', 'f', ' ', 'r', 'e', 'm', 'o', 'v', 'e', '_', 'h', 't', 'm', 'l', '_', 'm', 'a', 'r', 'k', 'u', 'p', '(', 's', ')', ':', ' ', ' ', '#', ' ']\n"
     ]
    }
   ],
   "source": [
    "reduced_assertions_source_characters = list(\"\".join(reduced_assertions_source_lines))\n",
    "print(reduced_assertions_source_characters[:30])"
   ]
  },
  {
   "cell_type": "markdown",
   "metadata": {
    "slideshow": {
     "slide_type": "fragment"
    }
   },
   "source": [
    "Our `compile_and_test_html_markup()` works (and fails) as before: It still joins the given strings into one and executes them. (Remember that in Python, \"characters\" are simply strings of length one.)"
   ]
  },
  {
   "cell_type": "code",
   "execution_count": 135,
   "metadata": {
    "execution": {
     "iopub.execute_input": "2023-02-11T10:04:19.726445Z",
     "iopub.status.busy": "2023-02-11T10:04:19.726003Z",
     "iopub.status.idle": "2023-02-11T10:04:19.727460Z",
     "shell.execute_reply": "2023-02-11T10:04:19.727815Z"
    },
    "slideshow": {
     "slide_type": "subslide"
    }
   },
   "outputs": [
    {
     "name": "stderr",
     "output_type": "stream",
     "text": [
      "Traceback (most recent call last):\n",
      "  File \"/var/folders/n2/xd9445p97rb3xh7m1dfx8_4h0006ts/T/ipykernel_1782/909985861.py\", line 2, in <cell line: 1>\n",
      "    compile_and_test_html_markup(reduced_assertions_source_characters)\n",
      "  File \"/var/folders/n2/xd9445p97rb3xh7m1dfx8_4h0006ts/T/ipykernel_1782/4067432722.py\", line 2, in compile_and_test_html_markup\n",
      "    compile_and_run(lines +\n",
      "  File \"/var/folders/n2/xd9445p97rb3xh7m1dfx8_4h0006ts/T/ipykernel_1782/2075409738.py\", line 3, in compile_and_run\n",
      "    exec(\"\".join(lines), {'__name__': '<string>',\n",
      "  File \"<string>\", line 17, in <module>\n",
      "AssertionError: My Test (expected)\n"
     ]
    }
   ],
   "source": [
    "with ExpectError(AssertionError):\n",
    "    compile_and_test_html_markup(reduced_assertions_source_characters)"
   ]
  },
  {
   "cell_type": "markdown",
   "metadata": {
    "slideshow": {
     "slide_type": "fragment"
    }
   },
   "source": [
    "Let's see what Delta Debugging makes of that – and also, how long it takes. The `Timer` class gives us a simple means to measure time."
   ]
  },
  {
   "cell_type": "code",
   "execution_count": 136,
   "metadata": {
    "execution": {
     "iopub.execute_input": "2023-02-11T10:04:19.730428Z",
     "iopub.status.busy": "2023-02-11T10:04:19.730097Z",
     "iopub.status.idle": "2023-02-11T10:04:19.731639Z",
     "shell.execute_reply": "2023-02-11T10:04:19.731862Z"
    },
    "slideshow": {
     "slide_type": "skip"
    }
   },
   "outputs": [],
   "source": [
    "from Timer import Timer"
   ]
  },
  {
   "cell_type": "code",
   "execution_count": 137,
   "metadata": {
    "execution": {
     "iopub.execute_input": "2023-02-11T10:04:19.735019Z",
     "iopub.status.busy": "2023-02-11T10:04:19.734203Z",
     "iopub.status.idle": "2023-02-11T10:04:19.743974Z",
     "shell.execute_reply": "2023-02-11T10:04:19.744612Z"
    },
    "slideshow": {
     "slide_type": "subslide"
    }
   },
   "outputs": [],
   "source": [
    "with DeltaDebugger(log=False) as dd:\n",
    "    compile_and_test_html_markup(reduced_assertions_source_characters)"
   ]
  },
  {
   "cell_type": "markdown",
   "metadata": {
    "slideshow": {
     "slide_type": "fragment"
    }
   },
   "source": [
    "Here's the reduced result:"
   ]
  },
  {
   "cell_type": "code",
   "execution_count": 138,
   "metadata": {
    "execution": {
     "iopub.execute_input": "2023-02-11T10:04:20.090203Z",
     "iopub.status.busy": "2023-02-11T10:04:19.951497Z",
     "iopub.status.idle": "2023-02-11T10:04:20.099382Z",
     "shell.execute_reply": "2023-02-11T10:04:20.099638Z"
    },
    "slideshow": {
     "slide_type": "subslide"
    }
   },
   "outputs": [
    {
     "name": "stdout",
     "output_type": "stream",
     "text": [
      "\u001b[34mdef\u001b[39;49;00m \u001b[32mremove_html_markup\u001b[39;49;00m(s):\u001b[37m\u001b[39;49;00m\n",
      "    tag=\u001b[34mFalse\u001b[39;49;00m\u001b[37m\u001b[39;49;00m\n",
      "    quote=\u001b[34mFalse\u001b[39;49;00m\u001b[37m\u001b[39;49;00m\n",
      "    out=\u001b[33m\"\u001b[39;49;00m\u001b[33m\"\u001b[39;49;00m\u001b[37m\u001b[39;49;00m\n",
      "    \u001b[34mfor\u001b[39;49;00m c \u001b[35min\u001b[39;49;00m s:\u001b[37m\u001b[39;49;00m\n",
      "        \u001b[34mif\u001b[39;49;00m c==\u001b[33m'\u001b[39;49;00m\u001b[33m<\u001b[39;49;00m\u001b[33m'\u001b[39;49;00m\u001b[35mand\u001b[39;49;00m \u001b[35mnot\u001b[39;49;00m quote:tag=\u001b[34mTrue\u001b[39;49;00m\u001b[37m\u001b[39;49;00m\n",
      "        \u001b[34mif\u001b[39;49;00m c==\u001b[33m'\u001b[39;49;00m\u001b[33m>\u001b[39;49;00m\u001b[33m'\u001b[39;49;00m\u001b[35mand\u001b[39;49;00m \u001b[35mnot\u001b[39;49;00m quote:tag=\u001b[34mFalse\u001b[39;49;00m\u001b[37m\u001b[39;49;00m\n",
      "        \u001b[34melif\u001b[39;49;00m c==\u001b[33m'\u001b[39;49;00m\u001b[33m\"\u001b[39;49;00m\u001b[33m'\u001b[39;49;00m\u001b[35mor\u001b[39;49;00m c==\u001b[33m\"\u001b[39;49;00m\u001b[33m\"\u001b[39;49;00m\u001b[35mand\u001b[39;49;00m g:\u001b[35mnot\u001b[39;49;00m quote\u001b[37m\u001b[39;49;00m\n",
      "        \u001b[34melif\u001b[39;49;00m \u001b[35mnot\u001b[39;49;00m tag:out=out+c\u001b[37m\u001b[39;49;00m\n",
      "    \u001b[34mreturn\u001b[39;49;00m out\u001b[37m\u001b[39;49;00m"
     ]
    }
   ],
   "source": [
    "with Timer() as t:\n",
    "    further_reduced_assertions_source_characters = dd.min_args()['lines']\n",
    "print_content(\"\".join(further_reduced_assertions_source_characters), \".py\")"
   ]
  },
  {
   "cell_type": "markdown",
   "metadata": {
    "slideshow": {
     "slide_type": "subslide"
    }
   },
   "source": [
    "There's a number of observations we can make about this code.\n",
    "\n",
    "* All superfluous blanks and even newlines have been removed.\n",
    "* As a curiosity, the initialization of `quote` and `out` to `\"\"` is now merged into a single (semantics-preserving) statement.\n",
    "* The semantics and effect of `<` and `>` characters is preserved, as mandated by our `RuntimeError` check.\n",
    "* Double quotes still have the effect of not being included in the returned value: the remaining `quote` has no effect.\n",
    "\n",
    "Semantics-wise, this reduced variant still yields the \"original\" failure; the biggest semantic differences, though, are in the condition and code associated with double quotes – which actually also is the location of the defect to be fixed. This is how reducing code can also point to not only _necessary_ locations, but also _defective_ locations."
   ]
  },
  {
   "cell_type": "markdown",
   "metadata": {
    "slideshow": {
     "slide_type": "subslide"
    }
   },
   "source": [
    "Mind you that reducing code is not cheap, and especially not if you remove by characters. It has taken `DeltaDebugger` several thousand tests to obtain the result above:"
   ]
  },
  {
   "cell_type": "code",
   "execution_count": 139,
   "metadata": {
    "execution": {
     "iopub.execute_input": "2023-02-11T10:04:20.112435Z",
     "iopub.status.busy": "2023-02-11T10:04:20.112024Z",
     "iopub.status.idle": "2023-02-11T10:04:20.113522Z",
     "shell.execute_reply": "2023-02-11T10:04:20.113872Z"
    },
    "slideshow": {
     "slide_type": "fragment"
    }
   },
   "outputs": [
    {
     "data": {
      "text/plain": [
       "1278"
      ]
     },
     "execution_count": 139,
     "metadata": {},
     "output_type": "execute_result"
    }
   ],
   "source": [
    "dd.tests"
   ]
  },
  {
   "cell_type": "markdown",
   "metadata": {
    "slideshow": {
     "slide_type": "fragment"
    }
   },
   "source": [
    "And to do so, it even required _several seconds_. This may be little for a human, but from a CPU standpoint, this is an enormous effort."
   ]
  },
  {
   "cell_type": "code",
   "execution_count": 140,
   "metadata": {
    "execution": {
     "iopub.execute_input": "2023-02-11T10:04:20.116106Z",
     "iopub.status.busy": "2023-02-11T10:04:20.115776Z",
     "iopub.status.idle": "2023-02-11T10:04:20.117255Z",
     "shell.execute_reply": "2023-02-11T10:04:20.117553Z"
    },
    "slideshow": {
     "slide_type": "fragment"
    }
   },
   "outputs": [
    {
     "data": {
      "text/plain": [
       "0.3180582500062883"
      ]
     },
     "execution_count": 140,
     "metadata": {},
     "output_type": "execute_result"
    }
   ],
   "source": [
    "t.elapsed_time()"
   ]
  },
  {
   "cell_type": "markdown",
   "metadata": {
    "slideshow": {
     "slide_type": "subslide"
    }
   },
   "source": [
    "### Reducing Syntax Trees"
   ]
  },
  {
   "cell_type": "markdown",
   "metadata": {
    "slideshow": {
     "slide_type": "fragment"
    }
   },
   "source": [
    "When reducing code (or generally speaking, recursive structures), using a _syntactic_ approach can be a much better alternative to the _line-by-line_ or _character-by-character_ approaches discussed above. The idea is that one represents the input as a _tree_ (rather than a sequence of strings), in which a reducer would work on entire subtrees, deleting or reducing parts of the tree."
   ]
  },
  {
   "cell_type": "markdown",
   "metadata": {
    "slideshow": {
     "slide_type": "subslide"
    }
   },
   "source": [
    "We illustrate this concept on _syntax trees_ representing Python code. Python provides us with simple means to interactively convert code into syntax trees (and back again). So, in order to reduce code, we can\n",
    "\n",
    "1. _parse_ the program code into a syntax tree (called *abstract syntax tree* or *AST*);\n",
    "2. reduce the syntax tree to a minimum, executing it to test reductions; and\n",
    "3. _unparse_ the tree to obtain textual code again.\n",
    "\n",
    "Since transformations on the AST are much less likely to produce syntax errors, reducing ASTs is much more efficient than reducing program code as text."
   ]
  },
  {
   "cell_type": "markdown",
   "metadata": {
    "slideshow": {
     "slide_type": "subslide"
    }
   },
   "source": [
    "In the [chapter on slicing](Slicer.ipynb), we already have seen several examples on how to work with ASTs. In our context, an AST also offers additional possibilities for reducing. Notably, instead of just _deleting_ code fragments, we can also _replace_ them with simpler fragments. For instance, we can replace arithmetic expressions with constants, or conditional statements `if cond: body` with the associated body `body`."
   ]
  },
  {
   "cell_type": "markdown",
   "metadata": {
    "slideshow": {
     "slide_type": "fragment"
    }
   },
   "source": [
    "Let us illustrate how this works, again choosing `remove_html_markup()` as our ongoing example. One more time, we create a function with associated test."
   ]
  },
  {
   "cell_type": "code",
   "execution_count": 141,
   "metadata": {
    "execution": {
     "iopub.execute_input": "2023-02-11T10:04:20.124764Z",
     "iopub.status.busy": "2023-02-11T10:04:20.124125Z",
     "iopub.status.idle": "2023-02-11T10:04:20.125913Z",
     "shell.execute_reply": "2023-02-11T10:04:20.126163Z"
    },
    "slideshow": {
     "slide_type": "fragment"
    }
   },
   "outputs": [],
   "source": [
    "fun_source = inspect.getsource(remove_html_markup)"
   ]
  },
  {
   "cell_type": "code",
   "execution_count": 142,
   "metadata": {
    "execution": {
     "iopub.execute_input": "2023-02-11T10:04:20.151565Z",
     "iopub.status.busy": "2023-02-11T10:04:20.150746Z",
     "iopub.status.idle": "2023-02-11T10:04:20.161971Z",
     "shell.execute_reply": "2023-02-11T10:04:20.162929Z"
    },
    "slideshow": {
     "slide_type": "subslide"
    }
   },
   "outputs": [
    {
     "name": "stdout",
     "output_type": "stream",
     "text": [
      "\u001b[34mdef\u001b[39;49;00m \u001b[32mremove_html_markup\u001b[39;49;00m(s):  \u001b[37m# type: ignore\u001b[39;49;00m\u001b[37m\u001b[39;49;00m\n",
      "    tag = \u001b[34mFalse\u001b[39;49;00m\u001b[37m\u001b[39;49;00m\n",
      "    quote = \u001b[34mFalse\u001b[39;49;00m\u001b[37m\u001b[39;49;00m\n",
      "    out = \u001b[33m\"\u001b[39;49;00m\u001b[33m\"\u001b[39;49;00m\u001b[37m\u001b[39;49;00m\n",
      "\u001b[37m\u001b[39;49;00m\n",
      "    \u001b[34mfor\u001b[39;49;00m c \u001b[35min\u001b[39;49;00m s:\u001b[37m\u001b[39;49;00m\n",
      "        \u001b[34mif\u001b[39;49;00m c == \u001b[33m'\u001b[39;49;00m\u001b[33m<\u001b[39;49;00m\u001b[33m'\u001b[39;49;00m \u001b[35mand\u001b[39;49;00m \u001b[35mnot\u001b[39;49;00m quote:\u001b[37m\u001b[39;49;00m\n",
      "            tag = \u001b[34mTrue\u001b[39;49;00m\u001b[37m\u001b[39;49;00m\n",
      "        \u001b[34melif\u001b[39;49;00m c == \u001b[33m'\u001b[39;49;00m\u001b[33m>\u001b[39;49;00m\u001b[33m'\u001b[39;49;00m \u001b[35mand\u001b[39;49;00m \u001b[35mnot\u001b[39;49;00m quote:\u001b[37m\u001b[39;49;00m\n",
      "            tag = \u001b[34mFalse\u001b[39;49;00m\u001b[37m\u001b[39;49;00m\n",
      "        \u001b[34melif\u001b[39;49;00m c == \u001b[33m'\u001b[39;49;00m\u001b[33m\"\u001b[39;49;00m\u001b[33m'\u001b[39;49;00m \u001b[35mor\u001b[39;49;00m c == \u001b[33m\"\u001b[39;49;00m\u001b[33m'\u001b[39;49;00m\u001b[33m\"\u001b[39;49;00m \u001b[35mand\u001b[39;49;00m tag:\u001b[37m\u001b[39;49;00m\n",
      "            quote = \u001b[35mnot\u001b[39;49;00m quote\u001b[37m\u001b[39;49;00m\n",
      "        \u001b[34melif\u001b[39;49;00m \u001b[35mnot\u001b[39;49;00m tag:\u001b[37m\u001b[39;49;00m\n",
      "            out = out + c\u001b[37m\u001b[39;49;00m\n",
      "\u001b[37m\u001b[39;49;00m\n",
      "    \u001b[37m# postcondition\u001b[39;49;00m\u001b[37m\u001b[39;49;00m\n",
      "    \u001b[34massert\u001b[39;49;00m \u001b[33m'\u001b[39;49;00m\u001b[33m<\u001b[39;49;00m\u001b[33m'\u001b[39;49;00m \u001b[35mnot\u001b[39;49;00m \u001b[35min\u001b[39;49;00m out \u001b[35mand\u001b[39;49;00m \u001b[33m'\u001b[39;49;00m\u001b[33m>\u001b[39;49;00m\u001b[33m'\u001b[39;49;00m \u001b[35mnot\u001b[39;49;00m \u001b[35min\u001b[39;49;00m out\u001b[37m\u001b[39;49;00m\n",
      "\u001b[37m\u001b[39;49;00m\n",
      "    \u001b[34mreturn\u001b[39;49;00m out\u001b[37m\u001b[39;49;00m"
     ]
    }
   ],
   "source": [
    "print_content(fun_source, '.py')"
   ]
  },
  {
   "cell_type": "markdown",
   "metadata": {
    "slideshow": {
     "slide_type": "subslide"
    }
   },
   "source": [
    "#### From Code to Syntax Trees\n",
    "\n",
    "Let us parse this piece of code into an AST. This is done by the `ast.parse()` function."
   ]
  },
  {
   "cell_type": "code",
   "execution_count": 143,
   "metadata": {
    "execution": {
     "iopub.execute_input": "2023-02-11T10:04:20.165462Z",
     "iopub.status.busy": "2023-02-11T10:04:20.165160Z",
     "iopub.status.idle": "2023-02-11T10:04:20.166357Z",
     "shell.execute_reply": "2023-02-11T10:04:20.166554Z"
    },
    "slideshow": {
     "slide_type": "skip"
    }
   },
   "outputs": [],
   "source": [
    "import ast"
   ]
  },
  {
   "cell_type": "code",
   "execution_count": 144,
   "metadata": {
    "execution": {
     "iopub.execute_input": "2023-02-11T10:04:20.168992Z",
     "iopub.status.busy": "2023-02-11T10:04:20.168590Z",
     "iopub.status.idle": "2023-02-11T10:04:20.169805Z",
     "shell.execute_reply": "2023-02-11T10:04:20.170067Z"
    },
    "slideshow": {
     "slide_type": "fragment"
    }
   },
   "outputs": [],
   "source": [
    "fun_tree: ast.Module = ast.parse(fun_source)"
   ]
  },
  {
   "cell_type": "markdown",
   "metadata": {
    "slideshow": {
     "slide_type": "fragment"
    }
   },
   "source": [
    "The parsed tree contains the function definition:"
   ]
  },
  {
   "cell_type": "code",
   "execution_count": 145,
   "metadata": {
    "execution": {
     "iopub.execute_input": "2023-02-11T10:04:20.172437Z",
     "iopub.status.busy": "2023-02-11T10:04:20.172094Z",
     "iopub.status.idle": "2023-02-11T10:04:20.173377Z",
     "shell.execute_reply": "2023-02-11T10:04:20.173586Z"
    },
    "slideshow": {
     "slide_type": "skip"
    }
   },
   "outputs": [],
   "source": [
    "from bookutils import show_ast"
   ]
  },
  {
   "cell_type": "code",
   "execution_count": 146,
   "metadata": {
    "execution": {
     "iopub.execute_input": "2023-02-11T10:04:20.175989Z",
     "iopub.status.busy": "2023-02-11T10:04:20.175596Z",
     "iopub.status.idle": "2023-02-11T10:04:20.546989Z",
     "shell.execute_reply": "2023-02-11T10:04:20.547356Z"
    },
    "slideshow": {
     "slide_type": "fragment"
    }
   },
   "outputs": [
    {
     "data": {
      "image/svg+xml": [
       "<svg xmlns=\"http://www.w3.org/2000/svg\" xmlns:xlink=\"http://www.w3.org/1999/xlink\" width=\"2918pt\" height=\"692pt\" viewBox=\"0.00 0.00 2918.00 692.00\">\n",
       "<g id=\"graph0\" class=\"graph\" transform=\"scale(1 1) rotate(0) translate(4 688)\">\n",
       "<polygon fill=\"white\" stroke=\"none\" points=\"-4,4 -4,-688 2914,-688 2914,4 -4,4\"/>\n",
       "<!-- 0 -->\n",
       "<g id=\"node1\" class=\"node\">\n",
       "<title>0</title>\n",
       "<text text-anchor=\"start\" x=\"512.5\" y=\"-663.3\" font-family=\"Courier,monospace\" font-weight=\"bold\" font-size=\"14.00\" fill=\"#004080\">FunctionDef</text>\n",
       "</g>\n",
       "<!-- 1 -->\n",
       "<g id=\"node2\" class=\"node\">\n",
       "<title>1</title>\n",
       "<text text-anchor=\"middle\" x=\"107\" y=\"-590.3\" font-family=\"Courier,monospace\" font-size=\"14.00\" fill=\"#008040\">&quot;remove_html_markup&quot;</text>\n",
       "</g>\n",
       "<!-- 0&#45;&#45;1 -->\n",
       "<g id=\"edge1\" class=\"edge\">\n",
       "<title>0--1</title>\n",
       "<path fill=\"none\" stroke=\"black\" d=\"M558,-647C558,-647 362.37,-632.93 207,-612 204.03,-611.6 201.02,-611.18 197.98,-610.74\"/>\n",
       "</g>\n",
       "<!-- 2 -->\n",
       "<g id=\"node3\" class=\"node\">\n",
       "<title>2</title>\n",
       "<text text-anchor=\"start\" x=\"224.5\" y=\"-591.3\" font-family=\"Courier,monospace\" font-weight=\"bold\" font-size=\"14.00\" fill=\"#004080\">arguments</text>\n",
       "</g>\n",
       "<!-- 0&#45;&#45;2 -->\n",
       "<g id=\"edge2\" class=\"edge\">\n",
       "<title>0--2</title>\n",
       "<path fill=\"none\" stroke=\"black\" d=\"M558,-647C558,-647 422.58,-635.83 317,-612 313.88,-611.3 310.68,-610.5 307.47,-609.65\"/>\n",
       "</g>\n",
       "<!-- 5 -->\n",
       "<g id=\"node6\" class=\"node\">\n",
       "<title>5</title>\n",
       "<text text-anchor=\"start\" x=\"334\" y=\"-591.3\" font-family=\"Courier,monospace\" font-weight=\"bold\" font-size=\"14.00\" fill=\"#004080\">Assign</text>\n",
       "</g>\n",
       "<!-- 0&#45;&#45;5 -->\n",
       "<g id=\"edge5\" class=\"edge\">\n",
       "<title>0--5</title>\n",
       "<path fill=\"none\" stroke=\"black\" d=\"M558,-647C558,-647 448.38,-618.36 391.86,-603.59\"/>\n",
       "</g>\n",
       "<!-- 11 -->\n",
       "<g id=\"node12\" class=\"node\">\n",
       "<title>11</title>\n",
       "<text text-anchor=\"start\" x=\"477\" y=\"-591.3\" font-family=\"Courier,monospace\" font-weight=\"bold\" font-size=\"14.00\" fill=\"#004080\">Assign</text>\n",
       "</g>\n",
       "<!-- 0&#45;&#45;11 -->\n",
       "<g id=\"edge11\" class=\"edge\">\n",
       "<title>0--11</title>\n",
       "<path fill=\"none\" stroke=\"black\" d=\"M558,-647C558,-647 536.4,-626.94 520.03,-611.74\"/>\n",
       "</g>\n",
       "<!-- 17 -->\n",
       "<g id=\"node18\" class=\"node\">\n",
       "<title>17</title>\n",
       "<text text-anchor=\"start\" x=\"575\" y=\"-591.3\" font-family=\"Courier,monospace\" font-weight=\"bold\" font-size=\"14.00\" fill=\"#004080\">Assign</text>\n",
       "</g>\n",
       "<!-- 0&#45;&#45;17 -->\n",
       "<g id=\"edge17\" class=\"edge\">\n",
       "<title>0--17</title>\n",
       "<path fill=\"none\" stroke=\"black\" d=\"M558,-647C558,-647 574.2,-626.94 586.48,-611.74\"/>\n",
       "</g>\n",
       "<!-- 23 -->\n",
       "<g id=\"node24\" class=\"node\">\n",
       "<title>23</title>\n",
       "<text text-anchor=\"start\" x=\"893.5\" y=\"-591.3\" font-family=\"Courier,monospace\" font-weight=\"bold\" font-size=\"14.00\" fill=\"#004080\">For</text>\n",
       "</g>\n",
       "<!-- 0&#45;&#45;23 -->\n",
       "<g id=\"edge23\" class=\"edge\">\n",
       "<title>0--23</title>\n",
       "<path fill=\"none\" stroke=\"black\" d=\"M558,-647C558,-647 797.78,-611.17 879.27,-598.99\"/>\n",
       "</g>\n",
       "<!-- 121 -->\n",
       "<g id=\"node122\" class=\"node\">\n",
       "<title>121</title>\n",
       "<text text-anchor=\"start\" x=\"1542\" y=\"-591.3\" font-family=\"Courier,monospace\" font-weight=\"bold\" font-size=\"14.00\" fill=\"#004080\">Assert</text>\n",
       "</g>\n",
       "<!-- 0&#45;&#45;121 -->\n",
       "<g id=\"edge121\" class=\"edge\">\n",
       "<title>0--121</title>\n",
       "<path fill=\"none\" stroke=\"black\" d=\"M558,-647C558,-647 1360.11,-605.66 1534,-596.7\"/>\n",
       "</g>\n",
       "<!-- 138 -->\n",
       "<g id=\"node139\" class=\"node\">\n",
       "<title>138</title>\n",
       "<text text-anchor=\"start\" x=\"1998\" y=\"-591.3\" font-family=\"Courier,monospace\" font-weight=\"bold\" font-size=\"14.00\" fill=\"#004080\">Return</text>\n",
       "</g>\n",
       "<!-- 0&#45;&#45;138 -->\n",
       "<g id=\"edge138\" class=\"edge\">\n",
       "<title>0--138</title>\n",
       "<path fill=\"none\" stroke=\"black\" d=\"M558,-647C558,-647 1141.95,-629.37 1609,-612 1750.97,-606.72 1920.29,-599.47 1990.27,-596.43\"/>\n",
       "</g>\n",
       "<!-- 3 -->\n",
       "<g id=\"node4\" class=\"node\">\n",
       "<title>3</title>\n",
       "<text text-anchor=\"start\" x=\"53.5\" y=\"-519.3\" font-family=\"Courier,monospace\" font-weight=\"bold\" font-size=\"14.00\" fill=\"#004080\">arg</text>\n",
       "</g>\n",
       "<!-- 2&#45;&#45;3 -->\n",
       "<g id=\"edge3\" class=\"edge\">\n",
       "<title>2--3</title>\n",
       "<path fill=\"none\" stroke=\"black\" d=\"M216.54,-576.76C178.2,-563.07 124.64,-543.94 92.82,-532.58\"/>\n",
       "</g>\n",
       "<!-- 4 -->\n",
       "<g id=\"node5\" class=\"node\">\n",
       "<title>4</title>\n",
       "<text text-anchor=\"middle\" x=\"27\" y=\"-446.3\" font-family=\"Courier,monospace\" font-size=\"14.00\" fill=\"#008040\">&quot;s&quot;</text>\n",
       "</g>\n",
       "<!-- 3&#45;&#45;4 -->\n",
       "<g id=\"edge4\" class=\"edge\">\n",
       "<title>3--4</title>\n",
       "<path fill=\"none\" stroke=\"black\" d=\"M56.56,-504.05C50.43,-493.05 42.47,-478.76 36.35,-467.79\"/>\n",
       "</g>\n",
       "<!-- 6 -->\n",
       "<g id=\"node7\" class=\"node\">\n",
       "<title>6</title>\n",
       "<text text-anchor=\"start\" x=\"160\" y=\"-519.3\" font-family=\"Courier,monospace\" font-weight=\"bold\" font-size=\"14.00\" fill=\"#004080\">Name</text>\n",
       "</g>\n",
       "<!-- 5&#45;&#45;6 -->\n",
       "<g id=\"edge6\" class=\"edge\">\n",
       "<title>5--6</title>\n",
       "<path fill=\"none\" stroke=\"black\" d=\"M334,-575C334,-575 248.88,-546.81 203.99,-531.94\"/>\n",
       "</g>\n",
       "<!-- 9 -->\n",
       "<g id=\"node10\" class=\"node\">\n",
       "<title>9</title>\n",
       "<text text-anchor=\"start\" x=\"265.5\" y=\"-519.3\" font-family=\"Courier,monospace\" font-weight=\"bold\" font-size=\"14.00\" fill=\"#004080\">Constant</text>\n",
       "</g>\n",
       "<!-- 5&#45;&#45;9 -->\n",
       "<g id=\"edge9\" class=\"edge\">\n",
       "<title>5--9</title>\n",
       "<path fill=\"none\" stroke=\"black\" d=\"M334,-575C334,-575 320.5,-554.94 310.27,-539.74\"/>\n",
       "</g>\n",
       "<!-- 7 -->\n",
       "<g id=\"node8\" class=\"node\">\n",
       "<title>7</title>\n",
       "<text text-anchor=\"middle\" x=\"101\" y=\"-446.3\" font-family=\"Courier,monospace\" font-size=\"14.00\" fill=\"#008040\">&quot;tag&quot;</text>\n",
       "</g>\n",
       "<!-- 6&#45;&#45;7 -->\n",
       "<g id=\"edge7\" class=\"edge\">\n",
       "<title>6--7</title>\n",
       "<path fill=\"none\" stroke=\"black\" d=\"M169,-503C169,-503 142.77,-482.94 122.89,-467.74\"/>\n",
       "</g>\n",
       "<!-- 8 -->\n",
       "<g id=\"node9\" class=\"node\">\n",
       "<title>8</title>\n",
       "<text text-anchor=\"middle\" x=\"177\" y=\"-446.3\" font-family=\"Courier,monospace\" font-size=\"14.00\" fill=\"#008040\">Store</text>\n",
       "</g>\n",
       "<!-- 6&#45;&#45;8 -->\n",
       "<g id=\"edge8\" class=\"edge\">\n",
       "<title>6--8</title>\n",
       "<path fill=\"none\" stroke=\"black\" d=\"M169,-503C169,-503 172.09,-482.94 174.42,-467.74\"/>\n",
       "</g>\n",
       "<!-- 10 -->\n",
       "<g id=\"node11\" class=\"node\">\n",
       "<title>10</title>\n",
       "<text text-anchor=\"middle\" x=\"253\" y=\"-446.3\" font-family=\"Courier,monospace\" font-size=\"14.00\" fill=\"#008040\">False</text>\n",
       "</g>\n",
       "<!-- 9&#45;&#45;10 -->\n",
       "<g id=\"edge10\" class=\"edge\">\n",
       "<title>9--10</title>\n",
       "<path fill=\"none\" stroke=\"black\" d=\"M287.86,-504.05C280.63,-493.05 271.24,-478.76 264.03,-467.79\"/>\n",
       "</g>\n",
       "<!-- 12 -->\n",
       "<g id=\"node13\" class=\"node\">\n",
       "<title>12</title>\n",
       "<text text-anchor=\"start\" x=\"398\" y=\"-519.3\" font-family=\"Courier,monospace\" font-weight=\"bold\" font-size=\"14.00\" fill=\"#004080\">Name</text>\n",
       "</g>\n",
       "<!-- 11&#45;&#45;12 -->\n",
       "<g id=\"edge12\" class=\"edge\">\n",
       "<title>11--12</title>\n",
       "<path fill=\"none\" stroke=\"black\" d=\"M494,-575C494,-575 463.53,-554.94 440.43,-539.74\"/>\n",
       "</g>\n",
       "<!-- 15 -->\n",
       "<g id=\"node16\" class=\"node\">\n",
       "<title>15</title>\n",
       "<text text-anchor=\"start\" x=\"468.5\" y=\"-519.3\" font-family=\"Courier,monospace\" font-weight=\"bold\" font-size=\"14.00\" fill=\"#004080\">Constant</text>\n",
       "</g>\n",
       "<!-- 11&#45;&#45;15 -->\n",
       "<g id=\"edge15\" class=\"edge\">\n",
       "<title>11--15</title>\n",
       "<path fill=\"none\" stroke=\"black\" d=\"M494,-575C494,-575 497.09,-554.94 499.42,-539.74\"/>\n",
       "</g>\n",
       "<!-- 13 -->\n",
       "<g id=\"node14\" class=\"node\">\n",
       "<title>13</title>\n",
       "<text text-anchor=\"middle\" x=\"337\" y=\"-446.3\" font-family=\"Courier,monospace\" font-size=\"14.00\" fill=\"#008040\">&quot;quote&quot;</text>\n",
       "</g>\n",
       "<!-- 12&#45;&#45;13 -->\n",
       "<g id=\"edge13\" class=\"edge\">\n",
       "<title>12--13</title>\n",
       "<path fill=\"none\" stroke=\"black\" d=\"M408,-503C408,-503 380.61,-482.94 359.86,-467.74\"/>\n",
       "</g>\n",
       "<!-- 14 -->\n",
       "<g id=\"node15\" class=\"node\">\n",
       "<title>14</title>\n",
       "<text text-anchor=\"middle\" x=\"421\" y=\"-446.3\" font-family=\"Courier,monospace\" font-size=\"14.00\" fill=\"#008040\">Store</text>\n",
       "</g>\n",
       "<!-- 12&#45;&#45;14 -->\n",
       "<g id=\"edge14\" class=\"edge\">\n",
       "<title>12--14</title>\n",
       "<path fill=\"none\" stroke=\"black\" d=\"M408,-503C408,-503 413.01,-482.94 416.82,-467.74\"/>\n",
       "</g>\n",
       "<!-- 16 -->\n",
       "<g id=\"node17\" class=\"node\">\n",
       "<title>16</title>\n",
       "<text text-anchor=\"middle\" x=\"497\" y=\"-446.3\" font-family=\"Courier,monospace\" font-size=\"14.00\" fill=\"#008040\">False</text>\n",
       "</g>\n",
       "<!-- 15&#45;&#45;16 -->\n",
       "<g id=\"edge16\" class=\"edge\">\n",
       "<title>15--16</title>\n",
       "<path fill=\"none\" stroke=\"black\" d=\"M500.79,-504.05C500,-493.05 498.98,-478.76 498.2,-467.79\"/>\n",
       "</g>\n",
       "<!-- 18 -->\n",
       "<g id=\"node19\" class=\"node\">\n",
       "<title>18</title>\n",
       "<text text-anchor=\"start\" x=\"583\" y=\"-519.3\" font-family=\"Courier,monospace\" font-weight=\"bold\" font-size=\"14.00\" fill=\"#004080\">Name</text>\n",
       "</g>\n",
       "<!-- 17&#45;&#45;18 -->\n",
       "<g id=\"edge18\" class=\"edge\">\n",
       "<title>17--18</title>\n",
       "<path fill=\"none\" stroke=\"black\" d=\"M610,-575C610,-575 606.14,-554.94 603.22,-539.74\"/>\n",
       "</g>\n",
       "<!-- 21 -->\n",
       "<g id=\"node22\" class=\"node\">\n",
       "<title>21</title>\n",
       "<text text-anchor=\"start\" x=\"679.5\" y=\"-519.3\" font-family=\"Courier,monospace\" font-weight=\"bold\" font-size=\"14.00\" fill=\"#004080\">Constant</text>\n",
       "</g>\n",
       "<!-- 17&#45;&#45;21 -->\n",
       "<g id=\"edge21\" class=\"edge\">\n",
       "<title>17--21</title>\n",
       "<path fill=\"none\" stroke=\"black\" d=\"M610,-575C610,-575 649.48,-555.07 679.56,-539.88\"/>\n",
       "</g>\n",
       "<!-- 19 -->\n",
       "<g id=\"node20\" class=\"node\">\n",
       "<title>19</title>\n",
       "<text text-anchor=\"middle\" x=\"573\" y=\"-446.3\" font-family=\"Courier,monospace\" font-size=\"14.00\" fill=\"#008040\">&quot;out&quot;</text>\n",
       "</g>\n",
       "<!-- 18&#45;&#45;19 -->\n",
       "<g id=\"edge19\" class=\"edge\">\n",
       "<title>18--19</title>\n",
       "<path fill=\"none\" stroke=\"black\" d=\"M602,-503C602,-503 590.81,-482.94 582.34,-467.74\"/>\n",
       "</g>\n",
       "<!-- 20 -->\n",
       "<g id=\"node21\" class=\"node\">\n",
       "<title>20</title>\n",
       "<text text-anchor=\"middle\" x=\"649\" y=\"-446.3\" font-family=\"Courier,monospace\" font-size=\"14.00\" fill=\"#008040\">Store</text>\n",
       "</g>\n",
       "<!-- 18&#45;&#45;20 -->\n",
       "<g id=\"edge20\" class=\"edge\">\n",
       "<title>18--20</title>\n",
       "<path fill=\"none\" stroke=\"black\" d=\"M602,-503C602,-503 620.13,-482.94 633.87,-467.74\"/>\n",
       "</g>\n",
       "<!-- 22 -->\n",
       "<g id=\"node23\" class=\"node\">\n",
       "<title>22</title>\n",
       "<text text-anchor=\"middle\" x=\"723\" y=\"-446.3\" font-family=\"Courier,monospace\" font-size=\"14.00\" fill=\"#008040\">&quot;&quot;</text>\n",
       "</g>\n",
       "<!-- 21&#45;&#45;22 -->\n",
       "<g id=\"edge22\" class=\"edge\">\n",
       "<title>21--22</title>\n",
       "<path fill=\"none\" stroke=\"black\" d=\"M715.42,-504.05C716.99,-493.05 719.03,-478.76 720.6,-467.79\"/>\n",
       "</g>\n",
       "<!-- 24 -->\n",
       "<g id=\"node25\" class=\"node\">\n",
       "<title>24</title>\n",
       "<text text-anchor=\"start\" x=\"852\" y=\"-519.3\" font-family=\"Courier,monospace\" font-weight=\"bold\" font-size=\"14.00\" fill=\"#004080\">Name</text>\n",
       "</g>\n",
       "<!-- 23&#45;&#45;24 -->\n",
       "<g id=\"edge24\" class=\"edge\">\n",
       "<title>23--24</title>\n",
       "<path fill=\"none\" stroke=\"black\" d=\"M914,-575C914,-575 896.64,-554.94 883.49,-539.74\"/>\n",
       "</g>\n",
       "<!-- 27 -->\n",
       "<g id=\"node28\" class=\"node\">\n",
       "<title>27</title>\n",
       "<text text-anchor=\"start\" x=\"926\" y=\"-519.3\" font-family=\"Courier,monospace\" font-weight=\"bold\" font-size=\"14.00\" fill=\"#004080\">Name</text>\n",
       "</g>\n",
       "<!-- 23&#45;&#45;27 -->\n",
       "<g id=\"edge27\" class=\"edge\">\n",
       "<title>23--27</title>\n",
       "<path fill=\"none\" stroke=\"black\" d=\"M914,-575C914,-575 925.19,-554.94 933.66,-539.74\"/>\n",
       "</g>\n",
       "<!-- 30 -->\n",
       "<g id=\"node31\" class=\"node\">\n",
       "<title>30</title>\n",
       "<text text-anchor=\"start\" x=\"1126.5\" y=\"-519.3\" font-family=\"Courier,monospace\" font-weight=\"bold\" font-size=\"14.00\" fill=\"#004080\">If</text>\n",
       "</g>\n",
       "<!-- 23&#45;&#45;30 -->\n",
       "<g id=\"edge30\" class=\"edge\">\n",
       "<title>23--30</title>\n",
       "<path fill=\"none\" stroke=\"black\" d=\"M914,-575C914,-575 1049.56,-543.1 1108.34,-529.27\"/>\n",
       "</g>\n",
       "<!-- 25 -->\n",
       "<g id=\"node26\" class=\"node\">\n",
       "<title>25</title>\n",
       "<text text-anchor=\"middle\" x=\"795\" y=\"-446.3\" font-family=\"Courier,monospace\" font-size=\"14.00\" fill=\"#008040\">&quot;c&quot;</text>\n",
       "</g>\n",
       "<!-- 24&#45;&#45;25 -->\n",
       "<g id=\"edge25\" class=\"edge\">\n",
       "<title>24--25</title>\n",
       "<path fill=\"none\" stroke=\"black\" d=\"M861,-503C861,-503 835.54,-482.94 816.25,-467.74\"/>\n",
       "</g>\n",
       "<!-- 26 -->\n",
       "<g id=\"node27\" class=\"node\">\n",
       "<title>26</title>\n",
       "<text text-anchor=\"middle\" x=\"869\" y=\"-446.3\" font-family=\"Courier,monospace\" font-size=\"14.00\" fill=\"#008040\">Store</text>\n",
       "</g>\n",
       "<!-- 24&#45;&#45;26 -->\n",
       "<g id=\"edge26\" class=\"edge\">\n",
       "<title>24--26</title>\n",
       "<path fill=\"none\" stroke=\"black\" d=\"M861,-503C861,-503 864.09,-482.94 866.42,-467.74\"/>\n",
       "</g>\n",
       "<!-- 28 -->\n",
       "<g id=\"node29\" class=\"node\">\n",
       "<title>28</title>\n",
       "<text text-anchor=\"middle\" x=\"943\" y=\"-446.3\" font-family=\"Courier,monospace\" font-size=\"14.00\" fill=\"#008040\">&quot;s&quot;</text>\n",
       "</g>\n",
       "<!-- 27&#45;&#45;28 -->\n",
       "<g id=\"edge28\" class=\"edge\">\n",
       "<title>27--28</title>\n",
       "<path fill=\"none\" stroke=\"black\" d=\"M950,-503C950,-503 947.3,-482.94 945.25,-467.74\"/>\n",
       "</g>\n",
       "<!-- 29 -->\n",
       "<g id=\"node30\" class=\"node\">\n",
       "<title>29</title>\n",
       "<text text-anchor=\"middle\" x=\"1015\" y=\"-446.3\" font-family=\"Courier,monospace\" font-size=\"14.00\" fill=\"#008040\">Load</text>\n",
       "</g>\n",
       "<!-- 27&#45;&#45;29 -->\n",
       "<g id=\"edge29\" class=\"edge\">\n",
       "<title>27--29</title>\n",
       "<path fill=\"none\" stroke=\"black\" d=\"M950,-503C950,-503 975.07,-482.94 994.08,-467.74\"/>\n",
       "</g>\n",
       "<!-- 31 -->\n",
       "<g id=\"node32\" class=\"node\">\n",
       "<title>31</title>\n",
       "<text text-anchor=\"start\" x=\"1068\" y=\"-447.3\" font-family=\"Courier,monospace\" font-weight=\"bold\" font-size=\"14.00\" fill=\"#004080\">BoolOp</text>\n",
       "</g>\n",
       "<!-- 30&#45;&#45;31 -->\n",
       "<g id=\"edge31\" class=\"edge\">\n",
       "<title>30--31</title>\n",
       "<path fill=\"none\" stroke=\"black\" d=\"M1144,-503C1144,-503 1124.33,-482.94 1109.42,-467.74\"/>\n",
       "</g>\n",
       "<!-- 45 -->\n",
       "<g id=\"node46\" class=\"node\">\n",
       "<title>45</title>\n",
       "<text text-anchor=\"start\" x=\"1152\" y=\"-447.3\" font-family=\"Courier,monospace\" font-weight=\"bold\" font-size=\"14.00\" fill=\"#004080\">Assign</text>\n",
       "</g>\n",
       "<!-- 30&#45;&#45;45 -->\n",
       "<g id=\"edge45\" class=\"edge\">\n",
       "<title>30--45</title>\n",
       "<path fill=\"none\" stroke=\"black\" d=\"M1144,-503C1144,-503 1156.73,-482.94 1166.38,-467.74\"/>\n",
       "</g>\n",
       "<!-- 51 -->\n",
       "<g id=\"node52\" class=\"node\">\n",
       "<title>51</title>\n",
       "<text text-anchor=\"start\" x=\"1453.5\" y=\"-447.3\" font-family=\"Courier,monospace\" font-weight=\"bold\" font-size=\"14.00\" fill=\"#004080\">If</text>\n",
       "</g>\n",
       "<!-- 30&#45;&#45;51 -->\n",
       "<g id=\"edge51\" class=\"edge\">\n",
       "<title>30--51</title>\n",
       "<path fill=\"none\" stroke=\"black\" d=\"M1144,-503C1144,-503 1358.5,-467.93 1435.16,-455.39\"/>\n",
       "</g>\n",
       "<!-- 32 -->\n",
       "<g id=\"node33\" class=\"node\">\n",
       "<title>32</title>\n",
       "<text text-anchor=\"middle\" x=\"755\" y=\"-374.3\" font-family=\"Courier,monospace\" font-size=\"14.00\" fill=\"#008040\">And</text>\n",
       "</g>\n",
       "<!-- 31&#45;&#45;32 -->\n",
       "<g id=\"edge32\" class=\"edge\">\n",
       "<title>31--32</title>\n",
       "<path fill=\"none\" stroke=\"black\" d=\"M1060,-436C1060,-436 1055.21,-433.2 1051,-432 938.82,-400 902.81,-429.29 791,-396 787.95,-395.09 784.84,-393.96 781.78,-392.72\"/>\n",
       "</g>\n",
       "<!-- 33 -->\n",
       "<g id=\"node34\" class=\"node\">\n",
       "<title>33</title>\n",
       "<text text-anchor=\"start\" x=\"808\" y=\"-375.3\" font-family=\"Courier,monospace\" font-weight=\"bold\" font-size=\"14.00\" fill=\"#004080\">Compare</text>\n",
       "</g>\n",
       "<!-- 31&#45;&#45;33 -->\n",
       "<g id=\"edge33\" class=\"edge\">\n",
       "<title>31--33</title>\n",
       "<path fill=\"none\" stroke=\"black\" d=\"M1060,-436C1060,-436 1055.14,-433.42 1051,-432 990.18,-411.13 917.02,-394.83 873.92,-386.09\"/>\n",
       "</g>\n",
       "<!-- 40 -->\n",
       "<g id=\"node41\" class=\"node\">\n",
       "<title>40</title>\n",
       "<text text-anchor=\"start\" x=\"967\" y=\"-375.3\" font-family=\"Courier,monospace\" font-weight=\"bold\" font-size=\"14.00\" fill=\"#004080\">UnaryOp</text>\n",
       "</g>\n",
       "<!-- 31&#45;&#45;40 -->\n",
       "<g id=\"edge40\" class=\"edge\">\n",
       "<title>31--40</title>\n",
       "<path fill=\"none\" stroke=\"black\" d=\"M1060,-436C1060,-436 1033.73,-412.61 1014.86,-395.79\"/>\n",
       "</g>\n",
       "<!-- 34 -->\n",
       "<g id=\"node35\" class=\"node\">\n",
       "<title>34</title>\n",
       "<text text-anchor=\"start\" x=\"661\" y=\"-303.3\" font-family=\"Courier,monospace\" font-weight=\"bold\" font-size=\"14.00\" fill=\"#004080\">Name</text>\n",
       "</g>\n",
       "<!-- 33&#45;&#45;34 -->\n",
       "<g id=\"edge34\" class=\"edge\">\n",
       "<title>33--34</title>\n",
       "<path fill=\"none\" stroke=\"black\" d=\"M822,-359C822,-359 760.91,-342.59 714,-324 711.04,-322.83 707.99,-321.53 704.96,-320.19\"/>\n",
       "</g>\n",
       "<!-- 37 -->\n",
       "<g id=\"node38\" class=\"node\">\n",
       "<title>37</title>\n",
       "<text text-anchor=\"middle\" x=\"750\" y=\"-302.3\" font-family=\"Courier,monospace\" font-size=\"14.00\" fill=\"#008040\">Eq</text>\n",
       "</g>\n",
       "<!-- 33&#45;&#45;37 -->\n",
       "<g id=\"edge37\" class=\"edge\">\n",
       "<title>33--37</title>\n",
       "<path fill=\"none\" stroke=\"black\" d=\"M822,-359C822,-359 794.23,-338.94 773.18,-323.74\"/>\n",
       "</g>\n",
       "<!-- 38 -->\n",
       "<g id=\"node39\" class=\"node\">\n",
       "<title>38</title>\n",
       "<text text-anchor=\"start\" x=\"803.5\" y=\"-303.3\" font-family=\"Courier,monospace\" font-weight=\"bold\" font-size=\"14.00\" fill=\"#004080\">Constant</text>\n",
       "</g>\n",
       "<!-- 33&#45;&#45;38 -->\n",
       "<g id=\"edge38\" class=\"edge\">\n",
       "<title>33--38</title>\n",
       "<path fill=\"none\" stroke=\"black\" d=\"M822,-359C822,-359 827.79,-338.94 832.17,-323.74\"/>\n",
       "</g>\n",
       "<!-- 35 -->\n",
       "<g id=\"node36\" class=\"node\">\n",
       "<title>35</title>\n",
       "<text text-anchor=\"middle\" x=\"642\" y=\"-230.3\" font-family=\"Courier,monospace\" font-size=\"14.00\" fill=\"#008040\">&quot;c&quot;</text>\n",
       "</g>\n",
       "<!-- 34&#45;&#45;35 -->\n",
       "<g id=\"edge35\" class=\"edge\">\n",
       "<title>34--35</title>\n",
       "<path fill=\"none\" stroke=\"black\" d=\"M678,-287C678,-287 664.11,-266.94 653.59,-251.74\"/>\n",
       "</g>\n",
       "<!-- 36 -->\n",
       "<g id=\"node37\" class=\"node\">\n",
       "<title>36</title>\n",
       "<text text-anchor=\"middle\" x=\"714\" y=\"-230.3\" font-family=\"Courier,monospace\" font-size=\"14.00\" fill=\"#008040\">Load</text>\n",
       "</g>\n",
       "<!-- 34&#45;&#45;36 -->\n",
       "<g id=\"edge36\" class=\"edge\">\n",
       "<title>34--36</title>\n",
       "<path fill=\"none\" stroke=\"black\" d=\"M678,-287C678,-287 691.89,-266.94 702.41,-251.74\"/>\n",
       "</g>\n",
       "<!-- 39 -->\n",
       "<g id=\"node40\" class=\"node\">\n",
       "<title>39</title>\n",
       "<text text-anchor=\"middle\" x=\"837\" y=\"-230.3\" font-family=\"Courier,monospace\" font-size=\"14.00\" fill=\"#008040\">&quot;&lt;&quot;</text>\n",
       "</g>\n",
       "<!-- 38&#45;&#45;39 -->\n",
       "<g id=\"edge39\" class=\"edge\">\n",
       "<title>38--39</title>\n",
       "<path fill=\"none\" stroke=\"black\" d=\"M837,-288.05C837,-277.05 837,-262.76 837,-251.79\"/>\n",
       "</g>\n",
       "<!-- 41 -->\n",
       "<g id=\"node42\" class=\"node\">\n",
       "<title>41</title>\n",
       "<text text-anchor=\"middle\" x=\"924\" y=\"-302.3\" font-family=\"Courier,monospace\" font-size=\"14.00\" fill=\"#008040\">Not</text>\n",
       "</g>\n",
       "<!-- 40&#45;&#45;41 -->\n",
       "<g id=\"edge41\" class=\"edge\">\n",
       "<title>40--41</title>\n",
       "<path fill=\"none\" stroke=\"black\" d=\"M989,-359C989,-359 963.93,-338.94 944.92,-323.74\"/>\n",
       "</g>\n",
       "<!-- 42 -->\n",
       "<g id=\"node43\" class=\"node\">\n",
       "<title>42</title>\n",
       "<text text-anchor=\"start\" x=\"979\" y=\"-303.3\" font-family=\"Courier,monospace\" font-weight=\"bold\" font-size=\"14.00\" fill=\"#004080\">Name</text>\n",
       "</g>\n",
       "<!-- 40&#45;&#45;42 -->\n",
       "<g id=\"edge42\" class=\"edge\">\n",
       "<title>40--42</title>\n",
       "<path fill=\"none\" stroke=\"black\" d=\"M989,-359C989,-359 991.7,-338.94 993.75,-323.74\"/>\n",
       "</g>\n",
       "<!-- 43 -->\n",
       "<g id=\"node44\" class=\"node\">\n",
       "<title>43</title>\n",
       "<text text-anchor=\"middle\" x=\"957\" y=\"-230.3\" font-family=\"Courier,monospace\" font-size=\"14.00\" fill=\"#008040\">&quot;quote&quot;</text>\n",
       "</g>\n",
       "<!-- 42&#45;&#45;43 -->\n",
       "<g id=\"edge43\" class=\"edge\">\n",
       "<title>42--43</title>\n",
       "<path fill=\"none\" stroke=\"black\" d=\"M996,-287C996,-287 980.96,-266.94 969.55,-251.74\"/>\n",
       "</g>\n",
       "<!-- 44 -->\n",
       "<g id=\"node45\" class=\"node\">\n",
       "<title>44</title>\n",
       "<text text-anchor=\"middle\" x=\"1039\" y=\"-230.3\" font-family=\"Courier,monospace\" font-size=\"14.00\" fill=\"#008040\">Load</text>\n",
       "</g>\n",
       "<!-- 42&#45;&#45;44 -->\n",
       "<g id=\"edge44\" class=\"edge\">\n",
       "<title>42--44</title>\n",
       "<path fill=\"none\" stroke=\"black\" d=\"M996,-287C996,-287 1012.59,-266.94 1025.16,-251.74\"/>\n",
       "</g>\n",
       "<!-- 46 -->\n",
       "<g id=\"node47\" class=\"node\">\n",
       "<title>46</title>\n",
       "<text text-anchor=\"start\" x=\"1116\" y=\"-375.3\" font-family=\"Courier,monospace\" font-weight=\"bold\" font-size=\"14.00\" fill=\"#004080\">Name</text>\n",
       "</g>\n",
       "<!-- 45&#45;&#45;46 -->\n",
       "<g id=\"edge46\" class=\"edge\">\n",
       "<title>45--46</title>\n",
       "<path fill=\"none\" stroke=\"black\" d=\"M1177,-431C1177,-431 1160.03,-410.94 1147.16,-395.74\"/>\n",
       "</g>\n",
       "<!-- 49 -->\n",
       "<g id=\"node50\" class=\"node\">\n",
       "<title>49</title>\n",
       "<text text-anchor=\"start\" x=\"1186.5\" y=\"-375.3\" font-family=\"Courier,monospace\" font-weight=\"bold\" font-size=\"14.00\" fill=\"#004080\">Constant</text>\n",
       "</g>\n",
       "<!-- 45&#45;&#45;49 -->\n",
       "<g id=\"edge49\" class=\"edge\">\n",
       "<title>45--49</title>\n",
       "<path fill=\"none\" stroke=\"black\" d=\"M1177,-431C1177,-431 1193.59,-410.94 1206.16,-395.74\"/>\n",
       "</g>\n",
       "<!-- 47 -->\n",
       "<g id=\"node48\" class=\"node\">\n",
       "<title>47</title>\n",
       "<text text-anchor=\"middle\" x=\"1070\" y=\"-302.3\" font-family=\"Courier,monospace\" font-size=\"14.00\" fill=\"#008040\">&quot;tag&quot;</text>\n",
       "</g>\n",
       "<!-- 46&#45;&#45;47 -->\n",
       "<g id=\"edge47\" class=\"edge\">\n",
       "<title>46--47</title>\n",
       "<path fill=\"none\" stroke=\"black\" d=\"M1128,-359C1128,-359 1105.63,-338.94 1088.67,-323.74\"/>\n",
       "</g>\n",
       "<!-- 48 -->\n",
       "<g id=\"node49\" class=\"node\">\n",
       "<title>48</title>\n",
       "<text text-anchor=\"middle\" x=\"1146\" y=\"-302.3\" font-family=\"Courier,monospace\" font-size=\"14.00\" fill=\"#008040\">Store</text>\n",
       "</g>\n",
       "<!-- 46&#45;&#45;48 -->\n",
       "<g id=\"edge48\" class=\"edge\">\n",
       "<title>46--48</title>\n",
       "<path fill=\"none\" stroke=\"black\" d=\"M1128,-359C1128,-359 1134.94,-338.94 1140.21,-323.74\"/>\n",
       "</g>\n",
       "<!-- 50 -->\n",
       "<g id=\"node51\" class=\"node\">\n",
       "<title>50</title>\n",
       "<text text-anchor=\"middle\" x=\"1220\" y=\"-302.3\" font-family=\"Courier,monospace\" font-size=\"14.00\" fill=\"#008040\">True</text>\n",
       "</g>\n",
       "<!-- 49&#45;&#45;50 -->\n",
       "<g id=\"edge50\" class=\"edge\">\n",
       "<title>49--50</title>\n",
       "<path fill=\"none\" stroke=\"black\" d=\"M1220,-360.05C1220,-349.05 1220,-334.76 1220,-323.79\"/>\n",
       "</g>\n",
       "<!-- 52 -->\n",
       "<g id=\"node53\" class=\"node\">\n",
       "<title>52</title>\n",
       "<text text-anchor=\"start\" x=\"1395\" y=\"-375.3\" font-family=\"Courier,monospace\" font-weight=\"bold\" font-size=\"14.00\" fill=\"#004080\">BoolOp</text>\n",
       "</g>\n",
       "<!-- 51&#45;&#45;52 -->\n",
       "<g id=\"edge52\" class=\"edge\">\n",
       "<title>51--52</title>\n",
       "<path fill=\"none\" stroke=\"black\" d=\"M1477,-431C1477,-431 1455.01,-410.94 1438.35,-395.74\"/>\n",
       "</g>\n",
       "<!-- 66 -->\n",
       "<g id=\"node67\" class=\"node\">\n",
       "<title>66</title>\n",
       "<text text-anchor=\"start\" x=\"1538\" y=\"-375.3\" font-family=\"Courier,monospace\" font-weight=\"bold\" font-size=\"14.00\" fill=\"#004080\">Assign</text>\n",
       "</g>\n",
       "<!-- 51&#45;&#45;66 -->\n",
       "<g id=\"edge66\" class=\"edge\">\n",
       "<title>51--66</title>\n",
       "<path fill=\"none\" stroke=\"black\" d=\"M1477,-431C1477,-431 1510.18,-410.94 1535.32,-395.74\"/>\n",
       "</g>\n",
       "<!-- 72 -->\n",
       "<g id=\"node73\" class=\"node\">\n",
       "<title>72</title>\n",
       "<text text-anchor=\"start\" x=\"1943.5\" y=\"-375.3\" font-family=\"Courier,monospace\" font-weight=\"bold\" font-size=\"14.00\" fill=\"#004080\">If</text>\n",
       "</g>\n",
       "<!-- 51&#45;&#45;72 -->\n",
       "<g id=\"edge72\" class=\"edge\">\n",
       "<title>51--72</title>\n",
       "<path fill=\"none\" stroke=\"black\" d=\"M1477,-431C1477,-431 1824.62,-392.95 1925.1,-381.94\"/>\n",
       "</g>\n",
       "<!-- 53 -->\n",
       "<g id=\"node54\" class=\"node\">\n",
       "<title>53</title>\n",
       "<text text-anchor=\"middle\" x=\"1292\" y=\"-302.3\" font-family=\"Courier,monospace\" font-size=\"14.00\" fill=\"#008040\">And</text>\n",
       "</g>\n",
       "<!-- 52&#45;&#45;53 -->\n",
       "<g id=\"edge53\" class=\"edge\">\n",
       "<title>52--53</title>\n",
       "<path fill=\"none\" stroke=\"black\" d=\"M1413,-359C1413,-359 1365.37,-340.51 1328,-324 1324.97,-322.66 1321.8,-321.22 1318.67,-319.78\"/>\n",
       "</g>\n",
       "<!-- 54 -->\n",
       "<g id=\"node55\" class=\"node\">\n",
       "<title>54</title>\n",
       "<text text-anchor=\"start\" x=\"1345\" y=\"-303.3\" font-family=\"Courier,monospace\" font-weight=\"bold\" font-size=\"14.00\" fill=\"#004080\">Compare</text>\n",
       "</g>\n",
       "<!-- 52&#45;&#45;54 -->\n",
       "<g id=\"edge54\" class=\"edge\">\n",
       "<title>52--54</title>\n",
       "<path fill=\"none\" stroke=\"black\" d=\"M1413,-359C1413,-359 1397.96,-338.94 1386.55,-323.74\"/>\n",
       "</g>\n",
       "<!-- 61 -->\n",
       "<g id=\"node62\" class=\"node\">\n",
       "<title>61</title>\n",
       "<text text-anchor=\"start\" x=\"1437\" y=\"-303.3\" font-family=\"Courier,monospace\" font-weight=\"bold\" font-size=\"14.00\" fill=\"#004080\">UnaryOp</text>\n",
       "</g>\n",
       "<!-- 52&#45;&#45;61 -->\n",
       "<g id=\"edge61\" class=\"edge\">\n",
       "<title>52--61</title>\n",
       "<path fill=\"none\" stroke=\"black\" d=\"M1413,-359C1413,-359 1433.45,-338.94 1448.94,-323.74\"/>\n",
       "</g>\n",
       "<!-- 55 -->\n",
       "<g id=\"node56\" class=\"node\">\n",
       "<title>55</title>\n",
       "<text text-anchor=\"start\" x=\"1131\" y=\"-231.3\" font-family=\"Courier,monospace\" font-weight=\"bold\" font-size=\"14.00\" fill=\"#004080\">Name</text>\n",
       "</g>\n",
       "<!-- 54&#45;&#45;55 -->\n",
       "<g id=\"edge55\" class=\"edge\">\n",
       "<title>54--55</title>\n",
       "<path fill=\"none\" stroke=\"black\" d=\"M1343,-287C1343,-287 1252.48,-275.37 1184,-252 1180.99,-250.97 1177.9,-249.77 1174.86,-248.48\"/>\n",
       "</g>\n",
       "<!-- 58 -->\n",
       "<g id=\"node59\" class=\"node\">\n",
       "<title>58</title>\n",
       "<text text-anchor=\"middle\" x=\"1220\" y=\"-230.3\" font-family=\"Courier,monospace\" font-size=\"14.00\" fill=\"#008040\">Eq</text>\n",
       "</g>\n",
       "<!-- 54&#45;&#45;58 -->\n",
       "<g id=\"edge58\" class=\"edge\">\n",
       "<title>54--58</title>\n",
       "<path fill=\"none\" stroke=\"black\" d=\"M1343,-287C1343,-287 1294.19,-268.68 1256,-252 1252.96,-250.67 1249.79,-249.24 1246.66,-247.8\"/>\n",
       "</g>\n",
       "<!-- 59 -->\n",
       "<g id=\"node60\" class=\"node\">\n",
       "<title>59</title>\n",
       "<text text-anchor=\"start\" x=\"1273.5\" y=\"-231.3\" font-family=\"Courier,monospace\" font-weight=\"bold\" font-size=\"14.00\" fill=\"#004080\">Constant</text>\n",
       "</g>\n",
       "<!-- 54&#45;&#45;59 -->\n",
       "<g id=\"edge59\" class=\"edge\">\n",
       "<title>54--59</title>\n",
       "<path fill=\"none\" stroke=\"black\" d=\"M1343,-287C1343,-287 1329.11,-266.94 1318.59,-251.74\"/>\n",
       "</g>\n",
       "<!-- 56 -->\n",
       "<g id=\"node57\" class=\"node\">\n",
       "<title>56</title>\n",
       "<text text-anchor=\"middle\" x=\"1112\" y=\"-158.3\" font-family=\"Courier,monospace\" font-size=\"14.00\" fill=\"#008040\">&quot;c&quot;</text>\n",
       "</g>\n",
       "<!-- 55&#45;&#45;56 -->\n",
       "<g id=\"edge56\" class=\"edge\">\n",
       "<title>55--56</title>\n",
       "<path fill=\"none\" stroke=\"black\" d=\"M1148,-215C1148,-215 1134.11,-194.94 1123.59,-179.74\"/>\n",
       "</g>\n",
       "<!-- 57 -->\n",
       "<g id=\"node58\" class=\"node\">\n",
       "<title>57</title>\n",
       "<text text-anchor=\"middle\" x=\"1184\" y=\"-158.3\" font-family=\"Courier,monospace\" font-size=\"14.00\" fill=\"#008040\">Load</text>\n",
       "</g>\n",
       "<!-- 55&#45;&#45;57 -->\n",
       "<g id=\"edge57\" class=\"edge\">\n",
       "<title>55--57</title>\n",
       "<path fill=\"none\" stroke=\"black\" d=\"M1148,-215C1148,-215 1161.89,-194.94 1172.41,-179.74\"/>\n",
       "</g>\n",
       "<!-- 60 -->\n",
       "<g id=\"node61\" class=\"node\">\n",
       "<title>60</title>\n",
       "<text text-anchor=\"middle\" x=\"1307\" y=\"-158.3\" font-family=\"Courier,monospace\" font-size=\"14.00\" fill=\"#008040\">&quot;&gt;&quot;</text>\n",
       "</g>\n",
       "<!-- 59&#45;&#45;60 -->\n",
       "<g id=\"edge60\" class=\"edge\">\n",
       "<title>59--60</title>\n",
       "<path fill=\"none\" stroke=\"black\" d=\"M1307,-216.05C1307,-205.05 1307,-190.76 1307,-179.79\"/>\n",
       "</g>\n",
       "<!-- 62 -->\n",
       "<g id=\"node63\" class=\"node\">\n",
       "<title>62</title>\n",
       "<text text-anchor=\"middle\" x=\"1394\" y=\"-230.3\" font-family=\"Courier,monospace\" font-size=\"14.00\" fill=\"#008040\">Not</text>\n",
       "</g>\n",
       "<!-- 61&#45;&#45;62 -->\n",
       "<g id=\"edge62\" class=\"edge\">\n",
       "<title>61--62</title>\n",
       "<path fill=\"none\" stroke=\"black\" d=\"M1459,-287C1459,-287 1433.93,-266.94 1414.92,-251.74\"/>\n",
       "</g>\n",
       "<!-- 63 -->\n",
       "<g id=\"node64\" class=\"node\">\n",
       "<title>63</title>\n",
       "<text text-anchor=\"start\" x=\"1449\" y=\"-231.3\" font-family=\"Courier,monospace\" font-weight=\"bold\" font-size=\"14.00\" fill=\"#004080\">Name</text>\n",
       "</g>\n",
       "<!-- 61&#45;&#45;63 -->\n",
       "<g id=\"edge63\" class=\"edge\">\n",
       "<title>61--63</title>\n",
       "<path fill=\"none\" stroke=\"black\" d=\"M1459,-287C1459,-287 1461.7,-266.94 1463.75,-251.74\"/>\n",
       "</g>\n",
       "<!-- 64 -->\n",
       "<g id=\"node65\" class=\"node\">\n",
       "<title>64</title>\n",
       "<text text-anchor=\"middle\" x=\"1421\" y=\"-158.3\" font-family=\"Courier,monospace\" font-size=\"14.00\" fill=\"#008040\">&quot;quote&quot;</text>\n",
       "</g>\n",
       "<!-- 63&#45;&#45;64 -->\n",
       "<g id=\"edge64\" class=\"edge\">\n",
       "<title>63--64</title>\n",
       "<path fill=\"none\" stroke=\"black\" d=\"M1465,-215C1465,-215 1448.03,-194.94 1435.16,-179.74\"/>\n",
       "</g>\n",
       "<!-- 65 -->\n",
       "<g id=\"node66\" class=\"node\">\n",
       "<title>65</title>\n",
       "<text text-anchor=\"middle\" x=\"1503\" y=\"-158.3\" font-family=\"Courier,monospace\" font-size=\"14.00\" fill=\"#008040\">Load</text>\n",
       "</g>\n",
       "<!-- 63&#45;&#45;65 -->\n",
       "<g id=\"edge65\" class=\"edge\">\n",
       "<title>63--65</title>\n",
       "<path fill=\"none\" stroke=\"black\" d=\"M1465,-215C1465,-215 1479.66,-194.94 1490.77,-179.74\"/>\n",
       "</g>\n",
       "<!-- 67 -->\n",
       "<g id=\"node68\" class=\"node\">\n",
       "<title>67</title>\n",
       "<text text-anchor=\"start\" x=\"1546\" y=\"-303.3\" font-family=\"Courier,monospace\" font-weight=\"bold\" font-size=\"14.00\" fill=\"#004080\">Name</text>\n",
       "</g>\n",
       "<!-- 66&#45;&#45;67 -->\n",
       "<g id=\"edge67\" class=\"edge\">\n",
       "<title>66--67</title>\n",
       "<path fill=\"none\" stroke=\"black\" d=\"M1573,-359C1573,-359 1569.14,-338.94 1566.22,-323.74\"/>\n",
       "</g>\n",
       "<!-- 70 -->\n",
       "<g id=\"node71\" class=\"node\">\n",
       "<title>70</title>\n",
       "<text text-anchor=\"start\" x=\"1644.5\" y=\"-303.3\" font-family=\"Courier,monospace\" font-weight=\"bold\" font-size=\"14.00\" fill=\"#004080\">Constant</text>\n",
       "</g>\n",
       "<!-- 66&#45;&#45;70 -->\n",
       "<g id=\"edge70\" class=\"edge\">\n",
       "<title>66--70</title>\n",
       "<path fill=\"none\" stroke=\"black\" d=\"M1573,-359C1573,-359 1613.25,-339.07 1643.91,-323.88\"/>\n",
       "</g>\n",
       "<!-- 68 -->\n",
       "<g id=\"node69\" class=\"node\">\n",
       "<title>68</title>\n",
       "<text text-anchor=\"middle\" x=\"1540\" y=\"-230.3\" font-family=\"Courier,monospace\" font-size=\"14.00\" fill=\"#008040\">&quot;tag&quot;</text>\n",
       "</g>\n",
       "<!-- 67&#45;&#45;68 -->\n",
       "<g id=\"edge68\" class=\"edge\">\n",
       "<title>67--68</title>\n",
       "<path fill=\"none\" stroke=\"black\" d=\"M1566,-287C1566,-287 1555.97,-266.94 1548.37,-251.74\"/>\n",
       "</g>\n",
       "<!-- 69 -->\n",
       "<g id=\"node70\" class=\"node\">\n",
       "<title>69</title>\n",
       "<text text-anchor=\"middle\" x=\"1616\" y=\"-230.3\" font-family=\"Courier,monospace\" font-size=\"14.00\" fill=\"#008040\">Store</text>\n",
       "</g>\n",
       "<!-- 67&#45;&#45;69 -->\n",
       "<g id=\"edge69\" class=\"edge\">\n",
       "<title>67--69</title>\n",
       "<path fill=\"none\" stroke=\"black\" d=\"M1566,-287C1566,-287 1585.29,-266.94 1599.9,-251.74\"/>\n",
       "</g>\n",
       "<!-- 71 -->\n",
       "<g id=\"node72\" class=\"node\">\n",
       "<title>71</title>\n",
       "<text text-anchor=\"middle\" x=\"1692\" y=\"-230.3\" font-family=\"Courier,monospace\" font-size=\"14.00\" fill=\"#008040\">False</text>\n",
       "</g>\n",
       "<!-- 70&#45;&#45;71 -->\n",
       "<g id=\"edge71\" class=\"edge\">\n",
       "<title>70--71</title>\n",
       "<path fill=\"none\" stroke=\"black\" d=\"M1681.39,-288.05C1683.59,-277.05 1686.45,-262.76 1688.64,-251.79\"/>\n",
       "</g>\n",
       "<!-- 73 -->\n",
       "<g id=\"node74\" class=\"node\">\n",
       "<title>73</title>\n",
       "<text text-anchor=\"start\" x=\"1861\" y=\"-303.3\" font-family=\"Courier,monospace\" font-weight=\"bold\" font-size=\"14.00\" fill=\"#004080\">BoolOp</text>\n",
       "</g>\n",
       "<!-- 72&#45;&#45;73 -->\n",
       "<g id=\"edge73\" class=\"edge\">\n",
       "<title>72--73</title>\n",
       "<path fill=\"none\" stroke=\"black\" d=\"M1963,-359C1963,-359 1933.3,-338.94 1910.79,-323.74\"/>\n",
       "</g>\n",
       "<!-- 94 -->\n",
       "<g id=\"node95\" class=\"node\">\n",
       "<title>94</title>\n",
       "<text text-anchor=\"start\" x=\"2020\" y=\"-303.3\" font-family=\"Courier,monospace\" font-weight=\"bold\" font-size=\"14.00\" fill=\"#004080\">Assign</text>\n",
       "</g>\n",
       "<!-- 72&#45;&#45;94 -->\n",
       "<g id=\"edge94\" class=\"edge\">\n",
       "<title>72--94</title>\n",
       "<path fill=\"none\" stroke=\"black\" d=\"M1963,-359C1963,-359 1994.63,-338.94 2018.6,-323.74\"/>\n",
       "</g>\n",
       "<!-- 103 -->\n",
       "<g id=\"node104\" class=\"node\">\n",
       "<title>103</title>\n",
       "<text text-anchor=\"start\" x=\"2114.5\" y=\"-303.3\" font-family=\"Courier,monospace\" font-weight=\"bold\" font-size=\"14.00\" fill=\"#004080\">If</text>\n",
       "</g>\n",
       "<!-- 72&#45;&#45;103 -->\n",
       "<g id=\"edge103\" class=\"edge\">\n",
       "<title>72--103</title>\n",
       "<path fill=\"none\" stroke=\"black\" d=\"M1963,-359C1963,-359 2033.37,-344.07 2087,-324 2089.98,-322.89 2093.05,-321.62 2096.08,-320.3\"/>\n",
       "</g>\n",
       "<!-- 74 -->\n",
       "<g id=\"node75\" class=\"node\">\n",
       "<title>74</title>\n",
       "<text text-anchor=\"middle\" x=\"1766\" y=\"-230.3\" font-family=\"Courier,monospace\" font-size=\"14.00\" fill=\"#008040\">Or</text>\n",
       "</g>\n",
       "<!-- 73&#45;&#45;74 -->\n",
       "<g id=\"edge74\" class=\"edge\">\n",
       "<title>73--74</title>\n",
       "<path fill=\"none\" stroke=\"black\" d=\"M1880,-287C1880,-287 1836.51,-267.89 1802,-252 1798.99,-250.61 1795.84,-249.15 1792.71,-247.68\"/>\n",
       "</g>\n",
       "<!-- 75 -->\n",
       "<g id=\"node76\" class=\"node\">\n",
       "<title>75</title>\n",
       "<text text-anchor=\"start\" x=\"1819\" y=\"-231.3\" font-family=\"Courier,monospace\" font-weight=\"bold\" font-size=\"14.00\" fill=\"#004080\">Compare</text>\n",
       "</g>\n",
       "<!-- 73&#45;&#45;75 -->\n",
       "<g id=\"edge75\" class=\"edge\">\n",
       "<title>73--75</title>\n",
       "<path fill=\"none\" stroke=\"black\" d=\"M1880,-287C1880,-287 1867.66,-266.94 1858.3,-251.74\"/>\n",
       "</g>\n",
       "<!-- 82 -->\n",
       "<g id=\"node83\" class=\"node\">\n",
       "<title>82</title>\n",
       "<text text-anchor=\"start\" x=\"1911\" y=\"-231.3\" font-family=\"Courier,monospace\" font-weight=\"bold\" font-size=\"14.00\" fill=\"#004080\">BoolOp</text>\n",
       "</g>\n",
       "<!-- 73&#45;&#45;82 -->\n",
       "<g id=\"edge82\" class=\"edge\">\n",
       "<title>73--82</title>\n",
       "<path fill=\"none\" stroke=\"black\" d=\"M1880,-287C1880,-287 1901.6,-266.94 1917.97,-251.74\"/>\n",
       "</g>\n",
       "<!-- 76 -->\n",
       "<g id=\"node77\" class=\"node\">\n",
       "<title>76</title>\n",
       "<text text-anchor=\"start\" x=\"1574\" y=\"-159.3\" font-family=\"Courier,monospace\" font-weight=\"bold\" font-size=\"14.00\" fill=\"#004080\">Name</text>\n",
       "</g>\n",
       "<!-- 75&#45;&#45;76 -->\n",
       "<g id=\"edge76\" class=\"edge\">\n",
       "<title>75--76</title>\n",
       "<path fill=\"none\" stroke=\"black\" d=\"M1811,-216C1811,-216 1706.17,-205.99 1627,-180 1623.98,-179.01 1620.88,-177.82 1617.83,-176.55\"/>\n",
       "</g>\n",
       "<!-- 79 -->\n",
       "<g id=\"node80\" class=\"node\">\n",
       "<title>79</title>\n",
       "<text text-anchor=\"middle\" x=\"1663\" y=\"-158.3\" font-family=\"Courier,monospace\" font-size=\"14.00\" fill=\"#008040\">Eq</text>\n",
       "</g>\n",
       "<!-- 75&#45;&#45;79 -->\n",
       "<g id=\"edge79\" class=\"edge\">\n",
       "<title>75--79</title>\n",
       "<path fill=\"none\" stroke=\"black\" d=\"M1811,-216C1811,-216 1747.63,-199.2 1699,-180 1696.04,-178.83 1692.99,-177.54 1689.96,-176.19\"/>\n",
       "</g>\n",
       "<!-- 80 -->\n",
       "<g id=\"node81\" class=\"node\">\n",
       "<title>80</title>\n",
       "<text text-anchor=\"start\" x=\"1716.5\" y=\"-159.3\" font-family=\"Courier,monospace\" font-weight=\"bold\" font-size=\"14.00\" fill=\"#004080\">Constant</text>\n",
       "</g>\n",
       "<!-- 75&#45;&#45;80 -->\n",
       "<g id=\"edge80\" class=\"edge\">\n",
       "<title>75--80</title>\n",
       "<path fill=\"none\" stroke=\"black\" d=\"M1811,-216C1811,-216 1787.17,-195.3 1769.3,-179.77\"/>\n",
       "</g>\n",
       "<!-- 77 -->\n",
       "<g id=\"node78\" class=\"node\">\n",
       "<title>77</title>\n",
       "<text text-anchor=\"middle\" x=\"1561\" y=\"-86.3\" font-family=\"Courier,monospace\" font-size=\"14.00\" fill=\"#008040\">&quot;c&quot;</text>\n",
       "</g>\n",
       "<!-- 76&#45;&#45;77 -->\n",
       "<g id=\"edge77\" class=\"edge\">\n",
       "<title>76--77</title>\n",
       "<path fill=\"none\" stroke=\"black\" d=\"M1592,-143C1592,-143 1580.04,-122.94 1570.98,-107.74\"/>\n",
       "</g>\n",
       "<!-- 78 -->\n",
       "<g id=\"node79\" class=\"node\">\n",
       "<title>78</title>\n",
       "<text text-anchor=\"middle\" x=\"1633\" y=\"-86.3\" font-family=\"Courier,monospace\" font-size=\"14.00\" fill=\"#008040\">Load</text>\n",
       "</g>\n",
       "<!-- 76&#45;&#45;78 -->\n",
       "<g id=\"edge78\" class=\"edge\">\n",
       "<title>76--78</title>\n",
       "<path fill=\"none\" stroke=\"black\" d=\"M1592,-143C1592,-143 1607.82,-122.94 1619.8,-107.74\"/>\n",
       "</g>\n",
       "<!-- 81 -->\n",
       "<g id=\"node82\" class=\"node\">\n",
       "<title>81</title>\n",
       "<text text-anchor=\"middle\" x=\"1717\" y=\"-86.3\" font-family=\"Courier,monospace\" font-size=\"14.00\" fill=\"#008040\">&quot;&quot;&quot;</text>\n",
       "</g>\n",
       "<!-- 80&#45;&#45;81 -->\n",
       "<g id=\"edge81\" class=\"edge\">\n",
       "<title>80--81</title>\n",
       "<path fill=\"none\" stroke=\"black\" d=\"M1742.01,-144.05C1736.82,-133.05 1730.09,-118.76 1724.91,-107.79\"/>\n",
       "</g>\n",
       "<!-- 83 -->\n",
       "<g id=\"node84\" class=\"node\">\n",
       "<title>83</title>\n",
       "<text text-anchor=\"middle\" x=\"1837\" y=\"-158.3\" font-family=\"Courier,monospace\" font-size=\"14.00\" fill=\"#008040\">And</text>\n",
       "</g>\n",
       "<!-- 82&#45;&#45;83 -->\n",
       "<g id=\"edge83\" class=\"edge\">\n",
       "<title>82--83</title>\n",
       "<path fill=\"none\" stroke=\"black\" d=\"M1933,-215C1933,-215 1892.39,-193 1864,-177.62\"/>\n",
       "</g>\n",
       "<!-- 84 -->\n",
       "<g id=\"node85\" class=\"node\">\n",
       "<title>84</title>\n",
       "<text text-anchor=\"start\" x=\"1890\" y=\"-159.3\" font-family=\"Courier,monospace\" font-weight=\"bold\" font-size=\"14.00\" fill=\"#004080\">Compare</text>\n",
       "</g>\n",
       "<!-- 82&#45;&#45;84 -->\n",
       "<g id=\"edge84\" class=\"edge\">\n",
       "<title>82--84</title>\n",
       "<path fill=\"none\" stroke=\"black\" d=\"M1933,-215C1933,-215 1927.6,-194.94 1923.51,-179.74\"/>\n",
       "</g>\n",
       "<!-- 91 -->\n",
       "<g id=\"node92\" class=\"node\">\n",
       "<title>91</title>\n",
       "<text text-anchor=\"start\" x=\"1984\" y=\"-159.3\" font-family=\"Courier,monospace\" font-weight=\"bold\" font-size=\"14.00\" fill=\"#004080\">Name</text>\n",
       "</g>\n",
       "<!-- 82&#45;&#45;91 -->\n",
       "<g id=\"edge91\" class=\"edge\">\n",
       "<title>82--91</title>\n",
       "<path fill=\"none\" stroke=\"black\" d=\"M1933,-215C1933,-215 1959.23,-194.94 1979.11,-179.74\"/>\n",
       "</g>\n",
       "<!-- 85 -->\n",
       "<g id=\"node86\" class=\"node\">\n",
       "<title>85</title>\n",
       "<text text-anchor=\"start\" x=\"1772\" y=\"-87.3\" font-family=\"Courier,monospace\" font-weight=\"bold\" font-size=\"14.00\" fill=\"#004080\">Name</text>\n",
       "</g>\n",
       "<!-- 84&#45;&#45;85 -->\n",
       "<g id=\"edge85\" class=\"edge\">\n",
       "<title>84--85</title>\n",
       "<path fill=\"none\" stroke=\"black\" d=\"M1910,-143C1910,-143 1862.37,-124.51 1825,-108 1821.97,-106.66 1818.8,-105.22 1815.67,-103.78\"/>\n",
       "</g>\n",
       "<!-- 88 -->\n",
       "<g id=\"node89\" class=\"node\">\n",
       "<title>88</title>\n",
       "<text text-anchor=\"middle\" x=\"1861\" y=\"-86.3\" font-family=\"Courier,monospace\" font-size=\"14.00\" fill=\"#008040\">Eq</text>\n",
       "</g>\n",
       "<!-- 84&#45;&#45;88 -->\n",
       "<g id=\"edge88\" class=\"edge\">\n",
       "<title>84--88</title>\n",
       "<path fill=\"none\" stroke=\"black\" d=\"M1910,-143C1910,-143 1891.1,-122.94 1876.77,-107.74\"/>\n",
       "</g>\n",
       "<!-- 89 -->\n",
       "<g id=\"node90\" class=\"node\">\n",
       "<title>89</title>\n",
       "<text text-anchor=\"start\" x=\"1914.5\" y=\"-87.3\" font-family=\"Courier,monospace\" font-weight=\"bold\" font-size=\"14.00\" fill=\"#004080\">Constant</text>\n",
       "</g>\n",
       "<!-- 84&#45;&#45;89 -->\n",
       "<g id=\"edge89\" class=\"edge\">\n",
       "<title>84--89</title>\n",
       "<path fill=\"none\" stroke=\"black\" d=\"M1910,-143C1910,-143 1924.66,-122.94 1935.77,-107.74\"/>\n",
       "</g>\n",
       "<!-- 86 -->\n",
       "<g id=\"node87\" class=\"node\">\n",
       "<title>86</title>\n",
       "<text text-anchor=\"middle\" x=\"1753\" y=\"-14.3\" font-family=\"Courier,monospace\" font-size=\"14.00\" fill=\"#008040\">&quot;c&quot;</text>\n",
       "</g>\n",
       "<!-- 85&#45;&#45;86 -->\n",
       "<g id=\"edge86\" class=\"edge\">\n",
       "<title>85--86</title>\n",
       "<path fill=\"none\" stroke=\"black\" d=\"M1789,-71C1789,-71 1775.11,-50.94 1764.59,-35.74\"/>\n",
       "</g>\n",
       "<!-- 87 -->\n",
       "<g id=\"node88\" class=\"node\">\n",
       "<title>87</title>\n",
       "<text text-anchor=\"middle\" x=\"1825\" y=\"-14.3\" font-family=\"Courier,monospace\" font-size=\"14.00\" fill=\"#008040\">Load</text>\n",
       "</g>\n",
       "<!-- 85&#45;&#45;87 -->\n",
       "<g id=\"edge87\" class=\"edge\">\n",
       "<title>85--87</title>\n",
       "<path fill=\"none\" stroke=\"black\" d=\"M1789,-71C1789,-71 1802.89,-50.94 1813.41,-35.74\"/>\n",
       "</g>\n",
       "<!-- 90 -->\n",
       "<g id=\"node91\" class=\"node\">\n",
       "<title>90</title>\n",
       "<text text-anchor=\"middle\" x=\"1948\" y=\"-14.3\" font-family=\"Courier,monospace\" font-size=\"14.00\" fill=\"#008040\">&quot;'&quot;</text>\n",
       "</g>\n",
       "<!-- 89&#45;&#45;90 -->\n",
       "<g id=\"edge90\" class=\"edge\">\n",
       "<title>89--90</title>\n",
       "<path fill=\"none\" stroke=\"black\" d=\"M1948,-72.05C1948,-61.05 1948,-46.76 1948,-35.79\"/>\n",
       "</g>\n",
       "<!-- 92 -->\n",
       "<g id=\"node93\" class=\"node\">\n",
       "<title>92</title>\n",
       "<text text-anchor=\"middle\" x=\"2037\" y=\"-86.3\" font-family=\"Courier,monospace\" font-size=\"14.00\" fill=\"#008040\">&quot;tag&quot;</text>\n",
       "</g>\n",
       "<!-- 91&#45;&#45;92 -->\n",
       "<g id=\"edge92\" class=\"edge\">\n",
       "<title>91--92</title>\n",
       "<path fill=\"none\" stroke=\"black\" d=\"M2017,-143C2017,-143 2024.72,-122.94 2030.56,-107.74\"/>\n",
       "</g>\n",
       "<!-- 93 -->\n",
       "<g id=\"node94\" class=\"node\">\n",
       "<title>93</title>\n",
       "<text text-anchor=\"middle\" x=\"2111\" y=\"-86.3\" font-family=\"Courier,monospace\" font-size=\"14.00\" fill=\"#008040\">Load</text>\n",
       "</g>\n",
       "<!-- 91&#45;&#45;93 -->\n",
       "<g id=\"edge93\" class=\"edge\">\n",
       "<title>91--93</title>\n",
       "<path fill=\"none\" stroke=\"black\" d=\"M2017,-143C2017,-143 2056.29,-121.27 2084.06,-105.9\"/>\n",
       "</g>\n",
       "<!-- 95 -->\n",
       "<g id=\"node96\" class=\"node\">\n",
       "<title>95</title>\n",
       "<text text-anchor=\"start\" x=\"2066\" y=\"-231.3\" font-family=\"Courier,monospace\" font-weight=\"bold\" font-size=\"14.00\" fill=\"#004080\">Name</text>\n",
       "</g>\n",
       "<!-- 94&#45;&#45;95 -->\n",
       "<g id=\"edge95\" class=\"edge\">\n",
       "<title>94--95</title>\n",
       "<path fill=\"none\" stroke=\"black\" d=\"M2065,-287C2065,-287 2071.94,-266.94 2077.21,-251.74\"/>\n",
       "</g>\n",
       "<!-- 98 -->\n",
       "<g id=\"node99\" class=\"node\">\n",
       "<title>98</title>\n",
       "<text text-anchor=\"start\" x=\"2212\" y=\"-231.3\" font-family=\"Courier,monospace\" font-weight=\"bold\" font-size=\"14.00\" fill=\"#004080\">UnaryOp</text>\n",
       "</g>\n",
       "<!-- 94&#45;&#45;98 -->\n",
       "<g id=\"edge98\" class=\"edge\">\n",
       "<title>94--98</title>\n",
       "<path fill=\"none\" stroke=\"black\" d=\"M2065,-287C2065,-287 2152.5,-261.15 2204.1,-245.9\"/>\n",
       "</g>\n",
       "<!-- 96 -->\n",
       "<g id=\"node97\" class=\"node\">\n",
       "<title>96</title>\n",
       "<text text-anchor=\"middle\" x=\"2083\" y=\"-158.3\" font-family=\"Courier,monospace\" font-size=\"14.00\" fill=\"#008040\">&quot;quote&quot;</text>\n",
       "</g>\n",
       "<!-- 95&#45;&#45;96 -->\n",
       "<g id=\"edge96\" class=\"edge\">\n",
       "<title>95--96</title>\n",
       "<path fill=\"none\" stroke=\"black\" d=\"M2091,-215C2091,-215 2087.91,-194.94 2085.58,-179.74\"/>\n",
       "</g>\n",
       "<!-- 97 -->\n",
       "<g id=\"node98\" class=\"node\">\n",
       "<title>97</title>\n",
       "<text text-anchor=\"middle\" x=\"2167\" y=\"-158.3\" font-family=\"Courier,monospace\" font-size=\"14.00\" fill=\"#008040\">Store</text>\n",
       "</g>\n",
       "<!-- 95&#45;&#45;97 -->\n",
       "<g id=\"edge97\" class=\"edge\">\n",
       "<title>95--97</title>\n",
       "<path fill=\"none\" stroke=\"black\" d=\"M2091,-215C2091,-215 2120.32,-194.94 2142.53,-179.74\"/>\n",
       "</g>\n",
       "<!-- 99 -->\n",
       "<g id=\"node100\" class=\"node\">\n",
       "<title>99</title>\n",
       "<text text-anchor=\"middle\" x=\"2241\" y=\"-158.3\" font-family=\"Courier,monospace\" font-size=\"14.00\" fill=\"#008040\">Not</text>\n",
       "</g>\n",
       "<!-- 98&#45;&#45;99 -->\n",
       "<g id=\"edge99\" class=\"edge\">\n",
       "<title>98--99</title>\n",
       "<path fill=\"none\" stroke=\"black\" d=\"M2248,-215C2248,-215 2245.3,-194.94 2243.25,-179.74\"/>\n",
       "</g>\n",
       "<!-- 100 -->\n",
       "<g id=\"node101\" class=\"node\">\n",
       "<title>100</title>\n",
       "<text text-anchor=\"start\" x=\"2296\" y=\"-159.3\" font-family=\"Courier,monospace\" font-weight=\"bold\" font-size=\"14.00\" fill=\"#004080\">Name</text>\n",
       "</g>\n",
       "<!-- 98&#45;&#45;100 -->\n",
       "<g id=\"edge100\" class=\"edge\">\n",
       "<title>98--100</title>\n",
       "<path fill=\"none\" stroke=\"black\" d=\"M2248,-215C2248,-215 2273.07,-194.94 2292.08,-179.74\"/>\n",
       "</g>\n",
       "<!-- 101 -->\n",
       "<g id=\"node102\" class=\"node\">\n",
       "<title>101</title>\n",
       "<text text-anchor=\"middle\" x=\"2231\" y=\"-86.3\" font-family=\"Courier,monospace\" font-size=\"14.00\" fill=\"#008040\">&quot;quote&quot;</text>\n",
       "</g>\n",
       "<!-- 100&#45;&#45;101 -->\n",
       "<g id=\"edge101\" class=\"edge\">\n",
       "<title>100--101</title>\n",
       "<path fill=\"none\" stroke=\"black\" d=\"M2305,-143C2305,-143 2276.45,-122.94 2254.82,-107.74\"/>\n",
       "</g>\n",
       "<!-- 102 -->\n",
       "<g id=\"node103\" class=\"node\">\n",
       "<title>102</title>\n",
       "<text text-anchor=\"middle\" x=\"2313\" y=\"-86.3\" font-family=\"Courier,monospace\" font-size=\"14.00\" fill=\"#008040\">Load</text>\n",
       "</g>\n",
       "<!-- 100&#45;&#45;102 -->\n",
       "<g id=\"edge102\" class=\"edge\">\n",
       "<title>100--102</title>\n",
       "<path fill=\"none\" stroke=\"black\" d=\"M2305,-143C2305,-143 2308.09,-122.94 2310.42,-107.74\"/>\n",
       "</g>\n",
       "<!-- 104 -->\n",
       "<g id=\"node105\" class=\"node\">\n",
       "<title>104</title>\n",
       "<text text-anchor=\"start\" x=\"2356\" y=\"-231.3\" font-family=\"Courier,monospace\" font-weight=\"bold\" font-size=\"14.00\" fill=\"#004080\">UnaryOp</text>\n",
       "</g>\n",
       "<!-- 103&#45;&#45;104 -->\n",
       "<g id=\"edge104\" class=\"edge\">\n",
       "<title>103--104</title>\n",
       "<path fill=\"none\" stroke=\"black\" d=\"M2150,-299C2150,-299 2153.64,-291.34 2159,-288 2174.99,-278.03 2288.21,-254.34 2348.08,-242.3\"/>\n",
       "</g>\n",
       "<!-- 109 -->\n",
       "<g id=\"node110\" class=\"node\">\n",
       "<title>109</title>\n",
       "<text text-anchor=\"start\" x=\"2548\" y=\"-231.3\" font-family=\"Courier,monospace\" font-weight=\"bold\" font-size=\"14.00\" fill=\"#004080\">Assign</text>\n",
       "</g>\n",
       "<!-- 103&#45;&#45;109 -->\n",
       "<g id=\"edge109\" class=\"edge\">\n",
       "<title>103--109</title>\n",
       "<path fill=\"none\" stroke=\"black\" d=\"M2150,-299C2150,-299 2153.48,-291.06 2159,-288 2163.19,-285.68 2443.04,-251.02 2540.2,-239.04\"/>\n",
       "</g>\n",
       "<!-- 105 -->\n",
       "<g id=\"node106\" class=\"node\">\n",
       "<title>105</title>\n",
       "<text text-anchor=\"middle\" x=\"2385\" y=\"-158.3\" font-family=\"Courier,monospace\" font-size=\"14.00\" fill=\"#008040\">Not</text>\n",
       "</g>\n",
       "<!-- 104&#45;&#45;105 -->\n",
       "<g id=\"edge105\" class=\"edge\">\n",
       "<title>104--105</title>\n",
       "<path fill=\"none\" stroke=\"black\" d=\"M2392,-215C2392,-215 2389.3,-194.94 2387.25,-179.74\"/>\n",
       "</g>\n",
       "<!-- 106 -->\n",
       "<g id=\"node107\" class=\"node\">\n",
       "<title>106</title>\n",
       "<text text-anchor=\"start\" x=\"2440\" y=\"-159.3\" font-family=\"Courier,monospace\" font-weight=\"bold\" font-size=\"14.00\" fill=\"#004080\">Name</text>\n",
       "</g>\n",
       "<!-- 104&#45;&#45;106 -->\n",
       "<g id=\"edge106\" class=\"edge\">\n",
       "<title>104--106</title>\n",
       "<path fill=\"none\" stroke=\"black\" d=\"M2392,-215C2392,-215 2417.07,-194.94 2436.08,-179.74\"/>\n",
       "</g>\n",
       "<!-- 107 -->\n",
       "<g id=\"node108\" class=\"node\">\n",
       "<title>107</title>\n",
       "<text text-anchor=\"middle\" x=\"2387\" y=\"-86.3\" font-family=\"Courier,monospace\" font-size=\"14.00\" fill=\"#008040\">&quot;tag&quot;</text>\n",
       "</g>\n",
       "<!-- 106&#45;&#45;107 -->\n",
       "<g id=\"edge107\" class=\"edge\">\n",
       "<title>106--107</title>\n",
       "<path fill=\"none\" stroke=\"black\" d=\"M2450,-143C2450,-143 2425.7,-122.94 2407.28,-107.74\"/>\n",
       "</g>\n",
       "<!-- 108 -->\n",
       "<g id=\"node109\" class=\"node\">\n",
       "<title>108</title>\n",
       "<text text-anchor=\"middle\" x=\"2461\" y=\"-86.3\" font-family=\"Courier,monospace\" font-size=\"14.00\" fill=\"#008040\">Load</text>\n",
       "</g>\n",
       "<!-- 106&#45;&#45;108 -->\n",
       "<g id=\"edge108\" class=\"edge\">\n",
       "<title>106--108</title>\n",
       "<path fill=\"none\" stroke=\"black\" d=\"M2450,-143C2450,-143 2454.24,-122.94 2457.46,-107.74\"/>\n",
       "</g>\n",
       "<!-- 110 -->\n",
       "<g id=\"node111\" class=\"node\">\n",
       "<title>110</title>\n",
       "<text text-anchor=\"start\" x=\"2556\" y=\"-159.3\" font-family=\"Courier,monospace\" font-weight=\"bold\" font-size=\"14.00\" fill=\"#004080\">Name</text>\n",
       "</g>\n",
       "<!-- 109&#45;&#45;110 -->\n",
       "<g id=\"edge110\" class=\"edge\">\n",
       "<title>109--110</title>\n",
       "<path fill=\"none\" stroke=\"black\" d=\"M2584,-215C2584,-215 2579.76,-194.94 2576.54,-179.74\"/>\n",
       "</g>\n",
       "<!-- 113 -->\n",
       "<g id=\"node114\" class=\"node\">\n",
       "<title>113</title>\n",
       "<text text-anchor=\"start\" x=\"2700\" y=\"-159.3\" font-family=\"Courier,monospace\" font-weight=\"bold\" font-size=\"14.00\" fill=\"#004080\">BinOp</text>\n",
       "</g>\n",
       "<!-- 109&#45;&#45;113 -->\n",
       "<g id=\"edge113\" class=\"edge\">\n",
       "<title>109--113</title>\n",
       "<path fill=\"none\" stroke=\"black\" d=\"M2584,-215C2584,-215 2652.11,-189.15 2692.28,-173.9\"/>\n",
       "</g>\n",
       "<!-- 111 -->\n",
       "<g id=\"node112\" class=\"node\">\n",
       "<title>111</title>\n",
       "<text text-anchor=\"middle\" x=\"2535\" y=\"-86.3\" font-family=\"Courier,monospace\" font-size=\"14.00\" fill=\"#008040\">&quot;out&quot;</text>\n",
       "</g>\n",
       "<!-- 110&#45;&#45;111 -->\n",
       "<g id=\"edge111\" class=\"edge\">\n",
       "<title>110--111</title>\n",
       "<path fill=\"none\" stroke=\"black\" d=\"M2573,-143C2573,-143 2558.34,-122.94 2547.23,-107.74\"/>\n",
       "</g>\n",
       "<!-- 112 -->\n",
       "<g id=\"node113\" class=\"node\">\n",
       "<title>112</title>\n",
       "<text text-anchor=\"middle\" x=\"2611\" y=\"-86.3\" font-family=\"Courier,monospace\" font-size=\"14.00\" fill=\"#008040\">Store</text>\n",
       "</g>\n",
       "<!-- 110&#45;&#45;112 -->\n",
       "<g id=\"edge112\" class=\"edge\">\n",
       "<title>110--112</title>\n",
       "<path fill=\"none\" stroke=\"black\" d=\"M2573,-143C2573,-143 2587.66,-122.94 2598.77,-107.74\"/>\n",
       "</g>\n",
       "<!-- 114 -->\n",
       "<g id=\"node115\" class=\"node\">\n",
       "<title>114</title>\n",
       "<text text-anchor=\"start\" x=\"2668\" y=\"-87.3\" font-family=\"Courier,monospace\" font-weight=\"bold\" font-size=\"14.00\" fill=\"#004080\">Name</text>\n",
       "</g>\n",
       "<!-- 113&#45;&#45;114 -->\n",
       "<g id=\"edge114\" class=\"edge\">\n",
       "<title>113--114</title>\n",
       "<path fill=\"none\" stroke=\"black\" d=\"M2727,-143C2727,-143 2710.8,-122.94 2698.52,-107.74\"/>\n",
       "</g>\n",
       "<!-- 117 -->\n",
       "<g id=\"node118\" class=\"node\">\n",
       "<title>117</title>\n",
       "<text text-anchor=\"middle\" x=\"2757\" y=\"-86.3\" font-family=\"Courier,monospace\" font-size=\"14.00\" fill=\"#008040\">Add</text>\n",
       "</g>\n",
       "<!-- 113&#45;&#45;117 -->\n",
       "<g id=\"edge117\" class=\"edge\">\n",
       "<title>113--117</title>\n",
       "<path fill=\"none\" stroke=\"black\" d=\"M2727,-143C2727,-143 2738.57,-122.94 2747.34,-107.74\"/>\n",
       "</g>\n",
       "<!-- 118 -->\n",
       "<g id=\"node119\" class=\"node\">\n",
       "<title>118</title>\n",
       "<text text-anchor=\"start\" x=\"2812\" y=\"-87.3\" font-family=\"Courier,monospace\" font-weight=\"bold\" font-size=\"14.00\" fill=\"#004080\">Name</text>\n",
       "</g>\n",
       "<!-- 113&#45;&#45;118 -->\n",
       "<g id=\"edge118\" class=\"edge\">\n",
       "<title>113--118</title>\n",
       "<path fill=\"none\" stroke=\"black\" d=\"M2727,-143C2727,-143 2771.98,-120.07 2802.2,-104.66\"/>\n",
       "</g>\n",
       "<!-- 115 -->\n",
       "<g id=\"node116\" class=\"node\">\n",
       "<title>115</title>\n",
       "<text text-anchor=\"middle\" x=\"2629\" y=\"-14.3\" font-family=\"Courier,monospace\" font-size=\"14.00\" fill=\"#008040\">&quot;out&quot;</text>\n",
       "</g>\n",
       "<!-- 114&#45;&#45;115 -->\n",
       "<g id=\"edge115\" class=\"edge\">\n",
       "<title>114--115</title>\n",
       "<path fill=\"none\" stroke=\"black\" d=\"M2681,-71C2681,-71 2660.94,-50.94 2645.74,-35.74\"/>\n",
       "</g>\n",
       "<!-- 116 -->\n",
       "<g id=\"node117\" class=\"node\">\n",
       "<title>116</title>\n",
       "<text text-anchor=\"middle\" x=\"2703\" y=\"-14.3\" font-family=\"Courier,monospace\" font-size=\"14.00\" fill=\"#008040\">Load</text>\n",
       "</g>\n",
       "<!-- 114&#45;&#45;116 -->\n",
       "<g id=\"edge116\" class=\"edge\">\n",
       "<title>114--116</title>\n",
       "<path fill=\"none\" stroke=\"black\" d=\"M2681,-71C2681,-71 2689.49,-50.94 2695.92,-35.74\"/>\n",
       "</g>\n",
       "<!-- 119 -->\n",
       "<g id=\"node120\" class=\"node\">\n",
       "<title>119</title>\n",
       "<text text-anchor=\"middle\" x=\"2811\" y=\"-14.3\" font-family=\"Courier,monospace\" font-size=\"14.00\" fill=\"#008040\">&quot;c&quot;</text>\n",
       "</g>\n",
       "<!-- 118&#45;&#45;119 -->\n",
       "<g id=\"edge119\" class=\"edge\">\n",
       "<title>118--119</title>\n",
       "<path fill=\"none\" stroke=\"black\" d=\"M2833,-71C2833,-71 2824.51,-50.94 2818.08,-35.74\"/>\n",
       "</g>\n",
       "<!-- 120 -->\n",
       "<g id=\"node121\" class=\"node\">\n",
       "<title>120</title>\n",
       "<text text-anchor=\"middle\" x=\"2883\" y=\"-14.3\" font-family=\"Courier,monospace\" font-size=\"14.00\" fill=\"#008040\">Load</text>\n",
       "</g>\n",
       "<!-- 118&#45;&#45;120 -->\n",
       "<g id=\"edge120\" class=\"edge\">\n",
       "<title>118--120</title>\n",
       "<path fill=\"none\" stroke=\"black\" d=\"M2833,-71C2833,-71 2852.29,-50.94 2866.9,-35.74\"/>\n",
       "</g>\n",
       "<!-- 122 -->\n",
       "<g id=\"node123\" class=\"node\">\n",
       "<title>122</title>\n",
       "<text text-anchor=\"start\" x=\"2158\" y=\"-519.3\" font-family=\"Courier,monospace\" font-weight=\"bold\" font-size=\"14.00\" fill=\"#004080\">BoolOp</text>\n",
       "</g>\n",
       "<!-- 121&#45;&#45;122 -->\n",
       "<g id=\"edge122\" class=\"edge\">\n",
       "<title>121--122</title>\n",
       "<path fill=\"none\" stroke=\"black\" d=\"M1599.68,-589.29C1706.26,-577.17 2043.02,-538.91 2150.02,-526.75\"/>\n",
       "</g>\n",
       "<!-- 123 -->\n",
       "<g id=\"node124\" class=\"node\">\n",
       "<title>123</title>\n",
       "<text text-anchor=\"middle\" x=\"2142\" y=\"-446.3\" font-family=\"Courier,monospace\" font-size=\"14.00\" fill=\"#008040\">And</text>\n",
       "</g>\n",
       "<!-- 122&#45;&#45;123 -->\n",
       "<g id=\"edge123\" class=\"edge\">\n",
       "<title>122--123</title>\n",
       "<path fill=\"none\" stroke=\"black\" d=\"M2191,-503C2191,-503 2172.1,-482.94 2157.77,-467.74\"/>\n",
       "</g>\n",
       "<!-- 124 -->\n",
       "<g id=\"node125\" class=\"node\">\n",
       "<title>124</title>\n",
       "<text text-anchor=\"start\" x=\"2195\" y=\"-447.3\" font-family=\"Courier,monospace\" font-weight=\"bold\" font-size=\"14.00\" fill=\"#004080\">Compare</text>\n",
       "</g>\n",
       "<!-- 122&#45;&#45;124 -->\n",
       "<g id=\"edge124\" class=\"edge\">\n",
       "<title>122--124</title>\n",
       "<path fill=\"none\" stroke=\"black\" d=\"M2191,-503C2191,-503 2203.73,-482.94 2213.38,-467.74\"/>\n",
       "</g>\n",
       "<!-- 131 -->\n",
       "<g id=\"node132\" class=\"node\">\n",
       "<title>131</title>\n",
       "<text text-anchor=\"start\" x=\"2356\" y=\"-447.3\" font-family=\"Courier,monospace\" font-weight=\"bold\" font-size=\"14.00\" fill=\"#004080\">Compare</text>\n",
       "</g>\n",
       "<!-- 122&#45;&#45;131 -->\n",
       "<g id=\"edge131\" class=\"edge\">\n",
       "<title>122--131</title>\n",
       "<path fill=\"none\" stroke=\"black\" d=\"M2191,-503C2191,-503 2291.77,-475.99 2348.05,-460.9\"/>\n",
       "</g>\n",
       "<!-- 125 -->\n",
       "<g id=\"node126\" class=\"node\">\n",
       "<title>125</title>\n",
       "<text text-anchor=\"start\" x=\"2101.5\" y=\"-375.3\" font-family=\"Courier,monospace\" font-weight=\"bold\" font-size=\"14.00\" fill=\"#004080\">Constant</text>\n",
       "</g>\n",
       "<!-- 124&#45;&#45;125 -->\n",
       "<g id=\"edge125\" class=\"edge\">\n",
       "<title>124--125</title>\n",
       "<path fill=\"none\" stroke=\"black\" d=\"M2224,-431C2224,-431 2189.67,-410.94 2163.65,-395.74\"/>\n",
       "</g>\n",
       "<!-- 127 -->\n",
       "<g id=\"node128\" class=\"node\">\n",
       "<title>127</title>\n",
       "<text text-anchor=\"middle\" x=\"2224\" y=\"-374.3\" font-family=\"Courier,monospace\" font-size=\"14.00\" fill=\"#008040\">NotIn</text>\n",
       "</g>\n",
       "<!-- 124&#45;&#45;127 -->\n",
       "<g id=\"edge127\" class=\"edge\">\n",
       "<title>124--127</title>\n",
       "<path fill=\"none\" stroke=\"black\" d=\"M2224,-431C2224,-431 2224,-410.94 2224,-395.74\"/>\n",
       "</g>\n",
       "<!-- 128 -->\n",
       "<g id=\"node129\" class=\"node\">\n",
       "<title>128</title>\n",
       "<text text-anchor=\"start\" x=\"2281\" y=\"-375.3\" font-family=\"Courier,monospace\" font-weight=\"bold\" font-size=\"14.00\" fill=\"#004080\">Name</text>\n",
       "</g>\n",
       "<!-- 124&#45;&#45;128 -->\n",
       "<g id=\"edge128\" class=\"edge\">\n",
       "<title>124--128</title>\n",
       "<path fill=\"none\" stroke=\"black\" d=\"M2224,-431C2224,-431 2252.55,-410.94 2274.18,-395.74\"/>\n",
       "</g>\n",
       "<!-- 126 -->\n",
       "<g id=\"node127\" class=\"node\">\n",
       "<title>126</title>\n",
       "<text text-anchor=\"middle\" x=\"2195\" y=\"-302.3\" font-family=\"Courier,monospace\" font-size=\"14.00\" fill=\"#008040\">&quot;&lt;&quot;</text>\n",
       "</g>\n",
       "<!-- 125&#45;&#45;126 -->\n",
       "<g id=\"edge126\" class=\"edge\">\n",
       "<title>125--126</title>\n",
       "<path fill=\"none\" stroke=\"black\" d=\"M2149.52,-360.05C2158.96,-349.05 2171.2,-334.76 2180.61,-323.79\"/>\n",
       "</g>\n",
       "<!-- 129 -->\n",
       "<g id=\"node130\" class=\"node\">\n",
       "<title>129</title>\n",
       "<text text-anchor=\"middle\" x=\"2269\" y=\"-302.3\" font-family=\"Courier,monospace\" font-size=\"14.00\" fill=\"#008040\">&quot;out&quot;</text>\n",
       "</g>\n",
       "<!-- 128&#45;&#45;129 -->\n",
       "<g id=\"edge129\" class=\"edge\">\n",
       "<title>128--129</title>\n",
       "<path fill=\"none\" stroke=\"black\" d=\"M2300,-359C2300,-359 2288.04,-338.94 2278.98,-323.74\"/>\n",
       "</g>\n",
       "<!-- 130 -->\n",
       "<g id=\"node131\" class=\"node\">\n",
       "<title>130</title>\n",
       "<text text-anchor=\"middle\" x=\"2343\" y=\"-302.3\" font-family=\"Courier,monospace\" font-size=\"14.00\" fill=\"#008040\">Load</text>\n",
       "</g>\n",
       "<!-- 128&#45;&#45;130 -->\n",
       "<g id=\"edge130\" class=\"edge\">\n",
       "<title>128--130</title>\n",
       "<path fill=\"none\" stroke=\"black\" d=\"M2300,-359C2300,-359 2316.59,-338.94 2329.16,-323.74\"/>\n",
       "</g>\n",
       "<!-- 132 -->\n",
       "<g id=\"node133\" class=\"node\">\n",
       "<title>132</title>\n",
       "<text text-anchor=\"start\" x=\"2351.5\" y=\"-375.3\" font-family=\"Courier,monospace\" font-weight=\"bold\" font-size=\"14.00\" fill=\"#004080\">Constant</text>\n",
       "</g>\n",
       "<!-- 131&#45;&#45;132 -->\n",
       "<g id=\"edge132\" class=\"edge\">\n",
       "<title>131--132</title>\n",
       "<path fill=\"none\" stroke=\"black\" d=\"M2400,-431C2400,-431 2394.21,-410.94 2389.83,-395.74\"/>\n",
       "</g>\n",
       "<!-- 134 -->\n",
       "<g id=\"node135\" class=\"node\">\n",
       "<title>134</title>\n",
       "<text text-anchor=\"middle\" x=\"2474\" y=\"-374.3\" font-family=\"Courier,monospace\" font-size=\"14.00\" fill=\"#008040\">NotIn</text>\n",
       "</g>\n",
       "<!-- 131&#45;&#45;134 -->\n",
       "<g id=\"edge134\" class=\"edge\">\n",
       "<title>131--134</title>\n",
       "<path fill=\"none\" stroke=\"black\" d=\"M2400,-431C2400,-431 2428.55,-410.94 2450.18,-395.74\"/>\n",
       "</g>\n",
       "<!-- 135 -->\n",
       "<g id=\"node136\" class=\"node\">\n",
       "<title>135</title>\n",
       "<text text-anchor=\"start\" x=\"2531\" y=\"-375.3\" font-family=\"Courier,monospace\" font-weight=\"bold\" font-size=\"14.00\" fill=\"#004080\">Name</text>\n",
       "</g>\n",
       "<!-- 131&#45;&#45;135 -->\n",
       "<g id=\"edge135\" class=\"edge\">\n",
       "<title>131--135</title>\n",
       "<path fill=\"none\" stroke=\"black\" d=\"M2400,-431C2400,-431 2463.42,-414.96 2512,-396 2514.96,-394.84 2518.02,-393.55 2521.05,-392.22\"/>\n",
       "</g>\n",
       "<!-- 133 -->\n",
       "<g id=\"node134\" class=\"node\">\n",
       "<title>133</title>\n",
       "<text text-anchor=\"middle\" x=\"2415\" y=\"-302.3\" font-family=\"Courier,monospace\" font-size=\"14.00\" fill=\"#008040\">&quot;&gt;&quot;</text>\n",
       "</g>\n",
       "<!-- 132&#45;&#45;133 -->\n",
       "<g id=\"edge133\" class=\"edge\">\n",
       "<title>132--133</title>\n",
       "<path fill=\"none\" stroke=\"black\" d=\"M2392.26,-360.05C2396.98,-349.05 2403.1,-334.76 2407.8,-323.79\"/>\n",
       "</g>\n",
       "<!-- 136 -->\n",
       "<g id=\"node137\" class=\"node\">\n",
       "<title>136</title>\n",
       "<text text-anchor=\"middle\" x=\"2504\" y=\"-302.3\" font-family=\"Courier,monospace\" font-size=\"14.00\" fill=\"#008040\">&quot;out&quot;</text>\n",
       "</g>\n",
       "<!-- 135&#45;&#45;136 -->\n",
       "<g id=\"edge136\" class=\"edge\">\n",
       "<title>135--136</title>\n",
       "<path fill=\"none\" stroke=\"black\" d=\"M2547,-359C2547,-359 2530.41,-338.94 2517.84,-323.74\"/>\n",
       "</g>\n",
       "<!-- 137 -->\n",
       "<g id=\"node138\" class=\"node\">\n",
       "<title>137</title>\n",
       "<text text-anchor=\"middle\" x=\"2578\" y=\"-302.3\" font-family=\"Courier,monospace\" font-size=\"14.00\" fill=\"#008040\">Load</text>\n",
       "</g>\n",
       "<!-- 135&#45;&#45;137 -->\n",
       "<g id=\"edge137\" class=\"edge\">\n",
       "<title>135--137</title>\n",
       "<path fill=\"none\" stroke=\"black\" d=\"M2547,-359C2547,-359 2558.96,-338.94 2568.02,-323.74\"/>\n",
       "</g>\n",
       "<!-- 139 -->\n",
       "<g id=\"node140\" class=\"node\">\n",
       "<title>139</title>\n",
       "<text text-anchor=\"start\" x=\"2452\" y=\"-519.3\" font-family=\"Courier,monospace\" font-weight=\"bold\" font-size=\"14.00\" fill=\"#004080\">Name</text>\n",
       "</g>\n",
       "<!-- 138&#45;&#45;139 -->\n",
       "<g id=\"edge139\" class=\"edge\">\n",
       "<title>138--139</title>\n",
       "<path fill=\"none\" stroke=\"black\" d=\"M2055.8,-587.85C2140.39,-574.58 2364.74,-539.36 2442.23,-527.2\"/>\n",
       "</g>\n",
       "<!-- 140 -->\n",
       "<g id=\"node141\" class=\"node\">\n",
       "<title>140</title>\n",
       "<text text-anchor=\"middle\" x=\"2469\" y=\"-446.3\" font-family=\"Courier,monospace\" font-size=\"14.00\" fill=\"#008040\">&quot;out&quot;</text>\n",
       "</g>\n",
       "<!-- 139&#45;&#45;140 -->\n",
       "<g id=\"edge140\" class=\"edge\">\n",
       "<title>139--140</title>\n",
       "<path fill=\"none\" stroke=\"black\" d=\"M2477,-503C2477,-503 2473.91,-482.94 2471.58,-467.74\"/>\n",
       "</g>\n",
       "<!-- 141 -->\n",
       "<g id=\"node142\" class=\"node\">\n",
       "<title>141</title>\n",
       "<text text-anchor=\"middle\" x=\"2543\" y=\"-446.3\" font-family=\"Courier,monospace\" font-size=\"14.00\" fill=\"#008040\">Load</text>\n",
       "</g>\n",
       "<!-- 139&#45;&#45;141 -->\n",
       "<g id=\"edge141\" class=\"edge\">\n",
       "<title>139--141</title>\n",
       "<path fill=\"none\" stroke=\"black\" d=\"M2477,-503C2477,-503 2502.46,-482.94 2521.75,-467.74\"/>\n",
       "</g>\n",
       "</g>\n",
       "</svg>"
      ],
      "text/plain": [
       "<IPython.core.display.SVG object>"
      ]
     },
     "metadata": {},
     "output_type": "display_data"
    }
   ],
   "source": [
    "show_ast(fun_tree)"
   ]
  },
  {
   "cell_type": "markdown",
   "metadata": {
    "slideshow": {
     "slide_type": "fragment"
    }
   },
   "source": [
    "Let us add some tests to this, using the same scheme:"
   ]
  },
  {
   "cell_type": "code",
   "execution_count": 147,
   "metadata": {
    "execution": {
     "iopub.execute_input": "2023-02-11T10:04:20.549984Z",
     "iopub.status.busy": "2023-02-11T10:04:20.549554Z",
     "iopub.status.idle": "2023-02-11T10:04:20.550807Z",
     "shell.execute_reply": "2023-02-11T10:04:20.551186Z"
    },
    "slideshow": {
     "slide_type": "fragment"
    }
   },
   "outputs": [],
   "source": [
    "test_source = (\n",
    "    '''if remove_html_markup('<foo>bar</foo>') != 'bar':\\n''' +\n",
    "    '''    raise RuntimeError(\"Missing functionality\")\\n''' +\n",
    "    '''assert remove_html_markup('\"foo\"') == '\"foo\"', \"My Test\"'''\n",
    ")"
   ]
  },
  {
   "cell_type": "code",
   "execution_count": 148,
   "metadata": {
    "execution": {
     "iopub.execute_input": "2023-02-11T10:04:20.553270Z",
     "iopub.status.busy": "2023-02-11T10:04:20.552968Z",
     "iopub.status.idle": "2023-02-11T10:04:20.554171Z",
     "shell.execute_reply": "2023-02-11T10:04:20.554381Z"
    },
    "slideshow": {
     "slide_type": "fragment"
    }
   },
   "outputs": [],
   "source": [
    "test_tree: ast.Module = ast.parse(test_source)"
   ]
  },
  {
   "cell_type": "code",
   "execution_count": 149,
   "metadata": {
    "execution": {
     "iopub.execute_input": "2023-02-11T10:04:20.580819Z",
     "iopub.status.busy": "2023-02-11T10:04:20.576182Z",
     "iopub.status.idle": "2023-02-11T10:04:20.589941Z",
     "shell.execute_reply": "2023-02-11T10:04:20.590159Z"
    },
    "slideshow": {
     "slide_type": "subslide"
    }
   },
   "outputs": [
    {
     "name": "stdout",
     "output_type": "stream",
     "text": [
      "\u001b[34mif\u001b[39;49;00m remove_html_markup(\u001b[33m'\u001b[39;49;00m\u001b[33m<foo>bar</foo>\u001b[39;49;00m\u001b[33m'\u001b[39;49;00m) != \u001b[33m'\u001b[39;49;00m\u001b[33mbar\u001b[39;49;00m\u001b[33m'\u001b[39;49;00m:\u001b[37m\u001b[39;49;00m\n",
      "    \u001b[34mraise\u001b[39;49;00m \u001b[36mRuntimeError\u001b[39;49;00m(\u001b[33m'\u001b[39;49;00m\u001b[33mMissing functionality\u001b[39;49;00m\u001b[33m'\u001b[39;49;00m)\u001b[37m\u001b[39;49;00m\n",
      "\u001b[34massert\u001b[39;49;00m remove_html_markup(\u001b[33m'\u001b[39;49;00m\u001b[33m\"\u001b[39;49;00m\u001b[33mfoo\u001b[39;49;00m\u001b[33m\"\u001b[39;49;00m\u001b[33m'\u001b[39;49;00m) == \u001b[33m'\u001b[39;49;00m\u001b[33m\"\u001b[39;49;00m\u001b[33mfoo\u001b[39;49;00m\u001b[33m\"\u001b[39;49;00m\u001b[33m'\u001b[39;49;00m, \u001b[33m'\u001b[39;49;00m\u001b[33mMy Test\u001b[39;49;00m\u001b[33m'\u001b[39;49;00m\u001b[37m\u001b[39;49;00m"
     ]
    }
   ],
   "source": [
    "print_content(ast.unparse(test_tree), '.py')"
   ]
  },
  {
   "cell_type": "markdown",
   "metadata": {
    "slideshow": {
     "slide_type": "fragment"
    }
   },
   "source": [
    "We can merge the function definition tree and the test tree into a single one:"
   ]
  },
  {
   "cell_type": "code",
   "execution_count": 150,
   "metadata": {
    "execution": {
     "iopub.execute_input": "2023-02-11T10:04:20.592755Z",
     "iopub.status.busy": "2023-02-11T10:04:20.592383Z",
     "iopub.status.idle": "2023-02-11T10:04:20.593575Z",
     "shell.execute_reply": "2023-02-11T10:04:20.593908Z"
    },
    "slideshow": {
     "slide_type": "skip"
    }
   },
   "outputs": [],
   "source": [
    "import copy"
   ]
  },
  {
   "cell_type": "code",
   "execution_count": 151,
   "metadata": {
    "execution": {
     "iopub.execute_input": "2023-02-11T10:04:20.596762Z",
     "iopub.status.busy": "2023-02-11T10:04:20.596440Z",
     "iopub.status.idle": "2023-02-11T10:04:20.597687Z",
     "shell.execute_reply": "2023-02-11T10:04:20.598138Z"
    },
    "slideshow": {
     "slide_type": "fragment"
    }
   },
   "outputs": [],
   "source": [
    "fun_test_tree = copy.deepcopy(fun_tree)\n",
    "fun_test_tree.body += test_tree.body"
   ]
  },
  {
   "cell_type": "markdown",
   "metadata": {
    "slideshow": {
     "slide_type": "fragment"
    }
   },
   "source": [
    "Such a tree can be compiled into a code object, using Python's `compile()` function:"
   ]
  },
  {
   "cell_type": "code",
   "execution_count": 152,
   "metadata": {
    "execution": {
     "iopub.execute_input": "2023-02-11T10:04:20.600667Z",
     "iopub.status.busy": "2023-02-11T10:04:20.600321Z",
     "iopub.status.idle": "2023-02-11T10:04:20.601349Z",
     "shell.execute_reply": "2023-02-11T10:04:20.601584Z"
    },
    "slideshow": {
     "slide_type": "fragment"
    }
   },
   "outputs": [],
   "source": [
    "fun_test_code = compile(fun_test_tree, '<string>', 'exec')"
   ]
  },
  {
   "cell_type": "markdown",
   "metadata": {
    "slideshow": {
     "slide_type": "fragment"
    }
   },
   "source": [
    "and the resulting code object can be executed directly, using the Python `exec()` function. We see that our test fails as expected."
   ]
  },
  {
   "cell_type": "code",
   "execution_count": 153,
   "metadata": {
    "execution": {
     "iopub.execute_input": "2023-02-11T10:04:20.603961Z",
     "iopub.status.busy": "2023-02-11T10:04:20.603603Z",
     "iopub.status.idle": "2023-02-11T10:04:20.604938Z",
     "shell.execute_reply": "2023-02-11T10:04:20.605184Z"
    },
    "slideshow": {
     "slide_type": "subslide"
    }
   },
   "outputs": [
    {
     "name": "stderr",
     "output_type": "stream",
     "text": [
      "Traceback (most recent call last):\n",
      "  File \"/var/folders/n2/xd9445p97rb3xh7m1dfx8_4h0006ts/T/ipykernel_1782/1290587190.py\", line 2, in <cell line: 1>\n",
      "    exec(fun_test_code, {}, {})\n",
      "  File \"<string>\", line 3, in <module>\n",
      "AssertionError: My Test (expected)\n"
     ]
    }
   ],
   "source": [
    "with ExpectError(AssertionError):\n",
    "    exec(fun_test_code, {}, {})"
   ]
  },
  {
   "cell_type": "markdown",
   "metadata": {
    "slideshow": {
     "slide_type": "subslide"
    }
   },
   "source": [
    "#### Traversing Syntax Trees\n",
    "\n",
    "Our goal is now to reduce this tree (or at least the subtree with the function definition) to a minimum. \n",
    "To this end, we manipulate the AST through the `ast` Python module. The [official Python `ast` reference](http://docs.python.org/3/library/ast) is complete, but a bit brief; the documentation [\"Green Tree Snakes - the missing Python AST docs\"](https://greentreesnakes.readthedocs.io/en/latest/) provides an excellent introduction."
   ]
  },
  {
   "cell_type": "markdown",
   "metadata": {
    "slideshow": {
     "slide_type": "subslide"
    }
   },
   "source": [
    "The two means for exploring and changing ASTs are the classes `NodeVisitor` and `NodeTransformer`, respectively. We start with creating a list of all nodes in the tree, using a `NodeVisitor` subclass.\n",
    "\n",
    "Its `visit()` method is called for every node in the tree, which we achieve by having it return `self.generic_visit()` for the current node. It saves all visited nodes in the `_all_nodes` attribute."
   ]
  },
  {
   "cell_type": "code",
   "execution_count": 154,
   "metadata": {
    "execution": {
     "iopub.execute_input": "2023-02-11T10:04:20.610371Z",
     "iopub.status.busy": "2023-02-11T10:04:20.608668Z",
     "iopub.status.idle": "2023-02-11T10:04:20.612276Z",
     "shell.execute_reply": "2023-02-11T10:04:20.612482Z"
    },
    "slideshow": {
     "slide_type": "skip"
    }
   },
   "outputs": [],
   "source": [
    "from ast import NodeTransformer, NodeVisitor, AST"
   ]
  },
  {
   "cell_type": "code",
   "execution_count": 155,
   "metadata": {
    "execution": {
     "iopub.execute_input": "2023-02-11T10:04:20.615645Z",
     "iopub.status.busy": "2023-02-11T10:04:20.615309Z",
     "iopub.status.idle": "2023-02-11T10:04:20.616560Z",
     "shell.execute_reply": "2023-02-11T10:04:20.616862Z"
    },
    "slideshow": {
     "slide_type": "subslide"
    }
   },
   "outputs": [],
   "source": [
    "class NodeCollector(NodeVisitor):\n",
    "    \"\"\"Collect all nodes in an AST.\"\"\"\n",
    "\n",
    "    def __init__(self) -> None:\n",
    "        super().__init__()\n",
    "        self._all_nodes: List[AST] = []\n",
    "\n",
    "    def generic_visit(self, node: AST) -> None:\n",
    "        self._all_nodes.append(node)\n",
    "        return super().generic_visit(node)\n",
    "\n",
    "    def collect(self, tree: AST) -> List[AST]:\n",
    "        \"\"\"Return a list of all nodes in tree.\"\"\"\n",
    "        self._all_nodes = []\n",
    "        self.visit(tree)\n",
    "        return self._all_nodes"
   ]
  },
  {
   "cell_type": "markdown",
   "metadata": {
    "slideshow": {
     "slide_type": "subslide"
    }
   },
   "source": [
    "This is how our `NodeCollector()` class produces a list of all nodes:"
   ]
  },
  {
   "cell_type": "code",
   "execution_count": 156,
   "metadata": {
    "execution": {
     "iopub.execute_input": "2023-02-11T10:04:20.619660Z",
     "iopub.status.busy": "2023-02-11T10:04:20.619101Z",
     "iopub.status.idle": "2023-02-11T10:04:20.621040Z",
     "shell.execute_reply": "2023-02-11T10:04:20.621428Z"
    },
    "slideshow": {
     "slide_type": "fragment"
    }
   },
   "outputs": [
    {
     "data": {
      "text/plain": [
       "107"
      ]
     },
     "execution_count": 156,
     "metadata": {},
     "output_type": "execute_result"
    }
   ],
   "source": [
    "fun_nodes = NodeCollector().collect(fun_tree)\n",
    "len(fun_nodes)"
   ]
  },
  {
   "cell_type": "code",
   "execution_count": 157,
   "metadata": {
    "execution": {
     "iopub.execute_input": "2023-02-11T10:04:20.625317Z",
     "iopub.status.busy": "2023-02-11T10:04:20.624896Z",
     "iopub.status.idle": "2023-02-11T10:04:20.626582Z",
     "shell.execute_reply": "2023-02-11T10:04:20.626789Z"
    },
    "slideshow": {
     "slide_type": "subslide"
    }
   },
   "outputs": [
    {
     "data": {
      "text/plain": [
       "[<ast.Module at 0x108a0f460>,\n",
       " <ast.FunctionDef at 0x108a0f820>,\n",
       " <ast.arguments at 0x108a0f100>,\n",
       " <ast.arg at 0x108a0d2a0>,\n",
       " <ast.Assign at 0x108a0feb0>,\n",
       " <ast.Name at 0x108a0e440>,\n",
       " <ast.Store at 0x1032a24a0>,\n",
       " <ast.Constant at 0x108a0d7b0>,\n",
       " <ast.Assign at 0x108a0cf10>,\n",
       " <ast.Name at 0x108a0ce20>,\n",
       " <ast.Store at 0x1032a24a0>,\n",
       " <ast.Constant at 0x108a0f850>,\n",
       " <ast.Assign at 0x108a0d510>,\n",
       " <ast.Name at 0x108a0dc60>,\n",
       " <ast.Store at 0x1032a24a0>,\n",
       " <ast.Constant at 0x108a0ff40>,\n",
       " <ast.For at 0x108a0cca0>,\n",
       " <ast.Name at 0x108a0de10>,\n",
       " <ast.Store at 0x1032a24a0>,\n",
       " <ast.Name at 0x108a0f7c0>,\n",
       " <ast.Load at 0x1032a2440>,\n",
       " <ast.If at 0x108a0ed40>,\n",
       " <ast.BoolOp at 0x108a0c130>,\n",
       " <ast.And at 0x1032a2590>,\n",
       " <ast.Compare at 0x108a0d8a0>,\n",
       " <ast.Name at 0x108a0d7e0>,\n",
       " <ast.Load at 0x1032a2440>,\n",
       " <ast.Eq at 0x1032a2d70>,\n",
       " <ast.Constant at 0x108a0e0e0>,\n",
       " <ast.UnaryOp at 0x108a0d4e0>]"
      ]
     },
     "execution_count": 157,
     "metadata": {},
     "output_type": "execute_result"
    }
   ],
   "source": [
    "fun_nodes[:30]"
   ]
  },
  {
   "cell_type": "markdown",
   "metadata": {
    "slideshow": {
     "slide_type": "subslide"
    }
   },
   "source": [
    "Such a list of nodes is what we can feed into Delta Debugging in order to reduce it. The idea is that with every test, we take the tree and for each node in the tree, we check whether it is still in the list – if not, we remove it. Thus, by reducing the list of nodes, we simultaneously reduce the tree as well."
   ]
  },
  {
   "cell_type": "markdown",
   "metadata": {
    "slideshow": {
     "slide_type": "subslide"
    }
   },
   "source": [
    "#### Deleting Nodes\n",
    "\n",
    "In our next step, we write some code that, given such a list of nodes, _prunes_ the tree such that _only_ elements in the list are still contained. To this end, we proceed in four steps:\n",
    "\n",
    "1. We traverse the original AST, _marking_ all nodes as \"to be deleted\".\n",
    "2. We traverse the given list of nodes, clearing their markers.\n",
    "3. We copy the original tree (including the markers) into a new tree – the one to be reduced.\n",
    "4. We traverse the new tree, now deleting all marked nodes."
   ]
  },
  {
   "cell_type": "markdown",
   "metadata": {
    "slideshow": {
     "slide_type": "subslide"
    }
   },
   "source": [
    "Why do we go through such an extra effort? The reason is that our list of nodes contains references into the _original_ tree – a tree that needs to stay unchanged such that we can reuse it for later. The new tree (the copy) has the same nodes, but at different addresses, so our original references cannot be used anymore. Markers, however, just like any other attributes, are safely copied from the original into the new tree."
   ]
  },
  {
   "cell_type": "markdown",
   "metadata": {
    "slideshow": {
     "slide_type": "fragment"
    }
   },
   "source": [
    "The `NodeMarker()` visitor marks all nodes in a tree:"
   ]
  },
  {
   "cell_type": "code",
   "execution_count": 158,
   "metadata": {
    "execution": {
     "iopub.execute_input": "2023-02-11T10:04:20.629150Z",
     "iopub.status.busy": "2023-02-11T10:04:20.628752Z",
     "iopub.status.idle": "2023-02-11T10:04:20.629880Z",
     "shell.execute_reply": "2023-02-11T10:04:20.630189Z"
    },
    "slideshow": {
     "slide_type": "fragment"
    }
   },
   "outputs": [],
   "source": [
    "class NodeMarker(NodeVisitor):\n",
    "    def visit(self, node: AST) -> AST:\n",
    "        node.marked = True  # type: ignore\n",
    "        return super().generic_visit(node)"
   ]
  },
  {
   "cell_type": "markdown",
   "metadata": {
    "slideshow": {
     "slide_type": "subslide"
    }
   },
   "source": [
    "The `NodeReducer()` transformer reduces all marked nodes. If a method `visit_<node class>()` is defined, it will be invoked; otherwise, `visit_Node()` is invoked, which _deletes_ the node (and its subtree) by returning `None`. "
   ]
  },
  {
   "cell_type": "code",
   "execution_count": 159,
   "metadata": {
    "execution": {
     "iopub.execute_input": "2023-02-11T10:04:20.632742Z",
     "iopub.status.busy": "2023-02-11T10:04:20.632353Z",
     "iopub.status.idle": "2023-02-11T10:04:20.634356Z",
     "shell.execute_reply": "2023-02-11T10:04:20.634745Z"
    },
    "slideshow": {
     "slide_type": "subslide"
    }
   },
   "outputs": [],
   "source": [
    "class NodeReducer(NodeTransformer):\n",
    "    def visit(self, node: AST) -> Any:\n",
    "        method = 'visit_' + node.__class__.__name__\n",
    "        visitor = getattr(self, method, self.visit_Node)\n",
    "        return visitor(node)\n",
    "\n",
    "    def visit_Module(self, node: AST) -> Any:\n",
    "        # Can't remove modules\n",
    "        return super().generic_visit(node)\n",
    "\n",
    "    def visit_Node(self, node: AST) -> Any:\n",
    "        \"\"\"Default visitor for all nodes\"\"\"\n",
    "        if node.marked:  # type: ignore\n",
    "            return None  # delete it\n",
    "        return super().generic_visit(node)"
   ]
  },
  {
   "cell_type": "markdown",
   "metadata": {
    "slideshow": {
     "slide_type": "subslide"
    }
   },
   "source": [
    "Our function `copy_and_reduce()` puts these pieces together:"
   ]
  },
  {
   "cell_type": "code",
   "execution_count": 160,
   "metadata": {
    "execution": {
     "iopub.execute_input": "2023-02-11T10:04:20.638881Z",
     "iopub.status.busy": "2023-02-11T10:04:20.637756Z",
     "iopub.status.idle": "2023-02-11T10:04:20.640079Z",
     "shell.execute_reply": "2023-02-11T10:04:20.640597Z"
    },
    "slideshow": {
     "slide_type": "fragment"
    }
   },
   "outputs": [],
   "source": [
    "def copy_and_reduce(tree: AST, keep_list: List[AST]) -> AST:\n",
    "    \"\"\"Copy tree, reducing all nodes that are not in keep_list.\"\"\"\n",
    "\n",
    "    # Mark all nodes except those in keep_list\n",
    "    NodeMarker().visit(tree)\n",
    "    for node in keep_list:\n",
    "        # print(\"Clearing\", node)\n",
    "        node.marked = False  # type: ignore\n",
    "\n",
    "    # Copy tree and delete marked nodes\n",
    "    new_tree = copy.deepcopy(tree)\n",
    "    NodeReducer().visit(new_tree)\n",
    "    return new_tree"
   ]
  },
  {
   "cell_type": "markdown",
   "metadata": {
    "slideshow": {
     "slide_type": "subslide"
    }
   },
   "source": [
    "Let us apply this in practice. We take the first assignment in our tree..."
   ]
  },
  {
   "cell_type": "code",
   "execution_count": 161,
   "metadata": {
    "execution": {
     "iopub.execute_input": "2023-02-11T10:04:20.643644Z",
     "iopub.status.busy": "2023-02-11T10:04:20.643123Z",
     "iopub.status.idle": "2023-02-11T10:04:20.645332Z",
     "shell.execute_reply": "2023-02-11T10:04:20.645637Z"
    },
    "slideshow": {
     "slide_type": "fragment"
    }
   },
   "outputs": [
    {
     "data": {
      "text/plain": [
       "<ast.Assign at 0x108a0feb0>"
      ]
     },
     "execution_count": 161,
     "metadata": {},
     "output_type": "execute_result"
    }
   ],
   "source": [
    "fun_nodes[4]"
   ]
  },
  {
   "cell_type": "markdown",
   "metadata": {
    "slideshow": {
     "slide_type": "fragment"
    }
   },
   "source": [
    "... whose subtree happens to be the assignment to `tag`:"
   ]
  },
  {
   "cell_type": "code",
   "execution_count": 162,
   "metadata": {
    "execution": {
     "iopub.execute_input": "2023-02-11T10:04:20.650718Z",
     "iopub.status.busy": "2023-02-11T10:04:20.650365Z",
     "iopub.status.idle": "2023-02-11T10:04:20.651849Z",
     "shell.execute_reply": "2023-02-11T10:04:20.652101Z"
    },
    "slideshow": {
     "slide_type": "fragment"
    }
   },
   "outputs": [
    {
     "data": {
      "text/plain": [
       "'tag = False'"
      ]
     },
     "execution_count": 162,
     "metadata": {},
     "output_type": "execute_result"
    }
   ],
   "source": [
    "ast.unparse(fun_nodes[4])"
   ]
  },
  {
   "cell_type": "markdown",
   "metadata": {
    "slideshow": {
     "slide_type": "fragment"
    }
   },
   "source": [
    "We keep all nodes _except_ for this one."
   ]
  },
  {
   "cell_type": "code",
   "execution_count": 163,
   "metadata": {
    "execution": {
     "iopub.execute_input": "2023-02-11T10:04:20.654204Z",
     "iopub.status.busy": "2023-02-11T10:04:20.653883Z",
     "iopub.status.idle": "2023-02-11T10:04:20.655446Z",
     "shell.execute_reply": "2023-02-11T10:04:20.655669Z"
    },
    "slideshow": {
     "slide_type": "fragment"
    }
   },
   "outputs": [],
   "source": [
    "keep_list = fun_nodes.copy()\n",
    "del keep_list[4]"
   ]
  },
  {
   "cell_type": "markdown",
   "metadata": {
    "slideshow": {
     "slide_type": "fragment"
    }
   },
   "source": [
    "Let us now create a copy of the tree in which the assignment is missing:"
   ]
  },
  {
   "cell_type": "code",
   "execution_count": 164,
   "metadata": {
    "execution": {
     "iopub.execute_input": "2023-02-11T10:04:20.659102Z",
     "iopub.status.busy": "2023-02-11T10:04:20.658761Z",
     "iopub.status.idle": "2023-02-11T10:04:20.995422Z",
     "shell.execute_reply": "2023-02-11T10:04:20.995718Z"
    },
    "slideshow": {
     "slide_type": "fragment"
    }
   },
   "outputs": [
    {
     "data": {
      "image/svg+xml": [
       "<svg xmlns=\"http://www.w3.org/2000/svg\" xmlns:xlink=\"http://www.w3.org/1999/xlink\" width=\"2690pt\" height=\"692pt\" viewBox=\"0.00 0.00 2690.00 692.00\">\n",
       "<g id=\"graph0\" class=\"graph\" transform=\"scale(1 1) rotate(0) translate(4 688)\">\n",
       "<polygon fill=\"white\" stroke=\"none\" points=\"-4,4 -4,-688 2686,-688 2686,4 -4,4\"/>\n",
       "<!-- 0 -->\n",
       "<g id=\"node1\" class=\"node\">\n",
       "<title>0</title>\n",
       "<text text-anchor=\"start\" x=\"405.5\" y=\"-663.3\" font-family=\"Courier,monospace\" font-weight=\"bold\" font-size=\"14.00\" fill=\"#004080\">FunctionDef</text>\n",
       "</g>\n",
       "<!-- 1 -->\n",
       "<g id=\"node2\" class=\"node\">\n",
       "<title>1</title>\n",
       "<text text-anchor=\"middle\" x=\"104\" y=\"-590.3\" font-family=\"Courier,monospace\" font-size=\"14.00\" fill=\"#008040\">&quot;remove_html_markup&quot;</text>\n",
       "</g>\n",
       "<!-- 0&#45;&#45;1 -->\n",
       "<g id=\"edge1\" class=\"edge\">\n",
       "<title>0--1</title>\n",
       "<path fill=\"none\" stroke=\"black\" d=\"M453,-647C453,-647 314.43,-629.14 204,-612 200.95,-611.53 197.86,-611.04 194.73,-610.54\"/>\n",
       "</g>\n",
       "<!-- 2 -->\n",
       "<g id=\"node3\" class=\"node\">\n",
       "<title>2</title>\n",
       "<text text-anchor=\"start\" x=\"221.5\" y=\"-591.3\" font-family=\"Courier,monospace\" font-weight=\"bold\" font-size=\"14.00\" fill=\"#004080\">arguments</text>\n",
       "</g>\n",
       "<!-- 0&#45;&#45;2 -->\n",
       "<g id=\"edge2\" class=\"edge\">\n",
       "<title>0--2</title>\n",
       "<path fill=\"none\" stroke=\"black\" d=\"M453,-647C453,-647 375.34,-629.19 314,-612 310.82,-611.11 307.55,-610.17 304.26,-609.2\"/>\n",
       "</g>\n",
       "<!-- 5 -->\n",
       "<g id=\"node6\" class=\"node\">\n",
       "<title>5</title>\n",
       "<text text-anchor=\"start\" x=\"331\" y=\"-591.3\" font-family=\"Courier,monospace\" font-weight=\"bold\" font-size=\"14.00\" fill=\"#004080\">Assign</text>\n",
       "</g>\n",
       "<!-- 0&#45;&#45;5 -->\n",
       "<g id=\"edge5\" class=\"edge\">\n",
       "<title>0--5</title>\n",
       "<path fill=\"none\" stroke=\"black\" d=\"M453,-647C453,-647 415.82,-627.07 387.49,-611.88\"/>\n",
       "</g>\n",
       "<!-- 11 -->\n",
       "<g id=\"node12\" class=\"node\">\n",
       "<title>11</title>\n",
       "<text text-anchor=\"start\" x=\"426\" y=\"-591.3\" font-family=\"Courier,monospace\" font-weight=\"bold\" font-size=\"14.00\" fill=\"#004080\">Assign</text>\n",
       "</g>\n",
       "<!-- 0&#45;&#45;11 -->\n",
       "<g id=\"edge11\" class=\"edge\">\n",
       "<title>0--11</title>\n",
       "<path fill=\"none\" stroke=\"black\" d=\"M453,-647C453,-647 452.23,-626.94 451.64,-611.74\"/>\n",
       "</g>\n",
       "<!-- 17 -->\n",
       "<g id=\"node18\" class=\"node\">\n",
       "<title>17</title>\n",
       "<text text-anchor=\"start\" x=\"665.5\" y=\"-591.3\" font-family=\"Courier,monospace\" font-weight=\"bold\" font-size=\"14.00\" fill=\"#004080\">For</text>\n",
       "</g>\n",
       "<!-- 0&#45;&#45;17 -->\n",
       "<g id=\"edge17\" class=\"edge\">\n",
       "<title>0--17</title>\n",
       "<path fill=\"none\" stroke=\"black\" d=\"M453,-647C453,-647 591.71,-614.94 651.31,-601.17\"/>\n",
       "</g>\n",
       "<!-- 115 -->\n",
       "<g id=\"node116\" class=\"node\">\n",
       "<title>115</title>\n",
       "<text text-anchor=\"start\" x=\"1314\" y=\"-591.3\" font-family=\"Courier,monospace\" font-weight=\"bold\" font-size=\"14.00\" fill=\"#004080\">Assert</text>\n",
       "</g>\n",
       "<!-- 0&#45;&#45;115 -->\n",
       "<g id=\"edge115\" class=\"edge\">\n",
       "<title>0--115</title>\n",
       "<path fill=\"none\" stroke=\"black\" d=\"M453,-647C453,-647 1145.8,-606.34 1306.15,-596.93\"/>\n",
       "</g>\n",
       "<!-- 132 -->\n",
       "<g id=\"node133\" class=\"node\">\n",
       "<title>132</title>\n",
       "<text text-anchor=\"start\" x=\"1770\" y=\"-591.3\" font-family=\"Courier,monospace\" font-weight=\"bold\" font-size=\"14.00\" fill=\"#004080\">Return</text>\n",
       "</g>\n",
       "<!-- 0&#45;&#45;132 -->\n",
       "<g id=\"edge132\" class=\"edge\">\n",
       "<title>0--132</title>\n",
       "<path fill=\"none\" stroke=\"black\" d=\"M453,-647C453,-647 968.58,-628.24 1381,-612 1522.96,-606.41 1692.29,-599.33 1762.26,-596.38\"/>\n",
       "</g>\n",
       "<!-- 3 -->\n",
       "<g id=\"node4\" class=\"node\">\n",
       "<title>3</title>\n",
       "<text text-anchor=\"start\" x=\"61.5\" y=\"-519.3\" font-family=\"Courier,monospace\" font-weight=\"bold\" font-size=\"14.00\" fill=\"#004080\">arg</text>\n",
       "</g>\n",
       "<!-- 2&#45;&#45;3 -->\n",
       "<g id=\"edge3\" class=\"edge\">\n",
       "<title>2--3</title>\n",
       "<path fill=\"none\" stroke=\"black\" d=\"M214.22,-576.05C178.82,-562.66 130.59,-544.41 100.91,-533.18\"/>\n",
       "</g>\n",
       "<!-- 4 -->\n",
       "<g id=\"node5\" class=\"node\">\n",
       "<title>4</title>\n",
       "<text text-anchor=\"middle\" x=\"27\" y=\"-446.3\" font-family=\"Courier,monospace\" font-size=\"14.00\" fill=\"#008040\">&quot;s&quot;</text>\n",
       "</g>\n",
       "<!-- 3&#45;&#45;4 -->\n",
       "<g id=\"edge4\" class=\"edge\">\n",
       "<title>3--4</title>\n",
       "<path fill=\"none\" stroke=\"black\" d=\"M62.62,-504.05C55.23,-493.05 45.64,-478.76 38.27,-467.79\"/>\n",
       "</g>\n",
       "<!-- 6 -->\n",
       "<g id=\"node7\" class=\"node\">\n",
       "<title>6</title>\n",
       "<text text-anchor=\"start\" x=\"176\" y=\"-519.3\" font-family=\"Courier,monospace\" font-weight=\"bold\" font-size=\"14.00\" fill=\"#004080\">Name</text>\n",
       "</g>\n",
       "<!-- 5&#45;&#45;6 -->\n",
       "<g id=\"edge6\" class=\"edge\">\n",
       "<title>5--6</title>\n",
       "<path fill=\"none\" stroke=\"black\" d=\"M333,-575C333,-575 260.68,-548.14 219.99,-533.03\"/>\n",
       "</g>\n",
       "<!-- 9 -->\n",
       "<g id=\"node10\" class=\"node\">\n",
       "<title>9</title>\n",
       "<text text-anchor=\"start\" x=\"267.5\" y=\"-519.3\" font-family=\"Courier,monospace\" font-weight=\"bold\" font-size=\"14.00\" fill=\"#004080\">Constant</text>\n",
       "</g>\n",
       "<!-- 5&#45;&#45;9 -->\n",
       "<g id=\"edge9\" class=\"edge\">\n",
       "<title>5--9</title>\n",
       "<path fill=\"none\" stroke=\"black\" d=\"M333,-575C333,-575 320.66,-554.94 311.3,-539.74\"/>\n",
       "</g>\n",
       "<!-- 7 -->\n",
       "<g id=\"node8\" class=\"node\">\n",
       "<title>7</title>\n",
       "<text text-anchor=\"middle\" x=\"109\" y=\"-446.3\" font-family=\"Courier,monospace\" font-size=\"14.00\" fill=\"#008040\">&quot;quote&quot;</text>\n",
       "</g>\n",
       "<!-- 6&#45;&#45;7 -->\n",
       "<g id=\"edge7\" class=\"edge\">\n",
       "<title>6--7</title>\n",
       "<path fill=\"none\" stroke=\"black\" d=\"M185,-503C185,-503 155.68,-482.94 133.47,-467.74\"/>\n",
       "</g>\n",
       "<!-- 8 -->\n",
       "<g id=\"node9\" class=\"node\">\n",
       "<title>8</title>\n",
       "<text text-anchor=\"middle\" x=\"193\" y=\"-446.3\" font-family=\"Courier,monospace\" font-size=\"14.00\" fill=\"#008040\">Store</text>\n",
       "</g>\n",
       "<!-- 6&#45;&#45;8 -->\n",
       "<g id=\"edge8\" class=\"edge\">\n",
       "<title>6--8</title>\n",
       "<path fill=\"none\" stroke=\"black\" d=\"M185,-503C185,-503 188.09,-482.94 190.42,-467.74\"/>\n",
       "</g>\n",
       "<!-- 10 -->\n",
       "<g id=\"node11\" class=\"node\">\n",
       "<title>10</title>\n",
       "<text text-anchor=\"middle\" x=\"269\" y=\"-446.3\" font-family=\"Courier,monospace\" font-size=\"14.00\" fill=\"#008040\">False</text>\n",
       "</g>\n",
       "<!-- 9&#45;&#45;10 -->\n",
       "<g id=\"edge10\" class=\"edge\">\n",
       "<title>9--10</title>\n",
       "<path fill=\"none\" stroke=\"black\" d=\"M293.25,-504.05C288.22,-493.05 281.69,-478.76 276.67,-467.79\"/>\n",
       "</g>\n",
       "<!-- 12 -->\n",
       "<g id=\"node13\" class=\"node\">\n",
       "<title>12</title>\n",
       "<text text-anchor=\"start\" x=\"391\" y=\"-519.3\" font-family=\"Courier,monospace\" font-weight=\"bold\" font-size=\"14.00\" fill=\"#004080\">Name</text>\n",
       "</g>\n",
       "<!-- 11&#45;&#45;12 -->\n",
       "<g id=\"edge12\" class=\"edge\">\n",
       "<title>11--12</title>\n",
       "<path fill=\"none\" stroke=\"black\" d=\"M451,-575C451,-575 434.41,-554.94 421.84,-539.74\"/>\n",
       "</g>\n",
       "<!-- 15 -->\n",
       "<g id=\"node16\" class=\"node\">\n",
       "<title>15</title>\n",
       "<text text-anchor=\"start\" x=\"461.5\" y=\"-519.3\" font-family=\"Courier,monospace\" font-weight=\"bold\" font-size=\"14.00\" fill=\"#004080\">Constant</text>\n",
       "</g>\n",
       "<!-- 11&#45;&#45;15 -->\n",
       "<g id=\"edge15\" class=\"edge\">\n",
       "<title>11--15</title>\n",
       "<path fill=\"none\" stroke=\"black\" d=\"M451,-575C451,-575 467.97,-554.94 480.84,-539.74\"/>\n",
       "</g>\n",
       "<!-- 13 -->\n",
       "<g id=\"node14\" class=\"node\">\n",
       "<title>13</title>\n",
       "<text text-anchor=\"middle\" x=\"345\" y=\"-446.3\" font-family=\"Courier,monospace\" font-size=\"14.00\" fill=\"#008040\">&quot;out&quot;</text>\n",
       "</g>\n",
       "<!-- 12&#45;&#45;13 -->\n",
       "<g id=\"edge13\" class=\"edge\">\n",
       "<title>12--13</title>\n",
       "<path fill=\"none\" stroke=\"black\" d=\"M403,-503C403,-503 380.63,-482.94 363.67,-467.74\"/>\n",
       "</g>\n",
       "<!-- 14 -->\n",
       "<g id=\"node15\" class=\"node\">\n",
       "<title>14</title>\n",
       "<text text-anchor=\"middle\" x=\"421\" y=\"-446.3\" font-family=\"Courier,monospace\" font-size=\"14.00\" fill=\"#008040\">Store</text>\n",
       "</g>\n",
       "<!-- 12&#45;&#45;14 -->\n",
       "<g id=\"edge14\" class=\"edge\">\n",
       "<title>12--14</title>\n",
       "<path fill=\"none\" stroke=\"black\" d=\"M403,-503C403,-503 409.94,-482.94 415.21,-467.74\"/>\n",
       "</g>\n",
       "<!-- 16 -->\n",
       "<g id=\"node17\" class=\"node\">\n",
       "<title>16</title>\n",
       "<text text-anchor=\"middle\" x=\"495\" y=\"-446.3\" font-family=\"Courier,monospace\" font-size=\"14.00\" fill=\"#008040\">&quot;&quot;</text>\n",
       "</g>\n",
       "<!-- 15&#45;&#45;16 -->\n",
       "<g id=\"edge16\" class=\"edge\">\n",
       "<title>15--16</title>\n",
       "<path fill=\"none\" stroke=\"black\" d=\"M495,-504.05C495,-493.05 495,-478.76 495,-467.79\"/>\n",
       "</g>\n",
       "<!-- 18 -->\n",
       "<g id=\"node19\" class=\"node\">\n",
       "<title>18</title>\n",
       "<text text-anchor=\"start\" x=\"624\" y=\"-519.3\" font-family=\"Courier,monospace\" font-weight=\"bold\" font-size=\"14.00\" fill=\"#004080\">Name</text>\n",
       "</g>\n",
       "<!-- 17&#45;&#45;18 -->\n",
       "<g id=\"edge18\" class=\"edge\">\n",
       "<title>17--18</title>\n",
       "<path fill=\"none\" stroke=\"black\" d=\"M686,-575C686,-575 668.64,-554.94 655.49,-539.74\"/>\n",
       "</g>\n",
       "<!-- 21 -->\n",
       "<g id=\"node22\" class=\"node\">\n",
       "<title>21</title>\n",
       "<text text-anchor=\"start\" x=\"698\" y=\"-519.3\" font-family=\"Courier,monospace\" font-weight=\"bold\" font-size=\"14.00\" fill=\"#004080\">Name</text>\n",
       "</g>\n",
       "<!-- 17&#45;&#45;21 -->\n",
       "<g id=\"edge21\" class=\"edge\">\n",
       "<title>17--21</title>\n",
       "<path fill=\"none\" stroke=\"black\" d=\"M686,-575C686,-575 697.19,-554.94 705.66,-539.74\"/>\n",
       "</g>\n",
       "<!-- 24 -->\n",
       "<g id=\"node25\" class=\"node\">\n",
       "<title>24</title>\n",
       "<text text-anchor=\"start\" x=\"898.5\" y=\"-519.3\" font-family=\"Courier,monospace\" font-weight=\"bold\" font-size=\"14.00\" fill=\"#004080\">If</text>\n",
       "</g>\n",
       "<!-- 17&#45;&#45;24 -->\n",
       "<g id=\"edge24\" class=\"edge\">\n",
       "<title>17--24</title>\n",
       "<path fill=\"none\" stroke=\"black\" d=\"M686,-575C686,-575 821.56,-543.1 880.34,-529.27\"/>\n",
       "</g>\n",
       "<!-- 19 -->\n",
       "<g id=\"node20\" class=\"node\">\n",
       "<title>19</title>\n",
       "<text text-anchor=\"middle\" x=\"567\" y=\"-446.3\" font-family=\"Courier,monospace\" font-size=\"14.00\" fill=\"#008040\">&quot;c&quot;</text>\n",
       "</g>\n",
       "<!-- 18&#45;&#45;19 -->\n",
       "<g id=\"edge19\" class=\"edge\">\n",
       "<title>18--19</title>\n",
       "<path fill=\"none\" stroke=\"black\" d=\"M633,-503C633,-503 607.54,-482.94 588.25,-467.74\"/>\n",
       "</g>\n",
       "<!-- 20 -->\n",
       "<g id=\"node21\" class=\"node\">\n",
       "<title>20</title>\n",
       "<text text-anchor=\"middle\" x=\"641\" y=\"-446.3\" font-family=\"Courier,monospace\" font-size=\"14.00\" fill=\"#008040\">Store</text>\n",
       "</g>\n",
       "<!-- 18&#45;&#45;20 -->\n",
       "<g id=\"edge20\" class=\"edge\">\n",
       "<title>18--20</title>\n",
       "<path fill=\"none\" stroke=\"black\" d=\"M633,-503C633,-503 636.09,-482.94 638.42,-467.74\"/>\n",
       "</g>\n",
       "<!-- 22 -->\n",
       "<g id=\"node23\" class=\"node\">\n",
       "<title>22</title>\n",
       "<text text-anchor=\"middle\" x=\"715\" y=\"-446.3\" font-family=\"Courier,monospace\" font-size=\"14.00\" fill=\"#008040\">&quot;s&quot;</text>\n",
       "</g>\n",
       "<!-- 21&#45;&#45;22 -->\n",
       "<g id=\"edge22\" class=\"edge\">\n",
       "<title>21--22</title>\n",
       "<path fill=\"none\" stroke=\"black\" d=\"M722,-503C722,-503 719.3,-482.94 717.25,-467.74\"/>\n",
       "</g>\n",
       "<!-- 23 -->\n",
       "<g id=\"node24\" class=\"node\">\n",
       "<title>23</title>\n",
       "<text text-anchor=\"middle\" x=\"787\" y=\"-446.3\" font-family=\"Courier,monospace\" font-size=\"14.00\" fill=\"#008040\">Load</text>\n",
       "</g>\n",
       "<!-- 21&#45;&#45;23 -->\n",
       "<g id=\"edge23\" class=\"edge\">\n",
       "<title>21--23</title>\n",
       "<path fill=\"none\" stroke=\"black\" d=\"M722,-503C722,-503 747.07,-482.94 766.08,-467.74\"/>\n",
       "</g>\n",
       "<!-- 25 -->\n",
       "<g id=\"node26\" class=\"node\">\n",
       "<title>25</title>\n",
       "<text text-anchor=\"start\" x=\"840\" y=\"-447.3\" font-family=\"Courier,monospace\" font-weight=\"bold\" font-size=\"14.00\" fill=\"#004080\">BoolOp</text>\n",
       "</g>\n",
       "<!-- 24&#45;&#45;25 -->\n",
       "<g id=\"edge25\" class=\"edge\">\n",
       "<title>24--25</title>\n",
       "<path fill=\"none\" stroke=\"black\" d=\"M916,-503C916,-503 896.33,-482.94 881.42,-467.74\"/>\n",
       "</g>\n",
       "<!-- 39 -->\n",
       "<g id=\"node40\" class=\"node\">\n",
       "<title>39</title>\n",
       "<text text-anchor=\"start\" x=\"924\" y=\"-447.3\" font-family=\"Courier,monospace\" font-weight=\"bold\" font-size=\"14.00\" fill=\"#004080\">Assign</text>\n",
       "</g>\n",
       "<!-- 24&#45;&#45;39 -->\n",
       "<g id=\"edge39\" class=\"edge\">\n",
       "<title>24--39</title>\n",
       "<path fill=\"none\" stroke=\"black\" d=\"M916,-503C916,-503 928.73,-482.94 938.38,-467.74\"/>\n",
       "</g>\n",
       "<!-- 45 -->\n",
       "<g id=\"node46\" class=\"node\">\n",
       "<title>45</title>\n",
       "<text text-anchor=\"start\" x=\"1238.5\" y=\"-447.3\" font-family=\"Courier,monospace\" font-weight=\"bold\" font-size=\"14.00\" fill=\"#004080\">If</text>\n",
       "</g>\n",
       "<!-- 24&#45;&#45;45 -->\n",
       "<g id=\"edge45\" class=\"edge\">\n",
       "<title>24--45</title>\n",
       "<path fill=\"none\" stroke=\"black\" d=\"M916,-503C916,-503 1141.39,-467.59 1220.19,-455.21\"/>\n",
       "</g>\n",
       "<!-- 26 -->\n",
       "<g id=\"node27\" class=\"node\">\n",
       "<title>26</title>\n",
       "<text text-anchor=\"middle\" x=\"527\" y=\"-374.3\" font-family=\"Courier,monospace\" font-size=\"14.00\" fill=\"#008040\">And</text>\n",
       "</g>\n",
       "<!-- 25&#45;&#45;26 -->\n",
       "<g id=\"edge26\" class=\"edge\">\n",
       "<title>25--26</title>\n",
       "<path fill=\"none\" stroke=\"black\" d=\"M832,-436C832,-436 827.21,-433.2 823,-432 710.82,-400 674.81,-429.29 563,-396 559.95,-395.09 556.84,-393.96 553.78,-392.72\"/>\n",
       "</g>\n",
       "<!-- 27 -->\n",
       "<g id=\"node28\" class=\"node\">\n",
       "<title>27</title>\n",
       "<text text-anchor=\"start\" x=\"580\" y=\"-375.3\" font-family=\"Courier,monospace\" font-weight=\"bold\" font-size=\"14.00\" fill=\"#004080\">Compare</text>\n",
       "</g>\n",
       "<!-- 25&#45;&#45;27 -->\n",
       "<g id=\"edge27\" class=\"edge\">\n",
       "<title>25--27</title>\n",
       "<path fill=\"none\" stroke=\"black\" d=\"M832,-436C832,-436 827.14,-433.42 823,-432 762.18,-411.13 689.02,-394.83 645.92,-386.09\"/>\n",
       "</g>\n",
       "<!-- 34 -->\n",
       "<g id=\"node35\" class=\"node\">\n",
       "<title>34</title>\n",
       "<text text-anchor=\"start\" x=\"739\" y=\"-375.3\" font-family=\"Courier,monospace\" font-weight=\"bold\" font-size=\"14.00\" fill=\"#004080\">UnaryOp</text>\n",
       "</g>\n",
       "<!-- 25&#45;&#45;34 -->\n",
       "<g id=\"edge34\" class=\"edge\">\n",
       "<title>25--34</title>\n",
       "<path fill=\"none\" stroke=\"black\" d=\"M832,-436C832,-436 805.73,-412.61 786.86,-395.79\"/>\n",
       "</g>\n",
       "<!-- 28 -->\n",
       "<g id=\"node29\" class=\"node\">\n",
       "<title>28</title>\n",
       "<text text-anchor=\"start\" x=\"433\" y=\"-303.3\" font-family=\"Courier,monospace\" font-weight=\"bold\" font-size=\"14.00\" fill=\"#004080\">Name</text>\n",
       "</g>\n",
       "<!-- 27&#45;&#45;28 -->\n",
       "<g id=\"edge28\" class=\"edge\">\n",
       "<title>27--28</title>\n",
       "<path fill=\"none\" stroke=\"black\" d=\"M594,-359C594,-359 532.91,-342.59 486,-324 483.04,-322.83 479.99,-321.53 476.96,-320.19\"/>\n",
       "</g>\n",
       "<!-- 31 -->\n",
       "<g id=\"node32\" class=\"node\">\n",
       "<title>31</title>\n",
       "<text text-anchor=\"middle\" x=\"522\" y=\"-302.3\" font-family=\"Courier,monospace\" font-size=\"14.00\" fill=\"#008040\">Eq</text>\n",
       "</g>\n",
       "<!-- 27&#45;&#45;31 -->\n",
       "<g id=\"edge31\" class=\"edge\">\n",
       "<title>27--31</title>\n",
       "<path fill=\"none\" stroke=\"black\" d=\"M594,-359C594,-359 566.23,-338.94 545.18,-323.74\"/>\n",
       "</g>\n",
       "<!-- 32 -->\n",
       "<g id=\"node33\" class=\"node\">\n",
       "<title>32</title>\n",
       "<text text-anchor=\"start\" x=\"575.5\" y=\"-303.3\" font-family=\"Courier,monospace\" font-weight=\"bold\" font-size=\"14.00\" fill=\"#004080\">Constant</text>\n",
       "</g>\n",
       "<!-- 27&#45;&#45;32 -->\n",
       "<g id=\"edge32\" class=\"edge\">\n",
       "<title>27--32</title>\n",
       "<path fill=\"none\" stroke=\"black\" d=\"M594,-359C594,-359 599.79,-338.94 604.17,-323.74\"/>\n",
       "</g>\n",
       "<!-- 29 -->\n",
       "<g id=\"node30\" class=\"node\">\n",
       "<title>29</title>\n",
       "<text text-anchor=\"middle\" x=\"414\" y=\"-230.3\" font-family=\"Courier,monospace\" font-size=\"14.00\" fill=\"#008040\">&quot;c&quot;</text>\n",
       "</g>\n",
       "<!-- 28&#45;&#45;29 -->\n",
       "<g id=\"edge29\" class=\"edge\">\n",
       "<title>28--29</title>\n",
       "<path fill=\"none\" stroke=\"black\" d=\"M450,-287C450,-287 436.11,-266.94 425.59,-251.74\"/>\n",
       "</g>\n",
       "<!-- 30 -->\n",
       "<g id=\"node31\" class=\"node\">\n",
       "<title>30</title>\n",
       "<text text-anchor=\"middle\" x=\"486\" y=\"-230.3\" font-family=\"Courier,monospace\" font-size=\"14.00\" fill=\"#008040\">Load</text>\n",
       "</g>\n",
       "<!-- 28&#45;&#45;30 -->\n",
       "<g id=\"edge30\" class=\"edge\">\n",
       "<title>28--30</title>\n",
       "<path fill=\"none\" stroke=\"black\" d=\"M450,-287C450,-287 463.89,-266.94 474.41,-251.74\"/>\n",
       "</g>\n",
       "<!-- 33 -->\n",
       "<g id=\"node34\" class=\"node\">\n",
       "<title>33</title>\n",
       "<text text-anchor=\"middle\" x=\"609\" y=\"-230.3\" font-family=\"Courier,monospace\" font-size=\"14.00\" fill=\"#008040\">&quot;&lt;&quot;</text>\n",
       "</g>\n",
       "<!-- 32&#45;&#45;33 -->\n",
       "<g id=\"edge33\" class=\"edge\">\n",
       "<title>32--33</title>\n",
       "<path fill=\"none\" stroke=\"black\" d=\"M609,-288.05C609,-277.05 609,-262.76 609,-251.79\"/>\n",
       "</g>\n",
       "<!-- 35 -->\n",
       "<g id=\"node36\" class=\"node\">\n",
       "<title>35</title>\n",
       "<text text-anchor=\"middle\" x=\"696\" y=\"-302.3\" font-family=\"Courier,monospace\" font-size=\"14.00\" fill=\"#008040\">Not</text>\n",
       "</g>\n",
       "<!-- 34&#45;&#45;35 -->\n",
       "<g id=\"edge35\" class=\"edge\">\n",
       "<title>34--35</title>\n",
       "<path fill=\"none\" stroke=\"black\" d=\"M761,-359C761,-359 735.93,-338.94 716.92,-323.74\"/>\n",
       "</g>\n",
       "<!-- 36 -->\n",
       "<g id=\"node37\" class=\"node\">\n",
       "<title>36</title>\n",
       "<text text-anchor=\"start\" x=\"751\" y=\"-303.3\" font-family=\"Courier,monospace\" font-weight=\"bold\" font-size=\"14.00\" fill=\"#004080\">Name</text>\n",
       "</g>\n",
       "<!-- 34&#45;&#45;36 -->\n",
       "<g id=\"edge36\" class=\"edge\">\n",
       "<title>34--36</title>\n",
       "<path fill=\"none\" stroke=\"black\" d=\"M761,-359C761,-359 763.7,-338.94 765.75,-323.74\"/>\n",
       "</g>\n",
       "<!-- 37 -->\n",
       "<g id=\"node38\" class=\"node\">\n",
       "<title>37</title>\n",
       "<text text-anchor=\"middle\" x=\"729\" y=\"-230.3\" font-family=\"Courier,monospace\" font-size=\"14.00\" fill=\"#008040\">&quot;quote&quot;</text>\n",
       "</g>\n",
       "<!-- 36&#45;&#45;37 -->\n",
       "<g id=\"edge37\" class=\"edge\">\n",
       "<title>36--37</title>\n",
       "<path fill=\"none\" stroke=\"black\" d=\"M768,-287C768,-287 752.96,-266.94 741.55,-251.74\"/>\n",
       "</g>\n",
       "<!-- 38 -->\n",
       "<g id=\"node39\" class=\"node\">\n",
       "<title>38</title>\n",
       "<text text-anchor=\"middle\" x=\"811\" y=\"-230.3\" font-family=\"Courier,monospace\" font-size=\"14.00\" fill=\"#008040\">Load</text>\n",
       "</g>\n",
       "<!-- 36&#45;&#45;38 -->\n",
       "<g id=\"edge38\" class=\"edge\">\n",
       "<title>36--38</title>\n",
       "<path fill=\"none\" stroke=\"black\" d=\"M768,-287C768,-287 784.59,-266.94 797.16,-251.74\"/>\n",
       "</g>\n",
       "<!-- 40 -->\n",
       "<g id=\"node41\" class=\"node\">\n",
       "<title>40</title>\n",
       "<text text-anchor=\"start\" x=\"888\" y=\"-375.3\" font-family=\"Courier,monospace\" font-weight=\"bold\" font-size=\"14.00\" fill=\"#004080\">Name</text>\n",
       "</g>\n",
       "<!-- 39&#45;&#45;40 -->\n",
       "<g id=\"edge40\" class=\"edge\">\n",
       "<title>39--40</title>\n",
       "<path fill=\"none\" stroke=\"black\" d=\"M949,-431C949,-431 932.03,-410.94 919.16,-395.74\"/>\n",
       "</g>\n",
       "<!-- 43 -->\n",
       "<g id=\"node44\" class=\"node\">\n",
       "<title>43</title>\n",
       "<text text-anchor=\"start\" x=\"958.5\" y=\"-375.3\" font-family=\"Courier,monospace\" font-weight=\"bold\" font-size=\"14.00\" fill=\"#004080\">Constant</text>\n",
       "</g>\n",
       "<!-- 39&#45;&#45;43 -->\n",
       "<g id=\"edge43\" class=\"edge\">\n",
       "<title>39--43</title>\n",
       "<path fill=\"none\" stroke=\"black\" d=\"M949,-431C949,-431 965.59,-410.94 978.16,-395.74\"/>\n",
       "</g>\n",
       "<!-- 41 -->\n",
       "<g id=\"node42\" class=\"node\">\n",
       "<title>41</title>\n",
       "<text text-anchor=\"middle\" x=\"842\" y=\"-302.3\" font-family=\"Courier,monospace\" font-size=\"14.00\" fill=\"#008040\">&quot;tag&quot;</text>\n",
       "</g>\n",
       "<!-- 40&#45;&#45;41 -->\n",
       "<g id=\"edge41\" class=\"edge\">\n",
       "<title>40--41</title>\n",
       "<path fill=\"none\" stroke=\"black\" d=\"M900,-359C900,-359 877.63,-338.94 860.67,-323.74\"/>\n",
       "</g>\n",
       "<!-- 42 -->\n",
       "<g id=\"node43\" class=\"node\">\n",
       "<title>42</title>\n",
       "<text text-anchor=\"middle\" x=\"918\" y=\"-302.3\" font-family=\"Courier,monospace\" font-size=\"14.00\" fill=\"#008040\">Store</text>\n",
       "</g>\n",
       "<!-- 40&#45;&#45;42 -->\n",
       "<g id=\"edge42\" class=\"edge\">\n",
       "<title>40--42</title>\n",
       "<path fill=\"none\" stroke=\"black\" d=\"M900,-359C900,-359 906.94,-338.94 912.21,-323.74\"/>\n",
       "</g>\n",
       "<!-- 44 -->\n",
       "<g id=\"node45\" class=\"node\">\n",
       "<title>44</title>\n",
       "<text text-anchor=\"middle\" x=\"992\" y=\"-302.3\" font-family=\"Courier,monospace\" font-size=\"14.00\" fill=\"#008040\">True</text>\n",
       "</g>\n",
       "<!-- 43&#45;&#45;44 -->\n",
       "<g id=\"edge44\" class=\"edge\">\n",
       "<title>43--44</title>\n",
       "<path fill=\"none\" stroke=\"black\" d=\"M992,-360.05C992,-349.05 992,-334.76 992,-323.79\"/>\n",
       "</g>\n",
       "<!-- 46 -->\n",
       "<g id=\"node47\" class=\"node\">\n",
       "<title>46</title>\n",
       "<text text-anchor=\"start\" x=\"1167\" y=\"-375.3\" font-family=\"Courier,monospace\" font-weight=\"bold\" font-size=\"14.00\" fill=\"#004080\">BoolOp</text>\n",
       "</g>\n",
       "<!-- 45&#45;&#45;46 -->\n",
       "<g id=\"edge46\" class=\"edge\">\n",
       "<title>45--46</title>\n",
       "<path fill=\"none\" stroke=\"black\" d=\"M1261,-431C1261,-431 1234.38,-410.94 1214.21,-395.74\"/>\n",
       "</g>\n",
       "<!-- 60 -->\n",
       "<g id=\"node61\" class=\"node\">\n",
       "<title>60</title>\n",
       "<text text-anchor=\"start\" x=\"1323\" y=\"-375.3\" font-family=\"Courier,monospace\" font-weight=\"bold\" font-size=\"14.00\" fill=\"#004080\">Assign</text>\n",
       "</g>\n",
       "<!-- 45&#45;&#45;60 -->\n",
       "<g id=\"edge60\" class=\"edge\">\n",
       "<title>45--60</title>\n",
       "<path fill=\"none\" stroke=\"black\" d=\"M1261,-431C1261,-431 1294.56,-410.94 1319.99,-395.74\"/>\n",
       "</g>\n",
       "<!-- 66 -->\n",
       "<g id=\"node67\" class=\"node\">\n",
       "<title>66</title>\n",
       "<text text-anchor=\"start\" x=\"1715.5\" y=\"-375.3\" font-family=\"Courier,monospace\" font-weight=\"bold\" font-size=\"14.00\" fill=\"#004080\">If</text>\n",
       "</g>\n",
       "<!-- 45&#45;&#45;66 -->\n",
       "<g id=\"edge66\" class=\"edge\">\n",
       "<title>45--66</title>\n",
       "<path fill=\"none\" stroke=\"black\" d=\"M1261,-431C1261,-431 1598.29,-393.12 1697.11,-382.02\"/>\n",
       "</g>\n",
       "<!-- 47 -->\n",
       "<g id=\"node48\" class=\"node\">\n",
       "<title>47</title>\n",
       "<text text-anchor=\"middle\" x=\"1064\" y=\"-302.3\" font-family=\"Courier,monospace\" font-size=\"14.00\" fill=\"#008040\">And</text>\n",
       "</g>\n",
       "<!-- 46&#45;&#45;47 -->\n",
       "<g id=\"edge47\" class=\"edge\">\n",
       "<title>46--47</title>\n",
       "<path fill=\"none\" stroke=\"black\" d=\"M1185,-359C1185,-359 1137.37,-340.51 1100,-324 1096.97,-322.66 1093.8,-321.22 1090.67,-319.78\"/>\n",
       "</g>\n",
       "<!-- 48 -->\n",
       "<g id=\"node49\" class=\"node\">\n",
       "<title>48</title>\n",
       "<text text-anchor=\"start\" x=\"1117\" y=\"-303.3\" font-family=\"Courier,monospace\" font-weight=\"bold\" font-size=\"14.00\" fill=\"#004080\">Compare</text>\n",
       "</g>\n",
       "<!-- 46&#45;&#45;48 -->\n",
       "<g id=\"edge48\" class=\"edge\">\n",
       "<title>46--48</title>\n",
       "<path fill=\"none\" stroke=\"black\" d=\"M1185,-359C1185,-359 1169.96,-338.94 1158.55,-323.74\"/>\n",
       "</g>\n",
       "<!-- 55 -->\n",
       "<g id=\"node56\" class=\"node\">\n",
       "<title>55</title>\n",
       "<text text-anchor=\"start\" x=\"1209\" y=\"-303.3\" font-family=\"Courier,monospace\" font-weight=\"bold\" font-size=\"14.00\" fill=\"#004080\">UnaryOp</text>\n",
       "</g>\n",
       "<!-- 46&#45;&#45;55 -->\n",
       "<g id=\"edge55\" class=\"edge\">\n",
       "<title>46--55</title>\n",
       "<path fill=\"none\" stroke=\"black\" d=\"M1185,-359C1185,-359 1205.45,-338.94 1220.94,-323.74\"/>\n",
       "</g>\n",
       "<!-- 49 -->\n",
       "<g id=\"node50\" class=\"node\">\n",
       "<title>49</title>\n",
       "<text text-anchor=\"start\" x=\"903\" y=\"-231.3\" font-family=\"Courier,monospace\" font-weight=\"bold\" font-size=\"14.00\" fill=\"#004080\">Name</text>\n",
       "</g>\n",
       "<!-- 48&#45;&#45;49 -->\n",
       "<g id=\"edge49\" class=\"edge\">\n",
       "<title>48--49</title>\n",
       "<path fill=\"none\" stroke=\"black\" d=\"M1115,-287C1115,-287 1024.48,-275.37 956,-252 952.99,-250.97 949.9,-249.77 946.86,-248.48\"/>\n",
       "</g>\n",
       "<!-- 52 -->\n",
       "<g id=\"node53\" class=\"node\">\n",
       "<title>52</title>\n",
       "<text text-anchor=\"middle\" x=\"992\" y=\"-230.3\" font-family=\"Courier,monospace\" font-size=\"14.00\" fill=\"#008040\">Eq</text>\n",
       "</g>\n",
       "<!-- 48&#45;&#45;52 -->\n",
       "<g id=\"edge52\" class=\"edge\">\n",
       "<title>48--52</title>\n",
       "<path fill=\"none\" stroke=\"black\" d=\"M1115,-287C1115,-287 1066.19,-268.68 1028,-252 1024.96,-250.67 1021.79,-249.24 1018.66,-247.8\"/>\n",
       "</g>\n",
       "<!-- 53 -->\n",
       "<g id=\"node54\" class=\"node\">\n",
       "<title>53</title>\n",
       "<text text-anchor=\"start\" x=\"1045.5\" y=\"-231.3\" font-family=\"Courier,monospace\" font-weight=\"bold\" font-size=\"14.00\" fill=\"#004080\">Constant</text>\n",
       "</g>\n",
       "<!-- 48&#45;&#45;53 -->\n",
       "<g id=\"edge53\" class=\"edge\">\n",
       "<title>48--53</title>\n",
       "<path fill=\"none\" stroke=\"black\" d=\"M1115,-287C1115,-287 1101.11,-266.94 1090.59,-251.74\"/>\n",
       "</g>\n",
       "<!-- 50 -->\n",
       "<g id=\"node51\" class=\"node\">\n",
       "<title>50</title>\n",
       "<text text-anchor=\"middle\" x=\"884\" y=\"-158.3\" font-family=\"Courier,monospace\" font-size=\"14.00\" fill=\"#008040\">&quot;c&quot;</text>\n",
       "</g>\n",
       "<!-- 49&#45;&#45;50 -->\n",
       "<g id=\"edge50\" class=\"edge\">\n",
       "<title>49--50</title>\n",
       "<path fill=\"none\" stroke=\"black\" d=\"M920,-215C920,-215 906.11,-194.94 895.59,-179.74\"/>\n",
       "</g>\n",
       "<!-- 51 -->\n",
       "<g id=\"node52\" class=\"node\">\n",
       "<title>51</title>\n",
       "<text text-anchor=\"middle\" x=\"956\" y=\"-158.3\" font-family=\"Courier,monospace\" font-size=\"14.00\" fill=\"#008040\">Load</text>\n",
       "</g>\n",
       "<!-- 49&#45;&#45;51 -->\n",
       "<g id=\"edge51\" class=\"edge\">\n",
       "<title>49--51</title>\n",
       "<path fill=\"none\" stroke=\"black\" d=\"M920,-215C920,-215 933.89,-194.94 944.41,-179.74\"/>\n",
       "</g>\n",
       "<!-- 54 -->\n",
       "<g id=\"node55\" class=\"node\">\n",
       "<title>54</title>\n",
       "<text text-anchor=\"middle\" x=\"1079\" y=\"-158.3\" font-family=\"Courier,monospace\" font-size=\"14.00\" fill=\"#008040\">&quot;&gt;&quot;</text>\n",
       "</g>\n",
       "<!-- 53&#45;&#45;54 -->\n",
       "<g id=\"edge54\" class=\"edge\">\n",
       "<title>53--54</title>\n",
       "<path fill=\"none\" stroke=\"black\" d=\"M1079,-216.05C1079,-205.05 1079,-190.76 1079,-179.79\"/>\n",
       "</g>\n",
       "<!-- 56 -->\n",
       "<g id=\"node57\" class=\"node\">\n",
       "<title>56</title>\n",
       "<text text-anchor=\"middle\" x=\"1166\" y=\"-230.3\" font-family=\"Courier,monospace\" font-size=\"14.00\" fill=\"#008040\">Not</text>\n",
       "</g>\n",
       "<!-- 55&#45;&#45;56 -->\n",
       "<g id=\"edge56\" class=\"edge\">\n",
       "<title>55--56</title>\n",
       "<path fill=\"none\" stroke=\"black\" d=\"M1231,-287C1231,-287 1205.93,-266.94 1186.92,-251.74\"/>\n",
       "</g>\n",
       "<!-- 57 -->\n",
       "<g id=\"node58\" class=\"node\">\n",
       "<title>57</title>\n",
       "<text text-anchor=\"start\" x=\"1221\" y=\"-231.3\" font-family=\"Courier,monospace\" font-weight=\"bold\" font-size=\"14.00\" fill=\"#004080\">Name</text>\n",
       "</g>\n",
       "<!-- 55&#45;&#45;57 -->\n",
       "<g id=\"edge57\" class=\"edge\">\n",
       "<title>55--57</title>\n",
       "<path fill=\"none\" stroke=\"black\" d=\"M1231,-287C1231,-287 1233.7,-266.94 1235.75,-251.74\"/>\n",
       "</g>\n",
       "<!-- 58 -->\n",
       "<g id=\"node59\" class=\"node\">\n",
       "<title>58</title>\n",
       "<text text-anchor=\"middle\" x=\"1193\" y=\"-158.3\" font-family=\"Courier,monospace\" font-size=\"14.00\" fill=\"#008040\">&quot;quote&quot;</text>\n",
       "</g>\n",
       "<!-- 57&#45;&#45;58 -->\n",
       "<g id=\"edge58\" class=\"edge\">\n",
       "<title>57--58</title>\n",
       "<path fill=\"none\" stroke=\"black\" d=\"M1237,-215C1237,-215 1220.03,-194.94 1207.16,-179.74\"/>\n",
       "</g>\n",
       "<!-- 59 -->\n",
       "<g id=\"node60\" class=\"node\">\n",
       "<title>59</title>\n",
       "<text text-anchor=\"middle\" x=\"1275\" y=\"-158.3\" font-family=\"Courier,monospace\" font-size=\"14.00\" fill=\"#008040\">Load</text>\n",
       "</g>\n",
       "<!-- 57&#45;&#45;59 -->\n",
       "<g id=\"edge59\" class=\"edge\">\n",
       "<title>57--59</title>\n",
       "<path fill=\"none\" stroke=\"black\" d=\"M1237,-215C1237,-215 1251.66,-194.94 1262.77,-179.74\"/>\n",
       "</g>\n",
       "<!-- 61 -->\n",
       "<g id=\"node62\" class=\"node\">\n",
       "<title>61</title>\n",
       "<text text-anchor=\"start\" x=\"1331\" y=\"-303.3\" font-family=\"Courier,monospace\" font-weight=\"bold\" font-size=\"14.00\" fill=\"#004080\">Name</text>\n",
       "</g>\n",
       "<!-- 60&#45;&#45;61 -->\n",
       "<g id=\"edge61\" class=\"edge\">\n",
       "<title>60--61</title>\n",
       "<path fill=\"none\" stroke=\"black\" d=\"M1357,-359C1357,-359 1353.53,-338.94 1350.9,-323.74\"/>\n",
       "</g>\n",
       "<!-- 64 -->\n",
       "<g id=\"node65\" class=\"node\">\n",
       "<title>64</title>\n",
       "<text text-anchor=\"start\" x=\"1415.5\" y=\"-303.3\" font-family=\"Courier,monospace\" font-weight=\"bold\" font-size=\"14.00\" fill=\"#004080\">Constant</text>\n",
       "</g>\n",
       "<!-- 60&#45;&#45;64 -->\n",
       "<g id=\"edge64\" class=\"edge\">\n",
       "<title>60--64</title>\n",
       "<path fill=\"none\" stroke=\"black\" d=\"M1357,-359C1357,-359 1392.27,-339.07 1419.13,-323.88\"/>\n",
       "</g>\n",
       "<!-- 62 -->\n",
       "<g id=\"node63\" class=\"node\">\n",
       "<title>62</title>\n",
       "<text text-anchor=\"middle\" x=\"1312\" y=\"-230.3\" font-family=\"Courier,monospace\" font-size=\"14.00\" fill=\"#008040\">&quot;tag&quot;</text>\n",
       "</g>\n",
       "<!-- 61&#45;&#45;62 -->\n",
       "<g id=\"edge62\" class=\"edge\">\n",
       "<title>61--62</title>\n",
       "<path fill=\"none\" stroke=\"black\" d=\"M1348,-287C1348,-287 1334.11,-266.94 1323.59,-251.74\"/>\n",
       "</g>\n",
       "<!-- 63 -->\n",
       "<g id=\"node64\" class=\"node\">\n",
       "<title>63</title>\n",
       "<text text-anchor=\"middle\" x=\"1388\" y=\"-230.3\" font-family=\"Courier,monospace\" font-size=\"14.00\" fill=\"#008040\">Store</text>\n",
       "</g>\n",
       "<!-- 61&#45;&#45;63 -->\n",
       "<g id=\"edge63\" class=\"edge\">\n",
       "<title>61--63</title>\n",
       "<path fill=\"none\" stroke=\"black\" d=\"M1348,-287C1348,-287 1363.43,-266.94 1375.12,-251.74\"/>\n",
       "</g>\n",
       "<!-- 65 -->\n",
       "<g id=\"node66\" class=\"node\">\n",
       "<title>65</title>\n",
       "<text text-anchor=\"middle\" x=\"1464\" y=\"-230.3\" font-family=\"Courier,monospace\" font-size=\"14.00\" fill=\"#008040\">False</text>\n",
       "</g>\n",
       "<!-- 64&#45;&#45;65 -->\n",
       "<g id=\"edge65\" class=\"edge\">\n",
       "<title>64--65</title>\n",
       "<path fill=\"none\" stroke=\"black\" d=\"M1452.63,-288.05C1454.99,-277.05 1458.05,-262.76 1460.4,-251.79\"/>\n",
       "</g>\n",
       "<!-- 67 -->\n",
       "<g id=\"node68\" class=\"node\">\n",
       "<title>67</title>\n",
       "<text text-anchor=\"start\" x=\"1633\" y=\"-303.3\" font-family=\"Courier,monospace\" font-weight=\"bold\" font-size=\"14.00\" fill=\"#004080\">BoolOp</text>\n",
       "</g>\n",
       "<!-- 66&#45;&#45;67 -->\n",
       "<g id=\"edge67\" class=\"edge\">\n",
       "<title>66--67</title>\n",
       "<path fill=\"none\" stroke=\"black\" d=\"M1735,-359C1735,-359 1705.3,-338.94 1682.79,-323.74\"/>\n",
       "</g>\n",
       "<!-- 88 -->\n",
       "<g id=\"node89\" class=\"node\">\n",
       "<title>88</title>\n",
       "<text text-anchor=\"start\" x=\"1792\" y=\"-303.3\" font-family=\"Courier,monospace\" font-weight=\"bold\" font-size=\"14.00\" fill=\"#004080\">Assign</text>\n",
       "</g>\n",
       "<!-- 66&#45;&#45;88 -->\n",
       "<g id=\"edge88\" class=\"edge\">\n",
       "<title>66--88</title>\n",
       "<path fill=\"none\" stroke=\"black\" d=\"M1735,-359C1735,-359 1766.63,-338.94 1790.6,-323.74\"/>\n",
       "</g>\n",
       "<!-- 97 -->\n",
       "<g id=\"node98\" class=\"node\">\n",
       "<title>97</title>\n",
       "<text text-anchor=\"start\" x=\"1886.5\" y=\"-303.3\" font-family=\"Courier,monospace\" font-weight=\"bold\" font-size=\"14.00\" fill=\"#004080\">If</text>\n",
       "</g>\n",
       "<!-- 66&#45;&#45;97 -->\n",
       "<g id=\"edge97\" class=\"edge\">\n",
       "<title>66--97</title>\n",
       "<path fill=\"none\" stroke=\"black\" d=\"M1735,-359C1735,-359 1805.37,-344.07 1859,-324 1861.98,-322.89 1865.05,-321.62 1868.08,-320.3\"/>\n",
       "</g>\n",
       "<!-- 68 -->\n",
       "<g id=\"node69\" class=\"node\">\n",
       "<title>68</title>\n",
       "<text text-anchor=\"middle\" x=\"1538\" y=\"-230.3\" font-family=\"Courier,monospace\" font-size=\"14.00\" fill=\"#008040\">Or</text>\n",
       "</g>\n",
       "<!-- 67&#45;&#45;68 -->\n",
       "<g id=\"edge68\" class=\"edge\">\n",
       "<title>67--68</title>\n",
       "<path fill=\"none\" stroke=\"black\" d=\"M1652,-287C1652,-287 1608.51,-267.89 1574,-252 1570.99,-250.61 1567.84,-249.15 1564.71,-247.68\"/>\n",
       "</g>\n",
       "<!-- 69 -->\n",
       "<g id=\"node70\" class=\"node\">\n",
       "<title>69</title>\n",
       "<text text-anchor=\"start\" x=\"1591\" y=\"-231.3\" font-family=\"Courier,monospace\" font-weight=\"bold\" font-size=\"14.00\" fill=\"#004080\">Compare</text>\n",
       "</g>\n",
       "<!-- 67&#45;&#45;69 -->\n",
       "<g id=\"edge69\" class=\"edge\">\n",
       "<title>67--69</title>\n",
       "<path fill=\"none\" stroke=\"black\" d=\"M1652,-287C1652,-287 1639.66,-266.94 1630.3,-251.74\"/>\n",
       "</g>\n",
       "<!-- 76 -->\n",
       "<g id=\"node77\" class=\"node\">\n",
       "<title>76</title>\n",
       "<text text-anchor=\"start\" x=\"1683\" y=\"-231.3\" font-family=\"Courier,monospace\" font-weight=\"bold\" font-size=\"14.00\" fill=\"#004080\">BoolOp</text>\n",
       "</g>\n",
       "<!-- 67&#45;&#45;76 -->\n",
       "<g id=\"edge76\" class=\"edge\">\n",
       "<title>67--76</title>\n",
       "<path fill=\"none\" stroke=\"black\" d=\"M1652,-287C1652,-287 1673.6,-266.94 1689.97,-251.74\"/>\n",
       "</g>\n",
       "<!-- 70 -->\n",
       "<g id=\"node71\" class=\"node\">\n",
       "<title>70</title>\n",
       "<text text-anchor=\"start\" x=\"1346\" y=\"-159.3\" font-family=\"Courier,monospace\" font-weight=\"bold\" font-size=\"14.00\" fill=\"#004080\">Name</text>\n",
       "</g>\n",
       "<!-- 69&#45;&#45;70 -->\n",
       "<g id=\"edge70\" class=\"edge\">\n",
       "<title>69--70</title>\n",
       "<path fill=\"none\" stroke=\"black\" d=\"M1583,-216C1583,-216 1478.17,-205.99 1399,-180 1395.98,-179.01 1392.88,-177.82 1389.83,-176.55\"/>\n",
       "</g>\n",
       "<!-- 73 -->\n",
       "<g id=\"node74\" class=\"node\">\n",
       "<title>73</title>\n",
       "<text text-anchor=\"middle\" x=\"1435\" y=\"-158.3\" font-family=\"Courier,monospace\" font-size=\"14.00\" fill=\"#008040\">Eq</text>\n",
       "</g>\n",
       "<!-- 69&#45;&#45;73 -->\n",
       "<g id=\"edge73\" class=\"edge\">\n",
       "<title>69--73</title>\n",
       "<path fill=\"none\" stroke=\"black\" d=\"M1583,-216C1583,-216 1519.63,-199.2 1471,-180 1468.04,-178.83 1464.99,-177.54 1461.96,-176.19\"/>\n",
       "</g>\n",
       "<!-- 74 -->\n",
       "<g id=\"node75\" class=\"node\">\n",
       "<title>74</title>\n",
       "<text text-anchor=\"start\" x=\"1488.5\" y=\"-159.3\" font-family=\"Courier,monospace\" font-weight=\"bold\" font-size=\"14.00\" fill=\"#004080\">Constant</text>\n",
       "</g>\n",
       "<!-- 69&#45;&#45;74 -->\n",
       "<g id=\"edge74\" class=\"edge\">\n",
       "<title>69--74</title>\n",
       "<path fill=\"none\" stroke=\"black\" d=\"M1583,-216C1583,-216 1559.17,-195.3 1541.3,-179.77\"/>\n",
       "</g>\n",
       "<!-- 71 -->\n",
       "<g id=\"node72\" class=\"node\">\n",
       "<title>71</title>\n",
       "<text text-anchor=\"middle\" x=\"1303\" y=\"-86.3\" font-family=\"Courier,monospace\" font-size=\"14.00\" fill=\"#008040\">&quot;c&quot;</text>\n",
       "</g>\n",
       "<!-- 70&#45;&#45;71 -->\n",
       "<g id=\"edge71\" class=\"edge\">\n",
       "<title>70--71</title>\n",
       "<path fill=\"none\" stroke=\"black\" d=\"M1358,-143C1358,-143 1336.78,-122.94 1320.71,-107.74\"/>\n",
       "</g>\n",
       "<!-- 72 -->\n",
       "<g id=\"node73\" class=\"node\">\n",
       "<title>72</title>\n",
       "<text text-anchor=\"middle\" x=\"1375\" y=\"-86.3\" font-family=\"Courier,monospace\" font-size=\"14.00\" fill=\"#008040\">Load</text>\n",
       "</g>\n",
       "<!-- 70&#45;&#45;72 -->\n",
       "<g id=\"edge72\" class=\"edge\">\n",
       "<title>70--72</title>\n",
       "<path fill=\"none\" stroke=\"black\" d=\"M1358,-143C1358,-143 1364.56,-122.94 1369.53,-107.74\"/>\n",
       "</g>\n",
       "<!-- 75 -->\n",
       "<g id=\"node76\" class=\"node\">\n",
       "<title>75</title>\n",
       "<text text-anchor=\"middle\" x=\"1491\" y=\"-86.3\" font-family=\"Courier,monospace\" font-size=\"14.00\" fill=\"#008040\">&quot;&quot;&quot;</text>\n",
       "</g>\n",
       "<!-- 74&#45;&#45;75 -->\n",
       "<g id=\"edge75\" class=\"edge\">\n",
       "<title>74--75</title>\n",
       "<path fill=\"none\" stroke=\"black\" d=\"M1514.5,-144.05C1509.62,-133.05 1503.3,-118.76 1498.44,-107.79\"/>\n",
       "</g>\n",
       "<!-- 77 -->\n",
       "<g id=\"node78\" class=\"node\">\n",
       "<title>77</title>\n",
       "<text text-anchor=\"middle\" x=\"1609\" y=\"-158.3\" font-family=\"Courier,monospace\" font-size=\"14.00\" fill=\"#008040\">And</text>\n",
       "</g>\n",
       "<!-- 76&#45;&#45;77 -->\n",
       "<g id=\"edge77\" class=\"edge\">\n",
       "<title>76--77</title>\n",
       "<path fill=\"none\" stroke=\"black\" d=\"M1705,-215C1705,-215 1664.39,-193 1636,-177.62\"/>\n",
       "</g>\n",
       "<!-- 78 -->\n",
       "<g id=\"node79\" class=\"node\">\n",
       "<title>78</title>\n",
       "<text text-anchor=\"start\" x=\"1662\" y=\"-159.3\" font-family=\"Courier,monospace\" font-weight=\"bold\" font-size=\"14.00\" fill=\"#004080\">Compare</text>\n",
       "</g>\n",
       "<!-- 76&#45;&#45;78 -->\n",
       "<g id=\"edge78\" class=\"edge\">\n",
       "<title>76--78</title>\n",
       "<path fill=\"none\" stroke=\"black\" d=\"M1705,-215C1705,-215 1699.6,-194.94 1695.51,-179.74\"/>\n",
       "</g>\n",
       "<!-- 85 -->\n",
       "<g id=\"node86\" class=\"node\">\n",
       "<title>85</title>\n",
       "<text text-anchor=\"start\" x=\"1756\" y=\"-159.3\" font-family=\"Courier,monospace\" font-weight=\"bold\" font-size=\"14.00\" fill=\"#004080\">Name</text>\n",
       "</g>\n",
       "<!-- 76&#45;&#45;85 -->\n",
       "<g id=\"edge85\" class=\"edge\">\n",
       "<title>76--85</title>\n",
       "<path fill=\"none\" stroke=\"black\" d=\"M1705,-215C1705,-215 1731.23,-194.94 1751.11,-179.74\"/>\n",
       "</g>\n",
       "<!-- 79 -->\n",
       "<g id=\"node80\" class=\"node\">\n",
       "<title>79</title>\n",
       "<text text-anchor=\"start\" x=\"1546\" y=\"-87.3\" font-family=\"Courier,monospace\" font-weight=\"bold\" font-size=\"14.00\" fill=\"#004080\">Name</text>\n",
       "</g>\n",
       "<!-- 78&#45;&#45;79 -->\n",
       "<g id=\"edge79\" class=\"edge\">\n",
       "<title>78--79</title>\n",
       "<path fill=\"none\" stroke=\"black\" d=\"M1682,-143C1682,-143 1635.55,-124.33 1599,-108 1595.97,-106.65 1592.81,-105.2 1589.68,-103.75\"/>\n",
       "</g>\n",
       "<!-- 82 -->\n",
       "<g id=\"node83\" class=\"node\">\n",
       "<title>82</title>\n",
       "<text text-anchor=\"middle\" x=\"1635\" y=\"-86.3\" font-family=\"Courier,monospace\" font-size=\"14.00\" fill=\"#008040\">Eq</text>\n",
       "</g>\n",
       "<!-- 78&#45;&#45;82 -->\n",
       "<g id=\"edge82\" class=\"edge\">\n",
       "<title>78--82</title>\n",
       "<path fill=\"none\" stroke=\"black\" d=\"M1682,-143C1682,-143 1663.87,-122.94 1650.13,-107.74\"/>\n",
       "</g>\n",
       "<!-- 83 -->\n",
       "<g id=\"node84\" class=\"node\">\n",
       "<title>83</title>\n",
       "<text text-anchor=\"start\" x=\"1688.5\" y=\"-87.3\" font-family=\"Courier,monospace\" font-weight=\"bold\" font-size=\"14.00\" fill=\"#004080\">Constant</text>\n",
       "</g>\n",
       "<!-- 78&#45;&#45;83 -->\n",
       "<g id=\"edge83\" class=\"edge\">\n",
       "<title>78--83</title>\n",
       "<path fill=\"none\" stroke=\"black\" d=\"M1682,-143C1682,-143 1697.43,-122.94 1709.12,-107.74\"/>\n",
       "</g>\n",
       "<!-- 80 -->\n",
       "<g id=\"node81\" class=\"node\">\n",
       "<title>80</title>\n",
       "<text text-anchor=\"middle\" x=\"1527\" y=\"-14.3\" font-family=\"Courier,monospace\" font-size=\"14.00\" fill=\"#008040\">&quot;c&quot;</text>\n",
       "</g>\n",
       "<!-- 79&#45;&#45;80 -->\n",
       "<g id=\"edge80\" class=\"edge\">\n",
       "<title>79--80</title>\n",
       "<path fill=\"none\" stroke=\"black\" d=\"M1563,-71C1563,-71 1549.11,-50.94 1538.59,-35.74\"/>\n",
       "</g>\n",
       "<!-- 81 -->\n",
       "<g id=\"node82\" class=\"node\">\n",
       "<title>81</title>\n",
       "<text text-anchor=\"middle\" x=\"1599\" y=\"-14.3\" font-family=\"Courier,monospace\" font-size=\"14.00\" fill=\"#008040\">Load</text>\n",
       "</g>\n",
       "<!-- 79&#45;&#45;81 -->\n",
       "<g id=\"edge81\" class=\"edge\">\n",
       "<title>79--81</title>\n",
       "<path fill=\"none\" stroke=\"black\" d=\"M1563,-71C1563,-71 1576.89,-50.94 1587.41,-35.74\"/>\n",
       "</g>\n",
       "<!-- 84 -->\n",
       "<g id=\"node85\" class=\"node\">\n",
       "<title>84</title>\n",
       "<text text-anchor=\"middle\" x=\"1722\" y=\"-14.3\" font-family=\"Courier,monospace\" font-size=\"14.00\" fill=\"#008040\">&quot;'&quot;</text>\n",
       "</g>\n",
       "<!-- 83&#45;&#45;84 -->\n",
       "<g id=\"edge84\" class=\"edge\">\n",
       "<title>83--84</title>\n",
       "<path fill=\"none\" stroke=\"black\" d=\"M1722,-72.05C1722,-61.05 1722,-46.76 1722,-35.79\"/>\n",
       "</g>\n",
       "<!-- 86 -->\n",
       "<g id=\"node87\" class=\"node\">\n",
       "<title>86</title>\n",
       "<text text-anchor=\"middle\" x=\"1811\" y=\"-86.3\" font-family=\"Courier,monospace\" font-size=\"14.00\" fill=\"#008040\">&quot;tag&quot;</text>\n",
       "</g>\n",
       "<!-- 85&#45;&#45;86 -->\n",
       "<g id=\"edge86\" class=\"edge\">\n",
       "<title>85--86</title>\n",
       "<path fill=\"none\" stroke=\"black\" d=\"M1789,-143C1789,-143 1797.49,-122.94 1803.92,-107.74\"/>\n",
       "</g>\n",
       "<!-- 87 -->\n",
       "<g id=\"node88\" class=\"node\">\n",
       "<title>87</title>\n",
       "<text text-anchor=\"middle\" x=\"1885\" y=\"-86.3\" font-family=\"Courier,monospace\" font-size=\"14.00\" fill=\"#008040\">Load</text>\n",
       "</g>\n",
       "<!-- 85&#45;&#45;87 -->\n",
       "<g id=\"edge87\" class=\"edge\">\n",
       "<title>85--87</title>\n",
       "<path fill=\"none\" stroke=\"black\" d=\"M1789,-143C1789,-143 1829.61,-121 1858,-105.62\"/>\n",
       "</g>\n",
       "<!-- 89 -->\n",
       "<g id=\"node90\" class=\"node\">\n",
       "<title>89</title>\n",
       "<text text-anchor=\"start\" x=\"1838\" y=\"-231.3\" font-family=\"Courier,monospace\" font-weight=\"bold\" font-size=\"14.00\" fill=\"#004080\">Name</text>\n",
       "</g>\n",
       "<!-- 88&#45;&#45;89 -->\n",
       "<g id=\"edge89\" class=\"edge\">\n",
       "<title>88--89</title>\n",
       "<path fill=\"none\" stroke=\"black\" d=\"M1837,-287C1837,-287 1843.94,-266.94 1849.21,-251.74\"/>\n",
       "</g>\n",
       "<!-- 92 -->\n",
       "<g id=\"node93\" class=\"node\">\n",
       "<title>92</title>\n",
       "<text text-anchor=\"start\" x=\"1984\" y=\"-231.3\" font-family=\"Courier,monospace\" font-weight=\"bold\" font-size=\"14.00\" fill=\"#004080\">UnaryOp</text>\n",
       "</g>\n",
       "<!-- 88&#45;&#45;92 -->\n",
       "<g id=\"edge92\" class=\"edge\">\n",
       "<title>88--92</title>\n",
       "<path fill=\"none\" stroke=\"black\" d=\"M1837,-287C1837,-287 1924.5,-261.15 1976.1,-245.9\"/>\n",
       "</g>\n",
       "<!-- 90 -->\n",
       "<g id=\"node91\" class=\"node\">\n",
       "<title>90</title>\n",
       "<text text-anchor=\"middle\" x=\"1855\" y=\"-158.3\" font-family=\"Courier,monospace\" font-size=\"14.00\" fill=\"#008040\">&quot;quote&quot;</text>\n",
       "</g>\n",
       "<!-- 89&#45;&#45;90 -->\n",
       "<g id=\"edge90\" class=\"edge\">\n",
       "<title>89--90</title>\n",
       "<path fill=\"none\" stroke=\"black\" d=\"M1863,-215C1863,-215 1859.91,-194.94 1857.58,-179.74\"/>\n",
       "</g>\n",
       "<!-- 91 -->\n",
       "<g id=\"node92\" class=\"node\">\n",
       "<title>91</title>\n",
       "<text text-anchor=\"middle\" x=\"1939\" y=\"-158.3\" font-family=\"Courier,monospace\" font-size=\"14.00\" fill=\"#008040\">Store</text>\n",
       "</g>\n",
       "<!-- 89&#45;&#45;91 -->\n",
       "<g id=\"edge91\" class=\"edge\">\n",
       "<title>89--91</title>\n",
       "<path fill=\"none\" stroke=\"black\" d=\"M1863,-215C1863,-215 1892.32,-194.94 1914.53,-179.74\"/>\n",
       "</g>\n",
       "<!-- 93 -->\n",
       "<g id=\"node94\" class=\"node\">\n",
       "<title>93</title>\n",
       "<text text-anchor=\"middle\" x=\"2013\" y=\"-158.3\" font-family=\"Courier,monospace\" font-size=\"14.00\" fill=\"#008040\">Not</text>\n",
       "</g>\n",
       "<!-- 92&#45;&#45;93 -->\n",
       "<g id=\"edge93\" class=\"edge\">\n",
       "<title>92--93</title>\n",
       "<path fill=\"none\" stroke=\"black\" d=\"M2020,-215C2020,-215 2017.3,-194.94 2015.25,-179.74\"/>\n",
       "</g>\n",
       "<!-- 94 -->\n",
       "<g id=\"node95\" class=\"node\">\n",
       "<title>94</title>\n",
       "<text text-anchor=\"start\" x=\"2068\" y=\"-159.3\" font-family=\"Courier,monospace\" font-weight=\"bold\" font-size=\"14.00\" fill=\"#004080\">Name</text>\n",
       "</g>\n",
       "<!-- 92&#45;&#45;94 -->\n",
       "<g id=\"edge94\" class=\"edge\">\n",
       "<title>92--94</title>\n",
       "<path fill=\"none\" stroke=\"black\" d=\"M2020,-215C2020,-215 2045.07,-194.94 2064.08,-179.74\"/>\n",
       "</g>\n",
       "<!-- 95 -->\n",
       "<g id=\"node96\" class=\"node\">\n",
       "<title>95</title>\n",
       "<text text-anchor=\"middle\" x=\"2003\" y=\"-86.3\" font-family=\"Courier,monospace\" font-size=\"14.00\" fill=\"#008040\">&quot;quote&quot;</text>\n",
       "</g>\n",
       "<!-- 94&#45;&#45;95 -->\n",
       "<g id=\"edge95\" class=\"edge\">\n",
       "<title>94--95</title>\n",
       "<path fill=\"none\" stroke=\"black\" d=\"M2077,-143C2077,-143 2048.45,-122.94 2026.82,-107.74\"/>\n",
       "</g>\n",
       "<!-- 96 -->\n",
       "<g id=\"node97\" class=\"node\">\n",
       "<title>96</title>\n",
       "<text text-anchor=\"middle\" x=\"2085\" y=\"-86.3\" font-family=\"Courier,monospace\" font-size=\"14.00\" fill=\"#008040\">Load</text>\n",
       "</g>\n",
       "<!-- 94&#45;&#45;96 -->\n",
       "<g id=\"edge96\" class=\"edge\">\n",
       "<title>94--96</title>\n",
       "<path fill=\"none\" stroke=\"black\" d=\"M2077,-143C2077,-143 2080.09,-122.94 2082.42,-107.74\"/>\n",
       "</g>\n",
       "<!-- 98 -->\n",
       "<g id=\"node99\" class=\"node\">\n",
       "<title>98</title>\n",
       "<text text-anchor=\"start\" x=\"2128\" y=\"-231.3\" font-family=\"Courier,monospace\" font-weight=\"bold\" font-size=\"14.00\" fill=\"#004080\">UnaryOp</text>\n",
       "</g>\n",
       "<!-- 97&#45;&#45;98 -->\n",
       "<g id=\"edge98\" class=\"edge\">\n",
       "<title>97--98</title>\n",
       "<path fill=\"none\" stroke=\"black\" d=\"M1922,-299C1922,-299 1925.64,-291.34 1931,-288 1946.99,-278.03 2060.21,-254.34 2120.08,-242.3\"/>\n",
       "</g>\n",
       "<!-- 103 -->\n",
       "<g id=\"node104\" class=\"node\">\n",
       "<title>103</title>\n",
       "<text text-anchor=\"start\" x=\"2320\" y=\"-231.3\" font-family=\"Courier,monospace\" font-weight=\"bold\" font-size=\"14.00\" fill=\"#004080\">Assign</text>\n",
       "</g>\n",
       "<!-- 97&#45;&#45;103 -->\n",
       "<g id=\"edge103\" class=\"edge\">\n",
       "<title>97--103</title>\n",
       "<path fill=\"none\" stroke=\"black\" d=\"M1922,-299C1922,-299 1925.48,-291.06 1931,-288 1935.19,-285.68 2215.04,-251.02 2312.2,-239.04\"/>\n",
       "</g>\n",
       "<!-- 99 -->\n",
       "<g id=\"node100\" class=\"node\">\n",
       "<title>99</title>\n",
       "<text text-anchor=\"middle\" x=\"2157\" y=\"-158.3\" font-family=\"Courier,monospace\" font-size=\"14.00\" fill=\"#008040\">Not</text>\n",
       "</g>\n",
       "<!-- 98&#45;&#45;99 -->\n",
       "<g id=\"edge99\" class=\"edge\">\n",
       "<title>98--99</title>\n",
       "<path fill=\"none\" stroke=\"black\" d=\"M2164,-215C2164,-215 2161.3,-194.94 2159.25,-179.74\"/>\n",
       "</g>\n",
       "<!-- 100 -->\n",
       "<g id=\"node101\" class=\"node\">\n",
       "<title>100</title>\n",
       "<text text-anchor=\"start\" x=\"2212\" y=\"-159.3\" font-family=\"Courier,monospace\" font-weight=\"bold\" font-size=\"14.00\" fill=\"#004080\">Name</text>\n",
       "</g>\n",
       "<!-- 98&#45;&#45;100 -->\n",
       "<g id=\"edge100\" class=\"edge\">\n",
       "<title>98--100</title>\n",
       "<path fill=\"none\" stroke=\"black\" d=\"M2164,-215C2164,-215 2189.07,-194.94 2208.08,-179.74\"/>\n",
       "</g>\n",
       "<!-- 101 -->\n",
       "<g id=\"node102\" class=\"node\">\n",
       "<title>101</title>\n",
       "<text text-anchor=\"middle\" x=\"2159\" y=\"-86.3\" font-family=\"Courier,monospace\" font-size=\"14.00\" fill=\"#008040\">&quot;tag&quot;</text>\n",
       "</g>\n",
       "<!-- 100&#45;&#45;101 -->\n",
       "<g id=\"edge101\" class=\"edge\">\n",
       "<title>100--101</title>\n",
       "<path fill=\"none\" stroke=\"black\" d=\"M2222,-143C2222,-143 2197.7,-122.94 2179.28,-107.74\"/>\n",
       "</g>\n",
       "<!-- 102 -->\n",
       "<g id=\"node103\" class=\"node\">\n",
       "<title>102</title>\n",
       "<text text-anchor=\"middle\" x=\"2233\" y=\"-86.3\" font-family=\"Courier,monospace\" font-size=\"14.00\" fill=\"#008040\">Load</text>\n",
       "</g>\n",
       "<!-- 100&#45;&#45;102 -->\n",
       "<g id=\"edge102\" class=\"edge\">\n",
       "<title>100--102</title>\n",
       "<path fill=\"none\" stroke=\"black\" d=\"M2222,-143C2222,-143 2226.24,-122.94 2229.46,-107.74\"/>\n",
       "</g>\n",
       "<!-- 104 -->\n",
       "<g id=\"node105\" class=\"node\">\n",
       "<title>104</title>\n",
       "<text text-anchor=\"start\" x=\"2328\" y=\"-159.3\" font-family=\"Courier,monospace\" font-weight=\"bold\" font-size=\"14.00\" fill=\"#004080\">Name</text>\n",
       "</g>\n",
       "<!-- 103&#45;&#45;104 -->\n",
       "<g id=\"edge104\" class=\"edge\">\n",
       "<title>103--104</title>\n",
       "<path fill=\"none\" stroke=\"black\" d=\"M2356,-215C2356,-215 2351.76,-194.94 2348.54,-179.74\"/>\n",
       "</g>\n",
       "<!-- 107 -->\n",
       "<g id=\"node108\" class=\"node\">\n",
       "<title>107</title>\n",
       "<text text-anchor=\"start\" x=\"2472\" y=\"-159.3\" font-family=\"Courier,monospace\" font-weight=\"bold\" font-size=\"14.00\" fill=\"#004080\">BinOp</text>\n",
       "</g>\n",
       "<!-- 103&#45;&#45;107 -->\n",
       "<g id=\"edge107\" class=\"edge\">\n",
       "<title>103--107</title>\n",
       "<path fill=\"none\" stroke=\"black\" d=\"M2356,-215C2356,-215 2424.11,-189.15 2464.28,-173.9\"/>\n",
       "</g>\n",
       "<!-- 105 -->\n",
       "<g id=\"node106\" class=\"node\">\n",
       "<title>105</title>\n",
       "<text text-anchor=\"middle\" x=\"2307\" y=\"-86.3\" font-family=\"Courier,monospace\" font-size=\"14.00\" fill=\"#008040\">&quot;out&quot;</text>\n",
       "</g>\n",
       "<!-- 104&#45;&#45;105 -->\n",
       "<g id=\"edge105\" class=\"edge\">\n",
       "<title>104--105</title>\n",
       "<path fill=\"none\" stroke=\"black\" d=\"M2345,-143C2345,-143 2330.34,-122.94 2319.23,-107.74\"/>\n",
       "</g>\n",
       "<!-- 106 -->\n",
       "<g id=\"node107\" class=\"node\">\n",
       "<title>106</title>\n",
       "<text text-anchor=\"middle\" x=\"2383\" y=\"-86.3\" font-family=\"Courier,monospace\" font-size=\"14.00\" fill=\"#008040\">Store</text>\n",
       "</g>\n",
       "<!-- 104&#45;&#45;106 -->\n",
       "<g id=\"edge106\" class=\"edge\">\n",
       "<title>104--106</title>\n",
       "<path fill=\"none\" stroke=\"black\" d=\"M2345,-143C2345,-143 2359.66,-122.94 2370.77,-107.74\"/>\n",
       "</g>\n",
       "<!-- 108 -->\n",
       "<g id=\"node109\" class=\"node\">\n",
       "<title>108</title>\n",
       "<text text-anchor=\"start\" x=\"2440\" y=\"-87.3\" font-family=\"Courier,monospace\" font-weight=\"bold\" font-size=\"14.00\" fill=\"#004080\">Name</text>\n",
       "</g>\n",
       "<!-- 107&#45;&#45;108 -->\n",
       "<g id=\"edge108\" class=\"edge\">\n",
       "<title>107--108</title>\n",
       "<path fill=\"none\" stroke=\"black\" d=\"M2499,-143C2499,-143 2482.8,-122.94 2470.52,-107.74\"/>\n",
       "</g>\n",
       "<!-- 111 -->\n",
       "<g id=\"node112\" class=\"node\">\n",
       "<title>111</title>\n",
       "<text text-anchor=\"middle\" x=\"2529\" y=\"-86.3\" font-family=\"Courier,monospace\" font-size=\"14.00\" fill=\"#008040\">Add</text>\n",
       "</g>\n",
       "<!-- 107&#45;&#45;111 -->\n",
       "<g id=\"edge111\" class=\"edge\">\n",
       "<title>107--111</title>\n",
       "<path fill=\"none\" stroke=\"black\" d=\"M2499,-143C2499,-143 2510.57,-122.94 2519.34,-107.74\"/>\n",
       "</g>\n",
       "<!-- 112 -->\n",
       "<g id=\"node113\" class=\"node\">\n",
       "<title>112</title>\n",
       "<text text-anchor=\"start\" x=\"2584\" y=\"-87.3\" font-family=\"Courier,monospace\" font-weight=\"bold\" font-size=\"14.00\" fill=\"#004080\">Name</text>\n",
       "</g>\n",
       "<!-- 107&#45;&#45;112 -->\n",
       "<g id=\"edge112\" class=\"edge\">\n",
       "<title>107--112</title>\n",
       "<path fill=\"none\" stroke=\"black\" d=\"M2499,-143C2499,-143 2543.98,-120.07 2574.2,-104.66\"/>\n",
       "</g>\n",
       "<!-- 109 -->\n",
       "<g id=\"node110\" class=\"node\">\n",
       "<title>109</title>\n",
       "<text text-anchor=\"middle\" x=\"2401\" y=\"-14.3\" font-family=\"Courier,monospace\" font-size=\"14.00\" fill=\"#008040\">&quot;out&quot;</text>\n",
       "</g>\n",
       "<!-- 108&#45;&#45;109 -->\n",
       "<g id=\"edge109\" class=\"edge\">\n",
       "<title>108--109</title>\n",
       "<path fill=\"none\" stroke=\"black\" d=\"M2453,-71C2453,-71 2432.94,-50.94 2417.74,-35.74\"/>\n",
       "</g>\n",
       "<!-- 110 -->\n",
       "<g id=\"node111\" class=\"node\">\n",
       "<title>110</title>\n",
       "<text text-anchor=\"middle\" x=\"2475\" y=\"-14.3\" font-family=\"Courier,monospace\" font-size=\"14.00\" fill=\"#008040\">Load</text>\n",
       "</g>\n",
       "<!-- 108&#45;&#45;110 -->\n",
       "<g id=\"edge110\" class=\"edge\">\n",
       "<title>108--110</title>\n",
       "<path fill=\"none\" stroke=\"black\" d=\"M2453,-71C2453,-71 2461.49,-50.94 2467.92,-35.74\"/>\n",
       "</g>\n",
       "<!-- 113 -->\n",
       "<g id=\"node114\" class=\"node\">\n",
       "<title>113</title>\n",
       "<text text-anchor=\"middle\" x=\"2583\" y=\"-14.3\" font-family=\"Courier,monospace\" font-size=\"14.00\" fill=\"#008040\">&quot;c&quot;</text>\n",
       "</g>\n",
       "<!-- 112&#45;&#45;113 -->\n",
       "<g id=\"edge113\" class=\"edge\">\n",
       "<title>112--113</title>\n",
       "<path fill=\"none\" stroke=\"black\" d=\"M2605,-71C2605,-71 2596.51,-50.94 2590.08,-35.74\"/>\n",
       "</g>\n",
       "<!-- 114 -->\n",
       "<g id=\"node115\" class=\"node\">\n",
       "<title>114</title>\n",
       "<text text-anchor=\"middle\" x=\"2655\" y=\"-14.3\" font-family=\"Courier,monospace\" font-size=\"14.00\" fill=\"#008040\">Load</text>\n",
       "</g>\n",
       "<!-- 112&#45;&#45;114 -->\n",
       "<g id=\"edge114\" class=\"edge\">\n",
       "<title>112--114</title>\n",
       "<path fill=\"none\" stroke=\"black\" d=\"M2605,-71C2605,-71 2624.29,-50.94 2638.9,-35.74\"/>\n",
       "</g>\n",
       "<!-- 116 -->\n",
       "<g id=\"node117\" class=\"node\">\n",
       "<title>116</title>\n",
       "<text text-anchor=\"start\" x=\"1930\" y=\"-519.3\" font-family=\"Courier,monospace\" font-weight=\"bold\" font-size=\"14.00\" fill=\"#004080\">BoolOp</text>\n",
       "</g>\n",
       "<!-- 115&#45;&#45;116 -->\n",
       "<g id=\"edge116\" class=\"edge\">\n",
       "<title>115--116</title>\n",
       "<path fill=\"none\" stroke=\"black\" d=\"M1371.68,-589.29C1478.26,-577.17 1815.02,-538.91 1922.02,-526.75\"/>\n",
       "</g>\n",
       "<!-- 117 -->\n",
       "<g id=\"node118\" class=\"node\">\n",
       "<title>117</title>\n",
       "<text text-anchor=\"middle\" x=\"1914\" y=\"-446.3\" font-family=\"Courier,monospace\" font-size=\"14.00\" fill=\"#008040\">And</text>\n",
       "</g>\n",
       "<!-- 116&#45;&#45;117 -->\n",
       "<g id=\"edge117\" class=\"edge\">\n",
       "<title>116--117</title>\n",
       "<path fill=\"none\" stroke=\"black\" d=\"M1963,-503C1963,-503 1944.1,-482.94 1929.77,-467.74\"/>\n",
       "</g>\n",
       "<!-- 118 -->\n",
       "<g id=\"node119\" class=\"node\">\n",
       "<title>118</title>\n",
       "<text text-anchor=\"start\" x=\"1967\" y=\"-447.3\" font-family=\"Courier,monospace\" font-weight=\"bold\" font-size=\"14.00\" fill=\"#004080\">Compare</text>\n",
       "</g>\n",
       "<!-- 116&#45;&#45;118 -->\n",
       "<g id=\"edge118\" class=\"edge\">\n",
       "<title>116--118</title>\n",
       "<path fill=\"none\" stroke=\"black\" d=\"M1963,-503C1963,-503 1975.73,-482.94 1985.38,-467.74\"/>\n",
       "</g>\n",
       "<!-- 125 -->\n",
       "<g id=\"node126\" class=\"node\">\n",
       "<title>125</title>\n",
       "<text text-anchor=\"start\" x=\"2128\" y=\"-447.3\" font-family=\"Courier,monospace\" font-weight=\"bold\" font-size=\"14.00\" fill=\"#004080\">Compare</text>\n",
       "</g>\n",
       "<!-- 116&#45;&#45;125 -->\n",
       "<g id=\"edge125\" class=\"edge\">\n",
       "<title>116--125</title>\n",
       "<path fill=\"none\" stroke=\"black\" d=\"M1963,-503C1963,-503 2063.77,-475.99 2120.05,-460.9\"/>\n",
       "</g>\n",
       "<!-- 119 -->\n",
       "<g id=\"node120\" class=\"node\">\n",
       "<title>119</title>\n",
       "<text text-anchor=\"start\" x=\"1873.5\" y=\"-375.3\" font-family=\"Courier,monospace\" font-weight=\"bold\" font-size=\"14.00\" fill=\"#004080\">Constant</text>\n",
       "</g>\n",
       "<!-- 118&#45;&#45;119 -->\n",
       "<g id=\"edge119\" class=\"edge\">\n",
       "<title>118--119</title>\n",
       "<path fill=\"none\" stroke=\"black\" d=\"M1996,-431C1996,-431 1961.67,-410.94 1935.65,-395.74\"/>\n",
       "</g>\n",
       "<!-- 121 -->\n",
       "<g id=\"node122\" class=\"node\">\n",
       "<title>121</title>\n",
       "<text text-anchor=\"middle\" x=\"1996\" y=\"-374.3\" font-family=\"Courier,monospace\" font-size=\"14.00\" fill=\"#008040\">NotIn</text>\n",
       "</g>\n",
       "<!-- 118&#45;&#45;121 -->\n",
       "<g id=\"edge121\" class=\"edge\">\n",
       "<title>118--121</title>\n",
       "<path fill=\"none\" stroke=\"black\" d=\"M1996,-431C1996,-431 1996,-410.94 1996,-395.74\"/>\n",
       "</g>\n",
       "<!-- 122 -->\n",
       "<g id=\"node123\" class=\"node\">\n",
       "<title>122</title>\n",
       "<text text-anchor=\"start\" x=\"2053\" y=\"-375.3\" font-family=\"Courier,monospace\" font-weight=\"bold\" font-size=\"14.00\" fill=\"#004080\">Name</text>\n",
       "</g>\n",
       "<!-- 118&#45;&#45;122 -->\n",
       "<g id=\"edge122\" class=\"edge\">\n",
       "<title>118--122</title>\n",
       "<path fill=\"none\" stroke=\"black\" d=\"M1996,-431C1996,-431 2024.55,-410.94 2046.18,-395.74\"/>\n",
       "</g>\n",
       "<!-- 120 -->\n",
       "<g id=\"node121\" class=\"node\">\n",
       "<title>120</title>\n",
       "<text text-anchor=\"middle\" x=\"1967\" y=\"-302.3\" font-family=\"Courier,monospace\" font-size=\"14.00\" fill=\"#008040\">&quot;&lt;&quot;</text>\n",
       "</g>\n",
       "<!-- 119&#45;&#45;120 -->\n",
       "<g id=\"edge120\" class=\"edge\">\n",
       "<title>119--120</title>\n",
       "<path fill=\"none\" stroke=\"black\" d=\"M1921.52,-360.05C1930.96,-349.05 1943.2,-334.76 1952.61,-323.79\"/>\n",
       "</g>\n",
       "<!-- 123 -->\n",
       "<g id=\"node124\" class=\"node\">\n",
       "<title>123</title>\n",
       "<text text-anchor=\"middle\" x=\"2041\" y=\"-302.3\" font-family=\"Courier,monospace\" font-size=\"14.00\" fill=\"#008040\">&quot;out&quot;</text>\n",
       "</g>\n",
       "<!-- 122&#45;&#45;123 -->\n",
       "<g id=\"edge123\" class=\"edge\">\n",
       "<title>122--123</title>\n",
       "<path fill=\"none\" stroke=\"black\" d=\"M2072,-359C2072,-359 2060.04,-338.94 2050.98,-323.74\"/>\n",
       "</g>\n",
       "<!-- 124 -->\n",
       "<g id=\"node125\" class=\"node\">\n",
       "<title>124</title>\n",
       "<text text-anchor=\"middle\" x=\"2115\" y=\"-302.3\" font-family=\"Courier,monospace\" font-size=\"14.00\" fill=\"#008040\">Load</text>\n",
       "</g>\n",
       "<!-- 122&#45;&#45;124 -->\n",
       "<g id=\"edge124\" class=\"edge\">\n",
       "<title>122--124</title>\n",
       "<path fill=\"none\" stroke=\"black\" d=\"M2072,-359C2072,-359 2088.59,-338.94 2101.16,-323.74\"/>\n",
       "</g>\n",
       "<!-- 126 -->\n",
       "<g id=\"node127\" class=\"node\">\n",
       "<title>126</title>\n",
       "<text text-anchor=\"start\" x=\"2123.5\" y=\"-375.3\" font-family=\"Courier,monospace\" font-weight=\"bold\" font-size=\"14.00\" fill=\"#004080\">Constant</text>\n",
       "</g>\n",
       "<!-- 125&#45;&#45;126 -->\n",
       "<g id=\"edge126\" class=\"edge\">\n",
       "<title>125--126</title>\n",
       "<path fill=\"none\" stroke=\"black\" d=\"M2172,-431C2172,-431 2166.21,-410.94 2161.83,-395.74\"/>\n",
       "</g>\n",
       "<!-- 128 -->\n",
       "<g id=\"node129\" class=\"node\">\n",
       "<title>128</title>\n",
       "<text text-anchor=\"middle\" x=\"2246\" y=\"-374.3\" font-family=\"Courier,monospace\" font-size=\"14.00\" fill=\"#008040\">NotIn</text>\n",
       "</g>\n",
       "<!-- 125&#45;&#45;128 -->\n",
       "<g id=\"edge128\" class=\"edge\">\n",
       "<title>125--128</title>\n",
       "<path fill=\"none\" stroke=\"black\" d=\"M2172,-431C2172,-431 2200.55,-410.94 2222.18,-395.74\"/>\n",
       "</g>\n",
       "<!-- 129 -->\n",
       "<g id=\"node130\" class=\"node\">\n",
       "<title>129</title>\n",
       "<text text-anchor=\"start\" x=\"2303\" y=\"-375.3\" font-family=\"Courier,monospace\" font-weight=\"bold\" font-size=\"14.00\" fill=\"#004080\">Name</text>\n",
       "</g>\n",
       "<!-- 125&#45;&#45;129 -->\n",
       "<g id=\"edge129\" class=\"edge\">\n",
       "<title>125--129</title>\n",
       "<path fill=\"none\" stroke=\"black\" d=\"M2172,-431C2172,-431 2235.42,-414.96 2284,-396 2286.96,-394.84 2290.02,-393.55 2293.05,-392.22\"/>\n",
       "</g>\n",
       "<!-- 127 -->\n",
       "<g id=\"node128\" class=\"node\">\n",
       "<title>127</title>\n",
       "<text text-anchor=\"middle\" x=\"2187\" y=\"-302.3\" font-family=\"Courier,monospace\" font-size=\"14.00\" fill=\"#008040\">&quot;&gt;&quot;</text>\n",
       "</g>\n",
       "<!-- 126&#45;&#45;127 -->\n",
       "<g id=\"edge127\" class=\"edge\">\n",
       "<title>126--127</title>\n",
       "<path fill=\"none\" stroke=\"black\" d=\"M2164.26,-360.05C2168.98,-349.05 2175.1,-334.76 2179.8,-323.79\"/>\n",
       "</g>\n",
       "<!-- 130 -->\n",
       "<g id=\"node131\" class=\"node\">\n",
       "<title>130</title>\n",
       "<text text-anchor=\"middle\" x=\"2276\" y=\"-302.3\" font-family=\"Courier,monospace\" font-size=\"14.00\" fill=\"#008040\">&quot;out&quot;</text>\n",
       "</g>\n",
       "<!-- 129&#45;&#45;130 -->\n",
       "<g id=\"edge130\" class=\"edge\">\n",
       "<title>129--130</title>\n",
       "<path fill=\"none\" stroke=\"black\" d=\"M2319,-359C2319,-359 2302.41,-338.94 2289.84,-323.74\"/>\n",
       "</g>\n",
       "<!-- 131 -->\n",
       "<g id=\"node132\" class=\"node\">\n",
       "<title>131</title>\n",
       "<text text-anchor=\"middle\" x=\"2350\" y=\"-302.3\" font-family=\"Courier,monospace\" font-size=\"14.00\" fill=\"#008040\">Load</text>\n",
       "</g>\n",
       "<!-- 129&#45;&#45;131 -->\n",
       "<g id=\"edge131\" class=\"edge\">\n",
       "<title>129--131</title>\n",
       "<path fill=\"none\" stroke=\"black\" d=\"M2319,-359C2319,-359 2330.96,-338.94 2340.02,-323.74\"/>\n",
       "</g>\n",
       "<!-- 133 -->\n",
       "<g id=\"node134\" class=\"node\">\n",
       "<title>133</title>\n",
       "<text text-anchor=\"start\" x=\"2224\" y=\"-519.3\" font-family=\"Courier,monospace\" font-weight=\"bold\" font-size=\"14.00\" fill=\"#004080\">Name</text>\n",
       "</g>\n",
       "<!-- 132&#45;&#45;133 -->\n",
       "<g id=\"edge133\" class=\"edge\">\n",
       "<title>132--133</title>\n",
       "<path fill=\"none\" stroke=\"black\" d=\"M1827.8,-587.85C1912.39,-574.58 2136.74,-539.36 2214.23,-527.2\"/>\n",
       "</g>\n",
       "<!-- 134 -->\n",
       "<g id=\"node135\" class=\"node\">\n",
       "<title>134</title>\n",
       "<text text-anchor=\"middle\" x=\"2241\" y=\"-446.3\" font-family=\"Courier,monospace\" font-size=\"14.00\" fill=\"#008040\">&quot;out&quot;</text>\n",
       "</g>\n",
       "<!-- 133&#45;&#45;134 -->\n",
       "<g id=\"edge134\" class=\"edge\">\n",
       "<title>133--134</title>\n",
       "<path fill=\"none\" stroke=\"black\" d=\"M2249,-503C2249,-503 2245.91,-482.94 2243.58,-467.74\"/>\n",
       "</g>\n",
       "<!-- 135 -->\n",
       "<g id=\"node136\" class=\"node\">\n",
       "<title>135</title>\n",
       "<text text-anchor=\"middle\" x=\"2315\" y=\"-446.3\" font-family=\"Courier,monospace\" font-size=\"14.00\" fill=\"#008040\">Load</text>\n",
       "</g>\n",
       "<!-- 133&#45;&#45;135 -->\n",
       "<g id=\"edge135\" class=\"edge\">\n",
       "<title>133--135</title>\n",
       "<path fill=\"none\" stroke=\"black\" d=\"M2249,-503C2249,-503 2274.46,-482.94 2293.75,-467.74\"/>\n",
       "</g>\n",
       "</g>\n",
       "</svg>"
      ],
      "text/plain": [
       "<IPython.core.display.SVG object>"
      ]
     },
     "metadata": {},
     "output_type": "display_data"
    }
   ],
   "source": [
    "new_fun_tree = cast(ast.Module, copy_and_reduce(fun_tree, keep_list))\n",
    "show_ast(new_fun_tree)"
   ]
  },
  {
   "cell_type": "markdown",
   "metadata": {
    "slideshow": {
     "slide_type": "subslide"
    }
   },
   "source": [
    "The new tree no longer contains the initial assignment to `tag`:"
   ]
  },
  {
   "cell_type": "code",
   "execution_count": 165,
   "metadata": {
    "execution": {
     "iopub.execute_input": "2023-02-11T10:04:21.024209Z",
     "iopub.status.busy": "2023-02-11T10:04:21.023799Z",
     "iopub.status.idle": "2023-02-11T10:04:21.034788Z",
     "shell.execute_reply": "2023-02-11T10:04:21.035053Z"
    },
    "slideshow": {
     "slide_type": "subslide"
    }
   },
   "outputs": [
    {
     "name": "stdout",
     "output_type": "stream",
     "text": [
      "\u001b[34mdef\u001b[39;49;00m \u001b[32mremove_html_markup\u001b[39;49;00m(s):\u001b[37m\u001b[39;49;00m\n",
      "    quote = \u001b[34mFalse\u001b[39;49;00m\u001b[37m\u001b[39;49;00m\n",
      "    out = \u001b[33m'\u001b[39;49;00m\u001b[33m'\u001b[39;49;00m\u001b[37m\u001b[39;49;00m\n",
      "    \u001b[34mfor\u001b[39;49;00m c \u001b[35min\u001b[39;49;00m s:\u001b[37m\u001b[39;49;00m\n",
      "        \u001b[34mif\u001b[39;49;00m c == \u001b[33m'\u001b[39;49;00m\u001b[33m<\u001b[39;49;00m\u001b[33m'\u001b[39;49;00m \u001b[35mand\u001b[39;49;00m (\u001b[35mnot\u001b[39;49;00m quote):\u001b[37m\u001b[39;49;00m\n",
      "            tag = \u001b[34mTrue\u001b[39;49;00m\u001b[37m\u001b[39;49;00m\n",
      "        \u001b[34melif\u001b[39;49;00m c == \u001b[33m'\u001b[39;49;00m\u001b[33m>\u001b[39;49;00m\u001b[33m'\u001b[39;49;00m \u001b[35mand\u001b[39;49;00m (\u001b[35mnot\u001b[39;49;00m quote):\u001b[37m\u001b[39;49;00m\n",
      "            tag = \u001b[34mFalse\u001b[39;49;00m\u001b[37m\u001b[39;49;00m\n",
      "        \u001b[34melif\u001b[39;49;00m c == \u001b[33m'\u001b[39;49;00m\u001b[33m\"\u001b[39;49;00m\u001b[33m'\u001b[39;49;00m \u001b[35mor\u001b[39;49;00m (c == \u001b[33m\"\u001b[39;49;00m\u001b[33m'\u001b[39;49;00m\u001b[33m\"\u001b[39;49;00m \u001b[35mand\u001b[39;49;00m tag):\u001b[37m\u001b[39;49;00m\n",
      "            quote = \u001b[35mnot\u001b[39;49;00m quote\u001b[37m\u001b[39;49;00m\n",
      "        \u001b[34melif\u001b[39;49;00m \u001b[35mnot\u001b[39;49;00m tag:\u001b[37m\u001b[39;49;00m\n",
      "            out = out + c\u001b[37m\u001b[39;49;00m\n",
      "    \u001b[34massert\u001b[39;49;00m \u001b[33m'\u001b[39;49;00m\u001b[33m<\u001b[39;49;00m\u001b[33m'\u001b[39;49;00m \u001b[35mnot\u001b[39;49;00m \u001b[35min\u001b[39;49;00m out \u001b[35mand\u001b[39;49;00m \u001b[33m'\u001b[39;49;00m\u001b[33m>\u001b[39;49;00m\u001b[33m'\u001b[39;49;00m \u001b[35mnot\u001b[39;49;00m \u001b[35min\u001b[39;49;00m out\u001b[37m\u001b[39;49;00m\n",
      "    \u001b[34mreturn\u001b[39;49;00m out\u001b[37m\u001b[39;49;00m"
     ]
    }
   ],
   "source": [
    "print_content(ast.unparse(new_fun_tree), '.py')"
   ]
  },
  {
   "cell_type": "markdown",
   "metadata": {
    "slideshow": {
     "slide_type": "subslide"
    }
   },
   "source": [
    "If we add our tests and then execute this code, we get an error, as `tag` is now no longer initialized:"
   ]
  },
  {
   "cell_type": "code",
   "execution_count": 166,
   "metadata": {
    "execution": {
     "iopub.execute_input": "2023-02-11T10:04:21.037352Z",
     "iopub.status.busy": "2023-02-11T10:04:21.036926Z",
     "iopub.status.idle": "2023-02-11T10:04:21.038696Z",
     "shell.execute_reply": "2023-02-11T10:04:21.039029Z"
    },
    "slideshow": {
     "slide_type": "fragment"
    }
   },
   "outputs": [],
   "source": [
    "new_fun_tree.body += test_tree.body"
   ]
  },
  {
   "cell_type": "code",
   "execution_count": 167,
   "metadata": {
    "execution": {
     "iopub.execute_input": "2023-02-11T10:04:21.041630Z",
     "iopub.status.busy": "2023-02-11T10:04:21.041319Z",
     "iopub.status.idle": "2023-02-11T10:04:21.042580Z",
     "shell.execute_reply": "2023-02-11T10:04:21.042832Z"
    },
    "slideshow": {
     "slide_type": "fragment"
    }
   },
   "outputs": [],
   "source": [
    "fun_code = compile(new_fun_tree, \"<string>\", 'exec')"
   ]
  },
  {
   "cell_type": "code",
   "execution_count": 168,
   "metadata": {
    "execution": {
     "iopub.execute_input": "2023-02-11T10:04:21.047688Z",
     "iopub.status.busy": "2023-02-11T10:04:21.047000Z",
     "iopub.status.idle": "2023-02-11T10:04:21.049392Z",
     "shell.execute_reply": "2023-02-11T10:04:21.049933Z"
    },
    "slideshow": {
     "slide_type": "fragment"
    }
   },
   "outputs": [
    {
     "name": "stderr",
     "output_type": "stream",
     "text": [
      "Traceback (most recent call last):\n",
      "  File \"/var/folders/n2/xd9445p97rb3xh7m1dfx8_4h0006ts/T/ipykernel_1782/2411822553.py\", line 2, in <cell line: 1>\n",
      "    exec(fun_code, {}, {})\n",
      "  File \"<string>\", line 3, in <module>\n",
      "  File \"<string>\", line 13, in remove_html_markup\n",
      "UnboundLocalError: local variable 'tag' referenced before assignment (expected)\n"
     ]
    }
   ],
   "source": [
    "with ExpectError(UnboundLocalError):\n",
    "    exec(fun_code, {}, {})"
   ]
  },
  {
   "cell_type": "markdown",
   "metadata": {
    "slideshow": {
     "slide_type": "fragment"
    }
   },
   "source": [
    "If we have _no_ node in the keep list, the whole tree gets deleted:"
   ]
  },
  {
   "cell_type": "code",
   "execution_count": 169,
   "metadata": {
    "execution": {
     "iopub.execute_input": "2023-02-11T10:04:21.056025Z",
     "iopub.status.busy": "2023-02-11T10:04:21.055305Z",
     "iopub.status.idle": "2023-02-11T10:04:21.056786Z",
     "shell.execute_reply": "2023-02-11T10:04:21.057000Z"
    },
    "slideshow": {
     "slide_type": "fragment"
    }
   },
   "outputs": [],
   "source": [
    "empty_tree = copy_and_reduce(fun_tree, [])"
   ]
  },
  {
   "cell_type": "code",
   "execution_count": 170,
   "metadata": {
    "execution": {
     "iopub.execute_input": "2023-02-11T10:04:21.059445Z",
     "iopub.status.busy": "2023-02-11T10:04:21.059083Z",
     "iopub.status.idle": "2023-02-11T10:04:21.060966Z",
     "shell.execute_reply": "2023-02-11T10:04:21.061177Z"
    },
    "slideshow": {
     "slide_type": "subslide"
    }
   },
   "outputs": [
    {
     "data": {
      "text/plain": [
       "''"
      ]
     },
     "execution_count": 170,
     "metadata": {},
     "output_type": "execute_result"
    }
   ],
   "source": [
    "ast.unparse(empty_tree)"
   ]
  },
  {
   "cell_type": "markdown",
   "metadata": {
    "slideshow": {
     "slide_type": "subslide"
    }
   },
   "source": [
    "#### Reducing Trees\n",
    "\n",
    "We can put all these steps together in a single function. `compile_and_test_ast()` takes a tree and a list of nodes, reduces the tree to those nodes in the list, and then compiles and runs the reduced AST."
   ]
  },
  {
   "cell_type": "code",
   "execution_count": 171,
   "metadata": {
    "execution": {
     "iopub.execute_input": "2023-02-11T10:04:21.064501Z",
     "iopub.status.busy": "2023-02-11T10:04:21.063999Z",
     "iopub.status.idle": "2023-02-11T10:04:21.065410Z",
     "shell.execute_reply": "2023-02-11T10:04:21.065757Z"
    },
    "slideshow": {
     "slide_type": "subslide"
    }
   },
   "outputs": [],
   "source": [
    "def compile_and_test_ast(tree: ast.Module, keep_list: List[AST], \n",
    "                         test_tree: Optional[ast.Module] = None) -> None:\n",
    "    new_tree = cast(ast.Module, copy_and_reduce(tree, keep_list))\n",
    "    # print(ast.unparse(new_tree))\n",
    "\n",
    "    if test_tree is not None:\n",
    "        new_tree.body += test_tree.body\n",
    "\n",
    "    try:\n",
    "        code_object = compile(new_tree, '<string>', 'exec')\n",
    "    except Exception:\n",
    "        raise SyntaxError(\"Cannot compile\")\n",
    "\n",
    "    exec(code_object, {}, {})"
   ]
  },
  {
   "cell_type": "code",
   "execution_count": 172,
   "metadata": {
    "execution": {
     "iopub.execute_input": "2023-02-11T10:04:21.072544Z",
     "iopub.status.busy": "2023-02-11T10:04:21.071326Z",
     "iopub.status.idle": "2023-02-11T10:04:21.074185Z",
     "shell.execute_reply": "2023-02-11T10:04:21.074427Z"
    },
    "slideshow": {
     "slide_type": "subslide"
    }
   },
   "outputs": [
    {
     "name": "stderr",
     "output_type": "stream",
     "text": [
      "Traceback (most recent call last):\n",
      "  File \"/var/folders/n2/xd9445p97rb3xh7m1dfx8_4h0006ts/T/ipykernel_1782/2588008834.py\", line 2, in <cell line: 1>\n",
      "    compile_and_test_ast(fun_tree, fun_nodes, test_tree)\n",
      "  File \"/var/folders/n2/xd9445p97rb3xh7m1dfx8_4h0006ts/T/ipykernel_1782/1107678207.py\", line 14, in compile_and_test_ast\n",
      "    exec(code_object, {}, {})\n",
      "  File \"<string>\", line 3, in <module>\n",
      "AssertionError: My Test (expected)\n"
     ]
    }
   ],
   "source": [
    "with ExpectError(AssertionError):\n",
    "    compile_and_test_ast(fun_tree, fun_nodes, test_tree)"
   ]
  },
  {
   "cell_type": "markdown",
   "metadata": {
    "slideshow": {
     "slide_type": "fragment"
    }
   },
   "source": [
    "When we run our delta debugger on the AST, this is the list of remaining nodes we obtain:"
   ]
  },
  {
   "cell_type": "code",
   "execution_count": 173,
   "metadata": {
    "execution": {
     "iopub.execute_input": "2023-02-11T10:04:21.078171Z",
     "iopub.status.busy": "2023-02-11T10:04:21.077597Z",
     "iopub.status.idle": "2023-02-11T10:04:21.078981Z",
     "shell.execute_reply": "2023-02-11T10:04:21.079427Z"
    },
    "slideshow": {
     "slide_type": "fragment"
    }
   },
   "outputs": [],
   "source": [
    "with DeltaDebugger() as dd:\n",
    "    compile_and_test_ast(fun_tree, fun_nodes, test_tree)"
   ]
  },
  {
   "cell_type": "code",
   "execution_count": 174,
   "metadata": {
    "execution": {
     "iopub.execute_input": "2023-02-11T10:04:21.137104Z",
     "iopub.status.busy": "2023-02-11T10:04:21.088430Z",
     "iopub.status.idle": "2023-02-11T10:04:21.311827Z",
     "shell.execute_reply": "2023-02-11T10:04:21.312311Z"
    },
    "slideshow": {
     "slide_type": "subslide"
    }
   },
   "outputs": [
    {
     "data": {
      "text/plain": [
       "57"
      ]
     },
     "execution_count": 174,
     "metadata": {},
     "output_type": "execute_result"
    }
   ],
   "source": [
    "reduced_nodes = dd.min_args()['keep_list']\n",
    "len(reduced_nodes)"
   ]
  },
  {
   "cell_type": "markdown",
   "metadata": {
    "slideshow": {
     "slide_type": "fragment"
    }
   },
   "source": [
    "This is the associated tree:"
   ]
  },
  {
   "cell_type": "code",
   "execution_count": 175,
   "metadata": {
    "execution": {
     "iopub.execute_input": "2023-02-11T10:04:21.317191Z",
     "iopub.status.busy": "2023-02-11T10:04:21.315228Z",
     "iopub.status.idle": "2023-02-11T10:04:21.717967Z",
     "shell.execute_reply": "2023-02-11T10:04:21.718492Z"
    },
    "slideshow": {
     "slide_type": "fragment"
    }
   },
   "outputs": [
    {
     "data": {
      "image/svg+xml": [
       "<svg xmlns=\"http://www.w3.org/2000/svg\" xmlns:xlink=\"http://www.w3.org/1999/xlink\" width=\"3125pt\" height=\"692pt\" viewBox=\"0.00 0.00 3125.00 692.00\">\n",
       "<g id=\"graph0\" class=\"graph\" transform=\"scale(1 1) rotate(0) translate(4 688)\">\n",
       "<polygon fill=\"white\" stroke=\"none\" points=\"-4,4 -4,-688 3121,-688 3121,4 -4,4\"/>\n",
       "<!-- 0 -->\n",
       "<g id=\"node1\" class=\"node\">\n",
       "<title>0</title>\n",
       "<text text-anchor=\"start\" x=\"407.5\" y=\"-663.3\" font-family=\"Courier,monospace\" font-weight=\"bold\" font-size=\"14.00\" fill=\"#004080\">FunctionDef</text>\n",
       "</g>\n",
       "<!-- 1 -->\n",
       "<g id=\"node2\" class=\"node\">\n",
       "<title>1</title>\n",
       "<text text-anchor=\"middle\" x=\"101\" y=\"-590.3\" font-family=\"Courier,monospace\" font-size=\"14.00\" fill=\"#008040\">&quot;remove_html_markup&quot;</text>\n",
       "</g>\n",
       "<!-- 0&#45;&#45;1 -->\n",
       "<g id=\"edge1\" class=\"edge\">\n",
       "<title>0--1</title>\n",
       "<path fill=\"none\" stroke=\"black\" d=\"M454,-647C454,-647 313.19,-629.29 201,-612 198.04,-611.54 195.03,-611.07 192,-610.59\"/>\n",
       "</g>\n",
       "<!-- 2 -->\n",
       "<g id=\"node3\" class=\"node\">\n",
       "<title>2</title>\n",
       "<text text-anchor=\"start\" x=\"218.5\" y=\"-591.3\" font-family=\"Courier,monospace\" font-weight=\"bold\" font-size=\"14.00\" fill=\"#004080\">arguments</text>\n",
       "</g>\n",
       "<!-- 0&#45;&#45;2 -->\n",
       "<g id=\"edge2\" class=\"edge\">\n",
       "<title>0--2</title>\n",
       "<path fill=\"none\" stroke=\"black\" d=\"M454,-647C454,-647 374.06,-629.45 311,-612 307.82,-611.12 304.55,-610.19 301.26,-609.22\"/>\n",
       "</g>\n",
       "<!-- 5 -->\n",
       "<g id=\"node6\" class=\"node\">\n",
       "<title>5</title>\n",
       "<text text-anchor=\"start\" x=\"328\" y=\"-591.3\" font-family=\"Courier,monospace\" font-weight=\"bold\" font-size=\"14.00\" fill=\"#004080\">Assign</text>\n",
       "</g>\n",
       "<!-- 0&#45;&#45;5 -->\n",
       "<g id=\"edge5\" class=\"edge\">\n",
       "<title>0--5</title>\n",
       "<path fill=\"none\" stroke=\"black\" d=\"M454,-647C454,-647 415.28,-627.07 385.79,-611.88\"/>\n",
       "</g>\n",
       "<!-- 11 -->\n",
       "<g id=\"node12\" class=\"node\">\n",
       "<title>11</title>\n",
       "<text text-anchor=\"start\" x=\"428\" y=\"-591.3\" font-family=\"Courier,monospace\" font-weight=\"bold\" font-size=\"14.00\" fill=\"#004080\">Assign</text>\n",
       "</g>\n",
       "<!-- 0&#45;&#45;11 -->\n",
       "<g id=\"edge11\" class=\"edge\">\n",
       "<title>0--11</title>\n",
       "<path fill=\"none\" stroke=\"black\" d=\"M454,-647C454,-647 453.61,-626.94 453.32,-611.74\"/>\n",
       "</g>\n",
       "<!-- 17 -->\n",
       "<g id=\"node18\" class=\"node\">\n",
       "<title>17</title>\n",
       "<text text-anchor=\"start\" x=\"572\" y=\"-591.3\" font-family=\"Courier,monospace\" font-weight=\"bold\" font-size=\"14.00\" fill=\"#004080\">Assign</text>\n",
       "</g>\n",
       "<!-- 0&#45;&#45;17 -->\n",
       "<g id=\"edge17\" class=\"edge\">\n",
       "<title>0--17</title>\n",
       "<path fill=\"none\" stroke=\"black\" d=\"M454,-647C454,-647 521.97,-622.28 564.19,-606.93\"/>\n",
       "</g>\n",
       "<!-- 23 -->\n",
       "<g id=\"node24\" class=\"node\">\n",
       "<title>23</title>\n",
       "<text text-anchor=\"start\" x=\"893.5\" y=\"-591.3\" font-family=\"Courier,monospace\" font-weight=\"bold\" font-size=\"14.00\" fill=\"#004080\">For</text>\n",
       "</g>\n",
       "<!-- 0&#45;&#45;23 -->\n",
       "<g id=\"edge23\" class=\"edge\">\n",
       "<title>0--23</title>\n",
       "<path fill=\"none\" stroke=\"black\" d=\"M454,-647C454,-647 781.77,-609.29 879.08,-598.1\"/>\n",
       "</g>\n",
       "<!-- 121 -->\n",
       "<g id=\"node122\" class=\"node\">\n",
       "<title>121</title>\n",
       "<text text-anchor=\"start\" x=\"1244\" y=\"-591.3\" font-family=\"Courier,monospace\" font-weight=\"bold\" font-size=\"14.00\" fill=\"#004080\">Return</text>\n",
       "</g>\n",
       "<!-- 0&#45;&#45;121 -->\n",
       "<g id=\"edge121\" class=\"edge\">\n",
       "<title>0--121</title>\n",
       "<path fill=\"none\" stroke=\"black\" d=\"M454,-647C454,-647 1083.57,-606.83 1236.04,-597.1\"/>\n",
       "</g>\n",
       "<!-- 3 -->\n",
       "<g id=\"node4\" class=\"node\">\n",
       "<title>3</title>\n",
       "<text text-anchor=\"start\" x=\"53.5\" y=\"-519.3\" font-family=\"Courier,monospace\" font-weight=\"bold\" font-size=\"14.00\" fill=\"#004080\">arg</text>\n",
       "</g>\n",
       "<!-- 2&#45;&#45;3 -->\n",
       "<g id=\"edge3\" class=\"edge\">\n",
       "<title>2--3</title>\n",
       "<path fill=\"none\" stroke=\"black\" d=\"M210.97,-576.41C174.21,-562.87 123.49,-544.18 92.82,-532.88\"/>\n",
       "</g>\n",
       "<!-- 4 -->\n",
       "<g id=\"node5\" class=\"node\">\n",
       "<title>4</title>\n",
       "<text text-anchor=\"middle\" x=\"27\" y=\"-446.3\" font-family=\"Courier,monospace\" font-size=\"14.00\" fill=\"#008040\">&quot;s&quot;</text>\n",
       "</g>\n",
       "<!-- 3&#45;&#45;4 -->\n",
       "<g id=\"edge4\" class=\"edge\">\n",
       "<title>3--4</title>\n",
       "<path fill=\"none\" stroke=\"black\" d=\"M56.56,-504.05C50.43,-493.05 42.47,-478.76 36.35,-467.79\"/>\n",
       "</g>\n",
       "<!-- 6 -->\n",
       "<g id=\"node7\" class=\"node\">\n",
       "<title>6</title>\n",
       "<text text-anchor=\"start\" x=\"160\" y=\"-519.3\" font-family=\"Courier,monospace\" font-weight=\"bold\" font-size=\"14.00\" fill=\"#004080\">Name</text>\n",
       "</g>\n",
       "<!-- 5&#45;&#45;6 -->\n",
       "<g id=\"edge6\" class=\"edge\">\n",
       "<title>5--6</title>\n",
       "<path fill=\"none\" stroke=\"black\" d=\"M329,-575C329,-575 247.46,-547.11 203.82,-532.18\"/>\n",
       "</g>\n",
       "<!-- 9 -->\n",
       "<g id=\"node10\" class=\"node\">\n",
       "<title>9</title>\n",
       "<text text-anchor=\"start\" x=\"260.5\" y=\"-519.3\" font-family=\"Courier,monospace\" font-weight=\"bold\" font-size=\"14.00\" fill=\"#004080\">Constant</text>\n",
       "</g>\n",
       "<!-- 5&#45;&#45;9 -->\n",
       "<g id=\"edge9\" class=\"edge\">\n",
       "<title>5--9</title>\n",
       "<path fill=\"none\" stroke=\"black\" d=\"M329,-575C329,-575 315.5,-554.94 305.27,-539.74\"/>\n",
       "</g>\n",
       "<!-- 7 -->\n",
       "<g id=\"node8\" class=\"node\">\n",
       "<title>7</title>\n",
       "<text text-anchor=\"middle\" x=\"101\" y=\"-446.3\" font-family=\"Courier,monospace\" font-size=\"14.00\" fill=\"#008040\">&quot;tag&quot;</text>\n",
       "</g>\n",
       "<!-- 6&#45;&#45;7 -->\n",
       "<g id=\"edge7\" class=\"edge\">\n",
       "<title>6--7</title>\n",
       "<path fill=\"none\" stroke=\"black\" d=\"M169,-503C169,-503 142.77,-482.94 122.89,-467.74\"/>\n",
       "</g>\n",
       "<!-- 8 -->\n",
       "<g id=\"node9\" class=\"node\">\n",
       "<title>8</title>\n",
       "<text text-anchor=\"middle\" x=\"177\" y=\"-446.3\" font-family=\"Courier,monospace\" font-size=\"14.00\" fill=\"#008040\">Store</text>\n",
       "</g>\n",
       "<!-- 6&#45;&#45;8 -->\n",
       "<g id=\"edge8\" class=\"edge\">\n",
       "<title>6--8</title>\n",
       "<path fill=\"none\" stroke=\"black\" d=\"M169,-503C169,-503 172.09,-482.94 174.42,-467.74\"/>\n",
       "</g>\n",
       "<!-- 10 -->\n",
       "<g id=\"node11\" class=\"node\">\n",
       "<title>10</title>\n",
       "<text text-anchor=\"middle\" x=\"253\" y=\"-446.3\" font-family=\"Courier,monospace\" font-size=\"14.00\" fill=\"#008040\">False</text>\n",
       "</g>\n",
       "<!-- 9&#45;&#45;10 -->\n",
       "<g id=\"edge10\" class=\"edge\">\n",
       "<title>9--10</title>\n",
       "<path fill=\"none\" stroke=\"black\" d=\"M284.08,-504.05C277.63,-493.05 269.26,-478.76 262.83,-467.79\"/>\n",
       "</g>\n",
       "<!-- 12 -->\n",
       "<g id=\"node13\" class=\"node\">\n",
       "<title>12</title>\n",
       "<text text-anchor=\"start\" x=\"393\" y=\"-519.3\" font-family=\"Courier,monospace\" font-weight=\"bold\" font-size=\"14.00\" fill=\"#004080\">Name</text>\n",
       "</g>\n",
       "<!-- 11&#45;&#45;12 -->\n",
       "<g id=\"edge12\" class=\"edge\">\n",
       "<title>11--12</title>\n",
       "<path fill=\"none\" stroke=\"black\" d=\"M453,-575C453,-575 436.41,-554.94 423.84,-539.74\"/>\n",
       "</g>\n",
       "<!-- 15 -->\n",
       "<g id=\"node16\" class=\"node\">\n",
       "<title>15</title>\n",
       "<text text-anchor=\"start\" x=\"463.5\" y=\"-519.3\" font-family=\"Courier,monospace\" font-weight=\"bold\" font-size=\"14.00\" fill=\"#004080\">Constant</text>\n",
       "</g>\n",
       "<!-- 11&#45;&#45;15 -->\n",
       "<g id=\"edge15\" class=\"edge\">\n",
       "<title>11--15</title>\n",
       "<path fill=\"none\" stroke=\"black\" d=\"M453,-575C453,-575 469.97,-554.94 482.84,-539.74\"/>\n",
       "</g>\n",
       "<!-- 13 -->\n",
       "<g id=\"node14\" class=\"node\">\n",
       "<title>13</title>\n",
       "<text text-anchor=\"middle\" x=\"337\" y=\"-446.3\" font-family=\"Courier,monospace\" font-size=\"14.00\" fill=\"#008040\">&quot;quote&quot;</text>\n",
       "</g>\n",
       "<!-- 12&#45;&#45;13 -->\n",
       "<g id=\"edge13\" class=\"edge\">\n",
       "<title>12--13</title>\n",
       "<path fill=\"none\" stroke=\"black\" d=\"M404,-503C404,-503 378.15,-482.94 358.57,-467.74\"/>\n",
       "</g>\n",
       "<!-- 14 -->\n",
       "<g id=\"node15\" class=\"node\">\n",
       "<title>14</title>\n",
       "<text text-anchor=\"middle\" x=\"421\" y=\"-446.3\" font-family=\"Courier,monospace\" font-size=\"14.00\" fill=\"#008040\">Store</text>\n",
       "</g>\n",
       "<!-- 12&#45;&#45;14 -->\n",
       "<g id=\"edge14\" class=\"edge\">\n",
       "<title>12--14</title>\n",
       "<path fill=\"none\" stroke=\"black\" d=\"M404,-503C404,-503 410.56,-482.94 415.53,-467.74\"/>\n",
       "</g>\n",
       "<!-- 16 -->\n",
       "<g id=\"node17\" class=\"node\">\n",
       "<title>16</title>\n",
       "<text text-anchor=\"middle\" x=\"497\" y=\"-446.3\" font-family=\"Courier,monospace\" font-size=\"14.00\" fill=\"#008040\">False</text>\n",
       "</g>\n",
       "<!-- 15&#45;&#45;16 -->\n",
       "<g id=\"edge16\" class=\"edge\">\n",
       "<title>15--16</title>\n",
       "<path fill=\"none\" stroke=\"black\" d=\"M497,-504.05C497,-493.05 497,-478.76 497,-467.79\"/>\n",
       "</g>\n",
       "<!-- 18 -->\n",
       "<g id=\"node19\" class=\"node\">\n",
       "<title>18</title>\n",
       "<text text-anchor=\"start\" x=\"580\" y=\"-519.3\" font-family=\"Courier,monospace\" font-weight=\"bold\" font-size=\"14.00\" fill=\"#004080\">Name</text>\n",
       "</g>\n",
       "<!-- 17&#45;&#45;18 -->\n",
       "<g id=\"edge18\" class=\"edge\">\n",
       "<title>17--18</title>\n",
       "<path fill=\"none\" stroke=\"black\" d=\"M607,-575C607,-575 603.14,-554.94 600.22,-539.74\"/>\n",
       "</g>\n",
       "<!-- 21 -->\n",
       "<g id=\"node22\" class=\"node\">\n",
       "<title>21</title>\n",
       "<text text-anchor=\"start\" x=\"676.5\" y=\"-519.3\" font-family=\"Courier,monospace\" font-weight=\"bold\" font-size=\"14.00\" fill=\"#004080\">Constant</text>\n",
       "</g>\n",
       "<!-- 17&#45;&#45;21 -->\n",
       "<g id=\"edge21\" class=\"edge\">\n",
       "<title>17--21</title>\n",
       "<path fill=\"none\" stroke=\"black\" d=\"M607,-575C607,-575 646.48,-555.07 676.56,-539.88\"/>\n",
       "</g>\n",
       "<!-- 19 -->\n",
       "<g id=\"node20\" class=\"node\">\n",
       "<title>19</title>\n",
       "<text text-anchor=\"middle\" x=\"573\" y=\"-446.3\" font-family=\"Courier,monospace\" font-size=\"14.00\" fill=\"#008040\">&quot;out&quot;</text>\n",
       "</g>\n",
       "<!-- 18&#45;&#45;19 -->\n",
       "<g id=\"edge19\" class=\"edge\">\n",
       "<title>18--19</title>\n",
       "<path fill=\"none\" stroke=\"black\" d=\"M600,-503C600,-503 589.58,-482.94 581.69,-467.74\"/>\n",
       "</g>\n",
       "<!-- 20 -->\n",
       "<g id=\"node21\" class=\"node\">\n",
       "<title>20</title>\n",
       "<text text-anchor=\"middle\" x=\"649\" y=\"-446.3\" font-family=\"Courier,monospace\" font-size=\"14.00\" fill=\"#008040\">Store</text>\n",
       "</g>\n",
       "<!-- 18&#45;&#45;20 -->\n",
       "<g id=\"edge20\" class=\"edge\">\n",
       "<title>18--20</title>\n",
       "<path fill=\"none\" stroke=\"black\" d=\"M600,-503C600,-503 618.9,-482.94 633.23,-467.74\"/>\n",
       "</g>\n",
       "<!-- 22 -->\n",
       "<g id=\"node23\" class=\"node\">\n",
       "<title>22</title>\n",
       "<text text-anchor=\"middle\" x=\"723\" y=\"-446.3\" font-family=\"Courier,monospace\" font-size=\"14.00\" fill=\"#008040\">&quot;&quot;</text>\n",
       "</g>\n",
       "<!-- 21&#45;&#45;22 -->\n",
       "<g id=\"edge22\" class=\"edge\">\n",
       "<title>21--22</title>\n",
       "<path fill=\"none\" stroke=\"black\" d=\"M713.15,-504.05C715.19,-493.05 717.84,-478.76 719.88,-467.79\"/>\n",
       "</g>\n",
       "<!-- 24 -->\n",
       "<g id=\"node25\" class=\"node\">\n",
       "<title>24</title>\n",
       "<text text-anchor=\"start\" x=\"852\" y=\"-519.3\" font-family=\"Courier,monospace\" font-weight=\"bold\" font-size=\"14.00\" fill=\"#004080\">Name</text>\n",
       "</g>\n",
       "<!-- 23&#45;&#45;24 -->\n",
       "<g id=\"edge24\" class=\"edge\">\n",
       "<title>23--24</title>\n",
       "<path fill=\"none\" stroke=\"black\" d=\"M914,-575C914,-575 896.64,-554.94 883.49,-539.74\"/>\n",
       "</g>\n",
       "<!-- 27 -->\n",
       "<g id=\"node28\" class=\"node\">\n",
       "<title>27</title>\n",
       "<text text-anchor=\"start\" x=\"926\" y=\"-519.3\" font-family=\"Courier,monospace\" font-weight=\"bold\" font-size=\"14.00\" fill=\"#004080\">Name</text>\n",
       "</g>\n",
       "<!-- 23&#45;&#45;27 -->\n",
       "<g id=\"edge27\" class=\"edge\">\n",
       "<title>23--27</title>\n",
       "<path fill=\"none\" stroke=\"black\" d=\"M914,-575C914,-575 925.19,-554.94 933.66,-539.74\"/>\n",
       "</g>\n",
       "<!-- 30 -->\n",
       "<g id=\"node31\" class=\"node\">\n",
       "<title>30</title>\n",
       "<text text-anchor=\"start\" x=\"1139.5\" y=\"-519.3\" font-family=\"Courier,monospace\" font-weight=\"bold\" font-size=\"14.00\" fill=\"#004080\">If</text>\n",
       "</g>\n",
       "<!-- 23&#45;&#45;30 -->\n",
       "<g id=\"edge30\" class=\"edge\">\n",
       "<title>23--30</title>\n",
       "<path fill=\"none\" stroke=\"black\" d=\"M914,-575C914,-575 1059.69,-542.62 1121.16,-528.97\"/>\n",
       "</g>\n",
       "<!-- 25 -->\n",
       "<g id=\"node26\" class=\"node\">\n",
       "<title>25</title>\n",
       "<text text-anchor=\"middle\" x=\"795\" y=\"-446.3\" font-family=\"Courier,monospace\" font-size=\"14.00\" fill=\"#008040\">&quot;c&quot;</text>\n",
       "</g>\n",
       "<!-- 24&#45;&#45;25 -->\n",
       "<g id=\"edge25\" class=\"edge\">\n",
       "<title>24--25</title>\n",
       "<path fill=\"none\" stroke=\"black\" d=\"M861,-503C861,-503 835.54,-482.94 816.25,-467.74\"/>\n",
       "</g>\n",
       "<!-- 26 -->\n",
       "<g id=\"node27\" class=\"node\">\n",
       "<title>26</title>\n",
       "<text text-anchor=\"middle\" x=\"869\" y=\"-446.3\" font-family=\"Courier,monospace\" font-size=\"14.00\" fill=\"#008040\">Store</text>\n",
       "</g>\n",
       "<!-- 24&#45;&#45;26 -->\n",
       "<g id=\"edge26\" class=\"edge\">\n",
       "<title>24--26</title>\n",
       "<path fill=\"none\" stroke=\"black\" d=\"M861,-503C861,-503 864.09,-482.94 866.42,-467.74\"/>\n",
       "</g>\n",
       "<!-- 28 -->\n",
       "<g id=\"node29\" class=\"node\">\n",
       "<title>28</title>\n",
       "<text text-anchor=\"middle\" x=\"943\" y=\"-446.3\" font-family=\"Courier,monospace\" font-size=\"14.00\" fill=\"#008040\">&quot;s&quot;</text>\n",
       "</g>\n",
       "<!-- 27&#45;&#45;28 -->\n",
       "<g id=\"edge28\" class=\"edge\">\n",
       "<title>27--28</title>\n",
       "<path fill=\"none\" stroke=\"black\" d=\"M950,-503C950,-503 947.3,-482.94 945.25,-467.74\"/>\n",
       "</g>\n",
       "<!-- 29 -->\n",
       "<g id=\"node30\" class=\"node\">\n",
       "<title>29</title>\n",
       "<text text-anchor=\"middle\" x=\"1015\" y=\"-446.3\" font-family=\"Courier,monospace\" font-size=\"14.00\" fill=\"#008040\">Load</text>\n",
       "</g>\n",
       "<!-- 27&#45;&#45;29 -->\n",
       "<g id=\"edge29\" class=\"edge\">\n",
       "<title>27--29</title>\n",
       "<path fill=\"none\" stroke=\"black\" d=\"M950,-503C950,-503 975.07,-482.94 994.08,-467.74\"/>\n",
       "</g>\n",
       "<!-- 31 -->\n",
       "<g id=\"node32\" class=\"node\">\n",
       "<title>31</title>\n",
       "<text text-anchor=\"start\" x=\"1068\" y=\"-447.3\" font-family=\"Courier,monospace\" font-weight=\"bold\" font-size=\"14.00\" fill=\"#004080\">BoolOp</text>\n",
       "</g>\n",
       "<!-- 30&#45;&#45;31 -->\n",
       "<g id=\"edge31\" class=\"edge\">\n",
       "<title>30--31</title>\n",
       "<path fill=\"none\" stroke=\"black\" d=\"M1158,-503C1158,-503 1132.93,-482.94 1113.92,-467.74\"/>\n",
       "</g>\n",
       "<!-- 45 -->\n",
       "<g id=\"node46\" class=\"node\">\n",
       "<title>45</title>\n",
       "<text text-anchor=\"start\" x=\"1178\" y=\"-447.3\" font-family=\"Courier,monospace\" font-weight=\"bold\" font-size=\"14.00\" fill=\"#004080\">Assign</text>\n",
       "</g>\n",
       "<!-- 30&#45;&#45;45 -->\n",
       "<g id=\"edge45\" class=\"edge\">\n",
       "<title>30--45</title>\n",
       "<path fill=\"none\" stroke=\"black\" d=\"M1158,-503C1158,-503 1175.36,-482.94 1188.51,-467.74\"/>\n",
       "</g>\n",
       "<!-- 51 -->\n",
       "<g id=\"node52\" class=\"node\">\n",
       "<title>51</title>\n",
       "<text text-anchor=\"start\" x=\"1455.5\" y=\"-447.3\" font-family=\"Courier,monospace\" font-weight=\"bold\" font-size=\"14.00\" fill=\"#004080\">If</text>\n",
       "</g>\n",
       "<!-- 30&#45;&#45;51 -->\n",
       "<g id=\"edge51\" class=\"edge\">\n",
       "<title>30--51</title>\n",
       "<path fill=\"none\" stroke=\"black\" d=\"M1158,-503C1158,-503 1362.44,-468.26 1437.11,-455.57\"/>\n",
       "</g>\n",
       "<!-- 32 -->\n",
       "<g id=\"node33\" class=\"node\">\n",
       "<title>32</title>\n",
       "<text text-anchor=\"middle\" x=\"845\" y=\"-374.3\" font-family=\"Courier,monospace\" font-size=\"14.00\" fill=\"#008040\">And</text>\n",
       "</g>\n",
       "<!-- 31&#45;&#45;32 -->\n",
       "<g id=\"edge32\" class=\"edge\">\n",
       "<title>31--32</title>\n",
       "<path fill=\"none\" stroke=\"black\" d=\"M1072,-431C1072,-431 963.16,-422.43 881,-396 877.97,-395.03 874.87,-393.85 871.82,-392.59\"/>\n",
       "</g>\n",
       "<!-- 33 -->\n",
       "<g id=\"node34\" class=\"node\">\n",
       "<title>33</title>\n",
       "<text text-anchor=\"start\" x=\"898\" y=\"-375.3\" font-family=\"Courier,monospace\" font-weight=\"bold\" font-size=\"14.00\" fill=\"#004080\">Compare</text>\n",
       "</g>\n",
       "<!-- 31&#45;&#45;33 -->\n",
       "<g id=\"edge33\" class=\"edge\">\n",
       "<title>31--33</title>\n",
       "<path fill=\"none\" stroke=\"black\" d=\"M1072,-431C1072,-431 1006.92,-407.66 963.96,-392.26\"/>\n",
       "</g>\n",
       "<!-- 40 -->\n",
       "<g id=\"node41\" class=\"node\">\n",
       "<title>40</title>\n",
       "<text text-anchor=\"start\" x=\"1057\" y=\"-375.3\" font-family=\"Courier,monospace\" font-weight=\"bold\" font-size=\"14.00\" fill=\"#004080\">UnaryOp</text>\n",
       "</g>\n",
       "<!-- 31&#45;&#45;40 -->\n",
       "<g id=\"edge40\" class=\"edge\">\n",
       "<title>31--40</title>\n",
       "<path fill=\"none\" stroke=\"black\" d=\"M1072,-431C1072,-431 1077.4,-410.94 1081.49,-395.74\"/>\n",
       "</g>\n",
       "<!-- 34 -->\n",
       "<g id=\"node35\" class=\"node\">\n",
       "<title>34</title>\n",
       "<text text-anchor=\"start\" x=\"751\" y=\"-303.3\" font-family=\"Courier,monospace\" font-weight=\"bold\" font-size=\"14.00\" fill=\"#004080\">Name</text>\n",
       "</g>\n",
       "<!-- 33&#45;&#45;34 -->\n",
       "<g id=\"edge34\" class=\"edge\">\n",
       "<title>33--34</title>\n",
       "<path fill=\"none\" stroke=\"black\" d=\"M912,-359C912,-359 850.91,-342.59 804,-324 801.04,-322.83 797.99,-321.53 794.96,-320.19\"/>\n",
       "</g>\n",
       "<!-- 37 -->\n",
       "<g id=\"node38\" class=\"node\">\n",
       "<title>37</title>\n",
       "<text text-anchor=\"middle\" x=\"840\" y=\"-302.3\" font-family=\"Courier,monospace\" font-size=\"14.00\" fill=\"#008040\">Eq</text>\n",
       "</g>\n",
       "<!-- 33&#45;&#45;37 -->\n",
       "<g id=\"edge37\" class=\"edge\">\n",
       "<title>33--37</title>\n",
       "<path fill=\"none\" stroke=\"black\" d=\"M912,-359C912,-359 884.23,-338.94 863.18,-323.74\"/>\n",
       "</g>\n",
       "<!-- 38 -->\n",
       "<g id=\"node39\" class=\"node\">\n",
       "<title>38</title>\n",
       "<text text-anchor=\"start\" x=\"893.5\" y=\"-303.3\" font-family=\"Courier,monospace\" font-weight=\"bold\" font-size=\"14.00\" fill=\"#004080\">Constant</text>\n",
       "</g>\n",
       "<!-- 33&#45;&#45;38 -->\n",
       "<g id=\"edge38\" class=\"edge\">\n",
       "<title>33--38</title>\n",
       "<path fill=\"none\" stroke=\"black\" d=\"M912,-359C912,-359 917.79,-338.94 922.17,-323.74\"/>\n",
       "</g>\n",
       "<!-- 35 -->\n",
       "<g id=\"node36\" class=\"node\">\n",
       "<title>35</title>\n",
       "<text text-anchor=\"middle\" x=\"732\" y=\"-230.3\" font-family=\"Courier,monospace\" font-size=\"14.00\" fill=\"#008040\">&quot;c&quot;</text>\n",
       "</g>\n",
       "<!-- 34&#45;&#45;35 -->\n",
       "<g id=\"edge35\" class=\"edge\">\n",
       "<title>34--35</title>\n",
       "<path fill=\"none\" stroke=\"black\" d=\"M768,-287C768,-287 754.11,-266.94 743.59,-251.74\"/>\n",
       "</g>\n",
       "<!-- 36 -->\n",
       "<g id=\"node37\" class=\"node\">\n",
       "<title>36</title>\n",
       "<text text-anchor=\"middle\" x=\"804\" y=\"-230.3\" font-family=\"Courier,monospace\" font-size=\"14.00\" fill=\"#008040\">Load</text>\n",
       "</g>\n",
       "<!-- 34&#45;&#45;36 -->\n",
       "<g id=\"edge36\" class=\"edge\">\n",
       "<title>34--36</title>\n",
       "<path fill=\"none\" stroke=\"black\" d=\"M768,-287C768,-287 781.89,-266.94 792.41,-251.74\"/>\n",
       "</g>\n",
       "<!-- 39 -->\n",
       "<g id=\"node40\" class=\"node\">\n",
       "<title>39</title>\n",
       "<text text-anchor=\"middle\" x=\"927\" y=\"-230.3\" font-family=\"Courier,monospace\" font-size=\"14.00\" fill=\"#008040\">&quot;&lt;&quot;</text>\n",
       "</g>\n",
       "<!-- 38&#45;&#45;39 -->\n",
       "<g id=\"edge39\" class=\"edge\">\n",
       "<title>38--39</title>\n",
       "<path fill=\"none\" stroke=\"black\" d=\"M927,-288.05C927,-277.05 927,-262.76 927,-251.79\"/>\n",
       "</g>\n",
       "<!-- 41 -->\n",
       "<g id=\"node42\" class=\"node\">\n",
       "<title>41</title>\n",
       "<text text-anchor=\"middle\" x=\"1014\" y=\"-302.3\" font-family=\"Courier,monospace\" font-size=\"14.00\" fill=\"#008040\">Not</text>\n",
       "</g>\n",
       "<!-- 40&#45;&#45;41 -->\n",
       "<g id=\"edge41\" class=\"edge\">\n",
       "<title>40--41</title>\n",
       "<path fill=\"none\" stroke=\"black\" d=\"M1079,-359C1079,-359 1053.93,-338.94 1034.92,-323.74\"/>\n",
       "</g>\n",
       "<!-- 42 -->\n",
       "<g id=\"node43\" class=\"node\">\n",
       "<title>42</title>\n",
       "<text text-anchor=\"start\" x=\"1069\" y=\"-303.3\" font-family=\"Courier,monospace\" font-weight=\"bold\" font-size=\"14.00\" fill=\"#004080\">Name</text>\n",
       "</g>\n",
       "<!-- 40&#45;&#45;42 -->\n",
       "<g id=\"edge42\" class=\"edge\">\n",
       "<title>40--42</title>\n",
       "<path fill=\"none\" stroke=\"black\" d=\"M1079,-359C1079,-359 1081.7,-338.94 1083.75,-323.74\"/>\n",
       "</g>\n",
       "<!-- 43 -->\n",
       "<g id=\"node44\" class=\"node\">\n",
       "<title>43</title>\n",
       "<text text-anchor=\"middle\" x=\"1048\" y=\"-230.3\" font-family=\"Courier,monospace\" font-size=\"14.00\" fill=\"#008040\">&quot;quote&quot;</text>\n",
       "</g>\n",
       "<!-- 42&#45;&#45;43 -->\n",
       "<g id=\"edge43\" class=\"edge\">\n",
       "<title>42--43</title>\n",
       "<path fill=\"none\" stroke=\"black\" d=\"M1087,-287C1087,-287 1071.96,-266.94 1060.55,-251.74\"/>\n",
       "</g>\n",
       "<!-- 44 -->\n",
       "<g id=\"node45\" class=\"node\">\n",
       "<title>44</title>\n",
       "<text text-anchor=\"middle\" x=\"1130\" y=\"-230.3\" font-family=\"Courier,monospace\" font-size=\"14.00\" fill=\"#008040\">Load</text>\n",
       "</g>\n",
       "<!-- 42&#45;&#45;44 -->\n",
       "<g id=\"edge44\" class=\"edge\">\n",
       "<title>42--44</title>\n",
       "<path fill=\"none\" stroke=\"black\" d=\"M1087,-287C1087,-287 1103.59,-266.94 1116.16,-251.74\"/>\n",
       "</g>\n",
       "<!-- 46 -->\n",
       "<g id=\"node47\" class=\"node\">\n",
       "<title>46</title>\n",
       "<text text-anchor=\"start\" x=\"1186\" y=\"-375.3\" font-family=\"Courier,monospace\" font-weight=\"bold\" font-size=\"14.00\" fill=\"#004080\">Name</text>\n",
       "</g>\n",
       "<!-- 45&#45;&#45;46 -->\n",
       "<g id=\"edge46\" class=\"edge\">\n",
       "<title>45--46</title>\n",
       "<path fill=\"none\" stroke=\"black\" d=\"M1212,-431C1212,-431 1208.53,-410.94 1205.9,-395.74\"/>\n",
       "</g>\n",
       "<!-- 49 -->\n",
       "<g id=\"node50\" class=\"node\">\n",
       "<title>49</title>\n",
       "<text text-anchor=\"start\" x=\"1269.5\" y=\"-375.3\" font-family=\"Courier,monospace\" font-weight=\"bold\" font-size=\"14.00\" fill=\"#004080\">Constant</text>\n",
       "</g>\n",
       "<!-- 45&#45;&#45;49 -->\n",
       "<g id=\"edge49\" class=\"edge\">\n",
       "<title>45--49</title>\n",
       "<path fill=\"none\" stroke=\"black\" d=\"M1212,-431C1212,-431 1246.88,-411.07 1273.45,-395.88\"/>\n",
       "</g>\n",
       "<!-- 47 -->\n",
       "<g id=\"node48\" class=\"node\">\n",
       "<title>47</title>\n",
       "<text text-anchor=\"middle\" x=\"1160\" y=\"-302.3\" font-family=\"Courier,monospace\" font-size=\"14.00\" fill=\"#008040\">&quot;tag&quot;</text>\n",
       "</g>\n",
       "<!-- 46&#45;&#45;47 -->\n",
       "<g id=\"edge47\" class=\"edge\">\n",
       "<title>46--47</title>\n",
       "<path fill=\"none\" stroke=\"black\" d=\"M1202,-359C1202,-359 1185.8,-338.94 1173.52,-323.74\"/>\n",
       "</g>\n",
       "<!-- 48 -->\n",
       "<g id=\"node49\" class=\"node\">\n",
       "<title>48</title>\n",
       "<text text-anchor=\"middle\" x=\"1236\" y=\"-302.3\" font-family=\"Courier,monospace\" font-size=\"14.00\" fill=\"#008040\">Store</text>\n",
       "</g>\n",
       "<!-- 46&#45;&#45;48 -->\n",
       "<g id=\"edge48\" class=\"edge\">\n",
       "<title>46--48</title>\n",
       "<path fill=\"none\" stroke=\"black\" d=\"M1202,-359C1202,-359 1215.12,-338.94 1225.06,-323.74\"/>\n",
       "</g>\n",
       "<!-- 50 -->\n",
       "<g id=\"node51\" class=\"node\">\n",
       "<title>50</title>\n",
       "<text text-anchor=\"middle\" x=\"1310\" y=\"-302.3\" font-family=\"Courier,monospace\" font-size=\"14.00\" fill=\"#008040\">True</text>\n",
       "</g>\n",
       "<!-- 49&#45;&#45;50 -->\n",
       "<g id=\"edge50\" class=\"edge\">\n",
       "<title>49--50</title>\n",
       "<path fill=\"none\" stroke=\"black\" d=\"M1304.69,-360.05C1305.8,-349.05 1307.22,-334.76 1308.32,-323.79\"/>\n",
       "</g>\n",
       "<!-- 52 -->\n",
       "<g id=\"node53\" class=\"node\">\n",
       "<title>52</title>\n",
       "<text text-anchor=\"start\" x=\"1439\" y=\"-375.3\" font-family=\"Courier,monospace\" font-weight=\"bold\" font-size=\"14.00\" fill=\"#004080\">BoolOp</text>\n",
       "</g>\n",
       "<!-- 51&#45;&#45;52 -->\n",
       "<g id=\"edge52\" class=\"edge\">\n",
       "<title>51--52</title>\n",
       "<path fill=\"none\" stroke=\"black\" d=\"M1489,-431C1489,-431 1479.36,-410.94 1472.05,-395.74\"/>\n",
       "</g>\n",
       "<!-- 66 -->\n",
       "<g id=\"node67\" class=\"node\">\n",
       "<title>66</title>\n",
       "<text text-anchor=\"start\" x=\"1689\" y=\"-375.3\" font-family=\"Courier,monospace\" font-weight=\"bold\" font-size=\"14.00\" fill=\"#004080\">Assign</text>\n",
       "</g>\n",
       "<!-- 51&#45;&#45;66 -->\n",
       "<g id=\"edge66\" class=\"edge\">\n",
       "<title>51--66</title>\n",
       "<path fill=\"none\" stroke=\"black\" d=\"M1489,-431C1489,-431 1618.88,-400.98 1681.28,-386.56\"/>\n",
       "</g>\n",
       "<!-- 72 -->\n",
       "<g id=\"node73\" class=\"node\">\n",
       "<title>72</title>\n",
       "<text text-anchor=\"start\" x=\"2226.5\" y=\"-375.3\" font-family=\"Courier,monospace\" font-weight=\"bold\" font-size=\"14.00\" fill=\"#004080\">If</text>\n",
       "</g>\n",
       "<!-- 51&#45;&#45;72 -->\n",
       "<g id=\"edge72\" class=\"edge\">\n",
       "<title>51--72</title>\n",
       "<path fill=\"none\" stroke=\"black\" d=\"M1489,-431C1489,-431 2074.27,-390.2 2208.01,-380.88\"/>\n",
       "</g>\n",
       "<!-- 53 -->\n",
       "<g id=\"node54\" class=\"node\">\n",
       "<title>53</title>\n",
       "<text text-anchor=\"middle\" x=\"1382\" y=\"-302.3\" font-family=\"Courier,monospace\" font-size=\"14.00\" fill=\"#008040\">And</text>\n",
       "</g>\n",
       "<!-- 52&#45;&#45;53 -->\n",
       "<g id=\"edge53\" class=\"edge\">\n",
       "<title>52--53</title>\n",
       "<path fill=\"none\" stroke=\"black\" d=\"M1464,-359C1464,-359 1432.37,-338.94 1408.4,-323.74\"/>\n",
       "</g>\n",
       "<!-- 54 -->\n",
       "<g id=\"node55\" class=\"node\">\n",
       "<title>54</title>\n",
       "<text text-anchor=\"start\" x=\"1435\" y=\"-303.3\" font-family=\"Courier,monospace\" font-weight=\"bold\" font-size=\"14.00\" fill=\"#004080\">Compare</text>\n",
       "</g>\n",
       "<!-- 52&#45;&#45;54 -->\n",
       "<g id=\"edge54\" class=\"edge\">\n",
       "<title>52--54</title>\n",
       "<path fill=\"none\" stroke=\"black\" d=\"M1464,-359C1464,-359 1464,-338.94 1464,-323.74\"/>\n",
       "</g>\n",
       "<!-- 61 -->\n",
       "<g id=\"node62\" class=\"node\">\n",
       "<title>61</title>\n",
       "<text text-anchor=\"start\" x=\"1527\" y=\"-303.3\" font-family=\"Courier,monospace\" font-weight=\"bold\" font-size=\"14.00\" fill=\"#004080\">UnaryOp</text>\n",
       "</g>\n",
       "<!-- 52&#45;&#45;61 -->\n",
       "<g id=\"edge61\" class=\"edge\">\n",
       "<title>52--61</title>\n",
       "<path fill=\"none\" stroke=\"black\" d=\"M1464,-359C1464,-359 1499.27,-339.07 1526.13,-323.88\"/>\n",
       "</g>\n",
       "<!-- 55 -->\n",
       "<g id=\"node56\" class=\"node\">\n",
       "<title>55</title>\n",
       "<text text-anchor=\"start\" x=\"1288\" y=\"-231.3\" font-family=\"Courier,monospace\" font-weight=\"bold\" font-size=\"14.00\" fill=\"#004080\">Name</text>\n",
       "</g>\n",
       "<!-- 54&#45;&#45;55 -->\n",
       "<g id=\"edge55\" class=\"edge\">\n",
       "<title>54--55</title>\n",
       "<path fill=\"none\" stroke=\"black\" d=\"M1449,-287C1449,-287 1387.91,-270.59 1341,-252 1338.04,-250.83 1334.99,-249.53 1331.96,-248.19\"/>\n",
       "</g>\n",
       "<!-- 58 -->\n",
       "<g id=\"node59\" class=\"node\">\n",
       "<title>58</title>\n",
       "<text text-anchor=\"middle\" x=\"1377\" y=\"-230.3\" font-family=\"Courier,monospace\" font-size=\"14.00\" fill=\"#008040\">Eq</text>\n",
       "</g>\n",
       "<!-- 54&#45;&#45;58 -->\n",
       "<g id=\"edge58\" class=\"edge\">\n",
       "<title>54--58</title>\n",
       "<path fill=\"none\" stroke=\"black\" d=\"M1449,-287C1449,-287 1421.23,-266.94 1400.18,-251.74\"/>\n",
       "</g>\n",
       "<!-- 59 -->\n",
       "<g id=\"node60\" class=\"node\">\n",
       "<title>59</title>\n",
       "<text text-anchor=\"start\" x=\"1430.5\" y=\"-231.3\" font-family=\"Courier,monospace\" font-weight=\"bold\" font-size=\"14.00\" fill=\"#004080\">Constant</text>\n",
       "</g>\n",
       "<!-- 54&#45;&#45;59 -->\n",
       "<g id=\"edge59\" class=\"edge\">\n",
       "<title>54--59</title>\n",
       "<path fill=\"none\" stroke=\"black\" d=\"M1449,-287C1449,-287 1454.79,-266.94 1459.17,-251.74\"/>\n",
       "</g>\n",
       "<!-- 56 -->\n",
       "<g id=\"node57\" class=\"node\">\n",
       "<title>56</title>\n",
       "<text text-anchor=\"middle\" x=\"1269\" y=\"-158.3\" font-family=\"Courier,monospace\" font-size=\"14.00\" fill=\"#008040\">&quot;c&quot;</text>\n",
       "</g>\n",
       "<!-- 55&#45;&#45;56 -->\n",
       "<g id=\"edge56\" class=\"edge\">\n",
       "<title>55--56</title>\n",
       "<path fill=\"none\" stroke=\"black\" d=\"M1305,-215C1305,-215 1291.11,-194.94 1280.59,-179.74\"/>\n",
       "</g>\n",
       "<!-- 57 -->\n",
       "<g id=\"node58\" class=\"node\">\n",
       "<title>57</title>\n",
       "<text text-anchor=\"middle\" x=\"1341\" y=\"-158.3\" font-family=\"Courier,monospace\" font-size=\"14.00\" fill=\"#008040\">Load</text>\n",
       "</g>\n",
       "<!-- 55&#45;&#45;57 -->\n",
       "<g id=\"edge57\" class=\"edge\">\n",
       "<title>55--57</title>\n",
       "<path fill=\"none\" stroke=\"black\" d=\"M1305,-215C1305,-215 1318.89,-194.94 1329.41,-179.74\"/>\n",
       "</g>\n",
       "<!-- 60 -->\n",
       "<g id=\"node61\" class=\"node\">\n",
       "<title>60</title>\n",
       "<text text-anchor=\"middle\" x=\"1464\" y=\"-158.3\" font-family=\"Courier,monospace\" font-size=\"14.00\" fill=\"#008040\">&quot;&gt;&quot;</text>\n",
       "</g>\n",
       "<!-- 59&#45;&#45;60 -->\n",
       "<g id=\"edge60\" class=\"edge\">\n",
       "<title>59--60</title>\n",
       "<path fill=\"none\" stroke=\"black\" d=\"M1464,-216.05C1464,-205.05 1464,-190.76 1464,-179.79\"/>\n",
       "</g>\n",
       "<!-- 62 -->\n",
       "<g id=\"node63\" class=\"node\">\n",
       "<title>62</title>\n",
       "<text text-anchor=\"middle\" x=\"1551\" y=\"-230.3\" font-family=\"Courier,monospace\" font-size=\"14.00\" fill=\"#008040\">Not</text>\n",
       "</g>\n",
       "<!-- 61&#45;&#45;62 -->\n",
       "<g id=\"edge62\" class=\"edge\">\n",
       "<title>61--62</title>\n",
       "<path fill=\"none\" stroke=\"black\" d=\"M1562,-287C1562,-287 1557.76,-266.94 1554.54,-251.74\"/>\n",
       "</g>\n",
       "<!-- 63 -->\n",
       "<g id=\"node64\" class=\"node\">\n",
       "<title>63</title>\n",
       "<text text-anchor=\"start\" x=\"1606\" y=\"-231.3\" font-family=\"Courier,monospace\" font-weight=\"bold\" font-size=\"14.00\" fill=\"#004080\">Name</text>\n",
       "</g>\n",
       "<!-- 61&#45;&#45;63 -->\n",
       "<g id=\"edge63\" class=\"edge\">\n",
       "<title>61--63</title>\n",
       "<path fill=\"none\" stroke=\"black\" d=\"M1562,-287C1562,-287 1585.53,-266.94 1603.36,-251.74\"/>\n",
       "</g>\n",
       "<!-- 64 -->\n",
       "<g id=\"node65\" class=\"node\">\n",
       "<title>64</title>\n",
       "<text text-anchor=\"middle\" x=\"1612\" y=\"-158.3\" font-family=\"Courier,monospace\" font-size=\"14.00\" fill=\"#008040\">&quot;quote&quot;</text>\n",
       "</g>\n",
       "<!-- 63&#45;&#45;64 -->\n",
       "<g id=\"edge64\" class=\"edge\">\n",
       "<title>63--64</title>\n",
       "<path fill=\"none\" stroke=\"black\" d=\"M1629,-215C1629,-215 1622.44,-194.94 1617.47,-179.74\"/>\n",
       "</g>\n",
       "<!-- 65 -->\n",
       "<g id=\"node66\" class=\"node\">\n",
       "<title>65</title>\n",
       "<text text-anchor=\"middle\" x=\"1694\" y=\"-158.3\" font-family=\"Courier,monospace\" font-size=\"14.00\" fill=\"#008040\">Load</text>\n",
       "</g>\n",
       "<!-- 63&#45;&#45;65 -->\n",
       "<g id=\"edge65\" class=\"edge\">\n",
       "<title>63--65</title>\n",
       "<path fill=\"none\" stroke=\"black\" d=\"M1629,-215C1629,-215 1654.07,-194.94 1673.08,-179.74\"/>\n",
       "</g>\n",
       "<!-- 67 -->\n",
       "<g id=\"node68\" class=\"node\">\n",
       "<title>67</title>\n",
       "<text text-anchor=\"start\" x=\"1697\" y=\"-303.3\" font-family=\"Courier,monospace\" font-weight=\"bold\" font-size=\"14.00\" fill=\"#004080\">Name</text>\n",
       "</g>\n",
       "<!-- 66&#45;&#45;67 -->\n",
       "<g id=\"edge67\" class=\"edge\">\n",
       "<title>66--67</title>\n",
       "<path fill=\"none\" stroke=\"black\" d=\"M1724,-359C1724,-359 1720.14,-338.94 1717.22,-323.74\"/>\n",
       "</g>\n",
       "<!-- 70 -->\n",
       "<g id=\"node71\" class=\"node\">\n",
       "<title>70</title>\n",
       "<text text-anchor=\"start\" x=\"1799.5\" y=\"-303.3\" font-family=\"Courier,monospace\" font-weight=\"bold\" font-size=\"14.00\" fill=\"#004080\">Constant</text>\n",
       "</g>\n",
       "<!-- 66&#45;&#45;70 -->\n",
       "<g id=\"edge70\" class=\"edge\">\n",
       "<title>66--70</title>\n",
       "<path fill=\"none\" stroke=\"black\" d=\"M1724,-359C1724,-359 1765.78,-339.07 1797.61,-323.88\"/>\n",
       "</g>\n",
       "<!-- 68 -->\n",
       "<g id=\"node69\" class=\"node\">\n",
       "<title>68</title>\n",
       "<text text-anchor=\"middle\" x=\"1697\" y=\"-230.3\" font-family=\"Courier,monospace\" font-size=\"14.00\" fill=\"#008040\">&quot;tag&quot;</text>\n",
       "</g>\n",
       "<!-- 67&#45;&#45;68 -->\n",
       "<g id=\"edge68\" class=\"edge\">\n",
       "<title>67--68</title>\n",
       "<path fill=\"none\" stroke=\"black\" d=\"M1718,-287C1718,-287 1709.9,-266.94 1703.76,-251.74\"/>\n",
       "</g>\n",
       "<!-- 69 -->\n",
       "<g id=\"node70\" class=\"node\">\n",
       "<title>69</title>\n",
       "<text text-anchor=\"middle\" x=\"1773\" y=\"-230.3\" font-family=\"Courier,monospace\" font-size=\"14.00\" fill=\"#008040\">Store</text>\n",
       "</g>\n",
       "<!-- 67&#45;&#45;69 -->\n",
       "<g id=\"edge69\" class=\"edge\">\n",
       "<title>67--69</title>\n",
       "<path fill=\"none\" stroke=\"black\" d=\"M1718,-287C1718,-287 1739.22,-266.94 1755.29,-251.74\"/>\n",
       "</g>\n",
       "<!-- 71 -->\n",
       "<g id=\"node72\" class=\"node\">\n",
       "<title>71</title>\n",
       "<text text-anchor=\"middle\" x=\"1849\" y=\"-230.3\" font-family=\"Courier,monospace\" font-size=\"14.00\" fill=\"#008040\">False</text>\n",
       "</g>\n",
       "<!-- 70&#45;&#45;71 -->\n",
       "<g id=\"edge71\" class=\"edge\">\n",
       "<title>70--71</title>\n",
       "<path fill=\"none\" stroke=\"black\" d=\"M1836.87,-288.05C1839.39,-277.05 1842.65,-262.76 1845.16,-251.79\"/>\n",
       "</g>\n",
       "<!-- 73 -->\n",
       "<g id=\"node74\" class=\"node\">\n",
       "<title>73</title>\n",
       "<text text-anchor=\"start\" x=\"2035\" y=\"-303.3\" font-family=\"Courier,monospace\" font-weight=\"bold\" font-size=\"14.00\" fill=\"#004080\">BoolOp</text>\n",
       "</g>\n",
       "<!-- 72&#45;&#45;73 -->\n",
       "<g id=\"edge73\" class=\"edge\">\n",
       "<title>72--73</title>\n",
       "<path fill=\"none\" stroke=\"black\" d=\"M2248,-359C2248,-359 2146.61,-330.96 2092.75,-316.06\"/>\n",
       "</g>\n",
       "<!-- 94 -->\n",
       "<g id=\"node95\" class=\"node\">\n",
       "<title>94</title>\n",
       "<text text-anchor=\"start\" x=\"2303\" y=\"-303.3\" font-family=\"Courier,monospace\" font-weight=\"bold\" font-size=\"14.00\" fill=\"#004080\">Assign</text>\n",
       "</g>\n",
       "<!-- 72&#45;&#45;94 -->\n",
       "<g id=\"edge94\" class=\"edge\">\n",
       "<title>72--94</title>\n",
       "<path fill=\"none\" stroke=\"black\" d=\"M2248,-359C2248,-359 2278.86,-338.94 2302.25,-323.74\"/>\n",
       "</g>\n",
       "<!-- 103 -->\n",
       "<g id=\"node104\" class=\"node\">\n",
       "<title>103</title>\n",
       "<text text-anchor=\"start\" x=\"2621.5\" y=\"-303.3\" font-family=\"Courier,monospace\" font-weight=\"bold\" font-size=\"14.00\" fill=\"#004080\">If</text>\n",
       "</g>\n",
       "<!-- 72&#45;&#45;103 -->\n",
       "<g id=\"edge103\" class=\"edge\">\n",
       "<title>72--103</title>\n",
       "<path fill=\"none\" stroke=\"black\" d=\"M2248,-359C2248,-359 2516.19,-322.49 2603.14,-310.66\"/>\n",
       "</g>\n",
       "<!-- 74 -->\n",
       "<g id=\"node75\" class=\"node\">\n",
       "<title>74</title>\n",
       "<text text-anchor=\"middle\" x=\"1923\" y=\"-230.3\" font-family=\"Courier,monospace\" font-size=\"14.00\" fill=\"#008040\">Or</text>\n",
       "</g>\n",
       "<!-- 73&#45;&#45;74 -->\n",
       "<g id=\"edge74\" class=\"edge\">\n",
       "<title>73--74</title>\n",
       "<path fill=\"none\" stroke=\"black\" d=\"M2052,-287C2052,-287 1999.67,-269.22 1959,-252 1955.94,-250.71 1952.77,-249.3 1949.63,-247.87\"/>\n",
       "</g>\n",
       "<!-- 75 -->\n",
       "<g id=\"node76\" class=\"node\">\n",
       "<title>75</title>\n",
       "<text text-anchor=\"start\" x=\"1976\" y=\"-231.3\" font-family=\"Courier,monospace\" font-weight=\"bold\" font-size=\"14.00\" fill=\"#004080\">Compare</text>\n",
       "</g>\n",
       "<!-- 73&#45;&#45;75 -->\n",
       "<g id=\"edge75\" class=\"edge\">\n",
       "<title>73--75</title>\n",
       "<path fill=\"none\" stroke=\"black\" d=\"M2052,-287C2052,-287 2033.87,-266.94 2020.13,-251.74\"/>\n",
       "</g>\n",
       "<!-- 82 -->\n",
       "<g id=\"node83\" class=\"node\">\n",
       "<title>82</title>\n",
       "<text text-anchor=\"start\" x=\"2090\" y=\"-231.3\" font-family=\"Courier,monospace\" font-weight=\"bold\" font-size=\"14.00\" fill=\"#004080\">BoolOp</text>\n",
       "</g>\n",
       "<!-- 73&#45;&#45;82 -->\n",
       "<g id=\"edge82\" class=\"edge\">\n",
       "<title>73--82</title>\n",
       "<path fill=\"none\" stroke=\"black\" d=\"M2052,-287C2052,-287 2076.3,-266.94 2094.72,-251.74\"/>\n",
       "</g>\n",
       "<!-- 76 -->\n",
       "<g id=\"node77\" class=\"node\">\n",
       "<title>76</title>\n",
       "<text text-anchor=\"start\" x=\"1781\" y=\"-159.3\" font-family=\"Courier,monospace\" font-weight=\"bold\" font-size=\"14.00\" fill=\"#004080\">Name</text>\n",
       "</g>\n",
       "<!-- 75&#45;&#45;76 -->\n",
       "<g id=\"edge76\" class=\"edge\">\n",
       "<title>75--76</title>\n",
       "<path fill=\"none\" stroke=\"black\" d=\"M1979,-215C1979,-215 1896.52,-202.05 1834,-180 1831,-178.94 1827.92,-177.72 1824.88,-176.42\"/>\n",
       "</g>\n",
       "<!-- 79 -->\n",
       "<g id=\"node80\" class=\"node\">\n",
       "<title>79</title>\n",
       "<text text-anchor=\"middle\" x=\"1870\" y=\"-158.3\" font-family=\"Courier,monospace\" font-size=\"14.00\" fill=\"#008040\">Eq</text>\n",
       "</g>\n",
       "<!-- 75&#45;&#45;79 -->\n",
       "<g id=\"edge79\" class=\"edge\">\n",
       "<title>75--79</title>\n",
       "<path fill=\"none\" stroke=\"black\" d=\"M1979,-215C1979,-215 1929.22,-191.25 1896.94,-175.85\"/>\n",
       "</g>\n",
       "<!-- 80 -->\n",
       "<g id=\"node81\" class=\"node\">\n",
       "<title>80</title>\n",
       "<text text-anchor=\"start\" x=\"1923.5\" y=\"-159.3\" font-family=\"Courier,monospace\" font-weight=\"bold\" font-size=\"14.00\" fill=\"#004080\">Constant</text>\n",
       "</g>\n",
       "<!-- 75&#45;&#45;80 -->\n",
       "<g id=\"edge80\" class=\"edge\">\n",
       "<title>75--80</title>\n",
       "<path fill=\"none\" stroke=\"black\" d=\"M1979,-215C1979,-215 1970.51,-194.94 1964.08,-179.74\"/>\n",
       "</g>\n",
       "<!-- 77 -->\n",
       "<g id=\"node78\" class=\"node\">\n",
       "<title>77</title>\n",
       "<text text-anchor=\"middle\" x=\"1762\" y=\"-86.3\" font-family=\"Courier,monospace\" font-size=\"14.00\" fill=\"#008040\">&quot;c&quot;</text>\n",
       "</g>\n",
       "<!-- 76&#45;&#45;77 -->\n",
       "<g id=\"edge77\" class=\"edge\">\n",
       "<title>76--77</title>\n",
       "<path fill=\"none\" stroke=\"black\" d=\"M1798,-143C1798,-143 1784.11,-122.94 1773.59,-107.74\"/>\n",
       "</g>\n",
       "<!-- 78 -->\n",
       "<g id=\"node79\" class=\"node\">\n",
       "<title>78</title>\n",
       "<text text-anchor=\"middle\" x=\"1834\" y=\"-86.3\" font-family=\"Courier,monospace\" font-size=\"14.00\" fill=\"#008040\">Load</text>\n",
       "</g>\n",
       "<!-- 76&#45;&#45;78 -->\n",
       "<g id=\"edge78\" class=\"edge\">\n",
       "<title>76--78</title>\n",
       "<path fill=\"none\" stroke=\"black\" d=\"M1798,-143C1798,-143 1811.89,-122.94 1822.41,-107.74\"/>\n",
       "</g>\n",
       "<!-- 81 -->\n",
       "<g id=\"node82\" class=\"node\">\n",
       "<title>81</title>\n",
       "<text text-anchor=\"middle\" x=\"1950\" y=\"-86.3\" font-family=\"Courier,monospace\" font-size=\"14.00\" fill=\"#008040\">&quot;&quot;&quot;</text>\n",
       "</g>\n",
       "<!-- 80&#45;&#45;81 -->\n",
       "<g id=\"edge81\" class=\"edge\">\n",
       "<title>80--81</title>\n",
       "<path fill=\"none\" stroke=\"black\" d=\"M1955.31,-144.05C1954.2,-133.05 1952.78,-118.76 1951.68,-107.79\"/>\n",
       "</g>\n",
       "<!-- 83 -->\n",
       "<g id=\"node84\" class=\"node\">\n",
       "<title>83</title>\n",
       "<text text-anchor=\"middle\" x=\"2044\" y=\"-158.3\" font-family=\"Courier,monospace\" font-size=\"14.00\" fill=\"#008040\">And</text>\n",
       "</g>\n",
       "<!-- 82&#45;&#45;83 -->\n",
       "<g id=\"edge83\" class=\"edge\">\n",
       "<title>82--83</title>\n",
       "<path fill=\"none\" stroke=\"black\" d=\"M2117,-215C2117,-215 2088.84,-194.94 2067.5,-179.74\"/>\n",
       "</g>\n",
       "<!-- 84 -->\n",
       "<g id=\"node85\" class=\"node\">\n",
       "<title>84</title>\n",
       "<text text-anchor=\"start\" x=\"2097\" y=\"-159.3\" font-family=\"Courier,monospace\" font-weight=\"bold\" font-size=\"14.00\" fill=\"#004080\">Compare</text>\n",
       "</g>\n",
       "<!-- 82&#45;&#45;84 -->\n",
       "<g id=\"edge84\" class=\"edge\">\n",
       "<title>82--84</title>\n",
       "<path fill=\"none\" stroke=\"black\" d=\"M2117,-215C2117,-215 2120.47,-194.94 2123.1,-179.74\"/>\n",
       "</g>\n",
       "<!-- 91 -->\n",
       "<g id=\"node92\" class=\"node\">\n",
       "<title>91</title>\n",
       "<text text-anchor=\"start\" x=\"2191\" y=\"-159.3\" font-family=\"Courier,monospace\" font-weight=\"bold\" font-size=\"14.00\" fill=\"#004080\">Name</text>\n",
       "</g>\n",
       "<!-- 82&#45;&#45;91 -->\n",
       "<g id=\"edge91\" class=\"edge\">\n",
       "<title>82--91</title>\n",
       "<path fill=\"none\" stroke=\"black\" d=\"M2117,-215C2117,-215 2154.35,-193.66 2181.19,-178.32\"/>\n",
       "</g>\n",
       "<!-- 85 -->\n",
       "<g id=\"node86\" class=\"node\">\n",
       "<title>85</title>\n",
       "<text text-anchor=\"start\" x=\"2005\" y=\"-87.3\" font-family=\"Courier,monospace\" font-weight=\"bold\" font-size=\"14.00\" fill=\"#004080\">Name</text>\n",
       "</g>\n",
       "<!-- 84&#45;&#45;85 -->\n",
       "<g id=\"edge85\" class=\"edge\">\n",
       "<title>84--85</title>\n",
       "<path fill=\"none\" stroke=\"black\" d=\"M2121,-143C2121,-143 2078.11,-120.47 2048.79,-105.07\"/>\n",
       "</g>\n",
       "<!-- 88 -->\n",
       "<g id=\"node89\" class=\"node\">\n",
       "<title>88</title>\n",
       "<text text-anchor=\"middle\" x=\"2094\" y=\"-86.3\" font-family=\"Courier,monospace\" font-size=\"14.00\" fill=\"#008040\">Eq</text>\n",
       "</g>\n",
       "<!-- 84&#45;&#45;88 -->\n",
       "<g id=\"edge88\" class=\"edge\">\n",
       "<title>84--88</title>\n",
       "<path fill=\"none\" stroke=\"black\" d=\"M2121,-143C2121,-143 2110.58,-122.94 2102.69,-107.74\"/>\n",
       "</g>\n",
       "<!-- 89 -->\n",
       "<g id=\"node90\" class=\"node\">\n",
       "<title>89</title>\n",
       "<text text-anchor=\"start\" x=\"2147.5\" y=\"-87.3\" font-family=\"Courier,monospace\" font-weight=\"bold\" font-size=\"14.00\" fill=\"#004080\">Constant</text>\n",
       "</g>\n",
       "<!-- 84&#45;&#45;89 -->\n",
       "<g id=\"edge89\" class=\"edge\">\n",
       "<title>84--89</title>\n",
       "<path fill=\"none\" stroke=\"black\" d=\"M2121,-143C2121,-143 2144.15,-122.94 2161.69,-107.74\"/>\n",
       "</g>\n",
       "<!-- 86 -->\n",
       "<g id=\"node87\" class=\"node\">\n",
       "<title>86</title>\n",
       "<text text-anchor=\"middle\" x=\"1986\" y=\"-14.3\" font-family=\"Courier,monospace\" font-size=\"14.00\" fill=\"#008040\">&quot;c&quot;</text>\n",
       "</g>\n",
       "<!-- 85&#45;&#45;86 -->\n",
       "<g id=\"edge86\" class=\"edge\">\n",
       "<title>85--86</title>\n",
       "<path fill=\"none\" stroke=\"black\" d=\"M2022,-71C2022,-71 2008.11,-50.94 1997.59,-35.74\"/>\n",
       "</g>\n",
       "<!-- 87 -->\n",
       "<g id=\"node88\" class=\"node\">\n",
       "<title>87</title>\n",
       "<text text-anchor=\"middle\" x=\"2058\" y=\"-14.3\" font-family=\"Courier,monospace\" font-size=\"14.00\" fill=\"#008040\">Load</text>\n",
       "</g>\n",
       "<!-- 85&#45;&#45;87 -->\n",
       "<g id=\"edge87\" class=\"edge\">\n",
       "<title>85--87</title>\n",
       "<path fill=\"none\" stroke=\"black\" d=\"M2022,-71C2022,-71 2035.89,-50.94 2046.41,-35.74\"/>\n",
       "</g>\n",
       "<!-- 90 -->\n",
       "<g id=\"node91\" class=\"node\">\n",
       "<title>90</title>\n",
       "<text text-anchor=\"middle\" x=\"2181\" y=\"-14.3\" font-family=\"Courier,monospace\" font-size=\"14.00\" fill=\"#008040\">&quot;'&quot;</text>\n",
       "</g>\n",
       "<!-- 89&#45;&#45;90 -->\n",
       "<g id=\"edge90\" class=\"edge\">\n",
       "<title>89--90</title>\n",
       "<path fill=\"none\" stroke=\"black\" d=\"M2181,-72.05C2181,-61.05 2181,-46.76 2181,-35.79\"/>\n",
       "</g>\n",
       "<!-- 92 -->\n",
       "<g id=\"node93\" class=\"node\">\n",
       "<title>92</title>\n",
       "<text text-anchor=\"middle\" x=\"2270\" y=\"-86.3\" font-family=\"Courier,monospace\" font-size=\"14.00\" fill=\"#008040\">&quot;tag&quot;</text>\n",
       "</g>\n",
       "<!-- 91&#45;&#45;92 -->\n",
       "<g id=\"edge92\" class=\"edge\">\n",
       "<title>91--92</title>\n",
       "<path fill=\"none\" stroke=\"black\" d=\"M2230,-143C2230,-143 2245.43,-122.94 2257.12,-107.74\"/>\n",
       "</g>\n",
       "<!-- 93 -->\n",
       "<g id=\"node94\" class=\"node\">\n",
       "<title>93</title>\n",
       "<text text-anchor=\"middle\" x=\"2344\" y=\"-86.3\" font-family=\"Courier,monospace\" font-size=\"14.00\" fill=\"#008040\">Load</text>\n",
       "</g>\n",
       "<!-- 91&#45;&#45;93 -->\n",
       "<g id=\"edge93\" class=\"edge\">\n",
       "<title>91--93</title>\n",
       "<path fill=\"none\" stroke=\"black\" d=\"M2230,-143C2230,-143 2273.49,-123.89 2308,-108 2311.01,-106.61 2314.16,-105.15 2317.29,-103.68\"/>\n",
       "</g>\n",
       "<!-- 95 -->\n",
       "<g id=\"node96\" class=\"node\">\n",
       "<title>95</title>\n",
       "<text text-anchor=\"start\" x=\"2311\" y=\"-231.3\" font-family=\"Courier,monospace\" font-weight=\"bold\" font-size=\"14.00\" fill=\"#004080\">Name</text>\n",
       "</g>\n",
       "<!-- 94&#45;&#45;95 -->\n",
       "<g id=\"edge95\" class=\"edge\">\n",
       "<title>94--95</title>\n",
       "<path fill=\"none\" stroke=\"black\" d=\"M2338,-287C2338,-287 2334.14,-266.94 2331.22,-251.74\"/>\n",
       "</g>\n",
       "<!-- 98 -->\n",
       "<g id=\"node99\" class=\"node\">\n",
       "<title>98</title>\n",
       "<text text-anchor=\"start\" x=\"2419\" y=\"-231.3\" font-family=\"Courier,monospace\" font-weight=\"bold\" font-size=\"14.00\" fill=\"#004080\">UnaryOp</text>\n",
       "</g>\n",
       "<!-- 94&#45;&#45;98 -->\n",
       "<g id=\"edge98\" class=\"edge\">\n",
       "<title>94--98</title>\n",
       "<path fill=\"none\" stroke=\"black\" d=\"M2338,-287C2338,-287 2380.17,-267.07 2412.29,-251.88\"/>\n",
       "</g>\n",
       "<!-- 96 -->\n",
       "<g id=\"node97\" class=\"node\">\n",
       "<title>96</title>\n",
       "<text text-anchor=\"middle\" x=\"2290\" y=\"-158.3\" font-family=\"Courier,monospace\" font-size=\"14.00\" fill=\"#008040\">&quot;quote&quot;</text>\n",
       "</g>\n",
       "<!-- 95&#45;&#45;96 -->\n",
       "<g id=\"edge96\" class=\"edge\">\n",
       "<title>95--96</title>\n",
       "<path fill=\"none\" stroke=\"black\" d=\"M2329,-215C2329,-215 2313.96,-194.94 2302.55,-179.74\"/>\n",
       "</g>\n",
       "<!-- 97 -->\n",
       "<g id=\"node98\" class=\"node\">\n",
       "<title>97</title>\n",
       "<text text-anchor=\"middle\" x=\"2374\" y=\"-158.3\" font-family=\"Courier,monospace\" font-size=\"14.00\" fill=\"#008040\">Store</text>\n",
       "</g>\n",
       "<!-- 95&#45;&#45;97 -->\n",
       "<g id=\"edge97\" class=\"edge\">\n",
       "<title>95--97</title>\n",
       "<path fill=\"none\" stroke=\"black\" d=\"M2329,-215C2329,-215 2346.36,-194.94 2359.51,-179.74\"/>\n",
       "</g>\n",
       "<!-- 99 -->\n",
       "<g id=\"node100\" class=\"node\">\n",
       "<title>99</title>\n",
       "<text text-anchor=\"middle\" x=\"2448\" y=\"-158.3\" font-family=\"Courier,monospace\" font-size=\"14.00\" fill=\"#008040\">Not</text>\n",
       "</g>\n",
       "<!-- 98&#45;&#45;99 -->\n",
       "<g id=\"edge99\" class=\"edge\">\n",
       "<title>98--99</title>\n",
       "<path fill=\"none\" stroke=\"black\" d=\"M2455,-215C2455,-215 2452.3,-194.94 2450.25,-179.74\"/>\n",
       "</g>\n",
       "<!-- 100 -->\n",
       "<g id=\"node101\" class=\"node\">\n",
       "<title>100</title>\n",
       "<text text-anchor=\"start\" x=\"2503\" y=\"-159.3\" font-family=\"Courier,monospace\" font-weight=\"bold\" font-size=\"14.00\" fill=\"#004080\">Name</text>\n",
       "</g>\n",
       "<!-- 98&#45;&#45;100 -->\n",
       "<g id=\"edge100\" class=\"edge\">\n",
       "<title>98--100</title>\n",
       "<path fill=\"none\" stroke=\"black\" d=\"M2455,-215C2455,-215 2480.07,-194.94 2499.08,-179.74\"/>\n",
       "</g>\n",
       "<!-- 101 -->\n",
       "<g id=\"node102\" class=\"node\">\n",
       "<title>101</title>\n",
       "<text text-anchor=\"middle\" x=\"2438\" y=\"-86.3\" font-family=\"Courier,monospace\" font-size=\"14.00\" fill=\"#008040\">&quot;quote&quot;</text>\n",
       "</g>\n",
       "<!-- 100&#45;&#45;101 -->\n",
       "<g id=\"edge101\" class=\"edge\">\n",
       "<title>100--101</title>\n",
       "<path fill=\"none\" stroke=\"black\" d=\"M2512,-143C2512,-143 2483.45,-122.94 2461.82,-107.74\"/>\n",
       "</g>\n",
       "<!-- 102 -->\n",
       "<g id=\"node103\" class=\"node\">\n",
       "<title>102</title>\n",
       "<text text-anchor=\"middle\" x=\"2520\" y=\"-86.3\" font-family=\"Courier,monospace\" font-size=\"14.00\" fill=\"#008040\">Load</text>\n",
       "</g>\n",
       "<!-- 100&#45;&#45;102 -->\n",
       "<g id=\"edge102\" class=\"edge\">\n",
       "<title>100--102</title>\n",
       "<path fill=\"none\" stroke=\"black\" d=\"M2512,-143C2512,-143 2515.09,-122.94 2517.42,-107.74\"/>\n",
       "</g>\n",
       "<!-- 104 -->\n",
       "<g id=\"node105\" class=\"node\">\n",
       "<title>104</title>\n",
       "<text text-anchor=\"start\" x=\"2601\" y=\"-231.3\" font-family=\"Courier,monospace\" font-weight=\"bold\" font-size=\"14.00\" fill=\"#004080\">UnaryOp</text>\n",
       "</g>\n",
       "<!-- 103&#45;&#45;104 -->\n",
       "<g id=\"edge104\" class=\"edge\">\n",
       "<title>103--104</title>\n",
       "<path fill=\"none\" stroke=\"black\" d=\"M2641,-287C2641,-287 2636.76,-266.94 2633.54,-251.74\"/>\n",
       "</g>\n",
       "<!-- 109 -->\n",
       "<g id=\"node110\" class=\"node\">\n",
       "<title>109</title>\n",
       "<text text-anchor=\"start\" x=\"2755\" y=\"-231.3\" font-family=\"Courier,monospace\" font-weight=\"bold\" font-size=\"14.00\" fill=\"#004080\">Assign</text>\n",
       "</g>\n",
       "<!-- 103&#45;&#45;109 -->\n",
       "<g id=\"edge109\" class=\"edge\">\n",
       "<title>103--109</title>\n",
       "<path fill=\"none\" stroke=\"black\" d=\"M2641,-287C2641,-287 2705.95,-262.7 2747.06,-247.32\"/>\n",
       "</g>\n",
       "<!-- 105 -->\n",
       "<g id=\"node106\" class=\"node\">\n",
       "<title>105</title>\n",
       "<text text-anchor=\"middle\" x=\"2594\" y=\"-158.3\" font-family=\"Courier,monospace\" font-size=\"14.00\" fill=\"#008040\">Not</text>\n",
       "</g>\n",
       "<!-- 104&#45;&#45;105 -->\n",
       "<g id=\"edge105\" class=\"edge\">\n",
       "<title>104--105</title>\n",
       "<path fill=\"none\" stroke=\"black\" d=\"M2630,-215C2630,-215 2616.11,-194.94 2605.59,-179.74\"/>\n",
       "</g>\n",
       "<!-- 106 -->\n",
       "<g id=\"node107\" class=\"node\">\n",
       "<title>106</title>\n",
       "<text text-anchor=\"start\" x=\"2649\" y=\"-159.3\" font-family=\"Courier,monospace\" font-weight=\"bold\" font-size=\"14.00\" fill=\"#004080\">Name</text>\n",
       "</g>\n",
       "<!-- 104&#45;&#45;106 -->\n",
       "<g id=\"edge106\" class=\"edge\">\n",
       "<title>104--106</title>\n",
       "<path fill=\"none\" stroke=\"black\" d=\"M2630,-215C2630,-215 2643.89,-194.94 2654.41,-179.74\"/>\n",
       "</g>\n",
       "<!-- 107 -->\n",
       "<g id=\"node108\" class=\"node\">\n",
       "<title>107</title>\n",
       "<text text-anchor=\"middle\" x=\"2594\" y=\"-86.3\" font-family=\"Courier,monospace\" font-size=\"14.00\" fill=\"#008040\">&quot;tag&quot;</text>\n",
       "</g>\n",
       "<!-- 106&#45;&#45;107 -->\n",
       "<g id=\"edge107\" class=\"edge\">\n",
       "<title>106--107</title>\n",
       "<path fill=\"none\" stroke=\"black\" d=\"M2659,-143C2659,-143 2633.93,-122.94 2614.92,-107.74\"/>\n",
       "</g>\n",
       "<!-- 108 -->\n",
       "<g id=\"node109\" class=\"node\">\n",
       "<title>108</title>\n",
       "<text text-anchor=\"middle\" x=\"2668\" y=\"-86.3\" font-family=\"Courier,monospace\" font-size=\"14.00\" fill=\"#008040\">Load</text>\n",
       "</g>\n",
       "<!-- 106&#45;&#45;108 -->\n",
       "<g id=\"edge108\" class=\"edge\">\n",
       "<title>106--108</title>\n",
       "<path fill=\"none\" stroke=\"black\" d=\"M2659,-143C2659,-143 2662.47,-122.94 2665.1,-107.74\"/>\n",
       "</g>\n",
       "<!-- 110 -->\n",
       "<g id=\"node111\" class=\"node\">\n",
       "<title>110</title>\n",
       "<text text-anchor=\"start\" x=\"2763\" y=\"-159.3\" font-family=\"Courier,monospace\" font-weight=\"bold\" font-size=\"14.00\" fill=\"#004080\">Name</text>\n",
       "</g>\n",
       "<!-- 109&#45;&#45;110 -->\n",
       "<g id=\"edge110\" class=\"edge\">\n",
       "<title>109--110</title>\n",
       "<path fill=\"none\" stroke=\"black\" d=\"M2791,-215C2791,-215 2786.76,-194.94 2783.54,-179.74\"/>\n",
       "</g>\n",
       "<!-- 113 -->\n",
       "<g id=\"node114\" class=\"node\">\n",
       "<title>113</title>\n",
       "<text text-anchor=\"start\" x=\"2907\" y=\"-159.3\" font-family=\"Courier,monospace\" font-weight=\"bold\" font-size=\"14.00\" fill=\"#004080\">BinOp</text>\n",
       "</g>\n",
       "<!-- 109&#45;&#45;113 -->\n",
       "<g id=\"edge113\" class=\"edge\">\n",
       "<title>109--113</title>\n",
       "<path fill=\"none\" stroke=\"black\" d=\"M2791,-215C2791,-215 2859.11,-189.15 2899.28,-173.9\"/>\n",
       "</g>\n",
       "<!-- 111 -->\n",
       "<g id=\"node112\" class=\"node\">\n",
       "<title>111</title>\n",
       "<text text-anchor=\"middle\" x=\"2742\" y=\"-86.3\" font-family=\"Courier,monospace\" font-size=\"14.00\" fill=\"#008040\">&quot;out&quot;</text>\n",
       "</g>\n",
       "<!-- 110&#45;&#45;111 -->\n",
       "<g id=\"edge111\" class=\"edge\">\n",
       "<title>110--111</title>\n",
       "<path fill=\"none\" stroke=\"black\" d=\"M2780,-143C2780,-143 2765.34,-122.94 2754.23,-107.74\"/>\n",
       "</g>\n",
       "<!-- 112 -->\n",
       "<g id=\"node113\" class=\"node\">\n",
       "<title>112</title>\n",
       "<text text-anchor=\"middle\" x=\"2818\" y=\"-86.3\" font-family=\"Courier,monospace\" font-size=\"14.00\" fill=\"#008040\">Store</text>\n",
       "</g>\n",
       "<!-- 110&#45;&#45;112 -->\n",
       "<g id=\"edge112\" class=\"edge\">\n",
       "<title>110--112</title>\n",
       "<path fill=\"none\" stroke=\"black\" d=\"M2780,-143C2780,-143 2794.66,-122.94 2805.77,-107.74\"/>\n",
       "</g>\n",
       "<!-- 114 -->\n",
       "<g id=\"node115\" class=\"node\">\n",
       "<title>114</title>\n",
       "<text text-anchor=\"start\" x=\"2875\" y=\"-87.3\" font-family=\"Courier,monospace\" font-weight=\"bold\" font-size=\"14.00\" fill=\"#004080\">Name</text>\n",
       "</g>\n",
       "<!-- 113&#45;&#45;114 -->\n",
       "<g id=\"edge114\" class=\"edge\">\n",
       "<title>113--114</title>\n",
       "<path fill=\"none\" stroke=\"black\" d=\"M2934,-143C2934,-143 2917.8,-122.94 2905.52,-107.74\"/>\n",
       "</g>\n",
       "<!-- 117 -->\n",
       "<g id=\"node118\" class=\"node\">\n",
       "<title>117</title>\n",
       "<text text-anchor=\"middle\" x=\"2964\" y=\"-86.3\" font-family=\"Courier,monospace\" font-size=\"14.00\" fill=\"#008040\">Add</text>\n",
       "</g>\n",
       "<!-- 113&#45;&#45;117 -->\n",
       "<g id=\"edge117\" class=\"edge\">\n",
       "<title>113--117</title>\n",
       "<path fill=\"none\" stroke=\"black\" d=\"M2934,-143C2934,-143 2945.57,-122.94 2954.34,-107.74\"/>\n",
       "</g>\n",
       "<!-- 118 -->\n",
       "<g id=\"node119\" class=\"node\">\n",
       "<title>118</title>\n",
       "<text text-anchor=\"start\" x=\"3019\" y=\"-87.3\" font-family=\"Courier,monospace\" font-weight=\"bold\" font-size=\"14.00\" fill=\"#004080\">Name</text>\n",
       "</g>\n",
       "<!-- 113&#45;&#45;118 -->\n",
       "<g id=\"edge118\" class=\"edge\">\n",
       "<title>113--118</title>\n",
       "<path fill=\"none\" stroke=\"black\" d=\"M2934,-143C2934,-143 2978.98,-120.07 3009.2,-104.66\"/>\n",
       "</g>\n",
       "<!-- 115 -->\n",
       "<g id=\"node116\" class=\"node\">\n",
       "<title>115</title>\n",
       "<text text-anchor=\"middle\" x=\"2836\" y=\"-14.3\" font-family=\"Courier,monospace\" font-size=\"14.00\" fill=\"#008040\">&quot;out&quot;</text>\n",
       "</g>\n",
       "<!-- 114&#45;&#45;115 -->\n",
       "<g id=\"edge115\" class=\"edge\">\n",
       "<title>114--115</title>\n",
       "<path fill=\"none\" stroke=\"black\" d=\"M2888,-71C2888,-71 2867.94,-50.94 2852.74,-35.74\"/>\n",
       "</g>\n",
       "<!-- 116 -->\n",
       "<g id=\"node117\" class=\"node\">\n",
       "<title>116</title>\n",
       "<text text-anchor=\"middle\" x=\"2910\" y=\"-14.3\" font-family=\"Courier,monospace\" font-size=\"14.00\" fill=\"#008040\">Load</text>\n",
       "</g>\n",
       "<!-- 114&#45;&#45;116 -->\n",
       "<g id=\"edge116\" class=\"edge\">\n",
       "<title>114--116</title>\n",
       "<path fill=\"none\" stroke=\"black\" d=\"M2888,-71C2888,-71 2896.49,-50.94 2902.92,-35.74\"/>\n",
       "</g>\n",
       "<!-- 119 -->\n",
       "<g id=\"node120\" class=\"node\">\n",
       "<title>119</title>\n",
       "<text text-anchor=\"middle\" x=\"3018\" y=\"-14.3\" font-family=\"Courier,monospace\" font-size=\"14.00\" fill=\"#008040\">&quot;c&quot;</text>\n",
       "</g>\n",
       "<!-- 118&#45;&#45;119 -->\n",
       "<g id=\"edge119\" class=\"edge\">\n",
       "<title>118--119</title>\n",
       "<path fill=\"none\" stroke=\"black\" d=\"M3040,-71C3040,-71 3031.51,-50.94 3025.08,-35.74\"/>\n",
       "</g>\n",
       "<!-- 120 -->\n",
       "<g id=\"node121\" class=\"node\">\n",
       "<title>120</title>\n",
       "<text text-anchor=\"middle\" x=\"3090\" y=\"-14.3\" font-family=\"Courier,monospace\" font-size=\"14.00\" fill=\"#008040\">Load</text>\n",
       "</g>\n",
       "<!-- 118&#45;&#45;120 -->\n",
       "<g id=\"edge120\" class=\"edge\">\n",
       "<title>118--120</title>\n",
       "<path fill=\"none\" stroke=\"black\" d=\"M3040,-71C3040,-71 3059.29,-50.94 3073.9,-35.74\"/>\n",
       "</g>\n",
       "<!-- 122 -->\n",
       "<g id=\"node123\" class=\"node\">\n",
       "<title>122</title>\n",
       "<text text-anchor=\"start\" x=\"1521\" y=\"-519.3\" font-family=\"Courier,monospace\" font-weight=\"bold\" font-size=\"14.00\" fill=\"#004080\">Name</text>\n",
       "</g>\n",
       "<!-- 121&#45;&#45;122 -->\n",
       "<g id=\"edge122\" class=\"edge\">\n",
       "<title>121--122</title>\n",
       "<path fill=\"none\" stroke=\"black\" d=\"M1301.98,-584.42C1355.86,-570.4 1461.68,-542.86 1511.22,-529.97\"/>\n",
       "</g>\n",
       "<!-- 123 -->\n",
       "<g id=\"node124\" class=\"node\">\n",
       "<title>123</title>\n",
       "<text text-anchor=\"middle\" x=\"1538\" y=\"-446.3\" font-family=\"Courier,monospace\" font-size=\"14.00\" fill=\"#008040\">&quot;out&quot;</text>\n",
       "</g>\n",
       "<!-- 122&#45;&#45;123 -->\n",
       "<g id=\"edge123\" class=\"edge\">\n",
       "<title>122--123</title>\n",
       "<path fill=\"none\" stroke=\"black\" d=\"M1546,-503C1546,-503 1542.91,-482.94 1540.58,-467.74\"/>\n",
       "</g>\n",
       "<!-- 124 -->\n",
       "<g id=\"node125\" class=\"node\">\n",
       "<title>124</title>\n",
       "<text text-anchor=\"middle\" x=\"1612\" y=\"-446.3\" font-family=\"Courier,monospace\" font-size=\"14.00\" fill=\"#008040\">Load</text>\n",
       "</g>\n",
       "<!-- 122&#45;&#45;124 -->\n",
       "<g id=\"edge124\" class=\"edge\">\n",
       "<title>122--124</title>\n",
       "<path fill=\"none\" stroke=\"black\" d=\"M1546,-503C1546,-503 1571.46,-482.94 1590.75,-467.74\"/>\n",
       "</g>\n",
       "</g>\n",
       "</svg>"
      ],
      "text/plain": [
       "<IPython.core.display.SVG object>"
      ]
     },
     "metadata": {},
     "output_type": "display_data"
    }
   ],
   "source": [
    "reduced_fun_tree = copy_and_reduce(fun_tree, reduced_nodes)\n",
    "show_ast(reduced_fun_tree)"
   ]
  },
  {
   "cell_type": "markdown",
   "metadata": {
    "slideshow": {
     "slide_type": "fragment"
    }
   },
   "source": [
    "And this is its textual representation:"
   ]
  },
  {
   "cell_type": "code",
   "execution_count": 176,
   "metadata": {
    "execution": {
     "iopub.execute_input": "2023-02-11T10:04:21.752030Z",
     "iopub.status.busy": "2023-02-11T10:04:21.751360Z",
     "iopub.status.idle": "2023-02-11T10:04:21.762846Z",
     "shell.execute_reply": "2023-02-11T10:04:21.763321Z"
    },
    "slideshow": {
     "slide_type": "subslide"
    }
   },
   "outputs": [
    {
     "name": "stdout",
     "output_type": "stream",
     "text": [
      "\u001b[34mdef\u001b[39;49;00m \u001b[32mremove_html_markup\u001b[39;49;00m(s):\u001b[37m\u001b[39;49;00m\n",
      "    tag = \u001b[34mFalse\u001b[39;49;00m\u001b[37m\u001b[39;49;00m\n",
      "    quote = \u001b[34mFalse\u001b[39;49;00m\u001b[37m\u001b[39;49;00m\n",
      "    out = \u001b[33m'\u001b[39;49;00m\u001b[33m'\u001b[39;49;00m\u001b[37m\u001b[39;49;00m\n",
      "    \u001b[34mfor\u001b[39;49;00m c \u001b[35min\u001b[39;49;00m s:\u001b[37m\u001b[39;49;00m\n",
      "        \u001b[34mif\u001b[39;49;00m c == \u001b[33m'\u001b[39;49;00m\u001b[33m<\u001b[39;49;00m\u001b[33m'\u001b[39;49;00m \u001b[35mand\u001b[39;49;00m (\u001b[35mnot\u001b[39;49;00m quote):\u001b[37m\u001b[39;49;00m\n",
      "            tag = \u001b[34mTrue\u001b[39;49;00m\u001b[37m\u001b[39;49;00m\n",
      "        \u001b[34melif\u001b[39;49;00m c == \u001b[33m'\u001b[39;49;00m\u001b[33m>\u001b[39;49;00m\u001b[33m'\u001b[39;49;00m \u001b[35mand\u001b[39;49;00m (\u001b[35mnot\u001b[39;49;00m quote):\u001b[37m\u001b[39;49;00m\n",
      "            tag = \u001b[34mFalse\u001b[39;49;00m\u001b[37m\u001b[39;49;00m\n",
      "        \u001b[34melif\u001b[39;49;00m c == \u001b[33m'\u001b[39;49;00m\u001b[33m\"\u001b[39;49;00m\u001b[33m'\u001b[39;49;00m \u001b[35mor\u001b[39;49;00m (c == \u001b[33m\"\u001b[39;49;00m\u001b[33m'\u001b[39;49;00m\u001b[33m\"\u001b[39;49;00m \u001b[35mand\u001b[39;49;00m tag):\u001b[37m\u001b[39;49;00m\n",
      "            quote = \u001b[35mnot\u001b[39;49;00m quote\u001b[37m\u001b[39;49;00m\n",
      "        \u001b[34melif\u001b[39;49;00m \u001b[35mnot\u001b[39;49;00m tag:\u001b[37m\u001b[39;49;00m\n",
      "            out = out + c\u001b[37m\u001b[39;49;00m\n",
      "    \u001b[34mreturn\u001b[39;49;00m out\u001b[37m\u001b[39;49;00m"
     ]
    }
   ],
   "source": [
    "print_content(ast.unparse(reduced_fun_tree), '.py')"
   ]
  },
  {
   "cell_type": "code",
   "execution_count": 177,
   "metadata": {
    "execution": {
     "iopub.execute_input": "2023-02-11T10:04:21.767251Z",
     "iopub.status.busy": "2023-02-11T10:04:21.766712Z",
     "iopub.status.idle": "2023-02-11T10:04:21.769329Z",
     "shell.execute_reply": "2023-02-11T10:04:21.769732Z"
    },
    "slideshow": {
     "slide_type": "subslide"
    }
   },
   "outputs": [
    {
     "data": {
      "text/plain": [
       "310"
      ]
     },
     "execution_count": 177,
     "metadata": {},
     "output_type": "execute_result"
    }
   ],
   "source": [
    "dd.tests"
   ]
  },
  {
   "cell_type": "markdown",
   "metadata": {
    "slideshow": {
     "slide_type": "fragment"
    }
   },
   "source": [
    "We see that some code was deleted – notably the assertion at the end – but otherwise, our deletion strategy was not particularly effective. This is because in Python, one cannot simply delete the single statement in a controlled body – this raises a syntax error. One would have to replace it with `pass` (or some other statement with no effect) to stay syntactically valid. Still, the syntax-based reduction would still single out `remove_html_markup()` from the `Assertions` source code – and do so even faster, as it would apply on one definition (rather than one line) after another."
   ]
  },
  {
   "cell_type": "markdown",
   "metadata": {
    "slideshow": {
     "slide_type": "subslide"
    }
   },
   "source": [
    "#### Transforming Nodes\n",
    "\n",
    "To further boost our syntactic reduction strategy, we implement a set of additional reduction operators. First, as already discussed, we do not simply delete an assignment, but we replace it with a `pass` statement. To obtain the tree for `pass`, we simply parse it and access the subtree."
   ]
  },
  {
   "cell_type": "code",
   "execution_count": 178,
   "metadata": {
    "execution": {
     "iopub.execute_input": "2023-02-11T10:04:21.772974Z",
     "iopub.status.busy": "2023-02-11T10:04:21.772517Z",
     "iopub.status.idle": "2023-02-11T10:04:21.774460Z",
     "shell.execute_reply": "2023-02-11T10:04:21.774977Z"
    },
    "slideshow": {
     "slide_type": "fragment"
    }
   },
   "outputs": [],
   "source": [
    "class NodeReducer(NodeReducer):\n",
    "    PASS_TREE = ast.parse(\"pass\").body[0]\n",
    "\n",
    "    def visit_Assign(self, node: ast.Assign) -> AST:\n",
    "        if node.marked:  # type: ignore\n",
    "            # Replace by pass\n",
    "            return self.PASS_TREE\n",
    "        return super().generic_visit(node)"
   ]
  },
  {
   "cell_type": "markdown",
   "metadata": {
    "slideshow": {
     "slide_type": "subslide"
    }
   },
   "source": [
    "In a similar vein, we can replace comparison operators with `False`:"
   ]
  },
  {
   "cell_type": "code",
   "execution_count": 179,
   "metadata": {
    "execution": {
     "iopub.execute_input": "2023-02-11T10:04:21.778389Z",
     "iopub.status.busy": "2023-02-11T10:04:21.777948Z",
     "iopub.status.idle": "2023-02-11T10:04:21.779733Z",
     "shell.execute_reply": "2023-02-11T10:04:21.780230Z"
    },
    "slideshow": {
     "slide_type": "fragment"
    }
   },
   "outputs": [],
   "source": [
    "class NodeReducer(NodeReducer):\n",
    "    FALSE_TREE = ast.parse(\"False\").body[0].value  # type: ignore\n",
    "\n",
    "    def visit_Compare(self, node: ast.Compare) -> AST:\n",
    "        if node.marked:  # type: ignore\n",
    "            # Replace by False\n",
    "            return self.FALSE_TREE\n",
    "        return super().generic_visit(node)"
   ]
  },
  {
   "cell_type": "markdown",
   "metadata": {
    "slideshow": {
     "slide_type": "fragment"
    }
   },
   "source": [
    "If we have a Boolean operator, we attempt to replace it with its left operand:"
   ]
  },
  {
   "cell_type": "code",
   "execution_count": 180,
   "metadata": {
    "execution": {
     "iopub.execute_input": "2023-02-11T10:04:21.783706Z",
     "iopub.status.busy": "2023-02-11T10:04:21.783138Z",
     "iopub.status.idle": "2023-02-11T10:04:21.784654Z",
     "shell.execute_reply": "2023-02-11T10:04:21.784961Z"
    },
    "slideshow": {
     "slide_type": "subslide"
    }
   },
   "outputs": [],
   "source": [
    "class NodeReducer(NodeReducer):\n",
    "    def visit_BoolOp(self, node: ast.BoolOp) -> AST:\n",
    "        if node.marked:  # type: ignore\n",
    "            # Replace by left operator\n",
    "            return node.values[0]\n",
    "        return super().generic_visit(node)"
   ]
  },
  {
   "cell_type": "markdown",
   "metadata": {
    "slideshow": {
     "slide_type": "fragment"
    }
   },
   "source": [
    "And if we find an `If` clause, we attempt to replace it by its body:"
   ]
  },
  {
   "cell_type": "code",
   "execution_count": 181,
   "metadata": {
    "execution": {
     "iopub.execute_input": "2023-02-11T10:04:21.787675Z",
     "iopub.status.busy": "2023-02-11T10:04:21.787370Z",
     "iopub.status.idle": "2023-02-11T10:04:21.788545Z",
     "shell.execute_reply": "2023-02-11T10:04:21.788868Z"
    },
    "slideshow": {
     "slide_type": "fragment"
    }
   },
   "outputs": [],
   "source": [
    "class NodeReducer(NodeReducer):\n",
    "    def visit_If(self, node: ast.If) -> Union[AST, List[ast.stmt]]:\n",
    "        if node.marked:  # type: ignore\n",
    "            # Replace by body\n",
    "            return node.body\n",
    "        return super().generic_visit(node)"
   ]
  },
  {
   "cell_type": "markdown",
   "metadata": {
    "slideshow": {
     "slide_type": "fragment"
    }
   },
   "source": [
    "Let us try to reduce our code with these additional reducers enabled:"
   ]
  },
  {
   "cell_type": "code",
   "execution_count": 182,
   "metadata": {
    "execution": {
     "iopub.execute_input": "2023-02-11T10:04:21.792148Z",
     "iopub.status.busy": "2023-02-11T10:04:21.791703Z",
     "iopub.status.idle": "2023-02-11T10:04:21.793011Z",
     "shell.execute_reply": "2023-02-11T10:04:21.793271Z"
    },
    "slideshow": {
     "slide_type": "subslide"
    }
   },
   "outputs": [],
   "source": [
    "with DeltaDebugger() as dd:\n",
    "    compile_and_test_ast(fun_tree, fun_nodes, test_tree)"
   ]
  },
  {
   "cell_type": "markdown",
   "metadata": {
    "slideshow": {
     "slide_type": "fragment"
    }
   },
   "source": [
    "This is the reduced code we get. We see that all references to `quote` have gone, as has the handling of single quotes – none of this is relevant for the failure:"
   ]
  },
  {
   "cell_type": "code",
   "execution_count": 183,
   "metadata": {
    "execution": {
     "iopub.execute_input": "2023-02-11T10:04:21.885979Z",
     "iopub.status.busy": "2023-02-11T10:04:21.842857Z",
     "iopub.status.idle": "2023-02-11T10:04:21.994530Z",
     "shell.execute_reply": "2023-02-11T10:04:21.994865Z"
    },
    "slideshow": {
     "slide_type": "subslide"
    }
   },
   "outputs": [
    {
     "name": "stdout",
     "output_type": "stream",
     "text": [
      "\u001b[34mdef\u001b[39;49;00m \u001b[32mremove_html_markup\u001b[39;49;00m(s):\u001b[37m\u001b[39;49;00m\n",
      "    tag = \u001b[34mFalse\u001b[39;49;00m\u001b[37m\u001b[39;49;00m\n",
      "    \u001b[34mpass\u001b[39;49;00m\u001b[37m\u001b[39;49;00m\n",
      "    out = \u001b[33m'\u001b[39;49;00m\u001b[33m'\u001b[39;49;00m\u001b[37m\u001b[39;49;00m\n",
      "    \u001b[34mfor\u001b[39;49;00m c \u001b[35min\u001b[39;49;00m s:\u001b[37m\u001b[39;49;00m\n",
      "        \u001b[34mif\u001b[39;49;00m c == \u001b[33m'\u001b[39;49;00m\u001b[33m<\u001b[39;49;00m\u001b[33m'\u001b[39;49;00m:\u001b[37m\u001b[39;49;00m\n",
      "            tag = \u001b[34mTrue\u001b[39;49;00m\u001b[37m\u001b[39;49;00m\n",
      "        \u001b[34melif\u001b[39;49;00m c == \u001b[33m'\u001b[39;49;00m\u001b[33m>\u001b[39;49;00m\u001b[33m'\u001b[39;49;00m:\u001b[37m\u001b[39;49;00m\n",
      "            tag = \u001b[34mFalse\u001b[39;49;00m\u001b[37m\u001b[39;49;00m\n",
      "        \u001b[34melif\u001b[39;49;00m c == \u001b[33m'\u001b[39;49;00m\u001b[33m\"\u001b[39;49;00m\u001b[33m'\u001b[39;49;00m:\u001b[37m\u001b[39;49;00m\n",
      "            \u001b[34mpass\u001b[39;49;00m\u001b[37m\u001b[39;49;00m\n",
      "        \u001b[34melif\u001b[39;49;00m \u001b[35mnot\u001b[39;49;00m tag:\u001b[37m\u001b[39;49;00m\n",
      "            out = out + c\u001b[37m\u001b[39;49;00m\n",
      "    \u001b[34mreturn\u001b[39;49;00m out\u001b[37m\u001b[39;49;00m"
     ]
    }
   ],
   "source": [
    "reduced_nodes = dd.min_args()['keep_list']\n",
    "reduced_fun_tree = copy_and_reduce(fun_tree, reduced_nodes)\n",
    "print_content(ast.unparse(reduced_fun_tree), '.py')"
   ]
  },
  {
   "cell_type": "markdown",
   "metadata": {
    "slideshow": {
     "slide_type": "subslide"
    }
   },
   "source": [
    "Again, the best insights come from comparing this reduced version to the original implementation – and we learn that the problem is not related to the `quote` variable, or to the handling of single quotes; the problem is simply that when the input contains double quotes, these are not added to the final string."
   ]
  },
  {
   "cell_type": "markdown",
   "metadata": {
    "slideshow": {
     "slide_type": "fragment"
    }
   },
   "source": [
    "With our reduction code, however, we only touch the surface of what could actually be possible. So far, we implement exactly one reduction per node – but of course, there are many alternatives an expression or statement could be reduced to. We will explore some of these in the [exercises](#Exercises), below; also be sure to check out the [background](#Background) on code reduction."
   ]
  },
  {
   "cell_type": "markdown",
   "metadata": {
    "slideshow": {
     "slide_type": "slide"
    }
   },
   "source": [
    "## Synopsis\n",
    "\n",
    "A _reducer_ takes a failure-inducing input and reduces it to the minimum that still reproduces the failure.  This chapter provides a `DeltaDebugger` class that implements such a reducer."
   ]
  },
  {
   "cell_type": "markdown",
   "metadata": {
    "slideshow": {
     "slide_type": "fragment"
    }
   },
   "source": [
    "Here is a simple example: An arithmetic expression causes an error in the Python interpreter:"
   ]
  },
  {
   "cell_type": "code",
   "execution_count": 184,
   "metadata": {
    "execution": {
     "iopub.execute_input": "2023-02-11T10:04:21.996873Z",
     "iopub.status.busy": "2023-02-11T10:04:21.996162Z",
     "iopub.status.idle": "2023-02-11T10:04:21.997933Z",
     "shell.execute_reply": "2023-02-11T10:04:21.998233Z"
    },
    "slideshow": {
     "slide_type": "fragment"
    }
   },
   "outputs": [],
   "source": [
    "def myeval(inp: str) -> Any:\n",
    "    return eval(inp)"
   ]
  },
  {
   "cell_type": "code",
   "execution_count": 185,
   "metadata": {
    "execution": {
     "iopub.execute_input": "2023-02-11T10:04:22.000066Z",
     "iopub.status.busy": "2023-02-11T10:04:21.999725Z",
     "iopub.status.idle": "2023-02-11T10:04:22.001346Z",
     "shell.execute_reply": "2023-02-11T10:04:22.001599Z"
    },
    "slideshow": {
     "slide_type": "subslide"
    }
   },
   "outputs": [
    {
     "name": "stderr",
     "output_type": "stream",
     "text": [
      "Traceback (most recent call last):\n",
      "  File \"/var/folders/n2/xd9445p97rb3xh7m1dfx8_4h0006ts/T/ipykernel_1782/4002351332.py\", line 2, in <cell line: 1>\n",
      "    myeval('1 + 2 * 3 / 0')\n",
      "  File \"/var/folders/n2/xd9445p97rb3xh7m1dfx8_4h0006ts/T/ipykernel_1782/2200911420.py\", line 2, in myeval\n",
      "    return eval(inp)\n",
      "  File \"<string>\", line 1, in <module>\n",
      "ZeroDivisionError: division by zero (expected)\n"
     ]
    }
   ],
   "source": [
    "with ExpectError(ZeroDivisionError):\n",
    "    myeval('1 + 2 * 3 / 0')"
   ]
  },
  {
   "cell_type": "markdown",
   "metadata": {
    "slideshow": {
     "slide_type": "subslide"
    }
   },
   "source": [
    "Can we reduce this input to a minimum? _Delta Debugging_ is a simple and robust reduction algorithm. We provide a `DeltaDebugger` class that is used in conjunction with a (failing) function call:\n",
    "\n",
    "```python\n",
    "with DeltaDebugger() as dd:\n",
    "    fun(args...)\n",
    "dd\n",
    "```\n",
    "\n",
    "The class automatically determines minimal arguments that cause the function to fail with the same exception as the original. Printing out the class object reveals the minimized call."
   ]
  },
  {
   "cell_type": "code",
   "execution_count": 186,
   "metadata": {
    "execution": {
     "iopub.execute_input": "2023-02-11T10:04:22.004289Z",
     "iopub.status.busy": "2023-02-11T10:04:22.003836Z",
     "iopub.status.idle": "2023-02-11T10:04:22.005405Z",
     "shell.execute_reply": "2023-02-11T10:04:22.006611Z"
    },
    "slideshow": {
     "slide_type": "subslide"
    }
   },
   "outputs": [
    {
     "data": {
      "text/plain": [
       "myeval(inp='3/0')"
      ]
     },
     "execution_count": 186,
     "metadata": {},
     "output_type": "execute_result"
    }
   ],
   "source": [
    "with DeltaDebugger() as dd:\n",
    "    myeval('1 + 2 * 3 / 0')\n",
    "dd"
   ]
  },
  {
   "cell_type": "markdown",
   "metadata": {
    "slideshow": {
     "slide_type": "fragment"
    }
   },
   "source": [
    "The input is reduced to the minimum: We get the essence of the division by zero."
   ]
  },
  {
   "cell_type": "markdown",
   "metadata": {
    "slideshow": {
     "slide_type": "fragment"
    }
   },
   "source": [
    "There also is an interface to access the reduced input(s) programmatically. The method `min_args()` returns a dictionary in which all function arguments are minimized:"
   ]
  },
  {
   "cell_type": "code",
   "execution_count": 187,
   "metadata": {
    "execution": {
     "iopub.execute_input": "2023-02-11T10:04:22.010317Z",
     "iopub.status.busy": "2023-02-11T10:04:22.009967Z",
     "iopub.status.idle": "2023-02-11T10:04:22.011588Z",
     "shell.execute_reply": "2023-02-11T10:04:22.011981Z"
    },
    "slideshow": {
     "slide_type": "fragment"
    }
   },
   "outputs": [
    {
     "data": {
      "text/plain": [
       "{'inp': '3/0'}"
      ]
     },
     "execution_count": 187,
     "metadata": {},
     "output_type": "execute_result"
    }
   ],
   "source": [
    "dd.min_args()"
   ]
  },
  {
   "cell_type": "markdown",
   "metadata": {
    "slideshow": {
     "slide_type": "fragment"
    }
   },
   "source": [
    "In contrast, `max_args()` returns a dictionary in which all function arguments are maximized, but still pass:"
   ]
  },
  {
   "cell_type": "code",
   "execution_count": 188,
   "metadata": {
    "execution": {
     "iopub.execute_input": "2023-02-11T10:04:22.014189Z",
     "iopub.status.busy": "2023-02-11T10:04:22.013833Z",
     "iopub.status.idle": "2023-02-11T10:04:22.015526Z",
     "shell.execute_reply": "2023-02-11T10:04:22.015738Z"
    },
    "slideshow": {
     "slide_type": "fragment"
    }
   },
   "outputs": [
    {
     "data": {
      "text/plain": [
       "{'inp': '1 + 2 * 3  '}"
      ]
     },
     "execution_count": 188,
     "metadata": {},
     "output_type": "execute_result"
    }
   ],
   "source": [
    "dd.max_args()"
   ]
  },
  {
   "cell_type": "markdown",
   "metadata": {
    "slideshow": {
     "slide_type": "subslide"
    }
   },
   "source": [
    "The method `min_arg_diff()` returns a triple of \n",
    "* passing input,\n",
    "* failing input, and\n",
    "* their minimal failure-inducing difference:"
   ]
  },
  {
   "cell_type": "code",
   "execution_count": 189,
   "metadata": {
    "execution": {
     "iopub.execute_input": "2023-02-11T10:04:22.021168Z",
     "iopub.status.busy": "2023-02-11T10:04:22.019432Z",
     "iopub.status.idle": "2023-02-11T10:04:22.023946Z",
     "shell.execute_reply": "2023-02-11T10:04:22.024269Z"
    },
    "slideshow": {
     "slide_type": "fragment"
    }
   },
   "outputs": [
    {
     "data": {
      "text/plain": [
       "({'inp': ' 3 '}, {'inp': ' 3 /0'}, {'inp': '/0'})"
      ]
     },
     "execution_count": 189,
     "metadata": {},
     "output_type": "execute_result"
    }
   ],
   "source": [
    "dd.min_arg_diff()"
   ]
  },
  {
   "cell_type": "markdown",
   "metadata": {
    "slideshow": {
     "slide_type": "fragment"
    }
   },
   "source": [
    "And you can also access the function itself, as well as its original arguments."
   ]
  },
  {
   "cell_type": "code",
   "execution_count": 190,
   "metadata": {
    "execution": {
     "iopub.execute_input": "2023-02-11T10:04:22.028361Z",
     "iopub.status.busy": "2023-02-11T10:04:22.027191Z",
     "iopub.status.idle": "2023-02-11T10:04:22.031066Z",
     "shell.execute_reply": "2023-02-11T10:04:22.031341Z"
    },
    "slideshow": {
     "slide_type": "fragment"
    }
   },
   "outputs": [
    {
     "data": {
      "text/plain": [
       "('myeval', {'inp': '1 + 2 * 3 / 0'})"
      ]
     },
     "execution_count": 190,
     "metadata": {},
     "output_type": "execute_result"
    }
   ],
   "source": [
    "dd.function().__name__, dd.args()"
   ]
  },
  {
   "cell_type": "markdown",
   "metadata": {
    "slideshow": {
     "slide_type": "fragment"
    }
   },
   "source": [
    "`DeltaDebugger` processes (i.e., minimizes or maximizes) all arguments that support a `len()` operation and that can be indexed – notably _strings_ and _lists_. If a function has multiple arguments, all arguments that can be processed will be processed."
   ]
  },
  {
   "cell_type": "markdown",
   "metadata": {
    "slideshow": {
     "slide_type": "subslide"
    }
   },
   "source": [
    "This chapter also provides a number of superclasses to `DeltaDebugger`, notably `CallCollector`, which obtains the first function call for `DeltaDebugger`. `CallReducer` classes allow for implementing alternate call reduction strategies."
   ]
  },
  {
   "cell_type": "code",
   "execution_count": 191,
   "metadata": {
    "execution": {
     "iopub.execute_input": "2023-02-11T10:04:22.034239Z",
     "iopub.status.busy": "2023-02-11T10:04:22.033044Z",
     "iopub.status.idle": "2023-02-11T10:04:22.036793Z",
     "shell.execute_reply": "2023-02-11T10:04:22.036275Z"
    },
    "slideshow": {
     "slide_type": "fragment"
    }
   },
   "outputs": [],
   "source": [
    "# ignore\n",
    "from ClassDiagram import display_class_hierarchy"
   ]
  },
  {
   "cell_type": "code",
   "execution_count": 192,
   "metadata": {
    "execution": {
     "iopub.execute_input": "2023-02-11T10:04:22.049520Z",
     "iopub.status.busy": "2023-02-11T10:04:22.048765Z",
     "iopub.status.idle": "2023-02-11T10:04:22.470243Z",
     "shell.execute_reply": "2023-02-11T10:04:22.470587Z"
    },
    "slideshow": {
     "slide_type": "subslide"
    }
   },
   "outputs": [
    {
     "data": {
      "image/svg+xml": [
       "<?xml version=\"1.0\" encoding=\"UTF-8\" standalone=\"no\"?>\n",
       "<!DOCTYPE svg PUBLIC \"-//W3C//DTD SVG 1.1//EN\"\n",
       " \"http://www.w3.org/Graphics/SVG/1.1/DTD/svg11.dtd\">\n",
       "<!-- Generated by graphviz version 7.0.2 (20221119.0110)\n",
       " -->\n",
       "<!-- Pages: 1 -->\n",
       "<svg width=\"308pt\" height=\"727pt\"\n",
       " viewBox=\"0.00 0.00 307.50 727.00\" xmlns=\"http://www.w3.org/2000/svg\" xmlns:xlink=\"http://www.w3.org/1999/xlink\">\n",
       "<g id=\"graph0\" class=\"graph\" transform=\"scale(1 1) rotate(0) translate(4 723)\">\n",
       "<g id=\"a_graph0\"><a xlink:title=\"DeltaDebugger class hierarchy\">\n",
       "<polygon fill=\"white\" stroke=\"none\" points=\"-4,4 -4,-723 303.5,-723 303.5,4 -4,4\"/>\n",
       "</a>\n",
       "</g>\n",
       "<!-- DeltaDebugger -->\n",
       "<g id=\"node1\" class=\"node\">\n",
       "<title>DeltaDebugger</title>\n",
       "<g id=\"a_node1\"><a xlink:href=\"#\" xlink:title=\"class DeltaDebugger:&#10;Like CallReducer, but cache test outcomes.\">\n",
       "<polygon fill=\"none\" stroke=\"black\" points=\"6,-0.5 6,-119.5 161,-119.5 161,-0.5 6,-0.5\"/>\n",
       "<text text-anchor=\"start\" x=\"35\" y=\"-105.3\" font-family=\"Raleway, Helvetica, Arial, sans-serif\" font-weight=\"bold\" font-size=\"14.00\" fill=\"#6a0dad\">DeltaDebugger</text>\n",
       "<polyline fill=\"none\" stroke=\"black\" points=\"6,-96.5 161,-96.5\"/>\n",
       "<g id=\"a_node1_0\"><a xlink:href=\"#\" xlink:title=\"DeltaDebugger\">\n",
       "<g id=\"a_node1_1\"><a xlink:href=\"#\" xlink:title=\"__repr__(self) &#45;&gt; str:&#10;Return a string representation of the minimized call.\">\n",
       "<text text-anchor=\"start\" x=\"14.5\" y=\"-85.5\" font-family=\"'Fira Mono', 'Source Code Pro', 'Courier', monospace\" font-weight=\"bold\" font-size=\"10.00\">__repr__()</text>\n",
       "</a>\n",
       "</g>\n",
       "<g id=\"a_node1_2\"><a xlink:href=\"#\" xlink:title=\"dd(self, var_to_be_reduced: str, fail_args: Dict[str, Any], *, mode: str = &#39;&#45;&#39;) &#45;&gt; Tuple[Sequence, Sequence, Sequence]:&#10;General Delta Debugging.&#10;`var_to_be_reduced` &#45; the name of the variable to reduce.&#10;`fail_args` &#45; a dict of (failure&#45;inducing) function arguments,&#10;with `fail_args[var_to_be_reduced]` &#45; the input to apply dd on.&#10;`mode`&#45; how the algorithm should operate:&#10;&#39;&#45;&#39; (default): minimize input (`ddmin`),&#10;&#39;+&#39;: maximizing input (`ddmax`),&#10;&#39;+&#45;&#39;: minimizing pass/fail difference (`dd`)&#10;Returns a triple (`pass`, `fail`, `diff`) with&#10;* maximized passing input (`pass`),&#10;* minimized failing input (`fail`), and&#10;* their difference `diff`&#10;(elems that are in `fail`, but not in `pass`).\">\n",
       "<text text-anchor=\"start\" x=\"14.5\" y=\"-74.5\" font-family=\"'Fira Mono', 'Source Code Pro', 'Courier', monospace\" font-weight=\"bold\" font-size=\"10.00\">dd()</text>\n",
       "</a>\n",
       "</g>\n",
       "<g id=\"a_node1_3\"><a xlink:href=\"#\" xlink:title=\"max_args(self) &#45;&gt; Dict[str, Any]:&#10;Return 1&#45;maximal arguments.\">\n",
       "<text text-anchor=\"start\" x=\"14.5\" y=\"-63.5\" font-family=\"'Fira Mono', 'Source Code Pro', 'Courier', monospace\" font-weight=\"bold\" font-size=\"10.00\">max_args()</text>\n",
       "</a>\n",
       "</g>\n",
       "<g id=\"a_node1_4\"><a xlink:href=\"#\" xlink:title=\"min_arg_diff(self) &#45;&gt; Tuple[Dict[str, Any], Dict[str, Any], Dict[str, Any]]:&#10;Return 1&#45;minimal difference between arguments.\">\n",
       "<text text-anchor=\"start\" x=\"14.5\" y=\"-52.5\" font-family=\"'Fira Mono', 'Source Code Pro', 'Courier', monospace\" font-weight=\"bold\" font-size=\"10.00\">min_arg_diff()</text>\n",
       "</a>\n",
       "</g>\n",
       "<g id=\"a_node1_5\"><a xlink:href=\"#\" xlink:title=\"min_args(self) &#45;&gt; Dict[str, Any]:&#10;Return 1&#45;minimal arguments.\">\n",
       "<text text-anchor=\"start\" x=\"14.5\" y=\"-41.5\" font-family=\"'Fira Mono', 'Source Code Pro', 'Courier', monospace\" font-weight=\"bold\" font-size=\"10.00\">min_args()</text>\n",
       "</a>\n",
       "</g>\n",
       "<g id=\"a_node1_6\"><a xlink:href=\"#\" xlink:title=\"after_collection(self) &#45;&gt; None:&#10;Called after collection. To be defined in subclasses.\">\n",
       "<text text-anchor=\"start\" x=\"14.5\" y=\"-30.5\" font-family=\"'Fira Mono', 'Source Code Pro', 'Courier', monospace\" font-style=\"italic\" font-size=\"10.00\">after_collection()</text>\n",
       "</a>\n",
       "</g>\n",
       "<g id=\"a_node1_7\"><a xlink:href=\"#\" xlink:title=\"check_reproducibility(self) &#45;&gt; None\">\n",
       "<text text-anchor=\"start\" x=\"14.5\" y=\"-18.5\" font-family=\"'Fira Mono', 'Source Code Pro', 'Courier', monospace\" font-size=\"10.00\">check_reproducibility()</text>\n",
       "</a>\n",
       "</g>\n",
       "<g id=\"a_node1_8\"><a xlink:href=\"#\" xlink:title=\"process_args(self, strategy: Callable, **strategy_args: Any) &#45;&gt; Tuple[Dict[str, Any], Dict[str, Any], Dict[str, Any]]:&#10;Reduce all reducible arguments, using `strategy`(var, `strategy_args`).&#10;Can be overloaded in subclasses.\">\n",
       "<text text-anchor=\"start\" x=\"14.5\" y=\"-8.5\" font-family=\"'Fira Mono', 'Source Code Pro', 'Courier', monospace\" font-style=\"italic\" font-size=\"10.00\">process_args()</text>\n",
       "</a>\n",
       "</g>\n",
       "</a>\n",
       "</g>\n",
       "</a>\n",
       "</g>\n",
       "</g>\n",
       "<!-- CachingCallReducer -->\n",
       "<g id=\"node2\" class=\"node\">\n",
       "<title>CachingCallReducer</title>\n",
       "<g id=\"a_node2\"><a xlink:href=\"#\" xlink:title=\"class CachingCallReducer:&#10;Like CallReducer, but cache test outcomes.\">\n",
       "<polygon fill=\"none\" stroke=\"black\" points=\"10.5,-156.5 10.5,-209.5 156.5,-209.5 156.5,-156.5 10.5,-156.5\"/>\n",
       "<text text-anchor=\"start\" x=\"18.5\" y=\"-195.3\" font-family=\"Raleway, Helvetica, Arial, sans-serif\" font-weight=\"bold\" font-size=\"14.00\" fill=\"#6a0dad\">CachingCallReducer</text>\n",
       "<polyline fill=\"none\" stroke=\"black\" points=\"10.5,-186.5 156.5,-186.5\"/>\n",
       "<g id=\"a_node2_9\"><a xlink:href=\"#\" xlink:title=\"CachingCallReducer\">\n",
       "<g id=\"a_node2_10\"><a xlink:href=\"#\" xlink:title=\"init(self) &#45;&gt; None:&#10;Reset for new collection.\">\n",
       "<text text-anchor=\"start\" x=\"65.5\" y=\"-175.5\" font-family=\"'Fira Mono', 'Source Code Pro', 'Courier', monospace\" font-style=\"italic\" font-size=\"10.00\">init()</text>\n",
       "</a>\n",
       "</g>\n",
       "<g id=\"a_node2_11\"><a xlink:href=\"#\" xlink:title=\"test(self, args: Dict[str, Any]) &#45;&gt; str:&#10;Like run(), but also log detail and keep statistics.\">\n",
       "<text text-anchor=\"start\" x=\"65.5\" y=\"-164.5\" font-family=\"'Fira Mono', 'Source Code Pro', 'Courier', monospace\" font-style=\"italic\" font-size=\"10.00\">test()</text>\n",
       "</a>\n",
       "</g>\n",
       "</a>\n",
       "</g>\n",
       "</a>\n",
       "</g>\n",
       "</g>\n",
       "<!-- DeltaDebugger&#45;&gt;CachingCallReducer -->\n",
       "<g id=\"edge1\" class=\"edge\">\n",
       "<title>DeltaDebugger&#45;&gt;CachingCallReducer</title>\n",
       "<path fill=\"none\" stroke=\"black\" d=\"M83.5,-119.37C83.5,-128.23 83.5,-137.14 83.5,-145.35\"/>\n",
       "<polygon fill=\"none\" stroke=\"black\" points=\"80,-145.28 83.5,-155.28 87,-145.28 80,-145.28\"/>\n",
       "</g>\n",
       "<!-- CallReducer -->\n",
       "<g id=\"node3\" class=\"node\">\n",
       "<title>CallReducer</title>\n",
       "<g id=\"a_node3\"><a xlink:href=\"#\" xlink:title=\"class CallReducer:&#10;Collect an exception&#45;raising function call f().&#10;Use as `with CallCollector(): f()`\">\n",
       "<polygon fill=\"none\" stroke=\"black\" points=\"36.5,-246.5 36.5,-332.5 130.5,-332.5 130.5,-246.5 36.5,-246.5\"/>\n",
       "<text text-anchor=\"start\" x=\"44.5\" y=\"-318.3\" font-family=\"Raleway, Helvetica, Arial, sans-serif\" font-weight=\"bold\" font-size=\"14.00\" fill=\"#6a0dad\">CallReducer</text>\n",
       "<polyline fill=\"none\" stroke=\"black\" points=\"36.5,-309.5 130.5,-309.5\"/>\n",
       "<g id=\"a_node3_12\"><a xlink:href=\"#\" xlink:title=\"CallReducer\">\n",
       "<g id=\"a_node3_13\"><a xlink:href=\"#\" xlink:title=\"__init__(self, *, log: Union[bool, int] = False) &#45;&gt; None:&#10;Initialize. If `log` is True, enable logging.\">\n",
       "<text text-anchor=\"start\" x=\"47.5\" y=\"-298\" font-family=\"'Fira Mono', 'Source Code Pro', 'Courier', monospace\" font-weight=\"bold\" font-style=\"italic\" font-size=\"10.00\">__init__()</text>\n",
       "</a>\n",
       "</g>\n",
       "<g id=\"a_node3_14\"><a xlink:href=\"#\" xlink:title=\"reduce_arg(self, var_to_be_reduced: str, args: Dict[str, Any]) &#45;&gt; Sequence:&#10;Determine and return a minimal value for var_to_be_reduced.&#10;To be overloaded in subclasses.\">\n",
       "<text text-anchor=\"start\" x=\"47.5\" y=\"-287\" font-family=\"'Fira Mono', 'Source Code Pro', 'Courier', monospace\" font-weight=\"bold\" font-style=\"italic\" font-size=\"10.00\">reduce_arg()</text>\n",
       "</a>\n",
       "</g>\n",
       "<g id=\"a_node3_15\"><a xlink:href=\"#\" xlink:title=\"reset(self) &#45;&gt; None:&#10;Reset the number of tests.\">\n",
       "<text text-anchor=\"start\" x=\"47.5\" y=\"-275\" font-family=\"'Fira Mono', 'Source Code Pro', 'Courier', monospace\" font-size=\"10.00\">reset()</text>\n",
       "</a>\n",
       "</g>\n",
       "<g id=\"a_node3_16\"><a xlink:href=\"#\" xlink:title=\"run(self, args: Dict[str, Any]) &#45;&gt; str:&#10;Run collected function with `args`. Return&#10;* PASS if no exception occurred&#10;* FAIL if the collected exception occurred&#10;* UNRESOLVED if some other exception occurred.&#10;Not to be used directly; can be overloaded in subclasses.\">\n",
       "<text text-anchor=\"start\" x=\"47.5\" y=\"-265\" font-family=\"'Fira Mono', 'Source Code Pro', 'Courier', monospace\" font-style=\"italic\" font-size=\"10.00\">run()</text>\n",
       "</a>\n",
       "</g>\n",
       "<g id=\"a_node3_17\"><a xlink:href=\"#\" xlink:title=\"test(self, args: Dict[str, Any]) &#45;&gt; str:&#10;Like run(), but also log detail and keep statistics.\">\n",
       "<text text-anchor=\"start\" x=\"47.5\" y=\"-254\" font-family=\"'Fira Mono', 'Source Code Pro', 'Courier', monospace\" font-style=\"italic\" font-size=\"10.00\">test()</text>\n",
       "</a>\n",
       "</g>\n",
       "</a>\n",
       "</g>\n",
       "</a>\n",
       "</g>\n",
       "</g>\n",
       "<!-- CachingCallReducer&#45;&gt;CallReducer -->\n",
       "<g id=\"edge2\" class=\"edge\">\n",
       "<title>CachingCallReducer&#45;&gt;CallReducer</title>\n",
       "<path fill=\"none\" stroke=\"black\" d=\"M83.5,-209.3C83.5,-217.2 83.5,-226.23 83.5,-235.3\"/>\n",
       "<polygon fill=\"none\" stroke=\"black\" points=\"80,-235.21 83.5,-245.21 87,-235.21 80,-235.21\"/>\n",
       "</g>\n",
       "<!-- CallCollector -->\n",
       "<g id=\"node4\" class=\"node\">\n",
       "<title>CallCollector</title>\n",
       "<g id=\"a_node4\"><a xlink:href=\"#\" xlink:title=\"class CallCollector:&#10;Collect an exception&#45;raising function call f().&#10;Use as `with CallCollector(): f()`\">\n",
       "<polygon fill=\"none\" stroke=\"black\" points=\"21,-369.5 21,-532.5 146,-532.5 146,-369.5 21,-369.5\"/>\n",
       "<text text-anchor=\"start\" x=\"43.5\" y=\"-518.3\" font-family=\"Raleway, Helvetica, Arial, sans-serif\" font-weight=\"bold\" font-size=\"14.00\" fill=\"#6a0dad\">CallCollector</text>\n",
       "<polyline fill=\"none\" stroke=\"black\" points=\"21,-509.5 146,-509.5\"/>\n",
       "<g id=\"a_node4_18\"><a xlink:href=\"#\" xlink:title=\"CallCollector\">\n",
       "<g id=\"a_node4_19\"><a xlink:href=\"#\" xlink:title=\"__enter__(self) &#45;&gt; Any:&#10;Called at begin of `with` block. Turn tracing on.\">\n",
       "<text text-anchor=\"start\" x=\"29.5\" y=\"-498.5\" font-family=\"'Fira Mono', 'Source Code Pro', 'Courier', monospace\" font-weight=\"bold\" font-size=\"10.00\">__enter__()</text>\n",
       "</a>\n",
       "</g>\n",
       "<g id=\"a_node4_20\"><a xlink:href=\"#\" xlink:title=\"__exit__(self, exc_tp: Type, exc_value: BaseException, exc_traceback: traceback) &#45;&gt; Optional[bool]:&#10;Called at end of `with` block. Turn tracing off.\">\n",
       "<text text-anchor=\"start\" x=\"29.5\" y=\"-487.5\" font-family=\"'Fira Mono', 'Source Code Pro', 'Courier', monospace\" font-weight=\"bold\" font-size=\"10.00\">__exit__()</text>\n",
       "</a>\n",
       "</g>\n",
       "<g id=\"a_node4_21\"><a xlink:href=\"#\" xlink:title=\"__init__(self) &#45;&gt; None:&#10;Initialize collector\">\n",
       "<text text-anchor=\"start\" x=\"29.5\" y=\"-476.5\" font-family=\"'Fira Mono', 'Source Code Pro', 'Courier', monospace\" font-weight=\"bold\" font-style=\"italic\" font-size=\"10.00\">__init__()</text>\n",
       "</a>\n",
       "</g>\n",
       "<g id=\"a_node4_22\"><a xlink:href=\"#\" xlink:title=\"args(self) &#45;&gt; Dict[str, Any]:&#10;Return the dictionary of collected arguments.\">\n",
       "<text text-anchor=\"start\" x=\"29.5\" y=\"-465.5\" font-family=\"'Fira Mono', 'Source Code Pro', 'Courier', monospace\" font-weight=\"bold\" font-size=\"10.00\">args()</text>\n",
       "</a>\n",
       "</g>\n",
       "<g id=\"a_node4_23\"><a xlink:href=\"#\" xlink:title=\"call(self, new_args: Optional[Dict[str, Any]] = None) &#45;&gt; Any:&#10;Call collected function. If `new_args` is given,&#10;override arguments from its {var: value} entries.\">\n",
       "<text text-anchor=\"start\" x=\"29.5\" y=\"-454.5\" font-family=\"'Fira Mono', 'Source Code Pro', 'Courier', monospace\" font-weight=\"bold\" font-size=\"10.00\">call()</text>\n",
       "</a>\n",
       "</g>\n",
       "<g id=\"a_node4_24\"><a xlink:href=\"#\" xlink:title=\"exception(self) &#45;&gt; Optional[BaseException]:&#10;Return the exception produced, or `None` if none.\">\n",
       "<text text-anchor=\"start\" x=\"29.5\" y=\"-443.5\" font-family=\"'Fira Mono', 'Source Code Pro', 'Courier', monospace\" font-weight=\"bold\" font-size=\"10.00\">exception()</text>\n",
       "</a>\n",
       "</g>\n",
       "<g id=\"a_node4_25\"><a xlink:href=\"#\" xlink:title=\"function(self) &#45;&gt; Callable:&#10;Return the function called.\">\n",
       "<text text-anchor=\"start\" x=\"29.5\" y=\"-432.5\" font-family=\"'Fira Mono', 'Source Code Pro', 'Courier', monospace\" font-weight=\"bold\" font-size=\"10.00\">function()</text>\n",
       "</a>\n",
       "</g>\n",
       "<g id=\"a_node4_26\"><a xlink:href=\"#\" xlink:title=\"after_collection(self) &#45;&gt; None:&#10;Called after collection. To be defined in subclasses.\">\n",
       "<text text-anchor=\"start\" x=\"29.5\" y=\"-421.5\" font-family=\"'Fira Mono', 'Source Code Pro', 'Courier', monospace\" font-style=\"italic\" font-size=\"10.00\">after_collection()</text>\n",
       "</a>\n",
       "</g>\n",
       "<g id=\"a_node4_27\"><a xlink:href=\"#\" xlink:title=\"format_call(self, args: Optional[Dict[str, Any]] = None) &#45;&gt; str:&#10;Return a string representing a call of the function with given args.\">\n",
       "<text text-anchor=\"start\" x=\"29.5\" y=\"-409.5\" font-family=\"'Fira Mono', 'Source Code Pro', 'Courier', monospace\" font-size=\"10.00\">format_call()</text>\n",
       "</a>\n",
       "</g>\n",
       "<g id=\"a_node4_28\"><a xlink:href=\"#\" xlink:title=\"format_exception(self, exc: Optional[BaseException] = None) &#45;&gt; str:&#10;Return a string representing the given exception.\">\n",
       "<text text-anchor=\"start\" x=\"29.5\" y=\"-398.5\" font-family=\"'Fira Mono', 'Source Code Pro', 'Courier', monospace\" font-size=\"10.00\">format_exception()</text>\n",
       "</a>\n",
       "</g>\n",
       "<g id=\"a_node4_29\"><a xlink:href=\"#\" xlink:title=\"init(self) &#45;&gt; None:&#10;Reset for new collection.\">\n",
       "<text text-anchor=\"start\" x=\"29.5\" y=\"-388.5\" font-family=\"'Fira Mono', 'Source Code Pro', 'Courier', monospace\" font-style=\"italic\" font-size=\"10.00\">init()</text>\n",
       "</a>\n",
       "</g>\n",
       "<g id=\"a_node4_30\"><a xlink:href=\"#\" xlink:title=\"traceit(self, frame: frame, event: str, arg: Any) &#45;&gt; None:&#10;Tracing function. Collect first call, then turn tracing off.\">\n",
       "<text text-anchor=\"start\" x=\"29.5\" y=\"-376.5\" font-family=\"'Fira Mono', 'Source Code Pro', 'Courier', monospace\" font-size=\"10.00\">traceit()</text>\n",
       "</a>\n",
       "</g>\n",
       "</a>\n",
       "</g>\n",
       "</a>\n",
       "</g>\n",
       "</g>\n",
       "<!-- CallReducer&#45;&gt;CallCollector -->\n",
       "<g id=\"edge3\" class=\"edge\">\n",
       "<title>CallReducer&#45;&gt;CallCollector</title>\n",
       "<path fill=\"none\" stroke=\"black\" d=\"M83.5,-332.41C83.5,-340.52 83.5,-349.31 83.5,-358.31\"/>\n",
       "<polygon fill=\"none\" stroke=\"black\" points=\"80,-358.27 83.5,-368.27 87,-358.27 80,-358.27\"/>\n",
       "</g>\n",
       "<!-- StackInspector -->\n",
       "<g id=\"node5\" class=\"node\">\n",
       "<title>StackInspector</title>\n",
       "<g id=\"a_node5\"><a xlink:href=\"StackInspector.ipynb\" xlink:title=\"class StackInspector:&#10;Provide functions to inspect the stack\">\n",
       "<polygon fill=\"none\" stroke=\"black\" points=\"0,-569.5 0,-718.5 167,-718.5 167,-569.5 0,-569.5\"/>\n",
       "<text text-anchor=\"start\" x=\"36.5\" y=\"-704.3\" font-family=\"Raleway, Helvetica, Arial, sans-serif\" font-weight=\"bold\" font-size=\"14.00\" fill=\"#6a0dad\">StackInspector</text>\n",
       "<polyline fill=\"none\" stroke=\"black\" points=\"0,-695.5 167,-695.5\"/>\n",
       "<g id=\"a_node5_31\"><a xlink:href=\"#\" xlink:title=\"StackInspector\">\n",
       "<g id=\"a_node5_32\"><a xlink:href=\"StackInspector.ipynb\" xlink:title=\"_generated_function_cache = {}\">\n",
       "<text text-anchor=\"start\" x=\"8.5\" y=\"-683\" font-family=\"'Fira Mono', 'Source Code Pro', 'Courier', monospace\" font-size=\"10.00\">_generated_function_cache</text>\n",
       "</a>\n",
       "</g>\n",
       "</a>\n",
       "</g>\n",
       "<polyline fill=\"none\" stroke=\"black\" points=\"0,-676.5 167,-676.5\"/>\n",
       "<g id=\"a_node5_33\"><a xlink:href=\"#\" xlink:title=\"StackInspector\">\n",
       "<g id=\"a_node5_34\"><a xlink:href=\"StackInspector.ipynb\" xlink:title=\"caller_frame(self) &#45;&gt; frame:&#10;Return the frame of the caller.\">\n",
       "<text text-anchor=\"start\" x=\"26.5\" y=\"-665\" font-family=\"'Fira Mono', 'Source Code Pro', 'Courier', monospace\" font-weight=\"bold\" font-size=\"10.00\">caller_frame()</text>\n",
       "</a>\n",
       "</g>\n",
       "<g id=\"a_node5_35\"><a xlink:href=\"StackInspector.ipynb\" xlink:title=\"caller_function(self) &#45;&gt; Callable:&#10;Return the calling function\">\n",
       "<text text-anchor=\"start\" x=\"26.5\" y=\"-654\" font-family=\"'Fira Mono', 'Source Code Pro', 'Courier', monospace\" font-weight=\"bold\" font-size=\"10.00\">caller_function()</text>\n",
       "</a>\n",
       "</g>\n",
       "<g id=\"a_node5_36\"><a xlink:href=\"StackInspector.ipynb\" xlink:title=\"caller_globals(self) &#45;&gt; Dict[str, Any]:&#10;Return the globals() environment of the caller.\">\n",
       "<text text-anchor=\"start\" x=\"26.5\" y=\"-643\" font-family=\"'Fira Mono', 'Source Code Pro', 'Courier', monospace\" font-weight=\"bold\" font-size=\"10.00\">caller_globals()</text>\n",
       "</a>\n",
       "</g>\n",
       "<g id=\"a_node5_37\"><a xlink:href=\"StackInspector.ipynb\" xlink:title=\"caller_locals(self) &#45;&gt; Dict[str, Any]:&#10;Return the locals() environment of the caller.\">\n",
       "<text text-anchor=\"start\" x=\"26.5\" y=\"-632\" font-family=\"'Fira Mono', 'Source Code Pro', 'Courier', monospace\" font-weight=\"bold\" font-size=\"10.00\">caller_locals()</text>\n",
       "</a>\n",
       "</g>\n",
       "<g id=\"a_node5_38\"><a xlink:href=\"StackInspector.ipynb\" xlink:title=\"caller_location(self) &#45;&gt; Tuple[Callable, int]:&#10;Return the location (func, lineno) of the caller.\">\n",
       "<text text-anchor=\"start\" x=\"26.5\" y=\"-621\" font-family=\"'Fira Mono', 'Source Code Pro', 'Courier', monospace\" font-weight=\"bold\" font-size=\"10.00\">caller_location()</text>\n",
       "</a>\n",
       "</g>\n",
       "<g id=\"a_node5_39\"><a xlink:href=\"StackInspector.ipynb\" xlink:title=\"is_internal_error(self, exc_tp: Type, exc_value: BaseException, exc_traceback: traceback) &#45;&gt; bool:&#10;Return True if exception was raised from `StackInspector` or a subclass.\">\n",
       "<text text-anchor=\"start\" x=\"26.5\" y=\"-610\" font-family=\"'Fira Mono', 'Source Code Pro', 'Courier', monospace\" font-weight=\"bold\" font-size=\"10.00\">is_internal_error()</text>\n",
       "</a>\n",
       "</g>\n",
       "<g id=\"a_node5_40\"><a xlink:href=\"StackInspector.ipynb\" xlink:title=\"our_frame(self, frame: frame) &#45;&gt; bool:&#10;Return true if `frame` is in the current (inspecting) class.\">\n",
       "<text text-anchor=\"start\" x=\"26.5\" y=\"-599\" font-family=\"'Fira Mono', 'Source Code Pro', 'Courier', monospace\" font-weight=\"bold\" font-size=\"10.00\">our_frame()</text>\n",
       "</a>\n",
       "</g>\n",
       "<g id=\"a_node5_41\"><a xlink:href=\"StackInspector.ipynb\" xlink:title=\"search_frame(self, name: str, frame: Optional[frame] = None) &#45;&gt; Tuple[Optional[frame], Optional[Callable]]:&#10;Return a pair (`frame`, `item`)&#10;in which the function `name` is defined as `item`.\">\n",
       "<text text-anchor=\"start\" x=\"26.5\" y=\"-588\" font-family=\"'Fira Mono', 'Source Code Pro', 'Courier', monospace\" font-weight=\"bold\" font-size=\"10.00\">search_frame()</text>\n",
       "</a>\n",
       "</g>\n",
       "<g id=\"a_node5_42\"><a xlink:href=\"StackInspector.ipynb\" xlink:title=\"search_func(self, name: str, frame: Optional[frame] = None) &#45;&gt; Optional[Callable]:&#10;Search in callers for a definition of the function `name`\">\n",
       "<text text-anchor=\"start\" x=\"26.5\" y=\"-577\" font-family=\"'Fira Mono', 'Source Code Pro', 'Courier', monospace\" font-weight=\"bold\" font-size=\"10.00\">search_func()</text>\n",
       "</a>\n",
       "</g>\n",
       "</a>\n",
       "</g>\n",
       "</a>\n",
       "</g>\n",
       "</g>\n",
       "<!-- CallCollector&#45;&gt;StackInspector -->\n",
       "<g id=\"edge4\" class=\"edge\">\n",
       "<title>CallCollector&#45;&gt;StackInspector</title>\n",
       "<path fill=\"none\" stroke=\"black\" d=\"M83.5,-532.45C83.5,-541.03 83.5,-549.77 83.5,-558.39\"/>\n",
       "<polygon fill=\"none\" stroke=\"black\" points=\"80,-558.12 83.5,-568.12 87,-558.12 80,-558.12\"/>\n",
       "</g>\n",
       "<!-- Legend -->\n",
       "<g id=\"node6\" class=\"node\">\n",
       "<title>Legend</title>\n",
       "<text text-anchor=\"start\" x=\"179.5\" y=\"-77.5\" font-family=\"Raleway, Helvetica, Arial, sans-serif\" font-weight=\"bold\" font-size=\"10.00\" fill=\"#6a0dad\">Legend</text>\n",
       "<text text-anchor=\"start\" x=\"179.5\" y=\"-67.5\" font-family=\"Raleway, Helvetica, Arial, sans-serif\" font-size=\"10.00\">• </text>\n",
       "<text text-anchor=\"start\" x=\"186.5\" y=\"-67.5\" font-family=\"'Fira Mono', 'Source Code Pro', 'Courier', monospace\" font-weight=\"bold\" font-size=\"8.00\">public_method()</text>\n",
       "<text text-anchor=\"start\" x=\"179.5\" y=\"-57.5\" font-family=\"Raleway, Helvetica, Arial, sans-serif\" font-size=\"10.00\">• </text>\n",
       "<text text-anchor=\"start\" x=\"186.5\" y=\"-57.5\" font-family=\"'Fira Mono', 'Source Code Pro', 'Courier', monospace\" font-size=\"8.00\">private_method()</text>\n",
       "<text text-anchor=\"start\" x=\"179.5\" y=\"-47.5\" font-family=\"Raleway, Helvetica, Arial, sans-serif\" font-size=\"10.00\">• </text>\n",
       "<text text-anchor=\"start\" x=\"186.5\" y=\"-47.5\" font-family=\"'Fira Mono', 'Source Code Pro', 'Courier', monospace\" font-style=\"italic\" font-size=\"8.00\">overloaded_method()</text>\n",
       "<text text-anchor=\"start\" x=\"179.5\" y=\"-38.3\" font-family=\"Helvetica,sans-Serif\" font-size=\"9.00\">Hover over names to see doc</text>\n",
       "</g>\n",
       "</g>\n",
       "</svg>\n"
      ],
      "text/plain": [
       "<graphviz.graphs.Digraph at 0x108a2b190>"
      ]
     },
     "execution_count": 192,
     "metadata": {},
     "output_type": "execute_result"
    }
   ],
   "source": [
    "# ignore\n",
    "display_class_hierarchy([DeltaDebugger],\n",
    "                        public_methods=[\n",
    "                            StackInspector.caller_frame,\n",
    "                            StackInspector.caller_function,\n",
    "                            StackInspector.caller_globals,\n",
    "                            StackInspector.caller_locals,\n",
    "                            StackInspector.caller_location,\n",
    "                            StackInspector.search_frame,\n",
    "                            StackInspector.search_func,\n",
    "                            StackInspector.is_internal_error,\n",
    "                            StackInspector.our_frame,\n",
    "                            CallCollector.__init__,\n",
    "                            CallCollector.__enter__,\n",
    "                            CallCollector.__exit__,\n",
    "                            CallCollector.function,\n",
    "                            CallCollector.args,\n",
    "                            CallCollector.exception,\n",
    "                            CallCollector.call,\n",
    "                            CallReducer.__init__,\n",
    "                            CallReducer.reduce_arg,\n",
    "                            DeltaDebugger.dd,\n",
    "                            DeltaDebugger.min_args,\n",
    "                            DeltaDebugger.max_args,\n",
    "                            DeltaDebugger.min_arg_diff,\n",
    "                            DeltaDebugger.__repr__\n",
    "                        ],\n",
    "                        project='debuggingbook')"
   ]
  },
  {
   "attachments": {},
   "cell_type": "markdown",
   "metadata": {
    "button": false,
    "new_sheet": true,
    "run_control": {
     "read_only": false
    },
    "slideshow": {
     "slide_type": "slide"
    }
   },
   "source": [
    "## Lessons Learned\n",
    "\n",
    "* Reducing failure-inducing inputs to a minimum is helpful for testing and debugging.\n",
    "* _Delta debugging_ is a simple and robust algorithm to easily reduce inputs of test cases, as well as their code.\n",
    "* Precisely specifying failure conditions helps to avoid false diagnoses."
   ]
  },
  {
   "cell_type": "markdown",
   "metadata": {
    "button": false,
    "new_sheet": false,
    "run_control": {
     "read_only": false
    },
    "slideshow": {
     "slide_type": "slide"
    }
   },
   "source": [
    "## Next Steps\n",
    "\n",
    "Our next chapter focuses on [finding _failure-inducing code changes_](ChangeDebugger.ipynb), using delta debugging and version control systems."
   ]
  },
  {
   "attachments": {},
   "cell_type": "markdown",
   "metadata": {
    "slideshow": {
     "slide_type": "slide"
    }
   },
   "source": [
    "## Background\n",
    "\n",
    "The \"lexical\" delta debugging algorithm discussed here – both in its simplifying `ddmin` and in its general `dd` form – stem from \\cite{Zeller2002}; actually, `ddmin` is the exact Python implementation as used by Zeller in 2002. The `ddmax` variant was first evaluated in \\cite{Kirschner2020}. This chapter is the first to show how both `ddmin` and `ddmax` can be implemented as small variations of `dd`."
   ]
  },
  {
   "attachments": {},
   "cell_type": "markdown",
   "metadata": {
    "slideshow": {
     "slide_type": "fragment"
    }
   },
   "source": [
    "The idea of systematically reducing inputs has been discovered a number of times, although not as automatic and generic as delta debugging. \\cite{Slutz1998}, for instance, discusses systematic reduction of SQL statements for SQL databases; the general process as manual work is well described by \\cite{Kernighan1999}."
   ]
  },
  {
   "cell_type": "markdown",
   "metadata": {
    "slideshow": {
     "slide_type": "subslide"
    }
   },
   "source": [
    "The deficits of delta debugging as it comes to syntactically complex inputs were first discussed in *compiler testing*, and _reducing tree inputs_ rather than string inputs was quickly discovered as an alternative.  *Hierarchical Delta Debugging* (*HDD*) \\cite{Misherghi2006} applies delta debugging on subtrees of a parse tree, systematically reducing a parse tree to a minimum.  _Generalized Tree Reduction_ \\cite{Herfert2017} generalizes this idea to apply arbitrary _patterns_ such as replacing a term by a compatible term in a subtree.  Using _grammars_ to reduce inputs was first implemented in the _Perses_ tool \\cite{Sun2018}. [A Python implementation of grammar-based input reduction](https://www.fuzzingbook.org/html/Reducer.html#Grammar-Based-Input-Reduction) is part of \"The Fuzzing Book\"."
   ]
  },
  {
   "cell_type": "markdown",
   "metadata": {
    "slideshow": {
     "slide_type": "subslide"
    }
   },
   "source": [
    "While applying delta debugging to code lines does a decent job, _syntactic_ and especially _language-specific_ approaches can do a much better job for the programming language at hand:\n",
    "\n",
    "* *C-Reduce* \\cite{Regehr2012} is a reducer specifically targeting the reduction of programming languages.  Besides reductions in the style of delta debugging or tree transformations, C-Reduce comes with more than 30 source-to-source transformations that replace aggregates by scalars, remove function parameters at a definition and all call sites, change functions to return `void` and deleting all `return` statements, and many more.  While specifically instantiated for the C language (and used for testing C compilers), these principles extend to arbitrary programming languages following an ALGOL-like syntax.\n",
    "\n",
    "* Kalhauge and Palsberg \\cite{Kalhauge2019} introduce *binary reduction of dependency graphs*, a general solution for reducing arbitrary inputs with dependencies. Their *J-Reduce* tool specifically targets Java programs, and again is much faster than delta debugging and achieves a higher reduction rate."
   ]
  },
  {
   "cell_type": "markdown",
   "metadata": {
    "slideshow": {
     "slide_type": "subslide"
    }
   },
   "source": [
    "Reducing inputs also works well in the context of _property-based testing_; that is, generating data structures for individual functions, which can then be reduced (\"shrunk\") upon failure. The [Hypothesis](https://hypothesis.works) fuzzer has a number of type-specific shrinking strategies; this [blog article](https://hypothesis.works/articles/integrated-shrinking/) discusses some of its features."
   ]
  },
  {
   "cell_type": "markdown",
   "metadata": {
    "slideshow": {
     "slide_type": "fragment"
    }
   },
   "source": [
    "This [blog post](https://www.drmaciver.com/2019/01/notes-on-test-case-reduction/) by David McIver contains lots of insights on how to apply reduction in practice, in particular multiple runs with different abstraction levels."
   ]
  },
  {
   "cell_type": "markdown",
   "metadata": {
    "button": false,
    "new_sheet": true,
    "run_control": {
     "read_only": false
    },
    "slideshow": {
     "slide_type": "slide"
    }
   },
   "source": [
    "## Exercises\n",
    "\n",
    "How to best reduce inputs is still an underdeveloped field of research, with lots of opportunities."
   ]
  },
  {
   "cell_type": "markdown",
   "metadata": {
    "button": false,
    "new_sheet": false,
    "run_control": {
     "read_only": false
    },
    "slideshow": {
     "slide_type": "subslide"
    },
    "solution": "hidden",
    "solution2": "hidden",
    "solution2_first": true,
    "solution_first": true
   },
   "source": [
    "### Exercise 1: Advanced Syntactic Code Reduction\n",
    "\n",
    "Extend the code in [\"Transforming Nodes\"](#Transforming-Nodes) such that _multiple_ reduction possibilities for a node are being considered. For instance:\n",
    "\n",
    "* Replace a `BoolOp` node by `True`.\n",
    "* Replace a `BoolOp` node by `False`.\n",
    "* Replace a `BoolOp` node by its left operand.\n",
    "* Replace a `BoolOp` node by its right operand.\n",
    "\n",
    "or:\n",
    "\n",
    "* Replace an `If` node by its \"then\" body.\n",
    "* Replace an `If` node by its \"else\" body.\n",
    "\n",
    "or:\n",
    "\n",
    "* Replace all instances of a variable by a constant.\n",
    "\n",
    "or:\n",
    "\n",
    "* Replace expressions by a constant.\n",
    "\n",
    "Have a look at the [official Python `ast` reference](http://docs.python.org/3/library/ast) for a list of nodes (and some ideas on what to replace them by). The documentation [\"Green Tree Snakes - the missing Python AST docs\"](https://greentreesnakes.readthedocs.io/en/latest/) provides an excellent introduction on visitors and transformers. Make copious use of AST visualization and tests to ensure your syntax trees are still correct.\n",
    "\n",
    "Strategy-wise, you should first create a list of _possible_ reductions; and then pass to Delta Debugging a \"keep list\" of reductions that should _not_ be applied. When Delta Debugging minimizes this list, it will apply as many reductions as possible."
   ]
  }
 ],
 "metadata": {
  "ipub": {
   "bibliography": "fuzzingbook.bib",
   "toc": true
  },
  "kernelspec": {
   "display_name": "Python 3 (ipykernel)",
   "language": "python",
   "name": "python3"
  },
  "language_info": {
   "codemirror_mode": {
    "name": "ipython",
    "version": 3
   },
   "file_extension": ".py",
   "mimetype": "text/x-python",
   "name": "python",
   "nbconvert_exporter": "python",
   "pygments_lexer": "ipython3",
   "version": "3.10.2"
  },
  "toc": {
   "base_numbering": 1,
   "nav_menu": {},
   "number_sections": true,
   "sideBar": true,
   "skip_h1_title": true,
   "title_cell": "",
   "title_sidebar": "Contents",
   "toc_cell": false,
   "toc_position": {},
   "toc_section_display": true,
   "toc_window_display": true
  },
  "toc-autonumbering": false,
  "varInspector": {
   "cols": {
    "lenName": 16,
    "lenType": 16,
    "lenVar": 40
   },
   "kernels_config": {
    "python": {
     "delete_cmd_postfix": "",
     "delete_cmd_prefix": "del ",
     "library": "var_list.py",
     "varRefreshCmd": "print(var_dic_list())"
    },
    "r": {
     "delete_cmd_postfix": ") ",
     "delete_cmd_prefix": "rm(",
     "library": "var_list.r",
     "varRefreshCmd": "cat(var_dic_list()) "
    }
   },
   "types_to_exclude": [
    "module",
    "function",
    "builtin_function_or_method",
    "instance",
    "_Feature"
   ],
   "window_display": false
  }
 },
 "nbformat": 4,
 "nbformat_minor": 4
}