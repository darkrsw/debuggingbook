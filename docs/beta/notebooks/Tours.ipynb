{
 "cells": [
  {
   "cell_type": "markdown",
   "metadata": {
    "button": false,
    "new_sheet": false,
    "run_control": {
     "read_only": false
    },
    "slideshow": {
     "slide_type": "slide"
    }
   },
   "source": [
    "# Tours through the Book\n"
   ]
  },
  {
   "cell_type": "markdown",
   "metadata": {
    "button": false,
    "new_sheet": false,
    "run_control": {
     "read_only": false
    },
    "slideshow": {
     "slide_type": "slide"
    }
   },
   "source": [
    "While the chapters of this book can be read one after the other, there are many possible paths through the book.  In this graph, an arrow _A_ → _B_ means that chapter _A_ is a prerequisite for chapter _B_.  You can pick arbitrary paths in this graph to get to the topics that interest you most:"
   ]
  },
  {
   "cell_type": "code",
   "execution_count": 1,
   "metadata": {
    "execution": {
     "iopub.execute_input": "2021-10-19T08:47:55.263970Z",
     "iopub.status.busy": "2021-10-19T08:47:55.263159Z",
     "iopub.status.idle": "2021-10-19T08:47:55.395695Z",
     "shell.execute_reply": "2021-10-19T08:47:55.396292Z"
    },
    "slideshow": {
     "slide_type": "fragment"
    }
   },
   "outputs": [],
   "source": [
    "# ignore\n",
    "from bookutils import rich_output"
   ]
  },
  {
   "cell_type": "code",
   "execution_count": 2,
   "metadata": {
    "execution": {
     "iopub.execute_input": "2021-10-19T08:47:55.401738Z",
     "iopub.status.busy": "2021-10-19T08:47:55.400740Z",
     "iopub.status.idle": "2021-10-19T08:47:55.425457Z",
     "shell.execute_reply": "2021-10-19T08:47:55.425995Z"
    },
    "slideshow": {
     "slide_type": "subslide"
    }
   },
   "outputs": [
    {
     "data": {
      "image/svg+xml": [
       "<svg xmlns=\"http://www.w3.org/2000/svg\" xmlns:xlink=\"http://www.w3.org/1999/xlink\" width=\"825pt\" height=\"268pt\" viewBox=\"0.00 0.00 824.50 268.00\">\n",
       "<g id=\"graph0\" class=\"graph\" transform=\"scale(1 1) rotate(0) translate(4 264)\">\n",
       "<polygon fill=\"white\" stroke=\"transparent\" points=\"-4,4 -4,-264 820.5,-264 820.5,4 -4,4\"/>\n",
       "<!-- Tracer -->\n",
       "<g id=\"node1\" class=\"node\">\n",
       "<title>Tracer</title>\n",
       "<g id=\"a_node1\"><a xlink:href=\"Tracer.ipynb\" xlink:title=\"Tracing Executions (Tracer)\n",
       "\n",
       "In this chapter, we show how to observe program state during an execution – a prerequisite for logging and interactive debugging. Thanks to the power of Python, we can do this in a few lines of code.\">\n",
       "<polygon fill=\"white\" stroke=\"black\" points=\"450,-185 323,-185 323,-149 456,-149 456,-179 450,-185\"/>\n",
       "<polyline fill=\"none\" stroke=\"black\" points=\"450,-185 450,-179 \"/>\n",
       "<polyline fill=\"none\" stroke=\"black\" points=\"456,-179 450,-179 \"/>\n",
       "<text text-anchor=\"middle\" x=\"389.5\" y=\"-163.3\" font-family=\"Raleway, Helvetica, Arial, sans-serif\" font-size=\"14.00\" fill=\"#6a0dad\">Tracing Executions</text>\n",
       "</a>\n",
       "</g>\n",
       "</g>\n",
       "<!-- Debugger -->\n",
       "<g id=\"node2\" class=\"node\">\n",
       "<title>Debugger</title>\n",
       "<g id=\"a_node2\"><a xlink:href=\"Debugger.ipynb\" xlink:title=\"How Debuggers Work (Debugger)\n",
       "\n",
       "Interactive debuggers are tools that allow you to selectively observe the program state during an execution.  In this chapter, you will learn how such debuggers work – by building your own debugger.\">\n",
       "<polygon fill=\"white\" stroke=\"black\" points=\"389.5,-111 239.5,-111 239.5,-75 395.5,-75 395.5,-105 389.5,-111\"/>\n",
       "<polyline fill=\"none\" stroke=\"black\" points=\"389.5,-111 389.5,-105 \"/>\n",
       "<polyline fill=\"none\" stroke=\"black\" points=\"395.5,-105 389.5,-105 \"/>\n",
       "<text text-anchor=\"middle\" x=\"317.5\" y=\"-89.3\" font-family=\"Raleway, Helvetica, Arial, sans-serif\" font-size=\"14.00\" fill=\"#6a0dad\">How Debuggers Work</text>\n",
       "</a>\n",
       "</g>\n",
       "</g>\n",
       "<!-- Tracer&#45;&gt;Debugger -->\n",
       "<g id=\"edge1\" class=\"edge\">\n",
       "<title>Tracer-&gt;Debugger</title>\n",
       "<path fill=\"none\" stroke=\"black\" d=\"M372.44,-148.94C363.42,-139.92 352.2,-128.7 342.24,-118.74\"/>\n",
       "<polygon fill=\"black\" stroke=\"black\" points=\"344.49,-116.04 334.94,-111.44 339.54,-120.99 344.49,-116.04\"/>\n",
       "</g>\n",
       "<!-- Assertions -->\n",
       "<g id=\"node3\" class=\"node\">\n",
       "<title>Assertions</title>\n",
       "<g id=\"a_node3\"><a xlink:href=\"Assertions.ipynb\" xlink:title=\"Asserting Expectations (Assertions)\n",
       "\n",
       "In the previous chapters on tracing and interactive debugging, we have seen how to observe executions. By checking our observations against our expectations, we can find out when and how the program state is faulty. So far, we have assumed that this check would be done by humans – that is, us. However, having this check done by a computer, for instance as part of the execution, is infinitely more rigorous and efficient. In this chapter, we introduce techniques to specify our expectations and to check them at runtime, enabling us to detect faults right as they occur.\">\n",
       "<polygon fill=\"white\" stroke=\"black\" points=\"505,-112 414,-112 414,-74 511,-74 511,-106 505,-112\"/>\n",
       "<polyline fill=\"none\" stroke=\"black\" points=\"505,-112 505,-106 \"/>\n",
       "<polyline fill=\"none\" stroke=\"black\" points=\"511,-106 505,-106 \"/>\n",
       "<text text-anchor=\"middle\" x=\"462.5\" y=\"-96.8\" font-family=\"Raleway, Helvetica, Arial, sans-serif\" font-size=\"14.00\" fill=\"#6a0dad\">Asserting</text>\n",
       "<text text-anchor=\"middle\" x=\"462.5\" y=\"-81.8\" font-family=\"Raleway, Helvetica, Arial, sans-serif\" font-size=\"14.00\" fill=\"#6a0dad\">Expectations</text>\n",
       "</a>\n",
       "</g>\n",
       "</g>\n",
       "<!-- Tracer&#45;&gt;Assertions -->\n",
       "<g id=\"edge2\" class=\"edge\">\n",
       "<title>Tracer-&gt;Assertions</title>\n",
       "<path fill=\"none\" stroke=\"black\" d=\"M406.8,-148.94C415.74,-140.12 426.82,-129.19 436.74,-119.4\"/>\n",
       "<polygon fill=\"black\" stroke=\"black\" points=\"439.39,-121.71 444.05,-112.2 434.47,-116.73 439.39,-121.71\"/>\n",
       "</g>\n",
       "<!-- DeltaDebugger -->\n",
       "<g id=\"node4\" class=\"node\">\n",
       "<title>DeltaDebugger</title>\n",
       "<g id=\"a_node4\"><a xlink:href=\"DeltaDebugger.ipynb\" xlink:title=\"Reducing Failure-Inducing Inputs (DeltaDebugger)\n",
       "\n",
       "A standard problem in debugging is this: Your program fails after processing some large input. Only a part of this input, however, is responsible for the failure. Reducing the input to a failure-inducing minimum not only eases debugging – it also helps in understanding why and when the program fails. In this chapter, we present techniques that automatically reduce and simplify failure-inducing inputs to a minimum, notably the popular Delta Debugging technique.\">\n",
       "<polygon fill=\"white\" stroke=\"black\" points=\"650,-112 529,-112 529,-74 656,-74 656,-106 650,-112\"/>\n",
       "<polyline fill=\"none\" stroke=\"black\" points=\"650,-112 650,-106 \"/>\n",
       "<polyline fill=\"none\" stroke=\"black\" points=\"656,-106 650,-106 \"/>\n",
       "<text text-anchor=\"middle\" x=\"592.5\" y=\"-96.8\" font-family=\"Raleway, Helvetica, Arial, sans-serif\" font-size=\"14.00\" fill=\"#6a0dad\">Reducing Failure-</text>\n",
       "<text text-anchor=\"middle\" x=\"592.5\" y=\"-81.8\" font-family=\"Raleway, Helvetica, Arial, sans-serif\" font-size=\"14.00\" fill=\"#6a0dad\">Inducing Inputs</text>\n",
       "</a>\n",
       "</g>\n",
       "</g>\n",
       "<!-- Tracer&#45;&gt;DeltaDebugger -->\n",
       "<g id=\"edge3\" class=\"edge\">\n",
       "<title>Tracer-&gt;DeltaDebugger</title>\n",
       "<path fill=\"none\" stroke=\"black\" d=\"M437.61,-148.94C465.86,-138.92 501.82,-126.16 531.98,-115.47\"/>\n",
       "<polygon fill=\"black\" stroke=\"black\" points=\"533.29,-118.71 541.55,-112.07 530.95,-112.12 533.29,-118.71\"/>\n",
       "</g>\n",
       "<!-- StatisticalDebugger -->\n",
       "<g id=\"node5\" class=\"node\">\n",
       "<title>StatisticalDebugger</title>\n",
       "<g id=\"a_node5\"><a xlink:href=\"StatisticalDebugger.ipynb\" xlink:title=\"Statistical Debugging (StatisticalDebugger)\n",
       "\n",
       "In this chapter, we introduce statistical debugging – the idea that specific events during execution could be statistically correlated with failures. We start with coverage of individual lines and then proceed towards further execution features.\">\n",
       "<polygon fill=\"white\" stroke=\"black\" points=\"81,-112 0,-112 0,-74 87,-74 87,-106 81,-112\"/>\n",
       "<polyline fill=\"none\" stroke=\"black\" points=\"81,-112 81,-106 \"/>\n",
       "<polyline fill=\"none\" stroke=\"black\" points=\"87,-106 81,-106 \"/>\n",
       "<text text-anchor=\"middle\" x=\"43.5\" y=\"-96.8\" font-family=\"Raleway, Helvetica, Arial, sans-serif\" font-size=\"14.00\" fill=\"#6a0dad\">Statistical</text>\n",
       "<text text-anchor=\"middle\" x=\"43.5\" y=\"-81.8\" font-family=\"Raleway, Helvetica, Arial, sans-serif\" font-size=\"14.00\" fill=\"#6a0dad\">Debugging</text>\n",
       "</a>\n",
       "</g>\n",
       "</g>\n",
       "<!-- Tracer&#45;&gt;StatisticalDebugger -->\n",
       "<g id=\"edge4\" class=\"edge\">\n",
       "<title>Tracer-&gt;StatisticalDebugger</title>\n",
       "<path fill=\"none\" stroke=\"black\" d=\"M322.86,-156.54C265.35,-147.74 180.01,-133.15 96.88,-111.9\"/>\n",
       "<polygon fill=\"black\" stroke=\"black\" points=\"97.58,-108.46 87.02,-109.34 95.82,-115.24 97.58,-108.46\"/>\n",
       "</g>\n",
       "<!-- DynamicInvariants -->\n",
       "<g id=\"node6\" class=\"node\">\n",
       "<title>DynamicInvariants</title>\n",
       "<g id=\"a_node6\"><a xlink:href=\"DynamicInvariants.ipynb\" xlink:title=\"Mining Function Specifications (DynamicInvariants)\n",
       "\n",
       "In the chapter on assertions, we have seen how important it is to check whether the result is as expected.  In this chapter, we introduce a technique that allows us to mine function specifications from a set of given executions, resulting in abstract and formal descriptions of what the function expects and what it delivers.\">\n",
       "<polygon fill=\"white\" stroke=\"black\" points=\"215.5,-112 105.5,-112 105.5,-74 221.5,-74 221.5,-106 215.5,-112\"/>\n",
       "<polyline fill=\"none\" stroke=\"black\" points=\"215.5,-112 215.5,-106 \"/>\n",
       "<polyline fill=\"none\" stroke=\"black\" points=\"221.5,-106 215.5,-106 \"/>\n",
       "<text text-anchor=\"middle\" x=\"163.5\" y=\"-96.8\" font-family=\"Raleway, Helvetica, Arial, sans-serif\" font-size=\"14.00\" fill=\"#6a0dad\">Mining Function</text>\n",
       "<text text-anchor=\"middle\" x=\"163.5\" y=\"-81.8\" font-family=\"Raleway, Helvetica, Arial, sans-serif\" font-size=\"14.00\" fill=\"#6a0dad\">Specifications</text>\n",
       "</a>\n",
       "</g>\n",
       "</g>\n",
       "<!-- Tracer&#45;&gt;DynamicInvariants -->\n",
       "<g id=\"edge5\" class=\"edge\">\n",
       "<title>Tracer-&gt;DynamicInvariants</title>\n",
       "<path fill=\"none\" stroke=\"black\" d=\"M335.94,-148.94C304.22,-138.83 263.76,-125.94 230.01,-115.19\"/>\n",
       "<polygon fill=\"black\" stroke=\"black\" points=\"230.82,-111.77 220.23,-112.07 228.69,-118.44 230.82,-111.77\"/>\n",
       "</g>\n",
       "<!-- ChangeDebugger -->\n",
       "<g id=\"node10\" class=\"node\">\n",
       "<title>ChangeDebugger</title>\n",
       "<g id=\"a_node10\"><a xlink:href=\"ChangeDebugger.ipynb\" xlink:title=\"Isolating Failure-Inducing Changes (ChangeDebugger)\n",
       "\n",
       "&quot;Yesterday, my program worked. Today, it does not. Why?&quot; In debugging, as elsewhere in software development, code keeps on changing. Thus, it can happen that a piece of code that yesterday was working perfectly, today no longer runs – because we (or others) have made some changes to it that cause it to fail. The good news is that for debugging, we can actually exploit this version history to narrow down the changes that caused the failure – be it by us or by others.\">\n",
       "<polygon fill=\"white\" stroke=\"black\" points=\"574.5,-38 450.5,-38 450.5,0 580.5,0 580.5,-32 574.5,-38\"/>\n",
       "<polyline fill=\"none\" stroke=\"black\" points=\"574.5,-38 574.5,-32 \"/>\n",
       "<polyline fill=\"none\" stroke=\"black\" points=\"580.5,-32 574.5,-32 \"/>\n",
       "<text text-anchor=\"middle\" x=\"515.5\" y=\"-22.8\" font-family=\"Raleway, Helvetica, Arial, sans-serif\" font-size=\"14.00\" fill=\"#6a0dad\">Isolating Failure-</text>\n",
       "<text text-anchor=\"middle\" x=\"515.5\" y=\"-7.8\" font-family=\"Raleway, Helvetica, Arial, sans-serif\" font-size=\"14.00\" fill=\"#6a0dad\">Inducing Changes</text>\n",
       "</a>\n",
       "</g>\n",
       "</g>\n",
       "<!-- DeltaDebugger&#45;&gt;ChangeDebugger -->\n",
       "<g id=\"edge9\" class=\"edge\">\n",
       "<title>DeltaDebugger-&gt;ChangeDebugger</title>\n",
       "<path fill=\"none\" stroke=\"black\" d=\"M573.07,-73.83C563.77,-65.13 552.48,-54.58 542.37,-45.13\"/>\n",
       "<polygon fill=\"black\" stroke=\"black\" points=\"544.62,-42.44 534.92,-38.16 539.84,-47.55 544.62,-42.44\"/>\n",
       "</g>\n",
       "<!-- DDSetDebugger -->\n",
       "<g id=\"node11\" class=\"node\">\n",
       "<title>DDSetDebugger</title>\n",
       "<g id=\"a_node11\"><a xlink:href=\"DDSetDebugger.ipynb\" xlink:title=\"Generalizing Failure Circumstances (DDSetDebugger)\n",
       "\n",
       "One central question in debugging is: Does this bug occur in other situations, too? In this chapter, we present a technique that is set to generalize the circumstances under which a failure occurs. The DDSET algorithm takes a failure-inducing input, breaks it into individual elements. For each element, it tries to find whether it can be replaced by others in the same category, and if so, it generalizes the concrete element to the very category. The result is a pattern that characterizes the failure condition: &quot;The failure occurs for all inputs of the form (&lt;expr&gt; * &lt;expr&gt;).\">\n",
       "<polygon fill=\"white\" stroke=\"black\" points=\"732,-38 599,-38 599,0 738,0 738,-32 732,-38\"/>\n",
       "<polyline fill=\"none\" stroke=\"black\" points=\"732,-38 732,-32 \"/>\n",
       "<polyline fill=\"none\" stroke=\"black\" points=\"738,-32 732,-32 \"/>\n",
       "<text text-anchor=\"middle\" x=\"668.5\" y=\"-22.8\" font-family=\"Raleway, Helvetica, Arial, sans-serif\" font-size=\"14.00\" fill=\"#6a0dad\">Generalizing Failure</text>\n",
       "<text text-anchor=\"middle\" x=\"668.5\" y=\"-7.8\" font-family=\"Raleway, Helvetica, Arial, sans-serif\" font-size=\"14.00\" fill=\"#6a0dad\">Circumstances</text>\n",
       "</a>\n",
       "</g>\n",
       "</g>\n",
       "<!-- DeltaDebugger&#45;&gt;DDSetDebugger -->\n",
       "<g id=\"edge10\" class=\"edge\">\n",
       "<title>DeltaDebugger-&gt;DDSetDebugger</title>\n",
       "<path fill=\"none\" stroke=\"black\" d=\"M611.68,-73.83C620.86,-65.13 632,-54.58 641.98,-45.13\"/>\n",
       "<polygon fill=\"black\" stroke=\"black\" points=\"644.48,-47.58 649.33,-38.16 639.66,-42.5 644.48,-47.58\"/>\n",
       "</g>\n",
       "<!-- PerformanceDebugger -->\n",
       "<g id=\"node12\" class=\"node\">\n",
       "<title>PerformanceDebugger</title>\n",
       "<g id=\"a_node12\"><a xlink:href=\"PerformanceDebugger.ipynb\" xlink:title=\"Debugging Performance Issues (PerformanceDebugger)\n",
       "\n",
       "Most chapters of this book deal with functional issues – that is, issues related to the functionality (or its absence) of the code in question. However, debugging can also involve nonfunctional issues, however – performance, usability, reliability, and more. In this chapter, we give a short introduction on how to debug such nonfunctional issues, notably performance issues.\">\n",
       "<polygon fill=\"white\" stroke=\"black\" points=\"211.5,-38 77.5,-38 77.5,0 217.5,0 217.5,-32 211.5,-38\"/>\n",
       "<polyline fill=\"none\" stroke=\"black\" points=\"211.5,-38 211.5,-32 \"/>\n",
       "<polyline fill=\"none\" stroke=\"black\" points=\"217.5,-32 211.5,-32 \"/>\n",
       "<text text-anchor=\"middle\" x=\"147.5\" y=\"-22.8\" font-family=\"Raleway, Helvetica, Arial, sans-serif\" font-size=\"14.00\" fill=\"#6a0dad\">Debugging</text>\n",
       "<text text-anchor=\"middle\" x=\"147.5\" y=\"-7.8\" font-family=\"Raleway, Helvetica, Arial, sans-serif\" font-size=\"14.00\" fill=\"#6a0dad\">Performance Issues</text>\n",
       "</a>\n",
       "</g>\n",
       "</g>\n",
       "<!-- DeltaDebugger&#45;&gt;PerformanceDebugger -->\n",
       "<g id=\"edge11\" class=\"edge\">\n",
       "<title>DeltaDebugger-&gt;PerformanceDebugger</title>\n",
       "<path fill=\"none\" stroke=\"black\" d=\"M528.98,-75.75C526.12,-75.13 523.28,-74.55 520.5,-74 492.45,-68.48 328.89,-45.33 227.9,-31.2\"/>\n",
       "<polygon fill=\"black\" stroke=\"black\" points=\"228.11,-27.69 217.72,-29.77 227.14,-34.63 228.11,-27.69\"/>\n",
       "</g>\n",
       "<!-- Repairer -->\n",
       "<g id=\"node13\" class=\"node\">\n",
       "<title>Repairer</title>\n",
       "<g id=\"a_node13\"><a xlink:href=\"Repairer.ipynb\" xlink:title=\"Repairing Code Automatically (Repairer)\n",
       "\n",
       "So far, we have discussed how to track failures and how to locate defects in code. Let us now discuss how to repair defects – that is, to correct the code such that the failure no longer occurs. We will discuss how to repair code automatically – by systematically searching through possible fixes and evolving the most promising candidates.\">\n",
       "<polygon fill=\"white\" stroke=\"black\" points=\"398,-38 291,-38 291,0 404,0 404,-32 398,-38\"/>\n",
       "<polyline fill=\"none\" stroke=\"black\" points=\"398,-38 398,-32 \"/>\n",
       "<polyline fill=\"none\" stroke=\"black\" points=\"404,-32 398,-32 \"/>\n",
       "<text text-anchor=\"middle\" x=\"347.5\" y=\"-22.8\" font-family=\"Raleway, Helvetica, Arial, sans-serif\" font-size=\"14.00\" fill=\"#6a0dad\">Repairing Code</text>\n",
       "<text text-anchor=\"middle\" x=\"347.5\" y=\"-7.8\" font-family=\"Raleway, Helvetica, Arial, sans-serif\" font-size=\"14.00\" fill=\"#6a0dad\">Automatically</text>\n",
       "</a>\n",
       "</g>\n",
       "</g>\n",
       "<!-- DeltaDebugger&#45;&gt;Repairer -->\n",
       "<g id=\"edge12\" class=\"edge\">\n",
       "<title>DeltaDebugger-&gt;Repairer</title>\n",
       "<path fill=\"none\" stroke=\"black\" d=\"M530.99,-73.92C495.49,-63.49 450.82,-50.36 414.44,-39.67\"/>\n",
       "<polygon fill=\"black\" stroke=\"black\" points=\"414.99,-36.19 404.41,-36.72 413.02,-42.9 414.99,-36.19\"/>\n",
       "</g>\n",
       "<!-- StatisticalDebugger&#45;&gt;PerformanceDebugger -->\n",
       "<g id=\"edge13\" class=\"edge\">\n",
       "<title>StatisticalDebugger-&gt;PerformanceDebugger</title>\n",
       "<path fill=\"none\" stroke=\"black\" d=\"M69.74,-73.83C82.8,-64.79 98.75,-53.75 112.8,-44.02\"/>\n",
       "<polygon fill=\"black\" stroke=\"black\" points=\"115.04,-46.73 121.26,-38.16 111.05,-40.98 115.04,-46.73\"/>\n",
       "</g>\n",
       "<!-- StatisticalDebugger&#45;&gt;Repairer -->\n",
       "<g id=\"edge14\" class=\"edge\">\n",
       "<title>StatisticalDebugger-&gt;Repairer</title>\n",
       "<path fill=\"none\" stroke=\"black\" d=\"M87.05,-76.76C90.23,-75.79 93.41,-74.85 96.5,-74 158.43,-56.88 230.19,-41.92 281.08,-32.12\"/>\n",
       "<polygon fill=\"black\" stroke=\"black\" points=\"281.81,-35.54 290.97,-30.22 280.49,-28.67 281.81,-35.54\"/>\n",
       "</g>\n",
       "<!-- Intro_Debugging -->\n",
       "<g id=\"node7\" class=\"node\">\n",
       "<title>Intro_Debugging</title>\n",
       "<g id=\"a_node7\"><a xlink:href=\"Intro_Debugging.ipynb\" xlink:title=\"Introduction to Debugging (Intro_Debugging)\n",
       "\n",
       "In this book, we want to explore debugging - the art and science of fixing bugs in computer software. In particular, we want to explore techniques that automatically answer questions like: Where is the bug? When does it occur? And how can we repair it? But before we start automating the debugging process, we first need to understand what this process is.\">\n",
       "<polygon fill=\"white\" stroke=\"black\" points=\"622,-260 521,-260 521,-222 628,-222 628,-254 622,-260\"/>\n",
       "<polyline fill=\"none\" stroke=\"black\" points=\"622,-260 622,-254 \"/>\n",
       "<polyline fill=\"none\" stroke=\"black\" points=\"628,-254 622,-254 \"/>\n",
       "<text text-anchor=\"middle\" x=\"574.5\" y=\"-244.8\" font-family=\"Raleway, Helvetica, Arial, sans-serif\" font-size=\"14.00\" fill=\"#6a0dad\">Introduction to</text>\n",
       "<text text-anchor=\"middle\" x=\"574.5\" y=\"-229.8\" font-family=\"Raleway, Helvetica, Arial, sans-serif\" font-size=\"14.00\" fill=\"#6a0dad\">Debugging</text>\n",
       "</a>\n",
       "</g>\n",
       "</g>\n",
       "<!-- Intro_Debugging&#45;&gt;Tracer -->\n",
       "<g id=\"edge6\" class=\"edge\">\n",
       "<title>Intro_Debugging-&gt;Tracer</title>\n",
       "<path fill=\"none\" stroke=\"black\" d=\"M527.82,-221.83C501.98,-211.78 469.77,-199.24 442.93,-188.79\"/>\n",
       "<polygon fill=\"black\" stroke=\"black\" points=\"443.89,-185.41 433.31,-185.05 441.36,-191.94 443.89,-185.41\"/>\n",
       "</g>\n",
       "<!-- Slicer -->\n",
       "<g id=\"node8\" class=\"node\">\n",
       "<title>Slicer</title>\n",
       "<g id=\"a_node8\"><a xlink:href=\"Slicer.ipynb\" xlink:title=\"Tracking Failure Origins (Slicer)\n",
       "\n",
       "The question of &quot;Where does this value come from?&quot; is fundamental for debugging. Which earlier variables could possibly have influenced the current erroneous state? And how did their values come to be?\">\n",
       "<polygon fill=\"white\" stroke=\"black\" points=\"620.5,-186 522.5,-186 522.5,-148 626.5,-148 626.5,-180 620.5,-186\"/>\n",
       "<polyline fill=\"none\" stroke=\"black\" points=\"620.5,-186 620.5,-180 \"/>\n",
       "<polyline fill=\"none\" stroke=\"black\" points=\"626.5,-180 620.5,-180 \"/>\n",
       "<text text-anchor=\"middle\" x=\"574.5\" y=\"-170.8\" font-family=\"Raleway, Helvetica, Arial, sans-serif\" font-size=\"14.00\" fill=\"#6a0dad\">Tracking </text>\n",
       "<text text-anchor=\"middle\" x=\"574.5\" y=\"-155.8\" font-family=\"Raleway, Helvetica, Arial, sans-serif\" font-size=\"14.00\" fill=\"#6a0dad\">Failure Origins</text>\n",
       "</a>\n",
       "</g>\n",
       "</g>\n",
       "<!-- Intro_Debugging&#45;&gt;Slicer -->\n",
       "<g id=\"edge7\" class=\"edge\">\n",
       "<title>Intro_Debugging-&gt;Slicer</title>\n",
       "<path fill=\"none\" stroke=\"black\" d=\"M574.5,-221.83C574.5,-214.13 574.5,-204.97 574.5,-196.42\"/>\n",
       "<polygon fill=\"black\" stroke=\"black\" points=\"578,-196.41 574.5,-186.41 571,-196.41 578,-196.41\"/>\n",
       "</g>\n",
       "<!-- Tracking -->\n",
       "<g id=\"node9\" class=\"node\">\n",
       "<title>Tracking</title>\n",
       "<g id=\"a_node9\"><a xlink:href=\"Tracking.ipynb\" xlink:title=\"Tracking Bugs (Tracking)\n",
       "\n",
       "So far, we have assumed that failures would be discovered and fixed by a single programmer during development. But what if the user who discovers a bug is different from the developer who eventually fixes it? In this case, users have to report bugs, and one needs to ensure that reported bugs are systematically tracked. This is the job of dedicated bug tracking systems, which we will discuss (and demo) in this chapter.\">\n",
       "<polygon fill=\"white\" stroke=\"black\" points=\"768,-185 669,-185 669,-149 774,-149 774,-179 768,-185\"/>\n",
       "<polyline fill=\"none\" stroke=\"black\" points=\"768,-185 768,-179 \"/>\n",
       "<polyline fill=\"none\" stroke=\"black\" points=\"774,-179 768,-179 \"/>\n",
       "<text text-anchor=\"middle\" x=\"721.5\" y=\"-163.3\" font-family=\"Raleway, Helvetica, Arial, sans-serif\" font-size=\"14.00\" fill=\"#6a0dad\">Tracking Bugs</text>\n",
       "</a>\n",
       "</g>\n",
       "</g>\n",
       "<!-- Intro_Debugging&#45;&gt;Tracking -->\n",
       "<g id=\"edge8\" class=\"edge\">\n",
       "<title>Intro_Debugging-&gt;Tracking</title>\n",
       "<path fill=\"none\" stroke=\"black\" d=\"M611.59,-221.83C631.67,-212 656.6,-199.79 677.64,-189.48\"/>\n",
       "<polygon fill=\"black\" stroke=\"black\" points=\"679.25,-192.59 686.69,-185.05 676.17,-186.3 679.25,-192.59\"/>\n",
       "</g>\n",
       "<!-- ChangeCounter -->\n",
       "<g id=\"node14\" class=\"node\">\n",
       "<title>ChangeCounter</title>\n",
       "<g id=\"a_node14\"><a xlink:href=\"ChangeCounter.ipynb\" xlink:title=\"Where the Bugs are (ChangeCounter)\n",
       "\n",
       "Every time a bug is fixed, developers leave a trace – in the version database when they commit the fix, or in the bug database when they close the bug. In this chapter, we learn how to mine these repositories for past changes and bugs, and how to map them to individual modules and functions, highlighting those project components that have seen most changes and fixes over time.\">\n",
       "<polygon fill=\"white\" stroke=\"black\" points=\"810.5,-111 674.5,-111 674.5,-75 816.5,-75 816.5,-105 810.5,-111\"/>\n",
       "<polyline fill=\"none\" stroke=\"black\" points=\"810.5,-111 810.5,-105 \"/>\n",
       "<polyline fill=\"none\" stroke=\"black\" points=\"816.5,-105 810.5,-105 \"/>\n",
       "<text text-anchor=\"middle\" x=\"745.5\" y=\"-89.3\" font-family=\"Raleway, Helvetica, Arial, sans-serif\" font-size=\"14.00\" fill=\"#6a0dad\">Where the Bugs are</text>\n",
       "</a>\n",
       "</g>\n",
       "</g>\n",
       "<!-- Tracking&#45;&gt;ChangeCounter -->\n",
       "<g id=\"edge15\" class=\"edge\">\n",
       "<title>Tracking-&gt;ChangeCounter</title>\n",
       "<path fill=\"none\" stroke=\"black\" d=\"M727.19,-148.94C729.96,-140.63 733.35,-130.44 736.46,-121.11\"/>\n",
       "<polygon fill=\"black\" stroke=\"black\" points=\"739.84,-122.03 739.69,-111.44 733.2,-119.82 739.84,-122.03\"/>\n",
       "</g>\n",
       "</g>\n",
       "</svg>"
      ],
      "text/plain": [
       "<IPython.core.display.SVG object>"
      ]
     },
     "execution_count": 2,
     "metadata": {},
     "output_type": "execute_result"
    }
   ],
   "source": [
    "# ignore\n",
    "if rich_output():\n",
    "    from IPython.display import SVG\n",
    "    sitemap = SVG(filename='PICS/Sitemap.svg')\n",
    "else:\n",
    "    sitemap = None\n",
    "sitemap"
   ]
  },
  {
   "cell_type": "markdown",
   "metadata": {
    "button": false,
    "new_sheet": false,
    "run_control": {
     "read_only": false
    },
    "slideshow": {
     "slide_type": "slide"
    }
   },
   "source": [
    "But since even this map can be overwhelming, here are a few _tours_ to get you started.  Each of these tours allows you to focus on a particular view, depending on whether you are a programmer, student, or researcher."
   ]
  },
  {
   "cell_type": "markdown",
   "metadata": {
    "slideshow": {
     "slide_type": "slide"
    }
   },
   "source": [
    "## The Pragmatic Programmer Tour\n",
    "\n",
    "You have a program to debug.  You want to learn about techniques that help you for debugging.  You want to get to the point.\n",
    "\n",
    "1. __Start with [Introduction to Debugging](Intro_Debugging.ipynb) to get the basic concepts.__  (You would know most of these anyway, but it can't hurt to get quick reminders).\n",
    "\n",
    "2. __Experiment with [interactive debuggers](Debugger.ipynb)__ to observe executions interactively.\n",
    "\n",
    "3. __Use [assertions](Assertions.ipynb)__ to have the computer systematically run checks during execution.\n",
    "\n",
    "4. __Explore [delta debugging](DeltaDebugger.ipynb) for your program__ and see how it simplifies failure-inducing inputs [and changes](ChangeDebugger.ipynb).\n",
    "\n",
    "5. __Visualize [dependencies](Slicer.ipynb) in your program__ and track the flow of data and control in the execution.\n",
    "\n",
    "6. __Check out [statistical debugging](StatisticalDebugger.ipynb)__ for a simple way to determine code locations associated with failures.\n",
    "\n",
    "7. __See [automatic repairs](Repairer.ipynb) in action__.\n",
    "\n",
    "In each of these chapters, start with the \"Synopsis\" parts; these will give you quick introductions on how to use things, as well as point you to relevant usage examples.  With this, enough said.  Get back to work and enjoy!"
   ]
  },
  {
   "cell_type": "markdown",
   "metadata": {
    "slideshow": {
     "slide_type": "slide"
    }
   },
   "source": [
    "## The Young Researcher Tour\n",
    "\n",
    "Your school wants you to publish a great paper every few months. You are looking for infrastructures that you can toy with, helping you to build and evaluate cool ideas.\n",
    "\n",
    "1. __Toy with [tracer](Tracer.ipynb)__ to collect data on program executions - features you can then [correlate with program failures](StatisticalDebugger.ipynb).\n",
    "\n",
    "2. __Extract [dependencies](Slicer.ipynb) from your program__ and use them for runtime verification, fault localization, and better repair.\n",
    "\n",
    "3. __Use [automatic repairs](Repairer.ipynb)__ as a starting point to build your own, better repairs. The Python implementation is well documented and extremely easy to expand.\n",
    "\n",
    "4. Bring in __[test generation and structured inputs](DDSetDebugger.ipynb)__ to collect input features that relate to failures.\n",
    "\n",
    "5. Mine __[version and bug repositories](ChangeCounter.ipynb)__ to explore how bugs and all these features evolve over time.\n",
    "\n",
    "For each of these chapters, experiment with the techniques, and then build your own on top. Read the relevant papers to learn more about their motivation and background. And now go and improve the world of automated debugging!"
   ]
  },
  {
   "cell_type": "markdown",
   "metadata": {
    "button": false,
    "new_sheet": true,
    "run_control": {
     "read_only": false
    },
    "slideshow": {
     "slide_type": "slide"
    }
   },
   "source": [
    "## Lessons Learned\n",
    "\n",
    "* You can go through the book from beginning to end...\n",
    "* ...but it may be preferable to follow a specific tour, based on your needs and resources.\n",
    "* Now [go and explore automated debugging](index.ipynb)!"
   ]
  }
 ],
 "metadata": {
  "ipub": {
   "bibliography": "fuzzingbook.bib",
   "toc": true
  },
  "kernelspec": {
   "display_name": "Python 3",
   "language": "python",
   "name": "python3"
  },
  "language_info": {
   "codemirror_mode": {
    "name": "ipython",
    "version": 3
   },
   "file_extension": ".py",
   "mimetype": "text/x-python",
   "name": "python",
   "nbconvert_exporter": "python",
   "pygments_lexer": "ipython3",
   "version": "3.9.7"
  },
  "toc": {
   "base_numbering": 1,
   "nav_menu": {},
   "number_sections": true,
   "sideBar": true,
   "skip_h1_title": true,
   "title_cell": "",
   "title_sidebar": "Contents",
   "toc_cell": false,
   "toc_position": {},
   "toc_section_display": true,
   "toc_window_display": true
  },
  "toc-autonumbering": false
 },
 "nbformat": 4,
 "nbformat_minor": 4
}
