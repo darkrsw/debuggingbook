{
 "cells": [
  {
   "cell_type": "markdown",
   "metadata": {
    "button": false,
    "new_sheet": false,
    "run_control": {
     "read_only": false
    },
    "slideshow": {
     "slide_type": "slide"
    }
   },
   "source": [
    "# Generalizing Failure Circumstances\n",
    "\n",
    "One central question in debugging is: _Does this bug occur in other situations, too?_ In this chapter, we present a technique that is set to _generalize_ the circumstances under which a failure occurs. The DDSET algorithm takes a failure-inducing input, breaks it into individual elements. For each element, it tries to find whether it can be replaced by others in the same category, and if so, it _generalizes_ the concrete element to the very category. The result is a _pattern_ that characterizes the failure condition: \"The failure occurs for all inputs of the form `(<expr> * <expr>)`."
   ]
  },
  {
   "cell_type": "code",
   "execution_count": 1,
   "metadata": {
    "execution": {
     "iopub.execute_input": "2021-10-13T11:34:01.047734Z",
     "iopub.status.busy": "2021-10-13T11:34:01.046823Z",
     "iopub.status.idle": "2021-10-13T11:34:01.135595Z",
     "shell.execute_reply": "2021-10-13T11:34:01.136194Z"
    },
    "slideshow": {
     "slide_type": "skip"
    }
   },
   "outputs": [
    {
     "data": {
      "text/html": [
       "\n",
       "        <iframe\n",
       "            width=\"640\"\n",
       "            height=\"360\"\n",
       "            src=\"https://www.youtube-nocookie.com/embed/PV22XtIQU1s\"\n",
       "            frameborder=\"0\"\n",
       "            allowfullscreen\n",
       "            \n",
       "        ></iframe>\n",
       "        "
      ],
      "text/plain": [
       "<IPython.lib.display.IFrame at 0x10d4623a0>"
      ]
     },
     "execution_count": 1,
     "metadata": {},
     "output_type": "execute_result"
    }
   ],
   "source": [
    "from bookutils import YouTubeVideo\n",
    "YouTubeVideo(\"PV22XtIQU1s\")"
   ]
  },
  {
   "cell_type": "markdown",
   "metadata": {
    "button": false,
    "new_sheet": false,
    "run_control": {
     "read_only": false
    },
    "slideshow": {
     "slide_type": "subslide"
    }
   },
   "source": [
    "**Prerequisites**\n",
    "\n",
    "* You should have read the [chapter on _delta debugging_](DeltaDebugger.ipynb)."
   ]
  },
  {
   "cell_type": "code",
   "execution_count": 2,
   "metadata": {
    "button": false,
    "execution": {
     "iopub.execute_input": "2021-10-13T11:34:01.140062Z",
     "iopub.status.busy": "2021-10-13T11:34:01.139552Z",
     "iopub.status.idle": "2021-10-13T11:34:01.142066Z",
     "shell.execute_reply": "2021-10-13T11:34:01.141627Z"
    },
    "new_sheet": false,
    "run_control": {
     "read_only": false
    },
    "slideshow": {
     "slide_type": "skip"
    }
   },
   "outputs": [],
   "source": [
    "import bookutils"
   ]
  },
  {
   "cell_type": "code",
   "execution_count": 3,
   "metadata": {
    "execution": {
     "iopub.execute_input": "2021-10-13T11:34:01.145313Z",
     "iopub.status.busy": "2021-10-13T11:34:01.144675Z",
     "iopub.status.idle": "2021-10-13T11:34:02.769458Z",
     "shell.execute_reply": "2021-10-13T11:34:02.768999Z"
    },
    "slideshow": {
     "slide_type": "skip"
    }
   },
   "outputs": [],
   "source": [
    "import DeltaDebugger"
   ]
  },
  {
   "cell_type": "markdown",
   "metadata": {
    "slideshow": {
     "slide_type": "skip"
    }
   },
   "source": [
    "## Synopsis\n",
    "<!-- Automatically generated. Do not edit. -->\n",
    "\n",
    "To [use the code provided in this chapter](Importing.ipynb), write\n",
    "\n",
    "```python\n",
    ">>> from debuggingbook.DDSetDebugger import <identifier>\n",
    "```\n",
    "\n",
    "and then make use of the following features.\n",
    "\n",
    "\n",
    "This chapter provides a class `DDSetDebugger`, implementing the DDSET algorithm for generalizing failure-inducing inputs. The `DDSetDebugger` is used as follows:\n",
    "\n",
    "```python\n",
    "with DDSetDebugger(grammar) as dd:\n",
    "    function(args...)\n",
    "dd\n",
    "```\n",
    "\n",
    "Here, `function(args...)` is a failing function call (= raises an execption) that takes at least one string argument; `grammar` is an [input grammar in fuzzingbook format](https://www.fuzzingbook.org/html/Grammars.html) that matches the format of this argument.\n",
    "\n",
    "The result is a call of `function()` with an _abstract failure-inducing input_ – a variant of the conrete input in which parts are replaced by placeholders in the form `<name>`, where `<name>` is a nonterminal in the grammar. The failure has been verified to occur for a number of instantiations of `<name>`.\n",
    "\n",
    "Here is an example of how `DDSetDebugger` works. The concrete failing input `<foo>\"bar</foo>` is generalized to an _abstract failure-inducing input_:\n",
    "\n",
    "```python\n",
    ">>> with DDSetDebugger(SIMPLE_HTML_GRAMMAR) as dd:\n",
    ">>>     remove_html_markup('<foo>\"bar</foo>')\n",
    ">>> dd\n",
    "remove_html_markup(s='<lt><id><gt>\"<plain-text><closing-tag>')\n",
    "```\n",
    "The abstract input tells us that the failure occurs for whatever opening and closing HTML tags as long as there is a double quote between them.\n",
    "\n",
    "A programmatic interface is available as well. `generalize()` returns a mapping of argument names to (generalized) values:\n",
    "\n",
    "```python\n",
    ">>> dd.generalize()\n",
    "{'s': '<lt><id><gt>\"<plain-text><closing-tag>'}\n",
    "```\n",
    "Using `fuzz()`, the abstract input can be instantiated to further concrete inputs, all set to produce the failure again:\n",
    "\n",
    "```python\n",
    ">>> for i in range(10):\n",
    ">>>     print(dd.fuzz())\n",
    "remove_html_markup(s='<s1d>\"1</hF>')\n",
    "remove_html_markup(s='<H>\"c*C</l>')\n",
    "remove_html_markup(s='<Ah2>\"</v>')\n",
    "remove_html_markup(s='<a7>\")</NP>')\n",
    "remove_html_markup(s='<boyIIt640TF>\"</b08>')\n",
    "remove_html_markup(s='<dF>\"</fay>')\n",
    "remove_html_markup(s='<l2>\"\\t7</z>')\n",
    "remove_html_markup(s='<ci>\"</t>')\n",
    "remove_html_markup(s='<J>\"2</t>')\n",
    "remove_html_markup(s='<Fo9g>\"\\r~\\t\\r</D>')\n",
    "\n",
    "```\n",
    "`DDSetDebugger` can be customized by passing a subclass of `TreeGeneralizer`, which does the gist of the work; for details, see its constructor.\n",
    "The full class hierarchy is shown below.\n",
    "\n",
    "![](PICS/DDSetDebugger-synopsis-1.svg)\n",
    "\n"
   ]
  },
  {
   "cell_type": "markdown",
   "metadata": {
    "slideshow": {
     "slide_type": "slide"
    }
   },
   "source": [
    "## A Failing Program\n",
    "\n",
    "As with previous chapters, we use `remove_html_markup()` as our ongoing example. This function is set to remove HTML markup tags (like `<em>`) from a given string `s`, returning the plain text only. We use the version from [the chapter on asssertions](Assertions.ipynb), using an assertion as postcondition checker."
   ]
  },
  {
   "cell_type": "code",
   "execution_count": 4,
   "metadata": {
    "execution": {
     "iopub.execute_input": "2021-10-13T11:34:02.774949Z",
     "iopub.status.busy": "2021-10-13T11:34:02.774399Z",
     "iopub.status.idle": "2021-10-13T11:34:02.776146Z",
     "shell.execute_reply": "2021-10-13T11:34:02.776519Z"
    },
    "slideshow": {
     "slide_type": "subslide"
    }
   },
   "outputs": [],
   "source": [
    "def remove_html_markup(s):  # type: ignore\n",
    "    tag = False\n",
    "    quote = False\n",
    "    out = \"\"\n",
    "\n",
    "    for c in s:\n",
    "        if c == '<' and not quote:\n",
    "            tag = True\n",
    "        elif c == '>' and not quote:\n",
    "            tag = False\n",
    "        elif c == '\"' or c == \"'\" and tag:\n",
    "            quote = not quote\n",
    "        elif not tag:\n",
    "            out = out + c\n",
    "\n",
    "    # postcondition\n",
    "    assert '<' not in out and '>' not in out\n",
    "\n",
    "    return out"
   ]
  },
  {
   "cell_type": "markdown",
   "metadata": {
    "slideshow": {
     "slide_type": "subslide"
    }
   },
   "source": [
    "For the most inputs, `remove_html_markup()` works just as expected:"
   ]
  },
  {
   "cell_type": "code",
   "execution_count": 5,
   "metadata": {
    "execution": {
     "iopub.execute_input": "2021-10-13T11:34:02.780134Z",
     "iopub.status.busy": "2021-10-13T11:34:02.779558Z",
     "iopub.status.idle": "2021-10-13T11:34:02.781826Z",
     "shell.execute_reply": "2021-10-13T11:34:02.782259Z"
    },
    "slideshow": {
     "slide_type": "fragment"
    }
   },
   "outputs": [
    {
     "data": {
      "text/plain": [
       "'Be quiet, he said'"
      ]
     },
     "execution_count": 5,
     "metadata": {},
     "output_type": "execute_result"
    }
   ],
   "source": [
    "remove_html_markup(\"Be <em>quiet</em>, he said\")"
   ]
  },
  {
   "cell_type": "markdown",
   "metadata": {
    "slideshow": {
     "slide_type": "fragment"
    }
   },
   "source": [
    "There are inputs, however, for which it fails:"
   ]
  },
  {
   "cell_type": "code",
   "execution_count": 6,
   "metadata": {
    "execution": {
     "iopub.execute_input": "2021-10-13T11:34:02.785146Z",
     "iopub.status.busy": "2021-10-13T11:34:02.784629Z",
     "iopub.status.idle": "2021-10-13T11:34:02.786293Z",
     "shell.execute_reply": "2021-10-13T11:34:02.786663Z"
    },
    "slideshow": {
     "slide_type": "fragment"
    }
   },
   "outputs": [],
   "source": [
    "BAD_INPUT = '<foo>\"bar</foo>'"
   ]
  },
  {
   "cell_type": "code",
   "execution_count": 7,
   "metadata": {
    "execution": {
     "iopub.execute_input": "2021-10-13T11:34:02.789424Z",
     "iopub.status.busy": "2021-10-13T11:34:02.788908Z",
     "iopub.status.idle": "2021-10-13T11:34:02.790491Z",
     "shell.execute_reply": "2021-10-13T11:34:02.790859Z"
    },
    "slideshow": {
     "slide_type": "skip"
    }
   },
   "outputs": [],
   "source": [
    "from ExpectError import ExpectError"
   ]
  },
  {
   "cell_type": "code",
   "execution_count": 8,
   "metadata": {
    "execution": {
     "iopub.execute_input": "2021-10-13T11:34:02.793864Z",
     "iopub.status.busy": "2021-10-13T11:34:02.793280Z",
     "iopub.status.idle": "2021-10-13T11:34:02.795739Z",
     "shell.execute_reply": "2021-10-13T11:34:02.796110Z"
    },
    "slideshow": {
     "slide_type": "fragment"
    }
   },
   "outputs": [
    {
     "name": "stderr",
     "output_type": "stream",
     "text": [
      "Traceback (most recent call last):\n",
      "  File \"/var/folders/n2/xd9445p97rb3xh7m1dfx8_4h0006ts/T/ipykernel_58133/3787550988.py\", line 2, in <module>\n",
      "    remove_html_markup(BAD_INPUT)\n",
      "  File \"/var/folders/n2/xd9445p97rb3xh7m1dfx8_4h0006ts/T/ipykernel_58133/2717035104.py\", line 17, in remove_html_markup\n",
      "    assert '<' not in out and '>' not in out\n",
      "AssertionError (expected)\n"
     ]
    }
   ],
   "source": [
    "with ExpectError(AssertionError):\n",
    "    remove_html_markup(BAD_INPUT)"
   ]
  },
  {
   "cell_type": "code",
   "execution_count": 9,
   "metadata": {
    "execution": {
     "iopub.execute_input": "2021-10-13T11:34:02.799138Z",
     "iopub.status.busy": "2021-10-13T11:34:02.798616Z",
     "iopub.status.idle": "2021-10-13T11:34:02.800232Z",
     "shell.execute_reply": "2021-10-13T11:34:02.800607Z"
    },
    "slideshow": {
     "slide_type": "skip"
    }
   },
   "outputs": [],
   "source": [
    "from bookutils import quiz"
   ]
  },
  {
   "cell_type": "markdown",
   "metadata": {
    "slideshow": {
     "slide_type": "subslide"
    }
   },
   "source": [
    "In contrast to the other chapters, our aim now is not to immediately go and debug `remove_html_markup()`. Instead, we focus on another important question: \n",
    "\n",
    "> Under which conditions precisely does `remove_html_markup()` fail?"
   ]
  },
  {
   "cell_type": "markdown",
   "metadata": {
    "slideshow": {
     "slide_type": "fragment"
    }
   },
   "source": [
    "This question can be generalized to\n",
    "\n",
    "> What is the set of inputs for which `remove_html_markup()` fails?"
   ]
  },
  {
   "cell_type": "markdown",
   "metadata": {
    "slideshow": {
     "slide_type": "subslide"
    }
   },
   "source": [
    "Our plan for this is to _generalize_ concrete inputs (such as `BAD_INPUTS`) into an *abstract failure-inducing inputs*. These are patterns formed from a concrete input, but in which specific _placeholders_ indicate sets of inputs that are permitted. In the abstract failure-inducing input\n",
    "\n",
    "```html\n",
    "<opening-tag>\"bar<closing-tag>\n",
    "```\n",
    "\n",
    "for instance, `<opening-tag>` and `<closing-tag>` are placeholders for opening and closing HTML tags, respectively. The pattern indicates that any opening HTML tag and closing HTML tag can be present in the input, as long as the enclosed text reads `\"bar`."
   ]
  },
  {
   "cell_type": "markdown",
   "metadata": {
    "slideshow": {
     "slide_type": "subslide"
    }
   },
   "source": [
    "Given a concrete failure-inducing input, our aim is to _generalize_ it as much as possible to such an abstract failure-inducing input. The resulting pattern should then\n",
    "\n",
    "* capture the _circumstances_ under which the program fails;\n",
    "* allow for _test generation_ by instantiating the placeholders;\n",
    "* help ensuring our fix is as _general as possible_."
   ]
  },
  {
   "cell_type": "code",
   "execution_count": 10,
   "metadata": {
    "execution": {
     "iopub.execute_input": "2021-10-13T11:34:02.809179Z",
     "iopub.status.busy": "2021-10-13T11:34:02.808481Z",
     "iopub.status.idle": "2021-10-13T11:34:02.811160Z",
     "shell.execute_reply": "2021-10-13T11:34:02.811534Z"
    },
    "slideshow": {
     "slide_type": "subslide"
    }
   },
   "outputs": [
    {
     "data": {
      "text/html": [
       "\n",
       "    \n",
       "    <script>\n",
       "    var bad_answers = new Map();\n",
       "\n",
       "    function answer(quiz_id) {\n",
       "        ans = 0;\n",
       "        for (i = 1;; i++) {\n",
       "            checkbox = document.getElementById(quiz_id + \"-\" + i.toString());\n",
       "            if (!checkbox)\n",
       "                break;\n",
       "            if (checkbox.checked)\n",
       "                ans |= (1 << i);\n",
       "        }\n",
       "        return ans;\n",
       "    }\n",
       "    function check_selection(quiz_id, correct_answer, multiple_choice, hint) {\n",
       "        given_answer = answer(quiz_id);\n",
       "        if (given_answer == correct_answer)\n",
       "        {\n",
       "            document.getElementById(quiz_id + \"-submit\").value = \"Correct!\";\n",
       "            document.getElementById(quiz_id + \"-hint\").innerHTML = \"\";\n",
       "\n",
       "            for (i = 1;; i++) {\n",
       "                checkbox = document.getElementById(quiz_id + \"-\" + i.toString());\n",
       "                label = document.getElementById(quiz_id + \"-\" + i.toString() + \"-label\")\n",
       "                if (!checkbox)\n",
       "                    break;\n",
       "    \n",
       "                if (checkbox.checked) {\n",
       "                    label.style.fontWeight = \"bold\";\n",
       "                }\n",
       "                else {\n",
       "                    label.style.textDecoration = \"line-through\";\n",
       "                }\n",
       "            }\n",
       "        }\n",
       "        else \n",
       "        {\n",
       "            document.getElementById(quiz_id + \"-submit\").value = \"Try again\";\n",
       "            \n",
       "            if (!bad_answers.has(quiz_id)) {\n",
       "                bad_answers.set(quiz_id, 1);\n",
       "            }\n",
       "            else {\n",
       "                bad_answers.set(quiz_id, bad_answers.get(quiz_id) + 1);\n",
       "            }\n",
       "\n",
       "            if (bad_answers.get(quiz_id) >= 2 && hint.length > 0) {\n",
       "                document.getElementById(quiz_id + \"-hint\").innerHTML = \n",
       "                    \"&nbsp;&nbsp;(Hint: <code>\" + hint + \"</code>)\";\n",
       "            }\n",
       "\n",
       "            if (!multiple_choice) {\n",
       "                for (i = 1;; i++) {\n",
       "                    checkbox = document.getElementById(quiz_id + \"-\" + i.toString());\n",
       "                    label = document.getElementById(quiz_id + \"-\" + i.toString() + \"-label\")\n",
       "\n",
       "                    if (!checkbox)\n",
       "                        break;\n",
       "                    if (checkbox.checked) {\n",
       "                        label.style.textDecoration = \"line-through\";\n",
       "                    }\n",
       "                }\n",
       "            }\n",
       "        }\n",
       "    }\n",
       "    function clear_selection(quiz_id) {\n",
       "        document.getElementById(quiz_id + \"-submit\").value = \"Submit\";\n",
       "        document.getElementById(quiz_id + \"-hint\").innerHTML = \"\";\n",
       "    }\n",
       "    </script>\n",
       "    \n",
       "    <div class=\"quiz\">\n",
       "    <h3 class=\"quiz_title\">Quiz</h3>\n",
       "    <p>\n",
       "    <div class=\"quiz_question\">If <code>s = '&lt;foo&gt;\"bar&lt;/foo&gt;'</code> (i.e., <code>BAD_INPUT</code>), what is the value of <code>out</code> such that the assertion fails?</div>\n",
       "    </p>\n",
       "    <p>\n",
       "    <div class=\"quiz_options\" title=\"Pick a choice.\">\n",
       "    \n",
       "        <input type=\"radio\" name=\"773e7498-2c19-11ec-86d0-acde48001122\" id=\"773e7498-2c19-11ec-86d0-acde48001122-1\" onclick=\"clear_selection('773e7498-2c19-11ec-86d0-acde48001122')\">\n",
       "        <label id=\"773e7498-2c19-11ec-86d0-acde48001122-1-label\" for=\"773e7498-2c19-11ec-86d0-acde48001122-1\"><code>bar</code></label><br>\n",
       "    \n",
       "        <input type=\"radio\" name=\"773e7498-2c19-11ec-86d0-acde48001122\" id=\"773e7498-2c19-11ec-86d0-acde48001122-2\" onclick=\"clear_selection('773e7498-2c19-11ec-86d0-acde48001122')\">\n",
       "        <label id=\"773e7498-2c19-11ec-86d0-acde48001122-2-label\" for=\"773e7498-2c19-11ec-86d0-acde48001122-2\"><code>bar&lt;/foo&gt;</code></label><br>\n",
       "    \n",
       "        <input type=\"radio\" name=\"773e7498-2c19-11ec-86d0-acde48001122\" id=\"773e7498-2c19-11ec-86d0-acde48001122-3\" onclick=\"clear_selection('773e7498-2c19-11ec-86d0-acde48001122')\">\n",
       "        <label id=\"773e7498-2c19-11ec-86d0-acde48001122-3-label\" for=\"773e7498-2c19-11ec-86d0-acde48001122-3\"><code>\"bar&lt;/foo&gt;</code></label><br>\n",
       "    \n",
       "        <input type=\"radio\" name=\"773e7498-2c19-11ec-86d0-acde48001122\" id=\"773e7498-2c19-11ec-86d0-acde48001122-4\" onclick=\"clear_selection('773e7498-2c19-11ec-86d0-acde48001122')\">\n",
       "        <label id=\"773e7498-2c19-11ec-86d0-acde48001122-4-label\" for=\"773e7498-2c19-11ec-86d0-acde48001122-4\"><code>&lt;foo&gt;\"bar&lt;/foo&gt;</code></label><br>\n",
       "    \n",
       "    </div>\n",
       "    </p>\n",
       "    <input id=\"773e7498-2c19-11ec-86d0-acde48001122-submit\" type=\"submit\" value=\"Submit\" onclick=\"check_selection('773e7498-2c19-11ec-86d0-acde48001122', 4, 0, '9999999 // 4999999')\">\n",
       "    <span class=\"quiz_hint\" id=\"773e7498-2c19-11ec-86d0-acde48001122-hint\"></span>\n",
       "    </div>\n",
       "    "
      ],
      "text/plain": [
       "<IPython.core.display.HTML object>"
      ]
     },
     "execution_count": 10,
     "metadata": {},
     "output_type": "execute_result"
    }
   ],
   "source": [
    "quiz(\"If `s = '<foo>\\\"bar</foo>'` (i.e., `BAD_INPUT`), \"\n",
    "     \"what is the value of `out` such that the assertion fails?\",\n",
    "    [\n",
    "        '`bar`',\n",
    "        '`bar</foo>`',\n",
    "        '`\"bar</foo>`',\n",
    "        '`<foo>\"bar</foo>`',\n",
    "    ], '9999999 // 4999999')"
   ]
  },
  {
   "cell_type": "markdown",
   "metadata": {
    "slideshow": {
     "slide_type": "slide"
    }
   },
   "source": [
    "## Grammars\n",
    "\n",
    "To determine abstract failure-inducing inputs, we need means to determine and characterize _sets of inputs_ – known in computer science as _languages_. To formally describe languages, the field of *formal languages* has devised a number of *language specifications* that describe a language.  *Regular expressions* represent the simplest class of these languages to denote sets of strings: The regular expression `[a-z]*`, for instance, denotes a (possibly empty) sequence of lowercase letters.  *Automata theory* connects these languages to automata that accept these inputs; *finite state machines*, for instance, can be used to specify the language of regular expressions."
   ]
  },
  {
   "cell_type": "markdown",
   "metadata": {
    "slideshow": {
     "slide_type": "subslide"
    }
   },
   "source": [
    "Regular expressions are great for not-too-complex input formats, and the associated finite state machines have many properties that make them great for reasoning.  To specify more complex inputs, though, they quickly encounter limitations.  At the other end of the language spectrum, we have *universal grammars* that denote the language accepted by *Turing machines*.  A Turing machine can compute anything that can be computed; and with Python being Turing-complete, this means that we can also use a Python program $p$ to specify or even enumerate legal inputs. But then, computer science theory also tells us that each such program has to be written specifically for the input to be considered, which is not the level of automation we want."
   ]
  },
  {
   "cell_type": "markdown",
   "metadata": {
    "slideshow": {
     "slide_type": "subslide"
    }
   },
   "source": [
    "The middle ground between regular expressions and Turing machines is covered by *grammars*.  Grammars are among the most popular (and best understood) formalisms to formally specify input languages.  Using a grammar, one can express a wide range of the properties of an input language.  Grammars are particularly great for expressing the *syntactical structure* of an input, and are the formalism of choice to express nested or recursive inputs.  The grammars we use are so-called *context-free grammars*, one of the easiest and most popular grammar formalisms."
   ]
  },
  {
   "cell_type": "markdown",
   "metadata": {
    "slideshow": {
     "slide_type": "fragment"
    }
   },
   "source": [
    "A grammar is defined as a mapping of _nonterminal_ symbols (denoted in `<angle brackets>` to lists of alternative _expansions_, which are strings containing _terminal_ symbols and possibly more _nonterminal_ symbols. To make the writing of grammars as simple as possible, we adopt the [fuzzingbook](https://www.fuzzingbook.org/) format that is based on strings and lists."
   ]
  },
  {
   "cell_type": "code",
   "execution_count": 11,
   "metadata": {
    "execution": {
     "iopub.execute_input": "2021-10-13T11:34:02.814839Z",
     "iopub.status.busy": "2021-10-13T11:34:02.814270Z",
     "iopub.status.idle": "2021-10-13T11:34:02.816400Z",
     "shell.execute_reply": "2021-10-13T11:34:02.816776Z"
    },
    "slideshow": {
     "slide_type": "skip"
    }
   },
   "outputs": [],
   "source": [
    "import fuzzingbook"
   ]
  },
  {
   "cell_type": "markdown",
   "metadata": {
    "slideshow": {
     "slide_type": "subslide"
    }
   },
   "source": [
    "Fuzzingbook grammars take the format of a _mapping_ between symbol names and expansions, where expansions are _lists_ of alternatives."
   ]
  },
  {
   "cell_type": "code",
   "execution_count": 12,
   "metadata": {
    "execution": {
     "iopub.execute_input": "2021-10-13T11:34:02.820039Z",
     "iopub.status.busy": "2021-10-13T11:34:02.819502Z",
     "iopub.status.idle": "2021-10-13T11:34:02.821281Z",
     "shell.execute_reply": "2021-10-13T11:34:02.821724Z"
    },
    "slideshow": {
     "slide_type": "fragment"
    }
   },
   "outputs": [],
   "source": [
    "# ignore\n",
    "from typing import Any, Callable, Optional, Type, Tuple\n",
    "from typing import Dict, Union, List, cast, Generator"
   ]
  },
  {
   "cell_type": "code",
   "execution_count": 13,
   "metadata": {
    "execution": {
     "iopub.execute_input": "2021-10-13T11:34:02.825088Z",
     "iopub.status.busy": "2021-10-13T11:34:02.824569Z",
     "iopub.status.idle": "2021-10-13T11:34:02.826198Z",
     "shell.execute_reply": "2021-10-13T11:34:02.826639Z"
    },
    "slideshow": {
     "slide_type": "fragment"
    }
   },
   "outputs": [],
   "source": [
    "Grammar = Dict[str,  # A grammar maps strings...\n",
    "               List[\n",
    "                   Union[str,  # to list of strings...\n",
    "                         Tuple[str, Dict[str, Any]]  # or to pairs of strings and attributes.\n",
    "                        ]\n",
    "               ]\n",
    "              ]"
   ]
  },
  {
   "cell_type": "markdown",
   "metadata": {
    "slideshow": {
     "slide_type": "fragment"
    }
   },
   "source": [
    "A one-rule grammar for digits thus takes the form"
   ]
  },
  {
   "cell_type": "code",
   "execution_count": 14,
   "metadata": {
    "execution": {
     "iopub.execute_input": "2021-10-13T11:34:02.829899Z",
     "iopub.status.busy": "2021-10-13T11:34:02.829344Z",
     "iopub.status.idle": "2021-10-13T11:34:02.830848Z",
     "shell.execute_reply": "2021-10-13T11:34:02.831300Z"
    },
    "slideshow": {
     "slide_type": "subslide"
    }
   },
   "outputs": [],
   "source": [
    "DIGIT_GRAMMAR: Grammar = {\n",
    "    \"<start>\":\n",
    "        [\"0\", \"1\", \"2\", \"3\", \"4\", \"5\", \"6\", \"7\", \"8\", \"9\"]\n",
    "}"
   ]
  },
  {
   "cell_type": "markdown",
   "metadata": {
    "slideshow": {
     "slide_type": "fragment"
    }
   },
   "source": [
    "which means that the `<start>` symbol can be expanded into any of the digits listed."
   ]
  },
  {
   "cell_type": "markdown",
   "metadata": {
    "slideshow": {
     "slide_type": "fragment"
    }
   },
   "source": [
    "A full grammar for arithmetic expressions looks like this:"
   ]
  },
  {
   "cell_type": "code",
   "execution_count": 15,
   "metadata": {
    "execution": {
     "iopub.execute_input": "2021-10-13T11:34:02.835424Z",
     "iopub.status.busy": "2021-10-13T11:34:02.834890Z",
     "iopub.status.idle": "2021-10-13T11:34:02.836518Z",
     "shell.execute_reply": "2021-10-13T11:34:02.836949Z"
    },
    "slideshow": {
     "slide_type": "subslide"
    }
   },
   "outputs": [],
   "source": [
    "EXPR_GRAMMAR: Grammar = {\n",
    "    \"<start>\":\n",
    "        [\"<expr>\"],\n",
    "\n",
    "    \"<expr>\":\n",
    "        [\"<term> + <expr>\", \"<term> - <expr>\", \"<term>\"],\n",
    "\n",
    "    \"<term>\":\n",
    "        [\"<factor> * <term>\", \"<factor> / <term>\", \"<factor>\"],\n",
    "\n",
    "    \"<factor>\":\n",
    "        [\"+<factor>\",\n",
    "         \"-<factor>\",\n",
    "         \"(<expr>)\",\n",
    "         \"<integer>.<integer>\",\n",
    "         \"<integer>\"],\n",
    "\n",
    "    \"<integer>\":\n",
    "        [\"<digit><integer>\", \"<digit>\"],\n",
    "\n",
    "    \"<digit>\":\n",
    "        [\"0\", \"1\", \"2\", \"3\", \"4\", \"5\", \"6\", \"7\", \"8\", \"9\"]\n",
    "}"
   ]
  },
  {
   "cell_type": "markdown",
   "metadata": {
    "slideshow": {
     "slide_type": "subslide"
    }
   },
   "source": [
    "From such a grammar, one can easily generate inputs that conform to the grammar."
   ]
  },
  {
   "cell_type": "code",
   "execution_count": 16,
   "metadata": {
    "execution": {
     "iopub.execute_input": "2021-10-13T11:34:02.839947Z",
     "iopub.status.busy": "2021-10-13T11:34:02.839448Z",
     "iopub.status.idle": "2021-10-13T11:34:02.848801Z",
     "shell.execute_reply": "2021-10-13T11:34:02.849259Z"
    },
    "slideshow": {
     "slide_type": "skip"
    }
   },
   "outputs": [],
   "source": [
    "from fuzzingbook.GrammarFuzzer import GrammarFuzzer"
   ]
  },
  {
   "cell_type": "code",
   "execution_count": 17,
   "metadata": {
    "execution": {
     "iopub.execute_input": "2021-10-13T11:34:02.853512Z",
     "iopub.status.busy": "2021-10-13T11:34:02.852824Z",
     "iopub.status.idle": "2021-10-13T11:34:02.855133Z",
     "shell.execute_reply": "2021-10-13T11:34:02.854581Z"
    },
    "slideshow": {
     "slide_type": "fragment"
    }
   },
   "outputs": [],
   "source": [
    "simple_expr_fuzzer = GrammarFuzzer(EXPR_GRAMMAR)"
   ]
  },
  {
   "cell_type": "code",
   "execution_count": 18,
   "metadata": {
    "execution": {
     "iopub.execute_input": "2021-10-13T11:34:02.879955Z",
     "iopub.status.busy": "2021-10-13T11:34:02.863561Z",
     "iopub.status.idle": "2021-10-13T11:34:02.941625Z",
     "shell.execute_reply": "2021-10-13T11:34:02.941995Z"
    },
    "slideshow": {
     "slide_type": "subslide"
    }
   },
   "outputs": [
    {
     "name": "stdout",
     "output_type": "stream",
     "text": [
      "3.8 + --62.912 - ++4 - +5 * 3.0 * 4\n",
      "7 * (75.5 - -6 + 5 - 4) + -(8 - 1) / 5 * 2\n",
      "(-(9) * +6 + 9 / 3 * 8 - 9 * 8 / 7) / -+-65\n",
      "(9 + 8) * 2 * (6 + 6 + 9) * 0 * 1.9 * 0\n",
      "(1 * 7 - 9 + 5) * 5 / 0 * 5 + 7 * 5 * 7\n",
      "-(6 / 9 - 5 - 3 - 1) - -1 / +1 + (9) / (8) * 6\n",
      "(+-(0 - (1) * 7 / 3)) / ((1 * 3 + 8) + 9 - +1 / --0) - 5 * (-+939.491)\n",
      "+2.9 * 0 / 501.19814 / --+--(6.05002)\n",
      "+-8.8 / (1) * -+1 + -8 + 9 - 3 / 8 * 6 + 4 * 3 * 5\n",
      "(+(8 / 9 - 1 - 7)) + ---06.30 / +4.39\n"
     ]
    }
   ],
   "source": [
    "for i in range(10):\n",
    "    fuzz_expr = simple_expr_fuzzer.fuzz()\n",
    "    print(fuzz_expr)"
   ]
  },
  {
   "cell_type": "markdown",
   "metadata": {
    "slideshow": {
     "slide_type": "subslide"
    }
   },
   "source": [
    "Nonterminals as found in the grammar make natural _placeholders_ in abstract failure-inducing inputs. If we know, for instance, that it is not just the concrete failure-inducing input\n",
    "\n",
    "```python\n",
    "(2 * 3)\n",
    "```\n",
    "\n",
    "but the abstract failure-inducing input\n",
    "\n",
    "```html\n",
    "(<expr> * <expr>)\n",
    "```\n",
    "\n",
    "that causes the failure, we immediately see that the error is due to the multiplication operator rather than its operands."
   ]
  },
  {
   "cell_type": "markdown",
   "metadata": {
    "slideshow": {
     "slide_type": "subslide"
    }
   },
   "source": [
    "Coming back to our `remove_html_markup()` example, let us create a simple grammar for HTML expressions. A `<html>` element is either plain text or tagged text."
   ]
  },
  {
   "cell_type": "code",
   "execution_count": 19,
   "metadata": {
    "button": false,
    "execution": {
     "iopub.execute_input": "2021-10-13T11:34:02.945623Z",
     "iopub.status.busy": "2021-10-13T11:34:02.945114Z",
     "iopub.status.idle": "2021-10-13T11:34:02.946836Z",
     "shell.execute_reply": "2021-10-13T11:34:02.947205Z"
    },
    "new_sheet": false,
    "run_control": {
     "read_only": false
    },
    "slideshow": {
     "slide_type": "subslide"
    }
   },
   "outputs": [],
   "source": [
    "SIMPLE_HTML_GRAMMAR: Grammar = {\n",
    "    \"<start>\":\n",
    "        [\"<html>\"],\n",
    "\n",
    "    \"<html>\":\n",
    "        [\"<plain-text>\", \"<tagged-text>\"],\n",
    "}"
   ]
  },
  {
   "cell_type": "markdown",
   "metadata": {
    "slideshow": {
     "slide_type": "fragment"
    }
   },
   "source": [
    "Plain text is a simple (possibly empty) sequence of letter, digits, punctuation, and whitespace. (Note how `<plain-text>` is either empty or some character followed by more plain text.) The characters `<` and `>` are not allowed, though."
   ]
  },
  {
   "cell_type": "code",
   "execution_count": 20,
   "metadata": {
    "execution": {
     "iopub.execute_input": "2021-10-13T11:34:02.950327Z",
     "iopub.status.busy": "2021-10-13T11:34:02.949805Z",
     "iopub.status.idle": "2021-10-13T11:34:02.951330Z",
     "shell.execute_reply": "2021-10-13T11:34:02.951765Z"
    },
    "slideshow": {
     "slide_type": "skip"
    }
   },
   "outputs": [],
   "source": [
    "import string"
   ]
  },
  {
   "cell_type": "code",
   "execution_count": 21,
   "metadata": {
    "button": false,
    "execution": {
     "iopub.execute_input": "2021-10-13T11:34:02.955463Z",
     "iopub.status.busy": "2021-10-13T11:34:02.954946Z",
     "iopub.status.idle": "2021-10-13T11:34:02.956609Z",
     "shell.execute_reply": "2021-10-13T11:34:02.956982Z"
    },
    "new_sheet": false,
    "run_control": {
     "read_only": false
    },
    "slideshow": {
     "slide_type": "subslide"
    }
   },
   "outputs": [],
   "source": [
    "SIMPLE_HTML_GRAMMAR.update({\n",
    "    \"<plain-text>\":\n",
    "        [\"\", \"<plain-char><plain-text>\"],\n",
    "\n",
    "    \"<plain-char>\":\n",
    "        [\"<letter>\", \"<digit>\", \"<other>\", \"<whitespace>\"],\n",
    "\n",
    "    \"<letter>\": list(string.ascii_letters),\n",
    "    \"<digit>\": list(string.digits),\n",
    "    \"<other>\": list(string.punctuation.replace('<', '').replace('>', '')),\n",
    "    \"<whitespace>\": list(string.whitespace)\n",
    "})"
   ]
  },
  {
   "cell_type": "markdown",
   "metadata": {
    "slideshow": {
     "slide_type": "subslide"
    }
   },
   "source": [
    "Tagged text is a bit more complicated. We have opening tags `<foo>`, followed by some more HTML material, and then closed by a closing tag `</foo>`. (We do not insist that the two tags match.) A self-closing tag has the form `<br/>`. For compatibility reasons, we also allow just opening tags without closing tags, as in `<img>`."
   ]
  },
  {
   "cell_type": "code",
   "execution_count": 22,
   "metadata": {
    "button": false,
    "execution": {
     "iopub.execute_input": "2021-10-13T11:34:02.960021Z",
     "iopub.status.busy": "2021-10-13T11:34:02.959498Z",
     "iopub.status.idle": "2021-10-13T11:34:02.961127Z",
     "shell.execute_reply": "2021-10-13T11:34:02.961497Z"
    },
    "new_sheet": false,
    "run_control": {
     "read_only": false
    },
    "slideshow": {
     "slide_type": "subslide"
    }
   },
   "outputs": [],
   "source": [
    "SIMPLE_HTML_GRAMMAR.update({\n",
    "    \"<tagged-text>\":\n",
    "        [\"<opening-tag><html><closing-tag>\",\n",
    "         \"<self-closing-tag>\",\n",
    "         \"<opening-tag>\"],\n",
    "})"
   ]
  },
  {
   "cell_type": "markdown",
   "metadata": {
    "slideshow": {
     "slide_type": "fragment"
    }
   },
   "source": [
    "Since the characters `<` and `>` are already reserved for denoting nonterminal symbols, we use the special nonterminal symbols `<lt>` and `<gt>` that expand into `<` and `>`, respectively,"
   ]
  },
  {
   "cell_type": "code",
   "execution_count": 23,
   "metadata": {
    "button": false,
    "execution": {
     "iopub.execute_input": "2021-10-13T11:34:02.965081Z",
     "iopub.status.busy": "2021-10-13T11:34:02.964557Z",
     "iopub.status.idle": "2021-10-13T11:34:02.966008Z",
     "shell.execute_reply": "2021-10-13T11:34:02.966527Z"
    },
    "new_sheet": false,
    "run_control": {
     "read_only": false
    },
    "slideshow": {
     "slide_type": "subslide"
    }
   },
   "outputs": [],
   "source": [
    "SIMPLE_HTML_GRAMMAR.update({\n",
    "    \"<opening-tag>\":\n",
    "        [\"<lt><id><gt>\",\n",
    "         \"<lt><id><attrs><gt>\"],\n",
    "\n",
    "    \"<lt>\": [\"<\"],\n",
    "    \"<gt>\": [\">\"],\n",
    "\n",
    "    \"<id>\":\n",
    "        [\"<letter>\", \"<id><letter>\", \"<id><digit>\"],\n",
    "\n",
    "    \"<closing-tag>\":\n",
    "        [\"<lt>/<id><gt>\"],\n",
    "\n",
    "    \"<self-closing-tag>\":\n",
    "        [\"<lt><id><attrs>/<gt>\"],\n",
    "})"
   ]
  },
  {
   "cell_type": "markdown",
   "metadata": {
    "slideshow": {
     "slide_type": "subslide"
    }
   },
   "source": [
    "Finally, HTML tags can have attributes, which are enclosed in quotes."
   ]
  },
  {
   "cell_type": "code",
   "execution_count": 24,
   "metadata": {
    "button": false,
    "execution": {
     "iopub.execute_input": "2021-10-13T11:34:02.969623Z",
     "iopub.status.busy": "2021-10-13T11:34:02.969111Z",
     "iopub.status.idle": "2021-10-13T11:34:02.970842Z",
     "shell.execute_reply": "2021-10-13T11:34:02.971212Z"
    },
    "new_sheet": false,
    "run_control": {
     "read_only": false
    },
    "slideshow": {
     "slide_type": "subslide"
    }
   },
   "outputs": [],
   "source": [
    "SIMPLE_HTML_GRAMMAR.update({\n",
    "    \"<attrs>\":\n",
    "        [\"<attr>\", \"<attr><attrs>\" ],\n",
    "\n",
    "    \"<attr>\":\n",
    "        [\" <id>='<plain-text>'\",\n",
    "         ' <id>=\"<plain-text>\"'],\n",
    "})"
   ]
  },
  {
   "cell_type": "markdown",
   "metadata": {
    "slideshow": {
     "slide_type": "fragment"
    }
   },
   "source": [
    "Again, we can generate inputs from the grammar."
   ]
  },
  {
   "cell_type": "code",
   "execution_count": 25,
   "metadata": {
    "execution": {
     "iopub.execute_input": "2021-10-13T11:34:02.974583Z",
     "iopub.status.busy": "2021-10-13T11:34:02.974069Z",
     "iopub.status.idle": "2021-10-13T11:34:02.975757Z",
     "shell.execute_reply": "2021-10-13T11:34:02.976122Z"
    },
    "slideshow": {
     "slide_type": "fragment"
    }
   },
   "outputs": [],
   "source": [
    "simple_html_fuzzer = GrammarFuzzer(SIMPLE_HTML_GRAMMAR)"
   ]
  },
  {
   "cell_type": "code",
   "execution_count": 26,
   "metadata": {
    "execution": {
     "iopub.execute_input": "2021-10-13T11:34:02.992976Z",
     "iopub.status.busy": "2021-10-13T11:34:02.979934Z",
     "iopub.status.idle": "2021-10-13T11:34:03.017774Z",
     "shell.execute_reply": "2021-10-13T11:34:03.018142Z"
    },
    "slideshow": {
     "slide_type": "subslide"
    }
   },
   "outputs": [
    {
     "name": "stdout",
     "output_type": "stream",
     "text": [
      "'<T3 xG=\"\">'\n",
      "'<N9cd U=\\'\\' y=\\'l1\\' v0=\"\" tb4ya=\"\" UbD=\\'\\'>9</R>'\n",
      "'\\x0b'\n",
      "' ea\\\\\\\\'\n",
      "'&7'\n",
      "\"<c1 o2='' x9661lQo64T=''/>\"\n",
      "'<S4>'\n",
      "'<GMS></wAu>'\n",
      "'<j CI=\\'\\' T98sJ=\"\" DR4=\\'\\'/>'\n",
      "'<FQc90 Wt=\"\"/>'\n"
     ]
    }
   ],
   "source": [
    "for i in range(10):\n",
    "    fuzz_html = simple_html_fuzzer.fuzz()\n",
    "    print(repr(fuzz_html))"
   ]
  },
  {
   "cell_type": "markdown",
   "metadata": {
    "slideshow": {
     "slide_type": "subslide"
    }
   },
   "source": [
    "Such inputs, of course, are great for systematic testing. Our sister book, [the fuzzing book](https://www.fuzzingbook.org/), covers these and more."
   ]
  },
  {
   "cell_type": "markdown",
   "metadata": {
    "slideshow": {
     "slide_type": "slide"
    }
   },
   "source": [
    "## Derivation Trees\n",
    "\n",
    "To produce inputs from a grammar, the fuzzingbook `GrammarFuzzer` makes use of a structure called a *derivation tree* (also known as *syntax tree*). A derivation tree encodes the individual expansion steps undertaken while producing the output."
   ]
  },
  {
   "cell_type": "code",
   "execution_count": 27,
   "metadata": {
    "execution": {
     "iopub.execute_input": "2021-10-13T11:34:03.021437Z",
     "iopub.status.busy": "2021-10-13T11:34:03.020922Z",
     "iopub.status.idle": "2021-10-13T11:34:03.022845Z",
     "shell.execute_reply": "2021-10-13T11:34:03.023236Z"
    },
    "slideshow": {
     "slide_type": "fragment"
    }
   },
   "outputs": [],
   "source": [
    "DerivationTree = Tuple[str, Optional[List[Any]]]"
   ]
  },
  {
   "cell_type": "markdown",
   "metadata": {
    "slideshow": {
     "slide_type": "fragment"
    }
   },
   "source": [
    "Let us illustrate derivation trees by example, using the last HTML output we produced."
   ]
  },
  {
   "cell_type": "code",
   "execution_count": 28,
   "metadata": {
    "execution": {
     "iopub.execute_input": "2021-10-13T11:34:03.026597Z",
     "iopub.status.busy": "2021-10-13T11:34:03.026073Z",
     "iopub.status.idle": "2021-10-13T11:34:03.028406Z",
     "shell.execute_reply": "2021-10-13T11:34:03.028927Z"
    },
    "slideshow": {
     "slide_type": "fragment"
    }
   },
   "outputs": [
    {
     "data": {
      "text/plain": [
       "'<FQc90 Wt=\"\"/>'"
      ]
     },
     "execution_count": 28,
     "metadata": {},
     "output_type": "execute_result"
    }
   ],
   "source": [
    "fuzz_html"
   ]
  },
  {
   "cell_type": "markdown",
   "metadata": {
    "slideshow": {
     "slide_type": "fragment"
    }
   },
   "source": [
    "The `GrammarFuzzer` attribute `derivation_tree` holds the last tree used to produced this input. We can visualize the tree as follows:"
   ]
  },
  {
   "cell_type": "code",
   "execution_count": 29,
   "metadata": {
    "execution": {
     "iopub.execute_input": "2021-10-13T11:34:03.032199Z",
     "iopub.status.busy": "2021-10-13T11:34:03.031610Z",
     "iopub.status.idle": "2021-10-13T11:34:03.033117Z",
     "shell.execute_reply": "2021-10-13T11:34:03.033563Z"
    },
    "slideshow": {
     "slide_type": "fragment"
    }
   },
   "outputs": [],
   "source": [
    "# ignore\n",
    "from graphviz import Digraph"
   ]
  },
  {
   "cell_type": "code",
   "execution_count": 30,
   "metadata": {
    "execution": {
     "iopub.execute_input": "2021-10-13T11:34:03.039121Z",
     "iopub.status.busy": "2021-10-13T11:34:03.038560Z",
     "iopub.status.idle": "2021-10-13T11:34:03.040087Z",
     "shell.execute_reply": "2021-10-13T11:34:03.040462Z"
    },
    "slideshow": {
     "slide_type": "subslide"
    }
   },
   "outputs": [],
   "source": [
    "# ignore\n",
    "def display_tree(tree: DerivationTree) -> Digraph:\n",
    "    def graph_attr(dot: Digraph) -> None:\n",
    "        dot.attr('node', shape='box', color='white', margin='0.0,0.0')\n",
    "        dot.attr('node',\n",
    "                 fontname=\"'Fira Mono', 'Source Code Pro', 'Courier', monospace\")\n",
    "\n",
    "    def node_attr(dot: Digraph, nid: str, symbol: str, ann: str) -> None:\n",
    "        fuzzingbook.GrammarFuzzer.default_node_attr(dot, nid, symbol, ann)\n",
    "        if symbol.startswith('<'):\n",
    "            dot.node(repr(nid), fontcolor='#0060a0')\n",
    "        else:\n",
    "            dot.node(repr(nid), fontcolor='#00a060')\n",
    "        dot.node(repr(nid), scale='2')\n",
    "\n",
    "    return fuzzingbook.GrammarFuzzer.display_tree(tree,\n",
    "        node_attr=node_attr,\n",
    "        graph_attr=graph_attr)"
   ]
  },
  {
   "cell_type": "code",
   "execution_count": 31,
   "metadata": {
    "execution": {
     "iopub.execute_input": "2021-10-13T11:34:03.046121Z",
     "iopub.status.busy": "2021-10-13T11:34:03.045240Z",
     "iopub.status.idle": "2021-10-13T11:34:03.623225Z",
     "shell.execute_reply": "2021-10-13T11:34:03.623624Z"
    },
    "slideshow": {
     "slide_type": "subslide"
    }
   },
   "outputs": [
    {
     "data": {
      "image/svg+xml": [
       "<?xml version=\"1.0\" encoding=\"UTF-8\" standalone=\"no\"?>\n",
       "<!DOCTYPE svg PUBLIC \"-//W3C//DTD SVG 1.1//EN\"\n",
       " \"http://www.w3.org/Graphics/SVG/1.1/DTD/svg11.dtd\">\n",
       "<!-- Generated by graphviz version 2.49.1 (20210923.0004)\n",
       " -->\n",
       "<!-- Pages: 1 -->\n",
       "<svg width=\"787pt\" height=\"764pt\"\n",
       " viewBox=\"0.00 0.00 787.00 764.00\" xmlns=\"http://www.w3.org/2000/svg\" xmlns:xlink=\"http://www.w3.org/1999/xlink\">\n",
       "<g id=\"graph0\" class=\"graph\" transform=\"scale(1 1) rotate(0) translate(4 760)\">\n",
       "<polygon fill=\"white\" stroke=\"transparent\" points=\"-4,4 -4,-760 783,-760 783,4 -4,4\"/>\n",
       "<!-- 0 -->\n",
       "<g id=\"node1\" class=\"node\">\n",
       "<title>0</title>\n",
       "<polygon fill=\"none\" stroke=\"white\" points=\"446.5,-756 387.5,-756 387.5,-720 446.5,-720 446.5,-756\"/>\n",
       "<text text-anchor=\"middle\" x=\"417\" y=\"-734.3\" font-family=\"'Fira Mono', 'Source Code Pro', 'Courier', monospace\" font-size=\"14.00\" fill=\"#0060a0\">&lt;start&gt;</text>\n",
       "</g>\n",
       "<!-- 1 -->\n",
       "<g id=\"node2\" class=\"node\">\n",
       "<title>1</title>\n",
       "<polygon fill=\"none\" stroke=\"white\" points=\"444,-684 390,-684 390,-648 444,-648 444,-684\"/>\n",
       "<text text-anchor=\"middle\" x=\"417\" y=\"-662.3\" font-family=\"'Fira Mono', 'Source Code Pro', 'Courier', monospace\" font-size=\"14.00\" fill=\"#0060a0\">&lt;html&gt;</text>\n",
       "</g>\n",
       "<!-- 0&#45;&gt;1 -->\n",
       "<g id=\"edge1\" class=\"edge\">\n",
       "<title>0&#45;&gt;1</title>\n",
       "<path fill=\"none\" stroke=\"black\" d=\"M417,-719.7C417,-711.98 417,-702.71 417,-694.11\"/>\n",
       "<polygon fill=\"black\" stroke=\"black\" points=\"420.5,-694.1 417,-684.1 413.5,-694.1 420.5,-694.1\"/>\n",
       "</g>\n",
       "<!-- 2 -->\n",
       "<g id=\"node3\" class=\"node\">\n",
       "<title>2</title>\n",
       "<polygon fill=\"none\" stroke=\"white\" points=\"472,-612 362,-612 362,-576 472,-576 472,-612\"/>\n",
       "<text text-anchor=\"middle\" x=\"417\" y=\"-590.3\" font-family=\"'Fira Mono', 'Source Code Pro', 'Courier', monospace\" font-size=\"14.00\" fill=\"#0060a0\">&lt;tagged&#45;text&gt;</text>\n",
       "</g>\n",
       "<!-- 1&#45;&gt;2 -->\n",
       "<g id=\"edge2\" class=\"edge\">\n",
       "<title>1&#45;&gt;2</title>\n",
       "<path fill=\"none\" stroke=\"black\" d=\"M417,-647.7C417,-639.98 417,-630.71 417,-622.11\"/>\n",
       "<polygon fill=\"black\" stroke=\"black\" points=\"420.5,-622.1 417,-612.1 413.5,-622.1 420.5,-622.1\"/>\n",
       "</g>\n",
       "<!-- 3 -->\n",
       "<g id=\"node4\" class=\"node\">\n",
       "<title>3</title>\n",
       "<polygon fill=\"none\" stroke=\"white\" points=\"493,-540 341,-540 341,-504 493,-504 493,-540\"/>\n",
       "<text text-anchor=\"middle\" x=\"417\" y=\"-518.3\" font-family=\"'Fira Mono', 'Source Code Pro', 'Courier', monospace\" font-size=\"14.00\" fill=\"#0060a0\">&lt;self&#45;closing&#45;tag&gt;</text>\n",
       "</g>\n",
       "<!-- 2&#45;&gt;3 -->\n",
       "<g id=\"edge3\" class=\"edge\">\n",
       "<title>2&#45;&gt;3</title>\n",
       "<path fill=\"none\" stroke=\"black\" d=\"M417,-575.7C417,-567.98 417,-558.71 417,-550.11\"/>\n",
       "<polygon fill=\"black\" stroke=\"black\" points=\"420.5,-550.1 417,-540.1 413.5,-550.1 420.5,-550.1\"/>\n",
       "</g>\n",
       "<!-- 4 -->\n",
       "<g id=\"node5\" class=\"node\">\n",
       "<title>4</title>\n",
       "<polygon fill=\"none\" stroke=\"white\" points=\"263,-468 209,-468 209,-432 263,-432 263,-468\"/>\n",
       "<text text-anchor=\"middle\" x=\"236\" y=\"-446.3\" font-family=\"'Fira Mono', 'Source Code Pro', 'Courier', monospace\" font-size=\"14.00\" fill=\"#0060a0\">&lt;lt&gt;</text>\n",
       "</g>\n",
       "<!-- 3&#45;&gt;4 -->\n",
       "<g id=\"edge4\" class=\"edge\">\n",
       "<title>3&#45;&gt;4</title>\n",
       "<path fill=\"none\" stroke=\"black\" d=\"M372.72,-503.88C341.98,-491.98 301.5,-476.33 272.58,-465.15\"/>\n",
       "<polygon fill=\"black\" stroke=\"black\" points=\"273.84,-461.88 263.25,-461.54 271.31,-468.41 273.84,-461.88\"/>\n",
       "</g>\n",
       "<!-- 6 -->\n",
       "<g id=\"node7\" class=\"node\">\n",
       "<title>6</title>\n",
       "<polygon fill=\"none\" stroke=\"white\" points=\"369,-468 315,-468 315,-432 369,-432 369,-468\"/>\n",
       "<text text-anchor=\"middle\" x=\"342\" y=\"-446.3\" font-family=\"'Fira Mono', 'Source Code Pro', 'Courier', monospace\" font-size=\"14.00\" fill=\"#0060a0\">&lt;id&gt;</text>\n",
       "</g>\n",
       "<!-- 3&#45;&gt;6 -->\n",
       "<g id=\"edge6\" class=\"edge\">\n",
       "<title>3&#45;&gt;6</title>\n",
       "<path fill=\"none\" stroke=\"black\" d=\"M398.46,-503.7C389.2,-495.05 377.84,-484.45 367.74,-475.03\"/>\n",
       "<polygon fill=\"black\" stroke=\"black\" points=\"370.02,-472.37 360.33,-468.1 365.25,-477.49 370.02,-472.37\"/>\n",
       "</g>\n",
       "<!-- 21 -->\n",
       "<g id=\"node22\" class=\"node\">\n",
       "<title>21</title>\n",
       "<polygon fill=\"none\" stroke=\"white\" points=\"446.5,-468 387.5,-468 387.5,-432 446.5,-432 446.5,-468\"/>\n",
       "<text text-anchor=\"middle\" x=\"417\" y=\"-446.3\" font-family=\"'Fira Mono', 'Source Code Pro', 'Courier', monospace\" font-size=\"14.00\" fill=\"#0060a0\">&lt;attrs&gt;</text>\n",
       "</g>\n",
       "<!-- 3&#45;&gt;21 -->\n",
       "<g id=\"edge21\" class=\"edge\">\n",
       "<title>3&#45;&gt;21</title>\n",
       "<path fill=\"none\" stroke=\"black\" d=\"M417,-503.7C417,-495.98 417,-486.71 417,-478.11\"/>\n",
       "<polygon fill=\"black\" stroke=\"black\" points=\"420.5,-478.1 417,-468.1 413.5,-478.1 420.5,-478.1\"/>\n",
       "</g>\n",
       "<!-- 34 -->\n",
       "<g id=\"node35\" class=\"node\">\n",
       "<title>34</title>\n",
       "<polygon fill=\"none\" stroke=\"white\" points=\"519,-468 465,-468 465,-432 519,-432 519,-468\"/>\n",
       "<text text-anchor=\"middle\" x=\"492\" y=\"-446.3\" font-family=\"'Fira Mono', 'Source Code Pro', 'Courier', monospace\" font-size=\"14.00\" fill=\"#00a060\">/</text>\n",
       "</g>\n",
       "<!-- 3&#45;&gt;34 -->\n",
       "<g id=\"edge34\" class=\"edge\">\n",
       "<title>3&#45;&gt;34</title>\n",
       "<path fill=\"none\" stroke=\"black\" d=\"M435.54,-503.7C444.8,-495.05 456.16,-484.45 466.26,-475.03\"/>\n",
       "<polygon fill=\"black\" stroke=\"black\" points=\"468.75,-477.49 473.67,-468.1 463.98,-472.37 468.75,-477.49\"/>\n",
       "</g>\n",
       "<!-- 35 -->\n",
       "<g id=\"node36\" class=\"node\">\n",
       "<title>35</title>\n",
       "<polygon fill=\"none\" stroke=\"white\" points=\"591,-468 537,-468 537,-432 591,-432 591,-468\"/>\n",
       "<text text-anchor=\"middle\" x=\"564\" y=\"-446.3\" font-family=\"'Fira Mono', 'Source Code Pro', 'Courier', monospace\" font-size=\"14.00\" fill=\"#0060a0\">&lt;gt&gt;</text>\n",
       "</g>\n",
       "<!-- 3&#45;&gt;35 -->\n",
       "<g id=\"edge35\" class=\"edge\">\n",
       "<title>3&#45;&gt;35</title>\n",
       "<path fill=\"none\" stroke=\"black\" d=\"M452.96,-503.88C475.57,-493.11 504.66,-479.26 527.39,-468.43\"/>\n",
       "<polygon fill=\"black\" stroke=\"black\" points=\"529.18,-471.46 536.71,-464 526.17,-465.14 529.18,-471.46\"/>\n",
       "</g>\n",
       "<!-- 5 -->\n",
       "<g id=\"node6\" class=\"node\">\n",
       "<title>5</title>\n",
       "<polygon fill=\"none\" stroke=\"white\" points=\"224,-396 170,-396 170,-360 224,-360 224,-396\"/>\n",
       "<text text-anchor=\"middle\" x=\"197\" y=\"-374.3\" font-family=\"'Fira Mono', 'Source Code Pro', 'Courier', monospace\" font-size=\"14.00\" fill=\"#0060a0\">&lt;</text>\n",
       "</g>\n",
       "<!-- 4&#45;&gt;5 -->\n",
       "<g id=\"edge5\" class=\"edge\">\n",
       "<title>4&#45;&gt;5</title>\n",
       "<path fill=\"none\" stroke=\"black\" d=\"M226.36,-431.7C221.87,-423.64 216.44,-413.89 211.48,-404.98\"/>\n",
       "<polygon fill=\"black\" stroke=\"black\" points=\"214.45,-403.14 206.53,-396.1 208.34,-406.54 214.45,-403.14\"/>\n",
       "</g>\n",
       "<!-- 7 -->\n",
       "<g id=\"node8\" class=\"node\">\n",
       "<title>7</title>\n",
       "<polygon fill=\"none\" stroke=\"white\" points=\"296,-396 242,-396 242,-360 296,-360 296,-396\"/>\n",
       "<text text-anchor=\"middle\" x=\"269\" y=\"-374.3\" font-family=\"'Fira Mono', 'Source Code Pro', 'Courier', monospace\" font-size=\"14.00\" fill=\"#0060a0\">&lt;id&gt;</text>\n",
       "</g>\n",
       "<!-- 6&#45;&gt;7 -->\n",
       "<g id=\"edge7\" class=\"edge\">\n",
       "<title>6&#45;&gt;7</title>\n",
       "<path fill=\"none\" stroke=\"black\" d=\"M323.96,-431.7C314.94,-423.05 303.88,-412.45 294.06,-403.03\"/>\n",
       "<polygon fill=\"black\" stroke=\"black\" points=\"296.48,-400.5 286.84,-396.1 291.63,-405.55 296.48,-400.5\"/>\n",
       "</g>\n",
       "<!-- 19 -->\n",
       "<g id=\"node20\" class=\"node\">\n",
       "<title>19</title>\n",
       "<polygon fill=\"none\" stroke=\"white\" points=\"373.5,-396 314.5,-396 314.5,-360 373.5,-360 373.5,-396\"/>\n",
       "<text text-anchor=\"middle\" x=\"344\" y=\"-374.3\" font-family=\"'Fira Mono', 'Source Code Pro', 'Courier', monospace\" font-size=\"14.00\" fill=\"#0060a0\">&lt;digit&gt;</text>\n",
       "</g>\n",
       "<!-- 6&#45;&gt;19 -->\n",
       "<g id=\"edge19\" class=\"edge\">\n",
       "<title>6&#45;&gt;19</title>\n",
       "<path fill=\"none\" stroke=\"black\" d=\"M342.49,-431.7C342.71,-423.98 342.98,-414.71 343.23,-406.11\"/>\n",
       "<polygon fill=\"black\" stroke=\"black\" points=\"346.72,-406.2 343.51,-396.1 339.73,-406 346.72,-406.2\"/>\n",
       "</g>\n",
       "<!-- 8 -->\n",
       "<g id=\"node9\" class=\"node\">\n",
       "<title>8</title>\n",
       "<polygon fill=\"none\" stroke=\"white\" points=\"219,-324 165,-324 165,-288 219,-288 219,-324\"/>\n",
       "<text text-anchor=\"middle\" x=\"192\" y=\"-302.3\" font-family=\"'Fira Mono', 'Source Code Pro', 'Courier', monospace\" font-size=\"14.00\" fill=\"#0060a0\">&lt;id&gt;</text>\n",
       "</g>\n",
       "<!-- 7&#45;&gt;8 -->\n",
       "<g id=\"edge8\" class=\"edge\">\n",
       "<title>7&#45;&gt;8</title>\n",
       "<path fill=\"none\" stroke=\"black\" d=\"M249.97,-359.7C240.46,-351.05 228.79,-340.45 218.43,-331.03\"/>\n",
       "<polygon fill=\"black\" stroke=\"black\" points=\"220.57,-328.24 210.81,-324.1 215.86,-333.42 220.57,-328.24\"/>\n",
       "</g>\n",
       "<!-- 17 -->\n",
       "<g id=\"node18\" class=\"node\">\n",
       "<title>17</title>\n",
       "<polygon fill=\"none\" stroke=\"white\" points=\"298.5,-324 239.5,-324 239.5,-288 298.5,-288 298.5,-324\"/>\n",
       "<text text-anchor=\"middle\" x=\"269\" y=\"-302.3\" font-family=\"'Fira Mono', 'Source Code Pro', 'Courier', monospace\" font-size=\"14.00\" fill=\"#0060a0\">&lt;digit&gt;</text>\n",
       "</g>\n",
       "<!-- 7&#45;&gt;17 -->\n",
       "<g id=\"edge17\" class=\"edge\">\n",
       "<title>7&#45;&gt;17</title>\n",
       "<path fill=\"none\" stroke=\"black\" d=\"M269,-359.7C269,-351.98 269,-342.71 269,-334.11\"/>\n",
       "<polygon fill=\"black\" stroke=\"black\" points=\"272.5,-334.1 269,-324.1 265.5,-334.1 272.5,-334.1\"/>\n",
       "</g>\n",
       "<!-- 9 -->\n",
       "<g id=\"node10\" class=\"node\">\n",
       "<title>9</title>\n",
       "<polygon fill=\"none\" stroke=\"white\" points=\"140,-252 86,-252 86,-216 140,-216 140,-252\"/>\n",
       "<text text-anchor=\"middle\" x=\"113\" y=\"-230.3\" font-family=\"'Fira Mono', 'Source Code Pro', 'Courier', monospace\" font-size=\"14.00\" fill=\"#0060a0\">&lt;id&gt;</text>\n",
       "</g>\n",
       "<!-- 8&#45;&gt;9 -->\n",
       "<g id=\"edge9\" class=\"edge\">\n",
       "<title>8&#45;&gt;9</title>\n",
       "<path fill=\"none\" stroke=\"black\" d=\"M172.47,-287.7C162.62,-278.97 150.51,-268.24 139.8,-258.75\"/>\n",
       "<polygon fill=\"black\" stroke=\"black\" points=\"142.11,-256.12 132.3,-252.1 137.47,-261.36 142.11,-256.12\"/>\n",
       "</g>\n",
       "<!-- 15 -->\n",
       "<g id=\"node16\" class=\"node\">\n",
       "<title>15</title>\n",
       "<polygon fill=\"none\" stroke=\"white\" points=\"226,-252 158,-252 158,-216 226,-216 226,-252\"/>\n",
       "<text text-anchor=\"middle\" x=\"192\" y=\"-230.3\" font-family=\"'Fira Mono', 'Source Code Pro', 'Courier', monospace\" font-size=\"14.00\" fill=\"#0060a0\">&lt;letter&gt;</text>\n",
       "</g>\n",
       "<!-- 8&#45;&gt;15 -->\n",
       "<g id=\"edge15\" class=\"edge\">\n",
       "<title>8&#45;&gt;15</title>\n",
       "<path fill=\"none\" stroke=\"black\" d=\"M192,-287.7C192,-279.98 192,-270.71 192,-262.11\"/>\n",
       "<polygon fill=\"black\" stroke=\"black\" points=\"195.5,-262.1 192,-252.1 188.5,-262.1 195.5,-262.1\"/>\n",
       "</g>\n",
       "<!-- 10 -->\n",
       "<g id=\"node11\" class=\"node\">\n",
       "<title>10</title>\n",
       "<polygon fill=\"none\" stroke=\"white\" points=\"61,-180 7,-180 7,-144 61,-144 61,-180\"/>\n",
       "<text text-anchor=\"middle\" x=\"34\" y=\"-158.3\" font-family=\"'Fira Mono', 'Source Code Pro', 'Courier', monospace\" font-size=\"14.00\" fill=\"#0060a0\">&lt;id&gt;</text>\n",
       "</g>\n",
       "<!-- 9&#45;&gt;10 -->\n",
       "<g id=\"edge10\" class=\"edge\">\n",
       "<title>9&#45;&gt;10</title>\n",
       "<path fill=\"none\" stroke=\"black\" d=\"M93.47,-215.7C83.62,-206.97 71.51,-196.24 60.8,-186.75\"/>\n",
       "<polygon fill=\"black\" stroke=\"black\" points=\"63.11,-184.12 53.3,-180.1 58.47,-189.36 63.11,-184.12\"/>\n",
       "</g>\n",
       "<!-- 13 -->\n",
       "<g id=\"node14\" class=\"node\">\n",
       "<title>13</title>\n",
       "<polygon fill=\"none\" stroke=\"white\" points=\"147,-180 79,-180 79,-144 147,-144 147,-180\"/>\n",
       "<text text-anchor=\"middle\" x=\"113\" y=\"-158.3\" font-family=\"'Fira Mono', 'Source Code Pro', 'Courier', monospace\" font-size=\"14.00\" fill=\"#0060a0\">&lt;letter&gt;</text>\n",
       "</g>\n",
       "<!-- 9&#45;&gt;13 -->\n",
       "<g id=\"edge13\" class=\"edge\">\n",
       "<title>9&#45;&gt;13</title>\n",
       "<path fill=\"none\" stroke=\"black\" d=\"M113,-215.7C113,-207.98 113,-198.71 113,-190.11\"/>\n",
       "<polygon fill=\"black\" stroke=\"black\" points=\"116.5,-190.1 113,-180.1 109.5,-190.1 116.5,-190.1\"/>\n",
       "</g>\n",
       "<!-- 11 -->\n",
       "<g id=\"node12\" class=\"node\">\n",
       "<title>11</title>\n",
       "<polygon fill=\"none\" stroke=\"white\" points=\"68,-108 0,-108 0,-72 68,-72 68,-108\"/>\n",
       "<text text-anchor=\"middle\" x=\"34\" y=\"-86.3\" font-family=\"'Fira Mono', 'Source Code Pro', 'Courier', monospace\" font-size=\"14.00\" fill=\"#0060a0\">&lt;letter&gt;</text>\n",
       "</g>\n",
       "<!-- 10&#45;&gt;11 -->\n",
       "<g id=\"edge11\" class=\"edge\">\n",
       "<title>10&#45;&gt;11</title>\n",
       "<path fill=\"none\" stroke=\"black\" d=\"M34,-143.7C34,-135.98 34,-126.71 34,-118.11\"/>\n",
       "<polygon fill=\"black\" stroke=\"black\" points=\"37.5,-118.1 34,-108.1 30.5,-118.1 37.5,-118.1\"/>\n",
       "</g>\n",
       "<!-- 12 -->\n",
       "<g id=\"node13\" class=\"node\">\n",
       "<title>12</title>\n",
       "<polygon fill=\"none\" stroke=\"white\" points=\"61,-36 7,-36 7,0 61,0 61,-36\"/>\n",
       "<text text-anchor=\"middle\" x=\"34\" y=\"-14.3\" font-family=\"'Fira Mono', 'Source Code Pro', 'Courier', monospace\" font-size=\"14.00\" fill=\"#00a060\">F</text>\n",
       "</g>\n",
       "<!-- 11&#45;&gt;12 -->\n",
       "<g id=\"edge12\" class=\"edge\">\n",
       "<title>11&#45;&gt;12</title>\n",
       "<path fill=\"none\" stroke=\"black\" d=\"M34,-71.7C34,-63.98 34,-54.71 34,-46.11\"/>\n",
       "<polygon fill=\"black\" stroke=\"black\" points=\"37.5,-46.1 34,-36.1 30.5,-46.1 37.5,-46.1\"/>\n",
       "</g>\n",
       "<!-- 14 -->\n",
       "<g id=\"node15\" class=\"node\">\n",
       "<title>14</title>\n",
       "<polygon fill=\"none\" stroke=\"white\" points=\"140,-108 86,-108 86,-72 140,-72 140,-108\"/>\n",
       "<text text-anchor=\"middle\" x=\"113\" y=\"-86.3\" font-family=\"'Fira Mono', 'Source Code Pro', 'Courier', monospace\" font-size=\"14.00\" fill=\"#00a060\">Q</text>\n",
       "</g>\n",
       "<!-- 13&#45;&gt;14 -->\n",
       "<g id=\"edge14\" class=\"edge\">\n",
       "<title>13&#45;&gt;14</title>\n",
       "<path fill=\"none\" stroke=\"black\" d=\"M113,-143.7C113,-135.98 113,-126.71 113,-118.11\"/>\n",
       "<polygon fill=\"black\" stroke=\"black\" points=\"116.5,-118.1 113,-108.1 109.5,-118.1 116.5,-118.1\"/>\n",
       "</g>\n",
       "<!-- 16 -->\n",
       "<g id=\"node17\" class=\"node\">\n",
       "<title>16</title>\n",
       "<polygon fill=\"none\" stroke=\"white\" points=\"219,-180 165,-180 165,-144 219,-144 219,-180\"/>\n",
       "<text text-anchor=\"middle\" x=\"192\" y=\"-158.3\" font-family=\"'Fira Mono', 'Source Code Pro', 'Courier', monospace\" font-size=\"14.00\" fill=\"#00a060\">c</text>\n",
       "</g>\n",
       "<!-- 15&#45;&gt;16 -->\n",
       "<g id=\"edge16\" class=\"edge\">\n",
       "<title>15&#45;&gt;16</title>\n",
       "<path fill=\"none\" stroke=\"black\" d=\"M192,-215.7C192,-207.98 192,-198.71 192,-190.11\"/>\n",
       "<polygon fill=\"black\" stroke=\"black\" points=\"195.5,-190.1 192,-180.1 188.5,-190.1 195.5,-190.1\"/>\n",
       "</g>\n",
       "<!-- 18 -->\n",
       "<g id=\"node19\" class=\"node\">\n",
       "<title>18</title>\n",
       "<polygon fill=\"none\" stroke=\"white\" points=\"298,-252 244,-252 244,-216 298,-216 298,-252\"/>\n",
       "<text text-anchor=\"middle\" x=\"271\" y=\"-230.3\" font-family=\"'Fira Mono', 'Source Code Pro', 'Courier', monospace\" font-size=\"14.00\" fill=\"#00a060\">9</text>\n",
       "</g>\n",
       "<!-- 17&#45;&gt;18 -->\n",
       "<g id=\"edge18\" class=\"edge\">\n",
       "<title>17&#45;&gt;18</title>\n",
       "<path fill=\"none\" stroke=\"black\" d=\"M269.49,-287.7C269.71,-279.98 269.98,-270.71 270.23,-262.11\"/>\n",
       "<polygon fill=\"black\" stroke=\"black\" points=\"273.72,-262.2 270.51,-252.1 266.73,-262 273.72,-262.2\"/>\n",
       "</g>\n",
       "<!-- 20 -->\n",
       "<g id=\"node21\" class=\"node\">\n",
       "<title>20</title>\n",
       "<polygon fill=\"none\" stroke=\"white\" points=\"371,-324 317,-324 317,-288 371,-288 371,-324\"/>\n",
       "<text text-anchor=\"middle\" x=\"344\" y=\"-302.3\" font-family=\"'Fira Mono', 'Source Code Pro', 'Courier', monospace\" font-size=\"14.00\" fill=\"#00a060\">0</text>\n",
       "</g>\n",
       "<!-- 19&#45;&gt;20 -->\n",
       "<g id=\"edge20\" class=\"edge\">\n",
       "<title>19&#45;&gt;20</title>\n",
       "<path fill=\"none\" stroke=\"black\" d=\"M344,-359.7C344,-351.98 344,-342.71 344,-334.11\"/>\n",
       "<polygon fill=\"black\" stroke=\"black\" points=\"347.5,-334.1 344,-324.1 340.5,-334.1 347.5,-334.1\"/>\n",
       "</g>\n",
       "<!-- 22 -->\n",
       "<g id=\"node23\" class=\"node\">\n",
       "<title>22</title>\n",
       "<polygon fill=\"none\" stroke=\"white\" points=\"516,-396 462,-396 462,-360 516,-360 516,-396\"/>\n",
       "<text text-anchor=\"middle\" x=\"489\" y=\"-374.3\" font-family=\"'Fira Mono', 'Source Code Pro', 'Courier', monospace\" font-size=\"14.00\" fill=\"#0060a0\">&lt;attr&gt;</text>\n",
       "</g>\n",
       "<!-- 21&#45;&gt;22 -->\n",
       "<g id=\"edge22\" class=\"edge\">\n",
       "<title>21&#45;&gt;22</title>\n",
       "<path fill=\"none\" stroke=\"black\" d=\"M434.8,-431.7C443.6,-423.14 454.38,-412.66 464,-403.3\"/>\n",
       "<polygon fill=\"black\" stroke=\"black\" points=\"466.68,-405.58 471.41,-396.1 461.8,-400.57 466.68,-405.58\"/>\n",
       "</g>\n",
       "<!-- 23 -->\n",
       "<g id=\"node24\" class=\"node\">\n",
       "<title>23</title>\n",
       "<polygon fill=\"none\" stroke=\"white\" points=\"443,-324 389,-324 389,-288 443,-288 443,-324\"/>\n",
       "<text text-anchor=\"middle\" x=\"416\" y=\"-302.3\" font-family=\"'Fira Mono', 'Source Code Pro', 'Courier', monospace\" font-size=\"14.00\" fill=\"#00a060\"> </text>\n",
       "</g>\n",
       "<!-- 22&#45;&gt;23 -->\n",
       "<g id=\"edge23\" class=\"edge\">\n",
       "<title>22&#45;&gt;23</title>\n",
       "<path fill=\"none\" stroke=\"black\" d=\"M470.96,-359.7C461.94,-351.05 450.88,-340.45 441.06,-331.03\"/>\n",
       "<polygon fill=\"black\" stroke=\"black\" points=\"443.48,-328.5 433.84,-324.1 438.63,-333.55 443.48,-328.5\"/>\n",
       "</g>\n",
       "<!-- 24 -->\n",
       "<g id=\"node25\" class=\"node\">\n",
       "<title>24</title>\n",
       "<polygon fill=\"none\" stroke=\"white\" points=\"515,-324 461,-324 461,-288 515,-288 515,-324\"/>\n",
       "<text text-anchor=\"middle\" x=\"488\" y=\"-302.3\" font-family=\"'Fira Mono', 'Source Code Pro', 'Courier', monospace\" font-size=\"14.00\" fill=\"#0060a0\">&lt;id&gt;</text>\n",
       "</g>\n",
       "<!-- 22&#45;&gt;24 -->\n",
       "<g id=\"edge24\" class=\"edge\">\n",
       "<title>22&#45;&gt;24</title>\n",
       "<path fill=\"none\" stroke=\"black\" d=\"M488.75,-359.7C488.64,-351.98 488.51,-342.71 488.39,-334.11\"/>\n",
       "<polygon fill=\"black\" stroke=\"black\" points=\"491.89,-334.05 488.24,-324.1 484.89,-334.15 491.89,-334.05\"/>\n",
       "</g>\n",
       "<!-- 30 -->\n",
       "<g id=\"node31\" class=\"node\">\n",
       "<title>30</title>\n",
       "<polygon fill=\"none\" stroke=\"white\" points=\"587,-324 533,-324 533,-288 587,-288 587,-324\"/>\n",
       "<text text-anchor=\"middle\" x=\"560\" y=\"-302.3\" font-family=\"'Fira Mono', 'Source Code Pro', 'Courier', monospace\" font-size=\"14.00\" fill=\"#00a060\">=&quot;</text>\n",
       "</g>\n",
       "<!-- 22&#45;&gt;30 -->\n",
       "<g id=\"edge30\" class=\"edge\">\n",
       "<title>22&#45;&gt;30</title>\n",
       "<path fill=\"none\" stroke=\"black\" d=\"M506.55,-359.7C515.23,-351.14 525.86,-340.66 535.35,-331.3\"/>\n",
       "<polygon fill=\"black\" stroke=\"black\" points=\"537.99,-333.62 542.65,-324.1 533.07,-328.63 537.99,-333.62\"/>\n",
       "</g>\n",
       "<!-- 31 -->\n",
       "<g id=\"node32\" class=\"node\">\n",
       "<title>31</title>\n",
       "<polygon fill=\"none\" stroke=\"white\" points=\"706.5,-324 605.5,-324 605.5,-288 706.5,-288 706.5,-324\"/>\n",
       "<text text-anchor=\"middle\" x=\"656\" y=\"-302.3\" font-family=\"'Fira Mono', 'Source Code Pro', 'Courier', monospace\" font-size=\"14.00\" fill=\"#0060a0\">&lt;plain&#45;text&gt;</text>\n",
       "</g>\n",
       "<!-- 22&#45;&gt;31 -->\n",
       "<g id=\"edge31\" class=\"edge\">\n",
       "<title>22&#45;&gt;31</title>\n",
       "<path fill=\"none\" stroke=\"black\" d=\"M516.25,-365.05C520.19,-363.34 524.19,-361.62 528,-360 553.2,-349.29 581.29,-337.63 604.72,-327.98\"/>\n",
       "<polygon fill=\"black\" stroke=\"black\" points=\"606.21,-331.15 614.12,-324.11 603.54,-324.68 606.21,-331.15\"/>\n",
       "</g>\n",
       "<!-- 33 -->\n",
       "<g id=\"node34\" class=\"node\">\n",
       "<title>33</title>\n",
       "<polygon fill=\"none\" stroke=\"white\" points=\"779,-324 725,-324 725,-288 779,-288 779,-324\"/>\n",
       "<text text-anchor=\"middle\" x=\"752\" y=\"-302.3\" font-family=\"'Fira Mono', 'Source Code Pro', 'Courier', monospace\" font-size=\"14.00\" fill=\"#00a060\">&quot;</text>\n",
       "</g>\n",
       "<!-- 22&#45;&gt;33 -->\n",
       "<g id=\"edge33\" class=\"edge\">\n",
       "<title>22&#45;&gt;33</title>\n",
       "<path fill=\"none\" stroke=\"black\" d=\"M516.41,-364.16C520.25,-362.62 524.19,-361.18 528,-360 608.84,-334.94 634.41,-349.85 715,-324 715.1,-323.97 715.2,-323.94 715.3,-323.9\"/>\n",
       "<polygon fill=\"black\" stroke=\"black\" points=\"716.65,-327.13 724.81,-320.38 714.22,-320.57 716.65,-327.13\"/>\n",
       "</g>\n",
       "<!-- 25 -->\n",
       "<g id=\"node26\" class=\"node\">\n",
       "<title>25</title>\n",
       "<polygon fill=\"none\" stroke=\"white\" points=\"475,-252 421,-252 421,-216 475,-216 475,-252\"/>\n",
       "<text text-anchor=\"middle\" x=\"448\" y=\"-230.3\" font-family=\"'Fira Mono', 'Source Code Pro', 'Courier', monospace\" font-size=\"14.00\" fill=\"#0060a0\">&lt;id&gt;</text>\n",
       "</g>\n",
       "<!-- 24&#45;&gt;25 -->\n",
       "<g id=\"edge25\" class=\"edge\">\n",
       "<title>24&#45;&gt;25</title>\n",
       "<path fill=\"none\" stroke=\"black\" d=\"M478.11,-287.7C473.51,-279.64 467.94,-269.89 462.85,-260.98\"/>\n",
       "<polygon fill=\"black\" stroke=\"black\" points=\"465.77,-259.05 457.77,-252.1 459.7,-262.52 465.77,-259.05\"/>\n",
       "</g>\n",
       "<!-- 28 -->\n",
       "<g id=\"node29\" class=\"node\">\n",
       "<title>28</title>\n",
       "<polygon fill=\"none\" stroke=\"white\" points=\"561,-252 493,-252 493,-216 561,-216 561,-252\"/>\n",
       "<text text-anchor=\"middle\" x=\"527\" y=\"-230.3\" font-family=\"'Fira Mono', 'Source Code Pro', 'Courier', monospace\" font-size=\"14.00\" fill=\"#0060a0\">&lt;letter&gt;</text>\n",
       "</g>\n",
       "<!-- 24&#45;&gt;28 -->\n",
       "<g id=\"edge28\" class=\"edge\">\n",
       "<title>24&#45;&gt;28</title>\n",
       "<path fill=\"none\" stroke=\"black\" d=\"M497.64,-287.7C502.13,-279.64 507.56,-269.89 512.52,-260.98\"/>\n",
       "<polygon fill=\"black\" stroke=\"black\" points=\"515.66,-262.54 517.47,-252.1 509.55,-259.14 515.66,-262.54\"/>\n",
       "</g>\n",
       "<!-- 26 -->\n",
       "<g id=\"node27\" class=\"node\">\n",
       "<title>26</title>\n",
       "<polygon fill=\"none\" stroke=\"white\" points=\"482,-180 414,-180 414,-144 482,-144 482,-180\"/>\n",
       "<text text-anchor=\"middle\" x=\"448\" y=\"-158.3\" font-family=\"'Fira Mono', 'Source Code Pro', 'Courier', monospace\" font-size=\"14.00\" fill=\"#0060a0\">&lt;letter&gt;</text>\n",
       "</g>\n",
       "<!-- 25&#45;&gt;26 -->\n",
       "<g id=\"edge26\" class=\"edge\">\n",
       "<title>25&#45;&gt;26</title>\n",
       "<path fill=\"none\" stroke=\"black\" d=\"M448,-215.7C448,-207.98 448,-198.71 448,-190.11\"/>\n",
       "<polygon fill=\"black\" stroke=\"black\" points=\"451.5,-190.1 448,-180.1 444.5,-190.1 451.5,-190.1\"/>\n",
       "</g>\n",
       "<!-- 27 -->\n",
       "<g id=\"node28\" class=\"node\">\n",
       "<title>27</title>\n",
       "<polygon fill=\"none\" stroke=\"white\" points=\"475,-108 421,-108 421,-72 475,-72 475,-108\"/>\n",
       "<text text-anchor=\"middle\" x=\"448\" y=\"-86.3\" font-family=\"'Fira Mono', 'Source Code Pro', 'Courier', monospace\" font-size=\"14.00\" fill=\"#00a060\">W</text>\n",
       "</g>\n",
       "<!-- 26&#45;&gt;27 -->\n",
       "<g id=\"edge27\" class=\"edge\">\n",
       "<title>26&#45;&gt;27</title>\n",
       "<path fill=\"none\" stroke=\"black\" d=\"M448,-143.7C448,-135.98 448,-126.71 448,-118.11\"/>\n",
       "<polygon fill=\"black\" stroke=\"black\" points=\"451.5,-118.1 448,-108.1 444.5,-118.1 451.5,-118.1\"/>\n",
       "</g>\n",
       "<!-- 29 -->\n",
       "<g id=\"node30\" class=\"node\">\n",
       "<title>29</title>\n",
       "<polygon fill=\"none\" stroke=\"white\" points=\"554,-180 500,-180 500,-144 554,-144 554,-180\"/>\n",
       "<text text-anchor=\"middle\" x=\"527\" y=\"-158.3\" font-family=\"'Fira Mono', 'Source Code Pro', 'Courier', monospace\" font-size=\"14.00\" fill=\"#00a060\">t</text>\n",
       "</g>\n",
       "<!-- 28&#45;&gt;29 -->\n",
       "<g id=\"edge29\" class=\"edge\">\n",
       "<title>28&#45;&gt;29</title>\n",
       "<path fill=\"none\" stroke=\"black\" d=\"M527,-215.7C527,-207.98 527,-198.71 527,-190.11\"/>\n",
       "<polygon fill=\"black\" stroke=\"black\" points=\"530.5,-190.1 527,-180.1 523.5,-190.1 530.5,-190.1\"/>\n",
       "</g>\n",
       "<!-- 32 -->\n",
       "<g id=\"node33\" class=\"node\">\n",
       "<title>32</title>\n",
       "<polygon fill=\"none\" stroke=\"white\" points=\"683,-252 629,-252 629,-216 683,-216 683,-252\"/>\n",
       "</g>\n",
       "<!-- 31&#45;&gt;32 -->\n",
       "<g id=\"edge32\" class=\"edge\">\n",
       "<title>31&#45;&gt;32</title>\n",
       "<path fill=\"none\" stroke=\"black\" d=\"M656,-287.7C656,-279.98 656,-270.71 656,-262.11\"/>\n",
       "<polygon fill=\"black\" stroke=\"black\" points=\"659.5,-262.1 656,-252.1 652.5,-262.1 659.5,-262.1\"/>\n",
       "</g>\n",
       "<!-- 36 -->\n",
       "<g id=\"node37\" class=\"node\">\n",
       "<title>36</title>\n",
       "<polygon fill=\"none\" stroke=\"white\" points=\"591,-396 537,-396 537,-360 591,-360 591,-396\"/>\n",
       "<text text-anchor=\"middle\" x=\"564\" y=\"-374.3\" font-family=\"'Fira Mono', 'Source Code Pro', 'Courier', monospace\" font-size=\"14.00\" fill=\"#00a060\">&gt;</text>\n",
       "</g>\n",
       "<!-- 35&#45;&gt;36 -->\n",
       "<g id=\"edge36\" class=\"edge\">\n",
       "<title>35&#45;&gt;36</title>\n",
       "<path fill=\"none\" stroke=\"black\" d=\"M564,-431.7C564,-423.98 564,-414.71 564,-406.11\"/>\n",
       "<polygon fill=\"black\" stroke=\"black\" points=\"567.5,-406.1 564,-396.1 560.5,-406.1 567.5,-406.1\"/>\n",
       "</g>\n",
       "</g>\n",
       "</svg>\n"
      ],
      "text/plain": [
       "<graphviz.dot.Digraph at 0x111882190>"
      ]
     },
     "execution_count": 31,
     "metadata": {},
     "output_type": "execute_result"
    }
   ],
   "source": [
    "display_tree(simple_html_fuzzer.derivation_tree)"
   ]
  },
  {
   "cell_type": "markdown",
   "metadata": {
    "slideshow": {
     "slide_type": "fragment"
    }
   },
   "source": [
    "From top to bottom, we see that the input was constructed from a `<start>` symbol, which then expanded into `html`, which then expanded into HTML text, and so on. Multiple children in a tree stand for a concatenation of individual symbols."
   ]
  },
  {
   "cell_type": "markdown",
   "metadata": {
    "slideshow": {
     "slide_type": "fragment"
    }
   },
   "source": [
    "Internally, these trees come as pairs `(symbol, children)`, where `symbol` is the name of a node (say, `<html>`), and `children` is a (possibly empty) list of subtrees. Here are the topmost nodes of the above tree:"
   ]
  },
  {
   "cell_type": "code",
   "execution_count": 32,
   "metadata": {
    "execution": {
     "iopub.execute_input": "2021-10-13T11:34:03.627618Z",
     "iopub.status.busy": "2021-10-13T11:34:03.627089Z",
     "iopub.status.idle": "2021-10-13T11:34:03.628785Z",
     "shell.execute_reply": "2021-10-13T11:34:03.629226Z"
    },
    "slideshow": {
     "slide_type": "skip"
    }
   },
   "outputs": [],
   "source": [
    "import pprint"
   ]
  },
  {
   "cell_type": "code",
   "execution_count": 33,
   "metadata": {
    "execution": {
     "iopub.execute_input": "2021-10-13T11:34:03.632767Z",
     "iopub.status.busy": "2021-10-13T11:34:03.632243Z",
     "iopub.status.idle": "2021-10-13T11:34:03.634246Z",
     "shell.execute_reply": "2021-10-13T11:34:03.634718Z"
    },
    "slideshow": {
     "slide_type": "fragment"
    }
   },
   "outputs": [
    {
     "name": "stdout",
     "output_type": "stream",
     "text": [
      "('<start>', [('<html>', [('<tagged-text>', [('<self-closing-tag>', [...])])])])\n"
     ]
    }
   ],
   "source": [
    "pp = pprint.PrettyPrinter(depth=7)\n",
    "pp.pprint(simple_html_fuzzer.derivation_tree)"
   ]
  },
  {
   "cell_type": "markdown",
   "metadata": {
    "slideshow": {
     "slide_type": "subslide"
    }
   },
   "source": [
    "To produce abstract failure-inducing patterns, we will work on this very structure. The idea is to\n",
    "\n",
    "1. systematically replace subtrees by other, generated, compatible subtrees (e.g. replace one `<html>` subtree in the concrete input by some other generated `<html>` subtree);\n",
    "2. see whether these subtrees also result in failures; and\n",
    "3. if they do, use the nonterminal (`<html>`) as a placeholder in the pattern.\n",
    "\n",
    "This will involve some subtree manipulation, construction, and finally testing. First of all, though, we need to be able to turn an _existing input_ into a derivation tree."
   ]
  },
  {
   "cell_type": "markdown",
   "metadata": {
    "slideshow": {
     "slide_type": "slide"
    }
   },
   "source": [
    "## Parsing\n",
    "\n",
    "The activity of creating a structure out of an unstructured input is called _parsing_. Generally speaking, a _parser_ uses a _grammar_ to create a _derivation tree_ (also called *parse tree* in parsing contexts) from a string input."
   ]
  },
  {
   "cell_type": "markdown",
   "metadata": {
    "slideshow": {
     "slide_type": "fragment"
    }
   },
   "source": [
    "Again, there's a whole body of theory (and practice!) around constructing parsers. We make our life simple by using an existing parser (again, from [the fuzzing book](https://www.fuzzingbook.org/Parser.html)), which does just what we want. The `EarleyParser` is instantiated with a grammar such as `SIMPLE_HTML_GRAMMAR`:"
   ]
  },
  {
   "cell_type": "code",
   "execution_count": 34,
   "metadata": {
    "execution": {
     "iopub.execute_input": "2021-10-13T11:34:03.638344Z",
     "iopub.status.busy": "2021-10-13T11:34:03.637841Z",
     "iopub.status.idle": "2021-10-13T11:34:03.642220Z",
     "shell.execute_reply": "2021-10-13T11:34:03.642606Z"
    },
    "slideshow": {
     "slide_type": "skip"
    }
   },
   "outputs": [],
   "source": [
    "from fuzzingbook.Parser import Parser, EarleyParser  # minor dependency"
   ]
  },
  {
   "cell_type": "code",
   "execution_count": 35,
   "metadata": {
    "execution": {
     "iopub.execute_input": "2021-10-13T11:34:03.647192Z",
     "iopub.status.busy": "2021-10-13T11:34:03.646666Z",
     "iopub.status.idle": "2021-10-13T11:34:03.648130Z",
     "shell.execute_reply": "2021-10-13T11:34:03.648495Z"
    },
    "slideshow": {
     "slide_type": "fragment"
    }
   },
   "outputs": [],
   "source": [
    "simple_html_parser = EarleyParser(SIMPLE_HTML_GRAMMAR)"
   ]
  },
  {
   "cell_type": "markdown",
   "metadata": {
    "slideshow": {
     "slide_type": "subslide"
    }
   },
   "source": [
    "Its method `parse()` returns an iterator over multiple possible derivation trees.  (There can be multiple trees because the grammar could be ambiguous). We are only interested in the first such tree. Let us parse `BAD_INPUT` and inspect the resulting ~parse tree~ ~syntax tree~ derivation tree:"
   ]
  },
  {
   "cell_type": "code",
   "execution_count": 36,
   "metadata": {
    "execution": {
     "iopub.execute_input": "2021-10-13T11:34:03.681460Z",
     "iopub.status.busy": "2021-10-13T11:34:03.673734Z",
     "iopub.status.idle": "2021-10-13T11:34:03.684207Z",
     "shell.execute_reply": "2021-10-13T11:34:03.683716Z"
    },
    "slideshow": {
     "slide_type": "fragment"
    }
   },
   "outputs": [],
   "source": [
    "bad_input_tree = list(simple_html_parser.parse(BAD_INPUT))[0]"
   ]
  },
  {
   "cell_type": "code",
   "execution_count": 37,
   "metadata": {
    "execution": {
     "iopub.execute_input": "2021-10-13T11:34:03.693222Z",
     "iopub.status.busy": "2021-10-13T11:34:03.692607Z",
     "iopub.status.idle": "2021-10-13T11:34:04.263169Z",
     "shell.execute_reply": "2021-10-13T11:34:04.263547Z"
    },
    "slideshow": {
     "slide_type": "fragment"
    }
   },
   "outputs": [
    {
     "data": {
      "image/svg+xml": [
       "<?xml version=\"1.0\" encoding=\"UTF-8\" standalone=\"no\"?>\n",
       "<!DOCTYPE svg PUBLIC \"-//W3C//DTD SVG 1.1//EN\"\n",
       " \"http://www.w3.org/Graphics/SVG/1.1/DTD/svg11.dtd\">\n",
       "<!-- Generated by graphviz version 2.49.1 (20210923.0004)\n",
       " -->\n",
       "<!-- Pages: 1 -->\n",
       "<svg width=\"1005pt\" height=\"764pt\"\n",
       " viewBox=\"0.00 0.00 1005.00 764.00\" xmlns=\"http://www.w3.org/2000/svg\" xmlns:xlink=\"http://www.w3.org/1999/xlink\">\n",
       "<g id=\"graph0\" class=\"graph\" transform=\"scale(1 1) rotate(0) translate(4 760)\">\n",
       "<polygon fill=\"white\" stroke=\"transparent\" points=\"-4,4 -4,-760 1001,-760 1001,4 -4,4\"/>\n",
       "<!-- 0 -->\n",
       "<g id=\"node1\" class=\"node\">\n",
       "<title>0</title>\n",
       "<polygon fill=\"none\" stroke=\"white\" points=\"415.5,-756 356.5,-756 356.5,-720 415.5,-720 415.5,-756\"/>\n",
       "<text text-anchor=\"middle\" x=\"386\" y=\"-734.3\" font-family=\"'Fira Mono', 'Source Code Pro', 'Courier', monospace\" font-size=\"14.00\" fill=\"#0060a0\">&lt;start&gt;</text>\n",
       "</g>\n",
       "<!-- 1 -->\n",
       "<g id=\"node2\" class=\"node\">\n",
       "<title>1</title>\n",
       "<polygon fill=\"none\" stroke=\"white\" points=\"413,-684 359,-684 359,-648 413,-648 413,-684\"/>\n",
       "<text text-anchor=\"middle\" x=\"386\" y=\"-662.3\" font-family=\"'Fira Mono', 'Source Code Pro', 'Courier', monospace\" font-size=\"14.00\" fill=\"#0060a0\">&lt;html&gt;</text>\n",
       "</g>\n",
       "<!-- 0&#45;&gt;1 -->\n",
       "<g id=\"edge1\" class=\"edge\">\n",
       "<title>0&#45;&gt;1</title>\n",
       "<path fill=\"none\" stroke=\"black\" d=\"M386,-719.7C386,-711.98 386,-702.71 386,-694.11\"/>\n",
       "<polygon fill=\"black\" stroke=\"black\" points=\"389.5,-694.1 386,-684.1 382.5,-694.1 389.5,-694.1\"/>\n",
       "</g>\n",
       "<!-- 2 -->\n",
       "<g id=\"node3\" class=\"node\">\n",
       "<title>2</title>\n",
       "<polygon fill=\"none\" stroke=\"white\" points=\"441,-612 331,-612 331,-576 441,-576 441,-612\"/>\n",
       "<text text-anchor=\"middle\" x=\"386\" y=\"-590.3\" font-family=\"'Fira Mono', 'Source Code Pro', 'Courier', monospace\" font-size=\"14.00\" fill=\"#0060a0\">&lt;tagged&#45;text&gt;</text>\n",
       "</g>\n",
       "<!-- 1&#45;&gt;2 -->\n",
       "<g id=\"edge2\" class=\"edge\">\n",
       "<title>1&#45;&gt;2</title>\n",
       "<path fill=\"none\" stroke=\"black\" d=\"M386,-647.7C386,-639.98 386,-630.71 386,-622.11\"/>\n",
       "<polygon fill=\"black\" stroke=\"black\" points=\"389.5,-622.1 386,-612.1 382.5,-622.1 389.5,-622.1\"/>\n",
       "</g>\n",
       "<!-- 3 -->\n",
       "<g id=\"node4\" class=\"node\">\n",
       "<title>3</title>\n",
       "<polygon fill=\"none\" stroke=\"white\" points=\"304,-540 194,-540 194,-504 304,-504 304,-540\"/>\n",
       "<text text-anchor=\"middle\" x=\"249\" y=\"-518.3\" font-family=\"'Fira Mono', 'Source Code Pro', 'Courier', monospace\" font-size=\"14.00\" fill=\"#0060a0\">&lt;opening&#45;tag&gt;</text>\n",
       "</g>\n",
       "<!-- 2&#45;&gt;3 -->\n",
       "<g id=\"edge3\" class=\"edge\">\n",
       "<title>2&#45;&gt;3</title>\n",
       "<path fill=\"none\" stroke=\"black\" d=\"M352.49,-575.88C334.16,-566.51 311.26,-554.81 291.67,-544.8\"/>\n",
       "<polygon fill=\"black\" stroke=\"black\" points=\"293.14,-541.62 282.64,-540.19 289.96,-547.86 293.14,-541.62\"/>\n",
       "</g>\n",
       "<!-- 17 -->\n",
       "<g id=\"node18\" class=\"node\">\n",
       "<title>17</title>\n",
       "<polygon fill=\"none\" stroke=\"white\" points=\"413,-540 359,-540 359,-504 413,-504 413,-540\"/>\n",
       "<text text-anchor=\"middle\" x=\"386\" y=\"-518.3\" font-family=\"'Fira Mono', 'Source Code Pro', 'Courier', monospace\" font-size=\"14.00\" fill=\"#0060a0\">&lt;html&gt;</text>\n",
       "</g>\n",
       "<!-- 2&#45;&gt;17 -->\n",
       "<g id=\"edge17\" class=\"edge\">\n",
       "<title>2&#45;&gt;17</title>\n",
       "<path fill=\"none\" stroke=\"black\" d=\"M386,-575.7C386,-567.98 386,-558.71 386,-550.11\"/>\n",
       "<polygon fill=\"black\" stroke=\"black\" points=\"389.5,-550.1 386,-540.1 382.5,-550.1 389.5,-550.1\"/>\n",
       "</g>\n",
       "<!-- 35 -->\n",
       "<g id=\"node36\" class=\"node\">\n",
       "<title>35</title>\n",
       "<polygon fill=\"none\" stroke=\"white\" points=\"816,-540 706,-540 706,-504 816,-504 816,-540\"/>\n",
       "<text text-anchor=\"middle\" x=\"761\" y=\"-518.3\" font-family=\"'Fira Mono', 'Source Code Pro', 'Courier', monospace\" font-size=\"14.00\" fill=\"#0060a0\">&lt;closing&#45;tag&gt;</text>\n",
       "</g>\n",
       "<!-- 2&#45;&gt;35 -->\n",
       "<g id=\"edge35\" class=\"edge\">\n",
       "<title>2&#45;&gt;35</title>\n",
       "<path fill=\"none\" stroke=\"black\" d=\"M441.33,-582.67C509.14,-570.01 623.89,-548.59 695.88,-535.16\"/>\n",
       "<polygon fill=\"black\" stroke=\"black\" points=\"696.56,-538.59 705.75,-533.31 695.27,-531.71 696.56,-538.59\"/>\n",
       "</g>\n",
       "<!-- 4 -->\n",
       "<g id=\"node5\" class=\"node\">\n",
       "<title>4</title>\n",
       "<polygon fill=\"none\" stroke=\"white\" points=\"108,-468 54,-468 54,-432 108,-432 108,-468\"/>\n",
       "<text text-anchor=\"middle\" x=\"81\" y=\"-446.3\" font-family=\"'Fira Mono', 'Source Code Pro', 'Courier', monospace\" font-size=\"14.00\" fill=\"#0060a0\">&lt;lt&gt;</text>\n",
       "</g>\n",
       "<!-- 3&#45;&gt;4 -->\n",
       "<g id=\"edge4\" class=\"edge\">\n",
       "<title>3&#45;&gt;4</title>\n",
       "<path fill=\"none\" stroke=\"black\" d=\"M207.9,-503.88C180.22,-492.34 144.03,-477.26 117.39,-466.16\"/>\n",
       "<polygon fill=\"black\" stroke=\"black\" points=\"118.62,-462.88 108.04,-462.27 115.92,-469.34 118.62,-462.88\"/>\n",
       "</g>\n",
       "<!-- 6 -->\n",
       "<g id=\"node7\" class=\"node\">\n",
       "<title>6</title>\n",
       "<polygon fill=\"none\" stroke=\"white\" points=\"219,-468 165,-468 165,-432 219,-432 219,-468\"/>\n",
       "<text text-anchor=\"middle\" x=\"192\" y=\"-446.3\" font-family=\"'Fira Mono', 'Source Code Pro', 'Courier', monospace\" font-size=\"14.00\" fill=\"#0060a0\">&lt;id&gt;</text>\n",
       "</g>\n",
       "<!-- 3&#45;&gt;6 -->\n",
       "<g id=\"edge6\" class=\"edge\">\n",
       "<title>3&#45;&gt;6</title>\n",
       "<path fill=\"none\" stroke=\"black\" d=\"M234.91,-503.7C228.08,-495.3 219.74,-485.07 212.24,-475.86\"/>\n",
       "<polygon fill=\"black\" stroke=\"black\" points=\"214.96,-473.65 205.93,-468.1 209.53,-478.07 214.96,-473.65\"/>\n",
       "</g>\n",
       "<!-- 15 -->\n",
       "<g id=\"node16\" class=\"node\">\n",
       "<title>15</title>\n",
       "<polygon fill=\"none\" stroke=\"white\" points=\"295,-468 241,-468 241,-432 295,-432 295,-468\"/>\n",
       "<text text-anchor=\"middle\" x=\"268\" y=\"-446.3\" font-family=\"'Fira Mono', 'Source Code Pro', 'Courier', monospace\" font-size=\"14.00\" fill=\"#0060a0\">&lt;gt&gt;</text>\n",
       "</g>\n",
       "<!-- 3&#45;&gt;15 -->\n",
       "<g id=\"edge15\" class=\"edge\">\n",
       "<title>3&#45;&gt;15</title>\n",
       "<path fill=\"none\" stroke=\"black\" d=\"M253.7,-503.7C255.81,-495.9 258.36,-486.51 260.72,-477.83\"/>\n",
       "<polygon fill=\"black\" stroke=\"black\" points=\"264.12,-478.67 263.36,-468.1 257.36,-476.84 264.12,-478.67\"/>\n",
       "</g>\n",
       "<!-- 5 -->\n",
       "<g id=\"node6\" class=\"node\">\n",
       "<title>5</title>\n",
       "<polygon fill=\"none\" stroke=\"white\" points=\"68,-396 14,-396 14,-360 68,-360 68,-396\"/>\n",
       "<text text-anchor=\"middle\" x=\"41\" y=\"-374.3\" font-family=\"'Fira Mono', 'Source Code Pro', 'Courier', monospace\" font-size=\"14.00\" fill=\"#0060a0\">&lt;</text>\n",
       "</g>\n",
       "<!-- 4&#45;&gt;5 -->\n",
       "<g id=\"edge5\" class=\"edge\">\n",
       "<title>4&#45;&gt;5</title>\n",
       "<path fill=\"none\" stroke=\"black\" d=\"M71.11,-431.7C66.51,-423.64 60.94,-413.89 55.85,-404.98\"/>\n",
       "<polygon fill=\"black\" stroke=\"black\" points=\"58.77,-403.05 50.77,-396.1 52.7,-406.52 58.77,-403.05\"/>\n",
       "</g>\n",
       "<!-- 7 -->\n",
       "<g id=\"node8\" class=\"node\">\n",
       "<title>7</title>\n",
       "<polygon fill=\"none\" stroke=\"white\" points=\"140,-396 86,-396 86,-360 140,-360 140,-396\"/>\n",
       "<text text-anchor=\"middle\" x=\"113\" y=\"-374.3\" font-family=\"'Fira Mono', 'Source Code Pro', 'Courier', monospace\" font-size=\"14.00\" fill=\"#0060a0\">&lt;id&gt;</text>\n",
       "</g>\n",
       "<!-- 6&#45;&gt;7 -->\n",
       "<g id=\"edge7\" class=\"edge\">\n",
       "<title>6&#45;&gt;7</title>\n",
       "<path fill=\"none\" stroke=\"black\" d=\"M172.47,-431.7C162.62,-422.97 150.51,-412.24 139.8,-402.75\"/>\n",
       "<polygon fill=\"black\" stroke=\"black\" points=\"142.11,-400.12 132.3,-396.1 137.47,-405.36 142.11,-400.12\"/>\n",
       "</g>\n",
       "<!-- 13 -->\n",
       "<g id=\"node14\" class=\"node\">\n",
       "<title>13</title>\n",
       "<polygon fill=\"none\" stroke=\"white\" points=\"226,-396 158,-396 158,-360 226,-360 226,-396\"/>\n",
       "<text text-anchor=\"middle\" x=\"192\" y=\"-374.3\" font-family=\"'Fira Mono', 'Source Code Pro', 'Courier', monospace\" font-size=\"14.00\" fill=\"#0060a0\">&lt;letter&gt;</text>\n",
       "</g>\n",
       "<!-- 6&#45;&gt;13 -->\n",
       "<g id=\"edge13\" class=\"edge\">\n",
       "<title>6&#45;&gt;13</title>\n",
       "<path fill=\"none\" stroke=\"black\" d=\"M192,-431.7C192,-423.98 192,-414.71 192,-406.11\"/>\n",
       "<polygon fill=\"black\" stroke=\"black\" points=\"195.5,-406.1 192,-396.1 188.5,-406.1 195.5,-406.1\"/>\n",
       "</g>\n",
       "<!-- 8 -->\n",
       "<g id=\"node9\" class=\"node\">\n",
       "<title>8</title>\n",
       "<polygon fill=\"none\" stroke=\"white\" points=\"61,-324 7,-324 7,-288 61,-288 61,-324\"/>\n",
       "<text text-anchor=\"middle\" x=\"34\" y=\"-302.3\" font-family=\"'Fira Mono', 'Source Code Pro', 'Courier', monospace\" font-size=\"14.00\" fill=\"#0060a0\">&lt;id&gt;</text>\n",
       "</g>\n",
       "<!-- 7&#45;&gt;8 -->\n",
       "<g id=\"edge8\" class=\"edge\">\n",
       "<title>7&#45;&gt;8</title>\n",
       "<path fill=\"none\" stroke=\"black\" d=\"M93.47,-359.7C83.62,-350.97 71.51,-340.24 60.8,-330.75\"/>\n",
       "<polygon fill=\"black\" stroke=\"black\" points=\"63.11,-328.12 53.3,-324.1 58.47,-333.36 63.11,-328.12\"/>\n",
       "</g>\n",
       "<!-- 11 -->\n",
       "<g id=\"node12\" class=\"node\">\n",
       "<title>11</title>\n",
       "<polygon fill=\"none\" stroke=\"white\" points=\"147,-324 79,-324 79,-288 147,-288 147,-324\"/>\n",
       "<text text-anchor=\"middle\" x=\"113\" y=\"-302.3\" font-family=\"'Fira Mono', 'Source Code Pro', 'Courier', monospace\" font-size=\"14.00\" fill=\"#0060a0\">&lt;letter&gt;</text>\n",
       "</g>\n",
       "<!-- 7&#45;&gt;11 -->\n",
       "<g id=\"edge11\" class=\"edge\">\n",
       "<title>7&#45;&gt;11</title>\n",
       "<path fill=\"none\" stroke=\"black\" d=\"M113,-359.7C113,-351.98 113,-342.71 113,-334.11\"/>\n",
       "<polygon fill=\"black\" stroke=\"black\" points=\"116.5,-334.1 113,-324.1 109.5,-334.1 116.5,-334.1\"/>\n",
       "</g>\n",
       "<!-- 9 -->\n",
       "<g id=\"node10\" class=\"node\">\n",
       "<title>9</title>\n",
       "<polygon fill=\"none\" stroke=\"white\" points=\"68,-252 0,-252 0,-216 68,-216 68,-252\"/>\n",
       "<text text-anchor=\"middle\" x=\"34\" y=\"-230.3\" font-family=\"'Fira Mono', 'Source Code Pro', 'Courier', monospace\" font-size=\"14.00\" fill=\"#0060a0\">&lt;letter&gt;</text>\n",
       "</g>\n",
       "<!-- 8&#45;&gt;9 -->\n",
       "<g id=\"edge9\" class=\"edge\">\n",
       "<title>8&#45;&gt;9</title>\n",
       "<path fill=\"none\" stroke=\"black\" d=\"M34,-287.7C34,-279.98 34,-270.71 34,-262.11\"/>\n",
       "<polygon fill=\"black\" stroke=\"black\" points=\"37.5,-262.1 34,-252.1 30.5,-262.1 37.5,-262.1\"/>\n",
       "</g>\n",
       "<!-- 10 -->\n",
       "<g id=\"node11\" class=\"node\">\n",
       "<title>10</title>\n",
       "<polygon fill=\"none\" stroke=\"white\" points=\"61,-180 7,-180 7,-144 61,-144 61,-180\"/>\n",
       "<text text-anchor=\"middle\" x=\"34\" y=\"-158.3\" font-family=\"'Fira Mono', 'Source Code Pro', 'Courier', monospace\" font-size=\"14.00\" fill=\"#00a060\">f</text>\n",
       "</g>\n",
       "<!-- 9&#45;&gt;10 -->\n",
       "<g id=\"edge10\" class=\"edge\">\n",
       "<title>9&#45;&gt;10</title>\n",
       "<path fill=\"none\" stroke=\"black\" d=\"M34,-215.7C34,-207.98 34,-198.71 34,-190.11\"/>\n",
       "<polygon fill=\"black\" stroke=\"black\" points=\"37.5,-190.1 34,-180.1 30.5,-190.1 37.5,-190.1\"/>\n",
       "</g>\n",
       "<!-- 12 -->\n",
       "<g id=\"node13\" class=\"node\">\n",
       "<title>12</title>\n",
       "<polygon fill=\"none\" stroke=\"white\" points=\"140,-252 86,-252 86,-216 140,-216 140,-252\"/>\n",
       "<text text-anchor=\"middle\" x=\"113\" y=\"-230.3\" font-family=\"'Fira Mono', 'Source Code Pro', 'Courier', monospace\" font-size=\"14.00\" fill=\"#00a060\">o</text>\n",
       "</g>\n",
       "<!-- 11&#45;&gt;12 -->\n",
       "<g id=\"edge12\" class=\"edge\">\n",
       "<title>11&#45;&gt;12</title>\n",
       "<path fill=\"none\" stroke=\"black\" d=\"M113,-287.7C113,-279.98 113,-270.71 113,-262.11\"/>\n",
       "<polygon fill=\"black\" stroke=\"black\" points=\"116.5,-262.1 113,-252.1 109.5,-262.1 116.5,-262.1\"/>\n",
       "</g>\n",
       "<!-- 14 -->\n",
       "<g id=\"node15\" class=\"node\">\n",
       "<title>14</title>\n",
       "<polygon fill=\"none\" stroke=\"white\" points=\"219,-324 165,-324 165,-288 219,-288 219,-324\"/>\n",
       "<text text-anchor=\"middle\" x=\"192\" y=\"-302.3\" font-family=\"'Fira Mono', 'Source Code Pro', 'Courier', monospace\" font-size=\"14.00\" fill=\"#00a060\">o</text>\n",
       "</g>\n",
       "<!-- 13&#45;&gt;14 -->\n",
       "<g id=\"edge14\" class=\"edge\">\n",
       "<title>13&#45;&gt;14</title>\n",
       "<path fill=\"none\" stroke=\"black\" d=\"M192,-359.7C192,-351.98 192,-342.71 192,-334.11\"/>\n",
       "<polygon fill=\"black\" stroke=\"black\" points=\"195.5,-334.1 192,-324.1 188.5,-334.1 195.5,-334.1\"/>\n",
       "</g>\n",
       "<!-- 16 -->\n",
       "<g id=\"node17\" class=\"node\">\n",
       "<title>16</title>\n",
       "<polygon fill=\"none\" stroke=\"white\" points=\"298,-396 244,-396 244,-360 298,-360 298,-396\"/>\n",
       "<text text-anchor=\"middle\" x=\"271\" y=\"-374.3\" font-family=\"'Fira Mono', 'Source Code Pro', 'Courier', monospace\" font-size=\"14.00\" fill=\"#00a060\">&gt;</text>\n",
       "</g>\n",
       "<!-- 15&#45;&gt;16 -->\n",
       "<g id=\"edge16\" class=\"edge\">\n",
       "<title>15&#45;&gt;16</title>\n",
       "<path fill=\"none\" stroke=\"black\" d=\"M268.74,-431.7C269.07,-423.98 269.47,-414.71 269.84,-406.11\"/>\n",
       "<polygon fill=\"black\" stroke=\"black\" points=\"273.34,-406.25 270.27,-396.1 266.34,-405.95 273.34,-406.25\"/>\n",
       "</g>\n",
       "<!-- 18 -->\n",
       "<g id=\"node19\" class=\"node\">\n",
       "<title>18</title>\n",
       "<polygon fill=\"none\" stroke=\"white\" points=\"436.5,-468 335.5,-468 335.5,-432 436.5,-432 436.5,-468\"/>\n",
       "<text text-anchor=\"middle\" x=\"386\" y=\"-446.3\" font-family=\"'Fira Mono', 'Source Code Pro', 'Courier', monospace\" font-size=\"14.00\" fill=\"#0060a0\">&lt;plain&#45;text&gt;</text>\n",
       "</g>\n",
       "<!-- 17&#45;&gt;18 -->\n",
       "<g id=\"edge18\" class=\"edge\">\n",
       "<title>17&#45;&gt;18</title>\n",
       "<path fill=\"none\" stroke=\"black\" d=\"M386,-503.7C386,-495.98 386,-486.71 386,-478.11\"/>\n",
       "<polygon fill=\"black\" stroke=\"black\" points=\"389.5,-478.1 386,-468.1 382.5,-478.1 389.5,-478.1\"/>\n",
       "</g>\n",
       "<!-- 19 -->\n",
       "<g id=\"node20\" class=\"node\">\n",
       "<title>19</title>\n",
       "<polygon fill=\"none\" stroke=\"white\" points=\"417.5,-396 316.5,-396 316.5,-360 417.5,-360 417.5,-396\"/>\n",
       "<text text-anchor=\"middle\" x=\"367\" y=\"-374.3\" font-family=\"'Fira Mono', 'Source Code Pro', 'Courier', monospace\" font-size=\"14.00\" fill=\"#0060a0\">&lt;plain&#45;char&gt;</text>\n",
       "</g>\n",
       "<!-- 18&#45;&gt;19 -->\n",
       "<g id=\"edge19\" class=\"edge\">\n",
       "<title>18&#45;&gt;19</title>\n",
       "<path fill=\"none\" stroke=\"black\" d=\"M381.3,-431.7C379.19,-423.9 376.64,-414.51 374.28,-405.83\"/>\n",
       "<polygon fill=\"black\" stroke=\"black\" points=\"377.64,-404.84 371.64,-396.1 370.88,-406.67 377.64,-404.84\"/>\n",
       "</g>\n",
       "<!-- 22 -->\n",
       "<g id=\"node23\" class=\"node\">\n",
       "<title>22</title>\n",
       "<polygon fill=\"none\" stroke=\"white\" points=\"536.5,-396 435.5,-396 435.5,-360 536.5,-360 536.5,-396\"/>\n",
       "<text text-anchor=\"middle\" x=\"486\" y=\"-374.3\" font-family=\"'Fira Mono', 'Source Code Pro', 'Courier', monospace\" font-size=\"14.00\" fill=\"#0060a0\">&lt;plain&#45;text&gt;</text>\n",
       "</g>\n",
       "<!-- 18&#45;&gt;22 -->\n",
       "<g id=\"edge22\" class=\"edge\">\n",
       "<title>18&#45;&gt;22</title>\n",
       "<path fill=\"none\" stroke=\"black\" d=\"M410.46,-431.88C423.3,-422.89 439.2,-411.76 453.09,-402.03\"/>\n",
       "<polygon fill=\"black\" stroke=\"black\" points=\"455.26,-404.79 461.44,-396.19 451.24,-399.06 455.26,-404.79\"/>\n",
       "</g>\n",
       "<!-- 20 -->\n",
       "<g id=\"node21\" class=\"node\">\n",
       "<title>20</title>\n",
       "<polygon fill=\"none\" stroke=\"white\" points=\"347.5,-324 288.5,-324 288.5,-288 347.5,-288 347.5,-324\"/>\n",
       "<text text-anchor=\"middle\" x=\"318\" y=\"-302.3\" font-family=\"'Fira Mono', 'Source Code Pro', 'Courier', monospace\" font-size=\"14.00\" fill=\"#0060a0\">&lt;other&gt;</text>\n",
       "</g>\n",
       "<!-- 19&#45;&gt;20 -->\n",
       "<g id=\"edge20\" class=\"edge\">\n",
       "<title>19&#45;&gt;20</title>\n",
       "<path fill=\"none\" stroke=\"black\" d=\"M354.89,-359.7C349.13,-351.47 342.14,-341.48 335.79,-332.42\"/>\n",
       "<polygon fill=\"black\" stroke=\"black\" points=\"338.58,-330.29 329.97,-324.1 332.84,-334.3 338.58,-330.29\"/>\n",
       "</g>\n",
       "<!-- 21 -->\n",
       "<g id=\"node22\" class=\"node\">\n",
       "<title>21</title>\n",
       "<polygon fill=\"none\" stroke=\"white\" points=\"345,-252 291,-252 291,-216 345,-216 345,-252\"/>\n",
       "<text text-anchor=\"middle\" x=\"318\" y=\"-230.3\" font-family=\"'Fira Mono', 'Source Code Pro', 'Courier', monospace\" font-size=\"14.00\" fill=\"#00a060\">&quot;</text>\n",
       "</g>\n",
       "<!-- 20&#45;&gt;21 -->\n",
       "<g id=\"edge21\" class=\"edge\">\n",
       "<title>20&#45;&gt;21</title>\n",
       "<path fill=\"none\" stroke=\"black\" d=\"M318,-287.7C318,-279.98 318,-270.71 318,-262.11\"/>\n",
       "<polygon fill=\"black\" stroke=\"black\" points=\"321.5,-262.1 318,-252.1 314.5,-262.1 321.5,-262.1\"/>\n",
       "</g>\n",
       "<!-- 23 -->\n",
       "<g id=\"node24\" class=\"node\">\n",
       "<title>23</title>\n",
       "<polygon fill=\"none\" stroke=\"white\" points=\"466.5,-324 365.5,-324 365.5,-288 466.5,-288 466.5,-324\"/>\n",
       "<text text-anchor=\"middle\" x=\"416\" y=\"-302.3\" font-family=\"'Fira Mono', 'Source Code Pro', 'Courier', monospace\" font-size=\"14.00\" fill=\"#0060a0\">&lt;plain&#45;char&gt;</text>\n",
       "</g>\n",
       "<!-- 22&#45;&gt;23 -->\n",
       "<g id=\"edge23\" class=\"edge\">\n",
       "<title>22&#45;&gt;23</title>\n",
       "<path fill=\"none\" stroke=\"black\" d=\"M468.7,-359.7C460.14,-351.14 449.66,-340.66 440.3,-331.3\"/>\n",
       "<polygon fill=\"black\" stroke=\"black\" points=\"442.65,-328.7 433.1,-324.1 437.7,-333.65 442.65,-328.7\"/>\n",
       "</g>\n",
       "<!-- 26 -->\n",
       "<g id=\"node27\" class=\"node\">\n",
       "<title>26</title>\n",
       "<polygon fill=\"none\" stroke=\"white\" points=\"585.5,-324 484.5,-324 484.5,-288 585.5,-288 585.5,-324\"/>\n",
       "<text text-anchor=\"middle\" x=\"535\" y=\"-302.3\" font-family=\"'Fira Mono', 'Source Code Pro', 'Courier', monospace\" font-size=\"14.00\" fill=\"#0060a0\">&lt;plain&#45;text&gt;</text>\n",
       "</g>\n",
       "<!-- 22&#45;&gt;26 -->\n",
       "<g id=\"edge26\" class=\"edge\">\n",
       "<title>22&#45;&gt;26</title>\n",
       "<path fill=\"none\" stroke=\"black\" d=\"M498.11,-359.7C503.87,-351.47 510.86,-341.48 517.21,-332.42\"/>\n",
       "<polygon fill=\"black\" stroke=\"black\" points=\"520.16,-334.3 523.03,-324.1 514.42,-330.29 520.16,-334.3\"/>\n",
       "</g>\n",
       "<!-- 24 -->\n",
       "<g id=\"node25\" class=\"node\">\n",
       "<title>24</title>\n",
       "<polygon fill=\"none\" stroke=\"white\" points=\"440,-252 372,-252 372,-216 440,-216 440,-252\"/>\n",
       "<text text-anchor=\"middle\" x=\"406\" y=\"-230.3\" font-family=\"'Fira Mono', 'Source Code Pro', 'Courier', monospace\" font-size=\"14.00\" fill=\"#0060a0\">&lt;letter&gt;</text>\n",
       "</g>\n",
       "<!-- 23&#45;&gt;24 -->\n",
       "<g id=\"edge24\" class=\"edge\">\n",
       "<title>23&#45;&gt;24</title>\n",
       "<path fill=\"none\" stroke=\"black\" d=\"M413.53,-287.7C412.43,-279.98 411.1,-270.71 409.87,-262.11\"/>\n",
       "<polygon fill=\"black\" stroke=\"black\" points=\"413.32,-261.51 408.44,-252.1 406.39,-262.5 413.32,-261.51\"/>\n",
       "</g>\n",
       "<!-- 25 -->\n",
       "<g id=\"node26\" class=\"node\">\n",
       "<title>25</title>\n",
       "<polygon fill=\"none\" stroke=\"white\" points=\"433,-180 379,-180 379,-144 433,-144 433,-180\"/>\n",
       "<text text-anchor=\"middle\" x=\"406\" y=\"-158.3\" font-family=\"'Fira Mono', 'Source Code Pro', 'Courier', monospace\" font-size=\"14.00\" fill=\"#00a060\">b</text>\n",
       "</g>\n",
       "<!-- 24&#45;&gt;25 -->\n",
       "<g id=\"edge25\" class=\"edge\">\n",
       "<title>24&#45;&gt;25</title>\n",
       "<path fill=\"none\" stroke=\"black\" d=\"M406,-215.7C406,-207.98 406,-198.71 406,-190.11\"/>\n",
       "<polygon fill=\"black\" stroke=\"black\" points=\"409.5,-190.1 406,-180.1 402.5,-190.1 409.5,-190.1\"/>\n",
       "</g>\n",
       "<!-- 27 -->\n",
       "<g id=\"node28\" class=\"node\">\n",
       "<title>27</title>\n",
       "<polygon fill=\"none\" stroke=\"white\" points=\"559.5,-252 458.5,-252 458.5,-216 559.5,-216 559.5,-252\"/>\n",
       "<text text-anchor=\"middle\" x=\"509\" y=\"-230.3\" font-family=\"'Fira Mono', 'Source Code Pro', 'Courier', monospace\" font-size=\"14.00\" fill=\"#0060a0\">&lt;plain&#45;char&gt;</text>\n",
       "</g>\n",
       "<!-- 26&#45;&gt;27 -->\n",
       "<g id=\"edge27\" class=\"edge\">\n",
       "<title>26&#45;&gt;27</title>\n",
       "<path fill=\"none\" stroke=\"black\" d=\"M528.57,-287.7C525.64,-279.81 522.11,-270.3 518.86,-261.55\"/>\n",
       "<polygon fill=\"black\" stroke=\"black\" points=\"522.12,-260.26 515.35,-252.1 515.55,-262.7 522.12,-260.26\"/>\n",
       "</g>\n",
       "<!-- 30 -->\n",
       "<g id=\"node31\" class=\"node\">\n",
       "<title>30</title>\n",
       "<polygon fill=\"none\" stroke=\"white\" points=\"678.5,-252 577.5,-252 577.5,-216 678.5,-216 678.5,-252\"/>\n",
       "<text text-anchor=\"middle\" x=\"628\" y=\"-230.3\" font-family=\"'Fira Mono', 'Source Code Pro', 'Courier', monospace\" font-size=\"14.00\" fill=\"#0060a0\">&lt;plain&#45;text&gt;</text>\n",
       "</g>\n",
       "<!-- 26&#45;&gt;30 -->\n",
       "<g id=\"edge30\" class=\"edge\">\n",
       "<title>26&#45;&gt;30</title>\n",
       "<path fill=\"none\" stroke=\"black\" d=\"M557.99,-287.7C569.81,-278.8 584.39,-267.82 597.18,-258.2\"/>\n",
       "<polygon fill=\"black\" stroke=\"black\" points=\"599.39,-260.91 605.28,-252.1 595.18,-255.32 599.39,-260.91\"/>\n",
       "</g>\n",
       "<!-- 28 -->\n",
       "<g id=\"node29\" class=\"node\">\n",
       "<title>28</title>\n",
       "<polygon fill=\"none\" stroke=\"white\" points=\"531,-180 463,-180 463,-144 531,-144 531,-180\"/>\n",
       "<text text-anchor=\"middle\" x=\"497\" y=\"-158.3\" font-family=\"'Fira Mono', 'Source Code Pro', 'Courier', monospace\" font-size=\"14.00\" fill=\"#0060a0\">&lt;letter&gt;</text>\n",
       "</g>\n",
       "<!-- 27&#45;&gt;28 -->\n",
       "<g id=\"edge28\" class=\"edge\">\n",
       "<title>27&#45;&gt;28</title>\n",
       "<path fill=\"none\" stroke=\"black\" d=\"M506.03,-215.7C504.71,-207.98 503.12,-198.71 501.65,-190.11\"/>\n",
       "<polygon fill=\"black\" stroke=\"black\" points=\"505.07,-189.37 499.93,-180.1 498.17,-190.55 505.07,-189.37\"/>\n",
       "</g>\n",
       "<!-- 29 -->\n",
       "<g id=\"node30\" class=\"node\">\n",
       "<title>29</title>\n",
       "<polygon fill=\"none\" stroke=\"white\" points=\"524,-108 470,-108 470,-72 524,-72 524,-108\"/>\n",
       "<text text-anchor=\"middle\" x=\"497\" y=\"-86.3\" font-family=\"'Fira Mono', 'Source Code Pro', 'Courier', monospace\" font-size=\"14.00\" fill=\"#00a060\">a</text>\n",
       "</g>\n",
       "<!-- 28&#45;&gt;29 -->\n",
       "<g id=\"edge29\" class=\"edge\">\n",
       "<title>28&#45;&gt;29</title>\n",
       "<path fill=\"none\" stroke=\"black\" d=\"M497,-143.7C497,-135.98 497,-126.71 497,-118.11\"/>\n",
       "<polygon fill=\"black\" stroke=\"black\" points=\"500.5,-118.1 497,-108.1 493.5,-118.1 500.5,-118.1\"/>\n",
       "</g>\n",
       "<!-- 31 -->\n",
       "<g id=\"node32\" class=\"node\">\n",
       "<title>31</title>\n",
       "<polygon fill=\"none\" stroke=\"white\" points=\"650.5,-180 549.5,-180 549.5,-144 650.5,-144 650.5,-180\"/>\n",
       "<text text-anchor=\"middle\" x=\"600\" y=\"-158.3\" font-family=\"'Fira Mono', 'Source Code Pro', 'Courier', monospace\" font-size=\"14.00\" fill=\"#0060a0\">&lt;plain&#45;char&gt;</text>\n",
       "</g>\n",
       "<!-- 30&#45;&gt;31 -->\n",
       "<g id=\"edge31\" class=\"edge\">\n",
       "<title>30&#45;&gt;31</title>\n",
       "<path fill=\"none\" stroke=\"black\" d=\"M621.08,-215.7C617.93,-207.81 614.12,-198.3 610.62,-189.55\"/>\n",
       "<polygon fill=\"black\" stroke=\"black\" points=\"613.81,-188.09 606.84,-180.1 607.31,-190.69 613.81,-188.09\"/>\n",
       "</g>\n",
       "<!-- 34 -->\n",
       "<g id=\"node35\" class=\"node\">\n",
       "<title>34</title>\n",
       "<polygon fill=\"none\" stroke=\"white\" points=\"769.5,-180 668.5,-180 668.5,-144 769.5,-144 769.5,-180\"/>\n",
       "<text text-anchor=\"middle\" x=\"719\" y=\"-158.3\" font-family=\"'Fira Mono', 'Source Code Pro', 'Courier', monospace\" font-size=\"14.00\" fill=\"#0060a0\">&lt;plain&#45;text&gt;</text>\n",
       "</g>\n",
       "<!-- 30&#45;&gt;34 -->\n",
       "<g id=\"edge34\" class=\"edge\">\n",
       "<title>30&#45;&gt;34</title>\n",
       "<path fill=\"none\" stroke=\"black\" d=\"M650.49,-215.7C661.96,-206.88 676.06,-196.03 688.48,-186.47\"/>\n",
       "<polygon fill=\"black\" stroke=\"black\" points=\"690.97,-188.98 696.76,-180.1 686.7,-183.43 690.97,-188.98\"/>\n",
       "</g>\n",
       "<!-- 32 -->\n",
       "<g id=\"node33\" class=\"node\">\n",
       "<title>32</title>\n",
       "<polygon fill=\"none\" stroke=\"white\" points=\"634,-108 566,-108 566,-72 634,-72 634,-108\"/>\n",
       "<text text-anchor=\"middle\" x=\"600\" y=\"-86.3\" font-family=\"'Fira Mono', 'Source Code Pro', 'Courier', monospace\" font-size=\"14.00\" fill=\"#0060a0\">&lt;letter&gt;</text>\n",
       "</g>\n",
       "<!-- 31&#45;&gt;32 -->\n",
       "<g id=\"edge32\" class=\"edge\">\n",
       "<title>31&#45;&gt;32</title>\n",
       "<path fill=\"none\" stroke=\"black\" d=\"M600,-143.7C600,-135.98 600,-126.71 600,-118.11\"/>\n",
       "<polygon fill=\"black\" stroke=\"black\" points=\"603.5,-118.1 600,-108.1 596.5,-118.1 603.5,-118.1\"/>\n",
       "</g>\n",
       "<!-- 33 -->\n",
       "<g id=\"node34\" class=\"node\">\n",
       "<title>33</title>\n",
       "<polygon fill=\"none\" stroke=\"white\" points=\"627,-36 573,-36 573,0 627,0 627,-36\"/>\n",
       "<text text-anchor=\"middle\" x=\"600\" y=\"-14.3\" font-family=\"'Fira Mono', 'Source Code Pro', 'Courier', monospace\" font-size=\"14.00\" fill=\"#00a060\">r</text>\n",
       "</g>\n",
       "<!-- 32&#45;&gt;33 -->\n",
       "<g id=\"edge33\" class=\"edge\">\n",
       "<title>32&#45;&gt;33</title>\n",
       "<path fill=\"none\" stroke=\"black\" d=\"M600,-71.7C600,-63.98 600,-54.71 600,-46.11\"/>\n",
       "<polygon fill=\"black\" stroke=\"black\" points=\"603.5,-46.1 600,-36.1 596.5,-46.1 603.5,-46.1\"/>\n",
       "</g>\n",
       "<!-- 36 -->\n",
       "<g id=\"node37\" class=\"node\">\n",
       "<title>36</title>\n",
       "<polygon fill=\"none\" stroke=\"white\" points=\"716,-468 662,-468 662,-432 716,-432 716,-468\"/>\n",
       "<text text-anchor=\"middle\" x=\"689\" y=\"-446.3\" font-family=\"'Fira Mono', 'Source Code Pro', 'Courier', monospace\" font-size=\"14.00\" fill=\"#0060a0\">&lt;lt&gt;</text>\n",
       "</g>\n",
       "<!-- 35&#45;&gt;36 -->\n",
       "<g id=\"edge36\" class=\"edge\">\n",
       "<title>35&#45;&gt;36</title>\n",
       "<path fill=\"none\" stroke=\"black\" d=\"M743.2,-503.7C734.4,-495.14 723.62,-484.66 714,-475.3\"/>\n",
       "<polygon fill=\"black\" stroke=\"black\" points=\"716.2,-472.57 706.59,-468.1 711.32,-477.58 716.2,-472.57\"/>\n",
       "</g>\n",
       "<!-- 38 -->\n",
       "<g id=\"node39\" class=\"node\">\n",
       "<title>38</title>\n",
       "<polygon fill=\"none\" stroke=\"white\" points=\"788,-468 734,-468 734,-432 788,-432 788,-468\"/>\n",
       "<text text-anchor=\"middle\" x=\"761\" y=\"-446.3\" font-family=\"'Fira Mono', 'Source Code Pro', 'Courier', monospace\" font-size=\"14.00\" fill=\"#00a060\">/</text>\n",
       "</g>\n",
       "<!-- 35&#45;&gt;38 -->\n",
       "<g id=\"edge38\" class=\"edge\">\n",
       "<title>35&#45;&gt;38</title>\n",
       "<path fill=\"none\" stroke=\"black\" d=\"M761,-503.7C761,-495.98 761,-486.71 761,-478.11\"/>\n",
       "<polygon fill=\"black\" stroke=\"black\" points=\"764.5,-478.1 761,-468.1 757.5,-478.1 764.5,-478.1\"/>\n",
       "</g>\n",
       "<!-- 39 -->\n",
       "<g id=\"node40\" class=\"node\">\n",
       "<title>39</title>\n",
       "<polygon fill=\"none\" stroke=\"white\" points=\"860,-468 806,-468 806,-432 860,-432 860,-468\"/>\n",
       "<text text-anchor=\"middle\" x=\"833\" y=\"-446.3\" font-family=\"'Fira Mono', 'Source Code Pro', 'Courier', monospace\" font-size=\"14.00\" fill=\"#0060a0\">&lt;id&gt;</text>\n",
       "</g>\n",
       "<!-- 35&#45;&gt;39 -->\n",
       "<g id=\"edge39\" class=\"edge\">\n",
       "<title>35&#45;&gt;39</title>\n",
       "<path fill=\"none\" stroke=\"black\" d=\"M778.8,-503.7C787.6,-495.14 798.38,-484.66 808,-475.3\"/>\n",
       "<polygon fill=\"black\" stroke=\"black\" points=\"810.68,-477.58 815.41,-468.1 805.8,-472.57 810.68,-477.58\"/>\n",
       "</g>\n",
       "<!-- 48 -->\n",
       "<g id=\"node49\" class=\"node\">\n",
       "<title>48</title>\n",
       "<polygon fill=\"none\" stroke=\"white\" points=\"975,-468 921,-468 921,-432 975,-432 975,-468\"/>\n",
       "<text text-anchor=\"middle\" x=\"948\" y=\"-446.3\" font-family=\"'Fira Mono', 'Source Code Pro', 'Courier', monospace\" font-size=\"14.00\" fill=\"#0060a0\">&lt;gt&gt;</text>\n",
       "</g>\n",
       "<!-- 35&#45;&gt;48 -->\n",
       "<g id=\"edge48\" class=\"edge\">\n",
       "<title>35&#45;&gt;48</title>\n",
       "<path fill=\"none\" stroke=\"black\" d=\"M806.75,-503.88C838.9,-491.84 881.36,-475.95 911.3,-464.74\"/>\n",
       "<polygon fill=\"black\" stroke=\"black\" points=\"912.8,-467.91 920.94,-461.13 910.35,-461.36 912.8,-467.91\"/>\n",
       "</g>\n",
       "<!-- 37 -->\n",
       "<g id=\"node38\" class=\"node\">\n",
       "<title>37</title>\n",
       "<polygon fill=\"none\" stroke=\"white\" points=\"716,-396 662,-396 662,-360 716,-360 716,-396\"/>\n",
       "<text text-anchor=\"middle\" x=\"689\" y=\"-374.3\" font-family=\"'Fira Mono', 'Source Code Pro', 'Courier', monospace\" font-size=\"14.00\" fill=\"#0060a0\">&lt;</text>\n",
       "</g>\n",
       "<!-- 36&#45;&gt;37 -->\n",
       "<g id=\"edge37\" class=\"edge\">\n",
       "<title>36&#45;&gt;37</title>\n",
       "<path fill=\"none\" stroke=\"black\" d=\"M689,-431.7C689,-423.98 689,-414.71 689,-406.11\"/>\n",
       "<polygon fill=\"black\" stroke=\"black\" points=\"692.5,-406.1 689,-396.1 685.5,-406.1 692.5,-406.1\"/>\n",
       "</g>\n",
       "<!-- 40 -->\n",
       "<g id=\"node41\" class=\"node\">\n",
       "<title>40</title>\n",
       "<polygon fill=\"none\" stroke=\"white\" points=\"839,-396 785,-396 785,-360 839,-360 839,-396\"/>\n",
       "<text text-anchor=\"middle\" x=\"812\" y=\"-374.3\" font-family=\"'Fira Mono', 'Source Code Pro', 'Courier', monospace\" font-size=\"14.00\" fill=\"#0060a0\">&lt;id&gt;</text>\n",
       "</g>\n",
       "<!-- 39&#45;&gt;40 -->\n",
       "<g id=\"edge40\" class=\"edge\">\n",
       "<title>39&#45;&gt;40</title>\n",
       "<path fill=\"none\" stroke=\"black\" d=\"M827.81,-431.7C825.47,-423.9 822.65,-414.51 820.05,-405.83\"/>\n",
       "<polygon fill=\"black\" stroke=\"black\" points=\"823.36,-404.68 817.13,-396.1 816.65,-406.69 823.36,-404.68\"/>\n",
       "</g>\n",
       "<!-- 46 -->\n",
       "<g id=\"node47\" class=\"node\">\n",
       "<title>46</title>\n",
       "<polygon fill=\"none\" stroke=\"white\" points=\"925,-396 857,-396 857,-360 925,-360 925,-396\"/>\n",
       "<text text-anchor=\"middle\" x=\"891\" y=\"-374.3\" font-family=\"'Fira Mono', 'Source Code Pro', 'Courier', monospace\" font-size=\"14.00\" fill=\"#0060a0\">&lt;letter&gt;</text>\n",
       "</g>\n",
       "<!-- 39&#45;&gt;46 -->\n",
       "<g id=\"edge46\" class=\"edge\">\n",
       "<title>39&#45;&gt;46</title>\n",
       "<path fill=\"none\" stroke=\"black\" d=\"M847.34,-431.7C854.29,-423.3 862.77,-413.07 870.4,-403.86\"/>\n",
       "<polygon fill=\"black\" stroke=\"black\" points=\"873.14,-406.04 876.83,-396.1 867.75,-401.57 873.14,-406.04\"/>\n",
       "</g>\n",
       "<!-- 41 -->\n",
       "<g id=\"node42\" class=\"node\">\n",
       "<title>41</title>\n",
       "<polygon fill=\"none\" stroke=\"white\" points=\"800,-324 746,-324 746,-288 800,-288 800,-324\"/>\n",
       "<text text-anchor=\"middle\" x=\"773\" y=\"-302.3\" font-family=\"'Fira Mono', 'Source Code Pro', 'Courier', monospace\" font-size=\"14.00\" fill=\"#0060a0\">&lt;id&gt;</text>\n",
       "</g>\n",
       "<!-- 40&#45;&gt;41 -->\n",
       "<g id=\"edge41\" class=\"edge\">\n",
       "<title>40&#45;&gt;41</title>\n",
       "<path fill=\"none\" stroke=\"black\" d=\"M802.36,-359.7C797.87,-351.64 792.44,-341.89 787.48,-332.98\"/>\n",
       "<polygon fill=\"black\" stroke=\"black\" points=\"790.45,-331.14 782.53,-324.1 784.34,-334.54 790.45,-331.14\"/>\n",
       "</g>\n",
       "<!-- 44 -->\n",
       "<g id=\"node45\" class=\"node\">\n",
       "<title>44</title>\n",
       "<polygon fill=\"none\" stroke=\"white\" points=\"886,-324 818,-324 818,-288 886,-288 886,-324\"/>\n",
       "<text text-anchor=\"middle\" x=\"852\" y=\"-302.3\" font-family=\"'Fira Mono', 'Source Code Pro', 'Courier', monospace\" font-size=\"14.00\" fill=\"#0060a0\">&lt;letter&gt;</text>\n",
       "</g>\n",
       "<!-- 40&#45;&gt;44 -->\n",
       "<g id=\"edge44\" class=\"edge\">\n",
       "<title>40&#45;&gt;44</title>\n",
       "<path fill=\"none\" stroke=\"black\" d=\"M821.89,-359.7C826.49,-351.64 832.06,-341.89 837.15,-332.98\"/>\n",
       "<polygon fill=\"black\" stroke=\"black\" points=\"840.3,-334.52 842.23,-324.1 834.23,-331.05 840.3,-334.52\"/>\n",
       "</g>\n",
       "<!-- 42 -->\n",
       "<g id=\"node43\" class=\"node\">\n",
       "<title>42</title>\n",
       "<polygon fill=\"none\" stroke=\"white\" points=\"807,-252 739,-252 739,-216 807,-216 807,-252\"/>\n",
       "<text text-anchor=\"middle\" x=\"773\" y=\"-230.3\" font-family=\"'Fira Mono', 'Source Code Pro', 'Courier', monospace\" font-size=\"14.00\" fill=\"#0060a0\">&lt;letter&gt;</text>\n",
       "</g>\n",
       "<!-- 41&#45;&gt;42 -->\n",
       "<g id=\"edge42\" class=\"edge\">\n",
       "<title>41&#45;&gt;42</title>\n",
       "<path fill=\"none\" stroke=\"black\" d=\"M773,-287.7C773,-279.98 773,-270.71 773,-262.11\"/>\n",
       "<polygon fill=\"black\" stroke=\"black\" points=\"776.5,-262.1 773,-252.1 769.5,-262.1 776.5,-262.1\"/>\n",
       "</g>\n",
       "<!-- 43 -->\n",
       "<g id=\"node44\" class=\"node\">\n",
       "<title>43</title>\n",
       "<polygon fill=\"none\" stroke=\"white\" points=\"842,-180 788,-180 788,-144 842,-144 842,-180\"/>\n",
       "<text text-anchor=\"middle\" x=\"815\" y=\"-158.3\" font-family=\"'Fira Mono', 'Source Code Pro', 'Courier', monospace\" font-size=\"14.00\" fill=\"#00a060\">f</text>\n",
       "</g>\n",
       "<!-- 42&#45;&gt;43 -->\n",
       "<g id=\"edge43\" class=\"edge\">\n",
       "<title>42&#45;&gt;43</title>\n",
       "<path fill=\"none\" stroke=\"black\" d=\"M783.38,-215.7C788.26,-207.56 794.19,-197.69 799.58,-188.7\"/>\n",
       "<polygon fill=\"black\" stroke=\"black\" points=\"802.59,-190.48 804.74,-180.1 796.59,-186.88 802.59,-190.48\"/>\n",
       "</g>\n",
       "<!-- 45 -->\n",
       "<g id=\"node46\" class=\"node\">\n",
       "<title>45</title>\n",
       "<polygon fill=\"none\" stroke=\"white\" points=\"879,-252 825,-252 825,-216 879,-216 879,-252\"/>\n",
       "<text text-anchor=\"middle\" x=\"852\" y=\"-230.3\" font-family=\"'Fira Mono', 'Source Code Pro', 'Courier', monospace\" font-size=\"14.00\" fill=\"#00a060\">o</text>\n",
       "</g>\n",
       "<!-- 44&#45;&gt;45 -->\n",
       "<g id=\"edge45\" class=\"edge\">\n",
       "<title>44&#45;&gt;45</title>\n",
       "<path fill=\"none\" stroke=\"black\" d=\"M852,-287.7C852,-279.98 852,-270.71 852,-262.11\"/>\n",
       "<polygon fill=\"black\" stroke=\"black\" points=\"855.5,-262.1 852,-252.1 848.5,-262.1 855.5,-262.1\"/>\n",
       "</g>\n",
       "<!-- 47 -->\n",
       "<g id=\"node48\" class=\"node\">\n",
       "<title>47</title>\n",
       "<polygon fill=\"none\" stroke=\"white\" points=\"958,-324 904,-324 904,-288 958,-288 958,-324\"/>\n",
       "<text text-anchor=\"middle\" x=\"931\" y=\"-302.3\" font-family=\"'Fira Mono', 'Source Code Pro', 'Courier', monospace\" font-size=\"14.00\" fill=\"#00a060\">o</text>\n",
       "</g>\n",
       "<!-- 46&#45;&gt;47 -->\n",
       "<g id=\"edge47\" class=\"edge\">\n",
       "<title>46&#45;&gt;47</title>\n",
       "<path fill=\"none\" stroke=\"black\" d=\"M900.89,-359.7C905.49,-351.64 911.06,-341.89 916.15,-332.98\"/>\n",
       "<polygon fill=\"black\" stroke=\"black\" points=\"919.3,-334.52 921.23,-324.1 913.23,-331.05 919.3,-334.52\"/>\n",
       "</g>\n",
       "<!-- 49 -->\n",
       "<g id=\"node50\" class=\"node\">\n",
       "<title>49</title>\n",
       "<polygon fill=\"none\" stroke=\"white\" points=\"997,-396 943,-396 943,-360 997,-360 997,-396\"/>\n",
       "<text text-anchor=\"middle\" x=\"970\" y=\"-374.3\" font-family=\"'Fira Mono', 'Source Code Pro', 'Courier', monospace\" font-size=\"14.00\" fill=\"#00a060\">&gt;</text>\n",
       "</g>\n",
       "<!-- 48&#45;&gt;49 -->\n",
       "<g id=\"edge49\" class=\"edge\">\n",
       "<title>48&#45;&gt;49</title>\n",
       "<path fill=\"none\" stroke=\"black\" d=\"M953.44,-431.7C955.89,-423.9 958.84,-414.51 961.57,-405.83\"/>\n",
       "<polygon fill=\"black\" stroke=\"black\" points=\"964.96,-406.69 964.62,-396.1 958.29,-404.59 964.96,-406.69\"/>\n",
       "</g>\n",
       "</g>\n",
       "</svg>\n"
      ],
      "text/plain": [
       "<graphviz.dot.Digraph at 0x111a050d0>"
      ]
     },
     "execution_count": 37,
     "metadata": {},
     "output_type": "execute_result"
    }
   ],
   "source": [
    "display_tree(bad_input_tree)"
   ]
  },
  {
   "cell_type": "markdown",
   "metadata": {
    "slideshow": {
     "slide_type": "subslide"
    }
   },
   "source": [
    "This derivation tree has the same structure as the one created from our `GrammarFuzzer` above. We see how the `<tagged-text>` is composed of three elements:\n",
    "\n",
    "1. an`<opening-tag>` (`<foo>`);\n",
    "2. a `<html>` element which becomes `<plain-text>` (`\"bar`); and\n",
    "3. a `<closing-tag>` (`</foo>`)."
   ]
  },
  {
   "cell_type": "markdown",
   "metadata": {
    "slideshow": {
     "slide_type": "fragment"
    }
   },
   "source": [
    "We can easily turn the tree back into a string. The method `tree_to_string()` traverses the tree left-to-right and joins all nonterminal symbols."
   ]
  },
  {
   "cell_type": "code",
   "execution_count": 38,
   "metadata": {
    "execution": {
     "iopub.execute_input": "2021-10-13T11:34:04.267691Z",
     "iopub.status.busy": "2021-10-13T11:34:04.267121Z",
     "iopub.status.idle": "2021-10-13T11:34:04.268768Z",
     "shell.execute_reply": "2021-10-13T11:34:04.269139Z"
    },
    "slideshow": {
     "slide_type": "skip"
    }
   },
   "outputs": [],
   "source": [
    "from fuzzingbook.GrammarFuzzer import tree_to_string, all_terminals"
   ]
  },
  {
   "cell_type": "code",
   "execution_count": 39,
   "metadata": {
    "execution": {
     "iopub.execute_input": "2021-10-13T11:34:04.272592Z",
     "iopub.status.busy": "2021-10-13T11:34:04.272065Z",
     "iopub.status.idle": "2021-10-13T11:34:04.274227Z",
     "shell.execute_reply": "2021-10-13T11:34:04.274597Z"
    },
    "slideshow": {
     "slide_type": "fragment"
    }
   },
   "outputs": [
    {
     "data": {
      "text/plain": [
       "'<foo>\"bar</foo>'"
      ]
     },
     "execution_count": 39,
     "metadata": {},
     "output_type": "execute_result"
    }
   ],
   "source": [
    "tree_to_string(bad_input_tree)"
   ]
  },
  {
   "cell_type": "code",
   "execution_count": 40,
   "metadata": {
    "execution": {
     "iopub.execute_input": "2021-10-13T11:34:04.277625Z",
     "iopub.status.busy": "2021-10-13T11:34:04.277103Z",
     "iopub.status.idle": "2021-10-13T11:34:04.278481Z",
     "shell.execute_reply": "2021-10-13T11:34:04.279019Z"
    },
    "slideshow": {
     "slide_type": "fragment"
    }
   },
   "outputs": [],
   "source": [
    "assert tree_to_string(bad_input_tree) == BAD_INPUT"
   ]
  },
  {
   "cell_type": "markdown",
   "metadata": {
    "slideshow": {
     "slide_type": "subslide"
    }
   },
   "source": [
    "With this, we can now\n",
    "\n",
    "* parse an input into a tree structure;\n",
    "* (re-)create parts of the tree structure; and\n",
    "* turn the tree back into an input string."
   ]
  },
  {
   "cell_type": "markdown",
   "metadata": {
    "slideshow": {
     "slide_type": "slide"
    }
   },
   "source": [
    "## Mutating the Tree\n",
    "\n",
    "We introduce a class `TreeMutator` that is set to mutate a tree. Its constructor takes a grammar and a tree."
   ]
  },
  {
   "cell_type": "code",
   "execution_count": 41,
   "metadata": {
    "execution": {
     "iopub.execute_input": "2021-10-13T11:34:04.282097Z",
     "iopub.status.busy": "2021-10-13T11:34:04.281573Z",
     "iopub.status.idle": "2021-10-13T11:34:04.283210Z",
     "shell.execute_reply": "2021-10-13T11:34:04.283580Z"
    },
    "slideshow": {
     "slide_type": "skip"
    }
   },
   "outputs": [],
   "source": [
    "from fuzzingbook.Grammars import is_valid_grammar"
   ]
  },
  {
   "cell_type": "code",
   "execution_count": 42,
   "metadata": {
    "execution": {
     "iopub.execute_input": "2021-10-13T11:34:04.288299Z",
     "iopub.status.busy": "2021-10-13T11:34:04.287767Z",
     "iopub.status.idle": "2021-10-13T11:34:04.289345Z",
     "shell.execute_reply": "2021-10-13T11:34:04.289714Z"
    },
    "slideshow": {
     "slide_type": "subslide"
    }
   },
   "outputs": [],
   "source": [
    "class TreeMutator:\n",
    "    \"\"\"Grammar-based mutations of derivation trees.\"\"\"\n",
    "\n",
    "    def __init__(self, grammar: Grammar, tree: DerivationTree,\n",
    "                 fuzzer: Optional[GrammarFuzzer] = None, log: Union[bool, int] = False):\n",
    "        \"\"\"\n",
    "        Constructor. \n",
    "        `grammar` is the underlying grammar; \n",
    "        `tree` is the tree to work on.\n",
    "        `fuzzer` is the grammar fuzzer to use (default: `GrammarFuzzer`)\n",
    "        \"\"\"\n",
    "\n",
    "        assert is_valid_grammar(grammar)\n",
    "        self.grammar = grammar\n",
    "        self.tree = tree\n",
    "        self.log = log\n",
    "\n",
    "        if fuzzer is None:\n",
    "            fuzzer = GrammarFuzzer(grammar)\n",
    "\n",
    "        self.fuzzer = fuzzer"
   ]
  },
  {
   "cell_type": "markdown",
   "metadata": {
    "slideshow": {
     "slide_type": "subslide"
    }
   },
   "source": [
    "### Referencing Subtrees"
   ]
  },
  {
   "cell_type": "markdown",
   "metadata": {
    "slideshow": {
     "slide_type": "fragment"
    }
   },
   "source": [
    "To reference individual elements in the tree, we introduce the concept of a _path_. A path is a list of numbers indicating the children (starting with 0) we should follow. A path `[0, 0, 0, ..., 0]` stands for the leftmost child in a tree."
   ]
  },
  {
   "cell_type": "code",
   "execution_count": 43,
   "metadata": {
    "execution": {
     "iopub.execute_input": "2021-10-13T11:34:04.292725Z",
     "iopub.status.busy": "2021-10-13T11:34:04.292198Z",
     "iopub.status.idle": "2021-10-13T11:34:04.293834Z",
     "shell.execute_reply": "2021-10-13T11:34:04.294203Z"
    },
    "slideshow": {
     "slide_type": "fragment"
    }
   },
   "outputs": [],
   "source": [
    "TreePath = List[int]"
   ]
  },
  {
   "cell_type": "markdown",
   "metadata": {
    "slideshow": {
     "slide_type": "fragment"
    }
   },
   "source": [
    "The method `get_subtree()` returns the subtree for a given path."
   ]
  },
  {
   "cell_type": "code",
   "execution_count": 44,
   "metadata": {
    "execution": {
     "iopub.execute_input": "2021-10-13T11:34:04.298303Z",
     "iopub.status.busy": "2021-10-13T11:34:04.297777Z",
     "iopub.status.idle": "2021-10-13T11:34:04.299364Z",
     "shell.execute_reply": "2021-10-13T11:34:04.299753Z"
    },
    "slideshow": {
     "slide_type": "subslide"
    }
   },
   "outputs": [],
   "source": [
    "class TreeMutator(TreeMutator):\n",
    "    def get_subtree(self, path: TreePath, tree: Optional[DerivationTree] = None) -> DerivationTree:\n",
    "        \"\"\"Access a subtree based on `path` (a list of children numbers)\"\"\"\n",
    "        if tree is None:\n",
    "            tree = self.tree\n",
    "\n",
    "        symbol, children = tree\n",
    "\n",
    "        if not path or children is None:\n",
    "            return tree\n",
    "\n",
    "        return self.get_subtree(path[1:], children[path[0]])"
   ]
  },
  {
   "cell_type": "markdown",
   "metadata": {
    "slideshow": {
     "slide_type": "subslide"
    }
   },
   "source": [
    "Here's `get_subtree()` in action. We instantiate a `TreeMutator` on the `BAD_INPUT` tree as shown above and return the element at the path `[0, 0, 1, 0]` – i.e. follow the leftmost edge twice, than the second-to-leftmost edge, then the leftmost edge again. This gives us the `<plain-text>` subtree representing the string `\"bar`:"
   ]
  },
  {
   "cell_type": "code",
   "execution_count": 45,
   "metadata": {
    "execution": {
     "iopub.execute_input": "2021-10-13T11:34:04.303017Z",
     "iopub.status.busy": "2021-10-13T11:34:04.302373Z",
     "iopub.status.idle": "2021-10-13T11:34:04.304174Z",
     "shell.execute_reply": "2021-10-13T11:34:04.304578Z"
    },
    "slideshow": {
     "slide_type": "fragment"
    }
   },
   "outputs": [],
   "source": [
    "def bad_input_tree_mutator() -> TreeMutator:\n",
    "    return TreeMutator(SIMPLE_HTML_GRAMMAR, bad_input_tree, log=2)    "
   ]
  },
  {
   "cell_type": "code",
   "execution_count": 46,
   "metadata": {
    "execution": {
     "iopub.execute_input": "2021-10-13T11:34:04.308973Z",
     "iopub.status.busy": "2021-10-13T11:34:04.308409Z",
     "iopub.status.idle": "2021-10-13T11:34:04.310940Z",
     "shell.execute_reply": "2021-10-13T11:34:04.311323Z"
    },
    "slideshow": {
     "slide_type": "fragment"
    }
   },
   "outputs": [
    {
     "name": "stdout",
     "output_type": "stream",
     "text": [
      "('<plain-text>',\n",
      " [('<plain-char>', [('<other>', [('\"', [])])]),\n",
      "  ('<plain-text>',\n",
      "   [('<plain-char>', [('<letter>', [...])]),\n",
      "    ('<plain-text>', [('<plain-char>', [...]), ('<plain-text>', [...])])])])\n"
     ]
    }
   ],
   "source": [
    "plain_text_subtree = bad_input_tree_mutator().get_subtree([0, 0, 1, 0])\n",
    "pp.pprint(plain_text_subtree)"
   ]
  },
  {
   "cell_type": "code",
   "execution_count": 47,
   "metadata": {
    "execution": {
     "iopub.execute_input": "2021-10-13T11:34:04.314942Z",
     "iopub.status.busy": "2021-10-13T11:34:04.314345Z",
     "iopub.status.idle": "2021-10-13T11:34:04.316955Z",
     "shell.execute_reply": "2021-10-13T11:34:04.317396Z"
    },
    "slideshow": {
     "slide_type": "subslide"
    }
   },
   "outputs": [
    {
     "data": {
      "text/plain": [
       "'\"bar'"
      ]
     },
     "execution_count": 47,
     "metadata": {},
     "output_type": "execute_result"
    }
   ],
   "source": [
    "tree_to_string(plain_text_subtree)"
   ]
  },
  {
   "cell_type": "code",
   "execution_count": 48,
   "metadata": {
    "execution": {
     "iopub.execute_input": "2021-10-13T11:34:04.321999Z",
     "iopub.status.busy": "2021-10-13T11:34:04.321467Z",
     "iopub.status.idle": "2021-10-13T11:34:04.323151Z",
     "shell.execute_reply": "2021-10-13T11:34:04.323689Z"
    },
    "slideshow": {
     "slide_type": "subslide"
    }
   },
   "outputs": [],
   "source": [
    "# ignore\n",
    "def primes_generator() -> Generator[int, None, None]:\n",
    "    # Adapted from https://www.python.org/ftp/python/doc/nluug-paper.ps\n",
    "    primes = [2]\n",
    "    yield 2\n",
    "    i = 3\n",
    "    while True:\n",
    "        for p in primes:\n",
    "            if i % p == 0 or p * p > i:\n",
    "                break\n",
    "\n",
    "        if i % p != 0:\n",
    "            primes.append(i)\n",
    "            yield i\n",
    "\n",
    "        i += 2"
   ]
  },
  {
   "cell_type": "code",
   "execution_count": 49,
   "metadata": {
    "execution": {
     "iopub.execute_input": "2021-10-13T11:34:04.327007Z",
     "iopub.status.busy": "2021-10-13T11:34:04.326273Z",
     "iopub.status.idle": "2021-10-13T11:34:04.327784Z",
     "shell.execute_reply": "2021-10-13T11:34:04.328317Z"
    },
    "slideshow": {
     "slide_type": "subslide"
    }
   },
   "outputs": [],
   "source": [
    "# ignore\n",
    "prime_numbers = primes_generator()"
   ]
  },
  {
   "cell_type": "code",
   "execution_count": 50,
   "metadata": {
    "execution": {
     "iopub.execute_input": "2021-10-13T11:34:04.340306Z",
     "iopub.status.busy": "2021-10-13T11:34:04.339719Z",
     "iopub.status.idle": "2021-10-13T11:34:04.342262Z",
     "shell.execute_reply": "2021-10-13T11:34:04.342637Z"
    },
    "slideshow": {
     "slide_type": "fragment"
    }
   },
   "outputs": [
    {
     "data": {
      "text/html": [
       "\n",
       "    \n",
       "    <script>\n",
       "    var bad_answers = new Map();\n",
       "\n",
       "    function answer(quiz_id) {\n",
       "        ans = 0;\n",
       "        for (i = 1;; i++) {\n",
       "            checkbox = document.getElementById(quiz_id + \"-\" + i.toString());\n",
       "            if (!checkbox)\n",
       "                break;\n",
       "            if (checkbox.checked)\n",
       "                ans |= (1 << i);\n",
       "        }\n",
       "        return ans;\n",
       "    }\n",
       "    function check_selection(quiz_id, correct_answer, multiple_choice, hint) {\n",
       "        given_answer = answer(quiz_id);\n",
       "        if (given_answer == correct_answer)\n",
       "        {\n",
       "            document.getElementById(quiz_id + \"-submit\").value = \"Correct!\";\n",
       "            document.getElementById(quiz_id + \"-hint\").innerHTML = \"\";\n",
       "\n",
       "            for (i = 1;; i++) {\n",
       "                checkbox = document.getElementById(quiz_id + \"-\" + i.toString());\n",
       "                label = document.getElementById(quiz_id + \"-\" + i.toString() + \"-label\")\n",
       "                if (!checkbox)\n",
       "                    break;\n",
       "    \n",
       "                if (checkbox.checked) {\n",
       "                    label.style.fontWeight = \"bold\";\n",
       "                }\n",
       "                else {\n",
       "                    label.style.textDecoration = \"line-through\";\n",
       "                }\n",
       "            }\n",
       "        }\n",
       "        else \n",
       "        {\n",
       "            document.getElementById(quiz_id + \"-submit\").value = \"Try again\";\n",
       "            \n",
       "            if (!bad_answers.has(quiz_id)) {\n",
       "                bad_answers.set(quiz_id, 1);\n",
       "            }\n",
       "            else {\n",
       "                bad_answers.set(quiz_id, bad_answers.get(quiz_id) + 1);\n",
       "            }\n",
       "\n",
       "            if (bad_answers.get(quiz_id) >= 2 && hint.length > 0) {\n",
       "                document.getElementById(quiz_id + \"-hint\").innerHTML = \n",
       "                    \"&nbsp;&nbsp;(Hint: <code>\" + hint + \"</code>)\";\n",
       "            }\n",
       "\n",
       "            if (!multiple_choice) {\n",
       "                for (i = 1;; i++) {\n",
       "                    checkbox = document.getElementById(quiz_id + \"-\" + i.toString());\n",
       "                    label = document.getElementById(quiz_id + \"-\" + i.toString() + \"-label\")\n",
       "\n",
       "                    if (!checkbox)\n",
       "                        break;\n",
       "                    if (checkbox.checked) {\n",
       "                        label.style.textDecoration = \"line-through\";\n",
       "                    }\n",
       "                }\n",
       "            }\n",
       "        }\n",
       "    }\n",
       "    function clear_selection(quiz_id) {\n",
       "        document.getElementById(quiz_id + \"-submit\").value = \"Submit\";\n",
       "        document.getElementById(quiz_id + \"-hint\").innerHTML = \"\";\n",
       "    }\n",
       "    </script>\n",
       "    \n",
       "    <div class=\"quiz\">\n",
       "    <h3 class=\"quiz_title\">Quiz</h3>\n",
       "    <p>\n",
       "    <div class=\"quiz_question\">In <code>bad_input_tree</code>, what is  the subtree at the path <code>[0, 0, 2, 1]</code> as string?</div>\n",
       "    </p>\n",
       "    <p>\n",
       "    <div class=\"quiz_options\" title=\"Pick a choice.\">\n",
       "    \n",
       "        <input type=\"radio\" name=\"782840aa-2c19-11ec-86d0-acde48001122\" id=\"782840aa-2c19-11ec-86d0-acde48001122-1\" onclick=\"clear_selection('782840aa-2c19-11ec-86d0-acde48001122')\">\n",
       "        <label id=\"782840aa-2c19-11ec-86d0-acde48001122-1-label\" for=\"782840aa-2c19-11ec-86d0-acde48001122-1\"><code>&lt;</code></label><br>\n",
       "    \n",
       "        <input type=\"radio\" name=\"782840aa-2c19-11ec-86d0-acde48001122\" id=\"782840aa-2c19-11ec-86d0-acde48001122-2\" onclick=\"clear_selection('782840aa-2c19-11ec-86d0-acde48001122')\">\n",
       "        <label id=\"782840aa-2c19-11ec-86d0-acde48001122-2-label\" for=\"782840aa-2c19-11ec-86d0-acde48001122-2\"><code>/</code></label><br>\n",
       "    \n",
       "        <input type=\"radio\" name=\"782840aa-2c19-11ec-86d0-acde48001122\" id=\"782840aa-2c19-11ec-86d0-acde48001122-3\" onclick=\"clear_selection('782840aa-2c19-11ec-86d0-acde48001122')\">\n",
       "        <label id=\"782840aa-2c19-11ec-86d0-acde48001122-3-label\" for=\"782840aa-2c19-11ec-86d0-acde48001122-3\"><code>&lt;/foo&gt;</code></label><br>\n",
       "    \n",
       "        <input type=\"radio\" name=\"782840aa-2c19-11ec-86d0-acde48001122\" id=\"782840aa-2c19-11ec-86d0-acde48001122-4\" onclick=\"clear_selection('782840aa-2c19-11ec-86d0-acde48001122')\">\n",
       "        <label id=\"782840aa-2c19-11ec-86d0-acde48001122-4-label\" for=\"782840aa-2c19-11ec-86d0-acde48001122-4\"><code>&lt;foo&gt;</code></label><br>\n",
       "    \n",
       "    </div>\n",
       "    </p>\n",
       "    <input id=\"782840aa-2c19-11ec-86d0-acde48001122-submit\" type=\"submit\" value=\"Submit\" onclick=\"check_selection('782840aa-2c19-11ec-86d0-acde48001122', 4, 0, 'next(prime_numbers)')\">\n",
       "    <span class=\"quiz_hint\" id=\"782840aa-2c19-11ec-86d0-acde48001122-hint\"></span>\n",
       "    </div>\n",
       "    "
      ],
      "text/plain": [
       "<IPython.core.display.HTML object>"
      ]
     },
     "execution_count": 50,
     "metadata": {},
     "output_type": "execute_result"
    }
   ],
   "source": [
    "quiz(\"In `bad_input_tree`, what is \"\n",
    "     \" the subtree at the path `[0, 0, 2, 1]` as string?\", \n",
    "    [\n",
    "        f\"`{tree_to_string(bad_input_tree_mutator().get_subtree([0, 0, 2, 0]))}`\",\n",
    "        f\"`{tree_to_string(bad_input_tree_mutator().get_subtree([0, 0, 2, 1]))}`\",\n",
    "        f\"`{tree_to_string(bad_input_tree_mutator().get_subtree([0, 0, 2]))}`\",\n",
    "        f\"`{tree_to_string(bad_input_tree_mutator().get_subtree([0, 0, 0]))}`\",\n",
    "    ], 'next(prime_numbers)', globals()\n",
    "    )"
   ]
  },
  {
   "cell_type": "markdown",
   "metadata": {
    "slideshow": {
     "slide_type": "subslide"
    }
   },
   "source": [
    "### Creating new Subtrees\n",
    "\n",
    "The method `new_tree()` creates a new subtree for the given `<start_symbol>` according to the rules of the grammar. It invokes `expand_tree()` on the given `GrammarFuzzer` – a method that takes an initial (empty) tree and expands it until no more expansions are left."
   ]
  },
  {
   "cell_type": "code",
   "execution_count": 51,
   "metadata": {
    "execution": {
     "iopub.execute_input": "2021-10-13T11:34:04.347600Z",
     "iopub.status.busy": "2021-10-13T11:34:04.346763Z",
     "iopub.status.idle": "2021-10-13T11:34:04.348848Z",
     "shell.execute_reply": "2021-10-13T11:34:04.349389Z"
    },
    "slideshow": {
     "slide_type": "subslide"
    }
   },
   "outputs": [],
   "source": [
    "class TreeMutator(TreeMutator):\n",
    "    def new_tree(self, start_symbol: str) -> DerivationTree:\n",
    "        \"\"\"Create a new subtree for <start_symbol>.\"\"\"\n",
    "\n",
    "        if self.log >= 2:\n",
    "            print(f\"Creating new tree for {start_symbol}\")\n",
    "\n",
    "        tree = (start_symbol, None)\n",
    "        return self.fuzzer.expand_tree(tree)"
   ]
  },
  {
   "cell_type": "markdown",
   "metadata": {
    "slideshow": {
     "slide_type": "fragment"
    }
   },
   "source": [
    "Here is an example of `new_tree()`:"
   ]
  },
  {
   "cell_type": "code",
   "execution_count": 52,
   "metadata": {
    "execution": {
     "iopub.execute_input": "2021-10-13T11:34:04.356218Z",
     "iopub.status.busy": "2021-10-13T11:34:04.355337Z",
     "iopub.status.idle": "2021-10-13T11:34:04.975678Z",
     "shell.execute_reply": "2021-10-13T11:34:04.976058Z"
    },
    "slideshow": {
     "slide_type": "fragment"
    }
   },
   "outputs": [
    {
     "name": "stdout",
     "output_type": "stream",
     "text": [
      "Creating new tree for <plain-text>\n"
     ]
    },
    {
     "data": {
      "image/svg+xml": [
       "<?xml version=\"1.0\" encoding=\"UTF-8\" standalone=\"no\"?>\n",
       "<!DOCTYPE svg PUBLIC \"-//W3C//DTD SVG 1.1//EN\"\n",
       " \"http://www.w3.org/Graphics/SVG/1.1/DTD/svg11.dtd\">\n",
       "<!-- Generated by graphviz version 2.49.1 (20210923.0004)\n",
       " -->\n",
       "<!-- Pages: 1 -->\n",
       "<svg width=\"109pt\" height=\"116pt\"\n",
       " viewBox=\"0.00 0.00 109.00 116.00\" xmlns=\"http://www.w3.org/2000/svg\" xmlns:xlink=\"http://www.w3.org/1999/xlink\">\n",
       "<g id=\"graph0\" class=\"graph\" transform=\"scale(1 1) rotate(0) translate(4 112)\">\n",
       "<polygon fill=\"white\" stroke=\"transparent\" points=\"-4,4 -4,-112 105,-112 105,4 -4,4\"/>\n",
       "<!-- 0 -->\n",
       "<g id=\"node1\" class=\"node\">\n",
       "<title>0</title>\n",
       "<polygon fill=\"none\" stroke=\"white\" points=\"101,-108 0,-108 0,-72 101,-72 101,-108\"/>\n",
       "<text text-anchor=\"middle\" x=\"50.5\" y=\"-86.3\" font-family=\"'Fira Mono', 'Source Code Pro', 'Courier', monospace\" font-size=\"14.00\" fill=\"#0060a0\">&lt;plain&#45;text&gt;</text>\n",
       "</g>\n",
       "<!-- 1 -->\n",
       "<g id=\"node2\" class=\"node\">\n",
       "<title>1</title>\n",
       "<polygon fill=\"none\" stroke=\"white\" points=\"77.5,-36 23.5,-36 23.5,0 77.5,0 77.5,-36\"/>\n",
       "</g>\n",
       "<!-- 0&#45;&gt;1 -->\n",
       "<g id=\"edge1\" class=\"edge\">\n",
       "<title>0&#45;&gt;1</title>\n",
       "<path fill=\"none\" stroke=\"black\" d=\"M50.5,-71.7C50.5,-63.98 50.5,-54.71 50.5,-46.11\"/>\n",
       "<polygon fill=\"black\" stroke=\"black\" points=\"54,-46.1 50.5,-36.1 47,-46.1 54,-46.1\"/>\n",
       "</g>\n",
       "</g>\n",
       "</svg>\n"
      ],
      "text/plain": [
       "<graphviz.dot.Digraph at 0x111a0efd0>"
      ]
     },
     "execution_count": 52,
     "metadata": {},
     "output_type": "execute_result"
    }
   ],
   "source": [
    "plain_text_tree = cast(TreeMutator, bad_input_tree_mutator()).new_tree('<plain-text>')\n",
    "display_tree(plain_text_tree)"
   ]
  },
  {
   "cell_type": "code",
   "execution_count": 53,
   "metadata": {
    "execution": {
     "iopub.execute_input": "2021-10-13T11:34:04.980368Z",
     "iopub.status.busy": "2021-10-13T11:34:04.979803Z",
     "iopub.status.idle": "2021-10-13T11:34:04.982060Z",
     "shell.execute_reply": "2021-10-13T11:34:04.982432Z"
    },
    "slideshow": {
     "slide_type": "subslide"
    }
   },
   "outputs": [
    {
     "data": {
      "text/plain": [
       "''"
      ]
     },
     "execution_count": 53,
     "metadata": {},
     "output_type": "execute_result"
    }
   ],
   "source": [
    "tree_to_string(plain_text_tree)"
   ]
  },
  {
   "cell_type": "markdown",
   "metadata": {
    "slideshow": {
     "slide_type": "subslide"
    }
   },
   "source": [
    "### Mutating the Tree\n",
    "\n",
    "With us now being able to \n",
    "* access a particular path in the tree (`get_subtree()`) and\n",
    "* create a new subtree (`new_tree()`),\n",
    "\n",
    "we can mutate the tree at a given path. This is the task of `mutate()`."
   ]
  },
  {
   "cell_type": "code",
   "execution_count": 54,
   "metadata": {
    "execution": {
     "iopub.execute_input": "2021-10-13T11:34:04.987550Z",
     "iopub.status.busy": "2021-10-13T11:34:04.987019Z",
     "iopub.status.idle": "2021-10-13T11:34:04.988554Z",
     "shell.execute_reply": "2021-10-13T11:34:04.988991Z"
    },
    "slideshow": {
     "slide_type": "subslide"
    }
   },
   "outputs": [],
   "source": [
    "class TreeMutator(TreeMutator):\n",
    "    def mutate(self, path: TreePath, tree: Optional[DerivationTree] = None) -> DerivationTree:\n",
    "        \"\"\"Return a new tree mutated at `path`\"\"\"\n",
    "        if tree is None:\n",
    "            tree = self.tree\n",
    "        assert tree is not None\n",
    "\n",
    "        symbol, children = tree\n",
    "\n",
    "        if not path or children is None:\n",
    "            return self.new_tree(symbol)\n",
    "\n",
    "        head = path[0]\n",
    "        new_children = (children[:head] +\n",
    "                        [self.mutate(path[1:], children[head])] +\n",
    "                        children[head + 1:])\n",
    "        return symbol, new_children"
   ]
  },
  {
   "cell_type": "markdown",
   "metadata": {
    "slideshow": {
     "slide_type": "subslide"
    }
   },
   "source": [
    "Here is an example of `mutate()` in action. We mutate `bad_input_tree` at the path `[0, 0, 1, 0]` – that is, `<plain-text>`:"
   ]
  },
  {
   "cell_type": "code",
   "execution_count": 55,
   "metadata": {
    "execution": {
     "iopub.execute_input": "2021-10-13T11:34:04.995573Z",
     "iopub.status.busy": "2021-10-13T11:34:04.995032Z",
     "iopub.status.idle": "2021-10-13T11:34:05.584377Z",
     "shell.execute_reply": "2021-10-13T11:34:05.584918Z"
    },
    "slideshow": {
     "slide_type": "fragment"
    }
   },
   "outputs": [
    {
     "name": "stdout",
     "output_type": "stream",
     "text": [
      "Creating new tree for <plain-text>\n"
     ]
    },
    {
     "data": {
      "image/svg+xml": [
       "<?xml version=\"1.0\" encoding=\"UTF-8\" standalone=\"no\"?>\n",
       "<!DOCTYPE svg PUBLIC \"-//W3C//DTD SVG 1.1//EN\"\n",
       " \"http://www.w3.org/Graphics/SVG/1.1/DTD/svg11.dtd\">\n",
       "<!-- Generated by graphviz version 2.49.1 (20210923.0004)\n",
       " -->\n",
       "<!-- Pages: 1 -->\n",
       "<svg width=\"847pt\" height=\"620pt\"\n",
       " viewBox=\"0.00 0.00 847.00 620.00\" xmlns=\"http://www.w3.org/2000/svg\" xmlns:xlink=\"http://www.w3.org/1999/xlink\">\n",
       "<g id=\"graph0\" class=\"graph\" transform=\"scale(1 1) rotate(0) translate(4 616)\">\n",
       "<polygon fill=\"white\" stroke=\"transparent\" points=\"-4,4 -4,-616 843,-616 843,4 -4,4\"/>\n",
       "<!-- 0 -->\n",
       "<g id=\"node1\" class=\"node\">\n",
       "<title>0</title>\n",
       "<polygon fill=\"none\" stroke=\"white\" points=\"415.5,-612 356.5,-612 356.5,-576 415.5,-576 415.5,-612\"/>\n",
       "<text text-anchor=\"middle\" x=\"386\" y=\"-590.3\" font-family=\"'Fira Mono', 'Source Code Pro', 'Courier', monospace\" font-size=\"14.00\" fill=\"#0060a0\">&lt;start&gt;</text>\n",
       "</g>\n",
       "<!-- 1 -->\n",
       "<g id=\"node2\" class=\"node\">\n",
       "<title>1</title>\n",
       "<polygon fill=\"none\" stroke=\"white\" points=\"413,-540 359,-540 359,-504 413,-504 413,-540\"/>\n",
       "<text text-anchor=\"middle\" x=\"386\" y=\"-518.3\" font-family=\"'Fira Mono', 'Source Code Pro', 'Courier', monospace\" font-size=\"14.00\" fill=\"#0060a0\">&lt;html&gt;</text>\n",
       "</g>\n",
       "<!-- 0&#45;&gt;1 -->\n",
       "<g id=\"edge1\" class=\"edge\">\n",
       "<title>0&#45;&gt;1</title>\n",
       "<path fill=\"none\" stroke=\"black\" d=\"M386,-575.7C386,-567.98 386,-558.71 386,-550.11\"/>\n",
       "<polygon fill=\"black\" stroke=\"black\" points=\"389.5,-550.1 386,-540.1 382.5,-550.1 389.5,-550.1\"/>\n",
       "</g>\n",
       "<!-- 2 -->\n",
       "<g id=\"node3\" class=\"node\">\n",
       "<title>2</title>\n",
       "<polygon fill=\"none\" stroke=\"white\" points=\"441,-468 331,-468 331,-432 441,-432 441,-468\"/>\n",
       "<text text-anchor=\"middle\" x=\"386\" y=\"-446.3\" font-family=\"'Fira Mono', 'Source Code Pro', 'Courier', monospace\" font-size=\"14.00\" fill=\"#0060a0\">&lt;tagged&#45;text&gt;</text>\n",
       "</g>\n",
       "<!-- 1&#45;&gt;2 -->\n",
       "<g id=\"edge2\" class=\"edge\">\n",
       "<title>1&#45;&gt;2</title>\n",
       "<path fill=\"none\" stroke=\"black\" d=\"M386,-503.7C386,-495.98 386,-486.71 386,-478.11\"/>\n",
       "<polygon fill=\"black\" stroke=\"black\" points=\"389.5,-478.1 386,-468.1 382.5,-478.1 389.5,-478.1\"/>\n",
       "</g>\n",
       "<!-- 3 -->\n",
       "<g id=\"node4\" class=\"node\">\n",
       "<title>3</title>\n",
       "<polygon fill=\"none\" stroke=\"white\" points=\"304,-396 194,-396 194,-360 304,-360 304,-396\"/>\n",
       "<text text-anchor=\"middle\" x=\"249\" y=\"-374.3\" font-family=\"'Fira Mono', 'Source Code Pro', 'Courier', monospace\" font-size=\"14.00\" fill=\"#0060a0\">&lt;opening&#45;tag&gt;</text>\n",
       "</g>\n",
       "<!-- 2&#45;&gt;3 -->\n",
       "<g id=\"edge3\" class=\"edge\">\n",
       "<title>2&#45;&gt;3</title>\n",
       "<path fill=\"none\" stroke=\"black\" d=\"M352.49,-431.88C334.16,-422.51 311.26,-410.81 291.67,-400.8\"/>\n",
       "<polygon fill=\"black\" stroke=\"black\" points=\"293.14,-397.62 282.64,-396.19 289.96,-403.86 293.14,-397.62\"/>\n",
       "</g>\n",
       "<!-- 17 -->\n",
       "<g id=\"node18\" class=\"node\">\n",
       "<title>17</title>\n",
       "<polygon fill=\"none\" stroke=\"white\" points=\"413,-396 359,-396 359,-360 413,-360 413,-396\"/>\n",
       "<text text-anchor=\"middle\" x=\"386\" y=\"-374.3\" font-family=\"'Fira Mono', 'Source Code Pro', 'Courier', monospace\" font-size=\"14.00\" fill=\"#0060a0\">&lt;html&gt;</text>\n",
       "</g>\n",
       "<!-- 2&#45;&gt;17 -->\n",
       "<g id=\"edge17\" class=\"edge\">\n",
       "<title>2&#45;&gt;17</title>\n",
       "<path fill=\"none\" stroke=\"black\" d=\"M386,-431.7C386,-423.98 386,-414.71 386,-406.11\"/>\n",
       "<polygon fill=\"black\" stroke=\"black\" points=\"389.5,-406.1 386,-396.1 382.5,-406.1 389.5,-406.1\"/>\n",
       "</g>\n",
       "<!-- 24 -->\n",
       "<g id=\"node25\" class=\"node\">\n",
       "<title>24</title>\n",
       "<polygon fill=\"none\" stroke=\"white\" points=\"709,-396 599,-396 599,-360 709,-360 709,-396\"/>\n",
       "<text text-anchor=\"middle\" x=\"654\" y=\"-374.3\" font-family=\"'Fira Mono', 'Source Code Pro', 'Courier', monospace\" font-size=\"14.00\" fill=\"#0060a0\">&lt;closing&#45;tag&gt;</text>\n",
       "</g>\n",
       "<!-- 2&#45;&gt;24 -->\n",
       "<g id=\"edge24\" class=\"edge\">\n",
       "<title>2&#45;&gt;24</title>\n",
       "<path fill=\"none\" stroke=\"black\" d=\"M441.2,-434.58C484.17,-423.36 543.91,-407.76 589.15,-395.94\"/>\n",
       "<polygon fill=\"black\" stroke=\"black\" points=\"590.08,-399.31 598.87,-393.4 588.31,-392.54 590.08,-399.31\"/>\n",
       "</g>\n",
       "<!-- 4 -->\n",
       "<g id=\"node5\" class=\"node\">\n",
       "<title>4</title>\n",
       "<polygon fill=\"none\" stroke=\"white\" points=\"108,-324 54,-324 54,-288 108,-288 108,-324\"/>\n",
       "<text text-anchor=\"middle\" x=\"81\" y=\"-302.3\" font-family=\"'Fira Mono', 'Source Code Pro', 'Courier', monospace\" font-size=\"14.00\" fill=\"#0060a0\">&lt;lt&gt;</text>\n",
       "</g>\n",
       "<!-- 3&#45;&gt;4 -->\n",
       "<g id=\"edge4\" class=\"edge\">\n",
       "<title>3&#45;&gt;4</title>\n",
       "<path fill=\"none\" stroke=\"black\" d=\"M207.9,-359.88C180.22,-348.34 144.03,-333.26 117.39,-322.16\"/>\n",
       "<polygon fill=\"black\" stroke=\"black\" points=\"118.62,-318.88 108.04,-318.27 115.92,-325.34 118.62,-318.88\"/>\n",
       "</g>\n",
       "<!-- 6 -->\n",
       "<g id=\"node7\" class=\"node\">\n",
       "<title>6</title>\n",
       "<polygon fill=\"none\" stroke=\"white\" points=\"219,-324 165,-324 165,-288 219,-288 219,-324\"/>\n",
       "<text text-anchor=\"middle\" x=\"192\" y=\"-302.3\" font-family=\"'Fira Mono', 'Source Code Pro', 'Courier', monospace\" font-size=\"14.00\" fill=\"#0060a0\">&lt;id&gt;</text>\n",
       "</g>\n",
       "<!-- 3&#45;&gt;6 -->\n",
       "<g id=\"edge6\" class=\"edge\">\n",
       "<title>3&#45;&gt;6</title>\n",
       "<path fill=\"none\" stroke=\"black\" d=\"M234.91,-359.7C228.08,-351.3 219.74,-341.07 212.24,-331.86\"/>\n",
       "<polygon fill=\"black\" stroke=\"black\" points=\"214.96,-329.65 205.93,-324.1 209.53,-334.07 214.96,-329.65\"/>\n",
       "</g>\n",
       "<!-- 15 -->\n",
       "<g id=\"node16\" class=\"node\">\n",
       "<title>15</title>\n",
       "<polygon fill=\"none\" stroke=\"white\" points=\"295,-324 241,-324 241,-288 295,-288 295,-324\"/>\n",
       "<text text-anchor=\"middle\" x=\"268\" y=\"-302.3\" font-family=\"'Fira Mono', 'Source Code Pro', 'Courier', monospace\" font-size=\"14.00\" fill=\"#0060a0\">&lt;gt&gt;</text>\n",
       "</g>\n",
       "<!-- 3&#45;&gt;15 -->\n",
       "<g id=\"edge15\" class=\"edge\">\n",
       "<title>3&#45;&gt;15</title>\n",
       "<path fill=\"none\" stroke=\"black\" d=\"M253.7,-359.7C255.81,-351.9 258.36,-342.51 260.72,-333.83\"/>\n",
       "<polygon fill=\"black\" stroke=\"black\" points=\"264.12,-334.67 263.36,-324.1 257.36,-332.84 264.12,-334.67\"/>\n",
       "</g>\n",
       "<!-- 5 -->\n",
       "<g id=\"node6\" class=\"node\">\n",
       "<title>5</title>\n",
       "<polygon fill=\"none\" stroke=\"white\" points=\"68,-252 14,-252 14,-216 68,-216 68,-252\"/>\n",
       "<text text-anchor=\"middle\" x=\"41\" y=\"-230.3\" font-family=\"'Fira Mono', 'Source Code Pro', 'Courier', monospace\" font-size=\"14.00\" fill=\"#0060a0\">&lt;</text>\n",
       "</g>\n",
       "<!-- 4&#45;&gt;5 -->\n",
       "<g id=\"edge5\" class=\"edge\">\n",
       "<title>4&#45;&gt;5</title>\n",
       "<path fill=\"none\" stroke=\"black\" d=\"M71.11,-287.7C66.51,-279.64 60.94,-269.89 55.85,-260.98\"/>\n",
       "<polygon fill=\"black\" stroke=\"black\" points=\"58.77,-259.05 50.77,-252.1 52.7,-262.52 58.77,-259.05\"/>\n",
       "</g>\n",
       "<!-- 7 -->\n",
       "<g id=\"node8\" class=\"node\">\n",
       "<title>7</title>\n",
       "<polygon fill=\"none\" stroke=\"white\" points=\"140,-252 86,-252 86,-216 140,-216 140,-252\"/>\n",
       "<text text-anchor=\"middle\" x=\"113\" y=\"-230.3\" font-family=\"'Fira Mono', 'Source Code Pro', 'Courier', monospace\" font-size=\"14.00\" fill=\"#0060a0\">&lt;id&gt;</text>\n",
       "</g>\n",
       "<!-- 6&#45;&gt;7 -->\n",
       "<g id=\"edge7\" class=\"edge\">\n",
       "<title>6&#45;&gt;7</title>\n",
       "<path fill=\"none\" stroke=\"black\" d=\"M172.47,-287.7C162.62,-278.97 150.51,-268.24 139.8,-258.75\"/>\n",
       "<polygon fill=\"black\" stroke=\"black\" points=\"142.11,-256.12 132.3,-252.1 137.47,-261.36 142.11,-256.12\"/>\n",
       "</g>\n",
       "<!-- 13 -->\n",
       "<g id=\"node14\" class=\"node\">\n",
       "<title>13</title>\n",
       "<polygon fill=\"none\" stroke=\"white\" points=\"226,-252 158,-252 158,-216 226,-216 226,-252\"/>\n",
       "<text text-anchor=\"middle\" x=\"192\" y=\"-230.3\" font-family=\"'Fira Mono', 'Source Code Pro', 'Courier', monospace\" font-size=\"14.00\" fill=\"#0060a0\">&lt;letter&gt;</text>\n",
       "</g>\n",
       "<!-- 6&#45;&gt;13 -->\n",
       "<g id=\"edge13\" class=\"edge\">\n",
       "<title>6&#45;&gt;13</title>\n",
       "<path fill=\"none\" stroke=\"black\" d=\"M192,-287.7C192,-279.98 192,-270.71 192,-262.11\"/>\n",
       "<polygon fill=\"black\" stroke=\"black\" points=\"195.5,-262.1 192,-252.1 188.5,-262.1 195.5,-262.1\"/>\n",
       "</g>\n",
       "<!-- 8 -->\n",
       "<g id=\"node9\" class=\"node\">\n",
       "<title>8</title>\n",
       "<polygon fill=\"none\" stroke=\"white\" points=\"61,-180 7,-180 7,-144 61,-144 61,-180\"/>\n",
       "<text text-anchor=\"middle\" x=\"34\" y=\"-158.3\" font-family=\"'Fira Mono', 'Source Code Pro', 'Courier', monospace\" font-size=\"14.00\" fill=\"#0060a0\">&lt;id&gt;</text>\n",
       "</g>\n",
       "<!-- 7&#45;&gt;8 -->\n",
       "<g id=\"edge8\" class=\"edge\">\n",
       "<title>7&#45;&gt;8</title>\n",
       "<path fill=\"none\" stroke=\"black\" d=\"M93.47,-215.7C83.62,-206.97 71.51,-196.24 60.8,-186.75\"/>\n",
       "<polygon fill=\"black\" stroke=\"black\" points=\"63.11,-184.12 53.3,-180.1 58.47,-189.36 63.11,-184.12\"/>\n",
       "</g>\n",
       "<!-- 11 -->\n",
       "<g id=\"node12\" class=\"node\">\n",
       "<title>11</title>\n",
       "<polygon fill=\"none\" stroke=\"white\" points=\"147,-180 79,-180 79,-144 147,-144 147,-180\"/>\n",
       "<text text-anchor=\"middle\" x=\"113\" y=\"-158.3\" font-family=\"'Fira Mono', 'Source Code Pro', 'Courier', monospace\" font-size=\"14.00\" fill=\"#0060a0\">&lt;letter&gt;</text>\n",
       "</g>\n",
       "<!-- 7&#45;&gt;11 -->\n",
       "<g id=\"edge11\" class=\"edge\">\n",
       "<title>7&#45;&gt;11</title>\n",
       "<path fill=\"none\" stroke=\"black\" d=\"M113,-215.7C113,-207.98 113,-198.71 113,-190.11\"/>\n",
       "<polygon fill=\"black\" stroke=\"black\" points=\"116.5,-190.1 113,-180.1 109.5,-190.1 116.5,-190.1\"/>\n",
       "</g>\n",
       "<!-- 9 -->\n",
       "<g id=\"node10\" class=\"node\">\n",
       "<title>9</title>\n",
       "<polygon fill=\"none\" stroke=\"white\" points=\"68,-108 0,-108 0,-72 68,-72 68,-108\"/>\n",
       "<text text-anchor=\"middle\" x=\"34\" y=\"-86.3\" font-family=\"'Fira Mono', 'Source Code Pro', 'Courier', monospace\" font-size=\"14.00\" fill=\"#0060a0\">&lt;letter&gt;</text>\n",
       "</g>\n",
       "<!-- 8&#45;&gt;9 -->\n",
       "<g id=\"edge9\" class=\"edge\">\n",
       "<title>8&#45;&gt;9</title>\n",
       "<path fill=\"none\" stroke=\"black\" d=\"M34,-143.7C34,-135.98 34,-126.71 34,-118.11\"/>\n",
       "<polygon fill=\"black\" stroke=\"black\" points=\"37.5,-118.1 34,-108.1 30.5,-118.1 37.5,-118.1\"/>\n",
       "</g>\n",
       "<!-- 10 -->\n",
       "<g id=\"node11\" class=\"node\">\n",
       "<title>10</title>\n",
       "<polygon fill=\"none\" stroke=\"white\" points=\"61,-36 7,-36 7,0 61,0 61,-36\"/>\n",
       "<text text-anchor=\"middle\" x=\"34\" y=\"-14.3\" font-family=\"'Fira Mono', 'Source Code Pro', 'Courier', monospace\" font-size=\"14.00\" fill=\"#00a060\">f</text>\n",
       "</g>\n",
       "<!-- 9&#45;&gt;10 -->\n",
       "<g id=\"edge10\" class=\"edge\">\n",
       "<title>9&#45;&gt;10</title>\n",
       "<path fill=\"none\" stroke=\"black\" d=\"M34,-71.7C34,-63.98 34,-54.71 34,-46.11\"/>\n",
       "<polygon fill=\"black\" stroke=\"black\" points=\"37.5,-46.1 34,-36.1 30.5,-46.1 37.5,-46.1\"/>\n",
       "</g>\n",
       "<!-- 12 -->\n",
       "<g id=\"node13\" class=\"node\">\n",
       "<title>12</title>\n",
       "<polygon fill=\"none\" stroke=\"white\" points=\"140,-108 86,-108 86,-72 140,-72 140,-108\"/>\n",
       "<text text-anchor=\"middle\" x=\"113\" y=\"-86.3\" font-family=\"'Fira Mono', 'Source Code Pro', 'Courier', monospace\" font-size=\"14.00\" fill=\"#00a060\">o</text>\n",
       "</g>\n",
       "<!-- 11&#45;&gt;12 -->\n",
       "<g id=\"edge12\" class=\"edge\">\n",
       "<title>11&#45;&gt;12</title>\n",
       "<path fill=\"none\" stroke=\"black\" d=\"M113,-143.7C113,-135.98 113,-126.71 113,-118.11\"/>\n",
       "<polygon fill=\"black\" stroke=\"black\" points=\"116.5,-118.1 113,-108.1 109.5,-118.1 116.5,-118.1\"/>\n",
       "</g>\n",
       "<!-- 14 -->\n",
       "<g id=\"node15\" class=\"node\">\n",
       "<title>14</title>\n",
       "<polygon fill=\"none\" stroke=\"white\" points=\"219,-180 165,-180 165,-144 219,-144 219,-180\"/>\n",
       "<text text-anchor=\"middle\" x=\"192\" y=\"-158.3\" font-family=\"'Fira Mono', 'Source Code Pro', 'Courier', monospace\" font-size=\"14.00\" fill=\"#00a060\">o</text>\n",
       "</g>\n",
       "<!-- 13&#45;&gt;14 -->\n",
       "<g id=\"edge14\" class=\"edge\">\n",
       "<title>13&#45;&gt;14</title>\n",
       "<path fill=\"none\" stroke=\"black\" d=\"M192,-215.7C192,-207.98 192,-198.71 192,-190.11\"/>\n",
       "<polygon fill=\"black\" stroke=\"black\" points=\"195.5,-190.1 192,-180.1 188.5,-190.1 195.5,-190.1\"/>\n",
       "</g>\n",
       "<!-- 16 -->\n",
       "<g id=\"node17\" class=\"node\">\n",
       "<title>16</title>\n",
       "<polygon fill=\"none\" stroke=\"white\" points=\"298,-252 244,-252 244,-216 298,-216 298,-252\"/>\n",
       "<text text-anchor=\"middle\" x=\"271\" y=\"-230.3\" font-family=\"'Fira Mono', 'Source Code Pro', 'Courier', monospace\" font-size=\"14.00\" fill=\"#00a060\">&gt;</text>\n",
       "</g>\n",
       "<!-- 15&#45;&gt;16 -->\n",
       "<g id=\"edge16\" class=\"edge\">\n",
       "<title>15&#45;&gt;16</title>\n",
       "<path fill=\"none\" stroke=\"black\" d=\"M268.74,-287.7C269.07,-279.98 269.47,-270.71 269.84,-262.11\"/>\n",
       "<polygon fill=\"black\" stroke=\"black\" points=\"273.34,-262.25 270.27,-252.1 266.34,-261.95 273.34,-262.25\"/>\n",
       "</g>\n",
       "<!-- 18 -->\n",
       "<g id=\"node19\" class=\"node\">\n",
       "<title>18</title>\n",
       "<polygon fill=\"none\" stroke=\"white\" points=\"436.5,-324 335.5,-324 335.5,-288 436.5,-288 436.5,-324\"/>\n",
       "<text text-anchor=\"middle\" x=\"386\" y=\"-302.3\" font-family=\"'Fira Mono', 'Source Code Pro', 'Courier', monospace\" font-size=\"14.00\" fill=\"#0060a0\">&lt;plain&#45;text&gt;</text>\n",
       "</g>\n",
       "<!-- 17&#45;&gt;18 -->\n",
       "<g id=\"edge18\" class=\"edge\">\n",
       "<title>17&#45;&gt;18</title>\n",
       "<path fill=\"none\" stroke=\"black\" d=\"M386,-359.7C386,-351.98 386,-342.71 386,-334.11\"/>\n",
       "<polygon fill=\"black\" stroke=\"black\" points=\"389.5,-334.1 386,-324.1 382.5,-334.1 389.5,-334.1\"/>\n",
       "</g>\n",
       "<!-- 19 -->\n",
       "<g id=\"node20\" class=\"node\">\n",
       "<title>19</title>\n",
       "<polygon fill=\"none\" stroke=\"white\" points=\"417.5,-252 316.5,-252 316.5,-216 417.5,-216 417.5,-252\"/>\n",
       "<text text-anchor=\"middle\" x=\"367\" y=\"-230.3\" font-family=\"'Fira Mono', 'Source Code Pro', 'Courier', monospace\" font-size=\"14.00\" fill=\"#0060a0\">&lt;plain&#45;char&gt;</text>\n",
       "</g>\n",
       "<!-- 18&#45;&gt;19 -->\n",
       "<g id=\"edge19\" class=\"edge\">\n",
       "<title>18&#45;&gt;19</title>\n",
       "<path fill=\"none\" stroke=\"black\" d=\"M381.3,-287.7C379.19,-279.9 376.64,-270.51 374.28,-261.83\"/>\n",
       "<polygon fill=\"black\" stroke=\"black\" points=\"377.64,-260.84 371.64,-252.1 370.88,-262.67 377.64,-260.84\"/>\n",
       "</g>\n",
       "<!-- 22 -->\n",
       "<g id=\"node23\" class=\"node\">\n",
       "<title>22</title>\n",
       "<polygon fill=\"none\" stroke=\"white\" points=\"536.5,-252 435.5,-252 435.5,-216 536.5,-216 536.5,-252\"/>\n",
       "<text text-anchor=\"middle\" x=\"486\" y=\"-230.3\" font-family=\"'Fira Mono', 'Source Code Pro', 'Courier', monospace\" font-size=\"14.00\" fill=\"#0060a0\">&lt;plain&#45;text&gt;</text>\n",
       "</g>\n",
       "<!-- 18&#45;&gt;22 -->\n",
       "<g id=\"edge22\" class=\"edge\">\n",
       "<title>18&#45;&gt;22</title>\n",
       "<path fill=\"none\" stroke=\"black\" d=\"M410.46,-287.88C423.3,-278.89 439.2,-267.76 453.09,-258.03\"/>\n",
       "<polygon fill=\"black\" stroke=\"black\" points=\"455.26,-260.79 461.44,-252.19 451.24,-255.06 455.26,-260.79\"/>\n",
       "</g>\n",
       "<!-- 20 -->\n",
       "<g id=\"node21\" class=\"node\">\n",
       "<title>20</title>\n",
       "<polygon fill=\"none\" stroke=\"white\" points=\"417.5,-180 316.5,-180 316.5,-144 417.5,-144 417.5,-180\"/>\n",
       "<text text-anchor=\"middle\" x=\"367\" y=\"-158.3\" font-family=\"'Fira Mono', 'Source Code Pro', 'Courier', monospace\" font-size=\"14.00\" fill=\"#0060a0\">&lt;whitespace&gt;</text>\n",
       "</g>\n",
       "<!-- 19&#45;&gt;20 -->\n",
       "<g id=\"edge20\" class=\"edge\">\n",
       "<title>19&#45;&gt;20</title>\n",
       "<path fill=\"none\" stroke=\"black\" d=\"M367,-215.7C367,-207.98 367,-198.71 367,-190.11\"/>\n",
       "<polygon fill=\"black\" stroke=\"black\" points=\"370.5,-190.1 367,-180.1 363.5,-190.1 370.5,-190.1\"/>\n",
       "</g>\n",
       "<!-- 21 -->\n",
       "<g id=\"node22\" class=\"node\">\n",
       "<title>21</title>\n",
       "<polygon fill=\"none\" stroke=\"white\" points=\"394,-108 340,-108 340,-72 394,-72 394,-108\"/>\n",
       "<text text-anchor=\"middle\" x=\"367\" y=\"-86.3\" font-family=\"'Fira Mono', 'Source Code Pro', 'Courier', monospace\" font-size=\"14.00\" fill=\"#00a060\"> </text>\n",
       "</g>\n",
       "<!-- 20&#45;&gt;21 -->\n",
       "<g id=\"edge21\" class=\"edge\">\n",
       "<title>20&#45;&gt;21</title>\n",
       "<path fill=\"none\" stroke=\"black\" d=\"M367,-143.7C367,-135.98 367,-126.71 367,-118.11\"/>\n",
       "<polygon fill=\"black\" stroke=\"black\" points=\"370.5,-118.1 367,-108.1 363.5,-118.1 370.5,-118.1\"/>\n",
       "</g>\n",
       "<!-- 23 -->\n",
       "<g id=\"node24\" class=\"node\">\n",
       "<title>23</title>\n",
       "<polygon fill=\"none\" stroke=\"white\" points=\"513,-180 459,-180 459,-144 513,-144 513,-180\"/>\n",
       "</g>\n",
       "<!-- 22&#45;&gt;23 -->\n",
       "<g id=\"edge23\" class=\"edge\">\n",
       "<title>22&#45;&gt;23</title>\n",
       "<path fill=\"none\" stroke=\"black\" d=\"M486,-215.7C486,-207.98 486,-198.71 486,-190.11\"/>\n",
       "<polygon fill=\"black\" stroke=\"black\" points=\"489.5,-190.1 486,-180.1 482.5,-190.1 489.5,-190.1\"/>\n",
       "</g>\n",
       "<!-- 25 -->\n",
       "<g id=\"node26\" class=\"node\">\n",
       "<title>25</title>\n",
       "<polygon fill=\"none\" stroke=\"white\" points=\"609,-324 555,-324 555,-288 609,-288 609,-324\"/>\n",
       "<text text-anchor=\"middle\" x=\"582\" y=\"-302.3\" font-family=\"'Fira Mono', 'Source Code Pro', 'Courier', monospace\" font-size=\"14.00\" fill=\"#0060a0\">&lt;lt&gt;</text>\n",
       "</g>\n",
       "<!-- 24&#45;&gt;25 -->\n",
       "<g id=\"edge25\" class=\"edge\">\n",
       "<title>24&#45;&gt;25</title>\n",
       "<path fill=\"none\" stroke=\"black\" d=\"M636.2,-359.7C627.4,-351.14 616.62,-340.66 607,-331.3\"/>\n",
       "<polygon fill=\"black\" stroke=\"black\" points=\"609.2,-328.57 599.59,-324.1 604.32,-333.58 609.2,-328.57\"/>\n",
       "</g>\n",
       "<!-- 27 -->\n",
       "<g id=\"node28\" class=\"node\">\n",
       "<title>27</title>\n",
       "<polygon fill=\"none\" stroke=\"white\" points=\"681,-324 627,-324 627,-288 681,-288 681,-324\"/>\n",
       "<text text-anchor=\"middle\" x=\"654\" y=\"-302.3\" font-family=\"'Fira Mono', 'Source Code Pro', 'Courier', monospace\" font-size=\"14.00\" fill=\"#00a060\">/</text>\n",
       "</g>\n",
       "<!-- 24&#45;&gt;27 -->\n",
       "<g id=\"edge27\" class=\"edge\">\n",
       "<title>24&#45;&gt;27</title>\n",
       "<path fill=\"none\" stroke=\"black\" d=\"M654,-359.7C654,-351.98 654,-342.71 654,-334.11\"/>\n",
       "<polygon fill=\"black\" stroke=\"black\" points=\"657.5,-334.1 654,-324.1 650.5,-334.1 657.5,-334.1\"/>\n",
       "</g>\n",
       "<!-- 28 -->\n",
       "<g id=\"node29\" class=\"node\">\n",
       "<title>28</title>\n",
       "<polygon fill=\"none\" stroke=\"white\" points=\"753,-324 699,-324 699,-288 753,-288 753,-324\"/>\n",
       "<text text-anchor=\"middle\" x=\"726\" y=\"-302.3\" font-family=\"'Fira Mono', 'Source Code Pro', 'Courier', monospace\" font-size=\"14.00\" fill=\"#0060a0\">&lt;id&gt;</text>\n",
       "</g>\n",
       "<!-- 24&#45;&gt;28 -->\n",
       "<g id=\"edge28\" class=\"edge\">\n",
       "<title>24&#45;&gt;28</title>\n",
       "<path fill=\"none\" stroke=\"black\" d=\"M671.8,-359.7C680.6,-351.14 691.38,-340.66 701,-331.3\"/>\n",
       "<polygon fill=\"black\" stroke=\"black\" points=\"703.68,-333.58 708.41,-324.1 698.8,-328.57 703.68,-333.58\"/>\n",
       "</g>\n",
       "<!-- 37 -->\n",
       "<g id=\"node38\" class=\"node\">\n",
       "<title>37</title>\n",
       "<polygon fill=\"none\" stroke=\"white\" points=\"832,-324 778,-324 778,-288 832,-288 832,-324\"/>\n",
       "<text text-anchor=\"middle\" x=\"805\" y=\"-302.3\" font-family=\"'Fira Mono', 'Source Code Pro', 'Courier', monospace\" font-size=\"14.00\" fill=\"#0060a0\">&lt;gt&gt;</text>\n",
       "</g>\n",
       "<!-- 24&#45;&gt;37 -->\n",
       "<g id=\"edge37\" class=\"edge\">\n",
       "<title>24&#45;&gt;37</title>\n",
       "<path fill=\"none\" stroke=\"black\" d=\"M690.94,-359.88C714.57,-348.92 745.1,-334.77 768.63,-323.86\"/>\n",
       "<polygon fill=\"black\" stroke=\"black\" points=\"770.31,-326.94 777.91,-319.56 767.37,-320.59 770.31,-326.94\"/>\n",
       "</g>\n",
       "<!-- 26 -->\n",
       "<g id=\"node27\" class=\"node\">\n",
       "<title>26</title>\n",
       "<polygon fill=\"none\" stroke=\"white\" points=\"609,-252 555,-252 555,-216 609,-216 609,-252\"/>\n",
       "<text text-anchor=\"middle\" x=\"582\" y=\"-230.3\" font-family=\"'Fira Mono', 'Source Code Pro', 'Courier', monospace\" font-size=\"14.00\" fill=\"#0060a0\">&lt;</text>\n",
       "</g>\n",
       "<!-- 25&#45;&gt;26 -->\n",
       "<g id=\"edge26\" class=\"edge\">\n",
       "<title>25&#45;&gt;26</title>\n",
       "<path fill=\"none\" stroke=\"black\" d=\"M582,-287.7C582,-279.98 582,-270.71 582,-262.11\"/>\n",
       "<polygon fill=\"black\" stroke=\"black\" points=\"585.5,-262.1 582,-252.1 578.5,-262.1 585.5,-262.1\"/>\n",
       "</g>\n",
       "<!-- 29 -->\n",
       "<g id=\"node30\" class=\"node\">\n",
       "<title>29</title>\n",
       "<polygon fill=\"none\" stroke=\"white\" points=\"681,-252 627,-252 627,-216 681,-216 681,-252\"/>\n",
       "<text text-anchor=\"middle\" x=\"654\" y=\"-230.3\" font-family=\"'Fira Mono', 'Source Code Pro', 'Courier', monospace\" font-size=\"14.00\" fill=\"#0060a0\">&lt;id&gt;</text>\n",
       "</g>\n",
       "<!-- 28&#45;&gt;29 -->\n",
       "<g id=\"edge29\" class=\"edge\">\n",
       "<title>28&#45;&gt;29</title>\n",
       "<path fill=\"none\" stroke=\"black\" d=\"M708.2,-287.7C699.4,-279.14 688.62,-268.66 679,-259.3\"/>\n",
       "<polygon fill=\"black\" stroke=\"black\" points=\"681.2,-256.57 671.59,-252.1 676.32,-261.58 681.2,-256.57\"/>\n",
       "</g>\n",
       "<!-- 35 -->\n",
       "<g id=\"node36\" class=\"node\">\n",
       "<title>35</title>\n",
       "<polygon fill=\"none\" stroke=\"white\" points=\"767,-252 699,-252 699,-216 767,-216 767,-252\"/>\n",
       "<text text-anchor=\"middle\" x=\"733\" y=\"-230.3\" font-family=\"'Fira Mono', 'Source Code Pro', 'Courier', monospace\" font-size=\"14.00\" fill=\"#0060a0\">&lt;letter&gt;</text>\n",
       "</g>\n",
       "<!-- 28&#45;&gt;35 -->\n",
       "<g id=\"edge35\" class=\"edge\">\n",
       "<title>28&#45;&gt;35</title>\n",
       "<path fill=\"none\" stroke=\"black\" d=\"M727.73,-287.7C728.5,-279.98 729.43,-270.71 730.29,-262.11\"/>\n",
       "<polygon fill=\"black\" stroke=\"black\" points=\"733.78,-262.4 731.29,-252.1 726.81,-261.71 733.78,-262.4\"/>\n",
       "</g>\n",
       "<!-- 30 -->\n",
       "<g id=\"node31\" class=\"node\">\n",
       "<title>30</title>\n",
       "<polygon fill=\"none\" stroke=\"white\" points=\"602,-180 548,-180 548,-144 602,-144 602,-180\"/>\n",
       "<text text-anchor=\"middle\" x=\"575\" y=\"-158.3\" font-family=\"'Fira Mono', 'Source Code Pro', 'Courier', monospace\" font-size=\"14.00\" fill=\"#0060a0\">&lt;id&gt;</text>\n",
       "</g>\n",
       "<!-- 29&#45;&gt;30 -->\n",
       "<g id=\"edge30\" class=\"edge\">\n",
       "<title>29&#45;&gt;30</title>\n",
       "<path fill=\"none\" stroke=\"black\" d=\"M634.47,-215.7C624.62,-206.97 612.51,-196.24 601.8,-186.75\"/>\n",
       "<polygon fill=\"black\" stroke=\"black\" points=\"604.11,-184.12 594.3,-180.1 599.47,-189.36 604.11,-184.12\"/>\n",
       "</g>\n",
       "<!-- 33 -->\n",
       "<g id=\"node34\" class=\"node\">\n",
       "<title>33</title>\n",
       "<polygon fill=\"none\" stroke=\"white\" points=\"688,-180 620,-180 620,-144 688,-144 688,-180\"/>\n",
       "<text text-anchor=\"middle\" x=\"654\" y=\"-158.3\" font-family=\"'Fira Mono', 'Source Code Pro', 'Courier', monospace\" font-size=\"14.00\" fill=\"#0060a0\">&lt;letter&gt;</text>\n",
       "</g>\n",
       "<!-- 29&#45;&gt;33 -->\n",
       "<g id=\"edge33\" class=\"edge\">\n",
       "<title>29&#45;&gt;33</title>\n",
       "<path fill=\"none\" stroke=\"black\" d=\"M654,-215.7C654,-207.98 654,-198.71 654,-190.11\"/>\n",
       "<polygon fill=\"black\" stroke=\"black\" points=\"657.5,-190.1 654,-180.1 650.5,-190.1 657.5,-190.1\"/>\n",
       "</g>\n",
       "<!-- 31 -->\n",
       "<g id=\"node32\" class=\"node\">\n",
       "<title>31</title>\n",
       "<polygon fill=\"none\" stroke=\"white\" points=\"609,-108 541,-108 541,-72 609,-72 609,-108\"/>\n",
       "<text text-anchor=\"middle\" x=\"575\" y=\"-86.3\" font-family=\"'Fira Mono', 'Source Code Pro', 'Courier', monospace\" font-size=\"14.00\" fill=\"#0060a0\">&lt;letter&gt;</text>\n",
       "</g>\n",
       "<!-- 30&#45;&gt;31 -->\n",
       "<g id=\"edge31\" class=\"edge\">\n",
       "<title>30&#45;&gt;31</title>\n",
       "<path fill=\"none\" stroke=\"black\" d=\"M575,-143.7C575,-135.98 575,-126.71 575,-118.11\"/>\n",
       "<polygon fill=\"black\" stroke=\"black\" points=\"578.5,-118.1 575,-108.1 571.5,-118.1 578.5,-118.1\"/>\n",
       "</g>\n",
       "<!-- 32 -->\n",
       "<g id=\"node33\" class=\"node\">\n",
       "<title>32</title>\n",
       "<polygon fill=\"none\" stroke=\"white\" points=\"602,-36 548,-36 548,0 602,0 602,-36\"/>\n",
       "<text text-anchor=\"middle\" x=\"575\" y=\"-14.3\" font-family=\"'Fira Mono', 'Source Code Pro', 'Courier', monospace\" font-size=\"14.00\" fill=\"#00a060\">f</text>\n",
       "</g>\n",
       "<!-- 31&#45;&gt;32 -->\n",
       "<g id=\"edge32\" class=\"edge\">\n",
       "<title>31&#45;&gt;32</title>\n",
       "<path fill=\"none\" stroke=\"black\" d=\"M575,-71.7C575,-63.98 575,-54.71 575,-46.11\"/>\n",
       "<polygon fill=\"black\" stroke=\"black\" points=\"578.5,-46.1 575,-36.1 571.5,-46.1 578.5,-46.1\"/>\n",
       "</g>\n",
       "<!-- 34 -->\n",
       "<g id=\"node35\" class=\"node\">\n",
       "<title>34</title>\n",
       "<polygon fill=\"none\" stroke=\"white\" points=\"681,-108 627,-108 627,-72 681,-72 681,-108\"/>\n",
       "<text text-anchor=\"middle\" x=\"654\" y=\"-86.3\" font-family=\"'Fira Mono', 'Source Code Pro', 'Courier', monospace\" font-size=\"14.00\" fill=\"#00a060\">o</text>\n",
       "</g>\n",
       "<!-- 33&#45;&gt;34 -->\n",
       "<g id=\"edge34\" class=\"edge\">\n",
       "<title>33&#45;&gt;34</title>\n",
       "<path fill=\"none\" stroke=\"black\" d=\"M654,-143.7C654,-135.98 654,-126.71 654,-118.11\"/>\n",
       "<polygon fill=\"black\" stroke=\"black\" points=\"657.5,-118.1 654,-108.1 650.5,-118.1 657.5,-118.1\"/>\n",
       "</g>\n",
       "<!-- 36 -->\n",
       "<g id=\"node37\" class=\"node\">\n",
       "<title>36</title>\n",
       "<polygon fill=\"none\" stroke=\"white\" points=\"760,-180 706,-180 706,-144 760,-144 760,-180\"/>\n",
       "<text text-anchor=\"middle\" x=\"733\" y=\"-158.3\" font-family=\"'Fira Mono', 'Source Code Pro', 'Courier', monospace\" font-size=\"14.00\" fill=\"#00a060\">o</text>\n",
       "</g>\n",
       "<!-- 35&#45;&gt;36 -->\n",
       "<g id=\"edge36\" class=\"edge\">\n",
       "<title>35&#45;&gt;36</title>\n",
       "<path fill=\"none\" stroke=\"black\" d=\"M733,-215.7C733,-207.98 733,-198.71 733,-190.11\"/>\n",
       "<polygon fill=\"black\" stroke=\"black\" points=\"736.5,-190.1 733,-180.1 729.5,-190.1 736.5,-190.1\"/>\n",
       "</g>\n",
       "<!-- 38 -->\n",
       "<g id=\"node39\" class=\"node\">\n",
       "<title>38</title>\n",
       "<polygon fill=\"none\" stroke=\"white\" points=\"839,-252 785,-252 785,-216 839,-216 839,-252\"/>\n",
       "<text text-anchor=\"middle\" x=\"812\" y=\"-230.3\" font-family=\"'Fira Mono', 'Source Code Pro', 'Courier', monospace\" font-size=\"14.00\" fill=\"#00a060\">&gt;</text>\n",
       "</g>\n",
       "<!-- 37&#45;&gt;38 -->\n",
       "<g id=\"edge38\" class=\"edge\">\n",
       "<title>37&#45;&gt;38</title>\n",
       "<path fill=\"none\" stroke=\"black\" d=\"M806.73,-287.7C807.5,-279.98 808.43,-270.71 809.29,-262.11\"/>\n",
       "<polygon fill=\"black\" stroke=\"black\" points=\"812.78,-262.4 810.29,-252.1 805.81,-261.71 812.78,-262.4\"/>\n",
       "</g>\n",
       "</g>\n",
       "</svg>\n"
      ],
      "text/plain": [
       "<graphviz.dot.Digraph at 0x111a0e9d0>"
      ]
     },
     "execution_count": 55,
     "metadata": {},
     "output_type": "execute_result"
    }
   ],
   "source": [
    "mutated_tree = cast(TreeMutator, bad_input_tree_mutator()).mutate([0, 0, 1, 0])\n",
    "display_tree(mutated_tree)"
   ]
  },
  {
   "cell_type": "markdown",
   "metadata": {
    "slideshow": {
     "slide_type": "fragment"
    }
   },
   "source": [
    "We see that the `<plain-text>` subtree is now different, which also becomes evident in the string representation."
   ]
  },
  {
   "cell_type": "code",
   "execution_count": 56,
   "metadata": {
    "execution": {
     "iopub.execute_input": "2021-10-13T11:34:05.589349Z",
     "iopub.status.busy": "2021-10-13T11:34:05.588805Z",
     "iopub.status.idle": "2021-10-13T11:34:05.590983Z",
     "shell.execute_reply": "2021-10-13T11:34:05.591348Z"
    },
    "slideshow": {
     "slide_type": "fragment"
    }
   },
   "outputs": [
    {
     "data": {
      "text/plain": [
       "'<foo> </foo>'"
      ]
     },
     "execution_count": 56,
     "metadata": {},
     "output_type": "execute_result"
    }
   ],
   "source": [
    "tree_to_string(mutated_tree)"
   ]
  },
  {
   "cell_type": "markdown",
   "metadata": {
    "slideshow": {
     "slide_type": "slide"
    }
   },
   "source": [
    "## Generalizing Trees\n",
    "\n",
    "Now for the main part – finding out which parts of a tree can be generalized. Our idea is to _test_ a finite number of mutations to a subtree (say, 10). If all of these tests fail as well, then we assume we can generalize the subtree to a placeholder."
   ]
  },
  {
   "cell_type": "markdown",
   "metadata": {
    "slideshow": {
     "slide_type": "fragment"
    }
   },
   "source": [
    "We introduce a class `TreeGeneralizer` for this purpose. On top of `grammar` and `tree` already used for the `TreeMutator` constructor, the `TreeGeneralizer` also takes a `test` function."
   ]
  },
  {
   "cell_type": "code",
   "execution_count": 57,
   "metadata": {
    "execution": {
     "iopub.execute_input": "2021-10-13T11:34:05.595985Z",
     "iopub.status.busy": "2021-10-13T11:34:05.595368Z",
     "iopub.status.idle": "2021-10-13T11:34:05.597183Z",
     "shell.execute_reply": "2021-10-13T11:34:05.597561Z"
    },
    "slideshow": {
     "slide_type": "subslide"
    }
   },
   "outputs": [],
   "source": [
    "class TreeGeneralizer(TreeMutator):\n",
    "    \"\"\"Determine which parts of a derivation tree can be generalized.\"\"\"\n",
    "\n",
    "    def __init__(self, grammar: Grammar, tree: DerivationTree, test: Callable,\n",
    "                 max_tries_for_generalization: int = 10, **kwargs: Any) -> None:\n",
    "        \"\"\"\n",
    "        Constructor. `grammar` and `tree` are as in `TreeMutator`.\n",
    "        `test` is a function taking a string that either\n",
    "          * raises an exception, indicating test failure;\n",
    "          * or not, indicating test success.\n",
    "        `max_tries_for_generalization` is the number of times\n",
    "        an instantiation has to fail before it is generalized.\n",
    "        \"\"\"\n",
    "\n",
    "        super().__init__(grammar, tree, **kwargs)\n",
    "        self.test = test\n",
    "        self.max_tries_for_generalization = max_tries_for_generalization"
   ]
  },
  {
   "cell_type": "markdown",
   "metadata": {
    "slideshow": {
     "slide_type": "subslide"
    }
   },
   "source": [
    "The `test` function is used in `test_tree()`, returning `False` if the test fails (raising an exception), and `True` if the test passes (no exception)."
   ]
  },
  {
   "cell_type": "code",
   "execution_count": 58,
   "metadata": {
    "execution": {
     "iopub.execute_input": "2021-10-13T11:34:05.602715Z",
     "iopub.status.busy": "2021-10-13T11:34:05.602181Z",
     "iopub.status.idle": "2021-10-13T11:34:05.603918Z",
     "shell.execute_reply": "2021-10-13T11:34:05.604297Z"
    },
    "slideshow": {
     "slide_type": "subslide"
    }
   },
   "outputs": [],
   "source": [
    "class TreeGeneralizer(TreeGeneralizer):\n",
    "    def test_tree(self, tree: DerivationTree) -> bool:\n",
    "        \"\"\"Return True if testing `tree` passes, else False\"\"\"\n",
    "        s = tree_to_string(tree)\n",
    "        if self.log:\n",
    "            print(f\"Testing {repr(s)}...\", end=\"\")\n",
    "        try:\n",
    "            self.test(s)\n",
    "        except Exception as exc:\n",
    "            if self.log:\n",
    "                print(f\"FAIL ({type(exc).__name__})\")\n",
    "            ret = False\n",
    "        else:\n",
    "            if self.log:\n",
    "                print(f\"PASS\")\n",
    "            ret = True\n",
    "\n",
    "        return ret"
   ]
  },
  {
   "cell_type": "markdown",
   "metadata": {
    "slideshow": {
     "slide_type": "subslide"
    }
   },
   "source": [
    "### Testing for Generalization\n",
    "\n",
    "The `can_generalize()` method brings the above methods together. It creates a number of tree mutations at the given path, and returns True if all of them produce a failure. (Note that this is not as sophisticated as our [delta debugger](DeltaDebugger.ipynb) implementation, which also checks that the _same_ error occurs.)"
   ]
  },
  {
   "cell_type": "code",
   "execution_count": 59,
   "metadata": {
    "execution": {
     "iopub.execute_input": "2021-10-13T11:34:05.608839Z",
     "iopub.status.busy": "2021-10-13T11:34:05.608289Z",
     "iopub.status.idle": "2021-10-13T11:34:05.610055Z",
     "shell.execute_reply": "2021-10-13T11:34:05.610435Z"
    },
    "slideshow": {
     "slide_type": "subslide"
    }
   },
   "outputs": [],
   "source": [
    "class TreeGeneralizer(TreeGeneralizer):\n",
    "    def can_generalize(self, path: TreePath, tree: Optional[DerivationTree] = None) -> bool:\n",
    "        \"\"\"Return True if the subtree at `path` can be generalized.\"\"\"\n",
    "        for i in range(self.max_tries_for_generalization):\n",
    "            mutated_tree = self.mutate(path, tree)\n",
    "            if self.test_tree(mutated_tree):\n",
    "                # Failure no longer occurs; cannot abstract\n",
    "                return False\n",
    "\n",
    "        return True"
   ]
  },
  {
   "cell_type": "markdown",
   "metadata": {
    "slideshow": {
     "slide_type": "fragment"
    }
   },
   "source": [
    "Let us put `TreeGeneralizer` into action. We can directly use `remove_html_markup()` as test function."
   ]
  },
  {
   "cell_type": "code",
   "execution_count": 60,
   "metadata": {
    "execution": {
     "iopub.execute_input": "2021-10-13T11:34:05.613885Z",
     "iopub.status.busy": "2021-10-13T11:34:05.613313Z",
     "iopub.status.idle": "2021-10-13T11:34:05.614934Z",
     "shell.execute_reply": "2021-10-13T11:34:05.615310Z"
    },
    "slideshow": {
     "slide_type": "fragment"
    }
   },
   "outputs": [],
   "source": [
    "def bad_input_tree_generalizer(**kwargs: Any) -> TreeGeneralizer:\n",
    "    return TreeGeneralizer(SIMPLE_HTML_GRAMMAR, bad_input_tree,\n",
    "                           remove_html_markup, **kwargs)"
   ]
  },
  {
   "cell_type": "markdown",
   "metadata": {
    "slideshow": {
     "slide_type": "subslide"
    }
   },
   "source": [
    "On our `BAD_INPUT` (and its tree), can we generalize the root `<html>` node? In other words, does the failure occur for all possible `<html>` inputs?"
   ]
  },
  {
   "cell_type": "code",
   "execution_count": 61,
   "metadata": {
    "execution": {
     "iopub.execute_input": "2021-10-13T11:34:05.623446Z",
     "iopub.status.busy": "2021-10-13T11:34:05.622845Z",
     "iopub.status.idle": "2021-10-13T11:34:05.626038Z",
     "shell.execute_reply": "2021-10-13T11:34:05.626419Z"
    },
    "slideshow": {
     "slide_type": "fragment"
    }
   },
   "outputs": [
    {
     "name": "stdout",
     "output_type": "stream",
     "text": [
      "Testing \"<l35Gmq W2G571=''>\"...PASS\n"
     ]
    },
    {
     "data": {
      "text/plain": [
       "False"
      ]
     },
     "execution_count": 61,
     "metadata": {},
     "output_type": "execute_result"
    }
   ],
   "source": [
    "bad_input_tree_generalizer(log=True).can_generalize([0])"
   ]
  },
  {
   "cell_type": "markdown",
   "metadata": {
    "slideshow": {
     "slide_type": "fragment"
    }
   },
   "source": [
    "The answer is no. The first alternative passes the test; hence no generalization."
   ]
  },
  {
   "cell_type": "markdown",
   "metadata": {
    "slideshow": {
     "slide_type": "fragment"
    }
   },
   "source": [
    "How about the middle `<plain_text>` part? Can we generalize this?"
   ]
  },
  {
   "cell_type": "code",
   "execution_count": 62,
   "metadata": {
    "execution": {
     "iopub.execute_input": "2021-10-13T11:34:05.631718Z",
     "iopub.status.busy": "2021-10-13T11:34:05.631137Z",
     "iopub.status.idle": "2021-10-13T11:34:05.634345Z",
     "shell.execute_reply": "2021-10-13T11:34:05.634715Z"
    },
    "slideshow": {
     "slide_type": "fragment"
    }
   },
   "outputs": [
    {
     "name": "stdout",
     "output_type": "stream",
     "text": [
      "Testing '<foo>8</foo>'...PASS\n"
     ]
    },
    {
     "data": {
      "text/plain": [
       "False"
      ]
     },
     "execution_count": 62,
     "metadata": {},
     "output_type": "execute_result"
    }
   ],
   "source": [
    "bad_input_tree_generalizer(log=True).can_generalize([0, 0, 1, 0])"
   ]
  },
  {
   "cell_type": "markdown",
   "metadata": {
    "slideshow": {
     "slide_type": "fragment"
    }
   },
   "source": [
    "The answer is no – just as above."
   ]
  },
  {
   "cell_type": "markdown",
   "metadata": {
    "slideshow": {
     "slide_type": "subslide"
    }
   },
   "source": [
    "How about the closing tag? Can we generalize this one?"
   ]
  },
  {
   "cell_type": "code",
   "execution_count": 63,
   "metadata": {
    "execution": {
     "iopub.execute_input": "2021-10-13T11:34:05.646535Z",
     "iopub.status.busy": "2021-10-13T11:34:05.645896Z",
     "iopub.status.idle": "2021-10-13T11:34:05.650621Z",
     "shell.execute_reply": "2021-10-13T11:34:05.651007Z"
    },
    "slideshow": {
     "slide_type": "fragment"
    }
   },
   "outputs": [
    {
     "name": "stdout",
     "output_type": "stream",
     "text": [
      "Testing '<foo>\"bar</e7N>'...FAIL (AssertionError)\n",
      "Testing '<foo>\"bar</q37A>'...FAIL (AssertionError)\n",
      "Testing '<foo>\"bar</W>'...FAIL (AssertionError)\n",
      "Testing '<foo>\"bar</z93Q5>'...FAIL (AssertionError)\n",
      "Testing '<foo>\"bar</WR>'...FAIL (AssertionError)\n",
      "Testing '<foo>\"bar</m>'...FAIL (AssertionError)\n",
      "Testing '<foo>\"bar</Uy443wt1h7>'...FAIL (AssertionError)\n",
      "Testing '<foo>\"bar</fon2>'...FAIL (AssertionError)\n",
      "Testing '<foo>\"bar</M>'...FAIL (AssertionError)\n",
      "Testing '<foo>\"bar</g9>'...FAIL (AssertionError)\n"
     ]
    },
    {
     "data": {
      "text/plain": [
       "True"
      ]
     },
     "execution_count": 63,
     "metadata": {},
     "output_type": "execute_result"
    }
   ],
   "source": [
    "bad_input_tree_generalizer(log=True).can_generalize([0, 0, 2])"
   ]
  },
  {
   "cell_type": "markdown",
   "metadata": {
    "slideshow": {
     "slide_type": "subslide"
    }
   },
   "source": [
    "Yes, we can! All alternate instantiations of `<closing-tag>` result in a failure."
   ]
  },
  {
   "cell_type": "code",
   "execution_count": 64,
   "metadata": {
    "execution": {
     "iopub.execute_input": "2021-10-13T11:34:05.657934Z",
     "iopub.status.busy": "2021-10-13T11:34:05.657197Z",
     "iopub.status.idle": "2021-10-13T11:34:05.660154Z",
     "shell.execute_reply": "2021-10-13T11:34:05.660604Z"
    },
    "slideshow": {
     "slide_type": "fragment"
    }
   },
   "outputs": [
    {
     "data": {
      "text/html": [
       "\n",
       "    \n",
       "    <script>\n",
       "    var bad_answers = new Map();\n",
       "\n",
       "    function answer(quiz_id) {\n",
       "        ans = 0;\n",
       "        for (i = 1;; i++) {\n",
       "            checkbox = document.getElementById(quiz_id + \"-\" + i.toString());\n",
       "            if (!checkbox)\n",
       "                break;\n",
       "            if (checkbox.checked)\n",
       "                ans |= (1 << i);\n",
       "        }\n",
       "        return ans;\n",
       "    }\n",
       "    function check_selection(quiz_id, correct_answer, multiple_choice, hint) {\n",
       "        given_answer = answer(quiz_id);\n",
       "        if (given_answer == correct_answer)\n",
       "        {\n",
       "            document.getElementById(quiz_id + \"-submit\").value = \"Correct!\";\n",
       "            document.getElementById(quiz_id + \"-hint\").innerHTML = \"\";\n",
       "\n",
       "            for (i = 1;; i++) {\n",
       "                checkbox = document.getElementById(quiz_id + \"-\" + i.toString());\n",
       "                label = document.getElementById(quiz_id + \"-\" + i.toString() + \"-label\")\n",
       "                if (!checkbox)\n",
       "                    break;\n",
       "    \n",
       "                if (checkbox.checked) {\n",
       "                    label.style.fontWeight = \"bold\";\n",
       "                }\n",
       "                else {\n",
       "                    label.style.textDecoration = \"line-through\";\n",
       "                }\n",
       "            }\n",
       "        }\n",
       "        else \n",
       "        {\n",
       "            document.getElementById(quiz_id + \"-submit\").value = \"Try again\";\n",
       "            \n",
       "            if (!bad_answers.has(quiz_id)) {\n",
       "                bad_answers.set(quiz_id, 1);\n",
       "            }\n",
       "            else {\n",
       "                bad_answers.set(quiz_id, bad_answers.get(quiz_id) + 1);\n",
       "            }\n",
       "\n",
       "            if (bad_answers.get(quiz_id) >= 2 && hint.length > 0) {\n",
       "                document.getElementById(quiz_id + \"-hint\").innerHTML = \n",
       "                    \"&nbsp;&nbsp;(Hint: <code>\" + hint + \"</code>)\";\n",
       "            }\n",
       "\n",
       "            if (!multiple_choice) {\n",
       "                for (i = 1;; i++) {\n",
       "                    checkbox = document.getElementById(quiz_id + \"-\" + i.toString());\n",
       "                    label = document.getElementById(quiz_id + \"-\" + i.toString() + \"-label\")\n",
       "\n",
       "                    if (!checkbox)\n",
       "                        break;\n",
       "                    if (checkbox.checked) {\n",
       "                        label.style.textDecoration = \"line-through\";\n",
       "                    }\n",
       "                }\n",
       "            }\n",
       "        }\n",
       "    }\n",
       "    function clear_selection(quiz_id) {\n",
       "        document.getElementById(quiz_id + \"-submit\").value = \"Submit\";\n",
       "        document.getElementById(quiz_id + \"-hint\").innerHTML = \"\";\n",
       "    }\n",
       "    </script>\n",
       "    \n",
       "    <div class=\"quiz\">\n",
       "    <h3 class=\"quiz_title\">Quiz</h3>\n",
       "    <p>\n",
       "    <div class=\"quiz_question\">Is this also true for <code>&lt;opening-tag&gt;</code>?</div>\n",
       "    </p>\n",
       "    <p>\n",
       "    <div class=\"quiz_options\" title=\"Pick a choice.\">\n",
       "    \n",
       "        <input type=\"radio\" name=\"78f172b8-2c19-11ec-86d0-acde48001122\" id=\"78f172b8-2c19-11ec-86d0-acde48001122-1\" onclick=\"clear_selection('78f172b8-2c19-11ec-86d0-acde48001122')\">\n",
       "        <label id=\"78f172b8-2c19-11ec-86d0-acde48001122-1-label\" for=\"78f172b8-2c19-11ec-86d0-acde48001122-1\">Yes</label><br>\n",
       "    \n",
       "        <input type=\"radio\" name=\"78f172b8-2c19-11ec-86d0-acde48001122\" id=\"78f172b8-2c19-11ec-86d0-acde48001122-2\" onclick=\"clear_selection('78f172b8-2c19-11ec-86d0-acde48001122')\">\n",
       "        <label id=\"78f172b8-2c19-11ec-86d0-acde48001122-2-label\" for=\"78f172b8-2c19-11ec-86d0-acde48001122-2\">No</label><br>\n",
       "    \n",
       "    </div>\n",
       "    </p>\n",
       "    <input id=\"78f172b8-2c19-11ec-86d0-acde48001122-submit\" type=\"submit\" value=\"Submit\" onclick=\"check_selection('78f172b8-2c19-11ec-86d0-acde48001122', 4, 0, '(&quot;Yes&quot; == &quot;Yes&quot;) + (&quot;No&quot; == &quot;No&quot;)')\">\n",
       "    <span class=\"quiz_hint\" id=\"78f172b8-2c19-11ec-86d0-acde48001122-hint\"></span>\n",
       "    </div>\n",
       "    "
      ],
      "text/plain": [
       "<IPython.core.display.HTML object>"
      ]
     },
     "execution_count": 64,
     "metadata": {},
     "output_type": "execute_result"
    }
   ],
   "source": [
    "quiz(\"Is this also true for `<opening-tag>`?\",\n",
    "     [\n",
    "         \"Yes\",\n",
    "         \"No\"\n",
    "     ], '(\"Yes\" == \"Yes\") + (\"No\" == \"No\")')"
   ]
  },
  {
   "cell_type": "markdown",
   "metadata": {
    "slideshow": {
     "slide_type": "fragment"
    }
   },
   "source": [
    "Note that the above does not hold for `<opening-tag>`. If the attribute value contains a quote character, it will extend to the end of the input. This is another error, but not caught by our assertion; hence, the input will be flagged as passing:"
   ]
  },
  {
   "cell_type": "code",
   "execution_count": 65,
   "metadata": {
    "execution": {
     "iopub.execute_input": "2021-10-13T11:34:05.664169Z",
     "iopub.status.busy": "2021-10-13T11:34:05.663644Z",
     "iopub.status.idle": "2021-10-13T11:34:05.665458Z",
     "shell.execute_reply": "2021-10-13T11:34:05.665833Z"
    },
    "slideshow": {
     "slide_type": "fragment"
    }
   },
   "outputs": [],
   "source": [
    "BAD_ATTR_INPUT = '<foo attr=\"\\'\">bar</foo>'"
   ]
  },
  {
   "cell_type": "code",
   "execution_count": 66,
   "metadata": {
    "execution": {
     "iopub.execute_input": "2021-10-13T11:34:05.669237Z",
     "iopub.status.busy": "2021-10-13T11:34:05.668695Z",
     "iopub.status.idle": "2021-10-13T11:34:05.670898Z",
     "shell.execute_reply": "2021-10-13T11:34:05.671268Z"
    },
    "slideshow": {
     "slide_type": "fragment"
    }
   },
   "outputs": [
    {
     "data": {
      "text/plain": [
       "''"
      ]
     },
     "execution_count": 66,
     "metadata": {},
     "output_type": "execute_result"
    }
   ],
   "source": [
    "remove_html_markup(BAD_ATTR_INPUT)"
   ]
  },
  {
   "cell_type": "markdown",
   "metadata": {
    "slideshow": {
     "slide_type": "subslide"
    }
   },
   "source": [
    "The effect of this is that there are patterns for `<opening-tag>` which do not cause the failure to occur; hence, `<opening-tag>` is not a fully valid generalization."
   ]
  },
  {
   "cell_type": "markdown",
   "metadata": {
    "slideshow": {
     "slide_type": "fragment"
    }
   },
   "source": [
    "This, however, becomes apparent only if one of our generated tests includes a quote character in the attribute value. Since quote characters are as likely (or as unlikely) to appear as other characters, this effect may not become apparent in our default 10 tests:"
   ]
  },
  {
   "cell_type": "code",
   "execution_count": 67,
   "metadata": {
    "execution": {
     "iopub.execute_input": "2021-10-13T11:34:05.706685Z",
     "iopub.status.busy": "2021-10-13T11:34:05.705900Z",
     "iopub.status.idle": "2021-10-13T11:34:05.709065Z",
     "shell.execute_reply": "2021-10-13T11:34:05.709431Z"
    },
    "slideshow": {
     "slide_type": "fragment"
    }
   },
   "outputs": [
    {
     "data": {
      "text/plain": [
       "True"
      ]
     },
     "execution_count": 67,
     "metadata": {},
     "output_type": "execute_result"
    }
   ],
   "source": [
    "bad_input_tree_generalizer().can_generalize([0, 0, 0])"
   ]
  },
  {
   "cell_type": "markdown",
   "metadata": {
    "slideshow": {
     "slide_type": "fragment"
    }
   },
   "source": [
    "It will become apparent, however, as we increase the number of tests:"
   ]
  },
  {
   "cell_type": "code",
   "execution_count": 68,
   "metadata": {
    "execution": {
     "iopub.execute_input": "2021-10-13T11:34:05.726100Z",
     "iopub.status.busy": "2021-10-13T11:34:05.725593Z",
     "iopub.status.idle": "2021-10-13T11:34:05.771090Z",
     "shell.execute_reply": "2021-10-13T11:34:05.771481Z"
    },
    "slideshow": {
     "slide_type": "subslide"
    }
   },
   "outputs": [
    {
     "name": "stdout",
     "output_type": "stream",
     "text": [
      "Testing '<Ada np=\\'7\\' y7v=\\'\\'>\"bar</foo>'...FAIL (AssertionError)\n",
      "Testing '<B V=\\'\\'>\"bar</foo>'...FAIL (AssertionError)\n",
      "Testing '<K v=\"$\" s5F=\"\\x0b\" q=\"\" E=\\'\\'>\"bar</foo>'...FAIL (AssertionError)\n",
      "Testing '<Fcdt8 v7A4u=\\'.\\t\\'>\"bar</foo>'...FAIL (AssertionError)\n",
      "Testing '<s n=\"\">\"bar</foo>'...FAIL (AssertionError)\n",
      "Testing '<W>\"bar</foo>'...FAIL (AssertionError)\n",
      "Testing '<ap>\"bar</foo>'...FAIL (AssertionError)\n",
      "Testing '<B1>\"bar</foo>'...FAIL (AssertionError)\n",
      "Testing '<Q00wY M=\\'\\r \\'>\"bar</foo>'...FAIL (AssertionError)\n",
      "Testing '<O6 d7=\"\" H=\\'\\'>\"bar</foo>'...FAIL (AssertionError)\n",
      "Testing '<v1IH w=\"\" ZI=\"\" O=\"\">\"bar</foo>'...FAIL (AssertionError)\n",
      "Testing '<T1 w998=\\'a\\' j=\\'z\\n7\\'>\"bar</foo>'...FAIL (AssertionError)\n",
      "Testing '<Dnh1>\"bar</foo>'...FAIL (AssertionError)\n",
      "Testing '<D F9=\"\" x4=\\'\\' Hup=\\'7\\n\\'>\"bar</foo>'...FAIL (AssertionError)\n",
      "Testing '<l62E>\"bar</foo>'...FAIL (AssertionError)\n",
      "Testing '<k11 P8x5=\"\">\"bar</foo>'...FAIL (AssertionError)\n",
      "Testing '<V6LBVu>\"bar</foo>'...FAIL (AssertionError)\n",
      "Testing '<k9S>\"bar</foo>'...FAIL (AssertionError)\n",
      "Testing '<tU2J913 lQ6N=\\'\\' f=\\'*\\' V=\\'\\' b=\"\" l=\"\" G=\\'\\'>\"bar</foo>'...FAIL (AssertionError)\n",
      "Testing '<X O=\"U~\">\"bar</foo>'...FAIL (AssertionError)\n",
      "Testing '<q4 W=\\'\\' i=\\'aA9\\' I=\\'9\\'>\"bar</foo>'...FAIL (AssertionError)\n",
      "Testing '<HK>\"bar</foo>'...FAIL (AssertionError)\n",
      "Testing '<T>\"bar</foo>'...FAIL (AssertionError)\n",
      "Testing '<NJc j32=\"\\x0b\">\"bar</foo>'...FAIL (AssertionError)\n",
      "Testing '<G>\"bar</foo>'...FAIL (AssertionError)\n",
      "Testing '<w B=\"\\r\">\"bar</foo>'...FAIL (AssertionError)\n",
      "Testing '<Ac1>\"bar</foo>'...FAIL (AssertionError)\n",
      "Testing '<vB y2=\\'7x\\'\\'>\"bar</foo>'...PASS\n"
     ]
    },
    {
     "data": {
      "text/plain": [
       "False"
      ]
     },
     "execution_count": 68,
     "metadata": {},
     "output_type": "execute_result"
    }
   ],
   "source": [
    "bad_input_tree_generalizer(max_tries_for_generalization=100, log=True).can_generalize([0, 0, 0])"
   ]
  },
  {
   "cell_type": "markdown",
   "metadata": {
    "slideshow": {
     "slide_type": "subslide"
    }
   },
   "source": [
    "We see that our approach may _overgeneralize_ – producing a generalization that may be too lenient. In practice, this is not too much of a problem, as we would be interested in characterizing cases that trigger the failure, rather than characterizing a small subset that does not trigger the failure."
   ]
  },
  {
   "cell_type": "markdown",
   "metadata": {
    "slideshow": {
     "slide_type": "subslide"
    }
   },
   "source": [
    "### Generalizable Paths\n",
    "\n",
    "Using `can_generalize()`, we can devise a method `generalizable_paths()` that returns all paths in the tree that can be generalized."
   ]
  },
  {
   "cell_type": "code",
   "execution_count": 69,
   "metadata": {
    "execution": {
     "iopub.execute_input": "2021-10-13T11:34:05.778083Z",
     "iopub.status.busy": "2021-10-13T11:34:05.777548Z",
     "iopub.status.idle": "2021-10-13T11:34:05.779348Z",
     "shell.execute_reply": "2021-10-13T11:34:05.779722Z"
    },
    "slideshow": {
     "slide_type": "subslide"
    }
   },
   "outputs": [],
   "source": [
    "class TreeGeneralizer(TreeGeneralizer):\n",
    "    def find_paths(self, \n",
    "                   predicate: Callable[[TreePath, DerivationTree], bool], \n",
    "                   path: Optional[TreePath] = None, \n",
    "                   tree: Optional[DerivationTree] = None) -> List[TreePath]:\n",
    "        \"\"\"\n",
    "        Return a list of all paths for which `predicate` holds.\n",
    "        `predicate` is a function `predicate`(`path`, `tree`), where\n",
    "        `path` denotes a subtree in `tree`. If `predicate()` returns\n",
    "        True, `path` is included in the returned list.\n",
    "        \"\"\"\n",
    "\n",
    "        if path is None:\n",
    "            path = []\n",
    "        assert path is not None\n",
    "\n",
    "        if tree is None:\n",
    "            tree = self.tree\n",
    "        assert tree is not None\n",
    "\n",
    "        symbol, children = self.get_subtree(path)\n",
    "\n",
    "        if predicate(path, tree):\n",
    "            return [path]\n",
    "\n",
    "        paths = []\n",
    "        if children is not None:\n",
    "            for i, child in enumerate(children):\n",
    "                child_symbol, _ = child\n",
    "                if child_symbol in self.grammar:\n",
    "                    paths += self.find_paths(predicate, path + [i])\n",
    "\n",
    "        return paths\n",
    "\n",
    "    def generalizable_paths(self) -> List[TreePath]:\n",
    "        \"\"\"Return a list of all paths whose subtrees can be generalized.\"\"\"\n",
    "        return self.find_paths(self.can_generalize)"
   ]
  },
  {
   "cell_type": "markdown",
   "metadata": {
    "slideshow": {
     "slide_type": "subslide"
    }
   },
   "source": [
    "Here is `generalizable_paths()` in action. We obtain all (paths to) subtrees that can be generalized:"
   ]
  },
  {
   "cell_type": "code",
   "execution_count": 70,
   "metadata": {
    "execution": {
     "iopub.execute_input": "2021-10-13T11:34:05.823417Z",
     "iopub.status.busy": "2021-10-13T11:34:05.794277Z",
     "iopub.status.idle": "2021-10-13T11:34:05.826238Z",
     "shell.execute_reply": "2021-10-13T11:34:05.826716Z"
    },
    "slideshow": {
     "slide_type": "fragment"
    }
   },
   "outputs": [
    {
     "data": {
      "text/plain": [
       "[[0, 0, 0], [0, 0, 1, 0, 1, 0], [0, 0, 1, 0, 1, 1], [0, 0, 2]]"
      ]
     },
     "execution_count": 70,
     "metadata": {},
     "output_type": "execute_result"
    }
   ],
   "source": [
    "bad_input_generalizable_paths = \\\n",
    "    cast(TreeGeneralizer, bad_input_tree_generalizer()).generalizable_paths()\n",
    "bad_input_generalizable_paths"
   ]
  },
  {
   "cell_type": "markdown",
   "metadata": {
    "slideshow": {
     "slide_type": "fragment"
    }
   },
   "source": [
    "To convert these subtrees into abstract failure-inducing patterns, the method `generalize_path()` returns a copy of the tree with the subtree replaced by a nonterminal without children:"
   ]
  },
  {
   "cell_type": "code",
   "execution_count": 71,
   "metadata": {
    "execution": {
     "iopub.execute_input": "2021-10-13T11:34:05.832103Z",
     "iopub.status.busy": "2021-10-13T11:34:05.831465Z",
     "iopub.status.idle": "2021-10-13T11:34:05.833184Z",
     "shell.execute_reply": "2021-10-13T11:34:05.833547Z"
    },
    "slideshow": {
     "slide_type": "subslide"
    }
   },
   "outputs": [],
   "source": [
    "class TreeGeneralizer(TreeGeneralizer):\n",
    "    def generalize_path(self, path: TreePath, \n",
    "                        tree: Optional[DerivationTree] = None) -> DerivationTree:\n",
    "        \"\"\"Return a copy of the tree in which the subtree at `path`\n",
    "        is generalized (= replaced by a nonterminal without children)\"\"\"\n",
    "\n",
    "        if tree is None:\n",
    "            tree = self.tree\n",
    "        assert tree is not None\n",
    "\n",
    "        symbol, children = tree\n",
    "\n",
    "        if not path or children is None:\n",
    "            return symbol, None  # Nonterminal without children\n",
    "\n",
    "        head = path[0]\n",
    "        new_children = (children[:head] +\n",
    "                        [self.generalize_path(path[1:], children[head])] +\n",
    "                        children[head + 1:])\n",
    "        return symbol, new_children"
   ]
  },
  {
   "cell_type": "markdown",
   "metadata": {
    "slideshow": {
     "slide_type": "subslide"
    }
   },
   "source": [
    "The function `all_terminals()` expands these placeholders:"
   ]
  },
  {
   "cell_type": "code",
   "execution_count": 72,
   "metadata": {
    "execution": {
     "iopub.execute_input": "2021-10-13T11:34:05.838361Z",
     "iopub.status.busy": "2021-10-13T11:34:05.837765Z",
     "iopub.status.idle": "2021-10-13T11:34:05.840109Z",
     "shell.execute_reply": "2021-10-13T11:34:05.840476Z"
    },
    "slideshow": {
     "slide_type": "fragment"
    }
   },
   "outputs": [
    {
     "data": {
      "text/plain": [
       "'<opening-tag>\"bar<plain-text></foo>'"
      ]
     },
     "execution_count": 72,
     "metadata": {},
     "output_type": "execute_result"
    }
   ],
   "source": [
    "all_terminals(cast(TreeGeneralizer, bad_input_tree_generalizer()).generalize_path([0, 0, 0]))"
   ]
  },
  {
   "cell_type": "markdown",
   "metadata": {
    "slideshow": {
     "slide_type": "fragment"
    }
   },
   "source": [
    "Finally, the method `generalize()` obtains a tree in which all generalizable paths actually are generalized:"
   ]
  },
  {
   "cell_type": "code",
   "execution_count": 73,
   "metadata": {
    "execution": {
     "iopub.execute_input": "2021-10-13T11:34:05.844457Z",
     "iopub.status.busy": "2021-10-13T11:34:05.843926Z",
     "iopub.status.idle": "2021-10-13T11:34:05.845903Z",
     "shell.execute_reply": "2021-10-13T11:34:05.846305Z"
    },
    "slideshow": {
     "slide_type": "subslide"
    }
   },
   "outputs": [],
   "source": [
    "class TreeGeneralizer(TreeGeneralizer):\n",
    "    def generalize(self) -> DerivationTree:\n",
    "        \"\"\"Returns a copy of the tree in which all generalizable subtrees\n",
    "        are generalized (= replaced by nonterminals without children)\"\"\"\n",
    "        tree = self.tree\n",
    "        assert tree is not None\n",
    "\n",
    "        for path in self.generalizable_paths():\n",
    "            tree = self.generalize_path(path, tree)\n",
    "\n",
    "        return tree"
   ]
  },
  {
   "cell_type": "code",
   "execution_count": 74,
   "metadata": {
    "execution": {
     "iopub.execute_input": "2021-10-13T11:34:05.890908Z",
     "iopub.status.busy": "2021-10-13T11:34:05.890347Z",
     "iopub.status.idle": "2021-10-13T11:34:05.892446Z",
     "shell.execute_reply": "2021-10-13T11:34:05.892836Z"
    },
    "slideshow": {
     "slide_type": "fragment"
    }
   },
   "outputs": [],
   "source": [
    "abstract_failure_inducing_input = cast(TreeGeneralizer, bad_input_tree_generalizer()).generalize()"
   ]
  },
  {
   "cell_type": "markdown",
   "metadata": {
    "slideshow": {
     "slide_type": "fragment"
    }
   },
   "source": [
    "This gives us the final generalization of `BAD_INPUT`. In the abstract failure-inducing input, all generalizable elements are generalized."
   ]
  },
  {
   "cell_type": "code",
   "execution_count": 75,
   "metadata": {
    "execution": {
     "iopub.execute_input": "2021-10-13T11:34:05.896878Z",
     "iopub.status.busy": "2021-10-13T11:34:05.896188Z",
     "iopub.status.idle": "2021-10-13T11:34:05.899222Z",
     "shell.execute_reply": "2021-10-13T11:34:05.899681Z"
    },
    "slideshow": {
     "slide_type": "subslide"
    }
   },
   "outputs": [
    {
     "data": {
      "text/plain": [
       "'<opening-tag>\"<plain-text><closing-tag>'"
      ]
     },
     "execution_count": 75,
     "metadata": {},
     "output_type": "execute_result"
    }
   ],
   "source": [
    "all_terminals(abstract_failure_inducing_input)"
   ]
  },
  {
   "cell_type": "markdown",
   "metadata": {
    "slideshow": {
     "slide_type": "fragment"
    }
   },
   "source": [
    "We see that to obtain the failure, it suffices to have an `<opening-tag>`, followed by a quote and (any) `<plain-text>` and (any) `<closing-tag>`. Clearly, all that it takes to produce the failure is to have a double quote in the plain text."
   ]
  },
  {
   "cell_type": "markdown",
   "metadata": {
    "slideshow": {
     "slide_type": "fragment"
    }
   },
   "source": [
    "Also note how this diagnosis was reached through _experiments_ only – just as with [delta debugging](DeltaDebugger.ipynb), we could treat the program under test as a black box. In contrast to delta debugging, however, we obtain an _abstraction_ that generalizes the circumstances under which a given failure occurs."
   ]
  },
  {
   "cell_type": "markdown",
   "metadata": {
    "slideshow": {
     "slide_type": "slide"
    }
   },
   "source": [
    "## Fuzzing with Patterns\n",
    "\n",
    "One neat side effect of abstract failure-inducing patterns is that they can be easily instantiated into further test cases, all set to reproduce the failure in question. This gives us a test suite we can later test our fix against."
   ]
  },
  {
   "cell_type": "markdown",
   "metadata": {
    "slideshow": {
     "slide_type": "fragment"
    }
   },
   "source": [
    "The method `fuzz_tree()` takes a tree representing an abstract failure-inducing input and instantiates all missing subtrees."
   ]
  },
  {
   "cell_type": "code",
   "execution_count": 76,
   "metadata": {
    "execution": {
     "iopub.execute_input": "2021-10-13T11:34:05.903390Z",
     "iopub.status.busy": "2021-10-13T11:34:05.902857Z",
     "iopub.status.idle": "2021-10-13T11:34:05.904733Z",
     "shell.execute_reply": "2021-10-13T11:34:05.905107Z"
    },
    "slideshow": {
     "slide_type": "skip"
    }
   },
   "outputs": [],
   "source": [
    "import copy"
   ]
  },
  {
   "cell_type": "code",
   "execution_count": 77,
   "metadata": {
    "execution": {
     "iopub.execute_input": "2021-10-13T11:34:05.908778Z",
     "iopub.status.busy": "2021-10-13T11:34:05.908255Z",
     "iopub.status.idle": "2021-10-13T11:34:05.909912Z",
     "shell.execute_reply": "2021-10-13T11:34:05.910294Z"
    },
    "slideshow": {
     "slide_type": "fragment"
    }
   },
   "outputs": [],
   "source": [
    "class TreeGeneralizer(TreeGeneralizer):\n",
    "    def fuzz_tree(self, tree: DerivationTree) -> DerivationTree:\n",
    "        \"\"\"Return an instantiated copy of `tree`.\"\"\"\n",
    "        tree = copy.deepcopy(tree)\n",
    "        return self.fuzzer.expand_tree(tree)"
   ]
  },
  {
   "cell_type": "code",
   "execution_count": 78,
   "metadata": {
    "execution": {
     "iopub.execute_input": "2021-10-13T11:34:05.941292Z",
     "iopub.status.busy": "2021-10-13T11:34:05.935992Z",
     "iopub.status.idle": "2021-10-13T11:34:05.944630Z",
     "shell.execute_reply": "2021-10-13T11:34:05.943982Z"
    },
    "slideshow": {
     "slide_type": "subslide"
    }
   },
   "outputs": [
    {
     "name": "stdout",
     "output_type": "stream",
     "text": [
      "<UzL3Ct6>\"</p>\n",
      "<nw10E6>\"</W>\n",
      "<h lV=\"'\">\"</x8>\n",
      "<k>\"</u>\n",
      "<a0 l0820650g='3'>\"</v5t>\n",
      "<zTg>\"</o1Z>\n",
      "<yMgT02p s=\"\" g94e='R'>\"</P2>\n",
      "<Y>\"</S9b>\n",
      "<X2566xS8v2>\"</r13>\n",
      "<D48>\"\t</R>\n"
     ]
    }
   ],
   "source": [
    "bitg = cast(TreeGeneralizer, bad_input_tree_generalizer())\n",
    "for i in range(10):\n",
    "    print(all_terminals(bitg.fuzz_tree(abstract_failure_inducing_input)))"
   ]
  },
  {
   "cell_type": "markdown",
   "metadata": {
    "slideshow": {
     "slide_type": "subslide"
    }
   },
   "source": [
    "We can take these inputs and see whether they reproduce the failure in question:"
   ]
  },
  {
   "cell_type": "code",
   "execution_count": 79,
   "metadata": {
    "execution": {
     "iopub.execute_input": "2021-10-13T11:34:06.001700Z",
     "iopub.status.busy": "2021-10-13T11:34:05.958578Z",
     "iopub.status.idle": "2021-10-13T11:34:09.488311Z",
     "shell.execute_reply": "2021-10-13T11:34:09.488710Z"
    },
    "slideshow": {
     "slide_type": "fragment"
    }
   },
   "outputs": [],
   "source": [
    "successes = 0\n",
    "failures = 0\n",
    "trials = 1000\n",
    "\n",
    "for i in range(trials):\n",
    "    test_input = all_terminals(\n",
    "        bitg.fuzz_tree(abstract_failure_inducing_input))\n",
    "    try:\n",
    "        remove_html_markup(test_input)\n",
    "    except AssertionError:\n",
    "        successes += 1\n",
    "    else:\n",
    "        failures += 1"
   ]
  },
  {
   "cell_type": "code",
   "execution_count": 80,
   "metadata": {
    "execution": {
     "iopub.execute_input": "2021-10-13T11:34:09.493481Z",
     "iopub.status.busy": "2021-10-13T11:34:09.492752Z",
     "iopub.status.idle": "2021-10-13T11:34:09.495495Z",
     "shell.execute_reply": "2021-10-13T11:34:09.495866Z"
    },
    "slideshow": {
     "slide_type": "subslide"
    }
   },
   "outputs": [
    {
     "data": {
      "text/plain": [
       "(982, 18)"
      ]
     },
     "execution_count": 80,
     "metadata": {},
     "output_type": "execute_result"
    }
   ],
   "source": [
    "successes, failures"
   ]
  },
  {
   "cell_type": "markdown",
   "metadata": {
    "slideshow": {
     "slide_type": "fragment"
    }
   },
   "source": [
    "We get an overall failure rate of ~98%, which is not bad at all."
   ]
  },
  {
   "cell_type": "code",
   "execution_count": 81,
   "metadata": {
    "execution": {
     "iopub.execute_input": "2021-10-13T11:34:09.499800Z",
     "iopub.status.busy": "2021-10-13T11:34:09.499230Z",
     "iopub.status.idle": "2021-10-13T11:34:09.501488Z",
     "shell.execute_reply": "2021-10-13T11:34:09.501874Z"
    },
    "slideshow": {
     "slide_type": "fragment"
    }
   },
   "outputs": [
    {
     "data": {
      "text/plain": [
       "0.018"
      ]
     },
     "execution_count": 81,
     "metadata": {},
     "output_type": "execute_result"
    }
   ],
   "source": [
    "failures / 1000"
   ]
  },
  {
   "cell_type": "markdown",
   "metadata": {
    "slideshow": {
     "slide_type": "fragment"
    }
   },
   "source": [
    "In our case, it is _overgeneralization_ (as discussed above) that is responsible for not reaching a 100% rate. (In all generality, we are trying to approximate the behavior of a Turing machine with a context free grammar, which is, well, always an approximation.) However, even a lower rate would still be useful, as any additional test case that reproduces a failure helps in ensuring the final fix is complete."
   ]
  },
  {
   "cell_type": "markdown",
   "metadata": {
    "slideshow": {
     "slide_type": "slide"
    }
   },
   "source": [
    "## Putting it all Together\n",
    "\n",
    "Let us now put together all this in a more convenient package that does not require the user to parse and unparse derivation trees."
   ]
  },
  {
   "cell_type": "markdown",
   "metadata": {
    "slideshow": {
     "slide_type": "subslide"
    }
   },
   "source": [
    "Our `DDSetDebugger` is modeled after the `DeltaDebugger` from [the chapter on delta debugging](DeltaDebugger.ipynb). It is to be used as\n",
    "\n",
    "```python\n",
    "with DDSetDebugger(grammar) as dd:\n",
    "    some_failing_function(...)\n",
    "```\n",
    "\n",
    "After that, evaluating `dd` yields a generalized abstract failure-inducing input as a string."
   ]
  },
  {
   "cell_type": "markdown",
   "metadata": {
    "slideshow": {
     "slide_type": "fragment"
    }
   },
   "source": [
    "Since `DDSetDebugger` accepts only one grammar, the function to be debugged should have exactly one string argument (besides other arguments); this string must fit the grammar."
   ]
  },
  {
   "cell_type": "markdown",
   "metadata": {
    "slideshow": {
     "slide_type": "subslide"
    }
   },
   "source": [
    "### Constructor"
   ]
  },
  {
   "cell_type": "markdown",
   "metadata": {
    "slideshow": {
     "slide_type": "fragment"
    }
   },
   "source": [
    "The constructor puts together the various components. It allows for customization by subclassing."
   ]
  },
  {
   "cell_type": "code",
   "execution_count": 82,
   "metadata": {
    "execution": {
     "iopub.execute_input": "2021-10-13T11:34:09.505396Z",
     "iopub.status.busy": "2021-10-13T11:34:09.504859Z",
     "iopub.status.idle": "2021-10-13T11:34:09.506430Z",
     "shell.execute_reply": "2021-10-13T11:34:09.506800Z"
    },
    "slideshow": {
     "slide_type": "skip"
    }
   },
   "outputs": [],
   "source": [
    "from DeltaDebugger import CallCollector"
   ]
  },
  {
   "cell_type": "code",
   "execution_count": 83,
   "metadata": {
    "execution": {
     "iopub.execute_input": "2021-10-13T11:34:09.512081Z",
     "iopub.status.busy": "2021-10-13T11:34:09.511555Z",
     "iopub.status.idle": "2021-10-13T11:34:09.513225Z",
     "shell.execute_reply": "2021-10-13T11:34:09.513663Z"
    },
    "slideshow": {
     "slide_type": "subslide"
    }
   },
   "outputs": [],
   "source": [
    "class DDSetDebugger(CallCollector):\n",
    "    \"\"\"\n",
    "    Debugger implementing the DDSET algorithm for abstracting failure-inducing inputs.\n",
    "    \"\"\"\n",
    "\n",
    "    def __init__(self, grammar: Grammar, \n",
    "                 generalizer_class: Type = TreeGeneralizer,\n",
    "                 parser: Optional[Parser] = None,\n",
    "                 **kwargs: Any) -> None:\n",
    "        \"\"\"Constructor.\n",
    "        `grammar` is an input grammar in fuzzingbook format.\n",
    "        `generalizer_class` is the tree generalizer class to use\n",
    "        (default: `TreeGeneralizer`)\n",
    "        `parser` is the parser to use (default: `EarleyParser(grammar)`).\n",
    "        All other keyword args are passed to the tree generalizer, notably:\n",
    "        `fuzzer` - the fuzzer to use (default: `GrammarFuzzer`), and\n",
    "        `log` - enables debugging output if True.\n",
    "        \"\"\"\n",
    "        super().__init__()\n",
    "        self.grammar = grammar\n",
    "        assert is_valid_grammar(grammar)\n",
    "\n",
    "        self.generalizer_class = generalizer_class\n",
    "\n",
    "        if parser is None:\n",
    "            parser = EarleyParser(grammar)\n",
    "        self.parser = parser\n",
    "        self.kwargs = kwargs\n",
    "\n",
    "        # These save state for further fuzz() calls\n",
    "        self.generalized_args: Dict[str, Any] = {}\n",
    "        self.generalized_trees: Dict[str, DerivationTree] = {}\n",
    "        self.generalizers: Dict[str, TreeGeneralizer] = {}"
   ]
  },
  {
   "cell_type": "markdown",
   "metadata": {
    "slideshow": {
     "slide_type": "subslide"
    }
   },
   "source": [
    "### Generalizing Arguments"
   ]
  },
  {
   "cell_type": "markdown",
   "metadata": {
    "slideshow": {
     "slide_type": "fragment"
    }
   },
   "source": [
    "The method `generalize()` is the many entry point. For all string arguments collected in the first function call, it generalizes the arguments and returns an abstract failure-inducing string."
   ]
  },
  {
   "cell_type": "code",
   "execution_count": 84,
   "metadata": {
    "execution": {
     "iopub.execute_input": "2021-10-13T11:34:09.519714Z",
     "iopub.status.busy": "2021-10-13T11:34:09.519190Z",
     "iopub.status.idle": "2021-10-13T11:34:09.520790Z",
     "shell.execute_reply": "2021-10-13T11:34:09.521166Z"
    },
    "slideshow": {
     "slide_type": "subslide"
    }
   },
   "outputs": [],
   "source": [
    "class DDSetDebugger(DDSetDebugger):\n",
    "    def generalize(self) -> Dict[str, Any]:\n",
    "        \"\"\"\n",
    "        Generalize arguments seen. For each function argument,\n",
    "        produce an abstract failure-inducing input that characterizes\n",
    "        the set of inputs for which the function fails.\n",
    "        \"\"\"\n",
    "        if self.generalized_args:\n",
    "            return self.generalized_args\n",
    "\n",
    "        self.generalized_args = copy.deepcopy(self.args())\n",
    "        self.generalized_trees = {}\n",
    "        self.generalizers = {}\n",
    "\n",
    "        for arg in self.args():\n",
    "            def test(value: Any) -> Any:\n",
    "                return self.call({arg: value})\n",
    "\n",
    "            value = self.args()[arg]\n",
    "            if isinstance(value, str):\n",
    "                tree = list(self.parser.parse(value))[0]\n",
    "                gen = self.generalizer_class(self.grammar, tree, test, \n",
    "                                             **self.kwargs)\n",
    "                generalized_tree = gen.generalize()\n",
    "\n",
    "                self.generalizers[arg] = gen\n",
    "                self.generalized_trees[arg] = generalized_tree\n",
    "                self.generalized_args[arg] = all_terminals(generalized_tree)\n",
    "\n",
    "        return self.generalized_args"
   ]
  },
  {
   "cell_type": "code",
   "execution_count": 85,
   "metadata": {
    "execution": {
     "iopub.execute_input": "2021-10-13T11:34:09.524385Z",
     "iopub.status.busy": "2021-10-13T11:34:09.523871Z",
     "iopub.status.idle": "2021-10-13T11:34:09.525595Z",
     "shell.execute_reply": "2021-10-13T11:34:09.525969Z"
    },
    "slideshow": {
     "slide_type": "subslide"
    }
   },
   "outputs": [],
   "source": [
    "class DDSetDebugger(DDSetDebugger):\n",
    "    def __repr__(self) -> str:\n",
    "        \"\"\"Return a string representation of the generalized call.\"\"\"\n",
    "        return self.format_call(self.generalize())"
   ]
  },
  {
   "cell_type": "markdown",
   "metadata": {
    "slideshow": {
     "slide_type": "fragment"
    }
   },
   "source": [
    "Here is an example of how `DDSetDebugger` would be used on our `BAD_INPUT` example. Simply evaluating the debugger yields a call with a generalized input."
   ]
  },
  {
   "cell_type": "code",
   "execution_count": 86,
   "metadata": {
    "execution": {
     "iopub.execute_input": "2021-10-13T11:34:09.576339Z",
     "iopub.status.busy": "2021-10-13T11:34:09.556854Z",
     "iopub.status.idle": "2021-10-13T11:34:09.579112Z",
     "shell.execute_reply": "2021-10-13T11:34:09.579554Z"
    },
    "slideshow": {
     "slide_type": "fragment"
    }
   },
   "outputs": [
    {
     "data": {
      "text/plain": [
       "remove_html_markup(s='<opening-tag>\"<plain-text><closing-tag>')"
      ]
     },
     "execution_count": 86,
     "metadata": {},
     "output_type": "execute_result"
    }
   ],
   "source": [
    "with DDSetDebugger(SIMPLE_HTML_GRAMMAR) as dd:\n",
    "    remove_html_markup(BAD_INPUT)\n",
    "dd"
   ]
  },
  {
   "cell_type": "markdown",
   "metadata": {
    "slideshow": {
     "slide_type": "subslide"
    }
   },
   "source": [
    "### Fuzzing\n",
    "\n",
    "The `fuzz()` method produces instantiations of the abstract failure-inducing pattern."
   ]
  },
  {
   "cell_type": "code",
   "execution_count": 87,
   "metadata": {
    "execution": {
     "iopub.execute_input": "2021-10-13T11:34:09.584594Z",
     "iopub.status.busy": "2021-10-13T11:34:09.584063Z",
     "iopub.status.idle": "2021-10-13T11:34:09.585633Z",
     "shell.execute_reply": "2021-10-13T11:34:09.586071Z"
    },
    "slideshow": {
     "slide_type": "subslide"
    }
   },
   "outputs": [],
   "source": [
    "class DDSetDebugger(DDSetDebugger):\n",
    "    def fuzz_args(self) -> Dict[str, Any]:\n",
    "        \"\"\"\n",
    "        Return arguments randomly instantiated\n",
    "        from the abstract failure-inducing pattern.\n",
    "        \"\"\"\n",
    "        if not self.generalized_trees:\n",
    "            self.generalize()\n",
    "\n",
    "        args = copy.deepcopy(self.generalized_args)\n",
    "        for arg in args:\n",
    "            if arg not in self.generalized_trees:\n",
    "                continue\n",
    "\n",
    "            tree = self.generalized_trees[arg]\n",
    "            gen = self.generalizers[arg]\n",
    "            instantiated_tree = gen.fuzz_tree(tree)\n",
    "            args[arg] = all_terminals(instantiated_tree)\n",
    "\n",
    "        return args\n",
    "\n",
    "    def fuzz(self) -> str:\n",
    "        \"\"\"\n",
    "        Return a call with arguments randomly instantiated\n",
    "        from the abstract failure-inducing pattern.\n",
    "        \"\"\"\n",
    "        return self.format_call(self.fuzz_args())"
   ]
  },
  {
   "cell_type": "markdown",
   "metadata": {
    "slideshow": {
     "slide_type": "subslide"
    }
   },
   "source": [
    "Here are some axamples of `fuzz()` in action:"
   ]
  },
  {
   "cell_type": "code",
   "execution_count": 88,
   "metadata": {
    "execution": {
     "iopub.execute_input": "2021-10-13T11:34:09.590110Z",
     "iopub.status.busy": "2021-10-13T11:34:09.589592Z",
     "iopub.status.idle": "2021-10-13T11:34:09.591218Z",
     "shell.execute_reply": "2021-10-13T11:34:09.591586Z"
    },
    "slideshow": {
     "slide_type": "fragment"
    }
   },
   "outputs": [],
   "source": [
    "with DDSetDebugger(SIMPLE_HTML_GRAMMAR) as dd:\n",
    "    remove_html_markup(BAD_INPUT)"
   ]
  },
  {
   "cell_type": "code",
   "execution_count": 89,
   "metadata": {
    "execution": {
     "iopub.execute_input": "2021-10-13T11:34:09.640505Z",
     "iopub.status.busy": "2021-10-13T11:34:09.639632Z",
     "iopub.status.idle": "2021-10-13T11:34:09.642692Z",
     "shell.execute_reply": "2021-10-13T11:34:09.643037Z"
    },
    "slideshow": {
     "slide_type": "fragment"
    }
   },
   "outputs": [
    {
     "data": {
      "text/plain": [
       "'remove_html_markup(s=\\'<Xq>\"</j>\\')'"
      ]
     },
     "execution_count": 89,
     "metadata": {},
     "output_type": "execute_result"
    }
   ],
   "source": [
    "dd.fuzz()"
   ]
  },
  {
   "cell_type": "code",
   "execution_count": 90,
   "metadata": {
    "execution": {
     "iopub.execute_input": "2021-10-13T11:34:09.650782Z",
     "iopub.status.busy": "2021-10-13T11:34:09.650224Z",
     "iopub.status.idle": "2021-10-13T11:34:09.652576Z",
     "shell.execute_reply": "2021-10-13T11:34:09.652965Z"
    },
    "slideshow": {
     "slide_type": "fragment"
    }
   },
   "outputs": [
    {
     "data": {
      "text/plain": [
       "'remove_html_markup(s=\\'<L89B6b9vz>\"\\\\t</a3>\\')'"
      ]
     },
     "execution_count": 90,
     "metadata": {},
     "output_type": "execute_result"
    }
   ],
   "source": [
    "dd.fuzz()"
   ]
  },
  {
   "cell_type": "code",
   "execution_count": 91,
   "metadata": {
    "execution": {
     "iopub.execute_input": "2021-10-13T11:34:09.660963Z",
     "iopub.status.busy": "2021-10-13T11:34:09.660387Z",
     "iopub.status.idle": "2021-10-13T11:34:09.662669Z",
     "shell.execute_reply": "2021-10-13T11:34:09.663043Z"
    },
    "slideshow": {
     "slide_type": "fragment"
    }
   },
   "outputs": [
    {
     "data": {
      "text/plain": [
       "'remove_html_markup(s=\\'<Z VF=\\\\\\'\\\\\\' l=\"_-(\">\")</Y>\\')'"
      ]
     },
     "execution_count": 91,
     "metadata": {},
     "output_type": "execute_result"
    }
   ],
   "source": [
    "dd.fuzz()"
   ]
  },
  {
   "cell_type": "markdown",
   "metadata": {
    "slideshow": {
     "slide_type": "fragment"
    }
   },
   "source": [
    " These can be fed into `eval()`, set to produce more failing calls."
   ]
  },
  {
   "cell_type": "code",
   "execution_count": 92,
   "metadata": {
    "execution": {
     "iopub.execute_input": "2021-10-13T11:34:09.668172Z",
     "iopub.status.busy": "2021-10-13T11:34:09.667633Z",
     "iopub.status.idle": "2021-10-13T11:34:09.669611Z",
     "shell.execute_reply": "2021-10-13T11:34:09.669980Z"
    },
    "slideshow": {
     "slide_type": "subslide"
    }
   },
   "outputs": [
    {
     "name": "stderr",
     "output_type": "stream",
     "text": [
      "Traceback (most recent call last):\n",
      "  File \"/var/folders/n2/xd9445p97rb3xh7m1dfx8_4h0006ts/T/ipykernel_58133/2072246869.py\", line 2, in <module>\n",
      "    eval(dd.fuzz())\n",
      "  File \"<string>\", line 1, in <module>\n",
      "  File \"/var/folders/n2/xd9445p97rb3xh7m1dfx8_4h0006ts/T/ipykernel_58133/2717035104.py\", line 17, in remove_html_markup\n",
      "    assert '<' not in out and '>' not in out\n",
      "AssertionError (expected)\n"
     ]
    }
   ],
   "source": [
    "with ExpectError(AssertionError):\n",
    "    eval(dd.fuzz())"
   ]
  },
  {
   "cell_type": "markdown",
   "metadata": {
    "slideshow": {
     "slide_type": "slide"
    }
   },
   "source": [
    "## More Examples\n",
    "\n",
    "Let us apply `DDSetDebugger` on more examples."
   ]
  },
  {
   "cell_type": "markdown",
   "metadata": {
    "slideshow": {
     "slide_type": "subslide"
    }
   },
   "source": [
    "### Square Root\n",
    "\n",
    "Our first example is the `square_root()` function from [the chapter on assertions](Assertions.ipynb)."
   ]
  },
  {
   "cell_type": "code",
   "execution_count": 93,
   "metadata": {
    "execution": {
     "iopub.execute_input": "2021-10-13T11:34:09.672990Z",
     "iopub.status.busy": "2021-10-13T11:34:09.672467Z",
     "iopub.status.idle": "2021-10-13T11:34:09.673982Z",
     "shell.execute_reply": "2021-10-13T11:34:09.674417Z"
    },
    "slideshow": {
     "slide_type": "skip"
    }
   },
   "outputs": [],
   "source": [
    "from Assertions import square_root  # minor dependency"
   ]
  },
  {
   "cell_type": "markdown",
   "metadata": {
    "slideshow": {
     "slide_type": "fragment"
    }
   },
   "source": [
    "The `square_root()` function fails on a value of `-1`:"
   ]
  },
  {
   "cell_type": "code",
   "execution_count": 94,
   "metadata": {
    "execution": {
     "iopub.execute_input": "2021-10-13T11:34:09.677618Z",
     "iopub.status.busy": "2021-10-13T11:34:09.677009Z",
     "iopub.status.idle": "2021-10-13T11:34:09.679149Z",
     "shell.execute_reply": "2021-10-13T11:34:09.679517Z"
    },
    "slideshow": {
     "slide_type": "fragment"
    }
   },
   "outputs": [
    {
     "name": "stderr",
     "output_type": "stream",
     "text": [
      "Traceback (most recent call last):\n",
      "  File \"/var/folders/n2/xd9445p97rb3xh7m1dfx8_4h0006ts/T/ipykernel_58133/1205325604.py\", line 2, in <module>\n",
      "    square_root(-1)\n",
      "  File \"/Users/zeller/Projects/debuggingbook/notebooks/Assertions.ipynb\", line 55, in square_root\n",
      "    assert x >= 0  # precondition\n",
      "AssertionError (expected)\n"
     ]
    }
   ],
   "source": [
    "with ExpectError(AssertionError):\n",
    "    square_root(-1)"
   ]
  },
  {
   "cell_type": "markdown",
   "metadata": {
    "slideshow": {
     "slide_type": "fragment"
    }
   },
   "source": [
    "We define a grammar for its arguments:"
   ]
  },
  {
   "cell_type": "code",
   "execution_count": 95,
   "metadata": {
    "button": false,
    "execution": {
     "iopub.execute_input": "2021-10-13T11:34:09.683039Z",
     "iopub.status.busy": "2021-10-13T11:34:09.682523Z",
     "iopub.status.idle": "2021-10-13T11:34:09.684142Z",
     "shell.execute_reply": "2021-10-13T11:34:09.684510Z"
    },
    "new_sheet": false,
    "run_control": {
     "read_only": false
    },
    "slideshow": {
     "slide_type": "subslide"
    }
   },
   "outputs": [],
   "source": [
    "INT_GRAMMAR: Grammar = {\n",
    "    \"<start>\":\n",
    "        [\"<int>\"],\n",
    "\n",
    "    \"<int>\":\n",
    "        [\"<positive-int>\", \"-<positive-int>\"],\n",
    "\n",
    "    \"<positive-int>\":\n",
    "        [\"<digit>\", \"<nonzero-digit><positive-int>\"],\n",
    "\n",
    "    \"<nonzero-digit>\": list(\"123456789\"),\n",
    "    \n",
    "    \"<digit>\": list(string.digits),\n",
    "}"
   ]
  },
  {
   "cell_type": "markdown",
   "metadata": {
    "slideshow": {
     "slide_type": "fragment"
    }
   },
   "source": [
    "The test function takes a string and converts it into an integer:"
   ]
  },
  {
   "cell_type": "code",
   "execution_count": 96,
   "metadata": {
    "execution": {
     "iopub.execute_input": "2021-10-13T11:34:09.687497Z",
     "iopub.status.busy": "2021-10-13T11:34:09.686991Z",
     "iopub.status.idle": "2021-10-13T11:34:09.688719Z",
     "shell.execute_reply": "2021-10-13T11:34:09.689087Z"
    },
    "slideshow": {
     "slide_type": "subslide"
    }
   },
   "outputs": [],
   "source": [
    "def square_root_test(s: str) -> None:\n",
    "    return square_root(int(s))"
   ]
  },
  {
   "cell_type": "markdown",
   "metadata": {
    "slideshow": {
     "slide_type": "fragment"
    }
   },
   "source": [
    "With this, we can go and see whether we can generalize a failing input:"
   ]
  },
  {
   "cell_type": "code",
   "execution_count": 97,
   "metadata": {
    "execution": {
     "iopub.execute_input": "2021-10-13T11:34:09.692313Z",
     "iopub.status.busy": "2021-10-13T11:34:09.691802Z",
     "iopub.status.idle": "2021-10-13T11:34:09.693420Z",
     "shell.execute_reply": "2021-10-13T11:34:09.693803Z"
    },
    "slideshow": {
     "slide_type": "fragment"
    }
   },
   "outputs": [],
   "source": [
    "with DDSetDebugger(INT_GRAMMAR, log=True) as dd_square_root:\n",
    "    square_root_test(\"-1\")"
   ]
  },
  {
   "cell_type": "code",
   "execution_count": 98,
   "metadata": {
    "execution": {
     "iopub.execute_input": "2021-10-13T11:34:09.700948Z",
     "iopub.status.busy": "2021-10-13T11:34:09.700364Z",
     "iopub.status.idle": "2021-10-13T11:34:09.703530Z",
     "shell.execute_reply": "2021-10-13T11:34:09.703937Z"
    },
    "slideshow": {
     "slide_type": "subslide"
    }
   },
   "outputs": [
    {
     "name": "stdout",
     "output_type": "stream",
     "text": [
      "Testing '-8'...FAIL (AssertionError)\n",
      "Testing '-316'...FAIL (AssertionError)\n",
      "Testing '8'...PASS\n",
      "Testing '684'...PASS\n",
      "Testing '-3'...FAIL (AssertionError)\n",
      "Testing '-870'...FAIL (AssertionError)\n",
      "Testing '-3'...FAIL (AssertionError)\n",
      "Testing '-3451'...FAIL (AssertionError)\n",
      "Testing '-8'...FAIL (AssertionError)\n",
      "Testing '-63213'...FAIL (AssertionError)\n",
      "Testing '-26'...FAIL (AssertionError)\n",
      "Testing '-4'...FAIL (AssertionError)\n",
      "Testing '-6'...FAIL (AssertionError)\n",
      "Testing '-8'...FAIL (AssertionError)\n"
     ]
    },
    {
     "data": {
      "text/plain": [
       "square_root_test(s='-<positive-int>')"
      ]
     },
     "execution_count": 98,
     "metadata": {},
     "output_type": "execute_result"
    }
   ],
   "source": [
    "dd_square_root"
   ]
  },
  {
   "cell_type": "markdown",
   "metadata": {
    "slideshow": {
     "slide_type": "subslide"
    }
   },
   "source": [
    "Success! Using `DDSetDebugger`, we have nicely generalized the failure-inducing input to a pattern `-<positive-int>` that translates into \"any negative number\"."
   ]
  },
  {
   "cell_type": "markdown",
   "metadata": {
    "slideshow": {
     "slide_type": "subslide"
    }
   },
   "source": [
    "### Middle\n",
    "\n",
    "The `middle()` function from [the chapter on statistical debugging](StatisticalDebugger.ipynb) returns the middle of three numerical values `x`, `y`, and `z`."
   ]
  },
  {
   "cell_type": "code",
   "execution_count": 99,
   "metadata": {
    "execution": {
     "iopub.execute_input": "2021-10-13T11:34:09.707331Z",
     "iopub.status.busy": "2021-10-13T11:34:09.706774Z",
     "iopub.status.idle": "2021-10-13T11:34:10.511534Z",
     "shell.execute_reply": "2021-10-13T11:34:10.511926Z"
    },
    "slideshow": {
     "slide_type": "skip"
    }
   },
   "outputs": [],
   "source": [
    "from StatisticalDebugger import middle  # minor dependency"
   ]
  },
  {
   "cell_type": "markdown",
   "metadata": {
    "slideshow": {
     "slide_type": "fragment"
    }
   },
   "source": [
    "We set up a test function that evaluates a string – a tuple of three arguments – and then tests `middle()`:"
   ]
  },
  {
   "cell_type": "code",
   "execution_count": 100,
   "metadata": {
    "execution": {
     "iopub.execute_input": "2021-10-13T11:34:10.515706Z",
     "iopub.status.busy": "2021-10-13T11:34:10.515188Z",
     "iopub.status.idle": "2021-10-13T11:34:10.516751Z",
     "shell.execute_reply": "2021-10-13T11:34:10.517120Z"
    },
    "slideshow": {
     "slide_type": "fragment"
    }
   },
   "outputs": [],
   "source": [
    "def middle_test(s: str) -> None:\n",
    "    x, y, z = eval(s)\n",
    "    assert middle(x, y, z) == sorted([x, y, z])[1]"
   ]
  },
  {
   "cell_type": "markdown",
   "metadata": {
    "slideshow": {
     "slide_type": "fragment"
    }
   },
   "source": [
    "The grammar for the three numbers simply puts three integers together:"
   ]
  },
  {
   "cell_type": "code",
   "execution_count": 101,
   "metadata": {
    "button": false,
    "execution": {
     "iopub.execute_input": "2021-10-13T11:34:10.520668Z",
     "iopub.status.busy": "2021-10-13T11:34:10.520154Z",
     "iopub.status.idle": "2021-10-13T11:34:10.521795Z",
     "shell.execute_reply": "2021-10-13T11:34:10.522160Z"
    },
    "new_sheet": false,
    "run_control": {
     "read_only": false
    },
    "slideshow": {
     "slide_type": "subslide"
    }
   },
   "outputs": [],
   "source": [
    "XYZ_GRAMMAR: Grammar = {\n",
    "    \"<start>\":\n",
    "        [\"<int>, <int>, <int>\"],\n",
    "\n",
    "    \"<int>\":\n",
    "        [\"<positive-int>\", \"-<positive-int>\"],\n",
    "\n",
    "    \"<positive-int>\":\n",
    "        [\"<digit>\", \"<nonzero-digit><positive-int>\"],\n",
    "\n",
    "    \"<nonzero-digit>\": list(\"123456789\"),\n",
    "    \n",
    "    \"<digit>\": list(string.digits),\n",
    "}"
   ]
  },
  {
   "cell_type": "markdown",
   "metadata": {
    "slideshow": {
     "slide_type": "fragment"
    }
   },
   "source": [
    "Here is an example of `middle()` failing:"
   ]
  },
  {
   "cell_type": "code",
   "execution_count": 102,
   "metadata": {
    "execution": {
     "iopub.execute_input": "2021-10-13T11:34:10.525077Z",
     "iopub.status.busy": "2021-10-13T11:34:10.524559Z",
     "iopub.status.idle": "2021-10-13T11:34:10.526576Z",
     "shell.execute_reply": "2021-10-13T11:34:10.526940Z"
    },
    "slideshow": {
     "slide_type": "subslide"
    }
   },
   "outputs": [
    {
     "name": "stderr",
     "output_type": "stream",
     "text": [
      "Traceback (most recent call last):\n",
      "  File \"/var/folders/n2/xd9445p97rb3xh7m1dfx8_4h0006ts/T/ipykernel_58133/982110330.py\", line 2, in <module>\n",
      "    middle_test(\"2, 1, 3\")\n",
      "  File \"/var/folders/n2/xd9445p97rb3xh7m1dfx8_4h0006ts/T/ipykernel_58133/3079946275.py\", line 3, in middle_test\n",
      "    assert middle(x, y, z) == sorted([x, y, z])[1]\n",
      "AssertionError (expected)\n"
     ]
    }
   ],
   "source": [
    "with ExpectError(AssertionError):\n",
    "    middle_test(\"2, 1, 3\")"
   ]
  },
  {
   "cell_type": "markdown",
   "metadata": {
    "slideshow": {
     "slide_type": "fragment"
    }
   },
   "source": [
    "What happens if we debug this with `DDSetDebugger`? We see that there is no abstraction at the syntax level that could characterize this failure:"
   ]
  },
  {
   "cell_type": "code",
   "execution_count": 103,
   "metadata": {
    "execution": {
     "iopub.execute_input": "2021-10-13T11:34:10.530249Z",
     "iopub.status.busy": "2021-10-13T11:34:10.529717Z",
     "iopub.status.idle": "2021-10-13T11:34:10.531289Z",
     "shell.execute_reply": "2021-10-13T11:34:10.531654Z"
    },
    "slideshow": {
     "slide_type": "fragment"
    }
   },
   "outputs": [],
   "source": [
    "with DDSetDebugger(XYZ_GRAMMAR, log=True) as dd_middle:\n",
    "    middle_test(\"2, 1, 3\")"
   ]
  },
  {
   "cell_type": "code",
   "execution_count": 104,
   "metadata": {
    "execution": {
     "iopub.execute_input": "2021-10-13T11:34:10.541238Z",
     "iopub.status.busy": "2021-10-13T11:34:10.540706Z",
     "iopub.status.idle": "2021-10-13T11:34:10.543733Z",
     "shell.execute_reply": "2021-10-13T11:34:10.544113Z"
    },
    "slideshow": {
     "slide_type": "subslide"
    }
   },
   "outputs": [
    {
     "name": "stdout",
     "output_type": "stream",
     "text": [
      "Testing '7, 4591, -0'...PASS\n",
      "Testing '6, 1, 3'...PASS\n",
      "Testing '7, 1, 3'...PASS\n",
      "Testing '7, 1, 3'...PASS\n",
      "Testing '2, -7, 3'...FAIL (AssertionError)\n",
      "Testing '2, 0, 3'...FAIL (AssertionError)\n",
      "Testing '2, -89, 3'...FAIL (AssertionError)\n",
      "Testing '2, 973, 3'...PASS\n",
      "Testing '2, 11, 3'...PASS\n",
      "Testing '2, 8, 3'...PASS\n",
      "Testing '2, 1, 9'...FAIL (AssertionError)\n",
      "Testing '2, 1, -16'...PASS\n",
      "Testing '2, 1, 35'...FAIL (AssertionError)\n",
      "Testing '2, 1, 6'...FAIL (AssertionError)\n",
      "Testing '2, 1, 53'...FAIL (AssertionError)\n",
      "Testing '2, 1, 5'...FAIL (AssertionError)\n",
      "Testing '2, 1, 737'...FAIL (AssertionError)\n",
      "Testing '2, 1, 28'...FAIL (AssertionError)\n",
      "Testing '2, 1, 3'...FAIL (AssertionError)\n",
      "Testing '2, 1, 5'...FAIL (AssertionError)\n",
      "Testing '2, 1, 5'...FAIL (AssertionError)\n",
      "Testing '2, 1, 56'...FAIL (AssertionError)\n"
     ]
    },
    {
     "data": {
      "text/plain": [
       "middle_test(s='2, 1, <positive-int>')"
      ]
     },
     "execution_count": 104,
     "metadata": {},
     "output_type": "execute_result"
    }
   ],
   "source": [
    "dd_middle"
   ]
  },
  {
   "cell_type": "markdown",
   "metadata": {
    "slideshow": {
     "slide_type": "subslide"
    }
   },
   "source": [
    "So, while there are failures that can be nicely characterized using abstractions of input elements, `middle()` is not one of them. Which is good, because this means that all our other techniques such as [statistical debugging](StatisticalDebugger.ipynb) and [dynamic invariants](DynamicInvariants.ipynb) still have a use case :-)"
   ]
  },
  {
   "cell_type": "markdown",
   "metadata": {
    "slideshow": {
     "slide_type": "slide"
    }
   },
   "source": [
    "## Synopsis"
   ]
  },
  {
   "cell_type": "markdown",
   "metadata": {
    "slideshow": {
     "slide_type": "subslide"
    }
   },
   "source": [
    "This chapter provides a class `DDSetDebugger`, implementing the DDSET algorithm for generalizing failure-inducing inputs. The `DDSetDebugger` is used as follows:\n",
    "\n",
    "```python\n",
    "with DDSetDebugger(grammar) as dd:\n",
    "    function(args...)\n",
    "dd\n",
    "```\n",
    "\n",
    "Here, `function(args...)` is a failing function call (= raises an execption) that takes at least one string argument; `grammar` is an [input grammar in fuzzingbook format](https://www.fuzzingbook.org/html/Grammars.html) that matches the format of this argument.\n",
    "\n",
    "The result is a call of `function()` with an _abstract failure-inducing input_ – a variant of the conrete input in which parts are replaced by placeholders in the form `<name>`, where `<name>` is a nonterminal in the grammar. The failure has been verified to occur for a number of instantiations of `<name>`."
   ]
  },
  {
   "cell_type": "markdown",
   "metadata": {
    "slideshow": {
     "slide_type": "subslide"
    }
   },
   "source": [
    "Here is an example of how `DDSetDebugger` works. The concrete failing input `<foo>\"bar</foo>` is generalized to an _abstract failure-inducing input_:"
   ]
  },
  {
   "cell_type": "code",
   "execution_count": 105,
   "metadata": {
    "execution": {
     "iopub.execute_input": "2021-10-13T11:34:10.577516Z",
     "iopub.status.busy": "2021-10-13T11:34:10.576912Z",
     "iopub.status.idle": "2021-10-13T11:34:10.579872Z",
     "shell.execute_reply": "2021-10-13T11:34:10.580368Z"
    },
    "slideshow": {
     "slide_type": "fragment"
    }
   },
   "outputs": [
    {
     "data": {
      "text/plain": [
       "remove_html_markup(s='<lt><id><gt>\"<plain-text><closing-tag>')"
      ]
     },
     "execution_count": 105,
     "metadata": {},
     "output_type": "execute_result"
    }
   ],
   "source": [
    "with DDSetDebugger(SIMPLE_HTML_GRAMMAR) as dd:\n",
    "    remove_html_markup('<foo>\"bar</foo>')\n",
    "dd"
   ]
  },
  {
   "cell_type": "markdown",
   "metadata": {
    "slideshow": {
     "slide_type": "fragment"
    }
   },
   "source": [
    "The abstract input tells us that the failure occurs for whatever opening and closing HTML tags as long as there is a double quote between them."
   ]
  },
  {
   "cell_type": "markdown",
   "metadata": {
    "slideshow": {
     "slide_type": "fragment"
    }
   },
   "source": [
    "A programmatic interface is available as well. `generalize()` returns a mapping of argument names to (generalized) values:"
   ]
  },
  {
   "cell_type": "code",
   "execution_count": 106,
   "metadata": {
    "execution": {
     "iopub.execute_input": "2021-10-13T11:34:10.584372Z",
     "iopub.status.busy": "2021-10-13T11:34:10.583802Z",
     "iopub.status.idle": "2021-10-13T11:34:10.585969Z",
     "shell.execute_reply": "2021-10-13T11:34:10.586402Z"
    },
    "slideshow": {
     "slide_type": "fragment"
    }
   },
   "outputs": [
    {
     "data": {
      "text/plain": [
       "{'s': '<lt><id><gt>\"<plain-text><closing-tag>'}"
      ]
     },
     "execution_count": 106,
     "metadata": {},
     "output_type": "execute_result"
    }
   ],
   "source": [
    "dd.generalize()"
   ]
  },
  {
   "cell_type": "markdown",
   "metadata": {
    "slideshow": {
     "slide_type": "subslide"
    }
   },
   "source": [
    "Using `fuzz()`, the abstract input can be instantiated to further concrete inputs, all set to produce the failure again:"
   ]
  },
  {
   "cell_type": "code",
   "execution_count": 107,
   "metadata": {
    "execution": {
     "iopub.execute_input": "2021-10-13T11:34:10.610358Z",
     "iopub.status.busy": "2021-10-13T11:34:10.594818Z",
     "iopub.status.idle": "2021-10-13T11:34:10.612408Z",
     "shell.execute_reply": "2021-10-13T11:34:10.612784Z"
    },
    "slideshow": {
     "slide_type": "fragment"
    }
   },
   "outputs": [
    {
     "name": "stdout",
     "output_type": "stream",
     "text": [
      "remove_html_markup(s='<s1d>\"1</hF>')\n",
      "remove_html_markup(s='<H>\"c*C</l>')\n",
      "remove_html_markup(s='<Ah2>\"</v>')\n",
      "remove_html_markup(s='<a7>\")</NP>')\n",
      "remove_html_markup(s='<boyIIt640TF>\"</b08>')\n",
      "remove_html_markup(s='<dF>\"</fay>')\n",
      "remove_html_markup(s='<l2>\"\\t7</z>')\n",
      "remove_html_markup(s='<ci>\"</t>')\n",
      "remove_html_markup(s='<J>\"2</t>')\n",
      "remove_html_markup(s='<Fo9g>\"\\r~\\t\\r</D>')\n"
     ]
    }
   ],
   "source": [
    "for i in range(10):\n",
    "    print(dd.fuzz())"
   ]
  },
  {
   "cell_type": "markdown",
   "metadata": {
    "slideshow": {
     "slide_type": "subslide"
    }
   },
   "source": [
    "`DDSetDebugger` can be customized by passing a subclass of `TreeGeneralizer`, which does the gist of the work; for details, see its constructor.\n",
    "The full class hierarchy is shown below."
   ]
  },
  {
   "cell_type": "code",
   "execution_count": 108,
   "metadata": {
    "execution": {
     "iopub.execute_input": "2021-10-13T11:34:10.615921Z",
     "iopub.status.busy": "2021-10-13T11:34:10.615402Z",
     "iopub.status.idle": "2021-10-13T11:34:10.616997Z",
     "shell.execute_reply": "2021-10-13T11:34:10.617429Z"
    },
    "slideshow": {
     "slide_type": "fragment"
    }
   },
   "outputs": [],
   "source": [
    "# ignore\n",
    "from ClassDiagram import display_class_hierarchy"
   ]
  },
  {
   "cell_type": "code",
   "execution_count": 109,
   "metadata": {
    "execution": {
     "iopub.execute_input": "2021-10-13T11:34:10.631291Z",
     "iopub.status.busy": "2021-10-13T11:34:10.628500Z",
     "iopub.status.idle": "2021-10-13T11:34:11.345497Z",
     "shell.execute_reply": "2021-10-13T11:34:11.345884Z"
    },
    "slideshow": {
     "slide_type": "subslide"
    }
   },
   "outputs": [
    {
     "data": {
      "image/svg+xml": [
       "<?xml version=\"1.0\" encoding=\"UTF-8\" standalone=\"no\"?>\n",
       "<!DOCTYPE svg PUBLIC \"-//W3C//DTD SVG 1.1//EN\"\n",
       " \"http://www.w3.org/Graphics/SVG/1.1/DTD/svg11.dtd\">\n",
       "<!-- Generated by graphviz version 2.49.1 (20210923.0004)\n",
       " -->\n",
       "<!-- Pages: 1 -->\n",
       "<svg width=\"450pt\" height=\"536pt\"\n",
       " viewBox=\"0.00 0.00 449.50 536.00\" xmlns=\"http://www.w3.org/2000/svg\" xmlns:xlink=\"http://www.w3.org/1999/xlink\">\n",
       "<g id=\"graph0\" class=\"graph\" transform=\"scale(1 1) rotate(0) translate(4 532)\">\n",
       "<g id=\"a_graph0\"><a xlink:title=\"DDSetDebugger class hierarchy\">\n",
       "<polygon fill=\"white\" stroke=\"transparent\" points=\"-4,4 -4,-532 445.5,-532 445.5,4 -4,4\"/>\n",
       "</a>\n",
       "</g>\n",
       "<!-- DDSetDebugger -->\n",
       "<g id=\"node1\" class=\"node\">\n",
       "<title>DDSetDebugger</title>\n",
       "<g id=\"a_node1\"><a xlink:href=\"#\" xlink:title=\"class DDSetDebugger:&#10;Debugger implementing the DDSET algorithm for abstracting failure&#45;inducing inputs.\">\n",
       "<polygon fill=\"none\" stroke=\"black\" points=\"23,-17 23,-103 144,-103 144,-17 23,-17\"/>\n",
       "<text text-anchor=\"start\" x=\"31\" y=\"-88.8\" font-family=\"Raleway, Helvetica, Arial, sans-serif\" font-weight=\"bold\" font-size=\"14.00\" fill=\"#6a0dad\">DDSetDebugger</text>\n",
       "<polyline fill=\"none\" stroke=\"black\" points=\"23,-80 144,-80 \"/>\n",
       "<g id=\"a_node1_0\"><a xlink:href=\"#\" xlink:title=\"DDSetDebugger\">\n",
       "<g id=\"a_node1_1\"><a xlink:href=\"#\" xlink:title=\"__init__(self, grammar: Dict[str, List[Union[str, Tuple[str, Dict[str, Any]]]]], generalizer_class: Type = &lt;class &#39;__main__.TreeGeneralizer&#39;&gt;, parser: Optional[fuzzingbook.Parser.Parser] = None, **kwargs: Any) &#45;&gt; None:&#10;Constructor.&#10;`grammar` is an input grammar in fuzzingbook format.&#10;`generalizer_class` is the tree generalizer class to use&#10;(default: `TreeGeneralizer`)&#10;`parser` is the parser to use (default: `EarleyParser(grammar)`).&#10;All other keyword args are passed to the tree generalizer, notably:&#10;`fuzzer` &#45; the fuzzer to use (default: `GrammarFuzzer`), and&#10;`log` &#45; enables debugging output if True.\">\n",
       "<text text-anchor=\"start\" x=\"47.5\" y=\"-68.5\" font-family=\"'Fira Mono', 'Source Code Pro', 'Courier', monospace\" font-weight=\"bold\" font-style=\"italic\" font-size=\"10.00\">__init__()</text>\n",
       "</a>\n",
       "</g>\n",
       "<g id=\"a_node1_2\"><a xlink:href=\"#\" xlink:title=\"__repr__(self) &#45;&gt; str:&#10;Return a string representation of the generalized call.\">\n",
       "<text text-anchor=\"start\" x=\"47.5\" y=\"-57.5\" font-family=\"'Fira Mono', 'Source Code Pro', 'Courier', monospace\" font-weight=\"bold\" font-size=\"10.00\">__repr__()</text>\n",
       "</a>\n",
       "</g>\n",
       "<g id=\"a_node1_3\"><a xlink:href=\"#\" xlink:title=\"fuzz(self) &#45;&gt; str:&#10;Return a call with arguments randomly instantiated&#10;from the abstract failure&#45;inducing pattern.\">\n",
       "<text text-anchor=\"start\" x=\"47.5\" y=\"-46.5\" font-family=\"'Fira Mono', 'Source Code Pro', 'Courier', monospace\" font-weight=\"bold\" font-size=\"10.00\">fuzz()</text>\n",
       "</a>\n",
       "</g>\n",
       "<g id=\"a_node1_4\"><a xlink:href=\"#\" xlink:title=\"fuzz_args(self) &#45;&gt; Dict[str, Any]:&#10;Return arguments randomly instantiated&#10;from the abstract failure&#45;inducing pattern.\">\n",
       "<text text-anchor=\"start\" x=\"47.5\" y=\"-35.5\" font-family=\"'Fira Mono', 'Source Code Pro', 'Courier', monospace\" font-weight=\"bold\" font-size=\"10.00\">fuzz_args()</text>\n",
       "</a>\n",
       "</g>\n",
       "<g id=\"a_node1_5\"><a xlink:href=\"#\" xlink:title=\"generalize(self) &#45;&gt; Dict[str, Any]:&#10;Generalize arguments seen. For each function argument,&#10;produce an abstract failure&#45;inducing input that characterizes&#10;the set of inputs for which the function fails.\">\n",
       "<text text-anchor=\"start\" x=\"47.5\" y=\"-24.5\" font-family=\"'Fira Mono', 'Source Code Pro', 'Courier', monospace\" font-weight=\"bold\" font-size=\"10.00\">generalize()</text>\n",
       "</a>\n",
       "</g>\n",
       "</a>\n",
       "</g>\n",
       "</a>\n",
       "</g>\n",
       "</g>\n",
       "<!-- CallCollector -->\n",
       "<g id=\"node2\" class=\"node\">\n",
       "<title>CallCollector</title>\n",
       "<g id=\"a_node2\"><a xlink:href=\"DeltaDebugger.ipynb\" xlink:title=\"class CallCollector:&#10;Collect an exception&#45;raising function call f().&#10;Use as `with CallCollector(): f()`\">\n",
       "<polygon fill=\"none\" stroke=\"black\" points=\"21,-156.5 21,-319.5 146,-319.5 146,-156.5 21,-156.5\"/>\n",
       "<text text-anchor=\"start\" x=\"43\" y=\"-305.3\" font-family=\"Raleway, Helvetica, Arial, sans-serif\" font-weight=\"bold\" font-size=\"14.00\" fill=\"#6a0dad\">CallCollector</text>\n",
       "<polyline fill=\"none\" stroke=\"black\" points=\"21,-296.5 146,-296.5 \"/>\n",
       "<g id=\"a_node2_6\"><a xlink:href=\"#\" xlink:title=\"CallCollector\">\n",
       "<g id=\"a_node2_7\"><a xlink:href=\"DeltaDebugger.ipynb\" xlink:title=\"__enter__(self) &#45;&gt; Any:&#10;Called at begin of `with` block. Turn tracing on.\">\n",
       "<text text-anchor=\"start\" x=\"29.5\" y=\"-285.5\" font-family=\"'Fira Mono', 'Source Code Pro', 'Courier', monospace\" font-weight=\"bold\" font-size=\"10.00\">__enter__()</text>\n",
       "</a>\n",
       "</g>\n",
       "<g id=\"a_node2_8\"><a xlink:href=\"DeltaDebugger.ipynb\" xlink:title=\"__exit__(self, exc_tp: Type, exc_value: BaseException, exc_traceback: traceback) &#45;&gt; Optional[bool]:&#10;Called at end of `with` block. Turn tracing off.\">\n",
       "<text text-anchor=\"start\" x=\"29.5\" y=\"-274.5\" font-family=\"'Fira Mono', 'Source Code Pro', 'Courier', monospace\" font-weight=\"bold\" font-size=\"10.00\">__exit__()</text>\n",
       "</a>\n",
       "</g>\n",
       "<g id=\"a_node2_9\"><a xlink:href=\"DeltaDebugger.ipynb\" xlink:title=\"__init__(self) &#45;&gt; None:&#10;Initialize collector\">\n",
       "<text text-anchor=\"start\" x=\"29.5\" y=\"-263.5\" font-family=\"'Fira Mono', 'Source Code Pro', 'Courier', monospace\" font-weight=\"bold\" font-style=\"italic\" font-size=\"10.00\">__init__()</text>\n",
       "</a>\n",
       "</g>\n",
       "<g id=\"a_node2_10\"><a xlink:href=\"DeltaDebugger.ipynb\" xlink:title=\"args(self) &#45;&gt; Dict[str, Any]:&#10;Return the dictionary of collected arguments.\">\n",
       "<text text-anchor=\"start\" x=\"29.5\" y=\"-252.5\" font-family=\"'Fira Mono', 'Source Code Pro', 'Courier', monospace\" font-weight=\"bold\" font-size=\"10.00\">args()</text>\n",
       "</a>\n",
       "</g>\n",
       "<g id=\"a_node2_11\"><a xlink:href=\"DeltaDebugger.ipynb\" xlink:title=\"call(self, new_args: Optional[Dict[str, Any]] = None) &#45;&gt; Any:&#10;Call collected function. If `new_args` is given,&#10;override arguments from its {var: value} entries.\">\n",
       "<text text-anchor=\"start\" x=\"29.5\" y=\"-241.5\" font-family=\"'Fira Mono', 'Source Code Pro', 'Courier', monospace\" font-weight=\"bold\" font-size=\"10.00\">call()</text>\n",
       "</a>\n",
       "</g>\n",
       "<g id=\"a_node2_12\"><a xlink:href=\"DeltaDebugger.ipynb\" xlink:title=\"exception(self) &#45;&gt; Optional[BaseException]:&#10;Return the exception produced, or `None` if none.\">\n",
       "<text text-anchor=\"start\" x=\"29.5\" y=\"-230.5\" font-family=\"'Fira Mono', 'Source Code Pro', 'Courier', monospace\" font-weight=\"bold\" font-size=\"10.00\">exception()</text>\n",
       "</a>\n",
       "</g>\n",
       "<g id=\"a_node2_13\"><a xlink:href=\"DeltaDebugger.ipynb\" xlink:title=\"function(self) &#45;&gt; Callable:&#10;Return the function called.\">\n",
       "<text text-anchor=\"start\" x=\"29.5\" y=\"-219.5\" font-family=\"'Fira Mono', 'Source Code Pro', 'Courier', monospace\" font-weight=\"bold\" font-size=\"10.00\">function()</text>\n",
       "</a>\n",
       "</g>\n",
       "<g id=\"a_node2_14\"><a xlink:href=\"DeltaDebugger.ipynb\" xlink:title=\"after_collection(self) &#45;&gt; None:&#10;Called after collection. To be defined in subclasses.\">\n",
       "<text text-anchor=\"start\" x=\"29.5\" y=\"-208.5\" font-family=\"'Fira Mono', 'Source Code Pro', 'Courier', monospace\" font-style=\"italic\" font-size=\"10.00\">after_collection()</text>\n",
       "</a>\n",
       "</g>\n",
       "<g id=\"a_node2_15\"><a xlink:href=\"DeltaDebugger.ipynb\" xlink:title=\"format_call(self, args: Optional[Dict[str, Any]] = None) &#45;&gt; str:&#10;Return a string representing a call of the function with given args.\">\n",
       "<text text-anchor=\"start\" x=\"29.5\" y=\"-196.5\" font-family=\"'Fira Mono', 'Source Code Pro', 'Courier', monospace\" font-size=\"10.00\">format_call()</text>\n",
       "</a>\n",
       "</g>\n",
       "<g id=\"a_node2_16\"><a xlink:href=\"DeltaDebugger.ipynb\" xlink:title=\"format_exception(self, exc: Optional[BaseException] = None) &#45;&gt; str:&#10;Return a string representing the given exception.\">\n",
       "<text text-anchor=\"start\" x=\"29.5\" y=\"-185.5\" font-family=\"'Fira Mono', 'Source Code Pro', 'Courier', monospace\" font-size=\"10.00\">format_exception()</text>\n",
       "</a>\n",
       "</g>\n",
       "<g id=\"a_node2_17\"><a xlink:href=\"DeltaDebugger.ipynb\" xlink:title=\"init(self) &#45;&gt; None:&#10;Reset for new collection.\">\n",
       "<text text-anchor=\"start\" x=\"29.5\" y=\"-174.5\" font-family=\"'Fira Mono', 'Source Code Pro', 'Courier', monospace\" font-size=\"10.00\">init()</text>\n",
       "</a>\n",
       "</g>\n",
       "<g id=\"a_node2_18\"><a xlink:href=\"DeltaDebugger.ipynb\" xlink:title=\"traceit(self, frame: frame, event: str, arg: Any) &#45;&gt; None:&#10;Tracing function. Collect first call, then turn tracing off.\">\n",
       "<text text-anchor=\"start\" x=\"29.5\" y=\"-163.5\" font-family=\"'Fira Mono', 'Source Code Pro', 'Courier', monospace\" font-size=\"10.00\">traceit()</text>\n",
       "</a>\n",
       "</g>\n",
       "</a>\n",
       "</g>\n",
       "</a>\n",
       "</g>\n",
       "</g>\n",
       "<!-- DDSetDebugger&#45;&gt;CallCollector -->\n",
       "<g id=\"edge1\" class=\"edge\">\n",
       "<title>DDSetDebugger&#45;&gt;CallCollector</title>\n",
       "<path fill=\"none\" stroke=\"black\" d=\"M83.5,-103.16C83.5,-116.13 83.5,-130.95 83.5,-145.88\"/>\n",
       "<polygon fill=\"none\" stroke=\"black\" points=\"80,-146.22 83.5,-156.22 87,-146.22 80,-146.22\"/>\n",
       "</g>\n",
       "<!-- StackInspector -->\n",
       "<g id=\"node3\" class=\"node\">\n",
       "<title>StackInspector</title>\n",
       "<g id=\"a_node3\"><a xlink:href=\"StackInspector.ipynb\" xlink:title=\"class StackInspector:&#10;Provide functions to inspect the stack\">\n",
       "<polygon fill=\"none\" stroke=\"black\" points=\"0,-356.5 0,-527.5 167,-527.5 167,-356.5 0,-356.5\"/>\n",
       "<text text-anchor=\"start\" x=\"37\" y=\"-513.3\" font-family=\"Raleway, Helvetica, Arial, sans-serif\" font-weight=\"bold\" font-size=\"14.00\" fill=\"#6a0dad\">StackInspector</text>\n",
       "<polyline fill=\"none\" stroke=\"black\" points=\"0,-504.5 167,-504.5 \"/>\n",
       "<g id=\"a_node3_19\"><a xlink:href=\"#\" xlink:title=\"StackInspector\">\n",
       "<g id=\"a_node3_20\"><a xlink:href=\"StackInspector.ipynb\" xlink:title=\"_generated_function_cache = {}\">\n",
       "<text text-anchor=\"start\" x=\"8.5\" y=\"-492\" font-family=\"'Fira Mono', 'Source Code Pro', 'Courier', monospace\" font-size=\"10.00\">_generated_function_cache</text>\n",
       "</a>\n",
       "</g>\n",
       "</a>\n",
       "</g>\n",
       "<polyline fill=\"none\" stroke=\"black\" points=\"0,-485.5 167,-485.5 \"/>\n",
       "<g id=\"a_node3_21\"><a xlink:href=\"#\" xlink:title=\"StackInspector\">\n",
       "<g id=\"a_node3_22\"><a xlink:href=\"StackInspector.ipynb\" xlink:title=\"caller_frame(self) &#45;&gt; frame:&#10;Return the frame of the caller.\">\n",
       "<text text-anchor=\"start\" x=\"26.5\" y=\"-473\" font-family=\"'Fira Mono', 'Source Code Pro', 'Courier', monospace\" font-size=\"10.00\">caller_frame()</text>\n",
       "</a>\n",
       "</g>\n",
       "<g id=\"a_node3_23\"><a xlink:href=\"StackInspector.ipynb\" xlink:title=\"caller_function(self) &#45;&gt; Callable:&#10;Return the calling function\">\n",
       "<text text-anchor=\"start\" x=\"26.5\" y=\"-462\" font-family=\"'Fira Mono', 'Source Code Pro', 'Courier', monospace\" font-size=\"10.00\">caller_function()</text>\n",
       "</a>\n",
       "</g>\n",
       "<g id=\"a_node3_24\"><a xlink:href=\"StackInspector.ipynb\" xlink:title=\"caller_globals(self) &#45;&gt; Dict[str, Any]:&#10;Return the globals() environment of the caller.\">\n",
       "<text text-anchor=\"start\" x=\"26.5\" y=\"-451\" font-family=\"'Fira Mono', 'Source Code Pro', 'Courier', monospace\" font-size=\"10.00\">caller_globals()</text>\n",
       "</a>\n",
       "</g>\n",
       "<g id=\"a_node3_25\"><a xlink:href=\"StackInspector.ipynb\" xlink:title=\"caller_locals(self) &#45;&gt; Dict[str, Any]:&#10;Return the locals() environment of the caller.\">\n",
       "<text text-anchor=\"start\" x=\"26.5\" y=\"-440\" font-family=\"'Fira Mono', 'Source Code Pro', 'Courier', monospace\" font-size=\"10.00\">caller_locals()</text>\n",
       "</a>\n",
       "</g>\n",
       "<g id=\"a_node3_26\"><a xlink:href=\"StackInspector.ipynb\" xlink:title=\"caller_location(self) &#45;&gt; Tuple[Callable, int]:&#10;Return the location (func, lineno) of the caller.\">\n",
       "<text text-anchor=\"start\" x=\"26.5\" y=\"-429\" font-family=\"'Fira Mono', 'Source Code Pro', 'Courier', monospace\" font-size=\"10.00\">caller_location()</text>\n",
       "</a>\n",
       "</g>\n",
       "<g id=\"a_node3_27\"><a xlink:href=\"StackInspector.ipynb\" xlink:title=\"create_function(self, frame: frame) &#45;&gt; Callable:&#10;Create function for given frame\">\n",
       "<text text-anchor=\"start\" x=\"26.5\" y=\"-418\" font-family=\"'Fira Mono', 'Source Code Pro', 'Courier', monospace\" font-size=\"10.00\">create_function()</text>\n",
       "</a>\n",
       "</g>\n",
       "<g id=\"a_node3_28\"><a xlink:href=\"StackInspector.ipynb\" xlink:title=\"is_internal_error(self, exc_tp: Type, exc_value: BaseException, exc_traceback: traceback) &#45;&gt; bool:&#10;Return True if exception was raised from `StackInspector` or a subclass.\">\n",
       "<text text-anchor=\"start\" x=\"26.5\" y=\"-407\" font-family=\"'Fira Mono', 'Source Code Pro', 'Courier', monospace\" font-size=\"10.00\">is_internal_error()</text>\n",
       "</a>\n",
       "</g>\n",
       "<g id=\"a_node3_29\"><a xlink:href=\"StackInspector.ipynb\" xlink:title=\"our_frame(self, frame: frame) &#45;&gt; bool:&#10;Return true if `frame` is in the current (inspecting) class.\">\n",
       "<text text-anchor=\"start\" x=\"26.5\" y=\"-396\" font-family=\"'Fira Mono', 'Source Code Pro', 'Courier', monospace\" font-size=\"10.00\">our_frame()</text>\n",
       "</a>\n",
       "</g>\n",
       "<g id=\"a_node3_30\"><a xlink:href=\"StackInspector.ipynb\" xlink:title=\"search_frame(self, name: str, frame: Optional[frame] = None) &#45;&gt; Tuple[Optional[frame], Optional[Callable]]:&#10;Return a pair (`frame`, `item`)&#10;in which the function `name` is defined as `item`.\">\n",
       "<text text-anchor=\"start\" x=\"26.5\" y=\"-385\" font-family=\"'Fira Mono', 'Source Code Pro', 'Courier', monospace\" font-size=\"10.00\">search_frame()</text>\n",
       "</a>\n",
       "</g>\n",
       "<g id=\"a_node3_31\"><a xlink:href=\"StackInspector.ipynb\" xlink:title=\"search_func(self, name: str, frame: Optional[frame] = None) &#45;&gt; Optional[Callable]:&#10;Search in callers for a definition of the function `name`\">\n",
       "<text text-anchor=\"start\" x=\"26.5\" y=\"-374\" font-family=\"'Fira Mono', 'Source Code Pro', 'Courier', monospace\" font-size=\"10.00\">search_func()</text>\n",
       "</a>\n",
       "</g>\n",
       "<g id=\"a_node3_32\"><a xlink:href=\"StackInspector.ipynb\" xlink:title=\"unknown(self) &#45;&gt; None\">\n",
       "<text text-anchor=\"start\" x=\"26.5\" y=\"-363\" font-family=\"'Fira Mono', 'Source Code Pro', 'Courier', monospace\" font-size=\"10.00\">unknown()</text>\n",
       "</a>\n",
       "</g>\n",
       "</a>\n",
       "</g>\n",
       "</a>\n",
       "</g>\n",
       "</g>\n",
       "<!-- CallCollector&#45;&gt;StackInspector -->\n",
       "<g id=\"edge2\" class=\"edge\">\n",
       "<title>CallCollector&#45;&gt;StackInspector</title>\n",
       "<path fill=\"none\" stroke=\"black\" d=\"M83.5,-319.71C83.5,-328.49 83.5,-337.49 83.5,-346.41\"/>\n",
       "<polygon fill=\"none\" stroke=\"black\" points=\"80,-346.45 83.5,-356.45 87,-346.45 80,-346.45\"/>\n",
       "</g>\n",
       "<!-- TreeGeneralizer -->\n",
       "<g id=\"node4\" class=\"node\">\n",
       "<title>TreeGeneralizer</title>\n",
       "<g id=\"a_node4\"><a xlink:href=\"#\" xlink:title=\"class TreeGeneralizer:&#10;Determine which parts of a derivation tree can be generalized.\">\n",
       "<polygon fill=\"none\" stroke=\"black\" points=\"162,-0.5 162,-119.5 305,-119.5 305,-0.5 162,-0.5\"/>\n",
       "<text text-anchor=\"start\" x=\"184\" y=\"-105.3\" font-family=\"Raleway, Helvetica, Arial, sans-serif\" font-weight=\"bold\" font-size=\"14.00\" fill=\"#6a0dad\">TreeGeneralizer</text>\n",
       "<polyline fill=\"none\" stroke=\"black\" points=\"162,-96.5 305,-96.5 \"/>\n",
       "<g id=\"a_node4_33\"><a xlink:href=\"#\" xlink:title=\"TreeGeneralizer\">\n",
       "<g id=\"a_node4_34\"><a xlink:href=\"#\" xlink:title=\"__init__(self, grammar: Dict[str, List[Union[str, Tuple[str, Dict[str, Any]]]]], tree: Tuple[str, Optional[List[Any]]], test: Callable, max_tries_for_generalization: int = 10, **kwargs: Any) &#45;&gt; None:&#10;Constructor. `grammar` and `tree` are as in `TreeMutator`.&#10;`test` is a function taking a string that either&#10;* raises an exception, indicating test failure;&#10;* or not, indicating test success.&#10;`max_tries_for_generalization` is the number of times&#10;an instantiation has to fail before it is generalized.\">\n",
       "<text text-anchor=\"start\" x=\"170.5\" y=\"-85.5\" font-family=\"'Fira Mono', 'Source Code Pro', 'Courier', monospace\" font-style=\"italic\" font-size=\"10.00\">__init__()</text>\n",
       "</a>\n",
       "</g>\n",
       "<g id=\"a_node4_35\"><a xlink:href=\"#\" xlink:title=\"can_generalize(self, path: List[int], tree: Optional[Tuple[str, Optional[List[Any]]]] = None) &#45;&gt; bool:&#10;Return True if the subtree at `path` can be generalized.\">\n",
       "<text text-anchor=\"start\" x=\"170.5\" y=\"-73.5\" font-family=\"'Fira Mono', 'Source Code Pro', 'Courier', monospace\" font-size=\"10.00\">can_generalize()</text>\n",
       "</a>\n",
       "</g>\n",
       "<g id=\"a_node4_36\"><a xlink:href=\"#\" xlink:title=\"find_paths(self, predicate: Callable[[List[int], Tuple[str, Optional[List[Any]]]], bool], path: Optional[List[int]] = None, tree: Optional[Tuple[str, Optional[List[Any]]]] = None) &#45;&gt; List[List[int]]:&#10;Return a list of all paths for which `predicate` holds.&#10;`predicate` is a function `predicate`(`path`, `tree`), where&#10;`path` denotes a subtree in `tree`. If `predicate()` returns&#10;True, `path` is included in the returned list.\">\n",
       "<text text-anchor=\"start\" x=\"170.5\" y=\"-62.5\" font-family=\"'Fira Mono', 'Source Code Pro', 'Courier', monospace\" font-size=\"10.00\">find_paths()</text>\n",
       "</a>\n",
       "</g>\n",
       "<g id=\"a_node4_37\"><a xlink:href=\"#\" xlink:title=\"fuzz_tree(self, tree: Tuple[str, Optional[List[Any]]]) &#45;&gt; Tuple[str, Optional[List[Any]]]:&#10;Return an instantiated copy of `tree`.\">\n",
       "<text text-anchor=\"start\" x=\"170.5\" y=\"-51.5\" font-family=\"'Fira Mono', 'Source Code Pro', 'Courier', monospace\" font-size=\"10.00\">fuzz_tree()</text>\n",
       "</a>\n",
       "</g>\n",
       "<g id=\"a_node4_38\"><a xlink:href=\"#\" xlink:title=\"generalizable_paths(self) &#45;&gt; List[List[int]]:&#10;Return a list of all paths whose subtrees can be generalized.\">\n",
       "<text text-anchor=\"start\" x=\"170.5\" y=\"-40.5\" font-family=\"'Fira Mono', 'Source Code Pro', 'Courier', monospace\" font-size=\"10.00\">generalizable_paths()</text>\n",
       "</a>\n",
       "</g>\n",
       "<g id=\"a_node4_39\"><a xlink:href=\"#\" xlink:title=\"generalize(self) &#45;&gt; Tuple[str, Optional[List[Any]]]:&#10;Returns a copy of the tree in which all generalizable subtrees&#10;are generalized (= replaced by nonterminals without children)\">\n",
       "<text text-anchor=\"start\" x=\"170.5\" y=\"-29.5\" font-family=\"'Fira Mono', 'Source Code Pro', 'Courier', monospace\" font-size=\"10.00\">generalize()</text>\n",
       "</a>\n",
       "</g>\n",
       "<g id=\"a_node4_40\"><a xlink:href=\"#\" xlink:title=\"generalize_path(self, path: List[int], tree: Optional[Tuple[str, Optional[List[Any]]]] = None) &#45;&gt; Tuple[str, Optional[List[Any]]]:&#10;Return a copy of the tree in which the subtree at `path`&#10;is generalized (= replaced by a nonterminal without children)\">\n",
       "<text text-anchor=\"start\" x=\"170.5\" y=\"-18.5\" font-family=\"'Fira Mono', 'Source Code Pro', 'Courier', monospace\" font-size=\"10.00\">generalize_path()</text>\n",
       "</a>\n",
       "</g>\n",
       "<g id=\"a_node4_41\"><a xlink:href=\"#\" xlink:title=\"test_tree(self, tree: Tuple[str, Optional[List[Any]]]) &#45;&gt; bool:&#10;Return True if testing `tree` passes, else False\">\n",
       "<text text-anchor=\"start\" x=\"170.5\" y=\"-7.5\" font-family=\"'Fira Mono', 'Source Code Pro', 'Courier', monospace\" font-size=\"10.00\">test_tree()</text>\n",
       "</a>\n",
       "</g>\n",
       "</a>\n",
       "</g>\n",
       "</a>\n",
       "</g>\n",
       "</g>\n",
       "<!-- TreeMutator -->\n",
       "<g id=\"node5\" class=\"node\">\n",
       "<title>TreeMutator</title>\n",
       "<g id=\"a_node5\"><a xlink:href=\"#\" xlink:title=\"class TreeMutator:&#10;Grammar&#45;based mutations of derivation trees.\">\n",
       "<polygon fill=\"none\" stroke=\"black\" points=\"186,-200.5 186,-275.5 281,-275.5 281,-200.5 186,-200.5\"/>\n",
       "<text text-anchor=\"start\" x=\"195.5\" y=\"-261.3\" font-family=\"Raleway, Helvetica, Arial, sans-serif\" font-weight=\"bold\" font-size=\"14.00\" fill=\"#6a0dad\">TreeMutator</text>\n",
       "<polyline fill=\"none\" stroke=\"black\" points=\"186,-252.5 281,-252.5 \"/>\n",
       "<g id=\"a_node5_42\"><a xlink:href=\"#\" xlink:title=\"TreeMutator\">\n",
       "<g id=\"a_node5_43\"><a xlink:href=\"#\" xlink:title=\"__init__(self, grammar: Dict[str, List[Union[str, Tuple[str, Dict[str, Any]]]]], tree: Tuple[str, Optional[List[Any]]], fuzzer: Optional[fuzzingbook.GrammarFuzzer.GrammarFuzzer] = None, log: Union[bool, int] = False):&#10;Constructor.&#10;`grammar` is the underlying grammar;&#10;`tree` is the tree to work on.&#10;`fuzzer` is the grammar fuzzer to use (default: `GrammarFuzzer`)\">\n",
       "<text text-anchor=\"start\" x=\"194.5\" y=\"-241.5\" font-family=\"'Fira Mono', 'Source Code Pro', 'Courier', monospace\" font-style=\"italic\" font-size=\"10.00\">__init__()</text>\n",
       "</a>\n",
       "</g>\n",
       "<g id=\"a_node5_44\"><a xlink:href=\"#\" xlink:title=\"get_subtree(self, path: List[int], tree: Optional[Tuple[str, Optional[List[Any]]]] = None) &#45;&gt; Tuple[str, Optional[List[Any]]]:&#10;Access a subtree based on `path` (a list of children numbers)\">\n",
       "<text text-anchor=\"start\" x=\"194.5\" y=\"-229.5\" font-family=\"'Fira Mono', 'Source Code Pro', 'Courier', monospace\" font-size=\"10.00\">get_subtree()</text>\n",
       "</a>\n",
       "</g>\n",
       "<g id=\"a_node5_45\"><a xlink:href=\"#\" xlink:title=\"mutate(self, path: List[int], tree: Optional[Tuple[str, Optional[List[Any]]]] = None) &#45;&gt; Tuple[str, Optional[List[Any]]]:&#10;Return a new tree mutated at `path`\">\n",
       "<text text-anchor=\"start\" x=\"194.5\" y=\"-218.5\" font-family=\"'Fira Mono', 'Source Code Pro', 'Courier', monospace\" font-size=\"10.00\">mutate()</text>\n",
       "</a>\n",
       "</g>\n",
       "<g id=\"a_node5_46\"><a xlink:href=\"#\" xlink:title=\"new_tree(self, start_symbol: str) &#45;&gt; Tuple[str, Optional[List[Any]]]:&#10;Create a new subtree for &lt;start_symbol&gt;.\">\n",
       "<text text-anchor=\"start\" x=\"194.5\" y=\"-207.5\" font-family=\"'Fira Mono', 'Source Code Pro', 'Courier', monospace\" font-size=\"10.00\">new_tree()</text>\n",
       "</a>\n",
       "</g>\n",
       "</a>\n",
       "</g>\n",
       "</a>\n",
       "</g>\n",
       "</g>\n",
       "<!-- TreeGeneralizer&#45;&gt;TreeMutator -->\n",
       "<g id=\"edge3\" class=\"edge\">\n",
       "<title>TreeGeneralizer&#45;&gt;TreeMutator</title>\n",
       "<path fill=\"none\" stroke=\"black\" d=\"M233.5,-119.61C233.5,-142.55 233.5,-168.51 233.5,-190.17\"/>\n",
       "<polygon fill=\"none\" stroke=\"black\" points=\"230,-190.42 233.5,-200.42 237,-190.42 230,-190.42\"/>\n",
       "</g>\n",
       "<!-- Legend -->\n",
       "<g id=\"node6\" class=\"node\">\n",
       "<title>Legend</title>\n",
       "<text text-anchor=\"start\" x=\"323.5\" y=\"-77.5\" font-family=\"Raleway, Helvetica, Arial, sans-serif\" font-weight=\"bold\" font-size=\"10.00\" fill=\"#6a0dad\">Legend</text>\n",
       "<text text-anchor=\"start\" x=\"323.5\" y=\"-67.5\" font-family=\"Raleway, Helvetica, Arial, sans-serif\" font-size=\"10.00\">• </text>\n",
       "<text text-anchor=\"start\" x=\"330.5\" y=\"-67.5\" font-family=\"'Fira Mono', 'Source Code Pro', 'Courier', monospace\" font-weight=\"bold\" font-size=\"8.00\">public_method()</text>\n",
       "<text text-anchor=\"start\" x=\"323.5\" y=\"-57.5\" font-family=\"Raleway, Helvetica, Arial, sans-serif\" font-size=\"10.00\">• </text>\n",
       "<text text-anchor=\"start\" x=\"330.5\" y=\"-57.5\" font-family=\"'Fira Mono', 'Source Code Pro', 'Courier', monospace\" font-size=\"8.00\">private_method()</text>\n",
       "<text text-anchor=\"start\" x=\"323.5\" y=\"-47.5\" font-family=\"Raleway, Helvetica, Arial, sans-serif\" font-size=\"10.00\">• </text>\n",
       "<text text-anchor=\"start\" x=\"330.5\" y=\"-47.5\" font-family=\"'Fira Mono', 'Source Code Pro', 'Courier', monospace\" font-style=\"italic\" font-size=\"8.00\">overloaded_method()</text>\n",
       "<text text-anchor=\"start\" x=\"323.5\" y=\"-38.3\" font-family=\"Helvetica,sans-Serif\" font-size=\"9.00\">Hover over names to see doc</text>\n",
       "</g>\n",
       "</g>\n",
       "</svg>\n"
      ],
      "text/plain": [
       "<graphviz.dot.Digraph at 0x111ba1e80>"
      ]
     },
     "execution_count": 109,
     "metadata": {},
     "output_type": "execute_result"
    }
   ],
   "source": [
    "# ignore\n",
    "display_class_hierarchy([DDSetDebugger, TreeGeneralizer],\n",
    "                        public_methods=[\n",
    "                            CallCollector.__init__,\n",
    "                            CallCollector.__enter__,\n",
    "                            CallCollector.__exit__,\n",
    "                            CallCollector.function,\n",
    "                            CallCollector.args,\n",
    "                            CallCollector.exception,\n",
    "                            CallCollector.call,  # type: ignore\n",
    "                            DDSetDebugger.__init__,\n",
    "                            DDSetDebugger.__repr__,\n",
    "                            DDSetDebugger.fuzz,\n",
    "                            DDSetDebugger.fuzz_args,\n",
    "                            DDSetDebugger.generalize,\n",
    "                        ], project='debuggingbook')"
   ]
  },
  {
   "cell_type": "markdown",
   "metadata": {
    "button": false,
    "new_sheet": true,
    "run_control": {
     "read_only": false
    },
    "slideshow": {
     "slide_type": "slide"
    }
   },
   "source": [
    "## Lessons Learned\n",
    "\n",
    "* Generalizing failure-inducing inputs can yield important information for which inputs and under which circumstances a failure occurs.\n",
    "* Generalizing failure-inducing inputs is most useful if the input can be split into multiple elements, of which only a part are relevant for producing the error.\n",
    "* As they help in _parsing_ and _producing_ input, _grammars_ can play an important role in testing and debugging."
   ]
  },
  {
   "cell_type": "markdown",
   "metadata": {
    "button": false,
    "new_sheet": false,
    "run_control": {
     "read_only": false
    },
    "slideshow": {
     "slide_type": "slide"
    }
   },
   "source": [
    "## Next Steps\n",
    "\n",
    "Our [next chapter](Repairer.ipynb) introduces _automated repair_ of programs, building on the fault localization and generalization mechanisms introduced so far."
   ]
  },
  {
   "cell_type": "markdown",
   "metadata": {
    "slideshow": {
     "slide_type": "slide"
    }
   },
   "source": [
    "## Background\n",
    "\n",
    "Our `DDSetDebugger` class implements the DDSET algorithm as introduced by Gopinath et al. in \\cite{Gopinath2020}. A [full-fledged implementation of DDSET](https://rahul.gopinath.org/post/2020/07/15/ddset/) with plenty of details and experiments is available as a Jupyter Notebook. Our implementation follows the [simplified implementation of DDSET, as described by Gopinath](https://rahul.gopinath.org/post/2020/08/03/simple-ddset/).\n",
    "\n",
    "The potential for determining how input features relate to bugs is not nearly explored yet. \n",
    "The ALHAZEN work by Kampmann et al. \\cite{Kampmann2020} generalizes over DDSET in a different way, by investigating _semantic_ features of input elements such as their numeric interpretation or length and their correlation with failures. Like DDSET, ALHAZEN also uses a feedback loop to strengthen or refute its hypotheses.\n",
    "\n",
    "In recent work \\cite{Gopinath2021}, Gopinath has extended the concept of DDSET further. His work on _evocative expressions_ introduces a _pattern language_ in which arbitrary DDSET-like patterns can be combined into Boolean formula that even more precisely capture and produce failure circumstances. In particular, evocative expressions can _specialize_ grammars towards Boolean pattern combinations, thus allowing for great flexibility in testing and debugging."
   ]
  },
  {
   "cell_type": "markdown",
   "metadata": {
    "button": false,
    "new_sheet": true,
    "run_control": {
     "read_only": false
    },
    "slideshow": {
     "slide_type": "slide"
    }
   },
   "source": [
    "## Exercises"
   ]
  },
  {
   "cell_type": "markdown",
   "metadata": {
    "button": false,
    "new_sheet": false,
    "run_control": {
     "read_only": false
    },
    "slideshow": {
     "slide_type": "subslide"
    }
   },
   "source": [
    "### Exercise 1: Generalization and Specialization\n",
    "\n",
    "Consider the abstract failure-inducing input for `BAD_INPUT` we determined:"
   ]
  },
  {
   "cell_type": "code",
   "execution_count": 110,
   "metadata": {
    "execution": {
     "iopub.execute_input": "2021-10-13T11:34:11.351045Z",
     "iopub.status.busy": "2021-10-13T11:34:11.350502Z",
     "iopub.status.idle": "2021-10-13T11:34:11.352719Z",
     "shell.execute_reply": "2021-10-13T11:34:11.353086Z"
    },
    "slideshow": {
     "slide_type": "fragment"
    }
   },
   "outputs": [
    {
     "data": {
      "text/plain": [
       "'<opening-tag>\"<plain-text><closing-tag>'"
      ]
     },
     "execution_count": 110,
     "metadata": {},
     "output_type": "execute_result"
    }
   ],
   "source": [
    "all_terminals(abstract_failure_inducing_input)"
   ]
  },
  {
   "cell_type": "markdown",
   "metadata": {
    "button": false,
    "new_sheet": false,
    "run_control": {
     "read_only": false
    },
    "slideshow": {
     "slide_type": "fragment"
    },
    "solution2": "hidden",
    "solution2_first": true
   },
   "source": [
    "1. How does it change if you increase the number of test runs, using `max_tries_for_generalization`?\n",
    "2. What is the success rate of the new pattern?"
   ]
  },
  {
   "cell_type": "markdown",
   "metadata": {
    "slideshow": {
     "slide_type": "skip"
    },
    "solution2": "hidden"
   },
   "source": [
    "**Solution.** We can compute this by increasing `max_tries_for_generalization`:"
   ]
  },
  {
   "cell_type": "code",
   "execution_count": 111,
   "metadata": {
    "execution": {
     "iopub.execute_input": "2021-10-13T11:34:11.441111Z",
     "iopub.status.busy": "2021-10-13T11:34:11.398204Z",
     "iopub.status.idle": "2021-10-13T11:34:11.605801Z",
     "shell.execute_reply": "2021-10-13T11:34:11.606271Z"
    },
    "slideshow": {
     "slide_type": "skip"
    },
    "solution2": "hidden"
   },
   "outputs": [],
   "source": [
    "more_precise_bitg = \\\n",
    "    cast(TreeGeneralizer, bad_input_tree_generalizer(max_tries_for_generalization=100))\n",
    "\n",
    "more_precise_abstract_failure_inducing_input = \\\n",
    "    more_precise_bitg.generalize()"
   ]
  },
  {
   "cell_type": "code",
   "execution_count": 112,
   "metadata": {
    "cell_style": "split",
    "execution": {
     "iopub.execute_input": "2021-10-13T11:34:11.610768Z",
     "iopub.status.busy": "2021-10-13T11:34:11.609842Z",
     "iopub.status.idle": "2021-10-13T11:34:11.612920Z",
     "shell.execute_reply": "2021-10-13T11:34:11.613279Z"
    },
    "slideshow": {
     "slide_type": "skip"
    },
    "solution2": "hidden"
   },
   "outputs": [
    {
     "data": {
      "text/plain": [
       "'<lt><id><gt>\"<plain-text><closing-tag>'"
      ]
     },
     "execution_count": 112,
     "metadata": {},
     "output_type": "execute_result"
    }
   ],
   "source": [
    "all_terminals(more_precise_abstract_failure_inducing_input)"
   ]
  },
  {
   "cell_type": "markdown",
   "metadata": {
    "slideshow": {
     "slide_type": "skip"
    },
    "solution2": "hidden"
   },
   "source": [
    "We see that we still have an opening tag; however, it no longer assumes attributes."
   ]
  },
  {
   "cell_type": "markdown",
   "metadata": {
    "slideshow": {
     "slide_type": "skip"
    },
    "solution2": "hidden"
   },
   "source": [
    "The success rate can be computed as before:"
   ]
  },
  {
   "cell_type": "code",
   "execution_count": 113,
   "metadata": {
    "execution": {
     "iopub.execute_input": "2021-10-13T11:34:11.622494Z",
     "iopub.status.busy": "2021-10-13T11:34:11.621993Z",
     "iopub.status.idle": "2021-10-13T11:34:13.850587Z",
     "shell.execute_reply": "2021-10-13T11:34:13.851009Z"
    },
    "slideshow": {
     "slide_type": "skip"
    },
    "solution2": "hidden"
   },
   "outputs": [],
   "source": [
    "successes = 0\n",
    "failures = 0\n",
    "trials = 1000\n",
    "\n",
    "for i in range(trials):\n",
    "    test_input = all_terminals(\n",
    "        more_precise_bitg.fuzz_tree(\n",
    "            more_precise_abstract_failure_inducing_input))\n",
    "    try:\n",
    "        remove_html_markup(test_input)\n",
    "    except AssertionError:\n",
    "        successes += 1\n",
    "    else:\n",
    "        failures += 1"
   ]
  },
  {
   "cell_type": "code",
   "execution_count": 114,
   "metadata": {
    "execution": {
     "iopub.execute_input": "2021-10-13T11:34:13.855022Z",
     "iopub.status.busy": "2021-10-13T11:34:13.854430Z",
     "iopub.status.idle": "2021-10-13T11:34:13.856803Z",
     "shell.execute_reply": "2021-10-13T11:34:13.857208Z"
    },
    "slideshow": {
     "slide_type": "skip"
    },
    "solution2": "hidden"
   },
   "outputs": [
    {
     "data": {
      "text/plain": [
       "(993, 7)"
      ]
     },
     "execution_count": 114,
     "metadata": {},
     "output_type": "execute_result"
    }
   ],
   "source": [
    "successes, failures"
   ]
  },
  {
   "cell_type": "code",
   "execution_count": 115,
   "metadata": {
    "execution": {
     "iopub.execute_input": "2021-10-13T11:34:13.860717Z",
     "iopub.status.busy": "2021-10-13T11:34:13.860167Z",
     "iopub.status.idle": "2021-10-13T11:34:13.862580Z",
     "shell.execute_reply": "2021-10-13T11:34:13.862937Z"
    },
    "slideshow": {
     "slide_type": "skip"
    },
    "solution2": "hidden"
   },
   "outputs": [
    {
     "data": {
      "text/plain": [
       "0.007"
      ]
     },
     "execution_count": 115,
     "metadata": {},
     "output_type": "execute_result"
    }
   ],
   "source": [
    "failures / 1000"
   ]
  },
  {
   "cell_type": "markdown",
   "metadata": {
    "slideshow": {
     "slide_type": "skip"
    },
    "solution2": "hidden"
   },
   "source": [
    "We see that the success rate is now more than 99%, which is better than before. On the other hand, the pattern is now overly _special_, since there are `<opening-tags>` with attributes such that the failure occurs (but also some that cancel out the error)."
   ]
  }
 ],
 "metadata": {
  "ipub": {
   "bibliography": "fuzzingbook.bib",
   "toc": true
  },
  "kernelspec": {
   "display_name": "Python 3 (ipykernel)",
   "language": "python",
   "name": "python3"
  },
  "language_info": {
   "codemirror_mode": {
    "name": "ipython",
    "version": 3
   },
   "file_extension": ".py",
   "mimetype": "text/x-python",
   "name": "python",
   "nbconvert_exporter": "python",
   "pygments_lexer": "ipython3",
   "version": "3.9.7"
  },
  "toc": {
   "base_numbering": 1,
   "nav_menu": {},
   "number_sections": true,
   "sideBar": true,
   "skip_h1_title": true,
   "title_cell": "",
   "title_sidebar": "Contents",
   "toc_cell": false,
   "toc_position": {},
   "toc_section_display": true,
   "toc_window_display": true
  },
  "toc-autonumbering": false
 },
 "nbformat": 4,
 "nbformat_minor": 4
}