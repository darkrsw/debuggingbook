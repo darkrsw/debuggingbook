{
 "cells": [
  {
   "attachments": {},
   "cell_type": "markdown",
   "metadata": {
    "button": false,
    "new_sheet": false,
    "run_control": {
     "read_only": false
    },
    "slideshow": {
     "slide_type": "slide"
    }
   },
   "source": [
    "# Generalizing Failure Circumstances\n",
    "\n",
    "One central question in debugging is: _Does this bug occur in other situations, too?_ In this chapter, we present a technique that is set to _generalize_ the circumstances under which a failure occurs. The DDSET algorithm takes a failure-inducing input, breaks it into individual elements. For each element, it tries to find whether it can be replaced by others in the same category, and if so, it _generalizes_ the concrete element to the very category. The result is a _pattern_ that characterizes the failure condition: \"The failure occurs for all inputs of the form `(<expr> * <expr>)`\"."
   ]
  },
  {
   "cell_type": "code",
   "execution_count": 1,
   "metadata": {
    "execution": {
     "iopub.execute_input": "2023-02-11T10:05:27.431340Z",
     "iopub.status.busy": "2023-02-11T10:05:27.430664Z",
     "iopub.status.idle": "2023-02-11T10:05:27.499986Z",
     "shell.execute_reply": "2023-02-11T10:05:27.501196Z"
    },
    "slideshow": {
     "slide_type": "skip"
    }
   },
   "outputs": [
    {
     "data": {
      "text/html": [
       "\n",
       "        <iframe\n",
       "            width=\"640\"\n",
       "            height=\"360\"\n",
       "            src=\"https://www.youtube-nocookie.com/embed/PV22XtIQU1s\"\n",
       "            frameborder=\"0\"\n",
       "            allowfullscreen\n",
       "            \n",
       "        ></iframe>\n",
       "        "
      ],
      "text/plain": [
       "<IPython.lib.display.IFrame at 0x110cf76d0>"
      ]
     },
     "execution_count": 1,
     "metadata": {},
     "output_type": "execute_result"
    }
   ],
   "source": [
    "from bookutils import YouTubeVideo\n",
    "YouTubeVideo(\"PV22XtIQU1s\")"
   ]
  },
  {
   "cell_type": "markdown",
   "metadata": {
    "button": false,
    "new_sheet": false,
    "run_control": {
     "read_only": false
    },
    "slideshow": {
     "slide_type": "subslide"
    }
   },
   "source": [
    "**Prerequisites**\n",
    "\n",
    "* You should have read the [chapter on _delta debugging_](DeltaDebugger.ipynb)."
   ]
  },
  {
   "cell_type": "code",
   "execution_count": 2,
   "metadata": {
    "button": false,
    "execution": {
     "iopub.execute_input": "2023-02-11T10:05:27.509739Z",
     "iopub.status.busy": "2023-02-11T10:05:27.508459Z",
     "iopub.status.idle": "2023-02-11T10:05:27.511487Z",
     "shell.execute_reply": "2023-02-11T10:05:27.511991Z"
    },
    "new_sheet": false,
    "run_control": {
     "read_only": false
    },
    "slideshow": {
     "slide_type": "skip"
    }
   },
   "outputs": [],
   "source": [
    "import bookutils"
   ]
  },
  {
   "cell_type": "code",
   "execution_count": 3,
   "metadata": {
    "execution": {
     "iopub.execute_input": "2023-02-11T10:05:27.519250Z",
     "iopub.status.busy": "2023-02-11T10:05:27.518014Z",
     "iopub.status.idle": "2023-02-11T10:05:27.736326Z",
     "shell.execute_reply": "2023-02-11T10:05:27.736559Z"
    },
    "slideshow": {
     "slide_type": "skip"
    }
   },
   "outputs": [],
   "source": [
    "import DeltaDebugger"
   ]
  },
  {
   "cell_type": "markdown",
   "metadata": {
    "slideshow": {
     "slide_type": "skip"
    }
   },
   "source": [
    "## Synopsis\n",
    "<!-- Automatically generated. Do not edit. -->\n",
    "\n",
    "To [use the code provided in this chapter](Importing.ipynb), write\n",
    "\n",
    "```python\n",
    ">>> from debuggingbook.DDSetDebugger import <identifier>\n",
    "```\n",
    "\n",
    "and then make use of the following features.\n",
    "\n",
    "\n",
    "This chapter provides a class `DDSetDebugger`, implementing the DDSET algorithm for generalizing failure-inducing inputs. The `DDSetDebugger` is used as follows:\n",
    "\n",
    "```python\n",
    "with DDSetDebugger(grammar) as dd:\n",
    "    function(args...)\n",
    "dd\n",
    "```\n",
    "\n",
    "Here, `function(args...)` is a failing function call (= raises an execption) that takes at least one string argument; `grammar` is an [input grammar in fuzzingbook format](https://www.fuzzingbook.org/html/Grammars.html) that matches the format of this argument.\n",
    "\n",
    "The result is a call of `function()` with an _abstract failure-inducing input_ – a variant of the conrete input in which parts are replaced by placeholders in the form `<name>`, where `<name>` is a nonterminal in the grammar. The failure has been verified to occur for a number of instantiations of `<name>`.\n",
    "\n",
    "Here is an example of how `DDSetDebugger` works. The concrete failing input `<foo>\"bar</foo>` is generalized to an _abstract failure-inducing input_:\n",
    "\n",
    "```python\n",
    ">>> with DDSetDebugger(SIMPLE_HTML_GRAMMAR) as dd:\n",
    ">>>     remove_html_markup('<foo>\"bar</foo>')\n",
    ">>> dd\n",
    "remove_html_markup(s='<lt><id><gt>\"<plain-text><closing-tag>')\n",
    "```\n",
    "The abstract input tells us that the failure occurs for whatever opening and closing HTML tags as long as there is a double quote between them.\n",
    "\n",
    "A programmatic interface is available as well. `generalize()` returns a mapping of argument names to (generalized) values:\n",
    "\n",
    "```python\n",
    ">>> dd.generalize()\n",
    "{'s': '<lt><id><gt>\"<plain-text><closing-tag>'}\n",
    "```\n",
    "Using `fuzz()`, the abstract input can be instantiated to further concrete inputs, all set to produce the failure again:\n",
    "\n",
    "```python\n",
    ">>> for i in range(10):\n",
    ">>>     print(dd.fuzz())\n",
    "remove_html_markup(s='<s1d>\"1</hF>')\n",
    "remove_html_markup(s='<H>\"c*C</l>')\n",
    "remove_html_markup(s='<Ah2>\"</v>')\n",
    "remove_html_markup(s='<a7>\")</NP>')\n",
    "remove_html_markup(s='<boyIIt640TF>\"</b08>')\n",
    "remove_html_markup(s='<dF>\"</fay>')\n",
    "remove_html_markup(s='<l2>\"\\t7</z>')\n",
    "remove_html_markup(s='<ci>\"</t>')\n",
    "remove_html_markup(s='<J>\"2</t>')\n",
    "remove_html_markup(s='<Fo9g>\"\\r~\\t\\r</D>')\n",
    "\n",
    "```\n",
    "`DDSetDebugger` can be customized by passing a subclass of `TreeGeneralizer`, which does the gist of the work; for details, see its constructor.\n",
    "The full class hierarchy is shown below.\n",
    "\n",
    "![](PICS/DDSetDebugger-synopsis-1.svg)\n",
    "\n"
   ]
  },
  {
   "cell_type": "markdown",
   "metadata": {
    "slideshow": {
     "slide_type": "slide"
    }
   },
   "source": [
    "## A Failing Program\n",
    "\n",
    "As with previous chapters, we use `remove_html_markup()` as our ongoing example. This function is set to remove HTML markup tags (like `<em>`) from a given string `s`, returning the plain text only. We use the version from [the chapter on asssertions](Assertions.ipynb), using an assertion as postcondition checker."
   ]
  },
  {
   "cell_type": "code",
   "execution_count": 4,
   "metadata": {
    "execution": {
     "iopub.execute_input": "2023-02-11T10:05:27.743657Z",
     "iopub.status.busy": "2023-02-11T10:05:27.742999Z",
     "iopub.status.idle": "2023-02-11T10:05:27.744625Z",
     "shell.execute_reply": "2023-02-11T10:05:27.745045Z"
    },
    "slideshow": {
     "slide_type": "subslide"
    }
   },
   "outputs": [],
   "source": [
    "def remove_html_markup(s):  # type: ignore\n",
    "    tag = False\n",
    "    quote = False\n",
    "    out = \"\"\n",
    "\n",
    "    for c in s:\n",
    "        if c == '<' and not quote:\n",
    "            tag = True\n",
    "        elif c == '>' and not quote:\n",
    "            tag = False\n",
    "        elif c == '\"' or c == \"'\" and tag:\n",
    "            quote = not quote\n",
    "        elif not tag:\n",
    "            out = out + c\n",
    "\n",
    "    # postcondition\n",
    "    assert '<' not in out and '>' not in out\n",
    "\n",
    "    return out"
   ]
  },
  {
   "cell_type": "markdown",
   "metadata": {
    "slideshow": {
     "slide_type": "subslide"
    }
   },
   "source": [
    "For the most inputs, `remove_html_markup()` works just as expected:"
   ]
  },
  {
   "cell_type": "code",
   "execution_count": 5,
   "metadata": {
    "execution": {
     "iopub.execute_input": "2023-02-11T10:05:27.749042Z",
     "iopub.status.busy": "2023-02-11T10:05:27.748219Z",
     "iopub.status.idle": "2023-02-11T10:05:27.750839Z",
     "shell.execute_reply": "2023-02-11T10:05:27.751341Z"
    },
    "slideshow": {
     "slide_type": "fragment"
    }
   },
   "outputs": [
    {
     "data": {
      "text/plain": [
       "'Be quiet, he said'"
      ]
     },
     "execution_count": 5,
     "metadata": {},
     "output_type": "execute_result"
    }
   ],
   "source": [
    "remove_html_markup(\"Be <em>quiet</em>, he said\")"
   ]
  },
  {
   "cell_type": "markdown",
   "metadata": {
    "slideshow": {
     "slide_type": "fragment"
    }
   },
   "source": [
    "There are inputs, however, for which it fails:"
   ]
  },
  {
   "cell_type": "code",
   "execution_count": 6,
   "metadata": {
    "execution": {
     "iopub.execute_input": "2023-02-11T10:05:27.754375Z",
     "iopub.status.busy": "2023-02-11T10:05:27.753896Z",
     "iopub.status.idle": "2023-02-11T10:05:27.755625Z",
     "shell.execute_reply": "2023-02-11T10:05:27.756365Z"
    },
    "slideshow": {
     "slide_type": "fragment"
    }
   },
   "outputs": [],
   "source": [
    "BAD_INPUT = '<foo>\"bar</foo>'"
   ]
  },
  {
   "cell_type": "code",
   "execution_count": 7,
   "metadata": {
    "execution": {
     "iopub.execute_input": "2023-02-11T10:05:27.760763Z",
     "iopub.status.busy": "2023-02-11T10:05:27.759889Z",
     "iopub.status.idle": "2023-02-11T10:05:27.761978Z",
     "shell.execute_reply": "2023-02-11T10:05:27.762703Z"
    },
    "slideshow": {
     "slide_type": "skip"
    }
   },
   "outputs": [],
   "source": [
    "from ExpectError import ExpectError"
   ]
  },
  {
   "cell_type": "code",
   "execution_count": 8,
   "metadata": {
    "execution": {
     "iopub.execute_input": "2023-02-11T10:05:27.769828Z",
     "iopub.status.busy": "2023-02-11T10:05:27.767882Z",
     "iopub.status.idle": "2023-02-11T10:05:27.771953Z",
     "shell.execute_reply": "2023-02-11T10:05:27.772383Z"
    },
    "slideshow": {
     "slide_type": "fragment"
    }
   },
   "outputs": [
    {
     "name": "stderr",
     "output_type": "stream",
     "text": [
      "Traceback (most recent call last):\n",
      "  File \"/var/folders/n2/xd9445p97rb3xh7m1dfx8_4h0006ts/T/ipykernel_2951/3787550988.py\", line 2, in <cell line: 1>\n",
      "    remove_html_markup(BAD_INPUT)\n",
      "  File \"/var/folders/n2/xd9445p97rb3xh7m1dfx8_4h0006ts/T/ipykernel_2951/2717035104.py\", line 17, in remove_html_markup\n",
      "    assert '<' not in out and '>' not in out\n",
      "AssertionError (expected)\n"
     ]
    }
   ],
   "source": [
    "with ExpectError(AssertionError):\n",
    "    remove_html_markup(BAD_INPUT)"
   ]
  },
  {
   "cell_type": "code",
   "execution_count": 9,
   "metadata": {
    "execution": {
     "iopub.execute_input": "2023-02-11T10:05:27.778673Z",
     "iopub.status.busy": "2023-02-11T10:05:27.778074Z",
     "iopub.status.idle": "2023-02-11T10:05:27.780695Z",
     "shell.execute_reply": "2023-02-11T10:05:27.781175Z"
    },
    "slideshow": {
     "slide_type": "skip"
    }
   },
   "outputs": [],
   "source": [
    "from bookutils import quiz"
   ]
  },
  {
   "cell_type": "markdown",
   "metadata": {
    "slideshow": {
     "slide_type": "subslide"
    }
   },
   "source": [
    "In contrast to the other chapters, our aim now is not to immediately go and debug `remove_html_markup()`. Instead, we focus on another important question: \n",
    "\n",
    "> Under which conditions precisely does `remove_html_markup()` fail?"
   ]
  },
  {
   "cell_type": "markdown",
   "metadata": {
    "slideshow": {
     "slide_type": "fragment"
    }
   },
   "source": [
    "This question can be generalized to\n",
    "\n",
    "> What is the set of inputs for which `remove_html_markup()` fails?"
   ]
  },
  {
   "cell_type": "markdown",
   "metadata": {
    "slideshow": {
     "slide_type": "subslide"
    }
   },
   "source": [
    "Our plan for this is to _generalize_ concrete inputs (such as `BAD_INPUTS`) into an *abstract failure-inducing inputs*. These are patterns formed from a concrete input, but in which specific _placeholders_ indicate sets of inputs that are permitted. In the abstract failure-inducing input\n",
    "\n",
    "```html\n",
    "<opening-tag>\"bar<closing-tag>\n",
    "```\n",
    "\n",
    "for instance, `<opening-tag>` and `<closing-tag>` are placeholders for opening and closing HTML tags, respectively. The pattern indicates that any opening HTML tag and closing HTML tag can be present in the input, as long as the enclosed text reads `\"bar`."
   ]
  },
  {
   "cell_type": "markdown",
   "metadata": {
    "slideshow": {
     "slide_type": "subslide"
    }
   },
   "source": [
    "Given a concrete failure-inducing input, our aim is to _generalize_ it as much as possible to such an abstract failure-inducing input. The resulting pattern should then\n",
    "\n",
    "* capture the _circumstances_ under which the program fails;\n",
    "* allow for _test generation_ by instantiating the placeholders;\n",
    "* help ensuring our fix is as _general as possible_."
   ]
  },
  {
   "cell_type": "code",
   "execution_count": 10,
   "metadata": {
    "execution": {
     "iopub.execute_input": "2023-02-11T10:05:27.788816Z",
     "iopub.status.busy": "2023-02-11T10:05:27.787979Z",
     "iopub.status.idle": "2023-02-11T10:05:27.791396Z",
     "shell.execute_reply": "2023-02-11T10:05:27.792514Z"
    },
    "slideshow": {
     "slide_type": "subslide"
    }
   },
   "outputs": [
    {
     "data": {
      "text/html": [
       "\n",
       "    \n",
       "    <script>\n",
       "    var bad_answers = new Map();\n",
       "\n",
       "    function answer(quiz_id) {\n",
       "        ans = 0;\n",
       "        for (i = 1;; i++) {\n",
       "            checkbox = document.getElementById(quiz_id + \"-\" + i.toString());\n",
       "            if (!checkbox)\n",
       "                break;\n",
       "            if (checkbox.checked)\n",
       "                ans |= (1 << i);\n",
       "        }\n",
       "        return ans;\n",
       "    }\n",
       "    function check_selection(quiz_id, correct_answer, multiple_choice, hint) {\n",
       "        given_answer = answer(quiz_id);\n",
       "        if (given_answer == correct_answer)\n",
       "        {\n",
       "            document.getElementById(quiz_id + \"-submit\").value = \"Correct!\";\n",
       "            document.getElementById(quiz_id + \"-hint\").innerHTML = \"\";\n",
       "\n",
       "            for (i = 1;; i++) {\n",
       "                checkbox = document.getElementById(quiz_id + \"-\" + i.toString());\n",
       "                label = document.getElementById(quiz_id + \"-\" + i.toString() + \"-label\")\n",
       "                if (!checkbox)\n",
       "                    break;\n",
       "    \n",
       "                if (checkbox.checked) {\n",
       "                    label.style.fontWeight = \"bold\";\n",
       "                }\n",
       "                else {\n",
       "                    label.style.textDecoration = \"line-through\";\n",
       "                }\n",
       "            }\n",
       "        }\n",
       "        else \n",
       "        {\n",
       "            document.getElementById(quiz_id + \"-submit\").value = \"Try again\";\n",
       "            \n",
       "            if (!bad_answers.has(quiz_id)) {\n",
       "                bad_answers.set(quiz_id, 1);\n",
       "            }\n",
       "            else {\n",
       "                bad_answers.set(quiz_id, bad_answers.get(quiz_id) + 1);\n",
       "            }\n",
       "\n",
       "            if (bad_answers.get(quiz_id) >= 2 && hint.length > 0) {\n",
       "                document.getElementById(quiz_id + \"-hint\").innerHTML = \n",
       "                    \"&nbsp;&nbsp;(Hint: <code>\" + hint + \"</code>)\";\n",
       "            }\n",
       "\n",
       "            if (!multiple_choice) {\n",
       "                for (i = 1;; i++) {\n",
       "                    checkbox = document.getElementById(quiz_id + \"-\" + i.toString());\n",
       "                    label = document.getElementById(quiz_id + \"-\" + i.toString() + \"-label\")\n",
       "\n",
       "                    if (!checkbox)\n",
       "                        break;\n",
       "                    if (checkbox.checked) {\n",
       "                        label.style.textDecoration = \"line-through\";\n",
       "                    }\n",
       "                }\n",
       "            }\n",
       "        }\n",
       "    }\n",
       "    function clear_selection(quiz_id) {\n",
       "        document.getElementById(quiz_id + \"-submit\").value = \"Submit\";\n",
       "        document.getElementById(quiz_id + \"-hint\").innerHTML = \"\";\n",
       "    }\n",
       "    </script>\n",
       "    \n",
       "    <div class=\"quiz\">\n",
       "    <h3 class=\"quiz_title\">Quiz</h3>\n",
       "    <p>\n",
       "    <div class=\"quiz_question\">If <code>s = '&lt;foo&gt;\"bar&lt;/foo&gt;'</code> (i.e., <code>BAD_INPUT</code>), what is the value of <code>out</code> such that the assertion fails?</div>\n",
       "    </p>\n",
       "    <p>\n",
       "    <div class=\"quiz_options\" title=\"Pick a choice.\">\n",
       "    \n",
       "        <input type=\"radio\" name=\"9c0163d6-a9f3-11ed-bdd5-6298cf1a578f\" id=\"9c0163d6-a9f3-11ed-bdd5-6298cf1a578f-1\" onclick=\"clear_selection('9c0163d6-a9f3-11ed-bdd5-6298cf1a578f')\">\n",
       "        <label id=\"9c0163d6-a9f3-11ed-bdd5-6298cf1a578f-1-label\" for=\"9c0163d6-a9f3-11ed-bdd5-6298cf1a578f-1\"><code>bar</code></label><br>\n",
       "    \n",
       "        <input type=\"radio\" name=\"9c0163d6-a9f3-11ed-bdd5-6298cf1a578f\" id=\"9c0163d6-a9f3-11ed-bdd5-6298cf1a578f-2\" onclick=\"clear_selection('9c0163d6-a9f3-11ed-bdd5-6298cf1a578f')\">\n",
       "        <label id=\"9c0163d6-a9f3-11ed-bdd5-6298cf1a578f-2-label\" for=\"9c0163d6-a9f3-11ed-bdd5-6298cf1a578f-2\"><code>bar&lt;/foo&gt;</code></label><br>\n",
       "    \n",
       "        <input type=\"radio\" name=\"9c0163d6-a9f3-11ed-bdd5-6298cf1a578f\" id=\"9c0163d6-a9f3-11ed-bdd5-6298cf1a578f-3\" onclick=\"clear_selection('9c0163d6-a9f3-11ed-bdd5-6298cf1a578f')\">\n",
       "        <label id=\"9c0163d6-a9f3-11ed-bdd5-6298cf1a578f-3-label\" for=\"9c0163d6-a9f3-11ed-bdd5-6298cf1a578f-3\"><code>\"bar&lt;/foo&gt;</code></label><br>\n",
       "    \n",
       "        <input type=\"radio\" name=\"9c0163d6-a9f3-11ed-bdd5-6298cf1a578f\" id=\"9c0163d6-a9f3-11ed-bdd5-6298cf1a578f-4\" onclick=\"clear_selection('9c0163d6-a9f3-11ed-bdd5-6298cf1a578f')\">\n",
       "        <label id=\"9c0163d6-a9f3-11ed-bdd5-6298cf1a578f-4-label\" for=\"9c0163d6-a9f3-11ed-bdd5-6298cf1a578f-4\"><code>&lt;foo&gt;\"bar&lt;/foo&gt;</code></label><br>\n",
       "    \n",
       "    </div>\n",
       "    </p>\n",
       "    <input id=\"9c0163d6-a9f3-11ed-bdd5-6298cf1a578f-submit\" type=\"submit\" value=\"Submit\" onclick=\"check_selection('9c0163d6-a9f3-11ed-bdd5-6298cf1a578f', 4, 0, '9999999 // 4999999')\">\n",
       "    <span class=\"quiz_hint\" id=\"9c0163d6-a9f3-11ed-bdd5-6298cf1a578f-hint\"></span>\n",
       "    </div>\n",
       "    "
      ],
      "text/plain": [
       "<IPython.core.display.HTML object>"
      ]
     },
     "execution_count": 10,
     "metadata": {},
     "output_type": "execute_result"
    }
   ],
   "source": [
    "quiz(\"If `s = '<foo>\\\"bar</foo>'` (i.e., `BAD_INPUT`), \"\n",
    "     \"what is the value of `out` such that the assertion fails?\",\n",
    "    [\n",
    "        '`bar`',\n",
    "        '`bar</foo>`',\n",
    "        '`\"bar</foo>`',\n",
    "        '`<foo>\"bar</foo>`',\n",
    "    ], '9999999 // 4999999')"
   ]
  },
  {
   "cell_type": "markdown",
   "metadata": {
    "slideshow": {
     "slide_type": "slide"
    }
   },
   "source": [
    "## Grammars\n",
    "\n",
    "To determine abstract failure-inducing inputs, we need means to determine and characterize _sets of inputs_ – known in computer science as _languages_. To formally describe languages, the field of *formal languages* has devised a number of *language specifications* that describe a language.  *Regular expressions* represent the simplest class of these languages to denote sets of strings: The regular expression `[a-z]*`, for instance, denotes a (possibly empty) sequence of lowercase letters.  *Automata theory* connects these languages to automata that accept these inputs; *finite state machines*, for instance, can be used to specify the language of regular expressions."
   ]
  },
  {
   "cell_type": "markdown",
   "metadata": {
    "slideshow": {
     "slide_type": "subslide"
    }
   },
   "source": [
    "Regular expressions are great for not-too-complex input formats, and the associated finite state machines have many properties that make them great for reasoning.  To specify more complex inputs, though, they quickly encounter limitations.  At the other end of the language spectrum, we have *universal grammars* that denote the language accepted by *Turing machines*.  A Turing machine can compute anything that can be computed; and with Python being Turing-complete, this means that we can also use a Python program $p$ to specify or even enumerate legal inputs. But then, computer science theory also tells us that each such program has to be written specifically for the input to be considered, which is not the level of automation we want."
   ]
  },
  {
   "cell_type": "markdown",
   "metadata": {
    "slideshow": {
     "slide_type": "subslide"
    }
   },
   "source": [
    "The middle ground between regular expressions and Turing machines is covered by *grammars*.  Grammars are among the most popular (and best understood) formalisms to formally specify input languages.  Using a grammar, one can express a wide range of the properties of an input language.  Grammars are particularly great for expressing the *syntactical structure* of an input, and are the formalism of choice to express nested or recursive inputs.  The grammars we use are so-called *context-free grammars*, one of the easiest and most popular grammar formalisms."
   ]
  },
  {
   "attachments": {},
   "cell_type": "markdown",
   "metadata": {
    "slideshow": {
     "slide_type": "fragment"
    }
   },
   "source": [
    "A grammar is defined as a mapping of _nonterminal_ symbols (denoted in `<angle brackets>`) to lists of alternative _expansions_, which are strings containing _terminal_ symbols and possibly more _nonterminal_ symbols. To make the writing of grammars as simple as possible, we adopt the [fuzzingbook](https://www.fuzzingbook.org/) format that is based on strings and lists."
   ]
  },
  {
   "cell_type": "code",
   "execution_count": 11,
   "metadata": {
    "execution": {
     "iopub.execute_input": "2023-02-11T10:05:27.798654Z",
     "iopub.status.busy": "2023-02-11T10:05:27.797428Z",
     "iopub.status.idle": "2023-02-11T10:05:27.801682Z",
     "shell.execute_reply": "2023-02-11T10:05:27.802700Z"
    },
    "slideshow": {
     "slide_type": "skip"
    }
   },
   "outputs": [],
   "source": [
    "import fuzzingbook"
   ]
  },
  {
   "cell_type": "markdown",
   "metadata": {
    "slideshow": {
     "slide_type": "subslide"
    }
   },
   "source": [
    "Fuzzingbook grammars take the format of a _mapping_ between symbol names and expansions, where expansions are _lists_ of alternatives."
   ]
  },
  {
   "cell_type": "code",
   "execution_count": 12,
   "metadata": {
    "execution": {
     "iopub.execute_input": "2023-02-11T10:05:27.811932Z",
     "iopub.status.busy": "2023-02-11T10:05:27.807730Z",
     "iopub.status.idle": "2023-02-11T10:05:27.812974Z",
     "shell.execute_reply": "2023-02-11T10:05:27.812565Z"
    },
    "slideshow": {
     "slide_type": "fragment"
    }
   },
   "outputs": [],
   "source": [
    "# ignore\n",
    "from typing import Any, Callable, Optional, Type, Tuple\n",
    "from typing import Dict, Union, List, cast, Generator"
   ]
  },
  {
   "cell_type": "code",
   "execution_count": 13,
   "metadata": {
    "execution": {
     "iopub.execute_input": "2023-02-11T10:05:27.820213Z",
     "iopub.status.busy": "2023-02-11T10:05:27.819487Z",
     "iopub.status.idle": "2023-02-11T10:05:27.823026Z",
     "shell.execute_reply": "2023-02-11T10:05:27.823353Z"
    },
    "slideshow": {
     "slide_type": "fragment"
    }
   },
   "outputs": [],
   "source": [
    "Grammar = Dict[str,  # A grammar maps strings...\n",
    "               List[\n",
    "                   Union[str,  # to list of strings...\n",
    "                         Tuple[str, Dict[str, Any]]  # or to pairs of strings and attributes.\n",
    "                        ]\n",
    "               ]\n",
    "              ]"
   ]
  },
  {
   "cell_type": "markdown",
   "metadata": {
    "slideshow": {
     "slide_type": "fragment"
    }
   },
   "source": [
    "A one-rule grammar for digits thus takes the form"
   ]
  },
  {
   "cell_type": "code",
   "execution_count": 14,
   "metadata": {
    "execution": {
     "iopub.execute_input": "2023-02-11T10:05:27.828942Z",
     "iopub.status.busy": "2023-02-11T10:05:27.828295Z",
     "iopub.status.idle": "2023-02-11T10:05:27.830785Z",
     "shell.execute_reply": "2023-02-11T10:05:27.831426Z"
    },
    "slideshow": {
     "slide_type": "subslide"
    }
   },
   "outputs": [],
   "source": [
    "DIGIT_GRAMMAR: Grammar = {\n",
    "    \"<start>\":\n",
    "        [\"0\", \"1\", \"2\", \"3\", \"4\", \"5\", \"6\", \"7\", \"8\", \"9\"]\n",
    "}"
   ]
  },
  {
   "cell_type": "markdown",
   "metadata": {
    "slideshow": {
     "slide_type": "fragment"
    }
   },
   "source": [
    "which means that the `<start>` symbol can be expanded into any of the digits listed."
   ]
  },
  {
   "cell_type": "markdown",
   "metadata": {
    "slideshow": {
     "slide_type": "fragment"
    }
   },
   "source": [
    "A full grammar for arithmetic expressions looks like this:"
   ]
  },
  {
   "cell_type": "code",
   "execution_count": 15,
   "metadata": {
    "execution": {
     "iopub.execute_input": "2023-02-11T10:05:27.837126Z",
     "iopub.status.busy": "2023-02-11T10:05:27.836384Z",
     "iopub.status.idle": "2023-02-11T10:05:27.838528Z",
     "shell.execute_reply": "2023-02-11T10:05:27.839831Z"
    },
    "slideshow": {
     "slide_type": "subslide"
    }
   },
   "outputs": [],
   "source": [
    "EXPR_GRAMMAR: Grammar = {\n",
    "    \"<start>\":\n",
    "        [\"<expr>\"],\n",
    "\n",
    "    \"<expr>\":\n",
    "        [\"<term> + <expr>\", \"<term> - <expr>\", \"<term>\"],\n",
    "\n",
    "    \"<term>\":\n",
    "        [\"<factor> * <term>\", \"<factor> / <term>\", \"<factor>\"],\n",
    "\n",
    "    \"<factor>\":\n",
    "        [\"+<factor>\",\n",
    "         \"-<factor>\",\n",
    "         \"(<expr>)\",\n",
    "         \"<integer>.<integer>\",\n",
    "         \"<integer>\"],\n",
    "\n",
    "    \"<integer>\":\n",
    "        [\"<digit><integer>\", \"<digit>\"],\n",
    "\n",
    "    \"<digit>\":\n",
    "        [\"0\", \"1\", \"2\", \"3\", \"4\", \"5\", \"6\", \"7\", \"8\", \"9\"]\n",
    "}"
   ]
  },
  {
   "cell_type": "markdown",
   "metadata": {
    "slideshow": {
     "slide_type": "subslide"
    }
   },
   "source": [
    "From such a grammar, one can easily generate inputs that conform to the grammar."
   ]
  },
  {
   "cell_type": "code",
   "execution_count": 16,
   "metadata": {
    "execution": {
     "iopub.execute_input": "2023-02-11T10:05:27.844550Z",
     "iopub.status.busy": "2023-02-11T10:05:27.843864Z",
     "iopub.status.idle": "2023-02-11T10:05:27.857023Z",
     "shell.execute_reply": "2023-02-11T10:05:27.857996Z"
    },
    "slideshow": {
     "slide_type": "skip"
    }
   },
   "outputs": [],
   "source": [
    "from fuzzingbook.GrammarFuzzer import GrammarFuzzer"
   ]
  },
  {
   "cell_type": "code",
   "execution_count": 17,
   "metadata": {
    "execution": {
     "iopub.execute_input": "2023-02-11T10:05:27.862472Z",
     "iopub.status.busy": "2023-02-11T10:05:27.861636Z",
     "iopub.status.idle": "2023-02-11T10:05:27.864471Z",
     "shell.execute_reply": "2023-02-11T10:05:27.865259Z"
    },
    "slideshow": {
     "slide_type": "fragment"
    }
   },
   "outputs": [],
   "source": [
    "simple_expr_fuzzer = GrammarFuzzer(EXPR_GRAMMAR)"
   ]
  },
  {
   "cell_type": "code",
   "execution_count": 18,
   "metadata": {
    "execution": {
     "iopub.execute_input": "2023-02-11T10:05:27.879706Z",
     "iopub.status.busy": "2023-02-11T10:05:27.873122Z",
     "iopub.status.idle": "2023-02-11T10:05:27.948769Z",
     "shell.execute_reply": "2023-02-11T10:05:27.948352Z"
    },
    "slideshow": {
     "slide_type": "subslide"
    }
   },
   "outputs": [
    {
     "name": "stdout",
     "output_type": "stream",
     "text": [
      "3.8 + --62.912 - ++4 - +5 * 3.0 * 4\n",
      "7 * (75.5 - -6 + 5 - 4) + -(8 - 1) / 5 * 2\n",
      "(-(9) * +6 + 9 / 3 * 8 - 9 * 8 / 7) / -+-65\n",
      "(9 + 8) * 2 * (6 + 6 + 9) * 0 * 1.9 * 0\n",
      "(1 * 7 - 9 + 5) * 5 / 0 * 5 + 7 * 5 * 7\n",
      "-(6 / 9 - 5 - 3 - 1) - -1 / +1 + (9) / (8) * 6\n",
      "(+-(0 - (1) * 7 / 3)) / ((1 * 3 + 8) + 9 - +1 / --0) - 5 * (-+939.491)\n",
      "+2.9 * 0 / 501.19814 / --+--(6.05002)\n",
      "+-8.8 / (1) * -+1 + -8 + 9 - 3 / 8 * 6 + 4 * 3 * 5\n",
      "(+(8 / 9 - 1 - 7)) + ---06.30 / +4.39\n"
     ]
    }
   ],
   "source": [
    "for i in range(10):\n",
    "    fuzz_expr = simple_expr_fuzzer.fuzz()\n",
    "    print(fuzz_expr)"
   ]
  },
  {
   "cell_type": "markdown",
   "metadata": {
    "slideshow": {
     "slide_type": "subslide"
    }
   },
   "source": [
    "Nonterminals as found in the grammar make natural _placeholders_ in abstract failure-inducing inputs. If we know, for instance, that it is not just the concrete failure-inducing input\n",
    "\n",
    "```python\n",
    "(2 * 3)\n",
    "```\n",
    "\n",
    "but the abstract failure-inducing input\n",
    "\n",
    "```html\n",
    "(<expr> * <expr>)\n",
    "```\n",
    "\n",
    "that causes the failure, we immediately see that the error is due to the multiplication operator rather than its operands."
   ]
  },
  {
   "cell_type": "markdown",
   "metadata": {
    "slideshow": {
     "slide_type": "subslide"
    }
   },
   "source": [
    "Coming back to our `remove_html_markup()` example, let us create a simple grammar for HTML expressions. A `<html>` element is either plain text or tagged text."
   ]
  },
  {
   "cell_type": "code",
   "execution_count": 19,
   "metadata": {
    "button": false,
    "execution": {
     "iopub.execute_input": "2023-02-11T10:05:27.954485Z",
     "iopub.status.busy": "2023-02-11T10:05:27.953279Z",
     "iopub.status.idle": "2023-02-11T10:05:27.955719Z",
     "shell.execute_reply": "2023-02-11T10:05:27.957301Z"
    },
    "new_sheet": false,
    "run_control": {
     "read_only": false
    },
    "slideshow": {
     "slide_type": "subslide"
    }
   },
   "outputs": [],
   "source": [
    "SIMPLE_HTML_GRAMMAR: Grammar = {\n",
    "    \"<start>\":\n",
    "        [\"<html>\"],\n",
    "\n",
    "    \"<html>\":\n",
    "        [\"<plain-text>\", \"<tagged-text>\"],\n",
    "}"
   ]
  },
  {
   "cell_type": "markdown",
   "metadata": {
    "slideshow": {
     "slide_type": "fragment"
    }
   },
   "source": [
    "Plain text is a simple (possibly empty) sequence of letter, digits, punctuation, and whitespace. (Note how `<plain-text>` is either empty or some character followed by more plain text.) The characters `<` and `>` are not allowed, though."
   ]
  },
  {
   "cell_type": "code",
   "execution_count": 20,
   "metadata": {
    "execution": {
     "iopub.execute_input": "2023-02-11T10:05:27.964196Z",
     "iopub.status.busy": "2023-02-11T10:05:27.963147Z",
     "iopub.status.idle": "2023-02-11T10:05:27.966060Z",
     "shell.execute_reply": "2023-02-11T10:05:27.966337Z"
    },
    "slideshow": {
     "slide_type": "skip"
    }
   },
   "outputs": [],
   "source": [
    "import string"
   ]
  },
  {
   "cell_type": "code",
   "execution_count": 21,
   "metadata": {
    "button": false,
    "execution": {
     "iopub.execute_input": "2023-02-11T10:05:27.970222Z",
     "iopub.status.busy": "2023-02-11T10:05:27.969607Z",
     "iopub.status.idle": "2023-02-11T10:05:27.971330Z",
     "shell.execute_reply": "2023-02-11T10:05:27.972121Z"
    },
    "new_sheet": false,
    "run_control": {
     "read_only": false
    },
    "slideshow": {
     "slide_type": "subslide"
    }
   },
   "outputs": [],
   "source": [
    "SIMPLE_HTML_GRAMMAR.update({\n",
    "    \"<plain-text>\":\n",
    "        [\"\", \"<plain-char><plain-text>\"],\n",
    "\n",
    "    \"<plain-char>\":\n",
    "        [\"<letter>\", \"<digit>\", \"<other>\", \"<whitespace>\"],\n",
    "\n",
    "    \"<letter>\": list(string.ascii_letters),\n",
    "    \"<digit>\": list(string.digits),\n",
    "    \"<other>\": list(string.punctuation.replace('<', '').replace('>', '')),\n",
    "    \"<whitespace>\": list(string.whitespace)\n",
    "})"
   ]
  },
  {
   "cell_type": "markdown",
   "metadata": {
    "slideshow": {
     "slide_type": "subslide"
    }
   },
   "source": [
    "Tagged text is a bit more complicated. We have opening tags `<foo>`, followed by some more HTML material, and then closed by a closing tag `</foo>`. (We do not insist that the two tags match.) A self-closing tag has the form `<br/>`. For compatibility reasons, we also allow just opening tags without closing tags, as in `<img>`."
   ]
  },
  {
   "cell_type": "code",
   "execution_count": 22,
   "metadata": {
    "button": false,
    "execution": {
     "iopub.execute_input": "2023-02-11T10:05:27.978877Z",
     "iopub.status.busy": "2023-02-11T10:05:27.977621Z",
     "iopub.status.idle": "2023-02-11T10:05:27.981678Z",
     "shell.execute_reply": "2023-02-11T10:05:27.982159Z"
    },
    "new_sheet": false,
    "run_control": {
     "read_only": false
    },
    "slideshow": {
     "slide_type": "subslide"
    }
   },
   "outputs": [],
   "source": [
    "SIMPLE_HTML_GRAMMAR.update({\n",
    "    \"<tagged-text>\":\n",
    "        [\"<opening-tag><html><closing-tag>\",\n",
    "         \"<self-closing-tag>\",\n",
    "         \"<opening-tag>\"],\n",
    "})"
   ]
  },
  {
   "cell_type": "markdown",
   "metadata": {
    "slideshow": {
     "slide_type": "fragment"
    }
   },
   "source": [
    "Since the characters `<` and `>` are already reserved for denoting nonterminal symbols, we use the special nonterminal symbols `<lt>` and `<gt>` that expand into `<` and `>`, respectively,"
   ]
  },
  {
   "cell_type": "code",
   "execution_count": 23,
   "metadata": {
    "button": false,
    "execution": {
     "iopub.execute_input": "2023-02-11T10:05:27.986113Z",
     "iopub.status.busy": "2023-02-11T10:05:27.985559Z",
     "iopub.status.idle": "2023-02-11T10:05:27.987376Z",
     "shell.execute_reply": "2023-02-11T10:05:27.988065Z"
    },
    "new_sheet": false,
    "run_control": {
     "read_only": false
    },
    "slideshow": {
     "slide_type": "subslide"
    }
   },
   "outputs": [],
   "source": [
    "SIMPLE_HTML_GRAMMAR.update({\n",
    "    \"<opening-tag>\":\n",
    "        [\"<lt><id><gt>\",\n",
    "         \"<lt><id><attrs><gt>\"],\n",
    "\n",
    "    \"<lt>\": [\"<\"],\n",
    "    \"<gt>\": [\">\"],\n",
    "\n",
    "    \"<id>\":\n",
    "        [\"<letter>\", \"<id><letter>\", \"<id><digit>\"],\n",
    "\n",
    "    \"<closing-tag>\":\n",
    "        [\"<lt>/<id><gt>\"],\n",
    "\n",
    "    \"<self-closing-tag>\":\n",
    "        [\"<lt><id><attrs>/<gt>\"],\n",
    "})"
   ]
  },
  {
   "cell_type": "markdown",
   "metadata": {
    "slideshow": {
     "slide_type": "subslide"
    }
   },
   "source": [
    "Finally, HTML tags can have attributes, which are enclosed in quotes."
   ]
  },
  {
   "cell_type": "code",
   "execution_count": 24,
   "metadata": {
    "button": false,
    "execution": {
     "iopub.execute_input": "2023-02-11T10:05:27.993656Z",
     "iopub.status.busy": "2023-02-11T10:05:27.992627Z",
     "iopub.status.idle": "2023-02-11T10:05:27.995064Z",
     "shell.execute_reply": "2023-02-11T10:05:27.995330Z"
    },
    "new_sheet": false,
    "run_control": {
     "read_only": false
    },
    "slideshow": {
     "slide_type": "subslide"
    }
   },
   "outputs": [],
   "source": [
    "SIMPLE_HTML_GRAMMAR.update({\n",
    "    \"<attrs>\":\n",
    "        [\"<attr>\", \"<attr><attrs>\" ],\n",
    "\n",
    "    \"<attr>\":\n",
    "        [\" <id>='<plain-text>'\",\n",
    "         ' <id>=\"<plain-text>\"'],\n",
    "})"
   ]
  },
  {
   "cell_type": "markdown",
   "metadata": {
    "slideshow": {
     "slide_type": "fragment"
    }
   },
   "source": [
    "Again, we can generate inputs from the grammar."
   ]
  },
  {
   "cell_type": "code",
   "execution_count": 25,
   "metadata": {
    "execution": {
     "iopub.execute_input": "2023-02-11T10:05:27.998772Z",
     "iopub.status.busy": "2023-02-11T10:05:27.998028Z",
     "iopub.status.idle": "2023-02-11T10:05:27.999943Z",
     "shell.execute_reply": "2023-02-11T10:05:28.000433Z"
    },
    "slideshow": {
     "slide_type": "fragment"
    }
   },
   "outputs": [],
   "source": [
    "simple_html_fuzzer = GrammarFuzzer(SIMPLE_HTML_GRAMMAR)"
   ]
  },
  {
   "cell_type": "code",
   "execution_count": 26,
   "metadata": {
    "execution": {
     "iopub.execute_input": "2023-02-11T10:05:28.029009Z",
     "iopub.status.busy": "2023-02-11T10:05:28.028134Z",
     "iopub.status.idle": "2023-02-11T10:05:28.030592Z",
     "shell.execute_reply": "2023-02-11T10:05:28.030293Z"
    },
    "slideshow": {
     "slide_type": "subslide"
    }
   },
   "outputs": [
    {
     "name": "stdout",
     "output_type": "stream",
     "text": [
      "'<T3 xG=\"\">'\n",
      "'<N9cd U=\\'\\' y=\\'l1\\' v0=\"\" tb4ya=\"\" UbD=\\'\\'>9</R>'\n",
      "'\\x0b'\n",
      "' ea\\\\\\\\'\n",
      "'&7'\n",
      "\"<c1 o2='' x9661lQo64T=''/>\"\n",
      "'<S4>'\n",
      "'<GMS></wAu>'\n",
      "'<j CI=\\'\\' T98sJ=\"\" DR4=\\'\\'/>'\n",
      "'<FQc90 Wt=\"\"/>'\n"
     ]
    }
   ],
   "source": [
    "for i in range(10):\n",
    "    fuzz_html = simple_html_fuzzer.fuzz()\n",
    "    print(repr(fuzz_html))"
   ]
  },
  {
   "cell_type": "markdown",
   "metadata": {
    "slideshow": {
     "slide_type": "subslide"
    }
   },
   "source": [
    "Such inputs, of course, are great for systematic testing. Our sister book, [the fuzzing book](https://www.fuzzingbook.org/), covers these and more."
   ]
  },
  {
   "cell_type": "markdown",
   "metadata": {
    "slideshow": {
     "slide_type": "slide"
    }
   },
   "source": [
    "## Derivation Trees\n",
    "\n",
    "To produce inputs from a grammar, the fuzzingbook `GrammarFuzzer` makes use of a structure called a *derivation tree* (also known as *syntax tree*). A derivation tree encodes the individual expansion steps undertaken while producing the output."
   ]
  },
  {
   "cell_type": "code",
   "execution_count": 27,
   "metadata": {
    "execution": {
     "iopub.execute_input": "2023-02-11T10:05:28.033756Z",
     "iopub.status.busy": "2023-02-11T10:05:28.033257Z",
     "iopub.status.idle": "2023-02-11T10:05:28.034846Z",
     "shell.execute_reply": "2023-02-11T10:05:28.035191Z"
    },
    "slideshow": {
     "slide_type": "fragment"
    }
   },
   "outputs": [],
   "source": [
    "DerivationTree = Tuple[str, Optional[List[Any]]]"
   ]
  },
  {
   "cell_type": "markdown",
   "metadata": {
    "slideshow": {
     "slide_type": "fragment"
    }
   },
   "source": [
    "Let us illustrate derivation trees by example, using the last HTML output we produced."
   ]
  },
  {
   "cell_type": "code",
   "execution_count": 28,
   "metadata": {
    "execution": {
     "iopub.execute_input": "2023-02-11T10:05:28.038219Z",
     "iopub.status.busy": "2023-02-11T10:05:28.037640Z",
     "iopub.status.idle": "2023-02-11T10:05:28.039879Z",
     "shell.execute_reply": "2023-02-11T10:05:28.040360Z"
    },
    "slideshow": {
     "slide_type": "fragment"
    }
   },
   "outputs": [
    {
     "data": {
      "text/plain": [
       "'<FQc90 Wt=\"\"/>'"
      ]
     },
     "execution_count": 28,
     "metadata": {},
     "output_type": "execute_result"
    }
   ],
   "source": [
    "fuzz_html"
   ]
  },
  {
   "attachments": {},
   "cell_type": "markdown",
   "metadata": {
    "slideshow": {
     "slide_type": "fragment"
    }
   },
   "source": [
    "The `GrammarFuzzer` attribute `derivation_tree` holds the last tree used to produce this input. We can visualize the tree as follows:"
   ]
  },
  {
   "cell_type": "code",
   "execution_count": 29,
   "metadata": {
    "execution": {
     "iopub.execute_input": "2023-02-11T10:05:28.046132Z",
     "iopub.status.busy": "2023-02-11T10:05:28.044390Z",
     "iopub.status.idle": "2023-02-11T10:05:28.047502Z",
     "shell.execute_reply": "2023-02-11T10:05:28.047746Z"
    },
    "slideshow": {
     "slide_type": "fragment"
    }
   },
   "outputs": [],
   "source": [
    "# ignore\n",
    "from graphviz import Digraph"
   ]
  },
  {
   "cell_type": "code",
   "execution_count": 30,
   "metadata": {
    "execution": {
     "iopub.execute_input": "2023-02-11T10:05:28.051693Z",
     "iopub.status.busy": "2023-02-11T10:05:28.051158Z",
     "iopub.status.idle": "2023-02-11T10:05:28.055746Z",
     "shell.execute_reply": "2023-02-11T10:05:28.056247Z"
    },
    "slideshow": {
     "slide_type": "subslide"
    }
   },
   "outputs": [],
   "source": [
    "# ignore\n",
    "def display_tree(tree: DerivationTree) -> Digraph:\n",
    "    def graph_attr(dot: Digraph) -> None:\n",
    "        dot.attr('node', shape='box', color='white', margin='0.0,0.0')\n",
    "        dot.attr('node',\n",
    "                 fontname=\"'Fira Mono', 'Source Code Pro', 'Courier', monospace\")\n",
    "\n",
    "    def node_attr(dot: Digraph, nid: str, symbol: str, ann: str) -> None:\n",
    "        fuzzingbook.GrammarFuzzer.default_node_attr(dot, nid, symbol, ann)\n",
    "        if symbol.startswith('<'):\n",
    "            dot.node(repr(nid), fontcolor='#0060a0')\n",
    "        else:\n",
    "            dot.node(repr(nid), fontcolor='#00a060')\n",
    "        dot.node(repr(nid), scale='2')\n",
    "\n",
    "    return fuzzingbook.GrammarFuzzer.display_tree(tree,\n",
    "        node_attr=node_attr,\n",
    "        graph_attr=graph_attr)"
   ]
  },
  {
   "cell_type": "code",
   "execution_count": 31,
   "metadata": {
    "execution": {
     "iopub.execute_input": "2023-02-11T10:05:28.060577Z",
     "iopub.status.busy": "2023-02-11T10:05:28.060142Z",
     "iopub.status.idle": "2023-02-11T10:05:28.473214Z",
     "shell.execute_reply": "2023-02-11T10:05:28.473649Z"
    },
    "slideshow": {
     "slide_type": "subslide"
    }
   },
   "outputs": [
    {
     "data": {
      "image/svg+xml": [
       "<?xml version=\"1.0\" encoding=\"UTF-8\" standalone=\"no\"?>\n",
       "<!DOCTYPE svg PUBLIC \"-//W3C//DTD SVG 1.1//EN\"\n",
       " \"http://www.w3.org/Graphics/SVG/1.1/DTD/svg11.dtd\">\n",
       "<!-- Generated by graphviz version 7.0.2 (20221119.0110)\n",
       " -->\n",
       "<!-- Pages: 1 -->\n",
       "<svg width=\"783pt\" height=\"764pt\"\n",
       " viewBox=\"0.00 0.00 782.50 764.00\" xmlns=\"http://www.w3.org/2000/svg\" xmlns:xlink=\"http://www.w3.org/1999/xlink\">\n",
       "<g id=\"graph0\" class=\"graph\" transform=\"scale(1 1) rotate(0) translate(4 760)\">\n",
       "<polygon fill=\"white\" stroke=\"none\" points=\"-4,4 -4,-760 778.5,-760 778.5,4 -4,4\"/>\n",
       "<!-- 0 -->\n",
       "<g id=\"node1\" class=\"node\">\n",
       "<title>0</title>\n",
       "<polygon fill=\"none\" stroke=\"white\" points=\"443.5,-756 385.5,-756 385.5,-720 443.5,-720 443.5,-756\"/>\n",
       "<text text-anchor=\"middle\" x=\"414.5\" y=\"-734.3\" font-family=\"'Fira Mono', 'Source Code Pro', 'Courier', monospace\" font-size=\"14.00\" fill=\"#0060a0\">&lt;start&gt;</text>\n",
       "</g>\n",
       "<!-- 1 -->\n",
       "<g id=\"node2\" class=\"node\">\n",
       "<title>1</title>\n",
       "<polygon fill=\"none\" stroke=\"white\" points=\"441.5,-684 387.5,-684 387.5,-648 441.5,-648 441.5,-684\"/>\n",
       "<text text-anchor=\"middle\" x=\"414.5\" y=\"-662.3\" font-family=\"'Fira Mono', 'Source Code Pro', 'Courier', monospace\" font-size=\"14.00\" fill=\"#0060a0\">&lt;html&gt;</text>\n",
       "</g>\n",
       "<!-- 0&#45;&gt;1 -->\n",
       "<g id=\"edge1\" class=\"edge\">\n",
       "<title>0&#45;&gt;1</title>\n",
       "<path fill=\"none\" stroke=\"black\" d=\"M414.5,-719.7C414.5,-712.41 414.5,-703.73 414.5,-695.54\"/>\n",
       "<polygon fill=\"black\" stroke=\"black\" points=\"418,-695.62 414.5,-685.62 411,-695.62 418,-695.62\"/>\n",
       "</g>\n",
       "<!-- 2 -->\n",
       "<g id=\"node3\" class=\"node\">\n",
       "<title>2</title>\n",
       "<polygon fill=\"none\" stroke=\"white\" points=\"468.5,-612 360.5,-612 360.5,-576 468.5,-576 468.5,-612\"/>\n",
       "<text text-anchor=\"middle\" x=\"414.5\" y=\"-590.3\" font-family=\"'Fira Mono', 'Source Code Pro', 'Courier', monospace\" font-size=\"14.00\" fill=\"#0060a0\">&lt;tagged&#45;text&gt;</text>\n",
       "</g>\n",
       "<!-- 1&#45;&gt;2 -->\n",
       "<g id=\"edge2\" class=\"edge\">\n",
       "<title>1&#45;&gt;2</title>\n",
       "<path fill=\"none\" stroke=\"black\" d=\"M414.5,-647.7C414.5,-640.41 414.5,-631.73 414.5,-623.54\"/>\n",
       "<polygon fill=\"black\" stroke=\"black\" points=\"418,-623.62 414.5,-613.62 411,-623.62 418,-623.62\"/>\n",
       "</g>\n",
       "<!-- 3 -->\n",
       "<g id=\"node4\" class=\"node\">\n",
       "<title>3</title>\n",
       "<polygon fill=\"none\" stroke=\"white\" points=\"489,-540 340,-540 340,-504 489,-504 489,-540\"/>\n",
       "<text text-anchor=\"middle\" x=\"414.5\" y=\"-518.3\" font-family=\"'Fira Mono', 'Source Code Pro', 'Courier', monospace\" font-size=\"14.00\" fill=\"#0060a0\">&lt;self&#45;closing&#45;tag&gt;</text>\n",
       "</g>\n",
       "<!-- 2&#45;&gt;3 -->\n",
       "<g id=\"edge3\" class=\"edge\">\n",
       "<title>2&#45;&gt;3</title>\n",
       "<path fill=\"none\" stroke=\"black\" d=\"M414.5,-575.7C414.5,-568.41 414.5,-559.73 414.5,-551.54\"/>\n",
       "<polygon fill=\"black\" stroke=\"black\" points=\"418,-551.62 414.5,-541.62 411,-551.62 418,-551.62\"/>\n",
       "</g>\n",
       "<!-- 4 -->\n",
       "<g id=\"node5\" class=\"node\">\n",
       "<title>4</title>\n",
       "<polygon fill=\"none\" stroke=\"white\" points=\"260.5,-468 206.5,-468 206.5,-432 260.5,-432 260.5,-468\"/>\n",
       "<text text-anchor=\"middle\" x=\"233.5\" y=\"-446.3\" font-family=\"'Fira Mono', 'Source Code Pro', 'Courier', monospace\" font-size=\"14.00\" fill=\"#0060a0\">&lt;lt&gt;</text>\n",
       "</g>\n",
       "<!-- 3&#45;&gt;4 -->\n",
       "<g id=\"edge4\" class=\"edge\">\n",
       "<title>3&#45;&gt;4</title>\n",
       "<path fill=\"none\" stroke=\"black\" d=\"M369.29,-503.52C339.12,-491.85 299.89,-476.68 271.36,-465.64\"/>\n",
       "<polygon fill=\"black\" stroke=\"black\" points=\"272.99,-462.52 262.4,-462.18 270.47,-469.05 272.99,-462.52\"/>\n",
       "</g>\n",
       "<!-- 6 -->\n",
       "<g id=\"node7\" class=\"node\">\n",
       "<title>6</title>\n",
       "<polygon fill=\"none\" stroke=\"white\" points=\"367.5,-468 313.5,-468 313.5,-432 367.5,-432 367.5,-468\"/>\n",
       "<text text-anchor=\"middle\" x=\"340.5\" y=\"-446.3\" font-family=\"'Fira Mono', 'Source Code Pro', 'Courier', monospace\" font-size=\"14.00\" fill=\"#0060a0\">&lt;id&gt;</text>\n",
       "</g>\n",
       "<!-- 3&#45;&gt;6 -->\n",
       "<g id=\"edge6\" class=\"edge\">\n",
       "<title>3&#45;&gt;6</title>\n",
       "<path fill=\"none\" stroke=\"black\" d=\"M396.21,-503.7C387.4,-495.37 376.68,-485.22 367,-476.07\"/>\n",
       "<polygon fill=\"black\" stroke=\"black\" points=\"369.61,-473.72 359.94,-469.39 364.8,-478.8 369.61,-473.72\"/>\n",
       "</g>\n",
       "<!-- 21 -->\n",
       "<g id=\"node22\" class=\"node\">\n",
       "<title>21</title>\n",
       "<polygon fill=\"none\" stroke=\"white\" points=\"443.5,-468 385.5,-468 385.5,-432 443.5,-432 443.5,-468\"/>\n",
       "<text text-anchor=\"middle\" x=\"414.5\" y=\"-446.3\" font-family=\"'Fira Mono', 'Source Code Pro', 'Courier', monospace\" font-size=\"14.00\" fill=\"#0060a0\">&lt;attrs&gt;</text>\n",
       "</g>\n",
       "<!-- 3&#45;&gt;21 -->\n",
       "<g id=\"edge21\" class=\"edge\">\n",
       "<title>3&#45;&gt;21</title>\n",
       "<path fill=\"none\" stroke=\"black\" d=\"M414.5,-503.7C414.5,-496.41 414.5,-487.73 414.5,-479.54\"/>\n",
       "<polygon fill=\"black\" stroke=\"black\" points=\"418,-479.62 414.5,-469.62 411,-479.62 418,-479.62\"/>\n",
       "</g>\n",
       "<!-- 34 -->\n",
       "<g id=\"node35\" class=\"node\">\n",
       "<title>34</title>\n",
       "<polygon fill=\"none\" stroke=\"white\" points=\"515.5,-468 461.5,-468 461.5,-432 515.5,-432 515.5,-468\"/>\n",
       "<text text-anchor=\"middle\" x=\"488.5\" y=\"-446.3\" font-family=\"'Fira Mono', 'Source Code Pro', 'Courier', monospace\" font-size=\"14.00\" fill=\"#00a060\">/</text>\n",
       "</g>\n",
       "<!-- 3&#45;&gt;34 -->\n",
       "<g id=\"edge34\" class=\"edge\">\n",
       "<title>3&#45;&gt;34</title>\n",
       "<path fill=\"none\" stroke=\"black\" d=\"M432.79,-503.7C441.6,-495.37 452.32,-485.22 462,-476.07\"/>\n",
       "<polygon fill=\"black\" stroke=\"black\" points=\"464.2,-478.8 469.06,-469.39 459.39,-473.72 464.2,-478.8\"/>\n",
       "</g>\n",
       "<!-- 35 -->\n",
       "<g id=\"node36\" class=\"node\">\n",
       "<title>35</title>\n",
       "<polygon fill=\"none\" stroke=\"white\" points=\"587.5,-468 533.5,-468 533.5,-432 587.5,-432 587.5,-468\"/>\n",
       "<text text-anchor=\"middle\" x=\"560.5\" y=\"-446.3\" font-family=\"'Fira Mono', 'Source Code Pro', 'Courier', monospace\" font-size=\"14.00\" fill=\"#0060a0\">&lt;gt&gt;</text>\n",
       "</g>\n",
       "<!-- 3&#45;&gt;35 -->\n",
       "<g id=\"edge35\" class=\"edge\">\n",
       "<title>3&#45;&gt;35</title>\n",
       "<path fill=\"none\" stroke=\"black\" d=\"M450.97,-503.52C472.89,-493.01 500.73,-479.66 522.86,-469.05\"/>\n",
       "<polygon fill=\"black\" stroke=\"black\" points=\"524.34,-472.22 531.84,-464.74 521.31,-465.91 524.34,-472.22\"/>\n",
       "</g>\n",
       "<!-- 5 -->\n",
       "<g id=\"node6\" class=\"node\">\n",
       "<title>5</title>\n",
       "<polygon fill=\"none\" stroke=\"white\" points=\"222.5,-396 168.5,-396 168.5,-360 222.5,-360 222.5,-396\"/>\n",
       "<text text-anchor=\"middle\" x=\"195.5\" y=\"-374.3\" font-family=\"'Fira Mono', 'Source Code Pro', 'Courier', monospace\" font-size=\"14.00\" fill=\"#0060a0\">&lt;</text>\n",
       "</g>\n",
       "<!-- 4&#45;&gt;5 -->\n",
       "<g id=\"edge5\" class=\"edge\">\n",
       "<title>4&#45;&gt;5</title>\n",
       "<path fill=\"none\" stroke=\"black\" d=\"M224.11,-431.7C219.92,-423.98 214.89,-414.71 210.22,-406.11\"/>\n",
       "<polygon fill=\"black\" stroke=\"black\" points=\"213.35,-404.55 205.51,-397.43 207.2,-407.89 213.35,-404.55\"/>\n",
       "</g>\n",
       "<!-- 7 -->\n",
       "<g id=\"node8\" class=\"node\">\n",
       "<title>7</title>\n",
       "<polygon fill=\"none\" stroke=\"white\" points=\"294.5,-396 240.5,-396 240.5,-360 294.5,-360 294.5,-396\"/>\n",
       "<text text-anchor=\"middle\" x=\"267.5\" y=\"-374.3\" font-family=\"'Fira Mono', 'Source Code Pro', 'Courier', monospace\" font-size=\"14.00\" fill=\"#0060a0\">&lt;id&gt;</text>\n",
       "</g>\n",
       "<!-- 6&#45;&gt;7 -->\n",
       "<g id=\"edge7\" class=\"edge\">\n",
       "<title>6&#45;&gt;7</title>\n",
       "<path fill=\"none\" stroke=\"black\" d=\"M322.46,-431.7C313.77,-423.37 303.19,-413.22 293.64,-404.07\"/>\n",
       "<polygon fill=\"black\" stroke=\"black\" points=\"296.32,-401.79 286.68,-397.39 291.48,-406.84 296.32,-401.79\"/>\n",
       "</g>\n",
       "<!-- 19 -->\n",
       "<g id=\"node20\" class=\"node\">\n",
       "<title>19</title>\n",
       "<polygon fill=\"none\" stroke=\"white\" points=\"370.5,-396 312.5,-396 312.5,-360 370.5,-360 370.5,-396\"/>\n",
       "<text text-anchor=\"middle\" x=\"341.5\" y=\"-374.3\" font-family=\"'Fira Mono', 'Source Code Pro', 'Courier', monospace\" font-size=\"14.00\" fill=\"#0060a0\">&lt;digit&gt;</text>\n",
       "</g>\n",
       "<!-- 6&#45;&gt;19 -->\n",
       "<g id=\"edge19\" class=\"edge\">\n",
       "<title>6&#45;&gt;19</title>\n",
       "<path fill=\"none\" stroke=\"black\" d=\"M340.75,-431.7C340.85,-424.41 340.98,-415.73 341.09,-407.54\"/>\n",
       "<polygon fill=\"black\" stroke=\"black\" points=\"344.59,-407.67 341.23,-397.62 337.59,-407.57 344.59,-407.67\"/>\n",
       "</g>\n",
       "<!-- 8 -->\n",
       "<g id=\"node9\" class=\"node\">\n",
       "<title>8</title>\n",
       "<polygon fill=\"none\" stroke=\"white\" points=\"218.5,-324 164.5,-324 164.5,-288 218.5,-288 218.5,-324\"/>\n",
       "<text text-anchor=\"middle\" x=\"191.5\" y=\"-302.3\" font-family=\"'Fira Mono', 'Source Code Pro', 'Courier', monospace\" font-size=\"14.00\" fill=\"#0060a0\">&lt;id&gt;</text>\n",
       "</g>\n",
       "<!-- 7&#45;&gt;8 -->\n",
       "<g id=\"edge8\" class=\"edge\">\n",
       "<title>7&#45;&gt;8</title>\n",
       "<path fill=\"none\" stroke=\"black\" d=\"M248.71,-359.7C239.67,-351.37 228.66,-341.22 218.72,-332.07\"/>\n",
       "<polygon fill=\"black\" stroke=\"black\" points=\"221.17,-329.57 211.45,-325.37 216.43,-334.72 221.17,-329.57\"/>\n",
       "</g>\n",
       "<!-- 17 -->\n",
       "<g id=\"node18\" class=\"node\">\n",
       "<title>17</title>\n",
       "<polygon fill=\"none\" stroke=\"white\" points=\"296.5,-324 238.5,-324 238.5,-288 296.5,-288 296.5,-324\"/>\n",
       "<text text-anchor=\"middle\" x=\"267.5\" y=\"-302.3\" font-family=\"'Fira Mono', 'Source Code Pro', 'Courier', monospace\" font-size=\"14.00\" fill=\"#0060a0\">&lt;digit&gt;</text>\n",
       "</g>\n",
       "<!-- 7&#45;&gt;17 -->\n",
       "<g id=\"edge17\" class=\"edge\">\n",
       "<title>7&#45;&gt;17</title>\n",
       "<path fill=\"none\" stroke=\"black\" d=\"M267.5,-359.7C267.5,-352.41 267.5,-343.73 267.5,-335.54\"/>\n",
       "<polygon fill=\"black\" stroke=\"black\" points=\"271,-335.62 267.5,-325.62 264,-335.62 271,-335.62\"/>\n",
       "</g>\n",
       "<!-- 9 -->\n",
       "<g id=\"node10\" class=\"node\">\n",
       "<title>9</title>\n",
       "<polygon fill=\"none\" stroke=\"white\" points=\"139.5,-252 85.5,-252 85.5,-216 139.5,-216 139.5,-252\"/>\n",
       "<text text-anchor=\"middle\" x=\"112.5\" y=\"-230.3\" font-family=\"'Fira Mono', 'Source Code Pro', 'Courier', monospace\" font-size=\"14.00\" fill=\"#0060a0\">&lt;id&gt;</text>\n",
       "</g>\n",
       "<!-- 8&#45;&gt;9 -->\n",
       "<g id=\"edge9\" class=\"edge\">\n",
       "<title>8&#45;&gt;9</title>\n",
       "<path fill=\"none\" stroke=\"black\" d=\"M171.97,-287.7C162.48,-279.28 150.89,-269.02 140.48,-259.79\"/>\n",
       "<polygon fill=\"black\" stroke=\"black\" points=\"143.02,-257.36 133.21,-253.35 138.37,-262.6 143.02,-257.36\"/>\n",
       "</g>\n",
       "<!-- 15 -->\n",
       "<g id=\"node16\" class=\"node\">\n",
       "<title>15</title>\n",
       "<polygon fill=\"none\" stroke=\"white\" points=\"225,-252 158,-252 158,-216 225,-216 225,-252\"/>\n",
       "<text text-anchor=\"middle\" x=\"191.5\" y=\"-230.3\" font-family=\"'Fira Mono', 'Source Code Pro', 'Courier', monospace\" font-size=\"14.00\" fill=\"#0060a0\">&lt;letter&gt;</text>\n",
       "</g>\n",
       "<!-- 8&#45;&gt;15 -->\n",
       "<g id=\"edge15\" class=\"edge\">\n",
       "<title>8&#45;&gt;15</title>\n",
       "<path fill=\"none\" stroke=\"black\" d=\"M191.5,-287.7C191.5,-280.41 191.5,-271.73 191.5,-263.54\"/>\n",
       "<polygon fill=\"black\" stroke=\"black\" points=\"195,-263.62 191.5,-253.62 188,-263.62 195,-263.62\"/>\n",
       "</g>\n",
       "<!-- 10 -->\n",
       "<g id=\"node11\" class=\"node\">\n",
       "<title>10</title>\n",
       "<polygon fill=\"none\" stroke=\"white\" points=\"60.5,-180 6.5,-180 6.5,-144 60.5,-144 60.5,-180\"/>\n",
       "<text text-anchor=\"middle\" x=\"33.5\" y=\"-158.3\" font-family=\"'Fira Mono', 'Source Code Pro', 'Courier', monospace\" font-size=\"14.00\" fill=\"#0060a0\">&lt;id&gt;</text>\n",
       "</g>\n",
       "<!-- 9&#45;&gt;10 -->\n",
       "<g id=\"edge10\" class=\"edge\">\n",
       "<title>9&#45;&gt;10</title>\n",
       "<path fill=\"none\" stroke=\"black\" d=\"M92.97,-215.7C83.48,-207.28 71.89,-197.02 61.48,-187.79\"/>\n",
       "<polygon fill=\"black\" stroke=\"black\" points=\"64.02,-185.36 54.21,-181.35 59.37,-190.6 64.02,-185.36\"/>\n",
       "</g>\n",
       "<!-- 13 -->\n",
       "<g id=\"node14\" class=\"node\">\n",
       "<title>13</title>\n",
       "<polygon fill=\"none\" stroke=\"white\" points=\"146,-180 79,-180 79,-144 146,-144 146,-180\"/>\n",
       "<text text-anchor=\"middle\" x=\"112.5\" y=\"-158.3\" font-family=\"'Fira Mono', 'Source Code Pro', 'Courier', monospace\" font-size=\"14.00\" fill=\"#0060a0\">&lt;letter&gt;</text>\n",
       "</g>\n",
       "<!-- 9&#45;&gt;13 -->\n",
       "<g id=\"edge13\" class=\"edge\">\n",
       "<title>9&#45;&gt;13</title>\n",
       "<path fill=\"none\" stroke=\"black\" d=\"M112.5,-215.7C112.5,-208.41 112.5,-199.73 112.5,-191.54\"/>\n",
       "<polygon fill=\"black\" stroke=\"black\" points=\"116,-191.62 112.5,-181.62 109,-191.62 116,-191.62\"/>\n",
       "</g>\n",
       "<!-- 11 -->\n",
       "<g id=\"node12\" class=\"node\">\n",
       "<title>11</title>\n",
       "<polygon fill=\"none\" stroke=\"white\" points=\"67,-108 0,-108 0,-72 67,-72 67,-108\"/>\n",
       "<text text-anchor=\"middle\" x=\"33.5\" y=\"-86.3\" font-family=\"'Fira Mono', 'Source Code Pro', 'Courier', monospace\" font-size=\"14.00\" fill=\"#0060a0\">&lt;letter&gt;</text>\n",
       "</g>\n",
       "<!-- 10&#45;&gt;11 -->\n",
       "<g id=\"edge11\" class=\"edge\">\n",
       "<title>10&#45;&gt;11</title>\n",
       "<path fill=\"none\" stroke=\"black\" d=\"M33.5,-143.7C33.5,-136.41 33.5,-127.73 33.5,-119.54\"/>\n",
       "<polygon fill=\"black\" stroke=\"black\" points=\"37,-119.62 33.5,-109.62 30,-119.62 37,-119.62\"/>\n",
       "</g>\n",
       "<!-- 12 -->\n",
       "<g id=\"node13\" class=\"node\">\n",
       "<title>12</title>\n",
       "<polygon fill=\"none\" stroke=\"white\" points=\"60.5,-36 6.5,-36 6.5,0 60.5,0 60.5,-36\"/>\n",
       "<text text-anchor=\"middle\" x=\"33.5\" y=\"-14.3\" font-family=\"'Fira Mono', 'Source Code Pro', 'Courier', monospace\" font-size=\"14.00\" fill=\"#00a060\">F</text>\n",
       "</g>\n",
       "<!-- 11&#45;&gt;12 -->\n",
       "<g id=\"edge12\" class=\"edge\">\n",
       "<title>11&#45;&gt;12</title>\n",
       "<path fill=\"none\" stroke=\"black\" d=\"M33.5,-71.7C33.5,-64.41 33.5,-55.73 33.5,-47.54\"/>\n",
       "<polygon fill=\"black\" stroke=\"black\" points=\"37,-47.62 33.5,-37.62 30,-47.62 37,-47.62\"/>\n",
       "</g>\n",
       "<!-- 14 -->\n",
       "<g id=\"node15\" class=\"node\">\n",
       "<title>14</title>\n",
       "<polygon fill=\"none\" stroke=\"white\" points=\"139.5,-108 85.5,-108 85.5,-72 139.5,-72 139.5,-108\"/>\n",
       "<text text-anchor=\"middle\" x=\"112.5\" y=\"-86.3\" font-family=\"'Fira Mono', 'Source Code Pro', 'Courier', monospace\" font-size=\"14.00\" fill=\"#00a060\">Q</text>\n",
       "</g>\n",
       "<!-- 13&#45;&gt;14 -->\n",
       "<g id=\"edge14\" class=\"edge\">\n",
       "<title>13&#45;&gt;14</title>\n",
       "<path fill=\"none\" stroke=\"black\" d=\"M112.5,-143.7C112.5,-136.41 112.5,-127.73 112.5,-119.54\"/>\n",
       "<polygon fill=\"black\" stroke=\"black\" points=\"116,-119.62 112.5,-109.62 109,-119.62 116,-119.62\"/>\n",
       "</g>\n",
       "<!-- 16 -->\n",
       "<g id=\"node17\" class=\"node\">\n",
       "<title>16</title>\n",
       "<polygon fill=\"none\" stroke=\"white\" points=\"218.5,-180 164.5,-180 164.5,-144 218.5,-144 218.5,-180\"/>\n",
       "<text text-anchor=\"middle\" x=\"191.5\" y=\"-158.3\" font-family=\"'Fira Mono', 'Source Code Pro', 'Courier', monospace\" font-size=\"14.00\" fill=\"#00a060\">c</text>\n",
       "</g>\n",
       "<!-- 15&#45;&gt;16 -->\n",
       "<g id=\"edge16\" class=\"edge\">\n",
       "<title>15&#45;&gt;16</title>\n",
       "<path fill=\"none\" stroke=\"black\" d=\"M191.5,-215.7C191.5,-208.41 191.5,-199.73 191.5,-191.54\"/>\n",
       "<polygon fill=\"black\" stroke=\"black\" points=\"195,-191.62 191.5,-181.62 188,-191.62 195,-191.62\"/>\n",
       "</g>\n",
       "<!-- 18 -->\n",
       "<g id=\"node19\" class=\"node\">\n",
       "<title>18</title>\n",
       "<polygon fill=\"none\" stroke=\"white\" points=\"297.5,-252 243.5,-252 243.5,-216 297.5,-216 297.5,-252\"/>\n",
       "<text text-anchor=\"middle\" x=\"270.5\" y=\"-230.3\" font-family=\"'Fira Mono', 'Source Code Pro', 'Courier', monospace\" font-size=\"14.00\" fill=\"#00a060\">9</text>\n",
       "</g>\n",
       "<!-- 17&#45;&gt;18 -->\n",
       "<g id=\"edge18\" class=\"edge\">\n",
       "<title>17&#45;&gt;18</title>\n",
       "<path fill=\"none\" stroke=\"black\" d=\"M268.24,-287.7C268.55,-280.41 268.93,-271.73 269.28,-263.54\"/>\n",
       "<polygon fill=\"black\" stroke=\"black\" points=\"272.77,-263.76 269.7,-253.62 265.78,-263.46 272.77,-263.76\"/>\n",
       "</g>\n",
       "<!-- 20 -->\n",
       "<g id=\"node21\" class=\"node\">\n",
       "<title>20</title>\n",
       "<polygon fill=\"none\" stroke=\"white\" points=\"368.5,-324 314.5,-324 314.5,-288 368.5,-288 368.5,-324\"/>\n",
       "<text text-anchor=\"middle\" x=\"341.5\" y=\"-302.3\" font-family=\"'Fira Mono', 'Source Code Pro', 'Courier', monospace\" font-size=\"14.00\" fill=\"#00a060\">0</text>\n",
       "</g>\n",
       "<!-- 19&#45;&gt;20 -->\n",
       "<g id=\"edge20\" class=\"edge\">\n",
       "<title>19&#45;&gt;20</title>\n",
       "<path fill=\"none\" stroke=\"black\" d=\"M341.5,-359.7C341.5,-352.41 341.5,-343.73 341.5,-335.54\"/>\n",
       "<polygon fill=\"black\" stroke=\"black\" points=\"345,-335.62 341.5,-325.62 338,-335.62 345,-335.62\"/>\n",
       "</g>\n",
       "<!-- 22 -->\n",
       "<g id=\"node23\" class=\"node\">\n",
       "<title>22</title>\n",
       "<polygon fill=\"none\" stroke=\"white\" points=\"513.5,-396 459.5,-396 459.5,-360 513.5,-360 513.5,-396\"/>\n",
       "<text text-anchor=\"middle\" x=\"486.5\" y=\"-374.3\" font-family=\"'Fira Mono', 'Source Code Pro', 'Courier', monospace\" font-size=\"14.00\" fill=\"#0060a0\">&lt;attr&gt;</text>\n",
       "</g>\n",
       "<!-- 21&#45;&gt;22 -->\n",
       "<g id=\"edge22\" class=\"edge\">\n",
       "<title>21&#45;&gt;22</title>\n",
       "<path fill=\"none\" stroke=\"black\" d=\"M432.3,-431.7C440.78,-423.45 451.09,-413.43 460.43,-404.35\"/>\n",
       "<polygon fill=\"black\" stroke=\"black\" points=\"462.84,-406.88 467.57,-397.4 457.96,-401.86 462.84,-406.88\"/>\n",
       "</g>\n",
       "<!-- 23 -->\n",
       "<g id=\"node24\" class=\"node\">\n",
       "<title>23</title>\n",
       "<polygon fill=\"none\" stroke=\"white\" points=\"440.5,-324 386.5,-324 386.5,-288 440.5,-288 440.5,-324\"/>\n",
       "<text text-anchor=\"middle\" x=\"413.5\" y=\"-302.3\" font-family=\"'Fira Mono', 'Source Code Pro', 'Courier', monospace\" font-size=\"14.00\" fill=\"#00a060\"> </text>\n",
       "</g>\n",
       "<!-- 22&#45;&gt;23 -->\n",
       "<g id=\"edge23\" class=\"edge\">\n",
       "<title>22&#45;&gt;23</title>\n",
       "<path fill=\"none\" stroke=\"black\" d=\"M468.46,-359.7C459.77,-351.37 449.19,-341.22 439.64,-332.07\"/>\n",
       "<polygon fill=\"black\" stroke=\"black\" points=\"442.32,-329.79 432.68,-325.39 437.48,-334.84 442.32,-329.79\"/>\n",
       "</g>\n",
       "<!-- 24 -->\n",
       "<g id=\"node25\" class=\"node\">\n",
       "<title>24</title>\n",
       "<polygon fill=\"none\" stroke=\"white\" points=\"512.5,-324 458.5,-324 458.5,-288 512.5,-288 512.5,-324\"/>\n",
       "<text text-anchor=\"middle\" x=\"485.5\" y=\"-302.3\" font-family=\"'Fira Mono', 'Source Code Pro', 'Courier', monospace\" font-size=\"14.00\" fill=\"#0060a0\">&lt;id&gt;</text>\n",
       "</g>\n",
       "<!-- 22&#45;&gt;24 -->\n",
       "<g id=\"edge24\" class=\"edge\">\n",
       "<title>22&#45;&gt;24</title>\n",
       "<path fill=\"none\" stroke=\"black\" d=\"M486.25,-359.7C486.15,-352.41 486.02,-343.73 485.91,-335.54\"/>\n",
       "<polygon fill=\"black\" stroke=\"black\" points=\"489.41,-335.57 485.77,-325.62 482.41,-335.67 489.41,-335.57\"/>\n",
       "</g>\n",
       "<!-- 30 -->\n",
       "<g id=\"node31\" class=\"node\">\n",
       "<title>30</title>\n",
       "<polygon fill=\"none\" stroke=\"white\" points=\"584.5,-324 530.5,-324 530.5,-288 584.5,-288 584.5,-324\"/>\n",
       "<text text-anchor=\"middle\" x=\"557.5\" y=\"-302.3\" font-family=\"'Fira Mono', 'Source Code Pro', 'Courier', monospace\" font-size=\"14.00\" fill=\"#00a060\">=&quot;</text>\n",
       "</g>\n",
       "<!-- 22&#45;&gt;30 -->\n",
       "<g id=\"edge30\" class=\"edge\">\n",
       "<title>22&#45;&gt;30</title>\n",
       "<path fill=\"none\" stroke=\"black\" d=\"M504.05,-359.7C512.48,-351.39 522.73,-341.28 532,-332.14\"/>\n",
       "<polygon fill=\"black\" stroke=\"black\" points=\"534.41,-334.68 539.07,-325.17 529.5,-329.7 534.41,-334.68\"/>\n",
       "</g>\n",
       "<!-- 31 -->\n",
       "<g id=\"node32\" class=\"node\">\n",
       "<title>31</title>\n",
       "<polygon fill=\"none\" stroke=\"white\" points=\"702.5,-324 602.5,-324 602.5,-288 702.5,-288 702.5,-324\"/>\n",
       "<text text-anchor=\"middle\" x=\"652.5\" y=\"-302.3\" font-family=\"'Fira Mono', 'Source Code Pro', 'Courier', monospace\" font-size=\"14.00\" fill=\"#0060a0\">&lt;plain&#45;text&gt;</text>\n",
       "</g>\n",
       "<!-- 22&#45;&gt;31 -->\n",
       "<g id=\"edge31\" class=\"edge\">\n",
       "<title>22&#45;&gt;31</title>\n",
       "<path fill=\"none\" stroke=\"black\" d=\"M513.86,-364.65C517.43,-363.07 521.05,-361.49 524.5,-360 548.81,-349.53 575.88,-338.27 598.84,-328.83\"/>\n",
       "<polygon fill=\"black\" stroke=\"black\" points=\"600.09,-332.1 608.01,-325.06 597.43,-325.62 600.09,-332.1\"/>\n",
       "</g>\n",
       "<!-- 33 -->\n",
       "<g id=\"node34\" class=\"node\">\n",
       "<title>33</title>\n",
       "<polygon fill=\"none\" stroke=\"white\" points=\"774.5,-324 720.5,-324 720.5,-288 774.5,-288 774.5,-324\"/>\n",
       "<text text-anchor=\"middle\" x=\"747.5\" y=\"-302.3\" font-family=\"'Fira Mono', 'Source Code Pro', 'Courier', monospace\" font-size=\"14.00\" fill=\"#00a060\">&quot;</text>\n",
       "</g>\n",
       "<!-- 22&#45;&gt;33 -->\n",
       "<g id=\"edge33\" class=\"edge\">\n",
       "<title>22&#45;&gt;33</title>\n",
       "<path fill=\"none\" stroke=\"black\" d=\"M513.61,-363.97C517.22,-362.5 520.92,-361.13 524.5,-360 601.91,-335.59 628.83,-349.06 709.61,-324.14\"/>\n",
       "<polygon fill=\"black\" stroke=\"black\" points=\"710.37,-327.57 718.83,-321.18 708.24,-320.9 710.37,-327.57\"/>\n",
       "</g>\n",
       "<!-- 25 -->\n",
       "<g id=\"node26\" class=\"node\">\n",
       "<title>25</title>\n",
       "<polygon fill=\"none\" stroke=\"white\" points=\"472.5,-252 418.5,-252 418.5,-216 472.5,-216 472.5,-252\"/>\n",
       "<text text-anchor=\"middle\" x=\"445.5\" y=\"-230.3\" font-family=\"'Fira Mono', 'Source Code Pro', 'Courier', monospace\" font-size=\"14.00\" fill=\"#0060a0\">&lt;id&gt;</text>\n",
       "</g>\n",
       "<!-- 24&#45;&gt;25 -->\n",
       "<g id=\"edge25\" class=\"edge\">\n",
       "<title>24&#45;&gt;25</title>\n",
       "<path fill=\"none\" stroke=\"black\" d=\"M475.61,-287.7C471.16,-279.9 465.79,-270.51 460.83,-261.83\"/>\n",
       "<polygon fill=\"black\" stroke=\"black\" points=\"464.03,-260.36 456.02,-253.42 457.95,-263.84 464.03,-260.36\"/>\n",
       "</g>\n",
       "<!-- 28 -->\n",
       "<g id=\"node29\" class=\"node\">\n",
       "<title>28</title>\n",
       "<polygon fill=\"none\" stroke=\"white\" points=\"558,-252 491,-252 491,-216 558,-216 558,-252\"/>\n",
       "<text text-anchor=\"middle\" x=\"524.5\" y=\"-230.3\" font-family=\"'Fira Mono', 'Source Code Pro', 'Courier', monospace\" font-size=\"14.00\" fill=\"#0060a0\">&lt;letter&gt;</text>\n",
       "</g>\n",
       "<!-- 24&#45;&gt;28 -->\n",
       "<g id=\"edge28\" class=\"edge\">\n",
       "<title>24&#45;&gt;28</title>\n",
       "<path fill=\"none\" stroke=\"black\" d=\"M495.14,-287.7C499.44,-279.98 504.6,-270.71 509.39,-262.11\"/>\n",
       "<polygon fill=\"black\" stroke=\"black\" points=\"512.42,-263.87 514.23,-253.43 506.31,-260.46 512.42,-263.87\"/>\n",
       "</g>\n",
       "<!-- 26 -->\n",
       "<g id=\"node27\" class=\"node\">\n",
       "<title>26</title>\n",
       "<polygon fill=\"none\" stroke=\"white\" points=\"479,-180 412,-180 412,-144 479,-144 479,-180\"/>\n",
       "<text text-anchor=\"middle\" x=\"445.5\" y=\"-158.3\" font-family=\"'Fira Mono', 'Source Code Pro', 'Courier', monospace\" font-size=\"14.00\" fill=\"#0060a0\">&lt;letter&gt;</text>\n",
       "</g>\n",
       "<!-- 25&#45;&gt;26 -->\n",
       "<g id=\"edge26\" class=\"edge\">\n",
       "<title>25&#45;&gt;26</title>\n",
       "<path fill=\"none\" stroke=\"black\" d=\"M445.5,-215.7C445.5,-208.41 445.5,-199.73 445.5,-191.54\"/>\n",
       "<polygon fill=\"black\" stroke=\"black\" points=\"449,-191.62 445.5,-181.62 442,-191.62 449,-191.62\"/>\n",
       "</g>\n",
       "<!-- 27 -->\n",
       "<g id=\"node28\" class=\"node\">\n",
       "<title>27</title>\n",
       "<polygon fill=\"none\" stroke=\"white\" points=\"472.5,-108 418.5,-108 418.5,-72 472.5,-72 472.5,-108\"/>\n",
       "<text text-anchor=\"middle\" x=\"445.5\" y=\"-86.3\" font-family=\"'Fira Mono', 'Source Code Pro', 'Courier', monospace\" font-size=\"14.00\" fill=\"#00a060\">W</text>\n",
       "</g>\n",
       "<!-- 26&#45;&gt;27 -->\n",
       "<g id=\"edge27\" class=\"edge\">\n",
       "<title>26&#45;&gt;27</title>\n",
       "<path fill=\"none\" stroke=\"black\" d=\"M445.5,-143.7C445.5,-136.41 445.5,-127.73 445.5,-119.54\"/>\n",
       "<polygon fill=\"black\" stroke=\"black\" points=\"449,-119.62 445.5,-109.62 442,-119.62 449,-119.62\"/>\n",
       "</g>\n",
       "<!-- 29 -->\n",
       "<g id=\"node30\" class=\"node\">\n",
       "<title>29</title>\n",
       "<polygon fill=\"none\" stroke=\"white\" points=\"551.5,-180 497.5,-180 497.5,-144 551.5,-144 551.5,-180\"/>\n",
       "<text text-anchor=\"middle\" x=\"524.5\" y=\"-158.3\" font-family=\"'Fira Mono', 'Source Code Pro', 'Courier', monospace\" font-size=\"14.00\" fill=\"#00a060\">t</text>\n",
       "</g>\n",
       "<!-- 28&#45;&gt;29 -->\n",
       "<g id=\"edge29\" class=\"edge\">\n",
       "<title>28&#45;&gt;29</title>\n",
       "<path fill=\"none\" stroke=\"black\" d=\"M524.5,-215.7C524.5,-208.41 524.5,-199.73 524.5,-191.54\"/>\n",
       "<polygon fill=\"black\" stroke=\"black\" points=\"528,-191.62 524.5,-181.62 521,-191.62 528,-191.62\"/>\n",
       "</g>\n",
       "<!-- 32 -->\n",
       "<g id=\"node33\" class=\"node\">\n",
       "<title>32</title>\n",
       "<polygon fill=\"none\" stroke=\"white\" points=\"679.5,-252 625.5,-252 625.5,-216 679.5,-216 679.5,-252\"/>\n",
       "</g>\n",
       "<!-- 31&#45;&gt;32 -->\n",
       "<g id=\"edge32\" class=\"edge\">\n",
       "<title>31&#45;&gt;32</title>\n",
       "<path fill=\"none\" stroke=\"black\" d=\"M652.5,-287.7C652.5,-280.41 652.5,-271.73 652.5,-263.54\"/>\n",
       "<polygon fill=\"black\" stroke=\"black\" points=\"656,-263.62 652.5,-253.62 649,-263.62 656,-263.62\"/>\n",
       "</g>\n",
       "<!-- 36 -->\n",
       "<g id=\"node37\" class=\"node\">\n",
       "<title>36</title>\n",
       "<polygon fill=\"none\" stroke=\"white\" points=\"587.5,-396 533.5,-396 533.5,-360 587.5,-360 587.5,-396\"/>\n",
       "<text text-anchor=\"middle\" x=\"560.5\" y=\"-374.3\" font-family=\"'Fira Mono', 'Source Code Pro', 'Courier', monospace\" font-size=\"14.00\" fill=\"#00a060\">&gt;</text>\n",
       "</g>\n",
       "<!-- 35&#45;&gt;36 -->\n",
       "<g id=\"edge36\" class=\"edge\">\n",
       "<title>35&#45;&gt;36</title>\n",
       "<path fill=\"none\" stroke=\"black\" d=\"M560.5,-431.7C560.5,-424.41 560.5,-415.73 560.5,-407.54\"/>\n",
       "<polygon fill=\"black\" stroke=\"black\" points=\"564,-407.62 560.5,-397.62 557,-407.62 564,-407.62\"/>\n",
       "</g>\n",
       "</g>\n",
       "</svg>\n"
      ],
      "text/plain": [
       "<graphviz.graphs.Digraph at 0x111261f60>"
      ]
     },
     "execution_count": 31,
     "metadata": {},
     "output_type": "execute_result"
    }
   ],
   "source": [
    "display_tree(simple_html_fuzzer.derivation_tree)"
   ]
  },
  {
   "cell_type": "markdown",
   "metadata": {
    "slideshow": {
     "slide_type": "fragment"
    }
   },
   "source": [
    "From top to bottom, we see that the input was constructed from a `<start>` symbol, which then expanded into `html`, which then expanded into HTML text, and so on. Multiple children in a tree stand for a concatenation of individual symbols."
   ]
  },
  {
   "cell_type": "markdown",
   "metadata": {
    "slideshow": {
     "slide_type": "fragment"
    }
   },
   "source": [
    "Internally, these trees come as pairs `(symbol, children)`, where `symbol` is the name of a node (say, `<html>`), and `children` is a (possibly empty) list of subtrees. Here are the topmost nodes of the above tree:"
   ]
  },
  {
   "cell_type": "code",
   "execution_count": 32,
   "metadata": {
    "execution": {
     "iopub.execute_input": "2023-02-11T10:05:28.476506Z",
     "iopub.status.busy": "2023-02-11T10:05:28.475932Z",
     "iopub.status.idle": "2023-02-11T10:05:28.477950Z",
     "shell.execute_reply": "2023-02-11T10:05:28.478263Z"
    },
    "slideshow": {
     "slide_type": "skip"
    }
   },
   "outputs": [],
   "source": [
    "import pprint"
   ]
  },
  {
   "cell_type": "code",
   "execution_count": 33,
   "metadata": {
    "execution": {
     "iopub.execute_input": "2023-02-11T10:05:28.482165Z",
     "iopub.status.busy": "2023-02-11T10:05:28.481327Z",
     "iopub.status.idle": "2023-02-11T10:05:28.484824Z",
     "shell.execute_reply": "2023-02-11T10:05:28.485416Z"
    },
    "slideshow": {
     "slide_type": "fragment"
    }
   },
   "outputs": [
    {
     "name": "stdout",
     "output_type": "stream",
     "text": [
      "('<start>', [('<html>', [('<tagged-text>', [('<self-closing-tag>', [...])])])])\n"
     ]
    }
   ],
   "source": [
    "pp = pprint.PrettyPrinter(depth=7)\n",
    "pp.pprint(simple_html_fuzzer.derivation_tree)"
   ]
  },
  {
   "attachments": {},
   "cell_type": "markdown",
   "metadata": {
    "slideshow": {
     "slide_type": "subslide"
    }
   },
   "source": [
    "To produce abstract failure-inducing patterns, we will work on this very structure. The idea is to\n",
    "\n",
    "1. systematically replace subtrees by other, generated, compatible subtrees (e.g. replace one `<html>` subtree in the concrete input by some other generated `<html>` subtree);\n",
    "2. see whether these subtrees also result in failures; and\n",
    "3. if they do, use the nonterminal (`<html>`) as a placeholder in the pattern.\n",
    "\n",
    "This will involve some subtree manipulation, construction, and finally testing. First, though, we need to be able to turn an _existing input_ into a derivation tree."
   ]
  },
  {
   "cell_type": "markdown",
   "metadata": {
    "slideshow": {
     "slide_type": "slide"
    }
   },
   "source": [
    "## Parsing\n",
    "\n",
    "The activity of creating a structure out of an unstructured input is called _parsing_. Generally speaking, a _parser_ uses a _grammar_ to create a _derivation tree_ (also called *parse tree* in parsing contexts) from a string input."
   ]
  },
  {
   "cell_type": "markdown",
   "metadata": {
    "slideshow": {
     "slide_type": "fragment"
    }
   },
   "source": [
    "Again, there's a whole body of theory (and practice!) around constructing parsers. We make our life simple by using an existing parser (again, from [the fuzzing book](https://www.fuzzingbook.org/Parser.html)), which does just what we want. The `EarleyParser` is instantiated with a grammar such as `SIMPLE_HTML_GRAMMAR`:"
   ]
  },
  {
   "cell_type": "code",
   "execution_count": 34,
   "metadata": {
    "execution": {
     "iopub.execute_input": "2023-02-11T10:05:28.490281Z",
     "iopub.status.busy": "2023-02-11T10:05:28.489444Z",
     "iopub.status.idle": "2023-02-11T10:05:28.496048Z",
     "shell.execute_reply": "2023-02-11T10:05:28.496423Z"
    },
    "slideshow": {
     "slide_type": "skip"
    }
   },
   "outputs": [],
   "source": [
    "from fuzzingbook.Parser import Parser, EarleyParser  # minor dependency"
   ]
  },
  {
   "cell_type": "code",
   "execution_count": 35,
   "metadata": {
    "execution": {
     "iopub.execute_input": "2023-02-11T10:05:28.500963Z",
     "iopub.status.busy": "2023-02-11T10:05:28.500125Z",
     "iopub.status.idle": "2023-02-11T10:05:28.502048Z",
     "shell.execute_reply": "2023-02-11T10:05:28.503191Z"
    },
    "slideshow": {
     "slide_type": "fragment"
    }
   },
   "outputs": [],
   "source": [
    "simple_html_parser = EarleyParser(SIMPLE_HTML_GRAMMAR)"
   ]
  },
  {
   "cell_type": "markdown",
   "metadata": {
    "slideshow": {
     "slide_type": "subslide"
    }
   },
   "source": [
    "Its method `parse()` returns an iterator over multiple possible derivation trees.  (There can be multiple trees because the grammar could be ambiguous). We are only interested in the first such tree. Let us parse `BAD_INPUT` and inspect the resulting ~parse tree~ ~syntax tree~ derivation tree:"
   ]
  },
  {
   "cell_type": "code",
   "execution_count": 36,
   "metadata": {
    "execution": {
     "iopub.execute_input": "2023-02-11T10:05:28.511477Z",
     "iopub.status.busy": "2023-02-11T10:05:28.510760Z",
     "iopub.status.idle": "2023-02-11T10:05:28.512206Z",
     "shell.execute_reply": "2023-02-11T10:05:28.512763Z"
    },
    "slideshow": {
     "slide_type": "fragment"
    }
   },
   "outputs": [],
   "source": [
    "bad_input_tree = list(simple_html_parser.parse(BAD_INPUT))[0]"
   ]
  },
  {
   "cell_type": "code",
   "execution_count": 37,
   "metadata": {
    "execution": {
     "iopub.execute_input": "2023-02-11T10:05:28.517009Z",
     "iopub.status.busy": "2023-02-11T10:05:28.516595Z",
     "iopub.status.idle": "2023-02-11T10:05:28.881928Z",
     "shell.execute_reply": "2023-02-11T10:05:28.882415Z"
    },
    "slideshow": {
     "slide_type": "fragment"
    }
   },
   "outputs": [
    {
     "data": {
      "image/svg+xml": [
       "<?xml version=\"1.0\" encoding=\"UTF-8\" standalone=\"no\"?>\n",
       "<!DOCTYPE svg PUBLIC \"-//W3C//DTD SVG 1.1//EN\"\n",
       " \"http://www.w3.org/Graphics/SVG/1.1/DTD/svg11.dtd\">\n",
       "<!-- Generated by graphviz version 7.0.2 (20221119.0110)\n",
       " -->\n",
       "<!-- Pages: 1 -->\n",
       "<svg width=\"1001pt\" height=\"764pt\"\n",
       " viewBox=\"0.00 0.00 1000.50 764.00\" xmlns=\"http://www.w3.org/2000/svg\" xmlns:xlink=\"http://www.w3.org/1999/xlink\">\n",
       "<g id=\"graph0\" class=\"graph\" transform=\"scale(1 1) rotate(0) translate(4 760)\">\n",
       "<polygon fill=\"white\" stroke=\"none\" points=\"-4,4 -4,-760 996.5,-760 996.5,4 -4,4\"/>\n",
       "<!-- 0 -->\n",
       "<g id=\"node1\" class=\"node\">\n",
       "<title>0</title>\n",
       "<polygon fill=\"none\" stroke=\"white\" points=\"413.5,-756 355.5,-756 355.5,-720 413.5,-720 413.5,-756\"/>\n",
       "<text text-anchor=\"middle\" x=\"384.5\" y=\"-734.3\" font-family=\"'Fira Mono', 'Source Code Pro', 'Courier', monospace\" font-size=\"14.00\" fill=\"#0060a0\">&lt;start&gt;</text>\n",
       "</g>\n",
       "<!-- 1 -->\n",
       "<g id=\"node2\" class=\"node\">\n",
       "<title>1</title>\n",
       "<polygon fill=\"none\" stroke=\"white\" points=\"411.5,-684 357.5,-684 357.5,-648 411.5,-648 411.5,-684\"/>\n",
       "<text text-anchor=\"middle\" x=\"384.5\" y=\"-662.3\" font-family=\"'Fira Mono', 'Source Code Pro', 'Courier', monospace\" font-size=\"14.00\" fill=\"#0060a0\">&lt;html&gt;</text>\n",
       "</g>\n",
       "<!-- 0&#45;&gt;1 -->\n",
       "<g id=\"edge1\" class=\"edge\">\n",
       "<title>0&#45;&gt;1</title>\n",
       "<path fill=\"none\" stroke=\"black\" d=\"M384.5,-719.7C384.5,-712.41 384.5,-703.73 384.5,-695.54\"/>\n",
       "<polygon fill=\"black\" stroke=\"black\" points=\"388,-695.62 384.5,-685.62 381,-695.62 388,-695.62\"/>\n",
       "</g>\n",
       "<!-- 2 -->\n",
       "<g id=\"node3\" class=\"node\">\n",
       "<title>2</title>\n",
       "<polygon fill=\"none\" stroke=\"white\" points=\"438.5,-612 330.5,-612 330.5,-576 438.5,-576 438.5,-612\"/>\n",
       "<text text-anchor=\"middle\" x=\"384.5\" y=\"-590.3\" font-family=\"'Fira Mono', 'Source Code Pro', 'Courier', monospace\" font-size=\"14.00\" fill=\"#0060a0\">&lt;tagged&#45;text&gt;</text>\n",
       "</g>\n",
       "<!-- 1&#45;&gt;2 -->\n",
       "<g id=\"edge2\" class=\"edge\">\n",
       "<title>1&#45;&gt;2</title>\n",
       "<path fill=\"none\" stroke=\"black\" d=\"M384.5,-647.7C384.5,-640.41 384.5,-631.73 384.5,-623.54\"/>\n",
       "<polygon fill=\"black\" stroke=\"black\" points=\"388,-623.62 384.5,-613.62 381,-623.62 388,-623.62\"/>\n",
       "</g>\n",
       "<!-- 3 -->\n",
       "<g id=\"node4\" class=\"node\">\n",
       "<title>3</title>\n",
       "<polygon fill=\"none\" stroke=\"white\" points=\"302.5,-540 194.5,-540 194.5,-504 302.5,-504 302.5,-540\"/>\n",
       "<text text-anchor=\"middle\" x=\"248.5\" y=\"-518.3\" font-family=\"'Fira Mono', 'Source Code Pro', 'Courier', monospace\" font-size=\"14.00\" fill=\"#0060a0\">&lt;opening&#45;tag&gt;</text>\n",
       "</g>\n",
       "<!-- 2&#45;&gt;3 -->\n",
       "<g id=\"edge3\" class=\"edge\">\n",
       "<title>2&#45;&gt;3</title>\n",
       "<path fill=\"none\" stroke=\"black\" d=\"M350.53,-575.52C332.87,-566.43 311.09,-555.22 292.19,-545.49\"/>\n",
       "<polygon fill=\"black\" stroke=\"black\" points=\"293.87,-542.42 283.38,-540.95 290.67,-548.64 293.87,-542.42\"/>\n",
       "</g>\n",
       "<!-- 17 -->\n",
       "<g id=\"node18\" class=\"node\">\n",
       "<title>17</title>\n",
       "<polygon fill=\"none\" stroke=\"white\" points=\"411.5,-540 357.5,-540 357.5,-504 411.5,-504 411.5,-540\"/>\n",
       "<text text-anchor=\"middle\" x=\"384.5\" y=\"-518.3\" font-family=\"'Fira Mono', 'Source Code Pro', 'Courier', monospace\" font-size=\"14.00\" fill=\"#0060a0\">&lt;html&gt;</text>\n",
       "</g>\n",
       "<!-- 2&#45;&gt;17 -->\n",
       "<g id=\"edge17\" class=\"edge\">\n",
       "<title>2&#45;&gt;17</title>\n",
       "<path fill=\"none\" stroke=\"black\" d=\"M384.5,-575.7C384.5,-568.41 384.5,-559.73 384.5,-551.54\"/>\n",
       "<polygon fill=\"black\" stroke=\"black\" points=\"388,-551.62 384.5,-541.62 381,-551.62 388,-551.62\"/>\n",
       "</g>\n",
       "<!-- 35 -->\n",
       "<g id=\"node36\" class=\"node\">\n",
       "<title>35</title>\n",
       "<polygon fill=\"none\" stroke=\"white\" points=\"810.5,-540 702.5,-540 702.5,-504 810.5,-504 810.5,-540\"/>\n",
       "<text text-anchor=\"middle\" x=\"756.5\" y=\"-518.3\" font-family=\"'Fira Mono', 'Source Code Pro', 'Courier', monospace\" font-size=\"14.00\" fill=\"#0060a0\">&lt;closing&#45;tag&gt;</text>\n",
       "</g>\n",
       "<!-- 2&#45;&gt;35 -->\n",
       "<g id=\"edge35\" class=\"edge\">\n",
       "<title>2&#45;&gt;35</title>\n",
       "<path fill=\"none\" stroke=\"black\" d=\"M438.99,-582.75C505.94,-570.15 619.43,-548.79 691.05,-535.32\"/>\n",
       "<polygon fill=\"black\" stroke=\"black\" points=\"691.5,-538.79 700.68,-533.5 690.2,-531.91 691.5,-538.79\"/>\n",
       "</g>\n",
       "<!-- 4 -->\n",
       "<g id=\"node5\" class=\"node\">\n",
       "<title>4</title>\n",
       "<polygon fill=\"none\" stroke=\"white\" points=\"107.5,-468 53.5,-468 53.5,-432 107.5,-432 107.5,-468\"/>\n",
       "<text text-anchor=\"middle\" x=\"80.5\" y=\"-446.3\" font-family=\"'Fira Mono', 'Source Code Pro', 'Courier', monospace\" font-size=\"14.00\" fill=\"#0060a0\">&lt;lt&gt;</text>\n",
       "</g>\n",
       "<!-- 3&#45;&gt;4 -->\n",
       "<g id=\"edge4\" class=\"edge\">\n",
       "<title>3&#45;&gt;4</title>\n",
       "<path fill=\"none\" stroke=\"black\" d=\"M206.54,-503.52C179.38,-492.2 144.31,-477.59 118.06,-466.65\"/>\n",
       "<polygon fill=\"black\" stroke=\"black\" points=\"119.74,-463.56 109.16,-462.94 117.04,-470.02 119.74,-463.56\"/>\n",
       "</g>\n",
       "<!-- 6 -->\n",
       "<g id=\"node7\" class=\"node\">\n",
       "<title>6</title>\n",
       "<polygon fill=\"none\" stroke=\"white\" points=\"218.5,-468 164.5,-468 164.5,-432 218.5,-432 218.5,-468\"/>\n",
       "<text text-anchor=\"middle\" x=\"191.5\" y=\"-446.3\" font-family=\"'Fira Mono', 'Source Code Pro', 'Courier', monospace\" font-size=\"14.00\" fill=\"#0060a0\">&lt;id&gt;</text>\n",
       "</g>\n",
       "<!-- 3&#45;&gt;6 -->\n",
       "<g id=\"edge6\" class=\"edge\">\n",
       "<title>3&#45;&gt;6</title>\n",
       "<path fill=\"none\" stroke=\"black\" d=\"M234.41,-503.7C227.85,-495.64 219.91,-485.89 212.66,-476.98\"/>\n",
       "<polygon fill=\"black\" stroke=\"black\" points=\"215.41,-474.82 206.38,-469.28 209.98,-479.24 215.41,-474.82\"/>\n",
       "</g>\n",
       "<!-- 15 -->\n",
       "<g id=\"node16\" class=\"node\">\n",
       "<title>15</title>\n",
       "<polygon fill=\"none\" stroke=\"white\" points=\"294.5,-468 240.5,-468 240.5,-432 294.5,-432 294.5,-468\"/>\n",
       "<text text-anchor=\"middle\" x=\"267.5\" y=\"-446.3\" font-family=\"'Fira Mono', 'Source Code Pro', 'Courier', monospace\" font-size=\"14.00\" fill=\"#0060a0\">&lt;gt&gt;</text>\n",
       "</g>\n",
       "<!-- 3&#45;&gt;15 -->\n",
       "<g id=\"edge15\" class=\"edge\">\n",
       "<title>3&#45;&gt;15</title>\n",
       "<path fill=\"none\" stroke=\"black\" d=\"M253.2,-503.7C255.22,-496.24 257.64,-487.32 259.91,-478.97\"/>\n",
       "<polygon fill=\"black\" stroke=\"black\" points=\"263.22,-480.13 262.46,-469.57 256.46,-478.3 263.22,-480.13\"/>\n",
       "</g>\n",
       "<!-- 5 -->\n",
       "<g id=\"node6\" class=\"node\">\n",
       "<title>5</title>\n",
       "<polygon fill=\"none\" stroke=\"white\" points=\"67.5,-396 13.5,-396 13.5,-360 67.5,-360 67.5,-396\"/>\n",
       "<text text-anchor=\"middle\" x=\"40.5\" y=\"-374.3\" font-family=\"'Fira Mono', 'Source Code Pro', 'Courier', monospace\" font-size=\"14.00\" fill=\"#0060a0\">&lt;</text>\n",
       "</g>\n",
       "<!-- 4&#45;&gt;5 -->\n",
       "<g id=\"edge5\" class=\"edge\">\n",
       "<title>4&#45;&gt;5</title>\n",
       "<path fill=\"none\" stroke=\"black\" d=\"M70.61,-431.7C66.16,-423.9 60.79,-414.51 55.83,-405.83\"/>\n",
       "<polygon fill=\"black\" stroke=\"black\" points=\"59.03,-404.36 51.02,-397.42 52.95,-407.84 59.03,-404.36\"/>\n",
       "</g>\n",
       "<!-- 7 -->\n",
       "<g id=\"node8\" class=\"node\">\n",
       "<title>7</title>\n",
       "<polygon fill=\"none\" stroke=\"white\" points=\"139.5,-396 85.5,-396 85.5,-360 139.5,-360 139.5,-396\"/>\n",
       "<text text-anchor=\"middle\" x=\"112.5\" y=\"-374.3\" font-family=\"'Fira Mono', 'Source Code Pro', 'Courier', monospace\" font-size=\"14.00\" fill=\"#0060a0\">&lt;id&gt;</text>\n",
       "</g>\n",
       "<!-- 6&#45;&gt;7 -->\n",
       "<g id=\"edge7\" class=\"edge\">\n",
       "<title>6&#45;&gt;7</title>\n",
       "<path fill=\"none\" stroke=\"black\" d=\"M171.97,-431.7C162.48,-423.28 150.89,-413.02 140.48,-403.79\"/>\n",
       "<polygon fill=\"black\" stroke=\"black\" points=\"143.02,-401.36 133.21,-397.35 138.37,-406.6 143.02,-401.36\"/>\n",
       "</g>\n",
       "<!-- 13 -->\n",
       "<g id=\"node14\" class=\"node\">\n",
       "<title>13</title>\n",
       "<polygon fill=\"none\" stroke=\"white\" points=\"225,-396 158,-396 158,-360 225,-360 225,-396\"/>\n",
       "<text text-anchor=\"middle\" x=\"191.5\" y=\"-374.3\" font-family=\"'Fira Mono', 'Source Code Pro', 'Courier', monospace\" font-size=\"14.00\" fill=\"#0060a0\">&lt;letter&gt;</text>\n",
       "</g>\n",
       "<!-- 6&#45;&gt;13 -->\n",
       "<g id=\"edge13\" class=\"edge\">\n",
       "<title>6&#45;&gt;13</title>\n",
       "<path fill=\"none\" stroke=\"black\" d=\"M191.5,-431.7C191.5,-424.41 191.5,-415.73 191.5,-407.54\"/>\n",
       "<polygon fill=\"black\" stroke=\"black\" points=\"195,-407.62 191.5,-397.62 188,-407.62 195,-407.62\"/>\n",
       "</g>\n",
       "<!-- 8 -->\n",
       "<g id=\"node9\" class=\"node\">\n",
       "<title>8</title>\n",
       "<polygon fill=\"none\" stroke=\"white\" points=\"60.5,-324 6.5,-324 6.5,-288 60.5,-288 60.5,-324\"/>\n",
       "<text text-anchor=\"middle\" x=\"33.5\" y=\"-302.3\" font-family=\"'Fira Mono', 'Source Code Pro', 'Courier', monospace\" font-size=\"14.00\" fill=\"#0060a0\">&lt;id&gt;</text>\n",
       "</g>\n",
       "<!-- 7&#45;&gt;8 -->\n",
       "<g id=\"edge8\" class=\"edge\">\n",
       "<title>7&#45;&gt;8</title>\n",
       "<path fill=\"none\" stroke=\"black\" d=\"M92.97,-359.7C83.48,-351.28 71.89,-341.02 61.48,-331.79\"/>\n",
       "<polygon fill=\"black\" stroke=\"black\" points=\"64.02,-329.36 54.21,-325.35 59.37,-334.6 64.02,-329.36\"/>\n",
       "</g>\n",
       "<!-- 11 -->\n",
       "<g id=\"node12\" class=\"node\">\n",
       "<title>11</title>\n",
       "<polygon fill=\"none\" stroke=\"white\" points=\"146,-324 79,-324 79,-288 146,-288 146,-324\"/>\n",
       "<text text-anchor=\"middle\" x=\"112.5\" y=\"-302.3\" font-family=\"'Fira Mono', 'Source Code Pro', 'Courier', monospace\" font-size=\"14.00\" fill=\"#0060a0\">&lt;letter&gt;</text>\n",
       "</g>\n",
       "<!-- 7&#45;&gt;11 -->\n",
       "<g id=\"edge11\" class=\"edge\">\n",
       "<title>7&#45;&gt;11</title>\n",
       "<path fill=\"none\" stroke=\"black\" d=\"M112.5,-359.7C112.5,-352.41 112.5,-343.73 112.5,-335.54\"/>\n",
       "<polygon fill=\"black\" stroke=\"black\" points=\"116,-335.62 112.5,-325.62 109,-335.62 116,-335.62\"/>\n",
       "</g>\n",
       "<!-- 9 -->\n",
       "<g id=\"node10\" class=\"node\">\n",
       "<title>9</title>\n",
       "<polygon fill=\"none\" stroke=\"white\" points=\"67,-252 0,-252 0,-216 67,-216 67,-252\"/>\n",
       "<text text-anchor=\"middle\" x=\"33.5\" y=\"-230.3\" font-family=\"'Fira Mono', 'Source Code Pro', 'Courier', monospace\" font-size=\"14.00\" fill=\"#0060a0\">&lt;letter&gt;</text>\n",
       "</g>\n",
       "<!-- 8&#45;&gt;9 -->\n",
       "<g id=\"edge9\" class=\"edge\">\n",
       "<title>8&#45;&gt;9</title>\n",
       "<path fill=\"none\" stroke=\"black\" d=\"M33.5,-287.7C33.5,-280.41 33.5,-271.73 33.5,-263.54\"/>\n",
       "<polygon fill=\"black\" stroke=\"black\" points=\"37,-263.62 33.5,-253.62 30,-263.62 37,-263.62\"/>\n",
       "</g>\n",
       "<!-- 10 -->\n",
       "<g id=\"node11\" class=\"node\">\n",
       "<title>10</title>\n",
       "<polygon fill=\"none\" stroke=\"white\" points=\"60.5,-180 6.5,-180 6.5,-144 60.5,-144 60.5,-180\"/>\n",
       "<text text-anchor=\"middle\" x=\"33.5\" y=\"-158.3\" font-family=\"'Fira Mono', 'Source Code Pro', 'Courier', monospace\" font-size=\"14.00\" fill=\"#00a060\">f</text>\n",
       "</g>\n",
       "<!-- 9&#45;&gt;10 -->\n",
       "<g id=\"edge10\" class=\"edge\">\n",
       "<title>9&#45;&gt;10</title>\n",
       "<path fill=\"none\" stroke=\"black\" d=\"M33.5,-215.7C33.5,-208.41 33.5,-199.73 33.5,-191.54\"/>\n",
       "<polygon fill=\"black\" stroke=\"black\" points=\"37,-191.62 33.5,-181.62 30,-191.62 37,-191.62\"/>\n",
       "</g>\n",
       "<!-- 12 -->\n",
       "<g id=\"node13\" class=\"node\">\n",
       "<title>12</title>\n",
       "<polygon fill=\"none\" stroke=\"white\" points=\"139.5,-252 85.5,-252 85.5,-216 139.5,-216 139.5,-252\"/>\n",
       "<text text-anchor=\"middle\" x=\"112.5\" y=\"-230.3\" font-family=\"'Fira Mono', 'Source Code Pro', 'Courier', monospace\" font-size=\"14.00\" fill=\"#00a060\">o</text>\n",
       "</g>\n",
       "<!-- 11&#45;&gt;12 -->\n",
       "<g id=\"edge12\" class=\"edge\">\n",
       "<title>11&#45;&gt;12</title>\n",
       "<path fill=\"none\" stroke=\"black\" d=\"M112.5,-287.7C112.5,-280.41 112.5,-271.73 112.5,-263.54\"/>\n",
       "<polygon fill=\"black\" stroke=\"black\" points=\"116,-263.62 112.5,-253.62 109,-263.62 116,-263.62\"/>\n",
       "</g>\n",
       "<!-- 14 -->\n",
       "<g id=\"node15\" class=\"node\">\n",
       "<title>14</title>\n",
       "<polygon fill=\"none\" stroke=\"white\" points=\"218.5,-324 164.5,-324 164.5,-288 218.5,-288 218.5,-324\"/>\n",
       "<text text-anchor=\"middle\" x=\"191.5\" y=\"-302.3\" font-family=\"'Fira Mono', 'Source Code Pro', 'Courier', monospace\" font-size=\"14.00\" fill=\"#00a060\">o</text>\n",
       "</g>\n",
       "<!-- 13&#45;&gt;14 -->\n",
       "<g id=\"edge14\" class=\"edge\">\n",
       "<title>13&#45;&gt;14</title>\n",
       "<path fill=\"none\" stroke=\"black\" d=\"M191.5,-359.7C191.5,-352.41 191.5,-343.73 191.5,-335.54\"/>\n",
       "<polygon fill=\"black\" stroke=\"black\" points=\"195,-335.62 191.5,-325.62 188,-335.62 195,-335.62\"/>\n",
       "</g>\n",
       "<!-- 16 -->\n",
       "<g id=\"node17\" class=\"node\">\n",
       "<title>16</title>\n",
       "<polygon fill=\"none\" stroke=\"white\" points=\"297.5,-396 243.5,-396 243.5,-360 297.5,-360 297.5,-396\"/>\n",
       "<text text-anchor=\"middle\" x=\"270.5\" y=\"-374.3\" font-family=\"'Fira Mono', 'Source Code Pro', 'Courier', monospace\" font-size=\"14.00\" fill=\"#00a060\">&gt;</text>\n",
       "</g>\n",
       "<!-- 15&#45;&gt;16 -->\n",
       "<g id=\"edge16\" class=\"edge\">\n",
       "<title>15&#45;&gt;16</title>\n",
       "<path fill=\"none\" stroke=\"black\" d=\"M268.24,-431.7C268.55,-424.41 268.93,-415.73 269.28,-407.54\"/>\n",
       "<polygon fill=\"black\" stroke=\"black\" points=\"272.77,-407.76 269.7,-397.62 265.78,-407.46 272.77,-407.76\"/>\n",
       "</g>\n",
       "<!-- 18 -->\n",
       "<g id=\"node19\" class=\"node\">\n",
       "<title>18</title>\n",
       "<polygon fill=\"none\" stroke=\"white\" points=\"434.5,-468 334.5,-468 334.5,-432 434.5,-432 434.5,-468\"/>\n",
       "<text text-anchor=\"middle\" x=\"384.5\" y=\"-446.3\" font-family=\"'Fira Mono', 'Source Code Pro', 'Courier', monospace\" font-size=\"14.00\" fill=\"#0060a0\">&lt;plain&#45;text&gt;</text>\n",
       "</g>\n",
       "<!-- 17&#45;&gt;18 -->\n",
       "<g id=\"edge18\" class=\"edge\">\n",
       "<title>17&#45;&gt;18</title>\n",
       "<path fill=\"none\" stroke=\"black\" d=\"M384.5,-503.7C384.5,-496.41 384.5,-487.73 384.5,-479.54\"/>\n",
       "<polygon fill=\"black\" stroke=\"black\" points=\"388,-479.62 384.5,-469.62 381,-479.62 388,-479.62\"/>\n",
       "</g>\n",
       "<!-- 19 -->\n",
       "<g id=\"node20\" class=\"node\">\n",
       "<title>19</title>\n",
       "<polygon fill=\"none\" stroke=\"white\" points=\"415.5,-396 315.5,-396 315.5,-360 415.5,-360 415.5,-396\"/>\n",
       "<text text-anchor=\"middle\" x=\"365.5\" y=\"-374.3\" font-family=\"'Fira Mono', 'Source Code Pro', 'Courier', monospace\" font-size=\"14.00\" fill=\"#0060a0\">&lt;plain&#45;char&gt;</text>\n",
       "</g>\n",
       "<!-- 18&#45;&gt;19 -->\n",
       "<g id=\"edge19\" class=\"edge\">\n",
       "<title>18&#45;&gt;19</title>\n",
       "<path fill=\"none\" stroke=\"black\" d=\"M379.8,-431.7C377.78,-424.24 375.36,-415.32 373.09,-406.97\"/>\n",
       "<polygon fill=\"black\" stroke=\"black\" points=\"376.54,-406.3 370.54,-397.57 369.78,-408.13 376.54,-406.3\"/>\n",
       "</g>\n",
       "<!-- 22 -->\n",
       "<g id=\"node23\" class=\"node\">\n",
       "<title>22</title>\n",
       "<polygon fill=\"none\" stroke=\"white\" points=\"533.5,-396 433.5,-396 433.5,-360 533.5,-360 533.5,-396\"/>\n",
       "<text text-anchor=\"middle\" x=\"483.5\" y=\"-374.3\" font-family=\"'Fira Mono', 'Source Code Pro', 'Courier', monospace\" font-size=\"14.00\" fill=\"#0060a0\">&lt;plain&#45;text&gt;</text>\n",
       "</g>\n",
       "<!-- 18&#45;&gt;22 -->\n",
       "<g id=\"edge22\" class=\"edge\">\n",
       "<title>18&#45;&gt;22</title>\n",
       "<path fill=\"none\" stroke=\"black\" d=\"M409.23,-431.52C421.49,-422.85 436.48,-412.25 449.77,-402.85\"/>\n",
       "<polygon fill=\"black\" stroke=\"black\" points=\"451.71,-405.77 457.85,-397.13 447.67,-400.05 451.71,-405.77\"/>\n",
       "</g>\n",
       "<!-- 20 -->\n",
       "<g id=\"node21\" class=\"node\">\n",
       "<title>20</title>\n",
       "<polygon fill=\"none\" stroke=\"white\" points=\"345.5,-324 287.5,-324 287.5,-288 345.5,-288 345.5,-324\"/>\n",
       "<text text-anchor=\"middle\" x=\"316.5\" y=\"-302.3\" font-family=\"'Fira Mono', 'Source Code Pro', 'Courier', monospace\" font-size=\"14.00\" fill=\"#0060a0\">&lt;other&gt;</text>\n",
       "</g>\n",
       "<!-- 19&#45;&gt;20 -->\n",
       "<g id=\"edge20\" class=\"edge\">\n",
       "<title>19&#45;&gt;20</title>\n",
       "<path fill=\"none\" stroke=\"black\" d=\"M353.39,-359.7C347.81,-351.73 341.07,-342.1 334.88,-333.26\"/>\n",
       "<polygon fill=\"black\" stroke=\"black\" points=\"337.94,-331.53 329.34,-325.34 332.21,-335.54 337.94,-331.53\"/>\n",
       "</g>\n",
       "<!-- 21 -->\n",
       "<g id=\"node22\" class=\"node\">\n",
       "<title>21</title>\n",
       "<polygon fill=\"none\" stroke=\"white\" points=\"343.5,-252 289.5,-252 289.5,-216 343.5,-216 343.5,-252\"/>\n",
       "<text text-anchor=\"middle\" x=\"316.5\" y=\"-230.3\" font-family=\"'Fira Mono', 'Source Code Pro', 'Courier', monospace\" font-size=\"14.00\" fill=\"#00a060\">&quot;</text>\n",
       "</g>\n",
       "<!-- 20&#45;&gt;21 -->\n",
       "<g id=\"edge21\" class=\"edge\">\n",
       "<title>20&#45;&gt;21</title>\n",
       "<path fill=\"none\" stroke=\"black\" d=\"M316.5,-287.7C316.5,-280.41 316.5,-271.73 316.5,-263.54\"/>\n",
       "<polygon fill=\"black\" stroke=\"black\" points=\"320,-263.62 316.5,-253.62 313,-263.62 320,-263.62\"/>\n",
       "</g>\n",
       "<!-- 23 -->\n",
       "<g id=\"node24\" class=\"node\">\n",
       "<title>23</title>\n",
       "<polygon fill=\"none\" stroke=\"white\" points=\"463.5,-324 363.5,-324 363.5,-288 463.5,-288 463.5,-324\"/>\n",
       "<text text-anchor=\"middle\" x=\"413.5\" y=\"-302.3\" font-family=\"'Fira Mono', 'Source Code Pro', 'Courier', monospace\" font-size=\"14.00\" fill=\"#0060a0\">&lt;plain&#45;char&gt;</text>\n",
       "</g>\n",
       "<!-- 22&#45;&gt;23 -->\n",
       "<g id=\"edge23\" class=\"edge\">\n",
       "<title>22&#45;&gt;23</title>\n",
       "<path fill=\"none\" stroke=\"black\" d=\"M466.2,-359.7C457.89,-351.39 447.78,-341.28 438.64,-332.14\"/>\n",
       "<polygon fill=\"black\" stroke=\"black\" points=\"441.22,-329.77 431.67,-325.17 436.27,-334.72 441.22,-329.77\"/>\n",
       "</g>\n",
       "<!-- 26 -->\n",
       "<g id=\"node27\" class=\"node\">\n",
       "<title>26</title>\n",
       "<polygon fill=\"none\" stroke=\"white\" points=\"581.5,-324 481.5,-324 481.5,-288 581.5,-288 581.5,-324\"/>\n",
       "<text text-anchor=\"middle\" x=\"531.5\" y=\"-302.3\" font-family=\"'Fira Mono', 'Source Code Pro', 'Courier', monospace\" font-size=\"14.00\" fill=\"#0060a0\">&lt;plain&#45;text&gt;</text>\n",
       "</g>\n",
       "<!-- 22&#45;&gt;26 -->\n",
       "<g id=\"edge26\" class=\"edge\">\n",
       "<title>22&#45;&gt;26</title>\n",
       "<path fill=\"none\" stroke=\"black\" d=\"M495.37,-359.7C500.77,-351.81 507.29,-342.3 513.3,-333.55\"/>\n",
       "<polygon fill=\"black\" stroke=\"black\" points=\"516.15,-335.58 518.92,-325.35 510.37,-331.62 516.15,-335.58\"/>\n",
       "</g>\n",
       "<!-- 24 -->\n",
       "<g id=\"node25\" class=\"node\">\n",
       "<title>24</title>\n",
       "<polygon fill=\"none\" stroke=\"white\" points=\"438,-252 371,-252 371,-216 438,-216 438,-252\"/>\n",
       "<text text-anchor=\"middle\" x=\"404.5\" y=\"-230.3\" font-family=\"'Fira Mono', 'Source Code Pro', 'Courier', monospace\" font-size=\"14.00\" fill=\"#0060a0\">&lt;letter&gt;</text>\n",
       "</g>\n",
       "<!-- 23&#45;&gt;24 -->\n",
       "<g id=\"edge24\" class=\"edge\">\n",
       "<title>23&#45;&gt;24</title>\n",
       "<path fill=\"none\" stroke=\"black\" d=\"M411.28,-287.7C410.33,-280.32 409.2,-271.52 408.13,-263.25\"/>\n",
       "<polygon fill=\"black\" stroke=\"black\" points=\"411.64,-263.08 406.89,-253.61 404.7,-263.97 411.64,-263.08\"/>\n",
       "</g>\n",
       "<!-- 25 -->\n",
       "<g id=\"node26\" class=\"node\">\n",
       "<title>25</title>\n",
       "<polygon fill=\"none\" stroke=\"white\" points=\"431.5,-180 377.5,-180 377.5,-144 431.5,-144 431.5,-180\"/>\n",
       "<text text-anchor=\"middle\" x=\"404.5\" y=\"-158.3\" font-family=\"'Fira Mono', 'Source Code Pro', 'Courier', monospace\" font-size=\"14.00\" fill=\"#00a060\">b</text>\n",
       "</g>\n",
       "<!-- 24&#45;&gt;25 -->\n",
       "<g id=\"edge25\" class=\"edge\">\n",
       "<title>24&#45;&gt;25</title>\n",
       "<path fill=\"none\" stroke=\"black\" d=\"M404.5,-215.7C404.5,-208.41 404.5,-199.73 404.5,-191.54\"/>\n",
       "<polygon fill=\"black\" stroke=\"black\" points=\"408,-191.62 404.5,-181.62 401,-191.62 408,-191.62\"/>\n",
       "</g>\n",
       "<!-- 27 -->\n",
       "<g id=\"node28\" class=\"node\">\n",
       "<title>27</title>\n",
       "<polygon fill=\"none\" stroke=\"white\" points=\"556.5,-252 456.5,-252 456.5,-216 556.5,-216 556.5,-252\"/>\n",
       "<text text-anchor=\"middle\" x=\"506.5\" y=\"-230.3\" font-family=\"'Fira Mono', 'Source Code Pro', 'Courier', monospace\" font-size=\"14.00\" fill=\"#0060a0\">&lt;plain&#45;char&gt;</text>\n",
       "</g>\n",
       "<!-- 26&#45;&gt;27 -->\n",
       "<g id=\"edge27\" class=\"edge\">\n",
       "<title>26&#45;&gt;27</title>\n",
       "<path fill=\"none\" stroke=\"black\" d=\"M525.32,-287.7C522.63,-280.15 519.4,-271.12 516.39,-262.68\"/>\n",
       "<polygon fill=\"black\" stroke=\"black\" points=\"519.78,-261.77 513.12,-253.53 513.19,-264.12 519.78,-261.77\"/>\n",
       "</g>\n",
       "<!-- 30 -->\n",
       "<g id=\"node31\" class=\"node\">\n",
       "<title>30</title>\n",
       "<polygon fill=\"none\" stroke=\"white\" points=\"674.5,-252 574.5,-252 574.5,-216 674.5,-216 674.5,-252\"/>\n",
       "<text text-anchor=\"middle\" x=\"624.5\" y=\"-230.3\" font-family=\"'Fira Mono', 'Source Code Pro', 'Courier', monospace\" font-size=\"14.00\" fill=\"#0060a0\">&lt;plain&#45;text&gt;</text>\n",
       "</g>\n",
       "<!-- 26&#45;&gt;30 -->\n",
       "<g id=\"edge30\" class=\"edge\">\n",
       "<title>26&#45;&gt;30</title>\n",
       "<path fill=\"none\" stroke=\"black\" d=\"M554.49,-287.7C565.89,-279.11 579.85,-268.61 592.3,-259.24\"/>\n",
       "<polygon fill=\"black\" stroke=\"black\" points=\"594.36,-262.07 600.24,-253.26 590.15,-256.47 594.36,-262.07\"/>\n",
       "</g>\n",
       "<!-- 28 -->\n",
       "<g id=\"node29\" class=\"node\">\n",
       "<title>28</title>\n",
       "<polygon fill=\"none\" stroke=\"white\" points=\"528,-180 461,-180 461,-144 528,-144 528,-180\"/>\n",
       "<text text-anchor=\"middle\" x=\"494.5\" y=\"-158.3\" font-family=\"'Fira Mono', 'Source Code Pro', 'Courier', monospace\" font-size=\"14.00\" fill=\"#0060a0\">&lt;letter&gt;</text>\n",
       "</g>\n",
       "<!-- 27&#45;&gt;28 -->\n",
       "<g id=\"edge28\" class=\"edge\">\n",
       "<title>27&#45;&gt;28</title>\n",
       "<path fill=\"none\" stroke=\"black\" d=\"M503.53,-215.7C502.27,-208.32 500.76,-199.52 499.34,-191.25\"/>\n",
       "<polygon fill=\"black\" stroke=\"black\" points=\"502.83,-190.86 497.69,-181.6 495.93,-192.04 502.83,-190.86\"/>\n",
       "</g>\n",
       "<!-- 29 -->\n",
       "<g id=\"node30\" class=\"node\">\n",
       "<title>29</title>\n",
       "<polygon fill=\"none\" stroke=\"white\" points=\"521.5,-108 467.5,-108 467.5,-72 521.5,-72 521.5,-108\"/>\n",
       "<text text-anchor=\"middle\" x=\"494.5\" y=\"-86.3\" font-family=\"'Fira Mono', 'Source Code Pro', 'Courier', monospace\" font-size=\"14.00\" fill=\"#00a060\">a</text>\n",
       "</g>\n",
       "<!-- 28&#45;&gt;29 -->\n",
       "<g id=\"edge29\" class=\"edge\">\n",
       "<title>28&#45;&gt;29</title>\n",
       "<path fill=\"none\" stroke=\"black\" d=\"M494.5,-143.7C494.5,-136.41 494.5,-127.73 494.5,-119.54\"/>\n",
       "<polygon fill=\"black\" stroke=\"black\" points=\"498,-119.62 494.5,-109.62 491,-119.62 498,-119.62\"/>\n",
       "</g>\n",
       "<!-- 31 -->\n",
       "<g id=\"node32\" class=\"node\">\n",
       "<title>31</title>\n",
       "<polygon fill=\"none\" stroke=\"white\" points=\"646.5,-180 546.5,-180 546.5,-144 646.5,-144 646.5,-180\"/>\n",
       "<text text-anchor=\"middle\" x=\"596.5\" y=\"-158.3\" font-family=\"'Fira Mono', 'Source Code Pro', 'Courier', monospace\" font-size=\"14.00\" fill=\"#0060a0\">&lt;plain&#45;char&gt;</text>\n",
       "</g>\n",
       "<!-- 30&#45;&gt;31 -->\n",
       "<g id=\"edge31\" class=\"edge\">\n",
       "<title>30&#45;&gt;31</title>\n",
       "<path fill=\"none\" stroke=\"black\" d=\"M617.58,-215.7C614.56,-208.15 610.95,-199.12 607.57,-190.68\"/>\n",
       "<polygon fill=\"black\" stroke=\"black\" points=\"610.87,-189.49 603.9,-181.51 604.37,-192.09 610.87,-189.49\"/>\n",
       "</g>\n",
       "<!-- 34 -->\n",
       "<g id=\"node35\" class=\"node\">\n",
       "<title>34</title>\n",
       "<polygon fill=\"none\" stroke=\"white\" points=\"764.5,-180 664.5,-180 664.5,-144 764.5,-144 764.5,-180\"/>\n",
       "<text text-anchor=\"middle\" x=\"714.5\" y=\"-158.3\" font-family=\"'Fira Mono', 'Source Code Pro', 'Courier', monospace\" font-size=\"14.00\" fill=\"#0060a0\">&lt;plain&#45;text&gt;</text>\n",
       "</g>\n",
       "<!-- 30&#45;&gt;34 -->\n",
       "<g id=\"edge34\" class=\"edge\">\n",
       "<title>30&#45;&gt;34</title>\n",
       "<path fill=\"none\" stroke=\"black\" d=\"M646.75,-215.7C657.78,-207.11 671.29,-196.61 683.34,-187.24\"/>\n",
       "<polygon fill=\"black\" stroke=\"black\" points=\"685.26,-190.18 691,-181.28 680.96,-184.65 685.26,-190.18\"/>\n",
       "</g>\n",
       "<!-- 32 -->\n",
       "<g id=\"node33\" class=\"node\">\n",
       "<title>32</title>\n",
       "<polygon fill=\"none\" stroke=\"white\" points=\"630,-108 563,-108 563,-72 630,-72 630,-108\"/>\n",
       "<text text-anchor=\"middle\" x=\"596.5\" y=\"-86.3\" font-family=\"'Fira Mono', 'Source Code Pro', 'Courier', monospace\" font-size=\"14.00\" fill=\"#0060a0\">&lt;letter&gt;</text>\n",
       "</g>\n",
       "<!-- 31&#45;&gt;32 -->\n",
       "<g id=\"edge32\" class=\"edge\">\n",
       "<title>31&#45;&gt;32</title>\n",
       "<path fill=\"none\" stroke=\"black\" d=\"M596.5,-143.7C596.5,-136.41 596.5,-127.73 596.5,-119.54\"/>\n",
       "<polygon fill=\"black\" stroke=\"black\" points=\"600,-119.62 596.5,-109.62 593,-119.62 600,-119.62\"/>\n",
       "</g>\n",
       "<!-- 33 -->\n",
       "<g id=\"node34\" class=\"node\">\n",
       "<title>33</title>\n",
       "<polygon fill=\"none\" stroke=\"white\" points=\"623.5,-36 569.5,-36 569.5,0 623.5,0 623.5,-36\"/>\n",
       "<text text-anchor=\"middle\" x=\"596.5\" y=\"-14.3\" font-family=\"'Fira Mono', 'Source Code Pro', 'Courier', monospace\" font-size=\"14.00\" fill=\"#00a060\">r</text>\n",
       "</g>\n",
       "<!-- 32&#45;&gt;33 -->\n",
       "<g id=\"edge33\" class=\"edge\">\n",
       "<title>32&#45;&gt;33</title>\n",
       "<path fill=\"none\" stroke=\"black\" d=\"M596.5,-71.7C596.5,-64.41 596.5,-55.73 596.5,-47.54\"/>\n",
       "<polygon fill=\"black\" stroke=\"black\" points=\"600,-47.62 596.5,-37.62 593,-47.62 600,-47.62\"/>\n",
       "</g>\n",
       "<!-- 36 -->\n",
       "<g id=\"node37\" class=\"node\">\n",
       "<title>36</title>\n",
       "<polygon fill=\"none\" stroke=\"white\" points=\"711.5,-468 657.5,-468 657.5,-432 711.5,-432 711.5,-468\"/>\n",
       "<text text-anchor=\"middle\" x=\"684.5\" y=\"-446.3\" font-family=\"'Fira Mono', 'Source Code Pro', 'Courier', monospace\" font-size=\"14.00\" fill=\"#0060a0\">&lt;lt&gt;</text>\n",
       "</g>\n",
       "<!-- 35&#45;&gt;36 -->\n",
       "<g id=\"edge36\" class=\"edge\">\n",
       "<title>35&#45;&gt;36</title>\n",
       "<path fill=\"none\" stroke=\"black\" d=\"M738.7,-503.7C730.22,-495.45 719.91,-485.43 710.57,-476.35\"/>\n",
       "<polygon fill=\"black\" stroke=\"black\" points=\"713.04,-473.86 703.43,-469.4 708.16,-478.88 713.04,-473.86\"/>\n",
       "</g>\n",
       "<!-- 38 -->\n",
       "<g id=\"node39\" class=\"node\">\n",
       "<title>38</title>\n",
       "<polygon fill=\"none\" stroke=\"white\" points=\"783.5,-468 729.5,-468 729.5,-432 783.5,-432 783.5,-468\"/>\n",
       "<text text-anchor=\"middle\" x=\"756.5\" y=\"-446.3\" font-family=\"'Fira Mono', 'Source Code Pro', 'Courier', monospace\" font-size=\"14.00\" fill=\"#00a060\">/</text>\n",
       "</g>\n",
       "<!-- 35&#45;&gt;38 -->\n",
       "<g id=\"edge38\" class=\"edge\">\n",
       "<title>35&#45;&gt;38</title>\n",
       "<path fill=\"none\" stroke=\"black\" d=\"M756.5,-503.7C756.5,-496.41 756.5,-487.73 756.5,-479.54\"/>\n",
       "<polygon fill=\"black\" stroke=\"black\" points=\"760,-479.62 756.5,-469.62 753,-479.62 760,-479.62\"/>\n",
       "</g>\n",
       "<!-- 39 -->\n",
       "<g id=\"node40\" class=\"node\">\n",
       "<title>39</title>\n",
       "<polygon fill=\"none\" stroke=\"white\" points=\"855.5,-468 801.5,-468 801.5,-432 855.5,-432 855.5,-468\"/>\n",
       "<text text-anchor=\"middle\" x=\"828.5\" y=\"-446.3\" font-family=\"'Fira Mono', 'Source Code Pro', 'Courier', monospace\" font-size=\"14.00\" fill=\"#0060a0\">&lt;id&gt;</text>\n",
       "</g>\n",
       "<!-- 35&#45;&gt;39 -->\n",
       "<g id=\"edge39\" class=\"edge\">\n",
       "<title>35&#45;&gt;39</title>\n",
       "<path fill=\"none\" stroke=\"black\" d=\"M774.3,-503.7C782.78,-495.45 793.09,-485.43 802.43,-476.35\"/>\n",
       "<polygon fill=\"black\" stroke=\"black\" points=\"804.84,-478.88 809.57,-469.4 799.96,-473.86 804.84,-478.88\"/>\n",
       "</g>\n",
       "<!-- 48 -->\n",
       "<g id=\"node49\" class=\"node\">\n",
       "<title>48</title>\n",
       "<polygon fill=\"none\" stroke=\"white\" points=\"970.5,-468 916.5,-468 916.5,-432 970.5,-432 970.5,-468\"/>\n",
       "<text text-anchor=\"middle\" x=\"943.5\" y=\"-446.3\" font-family=\"'Fira Mono', 'Source Code Pro', 'Courier', monospace\" font-size=\"14.00\" fill=\"#0060a0\">&lt;gt&gt;</text>\n",
       "</g>\n",
       "<!-- 35&#45;&gt;48 -->\n",
       "<g id=\"edge48\" class=\"edge\">\n",
       "<title>35&#45;&gt;48</title>\n",
       "<path fill=\"none\" stroke=\"black\" d=\"M803.21,-503.52C834.76,-491.7 875.91,-476.3 905.47,-465.24\"/>\n",
       "<polygon fill=\"black\" stroke=\"black\" points=\"906.63,-468.54 914.77,-461.76 904.17,-461.98 906.63,-468.54\"/>\n",
       "</g>\n",
       "<!-- 37 -->\n",
       "<g id=\"node38\" class=\"node\">\n",
       "<title>37</title>\n",
       "<polygon fill=\"none\" stroke=\"white\" points=\"711.5,-396 657.5,-396 657.5,-360 711.5,-360 711.5,-396\"/>\n",
       "<text text-anchor=\"middle\" x=\"684.5\" y=\"-374.3\" font-family=\"'Fira Mono', 'Source Code Pro', 'Courier', monospace\" font-size=\"14.00\" fill=\"#0060a0\">&lt;</text>\n",
       "</g>\n",
       "<!-- 36&#45;&gt;37 -->\n",
       "<g id=\"edge37\" class=\"edge\">\n",
       "<title>36&#45;&gt;37</title>\n",
       "<path fill=\"none\" stroke=\"black\" d=\"M684.5,-431.7C684.5,-424.41 684.5,-415.73 684.5,-407.54\"/>\n",
       "<polygon fill=\"black\" stroke=\"black\" points=\"688,-407.62 684.5,-397.62 681,-407.62 688,-407.62\"/>\n",
       "</g>\n",
       "<!-- 40 -->\n",
       "<g id=\"node41\" class=\"node\">\n",
       "<title>40</title>\n",
       "<polygon fill=\"none\" stroke=\"white\" points=\"834.5,-396 780.5,-396 780.5,-360 834.5,-360 834.5,-396\"/>\n",
       "<text text-anchor=\"middle\" x=\"807.5\" y=\"-374.3\" font-family=\"'Fira Mono', 'Source Code Pro', 'Courier', monospace\" font-size=\"14.00\" fill=\"#0060a0\">&lt;id&gt;</text>\n",
       "</g>\n",
       "<!-- 39&#45;&gt;40 -->\n",
       "<g id=\"edge40\" class=\"edge\">\n",
       "<title>39&#45;&gt;40</title>\n",
       "<path fill=\"none\" stroke=\"black\" d=\"M823.31,-431.7C821.07,-424.24 818.4,-415.32 815.89,-406.97\"/>\n",
       "<polygon fill=\"black\" stroke=\"black\" points=\"819.29,-406.13 813.07,-397.55 812.59,-408.14 819.29,-406.13\"/>\n",
       "</g>\n",
       "<!-- 46 -->\n",
       "<g id=\"node47\" class=\"node\">\n",
       "<title>46</title>\n",
       "<polygon fill=\"none\" stroke=\"white\" points=\"920,-396 853,-396 853,-360 920,-360 920,-396\"/>\n",
       "<text text-anchor=\"middle\" x=\"886.5\" y=\"-374.3\" font-family=\"'Fira Mono', 'Source Code Pro', 'Courier', monospace\" font-size=\"14.00\" fill=\"#0060a0\">&lt;letter&gt;</text>\n",
       "</g>\n",
       "<!-- 39&#45;&gt;46 -->\n",
       "<g id=\"edge46\" class=\"edge\">\n",
       "<title>39&#45;&gt;46</title>\n",
       "<path fill=\"none\" stroke=\"black\" d=\"M842.84,-431.7C849.58,-423.56 857.76,-413.69 865.2,-404.7\"/>\n",
       "<polygon fill=\"black\" stroke=\"black\" points=\"867.68,-407.2 871.36,-397.27 862.29,-402.74 867.68,-407.2\"/>\n",
       "</g>\n",
       "<!-- 41 -->\n",
       "<g id=\"node42\" class=\"node\">\n",
       "<title>41</title>\n",
       "<polygon fill=\"none\" stroke=\"white\" points=\"795.5,-324 741.5,-324 741.5,-288 795.5,-288 795.5,-324\"/>\n",
       "<text text-anchor=\"middle\" x=\"768.5\" y=\"-302.3\" font-family=\"'Fira Mono', 'Source Code Pro', 'Courier', monospace\" font-size=\"14.00\" fill=\"#0060a0\">&lt;id&gt;</text>\n",
       "</g>\n",
       "<!-- 40&#45;&gt;41 -->\n",
       "<g id=\"edge41\" class=\"edge\">\n",
       "<title>40&#45;&gt;41</title>\n",
       "<path fill=\"none\" stroke=\"black\" d=\"M797.86,-359.7C793.56,-351.98 788.4,-342.71 783.61,-334.11\"/>\n",
       "<polygon fill=\"black\" stroke=\"black\" points=\"786.69,-332.46 778.77,-325.43 780.58,-335.87 786.69,-332.46\"/>\n",
       "</g>\n",
       "<!-- 44 -->\n",
       "<g id=\"node45\" class=\"node\">\n",
       "<title>44</title>\n",
       "<polygon fill=\"none\" stroke=\"white\" points=\"881,-324 814,-324 814,-288 881,-288 881,-324\"/>\n",
       "<text text-anchor=\"middle\" x=\"847.5\" y=\"-302.3\" font-family=\"'Fira Mono', 'Source Code Pro', 'Courier', monospace\" font-size=\"14.00\" fill=\"#0060a0\">&lt;letter&gt;</text>\n",
       "</g>\n",
       "<!-- 40&#45;&gt;44 -->\n",
       "<g id=\"edge44\" class=\"edge\">\n",
       "<title>40&#45;&gt;44</title>\n",
       "<path fill=\"none\" stroke=\"black\" d=\"M817.39,-359.7C821.84,-351.9 827.21,-342.51 832.17,-333.83\"/>\n",
       "<polygon fill=\"black\" stroke=\"black\" points=\"835.05,-335.84 836.98,-325.42 828.97,-332.36 835.05,-335.84\"/>\n",
       "</g>\n",
       "<!-- 42 -->\n",
       "<g id=\"node43\" class=\"node\">\n",
       "<title>42</title>\n",
       "<polygon fill=\"none\" stroke=\"white\" points=\"802,-252 735,-252 735,-216 802,-216 802,-252\"/>\n",
       "<text text-anchor=\"middle\" x=\"768.5\" y=\"-230.3\" font-family=\"'Fira Mono', 'Source Code Pro', 'Courier', monospace\" font-size=\"14.00\" fill=\"#0060a0\">&lt;letter&gt;</text>\n",
       "</g>\n",
       "<!-- 41&#45;&gt;42 -->\n",
       "<g id=\"edge42\" class=\"edge\">\n",
       "<title>41&#45;&gt;42</title>\n",
       "<path fill=\"none\" stroke=\"black\" d=\"M768.5,-287.7C768.5,-280.41 768.5,-271.73 768.5,-263.54\"/>\n",
       "<polygon fill=\"black\" stroke=\"black\" points=\"772,-263.62 768.5,-253.62 765,-263.62 772,-263.62\"/>\n",
       "</g>\n",
       "<!-- 43 -->\n",
       "<g id=\"node44\" class=\"node\">\n",
       "<title>43</title>\n",
       "<polygon fill=\"none\" stroke=\"white\" points=\"836.5,-180 782.5,-180 782.5,-144 836.5,-144 836.5,-180\"/>\n",
       "<text text-anchor=\"middle\" x=\"809.5\" y=\"-158.3\" font-family=\"'Fira Mono', 'Source Code Pro', 'Courier', monospace\" font-size=\"14.00\" fill=\"#00a060\">f</text>\n",
       "</g>\n",
       "<!-- 42&#45;&gt;43 -->\n",
       "<g id=\"edge43\" class=\"edge\">\n",
       "<title>42&#45;&gt;43</title>\n",
       "<path fill=\"none\" stroke=\"black\" d=\"M778.63,-215.7C783.2,-207.9 788.7,-198.51 793.79,-189.83\"/>\n",
       "<polygon fill=\"black\" stroke=\"black\" points=\"796.68,-191.81 798.72,-181.41 790.64,-188.27 796.68,-191.81\"/>\n",
       "</g>\n",
       "<!-- 45 -->\n",
       "<g id=\"node46\" class=\"node\">\n",
       "<title>45</title>\n",
       "<polygon fill=\"none\" stroke=\"white\" points=\"874.5,-252 820.5,-252 820.5,-216 874.5,-216 874.5,-252\"/>\n",
       "<text text-anchor=\"middle\" x=\"847.5\" y=\"-230.3\" font-family=\"'Fira Mono', 'Source Code Pro', 'Courier', monospace\" font-size=\"14.00\" fill=\"#00a060\">o</text>\n",
       "</g>\n",
       "<!-- 44&#45;&gt;45 -->\n",
       "<g id=\"edge45\" class=\"edge\">\n",
       "<title>44&#45;&gt;45</title>\n",
       "<path fill=\"none\" stroke=\"black\" d=\"M847.5,-287.7C847.5,-280.41 847.5,-271.73 847.5,-263.54\"/>\n",
       "<polygon fill=\"black\" stroke=\"black\" points=\"851,-263.62 847.5,-253.62 844,-263.62 851,-263.62\"/>\n",
       "</g>\n",
       "<!-- 47 -->\n",
       "<g id=\"node48\" class=\"node\">\n",
       "<title>47</title>\n",
       "<polygon fill=\"none\" stroke=\"white\" points=\"953.5,-324 899.5,-324 899.5,-288 953.5,-288 953.5,-324\"/>\n",
       "<text text-anchor=\"middle\" x=\"926.5\" y=\"-302.3\" font-family=\"'Fira Mono', 'Source Code Pro', 'Courier', monospace\" font-size=\"14.00\" fill=\"#00a060\">o</text>\n",
       "</g>\n",
       "<!-- 46&#45;&gt;47 -->\n",
       "<g id=\"edge47\" class=\"edge\">\n",
       "<title>46&#45;&gt;47</title>\n",
       "<path fill=\"none\" stroke=\"black\" d=\"M896.39,-359.7C900.84,-351.9 906.21,-342.51 911.17,-333.83\"/>\n",
       "<polygon fill=\"black\" stroke=\"black\" points=\"914.05,-335.84 915.98,-325.42 907.97,-332.36 914.05,-335.84\"/>\n",
       "</g>\n",
       "<!-- 49 -->\n",
       "<g id=\"node50\" class=\"node\">\n",
       "<title>49</title>\n",
       "<polygon fill=\"none\" stroke=\"white\" points=\"992.5,-396 938.5,-396 938.5,-360 992.5,-360 992.5,-396\"/>\n",
       "<text text-anchor=\"middle\" x=\"965.5\" y=\"-374.3\" font-family=\"'Fira Mono', 'Source Code Pro', 'Courier', monospace\" font-size=\"14.00\" fill=\"#00a060\">&gt;</text>\n",
       "</g>\n",
       "<!-- 48&#45;&gt;49 -->\n",
       "<g id=\"edge49\" class=\"edge\">\n",
       "<title>48&#45;&gt;49</title>\n",
       "<path fill=\"none\" stroke=\"black\" d=\"M948.94,-431.7C951.28,-424.24 954.08,-415.32 956.71,-406.97\"/>\n",
       "<polygon fill=\"black\" stroke=\"black\" points=\"960.01,-408.14 959.67,-397.55 953.33,-406.04 960.01,-408.14\"/>\n",
       "</g>\n",
       "</g>\n",
       "</svg>\n"
      ],
      "text/plain": [
       "<graphviz.graphs.Digraph at 0x1113d45b0>"
      ]
     },
     "execution_count": 37,
     "metadata": {},
     "output_type": "execute_result"
    }
   ],
   "source": [
    "display_tree(bad_input_tree)"
   ]
  },
  {
   "cell_type": "markdown",
   "metadata": {
    "slideshow": {
     "slide_type": "subslide"
    }
   },
   "source": [
    "This derivation tree has the same structure as the one created from our `GrammarFuzzer` above. We see how the `<tagged-text>` is composed of three elements:\n",
    "\n",
    "1. an`<opening-tag>` (`<foo>`);\n",
    "2. a `<html>` element which becomes `<plain-text>` (`\"bar`); and\n",
    "3. a `<closing-tag>` (`</foo>`)."
   ]
  },
  {
   "cell_type": "markdown",
   "metadata": {
    "slideshow": {
     "slide_type": "fragment"
    }
   },
   "source": [
    "We can easily turn the tree back into a string. The method `tree_to_string()` traverses the tree left-to-right and joins all nonterminal symbols."
   ]
  },
  {
   "cell_type": "code",
   "execution_count": 38,
   "metadata": {
    "execution": {
     "iopub.execute_input": "2023-02-11T10:05:28.885793Z",
     "iopub.status.busy": "2023-02-11T10:05:28.885094Z",
     "iopub.status.idle": "2023-02-11T10:05:28.886846Z",
     "shell.execute_reply": "2023-02-11T10:05:28.887225Z"
    },
    "slideshow": {
     "slide_type": "skip"
    }
   },
   "outputs": [],
   "source": [
    "from fuzzingbook.GrammarFuzzer import tree_to_string, all_terminals"
   ]
  },
  {
   "cell_type": "code",
   "execution_count": 39,
   "metadata": {
    "execution": {
     "iopub.execute_input": "2023-02-11T10:05:28.892131Z",
     "iopub.status.busy": "2023-02-11T10:05:28.891568Z",
     "iopub.status.idle": "2023-02-11T10:05:28.894189Z",
     "shell.execute_reply": "2023-02-11T10:05:28.894536Z"
    },
    "slideshow": {
     "slide_type": "fragment"
    }
   },
   "outputs": [
    {
     "data": {
      "text/plain": [
       "'<foo>\"bar</foo>'"
      ]
     },
     "execution_count": 39,
     "metadata": {},
     "output_type": "execute_result"
    }
   ],
   "source": [
    "tree_to_string(bad_input_tree)"
   ]
  },
  {
   "cell_type": "code",
   "execution_count": 40,
   "metadata": {
    "execution": {
     "iopub.execute_input": "2023-02-11T10:05:28.897142Z",
     "iopub.status.busy": "2023-02-11T10:05:28.896689Z",
     "iopub.status.idle": "2023-02-11T10:05:28.897941Z",
     "shell.execute_reply": "2023-02-11T10:05:28.898307Z"
    },
    "slideshow": {
     "slide_type": "fragment"
    }
   },
   "outputs": [],
   "source": [
    "assert tree_to_string(bad_input_tree) == BAD_INPUT"
   ]
  },
  {
   "cell_type": "markdown",
   "metadata": {
    "slideshow": {
     "slide_type": "subslide"
    }
   },
   "source": [
    "With this, we can now\n",
    "\n",
    "* parse an input into a tree structure;\n",
    "* (re-)create parts of the tree structure; and\n",
    "* turn the tree back into an input string."
   ]
  },
  {
   "cell_type": "markdown",
   "metadata": {
    "slideshow": {
     "slide_type": "slide"
    }
   },
   "source": [
    "## Mutating the Tree\n",
    "\n",
    "We introduce a class `TreeMutator` that is set to mutate a tree. Its constructor takes a grammar and a tree."
   ]
  },
  {
   "cell_type": "code",
   "execution_count": 41,
   "metadata": {
    "execution": {
     "iopub.execute_input": "2023-02-11T10:05:28.901834Z",
     "iopub.status.busy": "2023-02-11T10:05:28.901171Z",
     "iopub.status.idle": "2023-02-11T10:05:28.902993Z",
     "shell.execute_reply": "2023-02-11T10:05:28.903527Z"
    },
    "slideshow": {
     "slide_type": "skip"
    }
   },
   "outputs": [],
   "source": [
    "from fuzzingbook.Grammars import is_valid_grammar"
   ]
  },
  {
   "cell_type": "code",
   "execution_count": 42,
   "metadata": {
    "execution": {
     "iopub.execute_input": "2023-02-11T10:05:28.906935Z",
     "iopub.status.busy": "2023-02-11T10:05:28.906424Z",
     "iopub.status.idle": "2023-02-11T10:05:28.908106Z",
     "shell.execute_reply": "2023-02-11T10:05:28.908347Z"
    },
    "slideshow": {
     "slide_type": "subslide"
    }
   },
   "outputs": [],
   "source": [
    "class TreeMutator:\n",
    "    \"\"\"Grammar-based mutations of derivation trees.\"\"\"\n",
    "\n",
    "    def __init__(self, grammar: Grammar, tree: DerivationTree,\n",
    "                 fuzzer: Optional[GrammarFuzzer] = None, log: Union[bool, int] = False):\n",
    "        \"\"\"\n",
    "        Constructor. \n",
    "        `grammar` is the underlying grammar; \n",
    "        `tree` is the tree to work on.\n",
    "        `fuzzer` is the grammar fuzzer to use (default: `GrammarFuzzer`)\n",
    "        \"\"\"\n",
    "\n",
    "        assert is_valid_grammar(grammar)\n",
    "        self.grammar = grammar\n",
    "        self.tree = tree\n",
    "        self.log = log\n",
    "\n",
    "        if fuzzer is None:\n",
    "            fuzzer = GrammarFuzzer(grammar)\n",
    "\n",
    "        self.fuzzer = fuzzer"
   ]
  },
  {
   "cell_type": "markdown",
   "metadata": {
    "slideshow": {
     "slide_type": "subslide"
    }
   },
   "source": [
    "### Referencing Subtrees"
   ]
  },
  {
   "cell_type": "markdown",
   "metadata": {
    "slideshow": {
     "slide_type": "fragment"
    }
   },
   "source": [
    "To reference individual elements in the tree, we introduce the concept of a _path_. A path is a list of numbers indicating the children (starting with 0) we should follow. A path `[0, 0, 0, ..., 0]` stands for the leftmost child in a tree."
   ]
  },
  {
   "cell_type": "code",
   "execution_count": 43,
   "metadata": {
    "execution": {
     "iopub.execute_input": "2023-02-11T10:05:28.910509Z",
     "iopub.status.busy": "2023-02-11T10:05:28.910184Z",
     "iopub.status.idle": "2023-02-11T10:05:28.911406Z",
     "shell.execute_reply": "2023-02-11T10:05:28.911594Z"
    },
    "slideshow": {
     "slide_type": "fragment"
    }
   },
   "outputs": [],
   "source": [
    "TreePath = List[int]"
   ]
  },
  {
   "cell_type": "markdown",
   "metadata": {
    "slideshow": {
     "slide_type": "fragment"
    }
   },
   "source": [
    "The method `get_subtree()` returns the subtree for a given path."
   ]
  },
  {
   "cell_type": "code",
   "execution_count": 44,
   "metadata": {
    "execution": {
     "iopub.execute_input": "2023-02-11T10:05:28.914037Z",
     "iopub.status.busy": "2023-02-11T10:05:28.913707Z",
     "iopub.status.idle": "2023-02-11T10:05:28.916221Z",
     "shell.execute_reply": "2023-02-11T10:05:28.917124Z"
    },
    "slideshow": {
     "slide_type": "subslide"
    }
   },
   "outputs": [],
   "source": [
    "class TreeMutator(TreeMutator):\n",
    "    def get_subtree(self, path: TreePath, tree: Optional[DerivationTree] = None) -> DerivationTree:\n",
    "        \"\"\"Access a subtree based on `path` (a list of children numbers)\"\"\"\n",
    "        if tree is None:\n",
    "            tree = self.tree\n",
    "\n",
    "        symbol, children = tree\n",
    "\n",
    "        if not path or children is None:\n",
    "            return tree\n",
    "\n",
    "        return self.get_subtree(path[1:], children[path[0]])"
   ]
  },
  {
   "cell_type": "markdown",
   "metadata": {
    "slideshow": {
     "slide_type": "subslide"
    }
   },
   "source": [
    "Here's `get_subtree()` in action. We instantiate a `TreeMutator` on the `BAD_INPUT` tree as shown above and return the element at the path `[0, 0, 1, 0]` – i.e. follow the leftmost edge twice, than the second-to-leftmost edge, then the leftmost edge again. This gives us the `<plain-text>` subtree representing the string `\"bar`:"
   ]
  },
  {
   "cell_type": "code",
   "execution_count": 45,
   "metadata": {
    "execution": {
     "iopub.execute_input": "2023-02-11T10:05:28.920980Z",
     "iopub.status.busy": "2023-02-11T10:05:28.920577Z",
     "iopub.status.idle": "2023-02-11T10:05:28.922330Z",
     "shell.execute_reply": "2023-02-11T10:05:28.922733Z"
    },
    "slideshow": {
     "slide_type": "fragment"
    }
   },
   "outputs": [],
   "source": [
    "def bad_input_tree_mutator() -> TreeMutator:\n",
    "    return TreeMutator(SIMPLE_HTML_GRAMMAR, bad_input_tree, log=2)    "
   ]
  },
  {
   "cell_type": "code",
   "execution_count": 46,
   "metadata": {
    "execution": {
     "iopub.execute_input": "2023-02-11T10:05:28.925527Z",
     "iopub.status.busy": "2023-02-11T10:05:28.925124Z",
     "iopub.status.idle": "2023-02-11T10:05:28.926426Z",
     "shell.execute_reply": "2023-02-11T10:05:28.926767Z"
    },
    "slideshow": {
     "slide_type": "fragment"
    }
   },
   "outputs": [
    {
     "name": "stdout",
     "output_type": "stream",
     "text": [
      "('<plain-text>',\n",
      " [('<plain-char>', [('<other>', [('\"', [])])]),\n",
      "  ('<plain-text>',\n",
      "   [('<plain-char>', [('<letter>', [...])]),\n",
      "    ('<plain-text>', [('<plain-char>', [...]), ('<plain-text>', [...])])])])\n"
     ]
    }
   ],
   "source": [
    "plain_text_subtree = bad_input_tree_mutator().get_subtree([0, 0, 1, 0])\n",
    "pp.pprint(plain_text_subtree)"
   ]
  },
  {
   "cell_type": "code",
   "execution_count": 47,
   "metadata": {
    "execution": {
     "iopub.execute_input": "2023-02-11T10:05:28.929018Z",
     "iopub.status.busy": "2023-02-11T10:05:28.928120Z",
     "iopub.status.idle": "2023-02-11T10:05:28.931144Z",
     "shell.execute_reply": "2023-02-11T10:05:28.931567Z"
    },
    "slideshow": {
     "slide_type": "subslide"
    }
   },
   "outputs": [
    {
     "data": {
      "text/plain": [
       "'\"bar'"
      ]
     },
     "execution_count": 47,
     "metadata": {},
     "output_type": "execute_result"
    }
   ],
   "source": [
    "tree_to_string(plain_text_subtree)"
   ]
  },
  {
   "cell_type": "code",
   "execution_count": 48,
   "metadata": {
    "execution": {
     "iopub.execute_input": "2023-02-11T10:05:28.934526Z",
     "iopub.status.busy": "2023-02-11T10:05:28.934173Z",
     "iopub.status.idle": "2023-02-11T10:05:28.935435Z",
     "shell.execute_reply": "2023-02-11T10:05:28.935710Z"
    },
    "slideshow": {
     "slide_type": "subslide"
    }
   },
   "outputs": [],
   "source": [
    "# ignore\n",
    "def primes_generator() -> Generator[int, None, None]:\n",
    "    # Adapted from https://www.python.org/ftp/python/doc/nluug-paper.ps\n",
    "    primes = [2]\n",
    "    yield 2\n",
    "    i = 3\n",
    "    while True:\n",
    "        for p in primes:\n",
    "            if i % p == 0 or p * p > i:\n",
    "                break\n",
    "\n",
    "        if i % p != 0:\n",
    "            primes.append(i)\n",
    "            yield i\n",
    "\n",
    "        i += 2"
   ]
  },
  {
   "cell_type": "code",
   "execution_count": 49,
   "metadata": {
    "execution": {
     "iopub.execute_input": "2023-02-11T10:05:28.937589Z",
     "iopub.status.busy": "2023-02-11T10:05:28.937246Z",
     "iopub.status.idle": "2023-02-11T10:05:28.938545Z",
     "shell.execute_reply": "2023-02-11T10:05:28.938790Z"
    },
    "slideshow": {
     "slide_type": "subslide"
    }
   },
   "outputs": [],
   "source": [
    "# ignore\n",
    "prime_numbers = primes_generator()"
   ]
  },
  {
   "cell_type": "code",
   "execution_count": 50,
   "metadata": {
    "execution": {
     "iopub.execute_input": "2023-02-11T10:05:28.946889Z",
     "iopub.status.busy": "2023-02-11T10:05:28.946378Z",
     "iopub.status.idle": "2023-02-11T10:05:28.949397Z",
     "shell.execute_reply": "2023-02-11T10:05:28.949886Z"
    },
    "slideshow": {
     "slide_type": "fragment"
    }
   },
   "outputs": [
    {
     "data": {
      "text/html": [
       "\n",
       "    \n",
       "    <script>\n",
       "    var bad_answers = new Map();\n",
       "\n",
       "    function answer(quiz_id) {\n",
       "        ans = 0;\n",
       "        for (i = 1;; i++) {\n",
       "            checkbox = document.getElementById(quiz_id + \"-\" + i.toString());\n",
       "            if (!checkbox)\n",
       "                break;\n",
       "            if (checkbox.checked)\n",
       "                ans |= (1 << i);\n",
       "        }\n",
       "        return ans;\n",
       "    }\n",
       "    function check_selection(quiz_id, correct_answer, multiple_choice, hint) {\n",
       "        given_answer = answer(quiz_id);\n",
       "        if (given_answer == correct_answer)\n",
       "        {\n",
       "            document.getElementById(quiz_id + \"-submit\").value = \"Correct!\";\n",
       "            document.getElementById(quiz_id + \"-hint\").innerHTML = \"\";\n",
       "\n",
       "            for (i = 1;; i++) {\n",
       "                checkbox = document.getElementById(quiz_id + \"-\" + i.toString());\n",
       "                label = document.getElementById(quiz_id + \"-\" + i.toString() + \"-label\")\n",
       "                if (!checkbox)\n",
       "                    break;\n",
       "    \n",
       "                if (checkbox.checked) {\n",
       "                    label.style.fontWeight = \"bold\";\n",
       "                }\n",
       "                else {\n",
       "                    label.style.textDecoration = \"line-through\";\n",
       "                }\n",
       "            }\n",
       "        }\n",
       "        else \n",
       "        {\n",
       "            document.getElementById(quiz_id + \"-submit\").value = \"Try again\";\n",
       "            \n",
       "            if (!bad_answers.has(quiz_id)) {\n",
       "                bad_answers.set(quiz_id, 1);\n",
       "            }\n",
       "            else {\n",
       "                bad_answers.set(quiz_id, bad_answers.get(quiz_id) + 1);\n",
       "            }\n",
       "\n",
       "            if (bad_answers.get(quiz_id) >= 2 && hint.length > 0) {\n",
       "                document.getElementById(quiz_id + \"-hint\").innerHTML = \n",
       "                    \"&nbsp;&nbsp;(Hint: <code>\" + hint + \"</code>)\";\n",
       "            }\n",
       "\n",
       "            if (!multiple_choice) {\n",
       "                for (i = 1;; i++) {\n",
       "                    checkbox = document.getElementById(quiz_id + \"-\" + i.toString());\n",
       "                    label = document.getElementById(quiz_id + \"-\" + i.toString() + \"-label\")\n",
       "\n",
       "                    if (!checkbox)\n",
       "                        break;\n",
       "                    if (checkbox.checked) {\n",
       "                        label.style.textDecoration = \"line-through\";\n",
       "                    }\n",
       "                }\n",
       "            }\n",
       "        }\n",
       "    }\n",
       "    function clear_selection(quiz_id) {\n",
       "        document.getElementById(quiz_id + \"-submit\").value = \"Submit\";\n",
       "        document.getElementById(quiz_id + \"-hint\").innerHTML = \"\";\n",
       "    }\n",
       "    </script>\n",
       "    \n",
       "    <div class=\"quiz\">\n",
       "    <h3 class=\"quiz_title\">Quiz</h3>\n",
       "    <p>\n",
       "    <div class=\"quiz_question\">In <code>bad_input_tree</code>, what is  the subtree at the path <code>[0, 0, 2, 1]</code> as string?</div>\n",
       "    </p>\n",
       "    <p>\n",
       "    <div class=\"quiz_options\" title=\"Pick a choice.\">\n",
       "    \n",
       "        <input type=\"radio\" name=\"9cb207ae-a9f3-11ed-bdd5-6298cf1a578f\" id=\"9cb207ae-a9f3-11ed-bdd5-6298cf1a578f-1\" onclick=\"clear_selection('9cb207ae-a9f3-11ed-bdd5-6298cf1a578f')\">\n",
       "        <label id=\"9cb207ae-a9f3-11ed-bdd5-6298cf1a578f-1-label\" for=\"9cb207ae-a9f3-11ed-bdd5-6298cf1a578f-1\"><code>&lt;</code></label><br>\n",
       "    \n",
       "        <input type=\"radio\" name=\"9cb207ae-a9f3-11ed-bdd5-6298cf1a578f\" id=\"9cb207ae-a9f3-11ed-bdd5-6298cf1a578f-2\" onclick=\"clear_selection('9cb207ae-a9f3-11ed-bdd5-6298cf1a578f')\">\n",
       "        <label id=\"9cb207ae-a9f3-11ed-bdd5-6298cf1a578f-2-label\" for=\"9cb207ae-a9f3-11ed-bdd5-6298cf1a578f-2\"><code>/</code></label><br>\n",
       "    \n",
       "        <input type=\"radio\" name=\"9cb207ae-a9f3-11ed-bdd5-6298cf1a578f\" id=\"9cb207ae-a9f3-11ed-bdd5-6298cf1a578f-3\" onclick=\"clear_selection('9cb207ae-a9f3-11ed-bdd5-6298cf1a578f')\">\n",
       "        <label id=\"9cb207ae-a9f3-11ed-bdd5-6298cf1a578f-3-label\" for=\"9cb207ae-a9f3-11ed-bdd5-6298cf1a578f-3\"><code>&lt;/foo&gt;</code></label><br>\n",
       "    \n",
       "        <input type=\"radio\" name=\"9cb207ae-a9f3-11ed-bdd5-6298cf1a578f\" id=\"9cb207ae-a9f3-11ed-bdd5-6298cf1a578f-4\" onclick=\"clear_selection('9cb207ae-a9f3-11ed-bdd5-6298cf1a578f')\">\n",
       "        <label id=\"9cb207ae-a9f3-11ed-bdd5-6298cf1a578f-4-label\" for=\"9cb207ae-a9f3-11ed-bdd5-6298cf1a578f-4\"><code>&lt;foo&gt;</code></label><br>\n",
       "    \n",
       "    </div>\n",
       "    </p>\n",
       "    <input id=\"9cb207ae-a9f3-11ed-bdd5-6298cf1a578f-submit\" type=\"submit\" value=\"Submit\" onclick=\"check_selection('9cb207ae-a9f3-11ed-bdd5-6298cf1a578f', 4, 0, 'next(prime_numbers)')\">\n",
       "    <span class=\"quiz_hint\" id=\"9cb207ae-a9f3-11ed-bdd5-6298cf1a578f-hint\"></span>\n",
       "    </div>\n",
       "    "
      ],
      "text/plain": [
       "<IPython.core.display.HTML object>"
      ]
     },
     "execution_count": 50,
     "metadata": {},
     "output_type": "execute_result"
    }
   ],
   "source": [
    "quiz(\"In `bad_input_tree`, what is \"\n",
    "     \" the subtree at the path `[0, 0, 2, 1]` as string?\", \n",
    "    [\n",
    "        f\"`{tree_to_string(bad_input_tree_mutator().get_subtree([0, 0, 2, 0]))}`\",\n",
    "        f\"`{tree_to_string(bad_input_tree_mutator().get_subtree([0, 0, 2, 1]))}`\",\n",
    "        f\"`{tree_to_string(bad_input_tree_mutator().get_subtree([0, 0, 2]))}`\",\n",
    "        f\"`{tree_to_string(bad_input_tree_mutator().get_subtree([0, 0, 0]))}`\",\n",
    "    ], 'next(prime_numbers)', globals()\n",
    "    )"
   ]
  },
  {
   "cell_type": "markdown",
   "metadata": {
    "slideshow": {
     "slide_type": "subslide"
    }
   },
   "source": [
    "### Creating new Subtrees\n",
    "\n",
    "The method `new_tree()` creates a new subtree for the given `<start_symbol>` according to the rules of the grammar. It invokes `expand_tree()` on the given `GrammarFuzzer` – a method that takes an initial (empty) tree and expands it until no more expansions are left."
   ]
  },
  {
   "cell_type": "code",
   "execution_count": 51,
   "metadata": {
    "execution": {
     "iopub.execute_input": "2023-02-11T10:05:28.957107Z",
     "iopub.status.busy": "2023-02-11T10:05:28.956657Z",
     "iopub.status.idle": "2023-02-11T10:05:28.958153Z",
     "shell.execute_reply": "2023-02-11T10:05:28.958518Z"
    },
    "slideshow": {
     "slide_type": "subslide"
    }
   },
   "outputs": [],
   "source": [
    "class TreeMutator(TreeMutator):\n",
    "    def new_tree(self, start_symbol: str) -> DerivationTree:\n",
    "        \"\"\"Create a new subtree for <start_symbol>.\"\"\"\n",
    "\n",
    "        if self.log >= 2:\n",
    "            print(f\"Creating new tree for {start_symbol}\")\n",
    "\n",
    "        tree = (start_symbol, None)\n",
    "        return self.fuzzer.expand_tree(tree)"
   ]
  },
  {
   "cell_type": "markdown",
   "metadata": {
    "slideshow": {
     "slide_type": "fragment"
    }
   },
   "source": [
    "Here is an example of `new_tree()`:"
   ]
  },
  {
   "cell_type": "code",
   "execution_count": 52,
   "metadata": {
    "execution": {
     "iopub.execute_input": "2023-02-11T10:05:28.965847Z",
     "iopub.status.busy": "2023-02-11T10:05:28.964767Z",
     "iopub.status.idle": "2023-02-11T10:05:29.310886Z",
     "shell.execute_reply": "2023-02-11T10:05:29.311164Z"
    },
    "slideshow": {
     "slide_type": "fragment"
    }
   },
   "outputs": [
    {
     "name": "stdout",
     "output_type": "stream",
     "text": [
      "Creating new tree for <plain-text>\n"
     ]
    },
    {
     "data": {
      "image/svg+xml": [
       "<?xml version=\"1.0\" encoding=\"UTF-8\" standalone=\"no\"?>\n",
       "<!DOCTYPE svg PUBLIC \"-//W3C//DTD SVG 1.1//EN\"\n",
       " \"http://www.w3.org/Graphics/SVG/1.1/DTD/svg11.dtd\">\n",
       "<!-- Generated by graphviz version 7.0.2 (20221119.0110)\n",
       " -->\n",
       "<!-- Pages: 1 -->\n",
       "<svg width=\"108pt\" height=\"116pt\"\n",
       " viewBox=\"0.00 0.00 108.00 116.00\" xmlns=\"http://www.w3.org/2000/svg\" xmlns:xlink=\"http://www.w3.org/1999/xlink\">\n",
       "<g id=\"graph0\" class=\"graph\" transform=\"scale(1 1) rotate(0) translate(4 112)\">\n",
       "<polygon fill=\"white\" stroke=\"none\" points=\"-4,4 -4,-112 104,-112 104,4 -4,4\"/>\n",
       "<!-- 0 -->\n",
       "<g id=\"node1\" class=\"node\">\n",
       "<title>0</title>\n",
       "<polygon fill=\"none\" stroke=\"white\" points=\"100,-108 0,-108 0,-72 100,-72 100,-108\"/>\n",
       "<text text-anchor=\"middle\" x=\"50\" y=\"-86.3\" font-family=\"'Fira Mono', 'Source Code Pro', 'Courier', monospace\" font-size=\"14.00\" fill=\"#0060a0\">&lt;plain&#45;text&gt;</text>\n",
       "</g>\n",
       "<!-- 1 -->\n",
       "<g id=\"node2\" class=\"node\">\n",
       "<title>1</title>\n",
       "<polygon fill=\"none\" stroke=\"white\" points=\"77,-36 23,-36 23,0 77,0 77,-36\"/>\n",
       "</g>\n",
       "<!-- 0&#45;&gt;1 -->\n",
       "<g id=\"edge1\" class=\"edge\">\n",
       "<title>0&#45;&gt;1</title>\n",
       "<path fill=\"none\" stroke=\"black\" d=\"M50,-71.7C50,-64.41 50,-55.73 50,-47.54\"/>\n",
       "<polygon fill=\"black\" stroke=\"black\" points=\"53.5,-47.62 50,-37.62 46.5,-47.62 53.5,-47.62\"/>\n",
       "</g>\n",
       "</g>\n",
       "</svg>\n"
      ],
      "text/plain": [
       "<graphviz.graphs.Digraph at 0x1113142e0>"
      ]
     },
     "execution_count": 52,
     "metadata": {},
     "output_type": "execute_result"
    }
   ],
   "source": [
    "plain_text_tree = cast(TreeMutator, bad_input_tree_mutator()).new_tree('<plain-text>')\n",
    "display_tree(plain_text_tree)"
   ]
  },
  {
   "cell_type": "code",
   "execution_count": 53,
   "metadata": {
    "execution": {
     "iopub.execute_input": "2023-02-11T10:05:29.314076Z",
     "iopub.status.busy": "2023-02-11T10:05:29.313683Z",
     "iopub.status.idle": "2023-02-11T10:05:29.315577Z",
     "shell.execute_reply": "2023-02-11T10:05:29.316031Z"
    },
    "slideshow": {
     "slide_type": "subslide"
    }
   },
   "outputs": [
    {
     "data": {
      "text/plain": [
       "''"
      ]
     },
     "execution_count": 53,
     "metadata": {},
     "output_type": "execute_result"
    }
   ],
   "source": [
    "tree_to_string(plain_text_tree)"
   ]
  },
  {
   "cell_type": "markdown",
   "metadata": {
    "slideshow": {
     "slide_type": "subslide"
    }
   },
   "source": [
    "### Mutating the Tree\n",
    "\n",
    "With us now being able to \n",
    "* access a particular path in the tree (`get_subtree()`) and\n",
    "* create a new subtree (`new_tree()`),\n",
    "\n",
    "we can mutate the tree at a given path. This is the task of `mutate()`."
   ]
  },
  {
   "cell_type": "code",
   "execution_count": 54,
   "metadata": {
    "execution": {
     "iopub.execute_input": "2023-02-11T10:05:29.321005Z",
     "iopub.status.busy": "2023-02-11T10:05:29.320347Z",
     "iopub.status.idle": "2023-02-11T10:05:29.326292Z",
     "shell.execute_reply": "2023-02-11T10:05:29.326827Z"
    },
    "slideshow": {
     "slide_type": "subslide"
    }
   },
   "outputs": [],
   "source": [
    "class TreeMutator(TreeMutator):\n",
    "    def mutate(self, path: TreePath, tree: Optional[DerivationTree] = None) -> DerivationTree:\n",
    "        \"\"\"Return a new tree mutated at `path`\"\"\"\n",
    "        if tree is None:\n",
    "            tree = self.tree\n",
    "        assert tree is not None\n",
    "\n",
    "        symbol, children = tree\n",
    "\n",
    "        if not path or children is None:\n",
    "            return self.new_tree(symbol)\n",
    "\n",
    "        head = path[0]\n",
    "        new_children = (children[:head] +\n",
    "                        [self.mutate(path[1:], children[head])] +\n",
    "                        children[head + 1:])\n",
    "        return symbol, new_children"
   ]
  },
  {
   "cell_type": "markdown",
   "metadata": {
    "slideshow": {
     "slide_type": "subslide"
    }
   },
   "source": [
    "Here is an example of `mutate()` in action. We mutate `bad_input_tree` at the path `[0, 0, 1, 0]` – that is, `<plain-text>`:"
   ]
  },
  {
   "cell_type": "code",
   "execution_count": 55,
   "metadata": {
    "execution": {
     "iopub.execute_input": "2023-02-11T10:05:29.335129Z",
     "iopub.status.busy": "2023-02-11T10:05:29.334084Z",
     "iopub.status.idle": "2023-02-11T10:05:29.691612Z",
     "shell.execute_reply": "2023-02-11T10:05:29.692709Z"
    },
    "slideshow": {
     "slide_type": "fragment"
    }
   },
   "outputs": [
    {
     "name": "stdout",
     "output_type": "stream",
     "text": [
      "Creating new tree for <plain-text>\n"
     ]
    },
    {
     "data": {
      "image/svg+xml": [
       "<?xml version=\"1.0\" encoding=\"UTF-8\" standalone=\"no\"?>\n",
       "<!DOCTYPE svg PUBLIC \"-//W3C//DTD SVG 1.1//EN\"\n",
       " \"http://www.w3.org/Graphics/SVG/1.1/DTD/svg11.dtd\">\n",
       "<!-- Generated by graphviz version 7.0.2 (20221119.0110)\n",
       " -->\n",
       "<!-- Pages: 1 -->\n",
       "<svg width=\"844pt\" height=\"620pt\"\n",
       " viewBox=\"0.00 0.00 843.50 620.00\" xmlns=\"http://www.w3.org/2000/svg\" xmlns:xlink=\"http://www.w3.org/1999/xlink\">\n",
       "<g id=\"graph0\" class=\"graph\" transform=\"scale(1 1) rotate(0) translate(4 616)\">\n",
       "<polygon fill=\"white\" stroke=\"none\" points=\"-4,4 -4,-616 839.5,-616 839.5,4 -4,4\"/>\n",
       "<!-- 0 -->\n",
       "<g id=\"node1\" class=\"node\">\n",
       "<title>0</title>\n",
       "<polygon fill=\"none\" stroke=\"white\" points=\"413.5,-612 355.5,-612 355.5,-576 413.5,-576 413.5,-612\"/>\n",
       "<text text-anchor=\"middle\" x=\"384.5\" y=\"-590.3\" font-family=\"'Fira Mono', 'Source Code Pro', 'Courier', monospace\" font-size=\"14.00\" fill=\"#0060a0\">&lt;start&gt;</text>\n",
       "</g>\n",
       "<!-- 1 -->\n",
       "<g id=\"node2\" class=\"node\">\n",
       "<title>1</title>\n",
       "<polygon fill=\"none\" stroke=\"white\" points=\"411.5,-540 357.5,-540 357.5,-504 411.5,-504 411.5,-540\"/>\n",
       "<text text-anchor=\"middle\" x=\"384.5\" y=\"-518.3\" font-family=\"'Fira Mono', 'Source Code Pro', 'Courier', monospace\" font-size=\"14.00\" fill=\"#0060a0\">&lt;html&gt;</text>\n",
       "</g>\n",
       "<!-- 0&#45;&gt;1 -->\n",
       "<g id=\"edge1\" class=\"edge\">\n",
       "<title>0&#45;&gt;1</title>\n",
       "<path fill=\"none\" stroke=\"black\" d=\"M384.5,-575.7C384.5,-568.41 384.5,-559.73 384.5,-551.54\"/>\n",
       "<polygon fill=\"black\" stroke=\"black\" points=\"388,-551.62 384.5,-541.62 381,-551.62 388,-551.62\"/>\n",
       "</g>\n",
       "<!-- 2 -->\n",
       "<g id=\"node3\" class=\"node\">\n",
       "<title>2</title>\n",
       "<polygon fill=\"none\" stroke=\"white\" points=\"438.5,-468 330.5,-468 330.5,-432 438.5,-432 438.5,-468\"/>\n",
       "<text text-anchor=\"middle\" x=\"384.5\" y=\"-446.3\" font-family=\"'Fira Mono', 'Source Code Pro', 'Courier', monospace\" font-size=\"14.00\" fill=\"#0060a0\">&lt;tagged&#45;text&gt;</text>\n",
       "</g>\n",
       "<!-- 1&#45;&gt;2 -->\n",
       "<g id=\"edge2\" class=\"edge\">\n",
       "<title>1&#45;&gt;2</title>\n",
       "<path fill=\"none\" stroke=\"black\" d=\"M384.5,-503.7C384.5,-496.41 384.5,-487.73 384.5,-479.54\"/>\n",
       "<polygon fill=\"black\" stroke=\"black\" points=\"388,-479.62 384.5,-469.62 381,-479.62 388,-479.62\"/>\n",
       "</g>\n",
       "<!-- 3 -->\n",
       "<g id=\"node4\" class=\"node\">\n",
       "<title>3</title>\n",
       "<polygon fill=\"none\" stroke=\"white\" points=\"302.5,-396 194.5,-396 194.5,-360 302.5,-360 302.5,-396\"/>\n",
       "<text text-anchor=\"middle\" x=\"248.5\" y=\"-374.3\" font-family=\"'Fira Mono', 'Source Code Pro', 'Courier', monospace\" font-size=\"14.00\" fill=\"#0060a0\">&lt;opening&#45;tag&gt;</text>\n",
       "</g>\n",
       "<!-- 2&#45;&gt;3 -->\n",
       "<g id=\"edge3\" class=\"edge\">\n",
       "<title>2&#45;&gt;3</title>\n",
       "<path fill=\"none\" stroke=\"black\" d=\"M350.53,-431.52C332.87,-422.43 311.09,-411.22 292.19,-401.49\"/>\n",
       "<polygon fill=\"black\" stroke=\"black\" points=\"293.87,-398.42 283.38,-396.95 290.67,-404.64 293.87,-398.42\"/>\n",
       "</g>\n",
       "<!-- 17 -->\n",
       "<g id=\"node18\" class=\"node\">\n",
       "<title>17</title>\n",
       "<polygon fill=\"none\" stroke=\"white\" points=\"411.5,-396 357.5,-396 357.5,-360 411.5,-360 411.5,-396\"/>\n",
       "<text text-anchor=\"middle\" x=\"384.5\" y=\"-374.3\" font-family=\"'Fira Mono', 'Source Code Pro', 'Courier', monospace\" font-size=\"14.00\" fill=\"#0060a0\">&lt;html&gt;</text>\n",
       "</g>\n",
       "<!-- 2&#45;&gt;17 -->\n",
       "<g id=\"edge17\" class=\"edge\">\n",
       "<title>2&#45;&gt;17</title>\n",
       "<path fill=\"none\" stroke=\"black\" d=\"M384.5,-431.7C384.5,-424.41 384.5,-415.73 384.5,-407.54\"/>\n",
       "<polygon fill=\"black\" stroke=\"black\" points=\"388,-407.62 384.5,-397.62 381,-407.62 388,-407.62\"/>\n",
       "</g>\n",
       "<!-- 24 -->\n",
       "<g id=\"node25\" class=\"node\">\n",
       "<title>24</title>\n",
       "<polygon fill=\"none\" stroke=\"white\" points=\"704.5,-396 596.5,-396 596.5,-360 704.5,-360 704.5,-396\"/>\n",
       "<text text-anchor=\"middle\" x=\"650.5\" y=\"-374.3\" font-family=\"'Fira Mono', 'Source Code Pro', 'Courier', monospace\" font-size=\"14.00\" fill=\"#0060a0\">&lt;closing&#45;tag&gt;</text>\n",
       "</g>\n",
       "<!-- 2&#45;&gt;24 -->\n",
       "<g id=\"edge24\" class=\"edge\">\n",
       "<title>2&#45;&gt;24</title>\n",
       "<path fill=\"none\" stroke=\"black\" d=\"M438.97,-434.67C481.29,-423.53 540.13,-408.05 585.01,-396.23\"/>\n",
       "<polygon fill=\"black\" stroke=\"black\" points=\"585.86,-399.63 594.64,-393.7 584.08,-392.86 585.86,-399.63\"/>\n",
       "</g>\n",
       "<!-- 4 -->\n",
       "<g id=\"node5\" class=\"node\">\n",
       "<title>4</title>\n",
       "<polygon fill=\"none\" stroke=\"white\" points=\"107.5,-324 53.5,-324 53.5,-288 107.5,-288 107.5,-324\"/>\n",
       "<text text-anchor=\"middle\" x=\"80.5\" y=\"-302.3\" font-family=\"'Fira Mono', 'Source Code Pro', 'Courier', monospace\" font-size=\"14.00\" fill=\"#0060a0\">&lt;lt&gt;</text>\n",
       "</g>\n",
       "<!-- 3&#45;&gt;4 -->\n",
       "<g id=\"edge4\" class=\"edge\">\n",
       "<title>3&#45;&gt;4</title>\n",
       "<path fill=\"none\" stroke=\"black\" d=\"M206.54,-359.52C179.38,-348.2 144.31,-333.59 118.06,-322.65\"/>\n",
       "<polygon fill=\"black\" stroke=\"black\" points=\"119.74,-319.56 109.16,-318.94 117.04,-326.02 119.74,-319.56\"/>\n",
       "</g>\n",
       "<!-- 6 -->\n",
       "<g id=\"node7\" class=\"node\">\n",
       "<title>6</title>\n",
       "<polygon fill=\"none\" stroke=\"white\" points=\"218.5,-324 164.5,-324 164.5,-288 218.5,-288 218.5,-324\"/>\n",
       "<text text-anchor=\"middle\" x=\"191.5\" y=\"-302.3\" font-family=\"'Fira Mono', 'Source Code Pro', 'Courier', monospace\" font-size=\"14.00\" fill=\"#0060a0\">&lt;id&gt;</text>\n",
       "</g>\n",
       "<!-- 3&#45;&gt;6 -->\n",
       "<g id=\"edge6\" class=\"edge\">\n",
       "<title>3&#45;&gt;6</title>\n",
       "<path fill=\"none\" stroke=\"black\" d=\"M234.41,-359.7C227.85,-351.64 219.91,-341.89 212.66,-332.98\"/>\n",
       "<polygon fill=\"black\" stroke=\"black\" points=\"215.41,-330.82 206.38,-325.28 209.98,-335.24 215.41,-330.82\"/>\n",
       "</g>\n",
       "<!-- 15 -->\n",
       "<g id=\"node16\" class=\"node\">\n",
       "<title>15</title>\n",
       "<polygon fill=\"none\" stroke=\"white\" points=\"294.5,-324 240.5,-324 240.5,-288 294.5,-288 294.5,-324\"/>\n",
       "<text text-anchor=\"middle\" x=\"267.5\" y=\"-302.3\" font-family=\"'Fira Mono', 'Source Code Pro', 'Courier', monospace\" font-size=\"14.00\" fill=\"#0060a0\">&lt;gt&gt;</text>\n",
       "</g>\n",
       "<!-- 3&#45;&gt;15 -->\n",
       "<g id=\"edge15\" class=\"edge\">\n",
       "<title>3&#45;&gt;15</title>\n",
       "<path fill=\"none\" stroke=\"black\" d=\"M253.2,-359.7C255.22,-352.24 257.64,-343.32 259.91,-334.97\"/>\n",
       "<polygon fill=\"black\" stroke=\"black\" points=\"263.22,-336.13 262.46,-325.57 256.46,-334.3 263.22,-336.13\"/>\n",
       "</g>\n",
       "<!-- 5 -->\n",
       "<g id=\"node6\" class=\"node\">\n",
       "<title>5</title>\n",
       "<polygon fill=\"none\" stroke=\"white\" points=\"67.5,-252 13.5,-252 13.5,-216 67.5,-216 67.5,-252\"/>\n",
       "<text text-anchor=\"middle\" x=\"40.5\" y=\"-230.3\" font-family=\"'Fira Mono', 'Source Code Pro', 'Courier', monospace\" font-size=\"14.00\" fill=\"#0060a0\">&lt;</text>\n",
       "</g>\n",
       "<!-- 4&#45;&gt;5 -->\n",
       "<g id=\"edge5\" class=\"edge\">\n",
       "<title>4&#45;&gt;5</title>\n",
       "<path fill=\"none\" stroke=\"black\" d=\"M70.61,-287.7C66.16,-279.9 60.79,-270.51 55.83,-261.83\"/>\n",
       "<polygon fill=\"black\" stroke=\"black\" points=\"59.03,-260.36 51.02,-253.42 52.95,-263.84 59.03,-260.36\"/>\n",
       "</g>\n",
       "<!-- 7 -->\n",
       "<g id=\"node8\" class=\"node\">\n",
       "<title>7</title>\n",
       "<polygon fill=\"none\" stroke=\"white\" points=\"139.5,-252 85.5,-252 85.5,-216 139.5,-216 139.5,-252\"/>\n",
       "<text text-anchor=\"middle\" x=\"112.5\" y=\"-230.3\" font-family=\"'Fira Mono', 'Source Code Pro', 'Courier', monospace\" font-size=\"14.00\" fill=\"#0060a0\">&lt;id&gt;</text>\n",
       "</g>\n",
       "<!-- 6&#45;&gt;7 -->\n",
       "<g id=\"edge7\" class=\"edge\">\n",
       "<title>6&#45;&gt;7</title>\n",
       "<path fill=\"none\" stroke=\"black\" d=\"M171.97,-287.7C162.48,-279.28 150.89,-269.02 140.48,-259.79\"/>\n",
       "<polygon fill=\"black\" stroke=\"black\" points=\"143.02,-257.36 133.21,-253.35 138.37,-262.6 143.02,-257.36\"/>\n",
       "</g>\n",
       "<!-- 13 -->\n",
       "<g id=\"node14\" class=\"node\">\n",
       "<title>13</title>\n",
       "<polygon fill=\"none\" stroke=\"white\" points=\"225,-252 158,-252 158,-216 225,-216 225,-252\"/>\n",
       "<text text-anchor=\"middle\" x=\"191.5\" y=\"-230.3\" font-family=\"'Fira Mono', 'Source Code Pro', 'Courier', monospace\" font-size=\"14.00\" fill=\"#0060a0\">&lt;letter&gt;</text>\n",
       "</g>\n",
       "<!-- 6&#45;&gt;13 -->\n",
       "<g id=\"edge13\" class=\"edge\">\n",
       "<title>6&#45;&gt;13</title>\n",
       "<path fill=\"none\" stroke=\"black\" d=\"M191.5,-287.7C191.5,-280.41 191.5,-271.73 191.5,-263.54\"/>\n",
       "<polygon fill=\"black\" stroke=\"black\" points=\"195,-263.62 191.5,-253.62 188,-263.62 195,-263.62\"/>\n",
       "</g>\n",
       "<!-- 8 -->\n",
       "<g id=\"node9\" class=\"node\">\n",
       "<title>8</title>\n",
       "<polygon fill=\"none\" stroke=\"white\" points=\"60.5,-180 6.5,-180 6.5,-144 60.5,-144 60.5,-180\"/>\n",
       "<text text-anchor=\"middle\" x=\"33.5\" y=\"-158.3\" font-family=\"'Fira Mono', 'Source Code Pro', 'Courier', monospace\" font-size=\"14.00\" fill=\"#0060a0\">&lt;id&gt;</text>\n",
       "</g>\n",
       "<!-- 7&#45;&gt;8 -->\n",
       "<g id=\"edge8\" class=\"edge\">\n",
       "<title>7&#45;&gt;8</title>\n",
       "<path fill=\"none\" stroke=\"black\" d=\"M92.97,-215.7C83.48,-207.28 71.89,-197.02 61.48,-187.79\"/>\n",
       "<polygon fill=\"black\" stroke=\"black\" points=\"64.02,-185.36 54.21,-181.35 59.37,-190.6 64.02,-185.36\"/>\n",
       "</g>\n",
       "<!-- 11 -->\n",
       "<g id=\"node12\" class=\"node\">\n",
       "<title>11</title>\n",
       "<polygon fill=\"none\" stroke=\"white\" points=\"146,-180 79,-180 79,-144 146,-144 146,-180\"/>\n",
       "<text text-anchor=\"middle\" x=\"112.5\" y=\"-158.3\" font-family=\"'Fira Mono', 'Source Code Pro', 'Courier', monospace\" font-size=\"14.00\" fill=\"#0060a0\">&lt;letter&gt;</text>\n",
       "</g>\n",
       "<!-- 7&#45;&gt;11 -->\n",
       "<g id=\"edge11\" class=\"edge\">\n",
       "<title>7&#45;&gt;11</title>\n",
       "<path fill=\"none\" stroke=\"black\" d=\"M112.5,-215.7C112.5,-208.41 112.5,-199.73 112.5,-191.54\"/>\n",
       "<polygon fill=\"black\" stroke=\"black\" points=\"116,-191.62 112.5,-181.62 109,-191.62 116,-191.62\"/>\n",
       "</g>\n",
       "<!-- 9 -->\n",
       "<g id=\"node10\" class=\"node\">\n",
       "<title>9</title>\n",
       "<polygon fill=\"none\" stroke=\"white\" points=\"67,-108 0,-108 0,-72 67,-72 67,-108\"/>\n",
       "<text text-anchor=\"middle\" x=\"33.5\" y=\"-86.3\" font-family=\"'Fira Mono', 'Source Code Pro', 'Courier', monospace\" font-size=\"14.00\" fill=\"#0060a0\">&lt;letter&gt;</text>\n",
       "</g>\n",
       "<!-- 8&#45;&gt;9 -->\n",
       "<g id=\"edge9\" class=\"edge\">\n",
       "<title>8&#45;&gt;9</title>\n",
       "<path fill=\"none\" stroke=\"black\" d=\"M33.5,-143.7C33.5,-136.41 33.5,-127.73 33.5,-119.54\"/>\n",
       "<polygon fill=\"black\" stroke=\"black\" points=\"37,-119.62 33.5,-109.62 30,-119.62 37,-119.62\"/>\n",
       "</g>\n",
       "<!-- 10 -->\n",
       "<g id=\"node11\" class=\"node\">\n",
       "<title>10</title>\n",
       "<polygon fill=\"none\" stroke=\"white\" points=\"60.5,-36 6.5,-36 6.5,0 60.5,0 60.5,-36\"/>\n",
       "<text text-anchor=\"middle\" x=\"33.5\" y=\"-14.3\" font-family=\"'Fira Mono', 'Source Code Pro', 'Courier', monospace\" font-size=\"14.00\" fill=\"#00a060\">f</text>\n",
       "</g>\n",
       "<!-- 9&#45;&gt;10 -->\n",
       "<g id=\"edge10\" class=\"edge\">\n",
       "<title>9&#45;&gt;10</title>\n",
       "<path fill=\"none\" stroke=\"black\" d=\"M33.5,-71.7C33.5,-64.41 33.5,-55.73 33.5,-47.54\"/>\n",
       "<polygon fill=\"black\" stroke=\"black\" points=\"37,-47.62 33.5,-37.62 30,-47.62 37,-47.62\"/>\n",
       "</g>\n",
       "<!-- 12 -->\n",
       "<g id=\"node13\" class=\"node\">\n",
       "<title>12</title>\n",
       "<polygon fill=\"none\" stroke=\"white\" points=\"139.5,-108 85.5,-108 85.5,-72 139.5,-72 139.5,-108\"/>\n",
       "<text text-anchor=\"middle\" x=\"112.5\" y=\"-86.3\" font-family=\"'Fira Mono', 'Source Code Pro', 'Courier', monospace\" font-size=\"14.00\" fill=\"#00a060\">o</text>\n",
       "</g>\n",
       "<!-- 11&#45;&gt;12 -->\n",
       "<g id=\"edge12\" class=\"edge\">\n",
       "<title>11&#45;&gt;12</title>\n",
       "<path fill=\"none\" stroke=\"black\" d=\"M112.5,-143.7C112.5,-136.41 112.5,-127.73 112.5,-119.54\"/>\n",
       "<polygon fill=\"black\" stroke=\"black\" points=\"116,-119.62 112.5,-109.62 109,-119.62 116,-119.62\"/>\n",
       "</g>\n",
       "<!-- 14 -->\n",
       "<g id=\"node15\" class=\"node\">\n",
       "<title>14</title>\n",
       "<polygon fill=\"none\" stroke=\"white\" points=\"218.5,-180 164.5,-180 164.5,-144 218.5,-144 218.5,-180\"/>\n",
       "<text text-anchor=\"middle\" x=\"191.5\" y=\"-158.3\" font-family=\"'Fira Mono', 'Source Code Pro', 'Courier', monospace\" font-size=\"14.00\" fill=\"#00a060\">o</text>\n",
       "</g>\n",
       "<!-- 13&#45;&gt;14 -->\n",
       "<g id=\"edge14\" class=\"edge\">\n",
       "<title>13&#45;&gt;14</title>\n",
       "<path fill=\"none\" stroke=\"black\" d=\"M191.5,-215.7C191.5,-208.41 191.5,-199.73 191.5,-191.54\"/>\n",
       "<polygon fill=\"black\" stroke=\"black\" points=\"195,-191.62 191.5,-181.62 188,-191.62 195,-191.62\"/>\n",
       "</g>\n",
       "<!-- 16 -->\n",
       "<g id=\"node17\" class=\"node\">\n",
       "<title>16</title>\n",
       "<polygon fill=\"none\" stroke=\"white\" points=\"297.5,-252 243.5,-252 243.5,-216 297.5,-216 297.5,-252\"/>\n",
       "<text text-anchor=\"middle\" x=\"270.5\" y=\"-230.3\" font-family=\"'Fira Mono', 'Source Code Pro', 'Courier', monospace\" font-size=\"14.00\" fill=\"#00a060\">&gt;</text>\n",
       "</g>\n",
       "<!-- 15&#45;&gt;16 -->\n",
       "<g id=\"edge16\" class=\"edge\">\n",
       "<title>15&#45;&gt;16</title>\n",
       "<path fill=\"none\" stroke=\"black\" d=\"M268.24,-287.7C268.55,-280.41 268.93,-271.73 269.28,-263.54\"/>\n",
       "<polygon fill=\"black\" stroke=\"black\" points=\"272.77,-263.76 269.7,-253.62 265.78,-263.46 272.77,-263.76\"/>\n",
       "</g>\n",
       "<!-- 18 -->\n",
       "<g id=\"node19\" class=\"node\">\n",
       "<title>18</title>\n",
       "<polygon fill=\"none\" stroke=\"white\" points=\"434.5,-324 334.5,-324 334.5,-288 434.5,-288 434.5,-324\"/>\n",
       "<text text-anchor=\"middle\" x=\"384.5\" y=\"-302.3\" font-family=\"'Fira Mono', 'Source Code Pro', 'Courier', monospace\" font-size=\"14.00\" fill=\"#0060a0\">&lt;plain&#45;text&gt;</text>\n",
       "</g>\n",
       "<!-- 17&#45;&gt;18 -->\n",
       "<g id=\"edge18\" class=\"edge\">\n",
       "<title>17&#45;&gt;18</title>\n",
       "<path fill=\"none\" stroke=\"black\" d=\"M384.5,-359.7C384.5,-352.41 384.5,-343.73 384.5,-335.54\"/>\n",
       "<polygon fill=\"black\" stroke=\"black\" points=\"388,-335.62 384.5,-325.62 381,-335.62 388,-335.62\"/>\n",
       "</g>\n",
       "<!-- 19 -->\n",
       "<g id=\"node20\" class=\"node\">\n",
       "<title>19</title>\n",
       "<polygon fill=\"none\" stroke=\"white\" points=\"415.5,-252 315.5,-252 315.5,-216 415.5,-216 415.5,-252\"/>\n",
       "<text text-anchor=\"middle\" x=\"365.5\" y=\"-230.3\" font-family=\"'Fira Mono', 'Source Code Pro', 'Courier', monospace\" font-size=\"14.00\" fill=\"#0060a0\">&lt;plain&#45;char&gt;</text>\n",
       "</g>\n",
       "<!-- 18&#45;&gt;19 -->\n",
       "<g id=\"edge19\" class=\"edge\">\n",
       "<title>18&#45;&gt;19</title>\n",
       "<path fill=\"none\" stroke=\"black\" d=\"M379.8,-287.7C377.78,-280.24 375.36,-271.32 373.09,-262.97\"/>\n",
       "<polygon fill=\"black\" stroke=\"black\" points=\"376.54,-262.3 370.54,-253.57 369.78,-264.13 376.54,-262.3\"/>\n",
       "</g>\n",
       "<!-- 22 -->\n",
       "<g id=\"node23\" class=\"node\">\n",
       "<title>22</title>\n",
       "<polygon fill=\"none\" stroke=\"white\" points=\"533.5,-252 433.5,-252 433.5,-216 533.5,-216 533.5,-252\"/>\n",
       "<text text-anchor=\"middle\" x=\"483.5\" y=\"-230.3\" font-family=\"'Fira Mono', 'Source Code Pro', 'Courier', monospace\" font-size=\"14.00\" fill=\"#0060a0\">&lt;plain&#45;text&gt;</text>\n",
       "</g>\n",
       "<!-- 18&#45;&gt;22 -->\n",
       "<g id=\"edge22\" class=\"edge\">\n",
       "<title>18&#45;&gt;22</title>\n",
       "<path fill=\"none\" stroke=\"black\" d=\"M409.23,-287.52C421.49,-278.85 436.48,-268.25 449.77,-258.85\"/>\n",
       "<polygon fill=\"black\" stroke=\"black\" points=\"451.71,-261.77 457.85,-253.13 447.67,-256.05 451.71,-261.77\"/>\n",
       "</g>\n",
       "<!-- 20 -->\n",
       "<g id=\"node21\" class=\"node\">\n",
       "<title>20</title>\n",
       "<polygon fill=\"none\" stroke=\"white\" points=\"415.5,-180 315.5,-180 315.5,-144 415.5,-144 415.5,-180\"/>\n",
       "<text text-anchor=\"middle\" x=\"365.5\" y=\"-158.3\" font-family=\"'Fira Mono', 'Source Code Pro', 'Courier', monospace\" font-size=\"14.00\" fill=\"#0060a0\">&lt;whitespace&gt;</text>\n",
       "</g>\n",
       "<!-- 19&#45;&gt;20 -->\n",
       "<g id=\"edge20\" class=\"edge\">\n",
       "<title>19&#45;&gt;20</title>\n",
       "<path fill=\"none\" stroke=\"black\" d=\"M365.5,-215.7C365.5,-208.41 365.5,-199.73 365.5,-191.54\"/>\n",
       "<polygon fill=\"black\" stroke=\"black\" points=\"369,-191.62 365.5,-181.62 362,-191.62 369,-191.62\"/>\n",
       "</g>\n",
       "<!-- 21 -->\n",
       "<g id=\"node22\" class=\"node\">\n",
       "<title>21</title>\n",
       "<polygon fill=\"none\" stroke=\"white\" points=\"392.5,-108 338.5,-108 338.5,-72 392.5,-72 392.5,-108\"/>\n",
       "<text text-anchor=\"middle\" x=\"365.5\" y=\"-86.3\" font-family=\"'Fira Mono', 'Source Code Pro', 'Courier', monospace\" font-size=\"14.00\" fill=\"#00a060\"> </text>\n",
       "</g>\n",
       "<!-- 20&#45;&gt;21 -->\n",
       "<g id=\"edge21\" class=\"edge\">\n",
       "<title>20&#45;&gt;21</title>\n",
       "<path fill=\"none\" stroke=\"black\" d=\"M365.5,-143.7C365.5,-136.41 365.5,-127.73 365.5,-119.54\"/>\n",
       "<polygon fill=\"black\" stroke=\"black\" points=\"369,-119.62 365.5,-109.62 362,-119.62 369,-119.62\"/>\n",
       "</g>\n",
       "<!-- 23 -->\n",
       "<g id=\"node24\" class=\"node\">\n",
       "<title>23</title>\n",
       "<polygon fill=\"none\" stroke=\"white\" points=\"510.5,-180 456.5,-180 456.5,-144 510.5,-144 510.5,-180\"/>\n",
       "</g>\n",
       "<!-- 22&#45;&gt;23 -->\n",
       "<g id=\"edge23\" class=\"edge\">\n",
       "<title>22&#45;&gt;23</title>\n",
       "<path fill=\"none\" stroke=\"black\" d=\"M483.5,-215.7C483.5,-208.41 483.5,-199.73 483.5,-191.54\"/>\n",
       "<polygon fill=\"black\" stroke=\"black\" points=\"487,-191.62 483.5,-181.62 480,-191.62 487,-191.62\"/>\n",
       "</g>\n",
       "<!-- 25 -->\n",
       "<g id=\"node26\" class=\"node\">\n",
       "<title>25</title>\n",
       "<polygon fill=\"none\" stroke=\"white\" points=\"605.5,-324 551.5,-324 551.5,-288 605.5,-288 605.5,-324\"/>\n",
       "<text text-anchor=\"middle\" x=\"578.5\" y=\"-302.3\" font-family=\"'Fira Mono', 'Source Code Pro', 'Courier', monospace\" font-size=\"14.00\" fill=\"#0060a0\">&lt;lt&gt;</text>\n",
       "</g>\n",
       "<!-- 24&#45;&gt;25 -->\n",
       "<g id=\"edge25\" class=\"edge\">\n",
       "<title>24&#45;&gt;25</title>\n",
       "<path fill=\"none\" stroke=\"black\" d=\"M632.7,-359.7C624.22,-351.45 613.91,-341.43 604.57,-332.35\"/>\n",
       "<polygon fill=\"black\" stroke=\"black\" points=\"607.04,-329.86 597.43,-325.4 602.16,-334.88 607.04,-329.86\"/>\n",
       "</g>\n",
       "<!-- 27 -->\n",
       "<g id=\"node28\" class=\"node\">\n",
       "<title>27</title>\n",
       "<polygon fill=\"none\" stroke=\"white\" points=\"677.5,-324 623.5,-324 623.5,-288 677.5,-288 677.5,-324\"/>\n",
       "<text text-anchor=\"middle\" x=\"650.5\" y=\"-302.3\" font-family=\"'Fira Mono', 'Source Code Pro', 'Courier', monospace\" font-size=\"14.00\" fill=\"#00a060\">/</text>\n",
       "</g>\n",
       "<!-- 24&#45;&gt;27 -->\n",
       "<g id=\"edge27\" class=\"edge\">\n",
       "<title>24&#45;&gt;27</title>\n",
       "<path fill=\"none\" stroke=\"black\" d=\"M650.5,-359.7C650.5,-352.41 650.5,-343.73 650.5,-335.54\"/>\n",
       "<polygon fill=\"black\" stroke=\"black\" points=\"654,-335.62 650.5,-325.62 647,-335.62 654,-335.62\"/>\n",
       "</g>\n",
       "<!-- 28 -->\n",
       "<g id=\"node29\" class=\"node\">\n",
       "<title>28</title>\n",
       "<polygon fill=\"none\" stroke=\"white\" points=\"749.5,-324 695.5,-324 695.5,-288 749.5,-288 749.5,-324\"/>\n",
       "<text text-anchor=\"middle\" x=\"722.5\" y=\"-302.3\" font-family=\"'Fira Mono', 'Source Code Pro', 'Courier', monospace\" font-size=\"14.00\" fill=\"#0060a0\">&lt;id&gt;</text>\n",
       "</g>\n",
       "<!-- 24&#45;&gt;28 -->\n",
       "<g id=\"edge28\" class=\"edge\">\n",
       "<title>24&#45;&gt;28</title>\n",
       "<path fill=\"none\" stroke=\"black\" d=\"M668.3,-359.7C676.78,-351.45 687.09,-341.43 696.43,-332.35\"/>\n",
       "<polygon fill=\"black\" stroke=\"black\" points=\"698.84,-334.88 703.57,-325.4 693.96,-329.86 698.84,-334.88\"/>\n",
       "</g>\n",
       "<!-- 37 -->\n",
       "<g id=\"node38\" class=\"node\">\n",
       "<title>37</title>\n",
       "<polygon fill=\"none\" stroke=\"white\" points=\"828.5,-324 774.5,-324 774.5,-288 828.5,-288 828.5,-324\"/>\n",
       "<text text-anchor=\"middle\" x=\"801.5\" y=\"-302.3\" font-family=\"'Fira Mono', 'Source Code Pro', 'Courier', monospace\" font-size=\"14.00\" fill=\"#0060a0\">&lt;gt&gt;</text>\n",
       "</g>\n",
       "<!-- 24&#45;&gt;37 -->\n",
       "<g id=\"edge37\" class=\"edge\">\n",
       "<title>24&#45;&gt;37</title>\n",
       "<path fill=\"none\" stroke=\"black\" d=\"M688.21,-359.52C711.29,-348.82 740.71,-335.18 763.79,-324.48\"/>\n",
       "<polygon fill=\"black\" stroke=\"black\" points=\"765.25,-327.66 772.85,-320.28 762.3,-321.31 765.25,-327.66\"/>\n",
       "</g>\n",
       "<!-- 26 -->\n",
       "<g id=\"node27\" class=\"node\">\n",
       "<title>26</title>\n",
       "<polygon fill=\"none\" stroke=\"white\" points=\"605.5,-252 551.5,-252 551.5,-216 605.5,-216 605.5,-252\"/>\n",
       "<text text-anchor=\"middle\" x=\"578.5\" y=\"-230.3\" font-family=\"'Fira Mono', 'Source Code Pro', 'Courier', monospace\" font-size=\"14.00\" fill=\"#0060a0\">&lt;</text>\n",
       "</g>\n",
       "<!-- 25&#45;&gt;26 -->\n",
       "<g id=\"edge26\" class=\"edge\">\n",
       "<title>25&#45;&gt;26</title>\n",
       "<path fill=\"none\" stroke=\"black\" d=\"M578.5,-287.7C578.5,-280.41 578.5,-271.73 578.5,-263.54\"/>\n",
       "<polygon fill=\"black\" stroke=\"black\" points=\"582,-263.62 578.5,-253.62 575,-263.62 582,-263.62\"/>\n",
       "</g>\n",
       "<!-- 29 -->\n",
       "<g id=\"node30\" class=\"node\">\n",
       "<title>29</title>\n",
       "<polygon fill=\"none\" stroke=\"white\" points=\"677.5,-252 623.5,-252 623.5,-216 677.5,-216 677.5,-252\"/>\n",
       "<text text-anchor=\"middle\" x=\"650.5\" y=\"-230.3\" font-family=\"'Fira Mono', 'Source Code Pro', 'Courier', monospace\" font-size=\"14.00\" fill=\"#0060a0\">&lt;id&gt;</text>\n",
       "</g>\n",
       "<!-- 28&#45;&gt;29 -->\n",
       "<g id=\"edge29\" class=\"edge\">\n",
       "<title>28&#45;&gt;29</title>\n",
       "<path fill=\"none\" stroke=\"black\" d=\"M704.7,-287.7C696.22,-279.45 685.91,-269.43 676.57,-260.35\"/>\n",
       "<polygon fill=\"black\" stroke=\"black\" points=\"679.04,-257.86 669.43,-253.4 674.16,-262.88 679.04,-257.86\"/>\n",
       "</g>\n",
       "<!-- 35 -->\n",
       "<g id=\"node36\" class=\"node\">\n",
       "<title>35</title>\n",
       "<polygon fill=\"none\" stroke=\"white\" points=\"763,-252 696,-252 696,-216 763,-216 763,-252\"/>\n",
       "<text text-anchor=\"middle\" x=\"729.5\" y=\"-230.3\" font-family=\"'Fira Mono', 'Source Code Pro', 'Courier', monospace\" font-size=\"14.00\" fill=\"#0060a0\">&lt;letter&gt;</text>\n",
       "</g>\n",
       "<!-- 28&#45;&gt;35 -->\n",
       "<g id=\"edge35\" class=\"edge\">\n",
       "<title>28&#45;&gt;35</title>\n",
       "<path fill=\"none\" stroke=\"black\" d=\"M724.23,-287.7C724.96,-280.41 725.83,-271.73 726.65,-263.54\"/>\n",
       "<polygon fill=\"black\" stroke=\"black\" points=\"730.13,-263.91 727.64,-253.61 723.16,-263.21 730.13,-263.91\"/>\n",
       "</g>\n",
       "<!-- 30 -->\n",
       "<g id=\"node31\" class=\"node\">\n",
       "<title>30</title>\n",
       "<polygon fill=\"none\" stroke=\"white\" points=\"598.5,-180 544.5,-180 544.5,-144 598.5,-144 598.5,-180\"/>\n",
       "<text text-anchor=\"middle\" x=\"571.5\" y=\"-158.3\" font-family=\"'Fira Mono', 'Source Code Pro', 'Courier', monospace\" font-size=\"14.00\" fill=\"#0060a0\">&lt;id&gt;</text>\n",
       "</g>\n",
       "<!-- 29&#45;&gt;30 -->\n",
       "<g id=\"edge30\" class=\"edge\">\n",
       "<title>29&#45;&gt;30</title>\n",
       "<path fill=\"none\" stroke=\"black\" d=\"M630.97,-215.7C621.48,-207.28 609.89,-197.02 599.48,-187.79\"/>\n",
       "<polygon fill=\"black\" stroke=\"black\" points=\"602.02,-185.36 592.21,-181.35 597.37,-190.6 602.02,-185.36\"/>\n",
       "</g>\n",
       "<!-- 33 -->\n",
       "<g id=\"node34\" class=\"node\">\n",
       "<title>33</title>\n",
       "<polygon fill=\"none\" stroke=\"white\" points=\"684,-180 617,-180 617,-144 684,-144 684,-180\"/>\n",
       "<text text-anchor=\"middle\" x=\"650.5\" y=\"-158.3\" font-family=\"'Fira Mono', 'Source Code Pro', 'Courier', monospace\" font-size=\"14.00\" fill=\"#0060a0\">&lt;letter&gt;</text>\n",
       "</g>\n",
       "<!-- 29&#45;&gt;33 -->\n",
       "<g id=\"edge33\" class=\"edge\">\n",
       "<title>29&#45;&gt;33</title>\n",
       "<path fill=\"none\" stroke=\"black\" d=\"M650.5,-215.7C650.5,-208.41 650.5,-199.73 650.5,-191.54\"/>\n",
       "<polygon fill=\"black\" stroke=\"black\" points=\"654,-191.62 650.5,-181.62 647,-191.62 654,-191.62\"/>\n",
       "</g>\n",
       "<!-- 31 -->\n",
       "<g id=\"node32\" class=\"node\">\n",
       "<title>31</title>\n",
       "<polygon fill=\"none\" stroke=\"white\" points=\"605,-108 538,-108 538,-72 605,-72 605,-108\"/>\n",
       "<text text-anchor=\"middle\" x=\"571.5\" y=\"-86.3\" font-family=\"'Fira Mono', 'Source Code Pro', 'Courier', monospace\" font-size=\"14.00\" fill=\"#0060a0\">&lt;letter&gt;</text>\n",
       "</g>\n",
       "<!-- 30&#45;&gt;31 -->\n",
       "<g id=\"edge31\" class=\"edge\">\n",
       "<title>30&#45;&gt;31</title>\n",
       "<path fill=\"none\" stroke=\"black\" d=\"M571.5,-143.7C571.5,-136.41 571.5,-127.73 571.5,-119.54\"/>\n",
       "<polygon fill=\"black\" stroke=\"black\" points=\"575,-119.62 571.5,-109.62 568,-119.62 575,-119.62\"/>\n",
       "</g>\n",
       "<!-- 32 -->\n",
       "<g id=\"node33\" class=\"node\">\n",
       "<title>32</title>\n",
       "<polygon fill=\"none\" stroke=\"white\" points=\"598.5,-36 544.5,-36 544.5,0 598.5,0 598.5,-36\"/>\n",
       "<text text-anchor=\"middle\" x=\"571.5\" y=\"-14.3\" font-family=\"'Fira Mono', 'Source Code Pro', 'Courier', monospace\" font-size=\"14.00\" fill=\"#00a060\">f</text>\n",
       "</g>\n",
       "<!-- 31&#45;&gt;32 -->\n",
       "<g id=\"edge32\" class=\"edge\">\n",
       "<title>31&#45;&gt;32</title>\n",
       "<path fill=\"none\" stroke=\"black\" d=\"M571.5,-71.7C571.5,-64.41 571.5,-55.73 571.5,-47.54\"/>\n",
       "<polygon fill=\"black\" stroke=\"black\" points=\"575,-47.62 571.5,-37.62 568,-47.62 575,-47.62\"/>\n",
       "</g>\n",
       "<!-- 34 -->\n",
       "<g id=\"node35\" class=\"node\">\n",
       "<title>34</title>\n",
       "<polygon fill=\"none\" stroke=\"white\" points=\"677.5,-108 623.5,-108 623.5,-72 677.5,-72 677.5,-108\"/>\n",
       "<text text-anchor=\"middle\" x=\"650.5\" y=\"-86.3\" font-family=\"'Fira Mono', 'Source Code Pro', 'Courier', monospace\" font-size=\"14.00\" fill=\"#00a060\">o</text>\n",
       "</g>\n",
       "<!-- 33&#45;&gt;34 -->\n",
       "<g id=\"edge34\" class=\"edge\">\n",
       "<title>33&#45;&gt;34</title>\n",
       "<path fill=\"none\" stroke=\"black\" d=\"M650.5,-143.7C650.5,-136.41 650.5,-127.73 650.5,-119.54\"/>\n",
       "<polygon fill=\"black\" stroke=\"black\" points=\"654,-119.62 650.5,-109.62 647,-119.62 654,-119.62\"/>\n",
       "</g>\n",
       "<!-- 36 -->\n",
       "<g id=\"node37\" class=\"node\">\n",
       "<title>36</title>\n",
       "<polygon fill=\"none\" stroke=\"white\" points=\"756.5,-180 702.5,-180 702.5,-144 756.5,-144 756.5,-180\"/>\n",
       "<text text-anchor=\"middle\" x=\"729.5\" y=\"-158.3\" font-family=\"'Fira Mono', 'Source Code Pro', 'Courier', monospace\" font-size=\"14.00\" fill=\"#00a060\">o</text>\n",
       "</g>\n",
       "<!-- 35&#45;&gt;36 -->\n",
       "<g id=\"edge36\" class=\"edge\">\n",
       "<title>35&#45;&gt;36</title>\n",
       "<path fill=\"none\" stroke=\"black\" d=\"M729.5,-215.7C729.5,-208.41 729.5,-199.73 729.5,-191.54\"/>\n",
       "<polygon fill=\"black\" stroke=\"black\" points=\"733,-191.62 729.5,-181.62 726,-191.62 733,-191.62\"/>\n",
       "</g>\n",
       "<!-- 38 -->\n",
       "<g id=\"node39\" class=\"node\">\n",
       "<title>38</title>\n",
       "<polygon fill=\"none\" stroke=\"white\" points=\"835.5,-252 781.5,-252 781.5,-216 835.5,-216 835.5,-252\"/>\n",
       "<text text-anchor=\"middle\" x=\"808.5\" y=\"-230.3\" font-family=\"'Fira Mono', 'Source Code Pro', 'Courier', monospace\" font-size=\"14.00\" fill=\"#00a060\">&gt;</text>\n",
       "</g>\n",
       "<!-- 37&#45;&gt;38 -->\n",
       "<g id=\"edge38\" class=\"edge\">\n",
       "<title>37&#45;&gt;38</title>\n",
       "<path fill=\"none\" stroke=\"black\" d=\"M803.23,-287.7C803.96,-280.41 804.83,-271.73 805.65,-263.54\"/>\n",
       "<polygon fill=\"black\" stroke=\"black\" points=\"809.13,-263.91 806.64,-253.61 802.16,-263.21 809.13,-263.91\"/>\n",
       "</g>\n",
       "</g>\n",
       "</svg>\n"
      ],
      "text/plain": [
       "<graphviz.graphs.Digraph at 0x1114a9ea0>"
      ]
     },
     "execution_count": 55,
     "metadata": {},
     "output_type": "execute_result"
    }
   ],
   "source": [
    "mutated_tree = cast(TreeMutator, bad_input_tree_mutator()).mutate([0, 0, 1, 0])\n",
    "display_tree(mutated_tree)"
   ]
  },
  {
   "cell_type": "markdown",
   "metadata": {
    "slideshow": {
     "slide_type": "fragment"
    }
   },
   "source": [
    "We see that the `<plain-text>` subtree is now different, which also becomes evident in the string representation."
   ]
  },
  {
   "cell_type": "code",
   "execution_count": 56,
   "metadata": {
    "execution": {
     "iopub.execute_input": "2023-02-11T10:05:29.702758Z",
     "iopub.status.busy": "2023-02-11T10:05:29.702083Z",
     "iopub.status.idle": "2023-02-11T10:05:29.703878Z",
     "shell.execute_reply": "2023-02-11T10:05:29.704082Z"
    },
    "slideshow": {
     "slide_type": "fragment"
    }
   },
   "outputs": [
    {
     "data": {
      "text/plain": [
       "'<foo> </foo>'"
      ]
     },
     "execution_count": 56,
     "metadata": {},
     "output_type": "execute_result"
    }
   ],
   "source": [
    "tree_to_string(mutated_tree)"
   ]
  },
  {
   "cell_type": "markdown",
   "metadata": {
    "slideshow": {
     "slide_type": "slide"
    }
   },
   "source": [
    "## Generalizing Trees\n",
    "\n",
    "Now for the main part – finding out which parts of a tree can be generalized. Our idea is to _test_ a finite number of mutations to a subtree (say, 10). If all of these tests fail as well, then we assume we can generalize the subtree to a placeholder."
   ]
  },
  {
   "cell_type": "markdown",
   "metadata": {
    "slideshow": {
     "slide_type": "fragment"
    }
   },
   "source": [
    "We introduce a class `TreeGeneralizer` for this purpose. On top of `grammar` and `tree` already used for the `TreeMutator` constructor, the `TreeGeneralizer` also takes a `test` function."
   ]
  },
  {
   "cell_type": "code",
   "execution_count": 57,
   "metadata": {
    "execution": {
     "iopub.execute_input": "2023-02-11T10:05:29.711314Z",
     "iopub.status.busy": "2023-02-11T10:05:29.710762Z",
     "iopub.status.idle": "2023-02-11T10:05:29.712508Z",
     "shell.execute_reply": "2023-02-11T10:05:29.712927Z"
    },
    "slideshow": {
     "slide_type": "subslide"
    }
   },
   "outputs": [],
   "source": [
    "class TreeGeneralizer(TreeMutator):\n",
    "    \"\"\"Determine which parts of a derivation tree can be generalized.\"\"\"\n",
    "\n",
    "    def __init__(self, grammar: Grammar, tree: DerivationTree, test: Callable,\n",
    "                 max_tries_for_generalization: int = 10, **kwargs: Any) -> None:\n",
    "        \"\"\"\n",
    "        Constructor. `grammar` and `tree` are as in `TreeMutator`.\n",
    "        `test` is a function taking a string that either\n",
    "          * raises an exception, indicating test failure;\n",
    "          * or not, indicating test success.\n",
    "        `max_tries_for_generalization` is the number of times\n",
    "        an instantiation has to fail before it is generalized.\n",
    "        \"\"\"\n",
    "\n",
    "        super().__init__(grammar, tree, **kwargs)\n",
    "        self.test = test\n",
    "        self.max_tries_for_generalization = max_tries_for_generalization"
   ]
  },
  {
   "cell_type": "markdown",
   "metadata": {
    "slideshow": {
     "slide_type": "subslide"
    }
   },
   "source": [
    "The `test` function is used in `test_tree()`, returning `False` if the test fails (raising an exception), and `True` if the test passes (no exception)."
   ]
  },
  {
   "cell_type": "code",
   "execution_count": 58,
   "metadata": {
    "execution": {
     "iopub.execute_input": "2023-02-11T10:05:29.717559Z",
     "iopub.status.busy": "2023-02-11T10:05:29.717031Z",
     "iopub.status.idle": "2023-02-11T10:05:29.718393Z",
     "shell.execute_reply": "2023-02-11T10:05:29.718642Z"
    },
    "slideshow": {
     "slide_type": "subslide"
    }
   },
   "outputs": [],
   "source": [
    "class TreeGeneralizer(TreeGeneralizer):\n",
    "    def test_tree(self, tree: DerivationTree) -> bool:\n",
    "        \"\"\"Return True if testing `tree` passes, else False\"\"\"\n",
    "        s = tree_to_string(tree)\n",
    "        if self.log:\n",
    "            print(f\"Testing {repr(s)}...\", end=\"\")\n",
    "        try:\n",
    "            self.test(s)\n",
    "        except Exception as exc:\n",
    "            if self.log:\n",
    "                print(f\"FAIL ({type(exc).__name__})\")\n",
    "            ret = False\n",
    "        else:\n",
    "            if self.log:\n",
    "                print(f\"PASS\")\n",
    "            ret = True\n",
    "\n",
    "        return ret"
   ]
  },
  {
   "cell_type": "markdown",
   "metadata": {
    "slideshow": {
     "slide_type": "subslide"
    }
   },
   "source": [
    "### Testing for Generalization\n",
    "\n",
    "The `can_generalize()` method brings the above methods together. It creates a number of tree mutations at the given path, and returns True if all of them produce a failure. (Note that this is not as sophisticated as our [delta debugger](DeltaDebugger.ipynb) implementation, which also checks that the _same_ error occurs.)"
   ]
  },
  {
   "cell_type": "code",
   "execution_count": 59,
   "metadata": {
    "execution": {
     "iopub.execute_input": "2023-02-11T10:05:29.722604Z",
     "iopub.status.busy": "2023-02-11T10:05:29.722284Z",
     "iopub.status.idle": "2023-02-11T10:05:29.724296Z",
     "shell.execute_reply": "2023-02-11T10:05:29.723698Z"
    },
    "slideshow": {
     "slide_type": "subslide"
    }
   },
   "outputs": [],
   "source": [
    "class TreeGeneralizer(TreeGeneralizer):\n",
    "    def can_generalize(self, path: TreePath, tree: Optional[DerivationTree] = None) -> bool:\n",
    "        \"\"\"Return True if the subtree at `path` can be generalized.\"\"\"\n",
    "        for i in range(self.max_tries_for_generalization):\n",
    "            mutated_tree = self.mutate(path, tree)\n",
    "            if self.test_tree(mutated_tree):\n",
    "                # Failure no longer occurs; cannot abstract\n",
    "                return False\n",
    "\n",
    "        return True"
   ]
  },
  {
   "cell_type": "markdown",
   "metadata": {
    "slideshow": {
     "slide_type": "fragment"
    }
   },
   "source": [
    "Let us put `TreeGeneralizer` into action. We can directly use `remove_html_markup()` as test function."
   ]
  },
  {
   "cell_type": "code",
   "execution_count": 60,
   "metadata": {
    "execution": {
     "iopub.execute_input": "2023-02-11T10:05:29.729074Z",
     "iopub.status.busy": "2023-02-11T10:05:29.728273Z",
     "iopub.status.idle": "2023-02-11T10:05:29.731566Z",
     "shell.execute_reply": "2023-02-11T10:05:29.731915Z"
    },
    "slideshow": {
     "slide_type": "fragment"
    }
   },
   "outputs": [],
   "source": [
    "def bad_input_tree_generalizer(**kwargs: Any) -> TreeGeneralizer:\n",
    "    return TreeGeneralizer(SIMPLE_HTML_GRAMMAR, bad_input_tree,\n",
    "                           remove_html_markup, **kwargs)"
   ]
  },
  {
   "cell_type": "markdown",
   "metadata": {
    "slideshow": {
     "slide_type": "subslide"
    }
   },
   "source": [
    "On our `BAD_INPUT` (and its tree), can we generalize the root `<html>` node? In other words, does the failure occur for all possible `<html>` inputs?"
   ]
  },
  {
   "cell_type": "code",
   "execution_count": 61,
   "metadata": {
    "execution": {
     "iopub.execute_input": "2023-02-11T10:05:29.738253Z",
     "iopub.status.busy": "2023-02-11T10:05:29.737579Z",
     "iopub.status.idle": "2023-02-11T10:05:29.740802Z",
     "shell.execute_reply": "2023-02-11T10:05:29.740410Z"
    },
    "slideshow": {
     "slide_type": "fragment"
    }
   },
   "outputs": [
    {
     "name": "stdout",
     "output_type": "stream",
     "text": [
      "Testing \"<l35Gmq W2G571=''>\"...PASS\n"
     ]
    },
    {
     "data": {
      "text/plain": [
       "False"
      ]
     },
     "execution_count": 61,
     "metadata": {},
     "output_type": "execute_result"
    }
   ],
   "source": [
    "bad_input_tree_generalizer(log=True).can_generalize([0])"
   ]
  },
  {
   "cell_type": "markdown",
   "metadata": {
    "slideshow": {
     "slide_type": "fragment"
    }
   },
   "source": [
    "The answer is no. The first alternative passes the test; hence no generalization."
   ]
  },
  {
   "cell_type": "markdown",
   "metadata": {
    "slideshow": {
     "slide_type": "fragment"
    }
   },
   "source": [
    "How about the middle `<plain_text>` part? Can we generalize this?"
   ]
  },
  {
   "cell_type": "code",
   "execution_count": 62,
   "metadata": {
    "execution": {
     "iopub.execute_input": "2023-02-11T10:05:29.748567Z",
     "iopub.status.busy": "2023-02-11T10:05:29.747749Z",
     "iopub.status.idle": "2023-02-11T10:05:29.750796Z",
     "shell.execute_reply": "2023-02-11T10:05:29.751198Z"
    },
    "slideshow": {
     "slide_type": "fragment"
    }
   },
   "outputs": [
    {
     "name": "stdout",
     "output_type": "stream",
     "text": [
      "Testing '<foo>8</foo>'...PASS\n"
     ]
    },
    {
     "data": {
      "text/plain": [
       "False"
      ]
     },
     "execution_count": 62,
     "metadata": {},
     "output_type": "execute_result"
    }
   ],
   "source": [
    "bad_input_tree_generalizer(log=True).can_generalize([0, 0, 1, 0])"
   ]
  },
  {
   "cell_type": "markdown",
   "metadata": {
    "slideshow": {
     "slide_type": "fragment"
    }
   },
   "source": [
    "The answer is no – just as above."
   ]
  },
  {
   "cell_type": "markdown",
   "metadata": {
    "slideshow": {
     "slide_type": "subslide"
    }
   },
   "source": [
    "How about the closing tag? Can we generalize this one?"
   ]
  },
  {
   "cell_type": "code",
   "execution_count": 63,
   "metadata": {
    "execution": {
     "iopub.execute_input": "2023-02-11T10:05:29.760068Z",
     "iopub.status.busy": "2023-02-11T10:05:29.759373Z",
     "iopub.status.idle": "2023-02-11T10:05:29.763103Z",
     "shell.execute_reply": "2023-02-11T10:05:29.762818Z"
    },
    "slideshow": {
     "slide_type": "fragment"
    }
   },
   "outputs": [
    {
     "name": "stdout",
     "output_type": "stream",
     "text": [
      "Testing '<foo>\"bar</e7N>'...FAIL (AssertionError)\n",
      "Testing '<foo>\"bar</q37A>'...FAIL (AssertionError)\n",
      "Testing '<foo>\"bar</W>'...FAIL (AssertionError)\n",
      "Testing '<foo>\"bar</z93Q5>'...FAIL (AssertionError)\n",
      "Testing '<foo>\"bar</WR>'...FAIL (AssertionError)\n",
      "Testing '<foo>\"bar</m>'...FAIL (AssertionError)\n",
      "Testing '<foo>\"bar</Uy443wt1h7>'...FAIL (AssertionError)\n",
      "Testing '<foo>\"bar</fon2>'...FAIL (AssertionError)\n",
      "Testing '<foo>\"bar</M>'...FAIL (AssertionError)\n",
      "Testing '<foo>\"bar</g9>'...FAIL (AssertionError)\n"
     ]
    },
    {
     "data": {
      "text/plain": [
       "True"
      ]
     },
     "execution_count": 63,
     "metadata": {},
     "output_type": "execute_result"
    }
   ],
   "source": [
    "bad_input_tree_generalizer(log=True).can_generalize([0, 0, 2])"
   ]
  },
  {
   "cell_type": "markdown",
   "metadata": {
    "slideshow": {
     "slide_type": "subslide"
    }
   },
   "source": [
    "Yes, we can! All alternate instantiations of `<closing-tag>` result in a failure."
   ]
  },
  {
   "cell_type": "code",
   "execution_count": 64,
   "metadata": {
    "execution": {
     "iopub.execute_input": "2023-02-11T10:05:29.768851Z",
     "iopub.status.busy": "2023-02-11T10:05:29.765555Z",
     "iopub.status.idle": "2023-02-11T10:05:29.770691Z",
     "shell.execute_reply": "2023-02-11T10:05:29.771070Z"
    },
    "slideshow": {
     "slide_type": "fragment"
    }
   },
   "outputs": [
    {
     "data": {
      "text/html": [
       "\n",
       "    \n",
       "    <script>\n",
       "    var bad_answers = new Map();\n",
       "\n",
       "    function answer(quiz_id) {\n",
       "        ans = 0;\n",
       "        for (i = 1;; i++) {\n",
       "            checkbox = document.getElementById(quiz_id + \"-\" + i.toString());\n",
       "            if (!checkbox)\n",
       "                break;\n",
       "            if (checkbox.checked)\n",
       "                ans |= (1 << i);\n",
       "        }\n",
       "        return ans;\n",
       "    }\n",
       "    function check_selection(quiz_id, correct_answer, multiple_choice, hint) {\n",
       "        given_answer = answer(quiz_id);\n",
       "        if (given_answer == correct_answer)\n",
       "        {\n",
       "            document.getElementById(quiz_id + \"-submit\").value = \"Correct!\";\n",
       "            document.getElementById(quiz_id + \"-hint\").innerHTML = \"\";\n",
       "\n",
       "            for (i = 1;; i++) {\n",
       "                checkbox = document.getElementById(quiz_id + \"-\" + i.toString());\n",
       "                label = document.getElementById(quiz_id + \"-\" + i.toString() + \"-label\")\n",
       "                if (!checkbox)\n",
       "                    break;\n",
       "    \n",
       "                if (checkbox.checked) {\n",
       "                    label.style.fontWeight = \"bold\";\n",
       "                }\n",
       "                else {\n",
       "                    label.style.textDecoration = \"line-through\";\n",
       "                }\n",
       "            }\n",
       "        }\n",
       "        else \n",
       "        {\n",
       "            document.getElementById(quiz_id + \"-submit\").value = \"Try again\";\n",
       "            \n",
       "            if (!bad_answers.has(quiz_id)) {\n",
       "                bad_answers.set(quiz_id, 1);\n",
       "            }\n",
       "            else {\n",
       "                bad_answers.set(quiz_id, bad_answers.get(quiz_id) + 1);\n",
       "            }\n",
       "\n",
       "            if (bad_answers.get(quiz_id) >= 2 && hint.length > 0) {\n",
       "                document.getElementById(quiz_id + \"-hint\").innerHTML = \n",
       "                    \"&nbsp;&nbsp;(Hint: <code>\" + hint + \"</code>)\";\n",
       "            }\n",
       "\n",
       "            if (!multiple_choice) {\n",
       "                for (i = 1;; i++) {\n",
       "                    checkbox = document.getElementById(quiz_id + \"-\" + i.toString());\n",
       "                    label = document.getElementById(quiz_id + \"-\" + i.toString() + \"-label\")\n",
       "\n",
       "                    if (!checkbox)\n",
       "                        break;\n",
       "                    if (checkbox.checked) {\n",
       "                        label.style.textDecoration = \"line-through\";\n",
       "                    }\n",
       "                }\n",
       "            }\n",
       "        }\n",
       "    }\n",
       "    function clear_selection(quiz_id) {\n",
       "        document.getElementById(quiz_id + \"-submit\").value = \"Submit\";\n",
       "        document.getElementById(quiz_id + \"-hint\").innerHTML = \"\";\n",
       "    }\n",
       "    </script>\n",
       "    \n",
       "    <div class=\"quiz\">\n",
       "    <h3 class=\"quiz_title\">Quiz</h3>\n",
       "    <p>\n",
       "    <div class=\"quiz_question\">Is this also true for <code>&lt;opening-tag&gt;</code>?</div>\n",
       "    </p>\n",
       "    <p>\n",
       "    <div class=\"quiz_options\" title=\"Pick a choice.\">\n",
       "    \n",
       "        <input type=\"radio\" name=\"9d2fdd3c-a9f3-11ed-bdd5-6298cf1a578f\" id=\"9d2fdd3c-a9f3-11ed-bdd5-6298cf1a578f-1\" onclick=\"clear_selection('9d2fdd3c-a9f3-11ed-bdd5-6298cf1a578f')\">\n",
       "        <label id=\"9d2fdd3c-a9f3-11ed-bdd5-6298cf1a578f-1-label\" for=\"9d2fdd3c-a9f3-11ed-bdd5-6298cf1a578f-1\">Yes</label><br>\n",
       "    \n",
       "        <input type=\"radio\" name=\"9d2fdd3c-a9f3-11ed-bdd5-6298cf1a578f\" id=\"9d2fdd3c-a9f3-11ed-bdd5-6298cf1a578f-2\" onclick=\"clear_selection('9d2fdd3c-a9f3-11ed-bdd5-6298cf1a578f')\">\n",
       "        <label id=\"9d2fdd3c-a9f3-11ed-bdd5-6298cf1a578f-2-label\" for=\"9d2fdd3c-a9f3-11ed-bdd5-6298cf1a578f-2\">No</label><br>\n",
       "    \n",
       "    </div>\n",
       "    </p>\n",
       "    <input id=\"9d2fdd3c-a9f3-11ed-bdd5-6298cf1a578f-submit\" type=\"submit\" value=\"Submit\" onclick=\"check_selection('9d2fdd3c-a9f3-11ed-bdd5-6298cf1a578f', 4, 0, '(&quot;Yes&quot; == &quot;Yes&quot;) + (&quot;No&quot; == &quot;No&quot;)')\">\n",
       "    <span class=\"quiz_hint\" id=\"9d2fdd3c-a9f3-11ed-bdd5-6298cf1a578f-hint\"></span>\n",
       "    </div>\n",
       "    "
      ],
      "text/plain": [
       "<IPython.core.display.HTML object>"
      ]
     },
     "execution_count": 64,
     "metadata": {},
     "output_type": "execute_result"
    }
   ],
   "source": [
    "quiz(\"Is this also true for `<opening-tag>`?\",\n",
    "     [\n",
    "         \"Yes\",\n",
    "         \"No\"\n",
    "     ], '(\"Yes\" == \"Yes\") + (\"No\" == \"No\")')"
   ]
  },
  {
   "cell_type": "markdown",
   "metadata": {
    "slideshow": {
     "slide_type": "fragment"
    }
   },
   "source": [
    "Note that the above does not hold for `<opening-tag>`. If the attribute value contains a quote character, it will extend to the end of the input. This is another error, but not caught by our assertion; hence, the input will be flagged as passing:"
   ]
  },
  {
   "cell_type": "code",
   "execution_count": 65,
   "metadata": {
    "execution": {
     "iopub.execute_input": "2023-02-11T10:05:29.776698Z",
     "iopub.status.busy": "2023-02-11T10:05:29.775498Z",
     "iopub.status.idle": "2023-02-11T10:05:29.781089Z",
     "shell.execute_reply": "2023-02-11T10:05:29.781494Z"
    },
    "slideshow": {
     "slide_type": "fragment"
    }
   },
   "outputs": [],
   "source": [
    "BAD_ATTR_INPUT = '<foo attr=\"\\'\">bar</foo>'"
   ]
  },
  {
   "cell_type": "code",
   "execution_count": 66,
   "metadata": {
    "execution": {
     "iopub.execute_input": "2023-02-11T10:05:29.786677Z",
     "iopub.status.busy": "2023-02-11T10:05:29.785671Z",
     "iopub.status.idle": "2023-02-11T10:05:29.790913Z",
     "shell.execute_reply": "2023-02-11T10:05:29.790636Z"
    },
    "slideshow": {
     "slide_type": "fragment"
    }
   },
   "outputs": [
    {
     "data": {
      "text/plain": [
       "''"
      ]
     },
     "execution_count": 66,
     "metadata": {},
     "output_type": "execute_result"
    }
   ],
   "source": [
    "remove_html_markup(BAD_ATTR_INPUT)"
   ]
  },
  {
   "cell_type": "markdown",
   "metadata": {
    "slideshow": {
     "slide_type": "subslide"
    }
   },
   "source": [
    "The effect of this is that there are patterns for `<opening-tag>` which do not cause the failure to occur; hence, `<opening-tag>` is not a fully valid generalization."
   ]
  },
  {
   "cell_type": "markdown",
   "metadata": {
    "slideshow": {
     "slide_type": "fragment"
    }
   },
   "source": [
    "This, however, becomes apparent only if one of our generated tests includes a quote character in the attribute value. Since quote characters are as likely (or as unlikely) to appear as other characters, this effect may not become apparent in our default 10 tests:"
   ]
  },
  {
   "cell_type": "code",
   "execution_count": 67,
   "metadata": {
    "execution": {
     "iopub.execute_input": "2023-02-11T10:05:29.816988Z",
     "iopub.status.busy": "2023-02-11T10:05:29.816613Z",
     "iopub.status.idle": "2023-02-11T10:05:29.818746Z",
     "shell.execute_reply": "2023-02-11T10:05:29.819208Z"
    },
    "slideshow": {
     "slide_type": "fragment"
    }
   },
   "outputs": [
    {
     "data": {
      "text/plain": [
       "True"
      ]
     },
     "execution_count": 67,
     "metadata": {},
     "output_type": "execute_result"
    }
   ],
   "source": [
    "bad_input_tree_generalizer().can_generalize([0, 0, 0])"
   ]
  },
  {
   "cell_type": "markdown",
   "metadata": {
    "slideshow": {
     "slide_type": "fragment"
    }
   },
   "source": [
    "It will become apparent, however, as we increase the number of tests:"
   ]
  },
  {
   "cell_type": "code",
   "execution_count": 68,
   "metadata": {
    "execution": {
     "iopub.execute_input": "2023-02-11T10:05:29.857076Z",
     "iopub.status.busy": "2023-02-11T10:05:29.841600Z",
     "iopub.status.idle": "2023-02-11T10:05:29.859168Z",
     "shell.execute_reply": "2023-02-11T10:05:29.859599Z"
    },
    "slideshow": {
     "slide_type": "subslide"
    }
   },
   "outputs": [
    {
     "name": "stdout",
     "output_type": "stream",
     "text": [
      "Testing '<Ada np=\\'7\\' y7v=\\'\\'>\"bar</foo>'...FAIL (AssertionError)\n",
      "Testing '<B V=\\'\\'>\"bar</foo>'...FAIL (AssertionError)\n",
      "Testing '<K v=\"$\" s5F=\"\\x0b\" q=\"\" E=\\'\\'>\"bar</foo>'...FAIL (AssertionError)\n",
      "Testing '<Fcdt8 v7A4u=\\'.\\t\\'>\"bar</foo>'...FAIL (AssertionError)\n",
      "Testing '<s n=\"\">\"bar</foo>'...FAIL (AssertionError)\n",
      "Testing '<W>\"bar</foo>'...FAIL (AssertionError)\n",
      "Testing '<ap>\"bar</foo>'...FAIL (AssertionError)\n",
      "Testing '<B1>\"bar</foo>'...FAIL (AssertionError)\n",
      "Testing '<Q00wY M=\\'\\r \\'>\"bar</foo>'...FAIL (AssertionError)\n",
      "Testing '<O6 d7=\"\" H=\\'\\'>\"bar</foo>'...FAIL (AssertionError)\n",
      "Testing '<v1IH w=\"\" ZI=\"\" O=\"\">\"bar</foo>'...FAIL (AssertionError)\n",
      "Testing '<T1 w998=\\'a\\' j=\\'z\\n7\\'>\"bar</foo>'...FAIL (AssertionError)\n",
      "Testing '<Dnh1>\"bar</foo>'...FAIL (AssertionError)\n",
      "Testing '<D F9=\"\" x4=\\'\\' Hup=\\'7\\n\\'>\"bar</foo>'...FAIL (AssertionError)\n",
      "Testing '<l62E>\"bar</foo>'...FAIL (AssertionError)\n",
      "Testing '<k11 P8x5=\"\">\"bar</foo>'...FAIL (AssertionError)\n",
      "Testing '<V6LBVu>\"bar</foo>'...FAIL (AssertionError)\n",
      "Testing '<k9S>\"bar</foo>'...FAIL (AssertionError)\n",
      "Testing '<tU2J913 lQ6N=\\'\\' f=\\'*\\' V=\\'\\' b=\"\" l=\"\" G=\\'\\'>\"bar</foo>'...FAIL (AssertionError)\n",
      "Testing '<X O=\"U~\">\"bar</foo>'...FAIL (AssertionError)\n",
      "Testing '<q4 W=\\'\\' i=\\'aA9\\' I=\\'9\\'>\"bar</foo>'...FAIL (AssertionError)\n",
      "Testing '<HK>\"bar</foo>'...FAIL (AssertionError)\n",
      "Testing '<T>\"bar</foo>'...FAIL (AssertionError)\n",
      "Testing '<NJc j32=\"\\x0b\">\"bar</foo>'...FAIL (AssertionError)\n",
      "Testing '<G>\"bar</foo>'...FAIL (AssertionError)\n",
      "Testing '<w B=\"\\r\">\"bar</foo>'...FAIL (AssertionError)\n",
      "Testing '<Ac1>\"bar</foo>'...FAIL (AssertionError)\n",
      "Testing '<vB y2=\\'7x\\'\\'>\"bar</foo>'...PASS\n"
     ]
    },
    {
     "data": {
      "text/plain": [
       "False"
      ]
     },
     "execution_count": 68,
     "metadata": {},
     "output_type": "execute_result"
    }
   ],
   "source": [
    "bad_input_tree_generalizer(max_tries_for_generalization=100, log=True).can_generalize([0, 0, 0])"
   ]
  },
  {
   "cell_type": "markdown",
   "metadata": {
    "slideshow": {
     "slide_type": "subslide"
    }
   },
   "source": [
    "We see that our approach may _overgeneralize_ – producing a generalization that may be too lenient. In practice, this is not too much of a problem, as we would be interested in characterizing cases that trigger the failure, rather than characterizing a small subset that does not trigger the failure."
   ]
  },
  {
   "cell_type": "markdown",
   "metadata": {
    "slideshow": {
     "slide_type": "subslide"
    }
   },
   "source": [
    "### Generalizable Paths\n",
    "\n",
    "Using `can_generalize()`, we can devise a method `generalizable_paths()` that returns all paths in the tree that can be generalized."
   ]
  },
  {
   "cell_type": "code",
   "execution_count": 69,
   "metadata": {
    "execution": {
     "iopub.execute_input": "2023-02-11T10:05:29.865735Z",
     "iopub.status.busy": "2023-02-11T10:05:29.864534Z",
     "iopub.status.idle": "2023-02-11T10:05:29.867122Z",
     "shell.execute_reply": "2023-02-11T10:05:29.867505Z"
    },
    "slideshow": {
     "slide_type": "subslide"
    }
   },
   "outputs": [],
   "source": [
    "class TreeGeneralizer(TreeGeneralizer):\n",
    "    def find_paths(self, \n",
    "                   predicate: Callable[[TreePath, DerivationTree], bool], \n",
    "                   path: Optional[TreePath] = None, \n",
    "                   tree: Optional[DerivationTree] = None) -> List[TreePath]:\n",
    "        \"\"\"\n",
    "        Return a list of all paths for which `predicate` holds.\n",
    "        `predicate` is a function `predicate`(`path`, `tree`), where\n",
    "        `path` denotes a subtree in `tree`. If `predicate()` returns\n",
    "        True, `path` is included in the returned list.\n",
    "        \"\"\"\n",
    "\n",
    "        if path is None:\n",
    "            path = []\n",
    "        assert path is not None\n",
    "\n",
    "        if tree is None:\n",
    "            tree = self.tree\n",
    "        assert tree is not None\n",
    "\n",
    "        symbol, children = self.get_subtree(path)\n",
    "\n",
    "        if predicate(path, tree):\n",
    "            return [path]\n",
    "\n",
    "        paths = []\n",
    "        if children is not None:\n",
    "            for i, child in enumerate(children):\n",
    "                child_symbol, _ = child\n",
    "                if child_symbol in self.grammar:\n",
    "                    paths += self.find_paths(predicate, path + [i])\n",
    "\n",
    "        return paths\n",
    "\n",
    "    def generalizable_paths(self) -> List[TreePath]:\n",
    "        \"\"\"Return a list of all paths whose subtrees can be generalized.\"\"\"\n",
    "        return self.find_paths(self.can_generalize)"
   ]
  },
  {
   "cell_type": "markdown",
   "metadata": {
    "slideshow": {
     "slide_type": "subslide"
    }
   },
   "source": [
    "Here is `generalizable_paths()` in action. We obtain all (paths to) subtrees that can be generalized:"
   ]
  },
  {
   "cell_type": "code",
   "execution_count": 70,
   "metadata": {
    "execution": {
     "iopub.execute_input": "2023-02-11T10:05:29.900733Z",
     "iopub.status.busy": "2023-02-11T10:05:29.885919Z",
     "iopub.status.idle": "2023-02-11T10:05:29.904004Z",
     "shell.execute_reply": "2023-02-11T10:05:29.904318Z"
    },
    "slideshow": {
     "slide_type": "fragment"
    }
   },
   "outputs": [
    {
     "data": {
      "text/plain": [
       "[[0, 0, 0], [0, 0, 1, 0, 1, 0], [0, 0, 1, 0, 1, 1], [0, 0, 2]]"
      ]
     },
     "execution_count": 70,
     "metadata": {},
     "output_type": "execute_result"
    }
   ],
   "source": [
    "bad_input_generalizable_paths = \\\n",
    "    cast(TreeGeneralizer, bad_input_tree_generalizer()).generalizable_paths()\n",
    "bad_input_generalizable_paths"
   ]
  },
  {
   "cell_type": "markdown",
   "metadata": {
    "slideshow": {
     "slide_type": "fragment"
    }
   },
   "source": [
    "To convert these subtrees into abstract failure-inducing patterns, the method `generalize_path()` returns a copy of the tree with the subtree replaced by a nonterminal without children:"
   ]
  },
  {
   "cell_type": "code",
   "execution_count": 71,
   "metadata": {
    "execution": {
     "iopub.execute_input": "2023-02-11T10:05:29.909672Z",
     "iopub.status.busy": "2023-02-11T10:05:29.908310Z",
     "iopub.status.idle": "2023-02-11T10:05:29.911596Z",
     "shell.execute_reply": "2023-02-11T10:05:29.912143Z"
    },
    "slideshow": {
     "slide_type": "subslide"
    }
   },
   "outputs": [],
   "source": [
    "class TreeGeneralizer(TreeGeneralizer):\n",
    "    def generalize_path(self, path: TreePath, \n",
    "                        tree: Optional[DerivationTree] = None) -> DerivationTree:\n",
    "        \"\"\"Return a copy of the tree in which the subtree at `path`\n",
    "        is generalized (= replaced by a nonterminal without children)\"\"\"\n",
    "\n",
    "        if tree is None:\n",
    "            tree = self.tree\n",
    "        assert tree is not None\n",
    "\n",
    "        symbol, children = tree\n",
    "\n",
    "        if not path or children is None:\n",
    "            return symbol, None  # Nonterminal without children\n",
    "\n",
    "        head = path[0]\n",
    "        new_children = (children[:head] +\n",
    "                        [self.generalize_path(path[1:], children[head])] +\n",
    "                        children[head + 1:])\n",
    "        return symbol, new_children"
   ]
  },
  {
   "cell_type": "markdown",
   "metadata": {
    "slideshow": {
     "slide_type": "subslide"
    }
   },
   "source": [
    "The function `all_terminals()` expands these placeholders:"
   ]
  },
  {
   "cell_type": "code",
   "execution_count": 72,
   "metadata": {
    "execution": {
     "iopub.execute_input": "2023-02-11T10:05:29.920016Z",
     "iopub.status.busy": "2023-02-11T10:05:29.919205Z",
     "iopub.status.idle": "2023-02-11T10:05:29.921765Z",
     "shell.execute_reply": "2023-02-11T10:05:29.922207Z"
    },
    "slideshow": {
     "slide_type": "fragment"
    }
   },
   "outputs": [
    {
     "data": {
      "text/plain": [
       "'<opening-tag>\"bar<plain-text></foo>'"
      ]
     },
     "execution_count": 72,
     "metadata": {},
     "output_type": "execute_result"
    }
   ],
   "source": [
    "all_terminals(cast(TreeGeneralizer, bad_input_tree_generalizer()).generalize_path([0, 0, 0]))"
   ]
  },
  {
   "cell_type": "markdown",
   "metadata": {
    "slideshow": {
     "slide_type": "fragment"
    }
   },
   "source": [
    "Finally, the method `generalize()` obtains a tree in which all generalizable paths actually are generalized:"
   ]
  },
  {
   "cell_type": "code",
   "execution_count": 73,
   "metadata": {
    "execution": {
     "iopub.execute_input": "2023-02-11T10:05:29.927455Z",
     "iopub.status.busy": "2023-02-11T10:05:29.927016Z",
     "iopub.status.idle": "2023-02-11T10:05:29.928769Z",
     "shell.execute_reply": "2023-02-11T10:05:29.929000Z"
    },
    "slideshow": {
     "slide_type": "subslide"
    }
   },
   "outputs": [],
   "source": [
    "class TreeGeneralizer(TreeGeneralizer):\n",
    "    def generalize(self) -> DerivationTree:\n",
    "        \"\"\"Returns a copy of the tree in which all generalizable subtrees\n",
    "        are generalized (= replaced by nonterminals without children)\"\"\"\n",
    "        tree = self.tree\n",
    "        assert tree is not None\n",
    "\n",
    "        for path in self.generalizable_paths():\n",
    "            tree = self.generalize_path(path, tree)\n",
    "\n",
    "        return tree"
   ]
  },
  {
   "cell_type": "code",
   "execution_count": 74,
   "metadata": {
    "execution": {
     "iopub.execute_input": "2023-02-11T10:05:29.955522Z",
     "iopub.status.busy": "2023-02-11T10:05:29.950782Z",
     "iopub.status.idle": "2023-02-11T10:05:29.956842Z",
     "shell.execute_reply": "2023-02-11T10:05:29.957297Z"
    },
    "slideshow": {
     "slide_type": "fragment"
    }
   },
   "outputs": [],
   "source": [
    "abstract_failure_inducing_input = cast(TreeGeneralizer, bad_input_tree_generalizer()).generalize()"
   ]
  },
  {
   "cell_type": "markdown",
   "metadata": {
    "slideshow": {
     "slide_type": "fragment"
    }
   },
   "source": [
    "This gives us the final generalization of `BAD_INPUT`. In the abstract failure-inducing input, all generalizable elements are generalized."
   ]
  },
  {
   "cell_type": "code",
   "execution_count": 75,
   "metadata": {
    "execution": {
     "iopub.execute_input": "2023-02-11T10:05:29.961241Z",
     "iopub.status.busy": "2023-02-11T10:05:29.960664Z",
     "iopub.status.idle": "2023-02-11T10:05:29.963927Z",
     "shell.execute_reply": "2023-02-11T10:05:29.964140Z"
    },
    "slideshow": {
     "slide_type": "subslide"
    }
   },
   "outputs": [
    {
     "data": {
      "text/plain": [
       "'<opening-tag>\"<plain-text><closing-tag>'"
      ]
     },
     "execution_count": 75,
     "metadata": {},
     "output_type": "execute_result"
    }
   ],
   "source": [
    "all_terminals(abstract_failure_inducing_input)"
   ]
  },
  {
   "cell_type": "markdown",
   "metadata": {
    "slideshow": {
     "slide_type": "fragment"
    }
   },
   "source": [
    "We see that to obtain the failure, it suffices to have an `<opening-tag>`, followed by a quote and (any) `<plain-text>` and (any) `<closing-tag>`. Clearly, all that it takes to produce the failure is to have a double quote in the plain text."
   ]
  },
  {
   "cell_type": "markdown",
   "metadata": {
    "slideshow": {
     "slide_type": "fragment"
    }
   },
   "source": [
    "Also note how this diagnosis was reached through _experiments_ only – just as with [delta debugging](DeltaDebugger.ipynb), we could treat the program under test as a black box. In contrast to delta debugging, however, we obtain an _abstraction_ that generalizes the circumstances under which a given failure occurs."
   ]
  },
  {
   "cell_type": "markdown",
   "metadata": {
    "slideshow": {
     "slide_type": "slide"
    }
   },
   "source": [
    "## Fuzzing with Patterns\n",
    "\n",
    "One neat side effect of abstract failure-inducing patterns is that they can be easily instantiated into further test cases, all set to reproduce the failure in question. This gives us a test suite we can later test our fix against."
   ]
  },
  {
   "cell_type": "markdown",
   "metadata": {
    "slideshow": {
     "slide_type": "fragment"
    }
   },
   "source": [
    "The method `fuzz_tree()` takes a tree representing an abstract failure-inducing input and instantiates all missing subtrees."
   ]
  },
  {
   "cell_type": "code",
   "execution_count": 76,
   "metadata": {
    "execution": {
     "iopub.execute_input": "2023-02-11T10:05:29.971050Z",
     "iopub.status.busy": "2023-02-11T10:05:29.970230Z",
     "iopub.status.idle": "2023-02-11T10:05:29.977188Z",
     "shell.execute_reply": "2023-02-11T10:05:29.977857Z"
    },
    "slideshow": {
     "slide_type": "skip"
    }
   },
   "outputs": [],
   "source": [
    "import copy"
   ]
  },
  {
   "cell_type": "code",
   "execution_count": 77,
   "metadata": {
    "execution": {
     "iopub.execute_input": "2023-02-11T10:05:29.981599Z",
     "iopub.status.busy": "2023-02-11T10:05:29.980691Z",
     "iopub.status.idle": "2023-02-11T10:05:29.984105Z",
     "shell.execute_reply": "2023-02-11T10:05:29.985511Z"
    },
    "slideshow": {
     "slide_type": "fragment"
    }
   },
   "outputs": [],
   "source": [
    "class TreeGeneralizer(TreeGeneralizer):\n",
    "    def fuzz_tree(self, tree: DerivationTree) -> DerivationTree:\n",
    "        \"\"\"Return an instantiated copy of `tree`.\"\"\"\n",
    "        tree = copy.deepcopy(tree)\n",
    "        return self.fuzzer.expand_tree(tree)"
   ]
  },
  {
   "cell_type": "code",
   "execution_count": 78,
   "metadata": {
    "execution": {
     "iopub.execute_input": "2023-02-11T10:05:29.993280Z",
     "iopub.status.busy": "2023-02-11T10:05:29.992391Z",
     "iopub.status.idle": "2023-02-11T10:05:30.018479Z",
     "shell.execute_reply": "2023-02-11T10:05:30.018712Z"
    },
    "slideshow": {
     "slide_type": "subslide"
    }
   },
   "outputs": [
    {
     "name": "stdout",
     "output_type": "stream",
     "text": [
      "<UzL3Ct6>\"</p>\n",
      "<nw10E6>\"</W>\n",
      "<h lV=\"'\">\"</x8>\n",
      "<k>\"</u>\n",
      "<a0 l0820650g='3'>\"</v5t>\n",
      "<zTg>\"</o1Z>\n",
      "<yMgT02p s=\"\" g94e='R'>\"</P2>\n",
      "<Y>\"</S9b>\n",
      "<X2566xS8v2>\"</r13>\n",
      "<D48>\"\t</R>\n"
     ]
    }
   ],
   "source": [
    "bitg = cast(TreeGeneralizer, bad_input_tree_generalizer())\n",
    "for i in range(10):\n",
    "    print(all_terminals(bitg.fuzz_tree(abstract_failure_inducing_input)))"
   ]
  },
  {
   "cell_type": "markdown",
   "metadata": {
    "slideshow": {
     "slide_type": "subslide"
    }
   },
   "source": [
    "We can take these inputs and see whether they reproduce the failure in question:"
   ]
  },
  {
   "cell_type": "code",
   "execution_count": 79,
   "metadata": {
    "execution": {
     "iopub.execute_input": "2023-02-11T10:05:30.038846Z",
     "iopub.status.busy": "2023-02-11T10:05:30.038481Z",
     "iopub.status.idle": "2023-02-11T10:05:32.346410Z",
     "shell.execute_reply": "2023-02-11T10:05:32.347326Z"
    },
    "slideshow": {
     "slide_type": "fragment"
    }
   },
   "outputs": [],
   "source": [
    "successes = 0\n",
    "failures = 0\n",
    "trials = 1000\n",
    "\n",
    "for i in range(trials):\n",
    "    test_input = all_terminals(\n",
    "        bitg.fuzz_tree(abstract_failure_inducing_input))\n",
    "    try:\n",
    "        remove_html_markup(test_input)\n",
    "    except AssertionError:\n",
    "        successes += 1\n",
    "    else:\n",
    "        failures += 1"
   ]
  },
  {
   "cell_type": "code",
   "execution_count": 80,
   "metadata": {
    "execution": {
     "iopub.execute_input": "2023-02-11T10:05:32.355052Z",
     "iopub.status.busy": "2023-02-11T10:05:32.353905Z",
     "iopub.status.idle": "2023-02-11T10:05:32.358258Z",
     "shell.execute_reply": "2023-02-11T10:05:32.360358Z"
    },
    "slideshow": {
     "slide_type": "subslide"
    }
   },
   "outputs": [
    {
     "data": {
      "text/plain": [
       "(982, 18)"
      ]
     },
     "execution_count": 80,
     "metadata": {},
     "output_type": "execute_result"
    }
   ],
   "source": [
    "successes, failures"
   ]
  },
  {
   "cell_type": "markdown",
   "metadata": {
    "slideshow": {
     "slide_type": "fragment"
    }
   },
   "source": [
    "We get an overall failure rate of ~98%, which is not bad at all."
   ]
  },
  {
   "cell_type": "code",
   "execution_count": 81,
   "metadata": {
    "execution": {
     "iopub.execute_input": "2023-02-11T10:05:32.366485Z",
     "iopub.status.busy": "2023-02-11T10:05:32.364983Z",
     "iopub.status.idle": "2023-02-11T10:05:32.375828Z",
     "shell.execute_reply": "2023-02-11T10:05:32.376162Z"
    },
    "slideshow": {
     "slide_type": "fragment"
    }
   },
   "outputs": [
    {
     "data": {
      "text/plain": [
       "0.018"
      ]
     },
     "execution_count": 81,
     "metadata": {},
     "output_type": "execute_result"
    }
   ],
   "source": [
    "failures / 1000"
   ]
  },
  {
   "cell_type": "markdown",
   "metadata": {
    "slideshow": {
     "slide_type": "fragment"
    }
   },
   "source": [
    "In our case, it is _overgeneralization_ (as discussed above) that is responsible for not reaching a 100% rate. (In all generality, we are trying to approximate the behavior of a Turing machine with a context free grammar, which is, well, always an approximation.) However, even a lower rate would still be useful, as any additional test case that reproduces a failure helps in ensuring the final fix is complete."
   ]
  },
  {
   "cell_type": "markdown",
   "metadata": {
    "slideshow": {
     "slide_type": "slide"
    }
   },
   "source": [
    "## Putting it all Together\n",
    "\n",
    "Let us now put together all this in a more convenient package that does not require the user to parse and unparse derivation trees."
   ]
  },
  {
   "cell_type": "markdown",
   "metadata": {
    "slideshow": {
     "slide_type": "subslide"
    }
   },
   "source": [
    "Our `DDSetDebugger` is modeled after the `DeltaDebugger` from [the chapter on delta debugging](DeltaDebugger.ipynb). It is to be used as\n",
    "\n",
    "```python\n",
    "with DDSetDebugger(grammar) as dd:\n",
    "    some_failing_function(...)\n",
    "```\n",
    "\n",
    "After that, evaluating `dd` yields a generalized abstract failure-inducing input as a string."
   ]
  },
  {
   "cell_type": "markdown",
   "metadata": {
    "slideshow": {
     "slide_type": "fragment"
    }
   },
   "source": [
    "Since `DDSetDebugger` accepts only one grammar, the function to be debugged should have exactly one string argument (besides other arguments); this string must fit the grammar."
   ]
  },
  {
   "cell_type": "markdown",
   "metadata": {
    "slideshow": {
     "slide_type": "subslide"
    }
   },
   "source": [
    "### Constructor"
   ]
  },
  {
   "cell_type": "markdown",
   "metadata": {
    "slideshow": {
     "slide_type": "fragment"
    }
   },
   "source": [
    "The constructor puts together the various components. It allows for customization by subclassing."
   ]
  },
  {
   "cell_type": "code",
   "execution_count": 82,
   "metadata": {
    "execution": {
     "iopub.execute_input": "2023-02-11T10:05:32.380056Z",
     "iopub.status.busy": "2023-02-11T10:05:32.379482Z",
     "iopub.status.idle": "2023-02-11T10:05:32.381640Z",
     "shell.execute_reply": "2023-02-11T10:05:32.382081Z"
    },
    "slideshow": {
     "slide_type": "skip"
    }
   },
   "outputs": [],
   "source": [
    "from DeltaDebugger import CallCollector"
   ]
  },
  {
   "cell_type": "code",
   "execution_count": 83,
   "metadata": {
    "execution": {
     "iopub.execute_input": "2023-02-11T10:05:32.387784Z",
     "iopub.status.busy": "2023-02-11T10:05:32.386918Z",
     "iopub.status.idle": "2023-02-11T10:05:32.389151Z",
     "shell.execute_reply": "2023-02-11T10:05:32.390167Z"
    },
    "slideshow": {
     "slide_type": "subslide"
    }
   },
   "outputs": [],
   "source": [
    "class DDSetDebugger(CallCollector):\n",
    "    \"\"\"\n",
    "    Debugger implementing the DDSET algorithm for abstracting failure-inducing inputs.\n",
    "    \"\"\"\n",
    "\n",
    "    def __init__(self, grammar: Grammar, \n",
    "                 generalizer_class: Type = TreeGeneralizer,\n",
    "                 parser: Optional[Parser] = None,\n",
    "                 **kwargs: Any) -> None:\n",
    "        \"\"\"Constructor.\n",
    "        `grammar` is an input grammar in fuzzingbook format.\n",
    "        `generalizer_class` is the tree generalizer class to use\n",
    "        (default: `TreeGeneralizer`)\n",
    "        `parser` is the parser to use (default: `EarleyParser(grammar)`).\n",
    "        All other keyword args are passed to the tree generalizer, notably:\n",
    "        `fuzzer` - the fuzzer to use (default: `GrammarFuzzer`), and\n",
    "        `log` - enables debugging output if True.\n",
    "        \"\"\"\n",
    "        super().__init__()\n",
    "        self.grammar = grammar\n",
    "        assert is_valid_grammar(grammar)\n",
    "\n",
    "        self.generalizer_class = generalizer_class\n",
    "\n",
    "        if parser is None:\n",
    "            parser = EarleyParser(grammar)\n",
    "        self.parser = parser\n",
    "        self.kwargs = kwargs\n",
    "\n",
    "        # These save state for further fuzz() calls\n",
    "        self.generalized_args: Dict[str, Any] = {}\n",
    "        self.generalized_trees: Dict[str, DerivationTree] = {}\n",
    "        self.generalizers: Dict[str, TreeGeneralizer] = {}"
   ]
  },
  {
   "cell_type": "markdown",
   "metadata": {
    "slideshow": {
     "slide_type": "subslide"
    }
   },
   "source": [
    "### Generalizing Arguments"
   ]
  },
  {
   "attachments": {},
   "cell_type": "markdown",
   "metadata": {
    "slideshow": {
     "slide_type": "fragment"
    }
   },
   "source": [
    "The method `generalize()` is the main entry point. For all string arguments collected in the first function call, it generalizes the arguments and returns an abstract failure-inducing string."
   ]
  },
  {
   "cell_type": "code",
   "execution_count": 84,
   "metadata": {
    "execution": {
     "iopub.execute_input": "2023-02-11T10:05:32.397185Z",
     "iopub.status.busy": "2023-02-11T10:05:32.396356Z",
     "iopub.status.idle": "2023-02-11T10:05:32.398105Z",
     "shell.execute_reply": "2023-02-11T10:05:32.399064Z"
    },
    "slideshow": {
     "slide_type": "subslide"
    }
   },
   "outputs": [],
   "source": [
    "class DDSetDebugger(DDSetDebugger):\n",
    "    def generalize(self) -> Dict[str, Any]:\n",
    "        \"\"\"\n",
    "        Generalize arguments seen. For each function argument,\n",
    "        produce an abstract failure-inducing input that characterizes\n",
    "        the set of inputs for which the function fails.\n",
    "        \"\"\"\n",
    "        if self.generalized_args:\n",
    "            return self.generalized_args\n",
    "\n",
    "        self.generalized_args = copy.deepcopy(self.args())\n",
    "        self.generalized_trees = {}\n",
    "        self.generalizers = {}\n",
    "\n",
    "        for arg in self.args():\n",
    "            def test(value: Any) -> Any:\n",
    "                return self.call({arg: value})\n",
    "\n",
    "            value = self.args()[arg]\n",
    "            if isinstance(value, str):\n",
    "                tree = list(self.parser.parse(value))[0]\n",
    "                gen = self.generalizer_class(self.grammar, tree, test, \n",
    "                                             **self.kwargs)\n",
    "                generalized_tree = gen.generalize()\n",
    "\n",
    "                self.generalizers[arg] = gen\n",
    "                self.generalized_trees[arg] = generalized_tree\n",
    "                self.generalized_args[arg] = all_terminals(generalized_tree)\n",
    "\n",
    "        return self.generalized_args"
   ]
  },
  {
   "cell_type": "code",
   "execution_count": 85,
   "metadata": {
    "execution": {
     "iopub.execute_input": "2023-02-11T10:05:32.402538Z",
     "iopub.status.busy": "2023-02-11T10:05:32.401992Z",
     "iopub.status.idle": "2023-02-11T10:05:32.403583Z",
     "shell.execute_reply": "2023-02-11T10:05:32.403893Z"
    },
    "slideshow": {
     "slide_type": "subslide"
    }
   },
   "outputs": [],
   "source": [
    "class DDSetDebugger(DDSetDebugger):\n",
    "    def __repr__(self) -> str:\n",
    "        \"\"\"Return a string representation of the generalized call.\"\"\"\n",
    "        return self.format_call(self.generalize())"
   ]
  },
  {
   "cell_type": "markdown",
   "metadata": {
    "slideshow": {
     "slide_type": "fragment"
    }
   },
   "source": [
    "Here is an example of how `DDSetDebugger` would be used on our `BAD_INPUT` example. Simply evaluating the debugger yields a call with a generalized input."
   ]
  },
  {
   "cell_type": "code",
   "execution_count": 86,
   "metadata": {
    "execution": {
     "iopub.execute_input": "2023-02-11T10:05:32.430108Z",
     "iopub.status.busy": "2023-02-11T10:05:32.429464Z",
     "iopub.status.idle": "2023-02-11T10:05:32.432399Z",
     "shell.execute_reply": "2023-02-11T10:05:32.433318Z"
    },
    "slideshow": {
     "slide_type": "fragment"
    }
   },
   "outputs": [
    {
     "data": {
      "text/plain": [
       "remove_html_markup(s='<opening-tag>\"<plain-text><closing-tag>')"
      ]
     },
     "execution_count": 86,
     "metadata": {},
     "output_type": "execute_result"
    }
   ],
   "source": [
    "with DDSetDebugger(SIMPLE_HTML_GRAMMAR) as dd:\n",
    "    remove_html_markup(BAD_INPUT)\n",
    "dd"
   ]
  },
  {
   "cell_type": "markdown",
   "metadata": {
    "slideshow": {
     "slide_type": "subslide"
    }
   },
   "source": [
    "### Fuzzing\n",
    "\n",
    "The `fuzz()` method produces instantiations of the abstract failure-inducing pattern."
   ]
  },
  {
   "cell_type": "code",
   "execution_count": 87,
   "metadata": {
    "execution": {
     "iopub.execute_input": "2023-02-11T10:05:32.437326Z",
     "iopub.status.busy": "2023-02-11T10:05:32.436842Z",
     "iopub.status.idle": "2023-02-11T10:05:32.438465Z",
     "shell.execute_reply": "2023-02-11T10:05:32.438868Z"
    },
    "slideshow": {
     "slide_type": "subslide"
    }
   },
   "outputs": [],
   "source": [
    "class DDSetDebugger(DDSetDebugger):\n",
    "    def fuzz_args(self) -> Dict[str, Any]:\n",
    "        \"\"\"\n",
    "        Return arguments randomly instantiated\n",
    "        from the abstract failure-inducing pattern.\n",
    "        \"\"\"\n",
    "        if not self.generalized_trees:\n",
    "            self.generalize()\n",
    "\n",
    "        args = copy.deepcopy(self.generalized_args)\n",
    "        for arg in args:\n",
    "            if arg not in self.generalized_trees:\n",
    "                continue\n",
    "\n",
    "            tree = self.generalized_trees[arg]\n",
    "            gen = self.generalizers[arg]\n",
    "            instantiated_tree = gen.fuzz_tree(tree)\n",
    "            args[arg] = all_terminals(instantiated_tree)\n",
    "\n",
    "        return args\n",
    "\n",
    "    def fuzz(self) -> str:\n",
    "        \"\"\"\n",
    "        Return a call with arguments randomly instantiated\n",
    "        from the abstract failure-inducing pattern.\n",
    "        \"\"\"\n",
    "        return self.format_call(self.fuzz_args())"
   ]
  },
  {
   "cell_type": "markdown",
   "metadata": {
    "slideshow": {
     "slide_type": "subslide"
    }
   },
   "source": [
    "Here are some axamples of `fuzz()` in action:"
   ]
  },
  {
   "cell_type": "code",
   "execution_count": 88,
   "metadata": {
    "execution": {
     "iopub.execute_input": "2023-02-11T10:05:32.441868Z",
     "iopub.status.busy": "2023-02-11T10:05:32.441499Z",
     "iopub.status.idle": "2023-02-11T10:05:32.443117Z",
     "shell.execute_reply": "2023-02-11T10:05:32.443350Z"
    },
    "slideshow": {
     "slide_type": "fragment"
    }
   },
   "outputs": [],
   "source": [
    "with DDSetDebugger(SIMPLE_HTML_GRAMMAR) as dd:\n",
    "    remove_html_markup(BAD_INPUT)"
   ]
  },
  {
   "cell_type": "code",
   "execution_count": 89,
   "metadata": {
    "execution": {
     "iopub.execute_input": "2023-02-11T10:05:32.471317Z",
     "iopub.status.busy": "2023-02-11T10:05:32.470250Z",
     "iopub.status.idle": "2023-02-11T10:05:32.474516Z",
     "shell.execute_reply": "2023-02-11T10:05:32.474919Z"
    },
    "slideshow": {
     "slide_type": "fragment"
    }
   },
   "outputs": [
    {
     "data": {
      "text/plain": [
       "'remove_html_markup(s=\\'<Xq>\"</j>\\')'"
      ]
     },
     "execution_count": 89,
     "metadata": {},
     "output_type": "execute_result"
    }
   ],
   "source": [
    "dd.fuzz()"
   ]
  },
  {
   "cell_type": "code",
   "execution_count": 90,
   "metadata": {
    "execution": {
     "iopub.execute_input": "2023-02-11T10:05:32.479947Z",
     "iopub.status.busy": "2023-02-11T10:05:32.479473Z",
     "iopub.status.idle": "2023-02-11T10:05:32.481398Z",
     "shell.execute_reply": "2023-02-11T10:05:32.481777Z"
    },
    "slideshow": {
     "slide_type": "fragment"
    }
   },
   "outputs": [
    {
     "data": {
      "text/plain": [
       "'remove_html_markup(s=\\'<L89B6b9vz>\"\\\\t</a3>\\')'"
      ]
     },
     "execution_count": 90,
     "metadata": {},
     "output_type": "execute_result"
    }
   ],
   "source": [
    "dd.fuzz()"
   ]
  },
  {
   "cell_type": "code",
   "execution_count": 91,
   "metadata": {
    "execution": {
     "iopub.execute_input": "2023-02-11T10:05:32.487296Z",
     "iopub.status.busy": "2023-02-11T10:05:32.486796Z",
     "iopub.status.idle": "2023-02-11T10:05:32.489261Z",
     "shell.execute_reply": "2023-02-11T10:05:32.489617Z"
    },
    "slideshow": {
     "slide_type": "fragment"
    }
   },
   "outputs": [
    {
     "data": {
      "text/plain": [
       "'remove_html_markup(s=\\'<Z VF=\\\\\\'\\\\\\' l=\"_-(\">\")</Y>\\')'"
      ]
     },
     "execution_count": 91,
     "metadata": {},
     "output_type": "execute_result"
    }
   ],
   "source": [
    "dd.fuzz()"
   ]
  },
  {
   "cell_type": "markdown",
   "metadata": {
    "slideshow": {
     "slide_type": "fragment"
    }
   },
   "source": [
    " These can be fed into `eval()`, set to produce more failing calls."
   ]
  },
  {
   "cell_type": "code",
   "execution_count": 92,
   "metadata": {
    "execution": {
     "iopub.execute_input": "2023-02-11T10:05:32.497752Z",
     "iopub.status.busy": "2023-02-11T10:05:32.495982Z",
     "iopub.status.idle": "2023-02-11T10:05:32.501906Z",
     "shell.execute_reply": "2023-02-11T10:05:32.502583Z"
    },
    "slideshow": {
     "slide_type": "subslide"
    }
   },
   "outputs": [
    {
     "name": "stderr",
     "output_type": "stream",
     "text": [
      "Traceback (most recent call last):\n",
      "  File \"/var/folders/n2/xd9445p97rb3xh7m1dfx8_4h0006ts/T/ipykernel_2951/2072246869.py\", line 2, in <cell line: 1>\n",
      "    eval(dd.fuzz())\n",
      "  File \"<string>\", line 1, in <module>\n",
      "  File \"/var/folders/n2/xd9445p97rb3xh7m1dfx8_4h0006ts/T/ipykernel_2951/2717035104.py\", line 17, in remove_html_markup\n",
      "    assert '<' not in out and '>' not in out\n",
      "AssertionError (expected)\n"
     ]
    }
   ],
   "source": [
    "with ExpectError(AssertionError):\n",
    "    eval(dd.fuzz())"
   ]
  },
  {
   "cell_type": "markdown",
   "metadata": {
    "slideshow": {
     "slide_type": "slide"
    }
   },
   "source": [
    "## More Examples\n",
    "\n",
    "Let us apply `DDSetDebugger` on more examples."
   ]
  },
  {
   "cell_type": "markdown",
   "metadata": {
    "slideshow": {
     "slide_type": "subslide"
    }
   },
   "source": [
    "### Square Root\n",
    "\n",
    "Our first example is the `square_root()` function from [the chapter on assertions](Assertions.ipynb)."
   ]
  },
  {
   "cell_type": "code",
   "execution_count": 93,
   "metadata": {
    "execution": {
     "iopub.execute_input": "2023-02-11T10:05:32.506766Z",
     "iopub.status.busy": "2023-02-11T10:05:32.506256Z",
     "iopub.status.idle": "2023-02-11T10:05:32.507909Z",
     "shell.execute_reply": "2023-02-11T10:05:32.508125Z"
    },
    "slideshow": {
     "slide_type": "skip"
    }
   },
   "outputs": [],
   "source": [
    "from Assertions import square_root  # minor dependency"
   ]
  },
  {
   "cell_type": "markdown",
   "metadata": {
    "slideshow": {
     "slide_type": "fragment"
    }
   },
   "source": [
    "The `square_root()` function fails on a value of `-1`:"
   ]
  },
  {
   "cell_type": "code",
   "execution_count": 94,
   "metadata": {
    "execution": {
     "iopub.execute_input": "2023-02-11T10:05:32.510335Z",
     "iopub.status.busy": "2023-02-11T10:05:32.509995Z",
     "iopub.status.idle": "2023-02-11T10:05:32.511472Z",
     "shell.execute_reply": "2023-02-11T10:05:32.511847Z"
    },
    "slideshow": {
     "slide_type": "fragment"
    }
   },
   "outputs": [
    {
     "name": "stderr",
     "output_type": "stream",
     "text": [
      "Traceback (most recent call last):\n",
      "  File \"/var/folders/n2/xd9445p97rb3xh7m1dfx8_4h0006ts/T/ipykernel_2951/1205325604.py\", line 2, in <cell line: 1>\n",
      "    square_root(-1)\n",
      "  File \"/Users/zeller/Projects/debuggingbook/notebooks/Assertions.ipynb\", line 55, in square_root\n",
      "    assert x >= 0  # precondition\n",
      "AssertionError (expected)\n"
     ]
    }
   ],
   "source": [
    "with ExpectError(AssertionError):\n",
    "    square_root(-1)"
   ]
  },
  {
   "cell_type": "markdown",
   "metadata": {
    "slideshow": {
     "slide_type": "fragment"
    }
   },
   "source": [
    "We define a grammar for its arguments:"
   ]
  },
  {
   "cell_type": "code",
   "execution_count": 95,
   "metadata": {
    "button": false,
    "execution": {
     "iopub.execute_input": "2023-02-11T10:05:32.514601Z",
     "iopub.status.busy": "2023-02-11T10:05:32.514193Z",
     "iopub.status.idle": "2023-02-11T10:05:32.516200Z",
     "shell.execute_reply": "2023-02-11T10:05:32.515707Z"
    },
    "new_sheet": false,
    "run_control": {
     "read_only": false
    },
    "slideshow": {
     "slide_type": "subslide"
    }
   },
   "outputs": [],
   "source": [
    "INT_GRAMMAR: Grammar = {\n",
    "    \"<start>\":\n",
    "        [\"<int>\"],\n",
    "\n",
    "    \"<int>\":\n",
    "        [\"<positive-int>\", \"-<positive-int>\"],\n",
    "\n",
    "    \"<positive-int>\":\n",
    "        [\"<digit>\", \"<nonzero-digit><positive-int>\"],\n",
    "\n",
    "    \"<nonzero-digit>\": list(\"123456789\"),\n",
    "    \n",
    "    \"<digit>\": list(string.digits),\n",
    "}"
   ]
  },
  {
   "cell_type": "markdown",
   "metadata": {
    "slideshow": {
     "slide_type": "fragment"
    }
   },
   "source": [
    "The test function takes a string and converts it into an integer:"
   ]
  },
  {
   "cell_type": "code",
   "execution_count": 96,
   "metadata": {
    "execution": {
     "iopub.execute_input": "2023-02-11T10:05:32.518971Z",
     "iopub.status.busy": "2023-02-11T10:05:32.518537Z",
     "iopub.status.idle": "2023-02-11T10:05:32.519781Z",
     "shell.execute_reply": "2023-02-11T10:05:32.520146Z"
    },
    "slideshow": {
     "slide_type": "subslide"
    }
   },
   "outputs": [],
   "source": [
    "def square_root_test(s: str) -> None:\n",
    "    return square_root(int(s))"
   ]
  },
  {
   "cell_type": "markdown",
   "metadata": {
    "slideshow": {
     "slide_type": "fragment"
    }
   },
   "source": [
    "With this, we can go and see whether we can generalize a failing input:"
   ]
  },
  {
   "cell_type": "code",
   "execution_count": 97,
   "metadata": {
    "execution": {
     "iopub.execute_input": "2023-02-11T10:05:32.523290Z",
     "iopub.status.busy": "2023-02-11T10:05:32.522752Z",
     "iopub.status.idle": "2023-02-11T10:05:32.524487Z",
     "shell.execute_reply": "2023-02-11T10:05:32.524749Z"
    },
    "slideshow": {
     "slide_type": "fragment"
    }
   },
   "outputs": [],
   "source": [
    "with DDSetDebugger(INT_GRAMMAR, log=True) as dd_square_root:\n",
    "    square_root_test(\"-1\")"
   ]
  },
  {
   "cell_type": "code",
   "execution_count": 98,
   "metadata": {
    "execution": {
     "iopub.execute_input": "2023-02-11T10:05:32.530470Z",
     "iopub.status.busy": "2023-02-11T10:05:32.530063Z",
     "iopub.status.idle": "2023-02-11T10:05:32.531960Z",
     "shell.execute_reply": "2023-02-11T10:05:32.532188Z"
    },
    "slideshow": {
     "slide_type": "subslide"
    }
   },
   "outputs": [
    {
     "name": "stdout",
     "output_type": "stream",
     "text": [
      "Testing '-8'...FAIL (AssertionError)\n",
      "Testing '-316'...FAIL (AssertionError)\n",
      "Testing '8'...PASS\n",
      "Testing '684'...PASS\n",
      "Testing '-3'...FAIL (AssertionError)\n",
      "Testing '-870'...FAIL (AssertionError)\n",
      "Testing '-3'...FAIL (AssertionError)\n",
      "Testing '-3451'...FAIL (AssertionError)\n",
      "Testing '-8'...FAIL (AssertionError)\n",
      "Testing '-63213'...FAIL (AssertionError)\n",
      "Testing '-26'...FAIL (AssertionError)\n",
      "Testing '-4'...FAIL (AssertionError)\n",
      "Testing '-6'...FAIL (AssertionError)\n",
      "Testing '-8'...FAIL (AssertionError)\n"
     ]
    },
    {
     "data": {
      "text/plain": [
       "square_root_test(s='-<positive-int>')"
      ]
     },
     "execution_count": 98,
     "metadata": {},
     "output_type": "execute_result"
    }
   ],
   "source": [
    "dd_square_root"
   ]
  },
  {
   "cell_type": "markdown",
   "metadata": {
    "slideshow": {
     "slide_type": "subslide"
    }
   },
   "source": [
    "Success! Using `DDSetDebugger`, we have nicely generalized the failure-inducing input to a pattern `-<positive-int>` that translates into \"any negative number\"."
   ]
  },
  {
   "cell_type": "markdown",
   "metadata": {
    "slideshow": {
     "slide_type": "subslide"
    }
   },
   "source": [
    "### Middle\n",
    "\n",
    "The `middle()` function from [the chapter on statistical debugging](StatisticalDebugger.ipynb) returns the middle of three numerical values `x`, `y`, and `z`."
   ]
  },
  {
   "cell_type": "code",
   "execution_count": 99,
   "metadata": {
    "execution": {
     "iopub.execute_input": "2023-02-11T10:05:32.568953Z",
     "iopub.status.busy": "2023-02-11T10:05:32.568605Z",
     "iopub.status.idle": "2023-02-11T10:05:33.429316Z",
     "shell.execute_reply": "2023-02-11T10:05:33.429779Z"
    },
    "slideshow": {
     "slide_type": "skip"
    }
   },
   "outputs": [],
   "source": [
    "from StatisticalDebugger import middle  # minor dependency"
   ]
  },
  {
   "cell_type": "markdown",
   "metadata": {
    "slideshow": {
     "slide_type": "fragment"
    }
   },
   "source": [
    "We set up a test function that evaluates a string – a tuple of three arguments – and then tests `middle()`:"
   ]
  },
  {
   "cell_type": "code",
   "execution_count": 100,
   "metadata": {
    "execution": {
     "iopub.execute_input": "2023-02-11T10:05:33.433006Z",
     "iopub.status.busy": "2023-02-11T10:05:33.432636Z",
     "iopub.status.idle": "2023-02-11T10:05:33.434029Z",
     "shell.execute_reply": "2023-02-11T10:05:33.434221Z"
    },
    "slideshow": {
     "slide_type": "fragment"
    }
   },
   "outputs": [],
   "source": [
    "def middle_test(s: str) -> None:\n",
    "    x, y, z = eval(s)\n",
    "    assert middle(x, y, z) == sorted([x, y, z])[1]"
   ]
  },
  {
   "cell_type": "markdown",
   "metadata": {
    "slideshow": {
     "slide_type": "fragment"
    }
   },
   "source": [
    "The grammar for the three numbers simply puts three integers together:"
   ]
  },
  {
   "cell_type": "code",
   "execution_count": 101,
   "metadata": {
    "button": false,
    "execution": {
     "iopub.execute_input": "2023-02-11T10:05:33.437494Z",
     "iopub.status.busy": "2023-02-11T10:05:33.436553Z",
     "iopub.status.idle": "2023-02-11T10:05:33.440489Z",
     "shell.execute_reply": "2023-02-11T10:05:33.440116Z"
    },
    "new_sheet": false,
    "run_control": {
     "read_only": false
    },
    "slideshow": {
     "slide_type": "subslide"
    }
   },
   "outputs": [],
   "source": [
    "XYZ_GRAMMAR: Grammar = {\n",
    "    \"<start>\":\n",
    "        [\"<int>, <int>, <int>\"],\n",
    "\n",
    "    \"<int>\":\n",
    "        [\"<positive-int>\", \"-<positive-int>\"],\n",
    "\n",
    "    \"<positive-int>\":\n",
    "        [\"<digit>\", \"<nonzero-digit><positive-int>\"],\n",
    "\n",
    "    \"<nonzero-digit>\": list(\"123456789\"),\n",
    "    \n",
    "    \"<digit>\": list(string.digits),\n",
    "}"
   ]
  },
  {
   "cell_type": "markdown",
   "metadata": {
    "slideshow": {
     "slide_type": "fragment"
    }
   },
   "source": [
    "Here is an example of `middle()` failing:"
   ]
  },
  {
   "cell_type": "code",
   "execution_count": 102,
   "metadata": {
    "execution": {
     "iopub.execute_input": "2023-02-11T10:05:33.449042Z",
     "iopub.status.busy": "2023-02-11T10:05:33.448360Z",
     "iopub.status.idle": "2023-02-11T10:05:33.451299Z",
     "shell.execute_reply": "2023-02-11T10:05:33.451596Z"
    },
    "slideshow": {
     "slide_type": "subslide"
    }
   },
   "outputs": [
    {
     "name": "stderr",
     "output_type": "stream",
     "text": [
      "Traceback (most recent call last):\n",
      "  File \"/var/folders/n2/xd9445p97rb3xh7m1dfx8_4h0006ts/T/ipykernel_2951/982110330.py\", line 2, in <cell line: 1>\n",
      "    middle_test(\"2, 1, 3\")\n",
      "  File \"/var/folders/n2/xd9445p97rb3xh7m1dfx8_4h0006ts/T/ipykernel_2951/3079946275.py\", line 3, in middle_test\n",
      "    assert middle(x, y, z) == sorted([x, y, z])[1]\n",
      "AssertionError (expected)\n"
     ]
    }
   ],
   "source": [
    "with ExpectError(AssertionError):\n",
    "    middle_test(\"2, 1, 3\")"
   ]
  },
  {
   "cell_type": "markdown",
   "metadata": {
    "slideshow": {
     "slide_type": "fragment"
    }
   },
   "source": [
    "What happens if we debug this with `DDSetDebugger`? We see that there is no abstraction at the syntax level that could characterize this failure:"
   ]
  },
  {
   "cell_type": "code",
   "execution_count": 103,
   "metadata": {
    "execution": {
     "iopub.execute_input": "2023-02-11T10:05:33.457026Z",
     "iopub.status.busy": "2023-02-11T10:05:33.455867Z",
     "iopub.status.idle": "2023-02-11T10:05:33.459715Z",
     "shell.execute_reply": "2023-02-11T10:05:33.458934Z"
    },
    "slideshow": {
     "slide_type": "fragment"
    }
   },
   "outputs": [],
   "source": [
    "with DDSetDebugger(XYZ_GRAMMAR, log=True) as dd_middle:\n",
    "    middle_test(\"2, 1, 3\")"
   ]
  },
  {
   "cell_type": "code",
   "execution_count": 104,
   "metadata": {
    "execution": {
     "iopub.execute_input": "2023-02-11T10:05:33.466822Z",
     "iopub.status.busy": "2023-02-11T10:05:33.466431Z",
     "iopub.status.idle": "2023-02-11T10:05:33.468842Z",
     "shell.execute_reply": "2023-02-11T10:05:33.469104Z"
    },
    "slideshow": {
     "slide_type": "subslide"
    }
   },
   "outputs": [
    {
     "name": "stdout",
     "output_type": "stream",
     "text": [
      "Testing '7, 4591, -0'...PASS\n",
      "Testing '6, 1, 3'...PASS\n",
      "Testing '7, 1, 3'...PASS\n",
      "Testing '7, 1, 3'...PASS\n",
      "Testing '2, -7, 3'...FAIL (AssertionError)\n",
      "Testing '2, 0, 3'...FAIL (AssertionError)\n",
      "Testing '2, -89, 3'...FAIL (AssertionError)\n",
      "Testing '2, 973, 3'...PASS\n",
      "Testing '2, 11, 3'...PASS\n",
      "Testing '2, 8, 3'...PASS\n",
      "Testing '2, 1, 9'...FAIL (AssertionError)\n",
      "Testing '2, 1, -16'...PASS\n",
      "Testing '2, 1, 35'...FAIL (AssertionError)\n",
      "Testing '2, 1, 6'...FAIL (AssertionError)\n",
      "Testing '2, 1, 53'...FAIL (AssertionError)\n",
      "Testing '2, 1, 5'...FAIL (AssertionError)\n",
      "Testing '2, 1, 737'...FAIL (AssertionError)\n",
      "Testing '2, 1, 28'...FAIL (AssertionError)\n",
      "Testing '2, 1, 3'...FAIL (AssertionError)\n",
      "Testing '2, 1, 5'...FAIL (AssertionError)\n",
      "Testing '2, 1, 5'...FAIL (AssertionError)\n",
      "Testing '2, 1, 56'...FAIL (AssertionError)\n"
     ]
    },
    {
     "data": {
      "text/plain": [
       "middle_test(s='2, 1, <positive-int>')"
      ]
     },
     "execution_count": 104,
     "metadata": {},
     "output_type": "execute_result"
    }
   ],
   "source": [
    "dd_middle"
   ]
  },
  {
   "cell_type": "markdown",
   "metadata": {
    "slideshow": {
     "slide_type": "subslide"
    }
   },
   "source": [
    "So, while there are failures that can be nicely characterized using abstractions of input elements, `middle()` is not one of them. Which is good, because this means that all our other techniques such as [statistical debugging](StatisticalDebugger.ipynb) and [dynamic invariants](DynamicInvariants.ipynb) still have a use case :-)"
   ]
  },
  {
   "cell_type": "markdown",
   "metadata": {
    "slideshow": {
     "slide_type": "slide"
    }
   },
   "source": [
    "## Synopsis"
   ]
  },
  {
   "cell_type": "markdown",
   "metadata": {
    "slideshow": {
     "slide_type": "subslide"
    }
   },
   "source": [
    "This chapter provides a class `DDSetDebugger`, implementing the DDSET algorithm for generalizing failure-inducing inputs. The `DDSetDebugger` is used as follows:\n",
    "\n",
    "```python\n",
    "with DDSetDebugger(grammar) as dd:\n",
    "    function(args...)\n",
    "dd\n",
    "```\n",
    "\n",
    "Here, `function(args...)` is a failing function call (= raises an execption) that takes at least one string argument; `grammar` is an [input grammar in fuzzingbook format](https://www.fuzzingbook.org/html/Grammars.html) that matches the format of this argument.\n",
    "\n",
    "The result is a call of `function()` with an _abstract failure-inducing input_ – a variant of the conrete input in which parts are replaced by placeholders in the form `<name>`, where `<name>` is a nonterminal in the grammar. The failure has been verified to occur for a number of instantiations of `<name>`."
   ]
  },
  {
   "cell_type": "markdown",
   "metadata": {
    "slideshow": {
     "slide_type": "subslide"
    }
   },
   "source": [
    "Here is an example of how `DDSetDebugger` works. The concrete failing input `<foo>\"bar</foo>` is generalized to an _abstract failure-inducing input_:"
   ]
  },
  {
   "cell_type": "code",
   "execution_count": 105,
   "metadata": {
    "execution": {
     "iopub.execute_input": "2023-02-11T10:05:33.490228Z",
     "iopub.status.busy": "2023-02-11T10:05:33.489345Z",
     "iopub.status.idle": "2023-02-11T10:05:33.493587Z",
     "shell.execute_reply": "2023-02-11T10:05:33.493889Z"
    },
    "slideshow": {
     "slide_type": "fragment"
    }
   },
   "outputs": [
    {
     "data": {
      "text/plain": [
       "remove_html_markup(s='<lt><id><gt>\"<plain-text><closing-tag>')"
      ]
     },
     "execution_count": 105,
     "metadata": {},
     "output_type": "execute_result"
    }
   ],
   "source": [
    "with DDSetDebugger(SIMPLE_HTML_GRAMMAR) as dd:\n",
    "    remove_html_markup('<foo>\"bar</foo>')\n",
    "dd"
   ]
  },
  {
   "cell_type": "markdown",
   "metadata": {
    "slideshow": {
     "slide_type": "fragment"
    }
   },
   "source": [
    "The abstract input tells us that the failure occurs for whatever opening and closing HTML tags as long as there is a double quote between them."
   ]
  },
  {
   "cell_type": "markdown",
   "metadata": {
    "slideshow": {
     "slide_type": "fragment"
    }
   },
   "source": [
    "A programmatic interface is available as well. `generalize()` returns a mapping of argument names to (generalized) values:"
   ]
  },
  {
   "cell_type": "code",
   "execution_count": 106,
   "metadata": {
    "execution": {
     "iopub.execute_input": "2023-02-11T10:05:33.498390Z",
     "iopub.status.busy": "2023-02-11T10:05:33.497170Z",
     "iopub.status.idle": "2023-02-11T10:05:33.502857Z",
     "shell.execute_reply": "2023-02-11T10:05:33.501730Z"
    },
    "slideshow": {
     "slide_type": "fragment"
    }
   },
   "outputs": [
    {
     "data": {
      "text/plain": [
       "{'s': '<lt><id><gt>\"<plain-text><closing-tag>'}"
      ]
     },
     "execution_count": 106,
     "metadata": {},
     "output_type": "execute_result"
    }
   ],
   "source": [
    "dd.generalize()"
   ]
  },
  {
   "cell_type": "markdown",
   "metadata": {
    "slideshow": {
     "slide_type": "subslide"
    }
   },
   "source": [
    "Using `fuzz()`, the abstract input can be instantiated to further concrete inputs, all set to produce the failure again:"
   ]
  },
  {
   "cell_type": "code",
   "execution_count": 107,
   "metadata": {
    "execution": {
     "iopub.execute_input": "2023-02-11T10:05:33.516789Z",
     "iopub.status.busy": "2023-02-11T10:05:33.514595Z",
     "iopub.status.idle": "2023-02-11T10:05:33.518915Z",
     "shell.execute_reply": "2023-02-11T10:05:33.519583Z"
    },
    "slideshow": {
     "slide_type": "fragment"
    }
   },
   "outputs": [
    {
     "name": "stdout",
     "output_type": "stream",
     "text": [
      "remove_html_markup(s='<s1d>\"1</hF>')\n",
      "remove_html_markup(s='<H>\"c*C</l>')\n",
      "remove_html_markup(s='<Ah2>\"</v>')\n",
      "remove_html_markup(s='<a7>\")</NP>')\n",
      "remove_html_markup(s='<boyIIt640TF>\"</b08>')\n",
      "remove_html_markup(s='<dF>\"</fay>')\n",
      "remove_html_markup(s='<l2>\"\\t7</z>')\n",
      "remove_html_markup(s='<ci>\"</t>')\n",
      "remove_html_markup(s='<J>\"2</t>')\n",
      "remove_html_markup(s='<Fo9g>\"\\r~\\t\\r</D>')\n"
     ]
    }
   ],
   "source": [
    "for i in range(10):\n",
    "    print(dd.fuzz())"
   ]
  },
  {
   "cell_type": "markdown",
   "metadata": {
    "slideshow": {
     "slide_type": "subslide"
    }
   },
   "source": [
    "`DDSetDebugger` can be customized by passing a subclass of `TreeGeneralizer`, which does the gist of the work; for details, see its constructor.\n",
    "The full class hierarchy is shown below."
   ]
  },
  {
   "cell_type": "code",
   "execution_count": 108,
   "metadata": {
    "execution": {
     "iopub.execute_input": "2023-02-11T10:05:33.523376Z",
     "iopub.status.busy": "2023-02-11T10:05:33.522768Z",
     "iopub.status.idle": "2023-02-11T10:05:33.525073Z",
     "shell.execute_reply": "2023-02-11T10:05:33.525483Z"
    },
    "slideshow": {
     "slide_type": "fragment"
    }
   },
   "outputs": [],
   "source": [
    "# ignore\n",
    "from ClassDiagram import display_class_hierarchy"
   ]
  },
  {
   "cell_type": "code",
   "execution_count": 109,
   "metadata": {
    "execution": {
     "iopub.execute_input": "2023-02-11T10:05:33.531131Z",
     "iopub.status.busy": "2023-02-11T10:05:33.530665Z",
     "iopub.status.idle": "2023-02-11T10:05:34.017237Z",
     "shell.execute_reply": "2023-02-11T10:05:34.017792Z"
    },
    "slideshow": {
     "slide_type": "subslide"
    }
   },
   "outputs": [
    {
     "data": {
      "image/svg+xml": [
       "<?xml version=\"1.0\" encoding=\"UTF-8\" standalone=\"no\"?>\n",
       "<!DOCTYPE svg PUBLIC \"-//W3C//DTD SVG 1.1//EN\"\n",
       " \"http://www.w3.org/Graphics/SVG/1.1/DTD/svg11.dtd\">\n",
       "<!-- Generated by graphviz version 7.0.2 (20221119.0110)\n",
       " -->\n",
       "<!-- Pages: 1 -->\n",
       "<svg width=\"452pt\" height=\"352pt\"\n",
       " viewBox=\"0.00 0.00 451.50 352.00\" xmlns=\"http://www.w3.org/2000/svg\" xmlns:xlink=\"http://www.w3.org/1999/xlink\">\n",
       "<g id=\"graph0\" class=\"graph\" transform=\"scale(1 1) rotate(0) translate(4 348)\">\n",
       "<g id=\"a_graph0\"><a xlink:title=\"DDSetDebugger class hierarchy\">\n",
       "<polygon fill=\"white\" stroke=\"none\" points=\"-4,4 -4,-348 447.5,-348 447.5,4 -4,4\"/>\n",
       "</a>\n",
       "</g>\n",
       "<!-- DDSetDebugger -->\n",
       "<g id=\"node1\" class=\"node\">\n",
       "<title>DDSetDebugger</title>\n",
       "<g id=\"a_node1\"><a xlink:href=\"#\" xlink:title=\"class DDSetDebugger:&#10;Debugger implementing the DDSET algorithm for abstracting failure&#45;inducing inputs.\">\n",
       "<polygon fill=\"none\" stroke=\"black\" points=\"23,-17 23,-103 144,-103 144,-17 23,-17\"/>\n",
       "<text text-anchor=\"start\" x=\"31\" y=\"-88.8\" font-family=\"Raleway, Helvetica, Arial, sans-serif\" font-weight=\"bold\" font-size=\"14.00\" fill=\"#6a0dad\">DDSetDebugger</text>\n",
       "<polyline fill=\"none\" stroke=\"black\" points=\"23,-80 144,-80\"/>\n",
       "<g id=\"a_node1_0\"><a xlink:href=\"#\" xlink:title=\"DDSetDebugger\">\n",
       "<g id=\"a_node1_1\"><a xlink:href=\"#\" xlink:title=\"__init__(self, grammar: Dict[str, List[Union[str, Tuple[str, Dict[str, Any]]]]], generalizer_class: Type = &lt;class &#39;TreeGeneralizer&#39;&gt;, parser: Optional[fuzzingbook.Parser.Parser] = None, **kwargs: Any) &#45;&gt; None:&#10;Constructor.&#10;`grammar` is an input grammar in fuzzingbook format.&#10;`generalizer_class` is the tree generalizer class to use&#10;(default: `TreeGeneralizer`)&#10;`parser` is the parser to use (default: `EarleyParser(grammar)`).&#10;All other keyword args are passed to the tree generalizer, notably:&#10;`fuzzer` &#45; the fuzzer to use (default: `GrammarFuzzer`), and&#10;`log` &#45; enables debugging output if True.\">\n",
       "<text text-anchor=\"start\" x=\"47.5\" y=\"-68.5\" font-family=\"'Fira Mono', 'Source Code Pro', 'Courier', monospace\" font-weight=\"bold\" font-style=\"italic\" font-size=\"10.00\">__init__()</text>\n",
       "</a>\n",
       "</g>\n",
       "<g id=\"a_node1_2\"><a xlink:href=\"#\" xlink:title=\"__repr__(self) &#45;&gt; str:&#10;Return a string representation of the generalized call.\">\n",
       "<text text-anchor=\"start\" x=\"47.5\" y=\"-57.5\" font-family=\"'Fira Mono', 'Source Code Pro', 'Courier', monospace\" font-weight=\"bold\" font-size=\"10.00\">__repr__()</text>\n",
       "</a>\n",
       "</g>\n",
       "<g id=\"a_node1_3\"><a xlink:href=\"#\" xlink:title=\"fuzz(self) &#45;&gt; str:&#10;Return a call with arguments randomly instantiated&#10;from the abstract failure&#45;inducing pattern.\">\n",
       "<text text-anchor=\"start\" x=\"47.5\" y=\"-46.5\" font-family=\"'Fira Mono', 'Source Code Pro', 'Courier', monospace\" font-weight=\"bold\" font-size=\"10.00\">fuzz()</text>\n",
       "</a>\n",
       "</g>\n",
       "<g id=\"a_node1_4\"><a xlink:href=\"#\" xlink:title=\"fuzz_args(self) &#45;&gt; Dict[str, Any]:&#10;Return arguments randomly instantiated&#10;from the abstract failure&#45;inducing pattern.\">\n",
       "<text text-anchor=\"start\" x=\"47.5\" y=\"-35.5\" font-family=\"'Fira Mono', 'Source Code Pro', 'Courier', monospace\" font-weight=\"bold\" font-size=\"10.00\">fuzz_args()</text>\n",
       "</a>\n",
       "</g>\n",
       "<g id=\"a_node1_5\"><a xlink:href=\"#\" xlink:title=\"generalize(self) &#45;&gt; Dict[str, Any]:&#10;Generalize arguments seen. For each function argument,&#10;produce an abstract failure&#45;inducing input that characterizes&#10;the set of inputs for which the function fails.\">\n",
       "<text text-anchor=\"start\" x=\"47.5\" y=\"-24.5\" font-family=\"'Fira Mono', 'Source Code Pro', 'Courier', monospace\" font-weight=\"bold\" font-size=\"10.00\">generalize()</text>\n",
       "</a>\n",
       "</g>\n",
       "</a>\n",
       "</g>\n",
       "</a>\n",
       "</g>\n",
       "</g>\n",
       "<!-- CallCollector -->\n",
       "<g id=\"node2\" class=\"node\">\n",
       "<title>CallCollector</title>\n",
       "<g id=\"a_node2\"><a xlink:href=\"DeltaDebugger.ipynb\" xlink:title=\"class CallCollector:&#10;Collect an exception&#45;raising function call f().&#10;Use as `with CallCollector(): f()`\">\n",
       "<polygon fill=\"none\" stroke=\"black\" points=\"35.5,-156.5 35.5,-264.5 131.5,-264.5 131.5,-156.5 35.5,-156.5\"/>\n",
       "<text text-anchor=\"start\" x=\"43.5\" y=\"-250.3\" font-family=\"Raleway, Helvetica, Arial, sans-serif\" font-weight=\"bold\" font-size=\"14.00\" fill=\"#6a0dad\">CallCollector</text>\n",
       "<polyline fill=\"none\" stroke=\"black\" points=\"35.5,-241.5 131.5,-241.5\"/>\n",
       "<g id=\"a_node2_6\"><a xlink:href=\"#\" xlink:title=\"CallCollector\">\n",
       "<g id=\"a_node2_7\"><a xlink:href=\"DeltaDebugger.ipynb\" xlink:title=\"__enter__(self) &#45;&gt; Any:&#10;Called at begin of `with` block. Turn tracing on.\">\n",
       "<text text-anchor=\"start\" x=\"50.5\" y=\"-230\" font-family=\"'Fira Mono', 'Source Code Pro', 'Courier', monospace\" font-weight=\"bold\" font-size=\"10.00\">__enter__()</text>\n",
       "</a>\n",
       "</g>\n",
       "<g id=\"a_node2_8\"><a xlink:href=\"DeltaDebugger.ipynb\" xlink:title=\"__exit__(self, exc_tp: Type, exc_value: BaseException, exc_traceback: traceback) &#45;&gt; Optional[bool]:&#10;Called at end of `with` block. Turn tracing off.\">\n",
       "<text text-anchor=\"start\" x=\"50.5\" y=\"-219\" font-family=\"'Fira Mono', 'Source Code Pro', 'Courier', monospace\" font-weight=\"bold\" font-size=\"10.00\">__exit__()</text>\n",
       "</a>\n",
       "</g>\n",
       "<g id=\"a_node2_9\"><a xlink:href=\"DeltaDebugger.ipynb\" xlink:title=\"__init__(self) &#45;&gt; None:&#10;Initialize collector\">\n",
       "<text text-anchor=\"start\" x=\"50.5\" y=\"-208\" font-family=\"'Fira Mono', 'Source Code Pro', 'Courier', monospace\" font-weight=\"bold\" font-style=\"italic\" font-size=\"10.00\">__init__()</text>\n",
       "</a>\n",
       "</g>\n",
       "<g id=\"a_node2_10\"><a xlink:href=\"DeltaDebugger.ipynb\" xlink:title=\"args(self) &#45;&gt; Dict[str, Any]:&#10;Return the dictionary of collected arguments.\">\n",
       "<text text-anchor=\"start\" x=\"50.5\" y=\"-197\" font-family=\"'Fira Mono', 'Source Code Pro', 'Courier', monospace\" font-weight=\"bold\" font-size=\"10.00\">args()</text>\n",
       "</a>\n",
       "</g>\n",
       "<g id=\"a_node2_11\"><a xlink:href=\"DeltaDebugger.ipynb\" xlink:title=\"call(self, new_args: Optional[Dict[str, Any]] = None) &#45;&gt; Any:&#10;Call collected function. If `new_args` is given,&#10;override arguments from its {var: value} entries.\">\n",
       "<text text-anchor=\"start\" x=\"50.5\" y=\"-186\" font-family=\"'Fira Mono', 'Source Code Pro', 'Courier', monospace\" font-weight=\"bold\" font-size=\"10.00\">call()</text>\n",
       "</a>\n",
       "</g>\n",
       "<g id=\"a_node2_12\"><a xlink:href=\"DeltaDebugger.ipynb\" xlink:title=\"exception(self) &#45;&gt; Optional[BaseException]:&#10;Return the exception produced, or `None` if none.\">\n",
       "<text text-anchor=\"start\" x=\"50.5\" y=\"-175\" font-family=\"'Fira Mono', 'Source Code Pro', 'Courier', monospace\" font-weight=\"bold\" font-size=\"10.00\">exception()</text>\n",
       "</a>\n",
       "</g>\n",
       "<g id=\"a_node2_13\"><a xlink:href=\"DeltaDebugger.ipynb\" xlink:title=\"function(self) &#45;&gt; Callable:&#10;Return the function called.\">\n",
       "<text text-anchor=\"start\" x=\"50.5\" y=\"-164\" font-family=\"'Fira Mono', 'Source Code Pro', 'Courier', monospace\" font-weight=\"bold\" font-size=\"10.00\">function()</text>\n",
       "</a>\n",
       "</g>\n",
       "</a>\n",
       "</g>\n",
       "</a>\n",
       "</g>\n",
       "</g>\n",
       "<!-- DDSetDebugger&#45;&gt;CallCollector -->\n",
       "<g id=\"edge1\" class=\"edge\">\n",
       "<title>DDSetDebugger&#45;&gt;CallCollector</title>\n",
       "<path fill=\"none\" stroke=\"black\" d=\"M83.5,-102.76C83.5,-115.96 83.5,-130.87 83.5,-145.26\"/>\n",
       "<polygon fill=\"none\" stroke=\"black\" points=\"80,-145.14 83.5,-155.14 87,-145.14 80,-145.14\"/>\n",
       "</g>\n",
       "<!-- StackInspector -->\n",
       "<g id=\"node3\" class=\"node\">\n",
       "<title>StackInspector</title>\n",
       "<g id=\"a_node3\"><a xlink:href=\"StackInspector.ipynb\" xlink:title=\"class StackInspector:&#10;Provide functions to inspect the stack\">\n",
       "<polygon fill=\"none\" stroke=\"black\" points=\"0,-301.5 0,-343.5 167,-343.5 167,-301.5 0,-301.5\"/>\n",
       "<text text-anchor=\"start\" x=\"36.5\" y=\"-329.3\" font-family=\"Raleway, Helvetica, Arial, sans-serif\" font-weight=\"bold\" font-size=\"14.00\" fill=\"#6a0dad\">StackInspector</text>\n",
       "<polyline fill=\"none\" stroke=\"black\" points=\"0,-320.5 167,-320.5\"/>\n",
       "<g id=\"a_node3_14\"><a xlink:href=\"#\" xlink:title=\"StackInspector\">\n",
       "<g id=\"a_node3_15\"><a xlink:href=\"StackInspector.ipynb\" xlink:title=\"_generated_function_cache = {}\">\n",
       "<text text-anchor=\"start\" x=\"8.5\" y=\"-308\" font-family=\"'Fira Mono', 'Source Code Pro', 'Courier', monospace\" font-size=\"10.00\">_generated_function_cache</text>\n",
       "</a>\n",
       "</g>\n",
       "</a>\n",
       "</g>\n",
       "</a>\n",
       "</g>\n",
       "</g>\n",
       "<!-- CallCollector&#45;&gt;StackInspector -->\n",
       "<g id=\"edge2\" class=\"edge\">\n",
       "<title>CallCollector&#45;&gt;StackInspector</title>\n",
       "<path fill=\"none\" stroke=\"black\" d=\"M83.5,-264.24C83.5,-273.21 83.5,-282.26 83.5,-290.43\"/>\n",
       "<polygon fill=\"none\" stroke=\"black\" points=\"80,-290.14 83.5,-300.14 87,-290.14 80,-290.14\"/>\n",
       "</g>\n",
       "<!-- TreeGeneralizer -->\n",
       "<g id=\"node4\" class=\"node\">\n",
       "<title>TreeGeneralizer</title>\n",
       "<g id=\"a_node4\"><a xlink:href=\"#\" xlink:title=\"class TreeGeneralizer:&#10;Determine which parts of a derivation tree can be generalized.\">\n",
       "<polygon fill=\"none\" stroke=\"black\" points=\"162,-0.5 162,-119.5 305,-119.5 305,-0.5 162,-0.5\"/>\n",
       "<text text-anchor=\"start\" x=\"183.5\" y=\"-105.3\" font-family=\"Raleway, Helvetica, Arial, sans-serif\" font-weight=\"bold\" font-size=\"14.00\" fill=\"#6a0dad\">TreeGeneralizer</text>\n",
       "<polyline fill=\"none\" stroke=\"black\" points=\"162,-96.5 305,-96.5\"/>\n",
       "<g id=\"a_node4_16\"><a xlink:href=\"#\" xlink:title=\"TreeGeneralizer\">\n",
       "<g id=\"a_node4_17\"><a xlink:href=\"#\" xlink:title=\"__init__(self, grammar: Dict[str, List[Union[str, Tuple[str, Dict[str, Any]]]]], tree: Tuple[str, Optional[List[Any]]], test: Callable, max_tries_for_generalization: int = 10, **kwargs: Any) &#45;&gt; None:&#10;Constructor. `grammar` and `tree` are as in `TreeMutator`.&#10;`test` is a function taking a string that either&#10;* raises an exception, indicating test failure;&#10;* or not, indicating test success.&#10;`max_tries_for_generalization` is the number of times&#10;an instantiation has to fail before it is generalized.\">\n",
       "<text text-anchor=\"start\" x=\"170.5\" y=\"-85.5\" font-family=\"'Fira Mono', 'Source Code Pro', 'Courier', monospace\" font-style=\"italic\" font-size=\"10.00\">__init__()</text>\n",
       "</a>\n",
       "</g>\n",
       "<g id=\"a_node4_18\"><a xlink:href=\"#\" xlink:title=\"can_generalize(self, path: List[int], tree: Optional[Tuple[str, Optional[List[Any]]]] = None) &#45;&gt; bool:&#10;Return True if the subtree at `path` can be generalized.\">\n",
       "<text text-anchor=\"start\" x=\"170.5\" y=\"-73.5\" font-family=\"'Fira Mono', 'Source Code Pro', 'Courier', monospace\" font-size=\"10.00\">can_generalize()</text>\n",
       "</a>\n",
       "</g>\n",
       "<g id=\"a_node4_19\"><a xlink:href=\"#\" xlink:title=\"find_paths(self, predicate: Callable[[List[int], Tuple[str, Optional[List[Any]]]], bool], path: Optional[List[int]] = None, tree: Optional[Tuple[str, Optional[List[Any]]]] = None) &#45;&gt; List[List[int]]:&#10;Return a list of all paths for which `predicate` holds.&#10;`predicate` is a function `predicate`(`path`, `tree`), where&#10;`path` denotes a subtree in `tree`. If `predicate()` returns&#10;True, `path` is included in the returned list.\">\n",
       "<text text-anchor=\"start\" x=\"170.5\" y=\"-62.5\" font-family=\"'Fira Mono', 'Source Code Pro', 'Courier', monospace\" font-size=\"10.00\">find_paths()</text>\n",
       "</a>\n",
       "</g>\n",
       "<g id=\"a_node4_20\"><a xlink:href=\"#\" xlink:title=\"fuzz_tree(self, tree: Tuple[str, Optional[List[Any]]]) &#45;&gt; Tuple[str, Optional[List[Any]]]:&#10;Return an instantiated copy of `tree`.\">\n",
       "<text text-anchor=\"start\" x=\"170.5\" y=\"-51.5\" font-family=\"'Fira Mono', 'Source Code Pro', 'Courier', monospace\" font-size=\"10.00\">fuzz_tree()</text>\n",
       "</a>\n",
       "</g>\n",
       "<g id=\"a_node4_21\"><a xlink:href=\"#\" xlink:title=\"generalizable_paths(self) &#45;&gt; List[List[int]]:&#10;Return a list of all paths whose subtrees can be generalized.\">\n",
       "<text text-anchor=\"start\" x=\"170.5\" y=\"-40.5\" font-family=\"'Fira Mono', 'Source Code Pro', 'Courier', monospace\" font-size=\"10.00\">generalizable_paths()</text>\n",
       "</a>\n",
       "</g>\n",
       "<g id=\"a_node4_22\"><a xlink:href=\"#\" xlink:title=\"generalize(self) &#45;&gt; Tuple[str, Optional[List[Any]]]:&#10;Returns a copy of the tree in which all generalizable subtrees&#10;are generalized (= replaced by nonterminals without children)\">\n",
       "<text text-anchor=\"start\" x=\"170.5\" y=\"-29.5\" font-family=\"'Fira Mono', 'Source Code Pro', 'Courier', monospace\" font-size=\"10.00\">generalize()</text>\n",
       "</a>\n",
       "</g>\n",
       "<g id=\"a_node4_23\"><a xlink:href=\"#\" xlink:title=\"generalize_path(self, path: List[int], tree: Optional[Tuple[str, Optional[List[Any]]]] = None) &#45;&gt; Tuple[str, Optional[List[Any]]]:&#10;Return a copy of the tree in which the subtree at `path`&#10;is generalized (= replaced by a nonterminal without children)\">\n",
       "<text text-anchor=\"start\" x=\"170.5\" y=\"-18.5\" font-family=\"'Fira Mono', 'Source Code Pro', 'Courier', monospace\" font-size=\"10.00\">generalize_path()</text>\n",
       "</a>\n",
       "</g>\n",
       "<g id=\"a_node4_24\"><a xlink:href=\"#\" xlink:title=\"test_tree(self, tree: Tuple[str, Optional[List[Any]]]) &#45;&gt; bool:&#10;Return True if testing `tree` passes, else False\">\n",
       "<text text-anchor=\"start\" x=\"170.5\" y=\"-7.5\" font-family=\"'Fira Mono', 'Source Code Pro', 'Courier', monospace\" font-size=\"10.00\">test_tree()</text>\n",
       "</a>\n",
       "</g>\n",
       "</a>\n",
       "</g>\n",
       "</a>\n",
       "</g>\n",
       "</g>\n",
       "<!-- TreeMutator -->\n",
       "<g id=\"node5\" class=\"node\">\n",
       "<title>TreeMutator</title>\n",
       "<g id=\"a_node5\"><a xlink:href=\"#\" xlink:title=\"class TreeMutator:&#10;Grammar&#45;based mutations of derivation trees.\">\n",
       "<polygon fill=\"none\" stroke=\"black\" points=\"186,-173 186,-248 281,-248 281,-173 186,-173\"/>\n",
       "<text text-anchor=\"start\" x=\"194.5\" y=\"-233.8\" font-family=\"Raleway, Helvetica, Arial, sans-serif\" font-weight=\"bold\" font-size=\"14.00\" fill=\"#6a0dad\">TreeMutator</text>\n",
       "<polyline fill=\"none\" stroke=\"black\" points=\"186,-225 281,-225\"/>\n",
       "<g id=\"a_node5_25\"><a xlink:href=\"#\" xlink:title=\"TreeMutator\">\n",
       "<g id=\"a_node5_26\"><a xlink:href=\"#\" xlink:title=\"__init__(self, grammar: Dict[str, List[Union[str, Tuple[str, Dict[str, Any]]]]], tree: Tuple[str, Optional[List[Any]]], fuzzer: Optional[fuzzingbook.GrammarFuzzer.GrammarFuzzer] = None, log: Union[bool, int] = False):&#10;Constructor.&#10;`grammar` is the underlying grammar;&#10;`tree` is the tree to work on.&#10;`fuzzer` is the grammar fuzzer to use (default: `GrammarFuzzer`)\">\n",
       "<text text-anchor=\"start\" x=\"194.5\" y=\"-214\" font-family=\"'Fira Mono', 'Source Code Pro', 'Courier', monospace\" font-style=\"italic\" font-size=\"10.00\">__init__()</text>\n",
       "</a>\n",
       "</g>\n",
       "<g id=\"a_node5_27\"><a xlink:href=\"#\" xlink:title=\"get_subtree(self, path: List[int], tree: Optional[Tuple[str, Optional[List[Any]]]] = None) &#45;&gt; Tuple[str, Optional[List[Any]]]:&#10;Access a subtree based on `path` (a list of children numbers)\">\n",
       "<text text-anchor=\"start\" x=\"194.5\" y=\"-202\" font-family=\"'Fira Mono', 'Source Code Pro', 'Courier', monospace\" font-size=\"10.00\">get_subtree()</text>\n",
       "</a>\n",
       "</g>\n",
       "<g id=\"a_node5_28\"><a xlink:href=\"#\" xlink:title=\"mutate(self, path: List[int], tree: Optional[Tuple[str, Optional[List[Any]]]] = None) &#45;&gt; Tuple[str, Optional[List[Any]]]:&#10;Return a new tree mutated at `path`\">\n",
       "<text text-anchor=\"start\" x=\"194.5\" y=\"-191\" font-family=\"'Fira Mono', 'Source Code Pro', 'Courier', monospace\" font-size=\"10.00\">mutate()</text>\n",
       "</a>\n",
       "</g>\n",
       "<g id=\"a_node5_29\"><a xlink:href=\"#\" xlink:title=\"new_tree(self, start_symbol: str) &#45;&gt; Tuple[str, Optional[List[Any]]]:&#10;Create a new subtree for &lt;start_symbol&gt;.\">\n",
       "<text text-anchor=\"start\" x=\"194.5\" y=\"-180\" font-family=\"'Fira Mono', 'Source Code Pro', 'Courier', monospace\" font-size=\"10.00\">new_tree()</text>\n",
       "</a>\n",
       "</g>\n",
       "</a>\n",
       "</g>\n",
       "</a>\n",
       "</g>\n",
       "</g>\n",
       "<!-- TreeGeneralizer&#45;&gt;TreeMutator -->\n",
       "<g id=\"edge3\" class=\"edge\">\n",
       "<title>TreeGeneralizer&#45;&gt;TreeMutator</title>\n",
       "<path fill=\"none\" stroke=\"black\" d=\"M233.5,-119.26C233.5,-133.34 233.5,-148.22 233.5,-161.76\"/>\n",
       "<polygon fill=\"none\" stroke=\"black\" points=\"230,-161.73 233.5,-171.73 237,-161.73 230,-161.73\"/>\n",
       "</g>\n",
       "<!-- Legend -->\n",
       "<g id=\"node6\" class=\"node\">\n",
       "<title>Legend</title>\n",
       "<text text-anchor=\"start\" x=\"323.5\" y=\"-77.5\" font-family=\"Raleway, Helvetica, Arial, sans-serif\" font-weight=\"bold\" font-size=\"10.00\" fill=\"#6a0dad\">Legend</text>\n",
       "<text text-anchor=\"start\" x=\"323.5\" y=\"-67.5\" font-family=\"Raleway, Helvetica, Arial, sans-serif\" font-size=\"10.00\">• </text>\n",
       "<text text-anchor=\"start\" x=\"330.5\" y=\"-67.5\" font-family=\"'Fira Mono', 'Source Code Pro', 'Courier', monospace\" font-weight=\"bold\" font-size=\"8.00\">public_method()</text>\n",
       "<text text-anchor=\"start\" x=\"323.5\" y=\"-57.5\" font-family=\"Raleway, Helvetica, Arial, sans-serif\" font-size=\"10.00\">• </text>\n",
       "<text text-anchor=\"start\" x=\"330.5\" y=\"-57.5\" font-family=\"'Fira Mono', 'Source Code Pro', 'Courier', monospace\" font-size=\"8.00\">private_method()</text>\n",
       "<text text-anchor=\"start\" x=\"323.5\" y=\"-47.5\" font-family=\"Raleway, Helvetica, Arial, sans-serif\" font-size=\"10.00\">• </text>\n",
       "<text text-anchor=\"start\" x=\"330.5\" y=\"-47.5\" font-family=\"'Fira Mono', 'Source Code Pro', 'Courier', monospace\" font-style=\"italic\" font-size=\"8.00\">overloaded_method()</text>\n",
       "<text text-anchor=\"start\" x=\"323.5\" y=\"-38.3\" font-family=\"Helvetica,sans-Serif\" font-size=\"9.00\">Hover over names to see doc</text>\n",
       "</g>\n",
       "</g>\n",
       "</svg>\n"
      ],
      "text/plain": [
       "<graphviz.graphs.Digraph at 0x126896aa0>"
      ]
     },
     "execution_count": 109,
     "metadata": {},
     "output_type": "execute_result"
    }
   ],
   "source": [
    "# ignore\n",
    "display_class_hierarchy([DDSetDebugger, TreeGeneralizer],\n",
    "                        public_methods=[\n",
    "                            CallCollector.__init__,\n",
    "                            CallCollector.__enter__,\n",
    "                            CallCollector.__exit__,\n",
    "                            CallCollector.function,\n",
    "                            CallCollector.args,\n",
    "                            CallCollector.exception,\n",
    "                            CallCollector.call,  # type: ignore\n",
    "                            DDSetDebugger.__init__,\n",
    "                            DDSetDebugger.__repr__,\n",
    "                            DDSetDebugger.fuzz,\n",
    "                            DDSetDebugger.fuzz_args,\n",
    "                            DDSetDebugger.generalize,\n",
    "                        ], project='debuggingbook')"
   ]
  },
  {
   "cell_type": "markdown",
   "metadata": {
    "button": false,
    "new_sheet": true,
    "run_control": {
     "read_only": false
    },
    "slideshow": {
     "slide_type": "slide"
    }
   },
   "source": [
    "## Lessons Learned\n",
    "\n",
    "* Generalizing failure-inducing inputs can yield important information for which inputs and under which circumstances a failure occurs.\n",
    "* Generalizing failure-inducing inputs is most useful if the input can be split into multiple elements, of which only a part are relevant for producing the error.\n",
    "* As they help in _parsing_ and _producing_ input, _grammars_ can play an important role in testing and debugging."
   ]
  },
  {
   "cell_type": "markdown",
   "metadata": {
    "button": false,
    "new_sheet": false,
    "run_control": {
     "read_only": false
    },
    "slideshow": {
     "slide_type": "slide"
    }
   },
   "source": [
    "## Next Steps\n",
    "\n",
    "Our [next chapter](Repairer.ipynb) introduces _automated repair_ of programs, building on the fault localization and generalization mechanisms introduced so far."
   ]
  },
  {
   "attachments": {},
   "cell_type": "markdown",
   "metadata": {
    "slideshow": {
     "slide_type": "slide"
    }
   },
   "source": [
    "## Background\n",
    "\n",
    "Our `DDSetDebugger` class implements the DDSET algorithm as introduced by Gopinath et al. in \\cite{Gopinath2020}. A [full-fledged implementation of DDSET](https://rahul.gopinath.org/post/2020/07/15/ddset/) with plenty of details and experiments is available as a Jupyter Notebook. Our implementation follows the [simplified implementation of DDSET, as described by Gopinath](https://rahul.gopinath.org/post/2020/08/03/simple-ddset/).\n",
    "\n",
    "The potential for determining how input features relate to bugs is not nearly explored yet. \n",
    "The ALHAZEN work by Kampmann et al. \\cite{Kampmann2020} generalizes over DDSET differently, by investigating _semantic_ features of input elements such as their numeric interpretation or length and their correlation with failures. Like DDSET, ALHAZEN also uses a feedback loop to strengthen or refute its hypotheses.\n",
    "\n",
    "In recent work \\cite{Gopinath2021}, Gopinath has extended the concept of DDSET further. His work on _evocative expressions_ introduces a _pattern language_ in which arbitrary DDSET-like patterns can be combined into Boolean formula that even more precisely capture and produce failure circumstances. In particular, evocative expressions can _specialize_ grammars towards Boolean pattern combinations, thus allowing for great flexibility in testing and debugging."
   ]
  },
  {
   "cell_type": "markdown",
   "metadata": {
    "button": false,
    "new_sheet": true,
    "run_control": {
     "read_only": false
    },
    "slideshow": {
     "slide_type": "slide"
    }
   },
   "source": [
    "## Exercises"
   ]
  },
  {
   "cell_type": "markdown",
   "metadata": {
    "button": false,
    "new_sheet": false,
    "run_control": {
     "read_only": false
    },
    "slideshow": {
     "slide_type": "subslide"
    }
   },
   "source": [
    "### Exercise 1: Generalization and Specialization\n",
    "\n",
    "Consider the abstract failure-inducing input for `BAD_INPUT` we determined:"
   ]
  },
  {
   "cell_type": "code",
   "execution_count": 110,
   "metadata": {
    "execution": {
     "iopub.execute_input": "2023-02-11T10:05:34.021545Z",
     "iopub.status.busy": "2023-02-11T10:05:34.021023Z",
     "iopub.status.idle": "2023-02-11T10:05:34.023217Z",
     "shell.execute_reply": "2023-02-11T10:05:34.023781Z"
    },
    "slideshow": {
     "slide_type": "fragment"
    }
   },
   "outputs": [
    {
     "data": {
      "text/plain": [
       "'<opening-tag>\"<plain-text><closing-tag>'"
      ]
     },
     "execution_count": 110,
     "metadata": {},
     "output_type": "execute_result"
    }
   ],
   "source": [
    "all_terminals(abstract_failure_inducing_input)"
   ]
  },
  {
   "cell_type": "markdown",
   "metadata": {
    "button": false,
    "new_sheet": false,
    "run_control": {
     "read_only": false
    },
    "slideshow": {
     "slide_type": "fragment"
    },
    "solution2": "hidden",
    "solution2_first": true
   },
   "source": [
    "1. How does it change if you increase the number of test runs, using `max_tries_for_generalization`?\n",
    "2. What is the success rate of the new pattern?"
   ]
  },
  {
   "cell_type": "markdown",
   "metadata": {
    "slideshow": {
     "slide_type": "skip"
    },
    "solution2": "hidden"
   },
   "source": [
    "**Solution.** We can compute this by increasing `max_tries_for_generalization`:"
   ]
  },
  {
   "cell_type": "code",
   "execution_count": 111,
   "metadata": {
    "execution": {
     "iopub.execute_input": "2023-02-11T10:05:34.108096Z",
     "iopub.status.busy": "2023-02-11T10:05:34.064172Z",
     "iopub.status.idle": "2023-02-11T10:05:34.168124Z",
     "shell.execute_reply": "2023-02-11T10:05:34.168462Z"
    },
    "slideshow": {
     "slide_type": "skip"
    },
    "solution2": "hidden"
   },
   "outputs": [],
   "source": [
    "more_precise_bitg = \\\n",
    "    cast(TreeGeneralizer, bad_input_tree_generalizer(max_tries_for_generalization=100))\n",
    "\n",
    "more_precise_abstract_failure_inducing_input = \\\n",
    "    more_precise_bitg.generalize()"
   ]
  },
  {
   "cell_type": "code",
   "execution_count": 112,
   "metadata": {
    "cell_style": "split",
    "execution": {
     "iopub.execute_input": "2023-02-11T10:05:34.170887Z",
     "iopub.status.busy": "2023-02-11T10:05:34.170569Z",
     "iopub.status.idle": "2023-02-11T10:05:34.174610Z",
     "shell.execute_reply": "2023-02-11T10:05:34.175169Z"
    },
    "slideshow": {
     "slide_type": "skip"
    },
    "solution2": "hidden"
   },
   "outputs": [
    {
     "data": {
      "text/plain": [
       "'<lt><id><gt>\"<plain-text><closing-tag>'"
      ]
     },
     "execution_count": 112,
     "metadata": {},
     "output_type": "execute_result"
    }
   ],
   "source": [
    "all_terminals(more_precise_abstract_failure_inducing_input)"
   ]
  },
  {
   "cell_type": "markdown",
   "metadata": {
    "slideshow": {
     "slide_type": "skip"
    },
    "solution2": "hidden"
   },
   "source": [
    "We see that we still have an opening tag; however, it no longer assumes attributes."
   ]
  },
  {
   "cell_type": "markdown",
   "metadata": {
    "slideshow": {
     "slide_type": "skip"
    },
    "solution2": "hidden"
   },
   "source": [
    "The success rate can be computed as before:"
   ]
  },
  {
   "cell_type": "code",
   "execution_count": 113,
   "metadata": {
    "execution": {
     "iopub.execute_input": "2023-02-11T10:05:34.284808Z",
     "iopub.status.busy": "2023-02-11T10:05:34.232076Z",
     "iopub.status.idle": "2023-02-11T10:05:35.534933Z",
     "shell.execute_reply": "2023-02-11T10:05:35.535176Z"
    },
    "slideshow": {
     "slide_type": "skip"
    },
    "solution2": "hidden"
   },
   "outputs": [],
   "source": [
    "successes = 0\n",
    "failures = 0\n",
    "trials = 1000\n",
    "\n",
    "for i in range(trials):\n",
    "    test_input = all_terminals(\n",
    "        more_precise_bitg.fuzz_tree(\n",
    "            more_precise_abstract_failure_inducing_input))\n",
    "    try:\n",
    "        remove_html_markup(test_input)\n",
    "    except AssertionError:\n",
    "        successes += 1\n",
    "    else:\n",
    "        failures += 1"
   ]
  },
  {
   "cell_type": "code",
   "execution_count": 114,
   "metadata": {
    "execution": {
     "iopub.execute_input": "2023-02-11T10:05:35.538244Z",
     "iopub.status.busy": "2023-02-11T10:05:35.537690Z",
     "iopub.status.idle": "2023-02-11T10:05:35.539844Z",
     "shell.execute_reply": "2023-02-11T10:05:35.540418Z"
    },
    "slideshow": {
     "slide_type": "skip"
    },
    "solution2": "hidden"
   },
   "outputs": [
    {
     "data": {
      "text/plain": [
       "(993, 7)"
      ]
     },
     "execution_count": 114,
     "metadata": {},
     "output_type": "execute_result"
    }
   ],
   "source": [
    "successes, failures"
   ]
  },
  {
   "cell_type": "code",
   "execution_count": 115,
   "metadata": {
    "execution": {
     "iopub.execute_input": "2023-02-11T10:05:35.547486Z",
     "iopub.status.busy": "2023-02-11T10:05:35.546822Z",
     "iopub.status.idle": "2023-02-11T10:05:35.550179Z",
     "shell.execute_reply": "2023-02-11T10:05:35.550749Z"
    },
    "slideshow": {
     "slide_type": "skip"
    },
    "solution2": "hidden"
   },
   "outputs": [
    {
     "data": {
      "text/plain": [
       "0.007"
      ]
     },
     "execution_count": 115,
     "metadata": {},
     "output_type": "execute_result"
    }
   ],
   "source": [
    "failures / 1000"
   ]
  },
  {
   "cell_type": "markdown",
   "metadata": {
    "slideshow": {
     "slide_type": "skip"
    },
    "solution2": "hidden"
   },
   "source": [
    "We see that the success rate is now more than 99%, which is better than before. On the other hand, the pattern is now overly _special_, since there are `<opening-tags>` with attributes such that the failure occurs (but also some that cancel out the error)."
   ]
  }
 ],
 "metadata": {
  "ipub": {
   "bibliography": "fuzzingbook.bib",
   "toc": true
  },
  "kernelspec": {
   "display_name": "venv",
   "language": "python",
   "name": "python3"
  },
  "language_info": {
   "codemirror_mode": {
    "name": "ipython",
    "version": 3
   },
   "file_extension": ".py",
   "mimetype": "text/x-python",
   "name": "python",
   "nbconvert_exporter": "python",
   "pygments_lexer": "ipython3",
   "version": "3.10.2"
  },
  "toc": {
   "base_numbering": 1,
   "nav_menu": {},
   "number_sections": true,
   "sideBar": true,
   "skip_h1_title": true,
   "title_cell": "",
   "title_sidebar": "Contents",
   "toc_cell": false,
   "toc_position": {},
   "toc_section_display": true,
   "toc_window_display": true
  },
  "toc-autonumbering": false,
  "vscode": {
   "interpreter": {
    "hash": "0af4f07dd039d1b4e562c7a7d0340393b1c66f50605ac6af30beb81aa23b7ef5"
   }
  }
 },
 "nbformat": 4,
 "nbformat_minor": 4
}